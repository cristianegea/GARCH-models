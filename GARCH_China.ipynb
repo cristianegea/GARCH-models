{
  "nbformat": 4,
  "nbformat_minor": 5,
  "metadata": {
    "kernelspec": {
      "display_name": "R",
      "language": "R",
      "name": "ir"
    },
    "language_info": {
      "codemirror_mode": "r",
      "file_extension": ".r",
      "mimetype": "text/x-r-source",
      "name": "R",
      "pygments_lexer": "r",
      "version": "3.6.1"
    },
    "colab": {
      "name": "GARCH_China.ipynb",
      "provenance": [],
      "collapsed_sections": []
    }
  },
  "cells": [
    {
      "cell_type": "markdown",
      "metadata": {
        "id": "10c9fc70"
      },
      "source": [
        "# Analysis of stock returns forecasts"
      ],
      "id": "10c9fc70"
    },
    {
      "cell_type": "markdown",
      "metadata": {
        "id": "0a03ea35"
      },
      "source": [
        "**Reference**: Realized GARCH models: Simpler is better (Xie & Yu, 2019)\n",
        "\n",
        "Sample: China (^HSCE)"
      ],
      "id": "0a03ea35"
    },
    {
      "cell_type": "code",
      "metadata": {
        "id": "66c60229"
      },
      "source": [
        "# Memory clearing\n",
        "rm(list=ls())"
      ],
      "id": "66c60229",
      "execution_count": 1,
      "outputs": []
    },
    {
      "cell_type": "markdown",
      "metadata": {
        "id": "5e52a103"
      },
      "source": [
        "## 1. Data import"
      ],
      "id": "5e52a103"
    },
    {
      "cell_type": "code",
      "metadata": {
        "colab": {
          "base_uri": "https://localhost:8080/"
        },
        "id": "a015db89",
        "outputId": "ae90bcbf-5914-4ad8-d0da-2b0de4ac771d"
      },
      "source": [
        "# Packages\n",
        "install.packages('quantmod')\n",
        "install.packages('tidyquant')\n",
        "install.packages('PerformanceAnalytics')\n",
        "\n",
        "library(quantmod)\n",
        "library(tidyquant)\n",
        "library(PerformanceAnalytics)"
      ],
      "id": "a015db89",
      "execution_count": 2,
      "outputs": [
        {
          "output_type": "stream",
          "text": [
            "Installing package into ‘/usr/local/lib/R/site-library’\n",
            "(as ‘lib’ is unspecified)\n",
            "\n",
            "Installing package into ‘/usr/local/lib/R/site-library’\n",
            "(as ‘lib’ is unspecified)\n",
            "\n",
            "Installing package into ‘/usr/local/lib/R/site-library’\n",
            "(as ‘lib’ is unspecified)\n",
            "\n",
            "Loading required package: xts\n",
            "\n",
            "Loading required package: zoo\n",
            "\n",
            "\n",
            "Attaching package: ‘zoo’\n",
            "\n",
            "\n",
            "The following objects are masked from ‘package:base’:\n",
            "\n",
            "    as.Date, as.Date.numeric\n",
            "\n",
            "\n",
            "Loading required package: TTR\n",
            "\n",
            "Registered S3 method overwritten by 'quantmod':\n",
            "  method            from\n",
            "  as.zoo.data.frame zoo \n",
            "\n",
            "Loading required package: lubridate\n",
            "\n",
            "Warning message in system(\"timedatectl\", intern = TRUE):\n",
            "“running command 'timedatectl' had status 1”\n",
            "\n",
            "Attaching package: ‘lubridate’\n",
            "\n",
            "\n",
            "The following objects are masked from ‘package:base’:\n",
            "\n",
            "    date, intersect, setdiff, union\n",
            "\n",
            "\n",
            "Loading required package: PerformanceAnalytics\n",
            "\n",
            "\n",
            "Attaching package: ‘PerformanceAnalytics’\n",
            "\n",
            "\n",
            "The following object is masked from ‘package:graphics’:\n",
            "\n",
            "    legend\n",
            "\n",
            "\n",
            "\u001b[30m══\u001b[39m \u001b[30mNeed to Learn tidyquant?\u001b[39m \u001b[30m════════════════════════════════════════════════════\u001b[39m\u001b[34m\n",
            "Business Science offers a 1-hour course - Learning Lab #9: Performance Analysis & Portfolio Optimization with tidyquant!\n",
            "\u001b[39m\u001b[34m</> Learn more at: https://university.business-science.io/p/learning-labs-pro </>\u001b[39m\n",
            "\n"
          ],
          "name": "stderr"
        }
      ]
    },
    {
      "cell_type": "markdown",
      "metadata": {
        "id": "77462b8b-5261-4090-9001-2c344b610bd8"
      },
      "source": [
        "**Reading the datas (Source: Yahoo Finance)**"
      ],
      "id": "77462b8b-5261-4090-9001-2c344b610bd8"
    },
    {
      "cell_type": "code",
      "metadata": {
        "colab": {
          "base_uri": "https://localhost:8080/",
          "height": 258
        },
        "id": "90849e76",
        "outputId": "0fd1581c-3bdd-4d9d-a4ff-1a66c436b302"
      },
      "source": [
        "getSymbols(\"^HSCE\", from = '2000-01-01', to = '2021-05-31') "
      ],
      "id": "90849e76",
      "execution_count": 3,
      "outputs": [
        {
          "output_type": "stream",
          "text": [
            "‘getSymbols’ currently uses auto.assign=TRUE by default, but will\n",
            "use auto.assign=FALSE in 0.5-0. You will still be able to use\n",
            "‘loadSymbols’ to automatically load data. getOption(\"getSymbols.env\")\n",
            "and getOption(\"getSymbols.auto.assign\") will still be checked for\n",
            "alternate defaults.\n",
            "\n",
            "This message is shown once per session and may be disabled by setting \n",
            "options(\"getSymbols.warning4.0\"=FALSE). See ?getSymbols for details.\n",
            "\n",
            "\n",
            "Warning message:\n",
            "“^HSCE contains missing values. Some functions will not work if objects contain missing values in the middle of the series. Consider using na.omit(), na.approx(), na.fill(), etc to remove or replace them.”\n"
          ],
          "name": "stderr"
        },
        {
          "output_type": "display_data",
          "data": {
            "text/plain": [
              "[1] \"^HSCE\""
            ],
            "text/latex": "'\\textasciicircum{}HSCE'",
            "text/markdown": "'^HSCE'",
            "text/html": [
              "'^HSCE'"
            ]
          },
          "metadata": {
            "tags": []
          }
        }
      ]
    },
    {
      "cell_type": "markdown",
      "metadata": {
        "id": "37fcac8f-663c-4ab6-a2ec-d3dfb628e1d8"
      },
      "source": [
        "**Checking data frequency**"
      ],
      "id": "37fcac8f-663c-4ab6-a2ec-d3dfb628e1d8"
    },
    {
      "cell_type": "code",
      "metadata": {
        "colab": {
          "base_uri": "https://localhost:8080/",
          "height": 34
        },
        "id": "cf681b78-5138-4ee8-aee3-2e93db60bece",
        "outputId": "5cf91003-e7c0-4f31-b68e-d1cd14e4be63"
      },
      "source": [
        "periodicity(HSCE)        "
      ],
      "id": "cf681b78-5138-4ee8-aee3-2e93db60bece",
      "execution_count": 4,
      "outputs": [
        {
          "output_type": "display_data",
          "data": {
            "text/plain": [
              "Daily periodicity from 2000-01-03 to 2021-05-28 "
            ]
          },
          "metadata": {
            "tags": []
          }
        }
      ]
    },
    {
      "cell_type": "markdown",
      "metadata": {
        "id": "7d452205-8ea1-461b-a15f-682cc4b96318"
      },
      "source": [
        "**Identifying missing values (%)**"
      ],
      "id": "7d452205-8ea1-461b-a15f-682cc4b96318"
    },
    {
      "cell_type": "code",
      "metadata": {
        "colab": {
          "base_uri": "https://localhost:8080/",
          "height": 68
        },
        "id": "7d329e61-d1a6-4c17-82ad-0a4ea31d0232",
        "outputId": "926f5117-979a-4f3f-f0fa-202341baccf3"
      },
      "source": [
        "round(prop.table(table(is.na(HSCE)))*100, digits = 2)       "
      ],
      "id": "7d329e61-d1a6-4c17-82ad-0a4ea31d0232",
      "execution_count": 5,
      "outputs": [
        {
          "output_type": "display_data",
          "data": {
            "text/plain": [
              "\n",
              "FALSE  TRUE \n",
              "97.67  2.33 "
            ]
          },
          "metadata": {
            "tags": []
          }
        }
      ]
    },
    {
      "cell_type": "markdown",
      "metadata": {
        "id": "b3787f51-b9fb-458d-b650-5c19b0c22c44"
      },
      "source": [
        "**Removing missing values**"
      ],
      "id": "b3787f51-b9fb-458d-b650-5c19b0c22c44"
    },
    {
      "cell_type": "code",
      "metadata": {
        "id": "4c168321-5b36-4058-b5fc-c9170fc50afd",
        "colab": {
          "base_uri": "https://localhost:8080/",
          "height": 68
        },
        "outputId": "257ec3c2-27af-4c54-eea8-af4f529324f1"
      },
      "source": [
        "HSCE <- na.omit(HSCE)    \n",
        "round(prop.table(table(is.na(HSCE)))*100, digits = 2)         "
      ],
      "id": "4c168321-5b36-4058-b5fc-c9170fc50afd",
      "execution_count": 6,
      "outputs": [
        {
          "output_type": "display_data",
          "data": {
            "text/plain": [
              "\n",
              "FALSE \n",
              "  100 "
            ]
          },
          "metadata": {
            "tags": []
          }
        }
      ]
    },
    {
      "cell_type": "markdown",
      "metadata": {
        "id": "ef01dac6-72b2-4ec0-b160-1fbdf579a04e"
      },
      "source": [
        "**Removing unnecessary features**"
      ],
      "id": "ef01dac6-72b2-4ec0-b160-1fbdf579a04e"
    },
    {
      "cell_type": "code",
      "metadata": {
        "colab": {
          "base_uri": "https://localhost:8080/",
          "height": 136
        },
        "id": "ea0759f7-0353-404b-b206-98bc5c35d66a",
        "outputId": "6f972712-3fed-4723-8da4-56374e6fe16e"
      },
      "source": [
        "HSCE.df <- HSCE[,'HSCE.Close']                              \n",
        "head(HSCE.df)"
      ],
      "id": "ea0759f7-0353-404b-b206-98bc5c35d66a",
      "execution_count": 7,
      "outputs": [
        {
          "output_type": "display_data",
          "data": {
            "text/plain": [
              "           HSCE.Close\n",
              "2000-01-03    1999.99\n",
              "2000-01-04    2082.93\n",
              "2000-01-05    1956.57\n",
              "2000-01-06    1904.20\n",
              "2000-01-07    2004.51\n",
              "2000-01-10    2061.00"
            ]
          },
          "metadata": {
            "tags": []
          }
        }
      ]
    },
    {
      "cell_type": "markdown",
      "metadata": {
        "id": "00ce5730-0246-4093-8c80-b0aa48bade58"
      },
      "source": [
        "**Calculating log-returns**"
      ],
      "id": "00ce5730-0246-4093-8c80-b0aa48bade58"
    },
    {
      "cell_type": "code",
      "metadata": {
        "colab": {
          "base_uri": "https://localhost:8080/",
          "height": 136
        },
        "id": "a39fe789-889c-4974-9e5e-141050303ac9",
        "outputId": "c91a5658-38a7-4d10-e105-511a8e5bf14f"
      },
      "source": [
        "logreturn <- diff(log(HSCE.df$HSCE.Close))*100                     \n",
        "head(logreturn)"
      ],
      "id": "a39fe789-889c-4974-9e5e-141050303ac9",
      "execution_count": 8,
      "outputs": [
        {
          "output_type": "display_data",
          "data": {
            "text/plain": [
              "           HSCE.Close\n",
              "2000-01-03         NA\n",
              "2000-01-04   4.063335\n",
              "2000-01-05  -6.258261\n",
              "2000-01-06  -2.713097\n",
              "2000-01-07   5.133770\n",
              "2000-01-10   2.779166"
            ]
          },
          "metadata": {
            "tags": []
          }
        }
      ]
    },
    {
      "cell_type": "markdown",
      "metadata": {
        "id": "83e12642-5c42-4a95-963f-809884d6bf7f"
      },
      "source": [
        "**Aggregating the data**"
      ],
      "id": "83e12642-5c42-4a95-963f-809884d6bf7f"
    },
    {
      "cell_type": "code",
      "metadata": {
        "colab": {
          "base_uri": "https://localhost:8080/",
          "height": 136
        },
        "id": "25c57967-90a6-4684-9b14-9a5c0867c38b",
        "outputId": "2f6939b2-9504-4ea0-8ca4-1711497dbf96"
      },
      "source": [
        "HSCE.df$HSCE.Return <- logreturn                  \n",
        "HSCE.df <- na.omit(HSCE.df)\n",
        "head(HSCE.df)"
      ],
      "id": "25c57967-90a6-4684-9b14-9a5c0867c38b",
      "execution_count": 9,
      "outputs": [
        {
          "output_type": "display_data",
          "data": {
            "text/plain": [
              "           HSCE.Close HSCE.Return\n",
              "2000-01-04    2082.93    4.063335\n",
              "2000-01-05    1956.57   -6.258261\n",
              "2000-01-06    1904.20   -2.713097\n",
              "2000-01-07    2004.51    5.133770\n",
              "2000-01-10    2061.00    2.779166\n",
              "2000-01-11    1996.30   -3.189581"
            ]
          },
          "metadata": {
            "tags": []
          }
        }
      ]
    },
    {
      "cell_type": "markdown",
      "metadata": {
        "id": "d5366ab1-99ff-4fc7-ba7c-e62d184424bd"
      },
      "source": [
        "**Identifying missing values (%)**"
      ],
      "id": "d5366ab1-99ff-4fc7-ba7c-e62d184424bd"
    },
    {
      "cell_type": "code",
      "metadata": {
        "colab": {
          "base_uri": "https://localhost:8080/",
          "height": 68
        },
        "id": "66ab6572-9a4d-4703-adb4-0405d06b5783",
        "outputId": "98a535cf-dd6d-4708-b4b3-a777ba3b33fd"
      },
      "source": [
        "round(prop.table(table(is.na(HSCE.df)))*100, digits = 2)       "
      ],
      "id": "66ab6572-9a4d-4703-adb4-0405d06b5783",
      "execution_count": 10,
      "outputs": [
        {
          "output_type": "display_data",
          "data": {
            "text/plain": [
              "\n",
              "FALSE \n",
              "  100 "
            ]
          },
          "metadata": {
            "tags": []
          }
        }
      ]
    },
    {
      "cell_type": "markdown",
      "metadata": {
        "id": "8a8dac53-aaa9-48b4-b345-44958dd87d9a"
      },
      "source": [
        "## 2. Graph analysis"
      ],
      "id": "8a8dac53-aaa9-48b4-b345-44958dd87d9a"
    },
    {
      "cell_type": "code",
      "metadata": {
        "id": "aadcb8e0-582a-435f-864c-a43651d7e6a6",
        "colab": {
          "base_uri": "https://localhost:8080/"
        },
        "outputId": "be647322-469a-4a46-ecb5-7f25da62f6dd"
      },
      "source": [
        "# Package\n",
        "install.packages('xts')\n",
        "install.packages('ggplot2')\n",
        "install.packages('gridExtra')\n",
        "\n",
        "library(xts)\n",
        "library(ggplot2)\n",
        "library(gridExtra)"
      ],
      "id": "aadcb8e0-582a-435f-864c-a43651d7e6a6",
      "execution_count": 11,
      "outputs": [
        {
          "output_type": "stream",
          "text": [
            "Installing package into ‘/usr/local/lib/R/site-library’\n",
            "(as ‘lib’ is unspecified)\n",
            "\n",
            "Installing package into ‘/usr/local/lib/R/site-library’\n",
            "(as ‘lib’ is unspecified)\n",
            "\n",
            "Installing package into ‘/usr/local/lib/R/site-library’\n",
            "(as ‘lib’ is unspecified)\n",
            "\n"
          ],
          "name": "stderr"
        }
      ]
    },
    {
      "cell_type": "markdown",
      "metadata": {
        "id": "0dc149bd-ea9f-4227-9807-c33fa1636347"
      },
      "source": [
        "**Price & Return charts**"
      ],
      "id": "0dc149bd-ea9f-4227-9807-c33fa1636347"
    },
    {
      "cell_type": "code",
      "metadata": {
        "colab": {
          "base_uri": "https://localhost:8080/",
          "height": 505
        },
        "id": "4a7ba28a-a574-47a6-8368-2111f43c7bd3",
        "outputId": "57580961-f07c-40b4-fab2-fce7fa9a13b1"
      },
      "source": [
        "# Price chart\n",
        "graph1 <- ggplot(HSCE.df,\n",
        "                aes(x = index(HSCE.df), y = HSCE.df[,'HSCE.Close'])) +\n",
        "                geom_line(color = \"black\") +\n",
        "                ggtitle(\"China\") +\n",
        "                xlab(\"Date\") +\n",
        "                ylab(\"Closing prices ($)\") +\n",
        "                theme(plot.title = element_text(hjust = 0.5))\n",
        "\n",
        "# Return chart\n",
        "graph2 <- ggplot(HSCE.df,\n",
        "                aes(x = index(HSCE.df), y = HSCE.df[,'HSCE.Return'])) +\n",
        "                geom_line(color = \"black\") +\n",
        "                ggtitle(\"China\") +\n",
        "                xlab(\"Date\") +\n",
        "                ylab(\"Return\") +\n",
        "                theme(plot.title = element_text(hjust = 0.5))\n",
        "\n",
        "grid.arrange(graph1, graph2, ncol = 1, nrow = 2)"
      ],
      "id": "4a7ba28a-a574-47a6-8368-2111f43c7bd3",
      "execution_count": 12,
      "outputs": [
        {
          "output_type": "stream",
          "text": [
            "Don't know how to automatically pick scale for object of type xts/zoo. Defaulting to continuous.\n",
            "\n",
            "Don't know how to automatically pick scale for object of type xts/zoo. Defaulting to continuous.\n",
            "\n"
          ],
          "name": "stderr"
        },
        {
          "output_type": "display_data",
          "data": {
            "image/png": "[encoded data removed]",
            "text/plain": [
              "plot without title"
            ]
          },
          "metadata": {
            "tags": [],
            "image/png": {
              "width": 420,
              "height": 420
            }
          }
        }
      ]
    },
    {
      "cell_type": "markdown",
      "metadata": {
        "id": "2fb985b6-91a7-43fe-ba22-5663a6d63477"
      },
      "source": [
        "## 3. Descriptive statistic"
      ],
      "id": "2fb985b6-91a7-43fe-ba22-5663a6d63477"
    },
    {
      "cell_type": "code",
      "metadata": {
        "colab": {
          "base_uri": "https://localhost:8080/"
        },
        "id": "5cba5803-a987-4c14-aa9b-d9337afb3512",
        "outputId": "05c7f0c0-b238-4e49-a8c7-bea0cb917e5c"
      },
      "source": [
        "# Packages\n",
        "install.packages('moments')\n",
        "\n",
        "library(moments)"
      ],
      "id": "5cba5803-a987-4c14-aa9b-d9337afb3512",
      "execution_count": 13,
      "outputs": [
        {
          "output_type": "stream",
          "text": [
            "Installing package into ‘/usr/local/lib/R/site-library’\n",
            "(as ‘lib’ is unspecified)\n",
            "\n",
            "\n",
            "Attaching package: ‘moments’\n",
            "\n",
            "\n",
            "The following objects are masked from ‘package:PerformanceAnalytics’:\n",
            "\n",
            "    kurtosis, skewness\n",
            "\n",
            "\n"
          ],
          "name": "stderr"
        }
      ]
    },
    {
      "cell_type": "markdown",
      "metadata": {
        "id": "69bbfe9a-7c71-415d-89a4-7a7f70b88e9d"
      },
      "source": [
        "**Descriptive statistic**"
      ],
      "id": "69bbfe9a-7c71-415d-89a4-7a7f70b88e9d"
    },
    {
      "cell_type": "code",
      "metadata": {
        "colab": {
          "base_uri": "https://localhost:8080/",
          "height": 34
        },
        "id": "b282c2d9-b582-4a89-8f56-b23b6ade6202",
        "outputId": "fe785f25-8c95-4d1a-bb96-60fc2d177598"
      },
      "source": [
        "# mean\n",
        "round(mean(HSCE.df$HSCE.Return), 3)                         "
      ],
      "id": "b282c2d9-b582-4a89-8f56-b23b6ade6202",
      "execution_count": 14,
      "outputs": [
        {
          "output_type": "display_data",
          "data": {
            "text/plain": [
              "[1] 0.032"
            ],
            "text/latex": "0.032",
            "text/markdown": "0.032",
            "text/html": [
              "0.032"
            ]
          },
          "metadata": {
            "tags": []
          }
        }
      ]
    },
    {
      "cell_type": "code",
      "metadata": {
        "colab": {
          "base_uri": "https://localhost:8080/",
          "height": 34
        },
        "id": "a0fefd4e-8b2e-4bf2-aa7f-1dfc0d2d1892",
        "outputId": "dd7e45b5-5e6f-4f1c-fc1e-a08e303ba408"
      },
      "source": [
        "# sd\n",
        "round(sd(HSCE.df$HSCE.Return), 3)                           "
      ],
      "id": "a0fefd4e-8b2e-4bf2-aa7f-1dfc0d2d1892",
      "execution_count": 15,
      "outputs": [
        {
          "output_type": "display_data",
          "data": {
            "text/plain": [
              "[1] 1.89"
            ],
            "text/latex": "1.89",
            "text/markdown": "1.89",
            "text/html": [
              "1.89"
            ]
          },
          "metadata": {
            "tags": []
          }
        }
      ]
    },
    {
      "cell_type": "code",
      "metadata": {
        "colab": {
          "base_uri": "https://localhost:8080/",
          "height": 34
        },
        "id": "e5f57896-f56d-416f-9cbf-4217d00ffb72",
        "outputId": "076a8a93-f2bb-462b-e881-14e5c90f0b3f"
      },
      "source": [
        "# skewness\n",
        "round(skewness(HSCE.df$HSCE.Return), 3)                     "
      ],
      "id": "e5f57896-f56d-416f-9cbf-4217d00ffb72",
      "execution_count": 16,
      "outputs": [
        {
          "output_type": "display_data",
          "data": {
            "text/plain": [
              "HSCE.Return \n",
              "      0.072 "
            ],
            "text/latex": "\\textbf{HSCE.Return:} 0.072",
            "text/markdown": "**HSCE.Return:** 0.072",
            "text/html": [
              "<strong>HSCE.Return:</strong> 0.072"
            ]
          },
          "metadata": {
            "tags": []
          }
        }
      ]
    },
    {
      "cell_type": "code",
      "metadata": {
        "colab": {
          "base_uri": "https://localhost:8080/",
          "height": 34
        },
        "id": "04580b0d-e33e-4a03-8c3c-72c205253ed2",
        "outputId": "16340be7-222c-4dd2-ae10-de79985b38a4"
      },
      "source": [
        "# kurtosis\n",
        "round(kurtosis(HSCE.df$HSCE.Return), 3)                     "
      ],
      "id": "04580b0d-e33e-4a03-8c3c-72c205253ed2",
      "execution_count": 17,
      "outputs": [
        {
          "output_type": "display_data",
          "data": {
            "text/plain": [
              "HSCE.Return \n",
              "       9.16 "
            ],
            "text/latex": "\\textbf{HSCE.Return:} 9.16",
            "text/markdown": "**HSCE.Return:** 9.16",
            "text/html": [
              "<strong>HSCE.Return:</strong> 9.16"
            ]
          },
          "metadata": {
            "tags": []
          }
        }
      ]
    },
    {
      "cell_type": "code",
      "metadata": {
        "colab": {
          "base_uri": "https://localhost:8080/",
          "height": 34
        },
        "id": "515839a1-874b-4639-b9a2-1f0f24f844cd",
        "outputId": "49d4e28d-cc23-4cce-e7d1-816d3a28d4e7"
      },
      "source": [
        "# min\n",
        "round(min(HSCE.df$HSCE.Return), 3)                          "
      ],
      "id": "515839a1-874b-4639-b9a2-1f0f24f844cd",
      "execution_count": 18,
      "outputs": [
        {
          "output_type": "display_data",
          "data": {
            "text/plain": [
              "[1] -15.087"
            ],
            "text/latex": "-15.087",
            "text/markdown": "-15.087",
            "text/html": [
              "-15.087"
            ]
          },
          "metadata": {
            "tags": []
          }
        }
      ]
    },
    {
      "cell_type": "code",
      "metadata": {
        "colab": {
          "base_uri": "https://localhost:8080/",
          "height": 34
        },
        "id": "3b88ac9d-baad-40df-913b-511417327e3a",
        "outputId": "ccbe019b-4e4c-4c2a-a286-e342307eb878"
      },
      "source": [
        "# p5\n",
        "round(quantile(HSCE.df$HSCE.Return, probs = 0.05), 3)       "
      ],
      "id": "3b88ac9d-baad-40df-913b-511417327e3a",
      "execution_count": 19,
      "outputs": [
        {
          "output_type": "display_data",
          "data": {
            "text/plain": [
              "    5% \n",
              "-2.927 "
            ],
            "text/latex": "\\textbf{5\\textbackslash{}\\%:} -2.927",
            "text/markdown": "**5%:** -2.927",
            "text/html": [
              "<strong>5%:</strong> -2.927"
            ]
          },
          "metadata": {
            "tags": []
          }
        }
      ]
    },
    {
      "cell_type": "code",
      "metadata": {
        "colab": {
          "base_uri": "https://localhost:8080/",
          "height": 34
        },
        "id": "47455c1f-33d8-4811-955a-03286ad779bc",
        "outputId": "1c91d2b9-3e5d-4013-b343-3d655f3eeeab"
      },
      "source": [
        "# p25\n",
        "round(quantile(HSCE.df$HSCE.Return, probs = 0.25), 3)       "
      ],
      "id": "47455c1f-33d8-4811-955a-03286ad779bc",
      "execution_count": 20,
      "outputs": [
        {
          "output_type": "display_data",
          "data": {
            "text/plain": [
              "   25% \n",
              "-0.881 "
            ],
            "text/latex": "\\textbf{25\\textbackslash{}\\%:} -0.881",
            "text/markdown": "**25%:** -0.881",
            "text/html": [
              "<strong>25%:</strong> -0.881"
            ]
          },
          "metadata": {
            "tags": []
          }
        }
      ]
    },
    {
      "cell_type": "code",
      "metadata": {
        "colab": {
          "base_uri": "https://localhost:8080/",
          "height": 34
        },
        "id": "a6516b44-9009-4d73-9216-cd6d7ce1aa75",
        "outputId": "1b8439c0-fbb8-4cdc-f738-3f6bdd475526"
      },
      "source": [
        "# median\n",
        "round(median(HSCE.df$HSCE.Return), 3)                       "
      ],
      "id": "a6516b44-9009-4d73-9216-cd6d7ce1aa75",
      "execution_count": 21,
      "outputs": [
        {
          "output_type": "display_data",
          "data": {
            "text/plain": [
              "[1] 0.05"
            ],
            "text/latex": "0.05",
            "text/markdown": "0.05",
            "text/html": [
              "0.05"
            ]
          },
          "metadata": {
            "tags": []
          }
        }
      ]
    },
    {
      "cell_type": "code",
      "metadata": {
        "colab": {
          "base_uri": "https://localhost:8080/",
          "height": 34
        },
        "id": "a86278a2-66fa-4421-8432-6a68176eebc8",
        "outputId": "86a62f2a-b401-4771-c17b-227d56f3b3e8"
      },
      "source": [
        "# p75\n",
        "round(quantile(HSCE.df$HSCE.Return, probs = 0.75), 3)       "
      ],
      "id": "a86278a2-66fa-4421-8432-6a68176eebc8",
      "execution_count": 22,
      "outputs": [
        {
          "output_type": "display_data",
          "data": {
            "text/plain": [
              "  75% \n",
              "1.012 "
            ],
            "text/latex": "\\textbf{75\\textbackslash{}\\%:} 1.012",
            "text/markdown": "**75%:** 1.012",
            "text/html": [
              "<strong>75%:</strong> 1.012"
            ]
          },
          "metadata": {
            "tags": []
          }
        }
      ]
    },
    {
      "cell_type": "code",
      "metadata": {
        "colab": {
          "base_uri": "https://localhost:8080/",
          "height": 34
        },
        "id": "be64d68b-c5cc-42d9-b55d-bbfca6846cf8",
        "outputId": "04766838-59df-4356-bfb0-74ff5d042ade"
      },
      "source": [
        "# p95\n",
        "round(quantile(HSCE.df$HSCE.Return, probs = 0.95), 3)       "
      ],
      "id": "be64d68b-c5cc-42d9-b55d-bbfca6846cf8",
      "execution_count": 23,
      "outputs": [
        {
          "output_type": "display_data",
          "data": {
            "text/plain": [
              "  95% \n",
              "2.801 "
            ],
            "text/latex": "\\textbf{95\\textbackslash{}\\%:} 2.801",
            "text/markdown": "**95%:** 2.801",
            "text/html": [
              "<strong>95%:</strong> 2.801"
            ]
          },
          "metadata": {
            "tags": []
          }
        }
      ]
    },
    {
      "cell_type": "code",
      "metadata": {
        "colab": {
          "base_uri": "https://localhost:8080/",
          "height": 34
        },
        "id": "ecf88ca5-5576-4cfb-a9f2-225db45f12af",
        "outputId": "0fe9a4d1-bcd3-4c0a-8e1c-2678add0093b"
      },
      "source": [
        "# max\n",
        "round(max(HSCE.df$HSCE.Return), 3)                          "
      ],
      "id": "ecf88ca5-5576-4cfb-a9f2-225db45f12af",
      "execution_count": 24,
      "outputs": [
        {
          "output_type": "display_data",
          "data": {
            "text/plain": [
              "[1] 15.606"
            ],
            "text/latex": "15.606",
            "text/markdown": "15.606",
            "text/html": [
              "15.606"
            ]
          },
          "metadata": {
            "tags": []
          }
        }
      ]
    },
    {
      "cell_type": "code",
      "metadata": {
        "colab": {
          "base_uri": "https://localhost:8080/",
          "height": 34
        },
        "id": "1679dd88-86bc-4041-ad68-7c1899c799a4",
        "outputId": "f9a5c2af-5197-413d-8c87-aeaf7f3b2ecf"
      },
      "source": [
        "# n observations\n",
        "length(HSCE.df$HSCE.Return)                                 "
      ],
      "id": "1679dd88-86bc-4041-ad68-7c1899c799a4",
      "execution_count": 25,
      "outputs": [
        {
          "output_type": "display_data",
          "data": {
            "text/plain": [
              "[1] 5230"
            ],
            "text/latex": "5230",
            "text/markdown": "5230",
            "text/html": [
              "5230"
            ]
          },
          "metadata": {
            "tags": []
          }
        }
      ]
    },
    {
      "cell_type": "markdown",
      "metadata": {
        "id": "7d7f50bf-3414-409f-abaf-59204b4eaed3"
      },
      "source": [
        "## 4. Series normality analysis"
      ],
      "id": "7d7f50bf-3414-409f-abaf-59204b4eaed3"
    },
    {
      "cell_type": "code",
      "metadata": {
        "id": "2a3ad960-3a87-48a4-bff0-b20498343432"
      },
      "source": [
        "# Package\n",
        "library(tseries)"
      ],
      "id": "2a3ad960-3a87-48a4-bff0-b20498343432",
      "execution_count": 26,
      "outputs": []
    },
    {
      "cell_type": "code",
      "metadata": {
        "colab": {
          "base_uri": "https://localhost:8080/",
          "height": 102
        },
        "id": "49b52423-cbd3-41df-9c5e-6074e2c1a911",
        "outputId": "789a25c1-2748-40d8-f8ca-2b9a1342d59d"
      },
      "source": [
        "jarque.bera.test(HSCE.df$HSCE.Return)"
      ],
      "id": "49b52423-cbd3-41df-9c5e-6074e2c1a911",
      "execution_count": 27,
      "outputs": [
        {
          "output_type": "display_data",
          "data": {
            "text/plain": [
              "\n",
              "\tJarque Bera Test\n",
              "\n",
              "data:  HSCE.df$HSCE.Return\n",
              "X-squared = 8274.2, df = 2, p-value < 2.2e-16\n"
            ]
          },
          "metadata": {
            "tags": []
          }
        }
      ]
    },
    {
      "cell_type": "markdown",
      "metadata": {
        "id": "5b8f4698-26c6-4675-886e-b5e9a72061ac"
      },
      "source": [
        "## 5. Autocorrelation pattern analysis"
      ],
      "id": "5b8f4698-26c6-4675-886e-b5e9a72061ac"
    },
    {
      "cell_type": "code",
      "metadata": {
        "id": "0b5c4562-547f-4763-8ea8-396761d8ddc3",
        "colab": {
          "base_uri": "https://localhost:8080/"
        },
        "outputId": "1f4bc606-6181-4a46-fbea-07ada65de94e"
      },
      "source": [
        "# Packages\n",
        "install.packages('TSA')\n",
        "install.packages('aTSA')\n",
        "install.packages('FinTS')\n",
        "\n",
        "library(TSA)\n",
        "library(aTSA)\n",
        "library(FinTS)"
      ],
      "id": "0b5c4562-547f-4763-8ea8-396761d8ddc3",
      "execution_count": 28,
      "outputs": [
        {
          "output_type": "stream",
          "text": [
            "Installing package into ‘/usr/local/lib/R/site-library’\n",
            "(as ‘lib’ is unspecified)\n",
            "\n",
            "Installing package into ‘/usr/local/lib/R/site-library’\n",
            "(as ‘lib’ is unspecified)\n",
            "\n",
            "Installing package into ‘/usr/local/lib/R/site-library’\n",
            "(as ‘lib’ is unspecified)\n",
            "\n",
            "\n",
            "Attaching package: ‘TSA’\n",
            "\n",
            "\n",
            "The following objects are masked from ‘package:moments’:\n",
            "\n",
            "    kurtosis, skewness\n",
            "\n",
            "\n",
            "The following objects are masked from ‘package:PerformanceAnalytics’:\n",
            "\n",
            "    kurtosis, skewness\n",
            "\n",
            "\n",
            "The following objects are masked from ‘package:stats’:\n",
            "\n",
            "    acf, arima\n",
            "\n",
            "\n",
            "The following object is masked from ‘package:utils’:\n",
            "\n",
            "    tar\n",
            "\n",
            "\n",
            "\n",
            "Attaching package: ‘aTSA’\n",
            "\n",
            "\n",
            "The following objects are masked from ‘package:tseries’:\n",
            "\n",
            "    adf.test, kpss.test, pp.test\n",
            "\n",
            "\n",
            "The following object is masked from ‘package:graphics’:\n",
            "\n",
            "    identify\n",
            "\n",
            "\n"
          ],
          "name": "stderr"
        }
      ]
    },
    {
      "cell_type": "markdown",
      "metadata": {
        "id": "efbcdd1a-f5c6-4e6a-bf31-3d547512b3f4"
      },
      "source": [
        "**McLeod-Li test for conditional heteroskedasticity (ARCH effect)**"
      ],
      "id": "efbcdd1a-f5c6-4e6a-bf31-3d547512b3f4"
    },
    {
      "cell_type": "code",
      "metadata": {
        "colab": {
          "base_uri": "https://localhost:8080/",
          "height": 437
        },
        "id": "NDGMFcWQ54yq",
        "outputId": "05f8b4fe-b357-4b8a-a976-e58bd798f2ca"
      },
      "source": [
        "McLeod.Li.test(y = HSCE.df$HSCE.Return)\n",
        "# p-valor < 1% => ARCH effect"
      ],
      "id": "NDGMFcWQ54yq",
      "execution_count": 29,
      "outputs": [
        {
          "output_type": "display_data",
          "data": {
            "image/png": "[encoded data removed]",
            "text/plain": [
              "plot without title"
            ]
          },
          "metadata": {
            "tags": [],
            "image/png": {
              "width": 420,
              "height": 420
            }
          }
        }
      ]
    },
    {
      "cell_type": "markdown",
      "metadata": {
        "id": "d2e068a6-3254-475c-acbf-a75dda7ac434"
      },
      "source": [
        "**Lagrange Multiplier (LM) test for autoregressive conditional heteroscedasticity (ARCH)**"
      ],
      "id": "d2e068a6-3254-475c-acbf-a75dda7ac434"
    },
    {
      "cell_type": "code",
      "metadata": {
        "id": "eaaf6d58-c987-450e-b7d9-d547bb10f7f9",
        "colab": {
          "base_uri": "https://localhost:8080/",
          "height": 102
        },
        "outputId": "2250b78e-7fb9-4395-ff2a-8e92b0adeccf"
      },
      "source": [
        "ArchTest(HSCE.df$HSCE.Return, demean = FALSE)"
      ],
      "id": "eaaf6d58-c987-450e-b7d9-d547bb10f7f9",
      "execution_count": 30,
      "outputs": [
        {
          "output_type": "display_data",
          "data": {
            "text/plain": [
              "\n",
              "\tARCH LM-test; Null hypothesis: no ARCH effects\n",
              "\n",
              "data:  HSCE.df$HSCE.Return\n",
              "Chi-squared = 1168.4, df = 12, p-value < 2.2e-16\n"
            ]
          },
          "metadata": {
            "tags": []
          }
        }
      ]
    },
    {
      "cell_type": "markdown",
      "metadata": {
        "id": "8c5b334a-4c0e-4341-b80b-bd4a9ec89dc1"
      },
      "source": [
        "## 6. GARCH model estimation"
      ],
      "id": "8c5b334a-4c0e-4341-b80b-bd4a9ec89dc1"
    },
    {
      "cell_type": "code",
      "metadata": {
        "colab": {
          "base_uri": "https://localhost:8080/"
        },
        "id": "7abb7558-53ac-4e1b-bbfa-f1de46b2d889",
        "outputId": "cb755bc3-096b-43c1-be6b-49a4628d139d"
      },
      "source": [
        "# Packages\n",
        "install.packages('tidyverse')\n",
        "install.packages('FinTS')\n",
        "install.packages('texreg')\n",
        "install.packages('rugarch')\n",
        "\n",
        "library(tidyverse)\n",
        "library(FinTS)\n",
        "library(texreg)\n",
        "library(rugarch)"
      ],
      "id": "7abb7558-53ac-4e1b-bbfa-f1de46b2d889",
      "execution_count": 31,
      "outputs": [
        {
          "output_type": "stream",
          "text": [
            "Installing package into ‘/usr/local/lib/R/site-library’\n",
            "(as ‘lib’ is unspecified)\n",
            "\n",
            "Installing package into ‘/usr/local/lib/R/site-library’\n",
            "(as ‘lib’ is unspecified)\n",
            "\n",
            "Installing package into ‘/usr/local/lib/R/site-library’\n",
            "(as ‘lib’ is unspecified)\n",
            "\n",
            "Installing package into ‘/usr/local/lib/R/site-library’\n",
            "(as ‘lib’ is unspecified)\n",
            "\n",
            "── \u001b[1mAttaching packages\u001b[22m ─────────────────────────────────────── tidyverse 1.3.1 ──\n",
            "\n",
            "\u001b[32m✔\u001b[39m \u001b[34mtibble \u001b[39m 3.1.2     \u001b[32m✔\u001b[39m \u001b[34mdplyr  \u001b[39m 1.0.6\n",
            "\u001b[32m✔\u001b[39m \u001b[34mtidyr  \u001b[39m 1.1.3     \u001b[32m✔\u001b[39m \u001b[34mstringr\u001b[39m 1.4.0\n",
            "\u001b[32m✔\u001b[39m \u001b[34mreadr  \u001b[39m 1.4.0     \u001b[32m✔\u001b[39m \u001b[34mforcats\u001b[39m 0.5.1\n",
            "\u001b[32m✔\u001b[39m \u001b[34mpurrr  \u001b[39m 0.3.4     \n",
            "\n",
            "── \u001b[1mConflicts\u001b[22m ────────────────────────────────────────── tidyverse_conflicts() ──\n",
            "\u001b[31m✖\u001b[39m \u001b[34mlubridate\u001b[39m::\u001b[32mas.difftime()\u001b[39m masks \u001b[34mbase\u001b[39m::as.difftime()\n",
            "\u001b[31m✖\u001b[39m \u001b[34mdplyr\u001b[39m::\u001b[32mcombine()\u001b[39m         masks \u001b[34mgridExtra\u001b[39m::combine()\n",
            "\u001b[31m✖\u001b[39m \u001b[34mlubridate\u001b[39m::\u001b[32mdate()\u001b[39m        masks \u001b[34mbase\u001b[39m::date()\n",
            "\u001b[31m✖\u001b[39m \u001b[34mdplyr\u001b[39m::\u001b[32mfilter()\u001b[39m          masks \u001b[34mstats\u001b[39m::filter()\n",
            "\u001b[31m✖\u001b[39m \u001b[34mdplyr\u001b[39m::\u001b[32mfirst()\u001b[39m           masks \u001b[34mxts\u001b[39m::first()\n",
            "\u001b[31m✖\u001b[39m \u001b[34mlubridate\u001b[39m::\u001b[32mintersect()\u001b[39m   masks \u001b[34mbase\u001b[39m::intersect()\n",
            "\u001b[31m✖\u001b[39m \u001b[34mdplyr\u001b[39m::\u001b[32mlag()\u001b[39m             masks \u001b[34mstats\u001b[39m::lag()\n",
            "\u001b[31m✖\u001b[39m \u001b[34mdplyr\u001b[39m::\u001b[32mlast()\u001b[39m            masks \u001b[34mxts\u001b[39m::last()\n",
            "\u001b[31m✖\u001b[39m \u001b[34mlubridate\u001b[39m::\u001b[32msetdiff()\u001b[39m     masks \u001b[34mbase\u001b[39m::setdiff()\n",
            "\u001b[31m✖\u001b[39m \u001b[34mreadr\u001b[39m::\u001b[32mspec()\u001b[39m            masks \u001b[34mTSA\u001b[39m::spec()\n",
            "\u001b[31m✖\u001b[39m \u001b[34mlubridate\u001b[39m::\u001b[32munion()\u001b[39m       masks \u001b[34mbase\u001b[39m::union()\n",
            "\n",
            "Version:  1.37.5\n",
            "Date:     2020-06-17\n",
            "Author:   Philip Leifeld (University of Essex)\n",
            "\n",
            "Consider submitting praise using the praise or praise_interactive functions.\n",
            "Please cite the JSS article in your publications -- see citation(\"texreg\").\n",
            "\n",
            "\n",
            "Attaching package: ‘texreg’\n",
            "\n",
            "\n",
            "The following object is masked from ‘package:tidyr’:\n",
            "\n",
            "    extract\n",
            "\n",
            "\n",
            "Loading required package: parallel\n",
            "\n",
            "\n",
            "Attaching package: ‘rugarch’\n",
            "\n",
            "\n",
            "The following object is masked from ‘package:purrr’:\n",
            "\n",
            "    reduce\n",
            "\n",
            "\n",
            "The following object is masked from ‘package:stats’:\n",
            "\n",
            "    sigma\n",
            "\n",
            "\n"
          ],
          "name": "stderr"
        }
      ]
    },
    {
      "cell_type": "code",
      "metadata": {
        "id": "ae5f5617-1efe-4488-bda0-051cf1bf4550"
      },
      "source": [
        "# Parameters definition\n",
        "ar_lag <- 0\n",
        "ma_lag <- 0\n",
        "arch_lag <- 1\n",
        "garch_lag <- 1"
      ],
      "id": "ae5f5617-1efe-4488-bda0-051cf1bf4550",
      "execution_count": 32,
      "outputs": []
    },
    {
      "cell_type": "markdown",
      "metadata": {
        "id": "4fb9f039-c974-422c-8f32-9c886eb06aeb"
      },
      "source": [
        "**Linear GARCH model**"
      ],
      "id": "4fb9f039-c974-422c-8f32-9c886eb06aeb"
    },
    {
      "cell_type": "code",
      "metadata": {
        "id": "47c0b88c-69c3-486d-b02c-29405ebd96e9"
      },
      "source": [
        "# Specification \n",
        "garch.spec <- ugarchspec(variance.model = list(model = \"sGARCH\",\n",
        "                                               garchOrder = c(arch_lag, garch_lag)),\n",
        "                         mean.model = list(armaOrder = c(ar_lag, ma_lag)),\n",
        "                         distribution.model = \"snorm\")\n",
        "# distribution.model = \"snorm\" => skew-normal distribution"
      ],
      "id": "47c0b88c-69c3-486d-b02c-29405ebd96e9",
      "execution_count": 33,
      "outputs": []
    },
    {
      "cell_type": "code",
      "metadata": {
        "id": "4f4f78bc-4e59-462b-af7e-1bcac1264fa3",
        "colab": {
          "base_uri": "https://localhost:8080/",
          "height": 221
        },
        "outputId": "563f8920-780f-4925-cd42-9c6a488add4c"
      },
      "source": [
        "# Estimation\n",
        "garch.fit <- ugarchfit(spec = garch.spec, data = HSCE.df$HSCE.Return)\n",
        "round(garch.fit@fit$matcoef, 4)"
      ],
      "id": "4f4f78bc-4e59-462b-af7e-1bcac1264fa3",
      "execution_count": 34,
      "outputs": [
        {
          "output_type": "display_data",
          "data": {
            "text/plain": [
              "        Estimate  Std. Error  t value Pr(>|t|)\n",
              "mu     0.0469    0.0195        2.4077 0.0161  \n",
              "omega  0.0289    0.0067        4.3383 0.0000  \n",
              "alpha1 0.0677    0.0074        9.1853 0.0000  \n",
              "beta1  0.9234    0.0084      110.0369 0.0000  \n",
              "skew   0.9698    0.0165       58.6398 0.0000  "
            ],
            "text/latex": "A matrix: 5 × 4 of type dbl\n\\begin{tabular}{r|llll}\n  &  Estimate &  Std. Error &  t value & Pr(>\\textbar{}t\\textbar{})\\\\\n\\hline\n\tmu & 0.0469 & 0.0195 &   2.4077 & 0.0161\\\\\n\tomega & 0.0289 & 0.0067 &   4.3383 & 0.0000\\\\\n\talpha1 & 0.0677 & 0.0074 &   9.1853 & 0.0000\\\\\n\tbeta1 & 0.9234 & 0.0084 & 110.0369 & 0.0000\\\\\n\tskew & 0.9698 & 0.0165 &  58.6398 & 0.0000\\\\\n\\end{tabular}\n",
            "text/markdown": "\nA matrix: 5 × 4 of type dbl\n\n| <!--/--> |  Estimate |  Std. Error |  t value | Pr(&gt;|t|) |\n|---|---|---|---|---|\n| mu | 0.0469 | 0.0195 |   2.4077 | 0.0161 |\n| omega | 0.0289 | 0.0067 |   4.3383 | 0.0000 |\n| alpha1 | 0.0677 | 0.0074 |   9.1853 | 0.0000 |\n| beta1 | 0.9234 | 0.0084 | 110.0369 | 0.0000 |\n| skew | 0.9698 | 0.0165 |  58.6398 | 0.0000 |\n\n",
            "text/html": [
              "<table class=\"dataframe\">\n",
              "<caption>A matrix: 5 × 4 of type dbl</caption>\n",
              "<thead>\n",
              "\t<tr><th></th><th scope=col> Estimate</th><th scope=col> Std. Error</th><th scope=col> t value</th><th scope=col>Pr(&gt;|t|)</th></tr>\n",
              "</thead>\n",
              "<tbody>\n",
              "\t<tr><th scope=row>mu</th><td>0.0469</td><td>0.0195</td><td>  2.4077</td><td>0.0161</td></tr>\n",
              "\t<tr><th scope=row>omega</th><td>0.0289</td><td>0.0067</td><td>  4.3383</td><td>0.0000</td></tr>\n",
              "\t<tr><th scope=row>alpha1</th><td>0.0677</td><td>0.0074</td><td>  9.1853</td><td>0.0000</td></tr>\n",
              "\t<tr><th scope=row>beta1</th><td>0.9234</td><td>0.0084</td><td>110.0369</td><td>0.0000</td></tr>\n",
              "\t<tr><th scope=row>skew</th><td>0.9698</td><td>0.0165</td><td> 58.6398</td><td>0.0000</td></tr>\n",
              "</tbody>\n",
              "</table>\n"
            ]
          },
          "metadata": {
            "tags": []
          }
        }
      ]
    },
    {
      "cell_type": "code",
      "metadata": {
        "id": "52cb3822-6ebd-4d45-b2c6-04c1acb17b34",
        "colab": {
          "base_uri": "https://localhost:8080/",
          "height": 153
        },
        "outputId": "8ee77f6b-ebe3-49cc-b0ec-95034be6d8e9"
      },
      "source": [
        "# Extracting variance series from the Linear GARCH model\n",
        "var.garch <- ts(garch.fit@fit$sigma^2)\n",
        "head(var.garch)\n",
        "\n",
        "HSCE.df$HSCE.VolGARCH <- as.numeric(var.garch)\n",
        "head(HSCE.df)"
      ],
      "id": "52cb3822-6ebd-4d45-b2c6-04c1acb17b34",
      "execution_count": 35,
      "outputs": [
        {
          "output_type": "display_data",
          "data": {
            "text/plain": [
              "[1] 3.570397 4.418570 6.801895 6.826015 8.084917 8.000451"
            ],
            "text/latex": "\\begin{enumerate*}\n\\item 3.57039727845401\n\\item 4.41857015176573\n\\item 6.80189515612902\n\\item 6.82601533104355\n\\item 8.08491663218897\n\\item 8.00045128613149\n\\end{enumerate*}\n",
            "text/markdown": "1. 3.57039727845401\n2. 4.41857015176573\n3. 6.80189515612902\n4. 6.82601533104355\n5. 8.08491663218897\n6. 8.00045128613149\n\n\n",
            "text/html": [
              "<style>\n",
              ".list-inline {list-style: none; margin:0; padding: 0}\n",
              ".list-inline>li {display: inline-block}\n",
              ".list-inline>li:not(:last-child)::after {content: \"\\00b7\"; padding: 0 .5ex}\n",
              "</style>\n",
              "<ol class=list-inline><li>3.57039727845401</li><li>4.41857015176573</li><li>6.80189515612902</li><li>6.82601533104355</li><li>8.08491663218897</li><li>8.00045128613149</li></ol>\n"
            ]
          },
          "metadata": {
            "tags": []
          }
        },
        {
          "output_type": "display_data",
          "data": {
            "text/plain": [
              "           HSCE.Close HSCE.Return HSCE.VolGARCH\n",
              "2000-01-04    2082.93    4.063335      3.570397\n",
              "2000-01-05    1956.57   -6.258261      4.418570\n",
              "2000-01-06    1904.20   -2.713097      6.801895\n",
              "2000-01-07    2004.51    5.133770      6.826015\n",
              "2000-01-10    2061.00    2.779166      8.084917\n",
              "2000-01-11    1996.30   -3.189581      8.000451"
            ]
          },
          "metadata": {
            "tags": []
          }
        }
      ]
    },
    {
      "cell_type": "markdown",
      "metadata": {
        "id": "e6f29dce-3413-404b-ab4f-fa35eee0c98f"
      },
      "source": [
        "**EGARCH model**"
      ],
      "id": "e6f29dce-3413-404b-ab4f-fa35eee0c98f"
    },
    {
      "cell_type": "code",
      "metadata": {
        "id": "3f49a904-41b9-4e2e-a788-6da4085d14db"
      },
      "source": [
        "# Specification \n",
        "egarch.spec <- ugarchspec(variance.model = list(model = \"eGARCH\",\n",
        "                                                garchOrder = c(arch_lag, garch_lag)),\n",
        "                          mean.model = list(armaOrder = c(ar_lag, ma_lag)), \n",
        "                          distribution.model = \"snorm\")\n",
        "# distribution.model = \"snorm\" => skew-normal distribution"
      ],
      "id": "3f49a904-41b9-4e2e-a788-6da4085d14db",
      "execution_count": 36,
      "outputs": []
    },
    {
      "cell_type": "code",
      "metadata": {
        "id": "1d6a661b-2206-4fa7-b4e8-d3765c54a302",
        "colab": {
          "base_uri": "https://localhost:8080/",
          "height": 252
        },
        "outputId": "4ac65ff8-6f1b-49d3-91dc-0037981f6b81"
      },
      "source": [
        "# Estimation\n",
        "egarch.fit <- ugarchfit(spec = egarch.spec, data = HSCE.df$HSCE.Return)\n",
        "round(egarch.fit@fit$matcoef, 4)"
      ],
      "id": "1d6a661b-2206-4fa7-b4e8-d3765c54a302",
      "execution_count": 37,
      "outputs": [
        {
          "output_type": "display_data",
          "data": {
            "text/plain": [
              "        Estimate  Std. Error  t value  Pr(>|t|)\n",
              "mu      0.0301   0.0195         1.5416 0.1232  \n",
              "omega   0.0175   0.0019         9.4614 0.0000  \n",
              "alpha1 -0.0191   0.0061        -3.1190 0.0018  \n",
              "beta1   0.9866   0.0010      1013.0515 0.0000  \n",
              "gamma1  0.1560   0.0141        11.0934 0.0000  \n",
              "skew    0.9793   0.0167        58.6911 0.0000  "
            ],
            "text/latex": "A matrix: 6 × 4 of type dbl\n\\begin{tabular}{r|llll}\n  &  Estimate &  Std. Error &  t value & Pr(>\\textbar{}t\\textbar{})\\\\\n\\hline\n\tmu &  0.0301 & 0.0195 &    1.5416 & 0.1232\\\\\n\tomega &  0.0175 & 0.0019 &    9.4614 & 0.0000\\\\\n\talpha1 & -0.0191 & 0.0061 &   -3.1190 & 0.0018\\\\\n\tbeta1 &  0.9866 & 0.0010 & 1013.0515 & 0.0000\\\\\n\tgamma1 &  0.1560 & 0.0141 &   11.0934 & 0.0000\\\\\n\tskew &  0.9793 & 0.0167 &   58.6911 & 0.0000\\\\\n\\end{tabular}\n",
            "text/markdown": "\nA matrix: 6 × 4 of type dbl\n\n| <!--/--> |  Estimate |  Std. Error |  t value | Pr(&gt;|t|) |\n|---|---|---|---|---|\n| mu |  0.0301 | 0.0195 |    1.5416 | 0.1232 |\n| omega |  0.0175 | 0.0019 |    9.4614 | 0.0000 |\n| alpha1 | -0.0191 | 0.0061 |   -3.1190 | 0.0018 |\n| beta1 |  0.9866 | 0.0010 | 1013.0515 | 0.0000 |\n| gamma1 |  0.1560 | 0.0141 |   11.0934 | 0.0000 |\n| skew |  0.9793 | 0.0167 |   58.6911 | 0.0000 |\n\n",
            "text/html": [
              "<table class=\"dataframe\">\n",
              "<caption>A matrix: 6 × 4 of type dbl</caption>\n",
              "<thead>\n",
              "\t<tr><th></th><th scope=col> Estimate</th><th scope=col> Std. Error</th><th scope=col> t value</th><th scope=col>Pr(&gt;|t|)</th></tr>\n",
              "</thead>\n",
              "<tbody>\n",
              "\t<tr><th scope=row>mu</th><td> 0.0301</td><td>0.0195</td><td>   1.5416</td><td>0.1232</td></tr>\n",
              "\t<tr><th scope=row>omega</th><td> 0.0175</td><td>0.0019</td><td>   9.4614</td><td>0.0000</td></tr>\n",
              "\t<tr><th scope=row>alpha1</th><td>-0.0191</td><td>0.0061</td><td>  -3.1190</td><td>0.0018</td></tr>\n",
              "\t<tr><th scope=row>beta1</th><td> 0.9866</td><td>0.0010</td><td>1013.0515</td><td>0.0000</td></tr>\n",
              "\t<tr><th scope=row>gamma1</th><td> 0.1560</td><td>0.0141</td><td>  11.0934</td><td>0.0000</td></tr>\n",
              "\t<tr><th scope=row>skew</th><td> 0.9793</td><td>0.0167</td><td>  58.6911</td><td>0.0000</td></tr>\n",
              "</tbody>\n",
              "</table>\n"
            ]
          },
          "metadata": {
            "tags": []
          }
        }
      ]
    },
    {
      "cell_type": "code",
      "metadata": {
        "id": "cffa8b9c-7f85-4602-ac12-0456b3314f2e",
        "colab": {
          "base_uri": "https://localhost:8080/",
          "height": 153
        },
        "outputId": "8b730ae8-6867-489a-d663-3501da8b2dfc"
      },
      "source": [
        "# Extracting variance series from the EGARCH model\n",
        "var.egarch <- ts(egarch.fit@fit$sigma^2)\n",
        "head(var.egarch)\n",
        "\n",
        "HSCE.df$HSCE.VolEGARCH <- as.numeric(var.egarch)\n",
        "head(HSCE.df)"
      ],
      "id": "cffa8b9c-7f85-4602-ac12-0456b3314f2e",
      "execution_count": 38,
      "outputs": [
        {
          "output_type": "display_data",
          "data": {
            "text/plain": [
              "[1] 3.570186 4.224218 6.361641 6.745928 7.732214 7.739544"
            ],
            "text/latex": "\\begin{enumerate*}\n\\item 3.57018550481291\n\\item 4.22421808083365\n\\item 6.36164130864498\n\\item 6.74592785666097\n\\item 7.73221449105453\n\\item 7.73954439748639\n\\end{enumerate*}\n",
            "text/markdown": "1. 3.57018550481291\n2. 4.22421808083365\n3. 6.36164130864498\n4. 6.74592785666097\n5. 7.73221449105453\n6. 7.73954439748639\n\n\n",
            "text/html": [
              "<style>\n",
              ".list-inline {list-style: none; margin:0; padding: 0}\n",
              ".list-inline>li {display: inline-block}\n",
              ".list-inline>li:not(:last-child)::after {content: \"\\00b7\"; padding: 0 .5ex}\n",
              "</style>\n",
              "<ol class=list-inline><li>3.57018550481291</li><li>4.22421808083365</li><li>6.36164130864498</li><li>6.74592785666097</li><li>7.73221449105453</li><li>7.73954439748639</li></ol>\n"
            ]
          },
          "metadata": {
            "tags": []
          }
        },
        {
          "output_type": "display_data",
          "data": {
            "text/plain": [
              "           HSCE.Close HSCE.Return HSCE.VolGARCH HSCE.VolEGARCH\n",
              "2000-01-04    2082.93    4.063335      3.570397       3.570186\n",
              "2000-01-05    1956.57   -6.258261      4.418570       4.224218\n",
              "2000-01-06    1904.20   -2.713097      6.801895       6.361641\n",
              "2000-01-07    2004.51    5.133770      6.826015       6.745928\n",
              "2000-01-10    2061.00    2.779166      8.084917       7.732214\n",
              "2000-01-11    1996.30   -3.189581      8.000451       7.739544"
            ]
          },
          "metadata": {
            "tags": []
          }
        }
      ]
    },
    {
      "cell_type": "markdown",
      "metadata": {
        "id": "3f46740f-5c39-4774-9658-6fc3f087dd0a"
      },
      "source": [
        "**GJR-GARCH model**"
      ],
      "id": "3f46740f-5c39-4774-9658-6fc3f087dd0a"
    },
    {
      "cell_type": "code",
      "metadata": {
        "id": "ab68bdb5-2f9a-4efa-b9af-2cf920607b6a"
      },
      "source": [
        "# Specification \n",
        "gjrgarch.spec <- ugarchspec(variance.model = list(model = \"gjrGARCH\",\n",
        "                                                  garchOrder = c(arch_lag, garch_lag)),\n",
        "                            mean.model = list(armaOrder = c(ar_lag, ma_lag)), \n",
        "                            distribution.model = \"snorm\")\n",
        "# distribution.model = \"snorm\" => skew-normal distribution"
      ],
      "id": "ab68bdb5-2f9a-4efa-b9af-2cf920607b6a",
      "execution_count": 39,
      "outputs": []
    },
    {
      "cell_type": "code",
      "metadata": {
        "id": "bd6466b5-b0f5-44e2-9d43-2922a0f6f588",
        "colab": {
          "base_uri": "https://localhost:8080/",
          "height": 252
        },
        "outputId": "2d6163b3-cae7-41f0-c7d6-31f3df09934d"
      },
      "source": [
        "# Estimation\n",
        "gjrgarch.fit <- ugarchfit(spec = gjrgarch.spec, data = HSCE.df$HSCE.Return)\n",
        "round(gjrgarch.fit@fit$matcoef, 4)"
      ],
      "id": "bd6466b5-b0f5-44e2-9d43-2922a0f6f588",
      "execution_count": 40,
      "outputs": [
        {
          "output_type": "display_data",
          "data": {
            "text/plain": [
              "        Estimate  Std. Error  t value Pr(>|t|)\n",
              "mu     0.0333    0.0199        1.6748 0.0940  \n",
              "omega  0.0333    0.0072        4.6013 0.0000  \n",
              "alpha1 0.0540    0.0072        7.4531 0.0000  \n",
              "beta1  0.9205    0.0087      106.1293 0.0000  \n",
              "gamma1 0.0299    0.0090        3.3140 0.0009  \n",
              "skew   0.9733    0.0166       58.4746 0.0000  "
            ],
            "text/latex": "A matrix: 6 × 4 of type dbl\n\\begin{tabular}{r|llll}\n  &  Estimate &  Std. Error &  t value & Pr(>\\textbar{}t\\textbar{})\\\\\n\\hline\n\tmu & 0.0333 & 0.0199 &   1.6748 & 0.0940\\\\\n\tomega & 0.0333 & 0.0072 &   4.6013 & 0.0000\\\\\n\talpha1 & 0.0540 & 0.0072 &   7.4531 & 0.0000\\\\\n\tbeta1 & 0.9205 & 0.0087 & 106.1293 & 0.0000\\\\\n\tgamma1 & 0.0299 & 0.0090 &   3.3140 & 0.0009\\\\\n\tskew & 0.9733 & 0.0166 &  58.4746 & 0.0000\\\\\n\\end{tabular}\n",
            "text/markdown": "\nA matrix: 6 × 4 of type dbl\n\n| <!--/--> |  Estimate |  Std. Error |  t value | Pr(&gt;|t|) |\n|---|---|---|---|---|\n| mu | 0.0333 | 0.0199 |   1.6748 | 0.0940 |\n| omega | 0.0333 | 0.0072 |   4.6013 | 0.0000 |\n| alpha1 | 0.0540 | 0.0072 |   7.4531 | 0.0000 |\n| beta1 | 0.9205 | 0.0087 | 106.1293 | 0.0000 |\n| gamma1 | 0.0299 | 0.0090 |   3.3140 | 0.0009 |\n| skew | 0.9733 | 0.0166 |  58.4746 | 0.0000 |\n\n",
            "text/html": [
              "<table class=\"dataframe\">\n",
              "<caption>A matrix: 6 × 4 of type dbl</caption>\n",
              "<thead>\n",
              "\t<tr><th></th><th scope=col> Estimate</th><th scope=col> Std. Error</th><th scope=col> t value</th><th scope=col>Pr(&gt;|t|)</th></tr>\n",
              "</thead>\n",
              "<tbody>\n",
              "\t<tr><th scope=row>mu</th><td>0.0333</td><td>0.0199</td><td>  1.6748</td><td>0.0940</td></tr>\n",
              "\t<tr><th scope=row>omega</th><td>0.0333</td><td>0.0072</td><td>  4.6013</td><td>0.0000</td></tr>\n",
              "\t<tr><th scope=row>alpha1</th><td>0.0540</td><td>0.0072</td><td>  7.4531</td><td>0.0000</td></tr>\n",
              "\t<tr><th scope=row>beta1</th><td>0.9205</td><td>0.0087</td><td>106.1293</td><td>0.0000</td></tr>\n",
              "\t<tr><th scope=row>gamma1</th><td>0.0299</td><td>0.0090</td><td>  3.3140</td><td>0.0009</td></tr>\n",
              "\t<tr><th scope=row>skew</th><td>0.9733</td><td>0.0166</td><td> 58.4746</td><td>0.0000</td></tr>\n",
              "</tbody>\n",
              "</table>\n"
            ]
          },
          "metadata": {
            "tags": []
          }
        }
      ]
    },
    {
      "cell_type": "code",
      "metadata": {
        "id": "866a759d-f023-4e0a-9708-ad0b03378079",
        "colab": {
          "base_uri": "https://localhost:8080/",
          "height": 153
        },
        "outputId": "d22d1940-ed6a-4771-c108-b2fffcfe9697"
      },
      "source": [
        "# Extracting variance series from the GJR-GARCH model\n",
        "var.gjrgarch <- ts(gjrgarch.fit@fit$sigma^2)\n",
        "head(var.gjrgarch)\n",
        "\n",
        "HSCE.df$HSCE.VolGJRGARCH <- as.numeric(var.gjrgarch)\n",
        "head(HSCE.df)"
      ],
      "id": "866a759d-f023-4e0a-9708-ad0b03378079",
      "execution_count": 41,
      "outputs": [
        {
          "output_type": "display_data",
          "data": {
            "text/plain": [
              "[1] 3.570182 4.195955 7.215490 7.307508 8.163455 7.954319"
            ],
            "text/latex": "\\begin{enumerate*}\n\\item 3.57018203074979\n\\item 4.19595487659288\n\\item 7.21548986661797\n\\item 7.30750832645896\n\\item 8.16345506650346\n\\item 7.95431929605882\n\\end{enumerate*}\n",
            "text/markdown": "1. 3.57018203074979\n2. 4.19595487659288\n3. 7.21548986661797\n4. 7.30750832645896\n5. 8.16345506650346\n6. 7.95431929605882\n\n\n",
            "text/html": [
              "<style>\n",
              ".list-inline {list-style: none; margin:0; padding: 0}\n",
              ".list-inline>li {display: inline-block}\n",
              ".list-inline>li:not(:last-child)::after {content: \"\\00b7\"; padding: 0 .5ex}\n",
              "</style>\n",
              "<ol class=list-inline><li>3.57018203074979</li><li>4.19595487659288</li><li>7.21548986661797</li><li>7.30750832645896</li><li>8.16345506650346</li><li>7.95431929605882</li></ol>\n"
            ]
          },
          "metadata": {
            "tags": []
          }
        },
        {
          "output_type": "display_data",
          "data": {
            "text/plain": [
              "           HSCE.Close HSCE.Return HSCE.VolGARCH HSCE.VolEGARCH HSCE.VolGJRGARCH\n",
              "2000-01-04    2082.93    4.063335      3.570397       3.570186         3.570182\n",
              "2000-01-05    1956.57   -6.258261      4.418570       4.224218         4.195955\n",
              "2000-01-06    1904.20   -2.713097      6.801895       6.361641         7.215490\n",
              "2000-01-07    2004.51    5.133770      6.826015       6.745928         7.307508\n",
              "2000-01-10    2061.00    2.779166      8.084917       7.732214         8.163455\n",
              "2000-01-11    1996.30   -3.189581      8.000451       7.739544         7.954319"
            ]
          },
          "metadata": {
            "tags": []
          }
        }
      ]
    },
    {
      "cell_type": "markdown",
      "metadata": {
        "id": "30791595-f694-409c-a534-adfd13007dc8"
      },
      "source": [
        "## 7. Realized GARCH model estimation"
      ],
      "id": "30791595-f694-409c-a534-adfd13007dc8"
    },
    {
      "cell_type": "code",
      "metadata": {
        "id": "15180bd5-14f4-433e-8d95-6daf87ad72ee"
      },
      "source": [
        "# Specification\n",
        "realgarch.spec <- ugarchspec(mean.model = list(armaOrder = c(ar_lag, ma_lag),\n",
        "                                               include.mean = FALSE),\n",
        "                             variance.model = list(model = 'realGARCH',\n",
        "                                                   garchOrder = c(arch_lag, garch_lag)),\n",
        "                             distribution.model = \"snorm\")\n",
        "# distribution.model = \"snorm\" => skew-normal distribution)"
      ],
      "id": "15180bd5-14f4-433e-8d95-6daf87ad72ee",
      "execution_count": 42,
      "outputs": []
    },
    {
      "cell_type": "markdown",
      "metadata": {
        "id": "a579f920-f7b4-4ea6-b1dc-16fbfd9f5bec"
      },
      "source": [
        "**Realized Linear GARCH**"
      ],
      "id": "a579f920-f7b4-4ea6-b1dc-16fbfd9f5bec"
    },
    {
      "cell_type": "code",
      "metadata": {
        "id": "15ba614a-3479-4aeb-a0a3-f6aa302df878",
        "colab": {
          "base_uri": "https://localhost:8080/",
          "height": 345
        },
        "outputId": "42b2554c-1e42-47c2-d8fd-51b89611bfe2"
      },
      "source": [
        "# Estimation\n",
        "realgarch.fit <- ugarchfit(realgarch.spec, HSCE.df$HSCE.Return,\n",
        "                          solver = 'hybrid',\n",
        "                          realizedVol = HSCE.df$HSCE.VolGARCH)\n",
        "round(realgarch.fit@fit$matcoef, 4)"
      ],
      "id": "15ba614a-3479-4aeb-a0a3-f6aa302df878",
      "execution_count": 43,
      "outputs": [
        {
          "output_type": "display_data",
          "data": {
            "text/plain": [
              "        Estimate  Std. Error  t value Pr(>|t|)\n",
              "omega  0.0036    0.0317        0.1147 0.9087  \n",
              "alpha1 0.9944    0.0300       33.1292 0.0000  \n",
              "beta1  0.0101    0.0137        0.7381 0.4605  \n",
              "eta11  0.0033    0.0014        2.3862 0.0170  \n",
              "eta21  0.0034    0.0008        4.4025 0.0000  \n",
              "delta  0.9862    0.0264       37.3582 0.0000  \n",
              "lambda 0.0992    0.0010      102.2730 0.0000  \n",
              "skew   0.9691    0.0163       59.2929 0.0000  \n",
              "xi     0.0048    0.0316        0.1522 0.8790  "
            ],
            "text/latex": "A matrix: 9 × 4 of type dbl\n\\begin{tabular}{r|llll}\n  &  Estimate &  Std. Error &  t value & Pr(>\\textbar{}t\\textbar{})\\\\\n\\hline\n\tomega & 0.0036 & 0.0317 &   0.1147 & 0.9087\\\\\n\talpha1 & 0.9944 & 0.0300 &  33.1292 & 0.0000\\\\\n\tbeta1 & 0.0101 & 0.0137 &   0.7381 & 0.4605\\\\\n\teta11 & 0.0033 & 0.0014 &   2.3862 & 0.0170\\\\\n\teta21 & 0.0034 & 0.0008 &   4.4025 & 0.0000\\\\\n\tdelta & 0.9862 & 0.0264 &  37.3582 & 0.0000\\\\\n\tlambda & 0.0992 & 0.0010 & 102.2730 & 0.0000\\\\\n\tskew & 0.9691 & 0.0163 &  59.2929 & 0.0000\\\\\n\txi & 0.0048 & 0.0316 &   0.1522 & 0.8790\\\\\n\\end{tabular}\n",
            "text/markdown": "\nA matrix: 9 × 4 of type dbl\n\n| <!--/--> |  Estimate |  Std. Error |  t value | Pr(&gt;|t|) |\n|---|---|---|---|---|\n| omega | 0.0036 | 0.0317 |   0.1147 | 0.9087 |\n| alpha1 | 0.9944 | 0.0300 |  33.1292 | 0.0000 |\n| beta1 | 0.0101 | 0.0137 |   0.7381 | 0.4605 |\n| eta11 | 0.0033 | 0.0014 |   2.3862 | 0.0170 |\n| eta21 | 0.0034 | 0.0008 |   4.4025 | 0.0000 |\n| delta | 0.9862 | 0.0264 |  37.3582 | 0.0000 |\n| lambda | 0.0992 | 0.0010 | 102.2730 | 0.0000 |\n| skew | 0.9691 | 0.0163 |  59.2929 | 0.0000 |\n| xi | 0.0048 | 0.0316 |   0.1522 | 0.8790 |\n\n",
            "text/html": [
              "<table class=\"dataframe\">\n",
              "<caption>A matrix: 9 × 4 of type dbl</caption>\n",
              "<thead>\n",
              "\t<tr><th></th><th scope=col> Estimate</th><th scope=col> Std. Error</th><th scope=col> t value</th><th scope=col>Pr(&gt;|t|)</th></tr>\n",
              "</thead>\n",
              "<tbody>\n",
              "\t<tr><th scope=row>omega</th><td>0.0036</td><td>0.0317</td><td>  0.1147</td><td>0.9087</td></tr>\n",
              "\t<tr><th scope=row>alpha1</th><td>0.9944</td><td>0.0300</td><td> 33.1292</td><td>0.0000</td></tr>\n",
              "\t<tr><th scope=row>beta1</th><td>0.0101</td><td>0.0137</td><td>  0.7381</td><td>0.4605</td></tr>\n",
              "\t<tr><th scope=row>eta11</th><td>0.0033</td><td>0.0014</td><td>  2.3862</td><td>0.0170</td></tr>\n",
              "\t<tr><th scope=row>eta21</th><td>0.0034</td><td>0.0008</td><td>  4.4025</td><td>0.0000</td></tr>\n",
              "\t<tr><th scope=row>delta</th><td>0.9862</td><td>0.0264</td><td> 37.3582</td><td>0.0000</td></tr>\n",
              "\t<tr><th scope=row>lambda</th><td>0.0992</td><td>0.0010</td><td>102.2730</td><td>0.0000</td></tr>\n",
              "\t<tr><th scope=row>skew</th><td>0.9691</td><td>0.0163</td><td> 59.2929</td><td>0.0000</td></tr>\n",
              "\t<tr><th scope=row>xi</th><td>0.0048</td><td>0.0316</td><td>  0.1522</td><td>0.8790</td></tr>\n",
              "</tbody>\n",
              "</table>\n"
            ]
          },
          "metadata": {
            "tags": []
          }
        }
      ]
    },
    {
      "cell_type": "code",
      "metadata": {
        "id": "35f05310-d764-4a29-895f-14a3d9333110",
        "colab": {
          "base_uri": "https://localhost:8080/",
          "height": 272
        },
        "outputId": "df28e38a-f2ba-4abe-a86c-3050e21dad59"
      },
      "source": [
        "# Extracting variance series from the Realized Linear GARCH model\n",
        "var.realgarch <- ts(realgarch.fit@fit$sigma^2)\n",
        "head(var.realgarch)\n",
        "\n",
        "HSCE.df$HSCE.VolRealGARCH <- as.numeric(var.realgarch)\n",
        "head(HSCE.df)"
      ],
      "id": "35f05310-d764-4a29-895f-14a3d9333110",
      "execution_count": 44,
      "outputs": [
        {
          "output_type": "display_data",
          "data": {
            "text/plain": [
              "[1] 3.571220 3.604257 4.455592 6.857130 6.911440 8.179029"
            ],
            "text/latex": "\\begin{enumerate*}\n\\item 3.57121981301164\n\\item 3.6042569898507\n\\item 4.45559230638828\n\\item 6.85713006267648\n\\item 6.91144009696414\n\\item 8.17902909406765\n\\end{enumerate*}\n",
            "text/markdown": "1. 3.57121981301164\n2. 3.6042569898507\n3. 4.45559230638828\n4. 6.85713006267648\n5. 6.91144009696414\n6. 8.17902909406765\n\n\n",
            "text/html": [
              "<style>\n",
              ".list-inline {list-style: none; margin:0; padding: 0}\n",
              ".list-inline>li {display: inline-block}\n",
              ".list-inline>li:not(:last-child)::after {content: \"\\00b7\"; padding: 0 .5ex}\n",
              "</style>\n",
              "<ol class=list-inline><li>3.57121981301164</li><li>3.6042569898507</li><li>4.45559230638828</li><li>6.85713006267648</li><li>6.91144009696414</li><li>8.17902909406765</li></ol>\n"
            ]
          },
          "metadata": {
            "tags": []
          }
        },
        {
          "output_type": "display_data",
          "data": {
            "text/plain": [
              "           HSCE.Close HSCE.Return HSCE.VolGARCH HSCE.VolEGARCH HSCE.VolGJRGARCH\n",
              "2000-01-04    2082.93    4.063335      3.570397       3.570186         3.570182\n",
              "2000-01-05    1956.57   -6.258261      4.418570       4.224218         4.195955\n",
              "2000-01-06    1904.20   -2.713097      6.801895       6.361641         7.215490\n",
              "2000-01-07    2004.51    5.133770      6.826015       6.745928         7.307508\n",
              "2000-01-10    2061.00    2.779166      8.084917       7.732214         8.163455\n",
              "2000-01-11    1996.30   -3.189581      8.000451       7.739544         7.954319\n",
              "           HSCE.VolRealGARCH\n",
              "2000-01-04          3.571220\n",
              "2000-01-05          3.604257\n",
              "2000-01-06          4.455592\n",
              "2000-01-07          6.857130\n",
              "2000-01-10          6.911440\n",
              "2000-01-11          8.179029"
            ]
          },
          "metadata": {
            "tags": []
          }
        }
      ]
    },
    {
      "cell_type": "markdown",
      "metadata": {
        "id": "3cac3418-86e3-40a3-b370-d044e9ffda05"
      },
      "source": [
        "**Realized EGARCH**"
      ],
      "id": "3cac3418-86e3-40a3-b370-d044e9ffda05"
    },
    {
      "cell_type": "code",
      "metadata": {
        "id": "8dab1b63-5db6-4abb-8ab3-4e49b909a386",
        "colab": {
          "base_uri": "https://localhost:8080/",
          "height": 345
        },
        "outputId": "b6315d16-2f96-4882-c3a5-4a01ed04f2b6"
      },
      "source": [
        "# Estimation\n",
        "realegarch.fit <- ugarchfit(realgarch.spec, HSCE.df$HSCE.Return,\n",
        "                            solver = 'hybrid',\n",
        "                            realizedVol = HSCE.df$HSCE.VolEGARCH)\n",
        "round(realegarch.fit@fit$matcoef, 4)"
      ],
      "id": "8dab1b63-5db6-4abb-8ab3-4e49b909a386",
      "execution_count": 45,
      "outputs": [
        {
          "output_type": "display_data",
          "data": {
            "text/plain": [
              "        Estimate  Std. Error  t value Pr(>|t|)\n",
              "omega  0.0012    0.0307        0.0393 0.9686  \n",
              "alpha1 0.9791    0.0291       33.6166 0.0000  \n",
              "beta1  0.0275    0.0138        1.9947 0.0461  \n",
              "eta11  0.0017    0.0014        1.2165 0.2238  \n",
              "eta21  0.0036    0.0008        4.4921 0.0000  \n",
              "delta  0.9831    0.0257       38.2581 0.0000  \n",
              "lambda 0.1024    0.0010      102.2735 0.0000  \n",
              "skew   0.9783    0.0165       59.4259 0.0000  \n",
              "xi     0.0081    0.0311        0.2615 0.7937  "
            ],
            "text/latex": "A matrix: 9 × 4 of type dbl\n\\begin{tabular}{r|llll}\n  &  Estimate &  Std. Error &  t value & Pr(>\\textbar{}t\\textbar{})\\\\\n\\hline\n\tomega & 0.0012 & 0.0307 &   0.0393 & 0.9686\\\\\n\talpha1 & 0.9791 & 0.0291 &  33.6166 & 0.0000\\\\\n\tbeta1 & 0.0275 & 0.0138 &   1.9947 & 0.0461\\\\\n\teta11 & 0.0017 & 0.0014 &   1.2165 & 0.2238\\\\\n\teta21 & 0.0036 & 0.0008 &   4.4921 & 0.0000\\\\\n\tdelta & 0.9831 & 0.0257 &  38.2581 & 0.0000\\\\\n\tlambda & 0.1024 & 0.0010 & 102.2735 & 0.0000\\\\\n\tskew & 0.9783 & 0.0165 &  59.4259 & 0.0000\\\\\n\txi & 0.0081 & 0.0311 &   0.2615 & 0.7937\\\\\n\\end{tabular}\n",
            "text/markdown": "\nA matrix: 9 × 4 of type dbl\n\n| <!--/--> |  Estimate |  Std. Error |  t value | Pr(&gt;|t|) |\n|---|---|---|---|---|\n| omega | 0.0012 | 0.0307 |   0.0393 | 0.9686 |\n| alpha1 | 0.9791 | 0.0291 |  33.6166 | 0.0000 |\n| beta1 | 0.0275 | 0.0138 |   1.9947 | 0.0461 |\n| eta11 | 0.0017 | 0.0014 |   1.2165 | 0.2238 |\n| eta21 | 0.0036 | 0.0008 |   4.4921 | 0.0000 |\n| delta | 0.9831 | 0.0257 |  38.2581 | 0.0000 |\n| lambda | 0.1024 | 0.0010 | 102.2735 | 0.0000 |\n| skew | 0.9783 | 0.0165 |  59.4259 | 0.0000 |\n| xi | 0.0081 | 0.0311 |   0.2615 | 0.7937 |\n\n",
            "text/html": [
              "<table class=\"dataframe\">\n",
              "<caption>A matrix: 9 × 4 of type dbl</caption>\n",
              "<thead>\n",
              "\t<tr><th></th><th scope=col> Estimate</th><th scope=col> Std. Error</th><th scope=col> t value</th><th scope=col>Pr(&gt;|t|)</th></tr>\n",
              "</thead>\n",
              "<tbody>\n",
              "\t<tr><th scope=row>omega</th><td>0.0012</td><td>0.0307</td><td>  0.0393</td><td>0.9686</td></tr>\n",
              "\t<tr><th scope=row>alpha1</th><td>0.9791</td><td>0.0291</td><td> 33.6166</td><td>0.0000</td></tr>\n",
              "\t<tr><th scope=row>beta1</th><td>0.0275</td><td>0.0138</td><td>  1.9947</td><td>0.0461</td></tr>\n",
              "\t<tr><th scope=row>eta11</th><td>0.0017</td><td>0.0014</td><td>  1.2165</td><td>0.2238</td></tr>\n",
              "\t<tr><th scope=row>eta21</th><td>0.0036</td><td>0.0008</td><td>  4.4921</td><td>0.0000</td></tr>\n",
              "\t<tr><th scope=row>delta</th><td>0.9831</td><td>0.0257</td><td> 38.2581</td><td>0.0000</td></tr>\n",
              "\t<tr><th scope=row>lambda</th><td>0.1024</td><td>0.0010</td><td>102.2735</td><td>0.0000</td></tr>\n",
              "\t<tr><th scope=row>skew</th><td>0.9783</td><td>0.0165</td><td> 59.4259</td><td>0.0000</td></tr>\n",
              "\t<tr><th scope=row>xi</th><td>0.0081</td><td>0.0311</td><td>  0.2615</td><td>0.7937</td></tr>\n",
              "</tbody>\n",
              "</table>\n"
            ]
          },
          "metadata": {
            "tags": []
          }
        }
      ]
    },
    {
      "cell_type": "code",
      "metadata": {
        "id": "8888b518-3a21-47ca-9f66-8cb6a20c7a0d",
        "colab": {
          "base_uri": "https://localhost:8080/",
          "height": 272
        },
        "outputId": "de19f514-27d9-4b9d-d9d6-6d49c91290fc"
      },
      "source": [
        "# Extracting variance series from the Realized EGARCH model\n",
        "var.realegarch <- ts(realegarch.fit@fit$sigma^2)\n",
        "head(var.realegarch)\n",
        "\n",
        "HSCE.df$HSCE.VolRealEGARCH <- as.numeric(var.realegarch)\n",
        "head(HSCE.df)"
      ],
      "id": "8888b518-3a21-47ca-9f66-8cb6a20c7a0d",
      "execution_count": 46,
      "outputs": [
        {
          "output_type": "display_data",
          "data": {
            "text/plain": [
              "[1] 3.571220 3.604962 4.251525 6.377200 6.829944 7.821011"
            ],
            "text/latex": "\\begin{enumerate*}\n\\item 3.57121981301164\n\\item 3.60496188665808\n\\item 4.25152524900412\n\\item 6.37720040445061\n\\item 6.82994350782759\n\\item 7.82101117768792\n\\end{enumerate*}\n",
            "text/markdown": "1. 3.57121981301164\n2. 3.60496188665808\n3. 4.25152524900412\n4. 6.37720040445061\n5. 6.82994350782759\n6. 7.82101117768792\n\n\n",
            "text/html": [
              "<style>\n",
              ".list-inline {list-style: none; margin:0; padding: 0}\n",
              ".list-inline>li {display: inline-block}\n",
              ".list-inline>li:not(:last-child)::after {content: \"\\00b7\"; padding: 0 .5ex}\n",
              "</style>\n",
              "<ol class=list-inline><li>3.57121981301164</li><li>3.60496188665808</li><li>4.25152524900412</li><li>6.37720040445061</li><li>6.82994350782759</li><li>7.82101117768792</li></ol>\n"
            ]
          },
          "metadata": {
            "tags": []
          }
        },
        {
          "output_type": "display_data",
          "data": {
            "text/plain": [
              "           HSCE.Close HSCE.Return HSCE.VolGARCH HSCE.VolEGARCH HSCE.VolGJRGARCH\n",
              "2000-01-04    2082.93    4.063335      3.570397       3.570186         3.570182\n",
              "2000-01-05    1956.57   -6.258261      4.418570       4.224218         4.195955\n",
              "2000-01-06    1904.20   -2.713097      6.801895       6.361641         7.215490\n",
              "2000-01-07    2004.51    5.133770      6.826015       6.745928         7.307508\n",
              "2000-01-10    2061.00    2.779166      8.084917       7.732214         8.163455\n",
              "2000-01-11    1996.30   -3.189581      8.000451       7.739544         7.954319\n",
              "           HSCE.VolRealGARCH HSCE.VolRealEGARCH\n",
              "2000-01-04          3.571220           3.571220\n",
              "2000-01-05          3.604257           3.604962\n",
              "2000-01-06          4.455592           4.251525\n",
              "2000-01-07          6.857130           6.377200\n",
              "2000-01-10          6.911440           6.829944\n",
              "2000-01-11          8.179029           7.821011"
            ]
          },
          "metadata": {
            "tags": []
          }
        }
      ]
    },
    {
      "cell_type": "markdown",
      "metadata": {
        "id": "84982d7c-c0eb-404c-b399-e720fb9281cf"
      },
      "source": [
        "**Realized GJR-GARCH**"
      ],
      "id": "84982d7c-c0eb-404c-b399-e720fb9281cf"
    },
    {
      "cell_type": "code",
      "metadata": {
        "id": "9fbe16e5-06c5-4329-ac4e-cd097521e0fe",
        "colab": {
          "base_uri": "https://localhost:8080/",
          "height": 345
        },
        "outputId": "a0e404b7-a411-4247-9866-a56a6914070d"
      },
      "source": [
        "# Estimation\n",
        "realgjrgarch.fit <- ugarchfit(realgarch.spec, HSCE.df$HSCE.Return,\n",
        "                              solver = 'hybrid',\n",
        "                              realizedVol = HSCE.df$HSCE.VolGJRGARCH)\n",
        "round(realgjrgarch.fit@fit$matcoef, 4)"
      ],
      "id": "9fbe16e5-06c5-4329-ac4e-cd097521e0fe",
      "execution_count": 47,
      "outputs": [
        {
          "output_type": "display_data",
          "data": {
            "text/plain": [
              "        Estimate  Std. Error  t value Pr(>|t|)\n",
              "omega  0.0030    0.0317        0.0954 0.9240  \n",
              "alpha1 0.9938    0.0301       32.9910 0.0000  \n",
              "beta1  0.0114    0.0138        0.8261 0.4088  \n",
              "eta11  0.0024    0.0014        1.6974 0.0896  \n",
              "eta21  0.0038    0.0008        4.7430 0.0000  \n",
              "delta  0.9845    0.0265       37.2210 0.0000  \n",
              "lambda 0.1031    0.0010      102.2728 0.0000  \n",
              "skew   0.9722    0.0164       59.2496 0.0000  \n",
              "xi     0.0063    0.0316        0.1994 0.8419  "
            ],
            "text/latex": "A matrix: 9 × 4 of type dbl\n\\begin{tabular}{r|llll}\n  &  Estimate &  Std. Error &  t value & Pr(>\\textbar{}t\\textbar{})\\\\\n\\hline\n\tomega & 0.0030 & 0.0317 &   0.0954 & 0.9240\\\\\n\talpha1 & 0.9938 & 0.0301 &  32.9910 & 0.0000\\\\\n\tbeta1 & 0.0114 & 0.0138 &   0.8261 & 0.4088\\\\\n\teta11 & 0.0024 & 0.0014 &   1.6974 & 0.0896\\\\\n\teta21 & 0.0038 & 0.0008 &   4.7430 & 0.0000\\\\\n\tdelta & 0.9845 & 0.0265 &  37.2210 & 0.0000\\\\\n\tlambda & 0.1031 & 0.0010 & 102.2728 & 0.0000\\\\\n\tskew & 0.9722 & 0.0164 &  59.2496 & 0.0000\\\\\n\txi & 0.0063 & 0.0316 &   0.1994 & 0.8419\\\\\n\\end{tabular}\n",
            "text/markdown": "\nA matrix: 9 × 4 of type dbl\n\n| <!--/--> |  Estimate |  Std. Error |  t value | Pr(&gt;|t|) |\n|---|---|---|---|---|\n| omega | 0.0030 | 0.0317 |   0.0954 | 0.9240 |\n| alpha1 | 0.9938 | 0.0301 |  32.9910 | 0.0000 |\n| beta1 | 0.0114 | 0.0138 |   0.8261 | 0.4088 |\n| eta11 | 0.0024 | 0.0014 |   1.6974 | 0.0896 |\n| eta21 | 0.0038 | 0.0008 |   4.7430 | 0.0000 |\n| delta | 0.9845 | 0.0265 |  37.2210 | 0.0000 |\n| lambda | 0.1031 | 0.0010 | 102.2728 | 0.0000 |\n| skew | 0.9722 | 0.0164 |  59.2496 | 0.0000 |\n| xi | 0.0063 | 0.0316 |   0.1994 | 0.8419 |\n\n",
            "text/html": [
              "<table class=\"dataframe\">\n",
              "<caption>A matrix: 9 × 4 of type dbl</caption>\n",
              "<thead>\n",
              "\t<tr><th></th><th scope=col> Estimate</th><th scope=col> Std. Error</th><th scope=col> t value</th><th scope=col>Pr(&gt;|t|)</th></tr>\n",
              "</thead>\n",
              "<tbody>\n",
              "\t<tr><th scope=row>omega</th><td>0.0030</td><td>0.0317</td><td>  0.0954</td><td>0.9240</td></tr>\n",
              "\t<tr><th scope=row>alpha1</th><td>0.9938</td><td>0.0301</td><td> 32.9910</td><td>0.0000</td></tr>\n",
              "\t<tr><th scope=row>beta1</th><td>0.0114</td><td>0.0138</td><td>  0.8261</td><td>0.4088</td></tr>\n",
              "\t<tr><th scope=row>eta11</th><td>0.0024</td><td>0.0014</td><td>  1.6974</td><td>0.0896</td></tr>\n",
              "\t<tr><th scope=row>eta21</th><td>0.0038</td><td>0.0008</td><td>  4.7430</td><td>0.0000</td></tr>\n",
              "\t<tr><th scope=row>delta</th><td>0.9845</td><td>0.0265</td><td> 37.2210</td><td>0.0000</td></tr>\n",
              "\t<tr><th scope=row>lambda</th><td>0.1031</td><td>0.0010</td><td>102.2728</td><td>0.0000</td></tr>\n",
              "\t<tr><th scope=row>skew</th><td>0.9722</td><td>0.0164</td><td> 59.2496</td><td>0.0000</td></tr>\n",
              "\t<tr><th scope=row>xi</th><td>0.0063</td><td>0.0316</td><td>  0.1994</td><td>0.8419</td></tr>\n",
              "</tbody>\n",
              "</table>\n"
            ]
          },
          "metadata": {
            "tags": []
          }
        }
      ]
    },
    {
      "cell_type": "code",
      "metadata": {
        "id": "72de108a-b473-4d76-9dc5-c1ae251113eb",
        "colab": {
          "base_uri": "https://localhost:8080/",
          "height": 272
        },
        "outputId": "68c99ec1-2988-4f06-c8c7-bba8aa442c1d"
      },
      "source": [
        "# Extracting variance series from the Realized GJR-GARCH model\n",
        "var.realgjrgarch <- ts(realgjrgarch.fit@fit$sigma^2)\n",
        "head(var.realgjrgarch)\n",
        "\n",
        "HSCE.df$HSCE.VolRealGJRGARCH <- as.numeric(var.realgjrgarch)\n",
        "head(HSCE.df)"
      ],
      "id": "72de108a-b473-4d76-9dc5-c1ae251113eb",
      "execution_count": 48,
      "outputs": [
        {
          "output_type": "display_data",
          "data": {
            "text/plain": [
              "[1] 3.571220 3.605074 4.233212 7.268636 7.406316 8.269972"
            ],
            "text/latex": "\\begin{enumerate*}\n\\item 3.57121981301164\n\\item 3.60507408366806\n\\item 4.23321152044738\n\\item 7.26863630283243\n\\item 7.40631581664915\n\\item 8.26997179052722\n\\end{enumerate*}\n",
            "text/markdown": "1. 3.57121981301164\n2. 3.60507408366806\n3. 4.23321152044738\n4. 7.26863630283243\n5. 7.40631581664915\n6. 8.26997179052722\n\n\n",
            "text/html": [
              "<style>\n",
              ".list-inline {list-style: none; margin:0; padding: 0}\n",
              ".list-inline>li {display: inline-block}\n",
              ".list-inline>li:not(:last-child)::after {content: \"\\00b7\"; padding: 0 .5ex}\n",
              "</style>\n",
              "<ol class=list-inline><li>3.57121981301164</li><li>3.60507408366806</li><li>4.23321152044738</li><li>7.26863630283243</li><li>7.40631581664915</li><li>8.26997179052722</li></ol>\n"
            ]
          },
          "metadata": {
            "tags": []
          }
        },
        {
          "output_type": "display_data",
          "data": {
            "text/plain": [
              "           HSCE.Close HSCE.Return HSCE.VolGARCH HSCE.VolEGARCH HSCE.VolGJRGARCH\n",
              "2000-01-04    2082.93    4.063335      3.570397       3.570186         3.570182\n",
              "2000-01-05    1956.57   -6.258261      4.418570       4.224218         4.195955\n",
              "2000-01-06    1904.20   -2.713097      6.801895       6.361641         7.215490\n",
              "2000-01-07    2004.51    5.133770      6.826015       6.745928         7.307508\n",
              "2000-01-10    2061.00    2.779166      8.084917       7.732214         8.163455\n",
              "2000-01-11    1996.30   -3.189581      8.000451       7.739544         7.954319\n",
              "           HSCE.VolRealGARCH HSCE.VolRealEGARCH HSCE.VolRealGJRGARCH\n",
              "2000-01-04          3.571220           3.571220             3.571220\n",
              "2000-01-05          3.604257           3.604962             3.605074\n",
              "2000-01-06          4.455592           4.251525             4.233212\n",
              "2000-01-07          6.857130           6.377200             7.268636\n",
              "2000-01-10          6.911440           6.829944             7.406316\n",
              "2000-01-11          8.179029           7.821011             8.269972"
            ]
          },
          "metadata": {
            "tags": []
          }
        }
      ]
    },
    {
      "cell_type": "markdown",
      "metadata": {
        "id": "735d096c-8ec1-4d3a-a1d9-b7174e560beb"
      },
      "source": [
        "## 8. Markov-Switching GARCH estimation"
      ],
      "id": "735d096c-8ec1-4d3a-a1d9-b7174e560beb"
    },
    {
      "cell_type": "code",
      "metadata": {
        "id": "9ea73810-e857-41db-82fd-a2e4dd54c754",
        "colab": {
          "base_uri": "https://localhost:8080/"
        },
        "outputId": "be168f90-fee0-4ea9-8195-17c81e3f4bfc"
      },
      "source": [
        "# Packages\n",
        "install.packages('MSGARCH')\n",
        "\n",
        "library(MSGARCH)"
      ],
      "id": "9ea73810-e857-41db-82fd-a2e4dd54c754",
      "execution_count": 49,
      "outputs": [
        {
          "output_type": "stream",
          "text": [
            "Installing package into ‘/usr/local/lib/R/site-library’\n",
            "(as ‘lib’ is unspecified)\n",
            "\n"
          ],
          "name": "stderr"
        }
      ]
    },
    {
      "cell_type": "markdown",
      "metadata": {
        "id": "ef3e18a9-c620-446e-b3cd-d5d20cf98832"
      },
      "source": [
        "2 regimes: low volatility and high volatility"
      ],
      "id": "ef3e18a9-c620-446e-b3cd-d5d20cf98832"
    },
    {
      "cell_type": "markdown",
      "metadata": {
        "id": "0nhstzdv_IBM"
      },
      "source": [
        "**Linear MS GARCH**"
      ],
      "id": "0nhstzdv_IBM"
    },
    {
      "cell_type": "code",
      "metadata": {
        "id": "a31f362b-be2d-4084-85cc-fd43b95ba2cf"
      },
      "source": [
        "# Specification\n",
        "msgarch.spec <- CreateSpec(variance.spec = list(model = c(\"sGARCH\")),\n",
        "                           distribution.spec = list(distribution = c(\"snorm\")),\n",
        "                           switch.spec = list(K = 2))"
      ],
      "id": "a31f362b-be2d-4084-85cc-fd43b95ba2cf",
      "execution_count": 50,
      "outputs": []
    },
    {
      "cell_type": "code",
      "metadata": {
        "id": "v0OrYkGOTGnf",
        "colab": {
          "base_uri": "https://localhost:8080/"
        },
        "outputId": "9770ebd2-23c3-45aa-c890-b334626ebe70"
      },
      "source": [
        "# Estimation\n",
        "msgarch.fit <- FitML(msgarch.spec, data = HSCE.df$HSCE.Return)    \n",
        "summary(msgarch.fit)"
      ],
      "id": "v0OrYkGOTGnf",
      "execution_count": 51,
      "outputs": [
        {
          "output_type": "stream",
          "text": [
            "Specification type: Markov-switching\n",
            "Specification name: sGARCH_snorm sGARCH_snorm\n",
            "Number of parameters in each variance model: 3 3\n",
            "Number of parameters in each distribution: 1 1\n",
            "------------------------------------------\n",
            "Fixed parameters:\n",
            "None\n",
            "------------------------------------------\n",
            "Across regime constrained parameters:\n",
            "None\n",
            "------------------------------------------\n",
            "Fitted parameters:\n",
            "         Estimate Std. Error  t value  Pr(>|t|)\n",
            "alpha0_1   0.0094     0.0029   3.2657 5.460e-04\n",
            "alpha1_1   0.0121     0.0060   2.0179 2.180e-02\n",
            "beta_1     0.9755     0.0026 376.4363    <1e-16\n",
            "xi_1       0.9590     0.0277  34.5623    <1e-16\n",
            "alpha0_2   0.1322     0.0425   3.1086 9.400e-04\n",
            "alpha1_2   0.0568     0.0346   1.6432 5.017e-02\n",
            "beta_2     0.9393     0.0021 453.6276    <1e-16\n",
            "xi_2       0.9809     0.0366  26.8114    <1e-16\n",
            "P_1_1      0.9651     0.0249  38.7307    <1e-16\n",
            "P_2_1      0.0915     0.0103   8.9002    <1e-16\n",
            "------------------------------------------\n",
            "Transition matrix:\n",
            "      t+1|k=1 t+1|k=2\n",
            "t|k=1  0.9651  0.0349\n",
            "t|k=2  0.0915  0.9085\n",
            "------------------------------------------\n",
            "Stable probabilities:\n",
            "State 1 State 2 \n",
            " 0.7236  0.2764 \n",
            "------------------------------------------\n",
            "LL: -9810.2567\n",
            "AIC: 19640.5134\n",
            "BIC: 19706.1351\n",
            "------------------------------------------\n"
          ],
          "name": "stdout"
        }
      ]
    },
    {
      "cell_type": "code",
      "metadata": {
        "id": "Bg9ZdxIiTUr7",
        "colab": {
          "base_uri": "https://localhost:8080/",
          "height": 408
        },
        "outputId": "74168cfc-8e34-4cd8-9a54-4566e6d7aff5"
      },
      "source": [
        "# Extracting variance series from the MS GARCH model\n",
        "var.msgarch <- ts(Volatility(msgarch.fit))\n",
        "head(var.msgarch)\n",
        "\n",
        "HSCE.df$HSCE.VolMSGARCH <- as.numeric(var.msgarch)\n",
        "head(HSCE.df)"
      ],
      "id": "Bg9ZdxIiTUr7",
      "execution_count": 52,
      "outputs": [
        {
          "output_type": "display_data",
          "data": {
            "text/plain": [
              "     t=1      t=2      t=3      t=4      t=5      t=6 \n",
              "3.159134 3.137096 5.526866 5.301528 5.380186 5.149558 "
            ],
            "text/latex": "\\begin{description*}\n\\item[t=1] 3.15913389312874\n\\item[t=2] 3.13709645334968\n\\item[t=3] 5.52686642305814\n\\item[t=4] 5.30152801085806\n\\item[t=5] 5.38018605710717\n\\item[t=6] 5.14955781038747\n\\end{description*}\n",
            "text/markdown": "t=1\n:   3.15913389312874t=2\n:   3.13709645334968t=3\n:   5.52686642305814t=4\n:   5.30152801085806t=5\n:   5.38018605710717t=6\n:   5.14955781038747\n\n",
            "text/html": [
              "<style>\n",
              ".dl-inline {width: auto; margin:0; padding: 0}\n",
              ".dl-inline>dt, .dl-inline>dd {float: none; width: auto; display: inline-block}\n",
              ".dl-inline>dt::after {content: \":\\0020\"; padding-right: .5ex}\n",
              ".dl-inline>dt:not(:first-of-type) {padding-left: .5ex}\n",
              "</style><dl class=dl-inline><dt>t=1</dt><dd>3.15913389312874</dd><dt>t=2</dt><dd>3.13709645334968</dd><dt>t=3</dt><dd>5.52686642305814</dd><dt>t=4</dt><dd>5.30152801085806</dd><dt>t=5</dt><dd>5.38018605710717</dd><dt>t=6</dt><dd>5.14955781038747</dd></dl>\n"
            ]
          },
          "metadata": {
            "tags": []
          }
        },
        {
          "output_type": "display_data",
          "data": {
            "text/plain": [
              "           HSCE.Close HSCE.Return HSCE.VolGARCH HSCE.VolEGARCH HSCE.VolGJRGARCH\n",
              "2000-01-04    2082.93    4.063335      3.570397       3.570186         3.570182\n",
              "2000-01-05    1956.57   -6.258261      4.418570       4.224218         4.195955\n",
              "2000-01-06    1904.20   -2.713097      6.801895       6.361641         7.215490\n",
              "2000-01-07    2004.51    5.133770      6.826015       6.745928         7.307508\n",
              "2000-01-10    2061.00    2.779166      8.084917       7.732214         8.163455\n",
              "2000-01-11    1996.30   -3.189581      8.000451       7.739544         7.954319\n",
              "           HSCE.VolRealGARCH HSCE.VolRealEGARCH HSCE.VolRealGJRGARCH\n",
              "2000-01-04          3.571220           3.571220             3.571220\n",
              "2000-01-05          3.604257           3.604962             3.605074\n",
              "2000-01-06          4.455592           4.251525             4.233212\n",
              "2000-01-07          6.857130           6.377200             7.268636\n",
              "2000-01-10          6.911440           6.829944             7.406316\n",
              "2000-01-11          8.179029           7.821011             8.269972\n",
              "           HSCE.VolMSGARCH\n",
              "2000-01-04        3.159134\n",
              "2000-01-05        3.137096\n",
              "2000-01-06        5.526866\n",
              "2000-01-07        5.301528\n",
              "2000-01-10        5.380186\n",
              "2000-01-11        5.149558"
            ]
          },
          "metadata": {
            "tags": []
          }
        }
      ]
    },
    {
      "cell_type": "markdown",
      "metadata": {
        "id": "jDyeAzbaUZGK"
      },
      "source": [
        "**MS EGARCH**"
      ],
      "id": "jDyeAzbaUZGK"
    },
    {
      "cell_type": "code",
      "metadata": {
        "id": "OJ_1-NOIUduu"
      },
      "source": [
        "# Specification\n",
        "msegarch.spec <- CreateSpec(variance.spec = list(model = c(\"eGARCH\")),\n",
        "                            distribution.spec = list(distribution = c(\"snorm\")),\n",
        "                            switch.spec = list(K = 2))"
      ],
      "id": "OJ_1-NOIUduu",
      "execution_count": 53,
      "outputs": []
    },
    {
      "cell_type": "code",
      "metadata": {
        "id": "QZBzDVNzUgcq",
        "colab": {
          "base_uri": "https://localhost:8080/"
        },
        "outputId": "d8bf0e37-d364-4c0b-86da-c4c3217a9516"
      },
      "source": [
        "# Estimation\n",
        "msegarch.fit <- FitML(msegarch.spec, data = HSCE.df$HSCE.Return)    \n",
        "summary(msegarch.fit)"
      ],
      "id": "QZBzDVNzUgcq",
      "execution_count": 54,
      "outputs": [
        {
          "output_type": "stream",
          "text": [
            "Specification type: Markov-switching\n",
            "Specification name: eGARCH_snorm eGARCH_snorm\n",
            "Number of parameters in each variance model: 4 4\n",
            "Number of parameters in each distribution: 1 1\n",
            "------------------------------------------\n",
            "Fixed parameters:\n",
            "None\n",
            "------------------------------------------\n",
            "Across regime constrained parameters:\n",
            "None\n",
            "------------------------------------------\n",
            "Fitted parameters:\n",
            "         Estimate Std. Error  t value  Pr(>|t|)\n",
            "alpha0_1  -0.0022     0.0018  -1.2073 1.137e-01\n",
            "alpha1_1   0.0640     0.0154   4.1476 1.680e-05\n",
            "alpha2_1  -0.0318     0.0108  -2.9509 1.584e-03\n",
            "beta_1     0.9921     0.0024 420.0275    <1e-16\n",
            "xi_1       0.9375     0.0264  35.4703    <1e-16\n",
            "alpha0_2   0.0553     0.0127   4.3457 6.942e-06\n",
            "alpha1_2   0.1068     0.0254   4.2103 1.275e-05\n",
            "alpha2_2  -0.0395     0.0150  -2.6342 4.216e-03\n",
            "beta_2     0.9845     0.0045 219.2890    <1e-16\n",
            "xi_2       0.9950     0.0440  22.6159    <1e-16\n",
            "P_1_1      0.9649     0.0335  28.7632    <1e-16\n",
            "P_2_1      0.1240     0.0109  11.3308    <1e-16\n",
            "------------------------------------------\n",
            "Transition matrix:\n",
            "      t+1|k=1 t+1|k=2\n",
            "t|k=1  0.9649  0.0351\n",
            "t|k=2  0.1240  0.8760\n",
            "------------------------------------------\n",
            "Stable probabilities:\n",
            "State 1 State 2 \n",
            " 0.7792  0.2208 \n",
            "------------------------------------------\n",
            "LL: -9795.1503\n",
            "AIC: 19614.3007\n",
            "BIC: 19693.0467\n",
            "------------------------------------------\n"
          ],
          "name": "stdout"
        }
      ]
    },
    {
      "cell_type": "code",
      "metadata": {
        "id": "RTicDPi3U_ux",
        "colab": {
          "base_uri": "https://localhost:8080/",
          "height": 408
        },
        "outputId": "d74248c8-f095-4c71-ed38-697265f02dfa"
      },
      "source": [
        "# Extracting variance series from the MS EGARCH model\n",
        "var.msegarch <- ts(Volatility(msegarch.fit))\n",
        "head(var.msegarch)\n",
        "\n",
        "HSCE.df$HSCE.VolMSEGARCH <- as.numeric(var.msegarch)\n",
        "head(HSCE.df)"
      ],
      "id": "RTicDPi3U_ux",
      "execution_count": 55,
      "outputs": [
        {
          "output_type": "display_data",
          "data": {
            "text/plain": [
              "     t=1      t=2      t=3      t=4      t=5      t=6 \n",
              "2.915017 2.872749 5.707034 5.470443 5.574312 5.236848 "
            ],
            "text/latex": "\\begin{description*}\n\\item[t=1] 2.91501685059999\n\\item[t=2] 2.8727486010612\n\\item[t=3] 5.70703448788966\n\\item[t=4] 5.47044280918301\n\\item[t=5] 5.57431150632631\n\\item[t=6] 5.23684765922451\n\\end{description*}\n",
            "text/markdown": "t=1\n:   2.91501685059999t=2\n:   2.8727486010612t=3\n:   5.70703448788966t=4\n:   5.47044280918301t=5\n:   5.57431150632631t=6\n:   5.23684765922451\n\n",
            "text/html": [
              "<style>\n",
              ".dl-inline {width: auto; margin:0; padding: 0}\n",
              ".dl-inline>dt, .dl-inline>dd {float: none; width: auto; display: inline-block}\n",
              ".dl-inline>dt::after {content: \":\\0020\"; padding-right: .5ex}\n",
              ".dl-inline>dt:not(:first-of-type) {padding-left: .5ex}\n",
              "</style><dl class=dl-inline><dt>t=1</dt><dd>2.91501685059999</dd><dt>t=2</dt><dd>2.8727486010612</dd><dt>t=3</dt><dd>5.70703448788966</dd><dt>t=4</dt><dd>5.47044280918301</dd><dt>t=5</dt><dd>5.57431150632631</dd><dt>t=6</dt><dd>5.23684765922451</dd></dl>\n"
            ]
          },
          "metadata": {
            "tags": []
          }
        },
        {
          "output_type": "display_data",
          "data": {
            "text/plain": [
              "           HSCE.Close HSCE.Return HSCE.VolGARCH HSCE.VolEGARCH HSCE.VolGJRGARCH\n",
              "2000-01-04    2082.93    4.063335      3.570397       3.570186         3.570182\n",
              "2000-01-05    1956.57   -6.258261      4.418570       4.224218         4.195955\n",
              "2000-01-06    1904.20   -2.713097      6.801895       6.361641         7.215490\n",
              "2000-01-07    2004.51    5.133770      6.826015       6.745928         7.307508\n",
              "2000-01-10    2061.00    2.779166      8.084917       7.732214         8.163455\n",
              "2000-01-11    1996.30   -3.189581      8.000451       7.739544         7.954319\n",
              "           HSCE.VolRealGARCH HSCE.VolRealEGARCH HSCE.VolRealGJRGARCH\n",
              "2000-01-04          3.571220           3.571220             3.571220\n",
              "2000-01-05          3.604257           3.604962             3.605074\n",
              "2000-01-06          4.455592           4.251525             4.233212\n",
              "2000-01-07          6.857130           6.377200             7.268636\n",
              "2000-01-10          6.911440           6.829944             7.406316\n",
              "2000-01-11          8.179029           7.821011             8.269972\n",
              "           HSCE.VolMSGARCH HSCE.VolMSEGARCH\n",
              "2000-01-04        3.159134         2.915017\n",
              "2000-01-05        3.137096         2.872749\n",
              "2000-01-06        5.526866         5.707034\n",
              "2000-01-07        5.301528         5.470443\n",
              "2000-01-10        5.380186         5.574312\n",
              "2000-01-11        5.149558         5.236848"
            ]
          },
          "metadata": {
            "tags": []
          }
        }
      ]
    },
    {
      "cell_type": "markdown",
      "metadata": {
        "id": "lA_6nowOVjc3"
      },
      "source": [
        "**MS GJR-GARCH**"
      ],
      "id": "lA_6nowOVjc3"
    },
    {
      "cell_type": "code",
      "metadata": {
        "id": "hnpt-SDyVmC3"
      },
      "source": [
        "# Specification\n",
        "msgjrgarch.spec <- CreateSpec(variance.spec = list(model = c(\"gjrGARCH\")),\n",
        "                              distribution.spec = list(distribution = c(\"snorm\")),\n",
        "                              switch.spec = list(K = 2))"
      ],
      "id": "hnpt-SDyVmC3",
      "execution_count": 56,
      "outputs": []
    },
    {
      "cell_type": "code",
      "metadata": {
        "id": "KkskZPFCVoPK",
        "colab": {
          "base_uri": "https://localhost:8080/"
        },
        "outputId": "de65091f-97fd-4c0a-e7e7-ee314be0961f"
      },
      "source": [
        "# Estimation\n",
        "msgjrgarch.fit <- FitML(msgjrgarch.spec, data = HSCE.df$HSCE.Return)    \n",
        "summary(msgjrgarch.fit)"
      ],
      "id": "KkskZPFCVoPK",
      "execution_count": 57,
      "outputs": [
        {
          "output_type": "stream",
          "text": [
            "Specification type: Markov-switching\n",
            "Specification name: gjrGARCH_snorm gjrGARCH_snorm\n",
            "Number of parameters in each variance model: 4 4\n",
            "Number of parameters in each distribution: 1 1\n",
            "------------------------------------------\n",
            "Fixed parameters:\n",
            "None\n",
            "------------------------------------------\n",
            "Across regime constrained parameters:\n",
            "None\n",
            "------------------------------------------\n",
            "Fitted parameters:\n",
            "         Estimate Std. Error  t value  Pr(>|t|)\n",
            "alpha0_1   0.0111     0.0045   2.4347 7.452e-03\n",
            "alpha1_1   0.0062     0.0059   1.0551 1.457e-01\n",
            "alpha2_1   0.0148     0.0120   1.2383 1.078e-01\n",
            "beta_1     0.9728     0.0043 225.0914    <1e-16\n",
            "xi_1       0.9454     0.0271  34.8444    <1e-16\n",
            "alpha0_2   0.1250     0.0374   3.3409 4.175e-04\n",
            "alpha1_2   0.0153     0.0154   0.9936 1.602e-01\n",
            "alpha2_2   0.0638     0.0281   2.2731 1.151e-02\n",
            "beta_2     0.9485     0.0025 376.2795    <1e-16\n",
            "xi_2       1.0043     0.0380  26.4430    <1e-16\n",
            "P_1_1      0.9696     0.0216  44.9599    <1e-16\n",
            "P_2_1      0.0813     0.0105   7.7373 5.107e-15\n",
            "------------------------------------------\n",
            "Transition matrix:\n",
            "      t+1|k=1 t+1|k=2\n",
            "t|k=1  0.9696  0.0304\n",
            "t|k=2  0.0813  0.9187\n",
            "------------------------------------------\n",
            "Stable probabilities:\n",
            "State 1 State 2 \n",
            " 0.7281  0.2719 \n",
            "------------------------------------------\n",
            "LL: -9800.861\n",
            "AIC: 19625.722\n",
            "BIC: 19704.468\n",
            "------------------------------------------\n"
          ],
          "name": "stdout"
        }
      ]
    },
    {
      "cell_type": "code",
      "metadata": {
        "id": "ixZcmHkiWKXi",
        "colab": {
          "base_uri": "https://localhost:8080/",
          "height": 408
        },
        "outputId": "76655b69-40e1-49b9-afae-b9545fa9a7e9"
      },
      "source": [
        "# Extracting variance series from the MS GJR-GARCH model\n",
        "var.msgjrgarch <- ts(Volatility(msgjrgarch.fit))\n",
        "head(var.msgjrgarch)\n",
        "\n",
        "HSCE.df$HSCE.VolMSGJRGARCH <- as.numeric(var.msgjrgarch)\n",
        "head(HSCE.df)"
      ],
      "id": "ixZcmHkiWKXi",
      "execution_count": 58,
      "outputs": [
        {
          "output_type": "display_data",
          "data": {
            "text/plain": [
              "     t=1      t=2      t=3      t=4      t=5      t=6 \n",
              "2.909357 2.868626 5.227537 5.041044 5.070780 4.853094 "
            ],
            "text/latex": "\\begin{description*}\n\\item[t=1] 2.90935727225915\n\\item[t=2] 2.86862594014594\n\\item[t=3] 5.22753731279171\n\\item[t=4] 5.04104420178245\n\\item[t=5] 5.07077971824882\n\\item[t=6] 4.85309351950766\n\\end{description*}\n",
            "text/markdown": "t=1\n:   2.90935727225915t=2\n:   2.86862594014594t=3\n:   5.22753731279171t=4\n:   5.04104420178245t=5\n:   5.07077971824882t=6\n:   4.85309351950766\n\n",
            "text/html": [
              "<style>\n",
              ".dl-inline {width: auto; margin:0; padding: 0}\n",
              ".dl-inline>dt, .dl-inline>dd {float: none; width: auto; display: inline-block}\n",
              ".dl-inline>dt::after {content: \":\\0020\"; padding-right: .5ex}\n",
              ".dl-inline>dt:not(:first-of-type) {padding-left: .5ex}\n",
              "</style><dl class=dl-inline><dt>t=1</dt><dd>2.90935727225915</dd><dt>t=2</dt><dd>2.86862594014594</dd><dt>t=3</dt><dd>5.22753731279171</dd><dt>t=4</dt><dd>5.04104420178245</dd><dt>t=5</dt><dd>5.07077971824882</dd><dt>t=6</dt><dd>4.85309351950766</dd></dl>\n"
            ]
          },
          "metadata": {
            "tags": []
          }
        },
        {
          "output_type": "display_data",
          "data": {
            "text/plain": [
              "           HSCE.Close HSCE.Return HSCE.VolGARCH HSCE.VolEGARCH HSCE.VolGJRGARCH\n",
              "2000-01-04    2082.93    4.063335      3.570397       3.570186         3.570182\n",
              "2000-01-05    1956.57   -6.258261      4.418570       4.224218         4.195955\n",
              "2000-01-06    1904.20   -2.713097      6.801895       6.361641         7.215490\n",
              "2000-01-07    2004.51    5.133770      6.826015       6.745928         7.307508\n",
              "2000-01-10    2061.00    2.779166      8.084917       7.732214         8.163455\n",
              "2000-01-11    1996.30   -3.189581      8.000451       7.739544         7.954319\n",
              "           HSCE.VolRealGARCH HSCE.VolRealEGARCH HSCE.VolRealGJRGARCH\n",
              "2000-01-04          3.571220           3.571220             3.571220\n",
              "2000-01-05          3.604257           3.604962             3.605074\n",
              "2000-01-06          4.455592           4.251525             4.233212\n",
              "2000-01-07          6.857130           6.377200             7.268636\n",
              "2000-01-10          6.911440           6.829944             7.406316\n",
              "2000-01-11          8.179029           7.821011             8.269972\n",
              "           HSCE.VolMSGARCH HSCE.VolMSEGARCH HSCE.VolMSGJRGARCH\n",
              "2000-01-04        3.159134         2.915017           2.909357\n",
              "2000-01-05        3.137096         2.872749           2.868626\n",
              "2000-01-06        5.526866         5.707034           5.227537\n",
              "2000-01-07        5.301528         5.470443           5.041044\n",
              "2000-01-10        5.380186         5.574312           5.070780\n",
              "2000-01-11        5.149558         5.236848           4.853094"
            ]
          },
          "metadata": {
            "tags": []
          }
        }
      ]
    },
    {
      "cell_type": "markdown",
      "metadata": {
        "id": "P34LgaLxXaiv"
      },
      "source": [
        "## 9. Sample split: in-sample (70%) and out-sample (30%)"
      ],
      "id": "P34LgaLxXaiv"
    },
    {
      "cell_type": "code",
      "metadata": {
        "id": "oEXlnm7ZXl3S",
        "colab": {
          "base_uri": "https://localhost:8080/",
          "height": 34
        },
        "outputId": "d4d9eef7-7efe-4b04-f686-dd2119767ba7"
      },
      "source": [
        "# Total number of lines \n",
        "nrow(HSCE.df)                "
      ],
      "id": "oEXlnm7ZXl3S",
      "execution_count": 59,
      "outputs": [
        {
          "output_type": "display_data",
          "data": {
            "text/plain": [
              "[1] 5230"
            ],
            "text/latex": "5230",
            "text/markdown": "5230",
            "text/html": [
              "5230"
            ]
          },
          "metadata": {
            "tags": []
          }
        }
      ]
    },
    {
      "cell_type": "code",
      "metadata": {
        "id": "yBa5ZL9QXw0J",
        "colab": {
          "base_uri": "https://localhost:8080/",
          "height": 34
        },
        "outputId": "3cdc5ec4-ca1f-4d06-d5f4-28ef2734bc60"
      },
      "source": [
        "# Cut-line\n",
        "round(nrow(HSCE.df)*0.7, digits = 0)"
      ],
      "id": "yBa5ZL9QXw0J",
      "execution_count": 60,
      "outputs": [
        {
          "output_type": "display_data",
          "data": {
            "text/plain": [
              "[1] 3661"
            ],
            "text/latex": "3661",
            "text/markdown": "3661",
            "text/html": [
              "3661"
            ]
          },
          "metadata": {
            "tags": []
          }
        }
      ]
    },
    {
      "cell_type": "code",
      "metadata": {
        "id": "dlcRWLpoXzN_",
        "colab": {
          "base_uri": "https://localhost:8080/",
          "height": 34
        },
        "outputId": "bebac29b-55d7-40a5-e2c4-ccd2eb1fc4c2"
      },
      "source": [
        "# In-sample\n",
        "HSCE.df.in <- HSCE.df[1:round(nrow(HSCE.df)*0.7, digits = 0),]\n",
        "dim(HSCE.df.in)"
      ],
      "id": "dlcRWLpoXzN_",
      "execution_count": 61,
      "outputs": [
        {
          "output_type": "display_data",
          "data": {
            "text/plain": [
              "[1] 3661   11"
            ],
            "text/latex": "\\begin{enumerate*}\n\\item 3661\n\\item 11\n\\end{enumerate*}\n",
            "text/markdown": "1. 3661\n2. 11\n\n\n",
            "text/html": [
              "<style>\n",
              ".list-inline {list-style: none; margin:0; padding: 0}\n",
              ".list-inline>li {display: inline-block}\n",
              ".list-inline>li:not(:last-child)::after {content: \"\\00b7\"; padding: 0 .5ex}\n",
              "</style>\n",
              "<ol class=list-inline><li>3661</li><li>11</li></ol>\n"
            ]
          },
          "metadata": {
            "tags": []
          }
        }
      ]
    },
    {
      "cell_type": "code",
      "metadata": {
        "id": "ZaKAIY7iX2SE",
        "colab": {
          "base_uri": "https://localhost:8080/",
          "height": 34
        },
        "outputId": "57b24bb5-e07e-49ad-c698-e8e6816e243d"
      },
      "source": [
        "# Out-sample\n",
        "HSCE.df.out <- HSCE.df[(round(nrow(HSCE.df)*0.7, digits = 0)+1):nrow(HSCE.df),]\n",
        "dim(HSCE.df.out)"
      ],
      "id": "ZaKAIY7iX2SE",
      "execution_count": 62,
      "outputs": [
        {
          "output_type": "display_data",
          "data": {
            "text/plain": [
              "[1] 1569   11"
            ],
            "text/latex": "\\begin{enumerate*}\n\\item 1569\n\\item 11\n\\end{enumerate*}\n",
            "text/markdown": "1. 1569\n2. 11\n\n\n",
            "text/html": [
              "<style>\n",
              ".list-inline {list-style: none; margin:0; padding: 0}\n",
              ".list-inline>li {display: inline-block}\n",
              ".list-inline>li:not(:last-child)::after {content: \"\\00b7\"; padding: 0 .5ex}\n",
              "</style>\n",
              "<ol class=list-inline><li>1569</li><li>11</li></ol>\n"
            ]
          },
          "metadata": {
            "tags": []
          }
        }
      ]
    },
    {
      "cell_type": "markdown",
      "metadata": {
        "id": "Ae_49vbJJAY1"
      },
      "source": [
        "# 10. Forecast - GARCH models"
      ],
      "id": "Ae_49vbJJAY1"
    },
    {
      "cell_type": "code",
      "metadata": {
        "id": "-eJ97HPPJEH5",
        "colab": {
          "base_uri": "https://localhost:8080/"
        },
        "outputId": "3c62de9f-dcf6-4cdd-964c-61db3c7b91d1"
      },
      "source": [
        "# Packages\n",
        "install.packages('Metrics')\n",
        "install.packages('MLmetrics')\n",
        "install.packages('multDM')\n",
        "install.packages('MCS')\n",
        "install.packages('sandwich')\n",
        "install.packages('lmtest')\n",
        "install.packages('forecast')\n",
        "\n",
        "library(Metrics)\n",
        "library(MLmetrics)\n",
        "library(multDM)\n",
        "library(MCS)\n",
        "library(sandwich)\n",
        "library(lmtest)\n",
        "library(forecast)"
      ],
      "id": "-eJ97HPPJEH5",
      "execution_count": 63,
      "outputs": [
        {
          "output_type": "stream",
          "text": [
            "Installing package into ‘/usr/local/lib/R/site-library’\n",
            "(as ‘lib’ is unspecified)\n",
            "\n",
            "Installing package into ‘/usr/local/lib/R/site-library’\n",
            "(as ‘lib’ is unspecified)\n",
            "\n",
            "Installing package into ‘/usr/local/lib/R/site-library’\n",
            "(as ‘lib’ is unspecified)\n",
            "\n",
            "Installing package into ‘/usr/local/lib/R/site-library’\n",
            "(as ‘lib’ is unspecified)\n",
            "\n",
            "Installing package into ‘/usr/local/lib/R/site-library’\n",
            "(as ‘lib’ is unspecified)\n",
            "\n",
            "Installing package into ‘/usr/local/lib/R/site-library’\n",
            "(as ‘lib’ is unspecified)\n",
            "\n",
            "Installing package into ‘/usr/local/lib/R/site-library’\n",
            "(as ‘lib’ is unspecified)\n",
            "\n",
            "\n",
            "Attaching package: ‘MLmetrics’\n",
            "\n",
            "\n",
            "The following object is masked from ‘package:base’:\n",
            "\n",
            "    Recall\n",
            "\n",
            "\n",
            "Registered S3 methods overwritten by 'forecast':\n",
            "  method       from\n",
            "  fitted.Arima TSA \n",
            "  plot.Arima   TSA \n",
            "\n",
            "\n",
            "Attaching package: ‘forecast’\n",
            "\n",
            "\n",
            "The following object is masked from ‘package:Metrics’:\n",
            "\n",
            "    accuracy\n",
            "\n",
            "\n",
            "The following object is masked from ‘package:FinTS’:\n",
            "\n",
            "    Acf\n",
            "\n",
            "\n",
            "The following object is masked from ‘package:aTSA’:\n",
            "\n",
            "    forecast\n",
            "\n",
            "\n"
          ],
          "name": "stderr"
        }
      ]
    },
    {
      "cell_type": "markdown",
      "metadata": {
        "id": "eDF61ZNDK7-L"
      },
      "source": [
        "## (a) Linear GARCH"
      ],
      "id": "eDF61ZNDK7-L"
    },
    {
      "cell_type": "markdown",
      "metadata": {
        "id": "zQvg4fhykI3G"
      },
      "source": [
        "**Forecast**"
      ],
      "id": "zQvg4fhykI3G"
    },
    {
      "cell_type": "code",
      "metadata": {
        "id": "4kWDFtEyQj8x"
      },
      "source": [
        "# Model specification\n",
        "garch.spec.pred <- garch.spec\n",
        "setfixed(garch.spec.pred) <- as.list(coef(garch.fit))"
      ],
      "id": "4kWDFtEyQj8x",
      "execution_count": 64,
      "outputs": []
    },
    {
      "cell_type": "code",
      "metadata": {
        "id": "LJ35908xRCpF"
      },
      "source": [
        "# Model adjustment\n",
        "garch.fit.pred <- ugarchfit(garch.spec,\n",
        "                            HSCE.df$HSCE.Return,\n",
        "                            out.sample = dim(HSCE.df.out)[1])"
      ],
      "id": "LJ35908xRCpF",
      "execution_count": 65,
      "outputs": []
    },
    {
      "cell_type": "code",
      "metadata": {
        "id": "Q6VYCPYGSISr"
      },
      "source": [
        "# Forecast calculated through adjustment\n",
        "garch.pred.a <- ugarchforecast(garch.fit.pred,\n",
        "                               n.ahead = 1,\n",
        "                               n.roll = dim(HSCE.df.out)[1])\n",
        "\n",
        "garch.forecast.a <- xts(sigma(garch.pred.a)[1,],\n",
        "                       move(as.Date(names(sigma(garch.pred.a)[1,])), by = 1))"
      ],
      "id": "Q6VYCPYGSISr",
      "execution_count": 66,
      "outputs": []
    },
    {
      "cell_type": "code",
      "metadata": {
        "id": "E5KGemi8gXh2"
      },
      "source": [
        "# Forecast calculated using specification\n",
        "garch.pred.b <- ugarchforecast(garch.spec.pred,\n",
        "                               n.ahead = 1,\n",
        "                               n.roll = dim(HSCE.df.out)[1],\n",
        "                               data = HSCE.df$HSCE.Return,\n",
        "                               out.sample = dim(HSCE.df.out)[1])\n",
        "\n",
        "garch.forecast.b <- xts(sigma(garch.pred.b)[1,],\n",
        "                        move(as.Date(names(sigma(garch.pred.b)[1,])), by = 1))  "
      ],
      "id": "E5KGemi8gXh2",
      "execution_count": 67,
      "outputs": []
    },
    {
      "cell_type": "code",
      "metadata": {
        "id": "Yg9KKURbgy7R"
      },
      "source": [
        "# Model filtering\n",
        "garch.filt.pred <- ugarchfilter(garch.spec.pred,\n",
        "                                data = HSCE.df$HSCE.Return,\n",
        "                                n.old = nrow(HSCE.df) - dim(HSCE.df.out)[1])\n",
        "\n",
        "garch.filt <- tail(sigma(garch.filt.pred), dim(HSCE.df.out)[1])                                 "
      ],
      "id": "Yg9KKURbgy7R",
      "execution_count": 68,
      "outputs": []
    },
    {
      "cell_type": "code",
      "metadata": {
        "id": "9p-8qghPVjR8",
        "colab": {
          "base_uri": "https://localhost:8080/",
          "height": 136
        },
        "outputId": "09ac7051-961b-422f-83d5-825cfac351d3"
      },
      "source": [
        "# Comparative\n",
        "colnames(garch.filt) <- 'filter'\n",
        "colnames(garch.forecast.a) <- 'forecast1'\n",
        "colnames(garch.forecast.b) <- 'forecast2'\n",
        "\n",
        "garch.ftest <- cbind(garch.filt,\n",
        "                    garch.forecast.a,\n",
        "                    garch.forecast.b)\n",
        "head(round(garch.ftest, digits = 4))"
      ],
      "id": "9p-8qghPVjR8",
      "execution_count": 69,
      "outputs": [
        {
          "output_type": "display_data",
          "data": {
            "text/plain": [
              "           filter forecast1 forecast2\n",
              "2015-01-14 1.5449    1.5552    1.5449\n",
              "2015-01-15 1.5000    1.5089    1.5000\n",
              "2015-01-16 1.5003    1.5085    1.5003\n",
              "2015-01-19 1.4741    1.4831    1.4741\n",
              "2015-01-20 1.9577    2.0034    1.9577\n",
              "2015-01-21 1.9771    2.0203    1.9771"
            ]
          },
          "metadata": {
            "tags": []
          }
        }
      ]
    },
    {
      "cell_type": "code",
      "metadata": {
        "id": "XvWtLYxOK7cE",
        "colab": {
          "base_uri": "https://localhost:8080/",
          "height": 252
        },
        "outputId": "7cfc528b-06b3-454b-afc2-274e94bacc3c"
      },
      "source": [
        "sigma.garch.pred.a <- ts(garch.forecast.a[-1,])\n",
        "sigma.garch.pred.b <- ts(garch.forecast.b[-1,])\n",
        "sigma.garch.true <- ts(HSCE.df.out$HSCE.VolGARCH)\n",
        "\n",
        "sigma.garch <- na.omit(cbind(sigma.garch.pred.a, \n",
        "                            sigma.garch.pred.b,\n",
        "                            sigma.garch.true))\n",
        "head(sigma.garch)"
      ],
      "id": "XvWtLYxOK7cE",
      "execution_count": 70,
      "outputs": [
        {
          "output_type": "display_data",
          "data": {
            "text/plain": [
              "  sigma.garch.pred.a sigma.garch.pred.b sigma.garch.true\n",
              "1 1.508933           1.500011           2.386833        \n",
              "2 1.508453           1.500263           2.250034        \n",
              "3 1.483109           1.474136           2.250790        \n",
              "4 2.003415           1.957665           2.173077        \n",
              "5 2.020277           1.977121           3.832454        \n",
              "6 2.040647           1.999698           3.909006        "
            ],
            "text/latex": "A Time Series: 6 × 3\n\\begin{tabular}{r|lll}\n  & sigma.garch.pred.a & sigma.garch.pred.b & sigma.garch.true\\\\\n\\hline\n\t1 & 1.508933 & 1.500011 & 2.386833\\\\\n\t2 & 1.508453 & 1.500263 & 2.250034\\\\\n\t3 & 1.483109 & 1.474136 & 2.250790\\\\\n\t4 & 2.003415 & 1.957665 & 2.173077\\\\\n\t5 & 2.020277 & 1.977121 & 3.832454\\\\\n\t6 & 2.040647 & 1.999698 & 3.909006\\\\\n\\end{tabular}\n",
            "text/markdown": "\nA Time Series: 6 × 3\n\n| <!--/--> | sigma.garch.pred.a | sigma.garch.pred.b | sigma.garch.true |\n|---|---|---|---|\n| 1 | 1.508933 | 1.500011 | 2.386833 |\n| 2 | 1.508453 | 1.500263 | 2.250034 |\n| 3 | 1.483109 | 1.474136 | 2.250790 |\n| 4 | 2.003415 | 1.957665 | 2.173077 |\n| 5 | 2.020277 | 1.977121 | 3.832454 |\n| 6 | 2.040647 | 1.999698 | 3.909006 |\n\n",
            "text/html": [
              "<table class=\"dataframe\">\n",
              "<caption>A Time Series: 6 × 3</caption>\n",
              "<thead>\n",
              "\t<tr><th></th><th scope=col>sigma.garch.pred.a</th><th scope=col>sigma.garch.pred.b</th><th scope=col>sigma.garch.true</th></tr>\n",
              "</thead>\n",
              "<tbody>\n",
              "\t<tr><th scope=row>1</th><td>1.508933</td><td>1.500011</td><td>2.386833</td></tr>\n",
              "\t<tr><th scope=row>2</th><td>1.508453</td><td>1.500263</td><td>2.250034</td></tr>\n",
              "\t<tr><th scope=row>3</th><td>1.483109</td><td>1.474136</td><td>2.250790</td></tr>\n",
              "\t<tr><th scope=row>4</th><td>2.003415</td><td>1.957665</td><td>2.173077</td></tr>\n",
              "\t<tr><th scope=row>5</th><td>2.020277</td><td>1.977121</td><td>3.832454</td></tr>\n",
              "\t<tr><th scope=row>6</th><td>2.040647</td><td>1.999698</td><td>3.909006</td></tr>\n",
              "</tbody>\n",
              "</table>\n"
            ]
          },
          "metadata": {
            "tags": []
          }
        }
      ]
    },
    {
      "cell_type": "markdown",
      "metadata": {
        "id": "mSx7eTn3kPct"
      },
      "source": [
        "**Performance evaluation**"
      ],
      "id": "mSx7eTn3kPct"
    },
    {
      "cell_type": "code",
      "metadata": {
        "id": "U_o8n_8ckYWr",
        "colab": {
          "base_uri": "https://localhost:8080/",
          "height": 51
        },
        "outputId": "64315994-f7f2-4a92-e32e-4a5e03f053bd"
      },
      "source": [
        "# Forecast Error - Forecast a\n",
        "garch.error.a <- sigma.garch[,'sigma.garch.pred.a'] - sigma.garch[,'sigma.garch.true']\n",
        "head(garch.error.a)"
      ],
      "id": "U_o8n_8ckYWr",
      "execution_count": 71,
      "outputs": [
        {
          "output_type": "display_data",
          "data": {
            "text/plain": [
              "A Time Series:\n",
              "[1] -0.8779004 -0.7415806 -0.7676818 -0.1696616 -1.8121766 -1.8683587"
            ],
            "text/latex": "A Time Series:\\\\\\begin{enumerate*}\n\\item -0.877900445892633\n\\item -0.741580635181821\n\\item -0.767681819287717\n\\item -0.169661637691233\n\\item -1.81217664232024\n\\item -1.86835870368867\n\\end{enumerate*}\n",
            "text/markdown": "A Time Series:  \n1. -0.877900445892633\n2. -0.741580635181821\n3. -0.767681819287717\n4. -0.169661637691233\n5. -1.81217664232024\n6. -1.86835870368867\n\n\n",
            "text/html": [
              "A Time Series:<br><style>\n",
              ".list-inline {list-style: none; margin:0; padding: 0}\n",
              ".list-inline>li {display: inline-block}\n",
              ".list-inline>li:not(:last-child)::after {content: \"\\00b7\"; padding: 0 .5ex}\n",
              "</style>\n",
              "<ol class=list-inline><li>-0.877900445892633</li><li>-0.741580635181821</li><li>-0.767681819287717</li><li>-0.169661637691233</li><li>-1.81217664232024</li><li>-1.86835870368867</li></ol>\n"
            ]
          },
          "metadata": {
            "tags": []
          }
        }
      ]
    },
    {
      "cell_type": "code",
      "metadata": {
        "id": "hrJcPxcLlIy3",
        "colab": {
          "base_uri": "https://localhost:8080/",
          "height": 51
        },
        "outputId": "35123b46-8bab-4b19-8c87-33f11bec3e68"
      },
      "source": [
        "# Forecast Error - Forecast b\n",
        "garch.error.b <- sigma.garch[,'sigma.garch.pred.b'] - sigma.garch[,'sigma.garch.true']\n",
        "head(garch.error.b)"
      ],
      "id": "hrJcPxcLlIy3",
      "execution_count": 72,
      "outputs": [
        {
          "output_type": "display_data",
          "data": {
            "text/plain": [
              "A Time Series:\n",
              "[1] -0.8868219 -0.7497706 -0.7766545 -0.2154114 -1.8553333 -1.9093076"
            ],
            "text/latex": "A Time Series:\\\\\\begin{enumerate*}\n\\item -0.886821927191877\n\\item -0.74977064011731\n\\item -0.776654488410039\n\\item -0.215411430119174\n\\item -1.85533325819151\n\\item -1.90930755461653\n\\end{enumerate*}\n",
            "text/markdown": "A Time Series:  \n1. -0.886821927191877\n2. -0.74977064011731\n3. -0.776654488410039\n4. -0.215411430119174\n5. -1.85533325819151\n6. -1.90930755461653\n\n\n",
            "text/html": [
              "A Time Series:<br><style>\n",
              ".list-inline {list-style: none; margin:0; padding: 0}\n",
              ".list-inline>li {display: inline-block}\n",
              ".list-inline>li:not(:last-child)::after {content: \"\\00b7\"; padding: 0 .5ex}\n",
              "</style>\n",
              "<ol class=list-inline><li>-0.886821927191877</li><li>-0.74977064011731</li><li>-0.776654488410039</li><li>-0.215411430119174</li><li>-1.85533325819151</li><li>-1.90930755461653</li></ol>\n"
            ]
          },
          "metadata": {
            "tags": []
          }
        }
      ]
    },
    {
      "cell_type": "code",
      "metadata": {
        "id": "vVvmYhWSK6Jx",
        "colab": {
          "base_uri": "https://localhost:8080/",
          "height": 34
        },
        "outputId": "cf17b936-4fb7-4610-d125-4ed60a5e1f03"
      },
      "source": [
        "# Mean Square Error Loss - Forecast a\n",
        "garch.mse.a <- MSE(sigma.garch[,'sigma.garch.pred.a'], \n",
        "                  sigma.garch[,'sigma.garch.true'])\n",
        "round(garch.mse.a, digits = 3)     "
      ],
      "id": "vVvmYhWSK6Jx",
      "execution_count": 73,
      "outputs": [
        {
          "output_type": "display_data",
          "data": {
            "text/plain": [
              "[1] 1.131"
            ],
            "text/latex": "1.131",
            "text/markdown": "1.131",
            "text/html": [
              "1.131"
            ]
          },
          "metadata": {
            "tags": []
          }
        }
      ]
    },
    {
      "cell_type": "code",
      "metadata": {
        "id": "P64kl9rCllXj",
        "colab": {
          "base_uri": "https://localhost:8080/",
          "height": 34
        },
        "outputId": "6bea3100-23e3-4874-91f7-dbf500561075"
      },
      "source": [
        "# Mean Square Error Loss - Forecast b\n",
        "garch.mse.b <- MSE(sigma.garch[,'sigma.garch.pred.b'],\n",
        "                  sigma.garch[,'sigma.garch.true'])\n",
        "round(garch.mse.b, digits = 3) "
      ],
      "id": "P64kl9rCllXj",
      "execution_count": 74,
      "outputs": [
        {
          "output_type": "display_data",
          "data": {
            "text/plain": [
              "[1] 1.172"
            ],
            "text/latex": "1.172",
            "text/markdown": "1.172",
            "text/html": [
              "1.172"
            ]
          },
          "metadata": {
            "tags": []
          }
        }
      ]
    },
    {
      "cell_type": "code",
      "metadata": {
        "id": "ahWBmWNDLabm",
        "colab": {
          "base_uri": "https://localhost:8080/",
          "height": 34
        },
        "outputId": "513d00cc-1504-4314-8a26-03486f85e9fe"
      },
      "source": [
        "# Mean Absolute Error Loss - Forecast a\n",
        "garch.mae.a <- MAE(sigma.garch[,'sigma.garch.pred.a'], \n",
        "                  sigma.garch[,'sigma.garch.true'])\n",
        "round(garch.mae.a, digits = 3)"
      ],
      "id": "ahWBmWNDLabm",
      "execution_count": 75,
      "outputs": [
        {
          "output_type": "display_data",
          "data": {
            "text/plain": [
              "[1] 0.652"
            ],
            "text/latex": "0.652",
            "text/markdown": "0.652",
            "text/html": [
              "0.652"
            ]
          },
          "metadata": {
            "tags": []
          }
        }
      ]
    },
    {
      "cell_type": "code",
      "metadata": {
        "id": "0K7TTaZNl2Y4",
        "colab": {
          "base_uri": "https://localhost:8080/",
          "height": 34
        },
        "outputId": "19a54570-5979-4e6c-aaad-4c4861a131c5"
      },
      "source": [
        "# Mean Absolute Error Loss - Forecast b\n",
        "garch.mae.b <- MAE(sigma.garch[,'sigma.garch.pred.b'], \n",
        "                  sigma.garch[,'sigma.garch.true'])\n",
        "round(garch.mae.b, digits = 3)"
      ],
      "id": "0K7TTaZNl2Y4",
      "execution_count": 76,
      "outputs": [
        {
          "output_type": "display_data",
          "data": {
            "text/plain": [
              "[1] 0.671"
            ],
            "text/latex": "0.671",
            "text/markdown": "0.671",
            "text/html": [
              "0.671"
            ]
          },
          "metadata": {
            "tags": []
          }
        }
      ]
    },
    {
      "cell_type": "code",
      "metadata": {
        "id": "BQXtSoWcLeK6",
        "colab": {
          "base_uri": "https://localhost:8080/",
          "height": 34
        },
        "outputId": "ccbb528c-1c02-4f1a-9db3-d32418a70df3"
      },
      "source": [
        "# Root Mean Square Error Loss - Forecast a\n",
        "garch.rmse.a <- RMSE(sigma.garch[,'sigma.garch.pred.a'], \n",
        "                    sigma.garch[,'sigma.garch.true'])\n",
        "round(garch.rmse.a, digits = 3)"
      ],
      "id": "BQXtSoWcLeK6",
      "execution_count": 77,
      "outputs": [
        {
          "output_type": "display_data",
          "data": {
            "text/plain": [
              "[1] 1.063"
            ],
            "text/latex": "1.063",
            "text/markdown": "1.063",
            "text/html": [
              "1.063"
            ]
          },
          "metadata": {
            "tags": []
          }
        }
      ]
    },
    {
      "cell_type": "code",
      "metadata": {
        "id": "hIrzvC1CmNvg",
        "colab": {
          "base_uri": "https://localhost:8080/",
          "height": 34
        },
        "outputId": "3b0b46e3-3578-4fa6-cf41-2a7c7172c8a0"
      },
      "source": [
        "# Root Mean Square Error Loss - Forecast b\n",
        "garch.rmse.b <- RMSE(sigma.garch[,'sigma.garch.pred.b'], \n",
        "                    sigma.garch[,'sigma.garch.true'])\n",
        "round(garch.rmse.b, digits = 3)"
      ],
      "id": "hIrzvC1CmNvg",
      "execution_count": 78,
      "outputs": [
        {
          "output_type": "display_data",
          "data": {
            "text/plain": [
              "[1] 1.083"
            ],
            "text/latex": "1.083",
            "text/markdown": "1.083",
            "text/html": [
              "1.083"
            ]
          },
          "metadata": {
            "tags": []
          }
        }
      ]
    },
    {
      "cell_type": "code",
      "metadata": {
        "id": "hla4zyfwnSkl",
        "colab": {
          "base_uri": "https://localhost:8080/",
          "height": 34
        },
        "outputId": "8ff3a673-a60d-4155-f352-ddf422e8baf7"
      },
      "source": [
        "# Quasi-likelihood loss function - forecast a\n",
        "h <- sigma.garch[,'sigma.garch.true']\n",
        "\n",
        "h.hat.a <- sigma.garch[,'sigma.garch.pred.a']     \n",
        "garch.qlike.a <- mean(log(sqrt(h)) + h.hat.a/sqrt(h))\n",
        "round(garch.qlike.a, digits = 5) "
      ],
      "id": "hla4zyfwnSkl",
      "execution_count": 79,
      "outputs": [
        {
          "output_type": "display_data",
          "data": {
            "text/plain": [
              "[1] 1.30842"
            ],
            "text/latex": "1.30842",
            "text/markdown": "1.30842",
            "text/html": [
              "1.30842"
            ]
          },
          "metadata": {
            "tags": []
          }
        }
      ]
    },
    {
      "cell_type": "code",
      "metadata": {
        "id": "V13-JFWyn-r0",
        "colab": {
          "base_uri": "https://localhost:8080/",
          "height": 34
        },
        "outputId": "68ed7716-12bd-442d-818b-127d3ddc3d64"
      },
      "source": [
        "# Quasi-likelihood loss function - forecast b\n",
        "h.hat.b <- sigma.garch[,'sigma.garch.pred.b']\n",
        "garch.qlike.b <- mean(log(sqrt(h)) + h.hat.b/sqrt(h))\n",
        "round(garch.qlike.b, digits = 5)   "
      ],
      "id": "V13-JFWyn-r0",
      "execution_count": 80,
      "outputs": [
        {
          "output_type": "display_data",
          "data": {
            "text/plain": [
              "[1] 1.29171"
            ],
            "text/latex": "1.29171",
            "text/markdown": "1.29171",
            "text/html": [
              "1.29171"
            ]
          },
          "metadata": {
            "tags": []
          }
        }
      ]
    },
    {
      "cell_type": "code",
      "metadata": {
        "id": "kDFbGnTIoLi9",
        "colab": {
          "base_uri": "https://localhost:8080/",
          "height": 119
        },
        "outputId": "826cc98e-33a4-4dfd-8c44-ef9f2a8be945"
      },
      "source": [
        "# Diebold-Mariano Test (accuracy test) - test 1\n",
        "f.a <- sigma.garch[,'sigma.garch.pred.a']\n",
        "f.b <- sigma.garch[,'sigma.garch.pred.b']\n",
        "y <- sigma.garch[,'sigma.garch.true']\n",
        "\n",
        "DM.test(f.a, f.b, y, loss.type = \"SE\", c = FALSE, H1 = \"same\")"
      ],
      "id": "kDFbGnTIoLi9",
      "execution_count": 81,
      "outputs": [
        {
          "output_type": "display_data",
          "data": {
            "text/plain": [
              "\n",
              "\tDiebold-Mariano test\n",
              "\n",
              "data:  f.a and f.b and y\n",
              "statistic = -17.449, forecast horizon = 1, p-value < 2.2e-16\n",
              "alternative hypothesis: Forecast f1 and f2 have different accuracy.\n"
            ]
          },
          "metadata": {
            "tags": []
          }
        }
      ]
    },
    {
      "cell_type": "code",
      "metadata": {
        "id": "FLLLPUQtoyZS",
        "colab": {
          "base_uri": "https://localhost:8080/",
          "height": 136
        },
        "outputId": "30ca0237-82db-48bc-fc23-9ef1699019bb"
      },
      "source": [
        "# Diebold-Mariano test for predictive accuracy - test 2\n",
        "e.a <- garch.error.a\n",
        "e.b <- garch.error.b\n",
        "\n",
        "dm.test(e.a, e.b, alternative = \"two.sided\", h = 1, power = 2)"
      ],
      "id": "FLLLPUQtoyZS",
      "execution_count": 82,
      "outputs": [
        {
          "output_type": "display_data",
          "data": {
            "text/plain": [
              "\n",
              "\tDiebold-Mariano Test\n",
              "\n",
              "data:  e.ae.b\n",
              "DM = -17.443, Forecast horizon = 1, Loss function power = 2, p-value <\n",
              "2.2e-16\n",
              "alternative hypothesis: two.sided\n"
            ]
          },
          "metadata": {
            "tags": []
          }
        }
      ]
    },
    {
      "cell_type": "code",
      "metadata": {
        "id": "K8wRfezFrxtJ",
        "colab": {
          "base_uri": "https://localhost:8080/",
          "height": 34
        },
        "outputId": "1943901f-f212-4295-ecd8-e9199a3bfb99"
      },
      "source": [
        "# Quasi-likelihood Loss Function For Volatility Forecasts - forecast a\n",
        "garch.qlike.a <- mean(LossVol(sigma.garch[,'sigma.garch.true'],\n",
        "                              sigma.garch[,'sigma.garch.pred.a'],\n",
        "                              which = \"QLIKE\"))\n",
        "round(garch.qlike.a, digits = 3)"
      ],
      "id": "K8wRfezFrxtJ",
      "execution_count": 83,
      "outputs": [
        {
          "output_type": "display_data",
          "data": {
            "text/plain": [
              "[1] 2.602"
            ],
            "text/latex": "2.602",
            "text/markdown": "2.602",
            "text/html": [
              "2.602"
            ]
          },
          "metadata": {
            "tags": []
          }
        }
      ]
    },
    {
      "cell_type": "code",
      "metadata": {
        "id": "HUVoT5c5sFMt",
        "colab": {
          "base_uri": "https://localhost:8080/",
          "height": 34
        },
        "outputId": "9641f144-e3b0-4641-8779-deb47012a802"
      },
      "source": [
        "# Quasi-likelihood Loss Function For Volatility Forecasts - forecast 1b\n",
        "garch.qlike.b <- mean(LossVol(sigma.garch[,'sigma.garch.true'],\n",
        "                              sigma.garch[,'sigma.garch.pred.b'],\n",
        "                              which = \"QLIKE\"))\n",
        "round(garch.qlike.b, digits = 3)"
      ],
      "id": "HUVoT5c5sFMt",
      "execution_count": 84,
      "outputs": [
        {
          "output_type": "display_data",
          "data": {
            "text/plain": [
              "[1] 2.635"
            ],
            "text/latex": "2.635",
            "text/markdown": "2.635",
            "text/html": [
              "2.635"
            ]
          },
          "metadata": {
            "tags": []
          }
        }
      ]
    },
    {
      "cell_type": "code",
      "metadata": {
        "id": "9BsA_6HBsOJV",
        "colab": {
          "base_uri": "https://localhost:8080/",
          "height": 34
        },
        "outputId": "2c4f065a-d94e-4480-812b-a9a7818f9131"
      },
      "source": [
        "# Log loss / Cross-Entropy Loss -  forecast a\n",
        "garch.logloss.a <- LogLoss(sigma.garch[,'sigma.garch.pred.a'],\n",
        "                           sigma.garch[,'sigma.garch.true'])\n",
        "round(garch.logloss.a, digits = 3)"
      ],
      "id": "9BsA_6HBsOJV",
      "execution_count": 85,
      "outputs": [
        {
          "output_type": "display_data",
          "data": {
            "text/plain": [
              "[1] -35.978"
            ],
            "text/latex": "-35.978",
            "text/markdown": "-35.978",
            "text/html": [
              "-35.978"
            ]
          },
          "metadata": {
            "tags": []
          }
        }
      ]
    },
    {
      "cell_type": "code",
      "metadata": {
        "id": "WYgOyvussxPG",
        "colab": {
          "base_uri": "https://localhost:8080/",
          "height": 34
        },
        "outputId": "2593e691-0363-49bf-f185-7169bbaeb7d7"
      },
      "source": [
        "# Log loss / Cross-Entropy Loss -  forecast b\n",
        "garch.logloss.b <- LogLoss(sigma.garch[,'sigma.garch.pred.b'],\n",
        "                           sigma.garch[,'sigma.garch.true'])\n",
        "round(garch.logloss.b, digits = 3)"
      ],
      "id": "WYgOyvussxPG",
      "execution_count": 86,
      "outputs": [
        {
          "output_type": "display_data",
          "data": {
            "text/plain": [
              "[1] -35.983"
            ],
            "text/latex": "-35.983",
            "text/markdown": "-35.983",
            "text/html": [
              "-35.983"
            ]
          },
          "metadata": {
            "tags": []
          }
        }
      ]
    },
    {
      "cell_type": "code",
      "metadata": {
        "id": "fvV0JmWWs_-H",
        "colab": {
          "base_uri": "https://localhost:8080/",
          "height": 170
        },
        "outputId": "7c6d6d58-cf1a-4292-aa13-59be8f2b02ac"
      },
      "source": [
        "# Linear regression to assess forecast performance - forecast a\n",
        "garch.model.a <- lm(sigma.garch.true ~ sigma.garch.pred.a, \n",
        "                    data = sigma.garch)\n",
        "round(coeftest(garch.model.a, NeweyWest(garch.model.a,\n",
        "                                        lag = bwNeweyWest(garch.model.a),\n",
        "                                        prewhite = F)), 3)\n",
        "round(summary(garch.model.a)$adj.r.squared, 3)"
      ],
      "id": "fvV0JmWWs_-H",
      "execution_count": 87,
      "outputs": [
        {
          "output_type": "display_data",
          "data": {
            "text/plain": [
              "\n",
              "t test of coefficients:\n",
              "\n",
              "                   Estimate Std. Error t value  Pr(>|t|)    \n",
              "(Intercept)          -2.354      0.157 -14.994 < 2.2e-16 ***\n",
              "sigma.garch.pred.a    3.132      0.120  26.172 < 2.2e-16 ***\n",
              "---\n",
              "Signif. codes:  0 ‘***’ 0.001 ‘**’ 0.01 ‘*’ 0.05 ‘.’ 0.1 ‘ ’ 1\n"
            ]
          },
          "metadata": {
            "tags": []
          }
        },
        {
          "output_type": "display_data",
          "data": {
            "text/plain": [
              "[1] 0.936"
            ],
            "text/latex": "0.936",
            "text/markdown": "0.936",
            "text/html": [
              "0.936"
            ]
          },
          "metadata": {
            "tags": []
          }
        }
      ]
    },
    {
      "cell_type": "code",
      "metadata": {
        "id": "BKQCfwbmWcez",
        "colab": {
          "base_uri": "https://localhost:8080/",
          "height": 170
        },
        "outputId": "09dd3916-9579-42fb-a8c8-a4d4ffd61f37"
      },
      "source": [
        "# Linear regression to assess forecast performance - forecast b\n",
        "garch.model.b <- lm(sigma.garch.true ~ sigma.garch.pred.b, \n",
        "                    data = sigma.garch)\n",
        "round(coeftest(garch.model.b, NeweyWest(garch.model.b,\n",
        "                                        lag = bwNeweyWest(garch.model.b),\n",
        "                                        prewhite = F)), 3)\n",
        "round(summary(garch.model.b)$adj.r.squared, 3)"
      ],
      "id": "BKQCfwbmWcez",
      "execution_count": 88,
      "outputs": [
        {
          "output_type": "display_data",
          "data": {
            "text/plain": [
              "\n",
              "t test of coefficients:\n",
              "\n",
              "                   Estimate Std. Error t value  Pr(>|t|)    \n",
              "(Intercept)          -2.379      0.161 -14.803 < 2.2e-16 ***\n",
              "sigma.garch.pred.b    3.202      0.124  25.823 < 2.2e-16 ***\n",
              "---\n",
              "Signif. codes:  0 ‘***’ 0.001 ‘**’ 0.01 ‘*’ 0.05 ‘.’ 0.1 ‘ ’ 1\n"
            ]
          },
          "metadata": {
            "tags": []
          }
        },
        {
          "output_type": "display_data",
          "data": {
            "text/plain": [
              "[1] 0.938"
            ],
            "text/latex": "0.938",
            "text/markdown": "0.938",
            "text/html": [
              "0.938"
            ]
          },
          "metadata": {
            "tags": []
          }
        }
      ]
    },
    {
      "cell_type": "markdown",
      "metadata": {
        "id": "qYxZcfeREZ3G"
      },
      "source": [
        "##(b) EGARCH"
      ],
      "id": "qYxZcfeREZ3G"
    },
    {
      "cell_type": "markdown",
      "metadata": {
        "id": "eU8nVcegGWrx"
      },
      "source": [
        "**Forecast**"
      ],
      "id": "eU8nVcegGWrx"
    },
    {
      "cell_type": "code",
      "metadata": {
        "id": "GGr6qMWPGY56"
      },
      "source": [
        "# Model specification\n",
        "egarch.spec.pred <- egarch.spec\n",
        "setfixed(egarch.spec.pred) <- as.list(coef(egarch.fit))"
      ],
      "id": "GGr6qMWPGY56",
      "execution_count": 89,
      "outputs": []
    },
    {
      "cell_type": "code",
      "metadata": {
        "id": "GDk5w7ACGfr5"
      },
      "source": [
        "# Model adjustment\n",
        "egarch.fit.pred <- ugarchfit(egarch.spec,\n",
        "                             HSCE.df$HSCE.Return,\n",
        "                             out.sample = dim(HSCE.df.out)[1])"
      ],
      "id": "GDk5w7ACGfr5",
      "execution_count": 90,
      "outputs": []
    },
    {
      "cell_type": "code",
      "metadata": {
        "id": "YpL93AZ4Gmyu"
      },
      "source": [
        "# Forecast calculated through adjustment\n",
        "egarch.pred.a <- ugarchforecast(egarch.fit.pred,\n",
        "                                n.ahead = 1,\n",
        "                                n.roll = dim(HSCE.df.out)[1])\n",
        "\n",
        "egarch.forecast.a <- xts(sigma(egarch.pred.a)[1,],\n",
        "                         move(as.Date(names(sigma(egarch.pred.a)[1,])), by = 1))"
      ],
      "id": "YpL93AZ4Gmyu",
      "execution_count": 91,
      "outputs": []
    },
    {
      "cell_type": "code",
      "metadata": {
        "id": "Q97EAAIsGwDR"
      },
      "source": [
        "# Forecast calculated using specification\n",
        "egarch.pred.b <- ugarchforecast(egarch.spec.pred,\n",
        "                                n.ahead = 1,\n",
        "                                n.roll = dim(HSCE.df.out)[1],\n",
        "                                data = HSCE.df$HSCE.Return,\n",
        "                                out.sample = dim(HSCE.df.out)[1])\n",
        "\n",
        "egarch.forecast.b <- xts(sigma(egarch.pred.b)[1,],\n",
        "                         move(as.Date(names(sigma(egarch.pred.b)[1,])), by = 1))               "
      ],
      "id": "Q97EAAIsGwDR",
      "execution_count": 92,
      "outputs": []
    },
    {
      "cell_type": "code",
      "metadata": {
        "id": "QSI_GcusG5Yq"
      },
      "source": [
        "# Model filtering\n",
        "egarch.filt.pred <- ugarchfilter(egarch.spec.pred,\n",
        "                                data = HSCE.df$HSCE.Return,\n",
        "                                n.old = nrow(HSCE.df) - dim(HSCE.df.out)[1])\n",
        "\n",
        "egarch.filt <- tail(sigma(egarch.filt.pred), dim(HSCE.df.out)[1]) "
      ],
      "id": "QSI_GcusG5Yq",
      "execution_count": 93,
      "outputs": []
    },
    {
      "cell_type": "code",
      "metadata": {
        "colab": {
          "base_uri": "https://localhost:8080/",
          "height": 136
        },
        "id": "Vz2srX-ZHB-M",
        "outputId": "c68f8b6c-c226-48a8-8a4d-9c3db0299667"
      },
      "source": [
        "# Comparative\n",
        "colnames(egarch.filt) <- 'filter'\n",
        "colnames(egarch.forecast.a) <- 'forecast1'\n",
        "colnames(egarch.forecast.b) <- 'forecast2'\n",
        "\n",
        "egarch.ftest <- cbind(egarch.filt, \n",
        "                      egarch.forecast.a,\n",
        "                      egarch.forecast.b)\n",
        "head(round(egarch.ftest, digits = 4))"
      ],
      "id": "Vz2srX-ZHB-M",
      "execution_count": 94,
      "outputs": [
        {
          "output_type": "display_data",
          "data": {
            "text/plain": [
              "           filter forecast1 forecast2\n",
              "2015-01-14 1.4458    1.4539    1.4458\n",
              "2015-01-15 1.4044    1.4137    1.4044\n",
              "2015-01-16 1.4240    1.4311    1.4240\n",
              "2015-01-19 1.4258    1.4387    1.4258\n",
              "2015-01-20 1.8437    1.9098    1.8437\n",
              "2015-01-21 1.8852    1.9446    1.8852"
            ]
          },
          "metadata": {
            "tags": []
          }
        }
      ]
    },
    {
      "cell_type": "code",
      "metadata": {
        "colab": {
          "base_uri": "https://localhost:8080/",
          "height": 252
        },
        "id": "Mq5-c2zDHIzy",
        "outputId": "f080bfff-73e2-4bed-ba9e-4395512e0e69"
      },
      "source": [
        "sigma.egarch.pred.a <- ts(egarch.forecast.a[-1,])\n",
        "sigma.egarch.pred.b <- ts(egarch.forecast.b[-1,])\n",
        "sigma.egarch.true <- ts(HSCE.df.out$HSCE.VolEGARCH)\n",
        "\n",
        "sigma.egarch <- na.omit(cbind(sigma.egarch.pred.a,\n",
        "                              sigma.egarch.pred.b,\n",
        "                              sigma.egarch.true))\n",
        "head(sigma.egarch)"
      ],
      "id": "Mq5-c2zDHIzy",
      "execution_count": 95,
      "outputs": [
        {
          "output_type": "display_data",
          "data": {
            "text/plain": [
              "  sigma.egarch.pred.a sigma.egarch.pred.b sigma.egarch.true\n",
              "1 1.413750            1.404365            2.090456         \n",
              "2 1.431121            1.424003            1.972240         \n",
              "3 1.438706            1.425833            2.027784         \n",
              "4 1.909768            1.843658            2.033001         \n",
              "5 1.944588            1.885154            3.399074         \n",
              "6 1.981051            1.927785            3.553807         "
            ],
            "text/latex": "A Time Series: 6 × 3\n\\begin{tabular}{r|lll}\n  & sigma.egarch.pred.a & sigma.egarch.pred.b & sigma.egarch.true\\\\\n\\hline\n\t1 & 1.413750 & 1.404365 & 2.090456\\\\\n\t2 & 1.431121 & 1.424003 & 1.972240\\\\\n\t3 & 1.438706 & 1.425833 & 2.027784\\\\\n\t4 & 1.909768 & 1.843658 & 2.033001\\\\\n\t5 & 1.944588 & 1.885154 & 3.399074\\\\\n\t6 & 1.981051 & 1.927785 & 3.553807\\\\\n\\end{tabular}\n",
            "text/markdown": "\nA Time Series: 6 × 3\n\n| <!--/--> | sigma.egarch.pred.a | sigma.egarch.pred.b | sigma.egarch.true |\n|---|---|---|---|\n| 1 | 1.413750 | 1.404365 | 2.090456 |\n| 2 | 1.431121 | 1.424003 | 1.972240 |\n| 3 | 1.438706 | 1.425833 | 2.027784 |\n| 4 | 1.909768 | 1.843658 | 2.033001 |\n| 5 | 1.944588 | 1.885154 | 3.399074 |\n| 6 | 1.981051 | 1.927785 | 3.553807 |\n\n",
            "text/html": [
              "<table class=\"dataframe\">\n",
              "<caption>A Time Series: 6 × 3</caption>\n",
              "<thead>\n",
              "\t<tr><th></th><th scope=col>sigma.egarch.pred.a</th><th scope=col>sigma.egarch.pred.b</th><th scope=col>sigma.egarch.true</th></tr>\n",
              "</thead>\n",
              "<tbody>\n",
              "\t<tr><th scope=row>1</th><td>1.413750</td><td>1.404365</td><td>2.090456</td></tr>\n",
              "\t<tr><th scope=row>2</th><td>1.431121</td><td>1.424003</td><td>1.972240</td></tr>\n",
              "\t<tr><th scope=row>3</th><td>1.438706</td><td>1.425833</td><td>2.027784</td></tr>\n",
              "\t<tr><th scope=row>4</th><td>1.909768</td><td>1.843658</td><td>2.033001</td></tr>\n",
              "\t<tr><th scope=row>5</th><td>1.944588</td><td>1.885154</td><td>3.399074</td></tr>\n",
              "\t<tr><th scope=row>6</th><td>1.981051</td><td>1.927785</td><td>3.553807</td></tr>\n",
              "</tbody>\n",
              "</table>\n"
            ]
          },
          "metadata": {
            "tags": []
          }
        }
      ]
    },
    {
      "cell_type": "markdown",
      "metadata": {
        "id": "kHT5c985HYvC"
      },
      "source": [
        "**Performance evaluation**"
      ],
      "id": "kHT5c985HYvC"
    },
    {
      "cell_type": "code",
      "metadata": {
        "colab": {
          "base_uri": "https://localhost:8080/",
          "height": 51
        },
        "id": "2zj41DH_HbJB",
        "outputId": "8b3fc631-bda7-4c37-c780-7071f800b328"
      },
      "source": [
        "# Forecast Error - Forecast a\n",
        "egarch.error.a <- sigma.egarch[,'sigma.egarch.pred.a'] - sigma.egarch[,'sigma.egarch.true']\n",
        "head(egarch.error.a)"
      ],
      "id": "2zj41DH_HbJB",
      "execution_count": 96,
      "outputs": [
        {
          "output_type": "display_data",
          "data": {
            "text/plain": [
              "A Time Series:\n",
              "[1] -0.6767062 -0.5411188 -0.5890784 -0.1232330 -1.4544859 -1.5727561"
            ],
            "text/latex": "A Time Series:\\\\\\begin{enumerate*}\n\\item -0.676706154708394\n\\item -0.541118785140161\n\\item -0.589078408658779\n\\item -0.123233046444338\n\\item -1.45448594746326\n\\item -1.57275610409705\n\\end{enumerate*}\n",
            "text/markdown": "A Time Series:  \n1. -0.676706154708394\n2. -0.541118785140161\n3. -0.589078408658779\n4. -0.123233046444338\n5. -1.45448594746326\n6. -1.57275610409705\n\n\n",
            "text/html": [
              "A Time Series:<br><style>\n",
              ".list-inline {list-style: none; margin:0; padding: 0}\n",
              ".list-inline>li {display: inline-block}\n",
              ".list-inline>li:not(:last-child)::after {content: \"\\00b7\"; padding: 0 .5ex}\n",
              "</style>\n",
              "<ol class=list-inline><li>-0.676706154708394</li><li>-0.541118785140161</li><li>-0.589078408658779</li><li>-0.123233046444338</li><li>-1.45448594746326</li><li>-1.57275610409705</li></ol>\n"
            ]
          },
          "metadata": {
            "tags": []
          }
        }
      ]
    },
    {
      "cell_type": "code",
      "metadata": {
        "colab": {
          "base_uri": "https://localhost:8080/",
          "height": 51
        },
        "id": "qGfmTbM3HhNe",
        "outputId": "c16de25e-f3c6-415d-a1d0-bf5d3fa4ada7"
      },
      "source": [
        "# Forecast Error - Forecast b\n",
        "egarch.error.b <- sigma.egarch[,'sigma.egarch.pred.b'] - sigma.egarch[,'sigma.egarch.true']\n",
        "head(egarch.error.b)"
      ],
      "id": "qGfmTbM3HhNe",
      "execution_count": 97,
      "outputs": [
        {
          "output_type": "display_data",
          "data": {
            "text/plain": [
              "A Time Series:\n",
              "[1] -0.6860915 -0.5482371 -0.6019505 -0.1893433 -1.5139192 -1.6260224"
            ],
            "text/latex": "A Time Series:\\\\\\begin{enumerate*}\n\\item -0.686091506485682\n\\item -0.548237111686496\n\\item -0.601950485474884\n\\item -0.189343330808301\n\\item -1.51391917140277\n\\item -1.62602236184334\n\\end{enumerate*}\n",
            "text/markdown": "A Time Series:  \n1. -0.686091506485682\n2. -0.548237111686496\n3. -0.601950485474884\n4. -0.189343330808301\n5. -1.51391917140277\n6. -1.62602236184334\n\n\n",
            "text/html": [
              "A Time Series:<br><style>\n",
              ".list-inline {list-style: none; margin:0; padding: 0}\n",
              ".list-inline>li {display: inline-block}\n",
              ".list-inline>li:not(:last-child)::after {content: \"\\00b7\"; padding: 0 .5ex}\n",
              "</style>\n",
              "<ol class=list-inline><li>-0.686091506485682</li><li>-0.548237111686496</li><li>-0.601950485474884</li><li>-0.189343330808301</li><li>-1.51391917140277</li><li>-1.62602236184334</li></ol>\n"
            ]
          },
          "metadata": {
            "tags": []
          }
        }
      ]
    },
    {
      "cell_type": "code",
      "metadata": {
        "colab": {
          "base_uri": "https://localhost:8080/",
          "height": 34
        },
        "id": "ghBbYBQ7HocG",
        "outputId": "32276016-7f7b-45e1-ffc2-7a4d5b11a73a"
      },
      "source": [
        "# Mean Square Error Loss - Forecast a\n",
        "egarch.mse.a <- MSE(sigma.egarch[,'sigma.egarch.pred.a'],\n",
        "                    sigma.egarch[,'sigma.egarch.true'])\n",
        "round(egarch.mse.a, digits = 3)     "
      ],
      "id": "ghBbYBQ7HocG",
      "execution_count": 98,
      "outputs": [
        {
          "output_type": "display_data",
          "data": {
            "text/plain": [
              "[1] 1.282"
            ],
            "text/latex": "1.282",
            "text/markdown": "1.282",
            "text/html": [
              "1.282"
            ]
          },
          "metadata": {
            "tags": []
          }
        }
      ]
    },
    {
      "cell_type": "code",
      "metadata": {
        "colab": {
          "base_uri": "https://localhost:8080/",
          "height": 34
        },
        "id": "_D9c09GZHtiG",
        "outputId": "2caa9491-01f7-48f4-fe58-179f59e7d5fd"
      },
      "source": [
        "# Mean Square Error Loss - Forecast b\n",
        "egarch.mse.b <- MSE(sigma.egarch[,'sigma.egarch.pred.b'],\n",
        "                    sigma.egarch[,'sigma.egarch.true'])\n",
        "round(egarch.mse.b, digits = 3) "
      ],
      "id": "_D9c09GZHtiG",
      "execution_count": 99,
      "outputs": [
        {
          "output_type": "display_data",
          "data": {
            "text/plain": [
              "[1] 1.345"
            ],
            "text/latex": "1.345",
            "text/markdown": "1.345",
            "text/html": [
              "1.345"
            ]
          },
          "metadata": {
            "tags": []
          }
        }
      ]
    },
    {
      "cell_type": "code",
      "metadata": {
        "colab": {
          "base_uri": "https://localhost:8080/",
          "height": 34
        },
        "id": "0YnAkzX0HyHX",
        "outputId": "f9cea98c-874a-4c61-de87-d91cc06fd839"
      },
      "source": [
        "# Mean Absolute Error Loss - Forecast a\n",
        "egarch.mae.a <- MAE(sigma.egarch[,'sigma.egarch.pred.a'],\n",
        "                    sigma.egarch[,'sigma.egarch.true'])\n",
        "round(egarch.mae.a, digits = 3)"
      ],
      "id": "0YnAkzX0HyHX",
      "execution_count": 100,
      "outputs": [
        {
          "output_type": "display_data",
          "data": {
            "text/plain": [
              "[1] 0.7"
            ],
            "text/latex": "0.7",
            "text/markdown": "0.7",
            "text/html": [
              "0.7"
            ]
          },
          "metadata": {
            "tags": []
          }
        }
      ]
    },
    {
      "cell_type": "code",
      "metadata": {
        "colab": {
          "base_uri": "https://localhost:8080/",
          "height": 34
        },
        "id": "brmCUjE_H4bJ",
        "outputId": "2fc387c9-0977-4ca8-e1e0-85df14a20421"
      },
      "source": [
        "# Mean Absolute Error Loss - Forecast b\n",
        "egarch.mae.b <- MAE(sigma.egarch[,'sigma.egarch.pred.b'],\n",
        "                    sigma.egarch[,'sigma.egarch.true'])\n",
        "round(egarch.mae.b, digits = 3)"
      ],
      "id": "brmCUjE_H4bJ",
      "execution_count": 101,
      "outputs": [
        {
          "output_type": "display_data",
          "data": {
            "text/plain": [
              "[1] 0.724"
            ],
            "text/latex": "0.724",
            "text/markdown": "0.724",
            "text/html": [
              "0.724"
            ]
          },
          "metadata": {
            "tags": []
          }
        }
      ]
    },
    {
      "cell_type": "code",
      "metadata": {
        "colab": {
          "base_uri": "https://localhost:8080/",
          "height": 34
        },
        "id": "kBL2NOllIBLP",
        "outputId": "7250b57f-bc13-41dd-b771-52215e1a55c4"
      },
      "source": [
        "# Root Mean Square Error Loss - Forecast a\n",
        "egarch.rmse.a <- RMSE(sigma.egarch[,'sigma.egarch.pred.a'],\n",
        "                      sigma.egarch[,'sigma.egarch.true'])\n",
        "round(egarch.rmse.a, digits = 3)"
      ],
      "id": "kBL2NOllIBLP",
      "execution_count": 102,
      "outputs": [
        {
          "output_type": "display_data",
          "data": {
            "text/plain": [
              "[1] 1.132"
            ],
            "text/latex": "1.132",
            "text/markdown": "1.132",
            "text/html": [
              "1.132"
            ]
          },
          "metadata": {
            "tags": []
          }
        }
      ]
    },
    {
      "cell_type": "code",
      "metadata": {
        "colab": {
          "base_uri": "https://localhost:8080/",
          "height": 34
        },
        "id": "YZw8WsYrIGZr",
        "outputId": "1bdfe7c4-3905-4def-cb91-09d4a703de24"
      },
      "source": [
        "# Root Mean Square Error Loss - Forecast b\n",
        "egarch.rmse.b <- RMSE(sigma.egarch[,'sigma.egarch.pred.b'],\n",
        "                      sigma.egarch[,'sigma.egarch.true'])\n",
        "round(egarch.rmse.b, digits = 3)"
      ],
      "id": "YZw8WsYrIGZr",
      "execution_count": 103,
      "outputs": [
        {
          "output_type": "display_data",
          "data": {
            "text/plain": [
              "[1] 1.16"
            ],
            "text/latex": "1.16",
            "text/markdown": "1.16",
            "text/html": [
              "1.16"
            ]
          },
          "metadata": {
            "tags": []
          }
        }
      ]
    },
    {
      "cell_type": "code",
      "metadata": {
        "colab": {
          "base_uri": "https://localhost:8080/",
          "height": 34
        },
        "id": "lvf7k5Y2IK3Z",
        "outputId": "d16f3604-9490-499c-e7c7-2a3aaa38fc12"
      },
      "source": [
        "# Quasi-likelihood loss function - forecast a\n",
        "h <- sigma.egarch[,'sigma.egarch.true']\n",
        "\n",
        "h.hat.a <- sigma.egarch[,'sigma.egarch.pred.a']     \n",
        "egarch.qlike.a <- mean(log(sqrt(h)) + h.hat.a/sqrt(h))\n",
        "round(egarch.qlike.a, digits = 5) "
      ],
      "id": "lvf7k5Y2IK3Z",
      "execution_count": 104,
      "outputs": [
        {
          "output_type": "display_data",
          "data": {
            "text/plain": [
              "[1] 1.3222"
            ],
            "text/latex": "1.3222",
            "text/markdown": "1.3222",
            "text/html": [
              "1.3222"
            ]
          },
          "metadata": {
            "tags": []
          }
        }
      ]
    },
    {
      "cell_type": "code",
      "metadata": {
        "colab": {
          "base_uri": "https://localhost:8080/",
          "height": 34
        },
        "id": "ac17LDnAIdRq",
        "outputId": "62b30666-0a0b-4224-876d-e89f6b181ec0"
      },
      "source": [
        "# Quasi-likelihood loss function - forecast b\n",
        "h.hat.b <- sigma.egarch[,'sigma.egarch.pred.b']\n",
        "egarch.qlike.b <- mean(log(sqrt(h)) + h.hat.b/sqrt(h))\n",
        "round(egarch.qlike.b, digits = 5) "
      ],
      "id": "ac17LDnAIdRq",
      "execution_count": 105,
      "outputs": [
        {
          "output_type": "display_data",
          "data": {
            "text/plain": [
              "[1] 1.30112"
            ],
            "text/latex": "1.30112",
            "text/markdown": "1.30112",
            "text/html": [
              "1.30112"
            ]
          },
          "metadata": {
            "tags": []
          }
        }
      ]
    },
    {
      "cell_type": "code",
      "metadata": {
        "colab": {
          "base_uri": "https://localhost:8080/",
          "height": 119
        },
        "id": "MDtn0VGCIhYb",
        "outputId": "768ce47c-740b-4f5e-e9ec-5cbf16239cc0"
      },
      "source": [
        "# Diebold-Mariano Test (accuracy test) - test 1\n",
        "f.a <- sigma.egarch[,'sigma.egarch.pred.a']\n",
        "f.b <- sigma.egarch[,'sigma.egarch.pred.b']\n",
        "y <- sigma.egarch[,'sigma.egarch.true']\n",
        "\n",
        "DM.test(f.a, f.b, y, loss.type = \"SE\", c = FALSE, H1 = \"same\")"
      ],
      "id": "MDtn0VGCIhYb",
      "execution_count": 106,
      "outputs": [
        {
          "output_type": "display_data",
          "data": {
            "text/plain": [
              "\n",
              "\tDiebold-Mariano test\n",
              "\n",
              "data:  f.a and f.b and y\n",
              "statistic = -16.736, forecast horizon = 1, p-value < 2.2e-16\n",
              "alternative hypothesis: Forecast f1 and f2 have different accuracy.\n"
            ]
          },
          "metadata": {
            "tags": []
          }
        }
      ]
    },
    {
      "cell_type": "code",
      "metadata": {
        "colab": {
          "base_uri": "https://localhost:8080/",
          "height": 136
        },
        "id": "iTwM8a02ImcX",
        "outputId": "8fed39ad-c170-4544-f371-bd75b64035a6"
      },
      "source": [
        "# Diebold-Mariano test for predictive accuracy - test 2\n",
        "e.a <- egarch.error.a\n",
        "e.b <- egarch.error.b\n",
        "\n",
        "dm.test(e.a, e.b, alternative = \"two.sided\", h = 1, power = 2)"
      ],
      "id": "iTwM8a02ImcX",
      "execution_count": 107,
      "outputs": [
        {
          "output_type": "display_data",
          "data": {
            "text/plain": [
              "\n",
              "\tDiebold-Mariano Test\n",
              "\n",
              "data:  e.ae.b\n",
              "DM = -16.73, Forecast horizon = 1, Loss function power = 2, p-value <\n",
              "2.2e-16\n",
              "alternative hypothesis: two.sided\n"
            ]
          },
          "metadata": {
            "tags": []
          }
        }
      ]
    },
    {
      "cell_type": "code",
      "metadata": {
        "colab": {
          "base_uri": "https://localhost:8080/",
          "height": 34
        },
        "id": "ubakDsZgIphu",
        "outputId": "e7fee44d-7428-4b85-ae06-4276591953d0"
      },
      "source": [
        "# Quasi-likelihood Loss Function For Volatility Forecasts - forecast a\n",
        "egarch.qlike.a <- mean(LossVol(sigma.egarch[,'sigma.egarch.true'],\n",
        "                              sigma.egarch[,'sigma.egarch.pred.a'],\n",
        "                              which = \"QLIKE\"))\n",
        "round(egarch.qlike.a, digits = 3)"
      ],
      "id": "ubakDsZgIphu",
      "execution_count": 108,
      "outputs": [
        {
          "output_type": "display_data",
          "data": {
            "text/plain": [
              "[1] 2.675"
            ],
            "text/latex": "2.675",
            "text/markdown": "2.675",
            "text/html": [
              "2.675"
            ]
          },
          "metadata": {
            "tags": []
          }
        }
      ]
    },
    {
      "cell_type": "code",
      "metadata": {
        "colab": {
          "base_uri": "https://localhost:8080/",
          "height": 34
        },
        "id": "a0KYFwLDIwmm",
        "outputId": "593d54be-bd1f-44a5-e353-73dcc26a3cb3"
      },
      "source": [
        "# Quasi-likelihood Loss Function For Volatility Forecasts - forecast b\n",
        "egarch.qlike.b <- mean(LossVol(sigma.egarch[,'sigma.egarch.true'],\n",
        "                              sigma.egarch[,'sigma.egarch.pred.b'],\n",
        "                              which = \"QLIKE\"))\n",
        "round(egarch.qlike.b, digits = 3)"
      ],
      "id": "a0KYFwLDIwmm",
      "execution_count": 109,
      "outputs": [
        {
          "output_type": "display_data",
          "data": {
            "text/plain": [
              "[1] 2.722"
            ],
            "text/latex": "2.722",
            "text/markdown": "2.722",
            "text/html": [
              "2.722"
            ]
          },
          "metadata": {
            "tags": []
          }
        }
      ]
    },
    {
      "cell_type": "code",
      "metadata": {
        "colab": {
          "base_uri": "https://localhost:8080/",
          "height": 34
        },
        "id": "fegx1LuTI2iB",
        "outputId": "a1f28188-7ed4-4742-a65a-cb61f531b03e"
      },
      "source": [
        "# Log loss / Cross-Entropy Loss -  forecast a\n",
        "egarch.logloss.a <- LogLoss(sigma.egarch[,'sigma.egarch.pred.a'],\n",
        "                            sigma.egarch[,'sigma.egarch.true'])\n",
        "round(egarch.logloss.a, digits = 3)"
      ],
      "id": "fegx1LuTI2iB",
      "execution_count": 110,
      "outputs": [
        {
          "output_type": "display_data",
          "data": {
            "text/plain": [
              "[1] -38.424"
            ],
            "text/latex": "-38.424",
            "text/markdown": "-38.424",
            "text/html": [
              "-38.424"
            ]
          },
          "metadata": {
            "tags": []
          }
        }
      ]
    },
    {
      "cell_type": "code",
      "metadata": {
        "colab": {
          "base_uri": "https://localhost:8080/",
          "height": 34
        },
        "id": "Rorhgye9I9H4",
        "outputId": "d2965712-4f6b-4234-e2e7-bc60a276ba9d"
      },
      "source": [
        "# Log loss / Cross-Entropy Loss -  forecast b\n",
        "egarch.logloss.b <- LogLoss(sigma.egarch[,'sigma.egarch.pred.b'],\n",
        "                            sigma.egarch[,'sigma.egarch.true'])\n",
        "round(egarch.logloss.b, digits = 3)"
      ],
      "id": "Rorhgye9I9H4",
      "execution_count": 111,
      "outputs": [
        {
          "output_type": "display_data",
          "data": {
            "text/plain": [
              "[1] -38.426"
            ],
            "text/latex": "-38.426",
            "text/markdown": "-38.426",
            "text/html": [
              "-38.426"
            ]
          },
          "metadata": {
            "tags": []
          }
        }
      ]
    },
    {
      "cell_type": "code",
      "metadata": {
        "colab": {
          "base_uri": "https://localhost:8080/",
          "height": 170
        },
        "id": "cztScVEKJB5j",
        "outputId": "9ccb74e3-ec96-4ce7-e28b-f66e0b458c4c"
      },
      "source": [
        "# Linear regression to assess forecast performance - forecast a\n",
        "egarch.model.a <- lm(sigma.egarch.true ~ sigma.egarch.pred.a, \n",
        "                    data = sigma.egarch)\n",
        "round(coeftest(egarch.model.a, NeweyWest(egarch.model.a,\n",
        "                                        lag = bwNeweyWest(egarch.model.a),\n",
        "                                        prewhite = F)), 3)\n",
        "round(summary(egarch.model.a)$adj.r.squared, 3)"
      ],
      "id": "cztScVEKJB5j",
      "execution_count": 112,
      "outputs": [
        {
          "output_type": "display_data",
          "data": {
            "text/plain": [
              "\n",
              "t test of coefficients:\n",
              "\n",
              "                    Estimate Std. Error t value  Pr(>|t|)    \n",
              "(Intercept)           -2.320      0.157 -14.765 < 2.2e-16 ***\n",
              "sigma.egarch.pred.a    3.099      0.119  26.106 < 2.2e-16 ***\n",
              "---\n",
              "Signif. codes:  0 ‘***’ 0.001 ‘**’ 0.01 ‘*’ 0.05 ‘.’ 0.1 ‘ ’ 1\n"
            ]
          },
          "metadata": {
            "tags": []
          }
        },
        {
          "output_type": "display_data",
          "data": {
            "text/plain": [
              "[1] 0.931"
            ],
            "text/latex": "0.931",
            "text/markdown": "0.931",
            "text/html": [
              "0.931"
            ]
          },
          "metadata": {
            "tags": []
          }
        }
      ]
    },
    {
      "cell_type": "code",
      "metadata": {
        "colab": {
          "base_uri": "https://localhost:8080/",
          "height": 170
        },
        "id": "9ro2-RuaJIu0",
        "outputId": "152b9d04-d6bb-4093-9370-fc0561d59ba9"
      },
      "source": [
        "# Linear regression to assess forecast performance - forecast b\n",
        "egarch.model.b <- lm(sigma.egarch.true ~ sigma.egarch.pred.b, \n",
        "                    data = sigma.egarch)\n",
        "round(coeftest(egarch.model.b, NeweyWest(egarch.model.b,\n",
        "                                        lag = bwNeweyWest(egarch.model.b),\n",
        "                                        prewhite = F)), 3)\n",
        "round(summary(egarch.model.b)$adj.r.squared, 3)"
      ],
      "id": "9ro2-RuaJIu0",
      "execution_count": 113,
      "outputs": [
        {
          "output_type": "display_data",
          "data": {
            "text/plain": [
              "\n",
              "t test of coefficients:\n",
              "\n",
              "                    Estimate Std. Error t value  Pr(>|t|)    \n",
              "(Intercept)           -2.393      0.162 -14.740 < 2.2e-16 ***\n",
              "sigma.egarch.pred.b    3.218      0.124  25.925 < 2.2e-16 ***\n",
              "---\n",
              "Signif. codes:  0 ‘***’ 0.001 ‘**’ 0.01 ‘*’ 0.05 ‘.’ 0.1 ‘ ’ 1\n"
            ]
          },
          "metadata": {
            "tags": []
          }
        },
        {
          "output_type": "display_data",
          "data": {
            "text/plain": [
              "[1] 0.936"
            ],
            "text/latex": "0.936",
            "text/markdown": "0.936",
            "text/html": [
              "0.936"
            ]
          },
          "metadata": {
            "tags": []
          }
        }
      ]
    },
    {
      "cell_type": "markdown",
      "metadata": {
        "id": "oFQkdPS-eVHu"
      },
      "source": [
        "##(c) GJR-GARCH"
      ],
      "id": "oFQkdPS-eVHu"
    },
    {
      "cell_type": "markdown",
      "metadata": {
        "id": "0IkxEGn3evX0"
      },
      "source": [
        "**Forecast**"
      ],
      "id": "0IkxEGn3evX0"
    },
    {
      "cell_type": "code",
      "metadata": {
        "id": "Bu5hsRqZezGx"
      },
      "source": [
        "# Model specification\n",
        "gjrgarch.spec.pred <- gjrgarch.spec\n",
        "setfixed(gjrgarch.spec.pred) <- as.list(coef(gjrgarch.fit))"
      ],
      "id": "Bu5hsRqZezGx",
      "execution_count": 114,
      "outputs": []
    },
    {
      "cell_type": "code",
      "metadata": {
        "id": "pnj0hU2se9-J"
      },
      "source": [
        "# Model adjustment\n",
        "gjrgarch.fit.pred <- ugarchfit(gjrgarch.spec,\n",
        "                              HSCE.df$HSCE.Return,\n",
        "                              out.sample = dim(HSCE.df.out)[1])"
      ],
      "id": "pnj0hU2se9-J",
      "execution_count": 115,
      "outputs": []
    },
    {
      "cell_type": "code",
      "metadata": {
        "id": "_3Rv4lN1fGbp"
      },
      "source": [
        "# Forecast calculated through adjustment\n",
        "gjrgarch.pred.a <- ugarchforecast(gjrgarch.fit.pred,\n",
        "                                 n.ahead = 1,\n",
        "                                 n.roll = dim(HSCE.df.out)[1])\n",
        "\n",
        "gjrgarch.forecast.a <- xts(sigma(gjrgarch.pred.a)[1,],\n",
        "                           move(as.Date(names(sigma(gjrgarch.pred.a)[1,])), by = 1))"
      ],
      "id": "_3Rv4lN1fGbp",
      "execution_count": 116,
      "outputs": []
    },
    {
      "cell_type": "code",
      "metadata": {
        "id": "BuoBNGH8fSEL"
      },
      "source": [
        "# Forecast calculated using specification\n",
        "gjrgarch.pred.b <- ugarchforecast(gjrgarch.spec.pred,\n",
        "                                  n.ahead = 1,\n",
        "                                  n.roll = dim(HSCE.df.out)[1],\n",
        "                                  data = HSCE.df$HSCE.Return,\n",
        "                                  out.sample = dim(HSCE.df.out)[1])\n",
        "\n",
        "gjrgarch.forecast.b <- xts(sigma(gjrgarch.pred.b)[1,],\n",
        "                           move(as.Date(names(sigma(gjrgarch.pred.b)[1,])), by = 1)) "
      ],
      "id": "BuoBNGH8fSEL",
      "execution_count": 117,
      "outputs": []
    },
    {
      "cell_type": "code",
      "metadata": {
        "id": "D8Sva5A_fh9s"
      },
      "source": [
        "# Model filtering\n",
        "gjrgarch.filt.pred <- ugarchfilter(gjrgarch.spec.pred,\n",
        "                                   data = HSCE.df$HSCE.Return,\n",
        "                                   n.old = nrow(HSCE.df) - dim(HSCE.df.out)[1])\n",
        "\n",
        "gjrgarch.filt <- tail(sigma(gjrgarch.filt.pred), dim(HSCE.df.out)[1]) "
      ],
      "id": "D8Sva5A_fh9s",
      "execution_count": 118,
      "outputs": []
    },
    {
      "cell_type": "code",
      "metadata": {
        "colab": {
          "base_uri": "https://localhost:8080/",
          "height": 136
        },
        "id": "Cud0ITmzfjyf",
        "outputId": "52524c73-fbeb-4831-de62-d559e6c72ebc"
      },
      "source": [
        "# Comparative\n",
        "colnames(gjrgarch.filt) <- 'filter'\n",
        "colnames(gjrgarch.forecast.a) <- 'forecast1'\n",
        "colnames(gjrgarch.forecast.b) <- 'forecast2'\n",
        "\n",
        "gjrgarch.ftest <- cbind(gjrgarch.filt, \n",
        "                        gjrgarch.forecast.a,\n",
        "                        gjrgarch.forecast.b)\n",
        "head(round(gjrgarch.ftest, digits = 4))"
      ],
      "id": "Cud0ITmzfjyf",
      "execution_count": 119,
      "outputs": [
        {
          "output_type": "display_data",
          "data": {
            "text/plain": [
              "           filter forecast1 forecast2\n",
              "2015-01-14 1.4927    1.4999    1.4927\n",
              "2015-01-15 1.4506    1.4571    1.4506\n",
              "2015-01-16 1.4446    1.4491    1.4446\n",
              "2015-01-19 1.4260    1.4332    1.4260\n",
              "2015-01-20 2.0293    2.1010    2.0293\n",
              "2015-01-21 2.0246    2.0880    2.0246"
            ]
          },
          "metadata": {
            "tags": []
          }
        }
      ]
    },
    {
      "cell_type": "code",
      "metadata": {
        "colab": {
          "base_uri": "https://localhost:8080/",
          "height": 252
        },
        "id": "HujuXn--flgj",
        "outputId": "cb58f077-0b8a-458e-ec1b-ed1ce5dd955d"
      },
      "source": [
        "sigma.gjrgarch.pred.a <- ts(gjrgarch.forecast.a[-1,])\n",
        "sigma.gjrgarch.pred.b <- ts(gjrgarch.forecast.b[-1,])\n",
        "sigma.gjrgarch.true <- ts(HSCE.df.out$HSCE.VolGJRGARCH)\n",
        "\n",
        "sigma.gjrgarch <- na.omit(cbind(sigma.gjrgarch.pred.a,\n",
        "                                sigma.gjrgarch.pred.b,\n",
        "                                sigma.gjrgarch.true))\n",
        "head(sigma.gjrgarch)"
      ],
      "id": "HujuXn--flgj",
      "execution_count": 120,
      "outputs": [
        {
          "output_type": "display_data",
          "data": {
            "text/plain": [
              "  sigma.gjrgarch.pred.a sigma.gjrgarch.pred.b sigma.gjrgarch.true\n",
              "1 1.457059              1.450555              2.228113           \n",
              "2 1.449101              1.444644              2.104109           \n",
              "3 1.433213              1.425966              2.086995           \n",
              "4 2.101015              2.029332              2.033378           \n",
              "5 2.088008              2.024589              4.118190           \n",
              "6 2.079800              2.023998              4.098960           "
            ],
            "text/latex": "A Time Series: 6 × 3\n\\begin{tabular}{r|lll}\n  & sigma.gjrgarch.pred.a & sigma.gjrgarch.pred.b & sigma.gjrgarch.true\\\\\n\\hline\n\t1 & 1.457059 & 1.450555 & 2.228113\\\\\n\t2 & 1.449101 & 1.444644 & 2.104109\\\\\n\t3 & 1.433213 & 1.425966 & 2.086995\\\\\n\t4 & 2.101015 & 2.029332 & 2.033378\\\\\n\t5 & 2.088008 & 2.024589 & 4.118190\\\\\n\t6 & 2.079800 & 2.023998 & 4.098960\\\\\n\\end{tabular}\n",
            "text/markdown": "\nA Time Series: 6 × 3\n\n| <!--/--> | sigma.gjrgarch.pred.a | sigma.gjrgarch.pred.b | sigma.gjrgarch.true |\n|---|---|---|---|\n| 1 | 1.457059 | 1.450555 | 2.228113 |\n| 2 | 1.449101 | 1.444644 | 2.104109 |\n| 3 | 1.433213 | 1.425966 | 2.086995 |\n| 4 | 2.101015 | 2.029332 | 2.033378 |\n| 5 | 2.088008 | 2.024589 | 4.118190 |\n| 6 | 2.079800 | 2.023998 | 4.098960 |\n\n",
            "text/html": [
              "<table class=\"dataframe\">\n",
              "<caption>A Time Series: 6 × 3</caption>\n",
              "<thead>\n",
              "\t<tr><th></th><th scope=col>sigma.gjrgarch.pred.a</th><th scope=col>sigma.gjrgarch.pred.b</th><th scope=col>sigma.gjrgarch.true</th></tr>\n",
              "</thead>\n",
              "<tbody>\n",
              "\t<tr><th scope=row>1</th><td>1.457059</td><td>1.450555</td><td>2.228113</td></tr>\n",
              "\t<tr><th scope=row>2</th><td>1.449101</td><td>1.444644</td><td>2.104109</td></tr>\n",
              "\t<tr><th scope=row>3</th><td>1.433213</td><td>1.425966</td><td>2.086995</td></tr>\n",
              "\t<tr><th scope=row>4</th><td>2.101015</td><td>2.029332</td><td>2.033378</td></tr>\n",
              "\t<tr><th scope=row>5</th><td>2.088008</td><td>2.024589</td><td>4.118190</td></tr>\n",
              "\t<tr><th scope=row>6</th><td>2.079800</td><td>2.023998</td><td>4.098960</td></tr>\n",
              "</tbody>\n",
              "</table>\n"
            ]
          },
          "metadata": {
            "tags": []
          }
        }
      ]
    },
    {
      "cell_type": "markdown",
      "metadata": {
        "id": "bUYdP2aVfnV8"
      },
      "source": [
        "**Performance evaluation**"
      ],
      "id": "bUYdP2aVfnV8"
    },
    {
      "cell_type": "code",
      "metadata": {
        "colab": {
          "base_uri": "https://localhost:8080/",
          "height": 51
        },
        "id": "SsZQktM-fpou",
        "outputId": "ec6031f8-f78e-4e91-f4c7-b1a413da3664"
      },
      "source": [
        "# Forecast Error - Forecast a\n",
        "gjrgarch.error.a <- sigma.gjrgarch[,'sigma.gjrgarch.pred.a'] - sigma.gjrgarch[,'sigma.gjrgarch.true']\n",
        "head(gjrgarch.error.a)"
      ],
      "id": "SsZQktM-fpou",
      "execution_count": 121,
      "outputs": [
        {
          "output_type": "display_data",
          "data": {
            "text/plain": [
              "A Time Series:\n",
              "[1] -0.7710539 -0.6550082 -0.6537824  0.0676367 -2.0301818 -2.0191600"
            ],
            "text/latex": "A Time Series:\\\\\\begin{enumerate*}\n\\item -0.771053917693574\n\\item -0.655008151814449\n\\item -0.65378239330901\n\\item 0.0676366967114697\n\\item -2.03018182451712\n\\item -2.01916002985135\n\\end{enumerate*}\n",
            "text/markdown": "A Time Series:  \n1. -0.771053917693574\n2. -0.655008151814449\n3. -0.65378239330901\n4. 0.0676366967114697\n5. -2.03018182451712\n6. -2.01916002985135\n\n\n",
            "text/html": [
              "A Time Series:<br><style>\n",
              ".list-inline {list-style: none; margin:0; padding: 0}\n",
              ".list-inline>li {display: inline-block}\n",
              ".list-inline>li:not(:last-child)::after {content: \"\\00b7\"; padding: 0 .5ex}\n",
              "</style>\n",
              "<ol class=list-inline><li>-0.771053917693574</li><li>-0.655008151814449</li><li>-0.65378239330901</li><li>0.0676366967114697</li><li>-2.03018182451712</li><li>-2.01916002985135</li></ol>\n"
            ]
          },
          "metadata": {
            "tags": []
          }
        }
      ]
    },
    {
      "cell_type": "code",
      "metadata": {
        "colab": {
          "base_uri": "https://localhost:8080/",
          "height": 51
        },
        "id": "jBBozS2dfq74",
        "outputId": "ba203ef3-ceef-4f07-dc99-432c0a082bfb"
      },
      "source": [
        "# Forecast Error - Forecast b\n",
        "gjrgarch.error.b <- sigma.gjrgarch[,'sigma.gjrgarch.pred.b'] - sigma.gjrgarch[,'sigma.gjrgarch.true']\n",
        "head(gjrgarch.error.b)"
      ],
      "id": "jBBozS2dfq74",
      "execution_count": 122,
      "outputs": [
        {
          "output_type": "display_data",
          "data": {
            "text/plain": [
              "A Time Series:\n",
              "[1] -0.7775587 -0.6594651 -0.6610298 -0.0040457 -2.0936008 -2.0749628"
            ],
            "text/latex": "A Time Series:\\\\\\begin{enumerate*}\n\\item -0.777558721171183\n\\item -0.659465096313054\n\\item -0.661029760016797\n\\item -0.00404569957992473\n\\item -2.09360083170139\n\\item -2.07496277857615\n\\end{enumerate*}\n",
            "text/markdown": "A Time Series:  \n1. -0.777558721171183\n2. -0.659465096313054\n3. -0.661029760016797\n4. -0.00404569957992473\n5. -2.09360083170139\n6. -2.07496277857615\n\n\n",
            "text/html": [
              "A Time Series:<br><style>\n",
              ".list-inline {list-style: none; margin:0; padding: 0}\n",
              ".list-inline>li {display: inline-block}\n",
              ".list-inline>li:not(:last-child)::after {content: \"\\00b7\"; padding: 0 .5ex}\n",
              "</style>\n",
              "<ol class=list-inline><li>-0.777558721171183</li><li>-0.659465096313054</li><li>-0.661029760016797</li><li>-0.00404569957992473</li><li>-2.09360083170139</li><li>-2.07496277857615</li></ol>\n"
            ]
          },
          "metadata": {
            "tags": []
          }
        }
      ]
    },
    {
      "cell_type": "code",
      "metadata": {
        "colab": {
          "base_uri": "https://localhost:8080/",
          "height": 34
        },
        "id": "i2fN1KMjfsXn",
        "outputId": "989cffad-60c0-49de-a256-df76b5a9d021"
      },
      "source": [
        "# Mean Square Error Loss - Forecast a\n",
        "gjrgarch.mse.a <- MSE(sigma.gjrgarch[,'sigma.gjrgarch.pred.a'],\n",
        "                      sigma.gjrgarch[,'sigma.gjrgarch.true'])\n",
        "round(gjrgarch.mse.a, digits = 3)     "
      ],
      "id": "i2fN1KMjfsXn",
      "execution_count": 123,
      "outputs": [
        {
          "output_type": "display_data",
          "data": {
            "text/plain": [
              "[1] 1.217"
            ],
            "text/latex": "1.217",
            "text/markdown": "1.217",
            "text/html": [
              "1.217"
            ]
          },
          "metadata": {
            "tags": []
          }
        }
      ]
    },
    {
      "cell_type": "code",
      "metadata": {
        "colab": {
          "base_uri": "https://localhost:8080/",
          "height": 34
        },
        "id": "Lvt4jBa7ft6T",
        "outputId": "14039670-5ed8-4c2c-a0ae-ea8ec0de27f6"
      },
      "source": [
        "# Mean Square Error Loss - Forecast b\n",
        "gjrgarch.mse.b <- MSE(sigma.gjrgarch[,'sigma.gjrgarch.pred.b'],\n",
        "                      sigma.gjrgarch[,'sigma.gjrgarch.true'])\n",
        "round(gjrgarch.mse.b, digits = 3) "
      ],
      "id": "Lvt4jBa7ft6T",
      "execution_count": 124,
      "outputs": [
        {
          "output_type": "display_data",
          "data": {
            "text/plain": [
              "[1] 1.275"
            ],
            "text/latex": "1.275",
            "text/markdown": "1.275",
            "text/html": [
              "1.275"
            ]
          },
          "metadata": {
            "tags": []
          }
        }
      ]
    },
    {
      "cell_type": "code",
      "metadata": {
        "colab": {
          "base_uri": "https://localhost:8080/",
          "height": 34
        },
        "id": "0F8MhYOFfveh",
        "outputId": "eae5c22c-42ee-40e7-a698-1f413fb4eedf"
      },
      "source": [
        "# Mean Absolute Error Loss - Forecast a\n",
        "gjrgarch.mae.a <- MAE(sigma.gjrgarch[,'sigma.gjrgarch.pred.a'],\n",
        "                      sigma.gjrgarch[,'sigma.gjrgarch.true'])\n",
        "round(gjrgarch.mae.a, digits = 3)"
      ],
      "id": "0F8MhYOFfveh",
      "execution_count": 125,
      "outputs": [
        {
          "output_type": "display_data",
          "data": {
            "text/plain": [
              "[1] 0.672"
            ],
            "text/latex": "0.672",
            "text/markdown": "0.672",
            "text/html": [
              "0.672"
            ]
          },
          "metadata": {
            "tags": []
          }
        }
      ]
    },
    {
      "cell_type": "code",
      "metadata": {
        "colab": {
          "base_uri": "https://localhost:8080/",
          "height": 34
        },
        "id": "jzHyH96NfxBJ",
        "outputId": "e842725a-f1c5-4053-9e76-f6cbd81f73c1"
      },
      "source": [
        "# Mean Absolute Error Loss - Forecast b\n",
        "gjrgarch.mae.b <- MAE(sigma.gjrgarch[,'sigma.gjrgarch.pred.b'],\n",
        "                      sigma.gjrgarch[,'sigma.gjrgarch.true'])\n",
        "round(gjrgarch.mae.b, digits = 3)"
      ],
      "id": "jzHyH96NfxBJ",
      "execution_count": 126,
      "outputs": [
        {
          "output_type": "display_data",
          "data": {
            "text/plain": [
              "[1] 0.697"
            ],
            "text/latex": "0.697",
            "text/markdown": "0.697",
            "text/html": [
              "0.697"
            ]
          },
          "metadata": {
            "tags": []
          }
        }
      ]
    },
    {
      "cell_type": "code",
      "metadata": {
        "colab": {
          "base_uri": "https://localhost:8080/",
          "height": 34
        },
        "id": "-h5RQeH-fyoY",
        "outputId": "29896708-1ea9-49de-8276-e883942281b0"
      },
      "source": [
        "# Root Mean Square Error Loss - Forecast a\n",
        "gjrgarch.rmse.a <- RMSE(sigma.gjrgarch[,'sigma.gjrgarch.pred.a'],\n",
        "                        sigma.gjrgarch[,'sigma.gjrgarch.true'])\n",
        "round(gjrgarch.rmse.a, digits = 3)"
      ],
      "id": "-h5RQeH-fyoY",
      "execution_count": 127,
      "outputs": [
        {
          "output_type": "display_data",
          "data": {
            "text/plain": [
              "[1] 1.103"
            ],
            "text/latex": "1.103",
            "text/markdown": "1.103",
            "text/html": [
              "1.103"
            ]
          },
          "metadata": {
            "tags": []
          }
        }
      ]
    },
    {
      "cell_type": "code",
      "metadata": {
        "colab": {
          "base_uri": "https://localhost:8080/",
          "height": 34
        },
        "id": "CO0j4hDsf0d4",
        "outputId": "953f9bbc-c65e-4b4a-dbdf-3198fc4cec0c"
      },
      "source": [
        "# Root Mean Square Error Loss - Forecast b\n",
        "gjrgarch.rmse.b <- RMSE(sigma.gjrgarch[,'sigma.gjrgarch.pred.b'],\n",
        "                        sigma.gjrgarch[,'sigma.gjrgarch.true'])\n",
        "round(gjrgarch.rmse.b, digits = 3)"
      ],
      "id": "CO0j4hDsf0d4",
      "execution_count": 128,
      "outputs": [
        {
          "output_type": "display_data",
          "data": {
            "text/plain": [
              "[1] 1.129"
            ],
            "text/latex": "1.129",
            "text/markdown": "1.129",
            "text/html": [
              "1.129"
            ]
          },
          "metadata": {
            "tags": []
          }
        }
      ]
    },
    {
      "cell_type": "code",
      "metadata": {
        "colab": {
          "base_uri": "https://localhost:8080/",
          "height": 34
        },
        "id": "0izvA6naf2CT",
        "outputId": "9accb1bc-3c9d-436d-c7d8-11d865faf2d1"
      },
      "source": [
        "# Quasi-likelihood loss function - forecast a\n",
        "h <- sigma.gjrgarch[,'sigma.gjrgarch.true']\n",
        "\n",
        "h.hat.a <- sigma.gjrgarch[,'sigma.gjrgarch.pred.a']     \n",
        "gjrgarch.qlike.a <- mean(log(sqrt(h)) + h.hat.a/sqrt(h))\n",
        "round(gjrgarch.qlike.a, digits = 5) "
      ],
      "id": "0izvA6naf2CT",
      "execution_count": 129,
      "outputs": [
        {
          "output_type": "display_data",
          "data": {
            "text/plain": [
              "[1] 1.32227"
            ],
            "text/latex": "1.32227",
            "text/markdown": "1.32227",
            "text/html": [
              "1.32227"
            ]
          },
          "metadata": {
            "tags": []
          }
        }
      ]
    },
    {
      "cell_type": "code",
      "metadata": {
        "colab": {
          "base_uri": "https://localhost:8080/",
          "height": 34
        },
        "id": "OkYbmGlgf4CE",
        "outputId": "66b9ba8d-66cb-4821-aae1-0fd3cb82a201"
      },
      "source": [
        "# Quasi-likelihood loss function - forecast b\n",
        "h.hat.b <- sigma.gjrgarch[,'sigma.gjrgarch.pred.b']\n",
        "gjrgarch.qlike.b <- mean(log(sqrt(h)) + h.hat.b/sqrt(h))\n",
        "round(gjrgarch.qlike.b, digits = 5) "
      ],
      "id": "OkYbmGlgf4CE",
      "execution_count": 130,
      "outputs": [
        {
          "output_type": "display_data",
          "data": {
            "text/plain": [
              "[1] 1.29972"
            ],
            "text/latex": "1.29972",
            "text/markdown": "1.29972",
            "text/html": [
              "1.29972"
            ]
          },
          "metadata": {
            "tags": []
          }
        }
      ]
    },
    {
      "cell_type": "code",
      "metadata": {
        "colab": {
          "base_uri": "https://localhost:8080/",
          "height": 119
        },
        "id": "rzS76jQef6U9",
        "outputId": "681f4947-bb28-4465-9838-a47bd76f3d69"
      },
      "source": [
        "# Diebold-Mariano Test (accuracy test) - test 1\n",
        "f.a <- sigma.gjrgarch[,'sigma.gjrgarch.pred.a']\n",
        "f.b <- sigma.gjrgarch[,'sigma.gjrgarch.pred.b']\n",
        "y <- sigma.gjrgarch[,'sigma.gjrgarch.true']\n",
        "\n",
        "DM.test(f.a, f.b, y, loss.type = \"SE\", c = FALSE, H1 = \"same\")"
      ],
      "id": "rzS76jQef6U9",
      "execution_count": 131,
      "outputs": [
        {
          "output_type": "display_data",
          "data": {
            "text/plain": [
              "\n",
              "\tDiebold-Mariano test\n",
              "\n",
              "data:  f.a and f.b and y\n",
              "statistic = -17.493, forecast horizon = 1, p-value < 2.2e-16\n",
              "alternative hypothesis: Forecast f1 and f2 have different accuracy.\n"
            ]
          },
          "metadata": {
            "tags": []
          }
        }
      ]
    },
    {
      "cell_type": "code",
      "metadata": {
        "colab": {
          "base_uri": "https://localhost:8080/",
          "height": 136
        },
        "id": "6Z5ZUPt9f78m",
        "outputId": "8f8ee7bd-71a0-487f-b3bf-31c64428c41f"
      },
      "source": [
        "# Diebold-Mariano test for predictive accuracy - test 2\n",
        "e.a <- gjrgarch.error.a\n",
        "e.b <- gjrgarch.error.b\n",
        "\n",
        "dm.test(e.a, e.b, alternative = \"two.sided\", h = 1, power = 2)"
      ],
      "id": "6Z5ZUPt9f78m",
      "execution_count": 132,
      "outputs": [
        {
          "output_type": "display_data",
          "data": {
            "text/plain": [
              "\n",
              "\tDiebold-Mariano Test\n",
              "\n",
              "data:  e.ae.b\n",
              "DM = -17.488, Forecast horizon = 1, Loss function power = 2, p-value <\n",
              "2.2e-16\n",
              "alternative hypothesis: two.sided\n"
            ]
          },
          "metadata": {
            "tags": []
          }
        }
      ]
    },
    {
      "cell_type": "code",
      "metadata": {
        "colab": {
          "base_uri": "https://localhost:8080/",
          "height": 34
        },
        "id": "VXp_bhCxf9j3",
        "outputId": "ddcb8901-e4c7-4518-ec58-35d58bc749ba"
      },
      "source": [
        "# Quasi-likelihood Loss Function For Volatility Forecasts - forecast a\n",
        "gjrgarch.qlike.a <- mean(LossVol(sigma.gjrgarch[,'sigma.gjrgarch.true'],\n",
        "                                 sigma.gjrgarch[,'sigma.gjrgarch.pred.a'],\n",
        "                                 which = \"QLIKE\"))\n",
        "round(gjrgarch.qlike.a, digits = 3)"
      ],
      "id": "VXp_bhCxf9j3",
      "execution_count": 133,
      "outputs": [
        {
          "output_type": "display_data",
          "data": {
            "text/plain": [
              "[1] 2.646"
            ],
            "text/latex": "2.646",
            "text/markdown": "2.646",
            "text/html": [
              "2.646"
            ]
          },
          "metadata": {
            "tags": []
          }
        }
      ]
    },
    {
      "cell_type": "code",
      "metadata": {
        "colab": {
          "base_uri": "https://localhost:8080/",
          "height": 34
        },
        "id": "rdnKVIIPhRw-",
        "outputId": "88602266-de3b-49c1-ef93-b4b4ecf38b6b"
      },
      "source": [
        "# Quasi-likelihood Loss Function For Volatility Forecasts - forecast b\n",
        "gjrgarch.qlike.b <- mean(LossVol(sigma.gjrgarch[,'sigma.gjrgarch.true'],\n",
        "                                 sigma.gjrgarch[,'sigma.gjrgarch.pred.b'],\n",
        "                                 which = \"QLIKE\"))\n",
        "round(gjrgarch.qlike.b, digits = 3)"
      ],
      "id": "rdnKVIIPhRw-",
      "execution_count": 134,
      "outputs": [
        {
          "output_type": "display_data",
          "data": {
            "text/plain": [
              "[1] 2.691"
            ],
            "text/latex": "2.691",
            "text/markdown": "2.691",
            "text/html": [
              "2.691"
            ]
          },
          "metadata": {
            "tags": []
          }
        }
      ]
    },
    {
      "cell_type": "code",
      "metadata": {
        "colab": {
          "base_uri": "https://localhost:8080/",
          "height": 34
        },
        "id": "MS_N8LCMhTKg",
        "outputId": "fed003d7-7bf9-4f81-e088-f4ff94880581"
      },
      "source": [
        "# Log loss / Cross-Entropy Loss -  forecast a\n",
        "gjrgarch.logloss.a <- LogLoss(sigma.gjrgarch[,'sigma.gjrgarch.pred.a'],\n",
        "                              sigma.gjrgarch[,'sigma.gjrgarch.true'])\n",
        "round(gjrgarch.logloss.a, digits = 3)"
      ],
      "id": "MS_N8LCMhTKg",
      "execution_count": 135,
      "outputs": [
        {
          "output_type": "display_data",
          "data": {
            "text/plain": [
              "[1] -37.278"
            ],
            "text/latex": "-37.278",
            "text/markdown": "-37.278",
            "text/html": [
              "-37.278"
            ]
          },
          "metadata": {
            "tags": []
          }
        }
      ]
    },
    {
      "cell_type": "code",
      "metadata": {
        "colab": {
          "base_uri": "https://localhost:8080/",
          "height": 34
        },
        "id": "5d2cFCtrhU8y",
        "outputId": "b9553fd5-5bb9-4c46-884c-9f8a697215ae"
      },
      "source": [
        "# Log loss / Cross-Entropy Loss -  forecast b\n",
        "gjrgarch.logloss.b <- LogLoss(sigma.gjrgarch[,'sigma.gjrgarch.pred.b'],\n",
        "                              sigma.gjrgarch[,'sigma.gjrgarch.true'])\n",
        "round(gjrgarch.logloss.b, digits = 3)"
      ],
      "id": "5d2cFCtrhU8y",
      "execution_count": 136,
      "outputs": [
        {
          "output_type": "display_data",
          "data": {
            "text/plain": [
              "[1] -37.289"
            ],
            "text/latex": "-37.289",
            "text/markdown": "-37.289",
            "text/html": [
              "-37.289"
            ]
          },
          "metadata": {
            "tags": []
          }
        }
      ]
    },
    {
      "cell_type": "code",
      "metadata": {
        "colab": {
          "base_uri": "https://localhost:8080/",
          "height": 170
        },
        "id": "b1gMzpGYhWtR",
        "outputId": "939419a9-ae22-4d03-911b-71e55b4a62bb"
      },
      "source": [
        "# Linear regression to assess forecast performance - forecast a\n",
        "gjrgarch.model.a <- lm(sigma.gjrgarch.true ~ sigma.gjrgarch.pred.a, \n",
        "                      data = sigma.gjrgarch)\n",
        "round(coeftest(gjrgarch.model.a, NeweyWest(gjrgarch.model.a,\n",
        "                                          lag = bwNeweyWest(gjrgarch.model.a),\n",
        "                                          prewhite = F)), 3)\n",
        "round(summary(gjrgarch.model.a)$adj.r.squared, 3)"
      ],
      "id": "b1gMzpGYhWtR",
      "execution_count": 137,
      "outputs": [
        {
          "output_type": "display_data",
          "data": {
            "text/plain": [
              "\n",
              "t test of coefficients:\n",
              "\n",
              "                      Estimate Std. Error t value  Pr(>|t|)    \n",
              "(Intercept)             -2.397      0.162 -14.837 < 2.2e-16 ***\n",
              "sigma.gjrgarch.pred.a    3.144      0.122  25.788 < 2.2e-16 ***\n",
              "---\n",
              "Signif. codes:  0 ‘***’ 0.001 ‘**’ 0.01 ‘*’ 0.05 ‘.’ 0.1 ‘ ’ 1\n"
            ]
          },
          "metadata": {
            "tags": []
          }
        },
        {
          "output_type": "display_data",
          "data": {
            "text/plain": [
              "[1] 0.929"
            ],
            "text/latex": "0.929",
            "text/markdown": "0.929",
            "text/html": [
              "0.929"
            ]
          },
          "metadata": {
            "tags": []
          }
        }
      ]
    },
    {
      "cell_type": "code",
      "metadata": {
        "colab": {
          "base_uri": "https://localhost:8080/",
          "height": 170
        },
        "id": "tBYTx0AqhYC8",
        "outputId": "887fc930-7a9b-4e09-80bb-27250ab4b941"
      },
      "source": [
        "# Linear regression to assess forecast performance - forecast b\n",
        "gjrgarch.model.b <- lm(sigma.gjrgarch.true ~ sigma.gjrgarch.pred.b, \n",
        "                      data = sigma.gjrgarch)\n",
        "round(coeftest(gjrgarch.model.b, NeweyWest(gjrgarch.model.b,\n",
        "                                          lag = bwNeweyWest(gjrgarch.model.b),\n",
        "                                          prewhite = F)), 3)\n",
        "round(summary(gjrgarch.model.b)$adj.r.squared, 3)"
      ],
      "id": "tBYTx0AqhYC8",
      "execution_count": 138,
      "outputs": [
        {
          "output_type": "display_data",
          "data": {
            "text/plain": [
              "\n",
              "t test of coefficients:\n",
              "\n",
              "                      Estimate Std. Error t value  Pr(>|t|)    \n",
              "(Intercept)             -2.433      0.164 -14.839 < 2.2e-16 ***\n",
              "sigma.gjrgarch.pred.b    3.241      0.126  25.785 < 2.2e-16 ***\n",
              "---\n",
              "Signif. codes:  0 ‘***’ 0.001 ‘**’ 0.01 ‘*’ 0.05 ‘.’ 0.1 ‘ ’ 1\n"
            ]
          },
          "metadata": {
            "tags": []
          }
        },
        {
          "output_type": "display_data",
          "data": {
            "text/plain": [
              "[1] 0.933"
            ],
            "text/latex": "0.933",
            "text/markdown": "0.933",
            "text/html": [
              "0.933"
            ]
          },
          "metadata": {
            "tags": []
          }
        }
      ]
    },
    {
      "cell_type": "markdown",
      "metadata": {
        "id": "hBtX1JYCb3s3"
      },
      "source": [
        "#11. Forecast - Realized GARCH models"
      ],
      "id": "hBtX1JYCb3s3"
    },
    {
      "cell_type": "markdown",
      "metadata": {
        "id": "UIwlmS2LcHzI"
      },
      "source": [
        "##(a) Realized Linear GARCH"
      ],
      "id": "UIwlmS2LcHzI"
    },
    {
      "cell_type": "markdown",
      "metadata": {
        "id": "m1Lwk0WVrwGP"
      },
      "source": [
        "**Forecast**"
      ],
      "id": "m1Lwk0WVrwGP"
    },
    {
      "cell_type": "code",
      "metadata": {
        "id": "qz6geGd9cb1b"
      },
      "source": [
        "# Model specification\n",
        "realgarch.spec.pred <- realgarch.spec\n",
        "setfixed(realgarch.spec.pred) <- as.list(coef(realgarch.fit))"
      ],
      "id": "qz6geGd9cb1b",
      "execution_count": 139,
      "outputs": []
    },
    {
      "cell_type": "code",
      "metadata": {
        "id": "dmFRUuGzdBgQ"
      },
      "source": [
        "# Model adjustment\n",
        "realgarch.fit.pred <- ugarchfit(realgarch.spec,\n",
        "                                HSCE.df$HSCE.Return,\n",
        "                                out.sample = dim(HSCE.df.out)[1],\n",
        "                                solver = 'hybrid',\n",
        "                                realizedVol = HSCE.df$HSCE.VolGARCH)"
      ],
      "id": "dmFRUuGzdBgQ",
      "execution_count": 140,
      "outputs": []
    },
    {
      "cell_type": "code",
      "metadata": {
        "id": "uAyVSHF0eBkR"
      },
      "source": [
        "# Forecast calculated through adjustment\n",
        "realgarch.pred.a <- ugarchforecast(realgarch.fit.pred,\n",
        "                                   n.ahead = 1,\n",
        "                                   n.roll = dim(HSCE.df.out)[1])\n",
        "\n",
        "realgarch.forecast.a <- xts(sigma(realgarch.pred.a)[1,],\n",
        "                            move(as.Date(names(sigma(realgarch.pred.a)[1,])), by = 1))"
      ],
      "id": "uAyVSHF0eBkR",
      "execution_count": 141,
      "outputs": []
    },
    {
      "cell_type": "code",
      "metadata": {
        "id": "GpWgFuK_eVgR"
      },
      "source": [
        "# Forecast calculated using specification\n",
        "realgarch.pred.b <- ugarchforecast(realgarch.spec.pred, \n",
        "                                   n.ahead = 1, \n",
        "                                   n.roll = dim(HSCE.df.out)[1], \n",
        "                                   data = HSCE.df$HSCE.Return, \n",
        "                                   out.sample = dim(HSCE.df.out)[1], \n",
        "                                   realizedVol = HSCE.df$HSCE.VolRealGARCH)\n",
        "\n",
        "realgarch.forecast.b <- xts(sigma(realgarch.pred.b)[1,],\n",
        "                            move(as.Date(names(sigma(realgarch.pred.b)[1,])), by = 1))"
      ],
      "id": "GpWgFuK_eVgR",
      "execution_count": 142,
      "outputs": []
    },
    {
      "cell_type": "code",
      "metadata": {
        "id": "t-BKfrn_fXib"
      },
      "source": [
        "# Model filtering\n",
        "realgarch.filt.pred <- ugarchfilter(realgarch.spec.pred,\n",
        "                                    data = HSCE.df$HSCE.Return,\n",
        "                                    n.old = nrow(HSCE.df) - dim(HSCE.df.out)[1],\n",
        "                                    realizedVol = HSCE.df$HSCE.VolRealGARCH)\n",
        "\n",
        "realgarch.filt <- tail(sigma(realgarch.filt.pred), dim(HSCE.df.out)[1])"
      ],
      "id": "t-BKfrn_fXib",
      "execution_count": 143,
      "outputs": []
    },
    {
      "cell_type": "code",
      "metadata": {
        "colab": {
          "base_uri": "https://localhost:8080/",
          "height": 136
        },
        "id": "etKihjvFoDCY",
        "outputId": "ab834f9c-ba2e-4ad7-c7fe-96583f2d9165"
      },
      "source": [
        "# Comparative\n",
        "colnames(realgarch.filt) <- 'filter'\n",
        "colnames(realgarch.forecast.a) <- 'forecast1'\n",
        "colnames(realgarch.forecast.b) <- 'forecast2'\n",
        "\n",
        "realgarch.ftest <- cbind(realgarch.filt,\n",
        "                        realgarch.forecast.a,\n",
        "                        realgarch.forecast.b)\n",
        "head(round(realgarch.ftest, digits = 4))"
      ],
      "id": "etKihjvFoDCY",
      "execution_count": 144,
      "outputs": [
        {
          "output_type": "display_data",
          "data": {
            "text/plain": [
              "           filter forecast1 forecast2\n",
              "2015-01-14 1.6578    1.5962    1.6627\n",
              "2015-01-15 1.6091    1.5448    1.6105\n",
              "2015-01-16 1.5579    1.5023    1.5607\n",
              "2015-01-19 1.5121    1.5064    1.5157\n",
              "2015-01-20 1.5115    1.4776    1.5137\n",
              "2015-01-21 1.4854    1.9598    1.4871"
            ]
          },
          "metadata": {
            "tags": []
          }
        }
      ]
    },
    {
      "cell_type": "code",
      "metadata": {
        "colab": {
          "base_uri": "https://localhost:8080/",
          "height": 252
        },
        "id": "PLZ71If2oR7-",
        "outputId": "6d480fef-8e2c-4ad5-e005-6e5cb06135f5"
      },
      "source": [
        "sigma.realgarch.pred.a <- ts(realgarch.forecast.a[-1,])\n",
        "sigma.realgarch.pred.b <- ts(realgarch.forecast.b[-1,])\n",
        "sigma.realgarch.true <- ts(HSCE.df.out$HSCE.VolRealGARCH)\n",
        "\n",
        "sigma.realgarch <- na.omit(cbind(sigma.realgarch.pred.a,\n",
        "                                sigma.realgarch.pred.b,\n",
        "                                sigma.realgarch.true))\n",
        "head(sigma.realgarch)"
      ],
      "id": "PLZ71If2oR7-",
      "execution_count": 145,
      "outputs": [
        {
          "output_type": "display_data",
          "data": {
            "text/plain": [
              "  sigma.realgarch.pred.a sigma.realgarch.pred.b sigma.realgarch.true\n",
              "1 1.544792               1.610526               2.566935            \n",
              "2 1.502289               1.560736               2.406817            \n",
              "3 1.506382               1.515707               2.268139            \n",
              "4 1.477563               1.513652               2.267533            \n",
              "5 1.959822               1.487078               2.189664            \n",
              "6 1.980633               1.972705               3.848149            "
            ],
            "text/latex": "A Time Series: 6 × 3\n\\begin{tabular}{r|lll}\n  & sigma.realgarch.pred.a & sigma.realgarch.pred.b & sigma.realgarch.true\\\\\n\\hline\n\t1 & 1.544792 & 1.610526 & 2.566935\\\\\n\t2 & 1.502289 & 1.560736 & 2.406817\\\\\n\t3 & 1.506382 & 1.515707 & 2.268139\\\\\n\t4 & 1.477563 & 1.513652 & 2.267533\\\\\n\t5 & 1.959822 & 1.487078 & 2.189664\\\\\n\t6 & 1.980633 & 1.972705 & 3.848149\\\\\n\\end{tabular}\n",
            "text/markdown": "\nA Time Series: 6 × 3\n\n| <!--/--> | sigma.realgarch.pred.a | sigma.realgarch.pred.b | sigma.realgarch.true |\n|---|---|---|---|\n| 1 | 1.544792 | 1.610526 | 2.566935 |\n| 2 | 1.502289 | 1.560736 | 2.406817 |\n| 3 | 1.506382 | 1.515707 | 2.268139 |\n| 4 | 1.477563 | 1.513652 | 2.267533 |\n| 5 | 1.959822 | 1.487078 | 2.189664 |\n| 6 | 1.980633 | 1.972705 | 3.848149 |\n\n",
            "text/html": [
              "<table class=\"dataframe\">\n",
              "<caption>A Time Series: 6 × 3</caption>\n",
              "<thead>\n",
              "\t<tr><th></th><th scope=col>sigma.realgarch.pred.a</th><th scope=col>sigma.realgarch.pred.b</th><th scope=col>sigma.realgarch.true</th></tr>\n",
              "</thead>\n",
              "<tbody>\n",
              "\t<tr><th scope=row>1</th><td>1.544792</td><td>1.610526</td><td>2.566935</td></tr>\n",
              "\t<tr><th scope=row>2</th><td>1.502289</td><td>1.560736</td><td>2.406817</td></tr>\n",
              "\t<tr><th scope=row>3</th><td>1.506382</td><td>1.515707</td><td>2.268139</td></tr>\n",
              "\t<tr><th scope=row>4</th><td>1.477563</td><td>1.513652</td><td>2.267533</td></tr>\n",
              "\t<tr><th scope=row>5</th><td>1.959822</td><td>1.487078</td><td>2.189664</td></tr>\n",
              "\t<tr><th scope=row>6</th><td>1.980633</td><td>1.972705</td><td>3.848149</td></tr>\n",
              "</tbody>\n",
              "</table>\n"
            ]
          },
          "metadata": {
            "tags": []
          }
        }
      ]
    },
    {
      "cell_type": "markdown",
      "metadata": {
        "id": "FC4yfA9tog9z"
      },
      "source": [
        "**Performance evaluation**"
      ],
      "id": "FC4yfA9tog9z"
    },
    {
      "cell_type": "code",
      "metadata": {
        "colab": {
          "base_uri": "https://localhost:8080/",
          "height": 51
        },
        "id": "8F-5qQlPojtX",
        "outputId": "35dbb3c2-c746-4ce9-d3af-840669ee460e"
      },
      "source": [
        "# Forecast Error - Forecast a\n",
        "realgarch.error.a <- sigma.realgarch[,'sigma.realgarch.pred.a'] - sigma.realgarch[,'sigma.realgarch.true']\n",
        "head(realgarch.error.a)"
      ],
      "id": "8F-5qQlPojtX",
      "execution_count": 146,
      "outputs": [
        {
          "output_type": "display_data",
          "data": {
            "text/plain": [
              "A Time Series:\n",
              "[1] -1.0221433 -0.9045280 -0.7617569 -0.7899694 -0.2298417 -1.8675156"
            ],
            "text/latex": "A Time Series:\\\\\\begin{enumerate*}\n\\item -1.02214331627845\n\\item -0.904527972105139\n\\item -0.761756942411741\n\\item -0.78996943935234\n\\item -0.229841700747604\n\\item -1.86751557559941\n\\end{enumerate*}\n",
            "text/markdown": "A Time Series:  \n1. -1.02214331627845\n2. -0.904527972105139\n3. -0.761756942411741\n4. -0.78996943935234\n5. -0.229841700747604\n6. -1.86751557559941\n\n\n",
            "text/html": [
              "A Time Series:<br><style>\n",
              ".list-inline {list-style: none; margin:0; padding: 0}\n",
              ".list-inline>li {display: inline-block}\n",
              ".list-inline>li:not(:last-child)::after {content: \"\\00b7\"; padding: 0 .5ex}\n",
              "</style>\n",
              "<ol class=list-inline><li>-1.02214331627845</li><li>-0.904527972105139</li><li>-0.761756942411741</li><li>-0.78996943935234</li><li>-0.229841700747604</li><li>-1.86751557559941</li></ol>\n"
            ]
          },
          "metadata": {
            "tags": []
          }
        }
      ]
    },
    {
      "cell_type": "code",
      "metadata": {
        "colab": {
          "base_uri": "https://localhost:8080/",
          "height": 51
        },
        "id": "PiJYuUxiotkL",
        "outputId": "87c0c5b2-102e-4d65-f143-08bfb786f8d1"
      },
      "source": [
        "# Forecast Error - Forecast b\n",
        "realgarch.error.b <- sigma.realgarch[,'sigma.realgarch.pred.b'] - sigma.realgarch[,'sigma.realgarch.true']\n",
        "head(realgarch.error.b)"
      ],
      "id": "PiJYuUxiotkL",
      "execution_count": 147,
      "outputs": [
        {
          "output_type": "display_data",
          "data": {
            "text/plain": [
              "A Time Series:\n",
              "[1] -0.9564093 -0.8460813 -0.7524319 -0.7538807 -0.7025857 -1.8754436"
            ],
            "text/latex": "A Time Series:\\\\\\begin{enumerate*}\n\\item -0.956409339968381\n\\item -0.846081275340102\n\\item -0.752431877130568\n\\item -0.753880729427392\n\\item -0.702585718387758\n\\item -1.87544360099584\n\\end{enumerate*}\n",
            "text/markdown": "A Time Series:  \n1. -0.956409339968381\n2. -0.846081275340102\n3. -0.752431877130568\n4. -0.753880729427392\n5. -0.702585718387758\n6. -1.87544360099584\n\n\n",
            "text/html": [
              "A Time Series:<br><style>\n",
              ".list-inline {list-style: none; margin:0; padding: 0}\n",
              ".list-inline>li {display: inline-block}\n",
              ".list-inline>li:not(:last-child)::after {content: \"\\00b7\"; padding: 0 .5ex}\n",
              "</style>\n",
              "<ol class=list-inline><li>-0.956409339968381</li><li>-0.846081275340102</li><li>-0.752431877130568</li><li>-0.753880729427392</li><li>-0.702585718387758</li><li>-1.87544360099584</li></ol>\n"
            ]
          },
          "metadata": {
            "tags": []
          }
        }
      ]
    },
    {
      "cell_type": "code",
      "metadata": {
        "colab": {
          "base_uri": "https://localhost:8080/",
          "height": 34
        },
        "id": "vbAvOFpLo0nu",
        "outputId": "a28c11c8-41ed-4850-d66b-82981c2b546b"
      },
      "source": [
        "# Mean Square Error Loss - Forecast a\n",
        "realgarch.mse.a <- MSE(sigma.realgarch[,'sigma.realgarch.pred.a'],\n",
        "                      sigma.realgarch[,'sigma.realgarch.true'])\n",
        "round(realgarch.mse.a, digits = 3)"
      ],
      "id": "vbAvOFpLo0nu",
      "execution_count": 148,
      "outputs": [
        {
          "output_type": "display_data",
          "data": {
            "text/plain": [
              "[1] 1.22"
            ],
            "text/latex": "1.22",
            "text/markdown": "1.22",
            "text/html": [
              "1.22"
            ]
          },
          "metadata": {
            "tags": []
          }
        }
      ]
    },
    {
      "cell_type": "code",
      "metadata": {
        "colab": {
          "base_uri": "https://localhost:8080/",
          "height": 34
        },
        "id": "NYOMn_1jpBuo",
        "outputId": "aed019e4-9d2b-47a2-8905-0e107cbc35ee"
      },
      "source": [
        "# Mean Square Error Loss - Forecast b\n",
        "realgarch.mse.b <- MSE(sigma.realgarch[,'sigma.realgarch.pred.b'],\n",
        "                      sigma.realgarch[,'sigma.realgarch.true'])\n",
        "round(realgarch.mse.b, digits = 3)"
      ],
      "id": "NYOMn_1jpBuo",
      "execution_count": 149,
      "outputs": [
        {
          "output_type": "display_data",
          "data": {
            "text/plain": [
              "[1] 1.175"
            ],
            "text/latex": "1.175",
            "text/markdown": "1.175",
            "text/html": [
              "1.175"
            ]
          },
          "metadata": {
            "tags": []
          }
        }
      ]
    },
    {
      "cell_type": "code",
      "metadata": {
        "colab": {
          "base_uri": "https://localhost:8080/",
          "height": 34
        },
        "id": "5gtUpAD3pLBL",
        "outputId": "b6466e9f-9e11-4323-e176-6da599adb854"
      },
      "source": [
        "# Mean Absolute Error Loss - Forecast a\n",
        "realgarch.mae.a <- MAE(sigma.realgarch[,'sigma.realgarch.pred.a'],\n",
        "                      sigma.realgarch[,'sigma.realgarch.true'])\n",
        "round(realgarch.mae.a, digits = 3)"
      ],
      "id": "5gtUpAD3pLBL",
      "execution_count": 150,
      "outputs": [
        {
          "output_type": "display_data",
          "data": {
            "text/plain": [
              "[1] 0.683"
            ],
            "text/latex": "0.683",
            "text/markdown": "0.683",
            "text/html": [
              "0.683"
            ]
          },
          "metadata": {
            "tags": []
          }
        }
      ]
    },
    {
      "cell_type": "code",
      "metadata": {
        "colab": {
          "base_uri": "https://localhost:8080/",
          "height": 34
        },
        "id": "vHqwSRt4psVv",
        "outputId": "4747d6e5-0a03-4d01-c299-54e85c86c67f"
      },
      "source": [
        "# Mean Absolute Error Loss - Forecast b\n",
        "realgarch.mae.b <- MAE(sigma.realgarch[,'sigma.realgarch.pred.b'],\n",
        "                      sigma.realgarch[,'sigma.realgarch.true'])\n",
        "round(realgarch.mae.b, digits = 3)"
      ],
      "id": "vHqwSRt4psVv",
      "execution_count": 151,
      "outputs": [
        {
          "output_type": "display_data",
          "data": {
            "text/plain": [
              "[1] 0.668"
            ],
            "text/latex": "0.668",
            "text/markdown": "0.668",
            "text/html": [
              "0.668"
            ]
          },
          "metadata": {
            "tags": []
          }
        }
      ]
    },
    {
      "cell_type": "code",
      "metadata": {
        "colab": {
          "base_uri": "https://localhost:8080/",
          "height": 34
        },
        "id": "zAncFWD3p1UQ",
        "outputId": "279f4ca0-ac9f-429b-bcf7-b7b7e15a660c"
      },
      "source": [
        "# Root Mean Square Error Loss - Forecast a\n",
        "realgarch.rmse.a <- RMSE(sigma.realgarch[,'sigma.realgarch.pred.a'],\n",
        "                        sigma.realgarch[,'sigma.realgarch.true'])\n",
        "round(realgarch.rmse.a, digits = 3)"
      ],
      "id": "zAncFWD3p1UQ",
      "execution_count": 152,
      "outputs": [
        {
          "output_type": "display_data",
          "data": {
            "text/plain": [
              "[1] 1.104"
            ],
            "text/latex": "1.104",
            "text/markdown": "1.104",
            "text/html": [
              "1.104"
            ]
          },
          "metadata": {
            "tags": []
          }
        }
      ]
    },
    {
      "cell_type": "code",
      "metadata": {
        "colab": {
          "base_uri": "https://localhost:8080/",
          "height": 34
        },
        "id": "YUT2DAgbp_Hh",
        "outputId": "1c06e586-9c0e-4394-ab35-2376dd41099e"
      },
      "source": [
        "# Root Mean Square Error Loss - Forecast b\n",
        "realgarch.rmse.b <- RMSE(sigma.realgarch[,'sigma.realgarch.pred.b'],\n",
        "                        sigma.realgarch[,'sigma.realgarch.true'])\n",
        "round(realgarch.rmse.b, digits = 3)"
      ],
      "id": "YUT2DAgbp_Hh",
      "execution_count": 153,
      "outputs": [
        {
          "output_type": "display_data",
          "data": {
            "text/plain": [
              "[1] 1.084"
            ],
            "text/latex": "1.084",
            "text/markdown": "1.084",
            "text/html": [
              "1.084"
            ]
          },
          "metadata": {
            "tags": []
          }
        }
      ]
    },
    {
      "cell_type": "code",
      "metadata": {
        "colab": {
          "base_uri": "https://localhost:8080/",
          "height": 34
        },
        "id": "7NgsSo1NqGeb",
        "outputId": "d54207bb-8372-489e-84e6-7afd10b193f9"
      },
      "source": [
        "# Quasi-likelihood loss function - forecast a\n",
        "h <- sigma.realgarch[,'sigma.realgarch.true']\n",
        "\n",
        "h.hat.a <- sigma.realgarch[,'sigma.realgarch.pred.a']     \n",
        "realgarch.qlike.a <- mean(log(sqrt(h)) + h.hat.a/sqrt(h))\n",
        "round(realgarch.qlike.a, digits = 5)"
      ],
      "id": "7NgsSo1NqGeb",
      "execution_count": 154,
      "outputs": [
        {
          "output_type": "display_data",
          "data": {
            "text/plain": [
              "[1] 1.2948"
            ],
            "text/latex": "1.2948",
            "text/markdown": "1.2948",
            "text/html": [
              "1.2948"
            ]
          },
          "metadata": {
            "tags": []
          }
        }
      ]
    },
    {
      "cell_type": "code",
      "metadata": {
        "id": "iW1lc37WqRWB",
        "colab": {
          "base_uri": "https://localhost:8080/",
          "height": 34
        },
        "outputId": "49cf3f8b-7bd3-4f06-e9b8-63880022f46a"
      },
      "source": [
        "# Quasi-likelihood loss function - forecast b\n",
        "h.hat.b <- sigma.realgarch[,'sigma.realgarch.pred.b']\n",
        "realgarch.qlike.b <- mean(log(sqrt(h)) + h.hat.b/sqrt(h))\n",
        "round(realgarch.qlike.b, digits = 5)"
      ],
      "id": "iW1lc37WqRWB",
      "execution_count": 155,
      "outputs": [
        {
          "output_type": "display_data",
          "data": {
            "text/plain": [
              "[1] 1.29973"
            ],
            "text/latex": "1.29973",
            "text/markdown": "1.29973",
            "text/html": [
              "1.29973"
            ]
          },
          "metadata": {
            "tags": []
          }
        }
      ]
    },
    {
      "cell_type": "code",
      "metadata": {
        "colab": {
          "base_uri": "https://localhost:8080/",
          "height": 119
        },
        "id": "8pJzz3NkLbR_",
        "outputId": "9a8355f5-9b71-4b2d-d75c-8eb5955285a9"
      },
      "source": [
        "# Diebold-Mariano Test (accuracy test) - test 1\n",
        "f.a <- sigma.realgarch[,'sigma.realgarch.pred.a']\n",
        "f.b <- sigma.realgarch[,'sigma.realgarch.pred.b']\n",
        "y <- sigma.realgarch[,'sigma.realgarch.true']\n",
        "\n",
        "DM.test(f.a, f.b, y, loss.type = \"SE\", c = FALSE, H1 = \"same\")"
      ],
      "id": "8pJzz3NkLbR_",
      "execution_count": 156,
      "outputs": [
        {
          "output_type": "display_data",
          "data": {
            "text/plain": [
              "\n",
              "\tDiebold-Mariano test\n",
              "\n",
              "data:  f.a and f.b and y\n",
              "statistic = 8.0115, forecast horizon = 1, p-value = 1.133e-15\n",
              "alternative hypothesis: Forecast f1 and f2 have different accuracy.\n"
            ]
          },
          "metadata": {
            "tags": []
          }
        }
      ]
    },
    {
      "cell_type": "code",
      "metadata": {
        "colab": {
          "base_uri": "https://localhost:8080/",
          "height": 136
        },
        "id": "xQq1f2KCLlQm",
        "outputId": "621f1fa8-83cd-405e-9d64-bcc301bc5f1d"
      },
      "source": [
        "# Diebold-Mariano test for predictive accuracy - test 2\n",
        "e.a <- realgarch.error.a\n",
        "e.b <- realgarch.error.b\n",
        "\n",
        "dm.test(e.a, e.b, alternative = \"two.sided\", h = 1, power = 2)"
      ],
      "id": "xQq1f2KCLlQm",
      "execution_count": 157,
      "outputs": [
        {
          "output_type": "display_data",
          "data": {
            "text/plain": [
              "\n",
              "\tDiebold-Mariano Test\n",
              "\n",
              "data:  e.ae.b\n",
              "DM = 8.0089, Forecast horizon = 1, Loss function power = 2, p-value =\n",
              "2.235e-15\n",
              "alternative hypothesis: two.sided\n"
            ]
          },
          "metadata": {
            "tags": []
          }
        }
      ]
    },
    {
      "cell_type": "code",
      "metadata": {
        "colab": {
          "base_uri": "https://localhost:8080/",
          "height": 34
        },
        "id": "jY7kH1DsLu0F",
        "outputId": "7a0efd7a-3095-42bd-88b3-f9cbd4f04557"
      },
      "source": [
        "# Quasi-likelihood Loss Function For Volatility Forecasts - forecast a\n",
        "realgarch.qlike.a <- mean(LossVol(sigma.realgarch[,'sigma.realgarch.true'],\n",
        "                                  sigma.realgarch[,'sigma.realgarch.pred.a'],\n",
        "                                  which = \"QLIKE\"))\n",
        "round(realgarch.qlike.a, digits = 3)"
      ],
      "id": "jY7kH1DsLu0F",
      "execution_count": 158,
      "outputs": [
        {
          "output_type": "display_data",
          "data": {
            "text/plain": [
              "[1] 2.665"
            ],
            "text/latex": "2.665",
            "text/markdown": "2.665",
            "text/html": [
              "2.665"
            ]
          },
          "metadata": {
            "tags": []
          }
        }
      ]
    },
    {
      "cell_type": "code",
      "metadata": {
        "colab": {
          "base_uri": "https://localhost:8080/",
          "height": 34
        },
        "id": "q27uEsBQL7Qv",
        "outputId": "2a05ff1d-ae14-4bd6-d530-bb8d8611b4c4"
      },
      "source": [
        "# Quasi-likelihood Loss Function For Volatility Forecasts - forecast b\n",
        "realgarch.qlike.b <- mean(LossVol(sigma.realgarch[,'sigma.realgarch.true'],\n",
        "                                  sigma.realgarch[,'sigma.realgarch.pred.b'],\n",
        "                                  which = \"QLIKE\"))\n",
        "round(realgarch.qlike.b, digits = 3)"
      ],
      "id": "q27uEsBQL7Qv",
      "execution_count": 159,
      "outputs": [
        {
          "output_type": "display_data",
          "data": {
            "text/plain": [
              "[1] 2.626"
            ],
            "text/latex": "2.626",
            "text/markdown": "2.626",
            "text/html": [
              "2.626"
            ]
          },
          "metadata": {
            "tags": []
          }
        }
      ]
    },
    {
      "cell_type": "code",
      "metadata": {
        "colab": {
          "base_uri": "https://localhost:8080/",
          "height": 34
        },
        "id": "TMTJMS8Irbu-",
        "outputId": "952313f1-6ab9-4166-dd27-15a1d14e5710"
      },
      "source": [
        "# Log loss / Cross-Entropy Loss -  forecast a\n",
        "realgarch.logloss.a <- LogLoss(sigma.realgarch[,'sigma.realgarch.pred.a'],\n",
        "                              sigma.realgarch[,'sigma.realgarch.true'])\n",
        "round(realgarch.logloss.a, digits = 3)"
      ],
      "id": "TMTJMS8Irbu-",
      "execution_count": 160,
      "outputs": [
        {
          "output_type": "display_data",
          "data": {
            "text/plain": [
              "[1] -36.532"
            ],
            "text/latex": "-36.532",
            "text/markdown": "-36.532",
            "text/html": [
              "-36.532"
            ]
          },
          "metadata": {
            "tags": []
          }
        }
      ]
    },
    {
      "cell_type": "code",
      "metadata": {
        "colab": {
          "base_uri": "https://localhost:8080/",
          "height": 34
        },
        "id": "YZMTB5ofrd7X",
        "outputId": "74694966-40d1-4d2f-b020-93283cd8b26f"
      },
      "source": [
        "# Log loss / Cross-Entropy Loss -  forecast b\n",
        "realgarch.logloss.b <- LogLoss(sigma.realgarch[,'sigma.realgarch.pred.b'],\n",
        "                              sigma.realgarch[,'sigma.realgarch.true'])\n",
        "round(realgarch.logloss.b, digits = 3)"
      ],
      "id": "YZMTB5ofrd7X",
      "execution_count": 161,
      "outputs": [
        {
          "output_type": "display_data",
          "data": {
            "text/plain": [
              "[1] -36.572"
            ],
            "text/latex": "-36.572",
            "text/markdown": "-36.572",
            "text/html": [
              "-36.572"
            ]
          },
          "metadata": {
            "tags": []
          }
        }
      ]
    },
    {
      "cell_type": "code",
      "metadata": {
        "colab": {
          "base_uri": "https://localhost:8080/",
          "height": 170
        },
        "id": "JEMT__yorfjp",
        "outputId": "569bc28a-42c6-433f-acd3-9924629155a1"
      },
      "source": [
        "# Linear regression to assess forecast performance - forecast a\n",
        "realgarch.model.a <- lm(sigma.realgarch.true ~ sigma.realgarch.pred.a,\n",
        "                        data = sigma.realgarch)\n",
        "round(coeftest(realgarch.model.a, NeweyWest(realgarch.model.a,\n",
        "                                            lag = bwNeweyWest(realgarch.model.a),\n",
        "                                            prewhite = F)), 3)\n",
        "round(summary(realgarch.model.a)$adj.r.squared, 3)"
      ],
      "id": "JEMT__yorfjp",
      "execution_count": 162,
      "outputs": [
        {
          "output_type": "display_data",
          "data": {
            "text/plain": [
              "\n",
              "t test of coefficients:\n",
              "\n",
              "                       Estimate Std. Error t value  Pr(>|t|)    \n",
              "(Intercept)              -2.453      0.166 -14.743 < 2.2e-16 ***\n",
              "sigma.realgarch.pred.a    3.259      0.128  25.467 < 2.2e-16 ***\n",
              "---\n",
              "Signif. codes:  0 ‘***’ 0.001 ‘**’ 0.01 ‘*’ 0.05 ‘.’ 0.1 ‘ ’ 1\n"
            ]
          },
          "metadata": {
            "tags": []
          }
        },
        {
          "output_type": "display_data",
          "data": {
            "text/plain": [
              "[1] 0.937"
            ],
            "text/latex": "0.937",
            "text/markdown": "0.937",
            "text/html": [
              "0.937"
            ]
          },
          "metadata": {
            "tags": []
          }
        }
      ]
    },
    {
      "cell_type": "code",
      "metadata": {
        "colab": {
          "base_uri": "https://localhost:8080/",
          "height": 170
        },
        "id": "ldQCcTrrrhmc",
        "outputId": "6c237795-f391-4d61-b464-470ec7d807e1"
      },
      "source": [
        "# Linear regression to assess forecast performance - forecast b\n",
        "realgarch.model.b <- lm(sigma.realgarch.true ~ sigma.realgarch.pred.b,\n",
        "                        data = sigma.realgarch)\n",
        "round(coeftest(realgarch.model.b, NeweyWest(realgarch.model.b,\n",
        "                                            lag = bwNeweyWest(realgarch.model.b),\n",
        "                                            prewhite = F)), 3)\n",
        "round(summary(realgarch.model.b)$adj.r.squared, 3)"
      ],
      "id": "ldQCcTrrrhmc",
      "execution_count": 163,
      "outputs": [
        {
          "output_type": "display_data",
          "data": {
            "text/plain": [
              "\n",
              "t test of coefficients:\n",
              "\n",
              "                       Estimate Std. Error t value  Pr(>|t|)    \n",
              "(Intercept)              -2.465      0.123 -19.984 < 2.2e-16 ***\n",
              "sigma.realgarch.pred.b    3.244      0.094  34.614 < 2.2e-16 ***\n",
              "---\n",
              "Signif. codes:  0 ‘***’ 0.001 ‘**’ 0.01 ‘*’ 0.05 ‘.’ 0.1 ‘ ’ 1\n"
            ]
          },
          "metadata": {
            "tags": []
          }
        },
        {
          "output_type": "display_data",
          "data": {
            "text/plain": [
              "[1] 0.974"
            ],
            "text/latex": "0.974",
            "text/markdown": "0.974",
            "text/html": [
              "0.974"
            ]
          },
          "metadata": {
            "tags": []
          }
        }
      ]
    },
    {
      "cell_type": "markdown",
      "metadata": {
        "id": "OuZavxA4cLrP"
      },
      "source": [
        "##(b) Realized EGARCH"
      ],
      "id": "OuZavxA4cLrP"
    },
    {
      "cell_type": "markdown",
      "metadata": {
        "id": "4sUcOAaFrz2G"
      },
      "source": [
        "**Forecast**"
      ],
      "id": "4sUcOAaFrz2G"
    },
    {
      "cell_type": "code",
      "metadata": {
        "id": "dCRNQymVi604"
      },
      "source": [
        "# Model specification\n",
        "realegarch.spec.pred <- realgarch.spec\n",
        "setfixed(realegarch.spec.pred) <- as.list(coef(realegarch.fit))"
      ],
      "id": "dCRNQymVi604",
      "execution_count": 164,
      "outputs": []
    },
    {
      "cell_type": "code",
      "metadata": {
        "id": "r2ZbX0BnqqNz"
      },
      "source": [
        "# Model adjustment\n",
        "realegarch.fit.pred <- ugarchfit(realgarch.spec,\n",
        "                                 HSCE.df$HSCE.Return,\n",
        "                                 out.sample = dim(HSCE.df.out)[1],\n",
        "                                 solver = 'hybrid',\n",
        "                                 realizedVol = HSCE.df$HSCE.VolEGARCH)"
      ],
      "id": "r2ZbX0BnqqNz",
      "execution_count": 165,
      "outputs": []
    },
    {
      "cell_type": "code",
      "metadata": {
        "id": "BMElDW_Jq3NC"
      },
      "source": [
        "# Forecast calculated through adjustment\n",
        "realegarch.pred.a <- ugarchforecast(realegarch.fit.pred,\n",
        "                                    n.ahead = 1,\n",
        "                                    n.roll = dim(HSCE.df.out)[1])\n",
        "\n",
        "realegarch.forecast.a <- xts(sigma(realegarch.pred.a)[1,],\n",
        "                             move(as.Date(names(sigma(realegarch.pred.a)[1,])), by = 1))"
      ],
      "id": "BMElDW_Jq3NC",
      "execution_count": 166,
      "outputs": []
    },
    {
      "cell_type": "code",
      "metadata": {
        "id": "sVpye2IHq__O"
      },
      "source": [
        "# Forecast calculated using specification\n",
        "realegarch.pred.b <- ugarchforecast(realegarch.spec.pred, \n",
        "                                   n.ahead = 1, \n",
        "                                   n.roll = dim(HSCE.df.out)[1], \n",
        "                                   data = HSCE.df$HSCE.Return, \n",
        "                                   out.sample = dim(HSCE.df.out)[1], \n",
        "                                   realizedVol = HSCE.df$HSCE.VolRealEGARCH)\n",
        "\n",
        "realegarch.forecast.b <- xts(sigma(realegarch.pred.b)[1,],\n",
        "                             move(as.Date(names(sigma(realegarch.pred.b)[1,])), by = 1))"
      ],
      "id": "sVpye2IHq__O",
      "execution_count": 167,
      "outputs": []
    },
    {
      "cell_type": "code",
      "metadata": {
        "id": "ippLtx4arSw6"
      },
      "source": [
        "# Model filtering\n",
        "realegarch.filt.pred <- ugarchfilter(realegarch.spec.pred,\n",
        "                                     data = HSCE.df$HSCE.Return,\n",
        "                                     n.old = nrow(HSCE.df) - dim(HSCE.df.out)[1],\n",
        "                                     realizedVol = HSCE.df$HSCE.VolRealEGARCH)\n",
        "\n",
        "realegarch.filt <- tail(sigma(realegarch.filt.pred), dim(HSCE.df.out)[1])"
      ],
      "id": "ippLtx4arSw6",
      "execution_count": 168,
      "outputs": []
    },
    {
      "cell_type": "code",
      "metadata": {
        "colab": {
          "base_uri": "https://localhost:8080/",
          "height": 136
        },
        "id": "-mfEos63rZUt",
        "outputId": "2f50a633-f4cd-4f71-d0c9-e20ab7751028"
      },
      "source": [
        "# Comparative\n",
        "colnames(realegarch.filt) <- 'filter'\n",
        "colnames(realegarch.forecast.a) <- 'forecast1'\n",
        "colnames(realegarch.forecast.b) <- 'forecast2'\n",
        "\n",
        "realegarch.ftest <- cbind(realegarch.filt,\n",
        "                         realegarch.forecast.a,\n",
        "                         realegarch.forecast.b)\n",
        "head(round(realegarch.ftest, digits = 4))"
      ],
      "id": "-mfEos63rZUt",
      "execution_count": 169,
      "outputs": [
        {
          "output_type": "display_data",
          "data": {
            "text/plain": [
              "           filter forecast1 forecast2\n",
              "2015-01-14 1.5662    1.5181    1.5777\n",
              "2015-01-15 1.5221    1.4587    1.5293\n",
              "2015-01-16 1.4585    1.4172    1.4600\n",
              "2015-01-19 1.4151    1.4380    1.4197\n",
              "2015-01-20 1.4317    1.4343    1.4375\n",
              "2015-01-21 1.4344    1.8498    1.4407"
            ]
          },
          "metadata": {
            "tags": []
          }
        }
      ]
    },
    {
      "cell_type": "code",
      "metadata": {
        "colab": {
          "base_uri": "https://localhost:8080/",
          "height": 252
        },
        "id": "ZQXrOuN3rgS6",
        "outputId": "dca7c15a-6f5f-4e56-eb0a-68f94a884b36"
      },
      "source": [
        "sigma.realegarch.pred.a <- ts(realegarch.forecast.a[-1,])\n",
        "sigma.realegarch.pred.b <- ts(realegarch.forecast.b[-1,])\n",
        "sigma.realegarch.true <- ts(HSCE.df.out$HSCE.VolRealEGARCH)\n",
        "\n",
        "sigma.realegarch <- na.omit(cbind(sigma.realegarch.pred.a,\n",
        "                                 sigma.realegarch.pred.b,\n",
        "                                 sigma.realegarch.true))\n",
        "head(sigma.realegarch)"
      ],
      "id": "ZQXrOuN3rgS6",
      "execution_count": 170,
      "outputs": [
        {
          "output_type": "display_data",
          "data": {
            "text/plain": [
              "  sigma.realegarch.pred.a sigma.realegarch.pred.b sigma.realegarch.true\n",
              "1 1.458739                1.529289                2.297086             \n",
              "2 1.417244                1.460019                2.108753             \n",
              "3 1.438032                1.419684                1.987235             \n",
              "4 1.434298                1.437481                2.038686             \n",
              "5 1.849779                1.440689                2.045259             \n",
              "6 1.901944                1.838714                3.383403             "
            ],
            "text/latex": "A Time Series: 6 × 3\n\\begin{tabular}{r|lll}\n  & sigma.realegarch.pred.a & sigma.realegarch.pred.b & sigma.realegarch.true\\\\\n\\hline\n\t1 & 1.458739 & 1.529289 & 2.297086\\\\\n\t2 & 1.417244 & 1.460019 & 2.108753\\\\\n\t3 & 1.438032 & 1.419684 & 1.987235\\\\\n\t4 & 1.434298 & 1.437481 & 2.038686\\\\\n\t5 & 1.849779 & 1.440689 & 2.045259\\\\\n\t6 & 1.901944 & 1.838714 & 3.383403\\\\\n\\end{tabular}\n",
            "text/markdown": "\nA Time Series: 6 × 3\n\n| <!--/--> | sigma.realegarch.pred.a | sigma.realegarch.pred.b | sigma.realegarch.true |\n|---|---|---|---|\n| 1 | 1.458739 | 1.529289 | 2.297086 |\n| 2 | 1.417244 | 1.460019 | 2.108753 |\n| 3 | 1.438032 | 1.419684 | 1.987235 |\n| 4 | 1.434298 | 1.437481 | 2.038686 |\n| 5 | 1.849779 | 1.440689 | 2.045259 |\n| 6 | 1.901944 | 1.838714 | 3.383403 |\n\n",
            "text/html": [
              "<table class=\"dataframe\">\n",
              "<caption>A Time Series: 6 × 3</caption>\n",
              "<thead>\n",
              "\t<tr><th></th><th scope=col>sigma.realegarch.pred.a</th><th scope=col>sigma.realegarch.pred.b</th><th scope=col>sigma.realegarch.true</th></tr>\n",
              "</thead>\n",
              "<tbody>\n",
              "\t<tr><th scope=row>1</th><td>1.458739</td><td>1.529289</td><td>2.297086</td></tr>\n",
              "\t<tr><th scope=row>2</th><td>1.417244</td><td>1.460019</td><td>2.108753</td></tr>\n",
              "\t<tr><th scope=row>3</th><td>1.438032</td><td>1.419684</td><td>1.987235</td></tr>\n",
              "\t<tr><th scope=row>4</th><td>1.434298</td><td>1.437481</td><td>2.038686</td></tr>\n",
              "\t<tr><th scope=row>5</th><td>1.849779</td><td>1.440689</td><td>2.045259</td></tr>\n",
              "\t<tr><th scope=row>6</th><td>1.901944</td><td>1.838714</td><td>3.383403</td></tr>\n",
              "</tbody>\n",
              "</table>\n"
            ]
          },
          "metadata": {
            "tags": []
          }
        }
      ]
    },
    {
      "cell_type": "markdown",
      "metadata": {
        "id": "khFocUVZroGF"
      },
      "source": [
        "**Performance evaluation**"
      ],
      "id": "khFocUVZroGF"
    },
    {
      "cell_type": "code",
      "metadata": {
        "colab": {
          "base_uri": "https://localhost:8080/",
          "height": 51
        },
        "id": "e_JT3VHqrnxH",
        "outputId": "8fc0b3e0-c925-4feb-e85d-215f23604f65"
      },
      "source": [
        "# Forecast Error - Forecast a\n",
        "realegarch.error.a <- sigma.realegarch[,'sigma.realegarch.pred.a'] - sigma.realegarch[,'sigma.realegarch.true']\n",
        "head(realegarch.error.a)"
      ],
      "id": "e_JT3VHqrnxH",
      "execution_count": 171,
      "outputs": [
        {
          "output_type": "display_data",
          "data": {
            "text/plain": [
              "A Time Series:\n",
              "[1] -0.8383469 -0.6915092 -0.5492035 -0.6043880 -0.1954806 -1.4814581"
            ],
            "text/latex": "A Time Series:\\\\\\begin{enumerate*}\n\\item -0.838346906495832\n\\item -0.691509152969282\n\\item -0.549203529547013\n\\item -0.604388036515317\n\\item -0.195480567532402\n\\item -1.48145809182218\n\\end{enumerate*}\n",
            "text/markdown": "A Time Series:  \n1. -0.838346906495832\n2. -0.691509152969282\n3. -0.549203529547013\n4. -0.604388036515317\n5. -0.195480567532402\n6. -1.48145809182218\n\n\n",
            "text/html": [
              "A Time Series:<br><style>\n",
              ".list-inline {list-style: none; margin:0; padding: 0}\n",
              ".list-inline>li {display: inline-block}\n",
              ".list-inline>li:not(:last-child)::after {content: \"\\00b7\"; padding: 0 .5ex}\n",
              "</style>\n",
              "<ol class=list-inline><li>-0.838346906495832</li><li>-0.691509152969282</li><li>-0.549203529547013</li><li>-0.604388036515317</li><li>-0.195480567532402</li><li>-1.48145809182218</li></ol>\n"
            ]
          },
          "metadata": {
            "tags": []
          }
        }
      ]
    },
    {
      "cell_type": "code",
      "metadata": {
        "colab": {
          "base_uri": "https://localhost:8080/",
          "height": 51
        },
        "id": "-9waGeC7r-AZ",
        "outputId": "80c5f103-ee9b-457f-f583-0b38459de568"
      },
      "source": [
        "# Forecast Error - Forecast b\n",
        "realegarch.error.b <- sigma.realegarch[,'sigma.realegarch.pred.b'] - sigma.realegarch[,'sigma.realegarch.true']\n",
        "head(realegarch.error.b)"
      ],
      "id": "-9waGeC7r-AZ",
      "execution_count": 172,
      "outputs": [
        {
          "output_type": "display_data",
          "data": {
            "text/plain": [
              "A Time Series:\n",
              "[1] -0.7677968 -0.6487336 -0.5675513 -0.6012049 -0.6045709 -1.5446889"
            ],
            "text/latex": "A Time Series:\\\\\\begin{enumerate*}\n\\item -0.767796781516098\n\\item -0.648733632271708\n\\item -0.567551276223234\n\\item -0.601204850619683\n\\item -0.60457090016207\n\\item -1.54468887413156\n\\end{enumerate*}\n",
            "text/markdown": "A Time Series:  \n1. -0.767796781516098\n2. -0.648733632271708\n3. -0.567551276223234\n4. -0.601204850619683\n5. -0.60457090016207\n6. -1.54468887413156\n\n\n",
            "text/html": [
              "A Time Series:<br><style>\n",
              ".list-inline {list-style: none; margin:0; padding: 0}\n",
              ".list-inline>li {display: inline-block}\n",
              ".list-inline>li:not(:last-child)::after {content: \"\\00b7\"; padding: 0 .5ex}\n",
              "</style>\n",
              "<ol class=list-inline><li>-0.767796781516098</li><li>-0.648733632271708</li><li>-0.567551276223234</li><li>-0.601204850619683</li><li>-0.60457090016207</li><li>-1.54468887413156</li></ol>\n"
            ]
          },
          "metadata": {
            "tags": []
          }
        }
      ]
    },
    {
      "cell_type": "code",
      "metadata": {
        "colab": {
          "base_uri": "https://localhost:8080/",
          "height": 34
        },
        "id": "PiBrYKy6sEhq",
        "outputId": "4918a9ec-7e84-49d0-fc5c-9b4a897425d3"
      },
      "source": [
        "# Mean Square Error Loss - Forecast a\n",
        "realegarch.mse.a <- MSE(sigma.realegarch[,'sigma.realegarch.pred.a'],\n",
        "                        sigma.realegarch[,'sigma.realegarch.true'])\n",
        "round(realegarch.mse.a, digits = 3)"
      ],
      "id": "PiBrYKy6sEhq",
      "execution_count": 173,
      "outputs": [
        {
          "output_type": "display_data",
          "data": {
            "text/plain": [
              "[1] 1.38"
            ],
            "text/latex": "1.38",
            "text/markdown": "1.38",
            "text/html": [
              "1.38"
            ]
          },
          "metadata": {
            "tags": []
          }
        }
      ]
    },
    {
      "cell_type": "code",
      "metadata": {
        "colab": {
          "base_uri": "https://localhost:8080/",
          "height": 34
        },
        "id": "SnAzzICNsRN9",
        "outputId": "cf7dda82-6eef-4f67-b5b4-167f1ed0e0d4"
      },
      "source": [
        "# Mean Square Error Loss - Forecast b\n",
        "realegarch.mse.b <- MSE(sigma.realegarch[,'sigma.realegarch.pred.b'],\n",
        "                        sigma.realegarch[,'sigma.realegarch.true'])\n",
        "round(realegarch.mse.b, digits = 3)"
      ],
      "id": "SnAzzICNsRN9",
      "execution_count": 174,
      "outputs": [
        {
          "output_type": "display_data",
          "data": {
            "text/plain": [
              "[1] 1.348"
            ],
            "text/latex": "1.348",
            "text/markdown": "1.348",
            "text/html": [
              "1.348"
            ]
          },
          "metadata": {
            "tags": []
          }
        }
      ]
    },
    {
      "cell_type": "code",
      "metadata": {
        "colab": {
          "base_uri": "https://localhost:8080/",
          "height": 34
        },
        "id": "8Gzrc_9ZsVuk",
        "outputId": "1c587925-55dd-4e56-f533-aa462ce025f3"
      },
      "source": [
        "# Mean Absolute Error Loss - Forecast a\n",
        "realegarch.mae.a <- MAE(sigma.realegarch[,'sigma.realegarch.pred.a'],\n",
        "                        sigma.realegarch[,'sigma.realegarch.true'])\n",
        "round(realegarch.mae.a, digits = 3)"
      ],
      "id": "8Gzrc_9ZsVuk",
      "execution_count": 175,
      "outputs": [
        {
          "output_type": "display_data",
          "data": {
            "text/plain": [
              "[1] 0.731"
            ],
            "text/latex": "0.731",
            "text/markdown": "0.731",
            "text/html": [
              "0.731"
            ]
          },
          "metadata": {
            "tags": []
          }
        }
      ]
    },
    {
      "cell_type": "code",
      "metadata": {
        "colab": {
          "base_uri": "https://localhost:8080/",
          "height": 34
        },
        "id": "Cz721K6JsbCN",
        "outputId": "9553d3ca-38b6-4ffd-c2db-c4a76d425788"
      },
      "source": [
        "# Mean Absolute Error Loss - Forecast b\n",
        "realegarch.mae.b <- MAE(sigma.realegarch[,'sigma.realegarch.pred.b'],\n",
        "                        sigma.realegarch[,'sigma.realegarch.true'])\n",
        "round(realegarch.mae.b, digits = 3)"
      ],
      "id": "Cz721K6JsbCN",
      "execution_count": 176,
      "outputs": [
        {
          "output_type": "display_data",
          "data": {
            "text/plain": [
              "[1] 0.72"
            ],
            "text/latex": "0.72",
            "text/markdown": "0.72",
            "text/html": [
              "0.72"
            ]
          },
          "metadata": {
            "tags": []
          }
        }
      ]
    },
    {
      "cell_type": "code",
      "metadata": {
        "colab": {
          "base_uri": "https://localhost:8080/",
          "height": 34
        },
        "id": "9Eb94SMosgnv",
        "outputId": "25b2f391-6eeb-4618-f2a7-730d5e8b36a5"
      },
      "source": [
        "# Root Mean Square Error Loss - Forecast a\n",
        "realegarch.rmse.a <- RMSE(sigma.realegarch[,'sigma.realegarch.pred.a'],\n",
        "                          sigma.realegarch[,'sigma.realegarch.true'])\n",
        "round(realegarch.rmse.a, digits = 3)"
      ],
      "id": "9Eb94SMosgnv",
      "execution_count": 177,
      "outputs": [
        {
          "output_type": "display_data",
          "data": {
            "text/plain": [
              "[1] 1.175"
            ],
            "text/latex": "1.175",
            "text/markdown": "1.175",
            "text/html": [
              "1.175"
            ]
          },
          "metadata": {
            "tags": []
          }
        }
      ]
    },
    {
      "cell_type": "code",
      "metadata": {
        "colab": {
          "base_uri": "https://localhost:8080/",
          "height": 34
        },
        "id": "Prmb2aDFsnt3",
        "outputId": "dbb046ba-f1c0-43ae-fa47-f1a7a5af612f"
      },
      "source": [
        "# Root Mean Square Error Loss - Forecast b\n",
        "realegarch.rmse.b <- RMSE(sigma.realegarch[,'sigma.realegarch.pred.b'],\n",
        "                         sigma.realegarch[,'sigma.realegarch.true'])\n",
        "round(realegarch.rmse.b, digits = 3)"
      ],
      "id": "Prmb2aDFsnt3",
      "execution_count": 178,
      "outputs": [
        {
          "output_type": "display_data",
          "data": {
            "text/plain": [
              "[1] 1.161"
            ],
            "text/latex": "1.161",
            "text/markdown": "1.161",
            "text/html": [
              "1.161"
            ]
          },
          "metadata": {
            "tags": []
          }
        }
      ]
    },
    {
      "cell_type": "code",
      "metadata": {
        "colab": {
          "base_uri": "https://localhost:8080/",
          "height": 34
        },
        "id": "0xvoZRpRst8e",
        "outputId": "14f5c86d-f3fe-48c4-9009-0b4a9ad12446"
      },
      "source": [
        "# Quasi-likelihood loss function - forecast a\n",
        "h <- sigma.realegarch[,'sigma.realegarch.true']\n",
        "\n",
        "h.hat.a <- sigma.realegarch[,'sigma.realegarch.pred.a']     \n",
        "realegarch.qlike.a <- mean(log(sqrt(h)) + h.hat.a/sqrt(h))\n",
        "round(realegarch.qlike.a, digits = 5)"
      ],
      "id": "0xvoZRpRst8e",
      "execution_count": 179,
      "outputs": [
        {
          "output_type": "display_data",
          "data": {
            "text/plain": [
              "[1] 1.30825"
            ],
            "text/latex": "1.30825",
            "text/markdown": "1.30825",
            "text/html": [
              "1.30825"
            ]
          },
          "metadata": {
            "tags": []
          }
        }
      ]
    },
    {
      "cell_type": "code",
      "metadata": {
        "colab": {
          "base_uri": "https://localhost:8080/",
          "height": 34
        },
        "id": "bjmoDbwHsy07",
        "outputId": "7d795b85-b9dd-4e19-9159-d4f0e03dec4f"
      },
      "source": [
        "# Quasi-likelihood loss function - forecast b\n",
        "h.hat.b <- sigma.realegarch[,'sigma.realegarch.pred.b']\n",
        "realegarch.qlike.b <- mean(log(sqrt(h)) + h.hat.b/sqrt(h))\n",
        "round(realegarch.qlike.b, digits = 5)"
      ],
      "id": "bjmoDbwHsy07",
      "execution_count": 180,
      "outputs": [
        {
          "output_type": "display_data",
          "data": {
            "text/plain": [
              "[1] 1.30948"
            ],
            "text/latex": "1.30948",
            "text/markdown": "1.30948",
            "text/html": [
              "1.30948"
            ]
          },
          "metadata": {
            "tags": []
          }
        }
      ]
    },
    {
      "cell_type": "code",
      "metadata": {
        "colab": {
          "base_uri": "https://localhost:8080/",
          "height": 119
        },
        "id": "pNX4j9UpM2Xp",
        "outputId": "0c90a957-0952-423d-dc2e-fc1736731654"
      },
      "source": [
        "# Diebold-Mariano Test (accuracy test) - test 1\n",
        "f.a <- sigma.realegarch[,'sigma.realegarch.pred.a']\n",
        "f.b <- sigma.realegarch[,'sigma.realegarch.pred.b']\n",
        "y <- sigma.realegarch[,'sigma.realegarch.true']\n",
        "\n",
        "DM.test(f.a, f.b, y, loss.type = \"SE\", c = FALSE, H1 = \"same\")"
      ],
      "id": "pNX4j9UpM2Xp",
      "execution_count": 181,
      "outputs": [
        {
          "output_type": "display_data",
          "data": {
            "text/plain": [
              "\n",
              "\tDiebold-Mariano test\n",
              "\n",
              "data:  f.a and f.b and y\n",
              "statistic = 5.0774, forecast horizon = 1, p-value = 3.827e-07\n",
              "alternative hypothesis: Forecast f1 and f2 have different accuracy.\n"
            ]
          },
          "metadata": {
            "tags": []
          }
        }
      ]
    },
    {
      "cell_type": "code",
      "metadata": {
        "colab": {
          "base_uri": "https://localhost:8080/",
          "height": 136
        },
        "id": "rZuiAzulM5bV",
        "outputId": "c8c242e6-b08e-4672-a2fc-4eda0446771b"
      },
      "source": [
        "# Diebold-Mariano test for predictive accuracy - test 2\n",
        "e.a <- realegarch.error.a\n",
        "e.b <- realegarch.error.b\n",
        "\n",
        "dm.test(e.a, e.b, alternative = \"two.sided\", h = 1, power = 2)"
      ],
      "id": "rZuiAzulM5bV",
      "execution_count": 182,
      "outputs": [
        {
          "output_type": "display_data",
          "data": {
            "text/plain": [
              "\n",
              "\tDiebold-Mariano Test\n",
              "\n",
              "data:  e.ae.b\n",
              "DM = 5.0757, Forecast horizon = 1, Loss function power = 2, p-value =\n",
              "4.32e-07\n",
              "alternative hypothesis: two.sided\n"
            ]
          },
          "metadata": {
            "tags": []
          }
        }
      ]
    },
    {
      "cell_type": "code",
      "metadata": {
        "colab": {
          "base_uri": "https://localhost:8080/",
          "height": 34
        },
        "id": "V1jfC8jiM7CV",
        "outputId": "d5579c3d-2675-475f-e828-1cb0a2fdafb6"
      },
      "source": [
        "# Quasi-likelihood Loss Function For Volatility Forecasts - forecast a\n",
        "realegarch.qlike.a <- mean(LossVol(sigma.realegarch[,'sigma.realegarch.true'],\n",
        "                                  sigma.realegarch[,'sigma.realegarch.pred.a'],\n",
        "                                  which = \"QLIKE\"))\n",
        "round(realegarch.qlike.a, digits = 3)"
      ],
      "id": "V1jfC8jiM7CV",
      "execution_count": 183,
      "outputs": [
        {
          "output_type": "display_data",
          "data": {
            "text/plain": [
              "[1] 2.735"
            ],
            "text/latex": "2.735",
            "text/markdown": "2.735",
            "text/html": [
              "2.735"
            ]
          },
          "metadata": {
            "tags": []
          }
        }
      ]
    },
    {
      "cell_type": "code",
      "metadata": {
        "colab": {
          "base_uri": "https://localhost:8080/",
          "height": 34
        },
        "id": "zC1g4re5M9KZ",
        "outputId": "58ba7720-d90b-47c0-b461-a7459b443f02"
      },
      "source": [
        "# Quasi-likelihood Loss Function For Volatility Forecasts - forecast 1b\n",
        "realegarch.qlike.b <- mean(LossVol(sigma.realegarch[,'sigma.realegarch.true'],\n",
        "                                  sigma.realegarch[,'sigma.realegarch.pred.b'],\n",
        "                                  which = \"QLIKE\"))\n",
        "round(realegarch.qlike.b, digits = 3)"
      ],
      "id": "zC1g4re5M9KZ",
      "execution_count": 184,
      "outputs": [
        {
          "output_type": "display_data",
          "data": {
            "text/plain": [
              "[1] 2.705"
            ],
            "text/latex": "2.705",
            "text/markdown": "2.705",
            "text/html": [
              "2.705"
            ]
          },
          "metadata": {
            "tags": []
          }
        }
      ]
    },
    {
      "cell_type": "code",
      "metadata": {
        "colab": {
          "base_uri": "https://localhost:8080/",
          "height": 34
        },
        "id": "jGHSBt6Fs20A",
        "outputId": "4d8784a0-ec58-4eba-bbca-66ec05a88f24"
      },
      "source": [
        "# Log loss / Cross-Entropy Loss -  forecast a\n",
        "realegarch.logloss.a <- LogLoss(sigma.realegarch[,'sigma.realegarch.pred.a'],\n",
        "                                sigma.realegarch[,'sigma.realegarch.true'])\n",
        "round(realegarch.logloss.a, digits = 3)"
      ],
      "id": "jGHSBt6Fs20A",
      "execution_count": 185,
      "outputs": [
        {
          "output_type": "display_data",
          "data": {
            "text/plain": [
              "[1] -38.971"
            ],
            "text/latex": "-38.971",
            "text/markdown": "-38.971",
            "text/html": [
              "-38.971"
            ]
          },
          "metadata": {
            "tags": []
          }
        }
      ]
    },
    {
      "cell_type": "code",
      "metadata": {
        "colab": {
          "base_uri": "https://localhost:8080/",
          "height": 34
        },
        "id": "Xz953tWks75m",
        "outputId": "446480b8-af2f-4ca6-b28e-2b006d9890c2"
      },
      "source": [
        "# Log loss / Cross-Entropy Loss -  forecast b\n",
        "realegarch.logloss.b <- LogLoss(sigma.realegarch[,'sigma.realegarch.pred.b'],\n",
        "                               sigma.realegarch[,'sigma.realegarch.true'])\n",
        "round(realegarch.logloss.b, digits = 3)"
      ],
      "id": "Xz953tWks75m",
      "execution_count": 186,
      "outputs": [
        {
          "output_type": "display_data",
          "data": {
            "text/plain": [
              "[1] -39.036"
            ],
            "text/latex": "-39.036",
            "text/markdown": "-39.036",
            "text/html": [
              "-39.036"
            ]
          },
          "metadata": {
            "tags": []
          }
        }
      ]
    },
    {
      "cell_type": "code",
      "metadata": {
        "colab": {
          "base_uri": "https://localhost:8080/",
          "height": 170
        },
        "id": "nDEjjWYytA3n",
        "outputId": "408801a4-305c-43c5-bf42-26b7c1d3d9c2"
      },
      "source": [
        "# Linear regression to assess forecast performance - forecast a\n",
        "realegarch.model.a <- lm(sigma.realegarch.true ~ sigma.realegarch.pred.a,\n",
        "                          data = sigma.realegarch)\n",
        "round(coeftest(realegarch.model.a, NeweyWest(realegarch.model.a,\n",
        "                                            lag = bwNeweyWest(realegarch.model.a),\n",
        "                                            prewhite = F)), 3)\n",
        "round(summary(realegarch.model.a)$adj.r.squared, 3)"
      ],
      "id": "nDEjjWYytA3n",
      "execution_count": 187,
      "outputs": [
        {
          "output_type": "display_data",
          "data": {
            "text/plain": [
              "\n",
              "t test of coefficients:\n",
              "\n",
              "                        Estimate Std. Error t value  Pr(>|t|)    \n",
              "(Intercept)               -2.422      0.165 -14.694 < 2.2e-16 ***\n",
              "sigma.realegarch.pred.a    3.226      0.125  25.773 < 2.2e-16 ***\n",
              "---\n",
              "Signif. codes:  0 ‘***’ 0.001 ‘**’ 0.01 ‘*’ 0.05 ‘.’ 0.1 ‘ ’ 1\n"
            ]
          },
          "metadata": {
            "tags": []
          }
        },
        {
          "output_type": "display_data",
          "data": {
            "text/plain": [
              "[1] 0.936"
            ],
            "text/latex": "0.936",
            "text/markdown": "0.936",
            "text/html": [
              "0.936"
            ]
          },
          "metadata": {
            "tags": []
          }
        }
      ]
    },
    {
      "cell_type": "code",
      "metadata": {
        "colab": {
          "base_uri": "https://localhost:8080/",
          "height": 170
        },
        "id": "pBwia3SptNNd",
        "outputId": "62c6c2f8-9e0e-4cd8-ab5d-77f9045918b1"
      },
      "source": [
        "# Linear regression to assess forecast performance - forecast b\n",
        "realegarch.model.b <- lm(sigma.realegarch.true ~ sigma.realegarch.pred.b,\n",
        "                         data = sigma.realegarch)\n",
        "round(coeftest(realegarch.model.b, NeweyWest(realegarch.model.b,\n",
        "                                             lag = bwNeweyWest(realegarch.model.b),\n",
        "                                             prewhite = F)), 3)\n",
        "round(summary(realegarch.model.b)$adj.r.squared, 3)"
      ],
      "id": "pBwia3SptNNd",
      "execution_count": 188,
      "outputs": [
        {
          "output_type": "display_data",
          "data": {
            "text/plain": [
              "\n",
              "t test of coefficients:\n",
              "\n",
              "                        Estimate Std. Error t value  Pr(>|t|)    \n",
              "(Intercept)               -2.466      0.091 -27.093 < 2.2e-16 ***\n",
              "sigma.realegarch.pred.b    3.248      0.068  47.415 < 2.2e-16 ***\n",
              "---\n",
              "Signif. codes:  0 ‘***’ 0.001 ‘**’ 0.01 ‘*’ 0.05 ‘.’ 0.1 ‘ ’ 1\n"
            ]
          },
          "metadata": {
            "tags": []
          }
        },
        {
          "output_type": "display_data",
          "data": {
            "text/plain": [
              "[1] 0.97"
            ],
            "text/latex": "0.97",
            "text/markdown": "0.97",
            "text/html": [
              "0.97"
            ]
          },
          "metadata": {
            "tags": []
          }
        }
      ]
    },
    {
      "cell_type": "markdown",
      "metadata": {
        "id": "F09WUjYGcRlC"
      },
      "source": [
        "##(c) Realized GJR-GARCH"
      ],
      "id": "F09WUjYGcRlC"
    },
    {
      "cell_type": "markdown",
      "metadata": {
        "id": "qnRKcOcCta7o"
      },
      "source": [
        "**Forecast**"
      ],
      "id": "qnRKcOcCta7o"
    },
    {
      "cell_type": "code",
      "metadata": {
        "id": "Fqt19JCftdbE"
      },
      "source": [
        "# Model specification\n",
        "realgjrgarch.spec.pred <- realgarch.spec\n",
        "setfixed(realgjrgarch.spec.pred) <- as.list(coef(realgjrgarch.fit))"
      ],
      "id": "Fqt19JCftdbE",
      "execution_count": 189,
      "outputs": []
    },
    {
      "cell_type": "code",
      "metadata": {
        "id": "qXP7fhgBte5t"
      },
      "source": [
        "# Model adjustment\n",
        "realgjrgarch.fit.pred <- ugarchfit(realgarch.spec,\n",
        "                                  HSCE.df$HSCE.Return,\n",
        "                                  out.sample = dim(HSCE.df.out)[1],\n",
        "                                  solver = 'hybrid',\n",
        "                                  realizedVol = HSCE.df$HSCE.VolGJRGARCH)"
      ],
      "id": "qXP7fhgBte5t",
      "execution_count": 190,
      "outputs": []
    },
    {
      "cell_type": "code",
      "metadata": {
        "id": "uNJkuqkmtgvL"
      },
      "source": [
        "# Forecast calculated through adjustment\n",
        "realgjrgarch.pred.a <- ugarchforecast(realgjrgarch.fit.pred,\n",
        "                                      n.ahead = 1,\n",
        "                                      n.roll = dim(HSCE.df.out)[1])\n",
        "\n",
        "realgjrgarch.forecast.a <- xts(sigma(realgjrgarch.pred.a)[1,],\n",
        "                              move(as.Date(names(sigma(realgjrgarch.pred.a)[1,])), by = 1))"
      ],
      "id": "uNJkuqkmtgvL",
      "execution_count": 191,
      "outputs": []
    },
    {
      "cell_type": "code",
      "metadata": {
        "id": "rfCr3awkticN"
      },
      "source": [
        "# Forecast calculated using specification\n",
        "realgjrgarch.pred.b <- ugarchforecast(realgjrgarch.spec.pred, \n",
        "                                     n.ahead = 1, \n",
        "                                     n.roll = dim(HSCE.df.out)[1], \n",
        "                                     data = HSCE.df$HSCE.Return, \n",
        "                                     out.sample = dim(HSCE.df.out)[1], \n",
        "                                     realizedVol = HSCE.df$HSCE.VolRealGJRGARCH)\n",
        "\n",
        "realgjrgarch.forecast.b <- xts(sigma(realgjrgarch.pred.b)[1,],\n",
        "                               move(as.Date(names(sigma(realgjrgarch.pred.b)[1,])), by = 1))"
      ],
      "id": "rfCr3awkticN",
      "execution_count": 192,
      "outputs": []
    },
    {
      "cell_type": "code",
      "metadata": {
        "id": "3UzDKX5UtkC7"
      },
      "source": [
        "# Model filtering\n",
        "realgjrgarch.filt.pred <- ugarchfilter(realgjrgarch.spec.pred,\n",
        "                                      data = HSCE.df$HSCE.Return,\n",
        "                                      n.old = nrow(HSCE.df) - dim(HSCE.df.out)[1],\n",
        "                                      realizedVol = HSCE.df$HSCE.VolRealGJRGARCH)\n",
        "\n",
        "realgjrgarch.filt <- tail(sigma(realgjrgarch.filt.pred), dim(HSCE.df.out)[1])"
      ],
      "id": "3UzDKX5UtkC7",
      "execution_count": 193,
      "outputs": []
    },
    {
      "cell_type": "code",
      "metadata": {
        "colab": {
          "base_uri": "https://localhost:8080/",
          "height": 136
        },
        "id": "LNdVHJb2tla3",
        "outputId": "1f9adc2f-1fdd-438f-8ed8-a3ebbdf288a1"
      },
      "source": [
        "# Comparative\n",
        "colnames(realgjrgarch.filt) <- 'filter'\n",
        "colnames(realgjrgarch.forecast.a) <- 'forecast1'\n",
        "colnames(realgjrgarch.forecast.b) <- 'forecast2'\n",
        "\n",
        "realgjrgarch.ftest <- cbind(realgjrgarch.filt,\n",
        "                            realgjrgarch.forecast.a,\n",
        "                            realgjrgarch.forecast.b)\n",
        "head(round(realgjrgarch.ftest, digits = 4))"
      ],
      "id": "LNdVHJb2tla3",
      "execution_count": 194,
      "outputs": [
        {
          "output_type": "display_data",
          "data": {
            "text/plain": [
              "           filter forecast1 forecast2\n",
              "2015-01-14 1.6004    1.5421    1.6041\n",
              "2015-01-15 1.5548    1.4991    1.5598\n",
              "2015-01-16 1.5048    1.4543    1.5113\n",
              "2015-01-19 1.4618    1.4507    1.4710\n",
              "2015-01-20 1.4549    1.4323    1.4545\n",
              "2015-01-21 1.4362    2.0312    1.4417"
            ]
          },
          "metadata": {
            "tags": []
          }
        }
      ]
    },
    {
      "cell_type": "code",
      "metadata": {
        "colab": {
          "base_uri": "https://localhost:8080/",
          "height": 252
        },
        "id": "3ESbujLFtnAw",
        "outputId": "d1f53d13-e912-4d8e-f148-283c1b684ff6"
      },
      "source": [
        "sigma.realgjrgarch.pred.a <- ts(realgjrgarch.forecast.a[-1,])\n",
        "sigma.realgjrgarch.pred.b <- ts(realgjrgarch.forecast.b[-1,])\n",
        "sigma.realgjrgarch.true <- ts(HSCE.df.out$HSCE.VolRealGJRGARCH)\n",
        "\n",
        "sigma.realgjrgarch <- na.omit(cbind(sigma.realgjrgarch.pred.a,\n",
        "                                    sigma.realgjrgarch.pred.b,\n",
        "                                    sigma.realgjrgarch.true))\n",
        "head(sigma.realgjrgarch)"
      ],
      "id": "3ESbujLFtnAw",
      "execution_count": 195,
      "outputs": [
        {
          "output_type": "display_data",
          "data": {
            "text/plain": [
              "  sigma.realgjrgarch.pred.a sigma.realgjrgarch.pred.b sigma.realgjrgarch.true\n",
              "1 1.499098                  1.559830                  2.397121               \n",
              "2 1.454346                  1.511304                  2.246180               \n",
              "3 1.450738                  1.471032                  2.120343               \n",
              "4 1.432300                  1.454542                  2.101820               \n",
              "5 2.031176                  1.441650                  2.047944               \n",
              "6 2.021498                  2.036988                  4.128501               "
            ],
            "text/latex": "A Time Series: 6 × 3\n\\begin{tabular}{r|lll}\n  & sigma.realgjrgarch.pred.a & sigma.realgjrgarch.pred.b & sigma.realgjrgarch.true\\\\\n\\hline\n\t1 & 1.499098 & 1.559830 & 2.397121\\\\\n\t2 & 1.454346 & 1.511304 & 2.246180\\\\\n\t3 & 1.450738 & 1.471032 & 2.120343\\\\\n\t4 & 1.432300 & 1.454542 & 2.101820\\\\\n\t5 & 2.031176 & 1.441650 & 2.047944\\\\\n\t6 & 2.021498 & 2.036988 & 4.128501\\\\\n\\end{tabular}\n",
            "text/markdown": "\nA Time Series: 6 × 3\n\n| <!--/--> | sigma.realgjrgarch.pred.a | sigma.realgjrgarch.pred.b | sigma.realgjrgarch.true |\n|---|---|---|---|\n| 1 | 1.499098 | 1.559830 | 2.397121 |\n| 2 | 1.454346 | 1.511304 | 2.246180 |\n| 3 | 1.450738 | 1.471032 | 2.120343 |\n| 4 | 1.432300 | 1.454542 | 2.101820 |\n| 5 | 2.031176 | 1.441650 | 2.047944 |\n| 6 | 2.021498 | 2.036988 | 4.128501 |\n\n",
            "text/html": [
              "<table class=\"dataframe\">\n",
              "<caption>A Time Series: 6 × 3</caption>\n",
              "<thead>\n",
              "\t<tr><th></th><th scope=col>sigma.realgjrgarch.pred.a</th><th scope=col>sigma.realgjrgarch.pred.b</th><th scope=col>sigma.realgjrgarch.true</th></tr>\n",
              "</thead>\n",
              "<tbody>\n",
              "\t<tr><th scope=row>1</th><td>1.499098</td><td>1.559830</td><td>2.397121</td></tr>\n",
              "\t<tr><th scope=row>2</th><td>1.454346</td><td>1.511304</td><td>2.246180</td></tr>\n",
              "\t<tr><th scope=row>3</th><td>1.450738</td><td>1.471032</td><td>2.120343</td></tr>\n",
              "\t<tr><th scope=row>4</th><td>1.432300</td><td>1.454542</td><td>2.101820</td></tr>\n",
              "\t<tr><th scope=row>5</th><td>2.031176</td><td>1.441650</td><td>2.047944</td></tr>\n",
              "\t<tr><th scope=row>6</th><td>2.021498</td><td>2.036988</td><td>4.128501</td></tr>\n",
              "</tbody>\n",
              "</table>\n"
            ]
          },
          "metadata": {
            "tags": []
          }
        }
      ]
    },
    {
      "cell_type": "markdown",
      "metadata": {
        "id": "XIXx7PfMto5u"
      },
      "source": [
        "**Performance evaluation**"
      ],
      "id": "XIXx7PfMto5u"
    },
    {
      "cell_type": "code",
      "metadata": {
        "colab": {
          "base_uri": "https://localhost:8080/",
          "height": 51
        },
        "id": "Ag4Mj-Ftton1",
        "outputId": "6d37e635-85ad-4515-8dda-0c952516f4a2"
      },
      "source": [
        "# Forecast Error - Forecast a\n",
        "realgjrgarch.error.a <- sigma.realgjrgarch[,'sigma.realgjrgarch.pred.a'] - sigma.realgjrgarch[,'sigma.realgjrgarch.true']\n",
        "head(realgjrgarch.error.a)"
      ],
      "id": "Ag4Mj-Ftton1",
      "execution_count": 196,
      "outputs": [
        {
          "output_type": "display_data",
          "data": {
            "text/plain": [
              "A Time Series:\n",
              "[1] -0.8980230 -0.7918341 -0.6696053 -0.6695203 -0.0167684 -2.1070030"
            ],
            "text/latex": "A Time Series:\\\\\\begin{enumerate*}\n\\item -0.898022956411529\n\\item -0.791834063411134\n\\item -0.66960525153639\n\\item -0.669520252978676\n\\item -0.0167684033339968\n\\item -2.10700301585986\n\\end{enumerate*}\n",
            "text/markdown": "A Time Series:  \n1. -0.898022956411529\n2. -0.791834063411134\n3. -0.66960525153639\n4. -0.669520252978676\n5. -0.0167684033339968\n6. -2.10700301585986\n\n\n",
            "text/html": [
              "A Time Series:<br><style>\n",
              ".list-inline {list-style: none; margin:0; padding: 0}\n",
              ".list-inline>li {display: inline-block}\n",
              ".list-inline>li:not(:last-child)::after {content: \"\\00b7\"; padding: 0 .5ex}\n",
              "</style>\n",
              "<ol class=list-inline><li>-0.898022956411529</li><li>-0.791834063411134</li><li>-0.66960525153639</li><li>-0.669520252978676</li><li>-0.0167684033339968</li><li>-2.10700301585986</li></ol>\n"
            ]
          },
          "metadata": {
            "tags": []
          }
        }
      ]
    },
    {
      "cell_type": "code",
      "metadata": {
        "colab": {
          "base_uri": "https://localhost:8080/",
          "height": 51
        },
        "id": "uL_nAHaZtsmX",
        "outputId": "7c2df8b3-6e24-4532-ce8b-34a6b394ed70"
      },
      "source": [
        "# Forecast Error - Forecast b\n",
        "realgjrgarch.error.b <- sigma.realgjrgarch[,'sigma.realgjrgarch.pred.b'] - sigma.realgjrgarch[,'sigma.realgjrgarch.true']\n",
        "head(realgjrgarch.error.b)"
      ],
      "id": "uL_nAHaZtsmX",
      "execution_count": 197,
      "outputs": [
        {
          "output_type": "display_data",
          "data": {
            "text/plain": [
              "A Time Series:\n",
              "[1] -0.8372908 -0.7348769 -0.6493108 -0.6472781 -0.6062940 -2.0915137"
            ],
            "text/latex": "A Time Series:\\\\\\begin{enumerate*}\n\\item -0.837290809787819\n\\item -0.734876885404163\n\\item -0.649310773533986\n\\item -0.647278061147984\n\\item -0.606293977792296\n\\item -2.09151367135083\n\\end{enumerate*}\n",
            "text/markdown": "A Time Series:  \n1. -0.837290809787819\n2. -0.734876885404163\n3. -0.649310773533986\n4. -0.647278061147984\n5. -0.606293977792296\n6. -2.09151367135083\n\n\n",
            "text/html": [
              "A Time Series:<br><style>\n",
              ".list-inline {list-style: none; margin:0; padding: 0}\n",
              ".list-inline>li {display: inline-block}\n",
              ".list-inline>li:not(:last-child)::after {content: \"\\00b7\"; padding: 0 .5ex}\n",
              "</style>\n",
              "<ol class=list-inline><li>-0.837290809787819</li><li>-0.734876885404163</li><li>-0.649310773533986</li><li>-0.647278061147984</li><li>-0.606293977792296</li><li>-2.09151367135083</li></ol>\n"
            ]
          },
          "metadata": {
            "tags": []
          }
        }
      ]
    },
    {
      "cell_type": "code",
      "metadata": {
        "colab": {
          "base_uri": "https://localhost:8080/",
          "height": 34
        },
        "id": "jCrb2QAytuKC",
        "outputId": "783b7d58-7893-4ae3-f8dc-8f30c7e92441"
      },
      "source": [
        "# Mean Square Error Loss - Forecast a\n",
        "realgjrgarch.mse.a <- MSE(sigma.realgjrgarch[,'sigma.realgjrgarch.pred.a'],\n",
        "                          sigma.realgjrgarch[,'sigma.realgjrgarch.true'])\n",
        "round(realgjrgarch.mse.a, digits = 3)"
      ],
      "id": "jCrb2QAytuKC",
      "execution_count": 198,
      "outputs": [
        {
          "output_type": "display_data",
          "data": {
            "text/plain": [
              "[1] 1.328"
            ],
            "text/latex": "1.328",
            "text/markdown": "1.328",
            "text/html": [
              "1.328"
            ]
          },
          "metadata": {
            "tags": []
          }
        }
      ]
    },
    {
      "cell_type": "code",
      "metadata": {
        "colab": {
          "base_uri": "https://localhost:8080/",
          "height": 34
        },
        "id": "VJXxBH1wtvZc",
        "outputId": "604f0a18-2294-4683-da44-f37e5c2ba992"
      },
      "source": [
        "# Mean Square Error Loss - Forecast b\n",
        "realgjrgarch.mse.b <- MSE(sigma.realgjrgarch[,'sigma.realgjrgarch.pred.b'],\n",
        "                          sigma.realgjrgarch[,'sigma.realgjrgarch.true'])\n",
        "round(realgjrgarch.mse.b, digits = 3)"
      ],
      "id": "VJXxBH1wtvZc",
      "execution_count": 199,
      "outputs": [
        {
          "output_type": "display_data",
          "data": {
            "text/plain": [
              "[1] 1.276"
            ],
            "text/latex": "1.276",
            "text/markdown": "1.276",
            "text/html": [
              "1.276"
            ]
          },
          "metadata": {
            "tags": []
          }
        }
      ]
    },
    {
      "cell_type": "code",
      "metadata": {
        "colab": {
          "base_uri": "https://localhost:8080/",
          "height": 34
        },
        "id": "ohL91LcHtxCm",
        "outputId": "86e8606e-35c9-4d52-aa18-6d4aaf749797"
      },
      "source": [
        "# Mean Absolute Error Loss - Forecast a\n",
        "realgjrgarch.mae.a <- MAE(sigma.realgjrgarch[,'sigma.realgjrgarch.pred.a'],\n",
        "                          sigma.realgjrgarch[,'sigma.realgjrgarch.true'])\n",
        "round(realgjrgarch.mae.a, digits = 3)"
      ],
      "id": "ohL91LcHtxCm",
      "execution_count": 200,
      "outputs": [
        {
          "output_type": "display_data",
          "data": {
            "text/plain": [
              "[1] 0.71"
            ],
            "text/latex": "0.71",
            "text/markdown": "0.71",
            "text/html": [
              "0.71"
            ]
          },
          "metadata": {
            "tags": []
          }
        }
      ]
    },
    {
      "cell_type": "code",
      "metadata": {
        "colab": {
          "base_uri": "https://localhost:8080/",
          "height": 34
        },
        "id": "2IrJeFHStyH5",
        "outputId": "11c097ae-3ba7-4121-fe6a-6b05cbae6187"
      },
      "source": [
        "# Mean Absolute Error Loss - Forecast b\n",
        "realgjrgarch.mae.b <- MAE(sigma.realgjrgarch[,'sigma.realgjrgarch.pred.b'],\n",
        "                          sigma.realgjrgarch[,'sigma.realgjrgarch.true'])\n",
        "round(realgjrgarch.mae.b, digits = 3)"
      ],
      "id": "2IrJeFHStyH5",
      "execution_count": 201,
      "outputs": [
        {
          "output_type": "display_data",
          "data": {
            "text/plain": [
              "[1] 0.693"
            ],
            "text/latex": "0.693",
            "text/markdown": "0.693",
            "text/html": [
              "0.693"
            ]
          },
          "metadata": {
            "tags": []
          }
        }
      ]
    },
    {
      "cell_type": "code",
      "metadata": {
        "colab": {
          "base_uri": "https://localhost:8080/",
          "height": 34
        },
        "id": "SqGo_64Itzj3",
        "outputId": "15a38cfb-b7c2-470e-86d7-84b7d96c602a"
      },
      "source": [
        "# Root Mean Square Error Loss - Forecast a\n",
        "realgjrgarch.rmse.a <- RMSE(sigma.realgjrgarch[,'sigma.realgjrgarch.pred.a'],\n",
        "                            sigma.realgjrgarch[,'sigma.realgjrgarch.true'])\n",
        "round(realgjrgarch.rmse.a, digits = 3)"
      ],
      "id": "SqGo_64Itzj3",
      "execution_count": 202,
      "outputs": [
        {
          "output_type": "display_data",
          "data": {
            "text/plain": [
              "[1] 1.152"
            ],
            "text/latex": "1.152",
            "text/markdown": "1.152",
            "text/html": [
              "1.152"
            ]
          },
          "metadata": {
            "tags": []
          }
        }
      ]
    },
    {
      "cell_type": "code",
      "metadata": {
        "colab": {
          "base_uri": "https://localhost:8080/",
          "height": 34
        },
        "id": "T7atQxuXt1AP",
        "outputId": "82ebcf60-bcae-4d09-a176-085fbc7f2ba8"
      },
      "source": [
        "# Root Mean Square Error Loss - Forecast b\n",
        "realgjrgarch.rmse.b <- RMSE(sigma.realgjrgarch[,'sigma.realgjrgarch.pred.b'],\n",
        "                            sigma.realgjrgarch[,'sigma.realgjrgarch.true'])\n",
        "round(realgjrgarch.rmse.b, digits = 3)"
      ],
      "id": "T7atQxuXt1AP",
      "execution_count": 203,
      "outputs": [
        {
          "output_type": "display_data",
          "data": {
            "text/plain": [
              "[1] 1.129"
            ],
            "text/latex": "1.129",
            "text/markdown": "1.129",
            "text/html": [
              "1.129"
            ]
          },
          "metadata": {
            "tags": []
          }
        }
      ]
    },
    {
      "cell_type": "code",
      "metadata": {
        "colab": {
          "base_uri": "https://localhost:8080/",
          "height": 34
        },
        "id": "9fJX1_Ect2jQ",
        "outputId": "e88046e0-12b7-477d-899c-66d2e7bd0717"
      },
      "source": [
        "# Quasi-likelihood loss function - forecast a\n",
        "h <- sigma.realgjrgarch[,'sigma.realgjrgarch.true']\n",
        "\n",
        "h.hat.a <- sigma.realgjrgarch[,'sigma.realgjrgarch.pred.a']     \n",
        "realgjrgarch.qlike.a <- mean(log(sqrt(h)) + h.hat.a/sqrt(h))\n",
        "round(realgjrgarch.qlike.a, digits = 5)"
      ],
      "id": "9fJX1_Ect2jQ",
      "execution_count": 204,
      "outputs": [
        {
          "output_type": "display_data",
          "data": {
            "text/plain": [
              "[1] 1.30303"
            ],
            "text/latex": "1.30303",
            "text/markdown": "1.30303",
            "text/html": [
              "1.30303"
            ]
          },
          "metadata": {
            "tags": []
          }
        }
      ]
    },
    {
      "cell_type": "code",
      "metadata": {
        "colab": {
          "base_uri": "https://localhost:8080/",
          "height": 34
        },
        "id": "Sx3HuoWct3rq",
        "outputId": "f27725ea-07f6-4376-9db9-da4acd6d3ef6"
      },
      "source": [
        "# Quasi-likelihood loss function - forecast b\n",
        "h.hat.b <- sigma.realgjrgarch[,'sigma.realgjrgarch.pred.b']\n",
        "realgjrgarch.qlike.b <- mean(log(sqrt(h)) + h.hat.b/sqrt(h))\n",
        "round(realgjrgarch.qlike.b, digits = 5)"
      ],
      "id": "Sx3HuoWct3rq",
      "execution_count": 205,
      "outputs": [
        {
          "output_type": "display_data",
          "data": {
            "text/plain": [
              "[1] 1.3081"
            ],
            "text/latex": "1.3081",
            "text/markdown": "1.3081",
            "text/html": [
              "1.3081"
            ]
          },
          "metadata": {
            "tags": []
          }
        }
      ]
    },
    {
      "cell_type": "code",
      "metadata": {
        "colab": {
          "base_uri": "https://localhost:8080/",
          "height": 119
        },
        "id": "cse_VeX2OFEY",
        "outputId": "4f0ebc57-a6e6-42a8-ab2d-2e2547ee125b"
      },
      "source": [
        "# Diebold-Mariano Test (accuracy test) - test 1\n",
        "f.a <- sigma.realgjrgarch[,'sigma.realgjrgarch.pred.a']\n",
        "f.b <- sigma.realgjrgarch[,'sigma.realgjrgarch.pred.b']\n",
        "y <- sigma.realgjrgarch[,'sigma.realgjrgarch.true']\n",
        "\n",
        "DM.test(f.a, f.b, y, loss.type = \"SE\", c = FALSE, H1 = \"same\")"
      ],
      "id": "cse_VeX2OFEY",
      "execution_count": 206,
      "outputs": [
        {
          "output_type": "display_data",
          "data": {
            "text/plain": [
              "\n",
              "\tDiebold-Mariano test\n",
              "\n",
              "data:  f.a and f.b and y\n",
              "statistic = 8.5403, forecast horizon = 1, p-value < 2.2e-16\n",
              "alternative hypothesis: Forecast f1 and f2 have different accuracy.\n"
            ]
          },
          "metadata": {
            "tags": []
          }
        }
      ]
    },
    {
      "cell_type": "code",
      "metadata": {
        "colab": {
          "base_uri": "https://localhost:8080/",
          "height": 136
        },
        "id": "icTJE8GzOHA8",
        "outputId": "1b677cde-de4d-46ce-b7c1-e13a1d03b30c"
      },
      "source": [
        "# Diebold-Mariano test for predictive accuracy - test 2\n",
        "e.a <- realgjrgarch.error.a\n",
        "e.b <- realgjrgarch.error.b\n",
        "\n",
        "dm.test(e.a, e.b, alternative = \"two.sided\", h = 1, power = 2)"
      ],
      "id": "icTJE8GzOHA8",
      "execution_count": 207,
      "outputs": [
        {
          "output_type": "display_data",
          "data": {
            "text/plain": [
              "\n",
              "\tDiebold-Mariano Test\n",
              "\n",
              "data:  e.ae.b\n",
              "DM = 8.5376, Forecast horizon = 1, Loss function power = 2, p-value <\n",
              "2.2e-16\n",
              "alternative hypothesis: two.sided\n"
            ]
          },
          "metadata": {
            "tags": []
          }
        }
      ]
    },
    {
      "cell_type": "code",
      "metadata": {
        "colab": {
          "base_uri": "https://localhost:8080/",
          "height": 34
        },
        "id": "fenyJq26OKdD",
        "outputId": "b8210864-1323-4f29-ebc3-f0023c422080"
      },
      "source": [
        "# Quasi-likelihood Loss Function For Volatility Forecasts - forecast a\n",
        "realgjrgarch.qlike.a <- mean(LossVol(sigma.realgjrgarch[,'sigma.realgjrgarch.true'],\n",
        "                                    sigma.realgjrgarch[,'sigma.realgjrgarch.pred.a'],\n",
        "                                    which = \"QLIKE\"))\n",
        "round(realgjrgarch.qlike.a, digits = 3)"
      ],
      "id": "fenyJq26OKdD",
      "execution_count": 208,
      "outputs": [
        {
          "output_type": "display_data",
          "data": {
            "text/plain": [
              "[1] 2.722"
            ],
            "text/latex": "2.722",
            "text/markdown": "2.722",
            "text/html": [
              "2.722"
            ]
          },
          "metadata": {
            "tags": []
          }
        }
      ]
    },
    {
      "cell_type": "code",
      "metadata": {
        "colab": {
          "base_uri": "https://localhost:8080/",
          "height": 34
        },
        "id": "BZiiiS5BOMIH",
        "outputId": "01818496-fcb0-4766-b178-9088dd9ee9fe"
      },
      "source": [
        "# Quasi-likelihood Loss Function For Volatility Forecasts - forecast 1b\n",
        "realgjrgarch.qlike.b <- mean(LossVol(sigma.realgjrgarch[,'sigma.realgjrgarch.true'],\n",
        "                                    sigma.realgjrgarch[,'sigma.realgjrgarch.pred.b'],\n",
        "                                    which = \"QLIKE\"))\n",
        "round(realgjrgarch.qlike.b, digits = 3)"
      ],
      "id": "BZiiiS5BOMIH",
      "execution_count": 209,
      "outputs": [
        {
          "output_type": "display_data",
          "data": {
            "text/plain": [
              "[1] 2.678"
            ],
            "text/latex": "2.678",
            "text/markdown": "2.678",
            "text/html": [
              "2.678"
            ]
          },
          "metadata": {
            "tags": []
          }
        }
      ]
    },
    {
      "cell_type": "code",
      "metadata": {
        "colab": {
          "base_uri": "https://localhost:8080/",
          "height": 34
        },
        "id": "wpWs_NItt47v",
        "outputId": "2ede6a9e-b582-4525-c232-8df04fbc6539"
      },
      "source": [
        "# Log loss / Cross-Entropy Loss -  forecast a\n",
        "realgjrgarch.logloss.a <- LogLoss(sigma.realgjrgarch[,'sigma.realgjrgarch.pred.a'],\n",
        "                                  sigma.realgjrgarch[,'sigma.realgjrgarch.true'])\n",
        "round(realgjrgarch.logloss.a, digits = 3)"
      ],
      "id": "wpWs_NItt47v",
      "execution_count": 210,
      "outputs": [
        {
          "output_type": "display_data",
          "data": {
            "text/plain": [
              "[1] -37.859"
            ],
            "text/latex": "-37.859",
            "text/markdown": "-37.859",
            "text/html": [
              "-37.859"
            ]
          },
          "metadata": {
            "tags": []
          }
        }
      ]
    },
    {
      "cell_type": "code",
      "metadata": {
        "colab": {
          "base_uri": "https://localhost:8080/",
          "height": 34
        },
        "id": "NOm3JSWtt609",
        "outputId": "8ae51a9a-7a31-4bcf-a328-da4a1f60ee1f"
      },
      "source": [
        "# Log loss / Cross-Entropy Loss -  forecast b\n",
        "realgjrgarch.logloss.b <- LogLoss(sigma.realgjrgarch[,'sigma.realgjrgarch.pred.b'],\n",
        "                                  sigma.realgjrgarch[,'sigma.realgjrgarch.true'])\n",
        "round(realgjrgarch.logloss.b, digits = 3)"
      ],
      "id": "NOm3JSWtt609",
      "execution_count": 211,
      "outputs": [
        {
          "output_type": "display_data",
          "data": {
            "text/plain": [
              "[1] -37.888"
            ],
            "text/latex": "-37.888",
            "text/markdown": "-37.888",
            "text/html": [
              "-37.888"
            ]
          },
          "metadata": {
            "tags": []
          }
        }
      ]
    },
    {
      "cell_type": "code",
      "metadata": {
        "colab": {
          "base_uri": "https://localhost:8080/",
          "height": 170
        },
        "id": "zAqllzeHt8Fg",
        "outputId": "ac3f63c4-7cc0-4721-b8ad-3f34c5fc5eb6"
      },
      "source": [
        "# Linear regression to assess forecast performance - forecast a\n",
        "realgjrgarch.model.a <- lm(sigma.realgjrgarch.true ~ sigma.realgjrgarch.pred.a,\n",
        "                          data = sigma.realgjrgarch)\n",
        "round(coeftest(realgjrgarch.model.a, NeweyWest(realgjrgarch.model.a,\n",
        "                                              lag = bwNeweyWest(realgjrgarch.model.a),\n",
        "                                              prewhite = F)), 3)\n",
        "round(summary(realgjrgarch.model.a)$adj.r.squared, 3)"
      ],
      "id": "zAqllzeHt8Fg",
      "execution_count": 212,
      "outputs": [
        {
          "output_type": "display_data",
          "data": {
            "text/plain": [
              "\n",
              "t test of coefficients:\n",
              "\n",
              "                          Estimate Std. Error t value  Pr(>|t|)    \n",
              "(Intercept)                 -2.514      0.170 -14.750 < 2.2e-16 ***\n",
              "sigma.realgjrgarch.pred.a    3.302      0.130  25.349 < 2.2e-16 ***\n",
              "---\n",
              "Signif. codes:  0 ‘***’ 0.001 ‘**’ 0.01 ‘*’ 0.05 ‘.’ 0.1 ‘ ’ 1\n"
            ]
          },
          "metadata": {
            "tags": []
          }
        },
        {
          "output_type": "display_data",
          "data": {
            "text/plain": [
              "[1] 0.932"
            ],
            "text/latex": "0.932",
            "text/markdown": "0.932",
            "text/html": [
              "0.932"
            ]
          },
          "metadata": {
            "tags": []
          }
        }
      ]
    },
    {
      "cell_type": "code",
      "metadata": {
        "colab": {
          "base_uri": "https://localhost:8080/",
          "height": 170
        },
        "id": "l98Tp5ujt9ZH",
        "outputId": "aedea9af-c489-40ee-99ac-03dc5ae9047b"
      },
      "source": [
        "# Linear regression to assess forecast performance - forecast b\n",
        "realgjrgarch.model.b <- lm(sigma.realgjrgarch.true ~ sigma.realgjrgarch.pred.b,\n",
        "                          data = sigma.realgjrgarch)\n",
        "round(coeftest(realgjrgarch.model.b, NeweyWest(realgjrgarch.model.b,\n",
        "                                              lag = bwNeweyWest(realgjrgarch.model.b),\n",
        "                                              prewhite = F)), 3)\n",
        "round(summary(realgjrgarch.model.b)$adj.r.squared, 3)"
      ],
      "id": "l98Tp5ujt9ZH",
      "execution_count": 213,
      "outputs": [
        {
          "output_type": "display_data",
          "data": {
            "text/plain": [
              "\n",
              "t test of coefficients:\n",
              "\n",
              "                          Estimate Std. Error t value  Pr(>|t|)    \n",
              "(Intercept)                 -2.525      0.131 -19.289 < 2.2e-16 ***\n",
              "sigma.realgjrgarch.pred.b    3.285      0.099  33.302 < 2.2e-16 ***\n",
              "---\n",
              "Signif. codes:  0 ‘***’ 0.001 ‘**’ 0.01 ‘*’ 0.05 ‘.’ 0.1 ‘ ’ 1\n"
            ]
          },
          "metadata": {
            "tags": []
          }
        },
        {
          "output_type": "display_data",
          "data": {
            "text/plain": [
              "[1] 0.973"
            ],
            "text/latex": "0.973",
            "text/markdown": "0.973",
            "text/html": [
              "0.973"
            ]
          },
          "metadata": {
            "tags": []
          }
        }
      ]
    },
    {
      "cell_type": "markdown",
      "metadata": {
        "id": "AciM8pt0zDOf"
      },
      "source": [
        "#12. Forecast - Markov-Switching GARCH"
      ],
      "id": "AciM8pt0zDOf"
    },
    {
      "cell_type": "markdown",
      "metadata": {
        "id": "0duULlBdzPeP"
      },
      "source": [
        "##(a) MS Linear GARCH"
      ],
      "id": "0duULlBdzPeP"
    },
    {
      "cell_type": "code",
      "metadata": {
        "id": "x-aTWmwh3OPQ"
      },
      "source": [
        "# Model Estimation - Maximum Likelihood Estimation\n",
        "msgarch.fit.pred.a <- FitML(msgarch.spec,\n",
        "                            data = HSCE.df$HSCE.Return)"
      ],
      "id": "x-aTWmwh3OPQ",
      "execution_count": 214,
      "outputs": []
    },
    {
      "cell_type": "code",
      "metadata": {
        "id": "_V7_va4c1iFq"
      },
      "source": [
        "# Model Estimation - MCMC/Bayesian estimation\n",
        "msgarch.fit.pred.b <- FitMCMC(msgarch.spec,\n",
        "                              data = HSCE.df$HSCE.Return)"
      ],
      "id": "_V7_va4c1iFq",
      "execution_count": 215,
      "outputs": []
    },
    {
      "cell_type": "code",
      "metadata": {
        "id": "DqhNduVO2fOA"
      },
      "source": [
        "# Forecast - Maximum Likelihood Estimation\n",
        "msgarch.pred.a <- predict(object = msgarch.fit.pred.a,\n",
        "                          nahead = dim(HSCE.df.out)[1],\n",
        "                          do.return.draw = TRUE)\n",
        "\n",
        "msgarch.forecast.a <- ts(msgarch.pred.a$vol)"
      ],
      "id": "DqhNduVO2fOA",
      "execution_count": 216,
      "outputs": []
    },
    {
      "cell_type": "code",
      "metadata": {
        "id": "xPlTh8-d3FE7"
      },
      "source": [
        "# Forecast - MCMC/Bayesian estimation\n",
        "msgarch.pred.b <- predict(object = msgarch.fit.pred.b,\n",
        "                          nahead = dim(HSCE.df.out)[1],\n",
        "                          do.return.draw = TRUE)\n",
        "\n",
        "msgarch.forecast.b <- ts(msgarch.pred.b$vol)"
      ],
      "id": "xPlTh8-d3FE7",
      "execution_count": 217,
      "outputs": []
    },
    {
      "cell_type": "code",
      "metadata": {
        "colab": {
          "base_uri": "https://localhost:8080/",
          "height": 252
        },
        "id": "YA2pLbUs3fK5",
        "outputId": "368754a2-f66a-4343-aa72-3061ee1861e5"
      },
      "source": [
        "# Comparative\n",
        "sigma.msgarch.pred.a <- msgarch.forecast.a\n",
        "sigma.msgarch.pred.b <- msgarch.forecast.b\n",
        "sigma.msgarch.true <- ts(HSCE.df.out[,'HSCE.VolMSGARCH'])\n",
        "\n",
        "sigma.msgarch <- na.omit(cbind(sigma.msgarch.pred.a,\n",
        "                              sigma.msgarch.pred.b,\n",
        "                              sigma.msgarch.true))\n",
        "head(sigma.msgarch)"
      ],
      "id": "YA2pLbUs3fK5",
      "execution_count": 218,
      "outputs": [
        {
          "output_type": "display_data",
          "data": {
            "text/plain": [
              "  sigma.msgarch.pred.a sigma.msgarch.pred.b sigma.msgarch.true\n",
              "1 1.147360             1.195901             1.338160          \n",
              "2 1.164556             1.169902             1.313359          \n",
              "3 1.185926             1.239391             1.335958          \n",
              "4 1.216196             1.162102             1.322386          \n",
              "5 1.242349             1.248770             2.249728          \n",
              "6 1.244702             1.336494             2.239908          "
            ],
            "text/latex": "A Time Series: 6 × 3\n\\begin{tabular}{r|lll}\n  & sigma.msgarch.pred.a & sigma.msgarch.pred.b & sigma.msgarch.true\\\\\n\\hline\n\t1 & 1.147360 & 1.195901 & 1.338160\\\\\n\t2 & 1.164556 & 1.169902 & 1.313359\\\\\n\t3 & 1.185926 & 1.239391 & 1.335958\\\\\n\t4 & 1.216196 & 1.162102 & 1.322386\\\\\n\t5 & 1.242349 & 1.248770 & 2.249728\\\\\n\t6 & 1.244702 & 1.336494 & 2.239908\\\\\n\\end{tabular}\n",
            "text/markdown": "\nA Time Series: 6 × 3\n\n| <!--/--> | sigma.msgarch.pred.a | sigma.msgarch.pred.b | sigma.msgarch.true |\n|---|---|---|---|\n| 1 | 1.147360 | 1.195901 | 1.338160 |\n| 2 | 1.164556 | 1.169902 | 1.313359 |\n| 3 | 1.185926 | 1.239391 | 1.335958 |\n| 4 | 1.216196 | 1.162102 | 1.322386 |\n| 5 | 1.242349 | 1.248770 | 2.249728 |\n| 6 | 1.244702 | 1.336494 | 2.239908 |\n\n",
            "text/html": [
              "<table class=\"dataframe\">\n",
              "<caption>A Time Series: 6 × 3</caption>\n",
              "<thead>\n",
              "\t<tr><th></th><th scope=col>sigma.msgarch.pred.a</th><th scope=col>sigma.msgarch.pred.b</th><th scope=col>sigma.msgarch.true</th></tr>\n",
              "</thead>\n",
              "<tbody>\n",
              "\t<tr><th scope=row>1</th><td>1.147360</td><td>1.195901</td><td>1.338160</td></tr>\n",
              "\t<tr><th scope=row>2</th><td>1.164556</td><td>1.169902</td><td>1.313359</td></tr>\n",
              "\t<tr><th scope=row>3</th><td>1.185926</td><td>1.239391</td><td>1.335958</td></tr>\n",
              "\t<tr><th scope=row>4</th><td>1.216196</td><td>1.162102</td><td>1.322386</td></tr>\n",
              "\t<tr><th scope=row>5</th><td>1.242349</td><td>1.248770</td><td>2.249728</td></tr>\n",
              "\t<tr><th scope=row>6</th><td>1.244702</td><td>1.336494</td><td>2.239908</td></tr>\n",
              "</tbody>\n",
              "</table>\n"
            ]
          },
          "metadata": {
            "tags": []
          }
        }
      ]
    },
    {
      "cell_type": "markdown",
      "metadata": {
        "id": "LVbmSsEMBJaw"
      },
      "source": [
        "**Performance evaluation**"
      ],
      "id": "LVbmSsEMBJaw"
    },
    {
      "cell_type": "code",
      "metadata": {
        "colab": {
          "base_uri": "https://localhost:8080/",
          "height": 51
        },
        "id": "haXFBMWaBKz2",
        "outputId": "527d83ce-2d81-4db5-9710-eb36e9a11f88"
      },
      "source": [
        "# Forecast Error - Forecast a\n",
        "msgarch.error.a <- sigma.msgarch[,'sigma.msgarch.pred.a'] - sigma.msgarch[,'sigma.msgarch.true']\n",
        "head(msgarch.error.a)"
      ],
      "id": "haXFBMWaBKz2",
      "execution_count": 219,
      "outputs": [
        {
          "output_type": "display_data",
          "data": {
            "text/plain": [
              "A Time Series:\n",
              "[1] -0.1907994 -0.1488029 -0.1500316 -0.1061894 -1.0073792 -0.9952061"
            ],
            "text/latex": "A Time Series:\\\\\\begin{enumerate*}\n\\item -0.190799379496543\n\\item -0.148802863562116\n\\item -0.150031599706954\n\\item -0.106189399051136\n\\item -1.00737915543727\n\\item -0.995206121686947\n\\end{enumerate*}\n",
            "text/markdown": "A Time Series:  \n1. -0.190799379496543\n2. -0.148802863562116\n3. -0.150031599706954\n4. -0.106189399051136\n5. -1.00737915543727\n6. -0.995206121686947\n\n\n",
            "text/html": [
              "A Time Series:<br><style>\n",
              ".list-inline {list-style: none; margin:0; padding: 0}\n",
              ".list-inline>li {display: inline-block}\n",
              ".list-inline>li:not(:last-child)::after {content: \"\\00b7\"; padding: 0 .5ex}\n",
              "</style>\n",
              "<ol class=list-inline><li>-0.190799379496543</li><li>-0.148802863562116</li><li>-0.150031599706954</li><li>-0.106189399051136</li><li>-1.00737915543727</li><li>-0.995206121686947</li></ol>\n"
            ]
          },
          "metadata": {
            "tags": []
          }
        }
      ]
    },
    {
      "cell_type": "code",
      "metadata": {
        "colab": {
          "base_uri": "https://localhost:8080/",
          "height": 51
        },
        "id": "88NZpanFBNd9",
        "outputId": "91ebfba1-6175-47ca-fc90-f994dbe15ba2"
      },
      "source": [
        "# Forecast Error - Forecast b\n",
        "msgarch.error.b <- sigma.msgarch[,'sigma.msgarch.pred.b'] - sigma.msgarch[,'sigma.msgarch.true']\n",
        "head(msgarch.error.b)"
      ],
      "id": "88NZpanFBNd9",
      "execution_count": 220,
      "outputs": [
        {
          "output_type": "display_data",
          "data": {
            "text/plain": [
              "A Time Series:\n",
              "[1] -0.14225883 -0.14345696 -0.09656652 -0.16028423 -1.00095780 -0.90341342"
            ],
            "text/latex": "A Time Series:\\\\\\begin{enumerate*}\n\\item -0.142258830907525\n\\item -0.14345695943812\n\\item -0.0965665218767631\n\\item -0.160284233503944\n\\item -1.00095779942312\n\\item -0.903413416482868\n\\end{enumerate*}\n",
            "text/markdown": "A Time Series:  \n1. -0.142258830907525\n2. -0.14345695943812\n3. -0.0965665218767631\n4. -0.160284233503944\n5. -1.00095779942312\n6. -0.903413416482868\n\n\n",
            "text/html": [
              "A Time Series:<br><style>\n",
              ".list-inline {list-style: none; margin:0; padding: 0}\n",
              ".list-inline>li {display: inline-block}\n",
              ".list-inline>li:not(:last-child)::after {content: \"\\00b7\"; padding: 0 .5ex}\n",
              "</style>\n",
              "<ol class=list-inline><li>-0.142258830907525</li><li>-0.14345695943812</li><li>-0.0965665218767631</li><li>-0.160284233503944</li><li>-1.00095779942312</li><li>-0.903413416482868</li></ol>\n"
            ]
          },
          "metadata": {
            "tags": []
          }
        }
      ]
    },
    {
      "cell_type": "code",
      "metadata": {
        "colab": {
          "base_uri": "https://localhost:8080/",
          "height": 34
        },
        "id": "C_VP13j7BPKI",
        "outputId": "4195e1a8-44a4-476f-b0de-5cf68053aa41"
      },
      "source": [
        "# Mean Square Error Loss - Forecast a\n",
        "msgarch.mse.a <- MSE(sigma.msgarch[,'sigma.msgarch.pred.a'],\n",
        "                    sigma.msgarch[,'sigma.msgarch.true'])\n",
        "round(msgarch.mse.a, digits = 3)"
      ],
      "id": "C_VP13j7BPKI",
      "execution_count": 221,
      "outputs": [
        {
          "output_type": "display_data",
          "data": {
            "text/plain": [
              "[1] 0.206"
            ],
            "text/latex": "0.206",
            "text/markdown": "0.206",
            "text/html": [
              "0.206"
            ]
          },
          "metadata": {
            "tags": []
          }
        }
      ]
    },
    {
      "cell_type": "code",
      "metadata": {
        "colab": {
          "base_uri": "https://localhost:8080/",
          "height": 34
        },
        "id": "pzReqrbUBQvb",
        "outputId": "a0d42ab7-41b0-44f8-de81-09fd45dd74f7"
      },
      "source": [
        "# Mean Square Error Loss - Forecast b\n",
        "msgarch.mse.b <- MSE(sigma.msgarch[,'sigma.msgarch.pred.b'],\n",
        "                    sigma.msgarch[,'sigma.msgarch.true'])\n",
        "round(msgarch.mse.b, digits = 3)"
      ],
      "id": "pzReqrbUBQvb",
      "execution_count": 222,
      "outputs": [
        {
          "output_type": "display_data",
          "data": {
            "text/plain": [
              "[1] 0.508"
            ],
            "text/latex": "0.508",
            "text/markdown": "0.508",
            "text/html": [
              "0.508"
            ]
          },
          "metadata": {
            "tags": []
          }
        }
      ]
    },
    {
      "cell_type": "code",
      "metadata": {
        "colab": {
          "base_uri": "https://localhost:8080/",
          "height": 34
        },
        "id": "ATJYe181BSMd",
        "outputId": "9c0d3275-522c-4bf7-b3fb-726569669682"
      },
      "source": [
        "# Mean Absolute Error Loss - Forecast a\n",
        "msgarch.mae.a <- MAE(sigma.msgarch[,'sigma.msgarch.pred.a'],\n",
        "                    sigma.msgarch[,'sigma.msgarch.true'])\n",
        "round(msgarch.mae.a, digits = 3)"
      ],
      "id": "ATJYe181BSMd",
      "execution_count": 223,
      "outputs": [
        {
          "output_type": "display_data",
          "data": {
            "text/plain": [
              "[1] 0.396"
            ],
            "text/latex": "0.396",
            "text/markdown": "0.396",
            "text/html": [
              "0.396"
            ]
          },
          "metadata": {
            "tags": []
          }
        }
      ]
    },
    {
      "cell_type": "code",
      "metadata": {
        "colab": {
          "base_uri": "https://localhost:8080/",
          "height": 34
        },
        "id": "l1fAVRUvBTne",
        "outputId": "7f231f65-2f8d-4c4f-8832-59be1e810070"
      },
      "source": [
        "# Mean Absolute Error Loss - Forecast b\n",
        "msgarch.mae.b <- MAE(sigma.msgarch[,'sigma.msgarch.pred.b'],\n",
        "                    sigma.msgarch[,'sigma.msgarch.true'])\n",
        "round(msgarch.mae.b, digits = 3)"
      ],
      "id": "l1fAVRUvBTne",
      "execution_count": 224,
      "outputs": [
        {
          "output_type": "display_data",
          "data": {
            "text/plain": [
              "[1] 0.657"
            ],
            "text/latex": "0.657",
            "text/markdown": "0.657",
            "text/html": [
              "0.657"
            ]
          },
          "metadata": {
            "tags": []
          }
        }
      ]
    },
    {
      "cell_type": "code",
      "metadata": {
        "colab": {
          "base_uri": "https://localhost:8080/",
          "height": 34
        },
        "id": "OuJINwLnBVER",
        "outputId": "f68c3149-12f7-48a4-d768-c4ac167a94c1"
      },
      "source": [
        "# Root Mean Square Error Loss - Forecast a\n",
        "msgarch.rmse.a <- RMSE(sigma.msgarch[,'sigma.msgarch.pred.a'],\n",
        "                      sigma.msgarch[,'sigma.msgarch.true'])\n",
        "round(msgarch.rmse.a, digits = 3)"
      ],
      "id": "OuJINwLnBVER",
      "execution_count": 225,
      "outputs": [
        {
          "output_type": "display_data",
          "data": {
            "text/plain": [
              "[1] 0.454"
            ],
            "text/latex": "0.454",
            "text/markdown": "0.454",
            "text/html": [
              "0.454"
            ]
          },
          "metadata": {
            "tags": []
          }
        }
      ]
    },
    {
      "cell_type": "code",
      "metadata": {
        "colab": {
          "base_uri": "https://localhost:8080/",
          "height": 34
        },
        "id": "zzi4QlI8BWh3",
        "outputId": "f05991bd-f5f1-47a8-fce0-f40c6280357b"
      },
      "source": [
        "# Root Mean Square Error Loss - Forecast b\n",
        "msgarch.rmse.b <- RMSE(sigma.msgarch[,'sigma.msgarch.pred.b'],\n",
        "                      sigma.msgarch[,'sigma.msgarch.true'])\n",
        "round(msgarch.rmse.b, digits = 3)"
      ],
      "id": "zzi4QlI8BWh3",
      "execution_count": 226,
      "outputs": [
        {
          "output_type": "display_data",
          "data": {
            "text/plain": [
              "[1] 0.713"
            ],
            "text/latex": "0.713",
            "text/markdown": "0.713",
            "text/html": [
              "0.713"
            ]
          },
          "metadata": {
            "tags": []
          }
        }
      ]
    },
    {
      "cell_type": "code",
      "metadata": {
        "colab": {
          "base_uri": "https://localhost:8080/",
          "height": 34
        },
        "id": "c1gkCdpIBXp1",
        "outputId": "7eb26269-52fb-4620-8485-9678681839f7"
      },
      "source": [
        "# Quasi-likelihood loss function - forecast a\n",
        "h <- sigma.msgarch[,'sigma.msgarch.true']\n",
        "\n",
        "h.hat.a <- sigma.msgarch[,'sigma.msgarch.pred.a']     \n",
        "msgarch.qlike.a <- mean(log(sqrt(h)) + h.hat.a/sqrt(h))\n",
        "round(msgarch.qlike.a, digits = 5)"
      ],
      "id": "c1gkCdpIBXp1",
      "execution_count": 227,
      "outputs": [
        {
          "output_type": "display_data",
          "data": {
            "text/plain": [
              "[1] 1.5636"
            ],
            "text/latex": "1.5636",
            "text/markdown": "1.5636",
            "text/html": [
              "1.5636"
            ]
          },
          "metadata": {
            "tags": []
          }
        }
      ]
    },
    {
      "cell_type": "code",
      "metadata": {
        "colab": {
          "base_uri": "https://localhost:8080/",
          "height": 34
        },
        "id": "tBBaRrm8BZWv",
        "outputId": "64e14e41-8a74-4d27-a1d9-0f0df1bfceb8"
      },
      "source": [
        "# Quasi-likelihood loss function - forecast b\n",
        "h.hat.b <- sigma.msgarch[,'sigma.msgarch.pred.b']\n",
        "msgarch.qlike.b <- mean(log(sqrt(h)) + h.hat.b/sqrt(h))\n",
        "round(msgarch.qlike.b, digits = 5)"
      ],
      "id": "tBBaRrm8BZWv",
      "execution_count": 228,
      "outputs": [
        {
          "output_type": "display_data",
          "data": {
            "text/plain": [
              "[1] 1.86326"
            ],
            "text/latex": "1.86326",
            "text/markdown": "1.86326",
            "text/html": [
              "1.86326"
            ]
          },
          "metadata": {
            "tags": []
          }
        }
      ]
    },
    {
      "cell_type": "code",
      "metadata": {
        "colab": {
          "base_uri": "https://localhost:8080/",
          "height": 119
        },
        "id": "Nd1_TRdDOusT",
        "outputId": "3bc70b6d-2c35-4eab-cac1-bf3adab7c144"
      },
      "source": [
        "# Diebold-Mariano Test (accuracy test) - test 1\n",
        "f.a <- sigma.msgarch[,'sigma.msgarch.pred.a']\n",
        "f.b <- sigma.msgarch[,'sigma.msgarch.pred.b']\n",
        "y <- sigma.msgarch[,'sigma.msgarch.true']\n",
        "\n",
        "DM.test(f.a, f.b, y, loss.type = \"SE\", c = FALSE, H1 = \"same\")"
      ],
      "id": "Nd1_TRdDOusT",
      "execution_count": 229,
      "outputs": [
        {
          "output_type": "display_data",
          "data": {
            "text/plain": [
              "\n",
              "\tDiebold-Mariano test\n",
              "\n",
              "data:  f.a and f.b and y\n",
              "statistic = -44.525, forecast horizon = 1, p-value < 2.2e-16\n",
              "alternative hypothesis: Forecast f1 and f2 have different accuracy.\n"
            ]
          },
          "metadata": {
            "tags": []
          }
        }
      ]
    },
    {
      "cell_type": "code",
      "metadata": {
        "colab": {
          "base_uri": "https://localhost:8080/",
          "height": 136
        },
        "id": "l0j5yLLOOw7a",
        "outputId": "572b83af-4fcd-4930-e94c-6eb9fb7a4078"
      },
      "source": [
        "# Diebold-Mariano test for predictive accuracy - test 2\n",
        "e.a <- msgarch.error.a\n",
        "e.b <- msgarch.error.b\n",
        "\n",
        "dm.test(e.a, e.b, alternative = \"two.sided\", h = 1, power = 2)"
      ],
      "id": "l0j5yLLOOw7a",
      "execution_count": 230,
      "outputs": [
        {
          "output_type": "display_data",
          "data": {
            "text/plain": [
              "\n",
              "\tDiebold-Mariano Test\n",
              "\n",
              "data:  e.ae.b\n",
              "DM = -44.51, Forecast horizon = 1, Loss function power = 2, p-value <\n",
              "2.2e-16\n",
              "alternative hypothesis: two.sided\n"
            ]
          },
          "metadata": {
            "tags": []
          }
        }
      ]
    },
    {
      "cell_type": "code",
      "metadata": {
        "colab": {
          "base_uri": "https://localhost:8080/",
          "height": 34
        },
        "id": "ciLg4NnOOywe",
        "outputId": "f760b27d-6a0c-43a1-c104-967d31fb5c6c"
      },
      "source": [
        "# Quasi-likelihood Loss Function For Volatility Forecasts - forecast a\n",
        "msgarch.qlike.a <- mean(LossVol(sigma.msgarch[,'sigma.msgarch.true'],\n",
        "                                sigma.msgarch[,'sigma.msgarch.pred.a'],\n",
        "                                which = \"QLIKE\"))\n",
        "round(msgarch.qlike.a, digits = 3)"
      ],
      "id": "ciLg4NnOOywe",
      "execution_count": 231,
      "outputs": [
        {
          "output_type": "display_data",
          "data": {
            "text/plain": [
              "[1] 1.743"
            ],
            "text/latex": "1.743",
            "text/markdown": "1.743",
            "text/html": [
              "1.743"
            ]
          },
          "metadata": {
            "tags": []
          }
        }
      ]
    },
    {
      "cell_type": "code",
      "metadata": {
        "colab": {
          "base_uri": "https://localhost:8080/",
          "height": 34
        },
        "id": "056kZTWaO0lh",
        "outputId": "5f10f911-5329-4592-8a0c-2e90cc12c29c"
      },
      "source": [
        "# Quasi-likelihood Loss Function For Volatility Forecasts - forecast 1b\n",
        "msgarch.qlike.b <- mean(LossVol(sigma.msgarch[,'sigma.msgarch.true'],\n",
        "                                sigma.msgarch[,'sigma.msgarch.pred.b'],\n",
        "                                which = \"QLIKE\"))\n",
        "round(msgarch.qlike.b, digits = 3)"
      ],
      "id": "056kZTWaO0lh",
      "execution_count": 232,
      "outputs": [
        {
          "output_type": "display_data",
          "data": {
            "text/plain": [
              "[1] 1.883"
            ],
            "text/latex": "1.883",
            "text/markdown": "1.883",
            "text/html": [
              "1.883"
            ]
          },
          "metadata": {
            "tags": []
          }
        }
      ]
    },
    {
      "cell_type": "code",
      "metadata": {
        "colab": {
          "base_uri": "https://localhost:8080/",
          "height": 34
        },
        "id": "oB52pVTlBaui",
        "outputId": "d5aefee2-5412-4a17-87cf-5ee62f7b51a1"
      },
      "source": [
        "# Log loss / Cross-Entropy Loss -  forecast a\n",
        "msgarch.logloss.a <- LogLoss(sigma.msgarch[,'sigma.msgarch.pred.a'],\n",
        "                             sigma.msgarch[,'sigma.msgarch.true'])\n",
        "round(msgarch.logloss.a, digits = 3)"
      ],
      "id": "oB52pVTlBaui",
      "execution_count": 233,
      "outputs": [
        {
          "output_type": "display_data",
          "data": {
            "text/plain": [
              "[1] -12.864"
            ],
            "text/latex": "-12.864",
            "text/markdown": "-12.864",
            "text/html": [
              "-12.864"
            ]
          },
          "metadata": {
            "tags": []
          }
        }
      ]
    },
    {
      "cell_type": "code",
      "metadata": {
        "colab": {
          "base_uri": "https://localhost:8080/",
          "height": 34
        },
        "id": "tKV7Ey6HBcAX",
        "outputId": "f771aa21-4caa-4ce5-ca84-67841470bcea"
      },
      "source": [
        "# Log loss / Cross-Entropy Loss -  forecast b\n",
        "msgarch.logloss.b <- LogLoss(sigma.msgarch[,'sigma.msgarch.pred.b'],\n",
        "                             sigma.msgarch[,'sigma.msgarch.true'])\n",
        "round(msgarch.logloss.b, digits = 3)"
      ],
      "id": "tKV7Ey6HBcAX",
      "execution_count": 234,
      "outputs": [
        {
          "output_type": "display_data",
          "data": {
            "text/plain": [
              "[1] -12.864"
            ],
            "text/latex": "-12.864",
            "text/markdown": "-12.864",
            "text/html": [
              "-12.864"
            ]
          },
          "metadata": {
            "tags": []
          }
        }
      ]
    },
    {
      "cell_type": "code",
      "metadata": {
        "colab": {
          "base_uri": "https://localhost:8080/",
          "height": 170
        },
        "id": "sOe2Un_QBdZx",
        "outputId": "813dc8b8-160a-41ae-baa3-427413062685"
      },
      "source": [
        "# Linear regression to assess forecast performance - forecast a\n",
        "msgarch.model.a <- lm(sigma.msgarch.true ~ sigma.msgarch.pred.a,\n",
        "                      data = sigma.msgarch)\n",
        "round(coeftest(msgarch.model.a, NeweyWest(msgarch.model.a,\n",
        "                                          lag = bwNeweyWest(msgarch.model.a),\n",
        "                                          prewhite = F)), 3)\n",
        "round(summary(msgarch.model.a)$adj.r.squared, 3)"
      ],
      "id": "sOe2Un_QBdZx",
      "execution_count": 235,
      "outputs": [
        {
          "output_type": "display_data",
          "data": {
            "text/plain": [
              "\n",
              "t test of coefficients:\n",
              "\n",
              "                     Estimate Std. Error t value  Pr(>|t|)    \n",
              "(Intercept)             3.853      0.398   9.675 < 2.2e-16 ***\n",
              "sigma.msgarch.pred.a   -1.525      0.243  -6.264 < 2.2e-16 ***\n",
              "---\n",
              "Signif. codes:  0 ‘***’ 0.001 ‘**’ 0.01 ‘*’ 0.05 ‘.’ 0.1 ‘ ’ 1\n"
            ]
          },
          "metadata": {
            "tags": []
          }
        },
        {
          "output_type": "display_data",
          "data": {
            "text/plain": [
              "[1] 0.054"
            ],
            "text/latex": "0.054",
            "text/markdown": "0.054",
            "text/html": [
              "0.054"
            ]
          },
          "metadata": {
            "tags": []
          }
        }
      ]
    },
    {
      "cell_type": "code",
      "metadata": {
        "colab": {
          "base_uri": "https://localhost:8080/",
          "height": 170
        },
        "id": "e7KtdthFBfGJ",
        "outputId": "7813efca-8fbd-4af7-c7fa-d1ec02b456ff"
      },
      "source": [
        "# Linear regression to assess forecast performance - forecast b\n",
        "msgarch.model.b <- lm(sigma.msgarch.true ~ sigma.msgarch.pred.b,\n",
        "                      data = sigma.msgarch)\n",
        "round(coeftest(msgarch.model.b, NeweyWest(msgarch.model.b,\n",
        "                                          lag = bwNeweyWest(msgarch.model.b),\n",
        "                                          prewhite = F)), 3)\n",
        "round(summary(msgarch.model.b)$adj.r.squared, 3)"
      ],
      "id": "e7KtdthFBfGJ",
      "execution_count": 236,
      "outputs": [
        {
          "output_type": "display_data",
          "data": {
            "text/plain": [
              "\n",
              "t test of coefficients:\n",
              "\n",
              "                     Estimate Std. Error t value Pr(>|t|)    \n",
              "(Intercept)             2.104      0.287   7.340   <2e-16 ***\n",
              "sigma.msgarch.pred.b   -0.371      0.144  -2.576     0.01 ** \n",
              "---\n",
              "Signif. codes:  0 ‘***’ 0.001 ‘**’ 0.01 ‘*’ 0.05 ‘.’ 0.1 ‘ ’ 1\n"
            ]
          },
          "metadata": {
            "tags": []
          }
        },
        {
          "output_type": "display_data",
          "data": {
            "text/plain": [
              "[1] 0.012"
            ],
            "text/latex": "0.012",
            "text/markdown": "0.012",
            "text/html": [
              "0.012"
            ]
          },
          "metadata": {
            "tags": []
          }
        }
      ]
    },
    {
      "cell_type": "markdown",
      "metadata": {
        "id": "-78BTEGuzVds"
      },
      "source": [
        "##(b) MS EGARCH"
      ],
      "id": "-78BTEGuzVds"
    },
    {
      "cell_type": "markdown",
      "metadata": {
        "id": "u9TnzFICT7eZ"
      },
      "source": [
        "**Forecast**"
      ],
      "id": "u9TnzFICT7eZ"
    },
    {
      "cell_type": "code",
      "metadata": {
        "id": "dwUbBOwIUn4E"
      },
      "source": [
        "# Model Estimation - Maximum Likelihood Estimation\n",
        "msegarch.fit.pred.a <- FitML(msegarch.spec,\n",
        "                             data = HSCE.df$HSCE.Return)"
      ],
      "id": "dwUbBOwIUn4E",
      "execution_count": 237,
      "outputs": []
    },
    {
      "cell_type": "code",
      "metadata": {
        "id": "I7ro5gakUpWQ"
      },
      "source": [
        "# Model Estimation - MCMC/Bayesian estimation\n",
        "msegarch.fit.pred.b <- FitMCMC(msegarch.spec,\n",
        "                               data = HSCE.df$HSCE.Return)"
      ],
      "id": "I7ro5gakUpWQ",
      "execution_count": 238,
      "outputs": []
    },
    {
      "cell_type": "code",
      "metadata": {
        "id": "p6lPXY-eUqmn"
      },
      "source": [
        "# Forecast - Maximum Likelihood Estimation\n",
        "msegarch.pred.a <- predict(object = msegarch.fit.pred.a,\n",
        "                           nahead = dim(HSCE.df.out)[1],\n",
        "                           do.return.draw = TRUE)\n",
        "\n",
        "msegarch.forecast.a <- ts(msegarch.pred.a$vol)"
      ],
      "id": "p6lPXY-eUqmn",
      "execution_count": 239,
      "outputs": []
    },
    {
      "cell_type": "code",
      "metadata": {
        "id": "HV3tfTO5Ur-S"
      },
      "source": [
        "# Forecast - MCMC/Bayesian estimation\n",
        "msegarch.pred.b <- predict(object = msegarch.fit.pred.b,\n",
        "                          nahead = dim(HSCE.df.out)[1],\n",
        "                          do.return.draw = TRUE)\n",
        "\n",
        "msegarch.forecast.b <- ts(msegarch.pred.b$vol)"
      ],
      "id": "HV3tfTO5Ur-S",
      "execution_count": 240,
      "outputs": []
    },
    {
      "cell_type": "code",
      "metadata": {
        "colab": {
          "base_uri": "https://localhost:8080/",
          "height": 252
        },
        "id": "iCb5Lo59Uto6",
        "outputId": "c1021a30-7a4f-4c12-da46-c6ba15e1a440"
      },
      "source": [
        "# Comparative\n",
        "sigma.msegarch.pred.a <- msegarch.forecast.a\n",
        "sigma.msegarch.pred.b <- msegarch.forecast.b\n",
        "sigma.msegarch.true <- ts(HSCE.df.out[,'HSCE.VolMSEGARCH'])\n",
        "\n",
        "sigma.msegarch <- na.omit(cbind(sigma.msegarch.pred.a,\n",
        "                                sigma.msegarch.pred.b,\n",
        "                                sigma.msegarch.true))\n",
        "head(sigma.msegarch)"
      ],
      "id": "iCb5Lo59Uto6",
      "execution_count": 241,
      "outputs": [
        {
          "output_type": "display_data",
          "data": {
            "text/plain": [
              "  sigma.msegarch.pred.a sigma.msegarch.pred.b sigma.msegarch.true\n",
              "1 1.195532              1.129709              1.283271           \n",
              "2 1.218754              1.127045              1.264300           \n",
              "3 1.268036              1.153232              1.281232           \n",
              "4 1.273838              1.169068              1.290867           \n",
              "5 1.310842              1.181968              2.310359           \n",
              "6 1.327085              1.142306              2.259760           "
            ],
            "text/latex": "A Time Series: 6 × 3\n\\begin{tabular}{r|lll}\n  & sigma.msegarch.pred.a & sigma.msegarch.pred.b & sigma.msegarch.true\\\\\n\\hline\n\t1 & 1.195532 & 1.129709 & 1.283271\\\\\n\t2 & 1.218754 & 1.127045 & 1.264300\\\\\n\t3 & 1.268036 & 1.153232 & 1.281232\\\\\n\t4 & 1.273838 & 1.169068 & 1.290867\\\\\n\t5 & 1.310842 & 1.181968 & 2.310359\\\\\n\t6 & 1.327085 & 1.142306 & 2.259760\\\\\n\\end{tabular}\n",
            "text/markdown": "\nA Time Series: 6 × 3\n\n| <!--/--> | sigma.msegarch.pred.a | sigma.msegarch.pred.b | sigma.msegarch.true |\n|---|---|---|---|\n| 1 | 1.195532 | 1.129709 | 1.283271 |\n| 2 | 1.218754 | 1.127045 | 1.264300 |\n| 3 | 1.268036 | 1.153232 | 1.281232 |\n| 4 | 1.273838 | 1.169068 | 1.290867 |\n| 5 | 1.310842 | 1.181968 | 2.310359 |\n| 6 | 1.327085 | 1.142306 | 2.259760 |\n\n",
            "text/html": [
              "<table class=\"dataframe\">\n",
              "<caption>A Time Series: 6 × 3</caption>\n",
              "<thead>\n",
              "\t<tr><th></th><th scope=col>sigma.msegarch.pred.a</th><th scope=col>sigma.msegarch.pred.b</th><th scope=col>sigma.msegarch.true</th></tr>\n",
              "</thead>\n",
              "<tbody>\n",
              "\t<tr><th scope=row>1</th><td>1.195532</td><td>1.129709</td><td>1.283271</td></tr>\n",
              "\t<tr><th scope=row>2</th><td>1.218754</td><td>1.127045</td><td>1.264300</td></tr>\n",
              "\t<tr><th scope=row>3</th><td>1.268036</td><td>1.153232</td><td>1.281232</td></tr>\n",
              "\t<tr><th scope=row>4</th><td>1.273838</td><td>1.169068</td><td>1.290867</td></tr>\n",
              "\t<tr><th scope=row>5</th><td>1.310842</td><td>1.181968</td><td>2.310359</td></tr>\n",
              "\t<tr><th scope=row>6</th><td>1.327085</td><td>1.142306</td><td>2.259760</td></tr>\n",
              "</tbody>\n",
              "</table>\n"
            ]
          },
          "metadata": {
            "tags": []
          }
        }
      ]
    },
    {
      "cell_type": "markdown",
      "metadata": {
        "id": "GzhnWJGgUvIS"
      },
      "source": [
        "**Performance evaluation**"
      ],
      "id": "GzhnWJGgUvIS"
    },
    {
      "cell_type": "code",
      "metadata": {
        "colab": {
          "base_uri": "https://localhost:8080/",
          "height": 51
        },
        "id": "POjtagN9Vgf1",
        "outputId": "32b3f9a0-c339-44fa-d8b6-3bbb00b5c247"
      },
      "source": [
        "# Forecast Error - Forecast a\n",
        "msegarch.error.a <- sigma.msegarch[,'sigma.msegarch.pred.a'] - sigma.msegarch[,'sigma.msegarch.true']\n",
        "head(msegarch.error.a)"
      ],
      "id": "POjtagN9Vgf1",
      "execution_count": 242,
      "outputs": [
        {
          "output_type": "display_data",
          "data": {
            "text/plain": [
              "A Time Series:\n",
              "[1] -0.08773911 -0.04554675 -0.01319573 -0.01702846 -0.99951630 -0.93267505"
            ],
            "text/latex": "A Time Series:\\\\\\begin{enumerate*}\n\\item -0.0877391091326751\n\\item -0.0455467506985312\n\\item -0.0131957322813232\n\\item -0.0170284617938867\n\\item -0.999516299145187\n\\item -0.932675046925379\n\\end{enumerate*}\n",
            "text/markdown": "A Time Series:  \n1. -0.0877391091326751\n2. -0.0455467506985312\n3. -0.0131957322813232\n4. -0.0170284617938867\n5. -0.999516299145187\n6. -0.932675046925379\n\n\n",
            "text/html": [
              "A Time Series:<br><style>\n",
              ".list-inline {list-style: none; margin:0; padding: 0}\n",
              ".list-inline>li {display: inline-block}\n",
              ".list-inline>li:not(:last-child)::after {content: \"\\00b7\"; padding: 0 .5ex}\n",
              "</style>\n",
              "<ol class=list-inline><li>-0.0877391091326751</li><li>-0.0455467506985312</li><li>-0.0131957322813232</li><li>-0.0170284617938867</li><li>-0.999516299145187</li><li>-0.932675046925379</li></ol>\n"
            ]
          },
          "metadata": {
            "tags": []
          }
        }
      ]
    },
    {
      "cell_type": "code",
      "metadata": {
        "colab": {
          "base_uri": "https://localhost:8080/",
          "height": 51
        },
        "id": "qXxb9AZoViK5",
        "outputId": "ca41abe2-7018-4a2e-f43f-6130420be991"
      },
      "source": [
        "# Forecast Error - Forecast b\n",
        "msegarch.error.b <- sigma.msegarch[,'sigma.msegarch.pred.b'] - sigma.msegarch[,'sigma.msegarch.true']\n",
        "head(msegarch.error.b)"
      ],
      "id": "qXxb9AZoViK5",
      "execution_count": 243,
      "outputs": [
        {
          "output_type": "display_data",
          "data": {
            "text/plain": [
              "A Time Series:\n",
              "[1] -0.1535620 -0.1372554 -0.1279998 -0.1217988 -1.1283908 -1.1174540"
            ],
            "text/latex": "A Time Series:\\\\\\begin{enumerate*}\n\\item -0.153562009577745\n\\item -0.137255370093155\n\\item -0.127999766357905\n\\item -0.121798843751709\n\\item -1.12839082015035\n\\item -1.11745397649981\n\\end{enumerate*}\n",
            "text/markdown": "A Time Series:  \n1. -0.153562009577745\n2. -0.137255370093155\n3. -0.127999766357905\n4. -0.121798843751709\n5. -1.12839082015035\n6. -1.11745397649981\n\n\n",
            "text/html": [
              "A Time Series:<br><style>\n",
              ".list-inline {list-style: none; margin:0; padding: 0}\n",
              ".list-inline>li {display: inline-block}\n",
              ".list-inline>li:not(:last-child)::after {content: \"\\00b7\"; padding: 0 .5ex}\n",
              "</style>\n",
              "<ol class=list-inline><li>-0.153562009577745</li><li>-0.137255370093155</li><li>-0.127999766357905</li><li>-0.121798843751709</li><li>-1.12839082015035</li><li>-1.11745397649981</li></ol>\n"
            ]
          },
          "metadata": {
            "tags": []
          }
        }
      ]
    },
    {
      "cell_type": "code",
      "metadata": {
        "colab": {
          "base_uri": "https://localhost:8080/",
          "height": 34
        },
        "id": "7Ym-Je0xVjsX",
        "outputId": "b98f98ee-a020-4ea3-9799-58140b307884"
      },
      "source": [
        "# Mean Square Error Loss - Forecast a\n",
        "msegarch.mse.a <- MSE(sigma.msegarch[,'sigma.msegarch.pred.a'],\n",
        "                      sigma.msegarch[,'sigma.msegarch.true'])\n",
        "round(msegarch.mse.a, digits = 3)"
      ],
      "id": "7Ym-Je0xVjsX",
      "execution_count": 244,
      "outputs": [
        {
          "output_type": "display_data",
          "data": {
            "text/plain": [
              "[1] 0.405"
            ],
            "text/latex": "0.405",
            "text/markdown": "0.405",
            "text/html": [
              "0.405"
            ]
          },
          "metadata": {
            "tags": []
          }
        }
      ]
    },
    {
      "cell_type": "code",
      "metadata": {
        "colab": {
          "base_uri": "https://localhost:8080/",
          "height": 34
        },
        "id": "kDMt40y6VlED",
        "outputId": "9743637d-06c3-44ea-dff5-676c7728750e"
      },
      "source": [
        "# Mean Square Error Loss - Forecast b\n",
        "msegarch.mse.b <- MSE(sigma.msegarch[,'sigma.msegarch.pred.b'],\n",
        "                      sigma.msegarch[,'sigma.msegarch.true'])\n",
        "round(msegarch.mse.b, digits = 3)"
      ],
      "id": "kDMt40y6VlED",
      "execution_count": 245,
      "outputs": [
        {
          "output_type": "display_data",
          "data": {
            "text/plain": [
              "[1] 0.304"
            ],
            "text/latex": "0.304",
            "text/markdown": "0.304",
            "text/html": [
              "0.304"
            ]
          },
          "metadata": {
            "tags": []
          }
        }
      ]
    },
    {
      "cell_type": "code",
      "metadata": {
        "colab": {
          "base_uri": "https://localhost:8080/",
          "height": 34
        },
        "id": "KuTJjVuQVmfI",
        "outputId": "4422415c-d1b9-4acc-da13-4ecf438fe189"
      },
      "source": [
        "# Mean Absolute Error Loss - Forecast a\n",
        "msegarch.mae.a <- MAE(sigma.msegarch[,'sigma.msegarch.pred.a'],\n",
        "                      sigma.msegarch[,'sigma.msegarch.true'])\n",
        "round(msegarch.mae.a, digits = 3)"
      ],
      "id": "KuTJjVuQVmfI",
      "execution_count": 246,
      "outputs": [
        {
          "output_type": "display_data",
          "data": {
            "text/plain": [
              "[1] 0.567"
            ],
            "text/latex": "0.567",
            "text/markdown": "0.567",
            "text/html": [
              "0.567"
            ]
          },
          "metadata": {
            "tags": []
          }
        }
      ]
    },
    {
      "cell_type": "code",
      "metadata": {
        "colab": {
          "base_uri": "https://localhost:8080/",
          "height": 34
        },
        "id": "mhBHKzaRVoAs",
        "outputId": "e20f043a-752c-4bf5-e8e5-99d8f459a3e1"
      },
      "source": [
        "# Mean Absolute Error Loss - Forecast b\n",
        "msegarch.mae.b <- MAE(sigma.msegarch[,'sigma.msegarch.pred.b'],\n",
        "                      sigma.msegarch[,'sigma.msegarch.true'])\n",
        "round(msegarch.mae.b, digits = 3)"
      ],
      "id": "mhBHKzaRVoAs",
      "execution_count": 247,
      "outputs": [
        {
          "output_type": "display_data",
          "data": {
            "text/plain": [
              "[1] 0.48"
            ],
            "text/latex": "0.48",
            "text/markdown": "0.48",
            "text/html": [
              "0.48"
            ]
          },
          "metadata": {
            "tags": []
          }
        }
      ]
    },
    {
      "cell_type": "code",
      "metadata": {
        "colab": {
          "base_uri": "https://localhost:8080/",
          "height": 34
        },
        "id": "iwaAxe-iVpPE",
        "outputId": "77264251-c422-473e-e503-af8cfb4ab0b6"
      },
      "source": [
        "# Root Mean Square Error Loss - Forecast a\n",
        "msegarch.rmse.a <- RMSE(sigma.msegarch[,'sigma.msegarch.pred.a'],\n",
        "                        sigma.msegarch[,'sigma.msegarch.true'])\n",
        "round(msegarch.rmse.a, digits = 3)"
      ],
      "id": "iwaAxe-iVpPE",
      "execution_count": 248,
      "outputs": [
        {
          "output_type": "display_data",
          "data": {
            "text/plain": [
              "[1] 0.636"
            ],
            "text/latex": "0.636",
            "text/markdown": "0.636",
            "text/html": [
              "0.636"
            ]
          },
          "metadata": {
            "tags": []
          }
        }
      ]
    },
    {
      "cell_type": "code",
      "metadata": {
        "colab": {
          "base_uri": "https://localhost:8080/",
          "height": 34
        },
        "id": "yHKTx3GjVrU4",
        "outputId": "8e648d70-4fbb-4609-d187-ff1ffac48459"
      },
      "source": [
        "# Root Mean Square Error Loss - Forecast b\n",
        "msegarch.rmse.b <- RMSE(sigma.msegarch[,'sigma.msegarch.pred.b'],\n",
        "                        sigma.msegarch[,'sigma.msegarch.true'])\n",
        "round(msegarch.rmse.b, digits = 3)"
      ],
      "id": "yHKTx3GjVrU4",
      "execution_count": 249,
      "outputs": [
        {
          "output_type": "display_data",
          "data": {
            "text/plain": [
              "[1] 0.551"
            ],
            "text/latex": "0.551",
            "text/markdown": "0.551",
            "text/html": [
              "0.551"
            ]
          },
          "metadata": {
            "tags": []
          }
        }
      ]
    },
    {
      "cell_type": "code",
      "metadata": {
        "colab": {
          "base_uri": "https://localhost:8080/",
          "height": 34
        },
        "id": "q0z0yjuZVtNf",
        "outputId": "98a2fd56-cacc-41c6-dab1-f7f500654ee7"
      },
      "source": [
        "# Quasi-likelihood loss function - forecast a\n",
        "h <- sigma.msegarch[,'sigma.msegarch.true']\n",
        "\n",
        "h.hat.a <- sigma.msegarch[,'sigma.msegarch.pred.a']     \n",
        "msegarch.qlike.a <- mean(log(sqrt(h)) + h.hat.a/sqrt(h))\n",
        "round(msegarch.qlike.a, digits = 5)"
      ],
      "id": "q0z0yjuZVtNf",
      "execution_count": 250,
      "outputs": [
        {
          "output_type": "display_data",
          "data": {
            "text/plain": [
              "[1] 1.76292"
            ],
            "text/latex": "1.76292",
            "text/markdown": "1.76292",
            "text/html": [
              "1.76292"
            ]
          },
          "metadata": {
            "tags": []
          }
        }
      ]
    },
    {
      "cell_type": "code",
      "metadata": {
        "colab": {
          "base_uri": "https://localhost:8080/",
          "height": 34
        },
        "id": "Jr_3YbHMVuw6",
        "outputId": "9d980573-04f2-45b5-8d02-2e59f640fc04"
      },
      "source": [
        "# Quasi-likelihood loss function - forecast b\n",
        "h.hat.b <- sigma.msegarch[,'sigma.msegarch.pred.b']\n",
        "msegarch.qlike.b <- mean(log(sqrt(h)) + h.hat.b/sqrt(h))\n",
        "round(msegarch.qlike.b, digits = 5)"
      ],
      "id": "Jr_3YbHMVuw6",
      "execution_count": 251,
      "outputs": [
        {
          "output_type": "display_data",
          "data": {
            "text/plain": [
              "[1] 1.67086"
            ],
            "text/latex": "1.67086",
            "text/markdown": "1.67086",
            "text/html": [
              "1.67086"
            ]
          },
          "metadata": {
            "tags": []
          }
        }
      ]
    },
    {
      "cell_type": "code",
      "metadata": {
        "colab": {
          "base_uri": "https://localhost:8080/",
          "height": 119
        },
        "id": "ulWlwNktVwfY",
        "outputId": "1132e366-acce-40bd-ba4b-5d33ee465845"
      },
      "source": [
        "# Diebold-Mariano Test (accuracy test) - test 1\n",
        "f.a <- sigma.msegarch[,'sigma.msegarch.pred.a']\n",
        "f.b <- sigma.msegarch[,'sigma.msegarch.pred.b']\n",
        "y <- sigma.msegarch[,'sigma.msegarch.true']\n",
        "\n",
        "DM.test(f.a, f.b, y, loss.type = \"SE\", c = FALSE, H1 = \"same\")"
      ],
      "id": "ulWlwNktVwfY",
      "execution_count": 252,
      "outputs": [
        {
          "output_type": "display_data",
          "data": {
            "text/plain": [
              "\n",
              "\tDiebold-Mariano test\n",
              "\n",
              "data:  f.a and f.b and y\n",
              "statistic = 34.894, forecast horizon = 1, p-value < 2.2e-16\n",
              "alternative hypothesis: Forecast f1 and f2 have different accuracy.\n"
            ]
          },
          "metadata": {
            "tags": []
          }
        }
      ]
    },
    {
      "cell_type": "code",
      "metadata": {
        "colab": {
          "base_uri": "https://localhost:8080/",
          "height": 136
        },
        "id": "MmdmO3tAVxyS",
        "outputId": "9312c3b3-fb63-40ed-9e6a-def748901fcd"
      },
      "source": [
        "# Diebold-Mariano test for predictive accuracy - test 2\n",
        "e.a <- msegarch.error.a\n",
        "e.b <- msegarch.error.b\n",
        "\n",
        "dm.test(e.a, e.b, alternative = \"two.sided\", h = 1, power = 2)"
      ],
      "id": "MmdmO3tAVxyS",
      "execution_count": 253,
      "outputs": [
        {
          "output_type": "display_data",
          "data": {
            "text/plain": [
              "\n",
              "\tDiebold-Mariano Test\n",
              "\n",
              "data:  e.ae.b\n",
              "DM = 34.883, Forecast horizon = 1, Loss function power = 2, p-value <\n",
              "2.2e-16\n",
              "alternative hypothesis: two.sided\n"
            ]
          },
          "metadata": {
            "tags": []
          }
        }
      ]
    },
    {
      "cell_type": "code",
      "metadata": {
        "colab": {
          "base_uri": "https://localhost:8080/",
          "height": 34
        },
        "id": "5d-xsUBTV1FG",
        "outputId": "55e4871e-4a31-49c2-9b05-d7582b71c6bf"
      },
      "source": [
        "# Quasi-likelihood Loss Function For Volatility Forecasts - forecast a\n",
        "msegarch.qlike.a <- mean(LossVol(sigma.msegarch[,'sigma.msegarch.true'],\n",
        "                                 sigma.msegarch[,'sigma.msegarch.pred.a'],\n",
        "                                 which = \"QLIKE\"))\n",
        "round(msegarch.qlike.a, digits = 3)"
      ],
      "id": "5d-xsUBTV1FG",
      "execution_count": 254,
      "outputs": [
        {
          "output_type": "display_data",
          "data": {
            "text/plain": [
              "[1] 1.862"
            ],
            "text/latex": "1.862",
            "text/markdown": "1.862",
            "text/html": [
              "1.862"
            ]
          },
          "metadata": {
            "tags": []
          }
        }
      ]
    },
    {
      "cell_type": "code",
      "metadata": {
        "colab": {
          "base_uri": "https://localhost:8080/",
          "height": 34
        },
        "id": "h5IP8nAUV5un",
        "outputId": "b664bb55-1331-4626-8dfe-953ab2f0fe59"
      },
      "source": [
        "# Quasi-likelihood Loss Function For Volatility Forecasts - forecast 1b\n",
        "msegarch.qlike.b <- mean(LossVol(sigma.msegarch[,'sigma.msegarch.true'],\n",
        "                                 sigma.msegarch[,'sigma.msegarch.pred.b'],\n",
        "                                 which = \"QLIKE\"))\n",
        "round(msegarch.qlike.b, digits = 3)"
      ],
      "id": "h5IP8nAUV5un",
      "execution_count": 255,
      "outputs": [
        {
          "output_type": "display_data",
          "data": {
            "text/plain": [
              "[1] 1.814"
            ],
            "text/latex": "1.814",
            "text/markdown": "1.814",
            "text/html": [
              "1.814"
            ]
          },
          "metadata": {
            "tags": []
          }
        }
      ]
    },
    {
      "cell_type": "code",
      "metadata": {
        "colab": {
          "base_uri": "https://localhost:8080/",
          "height": 34
        },
        "id": "3WbEUHjtV7yw",
        "outputId": "3736ddb4-c7fc-4a11-e757-2a7d37caa77c"
      },
      "source": [
        "# Log loss / Cross-Entropy Loss -  forecast a\n",
        "msegarch.logloss.a <- LogLoss(sigma.msegarch[,'sigma.msegarch.pred.a'],\n",
        "                              sigma.msegarch[,'sigma.msegarch.true'])\n",
        "round(msegarch.logloss.a, digits = 3)"
      ],
      "id": "3WbEUHjtV7yw",
      "execution_count": 256,
      "outputs": [
        {
          "output_type": "display_data",
          "data": {
            "text/plain": [
              "[1] -13.618"
            ],
            "text/latex": "-13.618",
            "text/markdown": "-13.618",
            "text/html": [
              "-13.618"
            ]
          },
          "metadata": {
            "tags": []
          }
        }
      ]
    },
    {
      "cell_type": "code",
      "metadata": {
        "colab": {
          "base_uri": "https://localhost:8080/",
          "height": 34
        },
        "id": "nGKcE1e7V9na",
        "outputId": "750b1bf4-5c1c-4a4a-b32a-ba14c87a3f87"
      },
      "source": [
        "# Log loss / Cross-Entropy Loss -  forecast b\n",
        "msegarch.logloss.b <- LogLoss(sigma.msegarch[,'sigma.msegarch.pred.b'],\n",
        "                              sigma.msegarch[,'sigma.msegarch.true'])\n",
        "round(msegarch.logloss.b, digits = 3)"
      ],
      "id": "nGKcE1e7V9na",
      "execution_count": 257,
      "outputs": [
        {
          "output_type": "display_data",
          "data": {
            "text/plain": [
              "[1] -13.618"
            ],
            "text/latex": "-13.618",
            "text/markdown": "-13.618",
            "text/html": [
              "-13.618"
            ]
          },
          "metadata": {
            "tags": []
          }
        }
      ]
    },
    {
      "cell_type": "code",
      "metadata": {
        "colab": {
          "base_uri": "https://localhost:8080/",
          "height": 170
        },
        "id": "fEdw4L4JWDnH",
        "outputId": "b3b3efa1-050b-4ef8-f4a7-4ceeb357b56b"
      },
      "source": [
        "# Linear regression to assess forecast performance - forecast a\n",
        "msegarch.model.a <- lm(sigma.msegarch.true ~ sigma.msegarch.pred.a,\n",
        "                       data = sigma.msegarch)\n",
        "round(coeftest(msegarch.model.a, NeweyWest(msegarch.model.a,\n",
        "                                           lag = bwNeweyWest(msegarch.model.a),\n",
        "                                           prewhite = F)), 3)\n",
        "round(summary(msegarch.model.a)$adj.r.squared, 3)"
      ],
      "id": "fEdw4L4JWDnH",
      "execution_count": 258,
      "outputs": [
        {
          "output_type": "display_data",
          "data": {
            "text/plain": [
              "\n",
              "t test of coefficients:\n",
              "\n",
              "                      Estimate Std. Error t value  Pr(>|t|)    \n",
              "(Intercept)              3.343      0.521   6.418 < 2.2e-16 ***\n",
              "sigma.msegarch.pred.a   -1.052      0.278  -3.778 < 2.2e-16 ***\n",
              "---\n",
              "Signif. codes:  0 ‘***’ 0.001 ‘**’ 0.01 ‘*’ 0.05 ‘.’ 0.1 ‘ ’ 1\n"
            ]
          },
          "metadata": {
            "tags": []
          }
        },
        {
          "output_type": "display_data",
          "data": {
            "text/plain": [
              "[1] 0.057"
            ],
            "text/latex": "0.057",
            "text/markdown": "0.057",
            "text/html": [
              "0.057"
            ]
          },
          "metadata": {
            "tags": []
          }
        }
      ]
    },
    {
      "cell_type": "code",
      "metadata": {
        "colab": {
          "base_uri": "https://localhost:8080/",
          "height": 170
        },
        "id": "U7IDUvRJWFVX",
        "outputId": "0a826892-a9c5-40a3-eca3-52e7f00dd041"
      },
      "source": [
        "# Linear regression to assess forecast performance - forecast b\n",
        "msegarch.model.b <- lm(sigma.msegarch.true ~ sigma.msegarch.pred.b,\n",
        "                       data = sigma.msegarch)\n",
        "round(coeftest(msegarch.model.b, NeweyWest(msegarch.model.b,\n",
        "                                           lag = bwNeweyWest(msegarch.model.b),\n",
        "                                           prewhite = F)), 3)\n",
        "round(summary(msegarch.model.b)$adj.r.squared, 3)"
      ],
      "id": "U7IDUvRJWFVX",
      "execution_count": 259,
      "outputs": [
        {
          "output_type": "display_data",
          "data": {
            "text/plain": [
              "\n",
              "t test of coefficients:\n",
              "\n",
              "                      Estimate Std. Error t value Pr(>|t|)    \n",
              "(Intercept)              1.763      0.304   5.798   <2e-16 ***\n",
              "sigma.msegarch.pred.b   -0.211      0.176  -1.197    0.232    \n",
              "---\n",
              "Signif. codes:  0 ‘***’ 0.001 ‘**’ 0.01 ‘*’ 0.05 ‘.’ 0.1 ‘ ’ 1\n"
            ]
          },
          "metadata": {
            "tags": []
          }
        },
        {
          "output_type": "display_data",
          "data": {
            "text/plain": [
              "[1] 0.001"
            ],
            "text/latex": "0.001",
            "text/markdown": "0.001",
            "text/html": [
              "0.001"
            ]
          },
          "metadata": {
            "tags": []
          }
        }
      ]
    },
    {
      "cell_type": "markdown",
      "metadata": {
        "id": "nB7uBx88zXd1"
      },
      "source": [
        "##(c) MS GJR-GARCH"
      ],
      "id": "nB7uBx88zXd1"
    },
    {
      "cell_type": "markdown",
      "metadata": {
        "id": "l3JW-GeRT-W3"
      },
      "source": [
        "**Forecast**"
      ],
      "id": "l3JW-GeRT-W3"
    },
    {
      "cell_type": "code",
      "metadata": {
        "id": "CQ6gLJ8xqn77"
      },
      "source": [
        "# Model Estimation - Maximum Likelihood Estimation\n",
        "msgjrgarch.fit.pred.a <- FitML(msgjrgarch.spec,\n",
        "                                data = HSCE.df$HSCE.Return)"
      ],
      "id": "CQ6gLJ8xqn77",
      "execution_count": 260,
      "outputs": []
    },
    {
      "cell_type": "code",
      "metadata": {
        "id": "uk7xwCe0qqa8"
      },
      "source": [
        "# Model Estimation - MCMC/Bayesian estimation\n",
        "msgjrgarch.fit.pred.b <- FitMCMC(msgjrgarch.spec,\n",
        "                                 data = HSCE.df$HSCE.Return)"
      ],
      "id": "uk7xwCe0qqa8",
      "execution_count": 261,
      "outputs": []
    },
    {
      "cell_type": "code",
      "metadata": {
        "id": "taC2gBX_qroa"
      },
      "source": [
        "# Forecast - Maximum Likelihood Estimation\n",
        "msgjrgarch.pred.a <- predict(object = msgjrgarch.fit.pred.a,\n",
        "                            nahead = dim(HSCE.df.out)[1],\n",
        "                            do.return.draw = TRUE)\n",
        "\n",
        "msgjrgarch.forecast.a <- ts(msgjrgarch.pred.a$vol)"
      ],
      "id": "taC2gBX_qroa",
      "execution_count": 262,
      "outputs": []
    },
    {
      "cell_type": "code",
      "metadata": {
        "id": "DvFhQsItqtQ4"
      },
      "source": [
        "# Forecast - MCMC/Bayesian estimation\n",
        "msgjrgarch.pred.b <- predict(object = msgjrgarch.fit.pred.b,\n",
        "                            nahead = dim(HSCE.df.out)[1],\n",
        "                            do.return.draw = TRUE)\n",
        "\n",
        "msgjrgarch.forecast.b <- ts(msgjrgarch.pred.b$vol)"
      ],
      "id": "DvFhQsItqtQ4",
      "execution_count": 263,
      "outputs": []
    },
    {
      "cell_type": "code",
      "metadata": {
        "colab": {
          "base_uri": "https://localhost:8080/",
          "height": 252
        },
        "id": "jT24kG0tquux",
        "outputId": "42bdc0cb-9bf9-498d-ba12-fbb54c03976c"
      },
      "source": [
        "# Comparative\n",
        "sigma.msgjrgarch.pred.a <- msgjrgarch.forecast.a\n",
        "sigma.msgjrgarch.pred.b <- msgjrgarch.forecast.b\n",
        "sigma.msgjrgarch.true <- ts(HSCE.df.out[,'HSCE.VolMSGJRGARCH'])\n",
        "\n",
        "sigma.msgjrgarch <- na.omit(cbind(sigma.msgjrgarch.pred.a,\n",
        "                                  sigma.msgjrgarch.pred.b,\n",
        "                                  sigma.msgjrgarch.true))\n",
        "head(sigma.msgjrgarch)"
      ],
      "id": "jT24kG0tquux",
      "execution_count": 264,
      "outputs": [
        {
          "output_type": "display_data",
          "data": {
            "text/plain": [
              "  sigma.msgjrgarch.pred.a sigma.msgjrgarch.pred.b sigma.msgjrgarch.true\n",
              "1 1.178992                1.178664                1.298887             \n",
              "2 1.197817                1.226569                1.270117             \n",
              "3 1.226170                1.276909                1.283661             \n",
              "4 1.248648                1.317572                1.274616             \n",
              "5 1.273462                1.275201                2.353457             \n",
              "6 1.271588                1.338495                2.300754             "
            ],
            "text/latex": "A Time Series: 6 × 3\n\\begin{tabular}{r|lll}\n  & sigma.msgjrgarch.pred.a & sigma.msgjrgarch.pred.b & sigma.msgjrgarch.true\\\\\n\\hline\n\t1 & 1.178992 & 1.178664 & 1.298887\\\\\n\t2 & 1.197817 & 1.226569 & 1.270117\\\\\n\t3 & 1.226170 & 1.276909 & 1.283661\\\\\n\t4 & 1.248648 & 1.317572 & 1.274616\\\\\n\t5 & 1.273462 & 1.275201 & 2.353457\\\\\n\t6 & 1.271588 & 1.338495 & 2.300754\\\\\n\\end{tabular}\n",
            "text/markdown": "\nA Time Series: 6 × 3\n\n| <!--/--> | sigma.msgjrgarch.pred.a | sigma.msgjrgarch.pred.b | sigma.msgjrgarch.true |\n|---|---|---|---|\n| 1 | 1.178992 | 1.178664 | 1.298887 |\n| 2 | 1.197817 | 1.226569 | 1.270117 |\n| 3 | 1.226170 | 1.276909 | 1.283661 |\n| 4 | 1.248648 | 1.317572 | 1.274616 |\n| 5 | 1.273462 | 1.275201 | 2.353457 |\n| 6 | 1.271588 | 1.338495 | 2.300754 |\n\n",
            "text/html": [
              "<table class=\"dataframe\">\n",
              "<caption>A Time Series: 6 × 3</caption>\n",
              "<thead>\n",
              "\t<tr><th></th><th scope=col>sigma.msgjrgarch.pred.a</th><th scope=col>sigma.msgjrgarch.pred.b</th><th scope=col>sigma.msgjrgarch.true</th></tr>\n",
              "</thead>\n",
              "<tbody>\n",
              "\t<tr><th scope=row>1</th><td>1.178992</td><td>1.178664</td><td>1.298887</td></tr>\n",
              "\t<tr><th scope=row>2</th><td>1.197817</td><td>1.226569</td><td>1.270117</td></tr>\n",
              "\t<tr><th scope=row>3</th><td>1.226170</td><td>1.276909</td><td>1.283661</td></tr>\n",
              "\t<tr><th scope=row>4</th><td>1.248648</td><td>1.317572</td><td>1.274616</td></tr>\n",
              "\t<tr><th scope=row>5</th><td>1.273462</td><td>1.275201</td><td>2.353457</td></tr>\n",
              "\t<tr><th scope=row>6</th><td>1.271588</td><td>1.338495</td><td>2.300754</td></tr>\n",
              "</tbody>\n",
              "</table>\n"
            ]
          },
          "metadata": {
            "tags": []
          }
        }
      ]
    },
    {
      "cell_type": "markdown",
      "metadata": {
        "id": "JuI4MGEVqxUD"
      },
      "source": [
        "**Performance evaluation**"
      ],
      "id": "JuI4MGEVqxUD"
    },
    {
      "cell_type": "code",
      "metadata": {
        "colab": {
          "base_uri": "https://localhost:8080/",
          "height": 51
        },
        "id": "lXsnouifqzNK",
        "outputId": "ce26ad52-0774-43e5-be4b-47946696b462"
      },
      "source": [
        "# Forecast Error - Forecast a\n",
        "msgjrgarch.error.a <- sigma.msgjrgarch[,'sigma.msgjrgarch.pred.a'] - sigma.msgjrgarch[,'sigma.msgjrgarch.true']\n",
        "head(msgjrgarch.error.a)"
      ],
      "id": "lXsnouifqzNK",
      "execution_count": 265,
      "outputs": [
        {
          "output_type": "display_data",
          "data": {
            "text/plain": [
              "A Time Series:\n",
              "[1] -0.11989408 -0.07230065 -0.05749043 -0.02596720 -1.07999514 -1.02916643"
            ],
            "text/latex": "A Time Series:\\\\\\begin{enumerate*}\n\\item -0.119894080379119\n\\item -0.0723006474319972\n\\item -0.0574904263708669\n\\item -0.025967203204736\n\\item -1.07999514236133\n\\item -1.02916643074268\n\\end{enumerate*}\n",
            "text/markdown": "A Time Series:  \n1. -0.119894080379119\n2. -0.0723006474319972\n3. -0.0574904263708669\n4. -0.025967203204736\n5. -1.07999514236133\n6. -1.02916643074268\n\n\n",
            "text/html": [
              "A Time Series:<br><style>\n",
              ".list-inline {list-style: none; margin:0; padding: 0}\n",
              ".list-inline>li {display: inline-block}\n",
              ".list-inline>li:not(:last-child)::after {content: \"\\00b7\"; padding: 0 .5ex}\n",
              "</style>\n",
              "<ol class=list-inline><li>-0.119894080379119</li><li>-0.0723006474319972</li><li>-0.0574904263708669</li><li>-0.025967203204736</li><li>-1.07999514236133</li><li>-1.02916643074268</li></ol>\n"
            ]
          },
          "metadata": {
            "tags": []
          }
        }
      ]
    },
    {
      "cell_type": "code",
      "metadata": {
        "colab": {
          "base_uri": "https://localhost:8080/",
          "height": 51
        },
        "id": "G-it0c-8q0qO",
        "outputId": "4a29e5e0-4416-4039-c04c-76703aa0bc4a"
      },
      "source": [
        "# Forecast Error - Forecast b\n",
        "msgjrgarch.error.b <- sigma.msgjrgarch[,'sigma.msgjrgarch.pred.b'] - sigma.msgjrgarch[,'sigma.msgjrgarch.true']\n",
        "head(msgjrgarch.error.b)"
      ],
      "id": "G-it0c-8q0qO",
      "execution_count": 266,
      "outputs": [
        {
          "output_type": "display_data",
          "data": {
            "text/plain": [
              "A Time Series:\n",
              "[1] -0.120222357 -0.043547982 -0.006751888  0.042956284 -1.078256183\n",
              "[6] -0.962259395"
            ],
            "text/latex": "A Time Series:\\\\\\begin{enumerate*}\n\\item -0.120222357131469\n\\item -0.043547981692752\n\\item -0.00675188848484742\n\\item 0.0429562835684199\n\\item -1.07825618309119\n\\item -0.962259394802421\n\\end{enumerate*}\n",
            "text/markdown": "A Time Series:  \n1. -0.120222357131469\n2. -0.043547981692752\n3. -0.00675188848484742\n4. 0.0429562835684199\n5. -1.07825618309119\n6. -0.962259394802421\n\n\n",
            "text/html": [
              "A Time Series:<br><style>\n",
              ".list-inline {list-style: none; margin:0; padding: 0}\n",
              ".list-inline>li {display: inline-block}\n",
              ".list-inline>li:not(:last-child)::after {content: \"\\00b7\"; padding: 0 .5ex}\n",
              "</style>\n",
              "<ol class=list-inline><li>-0.120222357131469</li><li>-0.043547981692752</li><li>-0.00675188848484742</li><li>0.0429562835684199</li><li>-1.07825618309119</li><li>-0.962259394802421</li></ol>\n"
            ]
          },
          "metadata": {
            "tags": []
          }
        }
      ]
    },
    {
      "cell_type": "code",
      "metadata": {
        "colab": {
          "base_uri": "https://localhost:8080/",
          "height": 34
        },
        "id": "vpi9_7Ozq2YF",
        "outputId": "35832d8d-1d0f-4f6f-9ac3-53d2cc48551d"
      },
      "source": [
        "# Mean Square Error Loss - Forecast a\n",
        "msgjrgarch.mse.a <- MSE(sigma.msgjrgarch[,'sigma.msgjrgarch.pred.a'],\n",
        "                        sigma.msgjrgarch[,'sigma.msgjrgarch.true'])\n",
        "round(msgjrgarch.mse.a, digits = 3)"
      ],
      "id": "vpi9_7Ozq2YF",
      "execution_count": 267,
      "outputs": [
        {
          "output_type": "display_data",
          "data": {
            "text/plain": [
              "[1] 0.243"
            ],
            "text/latex": "0.243",
            "text/markdown": "0.243",
            "text/html": [
              "0.243"
            ]
          },
          "metadata": {
            "tags": []
          }
        }
      ]
    },
    {
      "cell_type": "code",
      "metadata": {
        "colab": {
          "base_uri": "https://localhost:8080/",
          "height": 34
        },
        "id": "BmG7UUNUq3pM",
        "outputId": "d7db6964-108c-4f52-a8a9-b4e6740a73b1"
      },
      "source": [
        "# Mean Square Error Loss - Forecast b\n",
        "msgjrgarch.mse.b <- MSE(sigma.msgjrgarch[,'sigma.msgjrgarch.pred.b'],\n",
        "                        sigma.msgjrgarch[,'sigma.msgjrgarch.true'])\n",
        "round(msgjrgarch.mse.b, digits = 3)"
      ],
      "id": "BmG7UUNUq3pM",
      "execution_count": 268,
      "outputs": [
        {
          "output_type": "display_data",
          "data": {
            "text/plain": [
              "[1] 0.334"
            ],
            "text/latex": "0.334",
            "text/markdown": "0.334",
            "text/html": [
              "0.334"
            ]
          },
          "metadata": {
            "tags": []
          }
        }
      ]
    },
    {
      "cell_type": "code",
      "metadata": {
        "colab": {
          "base_uri": "https://localhost:8080/",
          "height": 34
        },
        "id": "hXTa5SMJq5Kc",
        "outputId": "584f7b70-4f52-451a-848a-de46eb338f48"
      },
      "source": [
        "# Mean Absolute Error Loss - Forecast a\n",
        "msgjrgarch.mae.a <- MAE(sigma.msgjrgarch[,'sigma.msgjrgarch.pred.a'],\n",
        "                        sigma.msgjrgarch[,'sigma.msgjrgarch.true'])\n",
        "round(msgjrgarch.mae.a, digits = 3)"
      ],
      "id": "hXTa5SMJq5Kc",
      "execution_count": 269,
      "outputs": [
        {
          "output_type": "display_data",
          "data": {
            "text/plain": [
              "[1] 0.434"
            ],
            "text/latex": "0.434",
            "text/markdown": "0.434",
            "text/html": [
              "0.434"
            ]
          },
          "metadata": {
            "tags": []
          }
        }
      ]
    },
    {
      "cell_type": "code",
      "metadata": {
        "colab": {
          "base_uri": "https://localhost:8080/",
          "height": 34
        },
        "id": "y-cKrOXLq6oI",
        "outputId": "41a0e406-4b95-4a26-8632-69142aec3ff6"
      },
      "source": [
        "# Mean Absolute Error Loss - Forecast b\n",
        "msgjrgarch.mae.b <- MAE(sigma.msgjrgarch[,'sigma.msgjrgarch.pred.b'],\n",
        "                        sigma.msgjrgarch[,'sigma.msgjrgarch.true'])\n",
        "round(msgjrgarch.mae.b, digits = 3)"
      ],
      "id": "y-cKrOXLq6oI",
      "execution_count": 270,
      "outputs": [
        {
          "output_type": "display_data",
          "data": {
            "text/plain": [
              "[1] 0.52"
            ],
            "text/latex": "0.52",
            "text/markdown": "0.52",
            "text/html": [
              "0.52"
            ]
          },
          "metadata": {
            "tags": []
          }
        }
      ]
    },
    {
      "cell_type": "code",
      "metadata": {
        "colab": {
          "base_uri": "https://localhost:8080/",
          "height": 34
        },
        "id": "yY_lh4P5q8hV",
        "outputId": "b5442341-6243-42f1-d2b3-827d3d53ab66"
      },
      "source": [
        "# Root Mean Square Error Loss - Forecast a\n",
        "msgjrgarch.rmse.a <- RMSE(sigma.msgjrgarch[,'sigma.msgjrgarch.pred.a'],\n",
        "                          sigma.msgjrgarch[,'sigma.msgjrgarch.true'])\n",
        "round(msgjrgarch.rmse.a, digits = 3)"
      ],
      "id": "yY_lh4P5q8hV",
      "execution_count": 271,
      "outputs": [
        {
          "output_type": "display_data",
          "data": {
            "text/plain": [
              "[1] 0.493"
            ],
            "text/latex": "0.493",
            "text/markdown": "0.493",
            "text/html": [
              "0.493"
            ]
          },
          "metadata": {
            "tags": []
          }
        }
      ]
    },
    {
      "cell_type": "code",
      "metadata": {
        "colab": {
          "base_uri": "https://localhost:8080/",
          "height": 34
        },
        "id": "u3HQsD5Qq-QB",
        "outputId": "bcbc350b-f7da-4d18-cae9-19f30a806360"
      },
      "source": [
        "# Root Mean Square Error Loss - Forecast b\n",
        "msgjrgarch.rmse.b <- RMSE(sigma.msgjrgarch[,'sigma.msgjrgarch.pred.b'],\n",
        "                          sigma.msgjrgarch[,'sigma.msgjrgarch.true'])\n",
        "round(msgjrgarch.rmse.b, digits = 3)"
      ],
      "id": "u3HQsD5Qq-QB",
      "execution_count": 272,
      "outputs": [
        {
          "output_type": "display_data",
          "data": {
            "text/plain": [
              "[1] 0.578"
            ],
            "text/latex": "0.578",
            "text/markdown": "0.578",
            "text/html": [
              "0.578"
            ]
          },
          "metadata": {
            "tags": []
          }
        }
      ]
    },
    {
      "cell_type": "code",
      "metadata": {
        "colab": {
          "base_uri": "https://localhost:8080/",
          "height": 34
        },
        "id": "94nhDvc3q__y",
        "outputId": "6f1e128e-5dff-41e8-e748-6466b65a3188"
      },
      "source": [
        "# Quasi-likelihood loss function - forecast a\n",
        "h <- sigma.msgjrgarch[,'sigma.msgjrgarch.true']\n",
        "\n",
        "h.hat.a <- sigma.msgjrgarch[,'sigma.msgjrgarch.pred.a']     \n",
        "msgjrgarch.qlike.a <- mean(log(sqrt(h)) + h.hat.a/sqrt(h))\n",
        "round(msgjrgarch.qlike.a, digits = 5)"
      ],
      "id": "94nhDvc3q__y",
      "execution_count": 273,
      "outputs": [
        {
          "output_type": "display_data",
          "data": {
            "text/plain": [
              "[1] 1.60936"
            ],
            "text/latex": "1.60936",
            "text/markdown": "1.60936",
            "text/html": [
              "1.60936"
            ]
          },
          "metadata": {
            "tags": []
          }
        }
      ]
    },
    {
      "cell_type": "code",
      "metadata": {
        "colab": {
          "base_uri": "https://localhost:8080/",
          "height": 34
        },
        "id": "EQKq_D5FrByJ",
        "outputId": "e0d5b742-d6fe-4d2a-faaa-d7240b2659fe"
      },
      "source": [
        "# Quasi-likelihood loss function - forecast b\n",
        "h.hat.b <- sigma.msgjrgarch[,'sigma.msgjrgarch.pred.b']\n",
        "msgjrgarch.qlike.b <- mean(log(sqrt(h)) + h.hat.b/sqrt(h))\n",
        "round(msgjrgarch.qlike.b, digits = 5)"
      ],
      "id": "EQKq_D5FrByJ",
      "execution_count": 274,
      "outputs": [
        {
          "output_type": "display_data",
          "data": {
            "text/plain": [
              "[1] 1.7156"
            ],
            "text/latex": "1.7156",
            "text/markdown": "1.7156",
            "text/html": [
              "1.7156"
            ]
          },
          "metadata": {
            "tags": []
          }
        }
      ]
    },
    {
      "cell_type": "code",
      "metadata": {
        "colab": {
          "base_uri": "https://localhost:8080/",
          "height": 119
        },
        "id": "vPTQpCKJrDfH",
        "outputId": "d65bd9cd-e85c-439a-b15c-7adc13aded79"
      },
      "source": [
        "# Diebold-Mariano Test (accuracy test) - test 1\n",
        "f.a <- sigma.msgjrgarch[,'sigma.msgjrgarch.pred.a']\n",
        "f.b <- sigma.msgjrgarch[,'sigma.msgjrgarch.pred.b']\n",
        "y <- sigma.msgjrgarch[,'sigma.msgjrgarch.true']\n",
        "\n",
        "DM.test(f.a, f.b, y, loss.type = \"SE\", c = FALSE, H1 = \"same\")"
      ],
      "id": "vPTQpCKJrDfH",
      "execution_count": 275,
      "outputs": [
        {
          "output_type": "display_data",
          "data": {
            "text/plain": [
              "\n",
              "\tDiebold-Mariano test\n",
              "\n",
              "data:  f.a and f.b and y\n",
              "statistic = -30.184, forecast horizon = 1, p-value < 2.2e-16\n",
              "alternative hypothesis: Forecast f1 and f2 have different accuracy.\n"
            ]
          },
          "metadata": {
            "tags": []
          }
        }
      ]
    },
    {
      "cell_type": "code",
      "metadata": {
        "colab": {
          "base_uri": "https://localhost:8080/",
          "height": 136
        },
        "id": "4gP3k2MNrFGk",
        "outputId": "c784807c-a14a-4975-ba0e-c30af0e60fba"
      },
      "source": [
        "# Diebold-Mariano test for predictive accuracy - test 2\n",
        "e.a <- msgjrgarch.error.a\n",
        "e.b <- msgjrgarch.error.b\n",
        "\n",
        "dm.test(e.a, e.b, alternative = \"two.sided\", h = 1, power = 2)"
      ],
      "id": "4gP3k2MNrFGk",
      "execution_count": 276,
      "outputs": [
        {
          "output_type": "display_data",
          "data": {
            "text/plain": [
              "\n",
              "\tDiebold-Mariano Test\n",
              "\n",
              "data:  e.ae.b\n",
              "DM = -30.175, Forecast horizon = 1, Loss function power = 2, p-value <\n",
              "2.2e-16\n",
              "alternative hypothesis: two.sided\n"
            ]
          },
          "metadata": {
            "tags": []
          }
        }
      ]
    },
    {
      "cell_type": "code",
      "metadata": {
        "colab": {
          "base_uri": "https://localhost:8080/",
          "height": 34
        },
        "id": "LcULPKoNrGxD",
        "outputId": "624d23e6-bc95-4a2f-d3c0-bbad075fbf4c"
      },
      "source": [
        "# Quasi-likelihood Loss Function For Volatility Forecasts - forecast a\n",
        "msgjrgarch.qlike.a <- mean(LossVol(sigma.msgjrgarch[,'sigma.msgjrgarch.true'],\n",
        "                                    sigma.msgjrgarch[,'sigma.msgjrgarch.pred.a'],\n",
        "                                    which = \"QLIKE\"))\n",
        "round(msgjrgarch.qlike.a, digits = 3)"
      ],
      "id": "LcULPKoNrGxD",
      "execution_count": 277,
      "outputs": [
        {
          "output_type": "display_data",
          "data": {
            "text/plain": [
              "[1] 1.781"
            ],
            "text/latex": "1.781",
            "text/markdown": "1.781",
            "text/html": [
              "1.781"
            ]
          },
          "metadata": {
            "tags": []
          }
        }
      ]
    },
    {
      "cell_type": "code",
      "metadata": {
        "colab": {
          "base_uri": "https://localhost:8080/",
          "height": 34
        },
        "id": "CWGlz0amrIPg",
        "outputId": "b32c5cb7-cb1e-4816-c9b8-c4277b530c71"
      },
      "source": [
        "# Quasi-likelihood Loss Function For Volatility Forecasts - forecast 1b\n",
        "msgjrgarch.qlike.b <- mean(LossVol(sigma.msgjrgarch[,'sigma.msgjrgarch.true'],\n",
        "                                  sigma.msgjrgarch[,'sigma.msgjrgarch.pred.b'],\n",
        "                                  which = \"QLIKE\"))\n",
        "round(msgjrgarch.qlike.b, digits = 3)"
      ],
      "id": "CWGlz0amrIPg",
      "execution_count": 278,
      "outputs": [
        {
          "output_type": "display_data",
          "data": {
            "text/plain": [
              "[1] 1.826"
            ],
            "text/latex": "1.826",
            "text/markdown": "1.826",
            "text/html": [
              "1.826"
            ]
          },
          "metadata": {
            "tags": []
          }
        }
      ]
    },
    {
      "cell_type": "code",
      "metadata": {
        "colab": {
          "base_uri": "https://localhost:8080/",
          "height": 34
        },
        "id": "pay6piZ-rJmP",
        "outputId": "f365495a-6b39-48fb-bb5c-2954f3e9aba6"
      },
      "source": [
        "# Log loss / Cross-Entropy Loss -  forecast a\n",
        "msgjrgarch.logloss.a <- LogLoss(sigma.msgjrgarch[,'sigma.msgjrgarch.pred.a'],\n",
        "                                sigma.msgjrgarch[,'sigma.msgjrgarch.true'])\n",
        "round(msgjrgarch.logloss.a, digits = 3)"
      ],
      "id": "pay6piZ-rJmP",
      "execution_count": 279,
      "outputs": [
        {
          "output_type": "display_data",
          "data": {
            "text/plain": [
              "[1] -13.44"
            ],
            "text/latex": "-13.44",
            "text/markdown": "-13.44",
            "text/html": [
              "-13.44"
            ]
          },
          "metadata": {
            "tags": []
          }
        }
      ]
    },
    {
      "cell_type": "code",
      "metadata": {
        "colab": {
          "base_uri": "https://localhost:8080/",
          "height": 34
        },
        "id": "p4KdG8yirK7j",
        "outputId": "63abb443-1bc7-4080-ee4a-d6157387433e"
      },
      "source": [
        "# Log loss / Cross-Entropy Loss -  forecast b\n",
        "msgjrgarch.logloss.b <- LogLoss(sigma.msgjrgarch[,'sigma.msgjrgarch.pred.b'],\n",
        "                                sigma.msgjrgarch[,'sigma.msgjrgarch.true'])\n",
        "round(msgjrgarch.logloss.b, digits = 3)"
      ],
      "id": "p4KdG8yirK7j",
      "execution_count": 280,
      "outputs": [
        {
          "output_type": "display_data",
          "data": {
            "text/plain": [
              "[1] -13.44"
            ],
            "text/latex": "-13.44",
            "text/markdown": "-13.44",
            "text/html": [
              "-13.44"
            ]
          },
          "metadata": {
            "tags": []
          }
        }
      ]
    },
    {
      "cell_type": "code",
      "metadata": {
        "colab": {
          "base_uri": "https://localhost:8080/",
          "height": 170
        },
        "id": "b4P8dlDNrMMd",
        "outputId": "410697f7-8877-49d9-c12f-3d7c9f67b703"
      },
      "source": [
        "# Linear regression to assess forecast performance - forecast a\n",
        "msgjrgarch.model.a <- lm(sigma.msgjrgarch.true ~ sigma.msgjrgarch.pred.a,\n",
        "                      data = sigma.msgjrgarch)\n",
        "round(coeftest(msgjrgarch.model.a, NeweyWest(msgjrgarch.model.a,\n",
        "                                            lag = bwNeweyWest(msgjrgarch.model.a),\n",
        "                                            prewhite = F)), 3)\n",
        "round(summary(msgjrgarch.model.a)$adj.r.squared, 3)"
      ],
      "id": "b4P8dlDNrMMd",
      "execution_count": 281,
      "outputs": [
        {
          "output_type": "display_data",
          "data": {
            "text/plain": [
              "\n",
              "t test of coefficients:\n",
              "\n",
              "                        Estimate Std. Error t value  Pr(>|t|)    \n",
              "(Intercept)                3.309      0.486   6.811 < 2.2e-16 ***\n",
              "sigma.msgjrgarch.pred.a   -1.142      0.288  -3.967 < 2.2e-16 ***\n",
              "---\n",
              "Signif. codes:  0 ‘***’ 0.001 ‘**’ 0.01 ‘*’ 0.05 ‘.’ 0.1 ‘ ’ 1\n"
            ]
          },
          "metadata": {
            "tags": []
          }
        },
        {
          "output_type": "display_data",
          "data": {
            "text/plain": [
              "[1] 0.029"
            ],
            "text/latex": "0.029",
            "text/markdown": "0.029",
            "text/html": [
              "0.029"
            ]
          },
          "metadata": {
            "tags": []
          }
        }
      ]
    },
    {
      "cell_type": "code",
      "metadata": {
        "colab": {
          "base_uri": "https://localhost:8080/",
          "height": 170
        },
        "id": "dn4BRM4-rN7I",
        "outputId": "0bc08435-43dd-48bf-fa6b-a91d501deca8"
      },
      "source": [
        "# Linear regression to assess forecast performance - forecast b\n",
        "msgjrgarch.model.b <- lm(sigma.msgjrgarch.true ~ sigma.msgjrgarch.pred.b,\n",
        "                      data = sigma.msgjrgarch)\n",
        "round(coeftest(msgjrgarch.model.b, NeweyWest(msgjrgarch.model.b,\n",
        "                                            lag = bwNeweyWest(msgjrgarch.model.b),\n",
        "                                            prewhite = F)), 3)\n",
        "round(summary(msgjrgarch.model.b)$adj.r.squared, 3)"
      ],
      "id": "dn4BRM4-rN7I",
      "execution_count": 282,
      "outputs": [
        {
          "output_type": "display_data",
          "data": {
            "text/plain": [
              "\n",
              "t test of coefficients:\n",
              "\n",
              "                        Estimate Std. Error t value Pr(>|t|)    \n",
              "(Intercept)                2.111      0.295   7.159   <2e-16 ***\n",
              "sigma.msgjrgarch.pred.b   -0.400      0.162  -2.476    0.013 *  \n",
              "---\n",
              "Signif. codes:  0 ‘***’ 0.001 ‘**’ 0.01 ‘*’ 0.05 ‘.’ 0.1 ‘ ’ 1\n"
            ]
          },
          "metadata": {
            "tags": []
          }
        },
        {
          "output_type": "display_data",
          "data": {
            "text/plain": [
              "[1] 0.009"
            ],
            "text/latex": "0.009",
            "text/markdown": "0.009",
            "text/html": [
              "0.009"
            ]
          },
          "metadata": {
            "tags": []
          }
        }
      ]
    },
    {
      "cell_type": "markdown",
      "metadata": {
        "id": "fZYN_pFPylpJ"
      },
      "source": [
        "#13. Monthly volatility"
      ],
      "id": "fZYN_pFPylpJ"
    },
    {
      "cell_type": "markdown",
      "metadata": {
        "id": "_GCDjgnx_W_A"
      },
      "source": [
        "##(a) Transformation of a daily frequency to monthly frequency"
      ],
      "id": "_GCDjgnx_W_A"
    },
    {
      "cell_type": "code",
      "metadata": {
        "colab": {
          "base_uri": "https://localhost:8080/",
          "height": 374
        },
        "id": "JLXA-z-l_f3q",
        "outputId": "e4bbe330-4630-473b-b46e-0aadbec699a7"
      },
      "source": [
        "HSCE.df.month <- apply.monthly(HSCE.df, FUN = mean)\n",
        "head(HSCE.df.month)"
      ],
      "id": "JLXA-z-l_f3q",
      "execution_count": 283,
      "outputs": [
        {
          "output_type": "display_data",
          "data": {
            "text/plain": [
              "           HSCE.Close HSCE.Return HSCE.VolGARCH HSCE.VolEGARCH HSCE.VolGJRGARCH\n",
              "2000-01-31   1906.854  -0.4713909      5.977283       6.019298         6.089066\n",
              "2000-02-29   1603.911  -1.1804437      6.829347       7.243285         7.136770\n",
              "2000-03-31   1491.671   0.1768005      7.087563       7.570817         7.149999\n",
              "2000-04-28   1541.570   0.2236872      9.308683       8.394195         9.066630\n",
              "2000-05-31   1695.081   0.3540625     11.595751       9.378496        10.652276\n",
              "2000-06-30   1914.989   0.5538173      7.714290       7.110186         7.002455\n",
              "           HSCE.VolRealGARCH HSCE.VolRealEGARCH HSCE.VolRealGJRGARCH\n",
              "2000-01-31          6.022694           6.081372             6.135009\n",
              "2000-02-29          6.626463           7.003736             6.921945\n",
              "2000-03-31          7.369818           7.899262             7.467255\n",
              "2000-04-28          9.002704           8.271496             8.794108\n",
              "2000-05-31         11.855808           9.522629            10.906437\n",
              "2000-06-30          8.072141           7.444719             7.339783\n",
              "           HSCE.VolMSGARCH HSCE.VolMSEGARCH HSCE.VolMSGJRGARCH\n",
              "2000-01-31        3.112602         3.173608           3.042661\n",
              "2000-02-29        3.094841         3.180817           3.157482\n",
              "2000-03-31        2.522912         2.616683           2.566306\n",
              "2000-04-28        2.799528         2.876742           2.764929\n",
              "2000-05-31        3.004958         2.970752           2.841650\n",
              "2000-06-30        2.494554         2.429327           2.389227"
            ]
          },
          "metadata": {
            "tags": []
          }
        }
      ]
    },
    {
      "cell_type": "markdown",
      "metadata": {
        "id": "KX6T_XNH_n93"
      },
      "source": [
        "##(b) Lag Length Selection"
      ],
      "id": "KX6T_XNH_n93"
    },
    {
      "cell_type": "code",
      "metadata": {
        "colab": {
          "base_uri": "https://localhost:8080/"
        },
        "id": "nEgGG_NO_rJk",
        "outputId": "40a86b74-6ea2-404f-d846-c40a53b3afa0"
      },
      "source": [
        "# Package\n",
        "install.packages('tsDyn')\n",
        "\n",
        "library(tsDyn)"
      ],
      "id": "nEgGG_NO_rJk",
      "execution_count": 284,
      "outputs": [
        {
          "output_type": "stream",
          "text": [
            "Installing package into ‘/usr/local/lib/R/site-library’\n",
            "(as ‘lib’ is unspecified)\n",
            "\n",
            "\n",
            "Attaching package: ‘tsDyn’\n",
            "\n",
            "\n",
            "The following object is masked from ‘package:MLmetrics’:\n",
            "\n",
            "    MAPE\n",
            "\n",
            "\n",
            "The following object is masked from ‘package:Metrics’:\n",
            "\n",
            "    mse\n",
            "\n",
            "\n"
          ],
          "name": "stderr"
        }
      ]
    },
    {
      "cell_type": "code",
      "metadata": {
        "colab": {
          "base_uri": "https://localhost:8080/",
          "height": 68
        },
        "id": "nSnrXFwT_zzY",
        "outputId": "068c1f80-9a29-47dd-d4ab-c14a49fc606f"
      },
      "source": [
        "lags.select(HSCE.df.month$HSCE.VolGARCH, lag.max = 10)"
      ],
      "id": "nSnrXFwT_zzY",
      "execution_count": 285,
      "outputs": [
        {
          "output_type": "display_data",
          "data": {
            "text/plain": [
              "Best AIC:  lag= 8 \n",
              "Best BIC:  lag= 3 \n",
              "Best HQ :  lag= 3 "
            ]
          },
          "metadata": {
            "tags": []
          }
        }
      ]
    },
    {
      "cell_type": "code",
      "metadata": {
        "colab": {
          "base_uri": "https://localhost:8080/",
          "height": 68
        },
        "id": "uK1NeJFsBna8",
        "outputId": "28688b52-3856-46fe-a8a2-578f47f6d041"
      },
      "source": [
        "lags.select(HSCE.df.month$HSCE.VolEGARCH, lag.max = 10)"
      ],
      "id": "uK1NeJFsBna8",
      "execution_count": 286,
      "outputs": [
        {
          "output_type": "display_data",
          "data": {
            "text/plain": [
              "Best AIC:  lag= 5 \n",
              "Best BIC:  lag= 3 \n",
              "Best HQ :  lag= 5 "
            ]
          },
          "metadata": {
            "tags": []
          }
        }
      ]
    },
    {
      "cell_type": "code",
      "metadata": {
        "colab": {
          "base_uri": "https://localhost:8080/",
          "height": 68
        },
        "id": "sPkpUtZhBqHJ",
        "outputId": "ef29f164-a854-41b8-cb43-025fee2c5480"
      },
      "source": [
        "lags.select(HSCE.df.month$HSCE.VolGJRGARCH, lag.max = 10)"
      ],
      "id": "sPkpUtZhBqHJ",
      "execution_count": 287,
      "outputs": [
        {
          "output_type": "display_data",
          "data": {
            "text/plain": [
              "Best AIC:  lag= 8 \n",
              "Best BIC:  lag= 3 \n",
              "Best HQ :  lag= 5 "
            ]
          },
          "metadata": {
            "tags": []
          }
        }
      ]
    },
    {
      "cell_type": "code",
      "metadata": {
        "colab": {
          "base_uri": "https://localhost:8080/",
          "height": 68
        },
        "id": "K9_kCmfQBsDt",
        "outputId": "d611d6b9-f8fc-4b8a-b99e-e0ba8842e6a8"
      },
      "source": [
        "lags.select(HSCE.df.month$HSCE.VolRealGARCH, lag.max = 10)"
      ],
      "id": "K9_kCmfQBsDt",
      "execution_count": 288,
      "outputs": [
        {
          "output_type": "display_data",
          "data": {
            "text/plain": [
              "Best AIC:  lag= 3 \n",
              "Best BIC:  lag= 3 \n",
              "Best HQ :  lag= 3 "
            ]
          },
          "metadata": {
            "tags": []
          }
        }
      ]
    },
    {
      "cell_type": "code",
      "metadata": {
        "colab": {
          "base_uri": "https://localhost:8080/",
          "height": 68
        },
        "id": "c74fPYQEB3Pc",
        "outputId": "508a97d0-299a-4e05-a5f3-8bf64535783a"
      },
      "source": [
        "lags.select(HSCE.df.month$HSCE.VolRealEGARCH, lag.max = 10)"
      ],
      "id": "c74fPYQEB3Pc",
      "execution_count": 289,
      "outputs": [
        {
          "output_type": "display_data",
          "data": {
            "text/plain": [
              "Best AIC:  lag= 5 \n",
              "Best BIC:  lag= 3 \n",
              "Best HQ :  lag= 3 "
            ]
          },
          "metadata": {
            "tags": []
          }
        }
      ]
    },
    {
      "cell_type": "code",
      "metadata": {
        "colab": {
          "base_uri": "https://localhost:8080/",
          "height": 68
        },
        "id": "eShiYpuXB6vM",
        "outputId": "d7e140c8-22aa-424e-c69c-63484963d424"
      },
      "source": [
        "lags.select(HSCE.df.month$HSCE.VolRealGJRGARCH, lag.max = 10)"
      ],
      "id": "eShiYpuXB6vM",
      "execution_count": 290,
      "outputs": [
        {
          "output_type": "display_data",
          "data": {
            "text/plain": [
              "Best AIC:  lag= 8 \n",
              "Best BIC:  lag= 3 \n",
              "Best HQ :  lag= 3 "
            ]
          },
          "metadata": {
            "tags": []
          }
        }
      ]
    },
    {
      "cell_type": "code",
      "metadata": {
        "colab": {
          "base_uri": "https://localhost:8080/",
          "height": 68
        },
        "id": "vZpT89GVB-Kq",
        "outputId": "cb3509eb-3541-4c76-9069-bfcc63b53359"
      },
      "source": [
        "lags.select(HSCE.df.month$HSCE.VolMSGARCH, lag.max = 10)"
      ],
      "id": "vZpT89GVB-Kq",
      "execution_count": 291,
      "outputs": [
        {
          "output_type": "display_data",
          "data": {
            "text/plain": [
              "Best AIC:  lag= 3 \n",
              "Best BIC:  lag= 1 \n",
              "Best HQ :  lag= 1 "
            ]
          },
          "metadata": {
            "tags": []
          }
        }
      ]
    },
    {
      "cell_type": "code",
      "metadata": {
        "colab": {
          "base_uri": "https://localhost:8080/",
          "height": 68
        },
        "id": "bTXkiJYoCCF8",
        "outputId": "0cd5a90a-0bb0-4517-f181-6badd3d8c199"
      },
      "source": [
        "lags.select(HSCE.df.month$HSCE.VolMSEGARCH , lag.max = 10)"
      ],
      "id": "bTXkiJYoCCF8",
      "execution_count": 292,
      "outputs": [
        {
          "output_type": "display_data",
          "data": {
            "text/plain": [
              "Best AIC:  lag= 3 \n",
              "Best BIC:  lag= 1 \n",
              "Best HQ :  lag= 1 "
            ]
          },
          "metadata": {
            "tags": []
          }
        }
      ]
    },
    {
      "cell_type": "code",
      "metadata": {
        "colab": {
          "base_uri": "https://localhost:8080/",
          "height": 68
        },
        "id": "gmp7CKgmCIaH",
        "outputId": "73041e37-41e5-4c9d-be3d-baffcd4954ae"
      },
      "source": [
        "lags.select(HSCE.df.month$HSCE.VolMSGJRGARCH , lag.max = 10)"
      ],
      "id": "gmp7CKgmCIaH",
      "execution_count": 293,
      "outputs": [
        {
          "output_type": "display_data",
          "data": {
            "text/plain": [
              "Best AIC:  lag= 3 \n",
              "Best BIC:  lag= 1 \n",
              "Best HQ :  lag= 1 "
            ]
          },
          "metadata": {
            "tags": []
          }
        }
      ]
    },
    {
      "cell_type": "markdown",
      "metadata": {
        "id": "9HdfotCPALkn"
      },
      "source": [
        "##(c) Import dataset"
      ],
      "id": "9HdfotCPALkn"
    },
    {
      "cell_type": "markdown",
      "metadata": {
        "id": "KhOH_NiBAe_8"
      },
      "source": [
        "**EPU**"
      ],
      "id": "KhOH_NiBAe_8"
    },
    {
      "cell_type": "code",
      "metadata": {
        "id": "14oHDlSZAg9S"
      },
      "source": [
        "# Package\n",
        "library(readxl)"
      ],
      "id": "14oHDlSZAg9S",
      "execution_count": 294,
      "outputs": []
    },
    {
      "cell_type": "code",
      "metadata": {
        "colab": {
          "base_uri": "https://localhost:8080/",
          "height": 405
        },
        "id": "ijgoJa2cAlpy",
        "outputId": "d085bd90-87da-4e4a-a1b6-418c31946bd6"
      },
      "source": [
        "EPU <- read_excel(\"EPU_All_Country_Data.xlsx\",\n",
        "                  sheet = \"Import\",\n",
        "                  col_types = c(\"date\", \"numeric\", \"numeric\", \"numeric\", \"numeric\",\n",
        "                                \"numeric\", \"numeric\", \"numeric\", \"numeric\", \"numeric\",\n",
        "                                \"numeric\", \"numeric\", \"numeric\", \"numeric\"))\n",
        "head(EPU)"
      ],
      "id": "ijgoJa2cAlpy",
      "execution_count": 295,
      "outputs": [
        {
          "output_type": "display_data",
          "data": {
            "text/plain": [
              "  MM.YYYY    GEPU_current Brazil    Russia    India     Chile     Mexico   \n",
              "1 2000-01-01 63.43916      54.60320 117.12624  55.47412 104.18382 161.02013\n",
              "2 2000-02-01 58.77943      41.26398  27.02751  58.04263  76.43725 157.84093\n",
              "3 2000-03-01 61.33933      73.60725  27.27277  63.43669  78.59699  90.80582\n",
              "4 2000-04-01 64.76240      96.34906  25.90913  78.92112  63.72873  93.59448\n",
              "5 2000-05-01 86.84892     189.96852  42.97606  59.61799 120.89192 136.35007\n",
              "6 2000-06-01 88.23903     106.87265 115.94142 110.34407 156.83112 216.03893\n",
              "  China     Canada   France   Germany   Japan     UK       US       \n",
              "1 44.004440 46.92811 18.45134  73.23399  78.12204 30.08247  88.98869\n",
              "2  9.066709 45.72284 33.22514  97.35842  78.62767 36.62590  73.36520\n",
              "3 44.399136 39.32267 42.40266  96.09151  79.74557 45.16381  73.29862\n",
              "4 35.441414 53.17447 16.59283  69.44795 103.12970 42.74244  70.59975\n",
              "5 71.135803 54.20769 55.37305 135.28714  86.34306 53.87834 118.14321\n",
              "6 36.856976 45.04951 35.07029  58.29012 150.85790 51.15050 109.58423"
            ],
            "text/latex": "A tibble: 6 × 14\n\\begin{tabular}{llllllllllllll}\n MM.YYYY & GEPU\\_current & Brazil & Russia & India & Chile & Mexico & China & Canada & France & Germany & Japan & UK & US\\\\\n <dttm> & <dbl> & <dbl> & <dbl> & <dbl> & <dbl> & <dbl> & <dbl> & <dbl> & <dbl> & <dbl> & <dbl> & <dbl> & <dbl>\\\\\n\\hline\n\t 2000-01-01 & 63.43916 &  54.60320 & 117.12624 &  55.47412 & 104.18382 & 161.02013 & 44.004440 & 46.92811 & 18.45134 &  73.23399 &  78.12204 & 30.08247 &  88.98869\\\\\n\t 2000-02-01 & 58.77943 &  41.26398 &  27.02751 &  58.04263 &  76.43725 & 157.84093 &  9.066709 & 45.72284 & 33.22514 &  97.35842 &  78.62767 & 36.62590 &  73.36520\\\\\n\t 2000-03-01 & 61.33933 &  73.60725 &  27.27277 &  63.43669 &  78.59699 &  90.80582 & 44.399136 & 39.32267 & 42.40266 &  96.09151 &  79.74557 & 45.16381 &  73.29862\\\\\n\t 2000-04-01 & 64.76240 &  96.34906 &  25.90913 &  78.92112 &  63.72873 &  93.59448 & 35.441414 & 53.17447 & 16.59283 &  69.44795 & 103.12970 & 42.74244 &  70.59975\\\\\n\t 2000-05-01 & 86.84892 & 189.96852 &  42.97606 &  59.61799 & 120.89192 & 136.35007 & 71.135803 & 54.20769 & 55.37305 & 135.28714 &  86.34306 & 53.87834 & 118.14321\\\\\n\t 2000-06-01 & 88.23903 & 106.87265 & 115.94142 & 110.34407 & 156.83112 & 216.03893 & 36.856976 & 45.04951 & 35.07029 &  58.29012 & 150.85790 & 51.15050 & 109.58423\\\\\n\\end{tabular}\n",
            "text/markdown": "\nA tibble: 6 × 14\n\n| MM.YYYY &lt;dttm&gt; | GEPU_current &lt;dbl&gt; | Brazil &lt;dbl&gt; | Russia &lt;dbl&gt; | India &lt;dbl&gt; | Chile &lt;dbl&gt; | Mexico &lt;dbl&gt; | China &lt;dbl&gt; | Canada &lt;dbl&gt; | France &lt;dbl&gt; | Germany &lt;dbl&gt; | Japan &lt;dbl&gt; | UK &lt;dbl&gt; | US &lt;dbl&gt; |\n|---|---|---|---|---|---|---|---|---|---|---|---|---|---|\n| 2000-01-01 | 63.43916 |  54.60320 | 117.12624 |  55.47412 | 104.18382 | 161.02013 | 44.004440 | 46.92811 | 18.45134 |  73.23399 |  78.12204 | 30.08247 |  88.98869 |\n| 2000-02-01 | 58.77943 |  41.26398 |  27.02751 |  58.04263 |  76.43725 | 157.84093 |  9.066709 | 45.72284 | 33.22514 |  97.35842 |  78.62767 | 36.62590 |  73.36520 |\n| 2000-03-01 | 61.33933 |  73.60725 |  27.27277 |  63.43669 |  78.59699 |  90.80582 | 44.399136 | 39.32267 | 42.40266 |  96.09151 |  79.74557 | 45.16381 |  73.29862 |\n| 2000-04-01 | 64.76240 |  96.34906 |  25.90913 |  78.92112 |  63.72873 |  93.59448 | 35.441414 | 53.17447 | 16.59283 |  69.44795 | 103.12970 | 42.74244 |  70.59975 |\n| 2000-05-01 | 86.84892 | 189.96852 |  42.97606 |  59.61799 | 120.89192 | 136.35007 | 71.135803 | 54.20769 | 55.37305 | 135.28714 |  86.34306 | 53.87834 | 118.14321 |\n| 2000-06-01 | 88.23903 | 106.87265 | 115.94142 | 110.34407 | 156.83112 | 216.03893 | 36.856976 | 45.04951 | 35.07029 |  58.29012 | 150.85790 | 51.15050 | 109.58423 |\n\n",
            "text/html": [
              "<table class=\"dataframe\">\n",
              "<caption>A tibble: 6 × 14</caption>\n",
              "<thead>\n",
              "\t<tr><th scope=col>MM.YYYY</th><th scope=col>GEPU_current</th><th scope=col>Brazil</th><th scope=col>Russia</th><th scope=col>India</th><th scope=col>Chile</th><th scope=col>Mexico</th><th scope=col>China</th><th scope=col>Canada</th><th scope=col>France</th><th scope=col>Germany</th><th scope=col>Japan</th><th scope=col>UK</th><th scope=col>US</th></tr>\n",
              "\t<tr><th scope=col>&lt;dttm&gt;</th><th scope=col>&lt;dbl&gt;</th><th scope=col>&lt;dbl&gt;</th><th scope=col>&lt;dbl&gt;</th><th scope=col>&lt;dbl&gt;</th><th scope=col>&lt;dbl&gt;</th><th scope=col>&lt;dbl&gt;</th><th scope=col>&lt;dbl&gt;</th><th scope=col>&lt;dbl&gt;</th><th scope=col>&lt;dbl&gt;</th><th scope=col>&lt;dbl&gt;</th><th scope=col>&lt;dbl&gt;</th><th scope=col>&lt;dbl&gt;</th><th scope=col>&lt;dbl&gt;</th></tr>\n",
              "</thead>\n",
              "<tbody>\n",
              "\t<tr><td>2000-01-01</td><td>63.43916</td><td> 54.60320</td><td>117.12624</td><td> 55.47412</td><td>104.18382</td><td>161.02013</td><td>44.004440</td><td>46.92811</td><td>18.45134</td><td> 73.23399</td><td> 78.12204</td><td>30.08247</td><td> 88.98869</td></tr>\n",
              "\t<tr><td>2000-02-01</td><td>58.77943</td><td> 41.26398</td><td> 27.02751</td><td> 58.04263</td><td> 76.43725</td><td>157.84093</td><td> 9.066709</td><td>45.72284</td><td>33.22514</td><td> 97.35842</td><td> 78.62767</td><td>36.62590</td><td> 73.36520</td></tr>\n",
              "\t<tr><td>2000-03-01</td><td>61.33933</td><td> 73.60725</td><td> 27.27277</td><td> 63.43669</td><td> 78.59699</td><td> 90.80582</td><td>44.399136</td><td>39.32267</td><td>42.40266</td><td> 96.09151</td><td> 79.74557</td><td>45.16381</td><td> 73.29862</td></tr>\n",
              "\t<tr><td>2000-04-01</td><td>64.76240</td><td> 96.34906</td><td> 25.90913</td><td> 78.92112</td><td> 63.72873</td><td> 93.59448</td><td>35.441414</td><td>53.17447</td><td>16.59283</td><td> 69.44795</td><td>103.12970</td><td>42.74244</td><td> 70.59975</td></tr>\n",
              "\t<tr><td>2000-05-01</td><td>86.84892</td><td>189.96852</td><td> 42.97606</td><td> 59.61799</td><td>120.89192</td><td>136.35007</td><td>71.135803</td><td>54.20769</td><td>55.37305</td><td>135.28714</td><td> 86.34306</td><td>53.87834</td><td>118.14321</td></tr>\n",
              "\t<tr><td>2000-06-01</td><td>88.23903</td><td>106.87265</td><td>115.94142</td><td>110.34407</td><td>156.83112</td><td>216.03893</td><td>36.856976</td><td>45.04951</td><td>35.07029</td><td> 58.29012</td><td>150.85790</td><td>51.15050</td><td>109.58423</td></tr>\n",
              "</tbody>\n",
              "</table>\n"
            ]
          },
          "metadata": {
            "tags": []
          }
        }
      ]
    },
    {
      "cell_type": "code",
      "metadata": {
        "id": "MrqrZ8MZA4-_"
      },
      "source": [
        "attach(EPU)"
      ],
      "id": "MrqrZ8MZA4-_",
      "execution_count": 296,
      "outputs": []
    },
    {
      "cell_type": "markdown",
      "metadata": {
        "id": "Vq9oiwlrA58O"
      },
      "source": [
        "**VIX**"
      ],
      "id": "Vq9oiwlrA58O"
    },
    {
      "cell_type": "code",
      "metadata": {
        "colab": {
          "base_uri": "https://localhost:8080/",
          "height": 34
        },
        "id": "V5iY9Kr3BAkR",
        "outputId": "43ebeef0-34ec-4984-e0da-42a80e9d018e"
      },
      "source": [
        "getSymbols(\"^VIX\", from = '2000-01-01', to = '2021-05-31', periodicity = \"monthly\")"
      ],
      "id": "V5iY9Kr3BAkR",
      "execution_count": 297,
      "outputs": [
        {
          "output_type": "display_data",
          "data": {
            "text/plain": [
              "[1] \"^VIX\""
            ],
            "text/latex": "'\\textasciicircum{}VIX'",
            "text/markdown": "'^VIX'",
            "text/html": [
              "'^VIX'"
            ]
          },
          "metadata": {
            "tags": []
          }
        }
      ]
    },
    {
      "cell_type": "code",
      "metadata": {
        "colab": {
          "base_uri": "https://localhost:8080/",
          "height": 136
        },
        "id": "_SCvdZFcBOxo",
        "outputId": "bc62ff9d-364a-4c10-dd3f-4a7c27c65b21"
      },
      "source": [
        "head(VIX)"
      ],
      "id": "_SCvdZFcBOxo",
      "execution_count": 298,
      "outputs": [
        {
          "output_type": "display_data",
          "data": {
            "text/plain": [
              "           VIX.Open VIX.High VIX.Low VIX.Close VIX.Volume VIX.Adjusted\n",
              "2000-01-01    24.36    29.00   19.51     24.95          0        24.95\n",
              "2000-02-01    24.43    28.12   20.69     23.37          0        23.37\n",
              "2000-03-01    22.65    25.87   19.19     24.11          0        24.11\n",
              "2000-04-01    24.99    34.31   23.25     26.20          0        26.20\n",
              "2000-05-01    26.07    32.89   23.23     23.65          0        23.65\n",
              "2000-06-01    23.20    25.01   19.39     19.54          0        19.54"
            ]
          },
          "metadata": {
            "tags": []
          }
        }
      ]
    },
    {
      "cell_type": "code",
      "metadata": {
        "id": "uuIrny6OBRnH"
      },
      "source": [
        "VIX <- na.omit(VIX)"
      ],
      "id": "uuIrny6OBRnH",
      "execution_count": 299,
      "outputs": []
    },
    {
      "cell_type": "markdown",
      "metadata": {
        "id": "LGG7p_RIG7PV"
      },
      "source": [
        "##(d) Estimation"
      ],
      "id": "LGG7p_RIG7PV"
    },
    {
      "cell_type": "markdown",
      "metadata": {
        "id": "gvQCcsPIBUVX"
      },
      "source": [
        "**Benchmark model**"
      ],
      "id": "gvQCcsPIBUVX"
    },
    {
      "cell_type": "code",
      "metadata": {
        "colab": {
          "base_uri": "https://localhost:8080/",
          "height": 136
        },
        "id": "lnEjm9lKBYi3",
        "outputId": "4824d9b0-bd82-4961-8c11-114aa5feee51"
      },
      "source": [
        "# Concatenate (number of rows of data frames aren't different)\n",
        "uncertainty <- cbind(VIX[,'VIX.Close'], EPU$China, EPU$GEPU_current)\n",
        "head(uncertainty)"
      ],
      "id": "lnEjm9lKBYi3",
      "execution_count": 300,
      "outputs": [
        {
          "output_type": "display_data",
          "data": {
            "text/plain": [
              "           VIX.Close EPU.China EPU.GEPU_current\n",
              "2000-01-01     24.95 44.004440         63.43916\n",
              "2000-02-01     23.37  9.066709         58.77943\n",
              "2000-03-01     24.11 44.399136         61.33933\n",
              "2000-04-01     26.20 35.441414         64.76240\n",
              "2000-05-01     23.65 71.135803         86.84892\n",
              "2000-06-01     19.54 36.856976         88.23903"
            ]
          },
          "metadata": {
            "tags": []
          }
        }
      ]
    },
    {
      "cell_type": "code",
      "metadata": {
        "id": "IHhaF8KxC7VF"
      },
      "source": [
        "# Lag of uncertainty variables (lag = 1)\n",
        "lag.epu <- ts(Lag(uncertainty$EPU.China, 1))\n",
        "lag.gepu <- ts(Lag(uncertainty$EPU.GEPU_current, 1))\n",
        "lag.vix <- ts(Lag(uncertainty$VIX.Close, 1))"
      ],
      "id": "IHhaF8KxC7VF",
      "execution_count": 301,
      "outputs": []
    },
    {
      "cell_type": "markdown",
      "metadata": {
        "id": "zHQo6FW0FO18"
      },
      "source": [
        "**Linear GARCH**"
      ],
      "id": "zHQo6FW0FO18"
    },
    {
      "cell_type": "code",
      "metadata": {
        "colab": {
          "base_uri": "https://localhost:8080/",
          "height": 204
        },
        "id": "u3qNPRhUClNO",
        "outputId": "ecb01e60-e38c-45b3-f130-7adb124ee238"
      },
      "source": [
        "# Estimation 1 - GARCH (Best BIC:  lag= 3)\n",
        "garch <- ts(log(HSCE.df.month$HSCE.VolGARCH))\n",
        "lag.garch.1 <- ts(Lag(log(HSCE.df.month$HSCE.VolGARCH), 1))\n",
        "lag.garch.2 <- ts(Lag(log(HSCE.df.month$HSCE.VolGARCH), 2))\n",
        "lag.garch.3 <- ts(Lag(log(HSCE.df.month$HSCE.VolGARCH), 3))\n",
        "\n",
        "ols.garch <- cbind(garch, lag.garch.1, lag.garch.2, lag.garch.3, \n",
        "                  lag.epu, lag.gepu, lag.vix)\n",
        "\n",
        "model.garch.1 <- lm(garch ~  lag.garch.1 + lag.garch.2 + lag.garch.3, \n",
        "                    data = ols.garch)\n",
        "\n",
        "round(coeftest(model.garch.1, NeweyWest(model.garch.1, \n",
        "                                        lag = bwNeweyWest(model.garch.1), \n",
        "                                        prewhite = F)), 3)\n",
        "\n",
        "round(summary(model.garch.1)$adj.r.squared, 3)"
      ],
      "id": "u3qNPRhUClNO",
      "execution_count": 302,
      "outputs": [
        {
          "output_type": "display_data",
          "data": {
            "text/plain": [
              "\n",
              "t test of coefficients:\n",
              "\n",
              "            Estimate Std. Error t value Pr(>|t|)    \n",
              "(Intercept)    0.107      0.030   3.592   <2e-16 ***\n",
              "lag.garch.1    1.022      0.083  12.242   <2e-16 ***\n",
              "lag.garch.2   -0.252      0.117  -2.156    0.032 *  \n",
              "lag.garch.3    0.111      0.069   1.608    0.109    \n",
              "---\n",
              "Signif. codes:  0 ‘***’ 0.001 ‘**’ 0.01 ‘*’ 0.05 ‘.’ 0.1 ‘ ’ 1\n"
            ]
          },
          "metadata": {
            "tags": []
          }
        },
        {
          "output_type": "display_data",
          "data": {
            "text/plain": [
              "[1] 0.788"
            ],
            "text/latex": "0.788",
            "text/markdown": "0.788",
            "text/html": [
              "0.788"
            ]
          },
          "metadata": {
            "tags": []
          }
        }
      ]
    },
    {
      "cell_type": "code",
      "metadata": {
        "colab": {
          "base_uri": "https://localhost:8080/",
          "height": 221
        },
        "id": "uppwdMKEE44m",
        "outputId": "96aeb183-f348-434c-8e4a-86d2ceb2b5bf"
      },
      "source": [
        "# Estimation 2 - GARCH (Best BIC:  lag= 3)\n",
        "model.garch.2 <- lm(garch ~  lag.garch.1 + lag.garch.2 + lag.garch.3 + lag.epu, \n",
        "                    data = ols.garch)\n",
        "\n",
        "round(coeftest(model.garch.2, NeweyWest(model.garch.2, \n",
        "                                        lag = bwNeweyWest(model.garch.2), \n",
        "                                        prewhite = F)), 3)\n",
        "\n",
        "round(summary(model.garch.2)$adj.r.squared, 3)"
      ],
      "id": "uppwdMKEE44m",
      "execution_count": 303,
      "outputs": [
        {
          "output_type": "display_data",
          "data": {
            "text/plain": [
              "\n",
              "t test of coefficients:\n",
              "\n",
              "            Estimate Std. Error t value Pr(>|t|)    \n",
              "(Intercept)    0.172      0.042   4.086   <2e-16 ***\n",
              "lag.garch.1    1.010      0.086  11.804   <2e-16 ***\n",
              "lag.garch.2   -0.246      0.113  -2.175    0.031 *  \n",
              "lag.garch.3    0.098      0.067   1.469    0.143    \n",
              "lag.epu        0.000      0.000  -2.556    0.011 *  \n",
              "---\n",
              "Signif. codes:  0 ‘***’ 0.001 ‘**’ 0.01 ‘*’ 0.05 ‘.’ 0.1 ‘ ’ 1\n"
            ]
          },
          "metadata": {
            "tags": []
          }
        },
        {
          "output_type": "display_data",
          "data": {
            "text/plain": [
              "[1] 0.791"
            ],
            "text/latex": "0.791",
            "text/markdown": "0.791",
            "text/html": [
              "0.791"
            ]
          },
          "metadata": {
            "tags": []
          }
        }
      ]
    },
    {
      "cell_type": "code",
      "metadata": {
        "colab": {
          "base_uri": "https://localhost:8080/",
          "height": 221
        },
        "id": "YX8DzU72O0oB",
        "outputId": "0eaf4482-6711-4c8d-8443-a5718f8781e9"
      },
      "source": [
        "# Estimation 3 - GARCH (Best BIC:  lag= 3)\n",
        "model.garch.3 <- lm(garch ~  lag.garch.1 + lag.garch.2 + lag.garch.3 + lag.vix, \n",
        "                    data = ols.garch)\n",
        "\n",
        "round(coeftest(model.garch.3, NeweyWest(model.garch.3, \n",
        "                                        lag = bwNeweyWest(model.garch.3), \n",
        "                                        prewhite = F)), 3)\n",
        "\n",
        "round(summary(model.garch.3)$adj.r.squared, 3)"
      ],
      "id": "YX8DzU72O0oB",
      "execution_count": 304,
      "outputs": [
        {
          "output_type": "display_data",
          "data": {
            "text/plain": [
              "\n",
              "t test of coefficients:\n",
              "\n",
              "            Estimate Std. Error t value Pr(>|t|)    \n",
              "(Intercept)   -0.003      0.047  -0.065    0.948    \n",
              "lag.garch.1    0.965      0.076  12.679   <2e-16 ***\n",
              "lag.garch.2   -0.246      0.112  -2.185    0.030 *  \n",
              "lag.garch.3    0.106      0.068   1.558    0.120    \n",
              "lag.vix        0.008      0.003   2.687    0.008 ** \n",
              "---\n",
              "Signif. codes:  0 ‘***’ 0.001 ‘**’ 0.01 ‘*’ 0.05 ‘.’ 0.1 ‘ ’ 1\n"
            ]
          },
          "metadata": {
            "tags": []
          }
        },
        {
          "output_type": "display_data",
          "data": {
            "text/plain": [
              "[1] 0.793"
            ],
            "text/latex": "0.793",
            "text/markdown": "0.793",
            "text/html": [
              "0.793"
            ]
          },
          "metadata": {
            "tags": []
          }
        }
      ]
    },
    {
      "cell_type": "code",
      "metadata": {
        "colab": {
          "base_uri": "https://localhost:8080/",
          "height": 238
        },
        "id": "it_P-MqUO4ec",
        "outputId": "c85bb646-3c1e-4b10-99c3-aaf314e596b7"
      },
      "source": [
        "# Estimation 4 - GARCH (Best BIC:  lag= 3)\n",
        "model.garch.4 <- lm(garch ~  lag.garch.1 + lag.garch.2 + lag.garch.3 + lag.epu + lag.vix, \n",
        "                    data = ols.garch)\n",
        "\n",
        "round(coeftest(model.garch.4, NeweyWest(model.garch.4, \n",
        "                                        lag = bwNeweyWest(model.garch.4), \n",
        "                                        prewhite = F)), 3)\n",
        "\n",
        "round(summary(model.garch.4)$adj.r.squared, 3)"
      ],
      "id": "it_P-MqUO4ec",
      "execution_count": 305,
      "outputs": [
        {
          "output_type": "display_data",
          "data": {
            "text/plain": [
              "\n",
              "t test of coefficients:\n",
              "\n",
              "            Estimate Std. Error t value Pr(>|t|)    \n",
              "(Intercept)    0.055      0.056   0.984    0.326    \n",
              "lag.garch.1    0.930      0.078  11.964   <2e-16 ***\n",
              "lag.garch.2   -0.235      0.105  -2.226    0.027 *  \n",
              "lag.garch.3    0.086      0.067   1.295    0.197    \n",
              "lag.epu        0.000      0.000  -3.726   <2e-16 ***\n",
              "lag.vix        0.011      0.003   3.313    0.001 ***\n",
              "---\n",
              "Signif. codes:  0 ‘***’ 0.001 ‘**’ 0.01 ‘*’ 0.05 ‘.’ 0.1 ‘ ’ 1\n"
            ]
          },
          "metadata": {
            "tags": []
          }
        },
        {
          "output_type": "display_data",
          "data": {
            "text/plain": [
              "[1] 0.8"
            ],
            "text/latex": "0.8",
            "text/markdown": "0.8",
            "text/html": [
              "0.8"
            ]
          },
          "metadata": {
            "tags": []
          }
        }
      ]
    },
    {
      "cell_type": "code",
      "metadata": {
        "colab": {
          "base_uri": "https://localhost:8080/",
          "height": 255
        },
        "id": "w-QVaWN0PS9d",
        "outputId": "67954f8e-fe61-4d5a-f5d4-0df7a7c2d9fd"
      },
      "source": [
        "# Estimation 5 - GARCH (Best BIC:  lag= 3)\n",
        "model.garch.5 <- lm(garch ~  lag.garch.1 + lag.garch.2 + lag.garch.3 + lag.epu + lag.gepu + lag.vix, \n",
        "                    data = ols.garch)\n",
        "\n",
        "round(coeftest(model.garch.5, NeweyWest(model.garch.5, \n",
        "                                        lag = bwNeweyWest(model.garch.5), \n",
        "                                        prewhite = F)), 3)\n",
        "\n",
        "round(summary(model.garch.5)$adj.r.squared, 3)"
      ],
      "id": "w-QVaWN0PS9d",
      "execution_count": 306,
      "outputs": [
        {
          "output_type": "display_data",
          "data": {
            "text/plain": [
              "\n",
              "t test of coefficients:\n",
              "\n",
              "            Estimate Std. Error t value Pr(>|t|)    \n",
              "(Intercept)    0.122      0.061   1.993    0.047 *  \n",
              "lag.garch.1    0.921      0.081  11.323   <2e-16 ***\n",
              "lag.garch.2   -0.233      0.111  -2.106    0.036 *  \n",
              "lag.garch.3    0.078      0.069   1.126    0.261    \n",
              "lag.epu        0.000      0.000   0.368    0.714    \n",
              "lag.gepu      -0.001      0.001  -1.674    0.095 .  \n",
              "lag.vix        0.014      0.004   3.249    0.001 ***\n",
              "---\n",
              "Signif. codes:  0 ‘***’ 0.001 ‘**’ 0.01 ‘*’ 0.05 ‘.’ 0.1 ‘ ’ 1\n"
            ]
          },
          "metadata": {
            "tags": []
          }
        },
        {
          "output_type": "display_data",
          "data": {
            "text/plain": [
              "[1] 0.802"
            ],
            "text/latex": "0.802",
            "text/markdown": "0.802",
            "text/html": [
              "0.802"
            ]
          },
          "metadata": {
            "tags": []
          }
        }
      ]
    },
    {
      "cell_type": "markdown",
      "metadata": {
        "id": "KxPH8UsAFTKr"
      },
      "source": [
        "**EGARCH**"
      ],
      "id": "KxPH8UsAFTKr"
    },
    {
      "cell_type": "code",
      "metadata": {
        "colab": {
          "base_uri": "https://localhost:8080/",
          "height": 204
        },
        "id": "jjaoFjcPF-zc",
        "outputId": "cb39842e-afb4-432c-8f1c-a01a05cd322e"
      },
      "source": [
        "# Estimation 1 - EGARCH (Best BIC:  lag= 3)\n",
        "egarch <- ts(log(HSCE.df.month$HSCE.VolEGARCH))\n",
        "lag.egarch.1 <- ts(Lag(log(HSCE.df.month$HSCE.VolEGARCH), 1))\n",
        "lag.egarch.2 <- ts(Lag(log(HSCE.df.month$HSCE.VolEGARCH), 2))\n",
        "lag.egarch.3 <- ts(Lag(log(HSCE.df.month$HSCE.VolEGARCH), 3))\n",
        "\n",
        "ols.egarch <- cbind(egarch, lag.egarch.1, lag.egarch.2, lag.egarch.3,\n",
        "                    lag.epu, lag.gepu, lag.vix)\n",
        "\n",
        "model.egarch.1 <- lm(egarch ~  lag.egarch.1 + lag.egarch.2 + lag.egarch.3, \n",
        "                    data = ols.egarch)\n",
        "\n",
        "round(coeftest(model.egarch.1, NeweyWest(model.egarch.1, \n",
        "                                         lag = bwNeweyWest(model.egarch.1), \n",
        "                                         prewhite = F)), 3)\n",
        "\n",
        "round(summary(model.egarch.1)$adj.r.squared, 3)"
      ],
      "id": "jjaoFjcPF-zc",
      "execution_count": 307,
      "outputs": [
        {
          "output_type": "display_data",
          "data": {
            "text/plain": [
              "\n",
              "t test of coefficients:\n",
              "\n",
              "             Estimate Std. Error t value Pr(>|t|)    \n",
              "(Intercept)     0.113      0.032   3.538   <2e-16 ***\n",
              "lag.egarch.1    0.986      0.076  13.006   <2e-16 ***\n",
              "lag.egarch.2   -0.194      0.111  -1.743    0.083 .  \n",
              "lag.egarch.3    0.083      0.066   1.252    0.212    \n",
              "---\n",
              "Signif. codes:  0 ‘***’ 0.001 ‘**’ 0.01 ‘*’ 0.05 ‘.’ 0.1 ‘ ’ 1\n"
            ]
          },
          "metadata": {
            "tags": []
          }
        },
        {
          "output_type": "display_data",
          "data": {
            "text/plain": [
              "[1] 0.777"
            ],
            "text/latex": "0.777",
            "text/markdown": "0.777",
            "text/html": [
              "0.777"
            ]
          },
          "metadata": {
            "tags": []
          }
        }
      ]
    },
    {
      "cell_type": "code",
      "metadata": {
        "colab": {
          "base_uri": "https://localhost:8080/",
          "height": 221
        },
        "id": "6SYfDY-QGW3S",
        "outputId": "45c0c170-a04b-406c-caed-535c2eb2fb64"
      },
      "source": [
        "# Estimation 2 - EGARCH (Best BIC:  lag= 3)\n",
        "model.egarch.2 <- lm(egarch ~  lag.egarch.1 + lag.egarch.2 + lag.egarch.3 + lag.epu, \n",
        "                     data = ols.egarch)\n",
        "\n",
        "round(coeftest(model.egarch.2, NeweyWest(model.egarch.2, \n",
        "                                         lag = bwNeweyWest(model.egarch.2), \n",
        "                                         prewhite = F)), 3)\n",
        "\n",
        "round(summary(model.egarch.2)$adj.r.squared, 3)"
      ],
      "id": "6SYfDY-QGW3S",
      "execution_count": 308,
      "outputs": [
        {
          "output_type": "display_data",
          "data": {
            "text/plain": [
              "\n",
              "t test of coefficients:\n",
              "\n",
              "             Estimate Std. Error t value Pr(>|t|)    \n",
              "(Intercept)     0.182      0.044   4.156   <2e-16 ***\n",
              "lag.egarch.1    0.972      0.080  12.197   <2e-16 ***\n",
              "lag.egarch.2   -0.188      0.108  -1.742    0.083 .  \n",
              "lag.egarch.3    0.071      0.065   1.089    0.277    \n",
              "lag.epu         0.000      0.000  -2.587    0.010 ** \n",
              "---\n",
              "Signif. codes:  0 ‘***’ 0.001 ‘**’ 0.01 ‘*’ 0.05 ‘.’ 0.1 ‘ ’ 1\n"
            ]
          },
          "metadata": {
            "tags": []
          }
        },
        {
          "output_type": "display_data",
          "data": {
            "text/plain": [
              "[1] 0.781"
            ],
            "text/latex": "0.781",
            "text/markdown": "0.781",
            "text/html": [
              "0.781"
            ]
          },
          "metadata": {
            "tags": []
          }
        }
      ]
    },
    {
      "cell_type": "code",
      "metadata": {
        "colab": {
          "base_uri": "https://localhost:8080/",
          "height": 221
        },
        "id": "iNZE-7iEPn_A",
        "outputId": "54967a90-083f-4ada-b181-3bd1ac04e5fa"
      },
      "source": [
        "# Estimation 3 - EGARCH (Best BIC:  lag= 3)\n",
        "model.egarch.3 <- lm(egarch ~  lag.egarch.1 + lag.egarch.2 + lag.egarch.3 + lag.vix, \n",
        "                     data = ols.egarch)\n",
        "\n",
        "round(coeftest(model.egarch.3, NeweyWest(model.egarch.3, \n",
        "                                         lag = bwNeweyWest(model.egarch.3), \n",
        "                                         prewhite = F)), 3)\n",
        "\n",
        "round(summary(model.egarch.3)$adj.r.squared, 3)"
      ],
      "id": "iNZE-7iEPn_A",
      "execution_count": 309,
      "outputs": [
        {
          "output_type": "display_data",
          "data": {
            "text/plain": [
              "\n",
              "t test of coefficients:\n",
              "\n",
              "             Estimate Std. Error t value Pr(>|t|)    \n",
              "(Intercept)     0.015      0.048   0.321    0.749    \n",
              "lag.egarch.1    0.934      0.071  13.110   <2e-16 ***\n",
              "lag.egarch.2   -0.191      0.109  -1.747    0.082 .  \n",
              "lag.egarch.3    0.079      0.067   1.176    0.241    \n",
              "lag.vix         0.007      0.003   2.353    0.019 *  \n",
              "---\n",
              "Signif. codes:  0 ‘***’ 0.001 ‘**’ 0.01 ‘*’ 0.05 ‘.’ 0.1 ‘ ’ 1\n"
            ]
          },
          "metadata": {
            "tags": []
          }
        },
        {
          "output_type": "display_data",
          "data": {
            "text/plain": [
              "[1] 0.782"
            ],
            "text/latex": "0.782",
            "text/markdown": "0.782",
            "text/html": [
              "0.782"
            ]
          },
          "metadata": {
            "tags": []
          }
        }
      ]
    },
    {
      "cell_type": "code",
      "metadata": {
        "colab": {
          "base_uri": "https://localhost:8080/",
          "height": 238
        },
        "id": "Cd-rJ4nnPpme",
        "outputId": "eceb4384-7a8e-401b-dbd8-005c70969a7a"
      },
      "source": [
        "# Estimation 4 - EGARCH (Best BIC:  lag= 3)\n",
        "model.egarch.4 <- lm(egarch ~  lag.egarch.1 + lag.egarch.2 + lag.egarch.3 + lag.epu + lag.vix, \n",
        "                     data = ols.egarch)\n",
        "\n",
        "round(coeftest(model.egarch.4, NeweyWest(model.egarch.4, \n",
        "                                         lag = bwNeweyWest(model.egarch.4), \n",
        "                                         prewhite = F)), 3)\n",
        "\n",
        "round(summary(model.egarch.4)$adj.r.squared, 3)"
      ],
      "id": "Cd-rJ4nnPpme",
      "execution_count": 310,
      "outputs": [
        {
          "output_type": "display_data",
          "data": {
            "text/plain": [
              "\n",
              "t test of coefficients:\n",
              "\n",
              "             Estimate Std. Error t value Pr(>|t|)    \n",
              "(Intercept)     0.075      0.055   1.365    0.174    \n",
              "lag.egarch.1    0.896      0.075  11.892   <2e-16 ***\n",
              "lag.egarch.2   -0.182      0.103  -1.763    0.079 .  \n",
              "lag.egarch.3    0.060      0.066   0.916    0.361    \n",
              "lag.epu         0.000      0.000  -3.600   <2e-16 ***\n",
              "lag.vix         0.010      0.003   2.954    0.003 ** \n",
              "---\n",
              "Signif. codes:  0 ‘***’ 0.001 ‘**’ 0.01 ‘*’ 0.05 ‘.’ 0.1 ‘ ’ 1\n"
            ]
          },
          "metadata": {
            "tags": []
          }
        },
        {
          "output_type": "display_data",
          "data": {
            "text/plain": [
              "[1] 0.79"
            ],
            "text/latex": "0.79",
            "text/markdown": "0.79",
            "text/html": [
              "0.79"
            ]
          },
          "metadata": {
            "tags": []
          }
        }
      ]
    },
    {
      "cell_type": "code",
      "metadata": {
        "colab": {
          "base_uri": "https://localhost:8080/",
          "height": 255
        },
        "id": "c3XRtwQFPqqa",
        "outputId": "54b2f302-18e6-494e-b38b-e4b335807742"
      },
      "source": [
        "# Estimation 5 - EGARCH (Best BIC:  lag= 3)\n",
        "model.egarch.5 <- lm(egarch ~  lag.egarch.1 + lag.egarch.2 + lag.egarch.3 + lag.epu + lag.gepu + lag.vix, \n",
        "                     data = ols.egarch)\n",
        "\n",
        "round(coeftest(model.egarch.5, NeweyWest(model.egarch.5, \n",
        "                                         lag = bwNeweyWest(model.egarch.5), \n",
        "                                         prewhite = F)), 3)\n",
        "\n",
        "round(summary(model.egarch.5)$adj.r.squared, 3)"
      ],
      "id": "c3XRtwQFPqqa",
      "execution_count": 311,
      "outputs": [
        {
          "output_type": "display_data",
          "data": {
            "text/plain": [
              "\n",
              "t test of coefficients:\n",
              "\n",
              "             Estimate Std. Error t value Pr(>|t|)    \n",
              "(Intercept)     0.143      0.063   2.268    0.024 *  \n",
              "lag.egarch.1    0.886      0.076  11.635   <2e-16 ***\n",
              "lag.egarch.2   -0.179      0.105  -1.695    0.091 .  \n",
              "lag.egarch.3    0.052      0.067   0.775    0.439    \n",
              "lag.epu         0.000      0.000   0.373    0.710    \n",
              "lag.gepu       -0.002      0.001  -1.739    0.083 .  \n",
              "lag.vix         0.013      0.004   3.196    0.002 ** \n",
              "---\n",
              "Signif. codes:  0 ‘***’ 0.001 ‘**’ 0.01 ‘*’ 0.05 ‘.’ 0.1 ‘ ’ 1\n"
            ]
          },
          "metadata": {
            "tags": []
          }
        },
        {
          "output_type": "display_data",
          "data": {
            "text/plain": [
              "[1] 0.792"
            ],
            "text/latex": "0.792",
            "text/markdown": "0.792",
            "text/html": [
              "0.792"
            ]
          },
          "metadata": {
            "tags": []
          }
        }
      ]
    },
    {
      "cell_type": "markdown",
      "metadata": {
        "id": "q6ZVo4RGFVPg"
      },
      "source": [
        "**GJR-GARCH**"
      ],
      "id": "q6ZVo4RGFVPg"
    },
    {
      "cell_type": "code",
      "metadata": {
        "colab": {
          "base_uri": "https://localhost:8080/",
          "height": 204
        },
        "id": "sSV2QDYhF_4v",
        "outputId": "d76c070b-7f6c-4eff-9a26-62f46667ef30"
      },
      "source": [
        "# Estimation 1 - GJR-GARCH (Best BIC:  lag= 3)\n",
        "gjrgarch <- ts(log(HSCE.df.month$HSCE.VolGJRGARCH))\n",
        "lag.gjrgarch.1 <- ts(Lag(log(HSCE.df.month$HSCE.VolGJRGARCH), 1))\n",
        "lag.gjrgarch.2 <- ts(Lag(log(HSCE.df.month$HSCE.VolGJRGARCH), 2))\n",
        "lag.gjrgarch.3 <- ts(Lag(log(HSCE.df.month$HSCE.VolGJRGARCH), 3))\n",
        "\n",
        "ols.gjrgarch <- cbind(gjrgarch, lag.gjrgarch.1, lag.gjrgarch.2, lag.gjrgarch.3,\n",
        "                      lag.epu, lag.gepu, lag.vix)\n",
        "\n",
        "model.gjrgarch.1 <- lm(gjrgarch ~  lag.gjrgarch.1 + lag.gjrgarch.2 + lag.gjrgarch.3, \n",
        "                       data = ols.gjrgarch)\n",
        "\n",
        "round(coeftest(model.gjrgarch.1, NeweyWest(model.gjrgarch.1, \n",
        "                                           lag = bwNeweyWest(model.gjrgarch.1), \n",
        "                                           prewhite = F)), 3)\n",
        "\n",
        "round(summary(model.gjrgarch.1)$adj.r.squared, 3)"
      ],
      "id": "sSV2QDYhF_4v",
      "execution_count": 312,
      "outputs": [
        {
          "output_type": "display_data",
          "data": {
            "text/plain": [
              "\n",
              "t test of coefficients:\n",
              "\n",
              "               Estimate Std. Error t value Pr(>|t|)    \n",
              "(Intercept)       0.116      0.031   3.732   <2e-16 ***\n",
              "lag.gjrgarch.1    0.990      0.081  12.192   <2e-16 ***\n",
              "lag.gjrgarch.2   -0.206      0.115  -1.803    0.073 .  \n",
              "lag.gjrgarch.3    0.088      0.067   1.316    0.189    \n",
              "---\n",
              "Signif. codes:  0 ‘***’ 0.001 ‘**’ 0.01 ‘*’ 0.05 ‘.’ 0.1 ‘ ’ 1\n"
            ]
          },
          "metadata": {
            "tags": []
          }
        },
        {
          "output_type": "display_data",
          "data": {
            "text/plain": [
              "[1] 0.772"
            ],
            "text/latex": "0.772",
            "text/markdown": "0.772",
            "text/html": [
              "0.772"
            ]
          },
          "metadata": {
            "tags": []
          }
        }
      ]
    },
    {
      "cell_type": "code",
      "metadata": {
        "colab": {
          "base_uri": "https://localhost:8080/",
          "height": 221
        },
        "id": "QfZ9xeMXGXxq",
        "outputId": "6b2c3e39-653e-4101-d867-b09ac5a4498b"
      },
      "source": [
        "# Estimation 2 - GJR-GARCH (Best BIC:  lag= 3)\n",
        "model.gjrgarch.2 <- lm(gjrgarch ~  lag.gjrgarch.1 + lag.gjrgarch.2 + lag.gjrgarch.3 + lag.epu, \n",
        "                       data = ols.gjrgarch)\n",
        "\n",
        "round(coeftest(model.gjrgarch.2, NeweyWest(model.gjrgarch.2, \n",
        "                                          lag = bwNeweyWest(model.gjrgarch.2), \n",
        "                                          prewhite = F)), 3)\n",
        "\n",
        "round(summary(model.gjrgarch.2)$adj.r.squared, 3)"
      ],
      "id": "QfZ9xeMXGXxq",
      "execution_count": 313,
      "outputs": [
        {
          "output_type": "display_data",
          "data": {
            "text/plain": [
              "\n",
              "t test of coefficients:\n",
              "\n",
              "               Estimate Std. Error t value Pr(>|t|)    \n",
              "(Intercept)       0.182      0.044   4.146   <2e-16 ***\n",
              "lag.gjrgarch.1    0.978      0.083  11.803   <2e-16 ***\n",
              "lag.gjrgarch.2   -0.201      0.108  -1.863    0.064 .  \n",
              "lag.gjrgarch.3    0.076      0.066   1.158    0.248    \n",
              "lag.epu           0.000      0.000  -2.607    0.010 ** \n",
              "---\n",
              "Signif. codes:  0 ‘***’ 0.001 ‘**’ 0.01 ‘*’ 0.05 ‘.’ 0.1 ‘ ’ 1\n"
            ]
          },
          "metadata": {
            "tags": []
          }
        },
        {
          "output_type": "display_data",
          "data": {
            "text/plain": [
              "[1] 0.776"
            ],
            "text/latex": "0.776",
            "text/markdown": "0.776",
            "text/html": [
              "0.776"
            ]
          },
          "metadata": {
            "tags": []
          }
        }
      ]
    },
    {
      "cell_type": "code",
      "metadata": {
        "colab": {
          "base_uri": "https://localhost:8080/",
          "height": 221
        },
        "id": "RpwqcFbDQveh",
        "outputId": "2fd8c9fe-c8c0-4742-c2f2-2884fbf48099"
      },
      "source": [
        "# Estimation 3 - GJR-GARCH (Best BIC:  lag= 3)\n",
        "model.gjrgarch.3 <- lm(gjrgarch ~  lag.gjrgarch.1 + lag.gjrgarch.2 + lag.gjrgarch.3 + lag.vix, \n",
        "                       data = ols.gjrgarch)\n",
        "\n",
        "round(coeftest(model.gjrgarch.3, NeweyWest(model.gjrgarch.3, \n",
        "                                          lag = bwNeweyWest(model.gjrgarch.3), \n",
        "                                          prewhite = F)), 3)\n",
        "\n",
        "round(summary(model.gjrgarch.3)$adj.r.squared, 3)"
      ],
      "id": "RpwqcFbDQveh",
      "execution_count": 314,
      "outputs": [
        {
          "output_type": "display_data",
          "data": {
            "text/plain": [
              "\n",
              "t test of coefficients:\n",
              "\n",
              "               Estimate Std. Error t value Pr(>|t|)    \n",
              "(Intercept)       0.014      0.049   0.289    0.773    \n",
              "lag.gjrgarch.1    0.937      0.075  12.567   <2e-16 ***\n",
              "lag.gjrgarch.2   -0.203      0.109  -1.853    0.065 .  \n",
              "lag.gjrgarch.3    0.084      0.066   1.279    0.202    \n",
              "lag.vix           0.008      0.003   2.415    0.016 *  \n",
              "---\n",
              "Signif. codes:  0 ‘***’ 0.001 ‘**’ 0.01 ‘*’ 0.05 ‘.’ 0.1 ‘ ’ 1\n"
            ]
          },
          "metadata": {
            "tags": []
          }
        },
        {
          "output_type": "display_data",
          "data": {
            "text/plain": [
              "[1] 0.777"
            ],
            "text/latex": "0.777",
            "text/markdown": "0.777",
            "text/html": [
              "0.777"
            ]
          },
          "metadata": {
            "tags": []
          }
        }
      ]
    },
    {
      "cell_type": "code",
      "metadata": {
        "colab": {
          "base_uri": "https://localhost:8080/",
          "height": 238
        },
        "id": "oVcvw2H_QwAc",
        "outputId": "7b8c8b2c-0053-4684-b98e-68a4d190b745"
      },
      "source": [
        "# Estimation 4 - GJR-GARCH (Best BIC:  lag= 3)\n",
        "model.gjrgarch.4 <- lm(gjrgarch ~  lag.gjrgarch.1 + lag.gjrgarch.2 + lag.gjrgarch.3 + lag.epu + lag.vix, \n",
        "                       data = ols.gjrgarch)\n",
        "\n",
        "round(coeftest(model.gjrgarch.4, NeweyWest(model.gjrgarch.4, \n",
        "                                          lag = bwNeweyWest(model.gjrgarch.4), \n",
        "                                          prewhite = F)), 3)\n",
        "\n",
        "round(summary(model.gjrgarch.4)$adj.r.squared, 3)"
      ],
      "id": "oVcvw2H_QwAc",
      "execution_count": 315,
      "outputs": [
        {
          "output_type": "display_data",
          "data": {
            "text/plain": [
              "\n",
              "t test of coefficients:\n",
              "\n",
              "               Estimate Std. Error t value Pr(>|t|)    \n",
              "(Intercept)       0.072      0.054   1.335    0.183    \n",
              "lag.gjrgarch.1    0.902      0.078  11.548   <2e-16 ***\n",
              "lag.gjrgarch.2   -0.193      0.106  -1.819    0.070 .  \n",
              "lag.gjrgarch.3    0.066      0.065   1.016    0.311    \n",
              "lag.epu           0.000      0.000  -3.619   <2e-16 ***\n",
              "lag.vix           0.010      0.003   2.996    0.003 ** \n",
              "---\n",
              "Signif. codes:  0 ‘***’ 0.001 ‘**’ 0.01 ‘*’ 0.05 ‘.’ 0.1 ‘ ’ 1\n"
            ]
          },
          "metadata": {
            "tags": []
          }
        },
        {
          "output_type": "display_data",
          "data": {
            "text/plain": [
              "[1] 0.784"
            ],
            "text/latex": "0.784",
            "text/markdown": "0.784",
            "text/html": [
              "0.784"
            ]
          },
          "metadata": {
            "tags": []
          }
        }
      ]
    },
    {
      "cell_type": "code",
      "metadata": {
        "colab": {
          "base_uri": "https://localhost:8080/",
          "height": 255
        },
        "id": "5lDj4PwxQwzP",
        "outputId": "604431d7-b731-41ef-fd1b-81ff49429390"
      },
      "source": [
        "# Estimation 5 - GJR-GARCH (Best BIC:  lag= 3)\n",
        "model.gjrgarch.5 <- lm(gjrgarch ~  lag.gjrgarch.1 + lag.gjrgarch.2 + lag.gjrgarch.3\n",
        "                                 + lag.epu + lag.gepu + lag.vix, \n",
        "                       data = ols.gjrgarch)\n",
        "\n",
        "round(coeftest(model.gjrgarch.5, NeweyWest(model.gjrgarch.5, \n",
        "                                          lag = bwNeweyWest(model.gjrgarch.5), \n",
        "                                          prewhite = F)), 3)\n",
        "\n",
        "round(summary(model.gjrgarch.5)$adj.r.squared, 3)"
      ],
      "id": "5lDj4PwxQwzP",
      "execution_count": 316,
      "outputs": [
        {
          "output_type": "display_data",
          "data": {
            "text/plain": [
              "\n",
              "t test of coefficients:\n",
              "\n",
              "               Estimate Std. Error t value Pr(>|t|)    \n",
              "(Intercept)       0.144      0.062   2.306    0.022 *  \n",
              "lag.gjrgarch.1    0.893      0.079  11.367   <2e-16 ***\n",
              "lag.gjrgarch.2   -0.191      0.107  -1.784    0.076 .  \n",
              "lag.gjrgarch.3    0.056      0.066   0.848    0.397    \n",
              "lag.epu           0.000      0.000   0.472    0.637    \n",
              "lag.gepu         -0.002      0.001  -1.785    0.075 .  \n",
              "lag.vix           0.013      0.004   3.224    0.001 ***\n",
              "---\n",
              "Signif. codes:  0 ‘***’ 0.001 ‘**’ 0.01 ‘*’ 0.05 ‘.’ 0.1 ‘ ’ 1\n"
            ]
          },
          "metadata": {
            "tags": []
          }
        },
        {
          "output_type": "display_data",
          "data": {
            "text/plain": [
              "[1] 0.786"
            ],
            "text/latex": "0.786",
            "text/markdown": "0.786",
            "text/html": [
              "0.786"
            ]
          },
          "metadata": {
            "tags": []
          }
        }
      ]
    },
    {
      "cell_type": "markdown",
      "metadata": {
        "id": "9k0Ku1lRFXsE"
      },
      "source": [
        "**Realized Linear GARCH**"
      ],
      "id": "9k0Ku1lRFXsE"
    },
    {
      "cell_type": "code",
      "metadata": {
        "colab": {
          "base_uri": "https://localhost:8080/",
          "height": 204
        },
        "id": "ggRFZZTrGA7l",
        "outputId": "dd05a359-5da2-403f-a776-afb09f75a01e"
      },
      "source": [
        "# Estimation 1 - Realized Linear GARCH (Best BIC:  lag= 3)\n",
        "realgarch <- ts(log(HSCE.df.month$HSCE.VolRealGARCH))\n",
        "lag.realgarch.1 <- ts(Lag(log(HSCE.df.month$HSCE.VolRealGARCH), 1))\n",
        "lag.realgarch.2 <- ts(Lag(log(HSCE.df.month$HSCE.VolRealGARCH), 2))\n",
        "lag.realgarch.3 <- ts(Lag(log(HSCE.df.month$HSCE.VolRealGARCH), 3))\n",
        "\n",
        "ols.realgarch <- cbind(realgarch, lag.realgarch.1, lag.realgarch.2, lag.realgarch.3, \n",
        "                       lag.epu, lag.gepu, lag.vix)\n",
        "\n",
        "model.realgarch.1 <- lm(realgarch ~  lag.realgarch.1 + lag.realgarch.2 + lag.realgarch.3, \n",
        "                        data = ols.realgarch)\n",
        "\n",
        "round(coeftest(model.realgarch.1, NeweyWest(model.realgarch.1, \n",
        "                                            lag = bwNeweyWest(model.realgarch.1), \n",
        "                                            prewhite = F)), 3)\n",
        "\n",
        "round(summary(model.realgarch.1)$adj.r.squared, 3)"
      ],
      "id": "ggRFZZTrGA7l",
      "execution_count": 317,
      "outputs": [
        {
          "output_type": "display_data",
          "data": {
            "text/plain": [
              "\n",
              "t test of coefficients:\n",
              "\n",
              "                Estimate Std. Error t value Pr(>|t|)    \n",
              "(Intercept)        0.109      0.030   3.615   <2e-16 ***\n",
              "lag.realgarch.1    1.025      0.086  11.982   <2e-16 ***\n",
              "lag.realgarch.2   -0.251      0.119  -2.117    0.035 *  \n",
              "lag.realgarch.3    0.107      0.069   1.549    0.123    \n",
              "---\n",
              "Signif. codes:  0 ‘***’ 0.001 ‘**’ 0.01 ‘*’ 0.05 ‘.’ 0.1 ‘ ’ 1\n"
            ]
          },
          "metadata": {
            "tags": []
          }
        },
        {
          "output_type": "display_data",
          "data": {
            "text/plain": [
              "[1] 0.789"
            ],
            "text/latex": "0.789",
            "text/markdown": "0.789",
            "text/html": [
              "0.789"
            ]
          },
          "metadata": {
            "tags": []
          }
        }
      ]
    },
    {
      "cell_type": "code",
      "metadata": {
        "colab": {
          "base_uri": "https://localhost:8080/",
          "height": 221
        },
        "id": "hlGIumFjGY6u",
        "outputId": "7fb6a9c7-08be-4a4b-ac6c-4ab7f8da2002"
      },
      "source": [
        "# Estimation 2 - Realized Linear GARCH (Best BIC:  lag= 3)\n",
        "model.realgarch.2 <- lm(realgarch ~  lag.realgarch.1 + lag.realgarch.2 + lag.realgarch.3 + lag.epu, \n",
        "                        data = ols.realgarch)\n",
        "\n",
        "round(coeftest(model.realgarch.2, NeweyWest(model.realgarch.2, \n",
        "                                            lag = bwNeweyWest(model.realgarch.2), \n",
        "                                            prewhite = F)), 3)\n",
        "\n",
        "round(summary(model.realgarch.2)$adj.r.squared, 3)"
      ],
      "id": "hlGIumFjGY6u",
      "execution_count": 318,
      "outputs": [
        {
          "output_type": "display_data",
          "data": {
            "text/plain": [
              "\n",
              "t test of coefficients:\n",
              "\n",
              "                Estimate Std. Error t value Pr(>|t|)    \n",
              "(Intercept)        0.173      0.041   4.175   <2e-16 ***\n",
              "lag.realgarch.1    1.014      0.087  11.591   <2e-16 ***\n",
              "lag.realgarch.2   -0.245      0.116  -2.120    0.035 *  \n",
              "lag.realgarch.3    0.094      0.068   1.381    0.168    \n",
              "lag.epu            0.000      0.000  -2.548    0.011 *  \n",
              "---\n",
              "Signif. codes:  0 ‘***’ 0.001 ‘**’ 0.01 ‘*’ 0.05 ‘.’ 0.1 ‘ ’ 1\n"
            ]
          },
          "metadata": {
            "tags": []
          }
        },
        {
          "output_type": "display_data",
          "data": {
            "text/plain": [
              "[1] 0.792"
            ],
            "text/latex": "0.792",
            "text/markdown": "0.792",
            "text/html": [
              "0.792"
            ]
          },
          "metadata": {
            "tags": []
          }
        }
      ]
    },
    {
      "cell_type": "code",
      "metadata": {
        "colab": {
          "base_uri": "https://localhost:8080/",
          "height": 221
        },
        "id": "Fort9qJBRSmj",
        "outputId": "2ec0478d-2440-42cd-a458-29e7af639765"
      },
      "source": [
        "# Estimation 3 - Realized Linear GARCH (Best BIC:  lag= 3)\n",
        "model.realgarch.3 <- lm(realgarch ~  lag.realgarch.1 + lag.realgarch.2 + lag.realgarch.3 + lag.vix, \n",
        "                        data = ols.realgarch)\n",
        "\n",
        "round(coeftest(model.realgarch.3, NeweyWest(model.realgarch.3, \n",
        "                                            lag = bwNeweyWest(model.realgarch.3), \n",
        "                                            prewhite = F)), 3)\n",
        "\n",
        "round(summary(model.realgarch.3)$adj.r.squared, 3)"
      ],
      "id": "Fort9qJBRSmj",
      "execution_count": 319,
      "outputs": [
        {
          "output_type": "display_data",
          "data": {
            "text/plain": [
              "\n",
              "t test of coefficients:\n",
              "\n",
              "                Estimate Std. Error t value Pr(>|t|)    \n",
              "(Intercept)       -0.012      0.048  -0.255    0.799    \n",
              "lag.realgarch.1    0.963      0.077  12.510   <2e-16 ***\n",
              "lag.realgarch.2   -0.243      0.113  -2.148    0.033 *  \n",
              "lag.realgarch.3    0.101      0.068   1.476    0.141    \n",
              "lag.vix            0.009      0.003   2.886    0.004 ** \n",
              "---\n",
              "Signif. codes:  0 ‘***’ 0.001 ‘**’ 0.01 ‘*’ 0.05 ‘.’ 0.1 ‘ ’ 1\n"
            ]
          },
          "metadata": {
            "tags": []
          }
        },
        {
          "output_type": "display_data",
          "data": {
            "text/plain": [
              "[1] 0.795"
            ],
            "text/latex": "0.795",
            "text/markdown": "0.795",
            "text/html": [
              "0.795"
            ]
          },
          "metadata": {
            "tags": []
          }
        }
      ]
    },
    {
      "cell_type": "code",
      "metadata": {
        "colab": {
          "base_uri": "https://localhost:8080/",
          "height": 238
        },
        "id": "Y7DFY72qRTZm",
        "outputId": "13bd1607-fe3b-4523-c47c-196ef0fc0361"
      },
      "source": [
        "# Estimation 4 - Realized Linear GARCH (Best BIC:  lag= 3)\n",
        "model.realgarch.4 <- lm(realgarch ~  lag.realgarch.1 + lag.realgarch.2 + lag.realgarch.3 + lag.epu + lag.vix, \n",
        "                        data = ols.realgarch)\n",
        "\n",
        "round(coeftest(model.realgarch.4, NeweyWest(model.realgarch.4, \n",
        "                                            lag = bwNeweyWest(model.realgarch.4), \n",
        "                                            prewhite = F)), 3)\n",
        "\n",
        "round(summary(model.realgarch.4)$adj.r.squared, 3)"
      ],
      "id": "Y7DFY72qRTZm",
      "execution_count": 320,
      "outputs": [
        {
          "output_type": "display_data",
          "data": {
            "text/plain": [
              "\n",
              "t test of coefficients:\n",
              "\n",
              "                Estimate Std. Error t value Pr(>|t|)    \n",
              "(Intercept)        0.047      0.054   0.869    0.386    \n",
              "lag.realgarch.1    0.927      0.079  11.700   <2e-16 ***\n",
              "lag.realgarch.2   -0.232      0.108  -2.139    0.033 *  \n",
              "lag.realgarch.3    0.080      0.066   1.206    0.229    \n",
              "lag.epu            0.000      0.000  -3.642   <2e-16 ***\n",
              "lag.vix            0.012      0.003   3.389    0.001 ***\n",
              "---\n",
              "Signif. codes:  0 ‘***’ 0.001 ‘**’ 0.01 ‘*’ 0.05 ‘.’ 0.1 ‘ ’ 1\n"
            ]
          },
          "metadata": {
            "tags": []
          }
        },
        {
          "output_type": "display_data",
          "data": {
            "text/plain": [
              "[1] 0.802"
            ],
            "text/latex": "0.802",
            "text/markdown": "0.802",
            "text/html": [
              "0.802"
            ]
          },
          "metadata": {
            "tags": []
          }
        }
      ]
    },
    {
      "cell_type": "code",
      "metadata": {
        "colab": {
          "base_uri": "https://localhost:8080/",
          "height": 255
        },
        "id": "zYv19mZSRUB9",
        "outputId": "b876bcdb-c412-4906-a28d-12c40519e654"
      },
      "source": [
        "# Estimation 5 - Realized Linear GARCH (Best BIC:  lag= 3)\n",
        "model.realgarch.5 <- lm(realgarch ~  lag.realgarch.1 + lag.realgarch.2 + lag.realgarch.3\n",
        "                                   + lag.epu + lag.gepu + lag.vix, \n",
        "                        data = ols.realgarch)\n",
        "\n",
        "round(coeftest(model.realgarch.5, NeweyWest(model.realgarch.5, \n",
        "                                            lag = bwNeweyWest(model.realgarch.5), \n",
        "                                            prewhite = F)), 3)\n",
        "\n",
        "round(summary(model.realgarch.5)$adj.r.squared, 3)"
      ],
      "id": "zYv19mZSRUB9",
      "execution_count": 321,
      "outputs": [
        {
          "output_type": "display_data",
          "data": {
            "text/plain": [
              "\n",
              "t test of coefficients:\n",
              "\n",
              "                Estimate Std. Error t value Pr(>|t|)    \n",
              "(Intercept)        0.110      0.061   1.808    0.072 .  \n",
              "lag.realgarch.1    0.918      0.083  11.080   <2e-16 ***\n",
              "lag.realgarch.2   -0.228      0.111  -2.051    0.041 *  \n",
              "lag.realgarch.3    0.071      0.069   1.033    0.303    \n",
              "lag.epu            0.000      0.000   0.269    0.788    \n",
              "lag.gepu          -0.001      0.001  -1.600    0.111    \n",
              "lag.vix            0.014      0.004   3.274    0.001 ***\n",
              "---\n",
              "Signif. codes:  0 ‘***’ 0.001 ‘**’ 0.01 ‘*’ 0.05 ‘.’ 0.1 ‘ ’ 1\n"
            ]
          },
          "metadata": {
            "tags": []
          }
        },
        {
          "output_type": "display_data",
          "data": {
            "text/plain": [
              "[1] 0.804"
            ],
            "text/latex": "0.804",
            "text/markdown": "0.804",
            "text/html": [
              "0.804"
            ]
          },
          "metadata": {
            "tags": []
          }
        }
      ]
    },
    {
      "cell_type": "markdown",
      "metadata": {
        "id": "tUOifxgkFbpF"
      },
      "source": [
        "**Realized EGARCH**"
      ],
      "id": "tUOifxgkFbpF"
    },
    {
      "cell_type": "code",
      "metadata": {
        "colab": {
          "base_uri": "https://localhost:8080/",
          "height": 204
        },
        "id": "aKcrDVVGGCtZ",
        "outputId": "94c82c7f-6819-4ae4-e837-6eac72db250a"
      },
      "source": [
        "# Estimation 1 - Realized EGARCH (Best BIC:  lag= 3)\n",
        "realegarch <- ts(log(HSCE.df.month$HSCE.VolRealEGARCH))\n",
        "lag.realegarch.1 <- ts(Lag(log(HSCE.df.month$HSCE.VolRealEGARCH), 1))\n",
        "lag.realegarch.2 <- ts(Lag(log(HSCE.df.month$HSCE.VolRealEGARCH), 2))\n",
        "lag.realegarch.3 <- ts(Lag(log(HSCE.df.month$HSCE.VolRealEGARCH), 3))\n",
        "\n",
        "ols.realegarch <- cbind(realegarch, lag.realegarch.1, lag.realegarch.2, lag.realegarch.3,\n",
        "                        lag.epu, lag.gepu, lag.vix)\n",
        "\n",
        "model.realegarch.1 <- lm(realegarch ~  lag.realegarch.1 + lag.realegarch.2 + lag.realegarch.3, \n",
        "                        data = ols.realegarch)\n",
        "\n",
        "round(coeftest(model.realegarch.1, NeweyWest(model.realegarch.1, \n",
        "                                            lag = bwNeweyWest(model.realegarch.1), \n",
        "                                            prewhite = F)), 3)\n",
        "\n",
        "round(summary(model.realegarch.1)$adj.r.squared, 3)"
      ],
      "id": "aKcrDVVGGCtZ",
      "execution_count": 322,
      "outputs": [
        {
          "output_type": "display_data",
          "data": {
            "text/plain": [
              "\n",
              "t test of coefficients:\n",
              "\n",
              "                 Estimate Std. Error t value Pr(>|t|)    \n",
              "(Intercept)         0.115      0.032   3.564   <2e-16 ***\n",
              "lag.realegarch.1    0.991      0.077  12.894   <2e-16 ***\n",
              "lag.realegarch.2   -0.198      0.112  -1.767    0.078 .  \n",
              "lag.realegarch.3    0.081      0.066   1.228    0.221    \n",
              "---\n",
              "Signif. codes:  0 ‘***’ 0.001 ‘**’ 0.01 ‘*’ 0.05 ‘.’ 0.1 ‘ ’ 1\n"
            ]
          },
          "metadata": {
            "tags": []
          }
        },
        {
          "output_type": "display_data",
          "data": {
            "text/plain": [
              "[1] 0.779"
            ],
            "text/latex": "0.779",
            "text/markdown": "0.779",
            "text/html": [
              "0.779"
            ]
          },
          "metadata": {
            "tags": []
          }
        }
      ]
    },
    {
      "cell_type": "code",
      "metadata": {
        "colab": {
          "base_uri": "https://localhost:8080/",
          "height": 221
        },
        "id": "k9o6HRw9GZ1M",
        "outputId": "48f4eddc-2ded-48f9-9336-88cb00578fe8"
      },
      "source": [
        "# Estimation 2 - Realized EGARCH (Best BIC:  lag= 3)\n",
        "model.realegarch.2 <- lm(realegarch ~  lag.realegarch.1 + lag.realegarch.2 + lag.realegarch.3 + lag.epu, \n",
        "                          data = ols.realegarch)\n",
        "\n",
        "round(coeftest(model.realegarch.2, NeweyWest(model.realegarch.2, \n",
        "                                              lag = bwNeweyWest(model.realegarch.2), \n",
        "                                              prewhite = F)), 3)\n",
        "\n",
        "round(summary(model.realegarch.2)$adj.r.squared, 3)"
      ],
      "id": "k9o6HRw9GZ1M",
      "execution_count": 323,
      "outputs": [
        {
          "output_type": "display_data",
          "data": {
            "text/plain": [
              "\n",
              "t test of coefficients:\n",
              "\n",
              "                 Estimate Std. Error t value Pr(>|t|)    \n",
              "(Intercept)         0.183      0.045   4.054   <2e-16 ***\n",
              "lag.realegarch.1    0.978      0.079  12.317   <2e-16 ***\n",
              "lag.realegarch.2   -0.192      0.105  -1.831    0.068 .  \n",
              "lag.realegarch.3    0.069      0.066   1.045    0.297    \n",
              "lag.epu             0.000      0.000  -2.536    0.012 *  \n",
              "---\n",
              "Signif. codes:  0 ‘***’ 0.001 ‘**’ 0.01 ‘*’ 0.05 ‘.’ 0.1 ‘ ’ 1\n"
            ]
          },
          "metadata": {
            "tags": []
          }
        },
        {
          "output_type": "display_data",
          "data": {
            "text/plain": [
              "[1] 0.782"
            ],
            "text/latex": "0.782",
            "text/markdown": "0.782",
            "text/html": [
              "0.782"
            ]
          },
          "metadata": {
            "tags": []
          }
        }
      ]
    },
    {
      "cell_type": "code",
      "metadata": {
        "colab": {
          "base_uri": "https://localhost:8080/",
          "height": 221
        },
        "id": "I1exBnz0R4Pj",
        "outputId": "e3ab2c55-9184-4b51-867b-a71f77f798ad"
      },
      "source": [
        "# Estimation 3 - Realized EGARCH (Best BIC:  lag= 3)\n",
        "model.realegarch.3 <- lm(realegarch ~  lag.realegarch.1 + lag.realegarch.2 + lag.realegarch.3 + lag.vix, \n",
        "                          data = ols.realegarch)\n",
        "\n",
        "round(coeftest(model.realegarch.3, NeweyWest(model.realegarch.3, \n",
        "                                              lag = bwNeweyWest(model.realegarch.3), \n",
        "                                              prewhite = F)), 3)\n",
        "\n",
        "round(summary(model.realegarch.3)$adj.r.squared, 3)"
      ],
      "id": "I1exBnz0R4Pj",
      "execution_count": 324,
      "outputs": [
        {
          "output_type": "display_data",
          "data": {
            "text/plain": [
              "\n",
              "t test of coefficients:\n",
              "\n",
              "                 Estimate Std. Error t value Pr(>|t|)    \n",
              "(Intercept)         0.005      0.048   0.113    0.910    \n",
              "lag.realegarch.1    0.934      0.072  13.051   <2e-16 ***\n",
              "lag.realegarch.2   -0.193      0.109  -1.770    0.078 .  \n",
              "lag.realegarch.3    0.076      0.067   1.137    0.256    \n",
              "lag.vix             0.008      0.003   2.571    0.011 *  \n",
              "---\n",
              "Signif. codes:  0 ‘***’ 0.001 ‘**’ 0.01 ‘*’ 0.05 ‘.’ 0.1 ‘ ’ 1\n"
            ]
          },
          "metadata": {
            "tags": []
          }
        },
        {
          "output_type": "display_data",
          "data": {
            "text/plain": [
              "[1] 0.784"
            ],
            "text/latex": "0.784",
            "text/markdown": "0.784",
            "text/html": [
              "0.784"
            ]
          },
          "metadata": {
            "tags": []
          }
        }
      ]
    },
    {
      "cell_type": "code",
      "metadata": {
        "colab": {
          "base_uri": "https://localhost:8080/",
          "height": 255
        },
        "id": "txIofdC1R5OJ",
        "outputId": "839ee1aa-0143-48c6-96ee-85b343860c88"
      },
      "source": [
        "# Estimation 4 - Realized EGARCH (Best BIC:  lag= 3)\n",
        "model.realegarch.4 <- lm(realegarch ~  lag.realegarch.1 + lag.realegarch.2 + lag.realegarch.3\n",
        "                                     + lag.epu + lag.gepu + lag.vix, \n",
        "                          data = ols.realegarch)\n",
        "\n",
        "round(coeftest(model.realegarch.4, NeweyWest(model.realegarch.4, \n",
        "                                              lag = bwNeweyWest(model.realegarch.4), \n",
        "                                              prewhite = F)), 3)\n",
        "\n",
        "round(summary(model.realegarch.4)$adj.r.squared, 3)"
      ],
      "id": "txIofdC1R5OJ",
      "execution_count": 325,
      "outputs": [
        {
          "output_type": "display_data",
          "data": {
            "text/plain": [
              "\n",
              "t test of coefficients:\n",
              "\n",
              "                 Estimate Std. Error t value Pr(>|t|)    \n",
              "(Intercept)         0.134      0.063   2.104    0.036 *  \n",
              "lag.realegarch.1    0.886      0.077  11.568   <2e-16 ***\n",
              "lag.realegarch.2   -0.178      0.106  -1.684    0.094 .  \n",
              "lag.realegarch.3    0.047      0.067   0.700    0.484    \n",
              "lag.epu             0.000      0.000   0.311    0.756    \n",
              "lag.gepu           -0.001      0.001  -1.711    0.088 .  \n",
              "lag.vix             0.014      0.004   3.273    0.001 ***\n",
              "---\n",
              "Signif. codes:  0 ‘***’ 0.001 ‘**’ 0.01 ‘*’ 0.05 ‘.’ 0.1 ‘ ’ 1\n"
            ]
          },
          "metadata": {
            "tags": []
          }
        },
        {
          "output_type": "display_data",
          "data": {
            "text/plain": [
              "[1] 0.795"
            ],
            "text/latex": "0.795",
            "text/markdown": "0.795",
            "text/html": [
              "0.795"
            ]
          },
          "metadata": {
            "tags": []
          }
        }
      ]
    },
    {
      "cell_type": "code",
      "metadata": {
        "colab": {
          "base_uri": "https://localhost:8080/",
          "height": 255
        },
        "id": "HpsZ5qyNR6JL",
        "outputId": "75786629-40d0-4b0a-b896-45f02d874142"
      },
      "source": [
        "# Estimation 5 - Realized EGARCH (Best BIC:  lag= 3)\n",
        "model.realegarch.5 <- lm(realegarch ~  lag.realegarch.1 + lag.realegarch.2 + lag.realegarch.3\n",
        "                                     + lag.epu + lag.gepu + lag.vix, \n",
        "                          data = ols.realegarch)\n",
        "\n",
        "round(coeftest(model.realegarch.5, NeweyWest(model.realegarch.5, \n",
        "                                              lag = bwNeweyWest(model.realegarch.5), \n",
        "                                              prewhite = F)), 3)\n",
        "\n",
        "round(summary(model.realegarch.5)$adj.r.squared, 3)"
      ],
      "id": "HpsZ5qyNR6JL",
      "execution_count": 326,
      "outputs": [
        {
          "output_type": "display_data",
          "data": {
            "text/plain": [
              "\n",
              "t test of coefficients:\n",
              "\n",
              "                 Estimate Std. Error t value Pr(>|t|)    \n",
              "(Intercept)         0.134      0.063   2.104    0.036 *  \n",
              "lag.realegarch.1    0.886      0.077  11.568   <2e-16 ***\n",
              "lag.realegarch.2   -0.178      0.106  -1.684    0.094 .  \n",
              "lag.realegarch.3    0.047      0.067   0.700    0.484    \n",
              "lag.epu             0.000      0.000   0.311    0.756    \n",
              "lag.gepu           -0.001      0.001  -1.711    0.088 .  \n",
              "lag.vix             0.014      0.004   3.273    0.001 ***\n",
              "---\n",
              "Signif. codes:  0 ‘***’ 0.001 ‘**’ 0.01 ‘*’ 0.05 ‘.’ 0.1 ‘ ’ 1\n"
            ]
          },
          "metadata": {
            "tags": []
          }
        },
        {
          "output_type": "display_data",
          "data": {
            "text/plain": [
              "[1] 0.795"
            ],
            "text/latex": "0.795",
            "text/markdown": "0.795",
            "text/html": [
              "0.795"
            ]
          },
          "metadata": {
            "tags": []
          }
        }
      ]
    },
    {
      "cell_type": "markdown",
      "metadata": {
        "id": "zegAfcHHFdbK"
      },
      "source": [
        "**Realized GJR-GARCH**"
      ],
      "id": "zegAfcHHFdbK"
    },
    {
      "cell_type": "code",
      "metadata": {
        "colab": {
          "base_uri": "https://localhost:8080/",
          "height": 204
        },
        "id": "g0qHrweAGDrp",
        "outputId": "885ed4b9-1742-47a6-9c17-4f21a6bd83ed"
      },
      "source": [
        "# Estimation 1 - Realized GJR-GARCH (Best BIC:  lag= 3)\n",
        "realgjrgarch <- ts(log(HSCE.df.month$HSCE.VolRealGJRGARCH))\n",
        "lag.realgjrgarch.1 <- ts(Lag(log(HSCE.df.month$HSCE.VolRealGJRGARCH), 1))\n",
        "lag.realgjrgarch.2 <- ts(Lag(log(HSCE.df.month$HSCE.VolRealGJRGARCH), 2))\n",
        "lag.realgjrgarch.3 <- ts(Lag(log(HSCE.df.month$HSCE.VolRealGJRGARCH), 3))\n",
        "\n",
        "ols.realgjrgarch <- cbind(realgjrgarch, lag.realgjrgarch.1, lag.realgjrgarch.2, lag.realgjrgarch.3, \n",
        "                          lag.epu, lag.gepu, lag.vix)\n",
        "\n",
        "model.realgjrgarch.1 <- lm(realgjrgarch ~  lag.realgjrgarch.1 + lag.realgjrgarch.2 + lag.realgjrgarch.3, \n",
        "                            data = ols.realgjrgarch)\n",
        "\n",
        "round(coeftest(model.realgjrgarch.1, NeweyWest(model.realgjrgarch.1, \n",
        "                                              lag = bwNeweyWest(model.realgjrgarch.1), \n",
        "                                              prewhite = F)), 3)\n",
        "\n",
        "round(summary(model.realgjrgarch.1)$adj.r.squared, 3)"
      ],
      "id": "g0qHrweAGDrp",
      "execution_count": 327,
      "outputs": [
        {
          "output_type": "display_data",
          "data": {
            "text/plain": [
              "\n",
              "t test of coefficients:\n",
              "\n",
              "                   Estimate Std. Error t value Pr(>|t|)    \n",
              "(Intercept)           0.117      0.031   3.751   <2e-16 ***\n",
              "lag.realgjrgarch.1    0.995      0.083  11.988   <2e-16 ***\n",
              "lag.realgjrgarch.2   -0.209      0.117  -1.792    0.074 .  \n",
              "lag.realgjrgarch.3    0.086      0.067   1.273    0.204    \n",
              "---\n",
              "Signif. codes:  0 ‘***’ 0.001 ‘**’ 0.01 ‘*’ 0.05 ‘.’ 0.1 ‘ ’ 1\n"
            ]
          },
          "metadata": {
            "tags": []
          }
        },
        {
          "output_type": "display_data",
          "data": {
            "text/plain": [
              "[1] 0.773"
            ],
            "text/latex": "0.773",
            "text/markdown": "0.773",
            "text/html": [
              "0.773"
            ]
          },
          "metadata": {
            "tags": []
          }
        }
      ]
    },
    {
      "cell_type": "code",
      "metadata": {
        "colab": {
          "base_uri": "https://localhost:8080/",
          "height": 221
        },
        "id": "upoZ-ZM9GbFJ",
        "outputId": "a9577a04-327f-4e24-d048-9d947647d68a"
      },
      "source": [
        "# Estimation 2 - Realized GJR-GARCH (Best BIC:  lag= 3)\n",
        "model.realgjrgarch.2 <- lm(realgjrgarch ~  lag.realgjrgarch.1 + lag.realgjrgarch.2 + lag.realgjrgarch.3\n",
        "                                         + lag.epu, \n",
        "                          data = ols.realgjrgarch)\n",
        "\n",
        "round(coeftest(model.realgjrgarch.2, NeweyWest(model.realgjrgarch.2, \n",
        "                                              lag = bwNeweyWest(model.realgjrgarch.2), \n",
        "                                              prewhite = F)), 3)\n",
        "\n",
        "round(summary(model.realgjrgarch.2)$adj.r.squared, 3)"
      ],
      "id": "upoZ-ZM9GbFJ",
      "execution_count": 328,
      "outputs": [
        {
          "output_type": "display_data",
          "data": {
            "text/plain": [
              "\n",
              "t test of coefficients:\n",
              "\n",
              "                   Estimate Std. Error t value Pr(>|t|)    \n",
              "(Intercept)           0.183      0.044   4.184   <2e-16 ***\n",
              "lag.realgjrgarch.1    0.983      0.085  11.505   <2e-16 ***\n",
              "lag.realgjrgarch.2   -0.203      0.111  -1.831    0.068 .  \n",
              "lag.realgjrgarch.3    0.074      0.066   1.118    0.265    \n",
              "lag.epu               0.000      0.000  -2.577    0.011 *  \n",
              "---\n",
              "Signif. codes:  0 ‘***’ 0.001 ‘**’ 0.01 ‘*’ 0.05 ‘.’ 0.1 ‘ ’ 1\n"
            ]
          },
          "metadata": {
            "tags": []
          }
        },
        {
          "output_type": "display_data",
          "data": {
            "text/plain": [
              "[1] 0.777"
            ],
            "text/latex": "0.777",
            "text/markdown": "0.777",
            "text/html": [
              "0.777"
            ]
          },
          "metadata": {
            "tags": []
          }
        }
      ]
    },
    {
      "cell_type": "code",
      "metadata": {
        "colab": {
          "base_uri": "https://localhost:8080/",
          "height": 221
        },
        "id": "ZNfAR-ogSdfR",
        "outputId": "db0433d5-f2f4-4879-b2a1-82aa36378cc4"
      },
      "source": [
        "# Estimation 3 - Realized GJR-GARCH (Best BIC:  lag= 3)\n",
        "model.realgjrgarch.3 <- lm(realgjrgarch ~  lag.realgjrgarch.1 + lag.realgjrgarch.2 + lag.realgjrgarch.3\n",
        "                                         + lag.vix, \n",
        "                          data = ols.realgjrgarch)\n",
        "\n",
        "round(coeftest(model.realgjrgarch.3, NeweyWest(model.realgjrgarch.3, \n",
        "                                              lag = bwNeweyWest(model.realgjrgarch.3), \n",
        "                                              prewhite = F)), 3)\n",
        "\n",
        "round(summary(model.realgjrgarch.3)$adj.r.squared, 3)"
      ],
      "id": "ZNfAR-ogSdfR",
      "execution_count": 329,
      "outputs": [
        {
          "output_type": "display_data",
          "data": {
            "text/plain": [
              "\n",
              "t test of coefficients:\n",
              "\n",
              "                   Estimate Std. Error t value Pr(>|t|)    \n",
              "(Intercept)           0.004      0.049   0.083    0.934    \n",
              "lag.realgjrgarch.1    0.936      0.075  12.473   <2e-16 ***\n",
              "lag.realgjrgarch.2   -0.204      0.111  -1.831    0.068 .  \n",
              "lag.realgjrgarch.3    0.081      0.067   1.204    0.230    \n",
              "lag.vix               0.008      0.003   2.639    0.009 ** \n",
              "---\n",
              "Signif. codes:  0 ‘***’ 0.001 ‘**’ 0.01 ‘*’ 0.05 ‘.’ 0.1 ‘ ’ 1\n"
            ]
          },
          "metadata": {
            "tags": []
          }
        },
        {
          "output_type": "display_data",
          "data": {
            "text/plain": [
              "[1] 0.779"
            ],
            "text/latex": "0.779",
            "text/markdown": "0.779",
            "text/html": [
              "0.779"
            ]
          },
          "metadata": {
            "tags": []
          }
        }
      ]
    },
    {
      "cell_type": "code",
      "metadata": {
        "colab": {
          "base_uri": "https://localhost:8080/",
          "height": 238
        },
        "id": "nAvk7lOxSfk7",
        "outputId": "34d9abc0-bea0-4908-e0bb-4eed6a50b8ec"
      },
      "source": [
        "# Estimation 4 - Realized GJR-GARCH (Best BIC:  lag= 3)\n",
        "model.realgjrgarch.4 <- lm(realgjrgarch ~  lag.realgjrgarch.1 + lag.realgjrgarch.2 + lag.realgjrgarch.3\n",
        "                                         + lag.epu + lag.vix, \n",
        "                          data = ols.realgjrgarch)\n",
        "\n",
        "round(coeftest(model.realgjrgarch.4, NeweyWest(model.realgjrgarch.4, \n",
        "                                              lag = bwNeweyWest(model.realgjrgarch.4), \n",
        "                                              prewhite = F)), 3)\n",
        "\n",
        "round(summary(model.realgjrgarch.4)$adj.r.squared, 3)"
      ],
      "id": "nAvk7lOxSfk7",
      "execution_count": 330,
      "outputs": [
        {
          "output_type": "display_data",
          "data": {
            "text/plain": [
              "\n",
              "t test of coefficients:\n",
              "\n",
              "                   Estimate Std. Error t value Pr(>|t|)    \n",
              "(Intercept)           0.063      0.057   1.103    0.271    \n",
              "lag.realgjrgarch.1    0.901      0.076  11.844   <2e-16 ***\n",
              "lag.realgjrgarch.2   -0.194      0.103  -1.879    0.061 .  \n",
              "lag.realgjrgarch.3    0.061      0.066   0.937    0.350    \n",
              "lag.epu               0.000      0.000  -3.783   <2e-16 ***\n",
              "lag.vix               0.011      0.003   3.303    0.001 ***\n",
              "---\n",
              "Signif. codes:  0 ‘***’ 0.001 ‘**’ 0.01 ‘*’ 0.05 ‘.’ 0.1 ‘ ’ 1\n"
            ]
          },
          "metadata": {
            "tags": []
          }
        },
        {
          "output_type": "display_data",
          "data": {
            "text/plain": [
              "[1] 0.787"
            ],
            "text/latex": "0.787",
            "text/markdown": "0.787",
            "text/html": [
              "0.787"
            ]
          },
          "metadata": {
            "tags": []
          }
        }
      ]
    },
    {
      "cell_type": "code",
      "metadata": {
        "colab": {
          "base_uri": "https://localhost:8080/",
          "height": 255
        },
        "id": "q8aAhKYVSe07",
        "outputId": "70104629-0b5b-45a8-80d7-71ec7e396348"
      },
      "source": [
        "# Estimation 5 - Realized GJR-GARCH (Best BIC:  lag= 3)\n",
        "model.realgjrgarch.5 <- lm(realgjrgarch ~  lag.realgjrgarch.1 + lag.realgjrgarch.2 + lag.realgjrgarch.3\n",
        "                                         + lag.epu + lag.gepu + lag.vix, \n",
        "                          data = ols.realgjrgarch)\n",
        "\n",
        "round(coeftest(model.realgjrgarch.5, NeweyWest(model.realgjrgarch.5, \n",
        "                                              lag = bwNeweyWest(model.realgjrgarch.5), \n",
        "                                              prewhite = F)), 3)\n",
        "\n",
        "round(summary(model.realgjrgarch.5)$adj.r.squared, 3)"
      ],
      "id": "q8aAhKYVSe07",
      "execution_count": 331,
      "outputs": [
        {
          "output_type": "display_data",
          "data": {
            "text/plain": [
              "\n",
              "t test of coefficients:\n",
              "\n",
              "                   Estimate Std. Error t value Pr(>|t|)    \n",
              "(Intercept)           0.132      0.063   2.111    0.036 *  \n",
              "lag.realgjrgarch.1    0.891      0.079  11.289   <2e-16 ***\n",
              "lag.realgjrgarch.2   -0.189      0.109  -1.733    0.084 .  \n",
              "lag.realgjrgarch.3    0.051      0.068   0.756    0.451    \n",
              "lag.epu               0.000      0.000   0.388    0.698    \n",
              "lag.gepu             -0.002      0.001  -1.729    0.085 .  \n",
              "lag.vix               0.014      0.004   3.296    0.001 ***\n",
              "---\n",
              "Signif. codes:  0 ‘***’ 0.001 ‘**’ 0.01 ‘*’ 0.05 ‘.’ 0.1 ‘ ’ 1\n"
            ]
          },
          "metadata": {
            "tags": []
          }
        },
        {
          "output_type": "display_data",
          "data": {
            "text/plain": [
              "[1] 0.789"
            ],
            "text/latex": "0.789",
            "text/markdown": "0.789",
            "text/html": [
              "0.789"
            ]
          },
          "metadata": {
            "tags": []
          }
        }
      ]
    },
    {
      "cell_type": "markdown",
      "metadata": {
        "id": "Cak8CR8-Fft3"
      },
      "source": [
        "**MS Linear GARCH**"
      ],
      "id": "Cak8CR8-Fft3"
    },
    {
      "cell_type": "code",
      "metadata": {
        "colab": {
          "base_uri": "https://localhost:8080/",
          "height": 170
        },
        "id": "fG33RRq4GEcL",
        "outputId": "a12ccf55-c8cf-4e23-c6e8-d7e40b0c99fb"
      },
      "source": [
        "# Estimation 1 - MS Linear GARCH (Best BIC:  lag= 1)\n",
        "msgarch <- ts(log(HSCE.df.month$HSCE.VolMSGARCH))\n",
        "lag.msgarch.1 <- ts(Lag(log(HSCE.df.month$HSCE.VolMSGARCH), 1))\n",
        "\n",
        "ols.msgarch <- cbind(msgarch, lag.msgarch.1, \n",
        "                    lag.epu, lag.gepu, lag.vix)\n",
        "\n",
        "model.msgarch.1 <- lm(msgarch ~  lag.msgarch.1, \n",
        "                      data = ols.msgarch)\n",
        "\n",
        "round(coeftest(model.msgarch.1, NeweyWest(model.msgarch.1, \n",
        "                                          lag = bwNeweyWest(model.msgarch.1), \n",
        "                                          prewhite = F)), 3)\n",
        "\n",
        "round(summary(model.msgarch.1)$adj.r.squared, 3)"
      ],
      "id": "fG33RRq4GEcL",
      "execution_count": 332,
      "outputs": [
        {
          "output_type": "display_data",
          "data": {
            "text/plain": [
              "\n",
              "t test of coefficients:\n",
              "\n",
              "              Estimate Std. Error t value  Pr(>|t|)    \n",
              "(Intercept)      0.058      0.015   3.977 < 2.2e-16 ***\n",
              "lag.msgarch.1    0.869      0.030  28.935 < 2.2e-16 ***\n",
              "---\n",
              "Signif. codes:  0 ‘***’ 0.001 ‘**’ 0.01 ‘*’ 0.05 ‘.’ 0.1 ‘ ’ 1\n"
            ]
          },
          "metadata": {
            "tags": []
          }
        },
        {
          "output_type": "display_data",
          "data": {
            "text/plain": [
              "[1] 0.764"
            ],
            "text/latex": "0.764",
            "text/markdown": "0.764",
            "text/html": [
              "0.764"
            ]
          },
          "metadata": {
            "tags": []
          }
        }
      ]
    },
    {
      "cell_type": "code",
      "metadata": {
        "colab": {
          "base_uri": "https://localhost:8080/",
          "height": 187
        },
        "id": "y8QhY7EwGcFZ",
        "outputId": "22ac35e2-563f-4775-c944-7b7ac16bd231"
      },
      "source": [
        "# Estimation 2 - MS Linear GARCH (Best BIC:  lag= 1)\n",
        "model.msgarch.2 <- lm(msgarch ~  lag.msgarch.1 + lag.epu, \n",
        "                      data = ols.msgarch)\n",
        "\n",
        "round(coeftest(model.msgarch.2, NeweyWest(model.msgarch.2, \n",
        "                                          lag = bwNeweyWest(model.msgarch.2), \n",
        "                                          prewhite = F)), 3)\n",
        "\n",
        "round(summary(model.msgarch.2)$adj.r.squared, 3)"
      ],
      "id": "y8QhY7EwGcFZ",
      "execution_count": 333,
      "outputs": [
        {
          "output_type": "display_data",
          "data": {
            "text/plain": [
              "\n",
              "t test of coefficients:\n",
              "\n",
              "              Estimate Std. Error t value Pr(>|t|)    \n",
              "(Intercept)      0.090      0.022   4.124   <2e-16 ***\n",
              "lag.msgarch.1    0.850      0.034  25.227   <2e-16 ***\n",
              "lag.epu          0.000      0.000  -2.610     0.01 ** \n",
              "---\n",
              "Signif. codes:  0 ‘***’ 0.001 ‘**’ 0.01 ‘*’ 0.05 ‘.’ 0.1 ‘ ’ 1\n"
            ]
          },
          "metadata": {
            "tags": []
          }
        },
        {
          "output_type": "display_data",
          "data": {
            "text/plain": [
              "[1] 0.768"
            ],
            "text/latex": "0.768",
            "text/markdown": "0.768",
            "text/html": [
              "0.768"
            ]
          },
          "metadata": {
            "tags": []
          }
        }
      ]
    },
    {
      "cell_type": "code",
      "metadata": {
        "colab": {
          "base_uri": "https://localhost:8080/",
          "height": 187
        },
        "id": "qV-P5RleTO03",
        "outputId": "c8afcd7b-bd4d-424e-e95d-ff2afcff9740"
      },
      "source": [
        "# Estimation 3 - MS Linear GARCH (Best BIC:  lag= 1)\n",
        "model.msgarch.3 <- lm(msgarch ~  lag.msgarch.1 + lag.vix, \n",
        "                      data = ols.msgarch)\n",
        "\n",
        "round(coeftest(model.msgarch.3, NeweyWest(model.msgarch.3, \n",
        "                                          lag = bwNeweyWest(model.msgarch.3), \n",
        "                                          prewhite = F)), 3)\n",
        "\n",
        "round(summary(model.msgarch.3)$adj.r.squared, 3)"
      ],
      "id": "qV-P5RleTO03",
      "execution_count": 334,
      "outputs": [
        {
          "output_type": "display_data",
          "data": {
            "text/plain": [
              "\n",
              "t test of coefficients:\n",
              "\n",
              "              Estimate Std. Error t value Pr(>|t|)    \n",
              "(Intercept)      0.013      0.026   0.486    0.627    \n",
              "lag.msgarch.1    0.818      0.035  23.399   <2e-16 ***\n",
              "lag.vix          0.003      0.002   2.215    0.028 *  \n",
              "---\n",
              "Signif. codes:  0 ‘***’ 0.001 ‘**’ 0.01 ‘*’ 0.05 ‘.’ 0.1 ‘ ’ 1\n"
            ]
          },
          "metadata": {
            "tags": []
          }
        },
        {
          "output_type": "display_data",
          "data": {
            "text/plain": [
              "[1] 0.769"
            ],
            "text/latex": "0.769",
            "text/markdown": "0.769",
            "text/html": [
              "0.769"
            ]
          },
          "metadata": {
            "tags": []
          }
        }
      ]
    },
    {
      "cell_type": "code",
      "metadata": {
        "colab": {
          "base_uri": "https://localhost:8080/",
          "height": 204
        },
        "id": "FcjDEzYZTObB",
        "outputId": "020f3e88-93d1-4858-c2ef-0641ac1a2c66"
      },
      "source": [
        "# Estimation 4 - MS Linear GARCH (Best BIC:  lag= 1)\n",
        "model.msgarch.4 <- lm(msgarch ~  lag.msgarch.1 + lag.epu + lag.vix, \n",
        "                      data = ols.msgarch)\n",
        "\n",
        "round(coeftest(model.msgarch.4, NeweyWest(model.msgarch.4, \n",
        "                                          lag = bwNeweyWest(model.msgarch.4), \n",
        "                                          prewhite = F)), 3)\n",
        "\n",
        "round(summary(model.msgarch.4)$adj.r.squared, 3)"
      ],
      "id": "FcjDEzYZTObB",
      "execution_count": 335,
      "outputs": [
        {
          "output_type": "display_data",
          "data": {
            "text/plain": [
              "\n",
              "t test of coefficients:\n",
              "\n",
              "              Estimate Std. Error t value Pr(>|t|)    \n",
              "(Intercept)      0.041      0.028   1.445    0.150    \n",
              "lag.msgarch.1    0.770      0.040  19.148   <2e-16 ***\n",
              "lag.epu          0.000      0.000  -3.769   <2e-16 ***\n",
              "lag.vix          0.005      0.002   2.982    0.003 ** \n",
              "---\n",
              "Signif. codes:  0 ‘***’ 0.001 ‘**’ 0.01 ‘*’ 0.05 ‘.’ 0.1 ‘ ’ 1\n"
            ]
          },
          "metadata": {
            "tags": []
          }
        },
        {
          "output_type": "display_data",
          "data": {
            "text/plain": [
              "[1] 0.776"
            ],
            "text/latex": "0.776",
            "text/markdown": "0.776",
            "text/html": [
              "0.776"
            ]
          },
          "metadata": {
            "tags": []
          }
        }
      ]
    },
    {
      "cell_type": "code",
      "metadata": {
        "colab": {
          "base_uri": "https://localhost:8080/",
          "height": 221
        },
        "id": "ImV_Ip4BTNpK",
        "outputId": "38defb3a-de35-4de5-f19d-869099c9ac10"
      },
      "source": [
        "# Estimation 5 - MS Linear GARCH (Best BIC:  lag= 1)\n",
        "model.msgarch.5 <- lm(msgarch ~  lag.msgarch.1 + lag.epu + lag.gepu + lag.vix, \n",
        "                      data = ols.msgarch)\n",
        "\n",
        "round(coeftest(model.msgarch.5, NeweyWest(model.msgarch.5, \n",
        "                                          lag = bwNeweyWest(model.msgarch.5), \n",
        "                                          prewhite = F)), 3)\n",
        "\n",
        "round(summary(model.msgarch.5)$adj.r.squared, 3)"
      ],
      "id": "ImV_Ip4BTNpK",
      "execution_count": 336,
      "outputs": [
        {
          "output_type": "display_data",
          "data": {
            "text/plain": [
              "\n",
              "t test of coefficients:\n",
              "\n",
              "              Estimate Std. Error t value Pr(>|t|)    \n",
              "(Intercept)      0.072      0.031   2.281    0.023 *  \n",
              "lag.msgarch.1    0.754      0.045  16.790   <2e-16 ***\n",
              "lag.epu          0.000      0.000   0.304    0.761    \n",
              "lag.gepu        -0.001      0.000  -1.585    0.114    \n",
              "lag.vix          0.006      0.002   3.102    0.002 ** \n",
              "---\n",
              "Signif. codes:  0 ‘***’ 0.001 ‘**’ 0.01 ‘*’ 0.05 ‘.’ 0.1 ‘ ’ 1\n"
            ]
          },
          "metadata": {
            "tags": []
          }
        },
        {
          "output_type": "display_data",
          "data": {
            "text/plain": [
              "[1] 0.778"
            ],
            "text/latex": "0.778",
            "text/markdown": "0.778",
            "text/html": [
              "0.778"
            ]
          },
          "metadata": {
            "tags": []
          }
        }
      ]
    },
    {
      "cell_type": "markdown",
      "metadata": {
        "id": "VuhTae9lFjX9"
      },
      "source": [
        "**MS EGARCH**"
      ],
      "id": "VuhTae9lFjX9"
    },
    {
      "cell_type": "code",
      "metadata": {
        "colab": {
          "base_uri": "https://localhost:8080/",
          "height": 170
        },
        "id": "GVFR95aSGFnm",
        "outputId": "9e95e2a2-0cad-4c85-a45b-e6355be93635"
      },
      "source": [
        "# Estimation 1 - MS EGARCH (Best BIC:  lag= 1)\n",
        "msegarch <- ts(log(HSCE.df.month$HSCE.VolMSEGARCH ))\n",
        "lag.msegarch.1 <- ts(Lag(log(HSCE.df.month$HSCE.VolMSEGARCH ), 1))\n",
        "\n",
        "ols.msegarch <- cbind(msegarch, lag.msegarch.1, \n",
        "                      lag.epu, lag.gepu, lag.vix)\n",
        "\n",
        "model.msegarch.1 <- lm(msegarch ~  lag.msegarch.1, \n",
        "                      data = ols.msegarch)\n",
        "\n",
        "round(coeftest(model.msegarch.1, NeweyWest(model.msegarch.1, \n",
        "                                          lag = bwNeweyWest(model.msegarch.1), \n",
        "                                          prewhite = F)), 3)\n",
        "\n",
        "round(summary(model.msegarch.1)$adj.r.squared, 3)"
      ],
      "id": "GVFR95aSGFnm",
      "execution_count": 337,
      "outputs": [
        {
          "output_type": "display_data",
          "data": {
            "text/plain": [
              "\n",
              "t test of coefficients:\n",
              "\n",
              "               Estimate Std. Error t value  Pr(>|t|)    \n",
              "(Intercept)       0.058      0.015   3.782 < 2.2e-16 ***\n",
              "lag.msegarch.1    0.870      0.029  29.709 < 2.2e-16 ***\n",
              "---\n",
              "Signif. codes:  0 ‘***’ 0.001 ‘**’ 0.01 ‘*’ 0.05 ‘.’ 0.1 ‘ ’ 1\n"
            ]
          },
          "metadata": {
            "tags": []
          }
        },
        {
          "output_type": "display_data",
          "data": {
            "text/plain": [
              "[1] 0.767"
            ],
            "text/latex": "0.767",
            "text/markdown": "0.767",
            "text/html": [
              "0.767"
            ]
          },
          "metadata": {
            "tags": []
          }
        }
      ]
    },
    {
      "cell_type": "code",
      "metadata": {
        "colab": {
          "base_uri": "https://localhost:8080/",
          "height": 187
        },
        "id": "u_nw2tqyGcyh",
        "outputId": "ecdd5f8d-9beb-45d4-e723-8a0be361e690"
      },
      "source": [
        "# Estimation 2 - MS EGARCH (Best BIC:  lag= 1)\n",
        "model.msegarch.2 <- lm(msegarch ~  lag.msegarch.1 + lag.epu, \n",
        "                      data = ols.msegarch)\n",
        "\n",
        "round(coeftest(model.msegarch.2, NeweyWest(model.msegarch.2, \n",
        "                                          lag = bwNeweyWest(model.msegarch.2), \n",
        "                                          prewhite = F)), 3)\n",
        "\n",
        "round(summary(model.msegarch.2)$adj.r.squared, 3)"
      ],
      "id": "u_nw2tqyGcyh",
      "execution_count": 338,
      "outputs": [
        {
          "output_type": "display_data",
          "data": {
            "text/plain": [
              "\n",
              "t test of coefficients:\n",
              "\n",
              "               Estimate Std. Error t value Pr(>|t|)    \n",
              "(Intercept)       0.093      0.022   4.309   <2e-16 ***\n",
              "lag.msegarch.1    0.851      0.032  26.920   <2e-16 ***\n",
              "lag.epu           0.000      0.000  -2.607     0.01 ** \n",
              "---\n",
              "Signif. codes:  0 ‘***’ 0.001 ‘**’ 0.01 ‘*’ 0.05 ‘.’ 0.1 ‘ ’ 1\n"
            ]
          },
          "metadata": {
            "tags": []
          }
        },
        {
          "output_type": "display_data",
          "data": {
            "text/plain": [
              "[1] 0.771"
            ],
            "text/latex": "0.771",
            "text/markdown": "0.771",
            "text/html": [
              "0.771"
            ]
          },
          "metadata": {
            "tags": []
          }
        }
      ]
    },
    {
      "cell_type": "code",
      "metadata": {
        "colab": {
          "base_uri": "https://localhost:8080/",
          "height": 187
        },
        "id": "RB00v9ZcTvla",
        "outputId": "c4daf671-8394-49f2-986c-78ac66651e2d"
      },
      "source": [
        "# Estimation 3 - MS EGARCH (Best BIC:  lag= 1)\n",
        "model.msegarch.3 <- lm(msegarch ~  lag.msegarch.1 + lag.vix, \n",
        "                      data = ols.msegarch)\n",
        "\n",
        "round(coeftest(model.msegarch.3, NeweyWest(model.msegarch.3, \n",
        "                                          lag = bwNeweyWest(model.msegarch.3), \n",
        "                                          prewhite = F)), 3)\n",
        "\n",
        "round(summary(model.msegarch.3)$adj.r.squared, 3)"
      ],
      "id": "RB00v9ZcTvla",
      "execution_count": 339,
      "outputs": [
        {
          "output_type": "display_data",
          "data": {
            "text/plain": [
              "\n",
              "t test of coefficients:\n",
              "\n",
              "               Estimate Std. Error t value Pr(>|t|)    \n",
              "(Intercept)       0.017      0.026   0.648    0.518    \n",
              "lag.msegarch.1    0.825      0.037  22.429   <2e-16 ***\n",
              "lag.vix           0.003      0.002   1.920    0.056 .  \n",
              "---\n",
              "Signif. codes:  0 ‘***’ 0.001 ‘**’ 0.01 ‘*’ 0.05 ‘.’ 0.1 ‘ ’ 1\n"
            ]
          },
          "metadata": {
            "tags": []
          }
        },
        {
          "output_type": "display_data",
          "data": {
            "text/plain": [
              "[1] 0.77"
            ],
            "text/latex": "0.77",
            "text/markdown": "0.77",
            "text/html": [
              "0.77"
            ]
          },
          "metadata": {
            "tags": []
          }
        }
      ]
    },
    {
      "cell_type": "code",
      "metadata": {
        "colab": {
          "base_uri": "https://localhost:8080/",
          "height": 204
        },
        "id": "YWwcKD55TvQs",
        "outputId": "0ed1c71a-c8b4-46d9-dcdf-74a106ab6461"
      },
      "source": [
        "# Estimation 4 - MS EGARCH (Best BIC:  lag= 1)\n",
        "model.msegarch.4 <- lm(msegarch ~  lag.msegarch.1 + lag.epu + lag.vix, \n",
        "                      data = ols.msegarch)\n",
        "\n",
        "round(coeftest(model.msegarch.4, NeweyWest(model.msegarch.4, \n",
        "                                          lag = bwNeweyWest(model.msegarch.4), \n",
        "                                          prewhite = F)), 3)\n",
        "\n",
        "round(summary(model.msegarch.4)$adj.r.squared, 3)"
      ],
      "id": "YWwcKD55TvQs",
      "execution_count": 340,
      "outputs": [
        {
          "output_type": "display_data",
          "data": {
            "text/plain": [
              "\n",
              "t test of coefficients:\n",
              "\n",
              "               Estimate Std. Error t value Pr(>|t|)    \n",
              "(Intercept)       0.045      0.027   1.655    0.099 .  \n",
              "lag.msegarch.1    0.780      0.043  18.344   <2e-16 ***\n",
              "lag.epu           0.000      0.000  -3.495    0.001 ***\n",
              "lag.vix           0.005      0.002   2.587    0.010 ** \n",
              "---\n",
              "Signif. codes:  0 ‘***’ 0.001 ‘**’ 0.01 ‘*’ 0.05 ‘.’ 0.1 ‘ ’ 1\n"
            ]
          },
          "metadata": {
            "tags": []
          }
        },
        {
          "output_type": "display_data",
          "data": {
            "text/plain": [
              "[1] 0.778"
            ],
            "text/latex": "0.778",
            "text/markdown": "0.778",
            "text/html": [
              "0.778"
            ]
          },
          "metadata": {
            "tags": []
          }
        }
      ]
    },
    {
      "cell_type": "code",
      "metadata": {
        "colab": {
          "base_uri": "https://localhost:8080/",
          "height": 221
        },
        "id": "NA_Ttf5wTuoa",
        "outputId": "b4efaad0-6c05-40fc-cc9b-a87f75d231ec"
      },
      "source": [
        "# Estimation 5 - MS EGARCH (Best BIC:  lag= 1)\n",
        "model.msegarch.5 <- lm(msegarch ~  lag.msegarch.1 + lag.epu + lag.gepu + lag.vix, \n",
        "                      data = ols.msegarch)\n",
        "\n",
        "round(coeftest(model.msegarch.5, NeweyWest(model.msegarch.5, \n",
        "                                          lag = bwNeweyWest(model.msegarch.5), \n",
        "                                          prewhite = F)), 3)\n",
        "\n",
        "round(summary(model.msegarch.5)$adj.r.squared, 3)"
      ],
      "id": "NA_Ttf5wTuoa",
      "execution_count": 341,
      "outputs": [
        {
          "output_type": "display_data",
          "data": {
            "text/plain": [
              "\n",
              "t test of coefficients:\n",
              "\n",
              "               Estimate Std. Error t value Pr(>|t|)    \n",
              "(Intercept)       0.079      0.033   2.378    0.018 *  \n",
              "lag.msegarch.1    0.764      0.043  17.575   <2e-16 ***\n",
              "lag.epu           0.000      0.000   0.426    0.670    \n",
              "lag.gepu         -0.001      0.000  -1.720    0.087 .  \n",
              "lag.vix           0.006      0.002   2.879    0.004 ** \n",
              "---\n",
              "Signif. codes:  0 ‘***’ 0.001 ‘**’ 0.01 ‘*’ 0.05 ‘.’ 0.1 ‘ ’ 1\n"
            ]
          },
          "metadata": {
            "tags": []
          }
        },
        {
          "output_type": "display_data",
          "data": {
            "text/plain": [
              "[1] 0.78"
            ],
            "text/latex": "0.78",
            "text/markdown": "0.78",
            "text/html": [
              "0.78"
            ]
          },
          "metadata": {
            "tags": []
          }
        }
      ]
    },
    {
      "cell_type": "markdown",
      "metadata": {
        "id": "T838p-YpFncL"
      },
      "source": [
        "**MS GJR-GARCH**"
      ],
      "id": "T838p-YpFncL"
    },
    {
      "cell_type": "code",
      "metadata": {
        "colab": {
          "base_uri": "https://localhost:8080/",
          "height": 170
        },
        "id": "PhMbYM2SGGj5",
        "outputId": "85ac1231-5943-4a0c-8152-48d70191f368"
      },
      "source": [
        "# Estimation 1 - MS GJR-GARCH (Best BIC:  lag= 1)\n",
        "msgjrgarch <- ts(log(HSCE.df.month$HSCE.VolMSGJRGARCH))\n",
        "lag.msgjrgarch.1 <- ts(Lag(log(HSCE.df.month$HSCE.VolMSGJRGARCH), 1))\n",
        "\n",
        "ols.msgjrgarch <- cbind(msgjrgarch, lag.msgjrgarch.1, \n",
        "                  lag.epu, lag.gepu, lag.vix)\n",
        "\n",
        "model.msgjrgarch.1 <- lm(msgjrgarch ~  lag.msgjrgarch.1, \n",
        "                    data = ols.garch)\n",
        "\n",
        "round(coeftest(model.msgjrgarch.1, NeweyWest(model.msgjrgarch.1, \n",
        "                                        lag = bwNeweyWest(model.msgjrgarch.1), \n",
        "                                        prewhite = F)), 3)\n",
        "\n",
        "round(summary(model.msgjrgarch.1)$adj.r.squared, 3)"
      ],
      "id": "PhMbYM2SGGj5",
      "execution_count": 342,
      "outputs": [
        {
          "output_type": "display_data",
          "data": {
            "text/plain": [
              "\n",
              "t test of coefficients:\n",
              "\n",
              "                 Estimate Std. Error t value  Pr(>|t|)    \n",
              "(Intercept)         0.062      0.016   3.945 < 2.2e-16 ***\n",
              "lag.msgjrgarch.1    0.862      0.032  27.024 < 2.2e-16 ***\n",
              "---\n",
              "Signif. codes:  0 ‘***’ 0.001 ‘**’ 0.01 ‘*’ 0.05 ‘.’ 0.1 ‘ ’ 1\n"
            ]
          },
          "metadata": {
            "tags": []
          }
        },
        {
          "output_type": "display_data",
          "data": {
            "text/plain": [
              "[1] 0.751"
            ],
            "text/latex": "0.751",
            "text/markdown": "0.751",
            "text/html": [
              "0.751"
            ]
          },
          "metadata": {
            "tags": []
          }
        }
      ]
    },
    {
      "cell_type": "code",
      "metadata": {
        "colab": {
          "base_uri": "https://localhost:8080/",
          "height": 187
        },
        "id": "WlDqwOGZGdr5",
        "outputId": "13c2a6bf-a497-4361-f5c4-a57ba7af0470"
      },
      "source": [
        "# Estimation 2 - MS GJR-GARCH (Best BIC:  lag= 1)\n",
        "model.msgjrgarch.2 <- lm(msgjrgarch ~  lag.msgjrgarch.1 + lag.epu, \n",
        "                        data = ols.msgjrgarch)\n",
        "\n",
        "round(coeftest(model.msgjrgarch.2, NeweyWest(model.msgjrgarch.2, \n",
        "                                            lag = bwNeweyWest(model.msgjrgarch.2), \n",
        "                                            prewhite = F)), 3)\n",
        "\n",
        "round(summary(model.msgjrgarch.2)$adj.r.squared, 3)"
      ],
      "id": "WlDqwOGZGdr5",
      "execution_count": 343,
      "outputs": [
        {
          "output_type": "display_data",
          "data": {
            "text/plain": [
              "\n",
              "t test of coefficients:\n",
              "\n",
              "                 Estimate Std. Error t value Pr(>|t|)    \n",
              "(Intercept)         0.095      0.022   4.405   <2e-16 ***\n",
              "lag.msgjrgarch.1    0.843      0.034  24.856   <2e-16 ***\n",
              "lag.epu             0.000      0.000  -2.649    0.009 ** \n",
              "---\n",
              "Signif. codes:  0 ‘***’ 0.001 ‘**’ 0.01 ‘*’ 0.05 ‘.’ 0.1 ‘ ’ 1\n"
            ]
          },
          "metadata": {
            "tags": []
          }
        },
        {
          "output_type": "display_data",
          "data": {
            "text/plain": [
              "[1] 0.755"
            ],
            "text/latex": "0.755",
            "text/markdown": "0.755",
            "text/html": [
              "0.755"
            ]
          },
          "metadata": {
            "tags": []
          }
        }
      ]
    },
    {
      "cell_type": "code",
      "metadata": {
        "colab": {
          "base_uri": "https://localhost:8080/",
          "height": 187
        },
        "id": "jJgCwT8yUMsT",
        "outputId": "e3596185-47cb-4142-c359-d0e2839172ec"
      },
      "source": [
        "# Estimation 3 - MS GJR-GARCH (Best BIC:  lag= 1)\n",
        "model.msgjrgarch.3 <- lm(msgjrgarch ~  lag.msgjrgarch.1 + lag.vix, \n",
        "                        data = ols.msgjrgarch)\n",
        "\n",
        "round(coeftest(model.msgjrgarch.3, NeweyWest(model.msgjrgarch.3, \n",
        "                                            lag = bwNeweyWest(model.msgjrgarch.3), \n",
        "                                            prewhite = F)), 3)\n",
        "\n",
        "round(summary(model.msgjrgarch.3)$adj.r.squared, 3)"
      ],
      "id": "jJgCwT8yUMsT",
      "execution_count": 344,
      "outputs": [
        {
          "output_type": "display_data",
          "data": {
            "text/plain": [
              "\n",
              "t test of coefficients:\n",
              "\n",
              "                 Estimate Std. Error t value Pr(>|t|)    \n",
              "(Intercept)         0.019      0.025   0.750    0.454    \n",
              "lag.msgjrgarch.1    0.812      0.037  22.013   <2e-16 ***\n",
              "lag.vix             0.003      0.002   2.112    0.036 *  \n",
              "---\n",
              "Signif. codes:  0 ‘***’ 0.001 ‘**’ 0.01 ‘*’ 0.05 ‘.’ 0.1 ‘ ’ 1\n"
            ]
          },
          "metadata": {
            "tags": []
          }
        },
        {
          "output_type": "display_data",
          "data": {
            "text/plain": [
              "[1] 0.755"
            ],
            "text/latex": "0.755",
            "text/markdown": "0.755",
            "text/html": [
              "0.755"
            ]
          },
          "metadata": {
            "tags": []
          }
        }
      ]
    },
    {
      "cell_type": "code",
      "metadata": {
        "colab": {
          "base_uri": "https://localhost:8080/",
          "height": 204
        },
        "id": "6P9qZXRPUMWd",
        "outputId": "df7941e6-fd02-40ca-ad34-04e6f7bea241"
      },
      "source": [
        "# Estimation 4 - MS GJR-GARCH (Best BIC:  lag= 1)\n",
        "model.msgjrgarch.4 <- lm(msgjrgarch ~  lag.msgjrgarch.1 + lag.epu + lag.vix, \n",
        "                        data = ols.msgjrgarch)\n",
        "\n",
        "round(coeftest(model.msgjrgarch.4, NeweyWest(model.msgjrgarch.4, \n",
        "                                            lag = bwNeweyWest(model.msgjrgarch.4), \n",
        "                                            prewhite = F)), 3)\n",
        "\n",
        "round(summary(model.msgjrgarch.4)$adj.r.squared, 3)"
      ],
      "id": "6P9qZXRPUMWd",
      "execution_count": 345,
      "outputs": [
        {
          "output_type": "display_data",
          "data": {
            "text/plain": [
              "\n",
              "t test of coefficients:\n",
              "\n",
              "                 Estimate Std. Error t value Pr(>|t|)    \n",
              "(Intercept)         0.047      0.028   1.678    0.095 .  \n",
              "lag.msgjrgarch.1    0.765      0.042  18.108   <2e-16 ***\n",
              "lag.epu             0.000      0.000  -3.692   <2e-16 ***\n",
              "lag.vix             0.005      0.002   2.780    0.006 ** \n",
              "---\n",
              "Signif. codes:  0 ‘***’ 0.001 ‘**’ 0.01 ‘*’ 0.05 ‘.’ 0.1 ‘ ’ 1\n"
            ]
          },
          "metadata": {
            "tags": []
          }
        },
        {
          "output_type": "display_data",
          "data": {
            "text/plain": [
              "[1] 0.763"
            ],
            "text/latex": "0.763",
            "text/markdown": "0.763",
            "text/html": [
              "0.763"
            ]
          },
          "metadata": {
            "tags": []
          }
        }
      ]
    },
    {
      "cell_type": "code",
      "metadata": {
        "colab": {
          "base_uri": "https://localhost:8080/",
          "height": 221
        },
        "id": "Ps34kcv3ULt3",
        "outputId": "e413ed91-0737-4da8-e7a1-a717e2afd2fa"
      },
      "source": [
        "# Estimation 5 - MS GJR-GARCH (Best BIC:  lag= 1)\n",
        "model.msgjrgarch.5 <- lm(msgjrgarch ~  lag.msgjrgarch.1 + lag.epu + lag.gepu + lag.vix, \n",
        "                        data = ols.msgjrgarch)\n",
        "\n",
        "round(coeftest(model.msgjrgarch.5, NeweyWest(model.msgjrgarch.5, \n",
        "                                            lag = bwNeweyWest(model.msgjrgarch.5), \n",
        "                                            prewhite = F)), 3)\n",
        "\n",
        "round(summary(model.msgjrgarch.5)$adj.r.squared, 3)"
      ],
      "id": "Ps34kcv3ULt3",
      "execution_count": 346,
      "outputs": [
        {
          "output_type": "display_data",
          "data": {
            "text/plain": [
              "\n",
              "t test of coefficients:\n",
              "\n",
              "                 Estimate Std. Error t value Pr(>|t|)    \n",
              "(Intercept)         0.080      0.032   2.469    0.014 *  \n",
              "lag.msgjrgarch.1    0.748      0.044  16.845   <2e-16 ***\n",
              "lag.epu             0.000      0.000   0.412    0.680    \n",
              "lag.gepu           -0.001      0.000  -1.708    0.089 .  \n",
              "lag.vix             0.006      0.002   3.026    0.003 ** \n",
              "---\n",
              "Signif. codes:  0 ‘***’ 0.001 ‘**’ 0.01 ‘*’ 0.05 ‘.’ 0.1 ‘ ’ 1\n"
            ]
          },
          "metadata": {
            "tags": []
          }
        },
        {
          "output_type": "display_data",
          "data": {
            "text/plain": [
              "[1] 0.765"
            ],
            "text/latex": "0.765",
            "text/markdown": "0.765",
            "text/html": [
              "0.765"
            ]
          },
          "metadata": {
            "tags": []
          }
        }
      ]
    }
  ]
}