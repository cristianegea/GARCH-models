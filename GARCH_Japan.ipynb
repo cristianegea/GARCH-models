{
  "nbformat": 4,
  "nbformat_minor": 5,
  "metadata": {
    "kernelspec": {
      "display_name": "R",
      "language": "R",
      "name": "ir"
    },
    "language_info": {
      "codemirror_mode": "r",
      "file_extension": ".r",
      "mimetype": "text/x-r-source",
      "name": "R",
      "pygments_lexer": "r",
      "version": "3.6.1"
    },
    "colab": {
      "name": "GARCH_Japan.ipynb",
      "provenance": [],
      "collapsed_sections": []
    }
  },
  "cells": [
    {
      "cell_type": "markdown",
      "metadata": {
        "id": "10c9fc70"
      },
      "source": [
        "# Analysis of stock returns forecasts"
      ],
      "id": "10c9fc70"
    },
    {
      "cell_type": "markdown",
      "metadata": {
        "id": "0a03ea35"
      },
      "source": [
        "**Reference**: Realized GARCH models: Simpler is better (Xie & Yu, 2019)\n",
        "\n",
        "Sample: Japan (^N225)"
      ],
      "id": "0a03ea35"
    },
    {
      "cell_type": "code",
      "metadata": {
        "id": "66c60229"
      },
      "source": [
        "# Memory clearing\n",
        "rm(list=ls())"
      ],
      "id": "66c60229",
      "execution_count": 1,
      "outputs": []
    },
    {
      "cell_type": "markdown",
      "metadata": {
        "id": "5e52a103"
      },
      "source": [
        "## 1. Data import"
      ],
      "id": "5e52a103"
    },
    {
      "cell_type": "code",
      "metadata": {
        "colab": {
          "base_uri": "https://localhost:8080/"
        },
        "id": "a015db89",
        "outputId": "5a20d974-6fcc-4c36-8f9c-c35d60078fe4"
      },
      "source": [
        "# Packages\n",
        "install.packages('quantmod')\n",
        "install.packages('tidyquant')\n",
        "install.packages('PerformanceAnalytics')\n",
        "\n",
        "library(quantmod)\n",
        "library(tidyquant)\n",
        "library(PerformanceAnalytics)"
      ],
      "id": "a015db89",
      "execution_count": 2,
      "outputs": [
        {
          "output_type": "stream",
          "text": [
            "Installing package into ‘/usr/local/lib/R/site-library’\n",
            "(as ‘lib’ is unspecified)\n",
            "\n",
            "also installing the dependencies ‘xts’, ‘zoo’, ‘TTR’\n",
            "\n",
            "\n",
            "Installing package into ‘/usr/local/lib/R/site-library’\n",
            "(as ‘lib’ is unspecified)\n",
            "\n",
            "also installing the dependencies ‘numDeriv’, ‘SQUAREM’, ‘lava’, ‘listenv’, ‘parallelly’, ‘prodlim’, ‘future’, ‘globals’, ‘later’, ‘gower’, ‘ipred’, ‘furrr’, ‘htmlwidgets’, ‘crosstalk’, ‘promises’, ‘warp’, ‘fracdiff’, ‘lmtest’, ‘tseries’, ‘urca’, ‘RcppArmadillo’, ‘quadprog’, ‘recipes’, ‘rsample’, ‘plotly’, ‘padr’, ‘slider’, ‘anytime’, ‘forecast’, ‘snakecase’, ‘PerformanceAnalytics’, ‘lazyeval’, ‘Quandl’, ‘riingo’, ‘alphavantager’, ‘timetk’, ‘timeDate’, ‘janitor’\n",
            "\n",
            "\n",
            "Installing package into ‘/usr/local/lib/R/site-library’\n",
            "(as ‘lib’ is unspecified)\n",
            "\n",
            "Loading required package: xts\n",
            "\n",
            "Loading required package: zoo\n",
            "\n",
            "\n",
            "Attaching package: ‘zoo’\n",
            "\n",
            "\n",
            "The following objects are masked from ‘package:base’:\n",
            "\n",
            "    as.Date, as.Date.numeric\n",
            "\n",
            "\n",
            "Loading required package: TTR\n",
            "\n",
            "Registered S3 method overwritten by 'quantmod':\n",
            "  method            from\n",
            "  as.zoo.data.frame zoo \n",
            "\n",
            "Loading required package: lubridate\n",
            "\n",
            "Warning message in system(\"timedatectl\", intern = TRUE):\n",
            "“running command 'timedatectl' had status 1”\n",
            "\n",
            "Attaching package: ‘lubridate’\n",
            "\n",
            "\n",
            "The following objects are masked from ‘package:base’:\n",
            "\n",
            "    date, intersect, setdiff, union\n",
            "\n",
            "\n",
            "Loading required package: PerformanceAnalytics\n",
            "\n",
            "\n",
            "Attaching package: ‘PerformanceAnalytics’\n",
            "\n",
            "\n",
            "The following object is masked from ‘package:graphics’:\n",
            "\n",
            "    legend\n",
            "\n",
            "\n",
            "\u001b[30m══\u001b[39m \u001b[30mNeed to Learn tidyquant?\u001b[39m \u001b[30m════════════════════════════════════════════════════\u001b[39m\u001b[34m\n",
            "Business Science offers a 1-hour course - Learning Lab #9: Performance Analysis & Portfolio Optimization with tidyquant!\n",
            "\u001b[39m\u001b[34m</> Learn more at: https://university.business-science.io/p/learning-labs-pro </>\u001b[39m\n",
            "\n"
          ],
          "name": "stderr"
        }
      ]
    },
    {
      "cell_type": "markdown",
      "metadata": {
        "id": "77462b8b-5261-4090-9001-2c344b610bd8"
      },
      "source": [
        "**Reading the datas (Source: Yahoo Finance)**"
      ],
      "id": "77462b8b-5261-4090-9001-2c344b610bd8"
    },
    {
      "cell_type": "code",
      "metadata": {
        "colab": {
          "base_uri": "https://localhost:8080/",
          "height": 258
        },
        "id": "90849e76",
        "outputId": "79df8ab5-385a-441b-c195-59b26a838dc7"
      },
      "source": [
        "getSymbols(\"^N225\", from = '2000-01-01', to = '2021-05-31') "
      ],
      "id": "90849e76",
      "execution_count": 3,
      "outputs": [
        {
          "output_type": "stream",
          "text": [
            "‘getSymbols’ currently uses auto.assign=TRUE by default, but will\n",
            "use auto.assign=FALSE in 0.5-0. You will still be able to use\n",
            "‘loadSymbols’ to automatically load data. getOption(\"getSymbols.env\")\n",
            "and getOption(\"getSymbols.auto.assign\") will still be checked for\n",
            "alternate defaults.\n",
            "\n",
            "This message is shown once per session and may be disabled by setting \n",
            "options(\"getSymbols.warning4.0\"=FALSE). See ?getSymbols for details.\n",
            "\n",
            "\n",
            "Warning message:\n",
            "“^N225 contains missing values. Some functions will not work if objects contain missing values in the middle of the series. Consider using na.omit(), na.approx(), na.fill(), etc to remove or replace them.”\n"
          ],
          "name": "stderr"
        },
        {
          "output_type": "display_data",
          "data": {
            "text/plain": [
              "[1] \"^N225\""
            ],
            "text/latex": "'\\textasciicircum{}N225'",
            "text/markdown": "'^N225'",
            "text/html": [
              "'^N225'"
            ]
          },
          "metadata": {
            "tags": []
          }
        }
      ]
    },
    {
      "cell_type": "markdown",
      "metadata": {
        "id": "37fcac8f-663c-4ab6-a2ec-d3dfb628e1d8"
      },
      "source": [
        "**Checking data frequency**"
      ],
      "id": "37fcac8f-663c-4ab6-a2ec-d3dfb628e1d8"
    },
    {
      "cell_type": "code",
      "metadata": {
        "colab": {
          "base_uri": "https://localhost:8080/",
          "height": 34
        },
        "id": "cf681b78-5138-4ee8-aee3-2e93db60bece",
        "outputId": "775f3478-c9a1-4195-bcf1-fd1306585530"
      },
      "source": [
        "periodicity(N225)        "
      ],
      "id": "cf681b78-5138-4ee8-aee3-2e93db60bece",
      "execution_count": 4,
      "outputs": [
        {
          "output_type": "display_data",
          "data": {
            "text/plain": [
              "Daily periodicity from 2000-01-04 to 2021-05-31 "
            ]
          },
          "metadata": {
            "tags": []
          }
        }
      ]
    },
    {
      "cell_type": "markdown",
      "metadata": {
        "id": "7d452205-8ea1-461b-a15f-682cc4b96318"
      },
      "source": [
        "**Identifying missing values (%)**"
      ],
      "id": "7d452205-8ea1-461b-a15f-682cc4b96318"
    },
    {
      "cell_type": "code",
      "metadata": {
        "colab": {
          "base_uri": "https://localhost:8080/",
          "height": 68
        },
        "id": "7d329e61-d1a6-4c17-82ad-0a4ea31d0232",
        "outputId": "340033d7-7044-411e-dd19-ae6f0276fc1b"
      },
      "source": [
        "round(prop.table(table(is.na(N225)))*100, digits = 2)       "
      ],
      "id": "7d329e61-d1a6-4c17-82ad-0a4ea31d0232",
      "execution_count": 5,
      "outputs": [
        {
          "output_type": "display_data",
          "data": {
            "text/plain": [
              "\n",
              "FALSE  TRUE \n",
              "97.71  2.29 "
            ]
          },
          "metadata": {
            "tags": []
          }
        }
      ]
    },
    {
      "cell_type": "markdown",
      "metadata": {
        "id": "b3787f51-b9fb-458d-b650-5c19b0c22c44"
      },
      "source": [
        "**Removing missing values**"
      ],
      "id": "b3787f51-b9fb-458d-b650-5c19b0c22c44"
    },
    {
      "cell_type": "code",
      "metadata": {
        "id": "4c168321-5b36-4058-b5fc-c9170fc50afd",
        "colab": {
          "base_uri": "https://localhost:8080/",
          "height": 68
        },
        "outputId": "ad1a9fb8-77f8-43fb-895a-7f25539dc075"
      },
      "source": [
        "N225 <- na.omit(N225)    \n",
        "round(prop.table(table(is.na(N225)))*100, digits = 2)         "
      ],
      "id": "4c168321-5b36-4058-b5fc-c9170fc50afd",
      "execution_count": 6,
      "outputs": [
        {
          "output_type": "display_data",
          "data": {
            "text/plain": [
              "\n",
              "FALSE \n",
              "  100 "
            ]
          },
          "metadata": {
            "tags": []
          }
        }
      ]
    },
    {
      "cell_type": "markdown",
      "metadata": {
        "id": "ef01dac6-72b2-4ec0-b160-1fbdf579a04e"
      },
      "source": [
        "**Removing unnecessary features**"
      ],
      "id": "ef01dac6-72b2-4ec0-b160-1fbdf579a04e"
    },
    {
      "cell_type": "code",
      "metadata": {
        "colab": {
          "base_uri": "https://localhost:8080/",
          "height": 136
        },
        "id": "ea0759f7-0353-404b-b206-98bc5c35d66a",
        "outputId": "ff3c353e-83a0-4a7f-98a5-2f3eddbd3867"
      },
      "source": [
        "N225.df <- N225[,'N225.Close']                              \n",
        "head(N225.df)"
      ],
      "id": "ea0759f7-0353-404b-b206-98bc5c35d66a",
      "execution_count": 7,
      "outputs": [
        {
          "output_type": "display_data",
          "data": {
            "text/plain": [
              "           N225.Close\n",
              "2000-01-04   19002.86\n",
              "2000-01-05   18542.55\n",
              "2000-01-06   18168.27\n",
              "2000-01-07   18193.41\n",
              "2000-01-11   18850.92\n",
              "2000-01-12   18677.42"
            ]
          },
          "metadata": {
            "tags": []
          }
        }
      ]
    },
    {
      "cell_type": "markdown",
      "metadata": {
        "id": "00ce5730-0246-4093-8c80-b0aa48bade58"
      },
      "source": [
        "**Calculating log-returns**"
      ],
      "id": "00ce5730-0246-4093-8c80-b0aa48bade58"
    },
    {
      "cell_type": "code",
      "metadata": {
        "colab": {
          "base_uri": "https://localhost:8080/",
          "height": 136
        },
        "id": "a39fe789-889c-4974-9e5e-141050303ac9",
        "outputId": "c0066238-064a-4619-c781-13b361fbee48"
      },
      "source": [
        "logreturn <- diff(log(N225.df$N225.Close))*100                     \n",
        "head(logreturn)"
      ],
      "id": "a39fe789-889c-4974-9e5e-141050303ac9",
      "execution_count": 8,
      "outputs": [
        {
          "output_type": "display_data",
          "data": {
            "text/plain": [
              "           N225.Close\n",
              "2000-01-04         NA\n",
              "2000-01-05 -2.4521328\n",
              "2000-01-06 -2.0391493\n",
              "2000-01-07  0.1382809\n",
              "2000-01-11  3.5502266\n",
              "2000-01-12 -0.9246411"
            ]
          },
          "metadata": {
            "tags": []
          }
        }
      ]
    },
    {
      "cell_type": "markdown",
      "metadata": {
        "id": "83e12642-5c42-4a95-963f-809884d6bf7f"
      },
      "source": [
        "**Aggregating the data**"
      ],
      "id": "83e12642-5c42-4a95-963f-809884d6bf7f"
    },
    {
      "cell_type": "code",
      "metadata": {
        "colab": {
          "base_uri": "https://localhost:8080/",
          "height": 136
        },
        "id": "25c57967-90a6-4684-9b14-9a5c0867c38b",
        "outputId": "e8654d7f-b643-439c-c24e-b3d465e6bcea"
      },
      "source": [
        "N225.df$N225.Return <- logreturn                  \n",
        "N225.df <- na.omit(N225.df)\n",
        "head(N225.df)"
      ],
      "id": "25c57967-90a6-4684-9b14-9a5c0867c38b",
      "execution_count": 9,
      "outputs": [
        {
          "output_type": "display_data",
          "data": {
            "text/plain": [
              "           N225.Close N225.Return\n",
              "2000-01-05   18542.55  -2.4521328\n",
              "2000-01-06   18168.27  -2.0391493\n",
              "2000-01-07   18193.41   0.1382809\n",
              "2000-01-11   18850.92   3.5502266\n",
              "2000-01-12   18677.42  -0.9246411\n",
              "2000-01-13   18833.29   0.8310695"
            ]
          },
          "metadata": {
            "tags": []
          }
        }
      ]
    },
    {
      "cell_type": "markdown",
      "metadata": {
        "id": "d5366ab1-99ff-4fc7-ba7c-e62d184424bd"
      },
      "source": [
        "**Identifying missing values (%)**"
      ],
      "id": "d5366ab1-99ff-4fc7-ba7c-e62d184424bd"
    },
    {
      "cell_type": "code",
      "metadata": {
        "colab": {
          "base_uri": "https://localhost:8080/",
          "height": 68
        },
        "id": "66ab6572-9a4d-4703-adb4-0405d06b5783",
        "outputId": "f495b444-e076-4b5f-d9dd-5411b46160e2"
      },
      "source": [
        "round(prop.table(table(is.na(N225.df)))*100, digits = 2)       "
      ],
      "id": "66ab6572-9a4d-4703-adb4-0405d06b5783",
      "execution_count": 10,
      "outputs": [
        {
          "output_type": "display_data",
          "data": {
            "text/plain": [
              "\n",
              "FALSE \n",
              "  100 "
            ]
          },
          "metadata": {
            "tags": []
          }
        }
      ]
    },
    {
      "cell_type": "markdown",
      "metadata": {
        "id": "8a8dac53-aaa9-48b4-b345-44958dd87d9a"
      },
      "source": [
        "## 2. Graph analysis"
      ],
      "id": "8a8dac53-aaa9-48b4-b345-44958dd87d9a"
    },
    {
      "cell_type": "code",
      "metadata": {
        "id": "aadcb8e0-582a-435f-864c-a43651d7e6a6",
        "colab": {
          "base_uri": "https://localhost:8080/"
        },
        "outputId": "aab68683-ce47-429c-e889-20b7b843a714"
      },
      "source": [
        "# Package\n",
        "install.packages('xts')\n",
        "install.packages('ggplot2')\n",
        "install.packages('gridExtra')\n",
        "\n",
        "library(xts)\n",
        "library(ggplot2)\n",
        "library(gridExtra)"
      ],
      "id": "aadcb8e0-582a-435f-864c-a43651d7e6a6",
      "execution_count": 11,
      "outputs": [
        {
          "output_type": "stream",
          "text": [
            "Installing package into ‘/usr/local/lib/R/site-library’\n",
            "(as ‘lib’ is unspecified)\n",
            "\n",
            "Installing package into ‘/usr/local/lib/R/site-library’\n",
            "(as ‘lib’ is unspecified)\n",
            "\n",
            "Installing package into ‘/usr/local/lib/R/site-library’\n",
            "(as ‘lib’ is unspecified)\n",
            "\n"
          ],
          "name": "stderr"
        }
      ]
    },
    {
      "cell_type": "markdown",
      "metadata": {
        "id": "0dc149bd-ea9f-4227-9807-c33fa1636347"
      },
      "source": [
        "**Price & Return charts**"
      ],
      "id": "0dc149bd-ea9f-4227-9807-c33fa1636347"
    },
    {
      "cell_type": "code",
      "metadata": {
        "colab": {
          "base_uri": "https://localhost:8080/",
          "height": 505
        },
        "id": "4a7ba28a-a574-47a6-8368-2111f43c7bd3",
        "outputId": "d2c1f59f-1e8e-41d0-f096-c695c8d56aef"
      },
      "source": [
        "# Price chart\n",
        "graph1 <- ggplot(N225.df,\n",
        "                aes(x = index(N225.df), y = N225.df[,'N225.Close'])) +\n",
        "                geom_line(color = \"black\") +\n",
        "                ggtitle(\"Japan\") +\n",
        "                xlab(\"Date\") +\n",
        "                ylab(\"Closing prices ($)\") +\n",
        "                theme(plot.title = element_text(hjust = 0.5))\n",
        "\n",
        "# Return chart\n",
        "graph2 <- ggplot(N225.df,\n",
        "                aes(x = index(N225.df), y = N225.df[,'N225.Return'])) +\n",
        "                geom_line(color = \"black\") +\n",
        "                ggtitle(\"Japan\") +\n",
        "                xlab(\"Date\") +\n",
        "                ylab(\"Return\") +\n",
        "                theme(plot.title = element_text(hjust = 0.5))\n",
        "\n",
        "grid.arrange(graph1, graph2, ncol = 1, nrow = 2)"
      ],
      "id": "4a7ba28a-a574-47a6-8368-2111f43c7bd3",
      "execution_count": 12,
      "outputs": [
        {
          "output_type": "stream",
          "text": [
            "Don't know how to automatically pick scale for object of type xts/zoo. Defaulting to continuous.\n",
            "\n",
            "Don't know how to automatically pick scale for object of type xts/zoo. Defaulting to continuous.\n",
            "\n"
          ],
          "name": "stderr"
        },
        {
          "output_type": "display_data",
          "data": {
            "image/png": "[encoded data removed]",
            "text/plain": [
              "plot without title"
            ]
          },
          "metadata": {
            "tags": [],
            "image/png": {
              "width": 420,
              "height": 420
            }
          }
        }
      ]
    },
    {
      "cell_type": "markdown",
      "metadata": {
        "id": "2fb985b6-91a7-43fe-ba22-5663a6d63477"
      },
      "source": [
        "## 3. Descriptive statistic"
      ],
      "id": "2fb985b6-91a7-43fe-ba22-5663a6d63477"
    },
    {
      "cell_type": "code",
      "metadata": {
        "colab": {
          "base_uri": "https://localhost:8080/"
        },
        "id": "5cba5803-a987-4c14-aa9b-d9337afb3512",
        "outputId": "fbf71d47-9035-425e-9038-4a7a4840410a"
      },
      "source": [
        "# Packages\n",
        "install.packages('moments')\n",
        "\n",
        "library(moments)"
      ],
      "id": "5cba5803-a987-4c14-aa9b-d9337afb3512",
      "execution_count": 13,
      "outputs": [
        {
          "output_type": "stream",
          "text": [
            "Installing package into ‘/usr/local/lib/R/site-library’\n",
            "(as ‘lib’ is unspecified)\n",
            "\n",
            "\n",
            "Attaching package: ‘moments’\n",
            "\n",
            "\n",
            "The following objects are masked from ‘package:PerformanceAnalytics’:\n",
            "\n",
            "    kurtosis, skewness\n",
            "\n",
            "\n"
          ],
          "name": "stderr"
        }
      ]
    },
    {
      "cell_type": "markdown",
      "metadata": {
        "id": "69bbfe9a-7c71-415d-89a4-7a7f70b88e9d"
      },
      "source": [
        "**Descriptive statistic**"
      ],
      "id": "69bbfe9a-7c71-415d-89a4-7a7f70b88e9d"
    },
    {
      "cell_type": "code",
      "metadata": {
        "colab": {
          "base_uri": "https://localhost:8080/",
          "height": 34
        },
        "id": "b282c2d9-b582-4a89-8f56-b23b6ade6202",
        "outputId": "b0407374-4ad4-4360-e910-f7119ef1a5ee"
      },
      "source": [
        "# mean\n",
        "round(mean(N225.df$N225.Return), 3)                         "
      ],
      "id": "b282c2d9-b582-4a89-8f56-b23b6ade6202",
      "execution_count": 14,
      "outputs": [
        {
          "output_type": "display_data",
          "data": {
            "text/plain": [
              "[1] 0.008"
            ],
            "text/latex": "0.008",
            "text/markdown": "0.008",
            "text/html": [
              "0.008"
            ]
          },
          "metadata": {
            "tags": []
          }
        }
      ]
    },
    {
      "cell_type": "code",
      "metadata": {
        "colab": {
          "base_uri": "https://localhost:8080/",
          "height": 34
        },
        "id": "a0fefd4e-8b2e-4bf2-aa7f-1dfc0d2d1892",
        "outputId": "27ac44a3-d1ff-4498-b51b-f4f37a49ab54"
      },
      "source": [
        "# sd\n",
        "round(sd(N225.df$N225.Return), 3)                           "
      ],
      "id": "a0fefd4e-8b2e-4bf2-aa7f-1dfc0d2d1892",
      "execution_count": 15,
      "outputs": [
        {
          "output_type": "display_data",
          "data": {
            "text/plain": [
              "[1] 1.488"
            ],
            "text/latex": "1.488",
            "text/markdown": "1.488",
            "text/html": [
              "1.488"
            ]
          },
          "metadata": {
            "tags": []
          }
        }
      ]
    },
    {
      "cell_type": "code",
      "metadata": {
        "colab": {
          "base_uri": "https://localhost:8080/",
          "height": 34
        },
        "id": "e5f57896-f56d-416f-9cbf-4217d00ffb72",
        "outputId": "be33a940-4b5a-4ff0-8b93-3e6247770ad6"
      },
      "source": [
        "# skewness\n",
        "round(skewness(N225.df$N225.Return), 3)                     "
      ],
      "id": "e5f57896-f56d-416f-9cbf-4217d00ffb72",
      "execution_count": 16,
      "outputs": [
        {
          "output_type": "display_data",
          "data": {
            "text/plain": [
              "N225.Return \n",
              "     -0.388 "
            ],
            "text/latex": "\\textbf{N225.Return:} -0.388",
            "text/markdown": "**N225.Return:** -0.388",
            "text/html": [
              "<strong>N225.Return:</strong> -0.388"
            ]
          },
          "metadata": {
            "tags": []
          }
        }
      ]
    },
    {
      "cell_type": "code",
      "metadata": {
        "colab": {
          "base_uri": "https://localhost:8080/",
          "height": 34
        },
        "id": "04580b0d-e33e-4a03-8c3c-72c205253ed2",
        "outputId": "662169d5-94d6-467e-ebec-be719a740cd0"
      },
      "source": [
        "# kurtosis\n",
        "round(kurtosis(N225.df$N225.Return), 3)                     "
      ],
      "id": "04580b0d-e33e-4a03-8c3c-72c205253ed2",
      "execution_count": 17,
      "outputs": [
        {
          "output_type": "display_data",
          "data": {
            "text/plain": [
              "N225.Return \n",
              "      9.329 "
            ],
            "text/latex": "\\textbf{N225.Return:} 9.329",
            "text/markdown": "**N225.Return:** 9.329",
            "text/html": [
              "<strong>N225.Return:</strong> 9.329"
            ]
          },
          "metadata": {
            "tags": []
          }
        }
      ]
    },
    {
      "cell_type": "code",
      "metadata": {
        "colab": {
          "base_uri": "https://localhost:8080/",
          "height": 34
        },
        "id": "515839a1-874b-4639-b9a2-1f0f24f844cd",
        "outputId": "a6e27c6a-f59c-4380-a103-f9a7c233c771"
      },
      "source": [
        "# min\n",
        "round(min(N225.df$N225.Return), 3)                          "
      ],
      "id": "515839a1-874b-4639-b9a2-1f0f24f844cd",
      "execution_count": 18,
      "outputs": [
        {
          "output_type": "display_data",
          "data": {
            "text/plain": [
              "[1] -12.111"
            ],
            "text/latex": "-12.111",
            "text/markdown": "-12.111",
            "text/html": [
              "-12.111"
            ]
          },
          "metadata": {
            "tags": []
          }
        }
      ]
    },
    {
      "cell_type": "code",
      "metadata": {
        "colab": {
          "base_uri": "https://localhost:8080/",
          "height": 34
        },
        "id": "3b88ac9d-baad-40df-913b-511417327e3a",
        "outputId": "08e1feb8-266f-4665-c03b-7b3dc59a32d2"
      },
      "source": [
        "# p5\n",
        "round(quantile(N225.df$N225.Return, probs = 0.05), 3)       "
      ],
      "id": "3b88ac9d-baad-40df-913b-511417327e3a",
      "execution_count": 19,
      "outputs": [
        {
          "output_type": "display_data",
          "data": {
            "text/plain": [
              "   5% \n",
              "-2.34 "
            ],
            "text/latex": "\\textbf{5\\textbackslash{}\\%:} -2.34",
            "text/markdown": "**5%:** -2.34",
            "text/html": [
              "<strong>5%:</strong> -2.34"
            ]
          },
          "metadata": {
            "tags": []
          }
        }
      ]
    },
    {
      "cell_type": "code",
      "metadata": {
        "colab": {
          "base_uri": "https://localhost:8080/",
          "height": 34
        },
        "id": "47455c1f-33d8-4811-955a-03286ad779bc",
        "outputId": "4a8b1b65-3490-4c10-dea6-ad26c853e145"
      },
      "source": [
        "# p25\n",
        "round(quantile(N225.df$N225.Return, probs = 0.25), 3)       "
      ],
      "id": "47455c1f-33d8-4811-955a-03286ad779bc",
      "execution_count": 20,
      "outputs": [
        {
          "output_type": "display_data",
          "data": {
            "text/plain": [
              "   25% \n",
              "-0.704 "
            ],
            "text/latex": "\\textbf{25\\textbackslash{}\\%:} -0.704",
            "text/markdown": "**25%:** -0.704",
            "text/html": [
              "<strong>25%:</strong> -0.704"
            ]
          },
          "metadata": {
            "tags": []
          }
        }
      ]
    },
    {
      "cell_type": "code",
      "metadata": {
        "colab": {
          "base_uri": "https://localhost:8080/",
          "height": 34
        },
        "id": "a6516b44-9009-4d73-9216-cd6d7ce1aa75",
        "outputId": "868e72c0-ba5f-47c3-9daf-5c37725426ce"
      },
      "source": [
        "# median\n",
        "round(median(N225.df$N225.Return), 3)                       "
      ],
      "id": "a6516b44-9009-4d73-9216-cd6d7ce1aa75",
      "execution_count": 21,
      "outputs": [
        {
          "output_type": "display_data",
          "data": {
            "text/plain": [
              "[1] 0.043"
            ],
            "text/latex": "0.043",
            "text/markdown": "0.043",
            "text/html": [
              "0.043"
            ]
          },
          "metadata": {
            "tags": []
          }
        }
      ]
    },
    {
      "cell_type": "code",
      "metadata": {
        "colab": {
          "base_uri": "https://localhost:8080/",
          "height": 34
        },
        "id": "a86278a2-66fa-4421-8432-6a68176eebc8",
        "outputId": "e6f2103d-f7dd-4ad9-9431-097773e49b91"
      },
      "source": [
        "# p75\n",
        "round(quantile(N225.df$N225.Return, probs = 0.75), 3)       "
      ],
      "id": "a86278a2-66fa-4421-8432-6a68176eebc8",
      "execution_count": 22,
      "outputs": [
        {
          "output_type": "display_data",
          "data": {
            "text/plain": [
              "  75% \n",
              "0.802 "
            ],
            "text/latex": "\\textbf{75\\textbackslash{}\\%:} 0.802",
            "text/markdown": "**75%:** 0.802",
            "text/html": [
              "<strong>75%:</strong> 0.802"
            ]
          },
          "metadata": {
            "tags": []
          }
        }
      ]
    },
    {
      "cell_type": "code",
      "metadata": {
        "colab": {
          "base_uri": "https://localhost:8080/",
          "height": 34
        },
        "id": "be64d68b-c5cc-42d9-b55d-bbfca6846cf8",
        "outputId": "b95d5652-ff0e-4987-cf1e-1282d2e6360e"
      },
      "source": [
        "# p95\n",
        "round(quantile(N225.df$N225.Return, probs = 0.95), 3)       "
      ],
      "id": "be64d68b-c5cc-42d9-b55d-bbfca6846cf8",
      "execution_count": 23,
      "outputs": [
        {
          "output_type": "display_data",
          "data": {
            "text/plain": [
              "  95% \n",
              "2.204 "
            ],
            "text/latex": "\\textbf{95\\textbackslash{}\\%:} 2.204",
            "text/markdown": "**95%:** 2.204",
            "text/html": [
              "<strong>95%:</strong> 2.204"
            ]
          },
          "metadata": {
            "tags": []
          }
        }
      ]
    },
    {
      "cell_type": "code",
      "metadata": {
        "colab": {
          "base_uri": "https://localhost:8080/",
          "height": 34
        },
        "id": "ecf88ca5-5576-4cfb-a9f2-225db45f12af",
        "outputId": "af0d4fb0-20f8-44f8-9393-562bb0bdca83"
      },
      "source": [
        "# max\n",
        "round(max(N225.df$N225.Return), 3)                          "
      ],
      "id": "ecf88ca5-5576-4cfb-a9f2-225db45f12af",
      "execution_count": 24,
      "outputs": [
        {
          "output_type": "display_data",
          "data": {
            "text/plain": [
              "[1] 13.235"
            ],
            "text/latex": "13.235",
            "text/markdown": "13.235",
            "text/html": [
              "13.235"
            ]
          },
          "metadata": {
            "tags": []
          }
        }
      ]
    },
    {
      "cell_type": "code",
      "metadata": {
        "colab": {
          "base_uri": "https://localhost:8080/",
          "height": 34
        },
        "id": "1679dd88-86bc-4041-ad68-7c1899c799a4",
        "outputId": "06290fe1-56e5-4b1f-c565-d51ef9bbaaf9"
      },
      "source": [
        "# n observations\n",
        "length(N225.df$N225.Return)                                 "
      ],
      "id": "1679dd88-86bc-4041-ad68-7c1899c799a4",
      "execution_count": 25,
      "outputs": [
        {
          "output_type": "display_data",
          "data": {
            "text/plain": [
              "[1] 5243"
            ],
            "text/latex": "5243",
            "text/markdown": "5243",
            "text/html": [
              "5243"
            ]
          },
          "metadata": {
            "tags": []
          }
        }
      ]
    },
    {
      "cell_type": "markdown",
      "metadata": {
        "id": "7d7f50bf-3414-409f-abaf-59204b4eaed3"
      },
      "source": [
        "## 4. Series normality analysis"
      ],
      "id": "7d7f50bf-3414-409f-abaf-59204b4eaed3"
    },
    {
      "cell_type": "code",
      "metadata": {
        "id": "2a3ad960-3a87-48a4-bff0-b20498343432"
      },
      "source": [
        "# Package\n",
        "library(tseries)"
      ],
      "id": "2a3ad960-3a87-48a4-bff0-b20498343432",
      "execution_count": 26,
      "outputs": []
    },
    {
      "cell_type": "code",
      "metadata": {
        "colab": {
          "base_uri": "https://localhost:8080/",
          "height": 102
        },
        "id": "49b52423-cbd3-41df-9c5e-6074e2c1a911",
        "outputId": "57d8a33e-2341-4587-a0da-52a11224676b"
      },
      "source": [
        "jarque.bera.test(N225.df$N225.Return)"
      ],
      "id": "49b52423-cbd3-41df-9c5e-6074e2c1a911",
      "execution_count": 27,
      "outputs": [
        {
          "output_type": "display_data",
          "data": {
            "text/plain": [
              "\n",
              "\tJarque Bera Test\n",
              "\n",
              "data:  N225.df$N225.Return\n",
              "X-squared = 8882.7, df = 2, p-value < 2.2e-16\n"
            ]
          },
          "metadata": {
            "tags": []
          }
        }
      ]
    },
    {
      "cell_type": "markdown",
      "metadata": {
        "id": "5b8f4698-26c6-4675-886e-b5e9a72061ac"
      },
      "source": [
        "## 5. Autocorrelation pattern analysis"
      ],
      "id": "5b8f4698-26c6-4675-886e-b5e9a72061ac"
    },
    {
      "cell_type": "code",
      "metadata": {
        "id": "0b5c4562-547f-4763-8ea8-396761d8ddc3",
        "colab": {
          "base_uri": "https://localhost:8080/"
        },
        "outputId": "25f8c4ff-f3dc-4c3a-81b1-267b3a8d4dd4"
      },
      "source": [
        "# Packages\n",
        "install.packages('TSA')\n",
        "install.packages('aTSA')\n",
        "install.packages('FinTS')\n",
        "\n",
        "library(TSA)\n",
        "library(aTSA)\n",
        "library(FinTS)"
      ],
      "id": "0b5c4562-547f-4763-8ea8-396761d8ddc3",
      "execution_count": 28,
      "outputs": [
        {
          "output_type": "stream",
          "text": [
            "Installing package into ‘/usr/local/lib/R/site-library’\n",
            "(as ‘lib’ is unspecified)\n",
            "\n",
            "also installing the dependencies ‘leaps’, ‘locfit’\n",
            "\n",
            "\n",
            "Installing package into ‘/usr/local/lib/R/site-library’\n",
            "(as ‘lib’ is unspecified)\n",
            "\n",
            "Installing package into ‘/usr/local/lib/R/site-library’\n",
            "(as ‘lib’ is unspecified)\n",
            "\n",
            "\n",
            "Attaching package: ‘TSA’\n",
            "\n",
            "\n",
            "The following objects are masked from ‘package:moments’:\n",
            "\n",
            "    kurtosis, skewness\n",
            "\n",
            "\n",
            "The following objects are masked from ‘package:PerformanceAnalytics’:\n",
            "\n",
            "    kurtosis, skewness\n",
            "\n",
            "\n",
            "The following objects are masked from ‘package:stats’:\n",
            "\n",
            "    acf, arima\n",
            "\n",
            "\n",
            "The following object is masked from ‘package:utils’:\n",
            "\n",
            "    tar\n",
            "\n",
            "\n",
            "\n",
            "Attaching package: ‘aTSA’\n",
            "\n",
            "\n",
            "The following objects are masked from ‘package:tseries’:\n",
            "\n",
            "    adf.test, kpss.test, pp.test\n",
            "\n",
            "\n",
            "The following object is masked from ‘package:graphics’:\n",
            "\n",
            "    identify\n",
            "\n",
            "\n"
          ],
          "name": "stderr"
        }
      ]
    },
    {
      "cell_type": "markdown",
      "metadata": {
        "id": "efbcdd1a-f5c6-4e6a-bf31-3d547512b3f4"
      },
      "source": [
        "**McLeod-Li test for conditional heteroskedasticity (ARCH effect)**"
      ],
      "id": "efbcdd1a-f5c6-4e6a-bf31-3d547512b3f4"
    },
    {
      "cell_type": "code",
      "metadata": {
        "colab": {
          "base_uri": "https://localhost:8080/",
          "height": 437
        },
        "id": "NDGMFcWQ54yq",
        "outputId": "7db3de84-f6c5-4aab-936b-209df340637a"
      },
      "source": [
        "McLeod.Li.test(y = N225.df$N225.Return)\n",
        "# p-valor < 1% => ARCH effect"
      ],
      "id": "NDGMFcWQ54yq",
      "execution_count": 29,
      "outputs": [
        {
          "output_type": "display_data",
          "data": {
            "image/png": "[encoded data removed]",
            "text/plain": [
              "plot without title"
            ]
          },
          "metadata": {
            "tags": [],
            "image/png": {
              "width": 420,
              "height": 420
            }
          }
        }
      ]
    },
    {
      "cell_type": "markdown",
      "metadata": {
        "id": "d2e068a6-3254-475c-acbf-a75dda7ac434"
      },
      "source": [
        "**Lagrange Multiplier (LM) test for autoregressive conditional heteroscedasticity (ARCH)**"
      ],
      "id": "d2e068a6-3254-475c-acbf-a75dda7ac434"
    },
    {
      "cell_type": "code",
      "metadata": {
        "id": "eaaf6d58-c987-450e-b7d9-d547bb10f7f9",
        "colab": {
          "base_uri": "https://localhost:8080/",
          "height": 102
        },
        "outputId": "fa23d344-6fdb-4025-b7a3-86ae36e82e75"
      },
      "source": [
        "ArchTest(N225.df$N225.Return, demean = FALSE)"
      ],
      "id": "eaaf6d58-c987-450e-b7d9-d547bb10f7f9",
      "execution_count": 30,
      "outputs": [
        {
          "output_type": "display_data",
          "data": {
            "text/plain": [
              "\n",
              "\tARCH LM-test; Null hypothesis: no ARCH effects\n",
              "\n",
              "data:  N225.df$N225.Return\n",
              "Chi-squared = 1173.7, df = 12, p-value < 2.2e-16\n"
            ]
          },
          "metadata": {
            "tags": []
          }
        }
      ]
    },
    {
      "cell_type": "markdown",
      "metadata": {
        "id": "8c5b334a-4c0e-4341-b80b-bd4a9ec89dc1"
      },
      "source": [
        "## 6. GARCH model estimation"
      ],
      "id": "8c5b334a-4c0e-4341-b80b-bd4a9ec89dc1"
    },
    {
      "cell_type": "code",
      "metadata": {
        "colab": {
          "base_uri": "https://localhost:8080/"
        },
        "id": "7abb7558-53ac-4e1b-bbfa-f1de46b2d889",
        "outputId": "f125e7e1-feca-4bbb-a46f-fd4fbbfba651"
      },
      "source": [
        "# Packages\n",
        "install.packages('tidyverse')\n",
        "install.packages('FinTS')\n",
        "install.packages('texreg')\n",
        "install.packages('rugarch')\n",
        "\n",
        "library(tidyverse)\n",
        "library(FinTS)\n",
        "library(texreg)\n",
        "library(rugarch)"
      ],
      "id": "7abb7558-53ac-4e1b-bbfa-f1de46b2d889",
      "execution_count": 31,
      "outputs": [
        {
          "output_type": "stream",
          "text": [
            "Installing package into ‘/usr/local/lib/R/site-library’\n",
            "(as ‘lib’ is unspecified)\n",
            "\n",
            "Installing package into ‘/usr/local/lib/R/site-library’\n",
            "(as ‘lib’ is unspecified)\n",
            "\n",
            "Installing package into ‘/usr/local/lib/R/site-library’\n",
            "(as ‘lib’ is unspecified)\n",
            "\n",
            "Installing package into ‘/usr/local/lib/R/site-library’\n",
            "(as ‘lib’ is unspecified)\n",
            "\n",
            "also installing the dependencies ‘misc3d’, ‘truncnorm’, ‘FNN’, ‘kernlab’, ‘mclust’, ‘multicool’, ‘mvtnorm’, ‘plot3D’, ‘pracma’, ‘DistributionUtils’, ‘GeneralizedHyperbolic’, ‘Rsolnp’, ‘nloptr’, ‘ks’, ‘spd’, ‘chron’, ‘SkewHyperbolic’\n",
            "\n",
            "\n",
            "── \u001b[1mAttaching packages\u001b[22m ─────────────────────────────────────── tidyverse 1.3.1 ──\n",
            "\n",
            "\u001b[32m✔\u001b[39m \u001b[34mtibble \u001b[39m 3.1.2     \u001b[32m✔\u001b[39m \u001b[34mdplyr  \u001b[39m 1.0.6\n",
            "\u001b[32m✔\u001b[39m \u001b[34mtidyr  \u001b[39m 1.1.3     \u001b[32m✔\u001b[39m \u001b[34mstringr\u001b[39m 1.4.0\n",
            "\u001b[32m✔\u001b[39m \u001b[34mreadr  \u001b[39m 1.4.0     \u001b[32m✔\u001b[39m \u001b[34mforcats\u001b[39m 0.5.1\n",
            "\u001b[32m✔\u001b[39m \u001b[34mpurrr  \u001b[39m 0.3.4     \n",
            "\n",
            "── \u001b[1mConflicts\u001b[22m ────────────────────────────────────────── tidyverse_conflicts() ──\n",
            "\u001b[31m✖\u001b[39m \u001b[34mlubridate\u001b[39m::\u001b[32mas.difftime()\u001b[39m masks \u001b[34mbase\u001b[39m::as.difftime()\n",
            "\u001b[31m✖\u001b[39m \u001b[34mdplyr\u001b[39m::\u001b[32mcombine()\u001b[39m         masks \u001b[34mgridExtra\u001b[39m::combine()\n",
            "\u001b[31m✖\u001b[39m \u001b[34mlubridate\u001b[39m::\u001b[32mdate()\u001b[39m        masks \u001b[34mbase\u001b[39m::date()\n",
            "\u001b[31m✖\u001b[39m \u001b[34mdplyr\u001b[39m::\u001b[32mfilter()\u001b[39m          masks \u001b[34mstats\u001b[39m::filter()\n",
            "\u001b[31m✖\u001b[39m \u001b[34mdplyr\u001b[39m::\u001b[32mfirst()\u001b[39m           masks \u001b[34mxts\u001b[39m::first()\n",
            "\u001b[31m✖\u001b[39m \u001b[34mlubridate\u001b[39m::\u001b[32mintersect()\u001b[39m   masks \u001b[34mbase\u001b[39m::intersect()\n",
            "\u001b[31m✖\u001b[39m \u001b[34mdplyr\u001b[39m::\u001b[32mlag()\u001b[39m             masks \u001b[34mstats\u001b[39m::lag()\n",
            "\u001b[31m✖\u001b[39m \u001b[34mdplyr\u001b[39m::\u001b[32mlast()\u001b[39m            masks \u001b[34mxts\u001b[39m::last()\n",
            "\u001b[31m✖\u001b[39m \u001b[34mlubridate\u001b[39m::\u001b[32msetdiff()\u001b[39m     masks \u001b[34mbase\u001b[39m::setdiff()\n",
            "\u001b[31m✖\u001b[39m \u001b[34mreadr\u001b[39m::\u001b[32mspec()\u001b[39m            masks \u001b[34mTSA\u001b[39m::spec()\n",
            "\u001b[31m✖\u001b[39m \u001b[34mlubridate\u001b[39m::\u001b[32munion()\u001b[39m       masks \u001b[34mbase\u001b[39m::union()\n",
            "\n",
            "Version:  1.37.5\n",
            "Date:     2020-06-17\n",
            "Author:   Philip Leifeld (University of Essex)\n",
            "\n",
            "Consider submitting praise using the praise or praise_interactive functions.\n",
            "Please cite the JSS article in your publications -- see citation(\"texreg\").\n",
            "\n",
            "\n",
            "Attaching package: ‘texreg’\n",
            "\n",
            "\n",
            "The following object is masked from ‘package:tidyr’:\n",
            "\n",
            "    extract\n",
            "\n",
            "\n",
            "Loading required package: parallel\n",
            "\n",
            "\n",
            "Attaching package: ‘rugarch’\n",
            "\n",
            "\n",
            "The following object is masked from ‘package:purrr’:\n",
            "\n",
            "    reduce\n",
            "\n",
            "\n",
            "The following object is masked from ‘package:stats’:\n",
            "\n",
            "    sigma\n",
            "\n",
            "\n"
          ],
          "name": "stderr"
        }
      ]
    },
    {
      "cell_type": "code",
      "metadata": {
        "id": "ae5f5617-1efe-4488-bda0-051cf1bf4550"
      },
      "source": [
        "# Parameters definition\n",
        "ar_lag <- 0\n",
        "ma_lag <- 0\n",
        "arch_lag <- 1\n",
        "garch_lag <- 1"
      ],
      "id": "ae5f5617-1efe-4488-bda0-051cf1bf4550",
      "execution_count": 32,
      "outputs": []
    },
    {
      "cell_type": "markdown",
      "metadata": {
        "id": "4fb9f039-c974-422c-8f32-9c886eb06aeb"
      },
      "source": [
        "**Linear GARCH model**"
      ],
      "id": "4fb9f039-c974-422c-8f32-9c886eb06aeb"
    },
    {
      "cell_type": "code",
      "metadata": {
        "id": "47c0b88c-69c3-486d-b02c-29405ebd96e9"
      },
      "source": [
        "# Specification \n",
        "garch.spec <- ugarchspec(variance.model = list(model = \"sGARCH\",\n",
        "                                               garchOrder = c(arch_lag, garch_lag)),\n",
        "                         mean.model = list(armaOrder = c(ar_lag, ma_lag)),\n",
        "                         distribution.model = \"snorm\")\n",
        "# distribution.model = \"snorm\" => skew-normal distribution"
      ],
      "id": "47c0b88c-69c3-486d-b02c-29405ebd96e9",
      "execution_count": 33,
      "outputs": []
    },
    {
      "cell_type": "code",
      "metadata": {
        "id": "4f4f78bc-4e59-462b-af7e-1bcac1264fa3",
        "colab": {
          "base_uri": "https://localhost:8080/",
          "height": 221
        },
        "outputId": "a05166f5-6196-47d1-b6cd-55510b66d10a"
      },
      "source": [
        "# Estimation\n",
        "garch.fit <- ugarchfit(spec = garch.spec, data = N225.df$N225.Return)\n",
        "round(garch.fit@fit$matcoef, 4)"
      ],
      "id": "4f4f78bc-4e59-462b-af7e-1bcac1264fa3",
      "execution_count": 34,
      "outputs": [
        {
          "output_type": "display_data",
          "data": {
            "text/plain": [
              "        Estimate  Std. Error  t value Pr(>|t|)\n",
              "mu     0.0444    0.0160       2.7827  0.0054  \n",
              "omega  0.0442    0.0075       5.8849  0.0000  \n",
              "alpha1 0.1093    0.0091      12.0211  0.0000  \n",
              "beta1  0.8717    0.0103      84.2408  0.0000  \n",
              "skew   0.8795    0.0154      56.9600  0.0000  "
            ],
            "text/latex": "A matrix: 5 × 4 of type dbl\n\\begin{tabular}{r|llll}\n  &  Estimate &  Std. Error &  t value & Pr(>\\textbar{}t\\textbar{})\\\\\n\\hline\n\tmu & 0.0444 & 0.0160 &  2.7827 & 0.0054\\\\\n\tomega & 0.0442 & 0.0075 &  5.8849 & 0.0000\\\\\n\talpha1 & 0.1093 & 0.0091 & 12.0211 & 0.0000\\\\\n\tbeta1 & 0.8717 & 0.0103 & 84.2408 & 0.0000\\\\\n\tskew & 0.8795 & 0.0154 & 56.9600 & 0.0000\\\\\n\\end{tabular}\n",
            "text/markdown": "\nA matrix: 5 × 4 of type dbl\n\n| <!--/--> |  Estimate |  Std. Error |  t value | Pr(&gt;|t|) |\n|---|---|---|---|---|\n| mu | 0.0444 | 0.0160 |  2.7827 | 0.0054 |\n| omega | 0.0442 | 0.0075 |  5.8849 | 0.0000 |\n| alpha1 | 0.1093 | 0.0091 | 12.0211 | 0.0000 |\n| beta1 | 0.8717 | 0.0103 | 84.2408 | 0.0000 |\n| skew | 0.8795 | 0.0154 | 56.9600 | 0.0000 |\n\n",
            "text/html": [
              "<table class=\"dataframe\">\n",
              "<caption>A matrix: 5 × 4 of type dbl</caption>\n",
              "<thead>\n",
              "\t<tr><th></th><th scope=col> Estimate</th><th scope=col> Std. Error</th><th scope=col> t value</th><th scope=col>Pr(&gt;|t|)</th></tr>\n",
              "</thead>\n",
              "<tbody>\n",
              "\t<tr><th scope=row>mu</th><td>0.0444</td><td>0.0160</td><td> 2.7827</td><td>0.0054</td></tr>\n",
              "\t<tr><th scope=row>omega</th><td>0.0442</td><td>0.0075</td><td> 5.8849</td><td>0.0000</td></tr>\n",
              "\t<tr><th scope=row>alpha1</th><td>0.1093</td><td>0.0091</td><td>12.0211</td><td>0.0000</td></tr>\n",
              "\t<tr><th scope=row>beta1</th><td>0.8717</td><td>0.0103</td><td>84.2408</td><td>0.0000</td></tr>\n",
              "\t<tr><th scope=row>skew</th><td>0.8795</td><td>0.0154</td><td>56.9600</td><td>0.0000</td></tr>\n",
              "</tbody>\n",
              "</table>\n"
            ]
          },
          "metadata": {
            "tags": []
          }
        }
      ]
    },
    {
      "cell_type": "code",
      "metadata": {
        "id": "52cb3822-6ebd-4d45-b2c6-04c1acb17b34",
        "colab": {
          "base_uri": "https://localhost:8080/",
          "height": 153
        },
        "outputId": "f3366042-1f39-4503-dab1-40c4198f8929"
      },
      "source": [
        "# Extracting variance series from the Linear GARCH model\n",
        "var.garch <- ts(garch.fit@fit$sigma^2)\n",
        "head(var.garch)\n",
        "\n",
        "N225.df$N225.VolGARCH <- as.numeric(var.garch)\n",
        "head(N225.df)"
      ],
      "id": "52cb3822-6ebd-4d45-b2c6-04c1acb17b34",
      "execution_count": 35,
      "outputs": [
        {
          "output_type": "display_data",
          "data": {
            "text/plain": [
              "[1] 2.215884 2.657106 2.834980 2.516488 3.581335 3.268782"
            ],
            "text/latex": "\\begin{enumerate*}\n\\item 2.21588405585587\n\\item 2.65710583307881\n\\item 2.83497958784374\n\\item 2.51648764112052\n\\item 3.58133456071265\n\\item 3.2687821107651\n\\end{enumerate*}\n",
            "text/markdown": "1. 2.21588405585587\n2. 2.65710583307881\n3. 2.83497958784374\n4. 2.51648764112052\n5. 3.58133456071265\n6. 3.2687821107651\n\n\n",
            "text/html": [
              "<style>\n",
              ".list-inline {list-style: none; margin:0; padding: 0}\n",
              ".list-inline>li {display: inline-block}\n",
              ".list-inline>li:not(:last-child)::after {content: \"\\00b7\"; padding: 0 .5ex}\n",
              "</style>\n",
              "<ol class=list-inline><li>2.21588405585587</li><li>2.65710583307881</li><li>2.83497958784374</li><li>2.51648764112052</li><li>3.58133456071265</li><li>3.2687821107651</li></ol>\n"
            ]
          },
          "metadata": {
            "tags": []
          }
        },
        {
          "output_type": "display_data",
          "data": {
            "text/plain": [
              "           N225.Close N225.Return N225.VolGARCH\n",
              "2000-01-05   18542.55  -2.4521328      2.215884\n",
              "2000-01-06   18168.27  -2.0391493      2.657106\n",
              "2000-01-07   18193.41   0.1382809      2.834980\n",
              "2000-01-11   18850.92   3.5502266      2.516488\n",
              "2000-01-12   18677.42  -0.9246411      3.581335\n",
              "2000-01-13   18833.29   0.8310695      3.268782"
            ]
          },
          "metadata": {
            "tags": []
          }
        }
      ]
    },
    {
      "cell_type": "markdown",
      "metadata": {
        "id": "e6f29dce-3413-404b-ab4f-fa35eee0c98f"
      },
      "source": [
        "**EGARCH model**"
      ],
      "id": "e6f29dce-3413-404b-ab4f-fa35eee0c98f"
    },
    {
      "cell_type": "code",
      "metadata": {
        "id": "3f49a904-41b9-4e2e-a788-6da4085d14db"
      },
      "source": [
        "# Specification \n",
        "egarch.spec <- ugarchspec(variance.model = list(model = \"eGARCH\",\n",
        "                                                garchOrder = c(arch_lag, garch_lag)),\n",
        "                          mean.model = list(armaOrder = c(ar_lag, ma_lag)), \n",
        "                          distribution.model = \"snorm\")\n",
        "# distribution.model = \"snorm\" => skew-normal distribution"
      ],
      "id": "3f49a904-41b9-4e2e-a788-6da4085d14db",
      "execution_count": 36,
      "outputs": []
    },
    {
      "cell_type": "code",
      "metadata": {
        "id": "1d6a661b-2206-4fa7-b4e8-d3765c54a302",
        "colab": {
          "base_uri": "https://localhost:8080/",
          "height": 252
        },
        "outputId": "cf2dec13-efd3-4566-8e25-2f55a8c1c8ce"
      },
      "source": [
        "# Estimation\n",
        "egarch.fit <- ugarchfit(spec = egarch.spec, data = N225.df$N225.Return)\n",
        "round(egarch.fit@fit$matcoef, 4)"
      ],
      "id": "1d6a661b-2206-4fa7-b4e8-d3765c54a302",
      "execution_count": 37,
      "outputs": [
        {
          "output_type": "display_data",
          "data": {
            "text/plain": [
              "        Estimate  Std. Error  t value Pr(>|t|)\n",
              "mu      0.0061   0.0158        0.3888 0.6974  \n",
              "omega   0.0256   0.0038        6.7194 0.0000  \n",
              "alpha1 -0.1000   0.0091      -10.9347 0.0000  \n",
              "beta1   0.9623   0.0046      211.1714 0.0000  \n",
              "gamma1  0.1938   0.0138       14.0211 0.0000  \n",
              "skew    0.8894   0.0155       57.2574 0.0000  "
            ],
            "text/latex": "A matrix: 6 × 4 of type dbl\n\\begin{tabular}{r|llll}\n  &  Estimate &  Std. Error &  t value & Pr(>\\textbar{}t\\textbar{})\\\\\n\\hline\n\tmu &  0.0061 & 0.0158 &   0.3888 & 0.6974\\\\\n\tomega &  0.0256 & 0.0038 &   6.7194 & 0.0000\\\\\n\talpha1 & -0.1000 & 0.0091 & -10.9347 & 0.0000\\\\\n\tbeta1 &  0.9623 & 0.0046 & 211.1714 & 0.0000\\\\\n\tgamma1 &  0.1938 & 0.0138 &  14.0211 & 0.0000\\\\\n\tskew &  0.8894 & 0.0155 &  57.2574 & 0.0000\\\\\n\\end{tabular}\n",
            "text/markdown": "\nA matrix: 6 × 4 of type dbl\n\n| <!--/--> |  Estimate |  Std. Error |  t value | Pr(&gt;|t|) |\n|---|---|---|---|---|\n| mu |  0.0061 | 0.0158 |   0.3888 | 0.6974 |\n| omega |  0.0256 | 0.0038 |   6.7194 | 0.0000 |\n| alpha1 | -0.1000 | 0.0091 | -10.9347 | 0.0000 |\n| beta1 |  0.9623 | 0.0046 | 211.1714 | 0.0000 |\n| gamma1 |  0.1938 | 0.0138 |  14.0211 | 0.0000 |\n| skew |  0.8894 | 0.0155 |  57.2574 | 0.0000 |\n\n",
            "text/html": [
              "<table class=\"dataframe\">\n",
              "<caption>A matrix: 6 × 4 of type dbl</caption>\n",
              "<thead>\n",
              "\t<tr><th></th><th scope=col> Estimate</th><th scope=col> Std. Error</th><th scope=col> t value</th><th scope=col>Pr(&gt;|t|)</th></tr>\n",
              "</thead>\n",
              "<tbody>\n",
              "\t<tr><th scope=row>mu</th><td> 0.0061</td><td>0.0158</td><td>  0.3888</td><td>0.6974</td></tr>\n",
              "\t<tr><th scope=row>omega</th><td> 0.0256</td><td>0.0038</td><td>  6.7194</td><td>0.0000</td></tr>\n",
              "\t<tr><th scope=row>alpha1</th><td>-0.1000</td><td>0.0091</td><td>-10.9347</td><td>0.0000</td></tr>\n",
              "\t<tr><th scope=row>beta1</th><td> 0.9623</td><td>0.0046</td><td>211.1714</td><td>0.0000</td></tr>\n",
              "\t<tr><th scope=row>gamma1</th><td> 0.1938</td><td>0.0138</td><td> 14.0211</td><td>0.0000</td></tr>\n",
              "\t<tr><th scope=row>skew</th><td> 0.8894</td><td>0.0155</td><td> 57.2574</td><td>0.0000</td></tr>\n",
              "</tbody>\n",
              "</table>\n"
            ]
          },
          "metadata": {
            "tags": []
          }
        }
      ]
    },
    {
      "cell_type": "code",
      "metadata": {
        "id": "cffa8b9c-7f85-4602-ac12-0456b3314f2e",
        "colab": {
          "base_uri": "https://localhost:8080/",
          "height": 153
        },
        "outputId": "4bbb7f74-5df0-42d4-ad67-e3db39bda548"
      },
      "source": [
        "# Extracting variance series from the EGARCH model\n",
        "var.egarch <- ts(egarch.fit@fit$sigma^2)\n",
        "head(var.egarch)\n",
        "\n",
        "N225.df$N225.VolEGARCH <- as.numeric(var.egarch)\n",
        "head(N225.df)"
      ],
      "id": "cffa8b9c-7f85-4602-ac12-0456b3314f2e",
      "execution_count": 38,
      "outputs": [
        {
          "output_type": "display_data",
          "data": {
            "text/plain": [
              "[1] 2.214560 3.068745 3.643426 3.069930 3.126831 3.072938"
            ],
            "text/latex": "\\begin{enumerate*}\n\\item 2.21456022814788\n\\item 3.06874512761378\n\\item 3.64342563159538\n\\item 3.06992986218438\n\\item 3.12683068879983\n\\item 3.0729376852298\n\\end{enumerate*}\n",
            "text/markdown": "1. 2.21456022814788\n2. 3.06874512761378\n3. 3.64342563159538\n4. 3.06992986218438\n5. 3.12683068879983\n6. 3.0729376852298\n\n\n",
            "text/html": [
              "<style>\n",
              ".list-inline {list-style: none; margin:0; padding: 0}\n",
              ".list-inline>li {display: inline-block}\n",
              ".list-inline>li:not(:last-child)::after {content: \"\\00b7\"; padding: 0 .5ex}\n",
              "</style>\n",
              "<ol class=list-inline><li>2.21456022814788</li><li>3.06874512761378</li><li>3.64342563159538</li><li>3.06992986218438</li><li>3.12683068879983</li><li>3.0729376852298</li></ol>\n"
            ]
          },
          "metadata": {
            "tags": []
          }
        },
        {
          "output_type": "display_data",
          "data": {
            "text/plain": [
              "           N225.Close N225.Return N225.VolGARCH N225.VolEGARCH\n",
              "2000-01-05   18542.55  -2.4521328      2.215884       2.214560\n",
              "2000-01-06   18168.27  -2.0391493      2.657106       3.068745\n",
              "2000-01-07   18193.41   0.1382809      2.834980       3.643426\n",
              "2000-01-11   18850.92   3.5502266      2.516488       3.069930\n",
              "2000-01-12   18677.42  -0.9246411      3.581335       3.126831\n",
              "2000-01-13   18833.29   0.8310695      3.268782       3.072938"
            ]
          },
          "metadata": {
            "tags": []
          }
        }
      ]
    },
    {
      "cell_type": "markdown",
      "metadata": {
        "id": "3f46740f-5c39-4774-9658-6fc3f087dd0a"
      },
      "source": [
        "**GJR-GARCH model**"
      ],
      "id": "3f46740f-5c39-4774-9658-6fc3f087dd0a"
    },
    {
      "cell_type": "code",
      "metadata": {
        "id": "ab68bdb5-2f9a-4efa-b9af-2cf920607b6a"
      },
      "source": [
        "# Specification \n",
        "gjrgarch.spec <- ugarchspec(variance.model = list(model = \"gjrGARCH\",\n",
        "                                                  garchOrder = c(arch_lag, garch_lag)),\n",
        "                            mean.model = list(armaOrder = c(ar_lag, ma_lag)), \n",
        "                            distribution.model = \"snorm\")\n",
        "# distribution.model = \"snorm\" => skew-normal distribution"
      ],
      "id": "ab68bdb5-2f9a-4efa-b9af-2cf920607b6a",
      "execution_count": 39,
      "outputs": []
    },
    {
      "cell_type": "code",
      "metadata": {
        "id": "bd6466b5-b0f5-44e2-9d43-2922a0f6f588",
        "colab": {
          "base_uri": "https://localhost:8080/",
          "height": 252
        },
        "outputId": "6aab4ca5-7147-4263-866e-3c2ca74ef412"
      },
      "source": [
        "# Estimation\n",
        "gjrgarch.fit <- ugarchfit(spec = gjrgarch.spec, data = N225.df$N225.Return)\n",
        "round(gjrgarch.fit@fit$matcoef, 4)"
      ],
      "id": "bd6466b5-b0f5-44e2-9d43-2922a0f6f588",
      "execution_count": 40,
      "outputs": [
        {
          "output_type": "display_data",
          "data": {
            "text/plain": [
              "        Estimate  Std. Error  t value Pr(>|t|)\n",
              "mu     0.0120    0.0162       0.7414  0.4585  \n",
              "omega  0.0562    0.0079       7.1579  0.0000  \n",
              "alpha1 0.0408    0.0076       5.3804  0.0000  \n",
              "beta1  0.8684    0.0101      85.8219  0.0000  \n",
              "gamma1 0.1267    0.0147       8.6448  0.0000  \n",
              "skew   0.8808    0.0155      56.8307  0.0000  "
            ],
            "text/latex": "A matrix: 6 × 4 of type dbl\n\\begin{tabular}{r|llll}\n  &  Estimate &  Std. Error &  t value & Pr(>\\textbar{}t\\textbar{})\\\\\n\\hline\n\tmu & 0.0120 & 0.0162 &  0.7414 & 0.4585\\\\\n\tomega & 0.0562 & 0.0079 &  7.1579 & 0.0000\\\\\n\talpha1 & 0.0408 & 0.0076 &  5.3804 & 0.0000\\\\\n\tbeta1 & 0.8684 & 0.0101 & 85.8219 & 0.0000\\\\\n\tgamma1 & 0.1267 & 0.0147 &  8.6448 & 0.0000\\\\\n\tskew & 0.8808 & 0.0155 & 56.8307 & 0.0000\\\\\n\\end{tabular}\n",
            "text/markdown": "\nA matrix: 6 × 4 of type dbl\n\n| <!--/--> |  Estimate |  Std. Error |  t value | Pr(&gt;|t|) |\n|---|---|---|---|---|\n| mu | 0.0120 | 0.0162 |  0.7414 | 0.4585 |\n| omega | 0.0562 | 0.0079 |  7.1579 | 0.0000 |\n| alpha1 | 0.0408 | 0.0076 |  5.3804 | 0.0000 |\n| beta1 | 0.8684 | 0.0101 | 85.8219 | 0.0000 |\n| gamma1 | 0.1267 | 0.0147 |  8.6448 | 0.0000 |\n| skew | 0.8808 | 0.0155 | 56.8307 | 0.0000 |\n\n",
            "text/html": [
              "<table class=\"dataframe\">\n",
              "<caption>A matrix: 6 × 4 of type dbl</caption>\n",
              "<thead>\n",
              "\t<tr><th></th><th scope=col> Estimate</th><th scope=col> Std. Error</th><th scope=col> t value</th><th scope=col>Pr(&gt;|t|)</th></tr>\n",
              "</thead>\n",
              "<tbody>\n",
              "\t<tr><th scope=row>mu</th><td>0.0120</td><td>0.0162</td><td> 0.7414</td><td>0.4585</td></tr>\n",
              "\t<tr><th scope=row>omega</th><td>0.0562</td><td>0.0079</td><td> 7.1579</td><td>0.0000</td></tr>\n",
              "\t<tr><th scope=row>alpha1</th><td>0.0408</td><td>0.0076</td><td> 5.3804</td><td>0.0000</td></tr>\n",
              "\t<tr><th scope=row>beta1</th><td>0.8684</td><td>0.0101</td><td>85.8219</td><td>0.0000</td></tr>\n",
              "\t<tr><th scope=row>gamma1</th><td>0.1267</td><td>0.0147</td><td> 8.6448</td><td>0.0000</td></tr>\n",
              "\t<tr><th scope=row>skew</th><td>0.8808</td><td>0.0155</td><td>56.8307</td><td>0.0000</td></tr>\n",
              "</tbody>\n",
              "</table>\n"
            ]
          },
          "metadata": {
            "tags": []
          }
        }
      ]
    },
    {
      "cell_type": "code",
      "metadata": {
        "id": "866a759d-f023-4e0a-9708-ad0b03378079",
        "colab": {
          "base_uri": "https://localhost:8080/",
          "height": 153
        },
        "outputId": "279651a3-5820-40c8-fe41-83bf997addfb"
      },
      "source": [
        "# Extracting variance series from the GJR-GARCH model\n",
        "var.gjrgarch <- ts(gjrgarch.fit@fit$sigma^2)\n",
        "head(var.gjrgarch)\n",
        "\n",
        "N225.df$N225.VolGJRGARCH <- as.numeric(var.gjrgarch)\n",
        "head(N225.df)"
      ],
      "id": "866a759d-f023-4e0a-9708-ad0b03378079",
      "execution_count": 41,
      "outputs": [
        {
          "output_type": "display_data",
          "data": {
            "text/plain": [
              "[1] 2.214573 2.996913 3.363787 2.977967 3.153657 2.941857"
            ],
            "text/latex": "\\begin{enumerate*}\n\\item 2.21457294957858\n\\item 2.99691296184162\n\\item 3.36378715333637\n\\item 2.97796733398349\n\\item 3.15365749828554\n\\item 2.94185717731751\n\\end{enumerate*}\n",
            "text/markdown": "1. 2.21457294957858\n2. 2.99691296184162\n3. 3.36378715333637\n4. 2.97796733398349\n5. 3.15365749828554\n6. 2.94185717731751\n\n\n",
            "text/html": [
              "<style>\n",
              ".list-inline {list-style: none; margin:0; padding: 0}\n",
              ".list-inline>li {display: inline-block}\n",
              ".list-inline>li:not(:last-child)::after {content: \"\\00b7\"; padding: 0 .5ex}\n",
              "</style>\n",
              "<ol class=list-inline><li>2.21457294957858</li><li>2.99691296184162</li><li>3.36378715333637</li><li>2.97796733398349</li><li>3.15365749828554</li><li>2.94185717731751</li></ol>\n"
            ]
          },
          "metadata": {
            "tags": []
          }
        },
        {
          "output_type": "display_data",
          "data": {
            "text/plain": [
              "           N225.Close N225.Return N225.VolGARCH N225.VolEGARCH N225.VolGJRGARCH\n",
              "2000-01-05   18542.55  -2.4521328      2.215884       2.214560         2.214573\n",
              "2000-01-06   18168.27  -2.0391493      2.657106       3.068745         2.996913\n",
              "2000-01-07   18193.41   0.1382809      2.834980       3.643426         3.363787\n",
              "2000-01-11   18850.92   3.5502266      2.516488       3.069930         2.977967\n",
              "2000-01-12   18677.42  -0.9246411      3.581335       3.126831         3.153657\n",
              "2000-01-13   18833.29   0.8310695      3.268782       3.072938         2.941857"
            ]
          },
          "metadata": {
            "tags": []
          }
        }
      ]
    },
    {
      "cell_type": "markdown",
      "metadata": {
        "id": "30791595-f694-409c-a534-adfd13007dc8"
      },
      "source": [
        "## 7. Realized GARCH model estimation"
      ],
      "id": "30791595-f694-409c-a534-adfd13007dc8"
    },
    {
      "cell_type": "code",
      "metadata": {
        "id": "15180bd5-14f4-433e-8d95-6daf87ad72ee"
      },
      "source": [
        "# Specification\n",
        "realgarch.spec <- ugarchspec(mean.model = list(armaOrder = c(ar_lag, ma_lag),\n",
        "                                               include.mean = FALSE),\n",
        "                             variance.model = list(model = 'realGARCH',\n",
        "                                                   garchOrder = c(arch_lag, garch_lag)),\n",
        "                             distribution.model = \"snorm\")\n",
        "# distribution.model = \"snorm\" => skew-normal distribution)"
      ],
      "id": "15180bd5-14f4-433e-8d95-6daf87ad72ee",
      "execution_count": 42,
      "outputs": []
    },
    {
      "cell_type": "markdown",
      "metadata": {
        "id": "a579f920-f7b4-4ea6-b1dc-16fbfd9f5bec"
      },
      "source": [
        "**Realized Linear GARCH**"
      ],
      "id": "a579f920-f7b4-4ea6-b1dc-16fbfd9f5bec"
    },
    {
      "cell_type": "code",
      "metadata": {
        "id": "15ba614a-3479-4aeb-a0a3-f6aa302df878",
        "colab": {
          "base_uri": "https://localhost:8080/",
          "height": 345
        },
        "outputId": "49744077-79f3-4097-d532-ac5829e4e1d5"
      },
      "source": [
        "# Estimation\n",
        "realgarch.fit <- ugarchfit(realgarch.spec, N225.df$N225.Return,\n",
        "                          solver = 'hybrid',\n",
        "                          realizedVol = N225.df$N225.VolGARCH)\n",
        "round(realgarch.fit@fit$matcoef, 4)"
      ],
      "id": "15ba614a-3479-4aeb-a0a3-f6aa302df878",
      "execution_count": 43,
      "outputs": [
        {
          "output_type": "display_data",
          "data": {
            "text/plain": [
              "        Estimate  Std. Error  t value Pr(>|t|)\n",
              "omega   0.0434   0.0243        1.7866 0.0740  \n",
              "alpha1  0.9373   0.0319       29.4067 0.0000  \n",
              "beta1   0.0205   0.0138        1.4833 0.1380  \n",
              "eta11   0.0109   0.0021        5.1892 0.0000  \n",
              "eta21   0.0097   0.0010        9.6352 0.0000  \n",
              "delta   1.0179   0.0314       32.3675 0.0000  \n",
              "lambda  0.1489   0.0015      102.3994 0.0000  \n",
              "skew    0.8867   0.0149       59.5842 0.0000  \n",
              "xi     -0.0316   0.0260       -1.2139 0.2248  "
            ],
            "text/latex": "A matrix: 9 × 4 of type dbl\n\\begin{tabular}{r|llll}\n  &  Estimate &  Std. Error &  t value & Pr(>\\textbar{}t\\textbar{})\\\\\n\\hline\n\tomega &  0.0434 & 0.0243 &   1.7866 & 0.0740\\\\\n\talpha1 &  0.9373 & 0.0319 &  29.4067 & 0.0000\\\\\n\tbeta1 &  0.0205 & 0.0138 &   1.4833 & 0.1380\\\\\n\teta11 &  0.0109 & 0.0021 &   5.1892 & 0.0000\\\\\n\teta21 &  0.0097 & 0.0010 &   9.6352 & 0.0000\\\\\n\tdelta &  1.0179 & 0.0314 &  32.3675 & 0.0000\\\\\n\tlambda &  0.1489 & 0.0015 & 102.3994 & 0.0000\\\\\n\tskew &  0.8867 & 0.0149 &  59.5842 & 0.0000\\\\\n\txi & -0.0316 & 0.0260 &  -1.2139 & 0.2248\\\\\n\\end{tabular}\n",
            "text/markdown": "\nA matrix: 9 × 4 of type dbl\n\n| <!--/--> |  Estimate |  Std. Error |  t value | Pr(&gt;|t|) |\n|---|---|---|---|---|\n| omega |  0.0434 | 0.0243 |   1.7866 | 0.0740 |\n| alpha1 |  0.9373 | 0.0319 |  29.4067 | 0.0000 |\n| beta1 |  0.0205 | 0.0138 |   1.4833 | 0.1380 |\n| eta11 |  0.0109 | 0.0021 |   5.1892 | 0.0000 |\n| eta21 |  0.0097 | 0.0010 |   9.6352 | 0.0000 |\n| delta |  1.0179 | 0.0314 |  32.3675 | 0.0000 |\n| lambda |  0.1489 | 0.0015 | 102.3994 | 0.0000 |\n| skew |  0.8867 | 0.0149 |  59.5842 | 0.0000 |\n| xi | -0.0316 | 0.0260 |  -1.2139 | 0.2248 |\n\n",
            "text/html": [
              "<table class=\"dataframe\">\n",
              "<caption>A matrix: 9 × 4 of type dbl</caption>\n",
              "<thead>\n",
              "\t<tr><th></th><th scope=col> Estimate</th><th scope=col> Std. Error</th><th scope=col> t value</th><th scope=col>Pr(&gt;|t|)</th></tr>\n",
              "</thead>\n",
              "<tbody>\n",
              "\t<tr><th scope=row>omega</th><td> 0.0434</td><td>0.0243</td><td>  1.7866</td><td>0.0740</td></tr>\n",
              "\t<tr><th scope=row>alpha1</th><td> 0.9373</td><td>0.0319</td><td> 29.4067</td><td>0.0000</td></tr>\n",
              "\t<tr><th scope=row>beta1</th><td> 0.0205</td><td>0.0138</td><td>  1.4833</td><td>0.1380</td></tr>\n",
              "\t<tr><th scope=row>eta11</th><td> 0.0109</td><td>0.0021</td><td>  5.1892</td><td>0.0000</td></tr>\n",
              "\t<tr><th scope=row>eta21</th><td> 0.0097</td><td>0.0010</td><td>  9.6352</td><td>0.0000</td></tr>\n",
              "\t<tr><th scope=row>delta</th><td> 1.0179</td><td>0.0314</td><td> 32.3675</td><td>0.0000</td></tr>\n",
              "\t<tr><th scope=row>lambda</th><td> 0.1489</td><td>0.0015</td><td>102.3994</td><td>0.0000</td></tr>\n",
              "\t<tr><th scope=row>skew</th><td> 0.8867</td><td>0.0149</td><td> 59.5842</td><td>0.0000</td></tr>\n",
              "\t<tr><th scope=row>xi</th><td>-0.0316</td><td>0.0260</td><td> -1.2139</td><td>0.2248</td></tr>\n",
              "</tbody>\n",
              "</table>\n"
            ]
          },
          "metadata": {
            "tags": []
          }
        }
      ]
    },
    {
      "cell_type": "code",
      "metadata": {
        "id": "35f05310-d764-4a29-895f-14a3d9333110",
        "colab": {
          "base_uri": "https://localhost:8080/",
          "height": 272
        },
        "outputId": "f78a0d58-496d-44fb-e32b-38229f9bcc9a"
      },
      "source": [
        "# Extracting variance series from the Realized Linear GARCH model\n",
        "var.realgarch <- ts(realgarch.fit@fit$sigma^2)\n",
        "head(var.realgarch)\n",
        "\n",
        "N225.df$N225.VolRealGARCH <- as.numeric(var.realgarch)\n",
        "head(N225.df)"
      ],
      "id": "35f05310-d764-4a29-895f-14a3d9333110",
      "execution_count": 44,
      "outputs": [
        {
          "output_type": "display_data",
          "data": {
            "text/plain": [
              "[1] 2.214620 2.237486 2.653173 2.829142 2.533477 3.518616"
            ],
            "text/latex": "\\begin{enumerate*}\n\\item 2.2146204361427\n\\item 2.23748554045947\n\\item 2.65317308208268\n\\item 2.8291415745265\n\\item 2.53347719088488\n\\item 3.51861633371947\n\\end{enumerate*}\n",
            "text/markdown": "1. 2.2146204361427\n2. 2.23748554045947\n3. 2.65317308208268\n4. 2.8291415745265\n5. 2.53347719088488\n6. 3.51861633371947\n\n\n",
            "text/html": [
              "<style>\n",
              ".list-inline {list-style: none; margin:0; padding: 0}\n",
              ".list-inline>li {display: inline-block}\n",
              ".list-inline>li:not(:last-child)::after {content: \"\\00b7\"; padding: 0 .5ex}\n",
              "</style>\n",
              "<ol class=list-inline><li>2.2146204361427</li><li>2.23748554045947</li><li>2.65317308208268</li><li>2.8291415745265</li><li>2.53347719088488</li><li>3.51861633371947</li></ol>\n"
            ]
          },
          "metadata": {
            "tags": []
          }
        },
        {
          "output_type": "display_data",
          "data": {
            "text/plain": [
              "           N225.Close N225.Return N225.VolGARCH N225.VolEGARCH N225.VolGJRGARCH\n",
              "2000-01-05   18542.55  -2.4521328      2.215884       2.214560         2.214573\n",
              "2000-01-06   18168.27  -2.0391493      2.657106       3.068745         2.996913\n",
              "2000-01-07   18193.41   0.1382809      2.834980       3.643426         3.363787\n",
              "2000-01-11   18850.92   3.5502266      2.516488       3.069930         2.977967\n",
              "2000-01-12   18677.42  -0.9246411      3.581335       3.126831         3.153657\n",
              "2000-01-13   18833.29   0.8310695      3.268782       3.072938         2.941857\n",
              "           N225.VolRealGARCH\n",
              "2000-01-05          2.214620\n",
              "2000-01-06          2.237486\n",
              "2000-01-07          2.653173\n",
              "2000-01-11          2.829142\n",
              "2000-01-12          2.533477\n",
              "2000-01-13          3.518616"
            ]
          },
          "metadata": {
            "tags": []
          }
        }
      ]
    },
    {
      "cell_type": "markdown",
      "metadata": {
        "id": "3cac3418-86e3-40a3-b370-d044e9ffda05"
      },
      "source": [
        "**Realized EGARCH**"
      ],
      "id": "3cac3418-86e3-40a3-b370-d044e9ffda05"
    },
    {
      "cell_type": "code",
      "metadata": {
        "id": "8dab1b63-5db6-4abb-8ab3-4e49b909a386",
        "colab": {
          "base_uri": "https://localhost:8080/",
          "height": 345
        },
        "outputId": "0cc66d3f-b712-4ac8-a1b7-bd3a0d4fc72a"
      },
      "source": [
        "# Estimation\n",
        "realegarch.fit <- ugarchfit(realgarch.spec, N225.df$N225.Return,\n",
        "                            solver = 'hybrid',\n",
        "                            realizedVol = N225.df$N225.VolEGARCH)\n",
        "round(realegarch.fit@fit$matcoef, 4)"
      ],
      "id": "8dab1b63-5db6-4abb-8ab3-4e49b909a386",
      "execution_count": 45,
      "outputs": [
        {
          "output_type": "display_data",
          "data": {
            "text/plain": [
              "        Estimate  Std. Error  t value Pr(>|t|)\n",
              "omega   0.0270   0.0231        1.1661 0.2436  \n",
              "alpha1  0.9417   0.0300       31.3820 0.0000  \n",
              "beta1   0.0354   0.0138        2.5670 0.0103  \n",
              "eta11   0.0108   0.0024        4.6074 0.0000  \n",
              "eta21   0.0108   0.0012        9.2804 0.0000  \n",
              "delta   0.9915   0.0282       35.1761 0.0000  \n",
              "lambda  0.1679   0.0016      102.3982 0.0000  \n",
              "skew    0.8980   0.0151       59.3260 0.0000  \n",
              "xi     -0.0119   0.0242       -0.4903 0.6239  "
            ],
            "text/latex": "A matrix: 9 × 4 of type dbl\n\\begin{tabular}{r|llll}\n  &  Estimate &  Std. Error &  t value & Pr(>\\textbar{}t\\textbar{})\\\\\n\\hline\n\tomega &  0.0270 & 0.0231 &   1.1661 & 0.2436\\\\\n\talpha1 &  0.9417 & 0.0300 &  31.3820 & 0.0000\\\\\n\tbeta1 &  0.0354 & 0.0138 &   2.5670 & 0.0103\\\\\n\teta11 &  0.0108 & 0.0024 &   4.6074 & 0.0000\\\\\n\teta21 &  0.0108 & 0.0012 &   9.2804 & 0.0000\\\\\n\tdelta &  0.9915 & 0.0282 &  35.1761 & 0.0000\\\\\n\tlambda &  0.1679 & 0.0016 & 102.3982 & 0.0000\\\\\n\tskew &  0.8980 & 0.0151 &  59.3260 & 0.0000\\\\\n\txi & -0.0119 & 0.0242 &  -0.4903 & 0.6239\\\\\n\\end{tabular}\n",
            "text/markdown": "\nA matrix: 9 × 4 of type dbl\n\n| <!--/--> |  Estimate |  Std. Error |  t value | Pr(&gt;|t|) |\n|---|---|---|---|---|\n| omega |  0.0270 | 0.0231 |   1.1661 | 0.2436 |\n| alpha1 |  0.9417 | 0.0300 |  31.3820 | 0.0000 |\n| beta1 |  0.0354 | 0.0138 |   2.5670 | 0.0103 |\n| eta11 |  0.0108 | 0.0024 |   4.6074 | 0.0000 |\n| eta21 |  0.0108 | 0.0012 |   9.2804 | 0.0000 |\n| delta |  0.9915 | 0.0282 |  35.1761 | 0.0000 |\n| lambda |  0.1679 | 0.0016 | 102.3982 | 0.0000 |\n| skew |  0.8980 | 0.0151 |  59.3260 | 0.0000 |\n| xi | -0.0119 | 0.0242 |  -0.4903 | 0.6239 |\n\n",
            "text/html": [
              "<table class=\"dataframe\">\n",
              "<caption>A matrix: 9 × 4 of type dbl</caption>\n",
              "<thead>\n",
              "\t<tr><th></th><th scope=col> Estimate</th><th scope=col> Std. Error</th><th scope=col> t value</th><th scope=col>Pr(&gt;|t|)</th></tr>\n",
              "</thead>\n",
              "<tbody>\n",
              "\t<tr><th scope=row>omega</th><td> 0.0270</td><td>0.0231</td><td>  1.1661</td><td>0.2436</td></tr>\n",
              "\t<tr><th scope=row>alpha1</th><td> 0.9417</td><td>0.0300</td><td> 31.3820</td><td>0.0000</td></tr>\n",
              "\t<tr><th scope=row>beta1</th><td> 0.0354</td><td>0.0138</td><td>  2.5670</td><td>0.0103</td></tr>\n",
              "\t<tr><th scope=row>eta11</th><td> 0.0108</td><td>0.0024</td><td>  4.6074</td><td>0.0000</td></tr>\n",
              "\t<tr><th scope=row>eta21</th><td> 0.0108</td><td>0.0012</td><td>  9.2804</td><td>0.0000</td></tr>\n",
              "\t<tr><th scope=row>delta</th><td> 0.9915</td><td>0.0282</td><td> 35.1761</td><td>0.0000</td></tr>\n",
              "\t<tr><th scope=row>lambda</th><td> 0.1679</td><td>0.0016</td><td>102.3982</td><td>0.0000</td></tr>\n",
              "\t<tr><th scope=row>skew</th><td> 0.8980</td><td>0.0151</td><td> 59.3260</td><td>0.0000</td></tr>\n",
              "\t<tr><th scope=row>xi</th><td>-0.0119</td><td>0.0242</td><td> -0.4903</td><td>0.6239</td></tr>\n",
              "</tbody>\n",
              "</table>\n"
            ]
          },
          "metadata": {
            "tags": []
          }
        }
      ]
    },
    {
      "cell_type": "code",
      "metadata": {
        "id": "8888b518-3a21-47ca-9f66-8cb6a20c7a0d",
        "colab": {
          "base_uri": "https://localhost:8080/",
          "height": 272
        },
        "outputId": "e54db192-a59b-4353-90da-12c0618b0a35"
      },
      "source": [
        "# Extracting variance series from the Realized EGARCH model\n",
        "var.realegarch <- ts(realegarch.fit@fit$sigma^2)\n",
        "head(var.realegarch)\n",
        "\n",
        "N225.df$N225.VolRealEGARCH <- as.numeric(var.realegarch)\n",
        "head(N225.df)"
      ],
      "id": "8888b518-3a21-47ca-9f66-8cb6a20c7a0d",
      "execution_count": 46,
      "outputs": [
        {
          "output_type": "display_data",
          "data": {
            "text/plain": [
              "[1] 2.214620 2.234051 3.038395 3.610537 3.091540 3.128258"
            ],
            "text/latex": "\\begin{enumerate*}\n\\item 2.2146204361427\n\\item 2.23405078683331\n\\item 3.03839527779571\n\\item 3.6105372619214\n\\item 3.09153980909582\n\\item 3.12825752751939\n\\end{enumerate*}\n",
            "text/markdown": "1. 2.2146204361427\n2. 2.23405078683331\n3. 3.03839527779571\n4. 3.6105372619214\n5. 3.09153980909582\n6. 3.12825752751939\n\n\n",
            "text/html": [
              "<style>\n",
              ".list-inline {list-style: none; margin:0; padding: 0}\n",
              ".list-inline>li {display: inline-block}\n",
              ".list-inline>li:not(:last-child)::after {content: \"\\00b7\"; padding: 0 .5ex}\n",
              "</style>\n",
              "<ol class=list-inline><li>2.2146204361427</li><li>2.23405078683331</li><li>3.03839527779571</li><li>3.6105372619214</li><li>3.09153980909582</li><li>3.12825752751939</li></ol>\n"
            ]
          },
          "metadata": {
            "tags": []
          }
        },
        {
          "output_type": "display_data",
          "data": {
            "text/plain": [
              "           N225.Close N225.Return N225.VolGARCH N225.VolEGARCH N225.VolGJRGARCH\n",
              "2000-01-05   18542.55  -2.4521328      2.215884       2.214560         2.214573\n",
              "2000-01-06   18168.27  -2.0391493      2.657106       3.068745         2.996913\n",
              "2000-01-07   18193.41   0.1382809      2.834980       3.643426         3.363787\n",
              "2000-01-11   18850.92   3.5502266      2.516488       3.069930         2.977967\n",
              "2000-01-12   18677.42  -0.9246411      3.581335       3.126831         3.153657\n",
              "2000-01-13   18833.29   0.8310695      3.268782       3.072938         2.941857\n",
              "           N225.VolRealGARCH N225.VolRealEGARCH\n",
              "2000-01-05          2.214620           2.214620\n",
              "2000-01-06          2.237486           2.234051\n",
              "2000-01-07          2.653173           3.038395\n",
              "2000-01-11          2.829142           3.610537\n",
              "2000-01-12          2.533477           3.091540\n",
              "2000-01-13          3.518616           3.128258"
            ]
          },
          "metadata": {
            "tags": []
          }
        }
      ]
    },
    {
      "cell_type": "markdown",
      "metadata": {
        "id": "84982d7c-c0eb-404c-b399-e720fb9281cf"
      },
      "source": [
        "**Realized GJR-GARCH**"
      ],
      "id": "84982d7c-c0eb-404c-b399-e720fb9281cf"
    },
    {
      "cell_type": "code",
      "metadata": {
        "id": "9fbe16e5-06c5-4329-ac4e-cd097521e0fe",
        "colab": {
          "base_uri": "https://localhost:8080/",
          "height": 345
        },
        "outputId": "a041edd5-fc4d-4c19-875e-efb8aa3531ef"
      },
      "source": [
        "# Estimation\n",
        "realgjrgarch.fit <- ugarchfit(realgarch.spec, N225.df$N225.Return,\n",
        "                              solver = 'hybrid',\n",
        "                              realizedVol = N225.df$N225.VolGJRGARCH)\n",
        "round(realgjrgarch.fit@fit$matcoef, 4)"
      ],
      "id": "9fbe16e5-06c5-4329-ac4e-cd097521e0fe",
      "execution_count": 47,
      "outputs": [
        {
          "output_type": "display_data",
          "data": {
            "text/plain": [
              "        Estimate  Std. Error  t value Pr(>|t|)\n",
              "omega   0.0469   0.0238        1.9727 0.0485  \n",
              "alpha1  0.9186   0.0309       29.6956 0.0000  \n",
              "beta1   0.0240   0.0138        1.7431 0.0813  \n",
              "eta11   0.0116   0.0024        4.8202 0.0000  \n",
              "eta21   0.0112   0.0012        9.4993 0.0000  \n",
              "delta   1.0288   0.0314       32.7724 0.0000  \n",
              "lambda  0.1708   0.0017      102.3989 0.0000  \n",
              "skew    0.8881   0.0151       58.8260 0.0000  \n",
              "xi     -0.0335   0.0259       -1.2918 0.1964  "
            ],
            "text/latex": "A matrix: 9 × 4 of type dbl\n\\begin{tabular}{r|llll}\n  &  Estimate &  Std. Error &  t value & Pr(>\\textbar{}t\\textbar{})\\\\\n\\hline\n\tomega &  0.0469 & 0.0238 &   1.9727 & 0.0485\\\\\n\talpha1 &  0.9186 & 0.0309 &  29.6956 & 0.0000\\\\\n\tbeta1 &  0.0240 & 0.0138 &   1.7431 & 0.0813\\\\\n\teta11 &  0.0116 & 0.0024 &   4.8202 & 0.0000\\\\\n\teta21 &  0.0112 & 0.0012 &   9.4993 & 0.0000\\\\\n\tdelta &  1.0288 & 0.0314 &  32.7724 & 0.0000\\\\\n\tlambda &  0.1708 & 0.0017 & 102.3989 & 0.0000\\\\\n\tskew &  0.8881 & 0.0151 &  58.8260 & 0.0000\\\\\n\txi & -0.0335 & 0.0259 &  -1.2918 & 0.1964\\\\\n\\end{tabular}\n",
            "text/markdown": "\nA matrix: 9 × 4 of type dbl\n\n| <!--/--> |  Estimate |  Std. Error |  t value | Pr(&gt;|t|) |\n|---|---|---|---|---|\n| omega |  0.0469 | 0.0238 |   1.9727 | 0.0485 |\n| alpha1 |  0.9186 | 0.0309 |  29.6956 | 0.0000 |\n| beta1 |  0.0240 | 0.0138 |   1.7431 | 0.0813 |\n| eta11 |  0.0116 | 0.0024 |   4.8202 | 0.0000 |\n| eta21 |  0.0112 | 0.0012 |   9.4993 | 0.0000 |\n| delta |  1.0288 | 0.0314 |  32.7724 | 0.0000 |\n| lambda |  0.1708 | 0.0017 | 102.3989 | 0.0000 |\n| skew |  0.8881 | 0.0151 |  58.8260 | 0.0000 |\n| xi | -0.0335 | 0.0259 |  -1.2918 | 0.1964 |\n\n",
            "text/html": [
              "<table class=\"dataframe\">\n",
              "<caption>A matrix: 9 × 4 of type dbl</caption>\n",
              "<thead>\n",
              "\t<tr><th></th><th scope=col> Estimate</th><th scope=col> Std. Error</th><th scope=col> t value</th><th scope=col>Pr(&gt;|t|)</th></tr>\n",
              "</thead>\n",
              "<tbody>\n",
              "\t<tr><th scope=row>omega</th><td> 0.0469</td><td>0.0238</td><td>  1.9727</td><td>0.0485</td></tr>\n",
              "\t<tr><th scope=row>alpha1</th><td> 0.9186</td><td>0.0309</td><td> 29.6956</td><td>0.0000</td></tr>\n",
              "\t<tr><th scope=row>beta1</th><td> 0.0240</td><td>0.0138</td><td>  1.7431</td><td>0.0813</td></tr>\n",
              "\t<tr><th scope=row>eta11</th><td> 0.0116</td><td>0.0024</td><td>  4.8202</td><td>0.0000</td></tr>\n",
              "\t<tr><th scope=row>eta21</th><td> 0.0112</td><td>0.0012</td><td>  9.4993</td><td>0.0000</td></tr>\n",
              "\t<tr><th scope=row>delta</th><td> 1.0288</td><td>0.0314</td><td> 32.7724</td><td>0.0000</td></tr>\n",
              "\t<tr><th scope=row>lambda</th><td> 0.1708</td><td>0.0017</td><td>102.3989</td><td>0.0000</td></tr>\n",
              "\t<tr><th scope=row>skew</th><td> 0.8881</td><td>0.0151</td><td> 58.8260</td><td>0.0000</td></tr>\n",
              "\t<tr><th scope=row>xi</th><td>-0.0335</td><td>0.0259</td><td> -1.2918</td><td>0.1964</td></tr>\n",
              "</tbody>\n",
              "</table>\n"
            ]
          },
          "metadata": {
            "tags": []
          }
        }
      ]
    },
    {
      "cell_type": "code",
      "metadata": {
        "id": "72de108a-b473-4d76-9dc5-c1ae251113eb",
        "colab": {
          "base_uri": "https://localhost:8080/",
          "height": 272
        },
        "outputId": "e181cc2a-bc0c-46c1-f3e5-d206dc2c32c7"
      },
      "source": [
        "# Extracting variance series from the Realized GJR-GARCH model\n",
        "var.realgjrgarch <- ts(realgjrgarch.fit@fit$sigma^2)\n",
        "head(var.realgjrgarch)\n",
        "\n",
        "N225.df$N225.VolRealGJRGARCH <- as.numeric(var.realgjrgarch)\n",
        "head(N225.df)"
      ],
      "id": "72de108a-b473-4d76-9dc5-c1ae251113eb",
      "execution_count": 48,
      "outputs": [
        {
          "output_type": "display_data",
          "data": {
            "text/plain": [
              "[1] 2.214620 2.217411 2.927845 3.277314 2.938275 3.089027"
            ],
            "text/latex": "\\begin{enumerate*}\n\\item 2.2146204361427\n\\item 2.21741080736499\n\\item 2.92784450569364\n\\item 3.27731383569448\n\\item 2.93827518667899\n\\item 3.08902651524091\n\\end{enumerate*}\n",
            "text/markdown": "1. 2.2146204361427\n2. 2.21741080736499\n3. 2.92784450569364\n4. 3.27731383569448\n5. 2.93827518667899\n6. 3.08902651524091\n\n\n",
            "text/html": [
              "<style>\n",
              ".list-inline {list-style: none; margin:0; padding: 0}\n",
              ".list-inline>li {display: inline-block}\n",
              ".list-inline>li:not(:last-child)::after {content: \"\\00b7\"; padding: 0 .5ex}\n",
              "</style>\n",
              "<ol class=list-inline><li>2.2146204361427</li><li>2.21741080736499</li><li>2.92784450569364</li><li>3.27731383569448</li><li>2.93827518667899</li><li>3.08902651524091</li></ol>\n"
            ]
          },
          "metadata": {
            "tags": []
          }
        },
        {
          "output_type": "display_data",
          "data": {
            "text/plain": [
              "           N225.Close N225.Return N225.VolGARCH N225.VolEGARCH N225.VolGJRGARCH\n",
              "2000-01-05   18542.55  -2.4521328      2.215884       2.214560         2.214573\n",
              "2000-01-06   18168.27  -2.0391493      2.657106       3.068745         2.996913\n",
              "2000-01-07   18193.41   0.1382809      2.834980       3.643426         3.363787\n",
              "2000-01-11   18850.92   3.5502266      2.516488       3.069930         2.977967\n",
              "2000-01-12   18677.42  -0.9246411      3.581335       3.126831         3.153657\n",
              "2000-01-13   18833.29   0.8310695      3.268782       3.072938         2.941857\n",
              "           N225.VolRealGARCH N225.VolRealEGARCH N225.VolRealGJRGARCH\n",
              "2000-01-05          2.214620           2.214620             2.214620\n",
              "2000-01-06          2.237486           2.234051             2.217411\n",
              "2000-01-07          2.653173           3.038395             2.927845\n",
              "2000-01-11          2.829142           3.610537             3.277314\n",
              "2000-01-12          2.533477           3.091540             2.938275\n",
              "2000-01-13          3.518616           3.128258             3.089027"
            ]
          },
          "metadata": {
            "tags": []
          }
        }
      ]
    },
    {
      "cell_type": "markdown",
      "metadata": {
        "id": "735d096c-8ec1-4d3a-a1d9-b7174e560beb"
      },
      "source": [
        "## 8. Markov-Switching GARCH estimation"
      ],
      "id": "735d096c-8ec1-4d3a-a1d9-b7174e560beb"
    },
    {
      "cell_type": "code",
      "metadata": {
        "id": "9ea73810-e857-41db-82fd-a2e4dd54c754",
        "colab": {
          "base_uri": "https://localhost:8080/"
        },
        "outputId": "1e9c3569-a5bd-4417-d02f-e49cca141a5c"
      },
      "source": [
        "# Packages\n",
        "install.packages('MSGARCH')\n",
        "\n",
        "library(MSGARCH)"
      ],
      "id": "9ea73810-e857-41db-82fd-a2e4dd54c754",
      "execution_count": 49,
      "outputs": [
        {
          "output_type": "stream",
          "text": [
            "Installing package into ‘/usr/local/lib/R/site-library’\n",
            "(as ‘lib’ is unspecified)\n",
            "\n",
            "also installing the dependencies ‘coda’, ‘expm’, ‘fanplot’\n",
            "\n",
            "\n"
          ],
          "name": "stderr"
        }
      ]
    },
    {
      "cell_type": "markdown",
      "metadata": {
        "id": "ef3e18a9-c620-446e-b3cd-d5d20cf98832"
      },
      "source": [
        "2 regimes: low volatility and high volatility"
      ],
      "id": "ef3e18a9-c620-446e-b3cd-d5d20cf98832"
    },
    {
      "cell_type": "markdown",
      "metadata": {
        "id": "0nhstzdv_IBM"
      },
      "source": [
        "**Linear MS GARCH**"
      ],
      "id": "0nhstzdv_IBM"
    },
    {
      "cell_type": "code",
      "metadata": {
        "id": "a31f362b-be2d-4084-85cc-fd43b95ba2cf"
      },
      "source": [
        "# Specification\n",
        "msgarch.spec <- CreateSpec(variance.spec = list(model = c(\"sGARCH\")),\n",
        "                           distribution.spec = list(distribution = c(\"snorm\")),\n",
        "                           switch.spec = list(K = 2))"
      ],
      "id": "a31f362b-be2d-4084-85cc-fd43b95ba2cf",
      "execution_count": 50,
      "outputs": []
    },
    {
      "cell_type": "code",
      "metadata": {
        "id": "v0OrYkGOTGnf",
        "colab": {
          "base_uri": "https://localhost:8080/"
        },
        "outputId": "a7d213c1-4588-4655-f09f-e99c39fc5131"
      },
      "source": [
        "# Estimation\n",
        "msgarch.fit <- FitML(msgarch.spec, data = N225.df$N225.Return)    \n",
        "summary(msgarch.fit)"
      ],
      "id": "v0OrYkGOTGnf",
      "execution_count": 51,
      "outputs": [
        {
          "output_type": "stream",
          "text": [
            "Specification type: Markov-switching\n",
            "Specification name: sGARCH_snorm sGARCH_snorm\n",
            "Number of parameters in each variance model: 3 3\n",
            "Number of parameters in each distribution: 1 1\n",
            "------------------------------------------\n",
            "Fixed parameters:\n",
            "None\n",
            "------------------------------------------\n",
            "Across regime constrained parameters:\n",
            "None\n",
            "------------------------------------------\n",
            "Fitted parameters:\n",
            "         Estimate Std. Error  t value  Pr(>|t|)\n",
            "alpha0_1   0.0000     0.0000   0.0157 4.937e-01\n",
            "alpha1_1   0.0189     0.0069   2.7346 3.123e-03\n",
            "beta_1     0.9594     0.0044 217.1301    <1e-16\n",
            "xi_1       1.0019     0.0454  22.0887    <1e-16\n",
            "alpha0_2   0.1630     0.0366   4.4577 4.142e-06\n",
            "alpha1_2   0.1879     0.0846   2.2208 1.318e-02\n",
            "beta_2     0.8058     0.0033 242.1187    <1e-16\n",
            "xi_2       0.7928     0.0260  30.5490    <1e-16\n",
            "P_1_1      0.3092     0.1229   2.5168 5.921e-03\n",
            "P_2_1      0.5813     0.0694   8.3740    <1e-16\n",
            "------------------------------------------\n",
            "Transition matrix:\n",
            "      t+1|k=1 t+1|k=2\n",
            "t|k=1  0.3092  0.6908\n",
            "t|k=2  0.5813  0.4187\n",
            "------------------------------------------\n",
            "Stable probabilities:\n",
            "State 1 State 2 \n",
            " 0.4569  0.5431 \n",
            "------------------------------------------\n",
            "LL: -8731.4928\n",
            "AIC: 17482.9857\n",
            "BIC: 17548.6322\n",
            "------------------------------------------\n"
          ],
          "name": "stdout"
        }
      ]
    },
    {
      "cell_type": "code",
      "metadata": {
        "id": "Bg9ZdxIiTUr7",
        "colab": {
          "base_uri": "https://localhost:8080/",
          "height": 391
        },
        "outputId": "2fd39388-5b3a-4e73-a4b3-3c618eea2e43"
      },
      "source": [
        "# Extracting variance series from the MS GARCH model\n",
        "var.msgarch <- ts(Volatility(msgarch.fit))\n",
        "head(var.msgarch)\n",
        "\n",
        "N225.df$N225.VolMSGARCH <- as.numeric(var.msgarch)\n",
        "head(N225.df)"
      ],
      "id": "Bg9ZdxIiTUr7",
      "execution_count": 52,
      "outputs": [
        {
          "output_type": "display_data",
          "data": {
            "text/plain": [
              "     t=1      t=2      t=3      t=4      t=5      t=6 \n",
              "3.747716 3.474446 2.823638 3.215745 2.541923 2.805237 "
            ],
            "text/latex": "\\begin{description*}\n\\item[t=1] 3.7477158789609\n\\item[t=2] 3.47444562075517\n\\item[t=3] 2.8236383735284\n\\item[t=4] 3.21574494099726\n\\item[t=5] 2.54192338144063\n\\item[t=6] 2.8052368370073\n\\end{description*}\n",
            "text/markdown": "t=1\n:   3.7477158789609t=2\n:   3.47444562075517t=3\n:   2.8236383735284t=4\n:   3.21574494099726t=5\n:   2.54192338144063t=6\n:   2.8052368370073\n\n",
            "text/html": [
              "<style>\n",
              ".dl-inline {width: auto; margin:0; padding: 0}\n",
              ".dl-inline>dt, .dl-inline>dd {float: none; width: auto; display: inline-block}\n",
              ".dl-inline>dt::after {content: \":\\0020\"; padding-right: .5ex}\n",
              ".dl-inline>dt:not(:first-of-type) {padding-left: .5ex}\n",
              "</style><dl class=dl-inline><dt>t=1</dt><dd>3.7477158789609</dd><dt>t=2</dt><dd>3.47444562075517</dd><dt>t=3</dt><dd>2.8236383735284</dd><dt>t=4</dt><dd>3.21574494099726</dd><dt>t=5</dt><dd>2.54192338144063</dd><dt>t=6</dt><dd>2.8052368370073</dd></dl>\n"
            ]
          },
          "metadata": {
            "tags": []
          }
        },
        {
          "output_type": "display_data",
          "data": {
            "text/plain": [
              "           N225.Close N225.Return N225.VolGARCH N225.VolEGARCH N225.VolGJRGARCH\n",
              "2000-01-05   18542.55  -2.4521328      2.215884       2.214560         2.214573\n",
              "2000-01-06   18168.27  -2.0391493      2.657106       3.068745         2.996913\n",
              "2000-01-07   18193.41   0.1382809      2.834980       3.643426         3.363787\n",
              "2000-01-11   18850.92   3.5502266      2.516488       3.069930         2.977967\n",
              "2000-01-12   18677.42  -0.9246411      3.581335       3.126831         3.153657\n",
              "2000-01-13   18833.29   0.8310695      3.268782       3.072938         2.941857\n",
              "           N225.VolRealGARCH N225.VolRealEGARCH N225.VolRealGJRGARCH\n",
              "2000-01-05          2.214620           2.214620             2.214620\n",
              "2000-01-06          2.237486           2.234051             2.217411\n",
              "2000-01-07          2.653173           3.038395             2.927845\n",
              "2000-01-11          2.829142           3.610537             3.277314\n",
              "2000-01-12          2.533477           3.091540             2.938275\n",
              "2000-01-13          3.518616           3.128258             3.089027\n",
              "           N225.VolMSGARCH\n",
              "2000-01-05        3.747716\n",
              "2000-01-06        3.474446\n",
              "2000-01-07        2.823638\n",
              "2000-01-11        3.215745\n",
              "2000-01-12        2.541923\n",
              "2000-01-13        2.805237"
            ]
          },
          "metadata": {
            "tags": []
          }
        }
      ]
    },
    {
      "cell_type": "markdown",
      "metadata": {
        "id": "jDyeAzbaUZGK"
      },
      "source": [
        "**MS EGARCH**"
      ],
      "id": "jDyeAzbaUZGK"
    },
    {
      "cell_type": "code",
      "metadata": {
        "id": "OJ_1-NOIUduu"
      },
      "source": [
        "# Specification\n",
        "msegarch.spec <- CreateSpec(variance.spec = list(model = c(\"eGARCH\")),\n",
        "                            distribution.spec = list(distribution = c(\"snorm\")),\n",
        "                            switch.spec = list(K = 2))"
      ],
      "id": "OJ_1-NOIUduu",
      "execution_count": 53,
      "outputs": []
    },
    {
      "cell_type": "code",
      "metadata": {
        "id": "QZBzDVNzUgcq",
        "colab": {
          "base_uri": "https://localhost:8080/"
        },
        "outputId": "a2069349-8a84-4c1e-8645-6b694814b1ee"
      },
      "source": [
        "# Estimation\n",
        "msegarch.fit <- FitML(msegarch.spec, data = N225.df$N225.Return)    \n",
        "summary(msegarch.fit)"
      ],
      "id": "QZBzDVNzUgcq",
      "execution_count": 54,
      "outputs": [
        {
          "output_type": "stream",
          "text": [
            "Specification type: Markov-switching\n",
            "Specification name: eGARCH_snorm eGARCH_snorm\n",
            "Number of parameters in each variance model: 4 4\n",
            "Number of parameters in each distribution: 1 1\n",
            "------------------------------------------\n",
            "Fixed parameters:\n",
            "None\n",
            "------------------------------------------\n",
            "Across regime constrained parameters:\n",
            "None\n",
            "------------------------------------------\n",
            "Fitted parameters:\n",
            "         Estimate Std. Error  t value  Pr(>|t|)\n",
            "alpha0_1  -0.0012     0.0028  -0.4404 3.298e-01\n",
            "alpha1_1   0.0763     0.0152   5.0220 2.556e-07\n",
            "alpha2_1  -0.1271     0.0155  -8.1772 1.110e-16\n",
            "beta_1     0.9761     0.0051 190.7423    <1e-16\n",
            "xi_1       0.8972     0.0234  38.4151    <1e-16\n",
            "alpha0_2   0.0648     0.0139   4.6755 1.466e-06\n",
            "alpha1_2   0.0990     0.0284   3.4876 2.437e-04\n",
            "alpha2_2  -0.1248     0.0179  -6.9628 1.667e-12\n",
            "beta_2     0.9691     0.0110  88.1828    <1e-16\n",
            "xi_2       0.8201     0.0377  21.7733    <1e-16\n",
            "P_1_1      0.9833     0.0194  50.6213    <1e-16\n",
            "P_2_1      0.0651     0.0050  13.0816    <1e-16\n",
            "------------------------------------------\n",
            "Transition matrix:\n",
            "      t+1|k=1 t+1|k=2\n",
            "t|k=1  0.9833  0.0167\n",
            "t|k=2  0.0651  0.9349\n",
            "------------------------------------------\n",
            "Stable probabilities:\n",
            "State 1 State 2 \n",
            " 0.7957  0.2043 \n",
            "------------------------------------------\n",
            "LL: -8677.2699\n",
            "AIC: 17378.5398\n",
            "BIC: 17457.3156\n",
            "------------------------------------------\n"
          ],
          "name": "stdout"
        }
      ]
    },
    {
      "cell_type": "code",
      "metadata": {
        "id": "RTicDPi3U_ux",
        "colab": {
          "base_uri": "https://localhost:8080/",
          "height": 391
        },
        "outputId": "12bdf14c-c306-4bb8-a909-af910ccc82ed"
      },
      "source": [
        "# Extracting variance series from the MS EGARCH model\n",
        "var.msegarch <- ts(Volatility(msegarch.fit))\n",
        "head(var.msegarch)\n",
        "\n",
        "N225.df$N225.VolMSEGARCH <- as.numeric(var.msegarch)\n",
        "head(N225.df)"
      ],
      "id": "RTicDPi3U_ux",
      "execution_count": 55,
      "outputs": [
        {
          "output_type": "display_data",
          "data": {
            "text/plain": [
              "     t=1      t=2      t=3      t=4      t=5      t=6 \n",
              "1.553255 1.744290 1.927610 1.631720 2.301666 2.053157 "
            ],
            "text/latex": "\\begin{description*}\n\\item[t=1] 1.55325480353646\n\\item[t=2] 1.74429002742331\n\\item[t=3] 1.92760963416887\n\\item[t=4] 1.63172011962088\n\\item[t=5] 2.30166583299992\n\\item[t=6] 2.05315678152688\n\\end{description*}\n",
            "text/markdown": "t=1\n:   1.55325480353646t=2\n:   1.74429002742331t=3\n:   1.92760963416887t=4\n:   1.63172011962088t=5\n:   2.30166583299992t=6\n:   2.05315678152688\n\n",
            "text/html": [
              "<style>\n",
              ".dl-inline {width: auto; margin:0; padding: 0}\n",
              ".dl-inline>dt, .dl-inline>dd {float: none; width: auto; display: inline-block}\n",
              ".dl-inline>dt::after {content: \":\\0020\"; padding-right: .5ex}\n",
              ".dl-inline>dt:not(:first-of-type) {padding-left: .5ex}\n",
              "</style><dl class=dl-inline><dt>t=1</dt><dd>1.55325480353646</dd><dt>t=2</dt><dd>1.74429002742331</dd><dt>t=3</dt><dd>1.92760963416887</dd><dt>t=4</dt><dd>1.63172011962088</dd><dt>t=5</dt><dd>2.30166583299992</dd><dt>t=6</dt><dd>2.05315678152688</dd></dl>\n"
            ]
          },
          "metadata": {
            "tags": []
          }
        },
        {
          "output_type": "display_data",
          "data": {
            "text/plain": [
              "           N225.Close N225.Return N225.VolGARCH N225.VolEGARCH N225.VolGJRGARCH\n",
              "2000-01-05   18542.55  -2.4521328      2.215884       2.214560         2.214573\n",
              "2000-01-06   18168.27  -2.0391493      2.657106       3.068745         2.996913\n",
              "2000-01-07   18193.41   0.1382809      2.834980       3.643426         3.363787\n",
              "2000-01-11   18850.92   3.5502266      2.516488       3.069930         2.977967\n",
              "2000-01-12   18677.42  -0.9246411      3.581335       3.126831         3.153657\n",
              "2000-01-13   18833.29   0.8310695      3.268782       3.072938         2.941857\n",
              "           N225.VolRealGARCH N225.VolRealEGARCH N225.VolRealGJRGARCH\n",
              "2000-01-05          2.214620           2.214620             2.214620\n",
              "2000-01-06          2.237486           2.234051             2.217411\n",
              "2000-01-07          2.653173           3.038395             2.927845\n",
              "2000-01-11          2.829142           3.610537             3.277314\n",
              "2000-01-12          2.533477           3.091540             2.938275\n",
              "2000-01-13          3.518616           3.128258             3.089027\n",
              "           N225.VolMSGARCH N225.VolMSEGARCH\n",
              "2000-01-05        3.747716         1.553255\n",
              "2000-01-06        3.474446         1.744290\n",
              "2000-01-07        2.823638         1.927610\n",
              "2000-01-11        3.215745         1.631720\n",
              "2000-01-12        2.541923         2.301666\n",
              "2000-01-13        2.805237         2.053157"
            ]
          },
          "metadata": {
            "tags": []
          }
        }
      ]
    },
    {
      "cell_type": "markdown",
      "metadata": {
        "id": "lA_6nowOVjc3"
      },
      "source": [
        "**MS GJR-GARCH**"
      ],
      "id": "lA_6nowOVjc3"
    },
    {
      "cell_type": "code",
      "metadata": {
        "id": "hnpt-SDyVmC3"
      },
      "source": [
        "# Specification\n",
        "msgjrgarch.spec <- CreateSpec(variance.spec = list(model = c(\"gjrGARCH\")),\n",
        "                              distribution.spec = list(distribution = c(\"snorm\")),\n",
        "                              switch.spec = list(K = 2))"
      ],
      "id": "hnpt-SDyVmC3",
      "execution_count": 56,
      "outputs": []
    },
    {
      "cell_type": "code",
      "metadata": {
        "id": "KkskZPFCVoPK",
        "colab": {
          "base_uri": "https://localhost:8080/"
        },
        "outputId": "5427b8e6-5638-497f-978b-3dccfb70b753"
      },
      "source": [
        "# Estimation\n",
        "msgjrgarch.fit <- FitML(msgjrgarch.spec, data = N225.df$N225.Return)    \n",
        "summary(msgjrgarch.fit)"
      ],
      "id": "KkskZPFCVoPK",
      "execution_count": 57,
      "outputs": [
        {
          "output_type": "stream",
          "text": [
            "Specification type: Markov-switching\n",
            "Specification name: gjrGARCH_snorm gjrGARCH_snorm\n",
            "Number of parameters in each variance model: 4 4\n",
            "Number of parameters in each distribution: 1 1\n",
            "------------------------------------------\n",
            "Fixed parameters:\n",
            "None\n",
            "------------------------------------------\n",
            "Across regime constrained parameters:\n",
            "None\n",
            "------------------------------------------\n",
            "Fitted parameters:\n",
            "         Estimate Std. Error  t value  Pr(>|t|)\n",
            "alpha0_1   0.0181     0.0068   2.6707 3.785e-03\n",
            "alpha1_1   0.0001     0.0031   0.0314 4.875e-01\n",
            "alpha2_1   0.2738     0.0613   4.4640 4.022e-06\n",
            "beta_1     0.8215     0.0119  69.1331    <1e-16\n",
            "xi_1       0.9816     0.0393  24.9973    <1e-16\n",
            "alpha0_2   0.0626     0.0351   1.7843 3.718e-02\n",
            "alpha1_2   0.0555     0.0357   1.5523 6.029e-02\n",
            "alpha2_2   0.0001     0.0016   0.0901 4.641e-01\n",
            "beta_2     0.9299     0.0067 138.7468    <1e-16\n",
            "xi_2       0.7484     0.0545  13.7375    <1e-16\n",
            "P_1_1      0.4859     0.0786   6.1841 3.123e-10\n",
            "P_2_1      0.6911     0.1406   4.9142 4.457e-07\n",
            "------------------------------------------\n",
            "Transition matrix:\n",
            "      t+1|k=1 t+1|k=2\n",
            "t|k=1  0.4859  0.5141\n",
            "t|k=2  0.6911  0.3089\n",
            "------------------------------------------\n",
            "Stable probabilities:\n",
            "State 1 State 2 \n",
            " 0.5734  0.4266 \n",
            "------------------------------------------\n",
            "LL: -8683.9717\n",
            "AIC: 17391.9435\n",
            "BIC: 17470.7192\n",
            "------------------------------------------\n"
          ],
          "name": "stdout"
        }
      ]
    },
    {
      "cell_type": "code",
      "metadata": {
        "id": "ixZcmHkiWKXi",
        "colab": {
          "base_uri": "https://localhost:8080/",
          "height": 391
        },
        "outputId": "ece1001d-12bf-4b70-93de-f0917256f805"
      },
      "source": [
        "# Extracting variance series from the MS GJR-GARCH model\n",
        "var.msgjrgarch <- ts(Volatility(msgjrgarch.fit))\n",
        "head(var.msgjrgarch)\n",
        "\n",
        "N225.df$N225.VolMSGJRGARCH <- as.numeric(var.msgjrgarch)\n",
        "head(N225.df)"
      ],
      "id": "ixZcmHkiWKXi",
      "execution_count": 58,
      "outputs": [
        {
          "output_type": "display_data",
          "data": {
            "text/plain": [
              "     t=1      t=2      t=3      t=4      t=5      t=6 \n",
              "1.448595 1.745708 1.869240 1.770703 1.725218 1.735262 "
            ],
            "text/latex": "\\begin{description*}\n\\item[t=1] 1.44859503678455\n\\item[t=2] 1.74570845498475\n\\item[t=3] 1.86923957546459\n\\item[t=4] 1.77070274828522\n\\item[t=5] 1.72521829225583\n\\item[t=6] 1.73526193365769\n\\end{description*}\n",
            "text/markdown": "t=1\n:   1.44859503678455t=2\n:   1.74570845498475t=3\n:   1.86923957546459t=4\n:   1.77070274828522t=5\n:   1.72521829225583t=6\n:   1.73526193365769\n\n",
            "text/html": [
              "<style>\n",
              ".dl-inline {width: auto; margin:0; padding: 0}\n",
              ".dl-inline>dt, .dl-inline>dd {float: none; width: auto; display: inline-block}\n",
              ".dl-inline>dt::after {content: \":\\0020\"; padding-right: .5ex}\n",
              ".dl-inline>dt:not(:first-of-type) {padding-left: .5ex}\n",
              "</style><dl class=dl-inline><dt>t=1</dt><dd>1.44859503678455</dd><dt>t=2</dt><dd>1.74570845498475</dd><dt>t=3</dt><dd>1.86923957546459</dd><dt>t=4</dt><dd>1.77070274828522</dd><dt>t=5</dt><dd>1.72521829225583</dd><dt>t=6</dt><dd>1.73526193365769</dd></dl>\n"
            ]
          },
          "metadata": {
            "tags": []
          }
        },
        {
          "output_type": "display_data",
          "data": {
            "text/plain": [
              "           N225.Close N225.Return N225.VolGARCH N225.VolEGARCH N225.VolGJRGARCH\n",
              "2000-01-05   18542.55  -2.4521328      2.215884       2.214560         2.214573\n",
              "2000-01-06   18168.27  -2.0391493      2.657106       3.068745         2.996913\n",
              "2000-01-07   18193.41   0.1382809      2.834980       3.643426         3.363787\n",
              "2000-01-11   18850.92   3.5502266      2.516488       3.069930         2.977967\n",
              "2000-01-12   18677.42  -0.9246411      3.581335       3.126831         3.153657\n",
              "2000-01-13   18833.29   0.8310695      3.268782       3.072938         2.941857\n",
              "           N225.VolRealGARCH N225.VolRealEGARCH N225.VolRealGJRGARCH\n",
              "2000-01-05          2.214620           2.214620             2.214620\n",
              "2000-01-06          2.237486           2.234051             2.217411\n",
              "2000-01-07          2.653173           3.038395             2.927845\n",
              "2000-01-11          2.829142           3.610537             3.277314\n",
              "2000-01-12          2.533477           3.091540             2.938275\n",
              "2000-01-13          3.518616           3.128258             3.089027\n",
              "           N225.VolMSGARCH N225.VolMSEGARCH N225.VolMSGJRGARCH\n",
              "2000-01-05        3.747716         1.553255           1.448595\n",
              "2000-01-06        3.474446         1.744290           1.745708\n",
              "2000-01-07        2.823638         1.927610           1.869240\n",
              "2000-01-11        3.215745         1.631720           1.770703\n",
              "2000-01-12        2.541923         2.301666           1.725218\n",
              "2000-01-13        2.805237         2.053157           1.735262"
            ]
          },
          "metadata": {
            "tags": []
          }
        }
      ]
    },
    {
      "cell_type": "markdown",
      "metadata": {
        "id": "P34LgaLxXaiv"
      },
      "source": [
        "## 9. Sample split: in-sample (70%) and out-sample (30%)"
      ],
      "id": "P34LgaLxXaiv"
    },
    {
      "cell_type": "code",
      "metadata": {
        "id": "oEXlnm7ZXl3S",
        "colab": {
          "base_uri": "https://localhost:8080/",
          "height": 34
        },
        "outputId": "0711d79b-7a9c-4cd0-e8fc-a28a4afff6e0"
      },
      "source": [
        "# Total number of lines \n",
        "nrow(N225.df)                "
      ],
      "id": "oEXlnm7ZXl3S",
      "execution_count": 59,
      "outputs": [
        {
          "output_type": "display_data",
          "data": {
            "text/plain": [
              "[1] 5243"
            ],
            "text/latex": "5243",
            "text/markdown": "5243",
            "text/html": [
              "5243"
            ]
          },
          "metadata": {
            "tags": []
          }
        }
      ]
    },
    {
      "cell_type": "code",
      "metadata": {
        "id": "yBa5ZL9QXw0J",
        "colab": {
          "base_uri": "https://localhost:8080/",
          "height": 34
        },
        "outputId": "722eed8f-4888-423a-aa04-7dbd036be744"
      },
      "source": [
        "# Cut-line\n",
        "round(nrow(N225.df)*0.7, digits = 0)"
      ],
      "id": "yBa5ZL9QXw0J",
      "execution_count": 60,
      "outputs": [
        {
          "output_type": "display_data",
          "data": {
            "text/plain": [
              "[1] 3670"
            ],
            "text/latex": "3670",
            "text/markdown": "3670",
            "text/html": [
              "3670"
            ]
          },
          "metadata": {
            "tags": []
          }
        }
      ]
    },
    {
      "cell_type": "code",
      "metadata": {
        "id": "dlcRWLpoXzN_",
        "colab": {
          "base_uri": "https://localhost:8080/",
          "height": 34
        },
        "outputId": "dc3f8371-be21-4a48-82b6-1ca5861be75e"
      },
      "source": [
        "# In-sample\n",
        "N225.df.in <- N225.df[1:round(nrow(N225.df)*0.7, digits = 0),]\n",
        "dim(N225.df.in)"
      ],
      "id": "dlcRWLpoXzN_",
      "execution_count": 61,
      "outputs": [
        {
          "output_type": "display_data",
          "data": {
            "text/plain": [
              "[1] 3670   11"
            ],
            "text/latex": "\\begin{enumerate*}\n\\item 3670\n\\item 11\n\\end{enumerate*}\n",
            "text/markdown": "1. 3670\n2. 11\n\n\n",
            "text/html": [
              "<style>\n",
              ".list-inline {list-style: none; margin:0; padding: 0}\n",
              ".list-inline>li {display: inline-block}\n",
              ".list-inline>li:not(:last-child)::after {content: \"\\00b7\"; padding: 0 .5ex}\n",
              "</style>\n",
              "<ol class=list-inline><li>3670</li><li>11</li></ol>\n"
            ]
          },
          "metadata": {
            "tags": []
          }
        }
      ]
    },
    {
      "cell_type": "code",
      "metadata": {
        "id": "ZaKAIY7iX2SE",
        "colab": {
          "base_uri": "https://localhost:8080/",
          "height": 34
        },
        "outputId": "588f36b8-e801-4c5b-82bb-cebca8097d09"
      },
      "source": [
        "# Out-sample\n",
        "N225.df.out <- N225.df[(round(nrow(N225.df)*0.7, digits = 0)+1):nrow(N225.df),]\n",
        "dim(N225.df.out)"
      ],
      "id": "ZaKAIY7iX2SE",
      "execution_count": 62,
      "outputs": [
        {
          "output_type": "display_data",
          "data": {
            "text/plain": [
              "[1] 1573   11"
            ],
            "text/latex": "\\begin{enumerate*}\n\\item 1573\n\\item 11\n\\end{enumerate*}\n",
            "text/markdown": "1. 1573\n2. 11\n\n\n",
            "text/html": [
              "<style>\n",
              ".list-inline {list-style: none; margin:0; padding: 0}\n",
              ".list-inline>li {display: inline-block}\n",
              ".list-inline>li:not(:last-child)::after {content: \"\\00b7\"; padding: 0 .5ex}\n",
              "</style>\n",
              "<ol class=list-inline><li>1573</li><li>11</li></ol>\n"
            ]
          },
          "metadata": {
            "tags": []
          }
        }
      ]
    },
    {
      "cell_type": "markdown",
      "metadata": {
        "id": "Ae_49vbJJAY1"
      },
      "source": [
        "# 10. Forecast - GARCH models"
      ],
      "id": "Ae_49vbJJAY1"
    },
    {
      "cell_type": "code",
      "metadata": {
        "id": "-eJ97HPPJEH5",
        "colab": {
          "base_uri": "https://localhost:8080/"
        },
        "outputId": "6cc93af1-6201-4c08-df10-148e7144e0d2"
      },
      "source": [
        "# Packages\n",
        "install.packages('Metrics')\n",
        "install.packages('MLmetrics')\n",
        "install.packages('multDM')\n",
        "install.packages('MCS')\n",
        "install.packages('sandwich')\n",
        "install.packages('lmtest')\n",
        "install.packages('forecast')\n",
        "\n",
        "library(Metrics)\n",
        "library(MLmetrics)\n",
        "library(multDM)\n",
        "library(MCS)\n",
        "library(sandwich)\n",
        "library(lmtest)\n",
        "library(forecast)"
      ],
      "id": "-eJ97HPPJEH5",
      "execution_count": 63,
      "outputs": [
        {
          "output_type": "stream",
          "text": [
            "Installing package into ‘/usr/local/lib/R/site-library’\n",
            "(as ‘lib’ is unspecified)\n",
            "\n",
            "Installing package into ‘/usr/local/lib/R/site-library’\n",
            "(as ‘lib’ is unspecified)\n",
            "\n",
            "also installing the dependencies ‘bitops’, ‘gtools’, ‘caTools’, ‘gplots’, ‘ROCR’\n",
            "\n",
            "\n",
            "Installing package into ‘/usr/local/lib/R/site-library’\n",
            "(as ‘lib’ is unspecified)\n",
            "\n",
            "also installing the dependencies ‘timeSeries’, ‘fastICA’, ‘gss’, ‘stabledist’, ‘fGarch’, ‘fBasics’, ‘MTS’\n",
            "\n",
            "\n",
            "Installing package into ‘/usr/local/lib/R/site-library’\n",
            "(as ‘lib’ is unspecified)\n",
            "\n",
            "Installing package into ‘/usr/local/lib/R/site-library’\n",
            "(as ‘lib’ is unspecified)\n",
            "\n",
            "Installing package into ‘/usr/local/lib/R/site-library’\n",
            "(as ‘lib’ is unspecified)\n",
            "\n",
            "Installing package into ‘/usr/local/lib/R/site-library’\n",
            "(as ‘lib’ is unspecified)\n",
            "\n",
            "\n",
            "Attaching package: ‘MLmetrics’\n",
            "\n",
            "\n",
            "The following object is masked from ‘package:base’:\n",
            "\n",
            "    Recall\n",
            "\n",
            "\n",
            "Registered S3 methods overwritten by 'forecast':\n",
            "  method       from\n",
            "  fitted.Arima TSA \n",
            "  plot.Arima   TSA \n",
            "\n",
            "\n",
            "Attaching package: ‘forecast’\n",
            "\n",
            "\n",
            "The following object is masked from ‘package:Metrics’:\n",
            "\n",
            "    accuracy\n",
            "\n",
            "\n",
            "The following object is masked from ‘package:FinTS’:\n",
            "\n",
            "    Acf\n",
            "\n",
            "\n",
            "The following object is masked from ‘package:aTSA’:\n",
            "\n",
            "    forecast\n",
            "\n",
            "\n"
          ],
          "name": "stderr"
        }
      ]
    },
    {
      "cell_type": "markdown",
      "metadata": {
        "id": "eDF61ZNDK7-L"
      },
      "source": [
        "## (a) Linear GARCH"
      ],
      "id": "eDF61ZNDK7-L"
    },
    {
      "cell_type": "markdown",
      "metadata": {
        "id": "zQvg4fhykI3G"
      },
      "source": [
        "**Forecast**"
      ],
      "id": "zQvg4fhykI3G"
    },
    {
      "cell_type": "code",
      "metadata": {
        "id": "4kWDFtEyQj8x"
      },
      "source": [
        "# Model specification\n",
        "garch.spec.pred <- garch.spec\n",
        "setfixed(garch.spec.pred) <- as.list(coef(garch.fit))"
      ],
      "id": "4kWDFtEyQj8x",
      "execution_count": 64,
      "outputs": []
    },
    {
      "cell_type": "code",
      "metadata": {
        "id": "LJ35908xRCpF"
      },
      "source": [
        "# Model adjustment\n",
        "garch.fit.pred <- ugarchfit(garch.spec,\n",
        "                            N225.df$N225.Return,\n",
        "                            out.sample = dim(N225.df.out)[1])"
      ],
      "id": "LJ35908xRCpF",
      "execution_count": 65,
      "outputs": []
    },
    {
      "cell_type": "code",
      "metadata": {
        "id": "Q6VYCPYGSISr"
      },
      "source": [
        "# Forecast calculated through adjustment\n",
        "garch.pred.a <- ugarchforecast(garch.fit.pred,\n",
        "                               n.ahead = 1,\n",
        "                               n.roll = dim(N225.df.out)[1])\n",
        "\n",
        "garch.forecast.a <- xts(sigma(garch.pred.a)[1,],\n",
        "                       move(as.Date(names(sigma(garch.pred.a)[1,])), by = 1))"
      ],
      "id": "Q6VYCPYGSISr",
      "execution_count": 66,
      "outputs": []
    },
    {
      "cell_type": "code",
      "metadata": {
        "id": "E5KGemi8gXh2"
      },
      "source": [
        "# Forecast calculated using specification\n",
        "garch.pred.b <- ugarchforecast(garch.spec.pred,\n",
        "                               n.ahead = 1,\n",
        "                               n.roll = dim(N225.df.out)[1],\n",
        "                               data = N225.df$N225.Return,\n",
        "                               out.sample = dim(N225.df.out)[1])\n",
        "\n",
        "garch.forecast.b <- xts(sigma(garch.pred.b)[1,],\n",
        "                        move(as.Date(names(sigma(garch.pred.b)[1,])), by = 1))  "
      ],
      "id": "E5KGemi8gXh2",
      "execution_count": 67,
      "outputs": []
    },
    {
      "cell_type": "code",
      "metadata": {
        "id": "Yg9KKURbgy7R"
      },
      "source": [
        "# Model filtering\n",
        "garch.filt.pred <- ugarchfilter(garch.spec.pred,\n",
        "                                data = N225.df$N225.Return,\n",
        "                                n.old = nrow(N225.df) - dim(N225.df.out)[1])\n",
        "\n",
        "garch.filt <- tail(sigma(garch.filt.pred), dim(N225.df.out)[1])                                 "
      ],
      "id": "Yg9KKURbgy7R",
      "execution_count": 68,
      "outputs": []
    },
    {
      "cell_type": "code",
      "metadata": {
        "id": "9p-8qghPVjR8",
        "colab": {
          "base_uri": "https://localhost:8080/",
          "height": 136
        },
        "outputId": "a9574d05-ce37-4bae-e861-61ecafb43cd3"
      },
      "source": [
        "# Comparative\n",
        "colnames(garch.filt) <- 'filter'\n",
        "colnames(garch.forecast.a) <- 'forecast1'\n",
        "colnames(garch.forecast.b) <- 'forecast2'\n",
        "\n",
        "garch.ftest <- cbind(garch.filt,\n",
        "                    garch.forecast.a,\n",
        "                    garch.forecast.b)\n",
        "head(round(garch.ftest, digits = 4))"
      ],
      "id": "9p-8qghPVjR8",
      "execution_count": 69,
      "outputs": [
        {
          "output_type": "display_data",
          "data": {
            "text/plain": [
              "           filter forecast1 forecast2\n",
              "2014-12-19 1.4288    1.4238    1.4288\n",
              "2014-12-22 1.5527    1.5390    1.5527\n",
              "2014-12-24 1.4649    1.4629    1.4649\n",
              "2014-12-25 1.4387    1.4416    1.4387\n",
              "2014-12-26 1.3632    1.3751    1.3632\n",
              "2014-12-29 1.2900    1.3100    1.2900"
            ]
          },
          "metadata": {
            "tags": []
          }
        }
      ]
    },
    {
      "cell_type": "code",
      "metadata": {
        "id": "XvWtLYxOK7cE",
        "colab": {
          "base_uri": "https://localhost:8080/",
          "height": 252
        },
        "outputId": "974319d7-30aa-4721-9631-2704ca43a46f"
      },
      "source": [
        "sigma.garch.pred.a <- ts(garch.forecast.a[-1,])\n",
        "sigma.garch.pred.b <- ts(garch.forecast.b[-1,])\n",
        "sigma.garch.true <- ts(N225.df.out$N225.VolGARCH)\n",
        "\n",
        "sigma.garch <- na.omit(cbind(sigma.garch.pred.a, \n",
        "                            sigma.garch.pred.b,\n",
        "                            sigma.garch.true))\n",
        "head(sigma.garch)"
      ],
      "id": "XvWtLYxOK7cE",
      "execution_count": 70,
      "outputs": [
        {
          "output_type": "display_data",
          "data": {
            "text/plain": [
              "  sigma.garch.pred.a sigma.garch.pred.b sigma.garch.true\n",
              "1 1.538989           1.552712           2.041445        \n",
              "2 1.462903           1.464916           2.410914        \n",
              "3 1.441635           1.438669           2.145979        \n",
              "4 1.375075           1.363185           2.069768        \n",
              "5 1.310036           1.290009           1.858273        \n",
              "6 1.260809           1.235889           1.664123        "
            ],
            "text/latex": "A Time Series: 6 × 3\n\\begin{tabular}{r|lll}\n  & sigma.garch.pred.a & sigma.garch.pred.b & sigma.garch.true\\\\\n\\hline\n\t1 & 1.538989 & 1.552712 & 2.041445\\\\\n\t2 & 1.462903 & 1.464916 & 2.410914\\\\\n\t3 & 1.441635 & 1.438669 & 2.145979\\\\\n\t4 & 1.375075 & 1.363185 & 2.069768\\\\\n\t5 & 1.310036 & 1.290009 & 1.858273\\\\\n\t6 & 1.260809 & 1.235889 & 1.664123\\\\\n\\end{tabular}\n",
            "text/markdown": "\nA Time Series: 6 × 3\n\n| <!--/--> | sigma.garch.pred.a | sigma.garch.pred.b | sigma.garch.true |\n|---|---|---|---|\n| 1 | 1.538989 | 1.552712 | 2.041445 |\n| 2 | 1.462903 | 1.464916 | 2.410914 |\n| 3 | 1.441635 | 1.438669 | 2.145979 |\n| 4 | 1.375075 | 1.363185 | 2.069768 |\n| 5 | 1.310036 | 1.290009 | 1.858273 |\n| 6 | 1.260809 | 1.235889 | 1.664123 |\n\n",
            "text/html": [
              "<table class=\"dataframe\">\n",
              "<caption>A Time Series: 6 × 3</caption>\n",
              "<thead>\n",
              "\t<tr><th></th><th scope=col>sigma.garch.pred.a</th><th scope=col>sigma.garch.pred.b</th><th scope=col>sigma.garch.true</th></tr>\n",
              "</thead>\n",
              "<tbody>\n",
              "\t<tr><th scope=row>1</th><td>1.538989</td><td>1.552712</td><td>2.041445</td></tr>\n",
              "\t<tr><th scope=row>2</th><td>1.462903</td><td>1.464916</td><td>2.410914</td></tr>\n",
              "\t<tr><th scope=row>3</th><td>1.441635</td><td>1.438669</td><td>2.145979</td></tr>\n",
              "\t<tr><th scope=row>4</th><td>1.375075</td><td>1.363185</td><td>2.069768</td></tr>\n",
              "\t<tr><th scope=row>5</th><td>1.310036</td><td>1.290009</td><td>1.858273</td></tr>\n",
              "\t<tr><th scope=row>6</th><td>1.260809</td><td>1.235889</td><td>1.664123</td></tr>\n",
              "</tbody>\n",
              "</table>\n"
            ]
          },
          "metadata": {
            "tags": []
          }
        }
      ]
    },
    {
      "cell_type": "markdown",
      "metadata": {
        "id": "mSx7eTn3kPct"
      },
      "source": [
        "**Performance evaluation**"
      ],
      "id": "mSx7eTn3kPct"
    },
    {
      "cell_type": "code",
      "metadata": {
        "id": "U_o8n_8ckYWr",
        "colab": {
          "base_uri": "https://localhost:8080/",
          "height": 51
        },
        "outputId": "afd4650c-d397-4f33-f300-a2d15e6ccf1f"
      },
      "source": [
        "# Forecast Error - Forecast a\n",
        "garch.error.a <- sigma.garch[,'sigma.garch.pred.a'] - sigma.garch[,'sigma.garch.true']\n",
        "head(garch.error.a)"
      ],
      "id": "U_o8n_8ckYWr",
      "execution_count": 71,
      "outputs": [
        {
          "output_type": "display_data",
          "data": {
            "text/plain": [
              "A Time Series:\n",
              "[1] -0.5024552 -0.9480106 -0.7043432 -0.6946938 -0.5482367 -0.4033137"
            ],
            "text/latex": "A Time Series:\\\\\\begin{enumerate*}\n\\item -0.502455226884435\n\\item -0.948010635198452\n\\item -0.704343205625185\n\\item -0.694693786471576\n\\item -0.548236678140687\n\\item -0.40331365137949\n\\end{enumerate*}\n",
            "text/markdown": "A Time Series:  \n1. -0.502455226884435\n2. -0.948010635198452\n3. -0.704343205625185\n4. -0.694693786471576\n5. -0.548236678140687\n6. -0.40331365137949\n\n\n",
            "text/html": [
              "A Time Series:<br><style>\n",
              ".list-inline {list-style: none; margin:0; padding: 0}\n",
              ".list-inline>li {display: inline-block}\n",
              ".list-inline>li:not(:last-child)::after {content: \"\\00b7\"; padding: 0 .5ex}\n",
              "</style>\n",
              "<ol class=list-inline><li>-0.502455226884435</li><li>-0.948010635198452</li><li>-0.704343205625185</li><li>-0.694693786471576</li><li>-0.548236678140687</li><li>-0.40331365137949</li></ol>\n"
            ]
          },
          "metadata": {
            "tags": []
          }
        }
      ]
    },
    {
      "cell_type": "code",
      "metadata": {
        "id": "hrJcPxcLlIy3",
        "colab": {
          "base_uri": "https://localhost:8080/",
          "height": 51
        },
        "outputId": "32762e30-ae26-467f-dc64-6ae2e10b0091"
      },
      "source": [
        "# Forecast Error - Forecast b\n",
        "garch.error.b <- sigma.garch[,'sigma.garch.pred.b'] - sigma.garch[,'sigma.garch.true']\n",
        "head(garch.error.b)"
      ],
      "id": "hrJcPxcLlIy3",
      "execution_count": 72,
      "outputs": [
        {
          "output_type": "display_data",
          "data": {
            "text/plain": [
              "A Time Series:\n",
              "[1] -0.4887329 -0.9459978 -0.7073096 -0.7065837 -0.5682638 -0.4282340"
            ],
            "text/latex": "A Time Series:\\\\\\begin{enumerate*}\n\\item -0.488732872880024\n\\item -0.945997827310893\n\\item -0.707309610698962\n\\item -0.706583673085044\n\\item -0.568263789654228\n\\item -0.428234012359233\n\\end{enumerate*}\n",
            "text/markdown": "A Time Series:  \n1. -0.488732872880024\n2. -0.945997827310893\n3. -0.707309610698962\n4. -0.706583673085044\n5. -0.568263789654228\n6. -0.428234012359233\n\n\n",
            "text/html": [
              "A Time Series:<br><style>\n",
              ".list-inline {list-style: none; margin:0; padding: 0}\n",
              ".list-inline>li {display: inline-block}\n",
              ".list-inline>li:not(:last-child)::after {content: \"\\00b7\"; padding: 0 .5ex}\n",
              "</style>\n",
              "<ol class=list-inline><li>-0.488732872880024</li><li>-0.945997827310893</li><li>-0.707309610698962</li><li>-0.706583673085044</li><li>-0.568263789654228</li><li>-0.428234012359233</li></ol>\n"
            ]
          },
          "metadata": {
            "tags": []
          }
        }
      ]
    },
    {
      "cell_type": "code",
      "metadata": {
        "id": "vVvmYhWSK6Jx",
        "colab": {
          "base_uri": "https://localhost:8080/",
          "height": 34
        },
        "outputId": "c24c37d4-086c-4dda-bf9a-e7e8a696274b"
      },
      "source": [
        "# Mean Square Error Loss - Forecast a\n",
        "garch.mse.a <- MSE(sigma.garch[,'sigma.garch.pred.a'], \n",
        "                  sigma.garch[,'sigma.garch.true'])\n",
        "round(garch.mse.a, digits = 3)     "
      ],
      "id": "vVvmYhWSK6Jx",
      "execution_count": 73,
      "outputs": [
        {
          "output_type": "display_data",
          "data": {
            "text/plain": [
              "[1] 2.03"
            ],
            "text/latex": "2.03",
            "text/markdown": "2.03",
            "text/html": [
              "2.03"
            ]
          },
          "metadata": {
            "tags": []
          }
        }
      ]
    },
    {
      "cell_type": "code",
      "metadata": {
        "id": "P64kl9rCllXj",
        "colab": {
          "base_uri": "https://localhost:8080/",
          "height": 34
        },
        "outputId": "0da23d90-f212-4fb5-ad2a-b6218b2c0d0c"
      },
      "source": [
        "# Mean Square Error Loss - Forecast b\n",
        "garch.mse.b <- MSE(sigma.garch[,'sigma.garch.pred.b'],\n",
        "                  sigma.garch[,'sigma.garch.true'])\n",
        "round(garch.mse.b, digits = 3) "
      ],
      "id": "P64kl9rCllXj",
      "execution_count": 74,
      "outputs": [
        {
          "output_type": "display_data",
          "data": {
            "text/plain": [
              "[1] 2.036"
            ],
            "text/latex": "2.036",
            "text/markdown": "2.036",
            "text/html": [
              "2.036"
            ]
          },
          "metadata": {
            "tags": []
          }
        }
      ]
    },
    {
      "cell_type": "code",
      "metadata": {
        "id": "ahWBmWNDLabm",
        "colab": {
          "base_uri": "https://localhost:8080/",
          "height": 34
        },
        "outputId": "1dea61bc-586b-43cd-bdc5-824056f9b884"
      },
      "source": [
        "# Mean Absolute Error Loss - Forecast a\n",
        "garch.mae.a <- MAE(sigma.garch[,'sigma.garch.pred.a'], \n",
        "                  sigma.garch[,'sigma.garch.true'])\n",
        "round(garch.mae.a, digits = 3)"
      ],
      "id": "ahWBmWNDLabm",
      "execution_count": 75,
      "outputs": [
        {
          "output_type": "display_data",
          "data": {
            "text/plain": [
              "[1] 0.629"
            ],
            "text/latex": "0.629",
            "text/markdown": "0.629",
            "text/html": [
              "0.629"
            ]
          },
          "metadata": {
            "tags": []
          }
        }
      ]
    },
    {
      "cell_type": "code",
      "metadata": {
        "id": "0K7TTaZNl2Y4",
        "colab": {
          "base_uri": "https://localhost:8080/",
          "height": 34
        },
        "outputId": "1f0e2ffe-79e9-4dd4-b719-378fdd56f463"
      },
      "source": [
        "# Mean Absolute Error Loss - Forecast b\n",
        "garch.mae.b <- MAE(sigma.garch[,'sigma.garch.pred.b'], \n",
        "                  sigma.garch[,'sigma.garch.true'])\n",
        "round(garch.mae.b, digits = 3)"
      ],
      "id": "0K7TTaZNl2Y4",
      "execution_count": 76,
      "outputs": [
        {
          "output_type": "display_data",
          "data": {
            "text/plain": [
              "[1] 0.635"
            ],
            "text/latex": "0.635",
            "text/markdown": "0.635",
            "text/html": [
              "0.635"
            ]
          },
          "metadata": {
            "tags": []
          }
        }
      ]
    },
    {
      "cell_type": "code",
      "metadata": {
        "id": "BQXtSoWcLeK6",
        "colab": {
          "base_uri": "https://localhost:8080/",
          "height": 34
        },
        "outputId": "c12b0ba0-d4e9-476e-ac8c-67b0be54eec0"
      },
      "source": [
        "# Root Mean Square Error Loss - Forecast a\n",
        "garch.rmse.a <- RMSE(sigma.garch[,'sigma.garch.pred.a'], \n",
        "                    sigma.garch[,'sigma.garch.true'])\n",
        "round(garch.rmse.a, digits = 3)"
      ],
      "id": "BQXtSoWcLeK6",
      "execution_count": 77,
      "outputs": [
        {
          "output_type": "display_data",
          "data": {
            "text/plain": [
              "[1] 1.425"
            ],
            "text/latex": "1.425",
            "text/markdown": "1.425",
            "text/html": [
              "1.425"
            ]
          },
          "metadata": {
            "tags": []
          }
        }
      ]
    },
    {
      "cell_type": "code",
      "metadata": {
        "id": "hIrzvC1CmNvg",
        "colab": {
          "base_uri": "https://localhost:8080/",
          "height": 34
        },
        "outputId": "75dc7f94-3fd4-449d-e18f-2f77e75b36de"
      },
      "source": [
        "# Root Mean Square Error Loss - Forecast b\n",
        "garch.rmse.b <- RMSE(sigma.garch[,'sigma.garch.pred.b'], \n",
        "                    sigma.garch[,'sigma.garch.true'])\n",
        "round(garch.rmse.b, digits = 3)"
      ],
      "id": "hIrzvC1CmNvg",
      "execution_count": 78,
      "outputs": [
        {
          "output_type": "display_data",
          "data": {
            "text/plain": [
              "[1] 1.427"
            ],
            "text/latex": "1.427",
            "text/markdown": "1.427",
            "text/html": [
              "1.427"
            ]
          },
          "metadata": {
            "tags": []
          }
        }
      ]
    },
    {
      "cell_type": "code",
      "metadata": {
        "id": "hla4zyfwnSkl",
        "colab": {
          "base_uri": "https://localhost:8080/",
          "height": 34
        },
        "outputId": "026469b6-3356-479b-e9b6-39b766611c92"
      },
      "source": [
        "# Quasi-likelihood loss function - forecast a\n",
        "h <- sigma.garch[,'sigma.garch.true']\n",
        "\n",
        "h.hat.a <- sigma.garch[,'sigma.garch.pred.a']     \n",
        "garch.qlike.a <- mean(log(sqrt(h)) + h.hat.a/sqrt(h))\n",
        "round(garch.qlike.a, digits = 5) "
      ],
      "id": "hla4zyfwnSkl",
      "execution_count": 79,
      "outputs": [
        {
          "output_type": "display_data",
          "data": {
            "text/plain": [
              "[1] 1.17076"
            ],
            "text/latex": "1.17076",
            "text/markdown": "1.17076",
            "text/html": [
              "1.17076"
            ]
          },
          "metadata": {
            "tags": []
          }
        }
      ]
    },
    {
      "cell_type": "code",
      "metadata": {
        "id": "V13-JFWyn-r0",
        "colab": {
          "base_uri": "https://localhost:8080/",
          "height": 34
        },
        "outputId": "02c8d97b-c468-41af-92a6-5da975ac7a9c"
      },
      "source": [
        "# Quasi-likelihood loss function - forecast b\n",
        "h.hat.b <- sigma.garch[,'sigma.garch.pred.b']\n",
        "garch.qlike.b <- mean(log(sqrt(h)) + h.hat.b/sqrt(h))\n",
        "round(garch.qlike.b, digits = 5)   "
      ],
      "id": "V13-JFWyn-r0",
      "execution_count": 80,
      "outputs": [
        {
          "output_type": "display_data",
          "data": {
            "text/plain": [
              "[1] 1.15876"
            ],
            "text/latex": "1.15876",
            "text/markdown": "1.15876",
            "text/html": [
              "1.15876"
            ]
          },
          "metadata": {
            "tags": []
          }
        }
      ]
    },
    {
      "cell_type": "code",
      "metadata": {
        "id": "kDFbGnTIoLi9",
        "colab": {
          "base_uri": "https://localhost:8080/",
          "height": 119
        },
        "outputId": "9aacd8e5-773f-4593-d2c7-053d2b136491"
      },
      "source": [
        "# Diebold-Mariano Test (accuracy test) - test 1\n",
        "f.a <- sigma.garch[,'sigma.garch.pred.a']\n",
        "f.b <- sigma.garch[,'sigma.garch.pred.b']\n",
        "y <- sigma.garch[,'sigma.garch.true']\n",
        "\n",
        "DM.test(f.a, f.b, y, loss.type = \"SE\", c = FALSE, H1 = \"same\")"
      ],
      "id": "kDFbGnTIoLi9",
      "execution_count": 81,
      "outputs": [
        {
          "output_type": "display_data",
          "data": {
            "text/plain": [
              "\n",
              "\tDiebold-Mariano test\n",
              "\n",
              "data:  f.a and f.b and y\n",
              "statistic = -1.5574, forecast horizon = 1, p-value = 0.1194\n",
              "alternative hypothesis: Forecast f1 and f2 have different accuracy.\n"
            ]
          },
          "metadata": {
            "tags": []
          }
        }
      ]
    },
    {
      "cell_type": "code",
      "metadata": {
        "id": "FLLLPUQtoyZS",
        "colab": {
          "base_uri": "https://localhost:8080/",
          "height": 136
        },
        "outputId": "0abd0bd9-68d9-400f-e1d0-a2a41f20c472"
      },
      "source": [
        "# Diebold-Mariano test for predictive accuracy - test 2\n",
        "e.a <- garch.error.a\n",
        "e.b <- garch.error.b\n",
        "\n",
        "dm.test(e.a, e.b, alternative = \"two.sided\", h = 1, power = 2)"
      ],
      "id": "FLLLPUQtoyZS",
      "execution_count": 82,
      "outputs": [
        {
          "output_type": "display_data",
          "data": {
            "text/plain": [
              "\n",
              "\tDiebold-Mariano Test\n",
              "\n",
              "data:  e.ae.b\n",
              "DM = -1.5569, Forecast horizon = 1, Loss function power = 2, p-value =\n",
              "0.1197\n",
              "alternative hypothesis: two.sided\n"
            ]
          },
          "metadata": {
            "tags": []
          }
        }
      ]
    },
    {
      "cell_type": "code",
      "metadata": {
        "id": "K8wRfezFrxtJ",
        "colab": {
          "base_uri": "https://localhost:8080/",
          "height": 34
        },
        "outputId": "28f2d4fa-7a01-4b8a-e142-efe9ba990dce"
      },
      "source": [
        "# Quasi-likelihood Loss Function For Volatility Forecasts - forecast a\n",
        "garch.qlike.a <- mean(LossVol(sigma.garch[,'sigma.garch.true'],\n",
        "                              sigma.garch[,'sigma.garch.pred.a'],\n",
        "                              which = \"QLIKE\"))\n",
        "round(garch.qlike.a, digits = 3)"
      ],
      "id": "K8wRfezFrxtJ",
      "execution_count": 83,
      "outputs": [
        {
          "output_type": "display_data",
          "data": {
            "text/plain": [
              "[1] 2.126"
            ],
            "text/latex": "2.126",
            "text/markdown": "2.126",
            "text/html": [
              "2.126"
            ]
          },
          "metadata": {
            "tags": []
          }
        }
      ]
    },
    {
      "cell_type": "code",
      "metadata": {
        "id": "HUVoT5c5sFMt",
        "colab": {
          "base_uri": "https://localhost:8080/",
          "height": 34
        },
        "outputId": "0ca3bf9e-4c5b-4807-f2d3-ebba1525cd4a"
      },
      "source": [
        "# Quasi-likelihood Loss Function For Volatility Forecasts - forecast 1b\n",
        "garch.qlike.b <- mean(LossVol(sigma.garch[,'sigma.garch.true'],\n",
        "                              sigma.garch[,'sigma.garch.pred.b'],\n",
        "                              which = \"QLIKE\"))\n",
        "round(garch.qlike.b, digits = 3)"
      ],
      "id": "HUVoT5c5sFMt",
      "execution_count": 84,
      "outputs": [
        {
          "output_type": "display_data",
          "data": {
            "text/plain": [
              "[1] 2.136"
            ],
            "text/latex": "2.136",
            "text/markdown": "2.136",
            "text/html": [
              "2.136"
            ]
          },
          "metadata": {
            "tags": []
          }
        }
      ]
    },
    {
      "cell_type": "code",
      "metadata": {
        "id": "9BsA_6HBsOJV",
        "colab": {
          "base_uri": "https://localhost:8080/",
          "height": 34
        },
        "outputId": "3961f323-51a6-4924-f369-5a333fe04323"
      },
      "source": [
        "# Log loss / Cross-Entropy Loss -  forecast a\n",
        "garch.logloss.a <- LogLoss(sigma.garch[,'sigma.garch.pred.a'],\n",
        "                           sigma.garch[,'sigma.garch.true'])\n",
        "round(garch.logloss.a, digits = 3)"
      ],
      "id": "9BsA_6HBsOJV",
      "execution_count": 85,
      "outputs": [
        {
          "output_type": "display_data",
          "data": {
            "text/plain": [
              "[1] -29.454"
            ],
            "text/latex": "-29.454",
            "text/markdown": "-29.454",
            "text/html": [
              "-29.454"
            ]
          },
          "metadata": {
            "tags": []
          }
        }
      ]
    },
    {
      "cell_type": "code",
      "metadata": {
        "id": "WYgOyvussxPG",
        "colab": {
          "base_uri": "https://localhost:8080/",
          "height": 34
        },
        "outputId": "cc3fbb66-6efd-473f-cd08-1a2c1e6dbebe"
      },
      "source": [
        "# Log loss / Cross-Entropy Loss -  forecast b\n",
        "garch.logloss.b <- LogLoss(sigma.garch[,'sigma.garch.pred.b'],\n",
        "                           sigma.garch[,'sigma.garch.true'])\n",
        "round(garch.logloss.b, digits = 3)"
      ],
      "id": "WYgOyvussxPG",
      "execution_count": 86,
      "outputs": [
        {
          "output_type": "display_data",
          "data": {
            "text/plain": [
              "[1] -29.419"
            ],
            "text/latex": "-29.419",
            "text/markdown": "-29.419",
            "text/html": [
              "-29.419"
            ]
          },
          "metadata": {
            "tags": []
          }
        }
      ]
    },
    {
      "cell_type": "code",
      "metadata": {
        "id": "fvV0JmWWs_-H",
        "colab": {
          "base_uri": "https://localhost:8080/",
          "height": 170
        },
        "outputId": "6140aab2-cbdb-462a-b22c-4daf98a7c1cd"
      },
      "source": [
        "# Linear regression to assess forecast performance - forecast a\n",
        "garch.model.a <- lm(sigma.garch.true ~ sigma.garch.pred.a, \n",
        "                    data = sigma.garch)\n",
        "round(coeftest(garch.model.a, NeweyWest(garch.model.a,\n",
        "                                        lag = bwNeweyWest(garch.model.a),\n",
        "                                        prewhite = F)), 3)\n",
        "round(summary(garch.model.a)$adj.r.squared, 3)"
      ],
      "id": "fvV0JmWWs_-H",
      "execution_count": 87,
      "outputs": [
        {
          "output_type": "display_data",
          "data": {
            "text/plain": [
              "\n",
              "t test of coefficients:\n",
              "\n",
              "                   Estimate Std. Error t value  Pr(>|t|)    \n",
              "(Intercept)          -2.523      0.257  -9.831 < 2.2e-16 ***\n",
              "sigma.garch.pred.a    3.433      0.223  15.422 < 2.2e-16 ***\n",
              "---\n",
              "Signif. codes:  0 ‘***’ 0.001 ‘**’ 0.01 ‘*’ 0.05 ‘.’ 0.1 ‘ ’ 1\n"
            ]
          },
          "metadata": {
            "tags": []
          }
        },
        {
          "output_type": "display_data",
          "data": {
            "text/plain": [
              "[1] 0.889"
            ],
            "text/latex": "0.889",
            "text/markdown": "0.889",
            "text/html": [
              "0.889"
            ]
          },
          "metadata": {
            "tags": []
          }
        }
      ]
    },
    {
      "cell_type": "code",
      "metadata": {
        "id": "BKQCfwbmWcez",
        "colab": {
          "base_uri": "https://localhost:8080/",
          "height": 170
        },
        "outputId": "8ec724f3-4f6b-4084-ebb6-28d4bcdcbc98"
      },
      "source": [
        "# Linear regression to assess forecast performance - forecast b\n",
        "garch.model.b <- lm(sigma.garch.true ~ sigma.garch.pred.b, \n",
        "                    data = sigma.garch)\n",
        "round(coeftest(garch.model.b, NeweyWest(garch.model.b,\n",
        "                                        lag = bwNeweyWest(garch.model.b),\n",
        "                                        prewhite = F)), 3)\n",
        "round(summary(garch.model.b)$adj.r.squared, 3)"
      ],
      "id": "BKQCfwbmWcez",
      "execution_count": 88,
      "outputs": [
        {
          "output_type": "display_data",
          "data": {
            "text/plain": [
              "\n",
              "t test of coefficients:\n",
              "\n",
              "                   Estimate Std. Error t value  Pr(>|t|)    \n",
              "(Intercept)          -2.431      0.252  -9.645 < 2.2e-16 ***\n",
              "sigma.garch.pred.b    3.395      0.222  15.282 < 2.2e-16 ***\n",
              "---\n",
              "Signif. codes:  0 ‘***’ 0.001 ‘**’ 0.01 ‘*’ 0.05 ‘.’ 0.1 ‘ ’ 1\n"
            ]
          },
          "metadata": {
            "tags": []
          }
        },
        {
          "output_type": "display_data",
          "data": {
            "text/plain": [
              "[1] 0.886"
            ],
            "text/latex": "0.886",
            "text/markdown": "0.886",
            "text/html": [
              "0.886"
            ]
          },
          "metadata": {
            "tags": []
          }
        }
      ]
    },
    {
      "cell_type": "markdown",
      "metadata": {
        "id": "qYxZcfeREZ3G"
      },
      "source": [
        "##(b) EGARCH"
      ],
      "id": "qYxZcfeREZ3G"
    },
    {
      "cell_type": "markdown",
      "metadata": {
        "id": "eU8nVcegGWrx"
      },
      "source": [
        "**Forecast**"
      ],
      "id": "eU8nVcegGWrx"
    },
    {
      "cell_type": "code",
      "metadata": {
        "id": "GGr6qMWPGY56"
      },
      "source": [
        "# Model specification\n",
        "egarch.spec.pred <- egarch.spec\n",
        "setfixed(egarch.spec.pred) <- as.list(coef(egarch.fit))"
      ],
      "id": "GGr6qMWPGY56",
      "execution_count": 89,
      "outputs": []
    },
    {
      "cell_type": "code",
      "metadata": {
        "id": "GDk5w7ACGfr5"
      },
      "source": [
        "# Model adjustment\n",
        "egarch.fit.pred <- ugarchfit(egarch.spec,\n",
        "                             N225.df$N225.Return,\n",
        "                             out.sample = dim(N225.df.out)[1])"
      ],
      "id": "GDk5w7ACGfr5",
      "execution_count": 90,
      "outputs": []
    },
    {
      "cell_type": "code",
      "metadata": {
        "id": "YpL93AZ4Gmyu"
      },
      "source": [
        "# Forecast calculated through adjustment\n",
        "egarch.pred.a <- ugarchforecast(egarch.fit.pred,\n",
        "                                n.ahead = 1,\n",
        "                                n.roll = dim(N225.df.out)[1])\n",
        "\n",
        "egarch.forecast.a <- xts(sigma(egarch.pred.a)[1,],\n",
        "                         move(as.Date(names(sigma(egarch.pred.a)[1,])), by = 1))"
      ],
      "id": "YpL93AZ4Gmyu",
      "execution_count": 91,
      "outputs": []
    },
    {
      "cell_type": "code",
      "metadata": {
        "id": "Q97EAAIsGwDR"
      },
      "source": [
        "# Forecast calculated using specification\n",
        "egarch.pred.b <- ugarchforecast(egarch.spec.pred,\n",
        "                                n.ahead = 1,\n",
        "                                n.roll = dim(N225.df.out)[1],\n",
        "                                data = N225.df$N225.Return,\n",
        "                                out.sample = dim(N225.df.out)[1])\n",
        "\n",
        "egarch.forecast.b <- xts(sigma(egarch.pred.b)[1,],\n",
        "                         move(as.Date(names(sigma(egarch.pred.b)[1,])), by = 1))               "
      ],
      "id": "Q97EAAIsGwDR",
      "execution_count": 92,
      "outputs": []
    },
    {
      "cell_type": "code",
      "metadata": {
        "id": "QSI_GcusG5Yq"
      },
      "source": [
        "# Model filtering\n",
        "egarch.filt.pred <- ugarchfilter(egarch.spec.pred,\n",
        "                                data = N225.df$N225.Return,\n",
        "                                n.old = nrow(N225.df) - dim(N225.df.out)[1])\n",
        "\n",
        "egarch.filt <- tail(sigma(egarch.filt.pred), dim(N225.df.out)[1]) "
      ],
      "id": "QSI_GcusG5Yq",
      "execution_count": 93,
      "outputs": []
    },
    {
      "cell_type": "code",
      "metadata": {
        "colab": {
          "base_uri": "https://localhost:8080/",
          "height": 136
        },
        "id": "Vz2srX-ZHB-M",
        "outputId": "a804a5c2-9e41-4eb6-ce3e-0b67c3ac87ce"
      },
      "source": [
        "# Comparative\n",
        "colnames(egarch.filt) <- 'filter'\n",
        "colnames(egarch.forecast.a) <- 'forecast1'\n",
        "colnames(egarch.forecast.b) <- 'forecast2'\n",
        "\n",
        "egarch.ftest <- cbind(egarch.filt, \n",
        "                      egarch.forecast.a,\n",
        "                      egarch.forecast.b)\n",
        "head(round(egarch.ftest, digits = 4))"
      ],
      "id": "Vz2srX-ZHB-M",
      "execution_count": 94,
      "outputs": [
        {
          "output_type": "display_data",
          "data": {
            "text/plain": [
              "           filter forecast1 forecast2\n",
              "2014-12-19 1.4692    1.4591    1.4692\n",
              "2014-12-22 1.4636    1.4818    1.4636\n",
              "2014-12-24 1.3557    1.3781    1.3557\n",
              "2014-12-25 1.3110    1.3465    1.3110\n",
              "2014-12-26 1.2527    1.2842    1.2527\n",
              "2014-12-29 1.1667    1.1991    1.1667"
            ]
          },
          "metadata": {
            "tags": []
          }
        }
      ]
    },
    {
      "cell_type": "code",
      "metadata": {
        "colab": {
          "base_uri": "https://localhost:8080/",
          "height": 252
        },
        "id": "Mq5-c2zDHIzy",
        "outputId": "56f6a285-a8ca-4b98-fcd0-fc76ee9b750c"
      },
      "source": [
        "sigma.egarch.pred.a <- ts(egarch.forecast.a[-1,])\n",
        "sigma.egarch.pred.b <- ts(egarch.forecast.b[-1,])\n",
        "sigma.egarch.true <- ts(N225.df.out$N225.VolEGARCH)\n",
        "\n",
        "sigma.egarch <- na.omit(cbind(sigma.egarch.pred.a,\n",
        "                              sigma.egarch.pred.b,\n",
        "                              sigma.egarch.true))\n",
        "head(sigma.egarch)"
      ],
      "id": "Mq5-c2zDHIzy",
      "execution_count": 95,
      "outputs": [
        {
          "output_type": "display_data",
          "data": {
            "text/plain": [
              "  sigma.egarch.pred.a sigma.egarch.pred.b sigma.egarch.true\n",
              "1 1.481770            1.463559            2.158520         \n",
              "2 1.378135            1.355665            2.142006         \n",
              "3 1.346544            1.310995            1.837827         \n",
              "4 1.284154            1.252717            1.718707         \n",
              "5 1.199110            1.166734            1.569300         \n",
              "6 1.183068            1.159229            1.361268         "
            ],
            "text/latex": "A Time Series: 6 × 3\n\\begin{tabular}{r|lll}\n  & sigma.egarch.pred.a & sigma.egarch.pred.b & sigma.egarch.true\\\\\n\\hline\n\t1 & 1.481770 & 1.463559 & 2.158520\\\\\n\t2 & 1.378135 & 1.355665 & 2.142006\\\\\n\t3 & 1.346544 & 1.310995 & 1.837827\\\\\n\t4 & 1.284154 & 1.252717 & 1.718707\\\\\n\t5 & 1.199110 & 1.166734 & 1.569300\\\\\n\t6 & 1.183068 & 1.159229 & 1.361268\\\\\n\\end{tabular}\n",
            "text/markdown": "\nA Time Series: 6 × 3\n\n| <!--/--> | sigma.egarch.pred.a | sigma.egarch.pred.b | sigma.egarch.true |\n|---|---|---|---|\n| 1 | 1.481770 | 1.463559 | 2.158520 |\n| 2 | 1.378135 | 1.355665 | 2.142006 |\n| 3 | 1.346544 | 1.310995 | 1.837827 |\n| 4 | 1.284154 | 1.252717 | 1.718707 |\n| 5 | 1.199110 | 1.166734 | 1.569300 |\n| 6 | 1.183068 | 1.159229 | 1.361268 |\n\n",
            "text/html": [
              "<table class=\"dataframe\">\n",
              "<caption>A Time Series: 6 × 3</caption>\n",
              "<thead>\n",
              "\t<tr><th></th><th scope=col>sigma.egarch.pred.a</th><th scope=col>sigma.egarch.pred.b</th><th scope=col>sigma.egarch.true</th></tr>\n",
              "</thead>\n",
              "<tbody>\n",
              "\t<tr><th scope=row>1</th><td>1.481770</td><td>1.463559</td><td>2.158520</td></tr>\n",
              "\t<tr><th scope=row>2</th><td>1.378135</td><td>1.355665</td><td>2.142006</td></tr>\n",
              "\t<tr><th scope=row>3</th><td>1.346544</td><td>1.310995</td><td>1.837827</td></tr>\n",
              "\t<tr><th scope=row>4</th><td>1.284154</td><td>1.252717</td><td>1.718707</td></tr>\n",
              "\t<tr><th scope=row>5</th><td>1.199110</td><td>1.166734</td><td>1.569300</td></tr>\n",
              "\t<tr><th scope=row>6</th><td>1.183068</td><td>1.159229</td><td>1.361268</td></tr>\n",
              "</tbody>\n",
              "</table>\n"
            ]
          },
          "metadata": {
            "tags": []
          }
        }
      ]
    },
    {
      "cell_type": "markdown",
      "metadata": {
        "id": "kHT5c985HYvC"
      },
      "source": [
        "**Performance evaluation**"
      ],
      "id": "kHT5c985HYvC"
    },
    {
      "cell_type": "code",
      "metadata": {
        "colab": {
          "base_uri": "https://localhost:8080/",
          "height": 51
        },
        "id": "2zj41DH_HbJB",
        "outputId": "36c81fa0-6a52-451c-abe2-7915ba12979e"
      },
      "source": [
        "# Forecast Error - Forecast a\n",
        "egarch.error.a <- sigma.egarch[,'sigma.egarch.pred.a'] - sigma.egarch[,'sigma.egarch.true']\n",
        "head(egarch.error.a)"
      ],
      "id": "2zj41DH_HbJB",
      "execution_count": 96,
      "outputs": [
        {
          "output_type": "display_data",
          "data": {
            "text/plain": [
              "A Time Series:\n",
              "[1] -0.6767504 -0.7638712 -0.4912829 -0.4345528 -0.3701897 -0.1781995"
            ],
            "text/latex": "A Time Series:\\\\\\begin{enumerate*}\n\\item -0.676750351342841\n\\item -0.763871172779911\n\\item -0.49128292413217\n\\item -0.43455283445201\n\\item -0.370189691619328\n\\item -0.178199534777303\n\\end{enumerate*}\n",
            "text/markdown": "A Time Series:  \n1. -0.676750351342841\n2. -0.763871172779911\n3. -0.49128292413217\n4. -0.43455283445201\n5. -0.370189691619328\n6. -0.178199534777303\n\n\n",
            "text/html": [
              "A Time Series:<br><style>\n",
              ".list-inline {list-style: none; margin:0; padding: 0}\n",
              ".list-inline>li {display: inline-block}\n",
              ".list-inline>li:not(:last-child)::after {content: \"\\00b7\"; padding: 0 .5ex}\n",
              "</style>\n",
              "<ol class=list-inline><li>-0.676750351342841</li><li>-0.763871172779911</li><li>-0.49128292413217</li><li>-0.43455283445201</li><li>-0.370189691619328</li><li>-0.178199534777303</li></ol>\n"
            ]
          },
          "metadata": {
            "tags": []
          }
        }
      ]
    },
    {
      "cell_type": "code",
      "metadata": {
        "colab": {
          "base_uri": "https://localhost:8080/",
          "height": 51
        },
        "id": "qGfmTbM3HhNe",
        "outputId": "749e093d-27ec-41a3-a529-6c5248be82d2"
      },
      "source": [
        "# Forecast Error - Forecast b\n",
        "egarch.error.b <- sigma.egarch[,'sigma.egarch.pred.b'] - sigma.egarch[,'sigma.egarch.true']\n",
        "head(egarch.error.b)"
      ],
      "id": "qGfmTbM3HhNe",
      "execution_count": 97,
      "outputs": [
        {
          "output_type": "display_data",
          "data": {
            "text/plain": [
              "A Time Series:\n",
              "[1] -0.6949606 -0.7863409 -0.5268327 -0.4659901 -0.4025658 -0.2020393"
            ],
            "text/latex": "A Time Series:\\\\\\begin{enumerate*}\n\\item -0.694960604644338\n\\item -0.786340885690152\n\\item -0.526832680084733\n\\item -0.465990090055493\n\\item -0.402565773210861\n\\item -0.20203931546411\n\\end{enumerate*}\n",
            "text/markdown": "A Time Series:  \n1. -0.694960604644338\n2. -0.786340885690152\n3. -0.526832680084733\n4. -0.465990090055493\n5. -0.402565773210861\n6. -0.20203931546411\n\n\n",
            "text/html": [
              "A Time Series:<br><style>\n",
              ".list-inline {list-style: none; margin:0; padding: 0}\n",
              ".list-inline>li {display: inline-block}\n",
              ".list-inline>li:not(:last-child)::after {content: \"\\00b7\"; padding: 0 .5ex}\n",
              "</style>\n",
              "<ol class=list-inline><li>-0.694960604644338</li><li>-0.786340885690152</li><li>-0.526832680084733</li><li>-0.465990090055493</li><li>-0.402565773210861</li><li>-0.20203931546411</li></ol>\n"
            ]
          },
          "metadata": {
            "tags": []
          }
        }
      ]
    },
    {
      "cell_type": "code",
      "metadata": {
        "colab": {
          "base_uri": "https://localhost:8080/",
          "height": 34
        },
        "id": "ghBbYBQ7HocG",
        "outputId": "2a70da03-9b8c-499c-e030-1cbf79f0aca2"
      },
      "source": [
        "# Mean Square Error Loss - Forecast a\n",
        "egarch.mse.a <- MSE(sigma.egarch[,'sigma.egarch.pred.a'],\n",
        "                    sigma.egarch[,'sigma.egarch.true'])\n",
        "round(egarch.mse.a, digits = 3)     "
      ],
      "id": "ghBbYBQ7HocG",
      "execution_count": 98,
      "outputs": [
        {
          "output_type": "display_data",
          "data": {
            "text/plain": [
              "[1] 1.446"
            ],
            "text/latex": "1.446",
            "text/markdown": "1.446",
            "text/html": [
              "1.446"
            ]
          },
          "metadata": {
            "tags": []
          }
        }
      ]
    },
    {
      "cell_type": "code",
      "metadata": {
        "colab": {
          "base_uri": "https://localhost:8080/",
          "height": 34
        },
        "id": "_D9c09GZHtiG",
        "outputId": "b8e98cce-118c-441f-9a3f-9595d1cfda47"
      },
      "source": [
        "# Mean Square Error Loss - Forecast b\n",
        "egarch.mse.b <- MSE(sigma.egarch[,'sigma.egarch.pred.b'],\n",
        "                    sigma.egarch[,'sigma.egarch.true'])\n",
        "round(egarch.mse.b, digits = 3) "
      ],
      "id": "_D9c09GZHtiG",
      "execution_count": 99,
      "outputs": [
        {
          "output_type": "display_data",
          "data": {
            "text/plain": [
              "[1] 1.452"
            ],
            "text/latex": "1.452",
            "text/markdown": "1.452",
            "text/html": [
              "1.452"
            ]
          },
          "metadata": {
            "tags": []
          }
        }
      ]
    },
    {
      "cell_type": "code",
      "metadata": {
        "colab": {
          "base_uri": "https://localhost:8080/",
          "height": 34
        },
        "id": "0YnAkzX0HyHX",
        "outputId": "f87078bd-2aa8-463e-b60c-632e360d4653"
      },
      "source": [
        "# Mean Absolute Error Loss - Forecast a\n",
        "egarch.mae.a <- MAE(sigma.egarch[,'sigma.egarch.pred.a'],\n",
        "                    sigma.egarch[,'sigma.egarch.true'])\n",
        "round(egarch.mae.a, digits = 3)"
      ],
      "id": "0YnAkzX0HyHX",
      "execution_count": 100,
      "outputs": [
        {
          "output_type": "display_data",
          "data": {
            "text/plain": [
              "[1] 0.583"
            ],
            "text/latex": "0.583",
            "text/markdown": "0.583",
            "text/html": [
              "0.583"
            ]
          },
          "metadata": {
            "tags": []
          }
        }
      ]
    },
    {
      "cell_type": "code",
      "metadata": {
        "colab": {
          "base_uri": "https://localhost:8080/",
          "height": 34
        },
        "id": "brmCUjE_H4bJ",
        "outputId": "1296ee3b-2574-4a19-be8e-c1f16374ffa6"
      },
      "source": [
        "# Mean Absolute Error Loss - Forecast b\n",
        "egarch.mae.b <- MAE(sigma.egarch[,'sigma.egarch.pred.b'],\n",
        "                    sigma.egarch[,'sigma.egarch.true'])\n",
        "round(egarch.mae.b, digits = 3)"
      ],
      "id": "brmCUjE_H4bJ",
      "execution_count": 101,
      "outputs": [
        {
          "output_type": "display_data",
          "data": {
            "text/plain": [
              "[1] 0.587"
            ],
            "text/latex": "0.587",
            "text/markdown": "0.587",
            "text/html": [
              "0.587"
            ]
          },
          "metadata": {
            "tags": []
          }
        }
      ]
    },
    {
      "cell_type": "code",
      "metadata": {
        "colab": {
          "base_uri": "https://localhost:8080/",
          "height": 34
        },
        "id": "kBL2NOllIBLP",
        "outputId": "5cafb4eb-3367-48a1-b56c-e46ce6c1c354"
      },
      "source": [
        "# Root Mean Square Error Loss - Forecast a\n",
        "egarch.rmse.a <- RMSE(sigma.egarch[,'sigma.egarch.pred.a'],\n",
        "                      sigma.egarch[,'sigma.egarch.true'])\n",
        "round(egarch.rmse.a, digits = 3)"
      ],
      "id": "kBL2NOllIBLP",
      "execution_count": 102,
      "outputs": [
        {
          "output_type": "display_data",
          "data": {
            "text/plain": [
              "[1] 1.203"
            ],
            "text/latex": "1.203",
            "text/markdown": "1.203",
            "text/html": [
              "1.203"
            ]
          },
          "metadata": {
            "tags": []
          }
        }
      ]
    },
    {
      "cell_type": "code",
      "metadata": {
        "colab": {
          "base_uri": "https://localhost:8080/",
          "height": 34
        },
        "id": "YZw8WsYrIGZr",
        "outputId": "399d4d27-154e-474c-d1cc-768c981d422e"
      },
      "source": [
        "# Root Mean Square Error Loss - Forecast b\n",
        "egarch.rmse.b <- RMSE(sigma.egarch[,'sigma.egarch.pred.b'],\n",
        "                      sigma.egarch[,'sigma.egarch.true'])\n",
        "round(egarch.rmse.b, digits = 3)"
      ],
      "id": "YZw8WsYrIGZr",
      "execution_count": 103,
      "outputs": [
        {
          "output_type": "display_data",
          "data": {
            "text/plain": [
              "[1] 1.205"
            ],
            "text/latex": "1.205",
            "text/markdown": "1.205",
            "text/html": [
              "1.205"
            ]
          },
          "metadata": {
            "tags": []
          }
        }
      ]
    },
    {
      "cell_type": "code",
      "metadata": {
        "colab": {
          "base_uri": "https://localhost:8080/",
          "height": 34
        },
        "id": "lvf7k5Y2IK3Z",
        "outputId": "48c86a4c-e44e-4e6a-9b0e-355061f53eb6"
      },
      "source": [
        "# Quasi-likelihood loss function - forecast a\n",
        "h <- sigma.egarch[,'sigma.egarch.true']\n",
        "\n",
        "h.hat.a <- sigma.egarch[,'sigma.egarch.pred.a']     \n",
        "egarch.qlike.a <- mean(log(sqrt(h)) + h.hat.a/sqrt(h))\n",
        "round(egarch.qlike.a, digits = 5) "
      ],
      "id": "lvf7k5Y2IK3Z",
      "execution_count": 104,
      "outputs": [
        {
          "output_type": "display_data",
          "data": {
            "text/plain": [
              "[1] 1.13829"
            ],
            "text/latex": "1.13829",
            "text/markdown": "1.13829",
            "text/html": [
              "1.13829"
            ]
          },
          "metadata": {
            "tags": []
          }
        }
      ]
    },
    {
      "cell_type": "code",
      "metadata": {
        "colab": {
          "base_uri": "https://localhost:8080/",
          "height": 34
        },
        "id": "ac17LDnAIdRq",
        "outputId": "e88ba5c3-9db6-43e5-f246-a581d1f794fd"
      },
      "source": [
        "# Quasi-likelihood loss function - forecast b\n",
        "h.hat.b <- sigma.egarch[,'sigma.egarch.pred.b']\n",
        "egarch.qlike.b <- mean(log(sqrt(h)) + h.hat.b/sqrt(h))\n",
        "round(egarch.qlike.b, digits = 5) "
      ],
      "id": "ac17LDnAIdRq",
      "execution_count": 105,
      "outputs": [
        {
          "output_type": "display_data",
          "data": {
            "text/plain": [
              "[1] 1.1346"
            ],
            "text/latex": "1.1346",
            "text/markdown": "1.1346",
            "text/html": [
              "1.1346"
            ]
          },
          "metadata": {
            "tags": []
          }
        }
      ]
    },
    {
      "cell_type": "code",
      "metadata": {
        "colab": {
          "base_uri": "https://localhost:8080/",
          "height": 119
        },
        "id": "MDtn0VGCIhYb",
        "outputId": "bf81de46-3d24-4628-964f-ac24972f3a0c"
      },
      "source": [
        "# Diebold-Mariano Test (accuracy test) - test 1\n",
        "f.a <- sigma.egarch[,'sigma.egarch.pred.a']\n",
        "f.b <- sigma.egarch[,'sigma.egarch.pred.b']\n",
        "y <- sigma.egarch[,'sigma.egarch.true']\n",
        "\n",
        "DM.test(f.a, f.b, y, loss.type = \"SE\", c = FALSE, H1 = \"same\")"
      ],
      "id": "MDtn0VGCIhYb",
      "execution_count": 106,
      "outputs": [
        {
          "output_type": "display_data",
          "data": {
            "text/plain": [
              "\n",
              "\tDiebold-Mariano test\n",
              "\n",
              "data:  f.a and f.b and y\n",
              "statistic = -1.1802, forecast horizon = 1, p-value = 0.2379\n",
              "alternative hypothesis: Forecast f1 and f2 have different accuracy.\n"
            ]
          },
          "metadata": {
            "tags": []
          }
        }
      ]
    },
    {
      "cell_type": "code",
      "metadata": {
        "colab": {
          "base_uri": "https://localhost:8080/",
          "height": 136
        },
        "id": "iTwM8a02ImcX",
        "outputId": "f9daf54d-0e46-4c35-972b-f62cc6ffa409"
      },
      "source": [
        "# Diebold-Mariano test for predictive accuracy - test 2\n",
        "e.a <- egarch.error.a\n",
        "e.b <- egarch.error.b\n",
        "\n",
        "dm.test(e.a, e.b, alternative = \"two.sided\", h = 1, power = 2)"
      ],
      "id": "iTwM8a02ImcX",
      "execution_count": 107,
      "outputs": [
        {
          "output_type": "display_data",
          "data": {
            "text/plain": [
              "\n",
              "\tDiebold-Mariano Test\n",
              "\n",
              "data:  e.ae.b\n",
              "DM = -1.1798, Forecast horizon = 1, Loss function power = 2, p-value =\n",
              "0.2382\n",
              "alternative hypothesis: two.sided\n"
            ]
          },
          "metadata": {
            "tags": []
          }
        }
      ]
    },
    {
      "cell_type": "code",
      "metadata": {
        "colab": {
          "base_uri": "https://localhost:8080/",
          "height": 34
        },
        "id": "ubakDsZgIphu",
        "outputId": "fc51d73e-9fb5-4d4f-ca45-22cea17cdee8"
      },
      "source": [
        "# Quasi-likelihood Loss Function For Volatility Forecasts - forecast a\n",
        "egarch.qlike.a <- mean(LossVol(sigma.egarch[,'sigma.egarch.true'],\n",
        "                              sigma.egarch[,'sigma.egarch.pred.a'],\n",
        "                              which = \"QLIKE\"))\n",
        "round(egarch.qlike.a, digits = 3)"
      ],
      "id": "ubakDsZgIphu",
      "execution_count": 108,
      "outputs": [
        {
          "output_type": "display_data",
          "data": {
            "text/plain": [
              "[1] 1.987"
            ],
            "text/latex": "1.987",
            "text/markdown": "1.987",
            "text/html": [
              "1.987"
            ]
          },
          "metadata": {
            "tags": []
          }
        }
      ]
    },
    {
      "cell_type": "code",
      "metadata": {
        "colab": {
          "base_uri": "https://localhost:8080/",
          "height": 34
        },
        "id": "a0KYFwLDIwmm",
        "outputId": "946f3b0b-7015-42b9-db23-49b1e98887b6"
      },
      "source": [
        "# Quasi-likelihood Loss Function For Volatility Forecasts - forecast b\n",
        "egarch.qlike.b <- mean(LossVol(sigma.egarch[,'sigma.egarch.true'],\n",
        "                              sigma.egarch[,'sigma.egarch.pred.b'],\n",
        "                              which = \"QLIKE\"))\n",
        "round(egarch.qlike.b, digits = 3)"
      ],
      "id": "a0KYFwLDIwmm",
      "execution_count": 109,
      "outputs": [
        {
          "output_type": "display_data",
          "data": {
            "text/plain": [
              "[1] 1.993"
            ],
            "text/latex": "1.993",
            "text/markdown": "1.993",
            "text/html": [
              "1.993"
            ]
          },
          "metadata": {
            "tags": []
          }
        }
      ]
    },
    {
      "cell_type": "code",
      "metadata": {
        "colab": {
          "base_uri": "https://localhost:8080/",
          "height": 34
        },
        "id": "fegx1LuTI2iB",
        "outputId": "acd8bf0c-76c9-455b-f3ff-6b06eff18fc8"
      },
      "source": [
        "# Log loss / Cross-Entropy Loss -  forecast a\n",
        "egarch.logloss.a <- LogLoss(sigma.egarch[,'sigma.egarch.pred.a'],\n",
        "                            sigma.egarch[,'sigma.egarch.true'])\n",
        "round(egarch.logloss.a, digits = 3)"
      ],
      "id": "fegx1LuTI2iB",
      "execution_count": 110,
      "outputs": [
        {
          "output_type": "display_data",
          "data": {
            "text/plain": [
              "[1] -26.893"
            ],
            "text/latex": "-26.893",
            "text/markdown": "-26.893",
            "text/html": [
              "-26.893"
            ]
          },
          "metadata": {
            "tags": []
          }
        }
      ]
    },
    {
      "cell_type": "code",
      "metadata": {
        "colab": {
          "base_uri": "https://localhost:8080/",
          "height": 34
        },
        "id": "Rorhgye9I9H4",
        "outputId": "eb5fffc6-1ab7-47fe-9c92-c0938a222d88"
      },
      "source": [
        "# Log loss / Cross-Entropy Loss -  forecast b\n",
        "egarch.logloss.b <- LogLoss(sigma.egarch[,'sigma.egarch.pred.b'],\n",
        "                            sigma.egarch[,'sigma.egarch.true'])\n",
        "round(egarch.logloss.b, digits = 3)"
      ],
      "id": "Rorhgye9I9H4",
      "execution_count": 111,
      "outputs": [
        {
          "output_type": "display_data",
          "data": {
            "text/plain": [
              "[1] -26.886"
            ],
            "text/latex": "-26.886",
            "text/markdown": "-26.886",
            "text/html": [
              "-26.886"
            ]
          },
          "metadata": {
            "tags": []
          }
        }
      ]
    },
    {
      "cell_type": "code",
      "metadata": {
        "colab": {
          "base_uri": "https://localhost:8080/",
          "height": 170
        },
        "id": "cztScVEKJB5j",
        "outputId": "3d0f7a40-977b-4eff-8403-fdc639e48d83"
      },
      "source": [
        "# Linear regression to assess forecast performance - forecast a\n",
        "egarch.model.a <- lm(sigma.egarch.true ~ sigma.egarch.pred.a, \n",
        "                    data = sigma.egarch)\n",
        "round(coeftest(egarch.model.a, NeweyWest(egarch.model.a,\n",
        "                                        lag = bwNeweyWest(egarch.model.a),\n",
        "                                        prewhite = F)), 3)\n",
        "round(summary(egarch.model.a)$adj.r.squared, 3)"
      ],
      "id": "cztScVEKJB5j",
      "execution_count": 112,
      "outputs": [
        {
          "output_type": "display_data",
          "data": {
            "text/plain": [
              "\n",
              "t test of coefficients:\n",
              "\n",
              "                    Estimate Std. Error t value  Pr(>|t|)    \n",
              "(Intercept)           -2.105      0.194 -10.866 < 2.2e-16 ***\n",
              "sigma.egarch.pred.a    3.117      0.174  17.943 < 2.2e-16 ***\n",
              "---\n",
              "Signif. codes:  0 ‘***’ 0.001 ‘**’ 0.01 ‘*’ 0.05 ‘.’ 0.1 ‘ ’ 1\n"
            ]
          },
          "metadata": {
            "tags": []
          }
        },
        {
          "output_type": "display_data",
          "data": {
            "text/plain": [
              "[1] 0.883"
            ],
            "text/latex": "0.883",
            "text/markdown": "0.883",
            "text/html": [
              "0.883"
            ]
          },
          "metadata": {
            "tags": []
          }
        }
      ]
    },
    {
      "cell_type": "code",
      "metadata": {
        "colab": {
          "base_uri": "https://localhost:8080/",
          "height": 170
        },
        "id": "9ro2-RuaJIu0",
        "outputId": "a343a0a5-224e-44cd-d7a9-2f7c41971204"
      },
      "source": [
        "# Linear regression to assess forecast performance - forecast b\n",
        "egarch.model.b <- lm(sigma.egarch.true ~ sigma.egarch.pred.b, \n",
        "                    data = sigma.egarch)\n",
        "round(coeftest(egarch.model.b, NeweyWest(egarch.model.b,\n",
        "                                        lag = bwNeweyWest(egarch.model.b),\n",
        "                                        prewhite = F)), 3)\n",
        "round(summary(egarch.model.b)$adj.r.squared, 3)"
      ],
      "id": "9ro2-RuaJIu0",
      "execution_count": 113,
      "outputs": [
        {
          "output_type": "display_data",
          "data": {
            "text/plain": [
              "\n",
              "t test of coefficients:\n",
              "\n",
              "                    Estimate Std. Error t value  Pr(>|t|)    \n",
              "(Intercept)           -2.055      0.200 -10.248 < 2.2e-16 ***\n",
              "sigma.egarch.pred.b    3.086      0.182  16.944 < 2.2e-16 ***\n",
              "---\n",
              "Signif. codes:  0 ‘***’ 0.001 ‘**’ 0.01 ‘*’ 0.05 ‘.’ 0.1 ‘ ’ 1\n"
            ]
          },
          "metadata": {
            "tags": []
          }
        },
        {
          "output_type": "display_data",
          "data": {
            "text/plain": [
              "[1] 0.874"
            ],
            "text/latex": "0.874",
            "text/markdown": "0.874",
            "text/html": [
              "0.874"
            ]
          },
          "metadata": {
            "tags": []
          }
        }
      ]
    },
    {
      "cell_type": "markdown",
      "metadata": {
        "id": "oFQkdPS-eVHu"
      },
      "source": [
        "##(c) GJR-GARCH"
      ],
      "id": "oFQkdPS-eVHu"
    },
    {
      "cell_type": "markdown",
      "metadata": {
        "id": "0IkxEGn3evX0"
      },
      "source": [
        "**Forecast**"
      ],
      "id": "0IkxEGn3evX0"
    },
    {
      "cell_type": "code",
      "metadata": {
        "id": "Bu5hsRqZezGx"
      },
      "source": [
        "# Model specification\n",
        "gjrgarch.spec.pred <- gjrgarch.spec\n",
        "setfixed(gjrgarch.spec.pred) <- as.list(coef(gjrgarch.fit))"
      ],
      "id": "Bu5hsRqZezGx",
      "execution_count": 114,
      "outputs": []
    },
    {
      "cell_type": "code",
      "metadata": {
        "id": "pnj0hU2se9-J"
      },
      "source": [
        "# Model adjustment\n",
        "gjrgarch.fit.pred <- ugarchfit(gjrgarch.spec,\n",
        "                              N225.df$N225.Return,\n",
        "                              out.sample = dim(N225.df.out)[1])"
      ],
      "id": "pnj0hU2se9-J",
      "execution_count": 116,
      "outputs": []
    },
    {
      "cell_type": "code",
      "metadata": {
        "id": "_3Rv4lN1fGbp"
      },
      "source": [
        "# Forecast calculated through adjustment\n",
        "gjrgarch.pred.a <- ugarchforecast(gjrgarch.fit.pred,\n",
        "                                 n.ahead = 1,\n",
        "                                 n.roll = dim(N225.df.out)[1])\n",
        "\n",
        "gjrgarch.forecast.a <- xts(sigma(gjrgarch.pred.a)[1,],\n",
        "                           move(as.Date(names(sigma(gjrgarch.pred.a)[1,])), by = 1))"
      ],
      "id": "_3Rv4lN1fGbp",
      "execution_count": 117,
      "outputs": []
    },
    {
      "cell_type": "code",
      "metadata": {
        "id": "BuoBNGH8fSEL"
      },
      "source": [
        "# Forecast calculated using specification\n",
        "gjrgarch.pred.b <- ugarchforecast(gjrgarch.spec.pred,\n",
        "                                  n.ahead = 1,\n",
        "                                  n.roll = dim(N225.df.out)[1],\n",
        "                                  data = N225.df$N225.Return,\n",
        "                                  out.sample = dim(N225.df.out)[1])\n",
        "\n",
        "gjrgarch.forecast.b <- xts(sigma(gjrgarch.pred.b)[1,],\n",
        "                           move(as.Date(names(sigma(gjrgarch.pred.b)[1,])), by = 1)) "
      ],
      "id": "BuoBNGH8fSEL",
      "execution_count": 119,
      "outputs": []
    },
    {
      "cell_type": "code",
      "metadata": {
        "id": "D8Sva5A_fh9s"
      },
      "source": [
        "# Model filtering\n",
        "gjrgarch.filt.pred <- ugarchfilter(gjrgarch.spec.pred,\n",
        "                                   data = N225.df$N225.Return,\n",
        "                                   n.old = nrow(N225.df) - dim(N225.df.out)[1])\n",
        "\n",
        "gjrgarch.filt <- tail(sigma(gjrgarch.filt.pred), dim(N225.df.out)[1]) "
      ],
      "id": "D8Sva5A_fh9s",
      "execution_count": 120,
      "outputs": []
    },
    {
      "cell_type": "code",
      "metadata": {
        "colab": {
          "base_uri": "https://localhost:8080/",
          "height": 136
        },
        "id": "Cud0ITmzfjyf",
        "outputId": "dc520261-f4f3-4cf7-d7aa-b6f0cef482e2"
      },
      "source": [
        "# Comparative\n",
        "colnames(gjrgarch.filt) <- 'filter'\n",
        "colnames(gjrgarch.forecast.a) <- 'forecast1'\n",
        "colnames(gjrgarch.forecast.b) <- 'forecast2'\n",
        "\n",
        "gjrgarch.ftest <- cbind(gjrgarch.filt, \n",
        "                        gjrgarch.forecast.a,\n",
        "                        gjrgarch.forecast.b)\n",
        "head(round(gjrgarch.ftest, digits = 4))"
      ],
      "id": "Cud0ITmzfjyf",
      "execution_count": 121,
      "outputs": [
        {
          "output_type": "display_data",
          "data": {
            "text/plain": [
              "           filter forecast1 forecast2\n",
              "2014-12-19 1.4451    1.4345    1.4451\n",
              "2014-12-22 1.4475    1.4610    1.4475\n",
              "2014-12-24 1.3697    1.3925    1.3697\n",
              "2014-12-25 1.3215    1.3556    1.3215\n",
              "2014-12-26 1.2589    1.2983    1.2589\n",
              "2014-12-29 1.1969    1.2417    1.1969"
            ]
          },
          "metadata": {
            "tags": []
          }
        }
      ]
    },
    {
      "cell_type": "code",
      "metadata": {
        "colab": {
          "base_uri": "https://localhost:8080/",
          "height": 252
        },
        "id": "HujuXn--flgj",
        "outputId": "12bc5bb5-e327-453d-f98e-46bb354b3245"
      },
      "source": [
        "sigma.gjrgarch.pred.a <- ts(gjrgarch.forecast.a[-1,])\n",
        "sigma.gjrgarch.pred.b <- ts(gjrgarch.forecast.b[-1,])\n",
        "sigma.gjrgarch.true <- ts(N225.df.out$N225.VolGJRGARCH)\n",
        "\n",
        "sigma.gjrgarch <- na.omit(cbind(sigma.gjrgarch.pred.a,\n",
        "                                sigma.gjrgarch.pred.b,\n",
        "                                sigma.gjrgarch.true))\n",
        "head(sigma.gjrgarch)"
      ],
      "id": "HujuXn--flgj",
      "execution_count": 122,
      "outputs": [
        {
          "output_type": "display_data",
          "data": {
            "text/plain": [
              "  sigma.gjrgarch.pred.a sigma.gjrgarch.pred.b sigma.gjrgarch.true\n",
              "1 1.461007              1.447525              2.088346           \n",
              "2 1.392540              1.369662              2.095329           \n",
              "3 1.355565              1.321506              1.875973           \n",
              "4 1.298341              1.258856              1.746377           \n",
              "5 1.241678              1.196857              1.584717           \n",
              "6 1.204265              1.159456              1.432467           "
            ],
            "text/latex": "A Time Series: 6 × 3\n\\begin{tabular}{r|lll}\n  & sigma.gjrgarch.pred.a & sigma.gjrgarch.pred.b & sigma.gjrgarch.true\\\\\n\\hline\n\t1 & 1.461007 & 1.447525 & 2.088346\\\\\n\t2 & 1.392540 & 1.369662 & 2.095329\\\\\n\t3 & 1.355565 & 1.321506 & 1.875973\\\\\n\t4 & 1.298341 & 1.258856 & 1.746377\\\\\n\t5 & 1.241678 & 1.196857 & 1.584717\\\\\n\t6 & 1.204265 & 1.159456 & 1.432467\\\\\n\\end{tabular}\n",
            "text/markdown": "\nA Time Series: 6 × 3\n\n| <!--/--> | sigma.gjrgarch.pred.a | sigma.gjrgarch.pred.b | sigma.gjrgarch.true |\n|---|---|---|---|\n| 1 | 1.461007 | 1.447525 | 2.088346 |\n| 2 | 1.392540 | 1.369662 | 2.095329 |\n| 3 | 1.355565 | 1.321506 | 1.875973 |\n| 4 | 1.298341 | 1.258856 | 1.746377 |\n| 5 | 1.241678 | 1.196857 | 1.584717 |\n| 6 | 1.204265 | 1.159456 | 1.432467 |\n\n",
            "text/html": [
              "<table class=\"dataframe\">\n",
              "<caption>A Time Series: 6 × 3</caption>\n",
              "<thead>\n",
              "\t<tr><th></th><th scope=col>sigma.gjrgarch.pred.a</th><th scope=col>sigma.gjrgarch.pred.b</th><th scope=col>sigma.gjrgarch.true</th></tr>\n",
              "</thead>\n",
              "<tbody>\n",
              "\t<tr><th scope=row>1</th><td>1.461007</td><td>1.447525</td><td>2.088346</td></tr>\n",
              "\t<tr><th scope=row>2</th><td>1.392540</td><td>1.369662</td><td>2.095329</td></tr>\n",
              "\t<tr><th scope=row>3</th><td>1.355565</td><td>1.321506</td><td>1.875973</td></tr>\n",
              "\t<tr><th scope=row>4</th><td>1.298341</td><td>1.258856</td><td>1.746377</td></tr>\n",
              "\t<tr><th scope=row>5</th><td>1.241678</td><td>1.196857</td><td>1.584717</td></tr>\n",
              "\t<tr><th scope=row>6</th><td>1.204265</td><td>1.159456</td><td>1.432467</td></tr>\n",
              "</tbody>\n",
              "</table>\n"
            ]
          },
          "metadata": {
            "tags": []
          }
        }
      ]
    },
    {
      "cell_type": "markdown",
      "metadata": {
        "id": "bUYdP2aVfnV8"
      },
      "source": [
        "**Performance evaluation**"
      ],
      "id": "bUYdP2aVfnV8"
    },
    {
      "cell_type": "code",
      "metadata": {
        "colab": {
          "base_uri": "https://localhost:8080/",
          "height": 51
        },
        "id": "SsZQktM-fpou",
        "outputId": "39c684a3-92f6-46a6-b732-24c2b87928b3"
      },
      "source": [
        "# Forecast Error - Forecast a\n",
        "gjrgarch.error.a <- sigma.gjrgarch[,'sigma.gjrgarch.pred.a'] - sigma.gjrgarch[,'sigma.gjrgarch.true']\n",
        "head(gjrgarch.error.a)"
      ],
      "id": "SsZQktM-fpou",
      "execution_count": 123,
      "outputs": [
        {
          "output_type": "display_data",
          "data": {
            "text/plain": [
              "A Time Series:\n",
              "[1] -0.6273395 -0.7027894 -0.5204076 -0.4480364 -0.3430391 -0.2282024"
            ],
            "text/latex": "A Time Series:\\\\\\begin{enumerate*}\n\\item -0.627339450388305\n\\item -0.702789352367284\n\\item -0.520407551932829\n\\item -0.448036357982417\n\\item -0.343039123473909\n\\item -0.228202428487265\n\\end{enumerate*}\n",
            "text/markdown": "A Time Series:  \n1. -0.627339450388305\n2. -0.702789352367284\n3. -0.520407551932829\n4. -0.448036357982417\n5. -0.343039123473909\n6. -0.228202428487265\n\n\n",
            "text/html": [
              "A Time Series:<br><style>\n",
              ".list-inline {list-style: none; margin:0; padding: 0}\n",
              ".list-inline>li {display: inline-block}\n",
              ".list-inline>li:not(:last-child)::after {content: \"\\00b7\"; padding: 0 .5ex}\n",
              "</style>\n",
              "<ol class=list-inline><li>-0.627339450388305</li><li>-0.702789352367284</li><li>-0.520407551932829</li><li>-0.448036357982417</li><li>-0.343039123473909</li><li>-0.228202428487265</li></ol>\n"
            ]
          },
          "metadata": {
            "tags": []
          }
        }
      ]
    },
    {
      "cell_type": "code",
      "metadata": {
        "colab": {
          "base_uri": "https://localhost:8080/",
          "height": 51
        },
        "id": "jBBozS2dfq74",
        "outputId": "fb4a8a27-5ef5-431b-c59c-5e5137cd76d2"
      },
      "source": [
        "# Forecast Error - Forecast b\n",
        "gjrgarch.error.b <- sigma.gjrgarch[,'sigma.gjrgarch.pred.b'] - sigma.gjrgarch[,'sigma.gjrgarch.true']\n",
        "head(gjrgarch.error.b)"
      ],
      "id": "jBBozS2dfq74",
      "execution_count": 124,
      "outputs": [
        {
          "output_type": "display_data",
          "data": {
            "text/plain": [
              "A Time Series:\n",
              "[1] -0.6408211 -0.7256677 -0.5544674 -0.4875215 -0.3878602 -0.2730108"
            ],
            "text/latex": "A Time Series:\\\\\\begin{enumerate*}\n\\item -0.640821074610279\n\\item -0.725667715609692\n\\item -0.554467359063636\n\\item -0.487521512717352\n\\item -0.38786021582603\n\\item -0.273010836728301\n\\end{enumerate*}\n",
            "text/markdown": "A Time Series:  \n1. -0.640821074610279\n2. -0.725667715609692\n3. -0.554467359063636\n4. -0.487521512717352\n5. -0.38786021582603\n6. -0.273010836728301\n\n\n",
            "text/html": [
              "A Time Series:<br><style>\n",
              ".list-inline {list-style: none; margin:0; padding: 0}\n",
              ".list-inline>li {display: inline-block}\n",
              ".list-inline>li:not(:last-child)::after {content: \"\\00b7\"; padding: 0 .5ex}\n",
              "</style>\n",
              "<ol class=list-inline><li>-0.640821074610279</li><li>-0.725667715609692</li><li>-0.554467359063636</li><li>-0.487521512717352</li><li>-0.38786021582603</li><li>-0.273010836728301</li></ol>\n"
            ]
          },
          "metadata": {
            "tags": []
          }
        }
      ]
    },
    {
      "cell_type": "code",
      "metadata": {
        "colab": {
          "base_uri": "https://localhost:8080/",
          "height": 34
        },
        "id": "i2fN1KMjfsXn",
        "outputId": "2c49a772-0eb2-4bca-b02a-3515b40f5e7d"
      },
      "source": [
        "# Mean Square Error Loss - Forecast a\n",
        "gjrgarch.mse.a <- MSE(sigma.gjrgarch[,'sigma.gjrgarch.pred.a'],\n",
        "                      sigma.gjrgarch[,'sigma.gjrgarch.true'])\n",
        "round(gjrgarch.mse.a, digits = 3)     "
      ],
      "id": "i2fN1KMjfsXn",
      "execution_count": 125,
      "outputs": [
        {
          "output_type": "display_data",
          "data": {
            "text/plain": [
              "[1] 2.147"
            ],
            "text/latex": "2.147",
            "text/markdown": "2.147",
            "text/html": [
              "2.147"
            ]
          },
          "metadata": {
            "tags": []
          }
        }
      ]
    },
    {
      "cell_type": "code",
      "metadata": {
        "colab": {
          "base_uri": "https://localhost:8080/",
          "height": 34
        },
        "id": "Lvt4jBa7ft6T",
        "outputId": "c42adc63-22f2-4326-e8df-f9121cc8416c"
      },
      "source": [
        "# Mean Square Error Loss - Forecast b\n",
        "gjrgarch.mse.b <- MSE(sigma.gjrgarch[,'sigma.gjrgarch.pred.b'],\n",
        "                      sigma.gjrgarch[,'sigma.gjrgarch.true'])\n",
        "round(gjrgarch.mse.b, digits = 3) "
      ],
      "id": "Lvt4jBa7ft6T",
      "execution_count": 126,
      "outputs": [
        {
          "output_type": "display_data",
          "data": {
            "text/plain": [
              "[1] 2.132"
            ],
            "text/latex": "2.132",
            "text/markdown": "2.132",
            "text/html": [
              "2.132"
            ]
          },
          "metadata": {
            "tags": []
          }
        }
      ]
    },
    {
      "cell_type": "code",
      "metadata": {
        "colab": {
          "base_uri": "https://localhost:8080/",
          "height": 34
        },
        "id": "0F8MhYOFfveh",
        "outputId": "b78967eb-aea4-4cee-9c1b-3933ed345198"
      },
      "source": [
        "# Mean Absolute Error Loss - Forecast a\n",
        "gjrgarch.mae.a <- MAE(sigma.gjrgarch[,'sigma.gjrgarch.pred.a'],\n",
        "                      sigma.gjrgarch[,'sigma.gjrgarch.true'])\n",
        "round(gjrgarch.mae.a, digits = 3)"
      ],
      "id": "0F8MhYOFfveh",
      "execution_count": 127,
      "outputs": [
        {
          "output_type": "display_data",
          "data": {
            "text/plain": [
              "[1] 0.661"
            ],
            "text/latex": "0.661",
            "text/markdown": "0.661",
            "text/html": [
              "0.661"
            ]
          },
          "metadata": {
            "tags": []
          }
        }
      ]
    },
    {
      "cell_type": "code",
      "metadata": {
        "colab": {
          "base_uri": "https://localhost:8080/",
          "height": 34
        },
        "id": "jzHyH96NfxBJ",
        "outputId": "5014fa7a-96c3-4b0d-ff34-d6f2d4639cb9"
      },
      "source": [
        "# Mean Absolute Error Loss - Forecast b\n",
        "gjrgarch.mae.b <- MAE(sigma.gjrgarch[,'sigma.gjrgarch.pred.b'],\n",
        "                      sigma.gjrgarch[,'sigma.gjrgarch.true'])\n",
        "round(gjrgarch.mae.b, digits = 3)"
      ],
      "id": "jzHyH96NfxBJ",
      "execution_count": 128,
      "outputs": [
        {
          "output_type": "display_data",
          "data": {
            "text/plain": [
              "[1] 0.661"
            ],
            "text/latex": "0.661",
            "text/markdown": "0.661",
            "text/html": [
              "0.661"
            ]
          },
          "metadata": {
            "tags": []
          }
        }
      ]
    },
    {
      "cell_type": "code",
      "metadata": {
        "colab": {
          "base_uri": "https://localhost:8080/",
          "height": 34
        },
        "id": "-h5RQeH-fyoY",
        "outputId": "42e96a56-6af8-4f14-d97a-45e7f89b1e45"
      },
      "source": [
        "# Root Mean Square Error Loss - Forecast a\n",
        "gjrgarch.rmse.a <- RMSE(sigma.gjrgarch[,'sigma.gjrgarch.pred.a'],\n",
        "                        sigma.gjrgarch[,'sigma.gjrgarch.true'])\n",
        "round(gjrgarch.rmse.a, digits = 3)"
      ],
      "id": "-h5RQeH-fyoY",
      "execution_count": 130,
      "outputs": [
        {
          "output_type": "display_data",
          "data": {
            "text/plain": [
              "[1] 1.465"
            ],
            "text/latex": "1.465",
            "text/markdown": "1.465",
            "text/html": [
              "1.465"
            ]
          },
          "metadata": {
            "tags": []
          }
        }
      ]
    },
    {
      "cell_type": "code",
      "metadata": {
        "colab": {
          "base_uri": "https://localhost:8080/",
          "height": 34
        },
        "id": "CO0j4hDsf0d4",
        "outputId": "946222d5-baeb-49f1-b6e4-8f32537cefc2"
      },
      "source": [
        "# Root Mean Square Error Loss - Forecast b\n",
        "gjrgarch.rmse.b <- RMSE(sigma.gjrgarch[,'sigma.gjrgarch.pred.b'],\n",
        "                        sigma.gjrgarch[,'sigma.gjrgarch.true'])\n",
        "round(gjrgarch.rmse.b, digits = 3)"
      ],
      "id": "CO0j4hDsf0d4",
      "execution_count": 131,
      "outputs": [
        {
          "output_type": "display_data",
          "data": {
            "text/plain": [
              "[1] 1.46"
            ],
            "text/latex": "1.46",
            "text/markdown": "1.46",
            "text/html": [
              "1.46"
            ]
          },
          "metadata": {
            "tags": []
          }
        }
      ]
    },
    {
      "cell_type": "code",
      "metadata": {
        "colab": {
          "base_uri": "https://localhost:8080/",
          "height": 34
        },
        "id": "0izvA6naf2CT",
        "outputId": "87611e2d-b327-4043-ae05-a09ac80f9ba7"
      },
      "source": [
        "# Quasi-likelihood loss function - forecast a\n",
        "h <- sigma.gjrgarch[,'sigma.gjrgarch.true']\n",
        "\n",
        "h.hat.a <- sigma.gjrgarch[,'sigma.gjrgarch.pred.a']     \n",
        "gjrgarch.qlike.a <- mean(log(sqrt(h)) + h.hat.a/sqrt(h))\n",
        "round(gjrgarch.qlike.a, digits = 5) "
      ],
      "id": "0izvA6naf2CT",
      "execution_count": 132,
      "outputs": [
        {
          "output_type": "display_data",
          "data": {
            "text/plain": [
              "[1] 1.17424"
            ],
            "text/latex": "1.17424",
            "text/markdown": "1.17424",
            "text/html": [
              "1.17424"
            ]
          },
          "metadata": {
            "tags": []
          }
        }
      ]
    },
    {
      "cell_type": "code",
      "metadata": {
        "colab": {
          "base_uri": "https://localhost:8080/",
          "height": 34
        },
        "id": "OkYbmGlgf4CE",
        "outputId": "093d86c6-71e5-4f3e-d625-72e21c658b24"
      },
      "source": [
        "# Quasi-likelihood loss function - forecast b\n",
        "h.hat.b <- sigma.gjrgarch[,'sigma.gjrgarch.pred.b']\n",
        "gjrgarch.qlike.b <- mean(log(sqrt(h)) + h.hat.b/sqrt(h))\n",
        "round(gjrgarch.qlike.b, digits = 5) "
      ],
      "id": "OkYbmGlgf4CE",
      "execution_count": 133,
      "outputs": [
        {
          "output_type": "display_data",
          "data": {
            "text/plain": [
              "[1] 1.15625"
            ],
            "text/latex": "1.15625",
            "text/markdown": "1.15625",
            "text/html": [
              "1.15625"
            ]
          },
          "metadata": {
            "tags": []
          }
        }
      ]
    },
    {
      "cell_type": "code",
      "metadata": {
        "colab": {
          "base_uri": "https://localhost:8080/",
          "height": 119
        },
        "id": "rzS76jQef6U9",
        "outputId": "c091b0d4-e8b2-4fbe-aea3-16b7fe09176c"
      },
      "source": [
        "# Diebold-Mariano Test (accuracy test) - test 1\n",
        "f.a <- sigma.gjrgarch[,'sigma.gjrgarch.pred.a']\n",
        "f.b <- sigma.gjrgarch[,'sigma.gjrgarch.pred.b']\n",
        "y <- sigma.gjrgarch[,'sigma.gjrgarch.true']\n",
        "\n",
        "DM.test(f.a, f.b, y, loss.type = \"SE\", c = FALSE, H1 = \"same\")"
      ],
      "id": "rzS76jQef6U9",
      "execution_count": 134,
      "outputs": [
        {
          "output_type": "display_data",
          "data": {
            "text/plain": [
              "\n",
              "\tDiebold-Mariano test\n",
              "\n",
              "data:  f.a and f.b and y\n",
              "statistic = 1.8393, forecast horizon = 1, p-value = 0.06586\n",
              "alternative hypothesis: Forecast f1 and f2 have different accuracy.\n"
            ]
          },
          "metadata": {
            "tags": []
          }
        }
      ]
    },
    {
      "cell_type": "code",
      "metadata": {
        "colab": {
          "base_uri": "https://localhost:8080/",
          "height": 136
        },
        "id": "6Z5ZUPt9f78m",
        "outputId": "b36b2358-5837-4083-b615-bf846b84c9c1"
      },
      "source": [
        "# Diebold-Mariano test for predictive accuracy - test 2\n",
        "e.a <- gjrgarch.error.a\n",
        "e.b <- gjrgarch.error.b\n",
        "\n",
        "dm.test(e.a, e.b, alternative = \"two.sided\", h = 1, power = 2)"
      ],
      "id": "6Z5ZUPt9f78m",
      "execution_count": 135,
      "outputs": [
        {
          "output_type": "display_data",
          "data": {
            "text/plain": [
              "\n",
              "\tDiebold-Mariano Test\n",
              "\n",
              "data:  e.ae.b\n",
              "DM = 1.8388, Forecast horizon = 1, Loss function power = 2, p-value =\n",
              "0.06614\n",
              "alternative hypothesis: two.sided\n"
            ]
          },
          "metadata": {
            "tags": []
          }
        }
      ]
    },
    {
      "cell_type": "code",
      "metadata": {
        "colab": {
          "base_uri": "https://localhost:8080/",
          "height": 34
        },
        "id": "VXp_bhCxf9j3",
        "outputId": "c63c4dca-babf-4b2e-dd16-284d579dfed0"
      },
      "source": [
        "# Quasi-likelihood Loss Function For Volatility Forecasts - forecast a\n",
        "gjrgarch.qlike.a <- mean(LossVol(sigma.gjrgarch[,'sigma.gjrgarch.true'],\n",
        "                                 sigma.gjrgarch[,'sigma.gjrgarch.pred.a'],\n",
        "                                 which = \"QLIKE\"))\n",
        "round(gjrgarch.qlike.a, digits = 3)"
      ],
      "id": "VXp_bhCxf9j3",
      "execution_count": 136,
      "outputs": [
        {
          "output_type": "display_data",
          "data": {
            "text/plain": [
              "[1] 2.159"
            ],
            "text/latex": "2.159",
            "text/markdown": "2.159",
            "text/html": [
              "2.159"
            ]
          },
          "metadata": {
            "tags": []
          }
        }
      ]
    },
    {
      "cell_type": "code",
      "metadata": {
        "colab": {
          "base_uri": "https://localhost:8080/",
          "height": 34
        },
        "id": "rdnKVIIPhRw-",
        "outputId": "ab4bd27a-a29d-42b2-95cb-a7239fb92d60"
      },
      "source": [
        "# Quasi-likelihood Loss Function For Volatility Forecasts - forecast b\n",
        "gjrgarch.qlike.b <- mean(LossVol(sigma.gjrgarch[,'sigma.gjrgarch.true'],\n",
        "                                 sigma.gjrgarch[,'sigma.gjrgarch.pred.b'],\n",
        "                                 which = \"QLIKE\"))\n",
        "round(gjrgarch.qlike.b, digits = 3)"
      ],
      "id": "rdnKVIIPhRw-",
      "execution_count": 137,
      "outputs": [
        {
          "output_type": "display_data",
          "data": {
            "text/plain": [
              "[1] 2.153"
            ],
            "text/latex": "2.153",
            "text/markdown": "2.153",
            "text/html": [
              "2.153"
            ]
          },
          "metadata": {
            "tags": []
          }
        }
      ]
    },
    {
      "cell_type": "code",
      "metadata": {
        "colab": {
          "base_uri": "https://localhost:8080/",
          "height": 34
        },
        "id": "MS_N8LCMhTKg",
        "outputId": "4c25ab83-4352-463e-d6dc-f37687c75977"
      },
      "source": [
        "# Log loss / Cross-Entropy Loss -  forecast a\n",
        "gjrgarch.logloss.a <- LogLoss(sigma.gjrgarch[,'sigma.gjrgarch.pred.a'],\n",
        "                              sigma.gjrgarch[,'sigma.gjrgarch.true'])\n",
        "round(gjrgarch.logloss.a, digits = 3)"
      ],
      "id": "MS_N8LCMhTKg",
      "execution_count": 138,
      "outputs": [
        {
          "output_type": "display_data",
          "data": {
            "text/plain": [
              "[1] -30.156"
            ],
            "text/latex": "-30.156",
            "text/markdown": "-30.156",
            "text/html": [
              "-30.156"
            ]
          },
          "metadata": {
            "tags": []
          }
        }
      ]
    },
    {
      "cell_type": "code",
      "metadata": {
        "colab": {
          "base_uri": "https://localhost:8080/",
          "height": 34
        },
        "id": "5d2cFCtrhU8y",
        "outputId": "1cd57f84-13d3-4552-a0ba-d5c34a0b4988"
      },
      "source": [
        "# Log loss / Cross-Entropy Loss -  forecast b\n",
        "gjrgarch.logloss.b <- LogLoss(sigma.gjrgarch[,'sigma.gjrgarch.pred.b'],\n",
        "                              sigma.gjrgarch[,'sigma.gjrgarch.true'])\n",
        "round(gjrgarch.logloss.b, digits = 3)"
      ],
      "id": "5d2cFCtrhU8y",
      "execution_count": 139,
      "outputs": [
        {
          "output_type": "display_data",
          "data": {
            "text/plain": [
              "[1] -30.159"
            ],
            "text/latex": "-30.159",
            "text/markdown": "-30.159",
            "text/html": [
              "-30.159"
            ]
          },
          "metadata": {
            "tags": []
          }
        }
      ]
    },
    {
      "cell_type": "code",
      "metadata": {
        "colab": {
          "base_uri": "https://localhost:8080/",
          "height": 170
        },
        "id": "b1gMzpGYhWtR",
        "outputId": "b9643c22-7197-4d8c-e2ad-16c4ab5da921"
      },
      "source": [
        "# Linear regression to assess forecast performance - forecast a\n",
        "gjrgarch.model.a <- lm(sigma.gjrgarch.true ~ sigma.gjrgarch.pred.a, \n",
        "                      data = sigma.gjrgarch)\n",
        "round(coeftest(gjrgarch.model.a, NeweyWest(gjrgarch.model.a,\n",
        "                                          lag = bwNeweyWest(gjrgarch.model.a),\n",
        "                                          prewhite = F)), 3)\n",
        "round(summary(gjrgarch.model.a)$adj.r.squared, 3)"
      ],
      "id": "b1gMzpGYhWtR",
      "execution_count": 140,
      "outputs": [
        {
          "output_type": "display_data",
          "data": {
            "text/plain": [
              "\n",
              "t test of coefficients:\n",
              "\n",
              "                      Estimate Std. Error t value  Pr(>|t|)    \n",
              "(Intercept)             -2.587      0.220 -11.764 < 2.2e-16 ***\n",
              "sigma.gjrgarch.pred.a    3.485      0.192  18.170 < 2.2e-16 ***\n",
              "---\n",
              "Signif. codes:  0 ‘***’ 0.001 ‘**’ 0.01 ‘*’ 0.05 ‘.’ 0.1 ‘ ’ 1\n"
            ]
          },
          "metadata": {
            "tags": []
          }
        },
        {
          "output_type": "display_data",
          "data": {
            "text/plain": [
              "[1] 0.883"
            ],
            "text/latex": "0.883",
            "text/markdown": "0.883",
            "text/html": [
              "0.883"
            ]
          },
          "metadata": {
            "tags": []
          }
        }
      ]
    },
    {
      "cell_type": "code",
      "metadata": {
        "colab": {
          "base_uri": "https://localhost:8080/",
          "height": 170
        },
        "id": "tBYTx0AqhYC8",
        "outputId": "ad1b47d1-973b-4571-897e-0dd2d77bb145"
      },
      "source": [
        "# Linear regression to assess forecast performance - forecast b\n",
        "gjrgarch.model.b <- lm(sigma.gjrgarch.true ~ sigma.gjrgarch.pred.b, \n",
        "                      data = sigma.gjrgarch)\n",
        "round(coeftest(gjrgarch.model.b, NeweyWest(gjrgarch.model.b,\n",
        "                                          lag = bwNeweyWest(gjrgarch.model.b),\n",
        "                                          prewhite = F)), 3)\n",
        "round(summary(gjrgarch.model.b)$adj.r.squared, 3)"
      ],
      "id": "tBYTx0AqhYC8",
      "execution_count": 141,
      "outputs": [
        {
          "output_type": "display_data",
          "data": {
            "text/plain": [
              "\n",
              "t test of coefficients:\n",
              "\n",
              "                      Estimate Std. Error t value  Pr(>|t|)    \n",
              "(Intercept)             -2.371      0.217 -10.948 < 2.2e-16 ***\n",
              "sigma.gjrgarch.pred.b    3.358      0.194  17.320 < 2.2e-16 ***\n",
              "---\n",
              "Signif. codes:  0 ‘***’ 0.001 ‘**’ 0.01 ‘*’ 0.05 ‘.’ 0.1 ‘ ’ 1\n"
            ]
          },
          "metadata": {
            "tags": []
          }
        },
        {
          "output_type": "display_data",
          "data": {
            "text/plain": [
              "[1] 0.877"
            ],
            "text/latex": "0.877",
            "text/markdown": "0.877",
            "text/html": [
              "0.877"
            ]
          },
          "metadata": {
            "tags": []
          }
        }
      ]
    },
    {
      "cell_type": "markdown",
      "metadata": {
        "id": "hBtX1JYCb3s3"
      },
      "source": [
        "#11. Forecast - Realized GARCH models"
      ],
      "id": "hBtX1JYCb3s3"
    },
    {
      "cell_type": "markdown",
      "metadata": {
        "id": "UIwlmS2LcHzI"
      },
      "source": [
        "##(a) Realized Linear GARCH"
      ],
      "id": "UIwlmS2LcHzI"
    },
    {
      "cell_type": "markdown",
      "metadata": {
        "id": "m1Lwk0WVrwGP"
      },
      "source": [
        "**Forecast**"
      ],
      "id": "m1Lwk0WVrwGP"
    },
    {
      "cell_type": "code",
      "metadata": {
        "id": "qz6geGd9cb1b"
      },
      "source": [
        "# Model specification\n",
        "realgarch.spec.pred <- realgarch.spec\n",
        "setfixed(realgarch.spec.pred) <- as.list(coef(realgarch.fit))"
      ],
      "id": "qz6geGd9cb1b",
      "execution_count": 142,
      "outputs": []
    },
    {
      "cell_type": "code",
      "metadata": {
        "id": "dmFRUuGzdBgQ"
      },
      "source": [
        "# Model adjustment\n",
        "realgarch.fit.pred <- ugarchfit(realgarch.spec,\n",
        "                                N225.df$N225.Return,\n",
        "                                out.sample = dim(N225.df.out)[1],\n",
        "                                solver = 'hybrid',\n",
        "                                realizedVol = N225.df$N225.VolGARCH)"
      ],
      "id": "dmFRUuGzdBgQ",
      "execution_count": 143,
      "outputs": []
    },
    {
      "cell_type": "code",
      "metadata": {
        "id": "uAyVSHF0eBkR"
      },
      "source": [
        "# Forecast calculated through adjustment\n",
        "realgarch.pred.a <- ugarchforecast(realgarch.fit.pred,\n",
        "                                   n.ahead = 1,\n",
        "                                   n.roll = dim(N225.df.out)[1])\n",
        "\n",
        "realgarch.forecast.a <- xts(sigma(realgarch.pred.a)[1,],\n",
        "                            move(as.Date(names(sigma(realgarch.pred.a)[1,])), by = 1))"
      ],
      "id": "uAyVSHF0eBkR",
      "execution_count": 144,
      "outputs": []
    },
    {
      "cell_type": "code",
      "metadata": {
        "id": "GpWgFuK_eVgR"
      },
      "source": [
        "# Forecast calculated using specification\n",
        "realgarch.pred.b <- ugarchforecast(realgarch.spec.pred, \n",
        "                                   n.ahead = 1, \n",
        "                                   n.roll = dim(N225.df.out)[1], \n",
        "                                   data = N225.df$N225.Return, \n",
        "                                   out.sample = dim(N225.df.out)[1], \n",
        "                                   realizedVol = N225.df$N225.VolRealGARCH)\n",
        "\n",
        "realgarch.forecast.b <- xts(sigma(realgarch.pred.b)[1,],\n",
        "                            move(as.Date(names(sigma(realgarch.pred.b)[1,])), by = 1))"
      ],
      "id": "GpWgFuK_eVgR",
      "execution_count": 145,
      "outputs": []
    },
    {
      "cell_type": "code",
      "metadata": {
        "id": "t-BKfrn_fXib"
      },
      "source": [
        "# Model filtering\n",
        "realgarch.filt.pred <- ugarchfilter(realgarch.spec.pred,\n",
        "                                    data = N225.df$N225.Return,\n",
        "                                    n.old = nrow(N225.df) - dim(N225.df.out)[1],\n",
        "                                    realizedVol = N225.df$N225.VolRealGARCH)\n",
        "\n",
        "realgarch.filt <- tail(sigma(realgarch.filt.pred), dim(N225.df.out)[1])"
      ],
      "id": "t-BKfrn_fXib",
      "execution_count": 146,
      "outputs": []
    },
    {
      "cell_type": "code",
      "metadata": {
        "colab": {
          "base_uri": "https://localhost:8080/",
          "height": 136
        },
        "id": "etKihjvFoDCY",
        "outputId": "ec5b8d54-b080-436d-fa4e-e160e291f4e2"
      },
      "source": [
        "# Comparative\n",
        "colnames(realgarch.filt) <- 'filter'\n",
        "colnames(realgarch.forecast.a) <- 'forecast1'\n",
        "colnames(realgarch.forecast.b) <- 'forecast2'\n",
        "\n",
        "realgarch.ftest <- cbind(realgarch.filt,\n",
        "                        realgarch.forecast.a,\n",
        "                        realgarch.forecast.b)\n",
        "head(round(realgarch.ftest, digits = 4))"
      ],
      "id": "etKihjvFoDCY",
      "execution_count": 147,
      "outputs": [
        {
          "output_type": "display_data",
          "data": {
            "text/plain": [
              "           filter forecast1 forecast2\n",
              "2014-12-19 1.3738    1.2906    1.3553\n",
              "2014-12-22 1.3180    1.4102    1.3030\n",
              "2014-12-24 1.4422    1.5288    1.4212\n",
              "2014-12-25 1.5573    1.4607    1.5320\n",
              "2014-12-26 1.4843    1.4307    1.4646\n",
              "2014-12-29 1.4580    1.3596    1.4387"
            ]
          },
          "metadata": {
            "tags": []
          }
        }
      ]
    },
    {
      "cell_type": "code",
      "metadata": {
        "colab": {
          "base_uri": "https://localhost:8080/",
          "height": 252
        },
        "id": "PLZ71If2oR7-",
        "outputId": "39db4381-3de1-487f-819a-502b6628422a"
      },
      "source": [
        "sigma.realgarch.pred.a <- ts(realgarch.forecast.a[-1,])\n",
        "sigma.realgarch.pred.b <- ts(realgarch.forecast.b[-1,])\n",
        "sigma.realgarch.true <- ts(N225.df.out$N225.VolRealGARCH)\n",
        "\n",
        "sigma.realgarch <- na.omit(cbind(sigma.realgarch.pred.a,\n",
        "                                sigma.realgarch.pred.b,\n",
        "                                sigma.realgarch.true))\n",
        "head(sigma.realgarch)"
      ],
      "id": "PLZ71If2oR7-",
      "execution_count": 148,
      "outputs": [
        {
          "output_type": "display_data",
          "data": {
            "text/plain": [
              "  sigma.realgarch.pred.a sigma.realgarch.pred.b sigma.realgarch.true\n",
              "1 1.410221               1.302987               1.697446            \n",
              "2 1.528829               1.421171               2.060737            \n",
              "3 1.460724               1.532022               2.418003            \n",
              "4 1.430650               1.464599               2.175166            \n",
              "5 1.359581               1.438676               2.098138            \n",
              "6 1.295421               1.371355               1.895127            "
            ],
            "text/latex": "A Time Series: 6 × 3\n\\begin{tabular}{r|lll}\n  & sigma.realgarch.pred.a & sigma.realgarch.pred.b & sigma.realgarch.true\\\\\n\\hline\n\t1 & 1.410221 & 1.302987 & 1.697446\\\\\n\t2 & 1.528829 & 1.421171 & 2.060737\\\\\n\t3 & 1.460724 & 1.532022 & 2.418003\\\\\n\t4 & 1.430650 & 1.464599 & 2.175166\\\\\n\t5 & 1.359581 & 1.438676 & 2.098138\\\\\n\t6 & 1.295421 & 1.371355 & 1.895127\\\\\n\\end{tabular}\n",
            "text/markdown": "\nA Time Series: 6 × 3\n\n| <!--/--> | sigma.realgarch.pred.a | sigma.realgarch.pred.b | sigma.realgarch.true |\n|---|---|---|---|\n| 1 | 1.410221 | 1.302987 | 1.697446 |\n| 2 | 1.528829 | 1.421171 | 2.060737 |\n| 3 | 1.460724 | 1.532022 | 2.418003 |\n| 4 | 1.430650 | 1.464599 | 2.175166 |\n| 5 | 1.359581 | 1.438676 | 2.098138 |\n| 6 | 1.295421 | 1.371355 | 1.895127 |\n\n",
            "text/html": [
              "<table class=\"dataframe\">\n",
              "<caption>A Time Series: 6 × 3</caption>\n",
              "<thead>\n",
              "\t<tr><th></th><th scope=col>sigma.realgarch.pred.a</th><th scope=col>sigma.realgarch.pred.b</th><th scope=col>sigma.realgarch.true</th></tr>\n",
              "</thead>\n",
              "<tbody>\n",
              "\t<tr><th scope=row>1</th><td>1.410221</td><td>1.302987</td><td>1.697446</td></tr>\n",
              "\t<tr><th scope=row>2</th><td>1.528829</td><td>1.421171</td><td>2.060737</td></tr>\n",
              "\t<tr><th scope=row>3</th><td>1.460724</td><td>1.532022</td><td>2.418003</td></tr>\n",
              "\t<tr><th scope=row>4</th><td>1.430650</td><td>1.464599</td><td>2.175166</td></tr>\n",
              "\t<tr><th scope=row>5</th><td>1.359581</td><td>1.438676</td><td>2.098138</td></tr>\n",
              "\t<tr><th scope=row>6</th><td>1.295421</td><td>1.371355</td><td>1.895127</td></tr>\n",
              "</tbody>\n",
              "</table>\n"
            ]
          },
          "metadata": {
            "tags": []
          }
        }
      ]
    },
    {
      "cell_type": "markdown",
      "metadata": {
        "id": "FC4yfA9tog9z"
      },
      "source": [
        "**Performance evaluation**"
      ],
      "id": "FC4yfA9tog9z"
    },
    {
      "cell_type": "code",
      "metadata": {
        "colab": {
          "base_uri": "https://localhost:8080/",
          "height": 51
        },
        "id": "8F-5qQlPojtX",
        "outputId": "fbc43d7b-9800-49da-f089-d97704231fce"
      },
      "source": [
        "# Forecast Error - Forecast a\n",
        "realgarch.error.a <- sigma.realgarch[,'sigma.realgarch.pred.a'] - sigma.realgarch[,'sigma.realgarch.true']\n",
        "head(realgarch.error.a)"
      ],
      "id": "8F-5qQlPojtX",
      "execution_count": 149,
      "outputs": [
        {
          "output_type": "display_data",
          "data": {
            "text/plain": [
              "A Time Series:\n",
              "[1] -0.2872251 -0.5319081 -0.9572788 -0.7445157 -0.7385569 -0.5997063"
            ],
            "text/latex": "A Time Series:\\\\\\begin{enumerate*}\n\\item -0.287225112749287\n\\item -0.53190810962447\n\\item -0.957278803066731\n\\item -0.744515681974192\n\\item -0.738556867654971\n\\item -0.599706308305542\n\\end{enumerate*}\n",
            "text/markdown": "A Time Series:  \n1. -0.287225112749287\n2. -0.53190810962447\n3. -0.957278803066731\n4. -0.744515681974192\n5. -0.738556867654971\n6. -0.599706308305542\n\n\n",
            "text/html": [
              "A Time Series:<br><style>\n",
              ".list-inline {list-style: none; margin:0; padding: 0}\n",
              ".list-inline>li {display: inline-block}\n",
              ".list-inline>li:not(:last-child)::after {content: \"\\00b7\"; padding: 0 .5ex}\n",
              "</style>\n",
              "<ol class=list-inline><li>-0.287225112749287</li><li>-0.53190810962447</li><li>-0.957278803066731</li><li>-0.744515681974192</li><li>-0.738556867654971</li><li>-0.599706308305542</li></ol>\n"
            ]
          },
          "metadata": {
            "tags": []
          }
        }
      ]
    },
    {
      "cell_type": "code",
      "metadata": {
        "colab": {
          "base_uri": "https://localhost:8080/",
          "height": 51
        },
        "id": "PiJYuUxiotkL",
        "outputId": "9eab6f64-aa29-42e6-acc6-30c987b1c635"
      },
      "source": [
        "# Forecast Error - Forecast b\n",
        "realgarch.error.b <- sigma.realgarch[,'sigma.realgarch.pred.b'] - sigma.realgarch[,'sigma.realgarch.true']\n",
        "head(realgarch.error.b)"
      ],
      "id": "PiJYuUxiotkL",
      "execution_count": 150,
      "outputs": [
        {
          "output_type": "display_data",
          "data": {
            "text/plain": [
              "A Time Series:\n",
              "[1] -0.3944596 -0.6395668 -0.8859802 -0.7105669 -0.6594613 -0.5237724"
            ],
            "text/latex": "A Time Series:\\\\\\begin{enumerate*}\n\\item -0.394459615355239\n\\item -0.639566781798841\n\\item -0.885980241322674\n\\item -0.710566926189761\n\\item -0.659461321974357\n\\item -0.523772430860729\n\\end{enumerate*}\n",
            "text/markdown": "A Time Series:  \n1. -0.394459615355239\n2. -0.639566781798841\n3. -0.885980241322674\n4. -0.710566926189761\n5. -0.659461321974357\n6. -0.523772430860729\n\n\n",
            "text/html": [
              "A Time Series:<br><style>\n",
              ".list-inline {list-style: none; margin:0; padding: 0}\n",
              ".list-inline>li {display: inline-block}\n",
              ".list-inline>li:not(:last-child)::after {content: \"\\00b7\"; padding: 0 .5ex}\n",
              "</style>\n",
              "<ol class=list-inline><li>-0.394459615355239</li><li>-0.639566781798841</li><li>-0.885980241322674</li><li>-0.710566926189761</li><li>-0.659461321974357</li><li>-0.523772430860729</li></ol>\n"
            ]
          },
          "metadata": {
            "tags": []
          }
        }
      ]
    },
    {
      "cell_type": "code",
      "metadata": {
        "colab": {
          "base_uri": "https://localhost:8080/",
          "height": 34
        },
        "id": "vbAvOFpLo0nu",
        "outputId": "70450678-6143-4bac-cd38-20714dfc3f45"
      },
      "source": [
        "# Mean Square Error Loss - Forecast a\n",
        "realgarch.mse.a <- MSE(sigma.realgarch[,'sigma.realgarch.pred.a'],\n",
        "                      sigma.realgarch[,'sigma.realgarch.true'])\n",
        "round(realgarch.mse.a, digits = 3)"
      ],
      "id": "vbAvOFpLo0nu",
      "execution_count": 151,
      "outputs": [
        {
          "output_type": "display_data",
          "data": {
            "text/plain": [
              "[1] 1.849"
            ],
            "text/latex": "1.849",
            "text/markdown": "1.849",
            "text/html": [
              "1.849"
            ]
          },
          "metadata": {
            "tags": []
          }
        }
      ]
    },
    {
      "cell_type": "code",
      "metadata": {
        "colab": {
          "base_uri": "https://localhost:8080/",
          "height": 34
        },
        "id": "NYOMn_1jpBuo",
        "outputId": "cb652c10-db5e-418b-a182-344bb9bcd6d5"
      },
      "source": [
        "# Mean Square Error Loss - Forecast b\n",
        "realgarch.mse.b <- MSE(sigma.realgarch[,'sigma.realgarch.pred.b'],\n",
        "                      sigma.realgarch[,'sigma.realgarch.true'])\n",
        "round(realgarch.mse.b, digits = 3)"
      ],
      "id": "NYOMn_1jpBuo",
      "execution_count": 152,
      "outputs": [
        {
          "output_type": "display_data",
          "data": {
            "text/plain": [
              "[1] 1.846"
            ],
            "text/latex": "1.846",
            "text/markdown": "1.846",
            "text/html": [
              "1.846"
            ]
          },
          "metadata": {
            "tags": []
          }
        }
      ]
    },
    {
      "cell_type": "code",
      "metadata": {
        "colab": {
          "base_uri": "https://localhost:8080/",
          "height": 34
        },
        "id": "5gtUpAD3pLBL",
        "outputId": "b4b40514-c7aa-4d1e-a263-a10da8129a1a"
      },
      "source": [
        "# Mean Absolute Error Loss - Forecast a\n",
        "realgarch.mae.a <- MAE(sigma.realgarch[,'sigma.realgarch.pred.a'],\n",
        "                      sigma.realgarch[,'sigma.realgarch.true'])\n",
        "round(realgarch.mae.a, digits = 3)"
      ],
      "id": "5gtUpAD3pLBL",
      "execution_count": 153,
      "outputs": [
        {
          "output_type": "display_data",
          "data": {
            "text/plain": [
              "[1] 0.626"
            ],
            "text/latex": "0.626",
            "text/markdown": "0.626",
            "text/html": [
              "0.626"
            ]
          },
          "metadata": {
            "tags": []
          }
        }
      ]
    },
    {
      "cell_type": "code",
      "metadata": {
        "colab": {
          "base_uri": "https://localhost:8080/",
          "height": 34
        },
        "id": "vHqwSRt4psVv",
        "outputId": "b2d762f1-3837-4177-f92a-9754eddf2240"
      },
      "source": [
        "# Mean Absolute Error Loss - Forecast b\n",
        "realgarch.mae.b <- MAE(sigma.realgarch[,'sigma.realgarch.pred.b'],\n",
        "                      sigma.realgarch[,'sigma.realgarch.true'])\n",
        "round(realgarch.mae.b, digits = 3)"
      ],
      "id": "vHqwSRt4psVv",
      "execution_count": 154,
      "outputs": [
        {
          "output_type": "display_data",
          "data": {
            "text/plain": [
              "[1] 0.615"
            ],
            "text/latex": "0.615",
            "text/markdown": "0.615",
            "text/html": [
              "0.615"
            ]
          },
          "metadata": {
            "tags": []
          }
        }
      ]
    },
    {
      "cell_type": "code",
      "metadata": {
        "colab": {
          "base_uri": "https://localhost:8080/",
          "height": 34
        },
        "id": "zAncFWD3p1UQ",
        "outputId": "d919b91d-377a-4e82-e636-4e4940e632d1"
      },
      "source": [
        "# Root Mean Square Error Loss - Forecast a\n",
        "realgarch.rmse.a <- RMSE(sigma.realgarch[,'sigma.realgarch.pred.a'],\n",
        "                        sigma.realgarch[,'sigma.realgarch.true'])\n",
        "round(realgarch.rmse.a, digits = 3)"
      ],
      "id": "zAncFWD3p1UQ",
      "execution_count": 155,
      "outputs": [
        {
          "output_type": "display_data",
          "data": {
            "text/plain": [
              "[1] 1.36"
            ],
            "text/latex": "1.36",
            "text/markdown": "1.36",
            "text/html": [
              "1.36"
            ]
          },
          "metadata": {
            "tags": []
          }
        }
      ]
    },
    {
      "cell_type": "code",
      "metadata": {
        "colab": {
          "base_uri": "https://localhost:8080/",
          "height": 34
        },
        "id": "YUT2DAgbp_Hh",
        "outputId": "67f2de3e-b45e-4922-d34f-302201ea11f9"
      },
      "source": [
        "# Root Mean Square Error Loss - Forecast b\n",
        "realgarch.rmse.b <- RMSE(sigma.realgarch[,'sigma.realgarch.pred.b'],\n",
        "                        sigma.realgarch[,'sigma.realgarch.true'])\n",
        "round(realgarch.rmse.b, digits = 3)"
      ],
      "id": "YUT2DAgbp_Hh",
      "execution_count": 156,
      "outputs": [
        {
          "output_type": "display_data",
          "data": {
            "text/plain": [
              "[1] 1.359"
            ],
            "text/latex": "1.359",
            "text/markdown": "1.359",
            "text/html": [
              "1.359"
            ]
          },
          "metadata": {
            "tags": []
          }
        }
      ]
    },
    {
      "cell_type": "code",
      "metadata": {
        "colab": {
          "base_uri": "https://localhost:8080/",
          "height": 34
        },
        "id": "7NgsSo1NqGeb",
        "outputId": "7e76694b-c0c7-4291-87fd-d8fe1651b964"
      },
      "source": [
        "# Quasi-likelihood loss function - forecast a\n",
        "h <- sigma.realgarch[,'sigma.realgarch.true']\n",
        "\n",
        "h.hat.a <- sigma.realgarch[,'sigma.realgarch.pred.a']     \n",
        "realgarch.qlike.a <- mean(log(sqrt(h)) + h.hat.a/sqrt(h))\n",
        "round(realgarch.qlike.a, digits = 5)"
      ],
      "id": "7NgsSo1NqGeb",
      "execution_count": 157,
      "outputs": [
        {
          "output_type": "display_data",
          "data": {
            "text/plain": [
              "[1] 1.16023"
            ],
            "text/latex": "1.16023",
            "text/markdown": "1.16023",
            "text/html": [
              "1.16023"
            ]
          },
          "metadata": {
            "tags": []
          }
        }
      ]
    },
    {
      "cell_type": "code",
      "metadata": {
        "id": "iW1lc37WqRWB",
        "colab": {
          "base_uri": "https://localhost:8080/",
          "height": 34
        },
        "outputId": "1912fe04-d6a1-4307-a685-31f7e5e62129"
      },
      "source": [
        "# Quasi-likelihood loss function - forecast b\n",
        "h.hat.b <- sigma.realgarch[,'sigma.realgarch.pred.b']\n",
        "realgarch.qlike.b <- mean(log(sqrt(h)) + h.hat.b/sqrt(h))\n",
        "round(realgarch.qlike.b, digits = 5)"
      ],
      "id": "iW1lc37WqRWB",
      "execution_count": 158,
      "outputs": [
        {
          "output_type": "display_data",
          "data": {
            "text/plain": [
              "[1] 1.1703"
            ],
            "text/latex": "1.1703",
            "text/markdown": "1.1703",
            "text/html": [
              "1.1703"
            ]
          },
          "metadata": {
            "tags": []
          }
        }
      ]
    },
    {
      "cell_type": "code",
      "metadata": {
        "colab": {
          "base_uri": "https://localhost:8080/",
          "height": 119
        },
        "id": "8pJzz3NkLbR_",
        "outputId": "982a6ee7-f784-4a34-adf0-76d30d5c3caf"
      },
      "source": [
        "# Diebold-Mariano Test (accuracy test) - test 1\n",
        "f.a <- sigma.realgarch[,'sigma.realgarch.pred.a']\n",
        "f.b <- sigma.realgarch[,'sigma.realgarch.pred.b']\n",
        "y <- sigma.realgarch[,'sigma.realgarch.true']\n",
        "\n",
        "DM.test(f.a, f.b, y, loss.type = \"SE\", c = FALSE, H1 = \"same\")"
      ],
      "id": "8pJzz3NkLbR_",
      "execution_count": 159,
      "outputs": [
        {
          "output_type": "display_data",
          "data": {
            "text/plain": [
              "\n",
              "\tDiebold-Mariano test\n",
              "\n",
              "data:  f.a and f.b and y\n",
              "statistic = 0.2968, forecast horizon = 1, p-value = 0.7666\n",
              "alternative hypothesis: Forecast f1 and f2 have different accuracy.\n"
            ]
          },
          "metadata": {
            "tags": []
          }
        }
      ]
    },
    {
      "cell_type": "code",
      "metadata": {
        "colab": {
          "base_uri": "https://localhost:8080/",
          "height": 136
        },
        "id": "xQq1f2KCLlQm",
        "outputId": "44d6d5e6-a550-4b62-f6bf-5eeafc0f4044"
      },
      "source": [
        "# Diebold-Mariano test for predictive accuracy - test 2\n",
        "e.a <- realgarch.error.a\n",
        "e.b <- realgarch.error.b\n",
        "\n",
        "dm.test(e.a, e.b, alternative = \"two.sided\", h = 1, power = 2)"
      ],
      "id": "xQq1f2KCLlQm",
      "execution_count": 160,
      "outputs": [
        {
          "output_type": "display_data",
          "data": {
            "text/plain": [
              "\n",
              "\tDiebold-Mariano Test\n",
              "\n",
              "data:  e.ae.b\n",
              "DM = 0.29671, Forecast horizon = 1, Loss function power = 2, p-value =\n",
              "0.7667\n",
              "alternative hypothesis: two.sided\n"
            ]
          },
          "metadata": {
            "tags": []
          }
        }
      ]
    },
    {
      "cell_type": "code",
      "metadata": {
        "colab": {
          "base_uri": "https://localhost:8080/",
          "height": 34
        },
        "id": "jY7kH1DsLu0F",
        "outputId": "2e374427-13be-455e-b817-f9b9d3ba1c00"
      },
      "source": [
        "# Quasi-likelihood Loss Function For Volatility Forecasts - forecast a\n",
        "realgarch.qlike.a <- mean(LossVol(sigma.realgarch[,'sigma.realgarch.true'],\n",
        "                                  sigma.realgarch[,'sigma.realgarch.pred.a'],\n",
        "                                  which = \"QLIKE\"))\n",
        "round(realgarch.qlike.a, digits = 3)"
      ],
      "id": "jY7kH1DsLu0F",
      "execution_count": 161,
      "outputs": [
        {
          "output_type": "display_data",
          "data": {
            "text/plain": [
              "[1] 2.194"
            ],
            "text/latex": "2.194",
            "text/markdown": "2.194",
            "text/html": [
              "2.194"
            ]
          },
          "metadata": {
            "tags": []
          }
        }
      ]
    },
    {
      "cell_type": "code",
      "metadata": {
        "colab": {
          "base_uri": "https://localhost:8080/",
          "height": 34
        },
        "id": "q27uEsBQL7Qv",
        "outputId": "4318ca28-06b1-4178-bcae-fc153b8f33ed"
      },
      "source": [
        "# Quasi-likelihood Loss Function For Volatility Forecasts - forecast b\n",
        "realgarch.qlike.b <- mean(LossVol(sigma.realgarch[,'sigma.realgarch.true'],\n",
        "                                  sigma.realgarch[,'sigma.realgarch.pred.b'],\n",
        "                                  which = \"QLIKE\"))\n",
        "round(realgarch.qlike.b, digits = 3)"
      ],
      "id": "q27uEsBQL7Qv",
      "execution_count": 162,
      "outputs": [
        {
          "output_type": "display_data",
          "data": {
            "text/plain": [
              "[1] 2.176"
            ],
            "text/latex": "2.176",
            "text/markdown": "2.176",
            "text/html": [
              "2.176"
            ]
          },
          "metadata": {
            "tags": []
          }
        }
      ]
    },
    {
      "cell_type": "code",
      "metadata": {
        "colab": {
          "base_uri": "https://localhost:8080/",
          "height": 34
        },
        "id": "TMTJMS8Irbu-",
        "outputId": "01160fee-d806-4250-ef1c-a8669218f436"
      },
      "source": [
        "# Log loss / Cross-Entropy Loss -  forecast a\n",
        "realgarch.logloss.a <- LogLoss(sigma.realgarch[,'sigma.realgarch.pred.a'],\n",
        "                              sigma.realgarch[,'sigma.realgarch.true'])\n",
        "round(realgarch.logloss.a, digits = 3)"
      ],
      "id": "TMTJMS8Irbu-",
      "execution_count": 163,
      "outputs": [
        {
          "output_type": "display_data",
          "data": {
            "text/plain": [
              "[1] -29.302"
            ],
            "text/latex": "-29.302",
            "text/markdown": "-29.302",
            "text/html": [
              "-29.302"
            ]
          },
          "metadata": {
            "tags": []
          }
        }
      ]
    },
    {
      "cell_type": "code",
      "metadata": {
        "colab": {
          "base_uri": "https://localhost:8080/",
          "height": 34
        },
        "id": "YZMTB5ofrd7X",
        "outputId": "d9498a69-f92f-46bb-8c54-f1d6935c913d"
      },
      "source": [
        "# Log loss / Cross-Entropy Loss -  forecast b\n",
        "realgarch.logloss.b <- LogLoss(sigma.realgarch[,'sigma.realgarch.pred.b'],\n",
        "                              sigma.realgarch[,'sigma.realgarch.true'])\n",
        "round(realgarch.logloss.b, digits = 3)"
      ],
      "id": "YZMTB5ofrd7X",
      "execution_count": 164,
      "outputs": [
        {
          "output_type": "display_data",
          "data": {
            "text/plain": [
              "[1] -29.508"
            ],
            "text/latex": "-29.508",
            "text/markdown": "-29.508",
            "text/html": [
              "-29.508"
            ]
          },
          "metadata": {
            "tags": []
          }
        }
      ]
    },
    {
      "cell_type": "code",
      "metadata": {
        "colab": {
          "base_uri": "https://localhost:8080/",
          "height": 170
        },
        "id": "JEMT__yorfjp",
        "outputId": "20d8dc98-4914-45c8-b8e4-58f496a6769b"
      },
      "source": [
        "# Linear regression to assess forecast performance - forecast a\n",
        "realgarch.model.a <- lm(sigma.realgarch.true ~ sigma.realgarch.pred.a,\n",
        "                        data = sigma.realgarch)\n",
        "round(coeftest(realgarch.model.a, NeweyWest(realgarch.model.a,\n",
        "                                            lag = bwNeweyWest(realgarch.model.a),\n",
        "                                            prewhite = F)), 3)\n",
        "round(summary(realgarch.model.a)$adj.r.squared, 3)"
      ],
      "id": "JEMT__yorfjp",
      "execution_count": 165,
      "outputs": [
        {
          "output_type": "display_data",
          "data": {
            "text/plain": [
              "\n",
              "t test of coefficients:\n",
              "\n",
              "                       Estimate Std. Error t value  Pr(>|t|)    \n",
              "(Intercept)              -2.440      0.237 -10.315 < 2.2e-16 ***\n",
              "sigma.realgarch.pred.a    3.424      0.208  16.442 < 2.2e-16 ***\n",
              "---\n",
              "Signif. codes:  0 ‘***’ 0.001 ‘**’ 0.01 ‘*’ 0.05 ‘.’ 0.1 ‘ ’ 1\n"
            ]
          },
          "metadata": {
            "tags": []
          }
        },
        {
          "output_type": "display_data",
          "data": {
            "text/plain": [
              "[1] 0.898"
            ],
            "text/latex": "0.898",
            "text/markdown": "0.898",
            "text/html": [
              "0.898"
            ]
          },
          "metadata": {
            "tags": []
          }
        }
      ]
    },
    {
      "cell_type": "code",
      "metadata": {
        "colab": {
          "base_uri": "https://localhost:8080/",
          "height": 170
        },
        "id": "ldQCcTrrrhmc",
        "outputId": "c83ecb0f-357b-43eb-a389-c674e7b4b95c"
      },
      "source": [
        "# Linear regression to assess forecast performance - forecast b\n",
        "realgarch.model.b <- lm(sigma.realgarch.true ~ sigma.realgarch.pred.b,\n",
        "                        data = sigma.realgarch)\n",
        "round(coeftest(realgarch.model.b, NeweyWest(realgarch.model.b,\n",
        "                                            lag = bwNeweyWest(realgarch.model.b),\n",
        "                                            prewhite = F)), 3)\n",
        "round(summary(realgarch.model.b)$adj.r.squared, 3)"
      ],
      "id": "ldQCcTrrrhmc",
      "execution_count": 166,
      "outputs": [
        {
          "output_type": "display_data",
          "data": {
            "text/plain": [
              "\n",
              "t test of coefficients:\n",
              "\n",
              "                       Estimate Std. Error t value  Pr(>|t|)    \n",
              "(Intercept)              -2.770      0.273 -10.138 < 2.2e-16 ***\n",
              "sigma.realgarch.pred.b    3.661      0.234  15.646 < 2.2e-16 ***\n",
              "---\n",
              "Signif. codes:  0 ‘***’ 0.001 ‘**’ 0.01 ‘*’ 0.05 ‘.’ 0.1 ‘ ’ 1\n"
            ]
          },
          "metadata": {
            "tags": []
          }
        },
        {
          "output_type": "display_data",
          "data": {
            "text/plain": [
              "[1] 0.943"
            ],
            "text/latex": "0.943",
            "text/markdown": "0.943",
            "text/html": [
              "0.943"
            ]
          },
          "metadata": {
            "tags": []
          }
        }
      ]
    },
    {
      "cell_type": "markdown",
      "metadata": {
        "id": "OuZavxA4cLrP"
      },
      "source": [
        "##(b) Realized EGARCH"
      ],
      "id": "OuZavxA4cLrP"
    },
    {
      "cell_type": "markdown",
      "metadata": {
        "id": "4sUcOAaFrz2G"
      },
      "source": [
        "**Forecast**"
      ],
      "id": "4sUcOAaFrz2G"
    },
    {
      "cell_type": "code",
      "metadata": {
        "id": "dCRNQymVi604"
      },
      "source": [
        "# Model specification\n",
        "realegarch.spec.pred <- realgarch.spec\n",
        "setfixed(realegarch.spec.pred) <- as.list(coef(realegarch.fit))"
      ],
      "id": "dCRNQymVi604",
      "execution_count": 167,
      "outputs": []
    },
    {
      "cell_type": "code",
      "metadata": {
        "id": "r2ZbX0BnqqNz"
      },
      "source": [
        "# Model adjustment\n",
        "realegarch.fit.pred <- ugarchfit(realgarch.spec,\n",
        "                                 N225.df$N225.Return,\n",
        "                                 out.sample = dim(N225.df.out)[1],\n",
        "                                 solver = 'hybrid',\n",
        "                                 realizedVol = N225.df$N225.VolEGARCH)"
      ],
      "id": "r2ZbX0BnqqNz",
      "execution_count": 168,
      "outputs": []
    },
    {
      "cell_type": "code",
      "metadata": {
        "id": "BMElDW_Jq3NC"
      },
      "source": [
        "# Forecast calculated through adjustment\n",
        "realegarch.pred.a <- ugarchforecast(realegarch.fit.pred,\n",
        "                                    n.ahead = 1,\n",
        "                                    n.roll = dim(N225.df.out)[1])\n",
        "\n",
        "realegarch.forecast.a <- xts(sigma(realegarch.pred.a)[1,],\n",
        "                             move(as.Date(names(sigma(realegarch.pred.a)[1,])), by = 1))"
      ],
      "id": "BMElDW_Jq3NC",
      "execution_count": 169,
      "outputs": []
    },
    {
      "cell_type": "code",
      "metadata": {
        "id": "sVpye2IHq__O"
      },
      "source": [
        "# Forecast calculated using specification\n",
        "realegarch.pred.b <- ugarchforecast(realegarch.spec.pred, \n",
        "                                   n.ahead = 1, \n",
        "                                   n.roll = dim(N225.df.out)[1], \n",
        "                                   data = N225.df$N225.Return, \n",
        "                                   out.sample = dim(N225.df.out)[1], \n",
        "                                   realizedVol = N225.df$N225.VolRealEGARCH)\n",
        "\n",
        "realegarch.forecast.b <- xts(sigma(realegarch.pred.b)[1,],\n",
        "                             move(as.Date(names(sigma(realegarch.pred.b)[1,])), by = 1))"
      ],
      "id": "sVpye2IHq__O",
      "execution_count": 170,
      "outputs": []
    },
    {
      "cell_type": "code",
      "metadata": {
        "id": "ippLtx4arSw6"
      },
      "source": [
        "# Model filtering\n",
        "realegarch.filt.pred <- ugarchfilter(realegarch.spec.pred,\n",
        "                                     data = N225.df$N225.Return,\n",
        "                                     n.old = nrow(N225.df) - dim(N225.df.out)[1],\n",
        "                                     realizedVol = N225.df$N225.VolRealEGARCH)\n",
        "\n",
        "realegarch.filt <- tail(sigma(realegarch.filt.pred), dim(N225.df.out)[1])"
      ],
      "id": "ippLtx4arSw6",
      "execution_count": 171,
      "outputs": []
    },
    {
      "cell_type": "code",
      "metadata": {
        "colab": {
          "base_uri": "https://localhost:8080/",
          "height": 136
        },
        "id": "-mfEos63rZUt",
        "outputId": "a37cae10-9e6f-44cd-ff19-3b4df140e808"
      },
      "source": [
        "# Comparative\n",
        "colnames(realegarch.filt) <- 'filter'\n",
        "colnames(realegarch.forecast.a) <- 'forecast1'\n",
        "colnames(realegarch.forecast.b) <- 'forecast2'\n",
        "\n",
        "realegarch.ftest <- cbind(realegarch.filt,\n",
        "                         realegarch.forecast.a,\n",
        "                         realegarch.forecast.b)\n",
        "head(round(realegarch.ftest, digits = 4))"
      ],
      "id": "-mfEos63rZUt",
      "execution_count": 172,
      "outputs": [
        {
          "output_type": "display_data",
          "data": {
            "text/plain": [
              "           filter forecast1 forecast2\n",
              "2014-12-19 1.5817    1.4866    1.5827\n",
              "2014-12-22 1.4992    1.4742    1.4920\n",
              "2014-12-24 1.4843    1.4615    1.4723\n",
              "2014-12-25 1.4783    1.3625    1.4716\n",
              "2014-12-26 1.3809    1.3095    1.3692\n",
              "2014-12-29 1.3340    1.2610    1.3235"
            ]
          },
          "metadata": {
            "tags": []
          }
        }
      ]
    },
    {
      "cell_type": "code",
      "metadata": {
        "colab": {
          "base_uri": "https://localhost:8080/",
          "height": 252
        },
        "id": "ZQXrOuN3rgS6",
        "outputId": "2a04d2b9-b495-4ca8-bf06-f83aea809736"
      },
      "source": [
        "sigma.realegarch.pred.a <- ts(realegarch.forecast.a[-1,])\n",
        "sigma.realegarch.pred.b <- ts(realegarch.forecast.b[-1,])\n",
        "sigma.realegarch.true <- ts(N225.df.out$N225.VolRealEGARCH)\n",
        "\n",
        "sigma.realegarch <- na.omit(cbind(sigma.realegarch.pred.a,\n",
        "                                 sigma.realegarch.pred.b,\n",
        "                                 sigma.realegarch.true))\n",
        "head(sigma.realegarch)"
      ],
      "id": "ZQXrOuN3rgS6",
      "execution_count": 173,
      "outputs": [
        {
          "output_type": "display_data",
          "data": {
            "text/plain": [
              "  sigma.realegarch.pred.a sigma.realegarch.pred.b sigma.realegarch.true\n",
              "1 1.474182                1.491971                2.218516             \n",
              "2 1.461540                1.472333                2.180908             \n",
              "3 1.362491                1.471594                2.163882             \n",
              "4 1.309475                1.369227                1.872724             \n",
              "5 1.260967                1.323540                1.749232             \n",
              "6 1.173925                1.271134                1.601789             "
            ],
            "text/latex": "A Time Series: 6 × 3\n\\begin{tabular}{r|lll}\n  & sigma.realegarch.pred.a & sigma.realegarch.pred.b & sigma.realegarch.true\\\\\n\\hline\n\t1 & 1.474182 & 1.491971 & 2.218516\\\\\n\t2 & 1.461540 & 1.472333 & 2.180908\\\\\n\t3 & 1.362491 & 1.471594 & 2.163882\\\\\n\t4 & 1.309475 & 1.369227 & 1.872724\\\\\n\t5 & 1.260967 & 1.323540 & 1.749232\\\\\n\t6 & 1.173925 & 1.271134 & 1.601789\\\\\n\\end{tabular}\n",
            "text/markdown": "\nA Time Series: 6 × 3\n\n| <!--/--> | sigma.realegarch.pred.a | sigma.realegarch.pred.b | sigma.realegarch.true |\n|---|---|---|---|\n| 1 | 1.474182 | 1.491971 | 2.218516 |\n| 2 | 1.461540 | 1.472333 | 2.180908 |\n| 3 | 1.362491 | 1.471594 | 2.163882 |\n| 4 | 1.309475 | 1.369227 | 1.872724 |\n| 5 | 1.260967 | 1.323540 | 1.749232 |\n| 6 | 1.173925 | 1.271134 | 1.601789 |\n\n",
            "text/html": [
              "<table class=\"dataframe\">\n",
              "<caption>A Time Series: 6 × 3</caption>\n",
              "<thead>\n",
              "\t<tr><th></th><th scope=col>sigma.realegarch.pred.a</th><th scope=col>sigma.realegarch.pred.b</th><th scope=col>sigma.realegarch.true</th></tr>\n",
              "</thead>\n",
              "<tbody>\n",
              "\t<tr><th scope=row>1</th><td>1.474182</td><td>1.491971</td><td>2.218516</td></tr>\n",
              "\t<tr><th scope=row>2</th><td>1.461540</td><td>1.472333</td><td>2.180908</td></tr>\n",
              "\t<tr><th scope=row>3</th><td>1.362491</td><td>1.471594</td><td>2.163882</td></tr>\n",
              "\t<tr><th scope=row>4</th><td>1.309475</td><td>1.369227</td><td>1.872724</td></tr>\n",
              "\t<tr><th scope=row>5</th><td>1.260967</td><td>1.323540</td><td>1.749232</td></tr>\n",
              "\t<tr><th scope=row>6</th><td>1.173925</td><td>1.271134</td><td>1.601789</td></tr>\n",
              "</tbody>\n",
              "</table>\n"
            ]
          },
          "metadata": {
            "tags": []
          }
        }
      ]
    },
    {
      "cell_type": "markdown",
      "metadata": {
        "id": "khFocUVZroGF"
      },
      "source": [
        "**Performance evaluation**"
      ],
      "id": "khFocUVZroGF"
    },
    {
      "cell_type": "code",
      "metadata": {
        "colab": {
          "base_uri": "https://localhost:8080/",
          "height": 51
        },
        "id": "e_JT3VHqrnxH",
        "outputId": "349cb826-fc11-40d2-9c39-6a5aa128c76e"
      },
      "source": [
        "# Forecast Error - Forecast a\n",
        "realegarch.error.a <- sigma.realegarch[,'sigma.realegarch.pred.a'] - sigma.realegarch[,'sigma.realegarch.true']\n",
        "head(realegarch.error.a)"
      ],
      "id": "e_JT3VHqrnxH",
      "execution_count": 174,
      "outputs": [
        {
          "output_type": "display_data",
          "data": {
            "text/plain": [
              "A Time Series:\n",
              "[1] -0.7443342 -0.7193680 -0.8013918 -0.5632487 -0.4882647 -0.4278646"
            ],
            "text/latex": "A Time Series:\\\\\\begin{enumerate*}\n\\item -0.744334219391391\n\\item -0.719367992306134\n\\item -0.801391847873298\n\\item -0.563248663928859\n\\item -0.488264726391665\n\\item -0.427864573009442\n\\end{enumerate*}\n",
            "text/markdown": "A Time Series:  \n1. -0.744334219391391\n2. -0.719367992306134\n3. -0.801391847873298\n4. -0.563248663928859\n5. -0.488264726391665\n6. -0.427864573009442\n\n\n",
            "text/html": [
              "A Time Series:<br><style>\n",
              ".list-inline {list-style: none; margin:0; padding: 0}\n",
              ".list-inline>li {display: inline-block}\n",
              ".list-inline>li:not(:last-child)::after {content: \"\\00b7\"; padding: 0 .5ex}\n",
              "</style>\n",
              "<ol class=list-inline><li>-0.744334219391391</li><li>-0.719367992306134</li><li>-0.801391847873298</li><li>-0.563248663928859</li><li>-0.488264726391665</li><li>-0.427864573009442</li></ol>\n"
            ]
          },
          "metadata": {
            "tags": []
          }
        }
      ]
    },
    {
      "cell_type": "code",
      "metadata": {
        "colab": {
          "base_uri": "https://localhost:8080/",
          "height": 51
        },
        "id": "-9waGeC7r-AZ",
        "outputId": "00fab7c0-1001-4a56-c1d7-7a2653937490"
      },
      "source": [
        "# Forecast Error - Forecast b\n",
        "realegarch.error.b <- sigma.realegarch[,'sigma.realegarch.pred.b'] - sigma.realegarch[,'sigma.realegarch.true']\n",
        "head(realegarch.error.b)"
      ],
      "id": "-9waGeC7r-AZ",
      "execution_count": 175,
      "outputs": [
        {
          "output_type": "display_data",
          "data": {
            "text/plain": [
              "A Time Series:\n",
              "[1] -0.7265450 -0.7085752 -0.6922886 -0.5034966 -0.4256918 -0.3306550"
            ],
            "text/latex": "A Time Series:\\\\\\begin{enumerate*}\n\\item -0.726545001911918\n\\item -0.708575217759465\n\\item -0.692288613073556\n\\item -0.503496554291743\n\\item -0.425691794130744\n\\item -0.330654950125429\n\\end{enumerate*}\n",
            "text/markdown": "A Time Series:  \n1. -0.726545001911918\n2. -0.708575217759465\n3. -0.692288613073556\n4. -0.503496554291743\n5. -0.425691794130744\n6. -0.330654950125429\n\n\n",
            "text/html": [
              "A Time Series:<br><style>\n",
              ".list-inline {list-style: none; margin:0; padding: 0}\n",
              ".list-inline>li {display: inline-block}\n",
              ".list-inline>li:not(:last-child)::after {content: \"\\00b7\"; padding: 0 .5ex}\n",
              "</style>\n",
              "<ol class=list-inline><li>-0.726545001911918</li><li>-0.708575217759465</li><li>-0.692288613073556</li><li>-0.503496554291743</li><li>-0.425691794130744</li><li>-0.330654950125429</li></ol>\n"
            ]
          },
          "metadata": {
            "tags": []
          }
        }
      ]
    },
    {
      "cell_type": "code",
      "metadata": {
        "colab": {
          "base_uri": "https://localhost:8080/",
          "height": 34
        },
        "id": "PiBrYKy6sEhq",
        "outputId": "39cf6db3-877c-46e0-c4a0-a1319524a745"
      },
      "source": [
        "# Mean Square Error Loss - Forecast a\n",
        "realegarch.mse.a <- MSE(sigma.realegarch[,'sigma.realegarch.pred.a'],\n",
        "                        sigma.realegarch[,'sigma.realegarch.true'])\n",
        "round(realegarch.mse.a, digits = 3)"
      ],
      "id": "PiBrYKy6sEhq",
      "execution_count": 176,
      "outputs": [
        {
          "output_type": "display_data",
          "data": {
            "text/plain": [
              "[1] 1.397"
            ],
            "text/latex": "1.397",
            "text/markdown": "1.397",
            "text/html": [
              "1.397"
            ]
          },
          "metadata": {
            "tags": []
          }
        }
      ]
    },
    {
      "cell_type": "code",
      "metadata": {
        "colab": {
          "base_uri": "https://localhost:8080/",
          "height": 34
        },
        "id": "SnAzzICNsRN9",
        "outputId": "99b6f573-b334-4715-cfbe-ea95cd3ee0fd"
      },
      "source": [
        "# Mean Square Error Loss - Forecast b\n",
        "realegarch.mse.b <- MSE(sigma.realegarch[,'sigma.realegarch.pred.b'],\n",
        "                        sigma.realegarch[,'sigma.realegarch.true'])\n",
        "round(realegarch.mse.b, digits = 3)"
      ],
      "id": "SnAzzICNsRN9",
      "execution_count": 177,
      "outputs": [
        {
          "output_type": "display_data",
          "data": {
            "text/plain": [
              "[1] 1.36"
            ],
            "text/latex": "1.36",
            "text/markdown": "1.36",
            "text/html": [
              "1.36"
            ]
          },
          "metadata": {
            "tags": []
          }
        }
      ]
    },
    {
      "cell_type": "code",
      "metadata": {
        "colab": {
          "base_uri": "https://localhost:8080/",
          "height": 34
        },
        "id": "8Gzrc_9ZsVuk",
        "outputId": "68896b57-ed96-498c-8165-a12e4f3276e0"
      },
      "source": [
        "# Mean Absolute Error Loss - Forecast a\n",
        "realegarch.mae.a <- MAE(sigma.realegarch[,'sigma.realegarch.pred.a'],\n",
        "                        sigma.realegarch[,'sigma.realegarch.true'])\n",
        "round(realegarch.mae.a, digits = 3)"
      ],
      "id": "8Gzrc_9ZsVuk",
      "execution_count": 178,
      "outputs": [
        {
          "output_type": "display_data",
          "data": {
            "text/plain": [
              "[1] 0.585"
            ],
            "text/latex": "0.585",
            "text/markdown": "0.585",
            "text/html": [
              "0.585"
            ]
          },
          "metadata": {
            "tags": []
          }
        }
      ]
    },
    {
      "cell_type": "code",
      "metadata": {
        "colab": {
          "base_uri": "https://localhost:8080/",
          "height": 34
        },
        "id": "Cz721K6JsbCN",
        "outputId": "326a60ae-f00f-4c87-909f-3f6b5a97c1c7"
      },
      "source": [
        "# Mean Absolute Error Loss - Forecast b\n",
        "realegarch.mae.b <- MAE(sigma.realegarch[,'sigma.realegarch.pred.b'],\n",
        "                        sigma.realegarch[,'sigma.realegarch.true'])\n",
        "round(realegarch.mae.b, digits = 3)"
      ],
      "id": "Cz721K6JsbCN",
      "execution_count": 179,
      "outputs": [
        {
          "output_type": "display_data",
          "data": {
            "text/plain": [
              "[1] 0.569"
            ],
            "text/latex": "0.569",
            "text/markdown": "0.569",
            "text/html": [
              "0.569"
            ]
          },
          "metadata": {
            "tags": []
          }
        }
      ]
    },
    {
      "cell_type": "code",
      "metadata": {
        "colab": {
          "base_uri": "https://localhost:8080/",
          "height": 34
        },
        "id": "9Eb94SMosgnv",
        "outputId": "5e1bdd0c-9b6c-4918-eac3-2bdee909bf02"
      },
      "source": [
        "# Root Mean Square Error Loss - Forecast a\n",
        "realegarch.rmse.a <- RMSE(sigma.realegarch[,'sigma.realegarch.pred.a'],\n",
        "                          sigma.realegarch[,'sigma.realegarch.true'])\n",
        "round(realegarch.rmse.a, digits = 3)"
      ],
      "id": "9Eb94SMosgnv",
      "execution_count": 180,
      "outputs": [
        {
          "output_type": "display_data",
          "data": {
            "text/plain": [
              "[1] 1.182"
            ],
            "text/latex": "1.182",
            "text/markdown": "1.182",
            "text/html": [
              "1.182"
            ]
          },
          "metadata": {
            "tags": []
          }
        }
      ]
    },
    {
      "cell_type": "code",
      "metadata": {
        "colab": {
          "base_uri": "https://localhost:8080/",
          "height": 34
        },
        "id": "Prmb2aDFsnt3",
        "outputId": "f45371a8-6b20-4c22-d79d-65fede61cc63"
      },
      "source": [
        "# Root Mean Square Error Loss - Forecast b\n",
        "realegarch.rmse.b <- RMSE(sigma.realegarch[,'sigma.realegarch.pred.b'],\n",
        "                         sigma.realegarch[,'sigma.realegarch.true'])\n",
        "round(realegarch.rmse.b, digits = 3)"
      ],
      "id": "Prmb2aDFsnt3",
      "execution_count": 181,
      "outputs": [
        {
          "output_type": "display_data",
          "data": {
            "text/plain": [
              "[1] 1.166"
            ],
            "text/latex": "1.166",
            "text/markdown": "1.166",
            "text/html": [
              "1.166"
            ]
          },
          "metadata": {
            "tags": []
          }
        }
      ]
    },
    {
      "cell_type": "code",
      "metadata": {
        "colab": {
          "base_uri": "https://localhost:8080/",
          "height": 34
        },
        "id": "0xvoZRpRst8e",
        "outputId": "62a82c84-9803-4d6d-c09c-9f9261851ad6"
      },
      "source": [
        "# Quasi-likelihood loss function - forecast a\n",
        "h <- sigma.realegarch[,'sigma.realegarch.true']\n",
        "\n",
        "h.hat.a <- sigma.realegarch[,'sigma.realegarch.pred.a']     \n",
        "realegarch.qlike.a <- mean(log(sqrt(h)) + h.hat.a/sqrt(h))\n",
        "round(realegarch.qlike.a, digits = 5)"
      ],
      "id": "0xvoZRpRst8e",
      "execution_count": 182,
      "outputs": [
        {
          "output_type": "display_data",
          "data": {
            "text/plain": [
              "[1] 1.14107"
            ],
            "text/latex": "1.14107",
            "text/markdown": "1.14107",
            "text/html": [
              "1.14107"
            ]
          },
          "metadata": {
            "tags": []
          }
        }
      ]
    },
    {
      "cell_type": "code",
      "metadata": {
        "colab": {
          "base_uri": "https://localhost:8080/",
          "height": 34
        },
        "id": "bjmoDbwHsy07",
        "outputId": "acaed1f8-5c99-43a3-e076-fd835d477294"
      },
      "source": [
        "# Quasi-likelihood loss function - forecast b\n",
        "h.hat.b <- sigma.realegarch[,'sigma.realegarch.pred.b']\n",
        "realegarch.qlike.b <- mean(log(sqrt(h)) + h.hat.b/sqrt(h))\n",
        "round(realegarch.qlike.b, digits = 5)"
      ],
      "id": "bjmoDbwHsy07",
      "execution_count": 183,
      "outputs": [
        {
          "output_type": "display_data",
          "data": {
            "text/plain": [
              "[1] 1.14638"
            ],
            "text/latex": "1.14638",
            "text/markdown": "1.14638",
            "text/html": [
              "1.14638"
            ]
          },
          "metadata": {
            "tags": []
          }
        }
      ]
    },
    {
      "cell_type": "code",
      "metadata": {
        "colab": {
          "base_uri": "https://localhost:8080/",
          "height": 119
        },
        "id": "pNX4j9UpM2Xp",
        "outputId": "6de80f48-d54d-49ff-85e3-e2ef5108a7c2"
      },
      "source": [
        "# Diebold-Mariano Test (accuracy test) - test 1\n",
        "f.a <- sigma.realegarch[,'sigma.realegarch.pred.a']\n",
        "f.b <- sigma.realegarch[,'sigma.realegarch.pred.b']\n",
        "y <- sigma.realegarch[,'sigma.realegarch.true']\n",
        "\n",
        "DM.test(f.a, f.b, y, loss.type = \"SE\", c = FALSE, H1 = \"same\")"
      ],
      "id": "pNX4j9UpM2Xp",
      "execution_count": 184,
      "outputs": [
        {
          "output_type": "display_data",
          "data": {
            "text/plain": [
              "\n",
              "\tDiebold-Mariano test\n",
              "\n",
              "data:  f.a and f.b and y\n",
              "statistic = 3.3839, forecast horizon = 1, p-value = 0.0007147\n",
              "alternative hypothesis: Forecast f1 and f2 have different accuracy.\n"
            ]
          },
          "metadata": {
            "tags": []
          }
        }
      ]
    },
    {
      "cell_type": "code",
      "metadata": {
        "colab": {
          "base_uri": "https://localhost:8080/",
          "height": 136
        },
        "id": "rZuiAzulM5bV",
        "outputId": "4851b7c6-9472-4971-b950-46462e18cd64"
      },
      "source": [
        "# Diebold-Mariano test for predictive accuracy - test 2\n",
        "e.a <- realegarch.error.a\n",
        "e.b <- realegarch.error.b\n",
        "\n",
        "dm.test(e.a, e.b, alternative = \"two.sided\", h = 1, power = 2)"
      ],
      "id": "rZuiAzulM5bV",
      "execution_count": 185,
      "outputs": [
        {
          "output_type": "display_data",
          "data": {
            "text/plain": [
              "\n",
              "\tDiebold-Mariano Test\n",
              "\n",
              "data:  e.ae.b\n",
              "DM = 3.3828, Forecast horizon = 1, Loss function power = 2, p-value =\n",
              "0.0007351\n",
              "alternative hypothesis: two.sided\n"
            ]
          },
          "metadata": {
            "tags": []
          }
        }
      ]
    },
    {
      "cell_type": "code",
      "metadata": {
        "colab": {
          "base_uri": "https://localhost:8080/",
          "height": 34
        },
        "id": "V1jfC8jiM7CV",
        "outputId": "3ba7be30-7799-47d6-ee71-febc30b7353b"
      },
      "source": [
        "# Quasi-likelihood Loss Function For Volatility Forecasts - forecast a\n",
        "realegarch.qlike.a <- mean(LossVol(sigma.realegarch[,'sigma.realegarch.true'],\n",
        "                                  sigma.realegarch[,'sigma.realegarch.pred.a'],\n",
        "                                  which = \"QLIKE\"))\n",
        "round(realegarch.qlike.a, digits = 3)"
      ],
      "id": "V1jfC8jiM7CV",
      "execution_count": 186,
      "outputs": [
        {
          "output_type": "display_data",
          "data": {
            "text/plain": [
              "[1] 2.034"
            ],
            "text/latex": "2.034",
            "text/markdown": "2.034",
            "text/html": [
              "2.034"
            ]
          },
          "metadata": {
            "tags": []
          }
        }
      ]
    },
    {
      "cell_type": "code",
      "metadata": {
        "colab": {
          "base_uri": "https://localhost:8080/",
          "height": 34
        },
        "id": "zC1g4re5M9KZ",
        "outputId": "7b121a9e-5693-4b00-c597-f101bdb95034"
      },
      "source": [
        "# Quasi-likelihood Loss Function For Volatility Forecasts - forecast 1b\n",
        "realegarch.qlike.b <- mean(LossVol(sigma.realegarch[,'sigma.realegarch.true'],\n",
        "                                  sigma.realegarch[,'sigma.realegarch.pred.b'],\n",
        "                                  which = \"QLIKE\"))\n",
        "round(realegarch.qlike.b, digits = 3)"
      ],
      "id": "zC1g4re5M9KZ",
      "execution_count": 187,
      "outputs": [
        {
          "output_type": "display_data",
          "data": {
            "text/plain": [
              "[1] 1.994"
            ],
            "text/latex": "1.994",
            "text/markdown": "1.994",
            "text/html": [
              "1.994"
            ]
          },
          "metadata": {
            "tags": []
          }
        }
      ]
    },
    {
      "cell_type": "code",
      "metadata": {
        "colab": {
          "base_uri": "https://localhost:8080/",
          "height": 34
        },
        "id": "jGHSBt6Fs20A",
        "outputId": "27855439-ecc2-4963-e76d-fd08e99881bd"
      },
      "source": [
        "# Log loss / Cross-Entropy Loss -  forecast a\n",
        "realegarch.logloss.a <- LogLoss(sigma.realegarch[,'sigma.realegarch.pred.a'],\n",
        "                                sigma.realegarch[,'sigma.realegarch.true'])\n",
        "round(realegarch.logloss.a, digits = 3)"
      ],
      "id": "jGHSBt6Fs20A",
      "execution_count": 188,
      "outputs": [
        {
          "output_type": "display_data",
          "data": {
            "text/plain": [
              "[1] -27.063"
            ],
            "text/latex": "-27.063",
            "text/markdown": "-27.063",
            "text/html": [
              "-27.063"
            ]
          },
          "metadata": {
            "tags": []
          }
        }
      ]
    },
    {
      "cell_type": "code",
      "metadata": {
        "colab": {
          "base_uri": "https://localhost:8080/",
          "height": 34
        },
        "id": "Xz953tWks75m",
        "outputId": "3418d666-7fa2-43fd-bca0-4167993b8d81"
      },
      "source": [
        "# Log loss / Cross-Entropy Loss -  forecast b\n",
        "realegarch.logloss.b <- LogLoss(sigma.realegarch[,'sigma.realegarch.pred.b'],\n",
        "                               sigma.realegarch[,'sigma.realegarch.true'])\n",
        "round(realegarch.logloss.b, digits = 3)"
      ],
      "id": "Xz953tWks75m",
      "execution_count": 189,
      "outputs": [
        {
          "output_type": "display_data",
          "data": {
            "text/plain": [
              "[1] -27.228"
            ],
            "text/latex": "-27.228",
            "text/markdown": "-27.228",
            "text/html": [
              "-27.228"
            ]
          },
          "metadata": {
            "tags": []
          }
        }
      ]
    },
    {
      "cell_type": "code",
      "metadata": {
        "colab": {
          "base_uri": "https://localhost:8080/",
          "height": 170
        },
        "id": "nDEjjWYytA3n",
        "outputId": "eb890da3-7251-4385-b5fd-34bfbd9f45bf"
      },
      "source": [
        "# Linear regression to assess forecast performance - forecast a\n",
        "realegarch.model.a <- lm(sigma.realegarch.true ~ sigma.realegarch.pred.a,\n",
        "                          data = sigma.realegarch)\n",
        "round(coeftest(realegarch.model.a, NeweyWest(realegarch.model.a,\n",
        "                                            lag = bwNeweyWest(realegarch.model.a),\n",
        "                                            prewhite = F)), 3)\n",
        "round(summary(realegarch.model.a)$adj.r.squared, 3)"
      ],
      "id": "nDEjjWYytA3n",
      "execution_count": 190,
      "outputs": [
        {
          "output_type": "display_data",
          "data": {
            "text/plain": [
              "\n",
              "t test of coefficients:\n",
              "\n",
              "                        Estimate Std. Error t value  Pr(>|t|)    \n",
              "(Intercept)               -2.105      0.197 -10.664 < 2.2e-16 ***\n",
              "sigma.realegarch.pred.a    3.130      0.178  17.590 < 2.2e-16 ***\n",
              "---\n",
              "Signif. codes:  0 ‘***’ 0.001 ‘**’ 0.01 ‘*’ 0.05 ‘.’ 0.1 ‘ ’ 1\n"
            ]
          },
          "metadata": {
            "tags": []
          }
        },
        {
          "output_type": "display_data",
          "data": {
            "text/plain": [
              "[1] 0.885"
            ],
            "text/latex": "0.885",
            "text/markdown": "0.885",
            "text/html": [
              "0.885"
            ]
          },
          "metadata": {
            "tags": []
          }
        }
      ]
    },
    {
      "cell_type": "code",
      "metadata": {
        "colab": {
          "base_uri": "https://localhost:8080/",
          "height": 170
        },
        "id": "pBwia3SptNNd",
        "outputId": "ddb1beef-de2b-4908-cf04-bd399cf17d3a"
      },
      "source": [
        "# Linear regression to assess forecast performance - forecast b\n",
        "realegarch.model.b <- lm(sigma.realegarch.true ~ sigma.realegarch.pred.b,\n",
        "                         data = sigma.realegarch)\n",
        "round(coeftest(realegarch.model.b, NeweyWest(realegarch.model.b,\n",
        "                                             lag = bwNeweyWest(realegarch.model.b),\n",
        "                                             prewhite = F)), 3)\n",
        "round(summary(realegarch.model.b)$adj.r.squared, 3)"
      ],
      "id": "pBwia3SptNNd",
      "execution_count": 191,
      "outputs": [
        {
          "output_type": "display_data",
          "data": {
            "text/plain": [
              "\n",
              "t test of coefficients:\n",
              "\n",
              "                        Estimate Std. Error t value  Pr(>|t|)    \n",
              "(Intercept)               -2.315      0.175 -13.247 < 2.2e-16 ***\n",
              "sigma.realegarch.pred.b    3.281      0.154  21.331 < 2.2e-16 ***\n",
              "---\n",
              "Signif. codes:  0 ‘***’ 0.001 ‘**’ 0.01 ‘*’ 0.05 ‘.’ 0.1 ‘ ’ 1\n"
            ]
          },
          "metadata": {
            "tags": []
          }
        },
        {
          "output_type": "display_data",
          "data": {
            "text/plain": [
              "[1] 0.946"
            ],
            "text/latex": "0.946",
            "text/markdown": "0.946",
            "text/html": [
              "0.946"
            ]
          },
          "metadata": {
            "tags": []
          }
        }
      ]
    },
    {
      "cell_type": "markdown",
      "metadata": {
        "id": "F09WUjYGcRlC"
      },
      "source": [
        "##(c) Realized GJR-GARCH"
      ],
      "id": "F09WUjYGcRlC"
    },
    {
      "cell_type": "markdown",
      "metadata": {
        "id": "qnRKcOcCta7o"
      },
      "source": [
        "**Forecast**"
      ],
      "id": "qnRKcOcCta7o"
    },
    {
      "cell_type": "code",
      "metadata": {
        "id": "Fqt19JCftdbE"
      },
      "source": [
        "# Model specification\n",
        "realgjrgarch.spec.pred <- realgarch.spec\n",
        "setfixed(realgjrgarch.spec.pred) <- as.list(coef(realgjrgarch.fit))"
      ],
      "id": "Fqt19JCftdbE",
      "execution_count": 192,
      "outputs": []
    },
    {
      "cell_type": "code",
      "metadata": {
        "id": "qXP7fhgBte5t"
      },
      "source": [
        "# Model adjustment\n",
        "realgjrgarch.fit.pred <- ugarchfit(realgarch.spec,\n",
        "                                  N225.df$N225.Return,\n",
        "                                  out.sample = dim(N225.df.out)[1],\n",
        "                                  solver = 'hybrid',\n",
        "                                  realizedVol = N225.df$N225.VolGJRGARCH)"
      ],
      "id": "qXP7fhgBte5t",
      "execution_count": 193,
      "outputs": []
    },
    {
      "cell_type": "code",
      "metadata": {
        "id": "uNJkuqkmtgvL"
      },
      "source": [
        "# Forecast calculated through adjustment\n",
        "realgjrgarch.pred.a <- ugarchforecast(realgjrgarch.fit.pred,\n",
        "                                      n.ahead = 1,\n",
        "                                      n.roll = dim(N225.df.out)[1])\n",
        "\n",
        "realgjrgarch.forecast.a <- xts(sigma(realgjrgarch.pred.a)[1,],\n",
        "                              move(as.Date(names(sigma(realgjrgarch.pred.a)[1,])), by = 1))"
      ],
      "id": "uNJkuqkmtgvL",
      "execution_count": 194,
      "outputs": []
    },
    {
      "cell_type": "code",
      "metadata": {
        "id": "rfCr3awkticN"
      },
      "source": [
        "# Forecast calculated using specification\n",
        "realgjrgarch.pred.b <- ugarchforecast(realgjrgarch.spec.pred, \n",
        "                                     n.ahead = 1, \n",
        "                                     n.roll = dim(N225.df.out)[1], \n",
        "                                     data = N225.df$N225.Return, \n",
        "                                     out.sample = dim(N225.df.out)[1], \n",
        "                                     realizedVol = N225.df$N225.VolRealGJRGARCH)\n",
        "\n",
        "realgjrgarch.forecast.b <- xts(sigma(realgjrgarch.pred.b)[1,],\n",
        "                               move(as.Date(names(sigma(realgjrgarch.pred.b)[1,])), by = 1))"
      ],
      "id": "rfCr3awkticN",
      "execution_count": 195,
      "outputs": []
    },
    {
      "cell_type": "code",
      "metadata": {
        "id": "3UzDKX5UtkC7"
      },
      "source": [
        "# Model filtering\n",
        "realgjrgarch.filt.pred <- ugarchfilter(realgjrgarch.spec.pred,\n",
        "                                      data = N225.df$N225.Return,\n",
        "                                      n.old = nrow(N225.df) - dim(N225.df.out)[1],\n",
        "                                      realizedVol = N225.df$N225.VolRealGJRGARCH)\n",
        "\n",
        "realgjrgarch.filt <- tail(sigma(realgjrgarch.filt.pred), dim(N225.df.out)[1])"
      ],
      "id": "3UzDKX5UtkC7",
      "execution_count": 196,
      "outputs": []
    },
    {
      "cell_type": "code",
      "metadata": {
        "colab": {
          "base_uri": "https://localhost:8080/",
          "height": 136
        },
        "id": "LNdVHJb2tla3",
        "outputId": "7635707f-fac9-4dbf-d7db-91a2228aa8b5"
      },
      "source": [
        "# Comparative\n",
        "colnames(realgjrgarch.filt) <- 'filter'\n",
        "colnames(realgjrgarch.forecast.a) <- 'forecast1'\n",
        "colnames(realgjrgarch.forecast.b) <- 'forecast2'\n",
        "\n",
        "realgjrgarch.ftest <- cbind(realgjrgarch.filt,\n",
        "                            realgjrgarch.forecast.a,\n",
        "                            realgjrgarch.forecast.b)\n",
        "head(round(realgjrgarch.ftest, digits = 4))"
      ],
      "id": "LNdVHJb2tla3",
      "execution_count": 197,
      "outputs": [
        {
          "output_type": "display_data",
          "data": {
            "text/plain": [
              "           filter forecast1 forecast2\n",
              "2014-12-19 1.5191    1.4217    1.5009\n",
              "2014-12-22 1.4570    1.4147    1.4359\n",
              "2014-12-24 1.4520    1.4167    1.4342\n",
              "2014-12-25 1.4539    1.3518    1.4333\n",
              "2014-12-26 1.3877    1.3089    1.3684\n",
              "2014-12-29 1.3434    1.2466    1.3170"
            ]
          },
          "metadata": {
            "tags": []
          }
        }
      ]
    },
    {
      "cell_type": "code",
      "metadata": {
        "colab": {
          "base_uri": "https://localhost:8080/",
          "height": 252
        },
        "id": "3ESbujLFtnAw",
        "outputId": "73fb8de7-14d8-4556-e86e-ca626dcfe387"
      },
      "source": [
        "sigma.realgjrgarch.pred.a <- ts(realgjrgarch.forecast.a[-1,])\n",
        "sigma.realgjrgarch.pred.b <- ts(realgjrgarch.forecast.b[-1,])\n",
        "sigma.realgjrgarch.true <- ts(N225.df.out$N225.VolRealGJRGARCH)\n",
        "\n",
        "sigma.realgjrgarch <- na.omit(cbind(sigma.realgjrgarch.pred.a,\n",
        "                                    sigma.realgjrgarch.pred.b,\n",
        "                                    sigma.realgjrgarch.true))\n",
        "head(sigma.realgjrgarch)"
      ],
      "id": "3ESbujLFtnAw",
      "execution_count": 198,
      "outputs": [
        {
          "output_type": "display_data",
          "data": {
            "text/plain": [
              "  sigma.realgjrgarch.pred.a sigma.realgjrgarch.pred.b sigma.realgjrgarch.true\n",
              "1 1.414684                  1.435859                  2.109718               \n",
              "2 1.416655                  1.434195                  2.098589               \n",
              "3 1.351764                  1.433284                  2.104767               \n",
              "4 1.308929                  1.368356                  1.901597               \n",
              "5 1.246637                  1.317024                  1.776242               \n",
              "6 1.194508                  1.268131                  1.621955               "
            ],
            "text/latex": "A Time Series: 6 × 3\n\\begin{tabular}{r|lll}\n  & sigma.realgjrgarch.pred.a & sigma.realgjrgarch.pred.b & sigma.realgjrgarch.true\\\\\n\\hline\n\t1 & 1.414684 & 1.435859 & 2.109718\\\\\n\t2 & 1.416655 & 1.434195 & 2.098589\\\\\n\t3 & 1.351764 & 1.433284 & 2.104767\\\\\n\t4 & 1.308929 & 1.368356 & 1.901597\\\\\n\t5 & 1.246637 & 1.317024 & 1.776242\\\\\n\t6 & 1.194508 & 1.268131 & 1.621955\\\\\n\\end{tabular}\n",
            "text/markdown": "\nA Time Series: 6 × 3\n\n| <!--/--> | sigma.realgjrgarch.pred.a | sigma.realgjrgarch.pred.b | sigma.realgjrgarch.true |\n|---|---|---|---|\n| 1 | 1.414684 | 1.435859 | 2.109718 |\n| 2 | 1.416655 | 1.434195 | 2.098589 |\n| 3 | 1.351764 | 1.433284 | 2.104767 |\n| 4 | 1.308929 | 1.368356 | 1.901597 |\n| 5 | 1.246637 | 1.317024 | 1.776242 |\n| 6 | 1.194508 | 1.268131 | 1.621955 |\n\n",
            "text/html": [
              "<table class=\"dataframe\">\n",
              "<caption>A Time Series: 6 × 3</caption>\n",
              "<thead>\n",
              "\t<tr><th></th><th scope=col>sigma.realgjrgarch.pred.a</th><th scope=col>sigma.realgjrgarch.pred.b</th><th scope=col>sigma.realgjrgarch.true</th></tr>\n",
              "</thead>\n",
              "<tbody>\n",
              "\t<tr><th scope=row>1</th><td>1.414684</td><td>1.435859</td><td>2.109718</td></tr>\n",
              "\t<tr><th scope=row>2</th><td>1.416655</td><td>1.434195</td><td>2.098589</td></tr>\n",
              "\t<tr><th scope=row>3</th><td>1.351764</td><td>1.433284</td><td>2.104767</td></tr>\n",
              "\t<tr><th scope=row>4</th><td>1.308929</td><td>1.368356</td><td>1.901597</td></tr>\n",
              "\t<tr><th scope=row>5</th><td>1.246637</td><td>1.317024</td><td>1.776242</td></tr>\n",
              "\t<tr><th scope=row>6</th><td>1.194508</td><td>1.268131</td><td>1.621955</td></tr>\n",
              "</tbody>\n",
              "</table>\n"
            ]
          },
          "metadata": {
            "tags": []
          }
        }
      ]
    },
    {
      "cell_type": "markdown",
      "metadata": {
        "id": "XIXx7PfMto5u"
      },
      "source": [
        "**Performance evaluation**"
      ],
      "id": "XIXx7PfMto5u"
    },
    {
      "cell_type": "code",
      "metadata": {
        "colab": {
          "base_uri": "https://localhost:8080/",
          "height": 51
        },
        "id": "Ag4Mj-Ftton1",
        "outputId": "169528c7-7715-4122-f86c-7384e81c2389"
      },
      "source": [
        "# Forecast Error - Forecast a\n",
        "realgjrgarch.error.a <- sigma.realgjrgarch[,'sigma.realgjrgarch.pred.a'] - sigma.realgjrgarch[,'sigma.realgjrgarch.true']\n",
        "head(realgjrgarch.error.a)"
      ],
      "id": "Ag4Mj-Ftton1",
      "execution_count": 199,
      "outputs": [
        {
          "output_type": "display_data",
          "data": {
            "text/plain": [
              "A Time Series:\n",
              "[1] -0.6950343 -0.6819340 -0.7530028 -0.5926687 -0.5296053 -0.4274469"
            ],
            "text/latex": "A Time Series:\\\\\\begin{enumerate*}\n\\item -0.695034299453452\n\\item -0.681934046976502\n\\item -0.753002834003799\n\\item -0.592668693790542\n\\item -0.529605261749622\n\\item -0.4274469396963\n\\end{enumerate*}\n",
            "text/markdown": "A Time Series:  \n1. -0.695034299453452\n2. -0.681934046976502\n3. -0.753002834003799\n4. -0.592668693790542\n5. -0.529605261749622\n6. -0.4274469396963\n\n\n",
            "text/html": [
              "A Time Series:<br><style>\n",
              ".list-inline {list-style: none; margin:0; padding: 0}\n",
              ".list-inline>li {display: inline-block}\n",
              ".list-inline>li:not(:last-child)::after {content: \"\\00b7\"; padding: 0 .5ex}\n",
              "</style>\n",
              "<ol class=list-inline><li>-0.695034299453452</li><li>-0.681934046976502</li><li>-0.753002834003799</li><li>-0.592668693790542</li><li>-0.529605261749622</li><li>-0.4274469396963</li></ol>\n"
            ]
          },
          "metadata": {
            "tags": []
          }
        }
      ]
    },
    {
      "cell_type": "code",
      "metadata": {
        "colab": {
          "base_uri": "https://localhost:8080/",
          "height": 51
        },
        "id": "uL_nAHaZtsmX",
        "outputId": "892643da-affb-4d16-f0b3-7926defdbffe"
      },
      "source": [
        "# Forecast Error - Forecast b\n",
        "realgjrgarch.error.b <- sigma.realgjrgarch[,'sigma.realgjrgarch.pred.b'] - sigma.realgjrgarch[,'sigma.realgjrgarch.true']\n",
        "head(realgjrgarch.error.b)"
      ],
      "id": "uL_nAHaZtsmX",
      "execution_count": 200,
      "outputs": [
        {
          "output_type": "display_data",
          "data": {
            "text/plain": [
              "A Time Series:\n",
              "[1] -0.6738587 -0.6643937 -0.6714830 -0.5332407 -0.4592174 -0.3538246"
            ],
            "text/latex": "A Time Series:\\\\\\begin{enumerate*}\n\\item -0.673858659901449\n\\item -0.664393707022679\n\\item -0.671482999016476\n\\item -0.533240740368786\n\\item -0.459217433314223\n\\item -0.353824608012591\n\\end{enumerate*}\n",
            "text/markdown": "A Time Series:  \n1. -0.673858659901449\n2. -0.664393707022679\n3. -0.671482999016476\n4. -0.533240740368786\n5. -0.459217433314223\n6. -0.353824608012591\n\n\n",
            "text/html": [
              "A Time Series:<br><style>\n",
              ".list-inline {list-style: none; margin:0; padding: 0}\n",
              ".list-inline>li {display: inline-block}\n",
              ".list-inline>li:not(:last-child)::after {content: \"\\00b7\"; padding: 0 .5ex}\n",
              "</style>\n",
              "<ol class=list-inline><li>-0.673858659901449</li><li>-0.664393707022679</li><li>-0.671482999016476</li><li>-0.533240740368786</li><li>-0.459217433314223</li><li>-0.353824608012591</li></ol>\n"
            ]
          },
          "metadata": {
            "tags": []
          }
        }
      ]
    },
    {
      "cell_type": "code",
      "metadata": {
        "colab": {
          "base_uri": "https://localhost:8080/",
          "height": 34
        },
        "id": "jCrb2QAytuKC",
        "outputId": "0fbf145d-caa1-4e21-f314-05818fe121c8"
      },
      "source": [
        "# Mean Square Error Loss - Forecast a\n",
        "realgjrgarch.mse.a <- MSE(sigma.realgjrgarch[,'sigma.realgjrgarch.pred.a'],\n",
        "                          sigma.realgjrgarch[,'sigma.realgjrgarch.true'])\n",
        "round(realgjrgarch.mse.a, digits = 3)"
      ],
      "id": "jCrb2QAytuKC",
      "execution_count": 201,
      "outputs": [
        {
          "output_type": "display_data",
          "data": {
            "text/plain": [
              "[1] 1.852"
            ],
            "text/latex": "1.852",
            "text/markdown": "1.852",
            "text/html": [
              "1.852"
            ]
          },
          "metadata": {
            "tags": []
          }
        }
      ]
    },
    {
      "cell_type": "code",
      "metadata": {
        "colab": {
          "base_uri": "https://localhost:8080/",
          "height": 34
        },
        "id": "VJXxBH1wtvZc",
        "outputId": "681ec780-5509-454d-b58c-5a4f1205cefb"
      },
      "source": [
        "# Mean Square Error Loss - Forecast b\n",
        "realgjrgarch.mse.b <- MSE(sigma.realgjrgarch[,'sigma.realgjrgarch.pred.b'],\n",
        "                          sigma.realgjrgarch[,'sigma.realgjrgarch.true'])\n",
        "round(realgjrgarch.mse.b, digits = 3)"
      ],
      "id": "VJXxBH1wtvZc",
      "execution_count": 202,
      "outputs": [
        {
          "output_type": "display_data",
          "data": {
            "text/plain": [
              "[1] 1.816"
            ],
            "text/latex": "1.816",
            "text/markdown": "1.816",
            "text/html": [
              "1.816"
            ]
          },
          "metadata": {
            "tags": []
          }
        }
      ]
    },
    {
      "cell_type": "code",
      "metadata": {
        "colab": {
          "base_uri": "https://localhost:8080/",
          "height": 34
        },
        "id": "ohL91LcHtxCm",
        "outputId": "8a7160d6-d18c-4921-fc97-af565d6fd6eb"
      },
      "source": [
        "# Mean Absolute Error Loss - Forecast a\n",
        "realgjrgarch.mae.a <- MAE(sigma.realgjrgarch[,'sigma.realgjrgarch.pred.a'],\n",
        "                          sigma.realgjrgarch[,'sigma.realgjrgarch.true'])\n",
        "round(realgjrgarch.mae.a, digits = 3)"
      ],
      "id": "ohL91LcHtxCm",
      "execution_count": 203,
      "outputs": [
        {
          "output_type": "display_data",
          "data": {
            "text/plain": [
              "[1] 0.642"
            ],
            "text/latex": "0.642",
            "text/markdown": "0.642",
            "text/html": [
              "0.642"
            ]
          },
          "metadata": {
            "tags": []
          }
        }
      ]
    },
    {
      "cell_type": "code",
      "metadata": {
        "colab": {
          "base_uri": "https://localhost:8080/",
          "height": 34
        },
        "id": "2IrJeFHStyH5",
        "outputId": "222eb2a2-780a-4493-b047-a25fd813fe0b"
      },
      "source": [
        "# Mean Absolute Error Loss - Forecast b\n",
        "realgjrgarch.mae.b <- MAE(sigma.realgjrgarch[,'sigma.realgjrgarch.pred.b'],\n",
        "                          sigma.realgjrgarch[,'sigma.realgjrgarch.true'])\n",
        "round(realgjrgarch.mae.b, digits = 3)"
      ],
      "id": "2IrJeFHStyH5",
      "execution_count": 204,
      "outputs": [
        {
          "output_type": "display_data",
          "data": {
            "text/plain": [
              "[1] 0.623"
            ],
            "text/latex": "0.623",
            "text/markdown": "0.623",
            "text/html": [
              "0.623"
            ]
          },
          "metadata": {
            "tags": []
          }
        }
      ]
    },
    {
      "cell_type": "code",
      "metadata": {
        "colab": {
          "base_uri": "https://localhost:8080/",
          "height": 34
        },
        "id": "SqGo_64Itzj3",
        "outputId": "357b65d6-657d-4705-ea57-cc5d6a7822f1"
      },
      "source": [
        "# Root Mean Square Error Loss - Forecast a\n",
        "realgjrgarch.rmse.a <- RMSE(sigma.realgjrgarch[,'sigma.realgjrgarch.pred.a'],\n",
        "                            sigma.realgjrgarch[,'sigma.realgjrgarch.true'])\n",
        "round(realgjrgarch.rmse.a, digits = 3)"
      ],
      "id": "SqGo_64Itzj3",
      "execution_count": 205,
      "outputs": [
        {
          "output_type": "display_data",
          "data": {
            "text/plain": [
              "[1] 1.361"
            ],
            "text/latex": "1.361",
            "text/markdown": "1.361",
            "text/html": [
              "1.361"
            ]
          },
          "metadata": {
            "tags": []
          }
        }
      ]
    },
    {
      "cell_type": "code",
      "metadata": {
        "colab": {
          "base_uri": "https://localhost:8080/",
          "height": 34
        },
        "id": "T7atQxuXt1AP",
        "outputId": "91ba59b9-645f-426f-9bff-c8d6e0c5eb5f"
      },
      "source": [
        "# Root Mean Square Error Loss - Forecast b\n",
        "realgjrgarch.rmse.b <- RMSE(sigma.realgjrgarch[,'sigma.realgjrgarch.pred.b'],\n",
        "                            sigma.realgjrgarch[,'sigma.realgjrgarch.true'])\n",
        "round(realgjrgarch.rmse.b, digits = 3)"
      ],
      "id": "T7atQxuXt1AP",
      "execution_count": 206,
      "outputs": [
        {
          "output_type": "display_data",
          "data": {
            "text/plain": [
              "[1] 1.348"
            ],
            "text/latex": "1.348",
            "text/markdown": "1.348",
            "text/html": [
              "1.348"
            ]
          },
          "metadata": {
            "tags": []
          }
        }
      ]
    },
    {
      "cell_type": "code",
      "metadata": {
        "colab": {
          "base_uri": "https://localhost:8080/",
          "height": 34
        },
        "id": "9fJX1_Ect2jQ",
        "outputId": "918ba287-cff7-4b10-a794-811239f0cc6b"
      },
      "source": [
        "# Quasi-likelihood loss function - forecast a\n",
        "h <- sigma.realgjrgarch[,'sigma.realgjrgarch.true']\n",
        "\n",
        "h.hat.a <- sigma.realgjrgarch[,'sigma.realgjrgarch.pred.a']     \n",
        "realgjrgarch.qlike.a <- mean(log(sqrt(h)) + h.hat.a/sqrt(h))\n",
        "round(realgjrgarch.qlike.a, digits = 5)"
      ],
      "id": "9fJX1_Ect2jQ",
      "execution_count": 207,
      "outputs": [
        {
          "output_type": "display_data",
          "data": {
            "text/plain": [
              "[1] 1.15304"
            ],
            "text/latex": "1.15304",
            "text/markdown": "1.15304",
            "text/html": [
              "1.15304"
            ]
          },
          "metadata": {
            "tags": []
          }
        }
      ]
    },
    {
      "cell_type": "code",
      "metadata": {
        "colab": {
          "base_uri": "https://localhost:8080/",
          "height": 34
        },
        "id": "Sx3HuoWct3rq",
        "outputId": "a6cb6f78-6eab-4c97-d91a-dde3de09b00c"
      },
      "source": [
        "# Quasi-likelihood loss function - forecast b\n",
        "h.hat.b <- sigma.realgjrgarch[,'sigma.realgjrgarch.pred.b']\n",
        "realgjrgarch.qlike.b <- mean(log(sqrt(h)) + h.hat.b/sqrt(h))\n",
        "round(realgjrgarch.qlike.b, digits = 5)"
      ],
      "id": "Sx3HuoWct3rq",
      "execution_count": 208,
      "outputs": [
        {
          "output_type": "display_data",
          "data": {
            "text/plain": [
              "[1] 1.1656"
            ],
            "text/latex": "1.1656",
            "text/markdown": "1.1656",
            "text/html": [
              "1.1656"
            ]
          },
          "metadata": {
            "tags": []
          }
        }
      ]
    },
    {
      "cell_type": "code",
      "metadata": {
        "colab": {
          "base_uri": "https://localhost:8080/",
          "height": 119
        },
        "id": "cse_VeX2OFEY",
        "outputId": "0204c7cb-bfca-41e2-be87-f6172aa9c5ff"
      },
      "source": [
        "# Diebold-Mariano Test (accuracy test) - test 1\n",
        "f.a <- sigma.realgjrgarch[,'sigma.realgjrgarch.pred.a']\n",
        "f.b <- sigma.realgjrgarch[,'sigma.realgjrgarch.pred.b']\n",
        "y <- sigma.realgjrgarch[,'sigma.realgjrgarch.true']\n",
        "\n",
        "DM.test(f.a, f.b, y, loss.type = \"SE\", c = FALSE, H1 = \"same\")"
      ],
      "id": "cse_VeX2OFEY",
      "execution_count": 209,
      "outputs": [
        {
          "output_type": "display_data",
          "data": {
            "text/plain": [
              "\n",
              "\tDiebold-Mariano test\n",
              "\n",
              "data:  f.a and f.b and y\n",
              "statistic = 3.546, forecast horizon = 1, p-value = 0.0003911\n",
              "alternative hypothesis: Forecast f1 and f2 have different accuracy.\n"
            ]
          },
          "metadata": {
            "tags": []
          }
        }
      ]
    },
    {
      "cell_type": "code",
      "metadata": {
        "colab": {
          "base_uri": "https://localhost:8080/",
          "height": 136
        },
        "id": "icTJE8GzOHA8",
        "outputId": "4429701b-e71f-402d-f2c1-de2f1eb1d8bd"
      },
      "source": [
        "# Diebold-Mariano test for predictive accuracy - test 2\n",
        "e.a <- realgjrgarch.error.a\n",
        "e.b <- realgjrgarch.error.b\n",
        "\n",
        "dm.test(e.a, e.b, alternative = \"two.sided\", h = 1, power = 2)"
      ],
      "id": "icTJE8GzOHA8",
      "execution_count": 210,
      "outputs": [
        {
          "output_type": "display_data",
          "data": {
            "text/plain": [
              "\n",
              "\tDiebold-Mariano Test\n",
              "\n",
              "data:  e.ae.b\n",
              "DM = 3.5449, Forecast horizon = 1, Loss function power = 2, p-value =\n",
              "0.0004043\n",
              "alternative hypothesis: two.sided\n"
            ]
          },
          "metadata": {
            "tags": []
          }
        }
      ]
    },
    {
      "cell_type": "code",
      "metadata": {
        "colab": {
          "base_uri": "https://localhost:8080/",
          "height": 34
        },
        "id": "fenyJq26OKdD",
        "outputId": "a701c162-8743-41a0-944e-f4f7d49082c7"
      },
      "source": [
        "# Quasi-likelihood Loss Function For Volatility Forecasts - forecast a\n",
        "realgjrgarch.qlike.a <- mean(LossVol(sigma.realgjrgarch[,'sigma.realgjrgarch.true'],\n",
        "                                    sigma.realgjrgarch[,'sigma.realgjrgarch.pred.a'],\n",
        "                                    which = \"QLIKE\"))\n",
        "round(realgjrgarch.qlike.a, digits = 3)"
      ],
      "id": "fenyJq26OKdD",
      "execution_count": 211,
      "outputs": [
        {
          "output_type": "display_data",
          "data": {
            "text/plain": [
              "[1] 2.223"
            ],
            "text/latex": "2.223",
            "text/markdown": "2.223",
            "text/html": [
              "2.223"
            ]
          },
          "metadata": {
            "tags": []
          }
        }
      ]
    },
    {
      "cell_type": "code",
      "metadata": {
        "colab": {
          "base_uri": "https://localhost:8080/",
          "height": 34
        },
        "id": "BZiiiS5BOMIH",
        "outputId": "6639145d-a5da-49d4-87cd-0c5b494c865a"
      },
      "source": [
        "# Quasi-likelihood Loss Function For Volatility Forecasts - forecast 1b\n",
        "realgjrgarch.qlike.b <- mean(LossVol(sigma.realgjrgarch[,'sigma.realgjrgarch.true'],\n",
        "                                    sigma.realgjrgarch[,'sigma.realgjrgarch.pred.b'],\n",
        "                                    which = \"QLIKE\"))\n",
        "round(realgjrgarch.qlike.b, digits = 3)"
      ],
      "id": "BZiiiS5BOMIH",
      "execution_count": 212,
      "outputs": [
        {
          "output_type": "display_data",
          "data": {
            "text/plain": [
              "[1] 2.182"
            ],
            "text/latex": "2.182",
            "text/markdown": "2.182",
            "text/html": [
              "2.182"
            ]
          },
          "metadata": {
            "tags": []
          }
        }
      ]
    },
    {
      "cell_type": "code",
      "metadata": {
        "colab": {
          "base_uri": "https://localhost:8080/",
          "height": 34
        },
        "id": "wpWs_NItt47v",
        "outputId": "a0f93626-85e7-4ffd-d02f-f723153e9799"
      },
      "source": [
        "# Log loss / Cross-Entropy Loss -  forecast a\n",
        "realgjrgarch.logloss.a <- LogLoss(sigma.realgjrgarch[,'sigma.realgjrgarch.pred.a'],\n",
        "                                  sigma.realgjrgarch[,'sigma.realgjrgarch.true'])\n",
        "round(realgjrgarch.logloss.a, digits = 3)"
      ],
      "id": "wpWs_NItt47v",
      "execution_count": 213,
      "outputs": [
        {
          "output_type": "display_data",
          "data": {
            "text/plain": [
              "[1] -29.246"
            ],
            "text/latex": "-29.246",
            "text/markdown": "-29.246",
            "text/html": [
              "-29.246"
            ]
          },
          "metadata": {
            "tags": []
          }
        }
      ]
    },
    {
      "cell_type": "code",
      "metadata": {
        "colab": {
          "base_uri": "https://localhost:8080/",
          "height": 34
        },
        "id": "NOm3JSWtt609",
        "outputId": "7d90d132-caeb-4819-fde9-6c02413f3b87"
      },
      "source": [
        "# Log loss / Cross-Entropy Loss -  forecast b\n",
        "realgjrgarch.logloss.b <- LogLoss(sigma.realgjrgarch[,'sigma.realgjrgarch.pred.b'],\n",
        "                                  sigma.realgjrgarch[,'sigma.realgjrgarch.true'])\n",
        "round(realgjrgarch.logloss.b, digits = 3)"
      ],
      "id": "NOm3JSWtt609",
      "execution_count": 214,
      "outputs": [
        {
          "output_type": "display_data",
          "data": {
            "text/plain": [
              "[1] -29.419"
            ],
            "text/latex": "-29.419",
            "text/markdown": "-29.419",
            "text/html": [
              "-29.419"
            ]
          },
          "metadata": {
            "tags": []
          }
        }
      ]
    },
    {
      "cell_type": "code",
      "metadata": {
        "colab": {
          "base_uri": "https://localhost:8080/",
          "height": 170
        },
        "id": "zAqllzeHt8Fg",
        "outputId": "daa199ba-e81c-4660-9228-bdf9eda6b9cc"
      },
      "source": [
        "# Linear regression to assess forecast performance - forecast a\n",
        "realgjrgarch.model.a <- lm(sigma.realgjrgarch.true ~ sigma.realgjrgarch.pred.a,\n",
        "                          data = sigma.realgjrgarch)\n",
        "round(coeftest(realgjrgarch.model.a, NeweyWest(realgjrgarch.model.a,\n",
        "                                              lag = bwNeweyWest(realgjrgarch.model.a),\n",
        "                                              prewhite = F)), 3)\n",
        "round(summary(realgjrgarch.model.a)$adj.r.squared, 3)"
      ],
      "id": "zAqllzeHt8Fg",
      "execution_count": 215,
      "outputs": [
        {
          "output_type": "display_data",
          "data": {
            "text/plain": [
              "\n",
              "t test of coefficients:\n",
              "\n",
              "                          Estimate Std. Error t value  Pr(>|t|)    \n",
              "(Intercept)                 -2.475      0.210 -11.759 < 2.2e-16 ***\n",
              "sigma.realgjrgarch.pred.a    3.481      0.189  18.413 < 2.2e-16 ***\n",
              "---\n",
              "Signif. codes:  0 ‘***’ 0.001 ‘**’ 0.01 ‘*’ 0.05 ‘.’ 0.1 ‘ ’ 1\n"
            ]
          },
          "metadata": {
            "tags": []
          }
        },
        {
          "output_type": "display_data",
          "data": {
            "text/plain": [
              "[1] 0.888"
            ],
            "text/latex": "0.888",
            "text/markdown": "0.888",
            "text/html": [
              "0.888"
            ]
          },
          "metadata": {
            "tags": []
          }
        }
      ]
    },
    {
      "cell_type": "code",
      "metadata": {
        "colab": {
          "base_uri": "https://localhost:8080/",
          "height": 170
        },
        "id": "l98Tp5ujt9ZH",
        "outputId": "59dc728a-4a26-4d21-cc43-e4ae4a7f40a0"
      },
      "source": [
        "# Linear regression to assess forecast performance - forecast b\n",
        "realgjrgarch.model.b <- lm(sigma.realgjrgarch.true ~ sigma.realgjrgarch.pred.b,\n",
        "                          data = sigma.realgjrgarch)\n",
        "round(coeftest(realgjrgarch.model.b, NeweyWest(realgjrgarch.model.b,\n",
        "                                              lag = bwNeweyWest(realgjrgarch.model.b),\n",
        "                                              prewhite = F)), 3)\n",
        "round(summary(realgjrgarch.model.b)$adj.r.squared, 3)"
      ],
      "id": "l98Tp5ujt9ZH",
      "execution_count": 216,
      "outputs": [
        {
          "output_type": "display_data",
          "data": {
            "text/plain": [
              "\n",
              "t test of coefficients:\n",
              "\n",
              "                          Estimate Std. Error t value  Pr(>|t|)    \n",
              "(Intercept)                 -2.792      0.211 -13.239 < 2.2e-16 ***\n",
              "sigma.realgjrgarch.pred.b    3.695      0.184  20.113 < 2.2e-16 ***\n",
              "---\n",
              "Signif. codes:  0 ‘***’ 0.001 ‘**’ 0.01 ‘*’ 0.05 ‘.’ 0.1 ‘ ’ 1\n"
            ]
          },
          "metadata": {
            "tags": []
          }
        },
        {
          "output_type": "display_data",
          "data": {
            "text/plain": [
              "[1] 0.948"
            ],
            "text/latex": "0.948",
            "text/markdown": "0.948",
            "text/html": [
              "0.948"
            ]
          },
          "metadata": {
            "tags": []
          }
        }
      ]
    },
    {
      "cell_type": "markdown",
      "metadata": {
        "id": "AciM8pt0zDOf"
      },
      "source": [
        "#12. Forecast - Markov-Switching GARCH"
      ],
      "id": "AciM8pt0zDOf"
    },
    {
      "cell_type": "markdown",
      "metadata": {
        "id": "0duULlBdzPeP"
      },
      "source": [
        "##(a) MS Linear GARCH"
      ],
      "id": "0duULlBdzPeP"
    },
    {
      "cell_type": "code",
      "metadata": {
        "id": "x-aTWmwh3OPQ"
      },
      "source": [
        "# Model Estimation - Maximum Likelihood Estimation\n",
        "msgarch.fit.pred.a <- FitML(msgarch.spec,\n",
        "                            data = N225.df$N225.Return)"
      ],
      "id": "x-aTWmwh3OPQ",
      "execution_count": 217,
      "outputs": []
    },
    {
      "cell_type": "code",
      "metadata": {
        "id": "_V7_va4c1iFq"
      },
      "source": [
        "# Model Estimation - MCMC/Bayesian estimation\n",
        "msgarch.fit.pred.b <- FitMCMC(msgarch.spec,\n",
        "                              data = N225.df$N225.Return)"
      ],
      "id": "_V7_va4c1iFq",
      "execution_count": 218,
      "outputs": []
    },
    {
      "cell_type": "code",
      "metadata": {
        "id": "DqhNduVO2fOA"
      },
      "source": [
        "# Forecast - Maximum Likelihood Estimation\n",
        "msgarch.pred.a <- predict(object = msgarch.fit.pred.a,\n",
        "                          nahead = dim(N225.df.out)[1],\n",
        "                          do.return.draw = TRUE)\n",
        "\n",
        "msgarch.forecast.a <- ts(msgarch.pred.a$vol)"
      ],
      "id": "DqhNduVO2fOA",
      "execution_count": 219,
      "outputs": []
    },
    {
      "cell_type": "code",
      "metadata": {
        "id": "xPlTh8-d3FE7"
      },
      "source": [
        "# Forecast - MCMC/Bayesian estimation\n",
        "msgarch.pred.b <- predict(object = msgarch.fit.pred.b,\n",
        "                          nahead = dim(N225.df.out)[1],\n",
        "                          do.return.draw = TRUE)\n",
        "\n",
        "msgarch.forecast.b <- ts(msgarch.pred.b$vol)"
      ],
      "id": "xPlTh8-d3FE7",
      "execution_count": 220,
      "outputs": []
    },
    {
      "cell_type": "code",
      "metadata": {
        "colab": {
          "base_uri": "https://localhost:8080/",
          "height": 252
        },
        "id": "YA2pLbUs3fK5",
        "outputId": "095638f5-6a3c-4b14-f60a-61bcbdec2912"
      },
      "source": [
        "# Comparative\n",
        "sigma.msgarch.pred.a <- msgarch.forecast.a\n",
        "sigma.msgarch.pred.b <- msgarch.forecast.b\n",
        "sigma.msgarch.true <- ts(N225.df.out[,'N225.VolMSGARCH'])\n",
        "\n",
        "sigma.msgarch <- na.omit(cbind(sigma.msgarch.pred.a,\n",
        "                              sigma.msgarch.pred.b,\n",
        "                              sigma.msgarch.true))\n",
        "head(sigma.msgarch)"
      ],
      "id": "YA2pLbUs3fK5",
      "execution_count": 221,
      "outputs": [
        {
          "output_type": "display_data",
          "data": {
            "text/plain": [
              "  sigma.msgarch.pred.a sigma.msgarch.pred.b sigma.msgarch.true\n",
              "1 1.291663             1.292294             1.365494          \n",
              "2 1.260102             1.316595             1.491592          \n",
              "3 1.264567             1.281974             1.502558          \n",
              "4 1.273341             1.326916             1.403811          \n",
              "5 1.281273             1.266661             1.369106          \n",
              "6 1.278569             1.333509             1.275592          "
            ],
            "text/latex": "A Time Series: 6 × 3\n\\begin{tabular}{r|lll}\n  & sigma.msgarch.pred.a & sigma.msgarch.pred.b & sigma.msgarch.true\\\\\n\\hline\n\t1 & 1.291663 & 1.292294 & 1.365494\\\\\n\t2 & 1.260102 & 1.316595 & 1.491592\\\\\n\t3 & 1.264567 & 1.281974 & 1.502558\\\\\n\t4 & 1.273341 & 1.326916 & 1.403811\\\\\n\t5 & 1.281273 & 1.266661 & 1.369106\\\\\n\t6 & 1.278569 & 1.333509 & 1.275592\\\\\n\\end{tabular}\n",
            "text/markdown": "\nA Time Series: 6 × 3\n\n| <!--/--> | sigma.msgarch.pred.a | sigma.msgarch.pred.b | sigma.msgarch.true |\n|---|---|---|---|\n| 1 | 1.291663 | 1.292294 | 1.365494 |\n| 2 | 1.260102 | 1.316595 | 1.491592 |\n| 3 | 1.264567 | 1.281974 | 1.502558 |\n| 4 | 1.273341 | 1.326916 | 1.403811 |\n| 5 | 1.281273 | 1.266661 | 1.369106 |\n| 6 | 1.278569 | 1.333509 | 1.275592 |\n\n",
            "text/html": [
              "<table class=\"dataframe\">\n",
              "<caption>A Time Series: 6 × 3</caption>\n",
              "<thead>\n",
              "\t<tr><th></th><th scope=col>sigma.msgarch.pred.a</th><th scope=col>sigma.msgarch.pred.b</th><th scope=col>sigma.msgarch.true</th></tr>\n",
              "</thead>\n",
              "<tbody>\n",
              "\t<tr><th scope=row>1</th><td>1.291663</td><td>1.292294</td><td>1.365494</td></tr>\n",
              "\t<tr><th scope=row>2</th><td>1.260102</td><td>1.316595</td><td>1.491592</td></tr>\n",
              "\t<tr><th scope=row>3</th><td>1.264567</td><td>1.281974</td><td>1.502558</td></tr>\n",
              "\t<tr><th scope=row>4</th><td>1.273341</td><td>1.326916</td><td>1.403811</td></tr>\n",
              "\t<tr><th scope=row>5</th><td>1.281273</td><td>1.266661</td><td>1.369106</td></tr>\n",
              "\t<tr><th scope=row>6</th><td>1.278569</td><td>1.333509</td><td>1.275592</td></tr>\n",
              "</tbody>\n",
              "</table>\n"
            ]
          },
          "metadata": {
            "tags": []
          }
        }
      ]
    },
    {
      "cell_type": "markdown",
      "metadata": {
        "id": "LVbmSsEMBJaw"
      },
      "source": [
        "**Performance evaluation**"
      ],
      "id": "LVbmSsEMBJaw"
    },
    {
      "cell_type": "code",
      "metadata": {
        "colab": {
          "base_uri": "https://localhost:8080/",
          "height": 51
        },
        "id": "haXFBMWaBKz2",
        "outputId": "16862cd0-fc0c-410f-ce79-927fa3c8dfe8"
      },
      "source": [
        "# Forecast Error - Forecast a\n",
        "msgarch.error.a <- sigma.msgarch[,'sigma.msgarch.pred.a'] - sigma.msgarch[,'sigma.msgarch.true']\n",
        "head(msgarch.error.a)"
      ],
      "id": "haXFBMWaBKz2",
      "execution_count": 222,
      "outputs": [
        {
          "output_type": "display_data",
          "data": {
            "text/plain": [
              "A Time Series:\n",
              "[1] -0.073830570 -0.231489863 -0.237991189 -0.130469887 -0.087833005\n",
              "[6]  0.002977065"
            ],
            "text/latex": "A Time Series:\\\\\\begin{enumerate*}\n\\item -0.0738305696511232\n\\item -0.231489863065266\n\\item -0.237991189381169\n\\item -0.130469886578336\n\\item -0.0878330054824958\n\\item 0.00297706514565999\n\\end{enumerate*}\n",
            "text/markdown": "A Time Series:  \n1. -0.0738305696511232\n2. -0.231489863065266\n3. -0.237991189381169\n4. -0.130469886578336\n5. -0.0878330054824958\n6. 0.00297706514565999\n\n\n",
            "text/html": [
              "A Time Series:<br><style>\n",
              ".list-inline {list-style: none; margin:0; padding: 0}\n",
              ".list-inline>li {display: inline-block}\n",
              ".list-inline>li:not(:last-child)::after {content: \"\\00b7\"; padding: 0 .5ex}\n",
              "</style>\n",
              "<ol class=list-inline><li>-0.0738305696511232</li><li>-0.231489863065266</li><li>-0.237991189381169</li><li>-0.130469886578336</li><li>-0.0878330054824958</li><li>0.00297706514565999</li></ol>\n"
            ]
          },
          "metadata": {
            "tags": []
          }
        }
      ]
    },
    {
      "cell_type": "code",
      "metadata": {
        "colab": {
          "base_uri": "https://localhost:8080/",
          "height": 51
        },
        "id": "88NZpanFBNd9",
        "outputId": "e08056e0-f674-4f3e-8be8-80b2987113a8"
      },
      "source": [
        "# Forecast Error - Forecast b\n",
        "msgarch.error.b <- sigma.msgarch[,'sigma.msgarch.pred.b'] - sigma.msgarch[,'sigma.msgarch.true']\n",
        "head(msgarch.error.b)"
      ],
      "id": "88NZpanFBNd9",
      "execution_count": 223,
      "outputs": [
        {
          "output_type": "display_data",
          "data": {
            "text/plain": [
              "A Time Series:\n",
              "[1] -0.07319966 -0.17499680 -0.22058458 -0.07689452 -0.10244517  0.05791685"
            ],
            "text/latex": "A Time Series:\\\\\\begin{enumerate*}\n\\item -0.0731996554080956\n\\item -0.174996804927984\n\\item -0.22058457866751\n\\item -0.0768945165143988\n\\item -0.102445165204038\n\\item 0.0579168532089274\n\\end{enumerate*}\n",
            "text/markdown": "A Time Series:  \n1. -0.0731996554080956\n2. -0.174996804927984\n3. -0.22058457866751\n4. -0.0768945165143988\n5. -0.102445165204038\n6. 0.0579168532089274\n\n\n",
            "text/html": [
              "A Time Series:<br><style>\n",
              ".list-inline {list-style: none; margin:0; padding: 0}\n",
              ".list-inline>li {display: inline-block}\n",
              ".list-inline>li:not(:last-child)::after {content: \"\\00b7\"; padding: 0 .5ex}\n",
              "</style>\n",
              "<ol class=list-inline><li>-0.0731996554080956</li><li>-0.174996804927984</li><li>-0.22058457866751</li><li>-0.0768945165143988</li><li>-0.102445165204038</li><li>0.0579168532089274</li></ol>\n"
            ]
          },
          "metadata": {
            "tags": []
          }
        }
      ]
    },
    {
      "cell_type": "code",
      "metadata": {
        "colab": {
          "base_uri": "https://localhost:8080/",
          "height": 34
        },
        "id": "C_VP13j7BPKI",
        "outputId": "95538e66-2620-4411-e932-bf399080ddda"
      },
      "source": [
        "# Mean Square Error Loss - Forecast a\n",
        "msgarch.mse.a <- MSE(sigma.msgarch[,'sigma.msgarch.pred.a'],\n",
        "                    sigma.msgarch[,'sigma.msgarch.true'])\n",
        "round(msgarch.mse.a, digits = 3)"
      ],
      "id": "C_VP13j7BPKI",
      "execution_count": 224,
      "outputs": [
        {
          "output_type": "display_data",
          "data": {
            "text/plain": [
              "[1] 0.177"
            ],
            "text/latex": "0.177",
            "text/markdown": "0.177",
            "text/html": [
              "0.177"
            ]
          },
          "metadata": {
            "tags": []
          }
        }
      ]
    },
    {
      "cell_type": "code",
      "metadata": {
        "colab": {
          "base_uri": "https://localhost:8080/",
          "height": 34
        },
        "id": "pzReqrbUBQvb",
        "outputId": "1b044738-ce1e-49a0-c206-113b9ac6bd3c"
      },
      "source": [
        "# Mean Square Error Loss - Forecast b\n",
        "msgarch.mse.b <- MSE(sigma.msgarch[,'sigma.msgarch.pred.b'],\n",
        "                    sigma.msgarch[,'sigma.msgarch.true'])\n",
        "round(msgarch.mse.b, digits = 3)"
      ],
      "id": "pzReqrbUBQvb",
      "execution_count": 225,
      "outputs": [
        {
          "output_type": "display_data",
          "data": {
            "text/plain": [
              "[1] 0.292"
            ],
            "text/latex": "0.292",
            "text/markdown": "0.292",
            "text/html": [
              "0.292"
            ]
          },
          "metadata": {
            "tags": []
          }
        }
      ]
    },
    {
      "cell_type": "code",
      "metadata": {
        "colab": {
          "base_uri": "https://localhost:8080/",
          "height": 34
        },
        "id": "ATJYe181BSMd",
        "outputId": "1787c6d8-901d-482b-cf8c-91fbef45bfb2"
      },
      "source": [
        "# Mean Absolute Error Loss - Forecast a\n",
        "msgarch.mae.a <- MAE(sigma.msgarch[,'sigma.msgarch.pred.a'],\n",
        "                    sigma.msgarch[,'sigma.msgarch.true'])\n",
        "round(msgarch.mae.a, digits = 3)"
      ],
      "id": "ATJYe181BSMd",
      "execution_count": 226,
      "outputs": [
        {
          "output_type": "display_data",
          "data": {
            "text/plain": [
              "[1] 0.32"
            ],
            "text/latex": "0.32",
            "text/markdown": "0.32",
            "text/html": [
              "0.32"
            ]
          },
          "metadata": {
            "tags": []
          }
        }
      ]
    },
    {
      "cell_type": "code",
      "metadata": {
        "colab": {
          "base_uri": "https://localhost:8080/",
          "height": 34
        },
        "id": "l1fAVRUvBTne",
        "outputId": "c7d46bd7-9b14-40cc-bba5-c70221d0fa4c"
      },
      "source": [
        "# Mean Absolute Error Loss - Forecast b\n",
        "msgarch.mae.b <- MAE(sigma.msgarch[,'sigma.msgarch.pred.b'],\n",
        "                    sigma.msgarch[,'sigma.msgarch.true'])\n",
        "round(msgarch.mae.b, digits = 3)"
      ],
      "id": "l1fAVRUvBTne",
      "execution_count": 227,
      "outputs": [
        {
          "output_type": "display_data",
          "data": {
            "text/plain": [
              "[1] 0.478"
            ],
            "text/latex": "0.478",
            "text/markdown": "0.478",
            "text/html": [
              "0.478"
            ]
          },
          "metadata": {
            "tags": []
          }
        }
      ]
    },
    {
      "cell_type": "code",
      "metadata": {
        "colab": {
          "base_uri": "https://localhost:8080/",
          "height": 34
        },
        "id": "OuJINwLnBVER",
        "outputId": "18dbc4be-3847-43e0-db62-b5c031298672"
      },
      "source": [
        "# Root Mean Square Error Loss - Forecast a\n",
        "msgarch.rmse.a <- RMSE(sigma.msgarch[,'sigma.msgarch.pred.a'],\n",
        "                      sigma.msgarch[,'sigma.msgarch.true'])\n",
        "round(msgarch.rmse.a, digits = 3)"
      ],
      "id": "OuJINwLnBVER",
      "execution_count": 228,
      "outputs": [
        {
          "output_type": "display_data",
          "data": {
            "text/plain": [
              "[1] 0.421"
            ],
            "text/latex": "0.421",
            "text/markdown": "0.421",
            "text/html": [
              "0.421"
            ]
          },
          "metadata": {
            "tags": []
          }
        }
      ]
    },
    {
      "cell_type": "code",
      "metadata": {
        "colab": {
          "base_uri": "https://localhost:8080/",
          "height": 34
        },
        "id": "zzi4QlI8BWh3",
        "outputId": "0f93106c-96a9-4334-e0b9-9ddae94e925a"
      },
      "source": [
        "# Root Mean Square Error Loss - Forecast b\n",
        "msgarch.rmse.b <- RMSE(sigma.msgarch[,'sigma.msgarch.pred.b'],\n",
        "                      sigma.msgarch[,'sigma.msgarch.true'])\n",
        "round(msgarch.rmse.b, digits = 3)"
      ],
      "id": "zzi4QlI8BWh3",
      "execution_count": 229,
      "outputs": [
        {
          "output_type": "display_data",
          "data": {
            "text/plain": [
              "[1] 0.54"
            ],
            "text/latex": "0.54",
            "text/markdown": "0.54",
            "text/html": [
              "0.54"
            ]
          },
          "metadata": {
            "tags": []
          }
        }
      ]
    },
    {
      "cell_type": "code",
      "metadata": {
        "colab": {
          "base_uri": "https://localhost:8080/",
          "height": 34
        },
        "id": "c1gkCdpIBXp1",
        "outputId": "5cd3e443-936c-4afd-ba94-d045851cbb91"
      },
      "source": [
        "# Quasi-likelihood loss function - forecast a\n",
        "h <- sigma.msgarch[,'sigma.msgarch.true']\n",
        "\n",
        "h.hat.a <- sigma.msgarch[,'sigma.msgarch.pred.a']     \n",
        "msgarch.qlike.a <- mean(log(sqrt(h)) + h.hat.a/sqrt(h))\n",
        "round(msgarch.qlike.a, digits = 5)"
      ],
      "id": "c1gkCdpIBXp1",
      "execution_count": 230,
      "outputs": [
        {
          "output_type": "display_data",
          "data": {
            "text/plain": [
              "[1] 1.2876"
            ],
            "text/latex": "1.2876",
            "text/markdown": "1.2876",
            "text/html": [
              "1.2876"
            ]
          },
          "metadata": {
            "tags": []
          }
        }
      ]
    },
    {
      "cell_type": "code",
      "metadata": {
        "colab": {
          "base_uri": "https://localhost:8080/",
          "height": 34
        },
        "id": "tBBaRrm8BZWv",
        "outputId": "ecb22d98-41f2-4a1c-81ab-858b4b4f405e"
      },
      "source": [
        "# Quasi-likelihood loss function - forecast b\n",
        "h.hat.b <- sigma.msgarch[,'sigma.msgarch.pred.b']\n",
        "msgarch.qlike.b <- mean(log(sqrt(h)) + h.hat.b/sqrt(h))\n",
        "round(msgarch.qlike.b, digits = 5)"
      ],
      "id": "tBBaRrm8BZWv",
      "execution_count": 231,
      "outputs": [
        {
          "output_type": "display_data",
          "data": {
            "text/plain": [
              "[1] 1.53817"
            ],
            "text/latex": "1.53817",
            "text/markdown": "1.53817",
            "text/html": [
              "1.53817"
            ]
          },
          "metadata": {
            "tags": []
          }
        }
      ]
    },
    {
      "cell_type": "code",
      "metadata": {
        "colab": {
          "base_uri": "https://localhost:8080/",
          "height": 119
        },
        "id": "Nd1_TRdDOusT",
        "outputId": "a7315988-bc31-4e52-896d-a8c1562d0ac8"
      },
      "source": [
        "# Diebold-Mariano Test (accuracy test) - test 1\n",
        "f.a <- sigma.msgarch[,'sigma.msgarch.pred.a']\n",
        "f.b <- sigma.msgarch[,'sigma.msgarch.pred.b']\n",
        "y <- sigma.msgarch[,'sigma.msgarch.true']\n",
        "\n",
        "DM.test(f.a, f.b, y, loss.type = \"SE\", c = FALSE, H1 = \"same\")"
      ],
      "id": "Nd1_TRdDOusT",
      "execution_count": 232,
      "outputs": [
        {
          "output_type": "display_data",
          "data": {
            "text/plain": [
              "\n",
              "\tDiebold-Mariano test\n",
              "\n",
              "data:  f.a and f.b and y\n",
              "statistic = -19.365, forecast horizon = 1, p-value < 2.2e-16\n",
              "alternative hypothesis: Forecast f1 and f2 have different accuracy.\n"
            ]
          },
          "metadata": {
            "tags": []
          }
        }
      ]
    },
    {
      "cell_type": "code",
      "metadata": {
        "colab": {
          "base_uri": "https://localhost:8080/",
          "height": 136
        },
        "id": "l0j5yLLOOw7a",
        "outputId": "485405c8-6a87-4634-be37-11e1fc85c7de"
      },
      "source": [
        "# Diebold-Mariano test for predictive accuracy - test 2\n",
        "e.a <- msgarch.error.a\n",
        "e.b <- msgarch.error.b\n",
        "\n",
        "dm.test(e.a, e.b, alternative = \"two.sided\", h = 1, power = 2)"
      ],
      "id": "l0j5yLLOOw7a",
      "execution_count": 233,
      "outputs": [
        {
          "output_type": "display_data",
          "data": {
            "text/plain": [
              "\n",
              "\tDiebold-Mariano Test\n",
              "\n",
              "data:  e.ae.b\n",
              "DM = -19.359, Forecast horizon = 1, Loss function power = 2, p-value <\n",
              "2.2e-16\n",
              "alternative hypothesis: two.sided\n"
            ]
          },
          "metadata": {
            "tags": []
          }
        }
      ]
    },
    {
      "cell_type": "code",
      "metadata": {
        "colab": {
          "base_uri": "https://localhost:8080/",
          "height": 34
        },
        "id": "ciLg4NnOOywe",
        "outputId": "1302e1a0-daf7-4c7b-eecb-b1b538fd8be0"
      },
      "source": [
        "# Quasi-likelihood Loss Function For Volatility Forecasts - forecast a\n",
        "msgarch.qlike.a <- mean(LossVol(sigma.msgarch[,'sigma.msgarch.true'],\n",
        "                                sigma.msgarch[,'sigma.msgarch.pred.a'],\n",
        "                                which = \"QLIKE\"))\n",
        "round(msgarch.qlike.a, digits = 3)"
      ],
      "id": "ciLg4NnOOywe",
      "execution_count": 234,
      "outputs": [
        {
          "output_type": "display_data",
          "data": {
            "text/plain": [
              "[1] 1.522"
            ],
            "text/latex": "1.522",
            "text/markdown": "1.522",
            "text/html": [
              "1.522"
            ]
          },
          "metadata": {
            "tags": []
          }
        }
      ]
    },
    {
      "cell_type": "code",
      "metadata": {
        "colab": {
          "base_uri": "https://localhost:8080/",
          "height": 34
        },
        "id": "056kZTWaO0lh",
        "outputId": "d69c10e0-0b99-4521-c197-e784fb24d10c"
      },
      "source": [
        "# Quasi-likelihood Loss Function For Volatility Forecasts - forecast 1b\n",
        "msgarch.qlike.b <- mean(LossVol(sigma.msgarch[,'sigma.msgarch.true'],\n",
        "                                sigma.msgarch[,'sigma.msgarch.pred.b'],\n",
        "                                which = \"QLIKE\"))\n",
        "round(msgarch.qlike.b, digits = 3)"
      ],
      "id": "056kZTWaO0lh",
      "execution_count": 235,
      "outputs": [
        {
          "output_type": "display_data",
          "data": {
            "text/plain": [
              "[1] 1.587"
            ],
            "text/latex": "1.587",
            "text/markdown": "1.587",
            "text/html": [
              "1.587"
            ]
          },
          "metadata": {
            "tags": []
          }
        }
      ]
    },
    {
      "cell_type": "code",
      "metadata": {
        "colab": {
          "base_uri": "https://localhost:8080/",
          "height": 34
        },
        "id": "oB52pVTlBaui",
        "outputId": "a9b9356c-1f56-4c6d-e506-b395e5e0e672"
      },
      "source": [
        "# Log loss / Cross-Entropy Loss -  forecast a\n",
        "msgarch.logloss.a <- LogLoss(sigma.msgarch[,'sigma.msgarch.pred.a'],\n",
        "                             sigma.msgarch[,'sigma.msgarch.true'])\n",
        "round(msgarch.logloss.a, digits = 3)"
      ],
      "id": "oB52pVTlBaui",
      "execution_count": 236,
      "outputs": [
        {
          "output_type": "display_data",
          "data": {
            "text/plain": [
              "[1] -7.927"
            ],
            "text/latex": "-7.927",
            "text/markdown": "-7.927",
            "text/html": [
              "-7.927"
            ]
          },
          "metadata": {
            "tags": []
          }
        }
      ]
    },
    {
      "cell_type": "code",
      "metadata": {
        "colab": {
          "base_uri": "https://localhost:8080/",
          "height": 34
        },
        "id": "tKV7Ey6HBcAX",
        "outputId": "15f59255-9317-4e3f-bd4e-b0c2c35187fd"
      },
      "source": [
        "# Log loss / Cross-Entropy Loss -  forecast b\n",
        "msgarch.logloss.b <- LogLoss(sigma.msgarch[,'sigma.msgarch.pred.b'],\n",
        "                             sigma.msgarch[,'sigma.msgarch.true'])\n",
        "round(msgarch.logloss.b, digits = 3)"
      ],
      "id": "tKV7Ey6HBcAX",
      "execution_count": 237,
      "outputs": [
        {
          "output_type": "display_data",
          "data": {
            "text/plain": [
              "[1] -7.927"
            ],
            "text/latex": "-7.927",
            "text/markdown": "-7.927",
            "text/html": [
              "-7.927"
            ]
          },
          "metadata": {
            "tags": []
          }
        }
      ]
    },
    {
      "cell_type": "code",
      "metadata": {
        "colab": {
          "base_uri": "https://localhost:8080/",
          "height": 170
        },
        "id": "sOe2Un_QBdZx",
        "outputId": "6b7725cd-dc7f-433f-ace3-6794c1059953"
      },
      "source": [
        "# Linear regression to assess forecast performance - forecast a\n",
        "msgarch.model.a <- lm(sigma.msgarch.true ~ sigma.msgarch.pred.a,\n",
        "                      data = sigma.msgarch)\n",
        "round(coeftest(msgarch.model.a, NeweyWest(msgarch.model.a,\n",
        "                                          lag = bwNeweyWest(msgarch.model.a),\n",
        "                                          prewhite = F)), 3)\n",
        "round(summary(msgarch.model.a)$adj.r.squared, 3)"
      ],
      "id": "sOe2Un_QBdZx",
      "execution_count": 238,
      "outputs": [
        {
          "output_type": "display_data",
          "data": {
            "text/plain": [
              "\n",
              "t test of coefficients:\n",
              "\n",
              "                     Estimate Std. Error t value Pr(>|t|)  \n",
              "(Intercept)             3.277      1.564   2.096    0.036 *\n",
              "sigma.msgarch.pred.a   -1.580      1.195  -1.321    0.187  \n",
              "---\n",
              "Signif. codes:  0 ‘***’ 0.001 ‘**’ 0.01 ‘*’ 0.05 ‘.’ 0.1 ‘ ’ 1\n"
            ]
          },
          "metadata": {
            "tags": []
          }
        },
        {
          "output_type": "display_data",
          "data": {
            "text/plain": [
              "[1] 0.002"
            ],
            "text/latex": "0.002",
            "text/markdown": "0.002",
            "text/html": [
              "0.002"
            ]
          },
          "metadata": {
            "tags": []
          }
        }
      ]
    },
    {
      "cell_type": "code",
      "metadata": {
        "colab": {
          "base_uri": "https://localhost:8080/",
          "height": 170
        },
        "id": "e7KtdthFBfGJ",
        "outputId": "fb177a36-64c0-47d5-a70f-990789cf2fb9"
      },
      "source": [
        "# Linear regression to assess forecast performance - forecast b\n",
        "msgarch.model.b <- lm(sigma.msgarch.true ~ sigma.msgarch.pred.b,\n",
        "                      data = sigma.msgarch)\n",
        "round(coeftest(msgarch.model.b, NeweyWest(msgarch.model.b,\n",
        "                                          lag = bwNeweyWest(msgarch.model.b),\n",
        "                                          prewhite = F)), 3)\n",
        "round(summary(msgarch.model.b)$adj.r.squared, 3)"
      ],
      "id": "e7KtdthFBfGJ",
      "execution_count": 239,
      "outputs": [
        {
          "output_type": "display_data",
          "data": {
            "text/plain": [
              "\n",
              "t test of coefficients:\n",
              "\n",
              "                     Estimate Std. Error t value Pr(>|t|)    \n",
              "(Intercept)             2.110      0.418   5.049   <2e-16 ***\n",
              "sigma.msgarch.pred.b   -0.562      0.264  -2.127    0.034 *  \n",
              "---\n",
              "Signif. codes:  0 ‘***’ 0.001 ‘**’ 0.01 ‘*’ 0.05 ‘.’ 0.1 ‘ ’ 1\n"
            ]
          },
          "metadata": {
            "tags": []
          }
        },
        {
          "output_type": "display_data",
          "data": {
            "text/plain": [
              "[1] 0.006"
            ],
            "text/latex": "0.006",
            "text/markdown": "0.006",
            "text/html": [
              "0.006"
            ]
          },
          "metadata": {
            "tags": []
          }
        }
      ]
    },
    {
      "cell_type": "markdown",
      "metadata": {
        "id": "-78BTEGuzVds"
      },
      "source": [
        "##(b) MS EGARCH"
      ],
      "id": "-78BTEGuzVds"
    },
    {
      "cell_type": "markdown",
      "metadata": {
        "id": "u9TnzFICT7eZ"
      },
      "source": [
        "**Forecast**"
      ],
      "id": "u9TnzFICT7eZ"
    },
    {
      "cell_type": "code",
      "metadata": {
        "id": "dwUbBOwIUn4E"
      },
      "source": [
        "# Model Estimation - Maximum Likelihood Estimation\n",
        "msegarch.fit.pred.a <- FitML(msegarch.spec,\n",
        "                             data = N225.df$N225.Return)"
      ],
      "id": "dwUbBOwIUn4E",
      "execution_count": 240,
      "outputs": []
    },
    {
      "cell_type": "code",
      "metadata": {
        "id": "I7ro5gakUpWQ"
      },
      "source": [
        "# Model Estimation - MCMC/Bayesian estimation\n",
        "msegarch.fit.pred.b <- FitMCMC(msegarch.spec,\n",
        "                               data = N225.df$N225.Return)"
      ],
      "id": "I7ro5gakUpWQ",
      "execution_count": 241,
      "outputs": []
    },
    {
      "cell_type": "code",
      "metadata": {
        "id": "p6lPXY-eUqmn"
      },
      "source": [
        "# Forecast - Maximum Likelihood Estimation\n",
        "msegarch.pred.a <- predict(object = msegarch.fit.pred.a,\n",
        "                           nahead = dim(N225.df.out)[1],\n",
        "                           do.return.draw = TRUE)\n",
        "\n",
        "msegarch.forecast.a <- ts(msegarch.pred.a$vol)"
      ],
      "id": "p6lPXY-eUqmn",
      "execution_count": 242,
      "outputs": []
    },
    {
      "cell_type": "code",
      "metadata": {
        "id": "HV3tfTO5Ur-S"
      },
      "source": [
        "# Forecast - MCMC/Bayesian estimation\n",
        "msegarch.pred.b <- predict(object = msegarch.fit.pred.b,\n",
        "                          nahead = dim(N225.df.out)[1],\n",
        "                          do.return.draw = TRUE)\n",
        "\n",
        "msegarch.forecast.b <- ts(msegarch.pred.b$vol)"
      ],
      "id": "HV3tfTO5Ur-S",
      "execution_count": 243,
      "outputs": []
    },
    {
      "cell_type": "code",
      "metadata": {
        "colab": {
          "base_uri": "https://localhost:8080/",
          "height": 252
        },
        "id": "iCb5Lo59Uto6",
        "outputId": "8988ca04-e234-40e5-ea03-db7ca8226d79"
      },
      "source": [
        "# Comparative\n",
        "sigma.msegarch.pred.a <- msegarch.forecast.a\n",
        "sigma.msegarch.pred.b <- msegarch.forecast.b\n",
        "sigma.msegarch.true <- ts(N225.df.out[,'N225.VolMSEGARCH'])\n",
        "\n",
        "sigma.msegarch <- na.omit(cbind(sigma.msegarch.pred.a,\n",
        "                                sigma.msegarch.pred.b,\n",
        "                                sigma.msegarch.true))\n",
        "head(sigma.msegarch)"
      ],
      "id": "iCb5Lo59Uto6",
      "execution_count": 244,
      "outputs": [
        {
          "output_type": "display_data",
          "data": {
            "text/plain": [
              "  sigma.msegarch.pred.a sigma.msegarch.pred.b sigma.msegarch.true\n",
              "1 1.269972              1.219289              1.427323           \n",
              "2 1.297573              1.225671              1.494555           \n",
              "3 1.279447              1.297390              1.347157           \n",
              "4 1.323883              1.261604              1.280250           \n",
              "5 1.341018              1.296559              1.182133           \n",
              "6 1.343159              1.392639              1.081344           "
            ],
            "text/latex": "A Time Series: 6 × 3\n\\begin{tabular}{r|lll}\n  & sigma.msegarch.pred.a & sigma.msegarch.pred.b & sigma.msegarch.true\\\\\n\\hline\n\t1 & 1.269972 & 1.219289 & 1.427323\\\\\n\t2 & 1.297573 & 1.225671 & 1.494555\\\\\n\t3 & 1.279447 & 1.297390 & 1.347157\\\\\n\t4 & 1.323883 & 1.261604 & 1.280250\\\\\n\t5 & 1.341018 & 1.296559 & 1.182133\\\\\n\t6 & 1.343159 & 1.392639 & 1.081344\\\\\n\\end{tabular}\n",
            "text/markdown": "\nA Time Series: 6 × 3\n\n| <!--/--> | sigma.msegarch.pred.a | sigma.msegarch.pred.b | sigma.msegarch.true |\n|---|---|---|---|\n| 1 | 1.269972 | 1.219289 | 1.427323 |\n| 2 | 1.297573 | 1.225671 | 1.494555 |\n| 3 | 1.279447 | 1.297390 | 1.347157 |\n| 4 | 1.323883 | 1.261604 | 1.280250 |\n| 5 | 1.341018 | 1.296559 | 1.182133 |\n| 6 | 1.343159 | 1.392639 | 1.081344 |\n\n",
            "text/html": [
              "<table class=\"dataframe\">\n",
              "<caption>A Time Series: 6 × 3</caption>\n",
              "<thead>\n",
              "\t<tr><th></th><th scope=col>sigma.msegarch.pred.a</th><th scope=col>sigma.msegarch.pred.b</th><th scope=col>sigma.msegarch.true</th></tr>\n",
              "</thead>\n",
              "<tbody>\n",
              "\t<tr><th scope=row>1</th><td>1.269972</td><td>1.219289</td><td>1.427323</td></tr>\n",
              "\t<tr><th scope=row>2</th><td>1.297573</td><td>1.225671</td><td>1.494555</td></tr>\n",
              "\t<tr><th scope=row>3</th><td>1.279447</td><td>1.297390</td><td>1.347157</td></tr>\n",
              "\t<tr><th scope=row>4</th><td>1.323883</td><td>1.261604</td><td>1.280250</td></tr>\n",
              "\t<tr><th scope=row>5</th><td>1.341018</td><td>1.296559</td><td>1.182133</td></tr>\n",
              "\t<tr><th scope=row>6</th><td>1.343159</td><td>1.392639</td><td>1.081344</td></tr>\n",
              "</tbody>\n",
              "</table>\n"
            ]
          },
          "metadata": {
            "tags": []
          }
        }
      ]
    },
    {
      "cell_type": "markdown",
      "metadata": {
        "id": "GzhnWJGgUvIS"
      },
      "source": [
        "**Performance evaluation**"
      ],
      "id": "GzhnWJGgUvIS"
    },
    {
      "cell_type": "code",
      "metadata": {
        "colab": {
          "base_uri": "https://localhost:8080/",
          "height": 51
        },
        "id": "POjtagN9Vgf1",
        "outputId": "3d566ac3-5c81-4334-8b25-ab9b1cbdf115"
      },
      "source": [
        "# Forecast Error - Forecast a\n",
        "msegarch.error.a <- sigma.msegarch[,'sigma.msegarch.pred.a'] - sigma.msegarch[,'sigma.msegarch.true']\n",
        "head(msegarch.error.a)"
      ],
      "id": "POjtagN9Vgf1",
      "execution_count": 245,
      "outputs": [
        {
          "output_type": "display_data",
          "data": {
            "text/plain": [
              "A Time Series:\n",
              "[1] -0.15735099 -0.19698237 -0.06770955  0.04363291  0.15888487  0.26181555"
            ],
            "text/latex": "A Time Series:\\\\\\begin{enumerate*}\n\\item -0.15735099382666\n\\item -0.196982365297238\n\\item -0.0677095547219377\n\\item 0.0436329078530899\n\\item 0.158884865545958\n\\item 0.261815552359062\n\\end{enumerate*}\n",
            "text/markdown": "A Time Series:  \n1. -0.15735099382666\n2. -0.196982365297238\n3. -0.0677095547219377\n4. 0.0436329078530899\n5. 0.158884865545958\n6. 0.261815552359062\n\n\n",
            "text/html": [
              "A Time Series:<br><style>\n",
              ".list-inline {list-style: none; margin:0; padding: 0}\n",
              ".list-inline>li {display: inline-block}\n",
              ".list-inline>li:not(:last-child)::after {content: \"\\00b7\"; padding: 0 .5ex}\n",
              "</style>\n",
              "<ol class=list-inline><li>-0.15735099382666</li><li>-0.196982365297238</li><li>-0.0677095547219377</li><li>0.0436329078530899</li><li>0.158884865545958</li><li>0.261815552359062</li></ol>\n"
            ]
          },
          "metadata": {
            "tags": []
          }
        }
      ]
    },
    {
      "cell_type": "code",
      "metadata": {
        "colab": {
          "base_uri": "https://localhost:8080/",
          "height": 51
        },
        "id": "qXxb9AZoViK5",
        "outputId": "edb5df3c-db5e-4a2c-c6f7-d44b0da1ec82"
      },
      "source": [
        "# Forecast Error - Forecast b\n",
        "msegarch.error.b <- sigma.msegarch[,'sigma.msegarch.pred.b'] - sigma.msegarch[,'sigma.msegarch.true']\n",
        "head(msegarch.error.b)"
      ],
      "id": "qXxb9AZoViK5",
      "execution_count": 246,
      "outputs": [
        {
          "output_type": "display_data",
          "data": {
            "text/plain": [
              "A Time Series:\n",
              "[1] -0.20803386 -0.26888442 -0.04976617 -0.01864555  0.11442615  0.31129547"
            ],
            "text/latex": "A Time Series:\\\\\\begin{enumerate*}\n\\item -0.208033855095132\n\\item -0.268884419215592\n\\item -0.0497661694538796\n\\item -0.0186455488948927\n\\item 0.114426145184406\n\\item 0.311295473858235\n\\end{enumerate*}\n",
            "text/markdown": "A Time Series:  \n1. -0.208033855095132\n2. -0.268884419215592\n3. -0.0497661694538796\n4. -0.0186455488948927\n5. 0.114426145184406\n6. 0.311295473858235\n\n\n",
            "text/html": [
              "A Time Series:<br><style>\n",
              ".list-inline {list-style: none; margin:0; padding: 0}\n",
              ".list-inline>li {display: inline-block}\n",
              ".list-inline>li:not(:last-child)::after {content: \"\\00b7\"; padding: 0 .5ex}\n",
              "</style>\n",
              "<ol class=list-inline><li>-0.208033855095132</li><li>-0.268884419215592</li><li>-0.0497661694538796</li><li>-0.0186455488948927</li><li>0.114426145184406</li><li>0.311295473858235</li></ol>\n"
            ]
          },
          "metadata": {
            "tags": []
          }
        }
      ]
    },
    {
      "cell_type": "code",
      "metadata": {
        "colab": {
          "base_uri": "https://localhost:8080/",
          "height": 34
        },
        "id": "7Ym-Je0xVjsX",
        "outputId": "fcbf6c8d-b1ed-4187-d2e9-f3a8b90784d4"
      },
      "source": [
        "# Mean Square Error Loss - Forecast a\n",
        "msegarch.mse.a <- MSE(sigma.msegarch[,'sigma.msegarch.pred.a'],\n",
        "                      sigma.msegarch[,'sigma.msegarch.true'])\n",
        "round(msegarch.mse.a, digits = 3)"
      ],
      "id": "7Ym-Je0xVjsX",
      "execution_count": 247,
      "outputs": [
        {
          "output_type": "display_data",
          "data": {
            "text/plain": [
              "[1] 0.329"
            ],
            "text/latex": "0.329",
            "text/markdown": "0.329",
            "text/html": [
              "0.329"
            ]
          },
          "metadata": {
            "tags": []
          }
        }
      ]
    },
    {
      "cell_type": "code",
      "metadata": {
        "colab": {
          "base_uri": "https://localhost:8080/",
          "height": 34
        },
        "id": "kDMt40y6VlED",
        "outputId": "7f6c1733-daab-4e8f-9a98-e0b1920cbb50"
      },
      "source": [
        "# Mean Square Error Loss - Forecast b\n",
        "msegarch.mse.b <- MSE(sigma.msegarch[,'sigma.msegarch.pred.b'],\n",
        "                      sigma.msegarch[,'sigma.msegarch.true'])\n",
        "round(msegarch.mse.b, digits = 3)"
      ],
      "id": "kDMt40y6VlED",
      "execution_count": 248,
      "outputs": [
        {
          "output_type": "display_data",
          "data": {
            "text/plain": [
              "[1] 0.315"
            ],
            "text/latex": "0.315",
            "text/markdown": "0.315",
            "text/html": [
              "0.315"
            ]
          },
          "metadata": {
            "tags": []
          }
        }
      ]
    },
    {
      "cell_type": "code",
      "metadata": {
        "colab": {
          "base_uri": "https://localhost:8080/",
          "height": 34
        },
        "id": "KuTJjVuQVmfI",
        "outputId": "0cf16a56-d0fc-4b21-c345-8121dfb3a585"
      },
      "source": [
        "# Mean Absolute Error Loss - Forecast a\n",
        "msegarch.mae.a <- MAE(sigma.msegarch[,'sigma.msegarch.pred.a'],\n",
        "                      sigma.msegarch[,'sigma.msegarch.true'])\n",
        "round(msegarch.mae.a, digits = 3)"
      ],
      "id": "KuTJjVuQVmfI",
      "execution_count": 249,
      "outputs": [
        {
          "output_type": "display_data",
          "data": {
            "text/plain": [
              "[1] 0.493"
            ],
            "text/latex": "0.493",
            "text/markdown": "0.493",
            "text/html": [
              "0.493"
            ]
          },
          "metadata": {
            "tags": []
          }
        }
      ]
    },
    {
      "cell_type": "code",
      "metadata": {
        "colab": {
          "base_uri": "https://localhost:8080/",
          "height": 34
        },
        "id": "mhBHKzaRVoAs",
        "outputId": "b7e87a40-1b90-4f43-834d-91d914c99b7e"
      },
      "source": [
        "# Mean Absolute Error Loss - Forecast b\n",
        "msegarch.mae.b <- MAE(sigma.msegarch[,'sigma.msegarch.pred.b'],\n",
        "                      sigma.msegarch[,'sigma.msegarch.true'])\n",
        "round(msegarch.mae.b, digits = 3)"
      ],
      "id": "mhBHKzaRVoAs",
      "execution_count": 250,
      "outputs": [
        {
          "output_type": "display_data",
          "data": {
            "text/plain": [
              "[1] 0.476"
            ],
            "text/latex": "0.476",
            "text/markdown": "0.476",
            "text/html": [
              "0.476"
            ]
          },
          "metadata": {
            "tags": []
          }
        }
      ]
    },
    {
      "cell_type": "code",
      "metadata": {
        "colab": {
          "base_uri": "https://localhost:8080/",
          "height": 34
        },
        "id": "iwaAxe-iVpPE",
        "outputId": "019f8578-9918-4c61-9069-b43f8d181700"
      },
      "source": [
        "# Root Mean Square Error Loss - Forecast a\n",
        "msegarch.rmse.a <- RMSE(sigma.msegarch[,'sigma.msegarch.pred.a'],\n",
        "                        sigma.msegarch[,'sigma.msegarch.true'])\n",
        "round(msegarch.rmse.a, digits = 3)"
      ],
      "id": "iwaAxe-iVpPE",
      "execution_count": 251,
      "outputs": [
        {
          "output_type": "display_data",
          "data": {
            "text/plain": [
              "[1] 0.573"
            ],
            "text/latex": "0.573",
            "text/markdown": "0.573",
            "text/html": [
              "0.573"
            ]
          },
          "metadata": {
            "tags": []
          }
        }
      ]
    },
    {
      "cell_type": "code",
      "metadata": {
        "colab": {
          "base_uri": "https://localhost:8080/",
          "height": 34
        },
        "id": "yHKTx3GjVrU4",
        "outputId": "323c3f33-bd0b-4da2-b1fa-6f3d614999d7"
      },
      "source": [
        "# Root Mean Square Error Loss - Forecast b\n",
        "msegarch.rmse.b <- RMSE(sigma.msegarch[,'sigma.msegarch.pred.b'],\n",
        "                        sigma.msegarch[,'sigma.msegarch.true'])\n",
        "round(msegarch.rmse.b, digits = 3)"
      ],
      "id": "yHKTx3GjVrU4",
      "execution_count": 252,
      "outputs": [
        {
          "output_type": "display_data",
          "data": {
            "text/plain": [
              "[1] 0.562"
            ],
            "text/latex": "0.562",
            "text/markdown": "0.562",
            "text/html": [
              "0.562"
            ]
          },
          "metadata": {
            "tags": []
          }
        }
      ]
    },
    {
      "cell_type": "code",
      "metadata": {
        "colab": {
          "base_uri": "https://localhost:8080/",
          "height": 34
        },
        "id": "q0z0yjuZVtNf",
        "outputId": "ec0205cc-6a86-45bf-cfec-6b26dcbd63b3"
      },
      "source": [
        "# Quasi-likelihood loss function - forecast a\n",
        "h <- sigma.msegarch[,'sigma.msegarch.true']\n",
        "\n",
        "h.hat.a <- sigma.msegarch[,'sigma.msegarch.pred.a']     \n",
        "msegarch.qlike.a <- mean(log(sqrt(h)) + h.hat.a/sqrt(h))\n",
        "round(msegarch.qlike.a, digits = 5)"
      ],
      "id": "q0z0yjuZVtNf",
      "execution_count": 253,
      "outputs": [
        {
          "output_type": "display_data",
          "data": {
            "text/plain": [
              "[1] 1.50488"
            ],
            "text/latex": "1.50488",
            "text/markdown": "1.50488",
            "text/html": [
              "1.50488"
            ]
          },
          "metadata": {
            "tags": []
          }
        }
      ]
    },
    {
      "cell_type": "code",
      "metadata": {
        "colab": {
          "base_uri": "https://localhost:8080/",
          "height": 34
        },
        "id": "Jr_3YbHMVuw6",
        "outputId": "1ac79e44-215d-4186-c01f-8cd7ebda7106"
      },
      "source": [
        "# Quasi-likelihood loss function - forecast b\n",
        "h.hat.b <- sigma.msegarch[,'sigma.msegarch.pred.b']\n",
        "msegarch.qlike.b <- mean(log(sqrt(h)) + h.hat.b/sqrt(h))\n",
        "round(msegarch.qlike.b, digits = 5)"
      ],
      "id": "Jr_3YbHMVuw6",
      "execution_count": 254,
      "outputs": [
        {
          "output_type": "display_data",
          "data": {
            "text/plain": [
              "[1] 1.46938"
            ],
            "text/latex": "1.46938",
            "text/markdown": "1.46938",
            "text/html": [
              "1.46938"
            ]
          },
          "metadata": {
            "tags": []
          }
        }
      ]
    },
    {
      "cell_type": "code",
      "metadata": {
        "colab": {
          "base_uri": "https://localhost:8080/",
          "height": 119
        },
        "id": "ulWlwNktVwfY",
        "outputId": "d114c777-fce7-47bd-fd3b-505f701c44e0"
      },
      "source": [
        "# Diebold-Mariano Test (accuracy test) - test 1\n",
        "f.a <- sigma.msegarch[,'sigma.msegarch.pred.a']\n",
        "f.b <- sigma.msegarch[,'sigma.msegarch.pred.b']\n",
        "y <- sigma.msegarch[,'sigma.msegarch.true']\n",
        "\n",
        "DM.test(f.a, f.b, y, loss.type = \"SE\", c = FALSE, H1 = \"same\")"
      ],
      "id": "ulWlwNktVwfY",
      "execution_count": 255,
      "outputs": [
        {
          "output_type": "display_data",
          "data": {
            "text/plain": [
              "\n",
              "\tDiebold-Mariano test\n",
              "\n",
              "data:  f.a and f.b and y\n",
              "statistic = 4.1766, forecast horizon = 1, p-value = 2.959e-05\n",
              "alternative hypothesis: Forecast f1 and f2 have different accuracy.\n"
            ]
          },
          "metadata": {
            "tags": []
          }
        }
      ]
    },
    {
      "cell_type": "code",
      "metadata": {
        "colab": {
          "base_uri": "https://localhost:8080/",
          "height": 136
        },
        "id": "MmdmO3tAVxyS",
        "outputId": "d637d415-64b3-4ddd-b9aa-9e06448661a6"
      },
      "source": [
        "# Diebold-Mariano test for predictive accuracy - test 2\n",
        "e.a <- msegarch.error.a\n",
        "e.b <- msegarch.error.b\n",
        "\n",
        "dm.test(e.a, e.b, alternative = \"two.sided\", h = 1, power = 2)"
      ],
      "id": "MmdmO3tAVxyS",
      "execution_count": 256,
      "outputs": [
        {
          "output_type": "display_data",
          "data": {
            "text/plain": [
              "\n",
              "\tDiebold-Mariano Test\n",
              "\n",
              "data:  e.ae.b\n",
              "DM = 4.173, Forecast horizon = 1, Loss function power = 2, p-value =\n",
              "3.46e-05\n",
              "alternative hypothesis: two.sided\n"
            ]
          },
          "metadata": {
            "tags": []
          }
        }
      ]
    },
    {
      "cell_type": "code",
      "metadata": {
        "colab": {
          "base_uri": "https://localhost:8080/",
          "height": 34
        },
        "id": "5d-xsUBTV1FG",
        "outputId": "cd1c64e5-5afe-4e0b-90d9-e85d2e4357ce"
      },
      "source": [
        "# Quasi-likelihood Loss Function For Volatility Forecasts - forecast a\n",
        "msegarch.qlike.a <- mean(LossVol(sigma.msegarch[,'sigma.msegarch.true'],\n",
        "                                 sigma.msegarch[,'sigma.msegarch.pred.a'],\n",
        "                                 which = \"QLIKE\"))\n",
        "round(msegarch.qlike.a, digits = 3)"
      ],
      "id": "5d-xsUBTV1FG",
      "execution_count": 257,
      "outputs": [
        {
          "output_type": "display_data",
          "data": {
            "text/plain": [
              "[1] 1.707"
            ],
            "text/latex": "1.707",
            "text/markdown": "1.707",
            "text/html": [
              "1.707"
            ]
          },
          "metadata": {
            "tags": []
          }
        }
      ]
    },
    {
      "cell_type": "code",
      "metadata": {
        "colab": {
          "base_uri": "https://localhost:8080/",
          "height": 34
        },
        "id": "h5IP8nAUV5un",
        "outputId": "a0e9aad7-7795-4ebd-907e-1b1dd0da997a"
      },
      "source": [
        "# Quasi-likelihood Loss Function For Volatility Forecasts - forecast 1b\n",
        "msegarch.qlike.b <- mean(LossVol(sigma.msegarch[,'sigma.msegarch.true'],\n",
        "                                 sigma.msegarch[,'sigma.msegarch.pred.b'],\n",
        "                                 which = \"QLIKE\"))\n",
        "round(msegarch.qlike.b, digits = 3)"
      ],
      "id": "h5IP8nAUV5un",
      "execution_count": 258,
      "outputs": [
        {
          "output_type": "display_data",
          "data": {
            "text/plain": [
              "[1] 1.703"
            ],
            "text/latex": "1.703",
            "text/markdown": "1.703",
            "text/html": [
              "1.703"
            ]
          },
          "metadata": {
            "tags": []
          }
        }
      ]
    },
    {
      "cell_type": "code",
      "metadata": {
        "colab": {
          "base_uri": "https://localhost:8080/",
          "height": 34
        },
        "id": "3WbEUHjtV7yw",
        "outputId": "2353a01d-5ca0-4c96-81f9-351d6b3afcae"
      },
      "source": [
        "# Log loss / Cross-Entropy Loss -  forecast a\n",
        "msegarch.logloss.a <- LogLoss(sigma.msegarch[,'sigma.msegarch.pred.a'],\n",
        "                              sigma.msegarch[,'sigma.msegarch.true'])\n",
        "round(msegarch.logloss.a, digits = 3)"
      ],
      "id": "3WbEUHjtV7yw",
      "execution_count": 259,
      "outputs": [
        {
          "output_type": "display_data",
          "data": {
            "text/plain": [
              "[1] -10.83"
            ],
            "text/latex": "-10.83",
            "text/markdown": "-10.83",
            "text/html": [
              "-10.83"
            ]
          },
          "metadata": {
            "tags": []
          }
        }
      ]
    },
    {
      "cell_type": "code",
      "metadata": {
        "colab": {
          "base_uri": "https://localhost:8080/",
          "height": 34
        },
        "id": "nGKcE1e7V9na",
        "outputId": "e0548f1d-89d4-4699-97a0-ad3e58b8144b"
      },
      "source": [
        "# Log loss / Cross-Entropy Loss -  forecast b\n",
        "msegarch.logloss.b <- LogLoss(sigma.msegarch[,'sigma.msegarch.pred.b'],\n",
        "                              sigma.msegarch[,'sigma.msegarch.true'])\n",
        "round(msegarch.logloss.b, digits = 3)"
      ],
      "id": "nGKcE1e7V9na",
      "execution_count": 260,
      "outputs": [
        {
          "output_type": "display_data",
          "data": {
            "text/plain": [
              "[1] -10.83"
            ],
            "text/latex": "-10.83",
            "text/markdown": "-10.83",
            "text/html": [
              "-10.83"
            ]
          },
          "metadata": {
            "tags": []
          }
        }
      ]
    },
    {
      "cell_type": "code",
      "metadata": {
        "colab": {
          "base_uri": "https://localhost:8080/",
          "height": 136
        },
        "id": "fEdw4L4JWDnH",
        "outputId": "fbee05ba-20d4-49aa-de15-08acc8145bb6"
      },
      "source": [
        "# Linear regression to assess forecast performance - forecast a\n",
        "msegarch.model.a <- lm(sigma.msegarch.true ~ sigma.msegarch.pred.a,\n",
        "                       data = sigma.msegarch)\n",
        "round(coeftest(msegarch.model.a, NeweyWest(msegarch.model.a,\n",
        "                                           lag = bwNeweyWest(msegarch.model.a),\n",
        "                                           prewhite = F)), 3)\n",
        "round(summary(msegarch.model.a)$adj.r.squared, 3)"
      ],
      "id": "fEdw4L4JWDnH",
      "execution_count": 261,
      "outputs": [
        {
          "output_type": "display_data",
          "data": {
            "text/plain": [
              "\n",
              "t test of coefficients:\n",
              "\n",
              "                      Estimate Std. Error t value Pr(>|t|)\n",
              "(Intercept)              0.743      0.715   1.039    0.299\n",
              "sigma.msegarch.pred.a    0.373      0.478   0.781    0.435\n"
            ]
          },
          "metadata": {
            "tags": []
          }
        },
        {
          "output_type": "display_data",
          "data": {
            "text/plain": [
              "[1] -0.001"
            ],
            "text/latex": "-0.001",
            "text/markdown": "-0.001",
            "text/html": [
              "-0.001"
            ]
          },
          "metadata": {
            "tags": []
          }
        }
      ]
    },
    {
      "cell_type": "code",
      "metadata": {
        "colab": {
          "base_uri": "https://localhost:8080/",
          "height": 136
        },
        "id": "U7IDUvRJWFVX",
        "outputId": "55630996-150a-4fb3-cf44-dfb53fb9a76d"
      },
      "source": [
        "# Linear regression to assess forecast performance - forecast b\n",
        "msegarch.model.b <- lm(sigma.msegarch.true ~ sigma.msegarch.pred.b,\n",
        "                       data = sigma.msegarch)\n",
        "round(coeftest(msegarch.model.b, NeweyWest(msegarch.model.b,\n",
        "                                           lag = bwNeweyWest(msegarch.model.b),\n",
        "                                           prewhite = F)), 3)\n",
        "round(summary(msegarch.model.b)$adj.r.squared, 3)"
      ],
      "id": "U7IDUvRJWFVX",
      "execution_count": 262,
      "outputs": [
        {
          "output_type": "display_data",
          "data": {
            "text/plain": [
              "\n",
              "t test of coefficients:\n",
              "\n",
              "                      Estimate Std. Error t value Pr(>|t|)\n",
              "(Intercept)              0.990      0.672   1.473    0.141\n",
              "sigma.msegarch.pred.b    0.218      0.454   0.480    0.632\n"
            ]
          },
          "metadata": {
            "tags": []
          }
        },
        {
          "output_type": "display_data",
          "data": {
            "text/plain": [
              "[1] -0.001"
            ],
            "text/latex": "-0.001",
            "text/markdown": "-0.001",
            "text/html": [
              "-0.001"
            ]
          },
          "metadata": {
            "tags": []
          }
        }
      ]
    },
    {
      "cell_type": "markdown",
      "metadata": {
        "id": "nB7uBx88zXd1"
      },
      "source": [
        "##(c) MS GJR-GARCH"
      ],
      "id": "nB7uBx88zXd1"
    },
    {
      "cell_type": "markdown",
      "metadata": {
        "id": "l3JW-GeRT-W3"
      },
      "source": [
        "**Forecast**"
      ],
      "id": "l3JW-GeRT-W3"
    },
    {
      "cell_type": "code",
      "metadata": {
        "id": "CQ6gLJ8xqn77"
      },
      "source": [
        "# Model Estimation - Maximum Likelihood Estimation\n",
        "msgjrgarch.fit.pred.a <- FitML(msgjrgarch.spec,\n",
        "                                data = N225.df$N225.Return)"
      ],
      "id": "CQ6gLJ8xqn77",
      "execution_count": 263,
      "outputs": []
    },
    {
      "cell_type": "code",
      "metadata": {
        "id": "uk7xwCe0qqa8"
      },
      "source": [
        "# Model Estimation - MCMC/Bayesian estimation\n",
        "msgjrgarch.fit.pred.b <- FitMCMC(msgjrgarch.spec,\n",
        "                                 data = N225.df$N225.Return)"
      ],
      "id": "uk7xwCe0qqa8",
      "execution_count": 264,
      "outputs": []
    },
    {
      "cell_type": "code",
      "metadata": {
        "id": "taC2gBX_qroa"
      },
      "source": [
        "# Forecast - Maximum Likelihood Estimation\n",
        "msgjrgarch.pred.a <- predict(object = msgjrgarch.fit.pred.a,\n",
        "                            nahead = dim(N225.df.out)[1],\n",
        "                            do.return.draw = TRUE)\n",
        "\n",
        "msgjrgarch.forecast.a <- ts(msgjrgarch.pred.a$vol)"
      ],
      "id": "taC2gBX_qroa",
      "execution_count": 265,
      "outputs": []
    },
    {
      "cell_type": "code",
      "metadata": {
        "id": "DvFhQsItqtQ4"
      },
      "source": [
        "# Forecast - MCMC/Bayesian estimation\n",
        "msgjrgarch.pred.b <- predict(object = msgjrgarch.fit.pred.b,\n",
        "                            nahead = dim(N225.df.out)[1],\n",
        "                            do.return.draw = TRUE)\n",
        "\n",
        "msgjrgarch.forecast.b <- ts(msgjrgarch.pred.b$vol)"
      ],
      "id": "DvFhQsItqtQ4",
      "execution_count": 266,
      "outputs": []
    },
    {
      "cell_type": "code",
      "metadata": {
        "colab": {
          "base_uri": "https://localhost:8080/",
          "height": 252
        },
        "id": "jT24kG0tquux",
        "outputId": "17436043-d9ed-4bdd-96f7-73d8ff86d6e0"
      },
      "source": [
        "# Comparative\n",
        "sigma.msgjrgarch.pred.a <- msgjrgarch.forecast.a\n",
        "sigma.msgjrgarch.pred.b <- msgjrgarch.forecast.b\n",
        "sigma.msgjrgarch.true <- ts(N225.df.out[,'N225.VolMSGJRGARCH'])\n",
        "\n",
        "sigma.msgjrgarch <- na.omit(cbind(sigma.msgjrgarch.pred.a,\n",
        "                                  sigma.msgjrgarch.pred.b,\n",
        "                                  sigma.msgjrgarch.true))\n",
        "head(sigma.msgjrgarch)"
      ],
      "id": "jT24kG0tquux",
      "execution_count": 267,
      "outputs": [
        {
          "output_type": "display_data",
          "data": {
            "text/plain": [
              "  sigma.msgjrgarch.pred.a sigma.msgjrgarch.pred.b sigma.msgjrgarch.true\n",
              "1 1.239661                1.284223                1.439692             \n",
              "2 1.252055                1.287631                1.403150             \n",
              "3 1.253804                1.276483                1.343261             \n",
              "4 1.287213                1.264505                1.279790             \n",
              "5 1.293299                1.326934                1.247217             \n",
              "6 1.308386                1.373625                1.192845             "
            ],
            "text/latex": "A Time Series: 6 × 3\n\\begin{tabular}{r|lll}\n  & sigma.msgjrgarch.pred.a & sigma.msgjrgarch.pred.b & sigma.msgjrgarch.true\\\\\n\\hline\n\t1 & 1.239661 & 1.284223 & 1.439692\\\\\n\t2 & 1.252055 & 1.287631 & 1.403150\\\\\n\t3 & 1.253804 & 1.276483 & 1.343261\\\\\n\t4 & 1.287213 & 1.264505 & 1.279790\\\\\n\t5 & 1.293299 & 1.326934 & 1.247217\\\\\n\t6 & 1.308386 & 1.373625 & 1.192845\\\\\n\\end{tabular}\n",
            "text/markdown": "\nA Time Series: 6 × 3\n\n| <!--/--> | sigma.msgjrgarch.pred.a | sigma.msgjrgarch.pred.b | sigma.msgjrgarch.true |\n|---|---|---|---|\n| 1 | 1.239661 | 1.284223 | 1.439692 |\n| 2 | 1.252055 | 1.287631 | 1.403150 |\n| 3 | 1.253804 | 1.276483 | 1.343261 |\n| 4 | 1.287213 | 1.264505 | 1.279790 |\n| 5 | 1.293299 | 1.326934 | 1.247217 |\n| 6 | 1.308386 | 1.373625 | 1.192845 |\n\n",
            "text/html": [
              "<table class=\"dataframe\">\n",
              "<caption>A Time Series: 6 × 3</caption>\n",
              "<thead>\n",
              "\t<tr><th></th><th scope=col>sigma.msgjrgarch.pred.a</th><th scope=col>sigma.msgjrgarch.pred.b</th><th scope=col>sigma.msgjrgarch.true</th></tr>\n",
              "</thead>\n",
              "<tbody>\n",
              "\t<tr><th scope=row>1</th><td>1.239661</td><td>1.284223</td><td>1.439692</td></tr>\n",
              "\t<tr><th scope=row>2</th><td>1.252055</td><td>1.287631</td><td>1.403150</td></tr>\n",
              "\t<tr><th scope=row>3</th><td>1.253804</td><td>1.276483</td><td>1.343261</td></tr>\n",
              "\t<tr><th scope=row>4</th><td>1.287213</td><td>1.264505</td><td>1.279790</td></tr>\n",
              "\t<tr><th scope=row>5</th><td>1.293299</td><td>1.326934</td><td>1.247217</td></tr>\n",
              "\t<tr><th scope=row>6</th><td>1.308386</td><td>1.373625</td><td>1.192845</td></tr>\n",
              "</tbody>\n",
              "</table>\n"
            ]
          },
          "metadata": {
            "tags": []
          }
        }
      ]
    },
    {
      "cell_type": "markdown",
      "metadata": {
        "id": "JuI4MGEVqxUD"
      },
      "source": [
        "**Performance evaluation**"
      ],
      "id": "JuI4MGEVqxUD"
    },
    {
      "cell_type": "code",
      "metadata": {
        "colab": {
          "base_uri": "https://localhost:8080/",
          "height": 51
        },
        "id": "lXsnouifqzNK",
        "outputId": "bc45bd57-617d-43b3-e757-a474c601924e"
      },
      "source": [
        "# Forecast Error - Forecast a\n",
        "msgjrgarch.error.a <- sigma.msgjrgarch[,'sigma.msgjrgarch.pred.a'] - sigma.msgjrgarch[,'sigma.msgjrgarch.true']\n",
        "head(msgjrgarch.error.a)"
      ],
      "id": "lXsnouifqzNK",
      "execution_count": 268,
      "outputs": [
        {
          "output_type": "display_data",
          "data": {
            "text/plain": [
              "A Time Series:\n",
              "[1] -0.200031385 -0.151094513 -0.089457027  0.007422769  0.046081900\n",
              "[6]  0.115540965"
            ],
            "text/latex": "A Time Series:\\\\\\begin{enumerate*}\n\\item -0.200031384939887\n\\item -0.15109451309315\n\\item -0.0894570266728283\n\\item 0.00742276852333346\n\\item 0.0460818995787489\n\\item 0.11554096457529\n\\end{enumerate*}\n",
            "text/markdown": "A Time Series:  \n1. -0.200031384939887\n2. -0.15109451309315\n3. -0.0894570266728283\n4. 0.00742276852333346\n5. 0.0460818995787489\n6. 0.11554096457529\n\n\n",
            "text/html": [
              "A Time Series:<br><style>\n",
              ".list-inline {list-style: none; margin:0; padding: 0}\n",
              ".list-inline>li {display: inline-block}\n",
              ".list-inline>li:not(:last-child)::after {content: \"\\00b7\"; padding: 0 .5ex}\n",
              "</style>\n",
              "<ol class=list-inline><li>-0.200031384939887</li><li>-0.15109451309315</li><li>-0.0894570266728283</li><li>0.00742276852333346</li><li>0.0460818995787489</li><li>0.11554096457529</li></ol>\n"
            ]
          },
          "metadata": {
            "tags": []
          }
        }
      ]
    },
    {
      "cell_type": "code",
      "metadata": {
        "colab": {
          "base_uri": "https://localhost:8080/",
          "height": 51
        },
        "id": "G-it0c-8q0qO",
        "outputId": "ea1b4926-fda2-44bf-8e9c-a58e83010dc7"
      },
      "source": [
        "# Forecast Error - Forecast b\n",
        "msgjrgarch.error.b <- sigma.msgjrgarch[,'sigma.msgjrgarch.pred.b'] - sigma.msgjrgarch[,'sigma.msgjrgarch.true']\n",
        "head(msgjrgarch.error.b)"
      ],
      "id": "G-it0c-8q0qO",
      "execution_count": 269,
      "outputs": [
        {
          "output_type": "display_data",
          "data": {
            "text/plain": [
              "A Time Series:\n",
              "[1] -0.15546946 -0.11551919 -0.06677782 -0.01528584  0.07971710  0.18077956"
            ],
            "text/latex": "A Time Series:\\\\\\begin{enumerate*}\n\\item -0.155469456549835\n\\item -0.115519191186743\n\\item -0.0667778229408706\n\\item -0.0152858403155358\n\\item 0.0797171003888033\n\\item 0.180779563163317\n\\end{enumerate*}\n",
            "text/markdown": "A Time Series:  \n1. -0.155469456549835\n2. -0.115519191186743\n3. -0.0667778229408706\n4. -0.0152858403155358\n5. 0.0797171003888033\n6. 0.180779563163317\n\n\n",
            "text/html": [
              "A Time Series:<br><style>\n",
              ".list-inline {list-style: none; margin:0; padding: 0}\n",
              ".list-inline>li {display: inline-block}\n",
              ".list-inline>li:not(:last-child)::after {content: \"\\00b7\"; padding: 0 .5ex}\n",
              "</style>\n",
              "<ol class=list-inline><li>-0.155469456549835</li><li>-0.115519191186743</li><li>-0.0667778229408706</li><li>-0.0152858403155358</li><li>0.0797171003888033</li><li>0.180779563163317</li></ol>\n"
            ]
          },
          "metadata": {
            "tags": []
          }
        }
      ]
    },
    {
      "cell_type": "code",
      "metadata": {
        "colab": {
          "base_uri": "https://localhost:8080/",
          "height": 34
        },
        "id": "vpi9_7Ozq2YF",
        "outputId": "b034da71-acda-4930-966d-2bb7b8eff341"
      },
      "source": [
        "# Mean Square Error Loss - Forecast a\n",
        "msgjrgarch.mse.a <- MSE(sigma.msgjrgarch[,'sigma.msgjrgarch.pred.a'],\n",
        "                        sigma.msgjrgarch[,'sigma.msgjrgarch.true'])\n",
        "round(msgjrgarch.mse.a, digits = 3)"
      ],
      "id": "vpi9_7Ozq2YF",
      "execution_count": 270,
      "outputs": [
        {
          "output_type": "display_data",
          "data": {
            "text/plain": [
              "[1] 0.301"
            ],
            "text/latex": "0.301",
            "text/markdown": "0.301",
            "text/html": [
              "0.301"
            ]
          },
          "metadata": {
            "tags": []
          }
        }
      ]
    },
    {
      "cell_type": "code",
      "metadata": {
        "colab": {
          "base_uri": "https://localhost:8080/",
          "height": 34
        },
        "id": "BmG7UUNUq3pM",
        "outputId": "9865c296-8e5a-4a1f-a3ea-f2beae4bc6cc"
      },
      "source": [
        "# Mean Square Error Loss - Forecast b\n",
        "msgjrgarch.mse.b <- MSE(sigma.msgjrgarch[,'sigma.msgjrgarch.pred.b'],\n",
        "                        sigma.msgjrgarch[,'sigma.msgjrgarch.true'])\n",
        "round(msgjrgarch.mse.b, digits = 3)"
      ],
      "id": "BmG7UUNUq3pM",
      "execution_count": 271,
      "outputs": [
        {
          "output_type": "display_data",
          "data": {
            "text/plain": [
              "[1] 0.347"
            ],
            "text/latex": "0.347",
            "text/markdown": "0.347",
            "text/html": [
              "0.347"
            ]
          },
          "metadata": {
            "tags": []
          }
        }
      ]
    },
    {
      "cell_type": "code",
      "metadata": {
        "colab": {
          "base_uri": "https://localhost:8080/",
          "height": 34
        },
        "id": "hXTa5SMJq5Kc",
        "outputId": "e6f74249-11c0-4b6f-aeae-be73a341ec11"
      },
      "source": [
        "# Mean Absolute Error Loss - Forecast a\n",
        "msgjrgarch.mae.a <- MAE(sigma.msgjrgarch[,'sigma.msgjrgarch.pred.a'],\n",
        "                        sigma.msgjrgarch[,'sigma.msgjrgarch.true'])\n",
        "round(msgjrgarch.mae.a, digits = 3)"
      ],
      "id": "hXTa5SMJq5Kc",
      "execution_count": 272,
      "outputs": [
        {
          "output_type": "display_data",
          "data": {
            "text/plain": [
              "[1] 0.475"
            ],
            "text/latex": "0.475",
            "text/markdown": "0.475",
            "text/html": [
              "0.475"
            ]
          },
          "metadata": {
            "tags": []
          }
        }
      ]
    },
    {
      "cell_type": "code",
      "metadata": {
        "colab": {
          "base_uri": "https://localhost:8080/",
          "height": 34
        },
        "id": "y-cKrOXLq6oI",
        "outputId": "602b72ab-1d0a-4cd0-f64d-4ccb764d3fe9"
      },
      "source": [
        "# Mean Absolute Error Loss - Forecast b\n",
        "msgjrgarch.mae.b <- MAE(sigma.msgjrgarch[,'sigma.msgjrgarch.pred.b'],\n",
        "                        sigma.msgjrgarch[,'sigma.msgjrgarch.true'])\n",
        "round(msgjrgarch.mae.b, digits = 3)"
      ],
      "id": "y-cKrOXLq6oI",
      "execution_count": 273,
      "outputs": [
        {
          "output_type": "display_data",
          "data": {
            "text/plain": [
              "[1] 0.513"
            ],
            "text/latex": "0.513",
            "text/markdown": "0.513",
            "text/html": [
              "0.513"
            ]
          },
          "metadata": {
            "tags": []
          }
        }
      ]
    },
    {
      "cell_type": "code",
      "metadata": {
        "colab": {
          "base_uri": "https://localhost:8080/",
          "height": 34
        },
        "id": "yY_lh4P5q8hV",
        "outputId": "ed8ba88e-2fcc-451a-a0f8-194ccb816523"
      },
      "source": [
        "# Root Mean Square Error Loss - Forecast a\n",
        "msgjrgarch.rmse.a <- RMSE(sigma.msgjrgarch[,'sigma.msgjrgarch.pred.a'],\n",
        "                          sigma.msgjrgarch[,'sigma.msgjrgarch.true'])\n",
        "round(msgjrgarch.rmse.a, digits = 3)"
      ],
      "id": "yY_lh4P5q8hV",
      "execution_count": 274,
      "outputs": [
        {
          "output_type": "display_data",
          "data": {
            "text/plain": [
              "[1] 0.549"
            ],
            "text/latex": "0.549",
            "text/markdown": "0.549",
            "text/html": [
              "0.549"
            ]
          },
          "metadata": {
            "tags": []
          }
        }
      ]
    },
    {
      "cell_type": "code",
      "metadata": {
        "colab": {
          "base_uri": "https://localhost:8080/",
          "height": 34
        },
        "id": "u3HQsD5Qq-QB",
        "outputId": "808fe85e-89ab-4724-b018-a89a812cc918"
      },
      "source": [
        "# Root Mean Square Error Loss - Forecast b\n",
        "msgjrgarch.rmse.b <- RMSE(sigma.msgjrgarch[,'sigma.msgjrgarch.pred.b'],\n",
        "                          sigma.msgjrgarch[,'sigma.msgjrgarch.true'])\n",
        "round(msgjrgarch.rmse.b, digits = 3)"
      ],
      "id": "u3HQsD5Qq-QB",
      "execution_count": 275,
      "outputs": [
        {
          "output_type": "display_data",
          "data": {
            "text/plain": [
              "[1] 0.589"
            ],
            "text/latex": "0.589",
            "text/markdown": "0.589",
            "text/html": [
              "0.589"
            ]
          },
          "metadata": {
            "tags": []
          }
        }
      ]
    },
    {
      "cell_type": "code",
      "metadata": {
        "colab": {
          "base_uri": "https://localhost:8080/",
          "height": 34
        },
        "id": "94nhDvc3q__y",
        "outputId": "aeb511ba-088a-4b86-8d78-e8db667d5436"
      },
      "source": [
        "# Quasi-likelihood loss function - forecast a\n",
        "h <- sigma.msgjrgarch[,'sigma.msgjrgarch.true']\n",
        "\n",
        "h.hat.a <- sigma.msgjrgarch[,'sigma.msgjrgarch.pred.a']     \n",
        "msgjrgarch.qlike.a <- mean(log(sqrt(h)) + h.hat.a/sqrt(h))\n",
        "round(msgjrgarch.qlike.a, digits = 5)"
      ],
      "id": "94nhDvc3q__y",
      "execution_count": 276,
      "outputs": [
        {
          "output_type": "display_data",
          "data": {
            "text/plain": [
              "[1] 1.48953"
            ],
            "text/latex": "1.48953",
            "text/markdown": "1.48953",
            "text/html": [
              "1.48953"
            ]
          },
          "metadata": {
            "tags": []
          }
        }
      ]
    },
    {
      "cell_type": "code",
      "metadata": {
        "colab": {
          "base_uri": "https://localhost:8080/",
          "height": 34
        },
        "id": "EQKq_D5FrByJ",
        "outputId": "e9258ee2-5cfb-446e-d043-ed5f26fe0399"
      },
      "source": [
        "# Quasi-likelihood loss function - forecast b\n",
        "h.hat.b <- sigma.msgjrgarch[,'sigma.msgjrgarch.pred.b']\n",
        "msgjrgarch.qlike.b <- mean(log(sqrt(h)) + h.hat.b/sqrt(h))\n",
        "round(msgjrgarch.qlike.b, digits = 5)"
      ],
      "id": "EQKq_D5FrByJ",
      "execution_count": 277,
      "outputs": [
        {
          "output_type": "display_data",
          "data": {
            "text/plain": [
              "[1] 1.53986"
            ],
            "text/latex": "1.53986",
            "text/markdown": "1.53986",
            "text/html": [
              "1.53986"
            ]
          },
          "metadata": {
            "tags": []
          }
        }
      ]
    },
    {
      "cell_type": "code",
      "metadata": {
        "colab": {
          "base_uri": "https://localhost:8080/",
          "height": 119
        },
        "id": "vPTQpCKJrDfH",
        "outputId": "e365b500-04fe-4dd2-e2b7-e35ae10e77be"
      },
      "source": [
        "# Diebold-Mariano Test (accuracy test) - test 1\n",
        "f.a <- sigma.msgjrgarch[,'sigma.msgjrgarch.pred.a']\n",
        "f.b <- sigma.msgjrgarch[,'sigma.msgjrgarch.pred.b']\n",
        "y <- sigma.msgjrgarch[,'sigma.msgjrgarch.true']\n",
        "\n",
        "DM.test(f.a, f.b, y, loss.type = \"SE\", c = FALSE, H1 = \"same\")"
      ],
      "id": "vPTQpCKJrDfH",
      "execution_count": 278,
      "outputs": [
        {
          "output_type": "display_data",
          "data": {
            "text/plain": [
              "\n",
              "\tDiebold-Mariano test\n",
              "\n",
              "data:  f.a and f.b and y\n",
              "statistic = -13.467, forecast horizon = 1, p-value < 2.2e-16\n",
              "alternative hypothesis: Forecast f1 and f2 have different accuracy.\n"
            ]
          },
          "metadata": {
            "tags": []
          }
        }
      ]
    },
    {
      "cell_type": "code",
      "metadata": {
        "colab": {
          "base_uri": "https://localhost:8080/",
          "height": 136
        },
        "id": "4gP3k2MNrFGk",
        "outputId": "59ca8224-2bb2-4eb4-b51d-59a3864dfa4b"
      },
      "source": [
        "# Diebold-Mariano test for predictive accuracy - test 2\n",
        "e.a <- msgjrgarch.error.a\n",
        "e.b <- msgjrgarch.error.b\n",
        "\n",
        "dm.test(e.a, e.b, alternative = \"two.sided\", h = 1, power = 2)"
      ],
      "id": "4gP3k2MNrFGk",
      "execution_count": 279,
      "outputs": [
        {
          "output_type": "display_data",
          "data": {
            "text/plain": [
              "\n",
              "\tDiebold-Mariano Test\n",
              "\n",
              "data:  e.ae.b\n",
              "DM = -13.463, Forecast horizon = 1, Loss function power = 2, p-value <\n",
              "2.2e-16\n",
              "alternative hypothesis: two.sided\n"
            ]
          },
          "metadata": {
            "tags": []
          }
        }
      ]
    },
    {
      "cell_type": "code",
      "metadata": {
        "colab": {
          "base_uri": "https://localhost:8080/",
          "height": 34
        },
        "id": "LcULPKoNrGxD",
        "outputId": "17bb43fb-6734-4ecb-ce2e-0d1eb5b3dc24"
      },
      "source": [
        "# Quasi-likelihood Loss Function For Volatility Forecasts - forecast a\n",
        "msgjrgarch.qlike.a <- mean(LossVol(sigma.msgjrgarch[,'sigma.msgjrgarch.true'],\n",
        "                                    sigma.msgjrgarch[,'sigma.msgjrgarch.pred.a'],\n",
        "                                    which = \"QLIKE\"))\n",
        "round(msgjrgarch.qlike.a, digits = 3)"
      ],
      "id": "LcULPKoNrGxD",
      "execution_count": 280,
      "outputs": [
        {
          "output_type": "display_data",
          "data": {
            "text/plain": [
              "[1] 1.602"
            ],
            "text/latex": "1.602",
            "text/markdown": "1.602",
            "text/html": [
              "1.602"
            ]
          },
          "metadata": {
            "tags": []
          }
        }
      ]
    },
    {
      "cell_type": "code",
      "metadata": {
        "colab": {
          "base_uri": "https://localhost:8080/",
          "height": 34
        },
        "id": "CWGlz0amrIPg",
        "outputId": "de4db71c-0a51-45c7-8c57-cc9392101a38"
      },
      "source": [
        "# Quasi-likelihood Loss Function For Volatility Forecasts - forecast 1b\n",
        "msgjrgarch.qlike.b <- mean(LossVol(sigma.msgjrgarch[,'sigma.msgjrgarch.true'],\n",
        "                                  sigma.msgjrgarch[,'sigma.msgjrgarch.pred.b'],\n",
        "                                  which = \"QLIKE\"))\n",
        "round(msgjrgarch.qlike.b, digits = 3)"
      ],
      "id": "CWGlz0amrIPg",
      "execution_count": 281,
      "outputs": [
        {
          "output_type": "display_data",
          "data": {
            "text/plain": [
              "[1] 1.627"
            ],
            "text/latex": "1.627",
            "text/markdown": "1.627",
            "text/html": [
              "1.627"
            ]
          },
          "metadata": {
            "tags": []
          }
        }
      ]
    },
    {
      "cell_type": "code",
      "metadata": {
        "colab": {
          "base_uri": "https://localhost:8080/",
          "height": 34
        },
        "id": "pay6piZ-rJmP",
        "outputId": "d89e3327-f434-4789-fb48-f2ec82565995"
      },
      "source": [
        "# Log loss / Cross-Entropy Loss -  forecast a\n",
        "msgjrgarch.logloss.a <- LogLoss(sigma.msgjrgarch[,'sigma.msgjrgarch.pred.a'],\n",
        "                                sigma.msgjrgarch[,'sigma.msgjrgarch.true'])\n",
        "round(msgjrgarch.logloss.a, digits = 3)"
      ],
      "id": "pay6piZ-rJmP",
      "execution_count": 282,
      "outputs": [
        {
          "output_type": "display_data",
          "data": {
            "text/plain": [
              "[1] -8.41"
            ],
            "text/latex": "-8.41",
            "text/markdown": "-8.41",
            "text/html": [
              "-8.41"
            ]
          },
          "metadata": {
            "tags": []
          }
        }
      ]
    },
    {
      "cell_type": "code",
      "metadata": {
        "colab": {
          "base_uri": "https://localhost:8080/",
          "height": 34
        },
        "id": "p4KdG8yirK7j",
        "outputId": "1f93bb4b-8997-470c-91b4-0292d3b38cf0"
      },
      "source": [
        "# Log loss / Cross-Entropy Loss -  forecast b\n",
        "msgjrgarch.logloss.b <- LogLoss(sigma.msgjrgarch[,'sigma.msgjrgarch.pred.b'],\n",
        "                                sigma.msgjrgarch[,'sigma.msgjrgarch.true'])\n",
        "round(msgjrgarch.logloss.b, digits = 3)"
      ],
      "id": "p4KdG8yirK7j",
      "execution_count": 283,
      "outputs": [
        {
          "output_type": "display_data",
          "data": {
            "text/plain": [
              "[1] -8.41"
            ],
            "text/latex": "-8.41",
            "text/markdown": "-8.41",
            "text/html": [
              "-8.41"
            ]
          },
          "metadata": {
            "tags": []
          }
        }
      ]
    },
    {
      "cell_type": "code",
      "metadata": {
        "colab": {
          "base_uri": "https://localhost:8080/",
          "height": 136
        },
        "id": "b4P8dlDNrMMd",
        "outputId": "a50ddd8a-b1b5-450a-866c-2bb85fa5fbfb"
      },
      "source": [
        "# Linear regression to assess forecast performance - forecast a\n",
        "msgjrgarch.model.a <- lm(sigma.msgjrgarch.true ~ sigma.msgjrgarch.pred.a,\n",
        "                      data = sigma.msgjrgarch)\n",
        "round(coeftest(msgjrgarch.model.a, NeweyWest(msgjrgarch.model.a,\n",
        "                                            lag = bwNeweyWest(msgjrgarch.model.a),\n",
        "                                            prewhite = F)), 3)\n",
        "round(summary(msgjrgarch.model.a)$adj.r.squared, 3)"
      ],
      "id": "b4P8dlDNrMMd",
      "execution_count": 284,
      "outputs": [
        {
          "output_type": "display_data",
          "data": {
            "text/plain": [
              "\n",
              "t test of coefficients:\n",
              "\n",
              "                        Estimate Std. Error t value Pr(>|t|)\n",
              "(Intercept)               -0.579      1.170  -0.495    0.620\n",
              "sigma.msgjrgarch.pred.a    1.208      0.783   1.543    0.123\n"
            ]
          },
          "metadata": {
            "tags": []
          }
        },
        {
          "output_type": "display_data",
          "data": {
            "text/plain": [
              "[1] 0.006"
            ],
            "text/latex": "0.006",
            "text/markdown": "0.006",
            "text/html": [
              "0.006"
            ]
          },
          "metadata": {
            "tags": []
          }
        }
      ]
    },
    {
      "cell_type": "code",
      "metadata": {
        "colab": {
          "base_uri": "https://localhost:8080/",
          "height": 170
        },
        "id": "dn4BRM4-rN7I",
        "outputId": "906c5638-ec65-497d-99c5-cd498db371a5"
      },
      "source": [
        "# Linear regression to assess forecast performance - forecast b\n",
        "msgjrgarch.model.b <- lm(sigma.msgjrgarch.true ~ sigma.msgjrgarch.pred.b,\n",
        "                      data = sigma.msgjrgarch)\n",
        "round(coeftest(msgjrgarch.model.b, NeweyWest(msgjrgarch.model.b,\n",
        "                                            lag = bwNeweyWest(msgjrgarch.model.b),\n",
        "                                            prewhite = F)), 3)\n",
        "round(summary(msgjrgarch.model.b)$adj.r.squared, 3)"
      ],
      "id": "dn4BRM4-rN7I",
      "execution_count": 285,
      "outputs": [
        {
          "output_type": "display_data",
          "data": {
            "text/plain": [
              "\n",
              "t test of coefficients:\n",
              "\n",
              "                        Estimate Std. Error t value Pr(>|t|)    \n",
              "(Intercept)                1.516      0.269   5.645   <2e-16 ***\n",
              "sigma.msgjrgarch.pred.b   -0.174      0.167  -1.043    0.297    \n",
              "---\n",
              "Signif. codes:  0 ‘***’ 0.001 ‘**’ 0.01 ‘*’ 0.05 ‘.’ 0.1 ‘ ’ 1\n"
            ]
          },
          "metadata": {
            "tags": []
          }
        },
        {
          "output_type": "display_data",
          "data": {
            "text/plain": [
              "[1] 0.001"
            ],
            "text/latex": "0.001",
            "text/markdown": "0.001",
            "text/html": [
              "0.001"
            ]
          },
          "metadata": {
            "tags": []
          }
        }
      ]
    },
    {
      "cell_type": "markdown",
      "metadata": {
        "id": "fZYN_pFPylpJ"
      },
      "source": [
        "#13. Monthly volatility"
      ],
      "id": "fZYN_pFPylpJ"
    },
    {
      "cell_type": "markdown",
      "metadata": {
        "id": "_GCDjgnx_W_A"
      },
      "source": [
        "##(a) Transformation of a daily frequency to monthly frequency"
      ],
      "id": "_GCDjgnx_W_A"
    },
    {
      "cell_type": "code",
      "metadata": {
        "colab": {
          "base_uri": "https://localhost:8080/",
          "height": 374
        },
        "id": "JLXA-z-l_f3q",
        "outputId": "6a4639c2-6c1e-4f9b-b7ab-2b5d8789c4c1"
      },
      "source": [
        "N225.df.month <- apply.monthly(N225.df, FUN = mean)\n",
        "head(N225.df.month)"
      ],
      "id": "JLXA-z-l_f3q",
      "execution_count": 286,
      "outputs": [
        {
          "output_type": "display_data",
          "data": {
            "text/plain": [
              "           N225.Close N225.Return N225.VolGARCH N225.VolEGARCH N225.VolGJRGARCH\n",
              "2000-01-31   18938.20  0.15477107      2.545534       2.549265         2.378654\n",
              "2000-02-29   19685.53  0.10628973      1.195289       1.336783         1.136741\n",
              "2000-03-31   19834.72  0.08523381      1.189052       1.290232         1.237756\n",
              "2000-04-28   19517.67 -0.61774051      3.210475       3.307569         4.048145\n",
              "2000-05-31   17039.97 -0.47877798      3.675515       4.248671         4.547811\n",
              "2000-06-30   16969.28  0.29068713      2.006539       2.036139         1.884819\n",
              "           N225.VolRealGARCH N225.VolRealEGARCH N225.VolRealGJRGARCH\n",
              "2000-01-31          2.579900           2.591625             2.408568\n",
              "2000-02-29          1.274257           1.388684             1.206369\n",
              "2000-03-31          1.211488           1.311881             1.265167\n",
              "2000-04-28          3.038884           3.125196             3.639042\n",
              "2000-05-31          3.687663           4.269741             4.458522\n",
              "2000-06-30          2.082886           2.146308             1.987274\n",
              "           N225.VolMSGARCH N225.VolMSEGARCH N225.VolMSGJRGARCH\n",
              "2000-01-31        2.210275         1.598143           1.567096\n",
              "2000-02-29        1.081443         1.029911           1.151037\n",
              "2000-03-31        1.083373         1.074679           1.116307\n",
              "2000-04-28        1.617014         1.744878           1.833584\n",
              "2000-05-31        1.740300         2.178891           2.046521\n",
              "2000-06-30        1.382876         1.489262           1.356514"
            ]
          },
          "metadata": {
            "tags": []
          }
        }
      ]
    },
    {
      "cell_type": "markdown",
      "metadata": {
        "id": "KX6T_XNH_n93"
      },
      "source": [
        "##(b) Lag Length Selection"
      ],
      "id": "KX6T_XNH_n93"
    },
    {
      "cell_type": "code",
      "metadata": {
        "colab": {
          "base_uri": "https://localhost:8080/"
        },
        "id": "nEgGG_NO_rJk",
        "outputId": "304adca8-7886-445c-a9ee-342050f967ee"
      },
      "source": [
        "# Package\n",
        "install.packages('tsDyn')\n",
        "\n",
        "library(tsDyn)"
      ],
      "id": "nEgGG_NO_rJk",
      "execution_count": 287,
      "outputs": [
        {
          "output_type": "stream",
          "text": [
            "Installing package into ‘/usr/local/lib/R/site-library’\n",
            "(as ‘lib’ is unspecified)\n",
            "\n",
            "also installing the dependencies ‘tmvnsim’, ‘deSolve’, ‘strucchange’, ‘iterators’, ‘mnormt’, ‘tseriesChaos’, ‘vars’, ‘foreach’\n",
            "\n",
            "\n",
            "\n",
            "Attaching package: ‘tsDyn’\n",
            "\n",
            "\n",
            "The following object is masked from ‘package:MLmetrics’:\n",
            "\n",
            "    MAPE\n",
            "\n",
            "\n",
            "The following object is masked from ‘package:Metrics’:\n",
            "\n",
            "    mse\n",
            "\n",
            "\n"
          ],
          "name": "stderr"
        }
      ]
    },
    {
      "cell_type": "code",
      "metadata": {
        "colab": {
          "base_uri": "https://localhost:8080/",
          "height": 68
        },
        "id": "nSnrXFwT_zzY",
        "outputId": "19ad967d-9137-4120-c3e9-ddc33878e1b7"
      },
      "source": [
        "lags.select(N225.df.month$N225.VolGARCH, lag.max = 10)"
      ],
      "id": "nSnrXFwT_zzY",
      "execution_count": 288,
      "outputs": [
        {
          "output_type": "display_data",
          "data": {
            "text/plain": [
              "Best AIC:  lag= 3 \n",
              "Best BIC:  lag= 2 \n",
              "Best HQ :  lag= 3 "
            ]
          },
          "metadata": {
            "tags": []
          }
        }
      ]
    },
    {
      "cell_type": "code",
      "metadata": {
        "colab": {
          "base_uri": "https://localhost:8080/",
          "height": 68
        },
        "id": "uK1NeJFsBna8",
        "outputId": "8294c553-b5f2-4d86-94b5-9fdd7c976ea8"
      },
      "source": [
        "lags.select(N225.df.month$N225.VolEGARCH, lag.max = 10)"
      ],
      "id": "uK1NeJFsBna8",
      "execution_count": 289,
      "outputs": [
        {
          "output_type": "display_data",
          "data": {
            "text/plain": [
              "Best AIC:  lag= 2 \n",
              "Best BIC:  lag= 1 \n",
              "Best HQ :  lag= 2 "
            ]
          },
          "metadata": {
            "tags": []
          }
        }
      ]
    },
    {
      "cell_type": "code",
      "metadata": {
        "colab": {
          "base_uri": "https://localhost:8080/",
          "height": 68
        },
        "id": "sPkpUtZhBqHJ",
        "outputId": "6bf045b8-06c0-4ee4-d6dd-70cf8116d5b6"
      },
      "source": [
        "lags.select(N225.df.month$N225.VolGJRGARCH, lag.max = 10)"
      ],
      "id": "sPkpUtZhBqHJ",
      "execution_count": 290,
      "outputs": [
        {
          "output_type": "display_data",
          "data": {
            "text/plain": [
              "Best AIC:  lag= 2 \n",
              "Best BIC:  lag= 2 \n",
              "Best HQ :  lag= 2 "
            ]
          },
          "metadata": {
            "tags": []
          }
        }
      ]
    },
    {
      "cell_type": "code",
      "metadata": {
        "colab": {
          "base_uri": "https://localhost:8080/",
          "height": 68
        },
        "id": "K9_kCmfQBsDt",
        "outputId": "7c976150-78cd-4d1f-ce08-a2d803b22466"
      },
      "source": [
        "lags.select(N225.df.month$N225.VolRealGARCH, lag.max = 10)"
      ],
      "id": "K9_kCmfQBsDt",
      "execution_count": 291,
      "outputs": [
        {
          "output_type": "display_data",
          "data": {
            "text/plain": [
              "Best AIC:  lag= 3 \n",
              "Best BIC:  lag= 3 \n",
              "Best HQ :  lag= 3 "
            ]
          },
          "metadata": {
            "tags": []
          }
        }
      ]
    },
    {
      "cell_type": "code",
      "metadata": {
        "colab": {
          "base_uri": "https://localhost:8080/",
          "height": 68
        },
        "id": "c74fPYQEB3Pc",
        "outputId": "004aec95-093a-4d3c-a801-fe43e5e05229"
      },
      "source": [
        "lags.select(N225.df.month$N225.VolRealEGARCH, lag.max = 10)"
      ],
      "id": "c74fPYQEB3Pc",
      "execution_count": 292,
      "outputs": [
        {
          "output_type": "display_data",
          "data": {
            "text/plain": [
              "Best AIC:  lag= 3 \n",
              "Best BIC:  lag= 1 \n",
              "Best HQ :  lag= 2 "
            ]
          },
          "metadata": {
            "tags": []
          }
        }
      ]
    },
    {
      "cell_type": "code",
      "metadata": {
        "colab": {
          "base_uri": "https://localhost:8080/",
          "height": 68
        },
        "id": "eShiYpuXB6vM",
        "outputId": "e110c7ac-bd1d-4d5b-83b4-34a7abb193a2"
      },
      "source": [
        "lags.select(N225.df.month$N225.VolRealGJRGARCH, lag.max = 10)"
      ],
      "id": "eShiYpuXB6vM",
      "execution_count": 293,
      "outputs": [
        {
          "output_type": "display_data",
          "data": {
            "text/plain": [
              "Best AIC:  lag= 3 \n",
              "Best BIC:  lag= 2 \n",
              "Best HQ :  lag= 2 "
            ]
          },
          "metadata": {
            "tags": []
          }
        }
      ]
    },
    {
      "cell_type": "code",
      "metadata": {
        "colab": {
          "base_uri": "https://localhost:8080/",
          "height": 68
        },
        "id": "vZpT89GVB-Kq",
        "outputId": "becc5f6e-60c2-44f6-abfe-e1250b6f0b8a"
      },
      "source": [
        "lags.select(N225.df.month$N225.VolMSGARCH, lag.max = 10)"
      ],
      "id": "vZpT89GVB-Kq",
      "execution_count": 294,
      "outputs": [
        {
          "output_type": "display_data",
          "data": {
            "text/plain": [
              "Best AIC:  lag= 2 \n",
              "Best BIC:  lag= 1 \n",
              "Best HQ :  lag= 2 "
            ]
          },
          "metadata": {
            "tags": []
          }
        }
      ]
    },
    {
      "cell_type": "code",
      "metadata": {
        "colab": {
          "base_uri": "https://localhost:8080/",
          "height": 68
        },
        "id": "bTXkiJYoCCF8",
        "outputId": "9f4a9b1f-63f1-4f4e-96bc-2bb97e17eaae"
      },
      "source": [
        "lags.select(N225.df.month$N225.VolMSEGARCH , lag.max = 10)"
      ],
      "id": "bTXkiJYoCCF8",
      "execution_count": 295,
      "outputs": [
        {
          "output_type": "display_data",
          "data": {
            "text/plain": [
              "Best AIC:  lag= 1 \n",
              "Best BIC:  lag= 1 \n",
              "Best HQ :  lag= 1 "
            ]
          },
          "metadata": {
            "tags": []
          }
        }
      ]
    },
    {
      "cell_type": "code",
      "metadata": {
        "colab": {
          "base_uri": "https://localhost:8080/",
          "height": 68
        },
        "id": "gmp7CKgmCIaH",
        "outputId": "ee1b0e17-b1f2-4592-f856-f615a9ce79f1"
      },
      "source": [
        "lags.select(N225.df.month$N225.VolMSGJRGARCH , lag.max = 10)"
      ],
      "id": "gmp7CKgmCIaH",
      "execution_count": 296,
      "outputs": [
        {
          "output_type": "display_data",
          "data": {
            "text/plain": [
              "Best AIC:  lag= 1 \n",
              "Best BIC:  lag= 1 \n",
              "Best HQ :  lag= 1 "
            ]
          },
          "metadata": {
            "tags": []
          }
        }
      ]
    },
    {
      "cell_type": "markdown",
      "metadata": {
        "id": "9HdfotCPALkn"
      },
      "source": [
        "##(c) Import dataset"
      ],
      "id": "9HdfotCPALkn"
    },
    {
      "cell_type": "markdown",
      "metadata": {
        "id": "KhOH_NiBAe_8"
      },
      "source": [
        "**EPU**"
      ],
      "id": "KhOH_NiBAe_8"
    },
    {
      "cell_type": "code",
      "metadata": {
        "id": "14oHDlSZAg9S"
      },
      "source": [
        "# Package\n",
        "library(readxl)"
      ],
      "id": "14oHDlSZAg9S",
      "execution_count": null,
      "outputs": []
    },
    {
      "cell_type": "code",
      "metadata": {
        "colab": {
          "base_uri": "https://localhost:8080/",
          "height": 405
        },
        "id": "ijgoJa2cAlpy",
        "outputId": "bde151fc-d81d-4335-87d1-223a61e1c8fe"
      },
      "source": [
        "EPU <- read_excel(\"EPU_All_Country_Data.xlsx\",\n",
        "                  sheet = \"Import\",\n",
        "                  col_types = c(\"date\", \"numeric\", \"numeric\", \"numeric\", \"numeric\",\n",
        "                                \"numeric\", \"numeric\", \"numeric\", \"numeric\", \"numeric\",\n",
        "                                \"numeric\", \"numeric\", \"numeric\", \"numeric\"))\n",
        "head(EPU)"
      ],
      "id": "ijgoJa2cAlpy",
      "execution_count": null,
      "outputs": [
        {
          "output_type": "display_data",
          "data": {
            "text/plain": [
              "  MM.YYYY    GEPU_current Brazil    Russia    India     Chile     Mexico   \n",
              "1 2000-01-01 63.43916      54.60320 117.12624  55.47412 104.18382 161.02013\n",
              "2 2000-02-01 58.77943      41.26398  27.02751  58.04263  76.43725 157.84093\n",
              "3 2000-03-01 61.33933      73.60725  27.27277  63.43669  78.59699  90.80582\n",
              "4 2000-04-01 64.76240      96.34906  25.90913  78.92112  63.72873  93.59448\n",
              "5 2000-05-01 86.84892     189.96852  42.97606  59.61799 120.89192 136.35007\n",
              "6 2000-06-01 88.23903     106.87265 115.94142 110.34407 156.83112 216.03893\n",
              "  China     Canada   France   Germany   Japan     UK       US       \n",
              "1 44.004440 46.92811 18.45134  73.23399  78.12204 30.08247  88.98869\n",
              "2  9.066709 45.72284 33.22514  97.35842  78.62767 36.62590  73.36520\n",
              "3 44.399136 39.32267 42.40266  96.09151  79.74557 45.16381  73.29862\n",
              "4 35.441414 53.17447 16.59283  69.44795 103.12970 42.74244  70.59975\n",
              "5 71.135803 54.20769 55.37305 135.28714  86.34306 53.87834 118.14321\n",
              "6 36.856976 45.04951 35.07029  58.29012 150.85790 51.15050 109.58423"
            ],
            "text/latex": "A tibble: 6 × 14\n\\begin{tabular}{llllllllllllll}\n MM.YYYY & GEPU\\_current & Brazil & Russia & India & Chile & Mexico & China & Canada & France & Germany & Japan & UK & US\\\\\n <dttm> & <dbl> & <dbl> & <dbl> & <dbl> & <dbl> & <dbl> & <dbl> & <dbl> & <dbl> & <dbl> & <dbl> & <dbl> & <dbl>\\\\\n\\hline\n\t 2000-01-01 & 63.43916 &  54.60320 & 117.12624 &  55.47412 & 104.18382 & 161.02013 & 44.004440 & 46.92811 & 18.45134 &  73.23399 &  78.12204 & 30.08247 &  88.98869\\\\\n\t 2000-02-01 & 58.77943 &  41.26398 &  27.02751 &  58.04263 &  76.43725 & 157.84093 &  9.066709 & 45.72284 & 33.22514 &  97.35842 &  78.62767 & 36.62590 &  73.36520\\\\\n\t 2000-03-01 & 61.33933 &  73.60725 &  27.27277 &  63.43669 &  78.59699 &  90.80582 & 44.399136 & 39.32267 & 42.40266 &  96.09151 &  79.74557 & 45.16381 &  73.29862\\\\\n\t 2000-04-01 & 64.76240 &  96.34906 &  25.90913 &  78.92112 &  63.72873 &  93.59448 & 35.441414 & 53.17447 & 16.59283 &  69.44795 & 103.12970 & 42.74244 &  70.59975\\\\\n\t 2000-05-01 & 86.84892 & 189.96852 &  42.97606 &  59.61799 & 120.89192 & 136.35007 & 71.135803 & 54.20769 & 55.37305 & 135.28714 &  86.34306 & 53.87834 & 118.14321\\\\\n\t 2000-06-01 & 88.23903 & 106.87265 & 115.94142 & 110.34407 & 156.83112 & 216.03893 & 36.856976 & 45.04951 & 35.07029 &  58.29012 & 150.85790 & 51.15050 & 109.58423\\\\\n\\end{tabular}\n",
            "text/markdown": "\nA tibble: 6 × 14\n\n| MM.YYYY &lt;dttm&gt; | GEPU_current &lt;dbl&gt; | Brazil &lt;dbl&gt; | Russia &lt;dbl&gt; | India &lt;dbl&gt; | Chile &lt;dbl&gt; | Mexico &lt;dbl&gt; | China &lt;dbl&gt; | Canada &lt;dbl&gt; | France &lt;dbl&gt; | Germany &lt;dbl&gt; | Japan &lt;dbl&gt; | UK &lt;dbl&gt; | US &lt;dbl&gt; |\n|---|---|---|---|---|---|---|---|---|---|---|---|---|---|\n| 2000-01-01 | 63.43916 |  54.60320 | 117.12624 |  55.47412 | 104.18382 | 161.02013 | 44.004440 | 46.92811 | 18.45134 |  73.23399 |  78.12204 | 30.08247 |  88.98869 |\n| 2000-02-01 | 58.77943 |  41.26398 |  27.02751 |  58.04263 |  76.43725 | 157.84093 |  9.066709 | 45.72284 | 33.22514 |  97.35842 |  78.62767 | 36.62590 |  73.36520 |\n| 2000-03-01 | 61.33933 |  73.60725 |  27.27277 |  63.43669 |  78.59699 |  90.80582 | 44.399136 | 39.32267 | 42.40266 |  96.09151 |  79.74557 | 45.16381 |  73.29862 |\n| 2000-04-01 | 64.76240 |  96.34906 |  25.90913 |  78.92112 |  63.72873 |  93.59448 | 35.441414 | 53.17447 | 16.59283 |  69.44795 | 103.12970 | 42.74244 |  70.59975 |\n| 2000-05-01 | 86.84892 | 189.96852 |  42.97606 |  59.61799 | 120.89192 | 136.35007 | 71.135803 | 54.20769 | 55.37305 | 135.28714 |  86.34306 | 53.87834 | 118.14321 |\n| 2000-06-01 | 88.23903 | 106.87265 | 115.94142 | 110.34407 | 156.83112 | 216.03893 | 36.856976 | 45.04951 | 35.07029 |  58.29012 | 150.85790 | 51.15050 | 109.58423 |\n\n",
            "text/html": [
              "<table class=\"dataframe\">\n",
              "<caption>A tibble: 6 × 14</caption>\n",
              "<thead>\n",
              "\t<tr><th scope=col>MM.YYYY</th><th scope=col>GEPU_current</th><th scope=col>Brazil</th><th scope=col>Russia</th><th scope=col>India</th><th scope=col>Chile</th><th scope=col>Mexico</th><th scope=col>China</th><th scope=col>Canada</th><th scope=col>France</th><th scope=col>Germany</th><th scope=col>Japan</th><th scope=col>UK</th><th scope=col>US</th></tr>\n",
              "\t<tr><th scope=col>&lt;dttm&gt;</th><th scope=col>&lt;dbl&gt;</th><th scope=col>&lt;dbl&gt;</th><th scope=col>&lt;dbl&gt;</th><th scope=col>&lt;dbl&gt;</th><th scope=col>&lt;dbl&gt;</th><th scope=col>&lt;dbl&gt;</th><th scope=col>&lt;dbl&gt;</th><th scope=col>&lt;dbl&gt;</th><th scope=col>&lt;dbl&gt;</th><th scope=col>&lt;dbl&gt;</th><th scope=col>&lt;dbl&gt;</th><th scope=col>&lt;dbl&gt;</th><th scope=col>&lt;dbl&gt;</th></tr>\n",
              "</thead>\n",
              "<tbody>\n",
              "\t<tr><td>2000-01-01</td><td>63.43916</td><td> 54.60320</td><td>117.12624</td><td> 55.47412</td><td>104.18382</td><td>161.02013</td><td>44.004440</td><td>46.92811</td><td>18.45134</td><td> 73.23399</td><td> 78.12204</td><td>30.08247</td><td> 88.98869</td></tr>\n",
              "\t<tr><td>2000-02-01</td><td>58.77943</td><td> 41.26398</td><td> 27.02751</td><td> 58.04263</td><td> 76.43725</td><td>157.84093</td><td> 9.066709</td><td>45.72284</td><td>33.22514</td><td> 97.35842</td><td> 78.62767</td><td>36.62590</td><td> 73.36520</td></tr>\n",
              "\t<tr><td>2000-03-01</td><td>61.33933</td><td> 73.60725</td><td> 27.27277</td><td> 63.43669</td><td> 78.59699</td><td> 90.80582</td><td>44.399136</td><td>39.32267</td><td>42.40266</td><td> 96.09151</td><td> 79.74557</td><td>45.16381</td><td> 73.29862</td></tr>\n",
              "\t<tr><td>2000-04-01</td><td>64.76240</td><td> 96.34906</td><td> 25.90913</td><td> 78.92112</td><td> 63.72873</td><td> 93.59448</td><td>35.441414</td><td>53.17447</td><td>16.59283</td><td> 69.44795</td><td>103.12970</td><td>42.74244</td><td> 70.59975</td></tr>\n",
              "\t<tr><td>2000-05-01</td><td>86.84892</td><td>189.96852</td><td> 42.97606</td><td> 59.61799</td><td>120.89192</td><td>136.35007</td><td>71.135803</td><td>54.20769</td><td>55.37305</td><td>135.28714</td><td> 86.34306</td><td>53.87834</td><td>118.14321</td></tr>\n",
              "\t<tr><td>2000-06-01</td><td>88.23903</td><td>106.87265</td><td>115.94142</td><td>110.34407</td><td>156.83112</td><td>216.03893</td><td>36.856976</td><td>45.04951</td><td>35.07029</td><td> 58.29012</td><td>150.85790</td><td>51.15050</td><td>109.58423</td></tr>\n",
              "</tbody>\n",
              "</table>\n"
            ]
          },
          "metadata": {
            "tags": []
          }
        }
      ]
    },
    {
      "cell_type": "code",
      "metadata": {
        "id": "MrqrZ8MZA4-_"
      },
      "source": [
        "attach(EPU)"
      ],
      "id": "MrqrZ8MZA4-_",
      "execution_count": null,
      "outputs": []
    },
    {
      "cell_type": "markdown",
      "metadata": {
        "id": "Vq9oiwlrA58O"
      },
      "source": [
        "**VIX**"
      ],
      "id": "Vq9oiwlrA58O"
    },
    {
      "cell_type": "code",
      "metadata": {
        "colab": {
          "base_uri": "https://localhost:8080/",
          "height": 34
        },
        "id": "V5iY9Kr3BAkR",
        "outputId": "faf26fe6-6228-4c17-f861-ec2f5279a360"
      },
      "source": [
        "getSymbols(\"^VIX\", from = '2000-01-01', to = '2021-05-31', periodicity = \"monthly\")"
      ],
      "id": "V5iY9Kr3BAkR",
      "execution_count": null,
      "outputs": [
        {
          "output_type": "display_data",
          "data": {
            "text/plain": [
              "[1] \"^VIX\""
            ],
            "text/latex": "'\\textasciicircum{}VIX'",
            "text/markdown": "'^VIX'",
            "text/html": [
              "'^VIX'"
            ]
          },
          "metadata": {
            "tags": []
          }
        }
      ]
    },
    {
      "cell_type": "code",
      "metadata": {
        "colab": {
          "base_uri": "https://localhost:8080/",
          "height": 136
        },
        "id": "_SCvdZFcBOxo",
        "outputId": "e2ac2cde-2de7-4619-bdbb-2cf75e2b53f0"
      },
      "source": [
        "head(VIX)"
      ],
      "id": "_SCvdZFcBOxo",
      "execution_count": null,
      "outputs": [
        {
          "output_type": "display_data",
          "data": {
            "text/plain": [
              "           VIX.Open VIX.High VIX.Low VIX.Close VIX.Volume VIX.Adjusted\n",
              "2000-01-01    24.36    29.00   19.51     24.95          0        24.95\n",
              "2000-02-01    24.43    28.12   20.69     23.37          0        23.37\n",
              "2000-03-01    22.65    25.87   19.19     24.11          0        24.11\n",
              "2000-04-01    24.99    34.31   23.25     26.20          0        26.20\n",
              "2000-05-01    26.07    32.89   23.23     23.65          0        23.65\n",
              "2000-06-01    23.20    25.01   19.39     19.54          0        19.54"
            ]
          },
          "metadata": {
            "tags": []
          }
        }
      ]
    },
    {
      "cell_type": "code",
      "metadata": {
        "id": "uuIrny6OBRnH"
      },
      "source": [
        "VIX <- na.omit(VIX)"
      ],
      "id": "uuIrny6OBRnH",
      "execution_count": null,
      "outputs": []
    },
    {
      "cell_type": "markdown",
      "metadata": {
        "id": "LGG7p_RIG7PV"
      },
      "source": [
        "##(d) Estimation"
      ],
      "id": "LGG7p_RIG7PV"
    },
    {
      "cell_type": "markdown",
      "metadata": {
        "id": "gvQCcsPIBUVX"
      },
      "source": [
        "**Benchmark model**"
      ],
      "id": "gvQCcsPIBUVX"
    },
    {
      "cell_type": "code",
      "metadata": {
        "colab": {
          "base_uri": "https://localhost:8080/",
          "height": 136
        },
        "id": "lnEjm9lKBYi3",
        "outputId": "f4f62b2f-077e-4737-f2e3-9da170b4afba"
      },
      "source": [
        "# Concatenate (number of rows of data frames aren't different)\n",
        "uncertainty <- cbind(VIX[,'VIX.Close'], EPU$Brazil, EPU$GEPU_current)\n",
        "head(uncertainty)"
      ],
      "id": "lnEjm9lKBYi3",
      "execution_count": null,
      "outputs": [
        {
          "output_type": "display_data",
          "data": {
            "text/plain": [
              "           VIX.Close EPU.Brazil EPU.GEPU_current\n",
              "2000-01-01     24.95   54.60320         63.43916\n",
              "2000-02-01     23.37   41.26398         58.77943\n",
              "2000-03-01     24.11   73.60725         61.33933\n",
              "2000-04-01     26.20   96.34906         64.76240\n",
              "2000-05-01     23.65  189.96852         86.84892\n",
              "2000-06-01     19.54  106.87265         88.23903"
            ]
          },
          "metadata": {
            "tags": []
          }
        }
      ]
    },
    {
      "cell_type": "code",
      "metadata": {
        "id": "IHhaF8KxC7VF"
      },
      "source": [
        "# Lag of uncertainty variables (lag = 1)\n",
        "lag.epu <- ts(Lag(uncertainty$EPU.Brazil, 1))\n",
        "lag.gepu <- ts(Lag(uncertainty$EPU.GEPU_current, 1))\n",
        "lag.vix <- ts(Lag(uncertainty$VIX.Close, 1))"
      ],
      "id": "IHhaF8KxC7VF",
      "execution_count": null,
      "outputs": []
    },
    {
      "cell_type": "markdown",
      "metadata": {
        "id": "zHQo6FW0FO18"
      },
      "source": [
        "**Linear GARCH**"
      ],
      "id": "zHQo6FW0FO18"
    },
    {
      "cell_type": "code",
      "metadata": {
        "colab": {
          "base_uri": "https://localhost:8080/",
          "height": 187
        },
        "id": "u3qNPRhUClNO",
        "outputId": "944a9433-9710-4551-dee6-545f8c107bcb"
      },
      "source": [
        "# Estimation 1 - GARCH (Best BIC:  lag= 2)\n",
        "garch <- ts(log(BVSP.df.month$BVSP.VolGARCH))\n",
        "lag.garch.1 <- ts(Lag(log(BVSP.df.month$BVSP.VolGARCH), 1))\n",
        "lag.garch.2 <- ts(Lag(log(BVSP.df.month$BVSP.VolGARCH), 2))\n",
        "\n",
        "ols.garch <- cbind(garch, lag.garch.1, lag.garch.2, \n",
        "                  lag.epu, lag.gepu, lag.vix)\n",
        "\n",
        "model.garch.1 <- lm(garch ~  lag.garch.1 + lag.garch.2, \n",
        "                    data = ols.garch)\n",
        "\n",
        "round(coeftest(model.garch.1, NeweyWest(model.garch.1, \n",
        "                                        lag = bwNeweyWest(model.garch.1), \n",
        "                                        prewhite = F)), 3)\n",
        "\n",
        "round(summary(model.garch.1)$adj.r.squared, 3)"
      ],
      "id": "u3qNPRhUClNO",
      "execution_count": null,
      "outputs": [
        {
          "output_type": "display_data",
          "data": {
            "text/plain": [
              "\n",
              "t test of coefficients:\n",
              "\n",
              "            Estimate Std. Error t value Pr(>|t|)    \n",
              "(Intercept)    0.285      0.051   5.631   <2e-16 ***\n",
              "lag.garch.1    0.834      0.073  11.397   <2e-16 ***\n",
              "lag.garch.2   -0.132      0.069  -1.919    0.056 .  \n",
              "---\n",
              "Signif. codes:  0 ‘***’ 0.001 ‘**’ 0.01 ‘*’ 0.05 ‘.’ 0.1 ‘ ’ 1\n"
            ]
          },
          "metadata": {
            "tags": []
          }
        },
        {
          "output_type": "display_data",
          "data": {
            "text/plain": [
              "[1] 0.545"
            ],
            "text/latex": "0.545",
            "text/markdown": "0.545",
            "text/html": [
              "0.545"
            ]
          },
          "metadata": {
            "tags": []
          }
        }
      ]
    },
    {
      "cell_type": "code",
      "metadata": {
        "colab": {
          "base_uri": "https://localhost:8080/",
          "height": 204
        },
        "id": "uppwdMKEE44m",
        "outputId": "c2745d6b-4555-42a5-b57d-584869e3378f"
      },
      "source": [
        "# Estimation 2 - GARCH (Best BIC:  lag= 2)\n",
        "model.garch.2 <- lm(garch ~  lag.garch.1 + lag.garch.2 + lag.epu, \n",
        "                    data = ols.garch)\n",
        "\n",
        "round(coeftest(model.garch.2, NeweyWest(model.garch.2, \n",
        "                                        lag = bwNeweyWest(model.garch.2), \n",
        "                                        prewhite = F)), 3)\n",
        "\n",
        "round(summary(model.garch.2)$adj.r.squared, 3)"
      ],
      "id": "uppwdMKEE44m",
      "execution_count": null,
      "outputs": [
        {
          "output_type": "display_data",
          "data": {
            "text/plain": [
              "\n",
              "t test of coefficients:\n",
              "\n",
              "            Estimate Std. Error t value Pr(>|t|)    \n",
              "(Intercept)    0.296      0.061   4.832   <2e-16 ***\n",
              "lag.garch.1    0.837      0.079  10.645   <2e-16 ***\n",
              "lag.garch.2   -0.133      0.070  -1.892    0.060 .  \n",
              "lag.epu        0.000      0.000  -0.480    0.632    \n",
              "---\n",
              "Signif. codes:  0 ‘***’ 0.001 ‘**’ 0.01 ‘*’ 0.05 ‘.’ 0.1 ‘ ’ 1\n"
            ]
          },
          "metadata": {
            "tags": []
          }
        },
        {
          "output_type": "display_data",
          "data": {
            "text/plain": [
              "[1] 0.544"
            ],
            "text/latex": "0.544",
            "text/markdown": "0.544",
            "text/html": [
              "0.544"
            ]
          },
          "metadata": {
            "tags": []
          }
        }
      ]
    },
    {
      "cell_type": "code",
      "metadata": {
        "colab": {
          "base_uri": "https://localhost:8080/",
          "height": 204
        },
        "id": "YX8DzU72O0oB",
        "outputId": "8bf148a7-a969-4e84-9e32-ae87e0efa8b8"
      },
      "source": [
        "# Estimation 3 - GARCH (Best BIC:  lag= 2)\n",
        "model.garch.3 <- lm(garch ~  lag.garch.1 + lag.garch.2 + lag.vix, \n",
        "                    data = ols.garch)\n",
        "\n",
        "round(coeftest(model.garch.3, NeweyWest(model.garch.3, \n",
        "                                        lag = bwNeweyWest(model.garch.3), \n",
        "                                        prewhite = F)), 3)\n",
        "\n",
        "round(summary(model.garch.3)$adj.r.squared, 3)"
      ],
      "id": "YX8DzU72O0oB",
      "execution_count": null,
      "outputs": [
        {
          "output_type": "display_data",
          "data": {
            "text/plain": [
              "\n",
              "t test of coefficients:\n",
              "\n",
              "            Estimate Std. Error t value Pr(>|t|)    \n",
              "(Intercept)    0.096      0.049   1.963    0.051 .  \n",
              "lag.garch.1    0.645      0.082   7.857   <2e-16 ***\n",
              "lag.garch.2   -0.168      0.060  -2.811    0.005 ** \n",
              "lag.vix        0.020      0.006   3.559   <2e-16 ***\n",
              "---\n",
              "Signif. codes:  0 ‘***’ 0.001 ‘**’ 0.01 ‘*’ 0.05 ‘.’ 0.1 ‘ ’ 1\n"
            ]
          },
          "metadata": {
            "tags": []
          }
        },
        {
          "output_type": "display_data",
          "data": {
            "text/plain": [
              "[1] 0.605"
            ],
            "text/latex": "0.605",
            "text/markdown": "0.605",
            "text/html": [
              "0.605"
            ]
          },
          "metadata": {
            "tags": []
          }
        }
      ]
    },
    {
      "cell_type": "code",
      "metadata": {
        "colab": {
          "base_uri": "https://localhost:8080/",
          "height": 221
        },
        "id": "it_P-MqUO4ec",
        "outputId": "885ddeb2-0b4c-4d99-959d-77d3290ec929"
      },
      "source": [
        "# Estimation 4 - GARCH (Best BIC:  lag= 2)\n",
        "model.garch.4 <- lm(garch ~  lag.garch.1 + lag.garch.2 + lag.epu + lag.vix, \n",
        "                    data = ols.garch)\n",
        "\n",
        "round(coeftest(model.garch.4, NeweyWest(model.garch.4, \n",
        "                                        lag = bwNeweyWest(model.garch.4), \n",
        "                                        prewhite = F)), 3)\n",
        "\n",
        "round(summary(model.garch.4)$adj.r.squared, 3)"
      ],
      "id": "it_P-MqUO4ec",
      "execution_count": null,
      "outputs": [
        {
          "output_type": "display_data",
          "data": {
            "text/plain": [
              "\n",
              "t test of coefficients:\n",
              "\n",
              "            Estimate Std. Error t value Pr(>|t|)    \n",
              "(Intercept)    0.092      0.061   1.499    0.135    \n",
              "lag.garch.1    0.644      0.086   7.506   <2e-16 ***\n",
              "lag.garch.2   -0.167      0.059  -2.852    0.005 ** \n",
              "lag.epu        0.000      0.000   0.119    0.906    \n",
              "lag.vix        0.020      0.006   3.532   <2e-16 ***\n",
              "---\n",
              "Signif. codes:  0 ‘***’ 0.001 ‘**’ 0.01 ‘*’ 0.05 ‘.’ 0.1 ‘ ’ 1\n"
            ]
          },
          "metadata": {
            "tags": []
          }
        },
        {
          "output_type": "display_data",
          "data": {
            "text/plain": [
              "[1] 0.603"
            ],
            "text/latex": "0.603",
            "text/markdown": "0.603",
            "text/html": [
              "0.603"
            ]
          },
          "metadata": {
            "tags": []
          }
        }
      ]
    },
    {
      "cell_type": "code",
      "metadata": {
        "colab": {
          "base_uri": "https://localhost:8080/",
          "height": 238
        },
        "id": "w-QVaWN0PS9d",
        "outputId": "26ad2ad8-5505-4ac7-b2c7-be9c45ba32c3"
      },
      "source": [
        "# Estimation 5 - GARCH (Best BIC:  lag= 2)\n",
        "model.garch.5 <- lm(garch ~  lag.garch.1 + lag.garch.2 + lag.epu + lag.gepu + lag.vix, \n",
        "                    data = ols.garch)\n",
        "\n",
        "round(coeftest(model.garch.5, NeweyWest(model.garch.5, \n",
        "                                        lag = bwNeweyWest(model.garch.5), \n",
        "                                        prewhite = F)), 3)\n",
        "\n",
        "round(summary(model.garch.5)$adj.r.squared, 3)"
      ],
      "id": "w-QVaWN0PS9d",
      "execution_count": null,
      "outputs": [
        {
          "output_type": "display_data",
          "data": {
            "text/plain": [
              "\n",
              "t test of coefficients:\n",
              "\n",
              "            Estimate Std. Error t value Pr(>|t|)    \n",
              "(Intercept)    0.157      0.066   2.390    0.018 *  \n",
              "lag.garch.1    0.585      0.078   7.532   <2e-16 ***\n",
              "lag.garch.2   -0.169      0.058  -2.884    0.004 ** \n",
              "lag.epu        0.001      0.000   3.215    0.001 ***\n",
              "lag.gepu      -0.002      0.000  -5.793   <2e-16 ***\n",
              "lag.vix        0.026      0.006   4.291   <2e-16 ***\n",
              "---\n",
              "Signif. codes:  0 ‘***’ 0.001 ‘**’ 0.01 ‘*’ 0.05 ‘.’ 0.1 ‘ ’ 1\n"
            ]
          },
          "metadata": {
            "tags": []
          }
        },
        {
          "output_type": "display_data",
          "data": {
            "text/plain": [
              "[1] 0.631"
            ],
            "text/latex": "0.631",
            "text/markdown": "0.631",
            "text/html": [
              "0.631"
            ]
          },
          "metadata": {
            "tags": []
          }
        }
      ]
    },
    {
      "cell_type": "markdown",
      "metadata": {
        "id": "KxPH8UsAFTKr"
      },
      "source": [
        "**EGARCH**"
      ],
      "id": "KxPH8UsAFTKr"
    },
    {
      "cell_type": "code",
      "metadata": {
        "colab": {
          "base_uri": "https://localhost:8080/",
          "height": 170
        },
        "id": "jjaoFjcPF-zc",
        "outputId": "4795b419-2e7b-4fa3-cb4b-3cadbd9e3c4b"
      },
      "source": [
        "# Estimation 1 - EGARCH (Best BIC:  lag= 1)\n",
        "egarch <- ts(log(BVSP.df.month$BVSP.VolEGARCH))\n",
        "lag.egarch.1 <- ts(Lag(log(BVSP.df.month$BVSP.VolEGARCH), 1))\n",
        "\n",
        "ols.egarch <- cbind(egarch, lag.egarch.1,\n",
        "                    lag.epu, lag.gepu, lag.vix)\n",
        "\n",
        "model.egarch.1 <- lm(egarch ~  lag.egarch.1, \n",
        "                    data = ols.egarch)\n",
        "\n",
        "round(coeftest(model.egarch.1, NeweyWest(model.egarch.1, \n",
        "                                         lag = bwNeweyWest(model.egarch.1), \n",
        "                                         prewhite = F)), 3)\n",
        "\n",
        "round(summary(model.egarch.1)$adj.r.squared, 3)"
      ],
      "id": "jjaoFjcPF-zc",
      "execution_count": null,
      "outputs": [
        {
          "output_type": "display_data",
          "data": {
            "text/plain": [
              "\n",
              "t test of coefficients:\n",
              "\n",
              "             Estimate Std. Error t value  Pr(>|t|)    \n",
              "(Intercept)     0.292      0.050   5.848 < 2.2e-16 ***\n",
              "lag.egarch.1    0.691      0.049  14.065 < 2.2e-16 ***\n",
              "---\n",
              "Signif. codes:  0 ‘***’ 0.001 ‘**’ 0.01 ‘*’ 0.05 ‘.’ 0.1 ‘ ’ 1\n"
            ]
          },
          "metadata": {
            "tags": []
          }
        },
        {
          "output_type": "display_data",
          "data": {
            "text/plain": [
              "[1] 0.476"
            ],
            "text/latex": "0.476",
            "text/markdown": "0.476",
            "text/html": [
              "0.476"
            ]
          },
          "metadata": {
            "tags": []
          }
        }
      ]
    },
    {
      "cell_type": "code",
      "metadata": {
        "colab": {
          "base_uri": "https://localhost:8080/",
          "height": 187
        },
        "id": "6SYfDY-QGW3S",
        "outputId": "1b48fb92-b85f-448b-f10d-956181f38a1b"
      },
      "source": [
        "# Estimation 2 - EGARCH (Best BIC:  lag= 1)\n",
        "model.egarch.2 <- lm(egarch ~  lag.egarch.1 + lag.epu, \n",
        "                     data = ols.egarch)\n",
        "\n",
        "round(coeftest(model.egarch.2, NeweyWest(model.egarch.2, \n",
        "                                         lag = bwNeweyWest(model.egarch.2), \n",
        "                                         prewhite = F)), 3)\n",
        "\n",
        "round(summary(model.egarch.2)$adj.r.squared, 3)"
      ],
      "id": "6SYfDY-QGW3S",
      "execution_count": null,
      "outputs": [
        {
          "output_type": "display_data",
          "data": {
            "text/plain": [
              "\n",
              "t test of coefficients:\n",
              "\n",
              "             Estimate Std. Error t value Pr(>|t|)    \n",
              "(Intercept)     0.336      0.050   6.677   <2e-16 ***\n",
              "lag.egarch.1    0.697      0.051  13.759   <2e-16 ***\n",
              "lag.epu         0.000      0.000  -2.053    0.041 *  \n",
              "---\n",
              "Signif. codes:  0 ‘***’ 0.001 ‘**’ 0.01 ‘*’ 0.05 ‘.’ 0.1 ‘ ’ 1\n"
            ]
          },
          "metadata": {
            "tags": []
          }
        },
        {
          "output_type": "display_data",
          "data": {
            "text/plain": [
              "[1] 0.477"
            ],
            "text/latex": "0.477",
            "text/markdown": "0.477",
            "text/html": [
              "0.477"
            ]
          },
          "metadata": {
            "tags": []
          }
        }
      ]
    },
    {
      "cell_type": "code",
      "metadata": {
        "colab": {
          "base_uri": "https://localhost:8080/",
          "height": 187
        },
        "id": "iNZE-7iEPn_A",
        "outputId": "70e65bb4-e87b-40c5-8310-2b2be30ead41"
      },
      "source": [
        "# Estimation 3 - EGARCH (Best BIC:  lag= 1)\n",
        "model.egarch.3 <- lm(egarch ~  lag.egarch.1 + lag.vix, \n",
        "                     data = ols.egarch)\n",
        "\n",
        "round(coeftest(model.egarch.3, NeweyWest(model.egarch.3, \n",
        "                                         lag = bwNeweyWest(model.egarch.3), \n",
        "                                         prewhite = F)), 3)\n",
        "\n",
        "round(summary(model.egarch.3)$adj.r.squared, 3)"
      ],
      "id": "iNZE-7iEPn_A",
      "execution_count": null,
      "outputs": [
        {
          "output_type": "display_data",
          "data": {
            "text/plain": [
              "\n",
              "t test of coefficients:\n",
              "\n",
              "             Estimate Std. Error t value Pr(>|t|)    \n",
              "(Intercept)     0.133      0.062   2.158    0.032 *  \n",
              "lag.egarch.1    0.532      0.073   7.260   <2e-16 ***\n",
              "lag.vix         0.016      0.005   3.016    0.003 ** \n",
              "---\n",
              "Signif. codes:  0 ‘***’ 0.001 ‘**’ 0.01 ‘*’ 0.05 ‘.’ 0.1 ‘ ’ 1\n"
            ]
          },
          "metadata": {
            "tags": []
          }
        },
        {
          "output_type": "display_data",
          "data": {
            "text/plain": [
              "[1] 0.512"
            ],
            "text/latex": "0.512",
            "text/markdown": "0.512",
            "text/html": [
              "0.512"
            ]
          },
          "metadata": {
            "tags": []
          }
        }
      ]
    },
    {
      "cell_type": "code",
      "metadata": {
        "colab": {
          "base_uri": "https://localhost:8080/",
          "height": 204
        },
        "id": "Cd-rJ4nnPpme",
        "outputId": "0ead6312-10e4-4b11-ec0e-439534618029"
      },
      "source": [
        "# Estimation 4 - EGARCH (Best BIC:  lag= 1)\n",
        "model.egarch.4 <- lm(egarch ~  lag.egarch.1 + lag.epu + lag.vix, \n",
        "                     data = ols.egarch)\n",
        "\n",
        "round(coeftest(model.egarch.4, NeweyWest(model.egarch.4, \n",
        "                                         lag = bwNeweyWest(model.egarch.4), \n",
        "                                         prewhite = F)), 3)\n",
        "\n",
        "round(summary(model.egarch.4)$adj.r.squared, 3)"
      ],
      "id": "Cd-rJ4nnPpme",
      "execution_count": null,
      "outputs": [
        {
          "output_type": "display_data",
          "data": {
            "text/plain": [
              "\n",
              "t test of coefficients:\n",
              "\n",
              "             Estimate Std. Error t value Pr(>|t|)    \n",
              "(Intercept)     0.171      0.062   2.769    0.006 ** \n",
              "lag.egarch.1    0.539      0.075   7.212   <2e-16 ***\n",
              "lag.epu         0.000      0.000  -1.301    0.194    \n",
              "lag.vix         0.015      0.005   2.931    0.004 ** \n",
              "---\n",
              "Signif. codes:  0 ‘***’ 0.001 ‘**’ 0.01 ‘*’ 0.05 ‘.’ 0.1 ‘ ’ 1\n"
            ]
          },
          "metadata": {
            "tags": []
          }
        },
        {
          "output_type": "display_data",
          "data": {
            "text/plain": [
              "[1] 0.513"
            ],
            "text/latex": "0.513",
            "text/markdown": "0.513",
            "text/html": [
              "0.513"
            ]
          },
          "metadata": {
            "tags": []
          }
        }
      ]
    },
    {
      "cell_type": "code",
      "metadata": {
        "colab": {
          "base_uri": "https://localhost:8080/",
          "height": 221
        },
        "id": "c3XRtwQFPqqa",
        "outputId": "fe4338bf-b34b-41e3-e36e-1d9eed4a15fa"
      },
      "source": [
        "# Estimation 5 - EGARCH (Best BIC:  lag= 1)\n",
        "model.egarch.5 <- lm(egarch ~  lag.egarch.1 + lag.epu + lag.gepu + lag.vix, \n",
        "                     data = ols.egarch)\n",
        "\n",
        "round(coeftest(model.egarch.5, NeweyWest(model.egarch.5, \n",
        "                                         lag = bwNeweyWest(model.egarch.5), \n",
        "                                         prewhite = F)), 3)\n",
        "\n",
        "round(summary(model.egarch.5)$adj.r.squared, 3)"
      ],
      "id": "c3XRtwQFPqqa",
      "execution_count": null,
      "outputs": [
        {
          "output_type": "display_data",
          "data": {
            "text/plain": [
              "\n",
              "t test of coefficients:\n",
              "\n",
              "             Estimate Std. Error t value Pr(>|t|)    \n",
              "(Intercept)     0.234      0.074   3.155    0.002 ** \n",
              "lag.egarch.1    0.482      0.074   6.535   <2e-16 ***\n",
              "lag.epu         0.000      0.000   1.219    0.224    \n",
              "lag.gepu       -0.001      0.000  -4.847   <2e-16 ***\n",
              "lag.vix         0.020      0.006   3.443    0.001 ***\n",
              "---\n",
              "Signif. codes:  0 ‘***’ 0.001 ‘**’ 0.01 ‘*’ 0.05 ‘.’ 0.1 ‘ ’ 1\n"
            ]
          },
          "metadata": {
            "tags": []
          }
        },
        {
          "output_type": "display_data",
          "data": {
            "text/plain": [
              "[1] 0.536"
            ],
            "text/latex": "0.536",
            "text/markdown": "0.536",
            "text/html": [
              "0.536"
            ]
          },
          "metadata": {
            "tags": []
          }
        }
      ]
    },
    {
      "cell_type": "markdown",
      "metadata": {
        "id": "q6ZVo4RGFVPg"
      },
      "source": [
        "**GJR-GARCH**"
      ],
      "id": "q6ZVo4RGFVPg"
    },
    {
      "cell_type": "code",
      "metadata": {
        "colab": {
          "base_uri": "https://localhost:8080/",
          "height": 170
        },
        "id": "sSV2QDYhF_4v",
        "outputId": "9ce1f5eb-6b6f-4388-8549-5a1a09e3f08f"
      },
      "source": [
        "# Estimation 1 - GJR-GARCH (Best BIC:  lag= 1)\n",
        "gjrgarch <- ts(log(BVSP.df.month$BVSP.VolGJRGARCH))\n",
        "lag.gjrgarch.1 <- ts(Lag(log(BVSP.df.month$BVSP.VolGJRGARCH), 1))\n",
        "\n",
        "ols.gjrgarch <- cbind(gjrgarch, lag.gjrgarch.1,\n",
        "                      lag.epu, lag.gepu, lag.vix)\n",
        "\n",
        "model.gjrgarch.1 <- lm(gjrgarch ~  lag.gjrgarch.1, \n",
        "                       data = ols.gjrgarch)\n",
        "\n",
        "round(coeftest(model.gjrgarch.1, NeweyWest(model.gjrgarch.1, \n",
        "                                           lag = bwNeweyWest(model.gjrgarch.1), \n",
        "                                           prewhite = F)), 3)\n",
        "\n",
        "round(summary(model.gjrgarch.1)$adj.r.squared, 3)"
      ],
      "id": "sSV2QDYhF_4v",
      "execution_count": null,
      "outputs": [
        {
          "output_type": "display_data",
          "data": {
            "text/plain": [
              "\n",
              "t test of coefficients:\n",
              "\n",
              "               Estimate Std. Error t value  Pr(>|t|)    \n",
              "(Intercept)       0.304      0.051   5.925 < 2.2e-16 ***\n",
              "lag.gjrgarch.1    0.679      0.058  11.662 < 2.2e-16 ***\n",
              "---\n",
              "Signif. codes:  0 ‘***’ 0.001 ‘**’ 0.01 ‘*’ 0.05 ‘.’ 0.1 ‘ ’ 1\n"
            ]
          },
          "metadata": {
            "tags": []
          }
        },
        {
          "output_type": "display_data",
          "data": {
            "text/plain": [
              "[1] 0.461"
            ],
            "text/latex": "0.461",
            "text/markdown": "0.461",
            "text/html": [
              "0.461"
            ]
          },
          "metadata": {
            "tags": []
          }
        }
      ]
    },
    {
      "cell_type": "code",
      "metadata": {
        "colab": {
          "base_uri": "https://localhost:8080/",
          "height": 187
        },
        "id": "QfZ9xeMXGXxq",
        "outputId": "b6137273-2118-47ba-bfb9-3888538b558a"
      },
      "source": [
        "# Estimation 2 - GJR-GARCH (Best BIC:  lag= 1)\n",
        "model.gjrgarch.2 <- lm(gjrgarch ~  lag.gjrgarch.1 + lag.epu, \n",
        "                       data = ols.gjrgarch)\n",
        "\n",
        "round(coeftest(model.gjrgarch.2, NeweyWest(model.gjrgarch.2, \n",
        "                                          lag = bwNeweyWest(model.gjrgarch.2), \n",
        "                                          prewhite = F)), 3)\n",
        "\n",
        "round(summary(model.gjrgarch.2)$adj.r.squared, 3)"
      ],
      "id": "QfZ9xeMXGXxq",
      "execution_count": null,
      "outputs": [
        {
          "output_type": "display_data",
          "data": {
            "text/plain": [
              "\n",
              "t test of coefficients:\n",
              "\n",
              "               Estimate Std. Error t value Pr(>|t|)    \n",
              "(Intercept)       0.324      0.056   5.739   <2e-16 ***\n",
              "lag.gjrgarch.1    0.683      0.058  11.697   <2e-16 ***\n",
              "lag.epu           0.000      0.000  -0.980    0.328    \n",
              "---\n",
              "Signif. codes:  0 ‘***’ 0.001 ‘**’ 0.01 ‘*’ 0.05 ‘.’ 0.1 ‘ ’ 1\n"
            ]
          },
          "metadata": {
            "tags": []
          }
        },
        {
          "output_type": "display_data",
          "data": {
            "text/plain": [
              "[1] 0.459"
            ],
            "text/latex": "0.459",
            "text/markdown": "0.459",
            "text/html": [
              "0.459"
            ]
          },
          "metadata": {
            "tags": []
          }
        }
      ]
    },
    {
      "cell_type": "code",
      "metadata": {
        "colab": {
          "base_uri": "https://localhost:8080/",
          "height": 187
        },
        "id": "RpwqcFbDQveh",
        "outputId": "bc043915-bf46-4ede-d895-648b01671fb3"
      },
      "source": [
        "# Estimation 3 - GJR-GARCH (Best BIC:  lag= 1)\n",
        "model.gjrgarch.3 <- lm(gjrgarch ~  lag.gjrgarch.1 + lag.vix, \n",
        "                       data = ols.gjrgarch)\n",
        "\n",
        "round(coeftest(model.gjrgarch.3, NeweyWest(model.gjrgarch.3, \n",
        "                                          lag = bwNeweyWest(model.gjrgarch.3), \n",
        "                                          prewhite = F)), 3)\n",
        "\n",
        "round(summary(model.gjrgarch.3)$adj.r.squared, 3)"
      ],
      "id": "RpwqcFbDQveh",
      "execution_count": null,
      "outputs": [
        {
          "output_type": "display_data",
          "data": {
            "text/plain": [
              "\n",
              "t test of coefficients:\n",
              "\n",
              "               Estimate Std. Error t value Pr(>|t|)    \n",
              "(Intercept)       0.111      0.070   1.594    0.112    \n",
              "lag.gjrgarch.1    0.488      0.076   6.427   <2e-16 ***\n",
              "lag.vix           0.019      0.006   3.112    0.002 ** \n",
              "---\n",
              "Signif. codes:  0 ‘***’ 0.001 ‘**’ 0.01 ‘*’ 0.05 ‘.’ 0.1 ‘ ’ 1\n"
            ]
          },
          "metadata": {
            "tags": []
          }
        },
        {
          "output_type": "display_data",
          "data": {
            "text/plain": [
              "[1] 0.509"
            ],
            "text/latex": "0.509",
            "text/markdown": "0.509",
            "text/html": [
              "0.509"
            ]
          },
          "metadata": {
            "tags": []
          }
        }
      ]
    },
    {
      "cell_type": "code",
      "metadata": {
        "colab": {
          "base_uri": "https://localhost:8080/",
          "height": 204
        },
        "id": "oVcvw2H_QwAc",
        "outputId": "04dff00f-f78d-4180-f9da-3083336226d9"
      },
      "source": [
        "# Estimation 4 - GJR-GARCH (Best BIC:  lag= 1)\n",
        "model.gjrgarch.4 <- lm(gjrgarch ~  lag.gjrgarch.1 + lag.epu + lag.vix, \n",
        "                       data = ols.gjrgarch)\n",
        "\n",
        "round(coeftest(model.gjrgarch.4, NeweyWest(model.gjrgarch.4, \n",
        "                                          lag = bwNeweyWest(model.gjrgarch.4), \n",
        "                                          prewhite = F)), 3)\n",
        "\n",
        "round(summary(model.gjrgarch.4)$adj.r.squared, 3)"
      ],
      "id": "oVcvw2H_QwAc",
      "execution_count": null,
      "outputs": [
        {
          "output_type": "display_data",
          "data": {
            "text/plain": [
              "\n",
              "t test of coefficients:\n",
              "\n",
              "               Estimate Std. Error t value Pr(>|t|)    \n",
              "(Intercept)       0.117      0.078   1.505    0.134    \n",
              "lag.gjrgarch.1    0.490      0.081   6.050   <2e-16 ***\n",
              "lag.epu           0.000      0.000  -0.163    0.870    \n",
              "lag.vix           0.019      0.006   3.032    0.003 ** \n",
              "---\n",
              "Signif. codes:  0 ‘***’ 0.001 ‘**’ 0.01 ‘*’ 0.05 ‘.’ 0.1 ‘ ’ 1\n"
            ]
          },
          "metadata": {
            "tags": []
          }
        },
        {
          "output_type": "display_data",
          "data": {
            "text/plain": [
              "[1] 0.507"
            ],
            "text/latex": "0.507",
            "text/markdown": "0.507",
            "text/html": [
              "0.507"
            ]
          },
          "metadata": {
            "tags": []
          }
        }
      ]
    },
    {
      "cell_type": "code",
      "metadata": {
        "colab": {
          "base_uri": "https://localhost:8080/",
          "height": 221
        },
        "id": "5lDj4PwxQwzP",
        "outputId": "d2285288-5cb6-4082-8b11-e144ea163b2f"
      },
      "source": [
        "# Estimation 5 - GJR-GARCH (Best BIC:  lag= 1)\n",
        "model.gjrgarch.5 <- lm(gjrgarch ~  lag.gjrgarch.1 + lag.epu + lag.gepu + lag.vix, \n",
        "                       data = ols.gjrgarch)\n",
        "\n",
        "round(coeftest(model.gjrgarch.5, NeweyWest(model.gjrgarch.5, \n",
        "                                          lag = bwNeweyWest(model.gjrgarch.5), \n",
        "                                          prewhite = F)), 3)\n",
        "\n",
        "round(summary(model.gjrgarch.5)$adj.r.squared, 3)"
      ],
      "id": "5lDj4PwxQwzP",
      "execution_count": null,
      "outputs": [
        {
          "output_type": "display_data",
          "data": {
            "text/plain": [
              "\n",
              "t test of coefficients:\n",
              "\n",
              "               Estimate Std. Error t value Pr(>|t|)    \n",
              "(Intercept)       0.177      0.090   1.971    0.050 *  \n",
              "lag.gjrgarch.1    0.438      0.074   5.891   <2e-16 ***\n",
              "lag.epu           0.001      0.000   2.113    0.036 *  \n",
              "lag.gepu         -0.001      0.000  -4.707   <2e-16 ***\n",
              "lag.vix           0.024      0.007   3.477    0.001 ***\n",
              "---\n",
              "Signif. codes:  0 ‘***’ 0.001 ‘**’ 0.01 ‘*’ 0.05 ‘.’ 0.1 ‘ ’ 1\n"
            ]
          },
          "metadata": {
            "tags": []
          }
        },
        {
          "output_type": "display_data",
          "data": {
            "text/plain": [
              "[1] 0.531"
            ],
            "text/latex": "0.531",
            "text/markdown": "0.531",
            "text/html": [
              "0.531"
            ]
          },
          "metadata": {
            "tags": []
          }
        }
      ]
    },
    {
      "cell_type": "markdown",
      "metadata": {
        "id": "9k0Ku1lRFXsE"
      },
      "source": [
        "**Realized Linear GARCH**"
      ],
      "id": "9k0Ku1lRFXsE"
    },
    {
      "cell_type": "code",
      "metadata": {
        "colab": {
          "base_uri": "https://localhost:8080/",
          "height": 187
        },
        "id": "ggRFZZTrGA7l",
        "outputId": "0fe25d45-40fe-42b6-acf2-08baa80f4fcf"
      },
      "source": [
        "# Estimation 1 - Realized Linear GARCH (Best BIC:  lag= 2)\n",
        "realgarch <- ts(log(BVSP.df.month$BVSP.VolRealGARCH))\n",
        "lag.realgarch.1 <- ts(Lag(log(BVSP.df.month$BVSP.VolRealGARCH), 1))\n",
        "lag.realgarch.2 <- ts(Lag(log(BVSP.df.month$BVSP.VolRealGARCH), 2))\n",
        "\n",
        "ols.realgarch <- cbind(realgarch, lag.realgarch.1, lag.realgarch.2, \n",
        "                       lag.epu, lag.gepu, lag.vix)\n",
        "\n",
        "model.realgarch.1 <- lm(realgarch ~  lag.realgarch.1 + lag.realgarch.2, \n",
        "                        data = ols.realgarch)\n",
        "\n",
        "round(coeftest(model.realgarch.1, NeweyWest(model.realgarch.1, \n",
        "                                            lag = bwNeweyWest(model.realgarch.1), \n",
        "                                            prewhite = F)), 3)\n",
        "\n",
        "round(summary(model.realgarch.1)$adj.r.squared, 3)"
      ],
      "id": "ggRFZZTrGA7l",
      "execution_count": null,
      "outputs": [
        {
          "output_type": "display_data",
          "data": {
            "text/plain": [
              "\n",
              "t test of coefficients:\n",
              "\n",
              "                Estimate Std. Error t value Pr(>|t|)    \n",
              "(Intercept)        0.292      0.055   5.345   <2e-16 ***\n",
              "lag.realgarch.1    0.828      0.069  11.943   <2e-16 ***\n",
              "lag.realgarch.2   -0.130      0.062  -2.093    0.037 *  \n",
              "---\n",
              "Signif. codes:  0 ‘***’ 0.001 ‘**’ 0.01 ‘*’ 0.05 ‘.’ 0.1 ‘ ’ 1\n"
            ]
          },
          "metadata": {
            "tags": []
          }
        },
        {
          "output_type": "display_data",
          "data": {
            "text/plain": [
              "[1] 0.539"
            ],
            "text/latex": "0.539",
            "text/markdown": "0.539",
            "text/html": [
              "0.539"
            ]
          },
          "metadata": {
            "tags": []
          }
        }
      ]
    },
    {
      "cell_type": "code",
      "metadata": {
        "colab": {
          "base_uri": "https://localhost:8080/",
          "height": 204
        },
        "id": "hlGIumFjGY6u",
        "outputId": "cb572e51-4e77-4e4f-d406-85d4add35044"
      },
      "source": [
        "# Estimation 2 - Realized Linear GARCH (Best BIC:  lag= 2)\n",
        "model.realgarch.2 <- lm(realgarch ~  lag.realgarch.1 + lag.realgarch.2 + lag.epu, \n",
        "                        data = ols.realgarch)\n",
        "\n",
        "round(coeftest(model.realgarch.2, NeweyWest(model.realgarch.2, \n",
        "                                            lag = bwNeweyWest(model.realgarch.2), \n",
        "                                            prewhite = F)), 3)\n",
        "\n",
        "round(summary(model.realgarch.2)$adj.r.squared, 3)"
      ],
      "id": "hlGIumFjGY6u",
      "execution_count": null,
      "outputs": [
        {
          "output_type": "display_data",
          "data": {
            "text/plain": [
              "\n",
              "t test of coefficients:\n",
              "\n",
              "                Estimate Std. Error t value Pr(>|t|)    \n",
              "(Intercept)        0.297      0.063   4.701   <2e-16 ***\n",
              "lag.realgarch.1    0.830      0.078  10.696   <2e-16 ***\n",
              "lag.realgarch.2   -0.131      0.066  -1.987    0.048 *  \n",
              "lag.epu            0.000      0.000  -0.222    0.825    \n",
              "---\n",
              "Signif. codes:  0 ‘***’ 0.001 ‘**’ 0.01 ‘*’ 0.05 ‘.’ 0.1 ‘ ’ 1\n"
            ]
          },
          "metadata": {
            "tags": []
          }
        },
        {
          "output_type": "display_data",
          "data": {
            "text/plain": [
              "[1] 0.538"
            ],
            "text/latex": "0.538",
            "text/markdown": "0.538",
            "text/html": [
              "0.538"
            ]
          },
          "metadata": {
            "tags": []
          }
        }
      ]
    },
    {
      "cell_type": "code",
      "metadata": {
        "colab": {
          "base_uri": "https://localhost:8080/",
          "height": 204
        },
        "id": "Fort9qJBRSmj",
        "outputId": "63955542-9015-436c-f865-ae7d1cdfeb0b"
      },
      "source": [
        "# Estimation 3 - Realized Linear GARCH (Best BIC:  lag= 2)\n",
        "model.realgarch.3 <- lm(realgarch ~  lag.realgarch.1 + lag.realgarch.2 + lag.vix, \n",
        "                        data = ols.realgarch)\n",
        "\n",
        "round(coeftest(model.realgarch.3, NeweyWest(model.realgarch.3, \n",
        "                                            lag = bwNeweyWest(model.realgarch.3), \n",
        "                                            prewhite = F)), 3)\n",
        "\n",
        "round(summary(model.realgarch.3)$adj.r.squared, 3)"
      ],
      "id": "Fort9qJBRSmj",
      "execution_count": null,
      "outputs": [
        {
          "output_type": "display_data",
          "data": {
            "text/plain": [
              "\n",
              "t test of coefficients:\n",
              "\n",
              "                Estimate Std. Error t value Pr(>|t|)    \n",
              "(Intercept)        0.083      0.052   1.596    0.112    \n",
              "lag.realgarch.1    0.629      0.087   7.245   <2e-16 ***\n",
              "lag.realgarch.2   -0.166      0.055  -3.017    0.003 ** \n",
              "lag.vix            0.022      0.006   3.576   <2e-16 ***\n",
              "---\n",
              "Signif. codes:  0 ‘***’ 0.001 ‘**’ 0.01 ‘*’ 0.05 ‘.’ 0.1 ‘ ’ 1\n"
            ]
          },
          "metadata": {
            "tags": []
          }
        },
        {
          "output_type": "display_data",
          "data": {
            "text/plain": [
              "[1] 0.607"
            ],
            "text/latex": "0.607",
            "text/markdown": "0.607",
            "text/html": [
              "0.607"
            ]
          },
          "metadata": {
            "tags": []
          }
        }
      ]
    },
    {
      "cell_type": "code",
      "metadata": {
        "colab": {
          "base_uri": "https://localhost:8080/",
          "height": 221
        },
        "id": "Y7DFY72qRTZm",
        "outputId": "c031aa53-5c87-4ae8-80e7-3d410d4dadcc"
      },
      "source": [
        "# Estimation 4 - Realized Linear GARCH (Best BIC:  lag= 2)\n",
        "model.realgarch.4 <- lm(realgarch ~  lag.realgarch.1 + lag.realgarch.2 + lag.epu + lag.vix, \n",
        "                        data = ols.realgarch)\n",
        "\n",
        "round(coeftest(model.realgarch.4, NeweyWest(model.realgarch.4, \n",
        "                                            lag = bwNeweyWest(model.realgarch.4), \n",
        "                                            prewhite = F)), 3)\n",
        "\n",
        "round(summary(model.realgarch.4)$adj.r.squared, 3)"
      ],
      "id": "Y7DFY72qRTZm",
      "execution_count": null,
      "outputs": [
        {
          "output_type": "display_data",
          "data": {
            "text/plain": [
              "\n",
              "t test of coefficients:\n",
              "\n",
              "                Estimate Std. Error t value Pr(>|t|)    \n",
              "(Intercept)        0.073      0.067   1.095    0.274    \n",
              "lag.realgarch.1    0.626      0.091   6.854   <2e-16 ***\n",
              "lag.realgarch.2   -0.165      0.053  -3.095    0.002 ** \n",
              "lag.epu            0.000      0.000   0.324    0.746    \n",
              "lag.vix            0.022      0.006   3.539   <2e-16 ***\n",
              "---\n",
              "Signif. codes:  0 ‘***’ 0.001 ‘**’ 0.01 ‘*’ 0.05 ‘.’ 0.1 ‘ ’ 1\n"
            ]
          },
          "metadata": {
            "tags": []
          }
        },
        {
          "output_type": "display_data",
          "data": {
            "text/plain": [
              "[1] 0.606"
            ],
            "text/latex": "0.606",
            "text/markdown": "0.606",
            "text/html": [
              "0.606"
            ]
          },
          "metadata": {
            "tags": []
          }
        }
      ]
    },
    {
      "cell_type": "code",
      "metadata": {
        "colab": {
          "base_uri": "https://localhost:8080/",
          "height": 238
        },
        "id": "zYv19mZSRUB9",
        "outputId": "12e55e08-cd60-4816-d683-ba9a7524f5d4"
      },
      "source": [
        "# Estimation 5 - Realized Linear GARCH (Best BIC:  lag= 2)\n",
        "model.realgarch.5 <- lm(realgarch ~  lag.realgarch.1 + lag.realgarch.2 + lag.epu + lag.gepu + lag.vix, \n",
        "                        data = ols.realgarch)\n",
        "\n",
        "round(coeftest(model.realgarch.5, NeweyWest(model.realgarch.5, \n",
        "                                            lag = bwNeweyWest(model.realgarch.5), \n",
        "                                            prewhite = F)), 3)\n",
        "\n",
        "round(summary(model.realgarch.5)$adj.r.squared, 3)"
      ],
      "id": "zYv19mZSRUB9",
      "execution_count": null,
      "outputs": [
        {
          "output_type": "display_data",
          "data": {
            "text/plain": [
              "\n",
              "t test of coefficients:\n",
              "\n",
              "                Estimate Std. Error t value Pr(>|t|)    \n",
              "(Intercept)        0.141      0.072   1.959    0.051 .  \n",
              "lag.realgarch.1    0.569      0.083   6.871   <2e-16 ***\n",
              "lag.realgarch.2   -0.165      0.055  -2.982    0.003 ** \n",
              "lag.epu            0.001      0.000   3.247    0.001 ***\n",
              "lag.gepu          -0.002      0.000  -5.791   <2e-16 ***\n",
              "lag.vix            0.027      0.006   4.270   <2e-16 ***\n",
              "---\n",
              "Signif. codes:  0 ‘***’ 0.001 ‘**’ 0.01 ‘*’ 0.05 ‘.’ 0.1 ‘ ’ 1\n"
            ]
          },
          "metadata": {
            "tags": []
          }
        },
        {
          "output_type": "display_data",
          "data": {
            "text/plain": [
              "[1] 0.634"
            ],
            "text/latex": "0.634",
            "text/markdown": "0.634",
            "text/html": [
              "0.634"
            ]
          },
          "metadata": {
            "tags": []
          }
        }
      ]
    },
    {
      "cell_type": "markdown",
      "metadata": {
        "id": "tUOifxgkFbpF"
      },
      "source": [
        "**Realized EGARCH**"
      ],
      "id": "tUOifxgkFbpF"
    },
    {
      "cell_type": "code",
      "metadata": {
        "colab": {
          "base_uri": "https://localhost:8080/",
          "height": 170
        },
        "id": "aKcrDVVGGCtZ",
        "outputId": "c82ebdc8-7a6d-446d-d00c-c7efe3e21c37"
      },
      "source": [
        "# Estimation 1 - Realized EGARCH (Best BIC:  lag= 1)\n",
        "realegarch <- ts(log(BVSP.df.month$BVSP.VolRealEGARCH))\n",
        "lag.realegarch.1 <- ts(Lag(log(BVSP.df.month$BVSP.VolRealEGARCH), 1))\n",
        "\n",
        "ols.realegarch <- cbind(realegarch, lag.realegarch.1,\n",
        "                        lag.epu, lag.gepu, lag.vix)\n",
        "\n",
        "model.realegarch.1 <- lm(realegarch ~  lag.realegarch.1, \n",
        "                        data = ols.realegarch)\n",
        "\n",
        "round(coeftest(model.realegarch.1, NeweyWest(model.realegarch.1, \n",
        "                                            lag = bwNeweyWest(model.realegarch.1), \n",
        "                                            prewhite = F)), 3)\n",
        "\n",
        "round(summary(model.realegarch.1)$adj.r.squared, 3)"
      ],
      "id": "aKcrDVVGGCtZ",
      "execution_count": null,
      "outputs": [
        {
          "output_type": "display_data",
          "data": {
            "text/plain": [
              "\n",
              "t test of coefficients:\n",
              "\n",
              "                 Estimate Std. Error t value  Pr(>|t|)    \n",
              "(Intercept)         0.298      0.052   5.754 < 2.2e-16 ***\n",
              "lag.realegarch.1    0.689      0.050  13.836 < 2.2e-16 ***\n",
              "---\n",
              "Signif. codes:  0 ‘***’ 0.001 ‘**’ 0.01 ‘*’ 0.05 ‘.’ 0.1 ‘ ’ 1\n"
            ]
          },
          "metadata": {
            "tags": []
          }
        },
        {
          "output_type": "display_data",
          "data": {
            "text/plain": [
              "[1] 0.473"
            ],
            "text/latex": "0.473",
            "text/markdown": "0.473",
            "text/html": [
              "0.473"
            ]
          },
          "metadata": {
            "tags": []
          }
        }
      ]
    },
    {
      "cell_type": "code",
      "metadata": {
        "colab": {
          "base_uri": "https://localhost:8080/",
          "height": 187
        },
        "id": "k9o6HRw9GZ1M",
        "outputId": "8238eb83-9cd6-471e-c309-00e666eea7c6"
      },
      "source": [
        "# Estimation 2 - Realized EGARCH (Best BIC:  lag= 1)\n",
        "model.realegarch.2 <- lm(realegarch ~  lag.realegarch.1 + lag.epu, \n",
        "                          data = ols.realegarch)\n",
        "\n",
        "round(coeftest(model.realegarch.2, NeweyWest(model.realegarch.2, \n",
        "                                              lag = bwNeweyWest(model.realegarch.2), \n",
        "                                              prewhite = F)), 3)\n",
        "\n",
        "round(summary(model.realegarch.2)$adj.r.squared, 3)"
      ],
      "id": "k9o6HRw9GZ1M",
      "execution_count": null,
      "outputs": [
        {
          "output_type": "display_data",
          "data": {
            "text/plain": [
              "\n",
              "t test of coefficients:\n",
              "\n",
              "                 Estimate Std. Error t value Pr(>|t|)    \n",
              "(Intercept)         0.337      0.052   6.531   <2e-16 ***\n",
              "lag.realegarch.1    0.694      0.052  13.357   <2e-16 ***\n",
              "lag.epu             0.000      0.000  -1.754    0.081 .  \n",
              "---\n",
              "Signif. codes:  0 ‘***’ 0.001 ‘**’ 0.01 ‘*’ 0.05 ‘.’ 0.1 ‘ ’ 1\n"
            ]
          },
          "metadata": {
            "tags": []
          }
        },
        {
          "output_type": "display_data",
          "data": {
            "text/plain": [
              "[1] 0.473"
            ],
            "text/latex": "0.473",
            "text/markdown": "0.473",
            "text/html": [
              "0.473"
            ]
          },
          "metadata": {
            "tags": []
          }
        }
      ]
    },
    {
      "cell_type": "code",
      "metadata": {
        "colab": {
          "base_uri": "https://localhost:8080/",
          "height": 187
        },
        "id": "I1exBnz0R4Pj",
        "outputId": "ba074cf9-53e6-400d-c09e-7413448c9825"
      },
      "source": [
        "# Estimation 3 - Realized EGARCH (Best BIC:  lag= 1)\n",
        "model.realegarch.3 <- lm(realegarch ~  lag.realegarch.1 + lag.vix, \n",
        "                          data = ols.realegarch)\n",
        "\n",
        "round(coeftest(model.realegarch.3, NeweyWest(model.realegarch.3, \n",
        "                                              lag = bwNeweyWest(model.realegarch.3), \n",
        "                                              prewhite = F)), 3)\n",
        "\n",
        "round(summary(model.realegarch.3)$adj.r.squared, 3)"
      ],
      "id": "I1exBnz0R4Pj",
      "execution_count": null,
      "outputs": [
        {
          "output_type": "display_data",
          "data": {
            "text/plain": [
              "\n",
              "t test of coefficients:\n",
              "\n",
              "                 Estimate Std. Error t value Pr(>|t|)    \n",
              "(Intercept)         0.126      0.063   2.001    0.046 *  \n",
              "lag.realegarch.1    0.519      0.076   6.859   <2e-16 ***\n",
              "lag.vix             0.017      0.005   3.117    0.002 ** \n",
              "---\n",
              "Signif. codes:  0 ‘***’ 0.001 ‘**’ 0.01 ‘*’ 0.05 ‘.’ 0.1 ‘ ’ 1\n"
            ]
          },
          "metadata": {
            "tags": []
          }
        },
        {
          "output_type": "display_data",
          "data": {
            "text/plain": [
              "[1] 0.516"
            ],
            "text/latex": "0.516",
            "text/markdown": "0.516",
            "text/html": [
              "0.516"
            ]
          },
          "metadata": {
            "tags": []
          }
        }
      ]
    },
    {
      "cell_type": "code",
      "metadata": {
        "colab": {
          "base_uri": "https://localhost:8080/",
          "height": 221
        },
        "id": "txIofdC1R5OJ",
        "outputId": "f7fdf545-c93d-425b-ac31-b1b04cb7a3e9"
      },
      "source": [
        "# Estimation 4 - Realized EGARCH (Best BIC:  lag= 1)\n",
        "model.realegarch.4 <- lm(realegarch ~  lag.realegarch.1 + lag.epu + lag.gepu + lag.vix, \n",
        "                          data = ols.realegarch)\n",
        "\n",
        "round(coeftest(model.realegarch.4, NeweyWest(model.realegarch.4, \n",
        "                                              lag = bwNeweyWest(model.realegarch.4), \n",
        "                                              prewhite = F)), 3)\n",
        "\n",
        "round(summary(model.realegarch.4)$adj.r.squared, 3)"
      ],
      "id": "txIofdC1R5OJ",
      "execution_count": null,
      "outputs": [
        {
          "output_type": "display_data",
          "data": {
            "text/plain": [
              "\n",
              "t test of coefficients:\n",
              "\n",
              "                 Estimate Std. Error t value Pr(>|t|)    \n",
              "(Intercept)         0.223      0.076   2.947    0.004 ** \n",
              "lag.realegarch.1    0.468      0.076   6.180   <2e-16 ***\n",
              "lag.epu             0.000      0.000   1.409    0.160    \n",
              "lag.gepu           -0.001      0.000  -4.918   <2e-16 ***\n",
              "lag.vix             0.022      0.006   3.489    0.001 ***\n",
              "---\n",
              "Signif. codes:  0 ‘***’ 0.001 ‘**’ 0.01 ‘*’ 0.05 ‘.’ 0.1 ‘ ’ 1\n"
            ]
          },
          "metadata": {
            "tags": []
          }
        },
        {
          "output_type": "display_data",
          "data": {
            "text/plain": [
              "[1] 0.541"
            ],
            "text/latex": "0.541",
            "text/markdown": "0.541",
            "text/html": [
              "0.541"
            ]
          },
          "metadata": {
            "tags": []
          }
        }
      ]
    },
    {
      "cell_type": "code",
      "metadata": {
        "colab": {
          "base_uri": "https://localhost:8080/",
          "height": 221
        },
        "id": "HpsZ5qyNR6JL",
        "outputId": "63076716-57a7-4201-df78-a73455f2ac7c"
      },
      "source": [
        "# Estimation 5 - Realized EGARCH (Best BIC:  lag= 1)\n",
        "model.realegarch.5 <- lm(realegarch ~  lag.realegarch.1 + lag.epu + lag.gepu + lag.vix, \n",
        "                          data = ols.realegarch)\n",
        "\n",
        "round(coeftest(model.realegarch.5, NeweyWest(model.realegarch.5, \n",
        "                                              lag = bwNeweyWest(model.realegarch.5), \n",
        "                                              prewhite = F)), 3)\n",
        "\n",
        "round(summary(model.realegarch.5)$adj.r.squared, 3)"
      ],
      "id": "HpsZ5qyNR6JL",
      "execution_count": null,
      "outputs": [
        {
          "output_type": "display_data",
          "data": {
            "text/plain": [
              "\n",
              "t test of coefficients:\n",
              "\n",
              "                 Estimate Std. Error t value Pr(>|t|)    \n",
              "(Intercept)         0.223      0.076   2.947    0.004 ** \n",
              "lag.realegarch.1    0.468      0.076   6.180   <2e-16 ***\n",
              "lag.epu             0.000      0.000   1.409    0.160    \n",
              "lag.gepu           -0.001      0.000  -4.918   <2e-16 ***\n",
              "lag.vix             0.022      0.006   3.489    0.001 ***\n",
              "---\n",
              "Signif. codes:  0 ‘***’ 0.001 ‘**’ 0.01 ‘*’ 0.05 ‘.’ 0.1 ‘ ’ 1\n"
            ]
          },
          "metadata": {
            "tags": []
          }
        },
        {
          "output_type": "display_data",
          "data": {
            "text/plain": [
              "[1] 0.541"
            ],
            "text/latex": "0.541",
            "text/markdown": "0.541",
            "text/html": [
              "0.541"
            ]
          },
          "metadata": {
            "tags": []
          }
        }
      ]
    },
    {
      "cell_type": "markdown",
      "metadata": {
        "id": "zegAfcHHFdbK"
      },
      "source": [
        "**Realized GJR-GARCH**"
      ],
      "id": "zegAfcHHFdbK"
    },
    {
      "cell_type": "code",
      "metadata": {
        "colab": {
          "base_uri": "https://localhost:8080/",
          "height": 187
        },
        "id": "g0qHrweAGDrp",
        "outputId": "b78f6842-4817-43f0-dbeb-4b1e00458f86"
      },
      "source": [
        "# Estimation 1 - Realized GJR-GARCH (Best BIC:  lag= 2)\n",
        "realgjrgarch <- ts(log(BVSP.df.month$BVSP.VolRealGJRGARCH))\n",
        "lag.realgjrgarch.1 <- ts(Lag(log(BVSP.df.month$BVSP.VolRealGJRGARCH), 1))\n",
        "lag.realgjrgarch.2 <- ts(Lag(log(BVSP.df.month$BVSP.VolRealGJRGARCH), 2))\n",
        "\n",
        "ols.realgjrgarch <- cbind(realgjrgarch, lag.realgjrgarch.1, lag.realgjrgarch.2, \n",
        "                          lag.epu, lag.gepu, lag.vix)\n",
        "\n",
        "model.realgjrgarch.1 <- lm(realgjrgarch ~  lag.realgjrgarch.1 + lag.realgjrgarch.2, \n",
        "                            data = ols.realgjrgarch)\n",
        "\n",
        "round(coeftest(model.realgjrgarch.1, NeweyWest(model.realgjrgarch.1, \n",
        "                                              lag = bwNeweyWest(model.realgjrgarch.1), \n",
        "                                              prewhite = F)), 3)\n",
        "\n",
        "round(summary(model.realgjrgarch.1)$adj.r.squared, 3)"
      ],
      "id": "g0qHrweAGDrp",
      "execution_count": null,
      "outputs": [
        {
          "output_type": "display_data",
          "data": {
            "text/plain": [
              "\n",
              "t test of coefficients:\n",
              "\n",
              "                   Estimate Std. Error t value Pr(>|t|)    \n",
              "(Intercept)           0.347      0.062   5.560   <2e-16 ***\n",
              "lag.realgjrgarch.1    0.743      0.075   9.940   <2e-16 ***\n",
              "lag.realgjrgarch.2   -0.104      0.068  -1.541    0.125    \n",
              "---\n",
              "Signif. codes:  0 ‘***’ 0.001 ‘**’ 0.01 ‘*’ 0.05 ‘.’ 0.1 ‘ ’ 1\n"
            ]
          },
          "metadata": {
            "tags": []
          }
        },
        {
          "output_type": "display_data",
          "data": {
            "text/plain": [
              "[1] 0.453"
            ],
            "text/latex": "0.453",
            "text/markdown": "0.453",
            "text/html": [
              "0.453"
            ]
          },
          "metadata": {
            "tags": []
          }
        }
      ]
    },
    {
      "cell_type": "code",
      "metadata": {
        "colab": {
          "base_uri": "https://localhost:8080/",
          "height": 204
        },
        "id": "upoZ-ZM9GbFJ",
        "outputId": "1e334eac-a5ff-4c58-bd18-dbba4136b6d0"
      },
      "source": [
        "# Estimation 2 - Realized GJR-GARCH (Best BIC:  lag= 2)\n",
        "model.realgjrgarch.2 <- lm(realgjrgarch ~  lag.realgjrgarch.1 + lag.realgjrgarch.2 + lag.epu, \n",
        "                          data = ols.realgjrgarch)\n",
        "\n",
        "round(coeftest(model.realgjrgarch.2, NeweyWest(model.realgjrgarch.2, \n",
        "                                              lag = bwNeweyWest(model.realgjrgarch.2), \n",
        "                                              prewhite = F)), 3)\n",
        "\n",
        "round(summary(model.realgjrgarch.2)$adj.r.squared, 3)"
      ],
      "id": "upoZ-ZM9GbFJ",
      "execution_count": null,
      "outputs": [
        {
          "output_type": "display_data",
          "data": {
            "text/plain": [
              "\n",
              "t test of coefficients:\n",
              "\n",
              "                   Estimate Std. Error t value Pr(>|t|)    \n",
              "(Intercept)           0.365      0.069   5.304   <2e-16 ***\n",
              "lag.realgjrgarch.1    0.748      0.079   9.501   <2e-16 ***\n",
              "lag.realgjrgarch.2   -0.105      0.074  -1.428    0.155    \n",
              "lag.epu               0.000      0.000  -0.721    0.472    \n",
              "---\n",
              "Signif. codes:  0 ‘***’ 0.001 ‘**’ 0.01 ‘*’ 0.05 ‘.’ 0.1 ‘ ’ 1\n"
            ]
          },
          "metadata": {
            "tags": []
          }
        },
        {
          "output_type": "display_data",
          "data": {
            "text/plain": [
              "[1] 0.452"
            ],
            "text/latex": "0.452",
            "text/markdown": "0.452",
            "text/html": [
              "0.452"
            ]
          },
          "metadata": {
            "tags": []
          }
        }
      ]
    },
    {
      "cell_type": "code",
      "metadata": {
        "colab": {
          "base_uri": "https://localhost:8080/",
          "height": 204
        },
        "id": "ZNfAR-ogSdfR",
        "outputId": "c85a308a-5106-4019-d65f-79eab9f4693f"
      },
      "source": [
        "# Estimation 3 - Realized GJR-GARCH (Best BIC:  lag= 2)\n",
        "model.realgjrgarch.3 <- lm(realgjrgarch ~  lag.realgjrgarch.1 + lag.realgjrgarch.2 + lag.vix, \n",
        "                          data = ols.realgjrgarch)\n",
        "\n",
        "round(coeftest(model.realgjrgarch.3, NeweyWest(model.realgjrgarch.3, \n",
        "                                              lag = bwNeweyWest(model.realgjrgarch.3), \n",
        "                                              prewhite = F)), 3)\n",
        "\n",
        "round(summary(model.realgjrgarch.3)$adj.r.squared, 3)"
      ],
      "id": "ZNfAR-ogSdfR",
      "execution_count": null,
      "outputs": [
        {
          "output_type": "display_data",
          "data": {
            "text/plain": [
              "\n",
              "t test of coefficients:\n",
              "\n",
              "                   Estimate Std. Error t value Pr(>|t|)    \n",
              "(Intercept)           0.141      0.057   2.470    0.014 *  \n",
              "lag.realgjrgarch.1    0.560      0.077   7.232   <2e-16 ***\n",
              "lag.realgjrgarch.2   -0.161      0.063  -2.568    0.011 *  \n",
              "lag.vix               0.022      0.006   3.385    0.001 ***\n",
              "---\n",
              "Signif. codes:  0 ‘***’ 0.001 ‘**’ 0.01 ‘*’ 0.05 ‘.’ 0.1 ‘ ’ 1\n"
            ]
          },
          "metadata": {
            "tags": []
          }
        },
        {
          "output_type": "display_data",
          "data": {
            "text/plain": [
              "[1] 0.522"
            ],
            "text/latex": "0.522",
            "text/markdown": "0.522",
            "text/html": [
              "0.522"
            ]
          },
          "metadata": {
            "tags": []
          }
        }
      ]
    },
    {
      "cell_type": "code",
      "metadata": {
        "colab": {
          "base_uri": "https://localhost:8080/",
          "height": 221
        },
        "id": "nAvk7lOxSfk7",
        "outputId": "c1df9358-adf5-485a-d470-390c0dded93e"
      },
      "source": [
        "# Estimation 4 - Realized GJR-GARCH (Best BIC:  lag= 2)\n",
        "model.realgjrgarch.4 <- lm(realgjrgarch ~  lag.realgjrgarch.1 + lag.realgjrgarch.2 + lag.epu + lag.vix, \n",
        "                          data = ols.realgjrgarch)\n",
        "\n",
        "round(coeftest(model.realgjrgarch.4, NeweyWest(model.realgjrgarch.4, \n",
        "                                              lag = bwNeweyWest(model.realgjrgarch.4), \n",
        "                                              prewhite = F)), 3)\n",
        "\n",
        "round(summary(model.realgjrgarch.4)$adj.r.squared, 3)"
      ],
      "id": "nAvk7lOxSfk7",
      "execution_count": null,
      "outputs": [
        {
          "output_type": "display_data",
          "data": {
            "text/plain": [
              "\n",
              "t test of coefficients:\n",
              "\n",
              "                   Estimate Std. Error t value Pr(>|t|)    \n",
              "(Intercept)           0.143      0.073   1.951    0.052 .  \n",
              "lag.realgjrgarch.1    0.560      0.081   6.952   <2e-16 ***\n",
              "lag.realgjrgarch.2   -0.161      0.060  -2.684    0.008 ** \n",
              "lag.epu               0.000      0.000  -0.049    0.961    \n",
              "lag.vix               0.022      0.006   3.369    0.001 ***\n",
              "---\n",
              "Signif. codes:  0 ‘***’ 0.001 ‘**’ 0.01 ‘*’ 0.05 ‘.’ 0.1 ‘ ’ 1\n"
            ]
          },
          "metadata": {
            "tags": []
          }
        },
        {
          "output_type": "display_data",
          "data": {
            "text/plain": [
              "[1] 0.52"
            ],
            "text/latex": "0.52",
            "text/markdown": "0.52",
            "text/html": [
              "0.52"
            ]
          },
          "metadata": {
            "tags": []
          }
        }
      ]
    },
    {
      "cell_type": "code",
      "metadata": {
        "colab": {
          "base_uri": "https://localhost:8080/",
          "height": 238
        },
        "id": "q8aAhKYVSe07",
        "outputId": "0af727d5-5310-4a17-87ab-b234630ae205"
      },
      "source": [
        "# Estimation 5 - Realized GJR-GARCH (Best BIC:  lag= 2)\n",
        "model.realgjrgarch.5 <- lm(realgjrgarch ~  lag.realgjrgarch.1 + lag.realgjrgarch.2 + lag.epu + lag.gepu + lag.vix, \n",
        "                          data = ols.realgjrgarch)\n",
        "\n",
        "round(coeftest(model.realgjrgarch.5, NeweyWest(model.realgjrgarch.5, \n",
        "                                              lag = bwNeweyWest(model.realgjrgarch.5), \n",
        "                                              prewhite = F)), 3)\n",
        "\n",
        "round(summary(model.realgjrgarch.5)$adj.r.squared, 3)"
      ],
      "id": "q8aAhKYVSe07",
      "execution_count": null,
      "outputs": [
        {
          "output_type": "display_data",
          "data": {
            "text/plain": [
              "\n",
              "t test of coefficients:\n",
              "\n",
              "                   Estimate Std. Error t value Pr(>|t|)    \n",
              "(Intercept)           0.208      0.078   2.661    0.008 ** \n",
              "lag.realgjrgarch.1    0.510      0.075   6.765   <2e-16 ***\n",
              "lag.realgjrgarch.2   -0.163      0.057  -2.841    0.005 ** \n",
              "lag.epu               0.001      0.000   2.291    0.023 *  \n",
              "lag.gepu             -0.002      0.000  -4.892   <2e-16 ***\n",
              "lag.vix               0.027      0.007   3.889   <2e-16 ***\n",
              "---\n",
              "Signif. codes:  0 ‘***’ 0.001 ‘**’ 0.01 ‘*’ 0.05 ‘.’ 0.1 ‘ ’ 1\n"
            ]
          },
          "metadata": {
            "tags": []
          }
        },
        {
          "output_type": "display_data",
          "data": {
            "text/plain": [
              "[1] 0.547"
            ],
            "text/latex": "0.547",
            "text/markdown": "0.547",
            "text/html": [
              "0.547"
            ]
          },
          "metadata": {
            "tags": []
          }
        }
      ]
    },
    {
      "cell_type": "markdown",
      "metadata": {
        "id": "Cak8CR8-Fft3"
      },
      "source": [
        "**MS Linear GARCH**"
      ],
      "id": "Cak8CR8-Fft3"
    },
    {
      "cell_type": "code",
      "metadata": {
        "colab": {
          "base_uri": "https://localhost:8080/",
          "height": 187
        },
        "id": "fG33RRq4GEcL",
        "outputId": "1c338089-f640-4f5b-83c2-bc2e7df6705d"
      },
      "source": [
        "# Estimation 1 - MS Linear GARCH (Best BIC:  lag= 2)\n",
        "msgarch <- ts(log(BVSP.df.month$BVSP.VolMSGARCH))\n",
        "lag.msgarch.1 <- ts(Lag(log(BVSP.df.month$BVSP.VolMSGARCH), 1))\n",
        "lag.msgarch.2 <- ts(Lag(log(BVSP.df.month$BVSP.VolMSGARCH), 2))\n",
        "\n",
        "ols.msgarch <- cbind(msgarch, lag.msgarch.1, lag.msgarch.2, \n",
        "                    lag.epu, lag.gepu, lag.vix)\n",
        "\n",
        "model.msgarch.1 <- lm(msgarch ~  lag.msgarch.1 + lag.msgarch.2, \n",
        "                      data = ols.msgarch)\n",
        "\n",
        "round(coeftest(model.msgarch.1, NeweyWest(model.msgarch.1, \n",
        "                                          lag = bwNeweyWest(model.msgarch.1), \n",
        "                                          prewhite = F)), 3)\n",
        "\n",
        "round(summary(model.msgarch.1)$adj.r.squared, 3)"
      ],
      "id": "fG33RRq4GEcL",
      "execution_count": null,
      "outputs": [
        {
          "output_type": "display_data",
          "data": {
            "text/plain": [
              "\n",
              "t test of coefficients:\n",
              "\n",
              "              Estimate Std. Error t value Pr(>|t|)    \n",
              "(Intercept)      0.129      0.024   5.395   <2e-16 ***\n",
              "lag.msgarch.1    0.910      0.076  12.047   <2e-16 ***\n",
              "lag.msgarch.2   -0.182      0.068  -2.683    0.008 ** \n",
              "---\n",
              "Signif. codes:  0 ‘***’ 0.001 ‘**’ 0.01 ‘*’ 0.05 ‘.’ 0.1 ‘ ’ 1\n"
            ]
          },
          "metadata": {
            "tags": []
          }
        },
        {
          "output_type": "display_data",
          "data": {
            "text/plain": [
              "[1] 0.601"
            ],
            "text/latex": "0.601",
            "text/markdown": "0.601",
            "text/html": [
              "0.601"
            ]
          },
          "metadata": {
            "tags": []
          }
        }
      ]
    },
    {
      "cell_type": "code",
      "metadata": {
        "colab": {
          "base_uri": "https://localhost:8080/",
          "height": 204
        },
        "id": "y8QhY7EwGcFZ",
        "outputId": "959af4c1-ddbb-4dea-88bf-eece98913723"
      },
      "source": [
        "# Estimation 2 - MS Linear GARCH (Best BIC:  lag= 2)\n",
        "model.msgarch.2 <- lm(msgarch ~  lag.msgarch.1 + lag.msgarch.2 + lag.epu, \n",
        "                      data = ols.msgarch)\n",
        "\n",
        "round(coeftest(model.msgarch.2, NeweyWest(model.msgarch.2, \n",
        "                                          lag = bwNeweyWest(model.msgarch.2), \n",
        "                                          prewhite = F)), 3)\n",
        "\n",
        "round(summary(model.msgarch.2)$adj.r.squared, 3)"
      ],
      "id": "y8QhY7EwGcFZ",
      "execution_count": null,
      "outputs": [
        {
          "output_type": "display_data",
          "data": {
            "text/plain": [
              "\n",
              "t test of coefficients:\n",
              "\n",
              "              Estimate Std. Error t value Pr(>|t|)    \n",
              "(Intercept)      0.133      0.028   4.760   <2e-16 ***\n",
              "lag.msgarch.1    0.913      0.076  11.959   <2e-16 ***\n",
              "lag.msgarch.2   -0.184      0.065  -2.835    0.005 ** \n",
              "lag.epu          0.000      0.000  -0.382    0.703    \n",
              "---\n",
              "Signif. codes:  0 ‘***’ 0.001 ‘**’ 0.01 ‘*’ 0.05 ‘.’ 0.1 ‘ ’ 1\n"
            ]
          },
          "metadata": {
            "tags": []
          }
        },
        {
          "output_type": "display_data",
          "data": {
            "text/plain": [
              "[1] 0.6"
            ],
            "text/latex": "0.6",
            "text/markdown": "0.6",
            "text/html": [
              "0.6"
            ]
          },
          "metadata": {
            "tags": []
          }
        }
      ]
    },
    {
      "cell_type": "code",
      "metadata": {
        "colab": {
          "base_uri": "https://localhost:8080/",
          "height": 204
        },
        "id": "qV-P5RleTO03",
        "outputId": "52e89cf8-8758-4d58-bec6-ff24aa580a74"
      },
      "source": [
        "# Estimation 3 - MS Linear GARCH (Best BIC:  lag= 2)\n",
        "model.msgarch.3 <- lm(msgarch ~  lag.msgarch.1 + lag.msgarch.2 + lag.vix, \n",
        "                      data = ols.msgarch)\n",
        "\n",
        "round(coeftest(model.msgarch.3, NeweyWest(model.msgarch.3, \n",
        "                                          lag = bwNeweyWest(model.msgarch.3), \n",
        "                                          prewhite = F)), 3)\n",
        "\n",
        "round(summary(model.msgarch.3)$adj.r.squared, 3)"
      ],
      "id": "qV-P5RleTO03",
      "execution_count": null,
      "outputs": [
        {
          "output_type": "display_data",
          "data": {
            "text/plain": [
              "\n",
              "t test of coefficients:\n",
              "\n",
              "              Estimate Std. Error t value Pr(>|t|)    \n",
              "(Intercept)      0.042      0.022   1.901    0.058 .  \n",
              "lag.msgarch.1    0.720      0.087   8.306   <2e-16 ***\n",
              "lag.msgarch.2   -0.203      0.055  -3.729   <2e-16 ***\n",
              "lag.vix          0.009      0.003   3.451    0.001 ***\n",
              "---\n",
              "Signif. codes:  0 ‘***’ 0.001 ‘**’ 0.01 ‘*’ 0.05 ‘.’ 0.1 ‘ ’ 1\n"
            ]
          },
          "metadata": {
            "tags": []
          }
        },
        {
          "output_type": "display_data",
          "data": {
            "text/plain": [
              "[1] 0.654"
            ],
            "text/latex": "0.654",
            "text/markdown": "0.654",
            "text/html": [
              "0.654"
            ]
          },
          "metadata": {
            "tags": []
          }
        }
      ]
    },
    {
      "cell_type": "code",
      "metadata": {
        "colab": {
          "base_uri": "https://localhost:8080/",
          "height": 221
        },
        "id": "FcjDEzYZTObB",
        "outputId": "794732cc-9a12-463a-ab30-c58ca391b75a"
      },
      "source": [
        "# Estimation 4 - MS Linear GARCH (Best BIC:  lag= 2)\n",
        "model.msgarch.4 <- lm(msgarch ~  lag.msgarch.1 + lag.msgarch.2 + lag.epu + lag.vix, \n",
        "                      data = ols.msgarch)\n",
        "\n",
        "round(coeftest(model.msgarch.4, NeweyWest(model.msgarch.4, \n",
        "                                          lag = bwNeweyWest(model.msgarch.4), \n",
        "                                          prewhite = F)), 3)\n",
        "\n",
        "round(summary(model.msgarch.4)$adj.r.squared, 3)"
      ],
      "id": "FcjDEzYZTObB",
      "execution_count": null,
      "outputs": [
        {
          "output_type": "display_data",
          "data": {
            "text/plain": [
              "\n",
              "t test of coefficients:\n",
              "\n",
              "              Estimate Std. Error t value Pr(>|t|)    \n",
              "(Intercept)      0.039      0.028   1.395    0.164    \n",
              "lag.msgarch.1    0.718      0.091   7.876   <2e-16 ***\n",
              "lag.msgarch.2   -0.202      0.055  -3.654   <2e-16 ***\n",
              "lag.epu          0.000      0.000   0.223    0.824    \n",
              "lag.vix          0.009      0.003   3.416    0.001 ***\n",
              "---\n",
              "Signif. codes:  0 ‘***’ 0.001 ‘**’ 0.01 ‘*’ 0.05 ‘.’ 0.1 ‘ ’ 1\n"
            ]
          },
          "metadata": {
            "tags": []
          }
        },
        {
          "output_type": "display_data",
          "data": {
            "text/plain": [
              "[1] 0.652"
            ],
            "text/latex": "0.652",
            "text/markdown": "0.652",
            "text/html": [
              "0.652"
            ]
          },
          "metadata": {
            "tags": []
          }
        }
      ]
    },
    {
      "cell_type": "code",
      "metadata": {
        "colab": {
          "base_uri": "https://localhost:8080/",
          "height": 238
        },
        "id": "ImV_Ip4BTNpK",
        "outputId": "0ed3c4d9-9922-41c9-e210-a9f6bd66bb54"
      },
      "source": [
        "# Estimation 5 - MS Linear GARCH (Best BIC:  lag= 2)\n",
        "model.msgarch.5 <- lm(msgarch ~  lag.msgarch.1 + lag.msgarch.2 + lag.epu + lag.gepu + lag.vix, \n",
        "                      data = ols.msgarch)\n",
        "\n",
        "round(coeftest(model.msgarch.5, NeweyWest(model.msgarch.5, \n",
        "                                          lag = bwNeweyWest(model.msgarch.5), \n",
        "                                          prewhite = F)), 3)\n",
        "\n",
        "round(summary(model.msgarch.5)$adj.r.squared, 3)"
      ],
      "id": "ImV_Ip4BTNpK",
      "execution_count": null,
      "outputs": [
        {
          "output_type": "display_data",
          "data": {
            "text/plain": [
              "\n",
              "t test of coefficients:\n",
              "\n",
              "              Estimate Std. Error t value Pr(>|t|)    \n",
              "(Intercept)      0.068      0.031   2.176    0.030 *  \n",
              "lag.msgarch.1    0.665      0.080   8.304   <2e-16 ***\n",
              "lag.msgarch.2   -0.200      0.056  -3.551   <2e-16 ***\n",
              "lag.epu          0.000      0.000   3.282    0.001 ***\n",
              "lag.gepu        -0.001      0.000  -5.616   <2e-16 ***\n",
              "lag.vix          0.012      0.003   4.203   <2e-16 ***\n",
              "---\n",
              "Signif. codes:  0 ‘***’ 0.001 ‘**’ 0.01 ‘*’ 0.05 ‘.’ 0.1 ‘ ’ 1\n"
            ]
          },
          "metadata": {
            "tags": []
          }
        },
        {
          "output_type": "display_data",
          "data": {
            "text/plain": [
              "[1] 0.676"
            ],
            "text/latex": "0.676",
            "text/markdown": "0.676",
            "text/html": [
              "0.676"
            ]
          },
          "metadata": {
            "tags": []
          }
        }
      ]
    },
    {
      "cell_type": "markdown",
      "metadata": {
        "id": "VuhTae9lFjX9"
      },
      "source": [
        "**MS EGARCH**"
      ],
      "id": "VuhTae9lFjX9"
    },
    {
      "cell_type": "code",
      "metadata": {
        "colab": {
          "base_uri": "https://localhost:8080/",
          "height": 170
        },
        "id": "GVFR95aSGFnm",
        "outputId": "bcb2de48-59f9-4c8a-b334-adf4c1422e7e"
      },
      "source": [
        "# Estimation 1 - MS EGARCH (Best BIC:  lag= 1)\n",
        "msegarch <- ts(log(BVSP.df.month$BVSP.VolMSEGARCH ))\n",
        "lag.msegarch.1 <- ts(Lag(log(BVSP.df.month$BVSP.VolMSEGARCH ), 1))\n",
        "\n",
        "ols.msegarch <- cbind(msegarch, lag.msegarch.1, \n",
        "                      lag.epu, lag.gepu, lag.vix)\n",
        "\n",
        "model.msegarch.1 <- lm(msegarch ~  lag.msegarch.1, \n",
        "                      data = ols.msegarch)\n",
        "\n",
        "round(coeftest(model.msegarch.1, NeweyWest(model.msegarch.1, \n",
        "                                          lag = bwNeweyWest(model.msegarch.1), \n",
        "                                          prewhite = F)), 3)\n",
        "\n",
        "round(summary(model.msegarch.1)$adj.r.squared, 3)"
      ],
      "id": "GVFR95aSGFnm",
      "execution_count": null,
      "outputs": [
        {
          "output_type": "display_data",
          "data": {
            "text/plain": [
              "\n",
              "t test of coefficients:\n",
              "\n",
              "               Estimate Std. Error t value  Pr(>|t|)    \n",
              "(Intercept)       0.142      0.026   5.460 < 2.2e-16 ***\n",
              "lag.msegarch.1    0.696      0.051  13.743 < 2.2e-16 ***\n",
              "---\n",
              "Signif. codes:  0 ‘***’ 0.001 ‘**’ 0.01 ‘*’ 0.05 ‘.’ 0.1 ‘ ’ 1\n"
            ]
          },
          "metadata": {
            "tags": []
          }
        },
        {
          "output_type": "display_data",
          "data": {
            "text/plain": [
              "[1] 0.482"
            ],
            "text/latex": "0.482",
            "text/markdown": "0.482",
            "text/html": [
              "0.482"
            ]
          },
          "metadata": {
            "tags": []
          }
        }
      ]
    },
    {
      "cell_type": "code",
      "metadata": {
        "colab": {
          "base_uri": "https://localhost:8080/",
          "height": 187
        },
        "id": "u_nw2tqyGcyh",
        "outputId": "299c88a4-1487-43c4-c5b8-726be3fff89d"
      },
      "source": [
        "# Estimation 2 - MS EGARCH (Best BIC:  lag= 1)\n",
        "model.msegarch.2 <- lm(msegarch ~  lag.msegarch.1 + lag.epu, \n",
        "                      data = ols.msegarch)\n",
        "\n",
        "round(coeftest(model.msegarch.2, NeweyWest(model.msegarch.2, \n",
        "                                          lag = bwNeweyWest(model.msegarch.2), \n",
        "                                          prewhite = F)), 3)\n",
        "\n",
        "round(summary(model.msegarch.2)$adj.r.squared, 3)"
      ],
      "id": "u_nw2tqyGcyh",
      "execution_count": null,
      "outputs": [
        {
          "output_type": "display_data",
          "data": {
            "text/plain": [
              "\n",
              "t test of coefficients:\n",
              "\n",
              "               Estimate Std. Error t value Pr(>|t|)    \n",
              "(Intercept)       0.161      0.027   5.999   <2e-16 ***\n",
              "lag.msegarch.1    0.702      0.055  12.865   <2e-16 ***\n",
              "lag.epu           0.000      0.000  -1.669    0.096 .  \n",
              "---\n",
              "Signif. codes:  0 ‘***’ 0.001 ‘**’ 0.01 ‘*’ 0.05 ‘.’ 0.1 ‘ ’ 1\n"
            ]
          },
          "metadata": {
            "tags": []
          }
        },
        {
          "output_type": "display_data",
          "data": {
            "text/plain": [
              "[1] 0.482"
            ],
            "text/latex": "0.482",
            "text/markdown": "0.482",
            "text/html": [
              "0.482"
            ]
          },
          "metadata": {
            "tags": []
          }
        }
      ]
    },
    {
      "cell_type": "code",
      "metadata": {
        "colab": {
          "base_uri": "https://localhost:8080/",
          "height": 187
        },
        "id": "RB00v9ZcTvla",
        "outputId": "358dd06f-f8c8-473f-f782-9d06e992503a"
      },
      "source": [
        "# Estimation 3 - MS EGARCH (Best BIC:  lag= 1)\n",
        "model.msegarch.3 <- lm(msegarch ~  lag.msegarch.1 + lag.vix, \n",
        "                      data = ols.msegarch)\n",
        "\n",
        "round(coeftest(model.msegarch.3, NeweyWest(model.msegarch.3, \n",
        "                                          lag = bwNeweyWest(model.msegarch.3), \n",
        "                                          prewhite = F)), 3)\n",
        "\n",
        "round(summary(model.msegarch.3)$adj.r.squared, 3)"
      ],
      "id": "RB00v9ZcTvla",
      "execution_count": null,
      "outputs": [
        {
          "output_type": "display_data",
          "data": {
            "text/plain": [
              "\n",
              "t test of coefficients:\n",
              "\n",
              "               Estimate Std. Error t value Pr(>|t|)    \n",
              "(Intercept)       0.052      0.033   1.611    0.108    \n",
              "lag.msegarch.1    0.525      0.077   6.846   <2e-16 ***\n",
              "lag.vix           0.009      0.003   2.988    0.003 ** \n",
              "---\n",
              "Signif. codes:  0 ‘***’ 0.001 ‘**’ 0.01 ‘*’ 0.05 ‘.’ 0.1 ‘ ’ 1\n"
            ]
          },
          "metadata": {
            "tags": []
          }
        },
        {
          "output_type": "display_data",
          "data": {
            "text/plain": [
              "[1] 0.521"
            ],
            "text/latex": "0.521",
            "text/markdown": "0.521",
            "text/html": [
              "0.521"
            ]
          },
          "metadata": {
            "tags": []
          }
        }
      ]
    },
    {
      "cell_type": "code",
      "metadata": {
        "colab": {
          "base_uri": "https://localhost:8080/",
          "height": 204
        },
        "id": "YWwcKD55TvQs",
        "outputId": "c69d9bb4-4bf8-4580-f7a0-e35fc9da5136"
      },
      "source": [
        "# Estimation 4 - MS EGARCH (Best BIC:  lag= 1)\n",
        "model.msegarch.4 <- lm(msegarch ~  lag.msegarch.1 + lag.epu + lag.vix, \n",
        "                      data = ols.msegarch)\n",
        "\n",
        "round(coeftest(model.msegarch.4, NeweyWest(model.msegarch.4, \n",
        "                                          lag = bwNeweyWest(model.msegarch.4), \n",
        "                                          prewhite = F)), 3)\n",
        "\n",
        "round(summary(model.msegarch.4)$adj.r.squared, 3)"
      ],
      "id": "YWwcKD55TvQs",
      "execution_count": null,
      "outputs": [
        {
          "output_type": "display_data",
          "data": {
            "text/plain": [
              "\n",
              "t test of coefficients:\n",
              "\n",
              "               Estimate Std. Error t value Pr(>|t|)    \n",
              "(Intercept)       0.066      0.035   1.888    0.060 .  \n",
              "lag.msegarch.1    0.531      0.084   6.297   <2e-16 ***\n",
              "lag.epu           0.000      0.000  -0.902    0.368    \n",
              "lag.vix           0.008      0.003   2.845    0.005 ** \n",
              "---\n",
              "Signif. codes:  0 ‘***’ 0.001 ‘**’ 0.01 ‘*’ 0.05 ‘.’ 0.1 ‘ ’ 1\n"
            ]
          },
          "metadata": {
            "tags": []
          }
        },
        {
          "output_type": "display_data",
          "data": {
            "text/plain": [
              "[1] 0.521"
            ],
            "text/latex": "0.521",
            "text/markdown": "0.521",
            "text/html": [
              "0.521"
            ]
          },
          "metadata": {
            "tags": []
          }
        }
      ]
    },
    {
      "cell_type": "code",
      "metadata": {
        "colab": {
          "base_uri": "https://localhost:8080/",
          "height": 221
        },
        "id": "NA_Ttf5wTuoa",
        "outputId": "00ceb23d-e310-4fb8-ad5d-5a6658597a0e"
      },
      "source": [
        "# Estimation 5 - MS EGARCH (Best BIC:  lag= 1)\n",
        "model.msegarch.5 <- lm(msegarch ~  lag.msegarch.1 + lag.epu + lag.gepu + lag.vix, \n",
        "                      data = ols.msegarch)\n",
        "\n",
        "round(coeftest(model.msegarch.5, NeweyWest(model.msegarch.5, \n",
        "                                          lag = bwNeweyWest(model.msegarch.5), \n",
        "                                          prewhite = F)), 3)\n",
        "\n",
        "round(summary(model.msegarch.5)$adj.r.squared, 3)"
      ],
      "id": "NA_Ttf5wTuoa",
      "execution_count": null,
      "outputs": [
        {
          "output_type": "display_data",
          "data": {
            "text/plain": [
              "\n",
              "t test of coefficients:\n",
              "\n",
              "               Estimate Std. Error t value Pr(>|t|)    \n",
              "(Intercept)       0.097      0.041   2.359    0.019 *  \n",
              "lag.msegarch.1    0.478      0.081   5.881   <2e-16 ***\n",
              "lag.epu           0.000      0.000   1.546    0.123    \n",
              "lag.gepu         -0.001      0.000  -4.936   <2e-16 ***\n",
              "lag.vix           0.011      0.003   3.430    0.001 ***\n",
              "---\n",
              "Signif. codes:  0 ‘***’ 0.001 ‘**’ 0.01 ‘*’ 0.05 ‘.’ 0.1 ‘ ’ 1\n"
            ]
          },
          "metadata": {
            "tags": []
          }
        },
        {
          "output_type": "display_data",
          "data": {
            "text/plain": [
              "[1] 0.544"
            ],
            "text/latex": "0.544",
            "text/markdown": "0.544",
            "text/html": [
              "0.544"
            ]
          },
          "metadata": {
            "tags": []
          }
        }
      ]
    },
    {
      "cell_type": "markdown",
      "metadata": {
        "id": "T838p-YpFncL"
      },
      "source": [
        "**MS GJR-GARCH**"
      ],
      "id": "T838p-YpFncL"
    },
    {
      "cell_type": "code",
      "metadata": {
        "colab": {
          "base_uri": "https://localhost:8080/",
          "height": 187
        },
        "id": "PhMbYM2SGGj5",
        "outputId": "2df2ece5-5708-423c-8c27-e369585cf30e"
      },
      "source": [
        "# Estimation 1 - MS GJR-GARCH (Best BIC:  lag= 2)\n",
        "msgjrgarch <- ts(log(BVSP.df.month$BVSP.VolMSGJRGARCH))\n",
        "lag.msgjrgarch.1 <- ts(Lag(log(BVSP.df.month$BVSP.VolMSGJRGARCH), 1))\n",
        "lag.msgjrgarch.2 <- ts(Lag(log(BVSP.df.month$BVSP.VolMSGJRGARCH), 2))\n",
        "\n",
        "ols.msgjrgarch <- cbind(msgjrgarch, lag.msgjrgarch.1, lag.msgjrgarch.2, \n",
        "                  lag.epu, lag.gepu, lag.vix)\n",
        "\n",
        "model.msgjrgarch.1 <- lm(msgjrgarch ~  lag.msgjrgarch.1 + lag.msgjrgarch.2, \n",
        "                    data = ols.garch)\n",
        "\n",
        "round(coeftest(model.msgjrgarch.1, NeweyWest(model.msgjrgarch.1, \n",
        "                                        lag = bwNeweyWest(model.msgjrgarch.1), \n",
        "                                        prewhite = F)), 3)\n",
        "\n",
        "round(summary(model.msgjrgarch.1)$adj.r.squared, 3)"
      ],
      "id": "PhMbYM2SGGj5",
      "execution_count": null,
      "outputs": [
        {
          "output_type": "display_data",
          "data": {
            "text/plain": [
              "\n",
              "t test of coefficients:\n",
              "\n",
              "                 Estimate Std. Error t value Pr(>|t|)    \n",
              "(Intercept)         0.149      0.029   5.183   <2e-16 ***\n",
              "lag.msgjrgarch.1    0.791      0.076  10.405   <2e-16 ***\n",
              "lag.msgjrgarch.2   -0.107      0.069  -1.560     0.12    \n",
              "---\n",
              "Signif. codes:  0 ‘***’ 0.001 ‘**’ 0.01 ‘*’ 0.05 ‘.’ 0.1 ‘ ’ 1\n"
            ]
          },
          "metadata": {
            "tags": []
          }
        },
        {
          "output_type": "display_data",
          "data": {
            "text/plain": [
              "[1] 0.511"
            ],
            "text/latex": "0.511",
            "text/markdown": "0.511",
            "text/html": [
              "0.511"
            ]
          },
          "metadata": {
            "tags": []
          }
        }
      ]
    },
    {
      "cell_type": "code",
      "metadata": {
        "colab": {
          "base_uri": "https://localhost:8080/",
          "height": 204
        },
        "id": "WlDqwOGZGdr5",
        "outputId": "7fec3671-e8b3-4896-bb9c-8daa47d6bfa2"
      },
      "source": [
        "# Estimation 2 - MS GJR-GARCH (Best BIC:  lag= 2)\n",
        "model.msgjrgarch.2 <- lm(msgjrgarch ~  lag.msgjrgarch.1 + lag.msgjrgarch.2 + lag.epu, \n",
        "                        data = ols.msgjrgarch)\n",
        "\n",
        "round(coeftest(model.msgjrgarch.2, NeweyWest(model.msgjrgarch.2, \n",
        "                                            lag = bwNeweyWest(model.msgjrgarch.2), \n",
        "                                            prewhite = F)), 3)\n",
        "\n",
        "round(summary(model.msgjrgarch.2)$adj.r.squared, 3)"
      ],
      "id": "WlDqwOGZGdr5",
      "execution_count": null,
      "outputs": [
        {
          "output_type": "display_data",
          "data": {
            "text/plain": [
              "\n",
              "t test of coefficients:\n",
              "\n",
              "                 Estimate Std. Error t value Pr(>|t|)    \n",
              "(Intercept)         0.161      0.031   5.252   <2e-16 ***\n",
              "lag.msgjrgarch.1    0.797      0.077  10.373   <2e-16 ***\n",
              "lag.msgjrgarch.2   -0.109      0.070  -1.548    0.123    \n",
              "lag.epu             0.000      0.000  -0.935    0.351    \n",
              "---\n",
              "Signif. codes:  0 ‘***’ 0.001 ‘**’ 0.01 ‘*’ 0.05 ‘.’ 0.1 ‘ ’ 1\n"
            ]
          },
          "metadata": {
            "tags": []
          }
        },
        {
          "output_type": "display_data",
          "data": {
            "text/plain": [
              "[1] 0.51"
            ],
            "text/latex": "0.51",
            "text/markdown": "0.51",
            "text/html": [
              "0.51"
            ]
          },
          "metadata": {
            "tags": []
          }
        }
      ]
    },
    {
      "cell_type": "code",
      "metadata": {
        "colab": {
          "base_uri": "https://localhost:8080/",
          "height": 204
        },
        "id": "jJgCwT8yUMsT",
        "outputId": "440f5301-b9f3-4ea5-ae16-510fd3180f8c"
      },
      "source": [
        "# Estimation 3 - MS GJR-GARCH (Best BIC:  lag= 2)\n",
        "model.msgjrgarch.3 <- lm(msgjrgarch ~  lag.msgjrgarch.1 + lag.msgjrgarch.2 + lag.vix, \n",
        "                        data = ols.msgjrgarch)\n",
        "\n",
        "round(coeftest(model.msgjrgarch.3, NeweyWest(model.msgjrgarch.3, \n",
        "                                            lag = bwNeweyWest(model.msgjrgarch.3), \n",
        "                                            prewhite = F)), 3)\n",
        "\n",
        "round(summary(model.msgjrgarch.3)$adj.r.squared, 3)"
      ],
      "id": "jJgCwT8yUMsT",
      "execution_count": null,
      "outputs": [
        {
          "output_type": "display_data",
          "data": {
            "text/plain": [
              "\n",
              "t test of coefficients:\n",
              "\n",
              "                 Estimate Std. Error t value Pr(>|t|)    \n",
              "(Intercept)         0.055      0.027   2.013    0.045 *  \n",
              "lag.msgjrgarch.1    0.617      0.079   7.779   <2e-16 ***\n",
              "lag.msgjrgarch.2   -0.150      0.061  -2.459    0.015 *  \n",
              "lag.vix             0.010      0.003   3.097    0.002 ** \n",
              "---\n",
              "Signif. codes:  0 ‘***’ 0.001 ‘**’ 0.01 ‘*’ 0.05 ‘.’ 0.1 ‘ ’ 1\n"
            ]
          },
          "metadata": {
            "tags": []
          }
        },
        {
          "output_type": "display_data",
          "data": {
            "text/plain": [
              "[1] 0.562"
            ],
            "text/latex": "0.562",
            "text/markdown": "0.562",
            "text/html": [
              "0.562"
            ]
          },
          "metadata": {
            "tags": []
          }
        }
      ]
    },
    {
      "cell_type": "code",
      "metadata": {
        "colab": {
          "base_uri": "https://localhost:8080/",
          "height": 221
        },
        "id": "6P9qZXRPUMWd",
        "outputId": "7f89d6da-dc3c-4592-9d8d-6abb74ab14f7"
      },
      "source": [
        "# Estimation 4 - MS GJR-GARCH (Best BIC:  lag= 2)\n",
        "model.msgjrgarch.4 <- lm(msgjrgarch ~  lag.msgjrgarch.1 + lag.msgjrgarch.2 + lag.epu + lag.vix, \n",
        "                        data = ols.msgjrgarch)\n",
        "\n",
        "round(coeftest(model.msgjrgarch.4, NeweyWest(model.msgjrgarch.4, \n",
        "                                            lag = bwNeweyWest(model.msgjrgarch.4), \n",
        "                                            prewhite = F)), 3)\n",
        "\n",
        "round(summary(model.msgjrgarch.4)$adj.r.squared, 3)"
      ],
      "id": "6P9qZXRPUMWd",
      "execution_count": null,
      "outputs": [
        {
          "output_type": "display_data",
          "data": {
            "text/plain": [
              "\n",
              "t test of coefficients:\n",
              "\n",
              "                 Estimate Std. Error t value Pr(>|t|)    \n",
              "(Intercept)         0.059      0.035   1.691    0.092 .  \n",
              "lag.msgjrgarch.1    0.620      0.082   7.603   <2e-16 ***\n",
              "lag.msgjrgarch.2   -0.150      0.060  -2.491    0.013 *  \n",
              "lag.epu             0.000      0.000  -0.268    0.789    \n",
              "lag.vix             0.010      0.003   3.063    0.002 ** \n",
              "---\n",
              "Signif. codes:  0 ‘***’ 0.001 ‘**’ 0.01 ‘*’ 0.05 ‘.’ 0.1 ‘ ’ 1\n"
            ]
          },
          "metadata": {
            "tags": []
          }
        },
        {
          "output_type": "display_data",
          "data": {
            "text/plain": [
              "[1] 0.561"
            ],
            "text/latex": "0.561",
            "text/markdown": "0.561",
            "text/html": [
              "0.561"
            ]
          },
          "metadata": {
            "tags": []
          }
        }
      ]
    },
    {
      "cell_type": "code",
      "metadata": {
        "colab": {
          "base_uri": "https://localhost:8080/",
          "height": 238
        },
        "id": "Ps34kcv3ULt3",
        "outputId": "95345aba-2021-43b8-cf4f-0e6907512635"
      },
      "source": [
        "# Estimation 5 - MS GJR-GARCH (Best BIC:  lag= 2)\n",
        "model.msgjrgarch.5 <- lm(msgjrgarch ~  lag.msgjrgarch.1 + lag.msgjrgarch.2 + lag.epu + lag.gepu + lag.vix, \n",
        "                        data = ols.msgjrgarch)\n",
        "\n",
        "round(coeftest(model.msgjrgarch.5, NeweyWest(model.msgjrgarch.5, \n",
        "                                            lag = bwNeweyWest(model.msgjrgarch.5), \n",
        "                                            prewhite = F)), 3)\n",
        "\n",
        "round(summary(model.msgjrgarch.5)$adj.r.squared, 3)"
      ],
      "id": "Ps34kcv3ULt3",
      "execution_count": null,
      "outputs": [
        {
          "output_type": "display_data",
          "data": {
            "text/plain": [
              "\n",
              "t test of coefficients:\n",
              "\n",
              "                 Estimate Std. Error t value Pr(>|t|)    \n",
              "(Intercept)         0.087      0.038   2.294    0.023 *  \n",
              "lag.msgjrgarch.1    0.572      0.077   7.419   <2e-16 ***\n",
              "lag.msgjrgarch.2   -0.149      0.058  -2.573    0.011 *  \n",
              "lag.epu             0.000      0.000   2.129    0.034 *  \n",
              "lag.gepu           -0.001      0.000  -4.765   <2e-16 ***\n",
              "lag.vix             0.012      0.003   3.604   <2e-16 ***\n",
              "---\n",
              "Signif. codes:  0 ‘***’ 0.001 ‘**’ 0.01 ‘*’ 0.05 ‘.’ 0.1 ‘ ’ 1\n"
            ]
          },
          "metadata": {
            "tags": []
          }
        },
        {
          "output_type": "display_data",
          "data": {
            "text/plain": [
              "[1] 0.582"
            ],
            "text/latex": "0.582",
            "text/markdown": "0.582",
            "text/html": [
              "0.582"
            ]
          },
          "metadata": {
            "tags": []
          }
        }
      ]
    }
  ]
}