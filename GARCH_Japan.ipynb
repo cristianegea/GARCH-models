{
  "nbformat": 4,
  "nbformat_minor": 5,
  "metadata": {
    "kernelspec": {
      "display_name": "R",
      "language": "R",
      "name": "ir"
    },
    "language_info": {
      "codemirror_mode": "r",
      "file_extension": ".r",
      "mimetype": "text/x-r-source",
      "name": "R",
      "pygments_lexer": "r",
      "version": "3.6.1"
    },
    "colab": {
      "name": "GARCH_Japan.ipynb",
      "provenance": [],
      "collapsed_sections": []
    }
  },
  "cells": [
    {
      "cell_type": "markdown",
      "metadata": {
        "id": "10c9fc70"
      },
      "source": [
        "# Analysis of stock returns forecasts"
      ],
      "id": "10c9fc70"
    },
    {
      "cell_type": "markdown",
      "metadata": {
        "id": "0a03ea35"
      },
      "source": [
        "**Reference**: Realized GARCH models: Simpler is better (Xie & Yu, 2019)\n",
        "\n",
        "Sample: Japan (^N225)"
      ],
      "id": "0a03ea35"
    },
    {
      "cell_type": "code",
      "metadata": {
        "id": "66c60229"
      },
      "source": [
        "# Memory clearing\n",
        "rm(list=ls())"
      ],
      "id": "66c60229",
      "execution_count": 1,
      "outputs": []
    },
    {
      "cell_type": "markdown",
      "metadata": {
        "id": "5e52a103"
      },
      "source": [
        "## 1. Data import"
      ],
      "id": "5e52a103"
    },
    {
      "cell_type": "code",
      "metadata": {
        "colab": {
          "base_uri": "https://localhost:8080/"
        },
        "id": "a015db89",
        "outputId": "2400a264-75d2-4c16-c72a-5f6aac93a300"
      },
      "source": [
        "# Packages\n",
        "install.packages('quantmod')\n",
        "install.packages('tidyquant')\n",
        "install.packages('PerformanceAnalytics')\n",
        "\n",
        "library(quantmod)\n",
        "library(tidyquant)\n",
        "library(PerformanceAnalytics)"
      ],
      "id": "a015db89",
      "execution_count": 2,
      "outputs": [
        {
          "output_type": "stream",
          "text": [
            "Installing package into ‘/usr/local/lib/R/site-library’\n",
            "(as ‘lib’ is unspecified)\n",
            "\n",
            "Installing package into ‘/usr/local/lib/R/site-library’\n",
            "(as ‘lib’ is unspecified)\n",
            "\n",
            "Installing package into ‘/usr/local/lib/R/site-library’\n",
            "(as ‘lib’ is unspecified)\n",
            "\n",
            "Loading required package: xts\n",
            "\n",
            "Loading required package: zoo\n",
            "\n",
            "\n",
            "Attaching package: ‘zoo’\n",
            "\n",
            "\n",
            "The following objects are masked from ‘package:base’:\n",
            "\n",
            "    as.Date, as.Date.numeric\n",
            "\n",
            "\n",
            "Loading required package: TTR\n",
            "\n",
            "Registered S3 method overwritten by 'quantmod':\n",
            "  method            from\n",
            "  as.zoo.data.frame zoo \n",
            "\n",
            "Loading required package: lubridate\n",
            "\n",
            "Warning message in system(\"timedatectl\", intern = TRUE):\n",
            "“running command 'timedatectl' had status 1”\n",
            "\n",
            "Attaching package: ‘lubridate’\n",
            "\n",
            "\n",
            "The following objects are masked from ‘package:base’:\n",
            "\n",
            "    date, intersect, setdiff, union\n",
            "\n",
            "\n",
            "Loading required package: PerformanceAnalytics\n",
            "\n",
            "\n",
            "Attaching package: ‘PerformanceAnalytics’\n",
            "\n",
            "\n",
            "The following object is masked from ‘package:graphics’:\n",
            "\n",
            "    legend\n",
            "\n",
            "\n",
            "\u001b[30m══\u001b[39m \u001b[30mNeed to Learn tidyquant?\u001b[39m \u001b[30m════════════════════════════════════════════════════\u001b[39m\u001b[34m\n",
            "Business Science offers a 1-hour course - Learning Lab #9: Performance Analysis & Portfolio Optimization with tidyquant!\n",
            "\u001b[39m\u001b[34m</> Learn more at: https://university.business-science.io/p/learning-labs-pro </>\u001b[39m\n",
            "\n"
          ],
          "name": "stderr"
        }
      ]
    },
    {
      "cell_type": "markdown",
      "metadata": {
        "id": "77462b8b-5261-4090-9001-2c344b610bd8"
      },
      "source": [
        "**Reading the datas (Source: Yahoo Finance)**"
      ],
      "id": "77462b8b-5261-4090-9001-2c344b610bd8"
    },
    {
      "cell_type": "code",
      "metadata": {
        "colab": {
          "base_uri": "https://localhost:8080/",
          "height": 258
        },
        "id": "90849e76",
        "outputId": "55a61b62-63dc-4514-f79a-765302e17722"
      },
      "source": [
        "getSymbols(\"^N225\", from = '2000-01-01', to = '2021-05-31') "
      ],
      "id": "90849e76",
      "execution_count": 3,
      "outputs": [
        {
          "output_type": "stream",
          "text": [
            "‘getSymbols’ currently uses auto.assign=TRUE by default, but will\n",
            "use auto.assign=FALSE in 0.5-0. You will still be able to use\n",
            "‘loadSymbols’ to automatically load data. getOption(\"getSymbols.env\")\n",
            "and getOption(\"getSymbols.auto.assign\") will still be checked for\n",
            "alternate defaults.\n",
            "\n",
            "This message is shown once per session and may be disabled by setting \n",
            "options(\"getSymbols.warning4.0\"=FALSE). See ?getSymbols for details.\n",
            "\n",
            "\n",
            "Warning message:\n",
            "“^N225 contains missing values. Some functions will not work if objects contain missing values in the middle of the series. Consider using na.omit(), na.approx(), na.fill(), etc to remove or replace them.”\n"
          ],
          "name": "stderr"
        },
        {
          "output_type": "display_data",
          "data": {
            "text/plain": [
              "[1] \"^N225\""
            ],
            "text/latex": "'\\textasciicircum{}N225'",
            "text/markdown": "'^N225'",
            "text/html": [
              "'^N225'"
            ]
          },
          "metadata": {
            "tags": []
          }
        }
      ]
    },
    {
      "cell_type": "markdown",
      "metadata": {
        "id": "37fcac8f-663c-4ab6-a2ec-d3dfb628e1d8"
      },
      "source": [
        "**Checking data frequency**"
      ],
      "id": "37fcac8f-663c-4ab6-a2ec-d3dfb628e1d8"
    },
    {
      "cell_type": "code",
      "metadata": {
        "colab": {
          "base_uri": "https://localhost:8080/",
          "height": 34
        },
        "id": "cf681b78-5138-4ee8-aee3-2e93db60bece",
        "outputId": "5e9288c2-aa8d-4784-9d29-31c5b302ed66"
      },
      "source": [
        "periodicity(N225)        "
      ],
      "id": "cf681b78-5138-4ee8-aee3-2e93db60bece",
      "execution_count": 4,
      "outputs": [
        {
          "output_type": "display_data",
          "data": {
            "text/plain": [
              "Daily periodicity from 2000-01-04 to 2021-05-31 "
            ]
          },
          "metadata": {
            "tags": []
          }
        }
      ]
    },
    {
      "cell_type": "markdown",
      "metadata": {
        "id": "7d452205-8ea1-461b-a15f-682cc4b96318"
      },
      "source": [
        "**Identifying missing values (%)**"
      ],
      "id": "7d452205-8ea1-461b-a15f-682cc4b96318"
    },
    {
      "cell_type": "code",
      "metadata": {
        "colab": {
          "base_uri": "https://localhost:8080/",
          "height": 68
        },
        "id": "7d329e61-d1a6-4c17-82ad-0a4ea31d0232",
        "outputId": "83fb0be1-a6b9-408e-b487-19649801a448"
      },
      "source": [
        "round(prop.table(table(is.na(N225)))*100, digits = 2)       "
      ],
      "id": "7d329e61-d1a6-4c17-82ad-0a4ea31d0232",
      "execution_count": 5,
      "outputs": [
        {
          "output_type": "display_data",
          "data": {
            "text/plain": [
              "\n",
              "FALSE  TRUE \n",
              "97.71  2.29 "
            ]
          },
          "metadata": {
            "tags": []
          }
        }
      ]
    },
    {
      "cell_type": "markdown",
      "metadata": {
        "id": "b3787f51-b9fb-458d-b650-5c19b0c22c44"
      },
      "source": [
        "**Removing missing values**"
      ],
      "id": "b3787f51-b9fb-458d-b650-5c19b0c22c44"
    },
    {
      "cell_type": "code",
      "metadata": {
        "id": "4c168321-5b36-4058-b5fc-c9170fc50afd",
        "colab": {
          "base_uri": "https://localhost:8080/",
          "height": 68
        },
        "outputId": "79ccfd7c-3dd5-47fc-ef68-ac3751235b50"
      },
      "source": [
        "N225 <- na.omit(N225)    \n",
        "round(prop.table(table(is.na(N225)))*100, digits = 2)         "
      ],
      "id": "4c168321-5b36-4058-b5fc-c9170fc50afd",
      "execution_count": 6,
      "outputs": [
        {
          "output_type": "display_data",
          "data": {
            "text/plain": [
              "\n",
              "FALSE \n",
              "  100 "
            ]
          },
          "metadata": {
            "tags": []
          }
        }
      ]
    },
    {
      "cell_type": "markdown",
      "metadata": {
        "id": "ef01dac6-72b2-4ec0-b160-1fbdf579a04e"
      },
      "source": [
        "**Removing unnecessary features**"
      ],
      "id": "ef01dac6-72b2-4ec0-b160-1fbdf579a04e"
    },
    {
      "cell_type": "code",
      "metadata": {
        "colab": {
          "base_uri": "https://localhost:8080/",
          "height": 136
        },
        "id": "ea0759f7-0353-404b-b206-98bc5c35d66a",
        "outputId": "604c0a7b-5550-426f-a298-66ee5684bd53"
      },
      "source": [
        "N225.df <- N225[,'N225.Close']                              \n",
        "head(N225.df)"
      ],
      "id": "ea0759f7-0353-404b-b206-98bc5c35d66a",
      "execution_count": 7,
      "outputs": [
        {
          "output_type": "display_data",
          "data": {
            "text/plain": [
              "           N225.Close\n",
              "2000-01-04   19002.86\n",
              "2000-01-05   18542.55\n",
              "2000-01-06   18168.27\n",
              "2000-01-07   18193.41\n",
              "2000-01-11   18850.92\n",
              "2000-01-12   18677.42"
            ]
          },
          "metadata": {
            "tags": []
          }
        }
      ]
    },
    {
      "cell_type": "markdown",
      "metadata": {
        "id": "00ce5730-0246-4093-8c80-b0aa48bade58"
      },
      "source": [
        "**Calculating log-returns**"
      ],
      "id": "00ce5730-0246-4093-8c80-b0aa48bade58"
    },
    {
      "cell_type": "code",
      "metadata": {
        "colab": {
          "base_uri": "https://localhost:8080/",
          "height": 136
        },
        "id": "a39fe789-889c-4974-9e5e-141050303ac9",
        "outputId": "2e18e550-6a2e-4dc4-8c9b-53cb93c5bbc3"
      },
      "source": [
        "logreturn <- diff(log(N225.df$N225.Close))*100                     \n",
        "head(logreturn)"
      ],
      "id": "a39fe789-889c-4974-9e5e-141050303ac9",
      "execution_count": 8,
      "outputs": [
        {
          "output_type": "display_data",
          "data": {
            "text/plain": [
              "           N225.Close\n",
              "2000-01-04         NA\n",
              "2000-01-05 -2.4521328\n",
              "2000-01-06 -2.0391493\n",
              "2000-01-07  0.1382809\n",
              "2000-01-11  3.5502266\n",
              "2000-01-12 -0.9246411"
            ]
          },
          "metadata": {
            "tags": []
          }
        }
      ]
    },
    {
      "cell_type": "markdown",
      "metadata": {
        "id": "83e12642-5c42-4a95-963f-809884d6bf7f"
      },
      "source": [
        "**Aggregating the data**"
      ],
      "id": "83e12642-5c42-4a95-963f-809884d6bf7f"
    },
    {
      "cell_type": "code",
      "metadata": {
        "colab": {
          "base_uri": "https://localhost:8080/",
          "height": 136
        },
        "id": "25c57967-90a6-4684-9b14-9a5c0867c38b",
        "outputId": "f57028fe-c1eb-442f-a4c6-b2eb2228d2cf"
      },
      "source": [
        "N225.df$N225.Return <- logreturn                  \n",
        "N225.df <- na.omit(N225.df)\n",
        "head(N225.df)"
      ],
      "id": "25c57967-90a6-4684-9b14-9a5c0867c38b",
      "execution_count": 9,
      "outputs": [
        {
          "output_type": "display_data",
          "data": {
            "text/plain": [
              "           N225.Close N225.Return\n",
              "2000-01-05   18542.55  -2.4521328\n",
              "2000-01-06   18168.27  -2.0391493\n",
              "2000-01-07   18193.41   0.1382809\n",
              "2000-01-11   18850.92   3.5502266\n",
              "2000-01-12   18677.42  -0.9246411\n",
              "2000-01-13   18833.29   0.8310695"
            ]
          },
          "metadata": {
            "tags": []
          }
        }
      ]
    },
    {
      "cell_type": "markdown",
      "metadata": {
        "id": "d5366ab1-99ff-4fc7-ba7c-e62d184424bd"
      },
      "source": [
        "**Identifying missing values (%)**"
      ],
      "id": "d5366ab1-99ff-4fc7-ba7c-e62d184424bd"
    },
    {
      "cell_type": "code",
      "metadata": {
        "colab": {
          "base_uri": "https://localhost:8080/",
          "height": 68
        },
        "id": "66ab6572-9a4d-4703-adb4-0405d06b5783",
        "outputId": "275a0b0f-be3e-4aef-aa86-f9fb393ddbc5"
      },
      "source": [
        "round(prop.table(table(is.na(N225.df)))*100, digits = 2)       "
      ],
      "id": "66ab6572-9a4d-4703-adb4-0405d06b5783",
      "execution_count": 10,
      "outputs": [
        {
          "output_type": "display_data",
          "data": {
            "text/plain": [
              "\n",
              "FALSE \n",
              "  100 "
            ]
          },
          "metadata": {
            "tags": []
          }
        }
      ]
    },
    {
      "cell_type": "markdown",
      "metadata": {
        "id": "8a8dac53-aaa9-48b4-b345-44958dd87d9a"
      },
      "source": [
        "## 2. Graph analysis"
      ],
      "id": "8a8dac53-aaa9-48b4-b345-44958dd87d9a"
    },
    {
      "cell_type": "code",
      "metadata": {
        "id": "aadcb8e0-582a-435f-864c-a43651d7e6a6",
        "colab": {
          "base_uri": "https://localhost:8080/"
        },
        "outputId": "0bcd40db-638a-4344-d06c-0ab6ae5d7084"
      },
      "source": [
        "# Package\n",
        "install.packages('xts')\n",
        "install.packages('ggplot2')\n",
        "install.packages('gridExtra')\n",
        "\n",
        "library(xts)\n",
        "library(ggplot2)\n",
        "library(gridExtra)"
      ],
      "id": "aadcb8e0-582a-435f-864c-a43651d7e6a6",
      "execution_count": 11,
      "outputs": [
        {
          "output_type": "stream",
          "text": [
            "Installing package into ‘/usr/local/lib/R/site-library’\n",
            "(as ‘lib’ is unspecified)\n",
            "\n",
            "Installing package into ‘/usr/local/lib/R/site-library’\n",
            "(as ‘lib’ is unspecified)\n",
            "\n",
            "Installing package into ‘/usr/local/lib/R/site-library’\n",
            "(as ‘lib’ is unspecified)\n",
            "\n"
          ],
          "name": "stderr"
        }
      ]
    },
    {
      "cell_type": "markdown",
      "metadata": {
        "id": "0dc149bd-ea9f-4227-9807-c33fa1636347"
      },
      "source": [
        "**Price & Return charts**"
      ],
      "id": "0dc149bd-ea9f-4227-9807-c33fa1636347"
    },
    {
      "cell_type": "code",
      "metadata": {
        "colab": {
          "base_uri": "https://localhost:8080/",
          "height": 505
        },
        "id": "4a7ba28a-a574-47a6-8368-2111f43c7bd3",
        "outputId": "b3de4963-74e7-4628-e3c8-c555f96b27f1"
      },
      "source": [
        "# Price chart\n",
        "graph1 <- ggplot(N225.df,\n",
        "                aes(x = index(N225.df), y = N225.df[,'N225.Close'])) +\n",
        "                geom_line(color = \"black\") +\n",
        "                ggtitle(\"Japan\") +\n",
        "                xlab(\"Date\") +\n",
        "                ylab(\"Closing prices ($)\") +\n",
        "                theme(plot.title = element_text(hjust = 0.5))\n",
        "\n",
        "# Return chart\n",
        "graph2 <- ggplot(N225.df,\n",
        "                aes(x = index(N225.df), y = N225.df[,'N225.Return'])) +\n",
        "                geom_line(color = \"black\") +\n",
        "                ggtitle(\"Japan\") +\n",
        "                xlab(\"Date\") +\n",
        "                ylab(\"Return\") +\n",
        "                theme(plot.title = element_text(hjust = 0.5))\n",
        "\n",
        "grid.arrange(graph1, graph2, ncol = 1, nrow = 2)"
      ],
      "id": "4a7ba28a-a574-47a6-8368-2111f43c7bd3",
      "execution_count": 12,
      "outputs": [
        {
          "output_type": "stream",
          "text": [
            "Don't know how to automatically pick scale for object of type xts/zoo. Defaulting to continuous.\n",
            "\n",
            "Don't know how to automatically pick scale for object of type xts/zoo. Defaulting to continuous.\n",
            "\n"
          ],
          "name": "stderr"
        },
        {
          "output_type": "display_data",
          "data": {
            "image/png": "[encoded data removed]",
            "text/plain": [
              "plot without title"
            ]
          },
          "metadata": {
            "tags": [],
            "image/png": {
              "width": 420,
              "height": 420
            }
          }
        }
      ]
    },
    {
      "cell_type": "markdown",
      "metadata": {
        "id": "2fb985b6-91a7-43fe-ba22-5663a6d63477"
      },
      "source": [
        "## 3. Descriptive statistic"
      ],
      "id": "2fb985b6-91a7-43fe-ba22-5663a6d63477"
    },
    {
      "cell_type": "code",
      "metadata": {
        "colab": {
          "base_uri": "https://localhost:8080/"
        },
        "id": "5cba5803-a987-4c14-aa9b-d9337afb3512",
        "outputId": "d18d879e-ca02-469d-955f-96ab5761714a"
      },
      "source": [
        "# Packages\n",
        "install.packages('moments')\n",
        "\n",
        "library(moments)"
      ],
      "id": "5cba5803-a987-4c14-aa9b-d9337afb3512",
      "execution_count": 13,
      "outputs": [
        {
          "output_type": "stream",
          "text": [
            "Installing package into ‘/usr/local/lib/R/site-library’\n",
            "(as ‘lib’ is unspecified)\n",
            "\n",
            "\n",
            "Attaching package: ‘moments’\n",
            "\n",
            "\n",
            "The following objects are masked from ‘package:PerformanceAnalytics’:\n",
            "\n",
            "    kurtosis, skewness\n",
            "\n",
            "\n"
          ],
          "name": "stderr"
        }
      ]
    },
    {
      "cell_type": "markdown",
      "metadata": {
        "id": "69bbfe9a-7c71-415d-89a4-7a7f70b88e9d"
      },
      "source": [
        "**Descriptive statistic**"
      ],
      "id": "69bbfe9a-7c71-415d-89a4-7a7f70b88e9d"
    },
    {
      "cell_type": "code",
      "metadata": {
        "colab": {
          "base_uri": "https://localhost:8080/",
          "height": 34
        },
        "id": "b282c2d9-b582-4a89-8f56-b23b6ade6202",
        "outputId": "e434c241-4d68-4ae6-ec6a-b47ab4849dcb"
      },
      "source": [
        "# mean\n",
        "round(mean(N225.df$N225.Return), 3)                         "
      ],
      "id": "b282c2d9-b582-4a89-8f56-b23b6ade6202",
      "execution_count": 14,
      "outputs": [
        {
          "output_type": "display_data",
          "data": {
            "text/plain": [
              "[1] 0.008"
            ],
            "text/latex": "0.008",
            "text/markdown": "0.008",
            "text/html": [
              "0.008"
            ]
          },
          "metadata": {
            "tags": []
          }
        }
      ]
    },
    {
      "cell_type": "code",
      "metadata": {
        "colab": {
          "base_uri": "https://localhost:8080/",
          "height": 34
        },
        "id": "a0fefd4e-8b2e-4bf2-aa7f-1dfc0d2d1892",
        "outputId": "192115c8-9081-4f3b-8891-8eb72914d77f"
      },
      "source": [
        "# sd\n",
        "round(sd(N225.df$N225.Return), 3)                           "
      ],
      "id": "a0fefd4e-8b2e-4bf2-aa7f-1dfc0d2d1892",
      "execution_count": 15,
      "outputs": [
        {
          "output_type": "display_data",
          "data": {
            "text/plain": [
              "[1] 1.488"
            ],
            "text/latex": "1.488",
            "text/markdown": "1.488",
            "text/html": [
              "1.488"
            ]
          },
          "metadata": {
            "tags": []
          }
        }
      ]
    },
    {
      "cell_type": "code",
      "metadata": {
        "colab": {
          "base_uri": "https://localhost:8080/",
          "height": 34
        },
        "id": "e5f57896-f56d-416f-9cbf-4217d00ffb72",
        "outputId": "10f733ca-044d-4e8f-bfb7-993d461e5872"
      },
      "source": [
        "# skewness\n",
        "round(skewness(N225.df$N225.Return), 3)                     "
      ],
      "id": "e5f57896-f56d-416f-9cbf-4217d00ffb72",
      "execution_count": 16,
      "outputs": [
        {
          "output_type": "display_data",
          "data": {
            "text/plain": [
              "N225.Return \n",
              "     -0.388 "
            ],
            "text/latex": "\\textbf{N225.Return:} -0.388",
            "text/markdown": "**N225.Return:** -0.388",
            "text/html": [
              "<strong>N225.Return:</strong> -0.388"
            ]
          },
          "metadata": {
            "tags": []
          }
        }
      ]
    },
    {
      "cell_type": "code",
      "metadata": {
        "colab": {
          "base_uri": "https://localhost:8080/",
          "height": 34
        },
        "id": "04580b0d-e33e-4a03-8c3c-72c205253ed2",
        "outputId": "7a6c8ce5-3f35-4e69-e5e8-d44c61fd95b0"
      },
      "source": [
        "# kurtosis\n",
        "round(kurtosis(N225.df$N225.Return), 3)                     "
      ],
      "id": "04580b0d-e33e-4a03-8c3c-72c205253ed2",
      "execution_count": 17,
      "outputs": [
        {
          "output_type": "display_data",
          "data": {
            "text/plain": [
              "N225.Return \n",
              "      9.329 "
            ],
            "text/latex": "\\textbf{N225.Return:} 9.329",
            "text/markdown": "**N225.Return:** 9.329",
            "text/html": [
              "<strong>N225.Return:</strong> 9.329"
            ]
          },
          "metadata": {
            "tags": []
          }
        }
      ]
    },
    {
      "cell_type": "code",
      "metadata": {
        "colab": {
          "base_uri": "https://localhost:8080/",
          "height": 34
        },
        "id": "515839a1-874b-4639-b9a2-1f0f24f844cd",
        "outputId": "a495d9c8-8acf-449e-d309-1444d29518e8"
      },
      "source": [
        "# min\n",
        "round(min(N225.df$N225.Return), 3)                          "
      ],
      "id": "515839a1-874b-4639-b9a2-1f0f24f844cd",
      "execution_count": 18,
      "outputs": [
        {
          "output_type": "display_data",
          "data": {
            "text/plain": [
              "[1] -12.111"
            ],
            "text/latex": "-12.111",
            "text/markdown": "-12.111",
            "text/html": [
              "-12.111"
            ]
          },
          "metadata": {
            "tags": []
          }
        }
      ]
    },
    {
      "cell_type": "code",
      "metadata": {
        "colab": {
          "base_uri": "https://localhost:8080/",
          "height": 34
        },
        "id": "3b88ac9d-baad-40df-913b-511417327e3a",
        "outputId": "2f98b834-c3d8-4e31-ba14-90081781b887"
      },
      "source": [
        "# p5\n",
        "round(quantile(N225.df$N225.Return, probs = 0.05), 3)       "
      ],
      "id": "3b88ac9d-baad-40df-913b-511417327e3a",
      "execution_count": 19,
      "outputs": [
        {
          "output_type": "display_data",
          "data": {
            "text/plain": [
              "   5% \n",
              "-2.34 "
            ],
            "text/latex": "\\textbf{5\\textbackslash{}\\%:} -2.34",
            "text/markdown": "**5%:** -2.34",
            "text/html": [
              "<strong>5%:</strong> -2.34"
            ]
          },
          "metadata": {
            "tags": []
          }
        }
      ]
    },
    {
      "cell_type": "code",
      "metadata": {
        "colab": {
          "base_uri": "https://localhost:8080/",
          "height": 34
        },
        "id": "47455c1f-33d8-4811-955a-03286ad779bc",
        "outputId": "a437136c-b371-4661-838f-2bb8ee7a8ec4"
      },
      "source": [
        "# p25\n",
        "round(quantile(N225.df$N225.Return, probs = 0.25), 3)       "
      ],
      "id": "47455c1f-33d8-4811-955a-03286ad779bc",
      "execution_count": 20,
      "outputs": [
        {
          "output_type": "display_data",
          "data": {
            "text/plain": [
              "   25% \n",
              "-0.704 "
            ],
            "text/latex": "\\textbf{25\\textbackslash{}\\%:} -0.704",
            "text/markdown": "**25%:** -0.704",
            "text/html": [
              "<strong>25%:</strong> -0.704"
            ]
          },
          "metadata": {
            "tags": []
          }
        }
      ]
    },
    {
      "cell_type": "code",
      "metadata": {
        "colab": {
          "base_uri": "https://localhost:8080/",
          "height": 34
        },
        "id": "a6516b44-9009-4d73-9216-cd6d7ce1aa75",
        "outputId": "69537f5b-e40a-4759-9f8d-30e6af6ebd10"
      },
      "source": [
        "# median\n",
        "round(median(N225.df$N225.Return), 3)                       "
      ],
      "id": "a6516b44-9009-4d73-9216-cd6d7ce1aa75",
      "execution_count": 21,
      "outputs": [
        {
          "output_type": "display_data",
          "data": {
            "text/plain": [
              "[1] 0.043"
            ],
            "text/latex": "0.043",
            "text/markdown": "0.043",
            "text/html": [
              "0.043"
            ]
          },
          "metadata": {
            "tags": []
          }
        }
      ]
    },
    {
      "cell_type": "code",
      "metadata": {
        "colab": {
          "base_uri": "https://localhost:8080/",
          "height": 34
        },
        "id": "a86278a2-66fa-4421-8432-6a68176eebc8",
        "outputId": "3a934cdb-5504-46c4-9d99-403424052018"
      },
      "source": [
        "# p75\n",
        "round(quantile(N225.df$N225.Return, probs = 0.75), 3)       "
      ],
      "id": "a86278a2-66fa-4421-8432-6a68176eebc8",
      "execution_count": 22,
      "outputs": [
        {
          "output_type": "display_data",
          "data": {
            "text/plain": [
              "  75% \n",
              "0.802 "
            ],
            "text/latex": "\\textbf{75\\textbackslash{}\\%:} 0.802",
            "text/markdown": "**75%:** 0.802",
            "text/html": [
              "<strong>75%:</strong> 0.802"
            ]
          },
          "metadata": {
            "tags": []
          }
        }
      ]
    },
    {
      "cell_type": "code",
      "metadata": {
        "colab": {
          "base_uri": "https://localhost:8080/",
          "height": 34
        },
        "id": "be64d68b-c5cc-42d9-b55d-bbfca6846cf8",
        "outputId": "4d338ddf-6184-4660-aa07-e59f7ded3363"
      },
      "source": [
        "# p95\n",
        "round(quantile(N225.df$N225.Return, probs = 0.95), 3)       "
      ],
      "id": "be64d68b-c5cc-42d9-b55d-bbfca6846cf8",
      "execution_count": 23,
      "outputs": [
        {
          "output_type": "display_data",
          "data": {
            "text/plain": [
              "  95% \n",
              "2.204 "
            ],
            "text/latex": "\\textbf{95\\textbackslash{}\\%:} 2.204",
            "text/markdown": "**95%:** 2.204",
            "text/html": [
              "<strong>95%:</strong> 2.204"
            ]
          },
          "metadata": {
            "tags": []
          }
        }
      ]
    },
    {
      "cell_type": "code",
      "metadata": {
        "colab": {
          "base_uri": "https://localhost:8080/",
          "height": 34
        },
        "id": "ecf88ca5-5576-4cfb-a9f2-225db45f12af",
        "outputId": "44c046db-4808-4c86-89cf-0f3a2366ceab"
      },
      "source": [
        "# max\n",
        "round(max(N225.df$N225.Return), 3)                          "
      ],
      "id": "ecf88ca5-5576-4cfb-a9f2-225db45f12af",
      "execution_count": 24,
      "outputs": [
        {
          "output_type": "display_data",
          "data": {
            "text/plain": [
              "[1] 13.235"
            ],
            "text/latex": "13.235",
            "text/markdown": "13.235",
            "text/html": [
              "13.235"
            ]
          },
          "metadata": {
            "tags": []
          }
        }
      ]
    },
    {
      "cell_type": "code",
      "metadata": {
        "colab": {
          "base_uri": "https://localhost:8080/",
          "height": 34
        },
        "id": "1679dd88-86bc-4041-ad68-7c1899c799a4",
        "outputId": "2672fe4b-0721-4fd2-d388-eb686c990db3"
      },
      "source": [
        "# n observations\n",
        "length(N225.df$N225.Return)                                 "
      ],
      "id": "1679dd88-86bc-4041-ad68-7c1899c799a4",
      "execution_count": 25,
      "outputs": [
        {
          "output_type": "display_data",
          "data": {
            "text/plain": [
              "[1] 5243"
            ],
            "text/latex": "5243",
            "text/markdown": "5243",
            "text/html": [
              "5243"
            ]
          },
          "metadata": {
            "tags": []
          }
        }
      ]
    },
    {
      "cell_type": "markdown",
      "metadata": {
        "id": "7d7f50bf-3414-409f-abaf-59204b4eaed3"
      },
      "source": [
        "## 4. Series normality analysis"
      ],
      "id": "7d7f50bf-3414-409f-abaf-59204b4eaed3"
    },
    {
      "cell_type": "code",
      "metadata": {
        "id": "2a3ad960-3a87-48a4-bff0-b20498343432"
      },
      "source": [
        "# Package\n",
        "library(tseries)"
      ],
      "id": "2a3ad960-3a87-48a4-bff0-b20498343432",
      "execution_count": 26,
      "outputs": []
    },
    {
      "cell_type": "code",
      "metadata": {
        "colab": {
          "base_uri": "https://localhost:8080/",
          "height": 102
        },
        "id": "49b52423-cbd3-41df-9c5e-6074e2c1a911",
        "outputId": "b8d34748-2e92-40a8-f43b-c135a03ebb0f"
      },
      "source": [
        "jarque.bera.test(N225.df$N225.Return)"
      ],
      "id": "49b52423-cbd3-41df-9c5e-6074e2c1a911",
      "execution_count": 27,
      "outputs": [
        {
          "output_type": "display_data",
          "data": {
            "text/plain": [
              "\n",
              "\tJarque Bera Test\n",
              "\n",
              "data:  N225.df$N225.Return\n",
              "X-squared = 8882.7, df = 2, p-value < 2.2e-16\n"
            ]
          },
          "metadata": {
            "tags": []
          }
        }
      ]
    },
    {
      "cell_type": "markdown",
      "metadata": {
        "id": "5b8f4698-26c6-4675-886e-b5e9a72061ac"
      },
      "source": [
        "## 5. Autocorrelation pattern analysis"
      ],
      "id": "5b8f4698-26c6-4675-886e-b5e9a72061ac"
    },
    {
      "cell_type": "code",
      "metadata": {
        "id": "0b5c4562-547f-4763-8ea8-396761d8ddc3",
        "colab": {
          "base_uri": "https://localhost:8080/"
        },
        "outputId": "fe67e2d7-9d38-4c23-eaaf-ecd2f5370305"
      },
      "source": [
        "# Packages\n",
        "install.packages('TSA')\n",
        "install.packages('aTSA')\n",
        "install.packages('FinTS')\n",
        "\n",
        "library(TSA)\n",
        "library(aTSA)\n",
        "library(FinTS)"
      ],
      "id": "0b5c4562-547f-4763-8ea8-396761d8ddc3",
      "execution_count": 28,
      "outputs": [
        {
          "output_type": "stream",
          "text": [
            "Installing package into ‘/usr/local/lib/R/site-library’\n",
            "(as ‘lib’ is unspecified)\n",
            "\n",
            "Installing package into ‘/usr/local/lib/R/site-library’\n",
            "(as ‘lib’ is unspecified)\n",
            "\n",
            "Installing package into ‘/usr/local/lib/R/site-library’\n",
            "(as ‘lib’ is unspecified)\n",
            "\n",
            "\n",
            "Attaching package: ‘TSA’\n",
            "\n",
            "\n",
            "The following objects are masked from ‘package:moments’:\n",
            "\n",
            "    kurtosis, skewness\n",
            "\n",
            "\n",
            "The following objects are masked from ‘package:PerformanceAnalytics’:\n",
            "\n",
            "    kurtosis, skewness\n",
            "\n",
            "\n",
            "The following objects are masked from ‘package:stats’:\n",
            "\n",
            "    acf, arima\n",
            "\n",
            "\n",
            "The following object is masked from ‘package:utils’:\n",
            "\n",
            "    tar\n",
            "\n",
            "\n",
            "\n",
            "Attaching package: ‘aTSA’\n",
            "\n",
            "\n",
            "The following objects are masked from ‘package:tseries’:\n",
            "\n",
            "    adf.test, kpss.test, pp.test\n",
            "\n",
            "\n",
            "The following object is masked from ‘package:graphics’:\n",
            "\n",
            "    identify\n",
            "\n",
            "\n"
          ],
          "name": "stderr"
        }
      ]
    },
    {
      "cell_type": "markdown",
      "metadata": {
        "id": "efbcdd1a-f5c6-4e6a-bf31-3d547512b3f4"
      },
      "source": [
        "**McLeod-Li test for conditional heteroskedasticity (ARCH effect)**"
      ],
      "id": "efbcdd1a-f5c6-4e6a-bf31-3d547512b3f4"
    },
    {
      "cell_type": "code",
      "metadata": {
        "colab": {
          "base_uri": "https://localhost:8080/",
          "height": 437
        },
        "id": "NDGMFcWQ54yq",
        "outputId": "77cf6b6b-1bf6-4f24-a3cd-1ddda5b681e1"
      },
      "source": [
        "McLeod.Li.test(y = N225.df$N225.Return)\n",
        "# p-valor < 1% => ARCH effect"
      ],
      "id": "NDGMFcWQ54yq",
      "execution_count": 29,
      "outputs": [
        {
          "output_type": "display_data",
          "data": {
            "image/png": "[encoded data removed]",
            "text/plain": [
              "plot without title"
            ]
          },
          "metadata": {
            "tags": [],
            "image/png": {
              "width": 420,
              "height": 420
            }
          }
        }
      ]
    },
    {
      "cell_type": "markdown",
      "metadata": {
        "id": "d2e068a6-3254-475c-acbf-a75dda7ac434"
      },
      "source": [
        "**Lagrange Multiplier (LM) test for autoregressive conditional heteroscedasticity (ARCH)**"
      ],
      "id": "d2e068a6-3254-475c-acbf-a75dda7ac434"
    },
    {
      "cell_type": "code",
      "metadata": {
        "id": "eaaf6d58-c987-450e-b7d9-d547bb10f7f9",
        "colab": {
          "base_uri": "https://localhost:8080/",
          "height": 102
        },
        "outputId": "3d43320a-8553-4b52-f4c9-5b12d72af2aa"
      },
      "source": [
        "ArchTest(N225.df$N225.Return, demean = FALSE)"
      ],
      "id": "eaaf6d58-c987-450e-b7d9-d547bb10f7f9",
      "execution_count": 30,
      "outputs": [
        {
          "output_type": "display_data",
          "data": {
            "text/plain": [
              "\n",
              "\tARCH LM-test; Null hypothesis: no ARCH effects\n",
              "\n",
              "data:  N225.df$N225.Return\n",
              "Chi-squared = 1173.7, df = 12, p-value < 2.2e-16\n"
            ]
          },
          "metadata": {
            "tags": []
          }
        }
      ]
    },
    {
      "cell_type": "markdown",
      "metadata": {
        "id": "8c5b334a-4c0e-4341-b80b-bd4a9ec89dc1"
      },
      "source": [
        "## 6. GARCH model estimation"
      ],
      "id": "8c5b334a-4c0e-4341-b80b-bd4a9ec89dc1"
    },
    {
      "cell_type": "code",
      "metadata": {
        "colab": {
          "base_uri": "https://localhost:8080/"
        },
        "id": "7abb7558-53ac-4e1b-bbfa-f1de46b2d889",
        "outputId": "67d23955-96e7-45e3-cfc4-e22105cdaa6b"
      },
      "source": [
        "# Packages\n",
        "install.packages('tidyverse')\n",
        "install.packages('FinTS')\n",
        "install.packages('texreg')\n",
        "install.packages('rugarch')\n",
        "\n",
        "library(tidyverse)\n",
        "library(FinTS)\n",
        "library(texreg)\n",
        "library(rugarch)"
      ],
      "id": "7abb7558-53ac-4e1b-bbfa-f1de46b2d889",
      "execution_count": 31,
      "outputs": [
        {
          "output_type": "stream",
          "text": [
            "Installing package into ‘/usr/local/lib/R/site-library’\n",
            "(as ‘lib’ is unspecified)\n",
            "\n",
            "Installing package into ‘/usr/local/lib/R/site-library’\n",
            "(as ‘lib’ is unspecified)\n",
            "\n",
            "Installing package into ‘/usr/local/lib/R/site-library’\n",
            "(as ‘lib’ is unspecified)\n",
            "\n",
            "Installing package into ‘/usr/local/lib/R/site-library’\n",
            "(as ‘lib’ is unspecified)\n",
            "\n",
            "── \u001b[1mAttaching packages\u001b[22m ─────────────────────────────────────── tidyverse 1.3.1 ──\n",
            "\n",
            "\u001b[32m✔\u001b[39m \u001b[34mtibble \u001b[39m 3.1.2     \u001b[32m✔\u001b[39m \u001b[34mdplyr  \u001b[39m 1.0.6\n",
            "\u001b[32m✔\u001b[39m \u001b[34mtidyr  \u001b[39m 1.1.3     \u001b[32m✔\u001b[39m \u001b[34mstringr\u001b[39m 1.4.0\n",
            "\u001b[32m✔\u001b[39m \u001b[34mreadr  \u001b[39m 1.4.0     \u001b[32m✔\u001b[39m \u001b[34mforcats\u001b[39m 0.5.1\n",
            "\u001b[32m✔\u001b[39m \u001b[34mpurrr  \u001b[39m 0.3.4     \n",
            "\n",
            "── \u001b[1mConflicts\u001b[22m ────────────────────────────────────────── tidyverse_conflicts() ──\n",
            "\u001b[31m✖\u001b[39m \u001b[34mlubridate\u001b[39m::\u001b[32mas.difftime()\u001b[39m masks \u001b[34mbase\u001b[39m::as.difftime()\n",
            "\u001b[31m✖\u001b[39m \u001b[34mdplyr\u001b[39m::\u001b[32mcombine()\u001b[39m         masks \u001b[34mgridExtra\u001b[39m::combine()\n",
            "\u001b[31m✖\u001b[39m \u001b[34mlubridate\u001b[39m::\u001b[32mdate()\u001b[39m        masks \u001b[34mbase\u001b[39m::date()\n",
            "\u001b[31m✖\u001b[39m \u001b[34mdplyr\u001b[39m::\u001b[32mfilter()\u001b[39m          masks \u001b[34mstats\u001b[39m::filter()\n",
            "\u001b[31m✖\u001b[39m \u001b[34mdplyr\u001b[39m::\u001b[32mfirst()\u001b[39m           masks \u001b[34mxts\u001b[39m::first()\n",
            "\u001b[31m✖\u001b[39m \u001b[34mlubridate\u001b[39m::\u001b[32mintersect()\u001b[39m   masks \u001b[34mbase\u001b[39m::intersect()\n",
            "\u001b[31m✖\u001b[39m \u001b[34mdplyr\u001b[39m::\u001b[32mlag()\u001b[39m             masks \u001b[34mstats\u001b[39m::lag()\n",
            "\u001b[31m✖\u001b[39m \u001b[34mdplyr\u001b[39m::\u001b[32mlast()\u001b[39m            masks \u001b[34mxts\u001b[39m::last()\n",
            "\u001b[31m✖\u001b[39m \u001b[34mlubridate\u001b[39m::\u001b[32msetdiff()\u001b[39m     masks \u001b[34mbase\u001b[39m::setdiff()\n",
            "\u001b[31m✖\u001b[39m \u001b[34mreadr\u001b[39m::\u001b[32mspec()\u001b[39m            masks \u001b[34mTSA\u001b[39m::spec()\n",
            "\u001b[31m✖\u001b[39m \u001b[34mlubridate\u001b[39m::\u001b[32munion()\u001b[39m       masks \u001b[34mbase\u001b[39m::union()\n",
            "\n",
            "Version:  1.37.5\n",
            "Date:     2020-06-17\n",
            "Author:   Philip Leifeld (University of Essex)\n",
            "\n",
            "Consider submitting praise using the praise or praise_interactive functions.\n",
            "Please cite the JSS article in your publications -- see citation(\"texreg\").\n",
            "\n",
            "\n",
            "Attaching package: ‘texreg’\n",
            "\n",
            "\n",
            "The following object is masked from ‘package:tidyr’:\n",
            "\n",
            "    extract\n",
            "\n",
            "\n",
            "Loading required package: parallel\n",
            "\n",
            "\n",
            "Attaching package: ‘rugarch’\n",
            "\n",
            "\n",
            "The following object is masked from ‘package:purrr’:\n",
            "\n",
            "    reduce\n",
            "\n",
            "\n",
            "The following object is masked from ‘package:stats’:\n",
            "\n",
            "    sigma\n",
            "\n",
            "\n"
          ],
          "name": "stderr"
        }
      ]
    },
    {
      "cell_type": "code",
      "metadata": {
        "id": "ae5f5617-1efe-4488-bda0-051cf1bf4550"
      },
      "source": [
        "# Parameters definition\n",
        "ar_lag <- 0\n",
        "ma_lag <- 0\n",
        "arch_lag <- 1\n",
        "garch_lag <- 1"
      ],
      "id": "ae5f5617-1efe-4488-bda0-051cf1bf4550",
      "execution_count": 32,
      "outputs": []
    },
    {
      "cell_type": "markdown",
      "metadata": {
        "id": "4fb9f039-c974-422c-8f32-9c886eb06aeb"
      },
      "source": [
        "**Linear GARCH model**"
      ],
      "id": "4fb9f039-c974-422c-8f32-9c886eb06aeb"
    },
    {
      "cell_type": "code",
      "metadata": {
        "id": "47c0b88c-69c3-486d-b02c-29405ebd96e9"
      },
      "source": [
        "# Specification \n",
        "garch.spec <- ugarchspec(variance.model = list(model = \"sGARCH\",\n",
        "                                               garchOrder = c(arch_lag, garch_lag)),\n",
        "                         mean.model = list(armaOrder = c(ar_lag, ma_lag)),\n",
        "                         distribution.model = \"snorm\")\n",
        "# distribution.model = \"snorm\" => skew-normal distribution"
      ],
      "id": "47c0b88c-69c3-486d-b02c-29405ebd96e9",
      "execution_count": 33,
      "outputs": []
    },
    {
      "cell_type": "code",
      "metadata": {
        "id": "4f4f78bc-4e59-462b-af7e-1bcac1264fa3",
        "colab": {
          "base_uri": "https://localhost:8080/",
          "height": 221
        },
        "outputId": "01b58a6e-15e6-40fa-86e8-45fbc441493d"
      },
      "source": [
        "# Estimation\n",
        "garch.fit <- ugarchfit(spec = garch.spec, data = N225.df$N225.Return)\n",
        "round(garch.fit@fit$matcoef, 4)"
      ],
      "id": "4f4f78bc-4e59-462b-af7e-1bcac1264fa3",
      "execution_count": 34,
      "outputs": [
        {
          "output_type": "display_data",
          "data": {
            "text/plain": [
              "        Estimate  Std. Error  t value Pr(>|t|)\n",
              "mu     0.0444    0.0160       2.7827  0.0054  \n",
              "omega  0.0442    0.0075       5.8849  0.0000  \n",
              "alpha1 0.1093    0.0091      12.0211  0.0000  \n",
              "beta1  0.8717    0.0103      84.2408  0.0000  \n",
              "skew   0.8795    0.0154      56.9600  0.0000  "
            ],
            "text/latex": "A matrix: 5 × 4 of type dbl\n\\begin{tabular}{r|llll}\n  &  Estimate &  Std. Error &  t value & Pr(>\\textbar{}t\\textbar{})\\\\\n\\hline\n\tmu & 0.0444 & 0.0160 &  2.7827 & 0.0054\\\\\n\tomega & 0.0442 & 0.0075 &  5.8849 & 0.0000\\\\\n\talpha1 & 0.1093 & 0.0091 & 12.0211 & 0.0000\\\\\n\tbeta1 & 0.8717 & 0.0103 & 84.2408 & 0.0000\\\\\n\tskew & 0.8795 & 0.0154 & 56.9600 & 0.0000\\\\\n\\end{tabular}\n",
            "text/markdown": "\nA matrix: 5 × 4 of type dbl\n\n| <!--/--> |  Estimate |  Std. Error |  t value | Pr(&gt;|t|) |\n|---|---|---|---|---|\n| mu | 0.0444 | 0.0160 |  2.7827 | 0.0054 |\n| omega | 0.0442 | 0.0075 |  5.8849 | 0.0000 |\n| alpha1 | 0.1093 | 0.0091 | 12.0211 | 0.0000 |\n| beta1 | 0.8717 | 0.0103 | 84.2408 | 0.0000 |\n| skew | 0.8795 | 0.0154 | 56.9600 | 0.0000 |\n\n",
            "text/html": [
              "<table class=\"dataframe\">\n",
              "<caption>A matrix: 5 × 4 of type dbl</caption>\n",
              "<thead>\n",
              "\t<tr><th></th><th scope=col> Estimate</th><th scope=col> Std. Error</th><th scope=col> t value</th><th scope=col>Pr(&gt;|t|)</th></tr>\n",
              "</thead>\n",
              "<tbody>\n",
              "\t<tr><th scope=row>mu</th><td>0.0444</td><td>0.0160</td><td> 2.7827</td><td>0.0054</td></tr>\n",
              "\t<tr><th scope=row>omega</th><td>0.0442</td><td>0.0075</td><td> 5.8849</td><td>0.0000</td></tr>\n",
              "\t<tr><th scope=row>alpha1</th><td>0.1093</td><td>0.0091</td><td>12.0211</td><td>0.0000</td></tr>\n",
              "\t<tr><th scope=row>beta1</th><td>0.8717</td><td>0.0103</td><td>84.2408</td><td>0.0000</td></tr>\n",
              "\t<tr><th scope=row>skew</th><td>0.8795</td><td>0.0154</td><td>56.9600</td><td>0.0000</td></tr>\n",
              "</tbody>\n",
              "</table>\n"
            ]
          },
          "metadata": {
            "tags": []
          }
        }
      ]
    },
    {
      "cell_type": "code",
      "metadata": {
        "id": "52cb3822-6ebd-4d45-b2c6-04c1acb17b34",
        "colab": {
          "base_uri": "https://localhost:8080/",
          "height": 153
        },
        "outputId": "df09442c-898d-4b3e-d64f-759d90fc17f8"
      },
      "source": [
        "# Extracting variance series from the Linear GARCH model\n",
        "var.garch <- ts(garch.fit@fit$sigma^2)\n",
        "head(var.garch)\n",
        "\n",
        "N225.df$N225.VolGARCH <- as.numeric(var.garch)\n",
        "head(N225.df)"
      ],
      "id": "52cb3822-6ebd-4d45-b2c6-04c1acb17b34",
      "execution_count": 35,
      "outputs": [
        {
          "output_type": "display_data",
          "data": {
            "text/plain": [
              "[1] 2.215884 2.657106 2.834980 2.516488 3.581335 3.268782"
            ],
            "text/latex": "\\begin{enumerate*}\n\\item 2.21588405585587\n\\item 2.65710583307881\n\\item 2.83497958784374\n\\item 2.51648764112052\n\\item 3.58133456071265\n\\item 3.2687821107651\n\\end{enumerate*}\n",
            "text/markdown": "1. 2.21588405585587\n2. 2.65710583307881\n3. 2.83497958784374\n4. 2.51648764112052\n5. 3.58133456071265\n6. 3.2687821107651\n\n\n",
            "text/html": [
              "<style>\n",
              ".list-inline {list-style: none; margin:0; padding: 0}\n",
              ".list-inline>li {display: inline-block}\n",
              ".list-inline>li:not(:last-child)::after {content: \"\\00b7\"; padding: 0 .5ex}\n",
              "</style>\n",
              "<ol class=list-inline><li>2.21588405585587</li><li>2.65710583307881</li><li>2.83497958784374</li><li>2.51648764112052</li><li>3.58133456071265</li><li>3.2687821107651</li></ol>\n"
            ]
          },
          "metadata": {
            "tags": []
          }
        },
        {
          "output_type": "display_data",
          "data": {
            "text/plain": [
              "           N225.Close N225.Return N225.VolGARCH\n",
              "2000-01-05   18542.55  -2.4521328      2.215884\n",
              "2000-01-06   18168.27  -2.0391493      2.657106\n",
              "2000-01-07   18193.41   0.1382809      2.834980\n",
              "2000-01-11   18850.92   3.5502266      2.516488\n",
              "2000-01-12   18677.42  -0.9246411      3.581335\n",
              "2000-01-13   18833.29   0.8310695      3.268782"
            ]
          },
          "metadata": {
            "tags": []
          }
        }
      ]
    },
    {
      "cell_type": "markdown",
      "metadata": {
        "id": "e6f29dce-3413-404b-ab4f-fa35eee0c98f"
      },
      "source": [
        "**EGARCH model**"
      ],
      "id": "e6f29dce-3413-404b-ab4f-fa35eee0c98f"
    },
    {
      "cell_type": "code",
      "metadata": {
        "id": "3f49a904-41b9-4e2e-a788-6da4085d14db"
      },
      "source": [
        "# Specification \n",
        "egarch.spec <- ugarchspec(variance.model = list(model = \"eGARCH\",\n",
        "                                                garchOrder = c(arch_lag, garch_lag)),\n",
        "                          mean.model = list(armaOrder = c(ar_lag, ma_lag)), \n",
        "                          distribution.model = \"snorm\")\n",
        "# distribution.model = \"snorm\" => skew-normal distribution"
      ],
      "id": "3f49a904-41b9-4e2e-a788-6da4085d14db",
      "execution_count": 36,
      "outputs": []
    },
    {
      "cell_type": "code",
      "metadata": {
        "id": "1d6a661b-2206-4fa7-b4e8-d3765c54a302",
        "colab": {
          "base_uri": "https://localhost:8080/",
          "height": 252
        },
        "outputId": "b84eeb1c-6d1c-473d-84b6-6af7e9038b6d"
      },
      "source": [
        "# Estimation\n",
        "egarch.fit <- ugarchfit(spec = egarch.spec, data = N225.df$N225.Return)\n",
        "round(egarch.fit@fit$matcoef, 4)"
      ],
      "id": "1d6a661b-2206-4fa7-b4e8-d3765c54a302",
      "execution_count": 37,
      "outputs": [
        {
          "output_type": "display_data",
          "data": {
            "text/plain": [
              "        Estimate  Std. Error  t value Pr(>|t|)\n",
              "mu      0.0061   0.0158        0.3888 0.6974  \n",
              "omega   0.0256   0.0038        6.7194 0.0000  \n",
              "alpha1 -0.1000   0.0091      -10.9347 0.0000  \n",
              "beta1   0.9623   0.0046      211.1714 0.0000  \n",
              "gamma1  0.1938   0.0138       14.0211 0.0000  \n",
              "skew    0.8894   0.0155       57.2574 0.0000  "
            ],
            "text/latex": "A matrix: 6 × 4 of type dbl\n\\begin{tabular}{r|llll}\n  &  Estimate &  Std. Error &  t value & Pr(>\\textbar{}t\\textbar{})\\\\\n\\hline\n\tmu &  0.0061 & 0.0158 &   0.3888 & 0.6974\\\\\n\tomega &  0.0256 & 0.0038 &   6.7194 & 0.0000\\\\\n\talpha1 & -0.1000 & 0.0091 & -10.9347 & 0.0000\\\\\n\tbeta1 &  0.9623 & 0.0046 & 211.1714 & 0.0000\\\\\n\tgamma1 &  0.1938 & 0.0138 &  14.0211 & 0.0000\\\\\n\tskew &  0.8894 & 0.0155 &  57.2574 & 0.0000\\\\\n\\end{tabular}\n",
            "text/markdown": "\nA matrix: 6 × 4 of type dbl\n\n| <!--/--> |  Estimate |  Std. Error |  t value | Pr(&gt;|t|) |\n|---|---|---|---|---|\n| mu |  0.0061 | 0.0158 |   0.3888 | 0.6974 |\n| omega |  0.0256 | 0.0038 |   6.7194 | 0.0000 |\n| alpha1 | -0.1000 | 0.0091 | -10.9347 | 0.0000 |\n| beta1 |  0.9623 | 0.0046 | 211.1714 | 0.0000 |\n| gamma1 |  0.1938 | 0.0138 |  14.0211 | 0.0000 |\n| skew |  0.8894 | 0.0155 |  57.2574 | 0.0000 |\n\n",
            "text/html": [
              "<table class=\"dataframe\">\n",
              "<caption>A matrix: 6 × 4 of type dbl</caption>\n",
              "<thead>\n",
              "\t<tr><th></th><th scope=col> Estimate</th><th scope=col> Std. Error</th><th scope=col> t value</th><th scope=col>Pr(&gt;|t|)</th></tr>\n",
              "</thead>\n",
              "<tbody>\n",
              "\t<tr><th scope=row>mu</th><td> 0.0061</td><td>0.0158</td><td>  0.3888</td><td>0.6974</td></tr>\n",
              "\t<tr><th scope=row>omega</th><td> 0.0256</td><td>0.0038</td><td>  6.7194</td><td>0.0000</td></tr>\n",
              "\t<tr><th scope=row>alpha1</th><td>-0.1000</td><td>0.0091</td><td>-10.9347</td><td>0.0000</td></tr>\n",
              "\t<tr><th scope=row>beta1</th><td> 0.9623</td><td>0.0046</td><td>211.1714</td><td>0.0000</td></tr>\n",
              "\t<tr><th scope=row>gamma1</th><td> 0.1938</td><td>0.0138</td><td> 14.0211</td><td>0.0000</td></tr>\n",
              "\t<tr><th scope=row>skew</th><td> 0.8894</td><td>0.0155</td><td> 57.2574</td><td>0.0000</td></tr>\n",
              "</tbody>\n",
              "</table>\n"
            ]
          },
          "metadata": {
            "tags": []
          }
        }
      ]
    },
    {
      "cell_type": "code",
      "metadata": {
        "id": "cffa8b9c-7f85-4602-ac12-0456b3314f2e",
        "colab": {
          "base_uri": "https://localhost:8080/",
          "height": 153
        },
        "outputId": "b878a311-218b-47f1-a813-56ace94364ed"
      },
      "source": [
        "# Extracting variance series from the EGARCH model\n",
        "var.egarch <- ts(egarch.fit@fit$sigma^2)\n",
        "head(var.egarch)\n",
        "\n",
        "N225.df$N225.VolEGARCH <- as.numeric(var.egarch)\n",
        "head(N225.df)"
      ],
      "id": "cffa8b9c-7f85-4602-ac12-0456b3314f2e",
      "execution_count": 38,
      "outputs": [
        {
          "output_type": "display_data",
          "data": {
            "text/plain": [
              "[1] 2.214560 3.068745 3.643426 3.069930 3.126831 3.072938"
            ],
            "text/latex": "\\begin{enumerate*}\n\\item 2.21456022814788\n\\item 3.06874512761378\n\\item 3.64342563159538\n\\item 3.06992986218438\n\\item 3.12683068879983\n\\item 3.0729376852298\n\\end{enumerate*}\n",
            "text/markdown": "1. 2.21456022814788\n2. 3.06874512761378\n3. 3.64342563159538\n4. 3.06992986218438\n5. 3.12683068879983\n6. 3.0729376852298\n\n\n",
            "text/html": [
              "<style>\n",
              ".list-inline {list-style: none; margin:0; padding: 0}\n",
              ".list-inline>li {display: inline-block}\n",
              ".list-inline>li:not(:last-child)::after {content: \"\\00b7\"; padding: 0 .5ex}\n",
              "</style>\n",
              "<ol class=list-inline><li>2.21456022814788</li><li>3.06874512761378</li><li>3.64342563159538</li><li>3.06992986218438</li><li>3.12683068879983</li><li>3.0729376852298</li></ol>\n"
            ]
          },
          "metadata": {
            "tags": []
          }
        },
        {
          "output_type": "display_data",
          "data": {
            "text/plain": [
              "           N225.Close N225.Return N225.VolGARCH N225.VolEGARCH\n",
              "2000-01-05   18542.55  -2.4521328      2.215884       2.214560\n",
              "2000-01-06   18168.27  -2.0391493      2.657106       3.068745\n",
              "2000-01-07   18193.41   0.1382809      2.834980       3.643426\n",
              "2000-01-11   18850.92   3.5502266      2.516488       3.069930\n",
              "2000-01-12   18677.42  -0.9246411      3.581335       3.126831\n",
              "2000-01-13   18833.29   0.8310695      3.268782       3.072938"
            ]
          },
          "metadata": {
            "tags": []
          }
        }
      ]
    },
    {
      "cell_type": "markdown",
      "metadata": {
        "id": "3f46740f-5c39-4774-9658-6fc3f087dd0a"
      },
      "source": [
        "**GJR-GARCH model**"
      ],
      "id": "3f46740f-5c39-4774-9658-6fc3f087dd0a"
    },
    {
      "cell_type": "code",
      "metadata": {
        "id": "ab68bdb5-2f9a-4efa-b9af-2cf920607b6a"
      },
      "source": [
        "# Specification \n",
        "gjrgarch.spec <- ugarchspec(variance.model = list(model = \"gjrGARCH\",\n",
        "                                                  garchOrder = c(arch_lag, garch_lag)),\n",
        "                            mean.model = list(armaOrder = c(ar_lag, ma_lag)), \n",
        "                            distribution.model = \"snorm\")\n",
        "# distribution.model = \"snorm\" => skew-normal distribution"
      ],
      "id": "ab68bdb5-2f9a-4efa-b9af-2cf920607b6a",
      "execution_count": 39,
      "outputs": []
    },
    {
      "cell_type": "code",
      "metadata": {
        "id": "bd6466b5-b0f5-44e2-9d43-2922a0f6f588",
        "colab": {
          "base_uri": "https://localhost:8080/",
          "height": 252
        },
        "outputId": "e6a61930-ffd2-48df-d7f4-8f1e3e2ff182"
      },
      "source": [
        "# Estimation\n",
        "gjrgarch.fit <- ugarchfit(spec = gjrgarch.spec, data = N225.df$N225.Return)\n",
        "round(gjrgarch.fit@fit$matcoef, 4)"
      ],
      "id": "bd6466b5-b0f5-44e2-9d43-2922a0f6f588",
      "execution_count": 40,
      "outputs": [
        {
          "output_type": "display_data",
          "data": {
            "text/plain": [
              "        Estimate  Std. Error  t value Pr(>|t|)\n",
              "mu     0.0120    0.0162       0.7414  0.4585  \n",
              "omega  0.0562    0.0079       7.1579  0.0000  \n",
              "alpha1 0.0408    0.0076       5.3804  0.0000  \n",
              "beta1  0.8684    0.0101      85.8219  0.0000  \n",
              "gamma1 0.1267    0.0147       8.6448  0.0000  \n",
              "skew   0.8808    0.0155      56.8307  0.0000  "
            ],
            "text/latex": "A matrix: 6 × 4 of type dbl\n\\begin{tabular}{r|llll}\n  &  Estimate &  Std. Error &  t value & Pr(>\\textbar{}t\\textbar{})\\\\\n\\hline\n\tmu & 0.0120 & 0.0162 &  0.7414 & 0.4585\\\\\n\tomega & 0.0562 & 0.0079 &  7.1579 & 0.0000\\\\\n\talpha1 & 0.0408 & 0.0076 &  5.3804 & 0.0000\\\\\n\tbeta1 & 0.8684 & 0.0101 & 85.8219 & 0.0000\\\\\n\tgamma1 & 0.1267 & 0.0147 &  8.6448 & 0.0000\\\\\n\tskew & 0.8808 & 0.0155 & 56.8307 & 0.0000\\\\\n\\end{tabular}\n",
            "text/markdown": "\nA matrix: 6 × 4 of type dbl\n\n| <!--/--> |  Estimate |  Std. Error |  t value | Pr(&gt;|t|) |\n|---|---|---|---|---|\n| mu | 0.0120 | 0.0162 |  0.7414 | 0.4585 |\n| omega | 0.0562 | 0.0079 |  7.1579 | 0.0000 |\n| alpha1 | 0.0408 | 0.0076 |  5.3804 | 0.0000 |\n| beta1 | 0.8684 | 0.0101 | 85.8219 | 0.0000 |\n| gamma1 | 0.1267 | 0.0147 |  8.6448 | 0.0000 |\n| skew | 0.8808 | 0.0155 | 56.8307 | 0.0000 |\n\n",
            "text/html": [
              "<table class=\"dataframe\">\n",
              "<caption>A matrix: 6 × 4 of type dbl</caption>\n",
              "<thead>\n",
              "\t<tr><th></th><th scope=col> Estimate</th><th scope=col> Std. Error</th><th scope=col> t value</th><th scope=col>Pr(&gt;|t|)</th></tr>\n",
              "</thead>\n",
              "<tbody>\n",
              "\t<tr><th scope=row>mu</th><td>0.0120</td><td>0.0162</td><td> 0.7414</td><td>0.4585</td></tr>\n",
              "\t<tr><th scope=row>omega</th><td>0.0562</td><td>0.0079</td><td> 7.1579</td><td>0.0000</td></tr>\n",
              "\t<tr><th scope=row>alpha1</th><td>0.0408</td><td>0.0076</td><td> 5.3804</td><td>0.0000</td></tr>\n",
              "\t<tr><th scope=row>beta1</th><td>0.8684</td><td>0.0101</td><td>85.8219</td><td>0.0000</td></tr>\n",
              "\t<tr><th scope=row>gamma1</th><td>0.1267</td><td>0.0147</td><td> 8.6448</td><td>0.0000</td></tr>\n",
              "\t<tr><th scope=row>skew</th><td>0.8808</td><td>0.0155</td><td>56.8307</td><td>0.0000</td></tr>\n",
              "</tbody>\n",
              "</table>\n"
            ]
          },
          "metadata": {
            "tags": []
          }
        }
      ]
    },
    {
      "cell_type": "code",
      "metadata": {
        "id": "866a759d-f023-4e0a-9708-ad0b03378079",
        "colab": {
          "base_uri": "https://localhost:8080/",
          "height": 153
        },
        "outputId": "bd726dce-1db7-44fa-ec6d-69714df2f8ee"
      },
      "source": [
        "# Extracting variance series from the GJR-GARCH model\n",
        "var.gjrgarch <- ts(gjrgarch.fit@fit$sigma^2)\n",
        "head(var.gjrgarch)\n",
        "\n",
        "N225.df$N225.VolGJRGARCH <- as.numeric(var.gjrgarch)\n",
        "head(N225.df)"
      ],
      "id": "866a759d-f023-4e0a-9708-ad0b03378079",
      "execution_count": 41,
      "outputs": [
        {
          "output_type": "display_data",
          "data": {
            "text/plain": [
              "[1] 2.214573 2.996913 3.363787 2.977967 3.153657 2.941857"
            ],
            "text/latex": "\\begin{enumerate*}\n\\item 2.21457294957858\n\\item 2.99691296184162\n\\item 3.36378715333637\n\\item 2.97796733398349\n\\item 3.15365749828554\n\\item 2.94185717731751\n\\end{enumerate*}\n",
            "text/markdown": "1. 2.21457294957858\n2. 2.99691296184162\n3. 3.36378715333637\n4. 2.97796733398349\n5. 3.15365749828554\n6. 2.94185717731751\n\n\n",
            "text/html": [
              "<style>\n",
              ".list-inline {list-style: none; margin:0; padding: 0}\n",
              ".list-inline>li {display: inline-block}\n",
              ".list-inline>li:not(:last-child)::after {content: \"\\00b7\"; padding: 0 .5ex}\n",
              "</style>\n",
              "<ol class=list-inline><li>2.21457294957858</li><li>2.99691296184162</li><li>3.36378715333637</li><li>2.97796733398349</li><li>3.15365749828554</li><li>2.94185717731751</li></ol>\n"
            ]
          },
          "metadata": {
            "tags": []
          }
        },
        {
          "output_type": "display_data",
          "data": {
            "text/plain": [
              "           N225.Close N225.Return N225.VolGARCH N225.VolEGARCH N225.VolGJRGARCH\n",
              "2000-01-05   18542.55  -2.4521328      2.215884       2.214560         2.214573\n",
              "2000-01-06   18168.27  -2.0391493      2.657106       3.068745         2.996913\n",
              "2000-01-07   18193.41   0.1382809      2.834980       3.643426         3.363787\n",
              "2000-01-11   18850.92   3.5502266      2.516488       3.069930         2.977967\n",
              "2000-01-12   18677.42  -0.9246411      3.581335       3.126831         3.153657\n",
              "2000-01-13   18833.29   0.8310695      3.268782       3.072938         2.941857"
            ]
          },
          "metadata": {
            "tags": []
          }
        }
      ]
    },
    {
      "cell_type": "markdown",
      "metadata": {
        "id": "30791595-f694-409c-a534-adfd13007dc8"
      },
      "source": [
        "## 7. Realized GARCH model estimation"
      ],
      "id": "30791595-f694-409c-a534-adfd13007dc8"
    },
    {
      "cell_type": "code",
      "metadata": {
        "id": "15180bd5-14f4-433e-8d95-6daf87ad72ee"
      },
      "source": [
        "# Specification\n",
        "realgarch.spec <- ugarchspec(mean.model = list(armaOrder = c(ar_lag, ma_lag),\n",
        "                                               include.mean = FALSE),\n",
        "                             variance.model = list(model = 'realGARCH',\n",
        "                                                   garchOrder = c(arch_lag, garch_lag)),\n",
        "                             distribution.model = \"snorm\")\n",
        "# distribution.model = \"snorm\" => skew-normal distribution)"
      ],
      "id": "15180bd5-14f4-433e-8d95-6daf87ad72ee",
      "execution_count": 42,
      "outputs": []
    },
    {
      "cell_type": "markdown",
      "metadata": {
        "id": "a579f920-f7b4-4ea6-b1dc-16fbfd9f5bec"
      },
      "source": [
        "**Realized Linear GARCH**"
      ],
      "id": "a579f920-f7b4-4ea6-b1dc-16fbfd9f5bec"
    },
    {
      "cell_type": "code",
      "metadata": {
        "id": "15ba614a-3479-4aeb-a0a3-f6aa302df878",
        "colab": {
          "base_uri": "https://localhost:8080/",
          "height": 345
        },
        "outputId": "a6522530-7b86-40a4-a2b1-b5d30dd02a2d"
      },
      "source": [
        "# Estimation\n",
        "realgarch.fit <- ugarchfit(realgarch.spec, N225.df$N225.Return,\n",
        "                          solver = 'hybrid',\n",
        "                          realizedVol = N225.df$N225.VolGARCH)\n",
        "round(realgarch.fit@fit$matcoef, 4)"
      ],
      "id": "15ba614a-3479-4aeb-a0a3-f6aa302df878",
      "execution_count": 43,
      "outputs": [
        {
          "output_type": "display_data",
          "data": {
            "text/plain": [
              "        Estimate  Std. Error  t value Pr(>|t|)\n",
              "omega   0.0434   0.0243        1.7866 0.0740  \n",
              "alpha1  0.9373   0.0319       29.4067 0.0000  \n",
              "beta1   0.0205   0.0138        1.4833 0.1380  \n",
              "eta11   0.0109   0.0021        5.1892 0.0000  \n",
              "eta21   0.0097   0.0010        9.6352 0.0000  \n",
              "delta   1.0179   0.0314       32.3675 0.0000  \n",
              "lambda  0.1489   0.0015      102.3994 0.0000  \n",
              "skew    0.8867   0.0149       59.5842 0.0000  \n",
              "xi     -0.0316   0.0260       -1.2139 0.2248  "
            ],
            "text/latex": "A matrix: 9 × 4 of type dbl\n\\begin{tabular}{r|llll}\n  &  Estimate &  Std. Error &  t value & Pr(>\\textbar{}t\\textbar{})\\\\\n\\hline\n\tomega &  0.0434 & 0.0243 &   1.7866 & 0.0740\\\\\n\talpha1 &  0.9373 & 0.0319 &  29.4067 & 0.0000\\\\\n\tbeta1 &  0.0205 & 0.0138 &   1.4833 & 0.1380\\\\\n\teta11 &  0.0109 & 0.0021 &   5.1892 & 0.0000\\\\\n\teta21 &  0.0097 & 0.0010 &   9.6352 & 0.0000\\\\\n\tdelta &  1.0179 & 0.0314 &  32.3675 & 0.0000\\\\\n\tlambda &  0.1489 & 0.0015 & 102.3994 & 0.0000\\\\\n\tskew &  0.8867 & 0.0149 &  59.5842 & 0.0000\\\\\n\txi & -0.0316 & 0.0260 &  -1.2139 & 0.2248\\\\\n\\end{tabular}\n",
            "text/markdown": "\nA matrix: 9 × 4 of type dbl\n\n| <!--/--> |  Estimate |  Std. Error |  t value | Pr(&gt;|t|) |\n|---|---|---|---|---|\n| omega |  0.0434 | 0.0243 |   1.7866 | 0.0740 |\n| alpha1 |  0.9373 | 0.0319 |  29.4067 | 0.0000 |\n| beta1 |  0.0205 | 0.0138 |   1.4833 | 0.1380 |\n| eta11 |  0.0109 | 0.0021 |   5.1892 | 0.0000 |\n| eta21 |  0.0097 | 0.0010 |   9.6352 | 0.0000 |\n| delta |  1.0179 | 0.0314 |  32.3675 | 0.0000 |\n| lambda |  0.1489 | 0.0015 | 102.3994 | 0.0000 |\n| skew |  0.8867 | 0.0149 |  59.5842 | 0.0000 |\n| xi | -0.0316 | 0.0260 |  -1.2139 | 0.2248 |\n\n",
            "text/html": [
              "<table class=\"dataframe\">\n",
              "<caption>A matrix: 9 × 4 of type dbl</caption>\n",
              "<thead>\n",
              "\t<tr><th></th><th scope=col> Estimate</th><th scope=col> Std. Error</th><th scope=col> t value</th><th scope=col>Pr(&gt;|t|)</th></tr>\n",
              "</thead>\n",
              "<tbody>\n",
              "\t<tr><th scope=row>omega</th><td> 0.0434</td><td>0.0243</td><td>  1.7866</td><td>0.0740</td></tr>\n",
              "\t<tr><th scope=row>alpha1</th><td> 0.9373</td><td>0.0319</td><td> 29.4067</td><td>0.0000</td></tr>\n",
              "\t<tr><th scope=row>beta1</th><td> 0.0205</td><td>0.0138</td><td>  1.4833</td><td>0.1380</td></tr>\n",
              "\t<tr><th scope=row>eta11</th><td> 0.0109</td><td>0.0021</td><td>  5.1892</td><td>0.0000</td></tr>\n",
              "\t<tr><th scope=row>eta21</th><td> 0.0097</td><td>0.0010</td><td>  9.6352</td><td>0.0000</td></tr>\n",
              "\t<tr><th scope=row>delta</th><td> 1.0179</td><td>0.0314</td><td> 32.3675</td><td>0.0000</td></tr>\n",
              "\t<tr><th scope=row>lambda</th><td> 0.1489</td><td>0.0015</td><td>102.3994</td><td>0.0000</td></tr>\n",
              "\t<tr><th scope=row>skew</th><td> 0.8867</td><td>0.0149</td><td> 59.5842</td><td>0.0000</td></tr>\n",
              "\t<tr><th scope=row>xi</th><td>-0.0316</td><td>0.0260</td><td> -1.2139</td><td>0.2248</td></tr>\n",
              "</tbody>\n",
              "</table>\n"
            ]
          },
          "metadata": {
            "tags": []
          }
        }
      ]
    },
    {
      "cell_type": "code",
      "metadata": {
        "id": "35f05310-d764-4a29-895f-14a3d9333110",
        "colab": {
          "base_uri": "https://localhost:8080/",
          "height": 272
        },
        "outputId": "4a904fdc-eb43-42fc-aafd-997276b57494"
      },
      "source": [
        "# Extracting variance series from the Realized Linear GARCH model\n",
        "var.realgarch <- ts(realgarch.fit@fit$sigma^2)\n",
        "head(var.realgarch)\n",
        "\n",
        "N225.df$N225.VolRealGARCH <- as.numeric(var.realgarch)\n",
        "head(N225.df)"
      ],
      "id": "35f05310-d764-4a29-895f-14a3d9333110",
      "execution_count": 44,
      "outputs": [
        {
          "output_type": "display_data",
          "data": {
            "text/plain": [
              "[1] 2.214620 2.237486 2.653173 2.829142 2.533477 3.518616"
            ],
            "text/latex": "\\begin{enumerate*}\n\\item 2.2146204361427\n\\item 2.23748554045947\n\\item 2.65317308208268\n\\item 2.8291415745265\n\\item 2.53347719088488\n\\item 3.51861633371947\n\\end{enumerate*}\n",
            "text/markdown": "1. 2.2146204361427\n2. 2.23748554045947\n3. 2.65317308208268\n4. 2.8291415745265\n5. 2.53347719088488\n6. 3.51861633371947\n\n\n",
            "text/html": [
              "<style>\n",
              ".list-inline {list-style: none; margin:0; padding: 0}\n",
              ".list-inline>li {display: inline-block}\n",
              ".list-inline>li:not(:last-child)::after {content: \"\\00b7\"; padding: 0 .5ex}\n",
              "</style>\n",
              "<ol class=list-inline><li>2.2146204361427</li><li>2.23748554045947</li><li>2.65317308208268</li><li>2.8291415745265</li><li>2.53347719088488</li><li>3.51861633371947</li></ol>\n"
            ]
          },
          "metadata": {
            "tags": []
          }
        },
        {
          "output_type": "display_data",
          "data": {
            "text/plain": [
              "           N225.Close N225.Return N225.VolGARCH N225.VolEGARCH N225.VolGJRGARCH\n",
              "2000-01-05   18542.55  -2.4521328      2.215884       2.214560         2.214573\n",
              "2000-01-06   18168.27  -2.0391493      2.657106       3.068745         2.996913\n",
              "2000-01-07   18193.41   0.1382809      2.834980       3.643426         3.363787\n",
              "2000-01-11   18850.92   3.5502266      2.516488       3.069930         2.977967\n",
              "2000-01-12   18677.42  -0.9246411      3.581335       3.126831         3.153657\n",
              "2000-01-13   18833.29   0.8310695      3.268782       3.072938         2.941857\n",
              "           N225.VolRealGARCH\n",
              "2000-01-05          2.214620\n",
              "2000-01-06          2.237486\n",
              "2000-01-07          2.653173\n",
              "2000-01-11          2.829142\n",
              "2000-01-12          2.533477\n",
              "2000-01-13          3.518616"
            ]
          },
          "metadata": {
            "tags": []
          }
        }
      ]
    },
    {
      "cell_type": "markdown",
      "metadata": {
        "id": "3cac3418-86e3-40a3-b370-d044e9ffda05"
      },
      "source": [
        "**Realized EGARCH**"
      ],
      "id": "3cac3418-86e3-40a3-b370-d044e9ffda05"
    },
    {
      "cell_type": "code",
      "metadata": {
        "id": "8dab1b63-5db6-4abb-8ab3-4e49b909a386",
        "colab": {
          "base_uri": "https://localhost:8080/",
          "height": 345
        },
        "outputId": "871a9e8e-f93b-49db-8d71-b162378d676b"
      },
      "source": [
        "# Estimation\n",
        "realegarch.fit <- ugarchfit(realgarch.spec, N225.df$N225.Return,\n",
        "                            solver = 'hybrid',\n",
        "                            realizedVol = N225.df$N225.VolEGARCH)\n",
        "round(realegarch.fit@fit$matcoef, 4)"
      ],
      "id": "8dab1b63-5db6-4abb-8ab3-4e49b909a386",
      "execution_count": 45,
      "outputs": [
        {
          "output_type": "display_data",
          "data": {
            "text/plain": [
              "        Estimate  Std. Error  t value Pr(>|t|)\n",
              "omega   0.0270   0.0231        1.1661 0.2436  \n",
              "alpha1  0.9417   0.0300       31.3820 0.0000  \n",
              "beta1   0.0354   0.0138        2.5670 0.0103  \n",
              "eta11   0.0108   0.0024        4.6074 0.0000  \n",
              "eta21   0.0108   0.0012        9.2804 0.0000  \n",
              "delta   0.9915   0.0282       35.1761 0.0000  \n",
              "lambda  0.1679   0.0016      102.3982 0.0000  \n",
              "skew    0.8980   0.0151       59.3260 0.0000  \n",
              "xi     -0.0119   0.0242       -0.4903 0.6239  "
            ],
            "text/latex": "A matrix: 9 × 4 of type dbl\n\\begin{tabular}{r|llll}\n  &  Estimate &  Std. Error &  t value & Pr(>\\textbar{}t\\textbar{})\\\\\n\\hline\n\tomega &  0.0270 & 0.0231 &   1.1661 & 0.2436\\\\\n\talpha1 &  0.9417 & 0.0300 &  31.3820 & 0.0000\\\\\n\tbeta1 &  0.0354 & 0.0138 &   2.5670 & 0.0103\\\\\n\teta11 &  0.0108 & 0.0024 &   4.6074 & 0.0000\\\\\n\teta21 &  0.0108 & 0.0012 &   9.2804 & 0.0000\\\\\n\tdelta &  0.9915 & 0.0282 &  35.1761 & 0.0000\\\\\n\tlambda &  0.1679 & 0.0016 & 102.3982 & 0.0000\\\\\n\tskew &  0.8980 & 0.0151 &  59.3260 & 0.0000\\\\\n\txi & -0.0119 & 0.0242 &  -0.4903 & 0.6239\\\\\n\\end{tabular}\n",
            "text/markdown": "\nA matrix: 9 × 4 of type dbl\n\n| <!--/--> |  Estimate |  Std. Error |  t value | Pr(&gt;|t|) |\n|---|---|---|---|---|\n| omega |  0.0270 | 0.0231 |   1.1661 | 0.2436 |\n| alpha1 |  0.9417 | 0.0300 |  31.3820 | 0.0000 |\n| beta1 |  0.0354 | 0.0138 |   2.5670 | 0.0103 |\n| eta11 |  0.0108 | 0.0024 |   4.6074 | 0.0000 |\n| eta21 |  0.0108 | 0.0012 |   9.2804 | 0.0000 |\n| delta |  0.9915 | 0.0282 |  35.1761 | 0.0000 |\n| lambda |  0.1679 | 0.0016 | 102.3982 | 0.0000 |\n| skew |  0.8980 | 0.0151 |  59.3260 | 0.0000 |\n| xi | -0.0119 | 0.0242 |  -0.4903 | 0.6239 |\n\n",
            "text/html": [
              "<table class=\"dataframe\">\n",
              "<caption>A matrix: 9 × 4 of type dbl</caption>\n",
              "<thead>\n",
              "\t<tr><th></th><th scope=col> Estimate</th><th scope=col> Std. Error</th><th scope=col> t value</th><th scope=col>Pr(&gt;|t|)</th></tr>\n",
              "</thead>\n",
              "<tbody>\n",
              "\t<tr><th scope=row>omega</th><td> 0.0270</td><td>0.0231</td><td>  1.1661</td><td>0.2436</td></tr>\n",
              "\t<tr><th scope=row>alpha1</th><td> 0.9417</td><td>0.0300</td><td> 31.3820</td><td>0.0000</td></tr>\n",
              "\t<tr><th scope=row>beta1</th><td> 0.0354</td><td>0.0138</td><td>  2.5670</td><td>0.0103</td></tr>\n",
              "\t<tr><th scope=row>eta11</th><td> 0.0108</td><td>0.0024</td><td>  4.6074</td><td>0.0000</td></tr>\n",
              "\t<tr><th scope=row>eta21</th><td> 0.0108</td><td>0.0012</td><td>  9.2804</td><td>0.0000</td></tr>\n",
              "\t<tr><th scope=row>delta</th><td> 0.9915</td><td>0.0282</td><td> 35.1761</td><td>0.0000</td></tr>\n",
              "\t<tr><th scope=row>lambda</th><td> 0.1679</td><td>0.0016</td><td>102.3982</td><td>0.0000</td></tr>\n",
              "\t<tr><th scope=row>skew</th><td> 0.8980</td><td>0.0151</td><td> 59.3260</td><td>0.0000</td></tr>\n",
              "\t<tr><th scope=row>xi</th><td>-0.0119</td><td>0.0242</td><td> -0.4903</td><td>0.6239</td></tr>\n",
              "</tbody>\n",
              "</table>\n"
            ]
          },
          "metadata": {
            "tags": []
          }
        }
      ]
    },
    {
      "cell_type": "code",
      "metadata": {
        "id": "8888b518-3a21-47ca-9f66-8cb6a20c7a0d",
        "colab": {
          "base_uri": "https://localhost:8080/",
          "height": 272
        },
        "outputId": "41066f1d-2c0a-426f-ee30-479d63bfa4fc"
      },
      "source": [
        "# Extracting variance series from the Realized EGARCH model\n",
        "var.realegarch <- ts(realegarch.fit@fit$sigma^2)\n",
        "head(var.realegarch)\n",
        "\n",
        "N225.df$N225.VolRealEGARCH <- as.numeric(var.realegarch)\n",
        "head(N225.df)"
      ],
      "id": "8888b518-3a21-47ca-9f66-8cb6a20c7a0d",
      "execution_count": 46,
      "outputs": [
        {
          "output_type": "display_data",
          "data": {
            "text/plain": [
              "[1] 2.214620 2.234051 3.038395 3.610537 3.091540 3.128258"
            ],
            "text/latex": "\\begin{enumerate*}\n\\item 2.2146204361427\n\\item 2.23405078683331\n\\item 3.03839527779571\n\\item 3.6105372619214\n\\item 3.09153980909582\n\\item 3.12825752751939\n\\end{enumerate*}\n",
            "text/markdown": "1. 2.2146204361427\n2. 2.23405078683331\n3. 3.03839527779571\n4. 3.6105372619214\n5. 3.09153980909582\n6. 3.12825752751939\n\n\n",
            "text/html": [
              "<style>\n",
              ".list-inline {list-style: none; margin:0; padding: 0}\n",
              ".list-inline>li {display: inline-block}\n",
              ".list-inline>li:not(:last-child)::after {content: \"\\00b7\"; padding: 0 .5ex}\n",
              "</style>\n",
              "<ol class=list-inline><li>2.2146204361427</li><li>2.23405078683331</li><li>3.03839527779571</li><li>3.6105372619214</li><li>3.09153980909582</li><li>3.12825752751939</li></ol>\n"
            ]
          },
          "metadata": {
            "tags": []
          }
        },
        {
          "output_type": "display_data",
          "data": {
            "text/plain": [
              "           N225.Close N225.Return N225.VolGARCH N225.VolEGARCH N225.VolGJRGARCH\n",
              "2000-01-05   18542.55  -2.4521328      2.215884       2.214560         2.214573\n",
              "2000-01-06   18168.27  -2.0391493      2.657106       3.068745         2.996913\n",
              "2000-01-07   18193.41   0.1382809      2.834980       3.643426         3.363787\n",
              "2000-01-11   18850.92   3.5502266      2.516488       3.069930         2.977967\n",
              "2000-01-12   18677.42  -0.9246411      3.581335       3.126831         3.153657\n",
              "2000-01-13   18833.29   0.8310695      3.268782       3.072938         2.941857\n",
              "           N225.VolRealGARCH N225.VolRealEGARCH\n",
              "2000-01-05          2.214620           2.214620\n",
              "2000-01-06          2.237486           2.234051\n",
              "2000-01-07          2.653173           3.038395\n",
              "2000-01-11          2.829142           3.610537\n",
              "2000-01-12          2.533477           3.091540\n",
              "2000-01-13          3.518616           3.128258"
            ]
          },
          "metadata": {
            "tags": []
          }
        }
      ]
    },
    {
      "cell_type": "markdown",
      "metadata": {
        "id": "84982d7c-c0eb-404c-b399-e720fb9281cf"
      },
      "source": [
        "**Realized GJR-GARCH**"
      ],
      "id": "84982d7c-c0eb-404c-b399-e720fb9281cf"
    },
    {
      "cell_type": "code",
      "metadata": {
        "id": "9fbe16e5-06c5-4329-ac4e-cd097521e0fe",
        "colab": {
          "base_uri": "https://localhost:8080/",
          "height": 345
        },
        "outputId": "d959e8cc-30c6-48fb-a7ff-a38844cfd498"
      },
      "source": [
        "# Estimation\n",
        "realgjrgarch.fit <- ugarchfit(realgarch.spec, N225.df$N225.Return,\n",
        "                              solver = 'hybrid',\n",
        "                              realizedVol = N225.df$N225.VolGJRGARCH)\n",
        "round(realgjrgarch.fit@fit$matcoef, 4)"
      ],
      "id": "9fbe16e5-06c5-4329-ac4e-cd097521e0fe",
      "execution_count": 47,
      "outputs": [
        {
          "output_type": "display_data",
          "data": {
            "text/plain": [
              "        Estimate  Std. Error  t value Pr(>|t|)\n",
              "omega   0.0469   0.0238        1.9727 0.0485  \n",
              "alpha1  0.9186   0.0309       29.6956 0.0000  \n",
              "beta1   0.0240   0.0138        1.7431 0.0813  \n",
              "eta11   0.0116   0.0024        4.8202 0.0000  \n",
              "eta21   0.0112   0.0012        9.4993 0.0000  \n",
              "delta   1.0288   0.0314       32.7724 0.0000  \n",
              "lambda  0.1708   0.0017      102.3989 0.0000  \n",
              "skew    0.8881   0.0151       58.8260 0.0000  \n",
              "xi     -0.0335   0.0259       -1.2918 0.1964  "
            ],
            "text/latex": "A matrix: 9 × 4 of type dbl\n\\begin{tabular}{r|llll}\n  &  Estimate &  Std. Error &  t value & Pr(>\\textbar{}t\\textbar{})\\\\\n\\hline\n\tomega &  0.0469 & 0.0238 &   1.9727 & 0.0485\\\\\n\talpha1 &  0.9186 & 0.0309 &  29.6956 & 0.0000\\\\\n\tbeta1 &  0.0240 & 0.0138 &   1.7431 & 0.0813\\\\\n\teta11 &  0.0116 & 0.0024 &   4.8202 & 0.0000\\\\\n\teta21 &  0.0112 & 0.0012 &   9.4993 & 0.0000\\\\\n\tdelta &  1.0288 & 0.0314 &  32.7724 & 0.0000\\\\\n\tlambda &  0.1708 & 0.0017 & 102.3989 & 0.0000\\\\\n\tskew &  0.8881 & 0.0151 &  58.8260 & 0.0000\\\\\n\txi & -0.0335 & 0.0259 &  -1.2918 & 0.1964\\\\\n\\end{tabular}\n",
            "text/markdown": "\nA matrix: 9 × 4 of type dbl\n\n| <!--/--> |  Estimate |  Std. Error |  t value | Pr(&gt;|t|) |\n|---|---|---|---|---|\n| omega |  0.0469 | 0.0238 |   1.9727 | 0.0485 |\n| alpha1 |  0.9186 | 0.0309 |  29.6956 | 0.0000 |\n| beta1 |  0.0240 | 0.0138 |   1.7431 | 0.0813 |\n| eta11 |  0.0116 | 0.0024 |   4.8202 | 0.0000 |\n| eta21 |  0.0112 | 0.0012 |   9.4993 | 0.0000 |\n| delta |  1.0288 | 0.0314 |  32.7724 | 0.0000 |\n| lambda |  0.1708 | 0.0017 | 102.3989 | 0.0000 |\n| skew |  0.8881 | 0.0151 |  58.8260 | 0.0000 |\n| xi | -0.0335 | 0.0259 |  -1.2918 | 0.1964 |\n\n",
            "text/html": [
              "<table class=\"dataframe\">\n",
              "<caption>A matrix: 9 × 4 of type dbl</caption>\n",
              "<thead>\n",
              "\t<tr><th></th><th scope=col> Estimate</th><th scope=col> Std. Error</th><th scope=col> t value</th><th scope=col>Pr(&gt;|t|)</th></tr>\n",
              "</thead>\n",
              "<tbody>\n",
              "\t<tr><th scope=row>omega</th><td> 0.0469</td><td>0.0238</td><td>  1.9727</td><td>0.0485</td></tr>\n",
              "\t<tr><th scope=row>alpha1</th><td> 0.9186</td><td>0.0309</td><td> 29.6956</td><td>0.0000</td></tr>\n",
              "\t<tr><th scope=row>beta1</th><td> 0.0240</td><td>0.0138</td><td>  1.7431</td><td>0.0813</td></tr>\n",
              "\t<tr><th scope=row>eta11</th><td> 0.0116</td><td>0.0024</td><td>  4.8202</td><td>0.0000</td></tr>\n",
              "\t<tr><th scope=row>eta21</th><td> 0.0112</td><td>0.0012</td><td>  9.4993</td><td>0.0000</td></tr>\n",
              "\t<tr><th scope=row>delta</th><td> 1.0288</td><td>0.0314</td><td> 32.7724</td><td>0.0000</td></tr>\n",
              "\t<tr><th scope=row>lambda</th><td> 0.1708</td><td>0.0017</td><td>102.3989</td><td>0.0000</td></tr>\n",
              "\t<tr><th scope=row>skew</th><td> 0.8881</td><td>0.0151</td><td> 58.8260</td><td>0.0000</td></tr>\n",
              "\t<tr><th scope=row>xi</th><td>-0.0335</td><td>0.0259</td><td> -1.2918</td><td>0.1964</td></tr>\n",
              "</tbody>\n",
              "</table>\n"
            ]
          },
          "metadata": {
            "tags": []
          }
        }
      ]
    },
    {
      "cell_type": "code",
      "metadata": {
        "id": "72de108a-b473-4d76-9dc5-c1ae251113eb",
        "colab": {
          "base_uri": "https://localhost:8080/",
          "height": 272
        },
        "outputId": "15f3c8ab-83a6-4a98-a434-aec8a7368108"
      },
      "source": [
        "# Extracting variance series from the Realized GJR-GARCH model\n",
        "var.realgjrgarch <- ts(realgjrgarch.fit@fit$sigma^2)\n",
        "head(var.realgjrgarch)\n",
        "\n",
        "N225.df$N225.VolRealGJRGARCH <- as.numeric(var.realgjrgarch)\n",
        "head(N225.df)"
      ],
      "id": "72de108a-b473-4d76-9dc5-c1ae251113eb",
      "execution_count": 48,
      "outputs": [
        {
          "output_type": "display_data",
          "data": {
            "text/plain": [
              "[1] 2.214620 2.217411 2.927845 3.277314 2.938275 3.089027"
            ],
            "text/latex": "\\begin{enumerate*}\n\\item 2.2146204361427\n\\item 2.21741080736499\n\\item 2.92784450569364\n\\item 3.27731383569448\n\\item 2.93827518667899\n\\item 3.08902651524091\n\\end{enumerate*}\n",
            "text/markdown": "1. 2.2146204361427\n2. 2.21741080736499\n3. 2.92784450569364\n4. 3.27731383569448\n5. 2.93827518667899\n6. 3.08902651524091\n\n\n",
            "text/html": [
              "<style>\n",
              ".list-inline {list-style: none; margin:0; padding: 0}\n",
              ".list-inline>li {display: inline-block}\n",
              ".list-inline>li:not(:last-child)::after {content: \"\\00b7\"; padding: 0 .5ex}\n",
              "</style>\n",
              "<ol class=list-inline><li>2.2146204361427</li><li>2.21741080736499</li><li>2.92784450569364</li><li>3.27731383569448</li><li>2.93827518667899</li><li>3.08902651524091</li></ol>\n"
            ]
          },
          "metadata": {
            "tags": []
          }
        },
        {
          "output_type": "display_data",
          "data": {
            "text/plain": [
              "           N225.Close N225.Return N225.VolGARCH N225.VolEGARCH N225.VolGJRGARCH\n",
              "2000-01-05   18542.55  -2.4521328      2.215884       2.214560         2.214573\n",
              "2000-01-06   18168.27  -2.0391493      2.657106       3.068745         2.996913\n",
              "2000-01-07   18193.41   0.1382809      2.834980       3.643426         3.363787\n",
              "2000-01-11   18850.92   3.5502266      2.516488       3.069930         2.977967\n",
              "2000-01-12   18677.42  -0.9246411      3.581335       3.126831         3.153657\n",
              "2000-01-13   18833.29   0.8310695      3.268782       3.072938         2.941857\n",
              "           N225.VolRealGARCH N225.VolRealEGARCH N225.VolRealGJRGARCH\n",
              "2000-01-05          2.214620           2.214620             2.214620\n",
              "2000-01-06          2.237486           2.234051             2.217411\n",
              "2000-01-07          2.653173           3.038395             2.927845\n",
              "2000-01-11          2.829142           3.610537             3.277314\n",
              "2000-01-12          2.533477           3.091540             2.938275\n",
              "2000-01-13          3.518616           3.128258             3.089027"
            ]
          },
          "metadata": {
            "tags": []
          }
        }
      ]
    },
    {
      "cell_type": "markdown",
      "metadata": {
        "id": "735d096c-8ec1-4d3a-a1d9-b7174e560beb"
      },
      "source": [
        "## 8. Markov-Switching GARCH estimation"
      ],
      "id": "735d096c-8ec1-4d3a-a1d9-b7174e560beb"
    },
    {
      "cell_type": "code",
      "metadata": {
        "id": "9ea73810-e857-41db-82fd-a2e4dd54c754",
        "colab": {
          "base_uri": "https://localhost:8080/"
        },
        "outputId": "8cf14530-4912-4269-ee1f-94375862e891"
      },
      "source": [
        "# Packages\n",
        "install.packages('MSGARCH')\n",
        "\n",
        "library(MSGARCH)"
      ],
      "id": "9ea73810-e857-41db-82fd-a2e4dd54c754",
      "execution_count": 49,
      "outputs": [
        {
          "output_type": "stream",
          "text": [
            "Installing package into ‘/usr/local/lib/R/site-library’\n",
            "(as ‘lib’ is unspecified)\n",
            "\n"
          ],
          "name": "stderr"
        }
      ]
    },
    {
      "cell_type": "markdown",
      "metadata": {
        "id": "ef3e18a9-c620-446e-b3cd-d5d20cf98832"
      },
      "source": [
        "2 regimes: low volatility and high volatility"
      ],
      "id": "ef3e18a9-c620-446e-b3cd-d5d20cf98832"
    },
    {
      "cell_type": "markdown",
      "metadata": {
        "id": "0nhstzdv_IBM"
      },
      "source": [
        "**Linear MS GARCH**"
      ],
      "id": "0nhstzdv_IBM"
    },
    {
      "cell_type": "code",
      "metadata": {
        "id": "a31f362b-be2d-4084-85cc-fd43b95ba2cf"
      },
      "source": [
        "# Specification\n",
        "msgarch.spec <- CreateSpec(variance.spec = list(model = c(\"sGARCH\")),\n",
        "                           distribution.spec = list(distribution = c(\"snorm\")),\n",
        "                           switch.spec = list(K = 2))"
      ],
      "id": "a31f362b-be2d-4084-85cc-fd43b95ba2cf",
      "execution_count": 50,
      "outputs": []
    },
    {
      "cell_type": "code",
      "metadata": {
        "id": "v0OrYkGOTGnf",
        "colab": {
          "base_uri": "https://localhost:8080/"
        },
        "outputId": "d3447b6d-fdb0-470c-8ae6-8e6a2dab0cf7"
      },
      "source": [
        "# Estimation\n",
        "msgarch.fit <- FitML(msgarch.spec, data = N225.df$N225.Return)    \n",
        "summary(msgarch.fit)"
      ],
      "id": "v0OrYkGOTGnf",
      "execution_count": 51,
      "outputs": [
        {
          "output_type": "stream",
          "text": [
            "Specification type: Markov-switching\n",
            "Specification name: sGARCH_snorm sGARCH_snorm\n",
            "Number of parameters in each variance model: 3 3\n",
            "Number of parameters in each distribution: 1 1\n",
            "------------------------------------------\n",
            "Fixed parameters:\n",
            "None\n",
            "------------------------------------------\n",
            "Across regime constrained parameters:\n",
            "None\n",
            "------------------------------------------\n",
            "Fitted parameters:\n",
            "         Estimate Std. Error  t value  Pr(>|t|)\n",
            "alpha0_1   0.0000     0.0000   0.0157 4.937e-01\n",
            "alpha1_1   0.0189     0.0069   2.7346 3.123e-03\n",
            "beta_1     0.9594     0.0044 217.1301    <1e-16\n",
            "xi_1       1.0019     0.0454  22.0887    <1e-16\n",
            "alpha0_2   0.1630     0.0366   4.4577 4.142e-06\n",
            "alpha1_2   0.1879     0.0846   2.2208 1.318e-02\n",
            "beta_2     0.8058     0.0033 242.1187    <1e-16\n",
            "xi_2       0.7928     0.0260  30.5490    <1e-16\n",
            "P_1_1      0.3092     0.1229   2.5168 5.921e-03\n",
            "P_2_1      0.5813     0.0694   8.3740    <1e-16\n",
            "------------------------------------------\n",
            "Transition matrix:\n",
            "      t+1|k=1 t+1|k=2\n",
            "t|k=1  0.3092  0.6908\n",
            "t|k=2  0.5813  0.4187\n",
            "------------------------------------------\n",
            "Stable probabilities:\n",
            "State 1 State 2 \n",
            " 0.4569  0.5431 \n",
            "------------------------------------------\n",
            "LL: -8731.4928\n",
            "AIC: 17482.9857\n",
            "BIC: 17548.6322\n",
            "------------------------------------------\n"
          ],
          "name": "stdout"
        }
      ]
    },
    {
      "cell_type": "code",
      "metadata": {
        "id": "Bg9ZdxIiTUr7",
        "colab": {
          "base_uri": "https://localhost:8080/",
          "height": 408
        },
        "outputId": "9585639a-3af4-44b8-edc8-aed9b73fd7e4"
      },
      "source": [
        "# Extracting variance series from the MS GARCH model\n",
        "var.msgarch <- ts(Volatility(msgarch.fit))\n",
        "head(var.msgarch)\n",
        "\n",
        "N225.df$N225.VolMSGARCH <- as.numeric(var.msgarch)\n",
        "head(N225.df)"
      ],
      "id": "Bg9ZdxIiTUr7",
      "execution_count": 52,
      "outputs": [
        {
          "output_type": "display_data",
          "data": {
            "text/plain": [
              "     t=1      t=2      t=3      t=4      t=5      t=6 \n",
              "3.747716 3.474446 2.823638 3.215745 2.541923 2.805237 "
            ],
            "text/latex": "\\begin{description*}\n\\item[t=1] 3.7477158789609\n\\item[t=2] 3.47444562075517\n\\item[t=3] 2.8236383735284\n\\item[t=4] 3.21574494099726\n\\item[t=5] 2.54192338144063\n\\item[t=6] 2.8052368370073\n\\end{description*}\n",
            "text/markdown": "t=1\n:   3.7477158789609t=2\n:   3.47444562075517t=3\n:   2.8236383735284t=4\n:   3.21574494099726t=5\n:   2.54192338144063t=6\n:   2.8052368370073\n\n",
            "text/html": [
              "<style>\n",
              ".dl-inline {width: auto; margin:0; padding: 0}\n",
              ".dl-inline>dt, .dl-inline>dd {float: none; width: auto; display: inline-block}\n",
              ".dl-inline>dt::after {content: \":\\0020\"; padding-right: .5ex}\n",
              ".dl-inline>dt:not(:first-of-type) {padding-left: .5ex}\n",
              "</style><dl class=dl-inline><dt>t=1</dt><dd>3.7477158789609</dd><dt>t=2</dt><dd>3.47444562075517</dd><dt>t=3</dt><dd>2.8236383735284</dd><dt>t=4</dt><dd>3.21574494099726</dd><dt>t=5</dt><dd>2.54192338144063</dd><dt>t=6</dt><dd>2.8052368370073</dd></dl>\n"
            ]
          },
          "metadata": {
            "tags": []
          }
        },
        {
          "output_type": "display_data",
          "data": {
            "text/plain": [
              "           N225.Close N225.Return N225.VolGARCH N225.VolEGARCH N225.VolGJRGARCH\n",
              "2000-01-05   18542.55  -2.4521328      2.215884       2.214560         2.214573\n",
              "2000-01-06   18168.27  -2.0391493      2.657106       3.068745         2.996913\n",
              "2000-01-07   18193.41   0.1382809      2.834980       3.643426         3.363787\n",
              "2000-01-11   18850.92   3.5502266      2.516488       3.069930         2.977967\n",
              "2000-01-12   18677.42  -0.9246411      3.581335       3.126831         3.153657\n",
              "2000-01-13   18833.29   0.8310695      3.268782       3.072938         2.941857\n",
              "           N225.VolRealGARCH N225.VolRealEGARCH N225.VolRealGJRGARCH\n",
              "2000-01-05          2.214620           2.214620             2.214620\n",
              "2000-01-06          2.237486           2.234051             2.217411\n",
              "2000-01-07          2.653173           3.038395             2.927845\n",
              "2000-01-11          2.829142           3.610537             3.277314\n",
              "2000-01-12          2.533477           3.091540             2.938275\n",
              "2000-01-13          3.518616           3.128258             3.089027\n",
              "           N225.VolMSGARCH\n",
              "2000-01-05        3.747716\n",
              "2000-01-06        3.474446\n",
              "2000-01-07        2.823638\n",
              "2000-01-11        3.215745\n",
              "2000-01-12        2.541923\n",
              "2000-01-13        2.805237"
            ]
          },
          "metadata": {
            "tags": []
          }
        }
      ]
    },
    {
      "cell_type": "markdown",
      "metadata": {
        "id": "jDyeAzbaUZGK"
      },
      "source": [
        "**MS EGARCH**"
      ],
      "id": "jDyeAzbaUZGK"
    },
    {
      "cell_type": "code",
      "metadata": {
        "id": "OJ_1-NOIUduu"
      },
      "source": [
        "# Specification\n",
        "msegarch.spec <- CreateSpec(variance.spec = list(model = c(\"eGARCH\")),\n",
        "                            distribution.spec = list(distribution = c(\"snorm\")),\n",
        "                            switch.spec = list(K = 2))"
      ],
      "id": "OJ_1-NOIUduu",
      "execution_count": 53,
      "outputs": []
    },
    {
      "cell_type": "code",
      "metadata": {
        "id": "QZBzDVNzUgcq",
        "colab": {
          "base_uri": "https://localhost:8080/"
        },
        "outputId": "f90c396b-3cff-4bfa-8bf0-3f63d322decc"
      },
      "source": [
        "# Estimation\n",
        "msegarch.fit <- FitML(msegarch.spec, data = N225.df$N225.Return)    \n",
        "summary(msegarch.fit)"
      ],
      "id": "QZBzDVNzUgcq",
      "execution_count": 54,
      "outputs": [
        {
          "output_type": "stream",
          "text": [
            "Specification type: Markov-switching\n",
            "Specification name: eGARCH_snorm eGARCH_snorm\n",
            "Number of parameters in each variance model: 4 4\n",
            "Number of parameters in each distribution: 1 1\n",
            "------------------------------------------\n",
            "Fixed parameters:\n",
            "None\n",
            "------------------------------------------\n",
            "Across regime constrained parameters:\n",
            "None\n",
            "------------------------------------------\n",
            "Fitted parameters:\n",
            "         Estimate Std. Error  t value  Pr(>|t|)\n",
            "alpha0_1  -0.0012     0.0028  -0.4404 3.298e-01\n",
            "alpha1_1   0.0763     0.0152   5.0220 2.556e-07\n",
            "alpha2_1  -0.1271     0.0155  -8.1772 1.110e-16\n",
            "beta_1     0.9761     0.0051 190.7423    <1e-16\n",
            "xi_1       0.8972     0.0234  38.4151    <1e-16\n",
            "alpha0_2   0.0648     0.0139   4.6755 1.466e-06\n",
            "alpha1_2   0.0990     0.0284   3.4876 2.437e-04\n",
            "alpha2_2  -0.1248     0.0179  -6.9628 1.667e-12\n",
            "beta_2     0.9691     0.0110  88.1828    <1e-16\n",
            "xi_2       0.8201     0.0377  21.7733    <1e-16\n",
            "P_1_1      0.9833     0.0194  50.6213    <1e-16\n",
            "P_2_1      0.0651     0.0050  13.0816    <1e-16\n",
            "------------------------------------------\n",
            "Transition matrix:\n",
            "      t+1|k=1 t+1|k=2\n",
            "t|k=1  0.9833  0.0167\n",
            "t|k=2  0.0651  0.9349\n",
            "------------------------------------------\n",
            "Stable probabilities:\n",
            "State 1 State 2 \n",
            " 0.7957  0.2043 \n",
            "------------------------------------------\n",
            "LL: -8677.2699\n",
            "AIC: 17378.5398\n",
            "BIC: 17457.3156\n",
            "------------------------------------------\n"
          ],
          "name": "stdout"
        }
      ]
    },
    {
      "cell_type": "code",
      "metadata": {
        "id": "RTicDPi3U_ux",
        "colab": {
          "base_uri": "https://localhost:8080/",
          "height": 408
        },
        "outputId": "72f44532-75e4-4b4d-ab5e-d4c4007af359"
      },
      "source": [
        "# Extracting variance series from the MS EGARCH model\n",
        "var.msegarch <- ts(Volatility(msegarch.fit))\n",
        "head(var.msegarch)\n",
        "\n",
        "N225.df$N225.VolMSEGARCH <- as.numeric(var.msegarch)\n",
        "head(N225.df)"
      ],
      "id": "RTicDPi3U_ux",
      "execution_count": 55,
      "outputs": [
        {
          "output_type": "display_data",
          "data": {
            "text/plain": [
              "     t=1      t=2      t=3      t=4      t=5      t=6 \n",
              "1.553255 1.744290 1.927610 1.631720 2.301666 2.053157 "
            ],
            "text/latex": "\\begin{description*}\n\\item[t=1] 1.55325480353646\n\\item[t=2] 1.74429002742331\n\\item[t=3] 1.92760963416887\n\\item[t=4] 1.63172011962088\n\\item[t=5] 2.30166583299992\n\\item[t=6] 2.05315678152688\n\\end{description*}\n",
            "text/markdown": "t=1\n:   1.55325480353646t=2\n:   1.74429002742331t=3\n:   1.92760963416887t=4\n:   1.63172011962088t=5\n:   2.30166583299992t=6\n:   2.05315678152688\n\n",
            "text/html": [
              "<style>\n",
              ".dl-inline {width: auto; margin:0; padding: 0}\n",
              ".dl-inline>dt, .dl-inline>dd {float: none; width: auto; display: inline-block}\n",
              ".dl-inline>dt::after {content: \":\\0020\"; padding-right: .5ex}\n",
              ".dl-inline>dt:not(:first-of-type) {padding-left: .5ex}\n",
              "</style><dl class=dl-inline><dt>t=1</dt><dd>1.55325480353646</dd><dt>t=2</dt><dd>1.74429002742331</dd><dt>t=3</dt><dd>1.92760963416887</dd><dt>t=4</dt><dd>1.63172011962088</dd><dt>t=5</dt><dd>2.30166583299992</dd><dt>t=6</dt><dd>2.05315678152688</dd></dl>\n"
            ]
          },
          "metadata": {
            "tags": []
          }
        },
        {
          "output_type": "display_data",
          "data": {
            "text/plain": [
              "           N225.Close N225.Return N225.VolGARCH N225.VolEGARCH N225.VolGJRGARCH\n",
              "2000-01-05   18542.55  -2.4521328      2.215884       2.214560         2.214573\n",
              "2000-01-06   18168.27  -2.0391493      2.657106       3.068745         2.996913\n",
              "2000-01-07   18193.41   0.1382809      2.834980       3.643426         3.363787\n",
              "2000-01-11   18850.92   3.5502266      2.516488       3.069930         2.977967\n",
              "2000-01-12   18677.42  -0.9246411      3.581335       3.126831         3.153657\n",
              "2000-01-13   18833.29   0.8310695      3.268782       3.072938         2.941857\n",
              "           N225.VolRealGARCH N225.VolRealEGARCH N225.VolRealGJRGARCH\n",
              "2000-01-05          2.214620           2.214620             2.214620\n",
              "2000-01-06          2.237486           2.234051             2.217411\n",
              "2000-01-07          2.653173           3.038395             2.927845\n",
              "2000-01-11          2.829142           3.610537             3.277314\n",
              "2000-01-12          2.533477           3.091540             2.938275\n",
              "2000-01-13          3.518616           3.128258             3.089027\n",
              "           N225.VolMSGARCH N225.VolMSEGARCH\n",
              "2000-01-05        3.747716         1.553255\n",
              "2000-01-06        3.474446         1.744290\n",
              "2000-01-07        2.823638         1.927610\n",
              "2000-01-11        3.215745         1.631720\n",
              "2000-01-12        2.541923         2.301666\n",
              "2000-01-13        2.805237         2.053157"
            ]
          },
          "metadata": {
            "tags": []
          }
        }
      ]
    },
    {
      "cell_type": "markdown",
      "metadata": {
        "id": "lA_6nowOVjc3"
      },
      "source": [
        "**MS GJR-GARCH**"
      ],
      "id": "lA_6nowOVjc3"
    },
    {
      "cell_type": "code",
      "metadata": {
        "id": "hnpt-SDyVmC3"
      },
      "source": [
        "# Specification\n",
        "msgjrgarch.spec <- CreateSpec(variance.spec = list(model = c(\"gjrGARCH\")),\n",
        "                              distribution.spec = list(distribution = c(\"snorm\")),\n",
        "                              switch.spec = list(K = 2))"
      ],
      "id": "hnpt-SDyVmC3",
      "execution_count": 56,
      "outputs": []
    },
    {
      "cell_type": "code",
      "metadata": {
        "id": "KkskZPFCVoPK",
        "colab": {
          "base_uri": "https://localhost:8080/"
        },
        "outputId": "f07e3674-03eb-4eae-fd67-5211ffc89533"
      },
      "source": [
        "# Estimation\n",
        "msgjrgarch.fit <- FitML(msgjrgarch.spec, data = N225.df$N225.Return)    \n",
        "summary(msgjrgarch.fit)"
      ],
      "id": "KkskZPFCVoPK",
      "execution_count": 57,
      "outputs": [
        {
          "output_type": "stream",
          "text": [
            "Specification type: Markov-switching\n",
            "Specification name: gjrGARCH_snorm gjrGARCH_snorm\n",
            "Number of parameters in each variance model: 4 4\n",
            "Number of parameters in each distribution: 1 1\n",
            "------------------------------------------\n",
            "Fixed parameters:\n",
            "None\n",
            "------------------------------------------\n",
            "Across regime constrained parameters:\n",
            "None\n",
            "------------------------------------------\n",
            "Fitted parameters:\n",
            "         Estimate Std. Error  t value  Pr(>|t|)\n",
            "alpha0_1   0.0181     0.0068   2.6707 3.785e-03\n",
            "alpha1_1   0.0001     0.0031   0.0314 4.875e-01\n",
            "alpha2_1   0.2738     0.0613   4.4640 4.022e-06\n",
            "beta_1     0.8215     0.0119  69.1331    <1e-16\n",
            "xi_1       0.9816     0.0393  24.9973    <1e-16\n",
            "alpha0_2   0.0626     0.0351   1.7843 3.718e-02\n",
            "alpha1_2   0.0555     0.0357   1.5523 6.029e-02\n",
            "alpha2_2   0.0001     0.0016   0.0901 4.641e-01\n",
            "beta_2     0.9299     0.0067 138.7468    <1e-16\n",
            "xi_2       0.7484     0.0545  13.7375    <1e-16\n",
            "P_1_1      0.4859     0.0786   6.1841 3.123e-10\n",
            "P_2_1      0.6911     0.1406   4.9142 4.457e-07\n",
            "------------------------------------------\n",
            "Transition matrix:\n",
            "      t+1|k=1 t+1|k=2\n",
            "t|k=1  0.4859  0.5141\n",
            "t|k=2  0.6911  0.3089\n",
            "------------------------------------------\n",
            "Stable probabilities:\n",
            "State 1 State 2 \n",
            " 0.5734  0.4266 \n",
            "------------------------------------------\n",
            "LL: -8683.9717\n",
            "AIC: 17391.9435\n",
            "BIC: 17470.7192\n",
            "------------------------------------------\n"
          ],
          "name": "stdout"
        }
      ]
    },
    {
      "cell_type": "code",
      "metadata": {
        "id": "ixZcmHkiWKXi",
        "colab": {
          "base_uri": "https://localhost:8080/",
          "height": 408
        },
        "outputId": "f079bf05-7e52-4d46-c745-738ea1dc84ab"
      },
      "source": [
        "# Extracting variance series from the MS GJR-GARCH model\n",
        "var.msgjrgarch <- ts(Volatility(msgjrgarch.fit))\n",
        "head(var.msgjrgarch)\n",
        "\n",
        "N225.df$N225.VolMSGJRGARCH <- as.numeric(var.msgjrgarch)\n",
        "head(N225.df)"
      ],
      "id": "ixZcmHkiWKXi",
      "execution_count": 58,
      "outputs": [
        {
          "output_type": "display_data",
          "data": {
            "text/plain": [
              "     t=1      t=2      t=3      t=4      t=5      t=6 \n",
              "1.448595 1.745708 1.869240 1.770703 1.725218 1.735262 "
            ],
            "text/latex": "\\begin{description*}\n\\item[t=1] 1.44859503678455\n\\item[t=2] 1.74570845498475\n\\item[t=3] 1.86923957546459\n\\item[t=4] 1.77070274828522\n\\item[t=5] 1.72521829225583\n\\item[t=6] 1.73526193365769\n\\end{description*}\n",
            "text/markdown": "t=1\n:   1.44859503678455t=2\n:   1.74570845498475t=3\n:   1.86923957546459t=4\n:   1.77070274828522t=5\n:   1.72521829225583t=6\n:   1.73526193365769\n\n",
            "text/html": [
              "<style>\n",
              ".dl-inline {width: auto; margin:0; padding: 0}\n",
              ".dl-inline>dt, .dl-inline>dd {float: none; width: auto; display: inline-block}\n",
              ".dl-inline>dt::after {content: \":\\0020\"; padding-right: .5ex}\n",
              ".dl-inline>dt:not(:first-of-type) {padding-left: .5ex}\n",
              "</style><dl class=dl-inline><dt>t=1</dt><dd>1.44859503678455</dd><dt>t=2</dt><dd>1.74570845498475</dd><dt>t=3</dt><dd>1.86923957546459</dd><dt>t=4</dt><dd>1.77070274828522</dd><dt>t=5</dt><dd>1.72521829225583</dd><dt>t=6</dt><dd>1.73526193365769</dd></dl>\n"
            ]
          },
          "metadata": {
            "tags": []
          }
        },
        {
          "output_type": "display_data",
          "data": {
            "text/plain": [
              "           N225.Close N225.Return N225.VolGARCH N225.VolEGARCH N225.VolGJRGARCH\n",
              "2000-01-05   18542.55  -2.4521328      2.215884       2.214560         2.214573\n",
              "2000-01-06   18168.27  -2.0391493      2.657106       3.068745         2.996913\n",
              "2000-01-07   18193.41   0.1382809      2.834980       3.643426         3.363787\n",
              "2000-01-11   18850.92   3.5502266      2.516488       3.069930         2.977967\n",
              "2000-01-12   18677.42  -0.9246411      3.581335       3.126831         3.153657\n",
              "2000-01-13   18833.29   0.8310695      3.268782       3.072938         2.941857\n",
              "           N225.VolRealGARCH N225.VolRealEGARCH N225.VolRealGJRGARCH\n",
              "2000-01-05          2.214620           2.214620             2.214620\n",
              "2000-01-06          2.237486           2.234051             2.217411\n",
              "2000-01-07          2.653173           3.038395             2.927845\n",
              "2000-01-11          2.829142           3.610537             3.277314\n",
              "2000-01-12          2.533477           3.091540             2.938275\n",
              "2000-01-13          3.518616           3.128258             3.089027\n",
              "           N225.VolMSGARCH N225.VolMSEGARCH N225.VolMSGJRGARCH\n",
              "2000-01-05        3.747716         1.553255           1.448595\n",
              "2000-01-06        3.474446         1.744290           1.745708\n",
              "2000-01-07        2.823638         1.927610           1.869240\n",
              "2000-01-11        3.215745         1.631720           1.770703\n",
              "2000-01-12        2.541923         2.301666           1.725218\n",
              "2000-01-13        2.805237         2.053157           1.735262"
            ]
          },
          "metadata": {
            "tags": []
          }
        }
      ]
    },
    {
      "cell_type": "markdown",
      "metadata": {
        "id": "P34LgaLxXaiv"
      },
      "source": [
        "## 9. Sample split: in-sample (70%) and out-sample (30%)"
      ],
      "id": "P34LgaLxXaiv"
    },
    {
      "cell_type": "code",
      "metadata": {
        "id": "oEXlnm7ZXl3S",
        "colab": {
          "base_uri": "https://localhost:8080/",
          "height": 34
        },
        "outputId": "c4cef68e-cb5d-47d2-8416-1b6917f62db8"
      },
      "source": [
        "# Total number of lines \n",
        "nrow(N225.df)                "
      ],
      "id": "oEXlnm7ZXl3S",
      "execution_count": 59,
      "outputs": [
        {
          "output_type": "display_data",
          "data": {
            "text/plain": [
              "[1] 5243"
            ],
            "text/latex": "5243",
            "text/markdown": "5243",
            "text/html": [
              "5243"
            ]
          },
          "metadata": {
            "tags": []
          }
        }
      ]
    },
    {
      "cell_type": "code",
      "metadata": {
        "id": "yBa5ZL9QXw0J",
        "colab": {
          "base_uri": "https://localhost:8080/",
          "height": 34
        },
        "outputId": "4aea3e0f-c510-4e74-803a-76941473800e"
      },
      "source": [
        "# Cut-line\n",
        "round(nrow(N225.df)*0.7, digits = 0)"
      ],
      "id": "yBa5ZL9QXw0J",
      "execution_count": 60,
      "outputs": [
        {
          "output_type": "display_data",
          "data": {
            "text/plain": [
              "[1] 3670"
            ],
            "text/latex": "3670",
            "text/markdown": "3670",
            "text/html": [
              "3670"
            ]
          },
          "metadata": {
            "tags": []
          }
        }
      ]
    },
    {
      "cell_type": "code",
      "metadata": {
        "id": "dlcRWLpoXzN_",
        "colab": {
          "base_uri": "https://localhost:8080/",
          "height": 34
        },
        "outputId": "7209292e-0d83-423f-a219-dd14a78ecb2e"
      },
      "source": [
        "# In-sample\n",
        "N225.df.in <- N225.df[1:round(nrow(N225.df)*0.7, digits = 0),]\n",
        "dim(N225.df.in)"
      ],
      "id": "dlcRWLpoXzN_",
      "execution_count": 61,
      "outputs": [
        {
          "output_type": "display_data",
          "data": {
            "text/plain": [
              "[1] 3670   11"
            ],
            "text/latex": "\\begin{enumerate*}\n\\item 3670\n\\item 11\n\\end{enumerate*}\n",
            "text/markdown": "1. 3670\n2. 11\n\n\n",
            "text/html": [
              "<style>\n",
              ".list-inline {list-style: none; margin:0; padding: 0}\n",
              ".list-inline>li {display: inline-block}\n",
              ".list-inline>li:not(:last-child)::after {content: \"\\00b7\"; padding: 0 .5ex}\n",
              "</style>\n",
              "<ol class=list-inline><li>3670</li><li>11</li></ol>\n"
            ]
          },
          "metadata": {
            "tags": []
          }
        }
      ]
    },
    {
      "cell_type": "code",
      "metadata": {
        "id": "ZaKAIY7iX2SE",
        "colab": {
          "base_uri": "https://localhost:8080/",
          "height": 34
        },
        "outputId": "e4007188-bad3-4eb2-9e3e-3f17a6ba8514"
      },
      "source": [
        "# Out-sample\n",
        "N225.df.out <- N225.df[(round(nrow(N225.df)*0.7, digits = 0)+1):nrow(N225.df),]\n",
        "dim(N225.df.out)"
      ],
      "id": "ZaKAIY7iX2SE",
      "execution_count": 62,
      "outputs": [
        {
          "output_type": "display_data",
          "data": {
            "text/plain": [
              "[1] 1573   11"
            ],
            "text/latex": "\\begin{enumerate*}\n\\item 1573\n\\item 11\n\\end{enumerate*}\n",
            "text/markdown": "1. 1573\n2. 11\n\n\n",
            "text/html": [
              "<style>\n",
              ".list-inline {list-style: none; margin:0; padding: 0}\n",
              ".list-inline>li {display: inline-block}\n",
              ".list-inline>li:not(:last-child)::after {content: \"\\00b7\"; padding: 0 .5ex}\n",
              "</style>\n",
              "<ol class=list-inline><li>1573</li><li>11</li></ol>\n"
            ]
          },
          "metadata": {
            "tags": []
          }
        }
      ]
    },
    {
      "cell_type": "markdown",
      "metadata": {
        "id": "Ae_49vbJJAY1"
      },
      "source": [
        "# 10. Forecast - GARCH models"
      ],
      "id": "Ae_49vbJJAY1"
    },
    {
      "cell_type": "code",
      "metadata": {
        "id": "-eJ97HPPJEH5",
        "colab": {
          "base_uri": "https://localhost:8080/"
        },
        "outputId": "a24c66bf-721d-4158-862c-43695dab1129"
      },
      "source": [
        "# Packages\n",
        "install.packages('Metrics')\n",
        "install.packages('MLmetrics')\n",
        "install.packages('multDM')\n",
        "install.packages('MCS')\n",
        "install.packages('sandwich')\n",
        "install.packages('lmtest')\n",
        "install.packages('forecast')\n",
        "\n",
        "library(Metrics)\n",
        "library(MLmetrics)\n",
        "library(multDM)\n",
        "library(MCS)\n",
        "library(sandwich)\n",
        "library(lmtest)\n",
        "library(forecast)"
      ],
      "id": "-eJ97HPPJEH5",
      "execution_count": 63,
      "outputs": [
        {
          "output_type": "stream",
          "text": [
            "Installing package into ‘/usr/local/lib/R/site-library’\n",
            "(as ‘lib’ is unspecified)\n",
            "\n",
            "Installing package into ‘/usr/local/lib/R/site-library’\n",
            "(as ‘lib’ is unspecified)\n",
            "\n",
            "Installing package into ‘/usr/local/lib/R/site-library’\n",
            "(as ‘lib’ is unspecified)\n",
            "\n",
            "Installing package into ‘/usr/local/lib/R/site-library’\n",
            "(as ‘lib’ is unspecified)\n",
            "\n",
            "Installing package into ‘/usr/local/lib/R/site-library’\n",
            "(as ‘lib’ is unspecified)\n",
            "\n",
            "Installing package into ‘/usr/local/lib/R/site-library’\n",
            "(as ‘lib’ is unspecified)\n",
            "\n",
            "Installing package into ‘/usr/local/lib/R/site-library’\n",
            "(as ‘lib’ is unspecified)\n",
            "\n",
            "\n",
            "Attaching package: ‘MLmetrics’\n",
            "\n",
            "\n",
            "The following object is masked from ‘package:base’:\n",
            "\n",
            "    Recall\n",
            "\n",
            "\n",
            "Registered S3 methods overwritten by 'forecast':\n",
            "  method       from\n",
            "  fitted.Arima TSA \n",
            "  plot.Arima   TSA \n",
            "\n",
            "\n",
            "Attaching package: ‘forecast’\n",
            "\n",
            "\n",
            "The following object is masked from ‘package:Metrics’:\n",
            "\n",
            "    accuracy\n",
            "\n",
            "\n",
            "The following object is masked from ‘package:FinTS’:\n",
            "\n",
            "    Acf\n",
            "\n",
            "\n",
            "The following object is masked from ‘package:aTSA’:\n",
            "\n",
            "    forecast\n",
            "\n",
            "\n"
          ],
          "name": "stderr"
        }
      ]
    },
    {
      "cell_type": "markdown",
      "metadata": {
        "id": "eDF61ZNDK7-L"
      },
      "source": [
        "## (a) Linear GARCH"
      ],
      "id": "eDF61ZNDK7-L"
    },
    {
      "cell_type": "markdown",
      "metadata": {
        "id": "zQvg4fhykI3G"
      },
      "source": [
        "**Forecast**"
      ],
      "id": "zQvg4fhykI3G"
    },
    {
      "cell_type": "code",
      "metadata": {
        "id": "4kWDFtEyQj8x"
      },
      "source": [
        "# Model specification\n",
        "garch.spec.pred <- garch.spec\n",
        "setfixed(garch.spec.pred) <- as.list(coef(garch.fit))"
      ],
      "id": "4kWDFtEyQj8x",
      "execution_count": 64,
      "outputs": []
    },
    {
      "cell_type": "code",
      "metadata": {
        "id": "LJ35908xRCpF"
      },
      "source": [
        "# Model adjustment\n",
        "garch.fit.pred <- ugarchfit(garch.spec,\n",
        "                            N225.df$N225.Return,\n",
        "                            out.sample = dim(N225.df.out)[1])"
      ],
      "id": "LJ35908xRCpF",
      "execution_count": 65,
      "outputs": []
    },
    {
      "cell_type": "code",
      "metadata": {
        "id": "Q6VYCPYGSISr"
      },
      "source": [
        "# Forecast calculated through adjustment\n",
        "garch.pred.a <- ugarchforecast(garch.fit.pred,\n",
        "                               n.ahead = 1,\n",
        "                               n.roll = dim(N225.df.out)[1])\n",
        "\n",
        "garch.forecast.a <- xts(sigma(garch.pred.a)[1,],\n",
        "                       move(as.Date(names(sigma(garch.pred.a)[1,])), by = 1))"
      ],
      "id": "Q6VYCPYGSISr",
      "execution_count": 66,
      "outputs": []
    },
    {
      "cell_type": "code",
      "metadata": {
        "id": "E5KGemi8gXh2"
      },
      "source": [
        "# Forecast calculated using specification\n",
        "garch.pred.b <- ugarchforecast(garch.spec.pred,\n",
        "                               n.ahead = 1,\n",
        "                               n.roll = dim(N225.df.out)[1],\n",
        "                               data = N225.df$N225.Return,\n",
        "                               out.sample = dim(N225.df.out)[1])\n",
        "\n",
        "garch.forecast.b <- xts(sigma(garch.pred.b)[1,],\n",
        "                        move(as.Date(names(sigma(garch.pred.b)[1,])), by = 1))  "
      ],
      "id": "E5KGemi8gXh2",
      "execution_count": 67,
      "outputs": []
    },
    {
      "cell_type": "code",
      "metadata": {
        "id": "Yg9KKURbgy7R"
      },
      "source": [
        "# Model filtering\n",
        "garch.filt.pred <- ugarchfilter(garch.spec.pred,\n",
        "                                data = N225.df$N225.Return,\n",
        "                                n.old = nrow(N225.df) - dim(N225.df.out)[1])\n",
        "\n",
        "garch.filt <- tail(sigma(garch.filt.pred), dim(N225.df.out)[1])                                 "
      ],
      "id": "Yg9KKURbgy7R",
      "execution_count": 68,
      "outputs": []
    },
    {
      "cell_type": "code",
      "metadata": {
        "id": "9p-8qghPVjR8",
        "colab": {
          "base_uri": "https://localhost:8080/",
          "height": 136
        },
        "outputId": "a235a3a4-e643-4923-9b73-fe7e29a11008"
      },
      "source": [
        "# Comparative\n",
        "colnames(garch.filt) <- 'filter'\n",
        "colnames(garch.forecast.a) <- 'forecast1'\n",
        "colnames(garch.forecast.b) <- 'forecast2'\n",
        "\n",
        "garch.ftest <- cbind(garch.filt,\n",
        "                    garch.forecast.a,\n",
        "                    garch.forecast.b)\n",
        "head(round(garch.ftest, digits = 4))"
      ],
      "id": "9p-8qghPVjR8",
      "execution_count": 69,
      "outputs": [
        {
          "output_type": "display_data",
          "data": {
            "text/plain": [
              "           filter forecast1 forecast2\n",
              "2014-12-19 1.4288    1.4238    1.4288\n",
              "2014-12-22 1.5527    1.5390    1.5527\n",
              "2014-12-24 1.4649    1.4629    1.4649\n",
              "2014-12-25 1.4387    1.4416    1.4387\n",
              "2014-12-26 1.3632    1.3751    1.3632\n",
              "2014-12-29 1.2900    1.3100    1.2900"
            ]
          },
          "metadata": {
            "tags": []
          }
        }
      ]
    },
    {
      "cell_type": "code",
      "metadata": {
        "id": "XvWtLYxOK7cE",
        "colab": {
          "base_uri": "https://localhost:8080/",
          "height": 252
        },
        "outputId": "da727a98-2b3f-43df-ba8a-680172266e05"
      },
      "source": [
        "sigma.garch.pred.a <- ts(garch.forecast.a[-1,])\n",
        "sigma.garch.pred.b <- ts(garch.forecast.b[-1,])\n",
        "sigma.garch.true <- ts(N225.df.out$N225.VolGARCH)\n",
        "\n",
        "sigma.garch <- na.omit(cbind(sigma.garch.pred.a, \n",
        "                            sigma.garch.pred.b,\n",
        "                            sigma.garch.true))\n",
        "head(sigma.garch)"
      ],
      "id": "XvWtLYxOK7cE",
      "execution_count": 70,
      "outputs": [
        {
          "output_type": "display_data",
          "data": {
            "text/plain": [
              "  sigma.garch.pred.a sigma.garch.pred.b sigma.garch.true\n",
              "1 1.538989           1.552712           2.041445        \n",
              "2 1.462903           1.464916           2.410914        \n",
              "3 1.441635           1.438669           2.145979        \n",
              "4 1.375075           1.363185           2.069768        \n",
              "5 1.310036           1.290009           1.858273        \n",
              "6 1.260809           1.235889           1.664123        "
            ],
            "text/latex": "A Time Series: 6 × 3\n\\begin{tabular}{r|lll}\n  & sigma.garch.pred.a & sigma.garch.pred.b & sigma.garch.true\\\\\n\\hline\n\t1 & 1.538989 & 1.552712 & 2.041445\\\\\n\t2 & 1.462903 & 1.464916 & 2.410914\\\\\n\t3 & 1.441635 & 1.438669 & 2.145979\\\\\n\t4 & 1.375075 & 1.363185 & 2.069768\\\\\n\t5 & 1.310036 & 1.290009 & 1.858273\\\\\n\t6 & 1.260809 & 1.235889 & 1.664123\\\\\n\\end{tabular}\n",
            "text/markdown": "\nA Time Series: 6 × 3\n\n| <!--/--> | sigma.garch.pred.a | sigma.garch.pred.b | sigma.garch.true |\n|---|---|---|---|\n| 1 | 1.538989 | 1.552712 | 2.041445 |\n| 2 | 1.462903 | 1.464916 | 2.410914 |\n| 3 | 1.441635 | 1.438669 | 2.145979 |\n| 4 | 1.375075 | 1.363185 | 2.069768 |\n| 5 | 1.310036 | 1.290009 | 1.858273 |\n| 6 | 1.260809 | 1.235889 | 1.664123 |\n\n",
            "text/html": [
              "<table class=\"dataframe\">\n",
              "<caption>A Time Series: 6 × 3</caption>\n",
              "<thead>\n",
              "\t<tr><th></th><th scope=col>sigma.garch.pred.a</th><th scope=col>sigma.garch.pred.b</th><th scope=col>sigma.garch.true</th></tr>\n",
              "</thead>\n",
              "<tbody>\n",
              "\t<tr><th scope=row>1</th><td>1.538989</td><td>1.552712</td><td>2.041445</td></tr>\n",
              "\t<tr><th scope=row>2</th><td>1.462903</td><td>1.464916</td><td>2.410914</td></tr>\n",
              "\t<tr><th scope=row>3</th><td>1.441635</td><td>1.438669</td><td>2.145979</td></tr>\n",
              "\t<tr><th scope=row>4</th><td>1.375075</td><td>1.363185</td><td>2.069768</td></tr>\n",
              "\t<tr><th scope=row>5</th><td>1.310036</td><td>1.290009</td><td>1.858273</td></tr>\n",
              "\t<tr><th scope=row>6</th><td>1.260809</td><td>1.235889</td><td>1.664123</td></tr>\n",
              "</tbody>\n",
              "</table>\n"
            ]
          },
          "metadata": {
            "tags": []
          }
        }
      ]
    },
    {
      "cell_type": "markdown",
      "metadata": {
        "id": "mSx7eTn3kPct"
      },
      "source": [
        "**Performance evaluation**"
      ],
      "id": "mSx7eTn3kPct"
    },
    {
      "cell_type": "code",
      "metadata": {
        "id": "U_o8n_8ckYWr",
        "colab": {
          "base_uri": "https://localhost:8080/",
          "height": 51
        },
        "outputId": "59232c16-1ecd-4693-8016-f1f7ffbb2280"
      },
      "source": [
        "# Forecast Error - Forecast a\n",
        "garch.error.a <- sigma.garch[,'sigma.garch.pred.a'] - sigma.garch[,'sigma.garch.true']\n",
        "head(garch.error.a)"
      ],
      "id": "U_o8n_8ckYWr",
      "execution_count": 71,
      "outputs": [
        {
          "output_type": "display_data",
          "data": {
            "text/plain": [
              "A Time Series:\n",
              "[1] -0.5024552 -0.9480106 -0.7043432 -0.6946938 -0.5482367 -0.4033137"
            ],
            "text/latex": "A Time Series:\\\\\\begin{enumerate*}\n\\item -0.502455226884435\n\\item -0.948010635198452\n\\item -0.704343205625185\n\\item -0.694693786471576\n\\item -0.548236678140687\n\\item -0.40331365137949\n\\end{enumerate*}\n",
            "text/markdown": "A Time Series:  \n1. -0.502455226884435\n2. -0.948010635198452\n3. -0.704343205625185\n4. -0.694693786471576\n5. -0.548236678140687\n6. -0.40331365137949\n\n\n",
            "text/html": [
              "A Time Series:<br><style>\n",
              ".list-inline {list-style: none; margin:0; padding: 0}\n",
              ".list-inline>li {display: inline-block}\n",
              ".list-inline>li:not(:last-child)::after {content: \"\\00b7\"; padding: 0 .5ex}\n",
              "</style>\n",
              "<ol class=list-inline><li>-0.502455226884435</li><li>-0.948010635198452</li><li>-0.704343205625185</li><li>-0.694693786471576</li><li>-0.548236678140687</li><li>-0.40331365137949</li></ol>\n"
            ]
          },
          "metadata": {
            "tags": []
          }
        }
      ]
    },
    {
      "cell_type": "code",
      "metadata": {
        "id": "hrJcPxcLlIy3",
        "colab": {
          "base_uri": "https://localhost:8080/",
          "height": 51
        },
        "outputId": "bd42ce18-f47b-4198-e81b-4d822fbe4803"
      },
      "source": [
        "# Forecast Error - Forecast b\n",
        "garch.error.b <- sigma.garch[,'sigma.garch.pred.b'] - sigma.garch[,'sigma.garch.true']\n",
        "head(garch.error.b)"
      ],
      "id": "hrJcPxcLlIy3",
      "execution_count": 72,
      "outputs": [
        {
          "output_type": "display_data",
          "data": {
            "text/plain": [
              "A Time Series:\n",
              "[1] -0.4887329 -0.9459978 -0.7073096 -0.7065837 -0.5682638 -0.4282340"
            ],
            "text/latex": "A Time Series:\\\\\\begin{enumerate*}\n\\item -0.488732872880024\n\\item -0.945997827310893\n\\item -0.707309610698962\n\\item -0.706583673085044\n\\item -0.568263789654228\n\\item -0.428234012359233\n\\end{enumerate*}\n",
            "text/markdown": "A Time Series:  \n1. -0.488732872880024\n2. -0.945997827310893\n3. -0.707309610698962\n4. -0.706583673085044\n5. -0.568263789654228\n6. -0.428234012359233\n\n\n",
            "text/html": [
              "A Time Series:<br><style>\n",
              ".list-inline {list-style: none; margin:0; padding: 0}\n",
              ".list-inline>li {display: inline-block}\n",
              ".list-inline>li:not(:last-child)::after {content: \"\\00b7\"; padding: 0 .5ex}\n",
              "</style>\n",
              "<ol class=list-inline><li>-0.488732872880024</li><li>-0.945997827310893</li><li>-0.707309610698962</li><li>-0.706583673085044</li><li>-0.568263789654228</li><li>-0.428234012359233</li></ol>\n"
            ]
          },
          "metadata": {
            "tags": []
          }
        }
      ]
    },
    {
      "cell_type": "code",
      "metadata": {
        "id": "vVvmYhWSK6Jx",
        "colab": {
          "base_uri": "https://localhost:8080/",
          "height": 34
        },
        "outputId": "ec035aa0-b529-4ae9-b95f-47969970a711"
      },
      "source": [
        "# Mean Square Error Loss - Forecast a\n",
        "garch.mse.a <- MSE(sigma.garch[,'sigma.garch.pred.a'], \n",
        "                  sigma.garch[,'sigma.garch.true'])\n",
        "round(garch.mse.a, digits = 3)     "
      ],
      "id": "vVvmYhWSK6Jx",
      "execution_count": 73,
      "outputs": [
        {
          "output_type": "display_data",
          "data": {
            "text/plain": [
              "[1] 2.03"
            ],
            "text/latex": "2.03",
            "text/markdown": "2.03",
            "text/html": [
              "2.03"
            ]
          },
          "metadata": {
            "tags": []
          }
        }
      ]
    },
    {
      "cell_type": "code",
      "metadata": {
        "id": "P64kl9rCllXj",
        "colab": {
          "base_uri": "https://localhost:8080/",
          "height": 34
        },
        "outputId": "20452de9-4fdd-4dd2-b757-f5460cb5864f"
      },
      "source": [
        "# Mean Square Error Loss - Forecast b\n",
        "garch.mse.b <- MSE(sigma.garch[,'sigma.garch.pred.b'],\n",
        "                  sigma.garch[,'sigma.garch.true'])\n",
        "round(garch.mse.b, digits = 3) "
      ],
      "id": "P64kl9rCllXj",
      "execution_count": 74,
      "outputs": [
        {
          "output_type": "display_data",
          "data": {
            "text/plain": [
              "[1] 2.036"
            ],
            "text/latex": "2.036",
            "text/markdown": "2.036",
            "text/html": [
              "2.036"
            ]
          },
          "metadata": {
            "tags": []
          }
        }
      ]
    },
    {
      "cell_type": "code",
      "metadata": {
        "id": "ahWBmWNDLabm",
        "colab": {
          "base_uri": "https://localhost:8080/",
          "height": 34
        },
        "outputId": "eb12d8cc-5d3c-4e02-db5b-4a1785483ebf"
      },
      "source": [
        "# Mean Absolute Error Loss - Forecast a\n",
        "garch.mae.a <- MAE(sigma.garch[,'sigma.garch.pred.a'], \n",
        "                  sigma.garch[,'sigma.garch.true'])\n",
        "round(garch.mae.a, digits = 3)"
      ],
      "id": "ahWBmWNDLabm",
      "execution_count": 75,
      "outputs": [
        {
          "output_type": "display_data",
          "data": {
            "text/plain": [
              "[1] 0.629"
            ],
            "text/latex": "0.629",
            "text/markdown": "0.629",
            "text/html": [
              "0.629"
            ]
          },
          "metadata": {
            "tags": []
          }
        }
      ]
    },
    {
      "cell_type": "code",
      "metadata": {
        "id": "0K7TTaZNl2Y4",
        "colab": {
          "base_uri": "https://localhost:8080/",
          "height": 34
        },
        "outputId": "de34db8e-8ffb-422c-9629-935fe6fd8666"
      },
      "source": [
        "# Mean Absolute Error Loss - Forecast b\n",
        "garch.mae.b <- MAE(sigma.garch[,'sigma.garch.pred.b'], \n",
        "                  sigma.garch[,'sigma.garch.true'])\n",
        "round(garch.mae.b, digits = 3)"
      ],
      "id": "0K7TTaZNl2Y4",
      "execution_count": 76,
      "outputs": [
        {
          "output_type": "display_data",
          "data": {
            "text/plain": [
              "[1] 0.635"
            ],
            "text/latex": "0.635",
            "text/markdown": "0.635",
            "text/html": [
              "0.635"
            ]
          },
          "metadata": {
            "tags": []
          }
        }
      ]
    },
    {
      "cell_type": "code",
      "metadata": {
        "id": "BQXtSoWcLeK6",
        "colab": {
          "base_uri": "https://localhost:8080/",
          "height": 34
        },
        "outputId": "f176d820-0539-4f64-f60c-a68406c0c36c"
      },
      "source": [
        "# Root Mean Square Error Loss - Forecast a\n",
        "garch.rmse.a <- RMSE(sigma.garch[,'sigma.garch.pred.a'], \n",
        "                    sigma.garch[,'sigma.garch.true'])\n",
        "round(garch.rmse.a, digits = 3)"
      ],
      "id": "BQXtSoWcLeK6",
      "execution_count": 77,
      "outputs": [
        {
          "output_type": "display_data",
          "data": {
            "text/plain": [
              "[1] 1.425"
            ],
            "text/latex": "1.425",
            "text/markdown": "1.425",
            "text/html": [
              "1.425"
            ]
          },
          "metadata": {
            "tags": []
          }
        }
      ]
    },
    {
      "cell_type": "code",
      "metadata": {
        "id": "hIrzvC1CmNvg",
        "colab": {
          "base_uri": "https://localhost:8080/",
          "height": 34
        },
        "outputId": "1ed90051-4108-4d95-e8d7-50afc29befbb"
      },
      "source": [
        "# Root Mean Square Error Loss - Forecast b\n",
        "garch.rmse.b <- RMSE(sigma.garch[,'sigma.garch.pred.b'], \n",
        "                    sigma.garch[,'sigma.garch.true'])\n",
        "round(garch.rmse.b, digits = 3)"
      ],
      "id": "hIrzvC1CmNvg",
      "execution_count": 78,
      "outputs": [
        {
          "output_type": "display_data",
          "data": {
            "text/plain": [
              "[1] 1.427"
            ],
            "text/latex": "1.427",
            "text/markdown": "1.427",
            "text/html": [
              "1.427"
            ]
          },
          "metadata": {
            "tags": []
          }
        }
      ]
    },
    {
      "cell_type": "code",
      "metadata": {
        "id": "hla4zyfwnSkl",
        "colab": {
          "base_uri": "https://localhost:8080/",
          "height": 34
        },
        "outputId": "a082503f-6f66-4577-92a2-66b22b0c92ab"
      },
      "source": [
        "# Quasi-likelihood loss function - forecast a\n",
        "h <- sigma.garch[,'sigma.garch.true']\n",
        "\n",
        "h.hat.a <- sigma.garch[,'sigma.garch.pred.a']     \n",
        "garch.qlike.a <- mean(log(sqrt(h)) + h.hat.a/sqrt(h))\n",
        "round(garch.qlike.a, digits = 5) "
      ],
      "id": "hla4zyfwnSkl",
      "execution_count": 79,
      "outputs": [
        {
          "output_type": "display_data",
          "data": {
            "text/plain": [
              "[1] 1.17076"
            ],
            "text/latex": "1.17076",
            "text/markdown": "1.17076",
            "text/html": [
              "1.17076"
            ]
          },
          "metadata": {
            "tags": []
          }
        }
      ]
    },
    {
      "cell_type": "code",
      "metadata": {
        "id": "V13-JFWyn-r0",
        "colab": {
          "base_uri": "https://localhost:8080/",
          "height": 34
        },
        "outputId": "8b2e2c55-cf58-48c5-dd4f-d2fd6ecda88c"
      },
      "source": [
        "# Quasi-likelihood loss function - forecast b\n",
        "h.hat.b <- sigma.garch[,'sigma.garch.pred.b']\n",
        "garch.qlike.b <- mean(log(sqrt(h)) + h.hat.b/sqrt(h))\n",
        "round(garch.qlike.b, digits = 5)   "
      ],
      "id": "V13-JFWyn-r0",
      "execution_count": 80,
      "outputs": [
        {
          "output_type": "display_data",
          "data": {
            "text/plain": [
              "[1] 1.15876"
            ],
            "text/latex": "1.15876",
            "text/markdown": "1.15876",
            "text/html": [
              "1.15876"
            ]
          },
          "metadata": {
            "tags": []
          }
        }
      ]
    },
    {
      "cell_type": "code",
      "metadata": {
        "id": "kDFbGnTIoLi9",
        "colab": {
          "base_uri": "https://localhost:8080/",
          "height": 119
        },
        "outputId": "126b84a4-a6da-4b87-c859-ec361c0036ea"
      },
      "source": [
        "# Diebold-Mariano Test (accuracy test) - test 1\n",
        "f.a <- sigma.garch[,'sigma.garch.pred.a']\n",
        "f.b <- sigma.garch[,'sigma.garch.pred.b']\n",
        "y <- sigma.garch[,'sigma.garch.true']\n",
        "\n",
        "DM.test(f.a, f.b, y, loss.type = \"SE\", c = FALSE, H1 = \"same\")"
      ],
      "id": "kDFbGnTIoLi9",
      "execution_count": 81,
      "outputs": [
        {
          "output_type": "display_data",
          "data": {
            "text/plain": [
              "\n",
              "\tDiebold-Mariano test\n",
              "\n",
              "data:  f.a and f.b and y\n",
              "statistic = -1.5574, forecast horizon = 1, p-value = 0.1194\n",
              "alternative hypothesis: Forecast f1 and f2 have different accuracy.\n"
            ]
          },
          "metadata": {
            "tags": []
          }
        }
      ]
    },
    {
      "cell_type": "code",
      "metadata": {
        "id": "FLLLPUQtoyZS",
        "colab": {
          "base_uri": "https://localhost:8080/",
          "height": 136
        },
        "outputId": "1ccdef2d-5b7c-4eb7-e78a-1ed5d6d218f7"
      },
      "source": [
        "# Diebold-Mariano test for predictive accuracy - test 2\n",
        "e.a <- garch.error.a\n",
        "e.b <- garch.error.b\n",
        "\n",
        "dm.test(e.a, e.b, alternative = \"two.sided\", h = 1, power = 2)"
      ],
      "id": "FLLLPUQtoyZS",
      "execution_count": 82,
      "outputs": [
        {
          "output_type": "display_data",
          "data": {
            "text/plain": [
              "\n",
              "\tDiebold-Mariano Test\n",
              "\n",
              "data:  e.ae.b\n",
              "DM = -1.5569, Forecast horizon = 1, Loss function power = 2, p-value =\n",
              "0.1197\n",
              "alternative hypothesis: two.sided\n"
            ]
          },
          "metadata": {
            "tags": []
          }
        }
      ]
    },
    {
      "cell_type": "code",
      "metadata": {
        "id": "K8wRfezFrxtJ",
        "colab": {
          "base_uri": "https://localhost:8080/",
          "height": 34
        },
        "outputId": "1d9fd88a-c9c4-4e9d-a4d0-d769cbb1c472"
      },
      "source": [
        "# Quasi-likelihood Loss Function For Volatility Forecasts - forecast a\n",
        "garch.qlike.a <- mean(LossVol(sigma.garch[,'sigma.garch.true'],\n",
        "                              sigma.garch[,'sigma.garch.pred.a'],\n",
        "                              which = \"QLIKE\"))\n",
        "round(garch.qlike.a, digits = 3)"
      ],
      "id": "K8wRfezFrxtJ",
      "execution_count": 83,
      "outputs": [
        {
          "output_type": "display_data",
          "data": {
            "text/plain": [
              "[1] 2.126"
            ],
            "text/latex": "2.126",
            "text/markdown": "2.126",
            "text/html": [
              "2.126"
            ]
          },
          "metadata": {
            "tags": []
          }
        }
      ]
    },
    {
      "cell_type": "code",
      "metadata": {
        "id": "HUVoT5c5sFMt",
        "colab": {
          "base_uri": "https://localhost:8080/",
          "height": 34
        },
        "outputId": "392e80a5-2c40-496f-ab21-4261e644a9e3"
      },
      "source": [
        "# Quasi-likelihood Loss Function For Volatility Forecasts - forecast 1b\n",
        "garch.qlike.b <- mean(LossVol(sigma.garch[,'sigma.garch.true'],\n",
        "                              sigma.garch[,'sigma.garch.pred.b'],\n",
        "                              which = \"QLIKE\"))\n",
        "round(garch.qlike.b, digits = 3)"
      ],
      "id": "HUVoT5c5sFMt",
      "execution_count": 84,
      "outputs": [
        {
          "output_type": "display_data",
          "data": {
            "text/plain": [
              "[1] 2.136"
            ],
            "text/latex": "2.136",
            "text/markdown": "2.136",
            "text/html": [
              "2.136"
            ]
          },
          "metadata": {
            "tags": []
          }
        }
      ]
    },
    {
      "cell_type": "code",
      "metadata": {
        "id": "9BsA_6HBsOJV",
        "colab": {
          "base_uri": "https://localhost:8080/",
          "height": 34
        },
        "outputId": "d3924cc9-9fd6-4675-c7f1-5ca5aa8862ba"
      },
      "source": [
        "# Log loss / Cross-Entropy Loss -  forecast a\n",
        "garch.logloss.a <- LogLoss(sigma.garch[,'sigma.garch.pred.a'],\n",
        "                           sigma.garch[,'sigma.garch.true'])\n",
        "round(garch.logloss.a, digits = 3)"
      ],
      "id": "9BsA_6HBsOJV",
      "execution_count": 85,
      "outputs": [
        {
          "output_type": "display_data",
          "data": {
            "text/plain": [
              "[1] -29.454"
            ],
            "text/latex": "-29.454",
            "text/markdown": "-29.454",
            "text/html": [
              "-29.454"
            ]
          },
          "metadata": {
            "tags": []
          }
        }
      ]
    },
    {
      "cell_type": "code",
      "metadata": {
        "id": "WYgOyvussxPG",
        "colab": {
          "base_uri": "https://localhost:8080/",
          "height": 34
        },
        "outputId": "09195ba1-6dab-45ab-e9e8-de3b895fb0d3"
      },
      "source": [
        "# Log loss / Cross-Entropy Loss -  forecast b\n",
        "garch.logloss.b <- LogLoss(sigma.garch[,'sigma.garch.pred.b'],\n",
        "                           sigma.garch[,'sigma.garch.true'])\n",
        "round(garch.logloss.b, digits = 3)"
      ],
      "id": "WYgOyvussxPG",
      "execution_count": 86,
      "outputs": [
        {
          "output_type": "display_data",
          "data": {
            "text/plain": [
              "[1] -29.419"
            ],
            "text/latex": "-29.419",
            "text/markdown": "-29.419",
            "text/html": [
              "-29.419"
            ]
          },
          "metadata": {
            "tags": []
          }
        }
      ]
    },
    {
      "cell_type": "code",
      "metadata": {
        "id": "fvV0JmWWs_-H",
        "colab": {
          "base_uri": "https://localhost:8080/",
          "height": 170
        },
        "outputId": "08fbd187-a021-4d1a-dc43-c0d16fc04fc7"
      },
      "source": [
        "# Linear regression to assess forecast performance - forecast a\n",
        "garch.model.a <- lm(sigma.garch.true ~ sigma.garch.pred.a, \n",
        "                    data = sigma.garch)\n",
        "round(coeftest(garch.model.a, NeweyWest(garch.model.a,\n",
        "                                        lag = bwNeweyWest(garch.model.a),\n",
        "                                        prewhite = F)), 3)\n",
        "round(summary(garch.model.a)$adj.r.squared, 3)"
      ],
      "id": "fvV0JmWWs_-H",
      "execution_count": 87,
      "outputs": [
        {
          "output_type": "display_data",
          "data": {
            "text/plain": [
              "\n",
              "t test of coefficients:\n",
              "\n",
              "                   Estimate Std. Error t value  Pr(>|t|)    \n",
              "(Intercept)          -2.523      0.257  -9.831 < 2.2e-16 ***\n",
              "sigma.garch.pred.a    3.433      0.223  15.422 < 2.2e-16 ***\n",
              "---\n",
              "Signif. codes:  0 ‘***’ 0.001 ‘**’ 0.01 ‘*’ 0.05 ‘.’ 0.1 ‘ ’ 1\n"
            ]
          },
          "metadata": {
            "tags": []
          }
        },
        {
          "output_type": "display_data",
          "data": {
            "text/plain": [
              "[1] 0.889"
            ],
            "text/latex": "0.889",
            "text/markdown": "0.889",
            "text/html": [
              "0.889"
            ]
          },
          "metadata": {
            "tags": []
          }
        }
      ]
    },
    {
      "cell_type": "code",
      "metadata": {
        "id": "BKQCfwbmWcez",
        "colab": {
          "base_uri": "https://localhost:8080/",
          "height": 170
        },
        "outputId": "a6f4826f-f98c-4c5a-f106-3801b4c4db82"
      },
      "source": [
        "# Linear regression to assess forecast performance - forecast b\n",
        "garch.model.b <- lm(sigma.garch.true ~ sigma.garch.pred.b, \n",
        "                    data = sigma.garch)\n",
        "round(coeftest(garch.model.b, NeweyWest(garch.model.b,\n",
        "                                        lag = bwNeweyWest(garch.model.b),\n",
        "                                        prewhite = F)), 3)\n",
        "round(summary(garch.model.b)$adj.r.squared, 3)"
      ],
      "id": "BKQCfwbmWcez",
      "execution_count": 88,
      "outputs": [
        {
          "output_type": "display_data",
          "data": {
            "text/plain": [
              "\n",
              "t test of coefficients:\n",
              "\n",
              "                   Estimate Std. Error t value  Pr(>|t|)    \n",
              "(Intercept)          -2.431      0.252  -9.645 < 2.2e-16 ***\n",
              "sigma.garch.pred.b    3.395      0.222  15.282 < 2.2e-16 ***\n",
              "---\n",
              "Signif. codes:  0 ‘***’ 0.001 ‘**’ 0.01 ‘*’ 0.05 ‘.’ 0.1 ‘ ’ 1\n"
            ]
          },
          "metadata": {
            "tags": []
          }
        },
        {
          "output_type": "display_data",
          "data": {
            "text/plain": [
              "[1] 0.886"
            ],
            "text/latex": "0.886",
            "text/markdown": "0.886",
            "text/html": [
              "0.886"
            ]
          },
          "metadata": {
            "tags": []
          }
        }
      ]
    },
    {
      "cell_type": "markdown",
      "metadata": {
        "id": "qYxZcfeREZ3G"
      },
      "source": [
        "##(b) EGARCH"
      ],
      "id": "qYxZcfeREZ3G"
    },
    {
      "cell_type": "markdown",
      "metadata": {
        "id": "eU8nVcegGWrx"
      },
      "source": [
        "**Forecast**"
      ],
      "id": "eU8nVcegGWrx"
    },
    {
      "cell_type": "code",
      "metadata": {
        "id": "GGr6qMWPGY56"
      },
      "source": [
        "# Model specification\n",
        "egarch.spec.pred <- egarch.spec\n",
        "setfixed(egarch.spec.pred) <- as.list(coef(egarch.fit))"
      ],
      "id": "GGr6qMWPGY56",
      "execution_count": 89,
      "outputs": []
    },
    {
      "cell_type": "code",
      "metadata": {
        "id": "GDk5w7ACGfr5"
      },
      "source": [
        "# Model adjustment\n",
        "egarch.fit.pred <- ugarchfit(egarch.spec,\n",
        "                             N225.df$N225.Return,\n",
        "                             out.sample = dim(N225.df.out)[1])"
      ],
      "id": "GDk5w7ACGfr5",
      "execution_count": 90,
      "outputs": []
    },
    {
      "cell_type": "code",
      "metadata": {
        "id": "YpL93AZ4Gmyu"
      },
      "source": [
        "# Forecast calculated through adjustment\n",
        "egarch.pred.a <- ugarchforecast(egarch.fit.pred,\n",
        "                                n.ahead = 1,\n",
        "                                n.roll = dim(N225.df.out)[1])\n",
        "\n",
        "egarch.forecast.a <- xts(sigma(egarch.pred.a)[1,],\n",
        "                         move(as.Date(names(sigma(egarch.pred.a)[1,])), by = 1))"
      ],
      "id": "YpL93AZ4Gmyu",
      "execution_count": 91,
      "outputs": []
    },
    {
      "cell_type": "code",
      "metadata": {
        "id": "Q97EAAIsGwDR"
      },
      "source": [
        "# Forecast calculated using specification\n",
        "egarch.pred.b <- ugarchforecast(egarch.spec.pred,\n",
        "                                n.ahead = 1,\n",
        "                                n.roll = dim(N225.df.out)[1],\n",
        "                                data = N225.df$N225.Return,\n",
        "                                out.sample = dim(N225.df.out)[1])\n",
        "\n",
        "egarch.forecast.b <- xts(sigma(egarch.pred.b)[1,],\n",
        "                         move(as.Date(names(sigma(egarch.pred.b)[1,])), by = 1))               "
      ],
      "id": "Q97EAAIsGwDR",
      "execution_count": 92,
      "outputs": []
    },
    {
      "cell_type": "code",
      "metadata": {
        "id": "QSI_GcusG5Yq"
      },
      "source": [
        "# Model filtering\n",
        "egarch.filt.pred <- ugarchfilter(egarch.spec.pred,\n",
        "                                data = N225.df$N225.Return,\n",
        "                                n.old = nrow(N225.df) - dim(N225.df.out)[1])\n",
        "\n",
        "egarch.filt <- tail(sigma(egarch.filt.pred), dim(N225.df.out)[1]) "
      ],
      "id": "QSI_GcusG5Yq",
      "execution_count": 93,
      "outputs": []
    },
    {
      "cell_type": "code",
      "metadata": {
        "colab": {
          "base_uri": "https://localhost:8080/",
          "height": 136
        },
        "id": "Vz2srX-ZHB-M",
        "outputId": "d29c1121-48de-4574-c28b-bfe2691f72a5"
      },
      "source": [
        "# Comparative\n",
        "colnames(egarch.filt) <- 'filter'\n",
        "colnames(egarch.forecast.a) <- 'forecast1'\n",
        "colnames(egarch.forecast.b) <- 'forecast2'\n",
        "\n",
        "egarch.ftest <- cbind(egarch.filt, \n",
        "                      egarch.forecast.a,\n",
        "                      egarch.forecast.b)\n",
        "head(round(egarch.ftest, digits = 4))"
      ],
      "id": "Vz2srX-ZHB-M",
      "execution_count": 94,
      "outputs": [
        {
          "output_type": "display_data",
          "data": {
            "text/plain": [
              "           filter forecast1 forecast2\n",
              "2014-12-19 1.4692    1.4591    1.4692\n",
              "2014-12-22 1.4636    1.4818    1.4636\n",
              "2014-12-24 1.3557    1.3781    1.3557\n",
              "2014-12-25 1.3110    1.3465    1.3110\n",
              "2014-12-26 1.2527    1.2842    1.2527\n",
              "2014-12-29 1.1667    1.1991    1.1667"
            ]
          },
          "metadata": {
            "tags": []
          }
        }
      ]
    },
    {
      "cell_type": "code",
      "metadata": {
        "colab": {
          "base_uri": "https://localhost:8080/",
          "height": 252
        },
        "id": "Mq5-c2zDHIzy",
        "outputId": "8958aaed-76c1-4b6e-969c-eda63aa52439"
      },
      "source": [
        "sigma.egarch.pred.a <- ts(egarch.forecast.a[-1,])\n",
        "sigma.egarch.pred.b <- ts(egarch.forecast.b[-1,])\n",
        "sigma.egarch.true <- ts(N225.df.out$N225.VolEGARCH)\n",
        "\n",
        "sigma.egarch <- na.omit(cbind(sigma.egarch.pred.a,\n",
        "                              sigma.egarch.pred.b,\n",
        "                              sigma.egarch.true))\n",
        "head(sigma.egarch)"
      ],
      "id": "Mq5-c2zDHIzy",
      "execution_count": 95,
      "outputs": [
        {
          "output_type": "display_data",
          "data": {
            "text/plain": [
              "  sigma.egarch.pred.a sigma.egarch.pred.b sigma.egarch.true\n",
              "1 1.481770            1.463559            2.158520         \n",
              "2 1.378135            1.355665            2.142006         \n",
              "3 1.346544            1.310995            1.837827         \n",
              "4 1.284154            1.252717            1.718707         \n",
              "5 1.199110            1.166734            1.569300         \n",
              "6 1.183068            1.159229            1.361268         "
            ],
            "text/latex": "A Time Series: 6 × 3\n\\begin{tabular}{r|lll}\n  & sigma.egarch.pred.a & sigma.egarch.pred.b & sigma.egarch.true\\\\\n\\hline\n\t1 & 1.481770 & 1.463559 & 2.158520\\\\\n\t2 & 1.378135 & 1.355665 & 2.142006\\\\\n\t3 & 1.346544 & 1.310995 & 1.837827\\\\\n\t4 & 1.284154 & 1.252717 & 1.718707\\\\\n\t5 & 1.199110 & 1.166734 & 1.569300\\\\\n\t6 & 1.183068 & 1.159229 & 1.361268\\\\\n\\end{tabular}\n",
            "text/markdown": "\nA Time Series: 6 × 3\n\n| <!--/--> | sigma.egarch.pred.a | sigma.egarch.pred.b | sigma.egarch.true |\n|---|---|---|---|\n| 1 | 1.481770 | 1.463559 | 2.158520 |\n| 2 | 1.378135 | 1.355665 | 2.142006 |\n| 3 | 1.346544 | 1.310995 | 1.837827 |\n| 4 | 1.284154 | 1.252717 | 1.718707 |\n| 5 | 1.199110 | 1.166734 | 1.569300 |\n| 6 | 1.183068 | 1.159229 | 1.361268 |\n\n",
            "text/html": [
              "<table class=\"dataframe\">\n",
              "<caption>A Time Series: 6 × 3</caption>\n",
              "<thead>\n",
              "\t<tr><th></th><th scope=col>sigma.egarch.pred.a</th><th scope=col>sigma.egarch.pred.b</th><th scope=col>sigma.egarch.true</th></tr>\n",
              "</thead>\n",
              "<tbody>\n",
              "\t<tr><th scope=row>1</th><td>1.481770</td><td>1.463559</td><td>2.158520</td></tr>\n",
              "\t<tr><th scope=row>2</th><td>1.378135</td><td>1.355665</td><td>2.142006</td></tr>\n",
              "\t<tr><th scope=row>3</th><td>1.346544</td><td>1.310995</td><td>1.837827</td></tr>\n",
              "\t<tr><th scope=row>4</th><td>1.284154</td><td>1.252717</td><td>1.718707</td></tr>\n",
              "\t<tr><th scope=row>5</th><td>1.199110</td><td>1.166734</td><td>1.569300</td></tr>\n",
              "\t<tr><th scope=row>6</th><td>1.183068</td><td>1.159229</td><td>1.361268</td></tr>\n",
              "</tbody>\n",
              "</table>\n"
            ]
          },
          "metadata": {
            "tags": []
          }
        }
      ]
    },
    {
      "cell_type": "markdown",
      "metadata": {
        "id": "kHT5c985HYvC"
      },
      "source": [
        "**Performance evaluation**"
      ],
      "id": "kHT5c985HYvC"
    },
    {
      "cell_type": "code",
      "metadata": {
        "colab": {
          "base_uri": "https://localhost:8080/",
          "height": 51
        },
        "id": "2zj41DH_HbJB",
        "outputId": "09dc8920-64eb-4386-bab5-de7749abf9d5"
      },
      "source": [
        "# Forecast Error - Forecast a\n",
        "egarch.error.a <- sigma.egarch[,'sigma.egarch.pred.a'] - sigma.egarch[,'sigma.egarch.true']\n",
        "head(egarch.error.a)"
      ],
      "id": "2zj41DH_HbJB",
      "execution_count": 96,
      "outputs": [
        {
          "output_type": "display_data",
          "data": {
            "text/plain": [
              "A Time Series:\n",
              "[1] -0.6767504 -0.7638712 -0.4912829 -0.4345528 -0.3701897 -0.1781995"
            ],
            "text/latex": "A Time Series:\\\\\\begin{enumerate*}\n\\item -0.676750351342841\n\\item -0.763871172779911\n\\item -0.49128292413217\n\\item -0.43455283445201\n\\item -0.370189691619328\n\\item -0.178199534777303\n\\end{enumerate*}\n",
            "text/markdown": "A Time Series:  \n1. -0.676750351342841\n2. -0.763871172779911\n3. -0.49128292413217\n4. -0.43455283445201\n5. -0.370189691619328\n6. -0.178199534777303\n\n\n",
            "text/html": [
              "A Time Series:<br><style>\n",
              ".list-inline {list-style: none; margin:0; padding: 0}\n",
              ".list-inline>li {display: inline-block}\n",
              ".list-inline>li:not(:last-child)::after {content: \"\\00b7\"; padding: 0 .5ex}\n",
              "</style>\n",
              "<ol class=list-inline><li>-0.676750351342841</li><li>-0.763871172779911</li><li>-0.49128292413217</li><li>-0.43455283445201</li><li>-0.370189691619328</li><li>-0.178199534777303</li></ol>\n"
            ]
          },
          "metadata": {
            "tags": []
          }
        }
      ]
    },
    {
      "cell_type": "code",
      "metadata": {
        "colab": {
          "base_uri": "https://localhost:8080/",
          "height": 51
        },
        "id": "qGfmTbM3HhNe",
        "outputId": "68391d04-510a-483d-be74-22801528d31b"
      },
      "source": [
        "# Forecast Error - Forecast b\n",
        "egarch.error.b <- sigma.egarch[,'sigma.egarch.pred.b'] - sigma.egarch[,'sigma.egarch.true']\n",
        "head(egarch.error.b)"
      ],
      "id": "qGfmTbM3HhNe",
      "execution_count": 97,
      "outputs": [
        {
          "output_type": "display_data",
          "data": {
            "text/plain": [
              "A Time Series:\n",
              "[1] -0.6949606 -0.7863409 -0.5268327 -0.4659901 -0.4025658 -0.2020393"
            ],
            "text/latex": "A Time Series:\\\\\\begin{enumerate*}\n\\item -0.694960604644338\n\\item -0.786340885690152\n\\item -0.526832680084733\n\\item -0.465990090055493\n\\item -0.402565773210861\n\\item -0.20203931546411\n\\end{enumerate*}\n",
            "text/markdown": "A Time Series:  \n1. -0.694960604644338\n2. -0.786340885690152\n3. -0.526832680084733\n4. -0.465990090055493\n5. -0.402565773210861\n6. -0.20203931546411\n\n\n",
            "text/html": [
              "A Time Series:<br><style>\n",
              ".list-inline {list-style: none; margin:0; padding: 0}\n",
              ".list-inline>li {display: inline-block}\n",
              ".list-inline>li:not(:last-child)::after {content: \"\\00b7\"; padding: 0 .5ex}\n",
              "</style>\n",
              "<ol class=list-inline><li>-0.694960604644338</li><li>-0.786340885690152</li><li>-0.526832680084733</li><li>-0.465990090055493</li><li>-0.402565773210861</li><li>-0.20203931546411</li></ol>\n"
            ]
          },
          "metadata": {
            "tags": []
          }
        }
      ]
    },
    {
      "cell_type": "code",
      "metadata": {
        "colab": {
          "base_uri": "https://localhost:8080/",
          "height": 34
        },
        "id": "ghBbYBQ7HocG",
        "outputId": "788ca17f-70e3-4b5c-f27c-15a351cf73ee"
      },
      "source": [
        "# Mean Square Error Loss - Forecast a\n",
        "egarch.mse.a <- MSE(sigma.egarch[,'sigma.egarch.pred.a'],\n",
        "                    sigma.egarch[,'sigma.egarch.true'])\n",
        "round(egarch.mse.a, digits = 3)     "
      ],
      "id": "ghBbYBQ7HocG",
      "execution_count": 98,
      "outputs": [
        {
          "output_type": "display_data",
          "data": {
            "text/plain": [
              "[1] 1.446"
            ],
            "text/latex": "1.446",
            "text/markdown": "1.446",
            "text/html": [
              "1.446"
            ]
          },
          "metadata": {
            "tags": []
          }
        }
      ]
    },
    {
      "cell_type": "code",
      "metadata": {
        "colab": {
          "base_uri": "https://localhost:8080/",
          "height": 34
        },
        "id": "_D9c09GZHtiG",
        "outputId": "f3f20fca-b630-4959-f32b-e3253e58d6ca"
      },
      "source": [
        "# Mean Square Error Loss - Forecast b\n",
        "egarch.mse.b <- MSE(sigma.egarch[,'sigma.egarch.pred.b'],\n",
        "                    sigma.egarch[,'sigma.egarch.true'])\n",
        "round(egarch.mse.b, digits = 3) "
      ],
      "id": "_D9c09GZHtiG",
      "execution_count": 99,
      "outputs": [
        {
          "output_type": "display_data",
          "data": {
            "text/plain": [
              "[1] 1.452"
            ],
            "text/latex": "1.452",
            "text/markdown": "1.452",
            "text/html": [
              "1.452"
            ]
          },
          "metadata": {
            "tags": []
          }
        }
      ]
    },
    {
      "cell_type": "code",
      "metadata": {
        "colab": {
          "base_uri": "https://localhost:8080/",
          "height": 34
        },
        "id": "0YnAkzX0HyHX",
        "outputId": "d79fc807-1e6f-4db5-be6c-55d9eb77dce1"
      },
      "source": [
        "# Mean Absolute Error Loss - Forecast a\n",
        "egarch.mae.a <- MAE(sigma.egarch[,'sigma.egarch.pred.a'],\n",
        "                    sigma.egarch[,'sigma.egarch.true'])\n",
        "round(egarch.mae.a, digits = 3)"
      ],
      "id": "0YnAkzX0HyHX",
      "execution_count": 100,
      "outputs": [
        {
          "output_type": "display_data",
          "data": {
            "text/plain": [
              "[1] 0.583"
            ],
            "text/latex": "0.583",
            "text/markdown": "0.583",
            "text/html": [
              "0.583"
            ]
          },
          "metadata": {
            "tags": []
          }
        }
      ]
    },
    {
      "cell_type": "code",
      "metadata": {
        "colab": {
          "base_uri": "https://localhost:8080/",
          "height": 34
        },
        "id": "brmCUjE_H4bJ",
        "outputId": "f39327ce-78e7-4c79-b28d-499b6c6da3b9"
      },
      "source": [
        "# Mean Absolute Error Loss - Forecast b\n",
        "egarch.mae.b <- MAE(sigma.egarch[,'sigma.egarch.pred.b'],\n",
        "                    sigma.egarch[,'sigma.egarch.true'])\n",
        "round(egarch.mae.b, digits = 3)"
      ],
      "id": "brmCUjE_H4bJ",
      "execution_count": 101,
      "outputs": [
        {
          "output_type": "display_data",
          "data": {
            "text/plain": [
              "[1] 0.587"
            ],
            "text/latex": "0.587",
            "text/markdown": "0.587",
            "text/html": [
              "0.587"
            ]
          },
          "metadata": {
            "tags": []
          }
        }
      ]
    },
    {
      "cell_type": "code",
      "metadata": {
        "colab": {
          "base_uri": "https://localhost:8080/",
          "height": 34
        },
        "id": "kBL2NOllIBLP",
        "outputId": "eea9ca3b-4cb7-4fed-a065-4ff2b96c5a48"
      },
      "source": [
        "# Root Mean Square Error Loss - Forecast a\n",
        "egarch.rmse.a <- RMSE(sigma.egarch[,'sigma.egarch.pred.a'],\n",
        "                      sigma.egarch[,'sigma.egarch.true'])\n",
        "round(egarch.rmse.a, digits = 3)"
      ],
      "id": "kBL2NOllIBLP",
      "execution_count": 102,
      "outputs": [
        {
          "output_type": "display_data",
          "data": {
            "text/plain": [
              "[1] 1.203"
            ],
            "text/latex": "1.203",
            "text/markdown": "1.203",
            "text/html": [
              "1.203"
            ]
          },
          "metadata": {
            "tags": []
          }
        }
      ]
    },
    {
      "cell_type": "code",
      "metadata": {
        "colab": {
          "base_uri": "https://localhost:8080/",
          "height": 34
        },
        "id": "YZw8WsYrIGZr",
        "outputId": "9ae79fd6-d04b-4b0a-a04f-0f23925426cb"
      },
      "source": [
        "# Root Mean Square Error Loss - Forecast b\n",
        "egarch.rmse.b <- RMSE(sigma.egarch[,'sigma.egarch.pred.b'],\n",
        "                      sigma.egarch[,'sigma.egarch.true'])\n",
        "round(egarch.rmse.b, digits = 3)"
      ],
      "id": "YZw8WsYrIGZr",
      "execution_count": 103,
      "outputs": [
        {
          "output_type": "display_data",
          "data": {
            "text/plain": [
              "[1] 1.205"
            ],
            "text/latex": "1.205",
            "text/markdown": "1.205",
            "text/html": [
              "1.205"
            ]
          },
          "metadata": {
            "tags": []
          }
        }
      ]
    },
    {
      "cell_type": "code",
      "metadata": {
        "colab": {
          "base_uri": "https://localhost:8080/",
          "height": 34
        },
        "id": "lvf7k5Y2IK3Z",
        "outputId": "5cf20caf-5541-4acd-b442-1888aa80dcec"
      },
      "source": [
        "# Quasi-likelihood loss function - forecast a\n",
        "h <- sigma.egarch[,'sigma.egarch.true']\n",
        "\n",
        "h.hat.a <- sigma.egarch[,'sigma.egarch.pred.a']     \n",
        "egarch.qlike.a <- mean(log(sqrt(h)) + h.hat.a/sqrt(h))\n",
        "round(egarch.qlike.a, digits = 5) "
      ],
      "id": "lvf7k5Y2IK3Z",
      "execution_count": 104,
      "outputs": [
        {
          "output_type": "display_data",
          "data": {
            "text/plain": [
              "[1] 1.13829"
            ],
            "text/latex": "1.13829",
            "text/markdown": "1.13829",
            "text/html": [
              "1.13829"
            ]
          },
          "metadata": {
            "tags": []
          }
        }
      ]
    },
    {
      "cell_type": "code",
      "metadata": {
        "colab": {
          "base_uri": "https://localhost:8080/",
          "height": 34
        },
        "id": "ac17LDnAIdRq",
        "outputId": "fee57ece-5fa0-4523-c2f9-eee191defbe7"
      },
      "source": [
        "# Quasi-likelihood loss function - forecast b\n",
        "h.hat.b <- sigma.egarch[,'sigma.egarch.pred.b']\n",
        "egarch.qlike.b <- mean(log(sqrt(h)) + h.hat.b/sqrt(h))\n",
        "round(egarch.qlike.b, digits = 5) "
      ],
      "id": "ac17LDnAIdRq",
      "execution_count": 105,
      "outputs": [
        {
          "output_type": "display_data",
          "data": {
            "text/plain": [
              "[1] 1.1346"
            ],
            "text/latex": "1.1346",
            "text/markdown": "1.1346",
            "text/html": [
              "1.1346"
            ]
          },
          "metadata": {
            "tags": []
          }
        }
      ]
    },
    {
      "cell_type": "code",
      "metadata": {
        "colab": {
          "base_uri": "https://localhost:8080/",
          "height": 119
        },
        "id": "MDtn0VGCIhYb",
        "outputId": "8c7ead51-d272-434d-ac43-846a77ad1232"
      },
      "source": [
        "# Diebold-Mariano Test (accuracy test) - test 1\n",
        "f.a <- sigma.egarch[,'sigma.egarch.pred.a']\n",
        "f.b <- sigma.egarch[,'sigma.egarch.pred.b']\n",
        "y <- sigma.egarch[,'sigma.egarch.true']\n",
        "\n",
        "DM.test(f.a, f.b, y, loss.type = \"SE\", c = FALSE, H1 = \"same\")"
      ],
      "id": "MDtn0VGCIhYb",
      "execution_count": 106,
      "outputs": [
        {
          "output_type": "display_data",
          "data": {
            "text/plain": [
              "\n",
              "\tDiebold-Mariano test\n",
              "\n",
              "data:  f.a and f.b and y\n",
              "statistic = -1.1802, forecast horizon = 1, p-value = 0.2379\n",
              "alternative hypothesis: Forecast f1 and f2 have different accuracy.\n"
            ]
          },
          "metadata": {
            "tags": []
          }
        }
      ]
    },
    {
      "cell_type": "code",
      "metadata": {
        "colab": {
          "base_uri": "https://localhost:8080/",
          "height": 136
        },
        "id": "iTwM8a02ImcX",
        "outputId": "7892c7ea-a591-4219-a54e-437dc041cd44"
      },
      "source": [
        "# Diebold-Mariano test for predictive accuracy - test 2\n",
        "e.a <- egarch.error.a\n",
        "e.b <- egarch.error.b\n",
        "\n",
        "dm.test(e.a, e.b, alternative = \"two.sided\", h = 1, power = 2)"
      ],
      "id": "iTwM8a02ImcX",
      "execution_count": 107,
      "outputs": [
        {
          "output_type": "display_data",
          "data": {
            "text/plain": [
              "\n",
              "\tDiebold-Mariano Test\n",
              "\n",
              "data:  e.ae.b\n",
              "DM = -1.1798, Forecast horizon = 1, Loss function power = 2, p-value =\n",
              "0.2382\n",
              "alternative hypothesis: two.sided\n"
            ]
          },
          "metadata": {
            "tags": []
          }
        }
      ]
    },
    {
      "cell_type": "code",
      "metadata": {
        "colab": {
          "base_uri": "https://localhost:8080/",
          "height": 34
        },
        "id": "ubakDsZgIphu",
        "outputId": "029b89f3-6a76-4ff3-e6ec-7829279383be"
      },
      "source": [
        "# Quasi-likelihood Loss Function For Volatility Forecasts - forecast a\n",
        "egarch.qlike.a <- mean(LossVol(sigma.egarch[,'sigma.egarch.true'],\n",
        "                              sigma.egarch[,'sigma.egarch.pred.a'],\n",
        "                              which = \"QLIKE\"))\n",
        "round(egarch.qlike.a, digits = 3)"
      ],
      "id": "ubakDsZgIphu",
      "execution_count": 108,
      "outputs": [
        {
          "output_type": "display_data",
          "data": {
            "text/plain": [
              "[1] 1.987"
            ],
            "text/latex": "1.987",
            "text/markdown": "1.987",
            "text/html": [
              "1.987"
            ]
          },
          "metadata": {
            "tags": []
          }
        }
      ]
    },
    {
      "cell_type": "code",
      "metadata": {
        "colab": {
          "base_uri": "https://localhost:8080/",
          "height": 34
        },
        "id": "a0KYFwLDIwmm",
        "outputId": "af459650-1e5c-494e-f13c-3ff516495e21"
      },
      "source": [
        "# Quasi-likelihood Loss Function For Volatility Forecasts - forecast b\n",
        "egarch.qlike.b <- mean(LossVol(sigma.egarch[,'sigma.egarch.true'],\n",
        "                              sigma.egarch[,'sigma.egarch.pred.b'],\n",
        "                              which = \"QLIKE\"))\n",
        "round(egarch.qlike.b, digits = 3)"
      ],
      "id": "a0KYFwLDIwmm",
      "execution_count": 109,
      "outputs": [
        {
          "output_type": "display_data",
          "data": {
            "text/plain": [
              "[1] 1.993"
            ],
            "text/latex": "1.993",
            "text/markdown": "1.993",
            "text/html": [
              "1.993"
            ]
          },
          "metadata": {
            "tags": []
          }
        }
      ]
    },
    {
      "cell_type": "code",
      "metadata": {
        "colab": {
          "base_uri": "https://localhost:8080/",
          "height": 34
        },
        "id": "fegx1LuTI2iB",
        "outputId": "70db36af-73b6-40f7-c7ff-66cba1ad8eae"
      },
      "source": [
        "# Log loss / Cross-Entropy Loss -  forecast a\n",
        "egarch.logloss.a <- LogLoss(sigma.egarch[,'sigma.egarch.pred.a'],\n",
        "                            sigma.egarch[,'sigma.egarch.true'])\n",
        "round(egarch.logloss.a, digits = 3)"
      ],
      "id": "fegx1LuTI2iB",
      "execution_count": 110,
      "outputs": [
        {
          "output_type": "display_data",
          "data": {
            "text/plain": [
              "[1] -26.893"
            ],
            "text/latex": "-26.893",
            "text/markdown": "-26.893",
            "text/html": [
              "-26.893"
            ]
          },
          "metadata": {
            "tags": []
          }
        }
      ]
    },
    {
      "cell_type": "code",
      "metadata": {
        "colab": {
          "base_uri": "https://localhost:8080/",
          "height": 34
        },
        "id": "Rorhgye9I9H4",
        "outputId": "1c0c4786-e695-4d5a-bacc-2bf001c23cc5"
      },
      "source": [
        "# Log loss / Cross-Entropy Loss -  forecast b\n",
        "egarch.logloss.b <- LogLoss(sigma.egarch[,'sigma.egarch.pred.b'],\n",
        "                            sigma.egarch[,'sigma.egarch.true'])\n",
        "round(egarch.logloss.b, digits = 3)"
      ],
      "id": "Rorhgye9I9H4",
      "execution_count": 111,
      "outputs": [
        {
          "output_type": "display_data",
          "data": {
            "text/plain": [
              "[1] -26.886"
            ],
            "text/latex": "-26.886",
            "text/markdown": "-26.886",
            "text/html": [
              "-26.886"
            ]
          },
          "metadata": {
            "tags": []
          }
        }
      ]
    },
    {
      "cell_type": "code",
      "metadata": {
        "colab": {
          "base_uri": "https://localhost:8080/",
          "height": 170
        },
        "id": "cztScVEKJB5j",
        "outputId": "092522ed-b3e4-4ae8-812e-1a59d87a06b6"
      },
      "source": [
        "# Linear regression to assess forecast performance - forecast a\n",
        "egarch.model.a <- lm(sigma.egarch.true ~ sigma.egarch.pred.a, \n",
        "                    data = sigma.egarch)\n",
        "round(coeftest(egarch.model.a, NeweyWest(egarch.model.a,\n",
        "                                        lag = bwNeweyWest(egarch.model.a),\n",
        "                                        prewhite = F)), 3)\n",
        "round(summary(egarch.model.a)$adj.r.squared, 3)"
      ],
      "id": "cztScVEKJB5j",
      "execution_count": 112,
      "outputs": [
        {
          "output_type": "display_data",
          "data": {
            "text/plain": [
              "\n",
              "t test of coefficients:\n",
              "\n",
              "                    Estimate Std. Error t value  Pr(>|t|)    \n",
              "(Intercept)           -2.105      0.194 -10.866 < 2.2e-16 ***\n",
              "sigma.egarch.pred.a    3.117      0.174  17.943 < 2.2e-16 ***\n",
              "---\n",
              "Signif. codes:  0 ‘***’ 0.001 ‘**’ 0.01 ‘*’ 0.05 ‘.’ 0.1 ‘ ’ 1\n"
            ]
          },
          "metadata": {
            "tags": []
          }
        },
        {
          "output_type": "display_data",
          "data": {
            "text/plain": [
              "[1] 0.883"
            ],
            "text/latex": "0.883",
            "text/markdown": "0.883",
            "text/html": [
              "0.883"
            ]
          },
          "metadata": {
            "tags": []
          }
        }
      ]
    },
    {
      "cell_type": "code",
      "metadata": {
        "colab": {
          "base_uri": "https://localhost:8080/",
          "height": 170
        },
        "id": "9ro2-RuaJIu0",
        "outputId": "889e63ac-746b-4f47-8906-09d47cc15d1a"
      },
      "source": [
        "# Linear regression to assess forecast performance - forecast b\n",
        "egarch.model.b <- lm(sigma.egarch.true ~ sigma.egarch.pred.b, \n",
        "                    data = sigma.egarch)\n",
        "round(coeftest(egarch.model.b, NeweyWest(egarch.model.b,\n",
        "                                        lag = bwNeweyWest(egarch.model.b),\n",
        "                                        prewhite = F)), 3)\n",
        "round(summary(egarch.model.b)$adj.r.squared, 3)"
      ],
      "id": "9ro2-RuaJIu0",
      "execution_count": 113,
      "outputs": [
        {
          "output_type": "display_data",
          "data": {
            "text/plain": [
              "\n",
              "t test of coefficients:\n",
              "\n",
              "                    Estimate Std. Error t value  Pr(>|t|)    \n",
              "(Intercept)           -2.055      0.200 -10.248 < 2.2e-16 ***\n",
              "sigma.egarch.pred.b    3.086      0.182  16.944 < 2.2e-16 ***\n",
              "---\n",
              "Signif. codes:  0 ‘***’ 0.001 ‘**’ 0.01 ‘*’ 0.05 ‘.’ 0.1 ‘ ’ 1\n"
            ]
          },
          "metadata": {
            "tags": []
          }
        },
        {
          "output_type": "display_data",
          "data": {
            "text/plain": [
              "[1] 0.874"
            ],
            "text/latex": "0.874",
            "text/markdown": "0.874",
            "text/html": [
              "0.874"
            ]
          },
          "metadata": {
            "tags": []
          }
        }
      ]
    },
    {
      "cell_type": "markdown",
      "metadata": {
        "id": "oFQkdPS-eVHu"
      },
      "source": [
        "##(c) GJR-GARCH"
      ],
      "id": "oFQkdPS-eVHu"
    },
    {
      "cell_type": "markdown",
      "metadata": {
        "id": "0IkxEGn3evX0"
      },
      "source": [
        "**Forecast**"
      ],
      "id": "0IkxEGn3evX0"
    },
    {
      "cell_type": "code",
      "metadata": {
        "id": "Bu5hsRqZezGx"
      },
      "source": [
        "# Model specification\n",
        "gjrgarch.spec.pred <- gjrgarch.spec\n",
        "setfixed(gjrgarch.spec.pred) <- as.list(coef(gjrgarch.fit))"
      ],
      "id": "Bu5hsRqZezGx",
      "execution_count": 114,
      "outputs": []
    },
    {
      "cell_type": "code",
      "metadata": {
        "id": "pnj0hU2se9-J"
      },
      "source": [
        "# Model adjustment\n",
        "gjrgarch.fit.pred <- ugarchfit(gjrgarch.spec,\n",
        "                              N225.df$N225.Return,\n",
        "                              out.sample = dim(N225.df.out)[1])"
      ],
      "id": "pnj0hU2se9-J",
      "execution_count": 115,
      "outputs": []
    },
    {
      "cell_type": "code",
      "metadata": {
        "id": "_3Rv4lN1fGbp"
      },
      "source": [
        "# Forecast calculated through adjustment\n",
        "gjrgarch.pred.a <- ugarchforecast(gjrgarch.fit.pred,\n",
        "                                 n.ahead = 1,\n",
        "                                 n.roll = dim(N225.df.out)[1])\n",
        "\n",
        "gjrgarch.forecast.a <- xts(sigma(gjrgarch.pred.a)[1,],\n",
        "                           move(as.Date(names(sigma(gjrgarch.pred.a)[1,])), by = 1))"
      ],
      "id": "_3Rv4lN1fGbp",
      "execution_count": 116,
      "outputs": []
    },
    {
      "cell_type": "code",
      "metadata": {
        "id": "BuoBNGH8fSEL"
      },
      "source": [
        "# Forecast calculated using specification\n",
        "gjrgarch.pred.b <- ugarchforecast(gjrgarch.spec.pred,\n",
        "                                  n.ahead = 1,\n",
        "                                  n.roll = dim(N225.df.out)[1],\n",
        "                                  data = N225.df$N225.Return,\n",
        "                                  out.sample = dim(N225.df.out)[1])\n",
        "\n",
        "gjrgarch.forecast.b <- xts(sigma(gjrgarch.pred.b)[1,],\n",
        "                           move(as.Date(names(sigma(gjrgarch.pred.b)[1,])), by = 1)) "
      ],
      "id": "BuoBNGH8fSEL",
      "execution_count": 117,
      "outputs": []
    },
    {
      "cell_type": "code",
      "metadata": {
        "id": "D8Sva5A_fh9s"
      },
      "source": [
        "# Model filtering\n",
        "gjrgarch.filt.pred <- ugarchfilter(gjrgarch.spec.pred,\n",
        "                                   data = N225.df$N225.Return,\n",
        "                                   n.old = nrow(N225.df) - dim(N225.df.out)[1])\n",
        "\n",
        "gjrgarch.filt <- tail(sigma(gjrgarch.filt.pred), dim(N225.df.out)[1]) "
      ],
      "id": "D8Sva5A_fh9s",
      "execution_count": 118,
      "outputs": []
    },
    {
      "cell_type": "code",
      "metadata": {
        "colab": {
          "base_uri": "https://localhost:8080/",
          "height": 136
        },
        "id": "Cud0ITmzfjyf",
        "outputId": "e3960cf1-5d3a-4a4d-965d-779c69af8f18"
      },
      "source": [
        "# Comparative\n",
        "colnames(gjrgarch.filt) <- 'filter'\n",
        "colnames(gjrgarch.forecast.a) <- 'forecast1'\n",
        "colnames(gjrgarch.forecast.b) <- 'forecast2'\n",
        "\n",
        "gjrgarch.ftest <- cbind(gjrgarch.filt, \n",
        "                        gjrgarch.forecast.a,\n",
        "                        gjrgarch.forecast.b)\n",
        "head(round(gjrgarch.ftest, digits = 4))"
      ],
      "id": "Cud0ITmzfjyf",
      "execution_count": 119,
      "outputs": [
        {
          "output_type": "display_data",
          "data": {
            "text/plain": [
              "           filter forecast1 forecast2\n",
              "2014-12-19 1.4451    1.4345    1.4451\n",
              "2014-12-22 1.4475    1.4610    1.4475\n",
              "2014-12-24 1.3697    1.3925    1.3697\n",
              "2014-12-25 1.3215    1.3556    1.3215\n",
              "2014-12-26 1.2589    1.2983    1.2589\n",
              "2014-12-29 1.1969    1.2417    1.1969"
            ]
          },
          "metadata": {
            "tags": []
          }
        }
      ]
    },
    {
      "cell_type": "code",
      "metadata": {
        "colab": {
          "base_uri": "https://localhost:8080/",
          "height": 252
        },
        "id": "HujuXn--flgj",
        "outputId": "94ad6133-a189-467e-c5ab-473f51233ff0"
      },
      "source": [
        "sigma.gjrgarch.pred.a <- ts(gjrgarch.forecast.a[-1,])\n",
        "sigma.gjrgarch.pred.b <- ts(gjrgarch.forecast.b[-1,])\n",
        "sigma.gjrgarch.true <- ts(N225.df.out$N225.VolGJRGARCH)\n",
        "\n",
        "sigma.gjrgarch <- na.omit(cbind(sigma.gjrgarch.pred.a,\n",
        "                                sigma.gjrgarch.pred.b,\n",
        "                                sigma.gjrgarch.true))\n",
        "head(sigma.gjrgarch)"
      ],
      "id": "HujuXn--flgj",
      "execution_count": 120,
      "outputs": [
        {
          "output_type": "display_data",
          "data": {
            "text/plain": [
              "  sigma.gjrgarch.pred.a sigma.gjrgarch.pred.b sigma.gjrgarch.true\n",
              "1 1.461007              1.447525              2.088346           \n",
              "2 1.392540              1.369662              2.095329           \n",
              "3 1.355565              1.321506              1.875973           \n",
              "4 1.298341              1.258856              1.746377           \n",
              "5 1.241678              1.196857              1.584717           \n",
              "6 1.204265              1.159456              1.432467           "
            ],
            "text/latex": "A Time Series: 6 × 3\n\\begin{tabular}{r|lll}\n  & sigma.gjrgarch.pred.a & sigma.gjrgarch.pred.b & sigma.gjrgarch.true\\\\\n\\hline\n\t1 & 1.461007 & 1.447525 & 2.088346\\\\\n\t2 & 1.392540 & 1.369662 & 2.095329\\\\\n\t3 & 1.355565 & 1.321506 & 1.875973\\\\\n\t4 & 1.298341 & 1.258856 & 1.746377\\\\\n\t5 & 1.241678 & 1.196857 & 1.584717\\\\\n\t6 & 1.204265 & 1.159456 & 1.432467\\\\\n\\end{tabular}\n",
            "text/markdown": "\nA Time Series: 6 × 3\n\n| <!--/--> | sigma.gjrgarch.pred.a | sigma.gjrgarch.pred.b | sigma.gjrgarch.true |\n|---|---|---|---|\n| 1 | 1.461007 | 1.447525 | 2.088346 |\n| 2 | 1.392540 | 1.369662 | 2.095329 |\n| 3 | 1.355565 | 1.321506 | 1.875973 |\n| 4 | 1.298341 | 1.258856 | 1.746377 |\n| 5 | 1.241678 | 1.196857 | 1.584717 |\n| 6 | 1.204265 | 1.159456 | 1.432467 |\n\n",
            "text/html": [
              "<table class=\"dataframe\">\n",
              "<caption>A Time Series: 6 × 3</caption>\n",
              "<thead>\n",
              "\t<tr><th></th><th scope=col>sigma.gjrgarch.pred.a</th><th scope=col>sigma.gjrgarch.pred.b</th><th scope=col>sigma.gjrgarch.true</th></tr>\n",
              "</thead>\n",
              "<tbody>\n",
              "\t<tr><th scope=row>1</th><td>1.461007</td><td>1.447525</td><td>2.088346</td></tr>\n",
              "\t<tr><th scope=row>2</th><td>1.392540</td><td>1.369662</td><td>2.095329</td></tr>\n",
              "\t<tr><th scope=row>3</th><td>1.355565</td><td>1.321506</td><td>1.875973</td></tr>\n",
              "\t<tr><th scope=row>4</th><td>1.298341</td><td>1.258856</td><td>1.746377</td></tr>\n",
              "\t<tr><th scope=row>5</th><td>1.241678</td><td>1.196857</td><td>1.584717</td></tr>\n",
              "\t<tr><th scope=row>6</th><td>1.204265</td><td>1.159456</td><td>1.432467</td></tr>\n",
              "</tbody>\n",
              "</table>\n"
            ]
          },
          "metadata": {
            "tags": []
          }
        }
      ]
    },
    {
      "cell_type": "markdown",
      "metadata": {
        "id": "bUYdP2aVfnV8"
      },
      "source": [
        "**Performance evaluation**"
      ],
      "id": "bUYdP2aVfnV8"
    },
    {
      "cell_type": "code",
      "metadata": {
        "colab": {
          "base_uri": "https://localhost:8080/",
          "height": 51
        },
        "id": "SsZQktM-fpou",
        "outputId": "e2e69c44-e8e2-42d9-e596-e607c87b469b"
      },
      "source": [
        "# Forecast Error - Forecast a\n",
        "gjrgarch.error.a <- sigma.gjrgarch[,'sigma.gjrgarch.pred.a'] - sigma.gjrgarch[,'sigma.gjrgarch.true']\n",
        "head(gjrgarch.error.a)"
      ],
      "id": "SsZQktM-fpou",
      "execution_count": 121,
      "outputs": [
        {
          "output_type": "display_data",
          "data": {
            "text/plain": [
              "A Time Series:\n",
              "[1] -0.6273395 -0.7027894 -0.5204076 -0.4480364 -0.3430391 -0.2282024"
            ],
            "text/latex": "A Time Series:\\\\\\begin{enumerate*}\n\\item -0.627339450388305\n\\item -0.702789352367284\n\\item -0.520407551932829\n\\item -0.448036357982417\n\\item -0.343039123473909\n\\item -0.228202428487265\n\\end{enumerate*}\n",
            "text/markdown": "A Time Series:  \n1. -0.627339450388305\n2. -0.702789352367284\n3. -0.520407551932829\n4. -0.448036357982417\n5. -0.343039123473909\n6. -0.228202428487265\n\n\n",
            "text/html": [
              "A Time Series:<br><style>\n",
              ".list-inline {list-style: none; margin:0; padding: 0}\n",
              ".list-inline>li {display: inline-block}\n",
              ".list-inline>li:not(:last-child)::after {content: \"\\00b7\"; padding: 0 .5ex}\n",
              "</style>\n",
              "<ol class=list-inline><li>-0.627339450388305</li><li>-0.702789352367284</li><li>-0.520407551932829</li><li>-0.448036357982417</li><li>-0.343039123473909</li><li>-0.228202428487265</li></ol>\n"
            ]
          },
          "metadata": {
            "tags": []
          }
        }
      ]
    },
    {
      "cell_type": "code",
      "metadata": {
        "colab": {
          "base_uri": "https://localhost:8080/",
          "height": 51
        },
        "id": "jBBozS2dfq74",
        "outputId": "0e0dc3ea-316d-42f4-f25e-abd93b7246e7"
      },
      "source": [
        "# Forecast Error - Forecast b\n",
        "gjrgarch.error.b <- sigma.gjrgarch[,'sigma.gjrgarch.pred.b'] - sigma.gjrgarch[,'sigma.gjrgarch.true']\n",
        "head(gjrgarch.error.b)"
      ],
      "id": "jBBozS2dfq74",
      "execution_count": 122,
      "outputs": [
        {
          "output_type": "display_data",
          "data": {
            "text/plain": [
              "A Time Series:\n",
              "[1] -0.6408211 -0.7256677 -0.5544674 -0.4875215 -0.3878602 -0.2730108"
            ],
            "text/latex": "A Time Series:\\\\\\begin{enumerate*}\n\\item -0.640821074610279\n\\item -0.725667715609692\n\\item -0.554467359063636\n\\item -0.487521512717352\n\\item -0.38786021582603\n\\item -0.273010836728301\n\\end{enumerate*}\n",
            "text/markdown": "A Time Series:  \n1. -0.640821074610279\n2. -0.725667715609692\n3. -0.554467359063636\n4. -0.487521512717352\n5. -0.38786021582603\n6. -0.273010836728301\n\n\n",
            "text/html": [
              "A Time Series:<br><style>\n",
              ".list-inline {list-style: none; margin:0; padding: 0}\n",
              ".list-inline>li {display: inline-block}\n",
              ".list-inline>li:not(:last-child)::after {content: \"\\00b7\"; padding: 0 .5ex}\n",
              "</style>\n",
              "<ol class=list-inline><li>-0.640821074610279</li><li>-0.725667715609692</li><li>-0.554467359063636</li><li>-0.487521512717352</li><li>-0.38786021582603</li><li>-0.273010836728301</li></ol>\n"
            ]
          },
          "metadata": {
            "tags": []
          }
        }
      ]
    },
    {
      "cell_type": "code",
      "metadata": {
        "colab": {
          "base_uri": "https://localhost:8080/",
          "height": 34
        },
        "id": "i2fN1KMjfsXn",
        "outputId": "e63e5cb9-9a0a-49fe-854d-e00ae691901f"
      },
      "source": [
        "# Mean Square Error Loss - Forecast a\n",
        "gjrgarch.mse.a <- MSE(sigma.gjrgarch[,'sigma.gjrgarch.pred.a'],\n",
        "                      sigma.gjrgarch[,'sigma.gjrgarch.true'])\n",
        "round(gjrgarch.mse.a, digits = 3)     "
      ],
      "id": "i2fN1KMjfsXn",
      "execution_count": 123,
      "outputs": [
        {
          "output_type": "display_data",
          "data": {
            "text/plain": [
              "[1] 2.147"
            ],
            "text/latex": "2.147",
            "text/markdown": "2.147",
            "text/html": [
              "2.147"
            ]
          },
          "metadata": {
            "tags": []
          }
        }
      ]
    },
    {
      "cell_type": "code",
      "metadata": {
        "colab": {
          "base_uri": "https://localhost:8080/",
          "height": 34
        },
        "id": "Lvt4jBa7ft6T",
        "outputId": "359468a7-8ee3-45cf-c7bb-c7b3eca6f374"
      },
      "source": [
        "# Mean Square Error Loss - Forecast b\n",
        "gjrgarch.mse.b <- MSE(sigma.gjrgarch[,'sigma.gjrgarch.pred.b'],\n",
        "                      sigma.gjrgarch[,'sigma.gjrgarch.true'])\n",
        "round(gjrgarch.mse.b, digits = 3) "
      ],
      "id": "Lvt4jBa7ft6T",
      "execution_count": 124,
      "outputs": [
        {
          "output_type": "display_data",
          "data": {
            "text/plain": [
              "[1] 2.132"
            ],
            "text/latex": "2.132",
            "text/markdown": "2.132",
            "text/html": [
              "2.132"
            ]
          },
          "metadata": {
            "tags": []
          }
        }
      ]
    },
    {
      "cell_type": "code",
      "metadata": {
        "colab": {
          "base_uri": "https://localhost:8080/",
          "height": 34
        },
        "id": "0F8MhYOFfveh",
        "outputId": "6674e609-19c6-4fd3-a573-ce4287f5e210"
      },
      "source": [
        "# Mean Absolute Error Loss - Forecast a\n",
        "gjrgarch.mae.a <- MAE(sigma.gjrgarch[,'sigma.gjrgarch.pred.a'],\n",
        "                      sigma.gjrgarch[,'sigma.gjrgarch.true'])\n",
        "round(gjrgarch.mae.a, digits = 3)"
      ],
      "id": "0F8MhYOFfveh",
      "execution_count": 125,
      "outputs": [
        {
          "output_type": "display_data",
          "data": {
            "text/plain": [
              "[1] 0.661"
            ],
            "text/latex": "0.661",
            "text/markdown": "0.661",
            "text/html": [
              "0.661"
            ]
          },
          "metadata": {
            "tags": []
          }
        }
      ]
    },
    {
      "cell_type": "code",
      "metadata": {
        "colab": {
          "base_uri": "https://localhost:8080/",
          "height": 34
        },
        "id": "jzHyH96NfxBJ",
        "outputId": "cf020da4-a714-4c48-cfe3-bbe3183a78b2"
      },
      "source": [
        "# Mean Absolute Error Loss - Forecast b\n",
        "gjrgarch.mae.b <- MAE(sigma.gjrgarch[,'sigma.gjrgarch.pred.b'],\n",
        "                      sigma.gjrgarch[,'sigma.gjrgarch.true'])\n",
        "round(gjrgarch.mae.b, digits = 3)"
      ],
      "id": "jzHyH96NfxBJ",
      "execution_count": 126,
      "outputs": [
        {
          "output_type": "display_data",
          "data": {
            "text/plain": [
              "[1] 0.661"
            ],
            "text/latex": "0.661",
            "text/markdown": "0.661",
            "text/html": [
              "0.661"
            ]
          },
          "metadata": {
            "tags": []
          }
        }
      ]
    },
    {
      "cell_type": "code",
      "metadata": {
        "colab": {
          "base_uri": "https://localhost:8080/",
          "height": 34
        },
        "id": "-h5RQeH-fyoY",
        "outputId": "16510aca-22fc-434e-cb65-ac7e9903b8e5"
      },
      "source": [
        "# Root Mean Square Error Loss - Forecast a\n",
        "gjrgarch.rmse.a <- RMSE(sigma.gjrgarch[,'sigma.gjrgarch.pred.a'],\n",
        "                        sigma.gjrgarch[,'sigma.gjrgarch.true'])\n",
        "round(gjrgarch.rmse.a, digits = 3)"
      ],
      "id": "-h5RQeH-fyoY",
      "execution_count": 127,
      "outputs": [
        {
          "output_type": "display_data",
          "data": {
            "text/plain": [
              "[1] 1.465"
            ],
            "text/latex": "1.465",
            "text/markdown": "1.465",
            "text/html": [
              "1.465"
            ]
          },
          "metadata": {
            "tags": []
          }
        }
      ]
    },
    {
      "cell_type": "code",
      "metadata": {
        "colab": {
          "base_uri": "https://localhost:8080/",
          "height": 34
        },
        "id": "CO0j4hDsf0d4",
        "outputId": "6e7f25e0-1e96-4318-adc0-e5824b0c4d52"
      },
      "source": [
        "# Root Mean Square Error Loss - Forecast b\n",
        "gjrgarch.rmse.b <- RMSE(sigma.gjrgarch[,'sigma.gjrgarch.pred.b'],\n",
        "                        sigma.gjrgarch[,'sigma.gjrgarch.true'])\n",
        "round(gjrgarch.rmse.b, digits = 3)"
      ],
      "id": "CO0j4hDsf0d4",
      "execution_count": 128,
      "outputs": [
        {
          "output_type": "display_data",
          "data": {
            "text/plain": [
              "[1] 1.46"
            ],
            "text/latex": "1.46",
            "text/markdown": "1.46",
            "text/html": [
              "1.46"
            ]
          },
          "metadata": {
            "tags": []
          }
        }
      ]
    },
    {
      "cell_type": "code",
      "metadata": {
        "colab": {
          "base_uri": "https://localhost:8080/",
          "height": 34
        },
        "id": "0izvA6naf2CT",
        "outputId": "c4b96907-5695-40ff-bce9-6c9aef5b93ae"
      },
      "source": [
        "# Quasi-likelihood loss function - forecast a\n",
        "h <- sigma.gjrgarch[,'sigma.gjrgarch.true']\n",
        "\n",
        "h.hat.a <- sigma.gjrgarch[,'sigma.gjrgarch.pred.a']     \n",
        "gjrgarch.qlike.a <- mean(log(sqrt(h)) + h.hat.a/sqrt(h))\n",
        "round(gjrgarch.qlike.a, digits = 5) "
      ],
      "id": "0izvA6naf2CT",
      "execution_count": 129,
      "outputs": [
        {
          "output_type": "display_data",
          "data": {
            "text/plain": [
              "[1] 1.17424"
            ],
            "text/latex": "1.17424",
            "text/markdown": "1.17424",
            "text/html": [
              "1.17424"
            ]
          },
          "metadata": {
            "tags": []
          }
        }
      ]
    },
    {
      "cell_type": "code",
      "metadata": {
        "colab": {
          "base_uri": "https://localhost:8080/",
          "height": 34
        },
        "id": "OkYbmGlgf4CE",
        "outputId": "b437aed1-bdd7-46a0-e07f-eb3e30367921"
      },
      "source": [
        "# Quasi-likelihood loss function - forecast b\n",
        "h.hat.b <- sigma.gjrgarch[,'sigma.gjrgarch.pred.b']\n",
        "gjrgarch.qlike.b <- mean(log(sqrt(h)) + h.hat.b/sqrt(h))\n",
        "round(gjrgarch.qlike.b, digits = 5) "
      ],
      "id": "OkYbmGlgf4CE",
      "execution_count": 130,
      "outputs": [
        {
          "output_type": "display_data",
          "data": {
            "text/plain": [
              "[1] 1.15625"
            ],
            "text/latex": "1.15625",
            "text/markdown": "1.15625",
            "text/html": [
              "1.15625"
            ]
          },
          "metadata": {
            "tags": []
          }
        }
      ]
    },
    {
      "cell_type": "code",
      "metadata": {
        "colab": {
          "base_uri": "https://localhost:8080/",
          "height": 119
        },
        "id": "rzS76jQef6U9",
        "outputId": "c0339773-6871-446e-f950-ab69600f0408"
      },
      "source": [
        "# Diebold-Mariano Test (accuracy test) - test 1\n",
        "f.a <- sigma.gjrgarch[,'sigma.gjrgarch.pred.a']\n",
        "f.b <- sigma.gjrgarch[,'sigma.gjrgarch.pred.b']\n",
        "y <- sigma.gjrgarch[,'sigma.gjrgarch.true']\n",
        "\n",
        "DM.test(f.a, f.b, y, loss.type = \"SE\", c = FALSE, H1 = \"same\")"
      ],
      "id": "rzS76jQef6U9",
      "execution_count": 131,
      "outputs": [
        {
          "output_type": "display_data",
          "data": {
            "text/plain": [
              "\n",
              "\tDiebold-Mariano test\n",
              "\n",
              "data:  f.a and f.b and y\n",
              "statistic = 1.8393, forecast horizon = 1, p-value = 0.06586\n",
              "alternative hypothesis: Forecast f1 and f2 have different accuracy.\n"
            ]
          },
          "metadata": {
            "tags": []
          }
        }
      ]
    },
    {
      "cell_type": "code",
      "metadata": {
        "colab": {
          "base_uri": "https://localhost:8080/",
          "height": 136
        },
        "id": "6Z5ZUPt9f78m",
        "outputId": "d23586dd-c7f2-474f-9765-f0674820df41"
      },
      "source": [
        "# Diebold-Mariano test for predictive accuracy - test 2\n",
        "e.a <- gjrgarch.error.a\n",
        "e.b <- gjrgarch.error.b\n",
        "\n",
        "dm.test(e.a, e.b, alternative = \"two.sided\", h = 1, power = 2)"
      ],
      "id": "6Z5ZUPt9f78m",
      "execution_count": 132,
      "outputs": [
        {
          "output_type": "display_data",
          "data": {
            "text/plain": [
              "\n",
              "\tDiebold-Mariano Test\n",
              "\n",
              "data:  e.ae.b\n",
              "DM = 1.8388, Forecast horizon = 1, Loss function power = 2, p-value =\n",
              "0.06614\n",
              "alternative hypothesis: two.sided\n"
            ]
          },
          "metadata": {
            "tags": []
          }
        }
      ]
    },
    {
      "cell_type": "code",
      "metadata": {
        "colab": {
          "base_uri": "https://localhost:8080/",
          "height": 34
        },
        "id": "VXp_bhCxf9j3",
        "outputId": "3035124c-126f-466f-f5f8-b207a889fcea"
      },
      "source": [
        "# Quasi-likelihood Loss Function For Volatility Forecasts - forecast a\n",
        "gjrgarch.qlike.a <- mean(LossVol(sigma.gjrgarch[,'sigma.gjrgarch.true'],\n",
        "                                 sigma.gjrgarch[,'sigma.gjrgarch.pred.a'],\n",
        "                                 which = \"QLIKE\"))\n",
        "round(gjrgarch.qlike.a, digits = 3)"
      ],
      "id": "VXp_bhCxf9j3",
      "execution_count": 133,
      "outputs": [
        {
          "output_type": "display_data",
          "data": {
            "text/plain": [
              "[1] 2.159"
            ],
            "text/latex": "2.159",
            "text/markdown": "2.159",
            "text/html": [
              "2.159"
            ]
          },
          "metadata": {
            "tags": []
          }
        }
      ]
    },
    {
      "cell_type": "code",
      "metadata": {
        "colab": {
          "base_uri": "https://localhost:8080/",
          "height": 34
        },
        "id": "rdnKVIIPhRw-",
        "outputId": "64a5f358-3d47-4972-c9de-8659ee70c4c9"
      },
      "source": [
        "# Quasi-likelihood Loss Function For Volatility Forecasts - forecast b\n",
        "gjrgarch.qlike.b <- mean(LossVol(sigma.gjrgarch[,'sigma.gjrgarch.true'],\n",
        "                                 sigma.gjrgarch[,'sigma.gjrgarch.pred.b'],\n",
        "                                 which = \"QLIKE\"))\n",
        "round(gjrgarch.qlike.b, digits = 3)"
      ],
      "id": "rdnKVIIPhRw-",
      "execution_count": 134,
      "outputs": [
        {
          "output_type": "display_data",
          "data": {
            "text/plain": [
              "[1] 2.153"
            ],
            "text/latex": "2.153",
            "text/markdown": "2.153",
            "text/html": [
              "2.153"
            ]
          },
          "metadata": {
            "tags": []
          }
        }
      ]
    },
    {
      "cell_type": "code",
      "metadata": {
        "colab": {
          "base_uri": "https://localhost:8080/",
          "height": 34
        },
        "id": "MS_N8LCMhTKg",
        "outputId": "02958bca-493c-4293-e04b-9515e505bd02"
      },
      "source": [
        "# Log loss / Cross-Entropy Loss -  forecast a\n",
        "gjrgarch.logloss.a <- LogLoss(sigma.gjrgarch[,'sigma.gjrgarch.pred.a'],\n",
        "                              sigma.gjrgarch[,'sigma.gjrgarch.true'])\n",
        "round(gjrgarch.logloss.a, digits = 3)"
      ],
      "id": "MS_N8LCMhTKg",
      "execution_count": 135,
      "outputs": [
        {
          "output_type": "display_data",
          "data": {
            "text/plain": [
              "[1] -30.156"
            ],
            "text/latex": "-30.156",
            "text/markdown": "-30.156",
            "text/html": [
              "-30.156"
            ]
          },
          "metadata": {
            "tags": []
          }
        }
      ]
    },
    {
      "cell_type": "code",
      "metadata": {
        "colab": {
          "base_uri": "https://localhost:8080/",
          "height": 34
        },
        "id": "5d2cFCtrhU8y",
        "outputId": "1d810f1a-cca8-47ec-c360-7b8cfcbadc0b"
      },
      "source": [
        "# Log loss / Cross-Entropy Loss -  forecast b\n",
        "gjrgarch.logloss.b <- LogLoss(sigma.gjrgarch[,'sigma.gjrgarch.pred.b'],\n",
        "                              sigma.gjrgarch[,'sigma.gjrgarch.true'])\n",
        "round(gjrgarch.logloss.b, digits = 3)"
      ],
      "id": "5d2cFCtrhU8y",
      "execution_count": 136,
      "outputs": [
        {
          "output_type": "display_data",
          "data": {
            "text/plain": [
              "[1] -30.159"
            ],
            "text/latex": "-30.159",
            "text/markdown": "-30.159",
            "text/html": [
              "-30.159"
            ]
          },
          "metadata": {
            "tags": []
          }
        }
      ]
    },
    {
      "cell_type": "code",
      "metadata": {
        "colab": {
          "base_uri": "https://localhost:8080/",
          "height": 170
        },
        "id": "b1gMzpGYhWtR",
        "outputId": "db9c7690-de87-4cc5-9cd8-8377994c8d1a"
      },
      "source": [
        "# Linear regression to assess forecast performance - forecast a\n",
        "gjrgarch.model.a <- lm(sigma.gjrgarch.true ~ sigma.gjrgarch.pred.a, \n",
        "                      data = sigma.gjrgarch)\n",
        "round(coeftest(gjrgarch.model.a, NeweyWest(gjrgarch.model.a,\n",
        "                                          lag = bwNeweyWest(gjrgarch.model.a),\n",
        "                                          prewhite = F)), 3)\n",
        "round(summary(gjrgarch.model.a)$adj.r.squared, 3)"
      ],
      "id": "b1gMzpGYhWtR",
      "execution_count": 137,
      "outputs": [
        {
          "output_type": "display_data",
          "data": {
            "text/plain": [
              "\n",
              "t test of coefficients:\n",
              "\n",
              "                      Estimate Std. Error t value  Pr(>|t|)    \n",
              "(Intercept)             -2.587      0.220 -11.764 < 2.2e-16 ***\n",
              "sigma.gjrgarch.pred.a    3.485      0.192  18.170 < 2.2e-16 ***\n",
              "---\n",
              "Signif. codes:  0 ‘***’ 0.001 ‘**’ 0.01 ‘*’ 0.05 ‘.’ 0.1 ‘ ’ 1\n"
            ]
          },
          "metadata": {
            "tags": []
          }
        },
        {
          "output_type": "display_data",
          "data": {
            "text/plain": [
              "[1] 0.883"
            ],
            "text/latex": "0.883",
            "text/markdown": "0.883",
            "text/html": [
              "0.883"
            ]
          },
          "metadata": {
            "tags": []
          }
        }
      ]
    },
    {
      "cell_type": "code",
      "metadata": {
        "colab": {
          "base_uri": "https://localhost:8080/",
          "height": 170
        },
        "id": "tBYTx0AqhYC8",
        "outputId": "89769595-ad1a-41c8-e194-18eae56b1088"
      },
      "source": [
        "# Linear regression to assess forecast performance - forecast b\n",
        "gjrgarch.model.b <- lm(sigma.gjrgarch.true ~ sigma.gjrgarch.pred.b, \n",
        "                      data = sigma.gjrgarch)\n",
        "round(coeftest(gjrgarch.model.b, NeweyWest(gjrgarch.model.b,\n",
        "                                          lag = bwNeweyWest(gjrgarch.model.b),\n",
        "                                          prewhite = F)), 3)\n",
        "round(summary(gjrgarch.model.b)$adj.r.squared, 3)"
      ],
      "id": "tBYTx0AqhYC8",
      "execution_count": 138,
      "outputs": [
        {
          "output_type": "display_data",
          "data": {
            "text/plain": [
              "\n",
              "t test of coefficients:\n",
              "\n",
              "                      Estimate Std. Error t value  Pr(>|t|)    \n",
              "(Intercept)             -2.371      0.217 -10.948 < 2.2e-16 ***\n",
              "sigma.gjrgarch.pred.b    3.358      0.194  17.320 < 2.2e-16 ***\n",
              "---\n",
              "Signif. codes:  0 ‘***’ 0.001 ‘**’ 0.01 ‘*’ 0.05 ‘.’ 0.1 ‘ ’ 1\n"
            ]
          },
          "metadata": {
            "tags": []
          }
        },
        {
          "output_type": "display_data",
          "data": {
            "text/plain": [
              "[1] 0.877"
            ],
            "text/latex": "0.877",
            "text/markdown": "0.877",
            "text/html": [
              "0.877"
            ]
          },
          "metadata": {
            "tags": []
          }
        }
      ]
    },
    {
      "cell_type": "markdown",
      "metadata": {
        "id": "hBtX1JYCb3s3"
      },
      "source": [
        "#11. Forecast - Realized GARCH models"
      ],
      "id": "hBtX1JYCb3s3"
    },
    {
      "cell_type": "markdown",
      "metadata": {
        "id": "UIwlmS2LcHzI"
      },
      "source": [
        "##(a) Realized Linear GARCH"
      ],
      "id": "UIwlmS2LcHzI"
    },
    {
      "cell_type": "markdown",
      "metadata": {
        "id": "m1Lwk0WVrwGP"
      },
      "source": [
        "**Forecast**"
      ],
      "id": "m1Lwk0WVrwGP"
    },
    {
      "cell_type": "code",
      "metadata": {
        "id": "qz6geGd9cb1b"
      },
      "source": [
        "# Model specification\n",
        "realgarch.spec.pred <- realgarch.spec\n",
        "setfixed(realgarch.spec.pred) <- as.list(coef(realgarch.fit))"
      ],
      "id": "qz6geGd9cb1b",
      "execution_count": 139,
      "outputs": []
    },
    {
      "cell_type": "code",
      "metadata": {
        "id": "dmFRUuGzdBgQ"
      },
      "source": [
        "# Model adjustment\n",
        "realgarch.fit.pred <- ugarchfit(realgarch.spec,\n",
        "                                N225.df$N225.Return,\n",
        "                                out.sample = dim(N225.df.out)[1],\n",
        "                                solver = 'hybrid',\n",
        "                                realizedVol = N225.df$N225.VolGARCH)"
      ],
      "id": "dmFRUuGzdBgQ",
      "execution_count": 140,
      "outputs": []
    },
    {
      "cell_type": "code",
      "metadata": {
        "id": "uAyVSHF0eBkR"
      },
      "source": [
        "# Forecast calculated through adjustment\n",
        "realgarch.pred.a <- ugarchforecast(realgarch.fit.pred,\n",
        "                                   n.ahead = 1,\n",
        "                                   n.roll = dim(N225.df.out)[1])\n",
        "\n",
        "realgarch.forecast.a <- xts(sigma(realgarch.pred.a)[1,],\n",
        "                            move(as.Date(names(sigma(realgarch.pred.a)[1,])), by = 1))"
      ],
      "id": "uAyVSHF0eBkR",
      "execution_count": 141,
      "outputs": []
    },
    {
      "cell_type": "code",
      "metadata": {
        "id": "GpWgFuK_eVgR"
      },
      "source": [
        "# Forecast calculated using specification\n",
        "realgarch.pred.b <- ugarchforecast(realgarch.spec.pred, \n",
        "                                   n.ahead = 1, \n",
        "                                   n.roll = dim(N225.df.out)[1], \n",
        "                                   data = N225.df$N225.Return, \n",
        "                                   out.sample = dim(N225.df.out)[1], \n",
        "                                   realizedVol = N225.df$N225.VolRealGARCH)\n",
        "\n",
        "realgarch.forecast.b <- xts(sigma(realgarch.pred.b)[1,],\n",
        "                            move(as.Date(names(sigma(realgarch.pred.b)[1,])), by = 1))"
      ],
      "id": "GpWgFuK_eVgR",
      "execution_count": 142,
      "outputs": []
    },
    {
      "cell_type": "code",
      "metadata": {
        "id": "t-BKfrn_fXib"
      },
      "source": [
        "# Model filtering\n",
        "realgarch.filt.pred <- ugarchfilter(realgarch.spec.pred,\n",
        "                                    data = N225.df$N225.Return,\n",
        "                                    n.old = nrow(N225.df) - dim(N225.df.out)[1],\n",
        "                                    realizedVol = N225.df$N225.VolRealGARCH)\n",
        "\n",
        "realgarch.filt <- tail(sigma(realgarch.filt.pred), dim(N225.df.out)[1])"
      ],
      "id": "t-BKfrn_fXib",
      "execution_count": 143,
      "outputs": []
    },
    {
      "cell_type": "code",
      "metadata": {
        "colab": {
          "base_uri": "https://localhost:8080/",
          "height": 136
        },
        "id": "etKihjvFoDCY",
        "outputId": "37f7f9d8-f8de-4aec-f62d-9189dd32e741"
      },
      "source": [
        "# Comparative\n",
        "colnames(realgarch.filt) <- 'filter'\n",
        "colnames(realgarch.forecast.a) <- 'forecast1'\n",
        "colnames(realgarch.forecast.b) <- 'forecast2'\n",
        "\n",
        "realgarch.ftest <- cbind(realgarch.filt,\n",
        "                        realgarch.forecast.a,\n",
        "                        realgarch.forecast.b)\n",
        "head(round(realgarch.ftest, digits = 4))"
      ],
      "id": "etKihjvFoDCY",
      "execution_count": 144,
      "outputs": [
        {
          "output_type": "display_data",
          "data": {
            "text/plain": [
              "           filter forecast1 forecast2\n",
              "2014-12-19 1.3738    1.2888    1.3539\n",
              "2014-12-22 1.3180    1.4147    1.2956\n",
              "2014-12-24 1.4422    1.5256    1.4175\n",
              "2014-12-25 1.5573    1.4515    1.5365\n",
              "2014-12-26 1.4843    1.4280    1.4605\n",
              "2014-12-29 1.4580    1.3623    1.4289"
            ]
          },
          "metadata": {
            "tags": []
          }
        }
      ]
    },
    {
      "cell_type": "code",
      "metadata": {
        "colab": {
          "base_uri": "https://localhost:8080/",
          "height": 252
        },
        "id": "PLZ71If2oR7-",
        "outputId": "3bc74327-3639-43eb-eaf9-c16bf347e0ce"
      },
      "source": [
        "sigma.realgarch.pred.a <- ts(realgarch.forecast.a[-1,])\n",
        "sigma.realgarch.pred.b <- ts(realgarch.forecast.b[-1,])\n",
        "sigma.realgarch.true <- ts(N225.df.out$N225.VolRealGARCH)\n",
        "\n",
        "sigma.realgarch <- na.omit(cbind(sigma.realgarch.pred.a,\n",
        "                                sigma.realgarch.pred.b,\n",
        "                                sigma.realgarch.true))\n",
        "head(sigma.realgarch)"
      ],
      "id": "PLZ71If2oR7-",
      "execution_count": 145,
      "outputs": [
        {
          "output_type": "display_data",
          "data": {
            "text/plain": [
              "  sigma.realgarch.pred.a sigma.realgarch.pred.b sigma.realgarch.true\n",
              "1 1.414707               1.295562               1.697446            \n",
              "2 1.525628               1.417546               2.060737            \n",
              "3 1.451468               1.536451               2.418003            \n",
              "4 1.427953               1.460517               2.175166            \n",
              "5 1.362278               1.428876               2.098138            \n",
              "6 1.293628               1.367339               1.895127            "
            ],
            "text/latex": "A Time Series: 6 × 3\n\\begin{tabular}{r|lll}\n  & sigma.realgarch.pred.a & sigma.realgarch.pred.b & sigma.realgarch.true\\\\\n\\hline\n\t1 & 1.414707 & 1.295562 & 1.697446\\\\\n\t2 & 1.525628 & 1.417546 & 2.060737\\\\\n\t3 & 1.451468 & 1.536451 & 2.418003\\\\\n\t4 & 1.427953 & 1.460517 & 2.175166\\\\\n\t5 & 1.362278 & 1.428876 & 2.098138\\\\\n\t6 & 1.293628 & 1.367339 & 1.895127\\\\\n\\end{tabular}\n",
            "text/markdown": "\nA Time Series: 6 × 3\n\n| <!--/--> | sigma.realgarch.pred.a | sigma.realgarch.pred.b | sigma.realgarch.true |\n|---|---|---|---|\n| 1 | 1.414707 | 1.295562 | 1.697446 |\n| 2 | 1.525628 | 1.417546 | 2.060737 |\n| 3 | 1.451468 | 1.536451 | 2.418003 |\n| 4 | 1.427953 | 1.460517 | 2.175166 |\n| 5 | 1.362278 | 1.428876 | 2.098138 |\n| 6 | 1.293628 | 1.367339 | 1.895127 |\n\n",
            "text/html": [
              "<table class=\"dataframe\">\n",
              "<caption>A Time Series: 6 × 3</caption>\n",
              "<thead>\n",
              "\t<tr><th></th><th scope=col>sigma.realgarch.pred.a</th><th scope=col>sigma.realgarch.pred.b</th><th scope=col>sigma.realgarch.true</th></tr>\n",
              "</thead>\n",
              "<tbody>\n",
              "\t<tr><th scope=row>1</th><td>1.414707</td><td>1.295562</td><td>1.697446</td></tr>\n",
              "\t<tr><th scope=row>2</th><td>1.525628</td><td>1.417546</td><td>2.060737</td></tr>\n",
              "\t<tr><th scope=row>3</th><td>1.451468</td><td>1.536451</td><td>2.418003</td></tr>\n",
              "\t<tr><th scope=row>4</th><td>1.427953</td><td>1.460517</td><td>2.175166</td></tr>\n",
              "\t<tr><th scope=row>5</th><td>1.362278</td><td>1.428876</td><td>2.098138</td></tr>\n",
              "\t<tr><th scope=row>6</th><td>1.293628</td><td>1.367339</td><td>1.895127</td></tr>\n",
              "</tbody>\n",
              "</table>\n"
            ]
          },
          "metadata": {
            "tags": []
          }
        }
      ]
    },
    {
      "cell_type": "markdown",
      "metadata": {
        "id": "FC4yfA9tog9z"
      },
      "source": [
        "**Performance evaluation**"
      ],
      "id": "FC4yfA9tog9z"
    },
    {
      "cell_type": "code",
      "metadata": {
        "colab": {
          "base_uri": "https://localhost:8080/",
          "height": 51
        },
        "id": "8F-5qQlPojtX",
        "outputId": "d2a59dfa-2e1e-4a56-9c2d-cc8919d7d710"
      },
      "source": [
        "# Forecast Error - Forecast a\n",
        "realgarch.error.a <- sigma.realgarch[,'sigma.realgarch.pred.a'] - sigma.realgarch[,'sigma.realgarch.true']\n",
        "head(realgarch.error.a)"
      ],
      "id": "8F-5qQlPojtX",
      "execution_count": 146,
      "outputs": [
        {
          "output_type": "display_data",
          "data": {
            "text/plain": [
              "A Time Series:\n",
              "[1] -0.2827396 -0.5351091 -0.9665349 -0.7472129 -0.7358597 -0.6014990"
            ],
            "text/latex": "A Time Series:\\\\\\begin{enumerate*}\n\\item -0.282739626713482\n\\item -0.535109121514804\n\\item -0.966534879388771\n\\item -0.747212949068987\n\\item -0.735859709985448\n\\item -0.601499009092059\n\\end{enumerate*}\n",
            "text/markdown": "A Time Series:  \n1. -0.282739626713482\n2. -0.535109121514804\n3. -0.966534879388771\n4. -0.747212949068987\n5. -0.735859709985448\n6. -0.601499009092059\n\n\n",
            "text/html": [
              "A Time Series:<br><style>\n",
              ".list-inline {list-style: none; margin:0; padding: 0}\n",
              ".list-inline>li {display: inline-block}\n",
              ".list-inline>li:not(:last-child)::after {content: \"\\00b7\"; padding: 0 .5ex}\n",
              "</style>\n",
              "<ol class=list-inline><li>-0.282739626713482</li><li>-0.535109121514804</li><li>-0.966534879388771</li><li>-0.747212949068987</li><li>-0.735859709985448</li><li>-0.601499009092059</li></ol>\n"
            ]
          },
          "metadata": {
            "tags": []
          }
        }
      ]
    },
    {
      "cell_type": "code",
      "metadata": {
        "colab": {
          "base_uri": "https://localhost:8080/",
          "height": 51
        },
        "id": "PiJYuUxiotkL",
        "outputId": "1a2a8f8e-c37c-4124-93a7-acb9e74cf106"
      },
      "source": [
        "# Forecast Error - Forecast b\n",
        "realgarch.error.b <- sigma.realgarch[,'sigma.realgarch.pred.b'] - sigma.realgarch[,'sigma.realgarch.true']\n",
        "head(realgarch.error.b)"
      ],
      "id": "PiJYuUxiotkL",
      "execution_count": 147,
      "outputs": [
        {
          "output_type": "display_data",
          "data": {
            "text/plain": [
              "A Time Series:\n",
              "[1] -0.4018843 -0.6431910 -0.8815516 -0.7146495 -0.6692620 -0.5277884"
            ],
            "text/latex": "A Time Series:\\\\\\begin{enumerate*}\n\\item -0.401884296810562\n\\item -0.643191035923376\n\\item -0.881551593875167\n\\item -0.71464949522559\n\\item -0.669261953675207\n\\item -0.527788443406482\n\\end{enumerate*}\n",
            "text/markdown": "A Time Series:  \n1. -0.401884296810562\n2. -0.643191035923376\n3. -0.881551593875167\n4. -0.71464949522559\n5. -0.669261953675207\n6. -0.527788443406482\n\n\n",
            "text/html": [
              "A Time Series:<br><style>\n",
              ".list-inline {list-style: none; margin:0; padding: 0}\n",
              ".list-inline>li {display: inline-block}\n",
              ".list-inline>li:not(:last-child)::after {content: \"\\00b7\"; padding: 0 .5ex}\n",
              "</style>\n",
              "<ol class=list-inline><li>-0.401884296810562</li><li>-0.643191035923376</li><li>-0.881551593875167</li><li>-0.71464949522559</li><li>-0.669261953675207</li><li>-0.527788443406482</li></ol>\n"
            ]
          },
          "metadata": {
            "tags": []
          }
        }
      ]
    },
    {
      "cell_type": "code",
      "metadata": {
        "colab": {
          "base_uri": "https://localhost:8080/",
          "height": 34
        },
        "id": "vbAvOFpLo0nu",
        "outputId": "556bdf76-3b8a-4b2b-88ae-91fe95af6a66"
      },
      "source": [
        "# Mean Square Error Loss - Forecast a\n",
        "realgarch.mse.a <- MSE(sigma.realgarch[,'sigma.realgarch.pred.a'],\n",
        "                      sigma.realgarch[,'sigma.realgarch.true'])\n",
        "round(realgarch.mse.a, digits = 3)"
      ],
      "id": "vbAvOFpLo0nu",
      "execution_count": 148,
      "outputs": [
        {
          "output_type": "display_data",
          "data": {
            "text/plain": [
              "[1] 1.848"
            ],
            "text/latex": "1.848",
            "text/markdown": "1.848",
            "text/html": [
              "1.848"
            ]
          },
          "metadata": {
            "tags": []
          }
        }
      ]
    },
    {
      "cell_type": "code",
      "metadata": {
        "colab": {
          "base_uri": "https://localhost:8080/",
          "height": 34
        },
        "id": "NYOMn_1jpBuo",
        "outputId": "849265e9-e59e-40b7-f8c5-b1165be94eb1"
      },
      "source": [
        "# Mean Square Error Loss - Forecast b\n",
        "realgarch.mse.b <- MSE(sigma.realgarch[,'sigma.realgarch.pred.b'],\n",
        "                      sigma.realgarch[,'sigma.realgarch.true'])\n",
        "round(realgarch.mse.b, digits = 3)"
      ],
      "id": "NYOMn_1jpBuo",
      "execution_count": 149,
      "outputs": [
        {
          "output_type": "display_data",
          "data": {
            "text/plain": [
              "[1] 1.846"
            ],
            "text/latex": "1.846",
            "text/markdown": "1.846",
            "text/html": [
              "1.846"
            ]
          },
          "metadata": {
            "tags": []
          }
        }
      ]
    },
    {
      "cell_type": "code",
      "metadata": {
        "colab": {
          "base_uri": "https://localhost:8080/",
          "height": 34
        },
        "id": "5gtUpAD3pLBL",
        "outputId": "d775e791-907e-4807-d37b-892718cc3edd"
      },
      "source": [
        "# Mean Absolute Error Loss - Forecast a\n",
        "realgarch.mae.a <- MAE(sigma.realgarch[,'sigma.realgarch.pred.a'],\n",
        "                      sigma.realgarch[,'sigma.realgarch.true'])\n",
        "round(realgarch.mae.a, digits = 3)"
      ],
      "id": "5gtUpAD3pLBL",
      "execution_count": 150,
      "outputs": [
        {
          "output_type": "display_data",
          "data": {
            "text/plain": [
              "[1] 0.626"
            ],
            "text/latex": "0.626",
            "text/markdown": "0.626",
            "text/html": [
              "0.626"
            ]
          },
          "metadata": {
            "tags": []
          }
        }
      ]
    },
    {
      "cell_type": "code",
      "metadata": {
        "colab": {
          "base_uri": "https://localhost:8080/",
          "height": 34
        },
        "id": "vHqwSRt4psVv",
        "outputId": "bcd6733c-87db-4ee6-e834-8f57b589dd9a"
      },
      "source": [
        "# Mean Absolute Error Loss - Forecast b\n",
        "realgarch.mae.b <- MAE(sigma.realgarch[,'sigma.realgarch.pred.b'],\n",
        "                      sigma.realgarch[,'sigma.realgarch.true'])\n",
        "round(realgarch.mae.b, digits = 3)"
      ],
      "id": "vHqwSRt4psVv",
      "execution_count": 151,
      "outputs": [
        {
          "output_type": "display_data",
          "data": {
            "text/plain": [
              "[1] 0.615"
            ],
            "text/latex": "0.615",
            "text/markdown": "0.615",
            "text/html": [
              "0.615"
            ]
          },
          "metadata": {
            "tags": []
          }
        }
      ]
    },
    {
      "cell_type": "code",
      "metadata": {
        "colab": {
          "base_uri": "https://localhost:8080/",
          "height": 34
        },
        "id": "zAncFWD3p1UQ",
        "outputId": "59a8dc2b-6ab1-467a-f266-4d102a646e54"
      },
      "source": [
        "# Root Mean Square Error Loss - Forecast a\n",
        "realgarch.rmse.a <- RMSE(sigma.realgarch[,'sigma.realgarch.pred.a'],\n",
        "                        sigma.realgarch[,'sigma.realgarch.true'])\n",
        "round(realgarch.rmse.a, digits = 3)"
      ],
      "id": "zAncFWD3p1UQ",
      "execution_count": 152,
      "outputs": [
        {
          "output_type": "display_data",
          "data": {
            "text/plain": [
              "[1] 1.359"
            ],
            "text/latex": "1.359",
            "text/markdown": "1.359",
            "text/html": [
              "1.359"
            ]
          },
          "metadata": {
            "tags": []
          }
        }
      ]
    },
    {
      "cell_type": "code",
      "metadata": {
        "colab": {
          "base_uri": "https://localhost:8080/",
          "height": 34
        },
        "id": "YUT2DAgbp_Hh",
        "outputId": "fc1bca1e-4bfc-440d-d583-f6b169480fc0"
      },
      "source": [
        "# Root Mean Square Error Loss - Forecast b\n",
        "realgarch.rmse.b <- RMSE(sigma.realgarch[,'sigma.realgarch.pred.b'],\n",
        "                        sigma.realgarch[,'sigma.realgarch.true'])\n",
        "round(realgarch.rmse.b, digits = 3)"
      ],
      "id": "YUT2DAgbp_Hh",
      "execution_count": 153,
      "outputs": [
        {
          "output_type": "display_data",
          "data": {
            "text/plain": [
              "[1] 1.359"
            ],
            "text/latex": "1.359",
            "text/markdown": "1.359",
            "text/html": [
              "1.359"
            ]
          },
          "metadata": {
            "tags": []
          }
        }
      ]
    },
    {
      "cell_type": "code",
      "metadata": {
        "colab": {
          "base_uri": "https://localhost:8080/",
          "height": 34
        },
        "id": "7NgsSo1NqGeb",
        "outputId": "969e4588-972d-41cd-b7e7-29af99205bc1"
      },
      "source": [
        "# Quasi-likelihood loss function - forecast a\n",
        "h <- sigma.realgarch[,'sigma.realgarch.true']\n",
        "\n",
        "h.hat.a <- sigma.realgarch[,'sigma.realgarch.pred.a']     \n",
        "realgarch.qlike.a <- mean(log(sqrt(h)) + h.hat.a/sqrt(h))\n",
        "round(realgarch.qlike.a, digits = 5)"
      ],
      "id": "7NgsSo1NqGeb",
      "execution_count": 154,
      "outputs": [
        {
          "output_type": "display_data",
          "data": {
            "text/plain": [
              "[1] 1.16033"
            ],
            "text/latex": "1.16033",
            "text/markdown": "1.16033",
            "text/html": [
              "1.16033"
            ]
          },
          "metadata": {
            "tags": []
          }
        }
      ]
    },
    {
      "cell_type": "code",
      "metadata": {
        "id": "iW1lc37WqRWB",
        "colab": {
          "base_uri": "https://localhost:8080/",
          "height": 34
        },
        "outputId": "d963087a-ea48-4264-d4f2-67b12d8b7b73"
      },
      "source": [
        "# Quasi-likelihood loss function - forecast b\n",
        "h.hat.b <- sigma.realgarch[,'sigma.realgarch.pred.b']\n",
        "realgarch.qlike.b <- mean(log(sqrt(h)) + h.hat.b/sqrt(h))\n",
        "round(realgarch.qlike.b, digits = 5)"
      ],
      "id": "iW1lc37WqRWB",
      "execution_count": 155,
      "outputs": [
        {
          "output_type": "display_data",
          "data": {
            "text/plain": [
              "[1] 1.17029"
            ],
            "text/latex": "1.17029",
            "text/markdown": "1.17029",
            "text/html": [
              "1.17029"
            ]
          },
          "metadata": {
            "tags": []
          }
        }
      ]
    },
    {
      "cell_type": "code",
      "metadata": {
        "colab": {
          "base_uri": "https://localhost:8080/",
          "height": 119
        },
        "id": "8pJzz3NkLbR_",
        "outputId": "93f58206-5148-45bc-ba95-41da1208d1f1"
      },
      "source": [
        "# Diebold-Mariano Test (accuracy test) - test 1\n",
        "f.a <- sigma.realgarch[,'sigma.realgarch.pred.a']\n",
        "f.b <- sigma.realgarch[,'sigma.realgarch.pred.b']\n",
        "y <- sigma.realgarch[,'sigma.realgarch.true']\n",
        "\n",
        "DM.test(f.a, f.b, y, loss.type = \"SE\", c = FALSE, H1 = \"same\")"
      ],
      "id": "8pJzz3NkLbR_",
      "execution_count": 156,
      "outputs": [
        {
          "output_type": "display_data",
          "data": {
            "text/plain": [
              "\n",
              "\tDiebold-Mariano test\n",
              "\n",
              "data:  f.a and f.b and y\n",
              "statistic = 0.21367, forecast horizon = 1, p-value = 0.8308\n",
              "alternative hypothesis: Forecast f1 and f2 have different accuracy.\n"
            ]
          },
          "metadata": {
            "tags": []
          }
        }
      ]
    },
    {
      "cell_type": "code",
      "metadata": {
        "colab": {
          "base_uri": "https://localhost:8080/",
          "height": 136
        },
        "id": "xQq1f2KCLlQm",
        "outputId": "e05a02c2-453f-43ad-c892-acb0080610f9"
      },
      "source": [
        "# Diebold-Mariano test for predictive accuracy - test 2\n",
        "e.a <- realgarch.error.a\n",
        "e.b <- realgarch.error.b\n",
        "\n",
        "dm.test(e.a, e.b, alternative = \"two.sided\", h = 1, power = 2)"
      ],
      "id": "xQq1f2KCLlQm",
      "execution_count": 157,
      "outputs": [
        {
          "output_type": "display_data",
          "data": {
            "text/plain": [
              "\n",
              "\tDiebold-Mariano Test\n",
              "\n",
              "data:  e.ae.b\n",
              "DM = 0.2136, Forecast horizon = 1, Loss function power = 2, p-value =\n",
              "0.8309\n",
              "alternative hypothesis: two.sided\n"
            ]
          },
          "metadata": {
            "tags": []
          }
        }
      ]
    },
    {
      "cell_type": "code",
      "metadata": {
        "colab": {
          "base_uri": "https://localhost:8080/",
          "height": 34
        },
        "id": "jY7kH1DsLu0F",
        "outputId": "f1365b3d-8f31-4765-f795-021aa5e8eafd"
      },
      "source": [
        "# Quasi-likelihood Loss Function For Volatility Forecasts - forecast a\n",
        "realgarch.qlike.a <- mean(LossVol(sigma.realgarch[,'sigma.realgarch.true'],\n",
        "                                  sigma.realgarch[,'sigma.realgarch.pred.a'],\n",
        "                                  which = \"QLIKE\"))\n",
        "round(realgarch.qlike.a, digits = 3)"
      ],
      "id": "jY7kH1DsLu0F",
      "execution_count": 158,
      "outputs": [
        {
          "output_type": "display_data",
          "data": {
            "text/plain": [
              "[1] 2.194"
            ],
            "text/latex": "2.194",
            "text/markdown": "2.194",
            "text/html": [
              "2.194"
            ]
          },
          "metadata": {
            "tags": []
          }
        }
      ]
    },
    {
      "cell_type": "code",
      "metadata": {
        "colab": {
          "base_uri": "https://localhost:8080/",
          "height": 34
        },
        "id": "q27uEsBQL7Qv",
        "outputId": "f375526a-07ce-4f7c-80d7-593c3ba68080"
      },
      "source": [
        "# Quasi-likelihood Loss Function For Volatility Forecasts - forecast b\n",
        "realgarch.qlike.b <- mean(LossVol(sigma.realgarch[,'sigma.realgarch.true'],\n",
        "                                  sigma.realgarch[,'sigma.realgarch.pred.b'],\n",
        "                                  which = \"QLIKE\"))\n",
        "round(realgarch.qlike.b, digits = 3)"
      ],
      "id": "q27uEsBQL7Qv",
      "execution_count": 159,
      "outputs": [
        {
          "output_type": "display_data",
          "data": {
            "text/plain": [
              "[1] 2.176"
            ],
            "text/latex": "2.176",
            "text/markdown": "2.176",
            "text/html": [
              "2.176"
            ]
          },
          "metadata": {
            "tags": []
          }
        }
      ]
    },
    {
      "cell_type": "code",
      "metadata": {
        "colab": {
          "base_uri": "https://localhost:8080/",
          "height": 34
        },
        "id": "TMTJMS8Irbu-",
        "outputId": "e6079a83-f2d7-4f98-dbb8-74970bcf52a5"
      },
      "source": [
        "# Log loss / Cross-Entropy Loss -  forecast a\n",
        "realgarch.logloss.a <- LogLoss(sigma.realgarch[,'sigma.realgarch.pred.a'],\n",
        "                              sigma.realgarch[,'sigma.realgarch.true'])\n",
        "round(realgarch.logloss.a, digits = 3)"
      ],
      "id": "TMTJMS8Irbu-",
      "execution_count": 160,
      "outputs": [
        {
          "output_type": "display_data",
          "data": {
            "text/plain": [
              "[1] -29.308"
            ],
            "text/latex": "-29.308",
            "text/markdown": "-29.308",
            "text/html": [
              "-29.308"
            ]
          },
          "metadata": {
            "tags": []
          }
        }
      ]
    },
    {
      "cell_type": "code",
      "metadata": {
        "colab": {
          "base_uri": "https://localhost:8080/",
          "height": 34
        },
        "id": "YZMTB5ofrd7X",
        "outputId": "345ff795-8791-466d-c234-e8f82a70d087"
      },
      "source": [
        "# Log loss / Cross-Entropy Loss -  forecast b\n",
        "realgarch.logloss.b <- LogLoss(sigma.realgarch[,'sigma.realgarch.pred.b'],\n",
        "                              sigma.realgarch[,'sigma.realgarch.true'])\n",
        "round(realgarch.logloss.b, digits = 3)"
      ],
      "id": "YZMTB5ofrd7X",
      "execution_count": 161,
      "outputs": [
        {
          "output_type": "display_data",
          "data": {
            "text/plain": [
              "[1] -29.508"
            ],
            "text/latex": "-29.508",
            "text/markdown": "-29.508",
            "text/html": [
              "-29.508"
            ]
          },
          "metadata": {
            "tags": []
          }
        }
      ]
    },
    {
      "cell_type": "code",
      "metadata": {
        "colab": {
          "base_uri": "https://localhost:8080/",
          "height": 170
        },
        "id": "JEMT__yorfjp",
        "outputId": "63c985c6-0bfd-4f2f-be97-c05e48a5c2f9"
      },
      "source": [
        "# Linear regression to assess forecast performance - forecast a\n",
        "realgarch.model.a <- lm(sigma.realgarch.true ~ sigma.realgarch.pred.a,\n",
        "                        data = sigma.realgarch)\n",
        "round(coeftest(realgarch.model.a, NeweyWest(realgarch.model.a,\n",
        "                                            lag = bwNeweyWest(realgarch.model.a),\n",
        "                                            prewhite = F)), 3)\n",
        "round(summary(realgarch.model.a)$adj.r.squared, 3)"
      ],
      "id": "JEMT__yorfjp",
      "execution_count": 162,
      "outputs": [
        {
          "output_type": "display_data",
          "data": {
            "text/plain": [
              "\n",
              "t test of coefficients:\n",
              "\n",
              "                       Estimate Std. Error t value  Pr(>|t|)    \n",
              "(Intercept)              -2.439      0.235 -10.382 < 2.2e-16 ***\n",
              "sigma.realgarch.pred.a    3.422      0.207  16.551 < 2.2e-16 ***\n",
              "---\n",
              "Signif. codes:  0 ‘***’ 0.001 ‘**’ 0.01 ‘*’ 0.05 ‘.’ 0.1 ‘ ’ 1\n"
            ]
          },
          "metadata": {
            "tags": []
          }
        },
        {
          "output_type": "display_data",
          "data": {
            "text/plain": [
              "[1] 0.898"
            ],
            "text/latex": "0.898",
            "text/markdown": "0.898",
            "text/html": [
              "0.898"
            ]
          },
          "metadata": {
            "tags": []
          }
        }
      ]
    },
    {
      "cell_type": "code",
      "metadata": {
        "colab": {
          "base_uri": "https://localhost:8080/",
          "height": 170
        },
        "id": "ldQCcTrrrhmc",
        "outputId": "b70ccca2-3fc9-40c3-ae00-31a7d802fc85"
      },
      "source": [
        "# Linear regression to assess forecast performance - forecast b\n",
        "realgarch.model.b <- lm(sigma.realgarch.true ~ sigma.realgarch.pred.b,\n",
        "                        data = sigma.realgarch)\n",
        "round(coeftest(realgarch.model.b, NeweyWest(realgarch.model.b,\n",
        "                                            lag = bwNeweyWest(realgarch.model.b),\n",
        "                                            prewhite = F)), 3)\n",
        "round(summary(realgarch.model.b)$adj.r.squared, 3)"
      ],
      "id": "ldQCcTrrrhmc",
      "execution_count": 163,
      "outputs": [
        {
          "output_type": "display_data",
          "data": {
            "text/plain": [
              "\n",
              "t test of coefficients:\n",
              "\n",
              "                       Estimate Std. Error t value  Pr(>|t|)    \n",
              "(Intercept)              -2.770      0.272 -10.170 < 2.2e-16 ***\n",
              "sigma.realgarch.pred.b    3.661      0.234  15.678 < 2.2e-16 ***\n",
              "---\n",
              "Signif. codes:  0 ‘***’ 0.001 ‘**’ 0.01 ‘*’ 0.05 ‘.’ 0.1 ‘ ’ 1\n"
            ]
          },
          "metadata": {
            "tags": []
          }
        },
        {
          "output_type": "display_data",
          "data": {
            "text/plain": [
              "[1] 0.943"
            ],
            "text/latex": "0.943",
            "text/markdown": "0.943",
            "text/html": [
              "0.943"
            ]
          },
          "metadata": {
            "tags": []
          }
        }
      ]
    },
    {
      "cell_type": "markdown",
      "metadata": {
        "id": "OuZavxA4cLrP"
      },
      "source": [
        "##(b) Realized EGARCH"
      ],
      "id": "OuZavxA4cLrP"
    },
    {
      "cell_type": "markdown",
      "metadata": {
        "id": "4sUcOAaFrz2G"
      },
      "source": [
        "**Forecast**"
      ],
      "id": "4sUcOAaFrz2G"
    },
    {
      "cell_type": "code",
      "metadata": {
        "id": "dCRNQymVi604"
      },
      "source": [
        "# Model specification\n",
        "realegarch.spec.pred <- realgarch.spec\n",
        "setfixed(realegarch.spec.pred) <- as.list(coef(realegarch.fit))"
      ],
      "id": "dCRNQymVi604",
      "execution_count": 164,
      "outputs": []
    },
    {
      "cell_type": "code",
      "metadata": {
        "id": "r2ZbX0BnqqNz"
      },
      "source": [
        "# Model adjustment\n",
        "realegarch.fit.pred <- ugarchfit(realgarch.spec,\n",
        "                                 N225.df$N225.Return,\n",
        "                                 out.sample = dim(N225.df.out)[1],\n",
        "                                 solver = 'hybrid',\n",
        "                                 realizedVol = N225.df$N225.VolEGARCH)"
      ],
      "id": "r2ZbX0BnqqNz",
      "execution_count": 165,
      "outputs": []
    },
    {
      "cell_type": "code",
      "metadata": {
        "id": "BMElDW_Jq3NC"
      },
      "source": [
        "# Forecast calculated through adjustment\n",
        "realegarch.pred.a <- ugarchforecast(realegarch.fit.pred,\n",
        "                                    n.ahead = 1,\n",
        "                                    n.roll = dim(N225.df.out)[1])\n",
        "\n",
        "realegarch.forecast.a <- xts(sigma(realegarch.pred.a)[1,],\n",
        "                             move(as.Date(names(sigma(realegarch.pred.a)[1,])), by = 1))"
      ],
      "id": "BMElDW_Jq3NC",
      "execution_count": 166,
      "outputs": []
    },
    {
      "cell_type": "code",
      "metadata": {
        "id": "sVpye2IHq__O"
      },
      "source": [
        "# Forecast calculated using specification\n",
        "realegarch.pred.b <- ugarchforecast(realegarch.spec.pred, \n",
        "                                   n.ahead = 1, \n",
        "                                   n.roll = dim(N225.df.out)[1], \n",
        "                                   data = N225.df$N225.Return, \n",
        "                                   out.sample = dim(N225.df.out)[1], \n",
        "                                   realizedVol = N225.df$N225.VolRealEGARCH)\n",
        "\n",
        "realegarch.forecast.b <- xts(sigma(realegarch.pred.b)[1,],\n",
        "                             move(as.Date(names(sigma(realegarch.pred.b)[1,])), by = 1))"
      ],
      "id": "sVpye2IHq__O",
      "execution_count": 167,
      "outputs": []
    },
    {
      "cell_type": "code",
      "metadata": {
        "id": "ippLtx4arSw6"
      },
      "source": [
        "# Model filtering\n",
        "realegarch.filt.pred <- ugarchfilter(realegarch.spec.pred,\n",
        "                                     data = N225.df$N225.Return,\n",
        "                                     n.old = nrow(N225.df) - dim(N225.df.out)[1],\n",
        "                                     realizedVol = N225.df$N225.VolRealEGARCH)\n",
        "\n",
        "realegarch.filt <- tail(sigma(realegarch.filt.pred), dim(N225.df.out)[1])"
      ],
      "id": "ippLtx4arSw6",
      "execution_count": 168,
      "outputs": []
    },
    {
      "cell_type": "code",
      "metadata": {
        "colab": {
          "base_uri": "https://localhost:8080/",
          "height": 136
        },
        "id": "-mfEos63rZUt",
        "outputId": "f1985bdd-0983-4c47-e9ed-250eff082dd3"
      },
      "source": [
        "# Comparative\n",
        "colnames(realegarch.filt) <- 'filter'\n",
        "colnames(realegarch.forecast.a) <- 'forecast1'\n",
        "colnames(realegarch.forecast.b) <- 'forecast2'\n",
        "\n",
        "realegarch.ftest <- cbind(realegarch.filt,\n",
        "                         realegarch.forecast.a,\n",
        "                         realegarch.forecast.b)\n",
        "head(round(realegarch.ftest, digits = 4))"
      ],
      "id": "-mfEos63rZUt",
      "execution_count": 169,
      "outputs": [
        {
          "output_type": "display_data",
          "data": {
            "text/plain": [
              "           filter forecast1 forecast2\n",
              "2014-12-19 1.5817    1.4856    1.5816\n",
              "2014-12-22 1.4992    1.4661    1.4805\n",
              "2014-12-24 1.4843    1.4587    1.4803\n",
              "2014-12-25 1.4783    1.3599    1.4752\n",
              "2014-12-26 1.3809    1.3181    1.3769\n",
              "2014-12-29 1.3340    1.2608    1.3270"
            ]
          },
          "metadata": {
            "tags": []
          }
        }
      ]
    },
    {
      "cell_type": "code",
      "metadata": {
        "colab": {
          "base_uri": "https://localhost:8080/",
          "height": 252
        },
        "id": "ZQXrOuN3rgS6",
        "outputId": "7003cd3a-8f1c-43ee-b056-0e7ed0566ce5"
      },
      "source": [
        "sigma.realegarch.pred.a <- ts(realegarch.forecast.a[-1,])\n",
        "sigma.realegarch.pred.b <- ts(realegarch.forecast.b[-1,])\n",
        "sigma.realegarch.true <- ts(N225.df.out$N225.VolRealEGARCH)\n",
        "\n",
        "sigma.realegarch <- na.omit(cbind(sigma.realegarch.pred.a,\n",
        "                                 sigma.realegarch.pred.b,\n",
        "                                 sigma.realegarch.true))\n",
        "head(sigma.realegarch)"
      ],
      "id": "ZQXrOuN3rgS6",
      "execution_count": 170,
      "outputs": [
        {
          "output_type": "display_data",
          "data": {
            "text/plain": [
              "  sigma.realegarch.pred.a sigma.realegarch.pred.b sigma.realegarch.true\n",
              "1 1.466054                1.480482                2.218516             \n",
              "2 1.458695                1.480300                2.180908             \n",
              "3 1.359899                1.475246                2.163882             \n",
              "4 1.318053                1.376895                1.872724             \n",
              "5 1.260790                1.326981                1.749232             \n",
              "6 1.178652                1.267844                1.601789             "
            ],
            "text/latex": "A Time Series: 6 × 3\n\\begin{tabular}{r|lll}\n  & sigma.realegarch.pred.a & sigma.realegarch.pred.b & sigma.realegarch.true\\\\\n\\hline\n\t1 & 1.466054 & 1.480482 & 2.218516\\\\\n\t2 & 1.458695 & 1.480300 & 2.180908\\\\\n\t3 & 1.359899 & 1.475246 & 2.163882\\\\\n\t4 & 1.318053 & 1.376895 & 1.872724\\\\\n\t5 & 1.260790 & 1.326981 & 1.749232\\\\\n\t6 & 1.178652 & 1.267844 & 1.601789\\\\\n\\end{tabular}\n",
            "text/markdown": "\nA Time Series: 6 × 3\n\n| <!--/--> | sigma.realegarch.pred.a | sigma.realegarch.pred.b | sigma.realegarch.true |\n|---|---|---|---|\n| 1 | 1.466054 | 1.480482 | 2.218516 |\n| 2 | 1.458695 | 1.480300 | 2.180908 |\n| 3 | 1.359899 | 1.475246 | 2.163882 |\n| 4 | 1.318053 | 1.376895 | 1.872724 |\n| 5 | 1.260790 | 1.326981 | 1.749232 |\n| 6 | 1.178652 | 1.267844 | 1.601789 |\n\n",
            "text/html": [
              "<table class=\"dataframe\">\n",
              "<caption>A Time Series: 6 × 3</caption>\n",
              "<thead>\n",
              "\t<tr><th></th><th scope=col>sigma.realegarch.pred.a</th><th scope=col>sigma.realegarch.pred.b</th><th scope=col>sigma.realegarch.true</th></tr>\n",
              "</thead>\n",
              "<tbody>\n",
              "\t<tr><th scope=row>1</th><td>1.466054</td><td>1.480482</td><td>2.218516</td></tr>\n",
              "\t<tr><th scope=row>2</th><td>1.458695</td><td>1.480300</td><td>2.180908</td></tr>\n",
              "\t<tr><th scope=row>3</th><td>1.359899</td><td>1.475246</td><td>2.163882</td></tr>\n",
              "\t<tr><th scope=row>4</th><td>1.318053</td><td>1.376895</td><td>1.872724</td></tr>\n",
              "\t<tr><th scope=row>5</th><td>1.260790</td><td>1.326981</td><td>1.749232</td></tr>\n",
              "\t<tr><th scope=row>6</th><td>1.178652</td><td>1.267844</td><td>1.601789</td></tr>\n",
              "</tbody>\n",
              "</table>\n"
            ]
          },
          "metadata": {
            "tags": []
          }
        }
      ]
    },
    {
      "cell_type": "markdown",
      "metadata": {
        "id": "khFocUVZroGF"
      },
      "source": [
        "**Performance evaluation**"
      ],
      "id": "khFocUVZroGF"
    },
    {
      "cell_type": "code",
      "metadata": {
        "colab": {
          "base_uri": "https://localhost:8080/",
          "height": 51
        },
        "id": "e_JT3VHqrnxH",
        "outputId": "c4cb9d98-4a28-4a60-eb43-75825175f592"
      },
      "source": [
        "# Forecast Error - Forecast a\n",
        "realegarch.error.a <- sigma.realegarch[,'sigma.realegarch.pred.a'] - sigma.realegarch[,'sigma.realegarch.true']\n",
        "head(realegarch.error.a)"
      ],
      "id": "e_JT3VHqrnxH",
      "execution_count": 171,
      "outputs": [
        {
          "output_type": "display_data",
          "data": {
            "text/plain": [
              "A Time Series:\n",
              "[1] -0.7524619 -0.7222129 -0.8039834 -0.5546708 -0.4884422 -0.4231372"
            ],
            "text/latex": "A Time Series:\\\\\\begin{enumerate*}\n\\item -0.752461945583821\n\\item -0.722212855656098\n\\item -0.803983364854432\n\\item -0.554670844925274\n\\item -0.488442193104261\n\\item -0.423137218348641\n\\end{enumerate*}\n",
            "text/markdown": "A Time Series:  \n1. -0.752461945583821\n2. -0.722212855656098\n3. -0.803983364854432\n4. -0.554670844925274\n5. -0.488442193104261\n6. -0.423137218348641\n\n\n",
            "text/html": [
              "A Time Series:<br><style>\n",
              ".list-inline {list-style: none; margin:0; padding: 0}\n",
              ".list-inline>li {display: inline-block}\n",
              ".list-inline>li:not(:last-child)::after {content: \"\\00b7\"; padding: 0 .5ex}\n",
              "</style>\n",
              "<ol class=list-inline><li>-0.752461945583821</li><li>-0.722212855656098</li><li>-0.803983364854432</li><li>-0.554670844925274</li><li>-0.488442193104261</li><li>-0.423137218348641</li></ol>\n"
            ]
          },
          "metadata": {
            "tags": []
          }
        }
      ]
    },
    {
      "cell_type": "code",
      "metadata": {
        "colab": {
          "base_uri": "https://localhost:8080/",
          "height": 51
        },
        "id": "-9waGeC7r-AZ",
        "outputId": "41167fd1-66b9-4759-b994-87537d721bb4"
      },
      "source": [
        "# Forecast Error - Forecast b\n",
        "realegarch.error.b <- sigma.realegarch[,'sigma.realegarch.pred.b'] - sigma.realegarch[,'sigma.realegarch.true']\n",
        "head(realegarch.error.b)"
      ],
      "id": "-9waGeC7r-AZ",
      "execution_count": 172,
      "outputs": [
        {
          "output_type": "display_data",
          "data": {
            "text/plain": [
              "A Time Series:\n",
              "[1] -0.7380340 -0.7006078 -0.6886368 -0.4958287 -0.4222513 -0.3339453"
            ],
            "text/latex": "A Time Series:\\\\\\begin{enumerate*}\n\\item -0.738034019811841\n\\item -0.700607818972721\n\\item -0.688636806128484\n\\item -0.495828679988137\n\\item -0.422251283144762\n\\item -0.333945299499707\n\\end{enumerate*}\n",
            "text/markdown": "A Time Series:  \n1. -0.738034019811841\n2. -0.700607818972721\n3. -0.688636806128484\n4. -0.495828679988137\n5. -0.422251283144762\n6. -0.333945299499707\n\n\n",
            "text/html": [
              "A Time Series:<br><style>\n",
              ".list-inline {list-style: none; margin:0; padding: 0}\n",
              ".list-inline>li {display: inline-block}\n",
              ".list-inline>li:not(:last-child)::after {content: \"\\00b7\"; padding: 0 .5ex}\n",
              "</style>\n",
              "<ol class=list-inline><li>-0.738034019811841</li><li>-0.700607818972721</li><li>-0.688636806128484</li><li>-0.495828679988137</li><li>-0.422251283144762</li><li>-0.333945299499707</li></ol>\n"
            ]
          },
          "metadata": {
            "tags": []
          }
        }
      ]
    },
    {
      "cell_type": "code",
      "metadata": {
        "colab": {
          "base_uri": "https://localhost:8080/",
          "height": 34
        },
        "id": "PiBrYKy6sEhq",
        "outputId": "2a442982-6718-410a-e07a-677cb6fbb8a9"
      },
      "source": [
        "# Mean Square Error Loss - Forecast a\n",
        "realegarch.mse.a <- MSE(sigma.realegarch[,'sigma.realegarch.pred.a'],\n",
        "                        sigma.realegarch[,'sigma.realegarch.true'])\n",
        "round(realegarch.mse.a, digits = 3)"
      ],
      "id": "PiBrYKy6sEhq",
      "execution_count": 173,
      "outputs": [
        {
          "output_type": "display_data",
          "data": {
            "text/plain": [
              "[1] 1.397"
            ],
            "text/latex": "1.397",
            "text/markdown": "1.397",
            "text/html": [
              "1.397"
            ]
          },
          "metadata": {
            "tags": []
          }
        }
      ]
    },
    {
      "cell_type": "code",
      "metadata": {
        "colab": {
          "base_uri": "https://localhost:8080/",
          "height": 34
        },
        "id": "SnAzzICNsRN9",
        "outputId": "c49d9dd8-d5b3-45b0-8220-3fcf63280164"
      },
      "source": [
        "# Mean Square Error Loss - Forecast b\n",
        "realegarch.mse.b <- MSE(sigma.realegarch[,'sigma.realegarch.pred.b'],\n",
        "                        sigma.realegarch[,'sigma.realegarch.true'])\n",
        "round(realegarch.mse.b, digits = 3)"
      ],
      "id": "SnAzzICNsRN9",
      "execution_count": 174,
      "outputs": [
        {
          "output_type": "display_data",
          "data": {
            "text/plain": [
              "[1] 1.359"
            ],
            "text/latex": "1.359",
            "text/markdown": "1.359",
            "text/html": [
              "1.359"
            ]
          },
          "metadata": {
            "tags": []
          }
        }
      ]
    },
    {
      "cell_type": "code",
      "metadata": {
        "colab": {
          "base_uri": "https://localhost:8080/",
          "height": 34
        },
        "id": "8Gzrc_9ZsVuk",
        "outputId": "f0439e6e-15be-4259-c692-02626880c15f"
      },
      "source": [
        "# Mean Absolute Error Loss - Forecast a\n",
        "realegarch.mae.a <- MAE(sigma.realegarch[,'sigma.realegarch.pred.a'],\n",
        "                        sigma.realegarch[,'sigma.realegarch.true'])\n",
        "round(realegarch.mae.a, digits = 3)"
      ],
      "id": "8Gzrc_9ZsVuk",
      "execution_count": 175,
      "outputs": [
        {
          "output_type": "display_data",
          "data": {
            "text/plain": [
              "[1] 0.585"
            ],
            "text/latex": "0.585",
            "text/markdown": "0.585",
            "text/html": [
              "0.585"
            ]
          },
          "metadata": {
            "tags": []
          }
        }
      ]
    },
    {
      "cell_type": "code",
      "metadata": {
        "colab": {
          "base_uri": "https://localhost:8080/",
          "height": 34
        },
        "id": "Cz721K6JsbCN",
        "outputId": "09fd6a39-4a3f-4b58-d53b-d9028a6f8e41"
      },
      "source": [
        "# Mean Absolute Error Loss - Forecast b\n",
        "realegarch.mae.b <- MAE(sigma.realegarch[,'sigma.realegarch.pred.b'],\n",
        "                        sigma.realegarch[,'sigma.realegarch.true'])\n",
        "round(realegarch.mae.b, digits = 3)"
      ],
      "id": "Cz721K6JsbCN",
      "execution_count": 176,
      "outputs": [
        {
          "output_type": "display_data",
          "data": {
            "text/plain": [
              "[1] 0.569"
            ],
            "text/latex": "0.569",
            "text/markdown": "0.569",
            "text/html": [
              "0.569"
            ]
          },
          "metadata": {
            "tags": []
          }
        }
      ]
    },
    {
      "cell_type": "code",
      "metadata": {
        "colab": {
          "base_uri": "https://localhost:8080/",
          "height": 34
        },
        "id": "9Eb94SMosgnv",
        "outputId": "e7ebb347-a83c-4af8-e3ba-c14e1bc32d80"
      },
      "source": [
        "# Root Mean Square Error Loss - Forecast a\n",
        "realegarch.rmse.a <- RMSE(sigma.realegarch[,'sigma.realegarch.pred.a'],\n",
        "                          sigma.realegarch[,'sigma.realegarch.true'])\n",
        "round(realegarch.rmse.a, digits = 3)"
      ],
      "id": "9Eb94SMosgnv",
      "execution_count": 177,
      "outputs": [
        {
          "output_type": "display_data",
          "data": {
            "text/plain": [
              "[1] 1.182"
            ],
            "text/latex": "1.182",
            "text/markdown": "1.182",
            "text/html": [
              "1.182"
            ]
          },
          "metadata": {
            "tags": []
          }
        }
      ]
    },
    {
      "cell_type": "code",
      "metadata": {
        "colab": {
          "base_uri": "https://localhost:8080/",
          "height": 34
        },
        "id": "Prmb2aDFsnt3",
        "outputId": "84e8d910-3874-432f-e388-513b44d9fc0a"
      },
      "source": [
        "# Root Mean Square Error Loss - Forecast b\n",
        "realegarch.rmse.b <- RMSE(sigma.realegarch[,'sigma.realegarch.pred.b'],\n",
        "                         sigma.realegarch[,'sigma.realegarch.true'])\n",
        "round(realegarch.rmse.b, digits = 3)"
      ],
      "id": "Prmb2aDFsnt3",
      "execution_count": 178,
      "outputs": [
        {
          "output_type": "display_data",
          "data": {
            "text/plain": [
              "[1] 1.166"
            ],
            "text/latex": "1.166",
            "text/markdown": "1.166",
            "text/html": [
              "1.166"
            ]
          },
          "metadata": {
            "tags": []
          }
        }
      ]
    },
    {
      "cell_type": "code",
      "metadata": {
        "colab": {
          "base_uri": "https://localhost:8080/",
          "height": 34
        },
        "id": "0xvoZRpRst8e",
        "outputId": "81711a54-82b6-40da-f2a3-ad47e0c16d2c"
      },
      "source": [
        "# Quasi-likelihood loss function - forecast a\n",
        "h <- sigma.realegarch[,'sigma.realegarch.true']\n",
        "\n",
        "h.hat.a <- sigma.realegarch[,'sigma.realegarch.pred.a']     \n",
        "realegarch.qlike.a <- mean(log(sqrt(h)) + h.hat.a/sqrt(h))\n",
        "round(realegarch.qlike.a, digits = 5)"
      ],
      "id": "0xvoZRpRst8e",
      "execution_count": 179,
      "outputs": [
        {
          "output_type": "display_data",
          "data": {
            "text/plain": [
              "[1] 1.14102"
            ],
            "text/latex": "1.14102",
            "text/markdown": "1.14102",
            "text/html": [
              "1.14102"
            ]
          },
          "metadata": {
            "tags": []
          }
        }
      ]
    },
    {
      "cell_type": "code",
      "metadata": {
        "colab": {
          "base_uri": "https://localhost:8080/",
          "height": 34
        },
        "id": "bjmoDbwHsy07",
        "outputId": "5b19e3c0-2eda-4119-fcd2-a97b37c8b9ba"
      },
      "source": [
        "# Quasi-likelihood loss function - forecast b\n",
        "h.hat.b <- sigma.realegarch[,'sigma.realegarch.pred.b']\n",
        "realegarch.qlike.b <- mean(log(sqrt(h)) + h.hat.b/sqrt(h))\n",
        "round(realegarch.qlike.b, digits = 5)"
      ],
      "id": "bjmoDbwHsy07",
      "execution_count": 180,
      "outputs": [
        {
          "output_type": "display_data",
          "data": {
            "text/plain": [
              "[1] 1.14635"
            ],
            "text/latex": "1.14635",
            "text/markdown": "1.14635",
            "text/html": [
              "1.14635"
            ]
          },
          "metadata": {
            "tags": []
          }
        }
      ]
    },
    {
      "cell_type": "code",
      "metadata": {
        "colab": {
          "base_uri": "https://localhost:8080/",
          "height": 119
        },
        "id": "pNX4j9UpM2Xp",
        "outputId": "de561abc-c560-4825-b886-2fa7a5d77fdf"
      },
      "source": [
        "# Diebold-Mariano Test (accuracy test) - test 1\n",
        "f.a <- sigma.realegarch[,'sigma.realegarch.pred.a']\n",
        "f.b <- sigma.realegarch[,'sigma.realegarch.pred.b']\n",
        "y <- sigma.realegarch[,'sigma.realegarch.true']\n",
        "\n",
        "DM.test(f.a, f.b, y, loss.type = \"SE\", c = FALSE, H1 = \"same\")"
      ],
      "id": "pNX4j9UpM2Xp",
      "execution_count": 181,
      "outputs": [
        {
          "output_type": "display_data",
          "data": {
            "text/plain": [
              "\n",
              "\tDiebold-Mariano test\n",
              "\n",
              "data:  f.a and f.b and y\n",
              "statistic = 3.3816, forecast horizon = 1, p-value = 0.0007205\n",
              "alternative hypothesis: Forecast f1 and f2 have different accuracy.\n"
            ]
          },
          "metadata": {
            "tags": []
          }
        }
      ]
    },
    {
      "cell_type": "code",
      "metadata": {
        "colab": {
          "base_uri": "https://localhost:8080/",
          "height": 136
        },
        "id": "rZuiAzulM5bV",
        "outputId": "271dcf63-e801-4aaa-afa8-b0ef94c0d38a"
      },
      "source": [
        "# Diebold-Mariano test for predictive accuracy - test 2\n",
        "e.a <- realegarch.error.a\n",
        "e.b <- realegarch.error.b\n",
        "\n",
        "dm.test(e.a, e.b, alternative = \"two.sided\", h = 1, power = 2)"
      ],
      "id": "rZuiAzulM5bV",
      "execution_count": 182,
      "outputs": [
        {
          "output_type": "display_data",
          "data": {
            "text/plain": [
              "\n",
              "\tDiebold-Mariano Test\n",
              "\n",
              "data:  e.ae.b\n",
              "DM = 3.3806, Forecast horizon = 1, Loss function power = 2, p-value =\n",
              "0.0007411\n",
              "alternative hypothesis: two.sided\n"
            ]
          },
          "metadata": {
            "tags": []
          }
        }
      ]
    },
    {
      "cell_type": "code",
      "metadata": {
        "colab": {
          "base_uri": "https://localhost:8080/",
          "height": 34
        },
        "id": "V1jfC8jiM7CV",
        "outputId": "8a44d4bd-2929-4023-9446-34d814f0f840"
      },
      "source": [
        "# Quasi-likelihood Loss Function For Volatility Forecasts - forecast a\n",
        "realegarch.qlike.a <- mean(LossVol(sigma.realegarch[,'sigma.realegarch.true'],\n",
        "                                  sigma.realegarch[,'sigma.realegarch.pred.a'],\n",
        "                                  which = \"QLIKE\"))\n",
        "round(realegarch.qlike.a, digits = 3)"
      ],
      "id": "V1jfC8jiM7CV",
      "execution_count": 183,
      "outputs": [
        {
          "output_type": "display_data",
          "data": {
            "text/plain": [
              "[1] 2.034"
            ],
            "text/latex": "2.034",
            "text/markdown": "2.034",
            "text/html": [
              "2.034"
            ]
          },
          "metadata": {
            "tags": []
          }
        }
      ]
    },
    {
      "cell_type": "code",
      "metadata": {
        "colab": {
          "base_uri": "https://localhost:8080/",
          "height": 34
        },
        "id": "zC1g4re5M9KZ",
        "outputId": "080bc33b-af90-463b-e1db-e6d170dc1ab7"
      },
      "source": [
        "# Quasi-likelihood Loss Function For Volatility Forecasts - forecast 1b\n",
        "realegarch.qlike.b <- mean(LossVol(sigma.realegarch[,'sigma.realegarch.true'],\n",
        "                                  sigma.realegarch[,'sigma.realegarch.pred.b'],\n",
        "                                  which = \"QLIKE\"))\n",
        "round(realegarch.qlike.b, digits = 3)"
      ],
      "id": "zC1g4re5M9KZ",
      "execution_count": 184,
      "outputs": [
        {
          "output_type": "display_data",
          "data": {
            "text/plain": [
              "[1] 1.994"
            ],
            "text/latex": "1.994",
            "text/markdown": "1.994",
            "text/html": [
              "1.994"
            ]
          },
          "metadata": {
            "tags": []
          }
        }
      ]
    },
    {
      "cell_type": "code",
      "metadata": {
        "colab": {
          "base_uri": "https://localhost:8080/",
          "height": 34
        },
        "id": "jGHSBt6Fs20A",
        "outputId": "90e50797-26f4-4813-dc12-c9fb59a53b6e"
      },
      "source": [
        "# Log loss / Cross-Entropy Loss -  forecast a\n",
        "realegarch.logloss.a <- LogLoss(sigma.realegarch[,'sigma.realegarch.pred.a'],\n",
        "                                sigma.realegarch[,'sigma.realegarch.true'])\n",
        "round(realegarch.logloss.a, digits = 3)"
      ],
      "id": "jGHSBt6Fs20A",
      "execution_count": 185,
      "outputs": [
        {
          "output_type": "display_data",
          "data": {
            "text/plain": [
              "[1] -27.062"
            ],
            "text/latex": "-27.062",
            "text/markdown": "-27.062",
            "text/html": [
              "-27.062"
            ]
          },
          "metadata": {
            "tags": []
          }
        }
      ]
    },
    {
      "cell_type": "code",
      "metadata": {
        "colab": {
          "base_uri": "https://localhost:8080/",
          "height": 34
        },
        "id": "Xz953tWks75m",
        "outputId": "9ac8adae-c0ca-4b0c-89c7-908afd3c3da2"
      },
      "source": [
        "# Log loss / Cross-Entropy Loss -  forecast b\n",
        "realegarch.logloss.b <- LogLoss(sigma.realegarch[,'sigma.realegarch.pred.b'],\n",
        "                               sigma.realegarch[,'sigma.realegarch.true'])\n",
        "round(realegarch.logloss.b, digits = 3)"
      ],
      "id": "Xz953tWks75m",
      "execution_count": 186,
      "outputs": [
        {
          "output_type": "display_data",
          "data": {
            "text/plain": [
              "[1] -27.229"
            ],
            "text/latex": "-27.229",
            "text/markdown": "-27.229",
            "text/html": [
              "-27.229"
            ]
          },
          "metadata": {
            "tags": []
          }
        }
      ]
    },
    {
      "cell_type": "code",
      "metadata": {
        "colab": {
          "base_uri": "https://localhost:8080/",
          "height": 170
        },
        "id": "nDEjjWYytA3n",
        "outputId": "a71f0c52-508b-4b51-80e1-60ddf2842c3f"
      },
      "source": [
        "# Linear regression to assess forecast performance - forecast a\n",
        "realegarch.model.a <- lm(sigma.realegarch.true ~ sigma.realegarch.pred.a,\n",
        "                          data = sigma.realegarch)\n",
        "round(coeftest(realegarch.model.a, NeweyWest(realegarch.model.a,\n",
        "                                            lag = bwNeweyWest(realegarch.model.a),\n",
        "                                            prewhite = F)), 3)\n",
        "round(summary(realegarch.model.a)$adj.r.squared, 3)"
      ],
      "id": "nDEjjWYytA3n",
      "execution_count": 187,
      "outputs": [
        {
          "output_type": "display_data",
          "data": {
            "text/plain": [
              "\n",
              "t test of coefficients:\n",
              "\n",
              "                        Estimate Std. Error t value  Pr(>|t|)    \n",
              "(Intercept)               -2.104      0.197 -10.682 < 2.2e-16 ***\n",
              "sigma.realegarch.pred.a    3.129      0.178  17.624 < 2.2e-16 ***\n",
              "---\n",
              "Signif. codes:  0 ‘***’ 0.001 ‘**’ 0.01 ‘*’ 0.05 ‘.’ 0.1 ‘ ’ 1\n"
            ]
          },
          "metadata": {
            "tags": []
          }
        },
        {
          "output_type": "display_data",
          "data": {
            "text/plain": [
              "[1] 0.885"
            ],
            "text/latex": "0.885",
            "text/markdown": "0.885",
            "text/html": [
              "0.885"
            ]
          },
          "metadata": {
            "tags": []
          }
        }
      ]
    },
    {
      "cell_type": "code",
      "metadata": {
        "colab": {
          "base_uri": "https://localhost:8080/",
          "height": 170
        },
        "id": "pBwia3SptNNd",
        "outputId": "1a70b642-7624-41c8-cd3e-d8c75d51df55"
      },
      "source": [
        "# Linear regression to assess forecast performance - forecast b\n",
        "realegarch.model.b <- lm(sigma.realegarch.true ~ sigma.realegarch.pred.b,\n",
        "                         data = sigma.realegarch)\n",
        "round(coeftest(realegarch.model.b, NeweyWest(realegarch.model.b,\n",
        "                                             lag = bwNeweyWest(realegarch.model.b),\n",
        "                                             prewhite = F)), 3)\n",
        "round(summary(realegarch.model.b)$adj.r.squared, 3)"
      ],
      "id": "pBwia3SptNNd",
      "execution_count": 188,
      "outputs": [
        {
          "output_type": "display_data",
          "data": {
            "text/plain": [
              "\n",
              "t test of coefficients:\n",
              "\n",
              "                        Estimate Std. Error t value  Pr(>|t|)    \n",
              "(Intercept)               -2.313      0.177 -13.040 < 2.2e-16 ***\n",
              "sigma.realegarch.pred.b    3.279      0.156  21.014 < 2.2e-16 ***\n",
              "---\n",
              "Signif. codes:  0 ‘***’ 0.001 ‘**’ 0.01 ‘*’ 0.05 ‘.’ 0.1 ‘ ’ 1\n"
            ]
          },
          "metadata": {
            "tags": []
          }
        },
        {
          "output_type": "display_data",
          "data": {
            "text/plain": [
              "[1] 0.946"
            ],
            "text/latex": "0.946",
            "text/markdown": "0.946",
            "text/html": [
              "0.946"
            ]
          },
          "metadata": {
            "tags": []
          }
        }
      ]
    },
    {
      "cell_type": "markdown",
      "metadata": {
        "id": "F09WUjYGcRlC"
      },
      "source": [
        "##(c) Realized GJR-GARCH"
      ],
      "id": "F09WUjYGcRlC"
    },
    {
      "cell_type": "markdown",
      "metadata": {
        "id": "qnRKcOcCta7o"
      },
      "source": [
        "**Forecast**"
      ],
      "id": "qnRKcOcCta7o"
    },
    {
      "cell_type": "code",
      "metadata": {
        "id": "Fqt19JCftdbE"
      },
      "source": [
        "# Model specification\n",
        "realgjrgarch.spec.pred <- realgarch.spec\n",
        "setfixed(realgjrgarch.spec.pred) <- as.list(coef(realgjrgarch.fit))"
      ],
      "id": "Fqt19JCftdbE",
      "execution_count": 189,
      "outputs": []
    },
    {
      "cell_type": "code",
      "metadata": {
        "id": "qXP7fhgBte5t"
      },
      "source": [
        "# Model adjustment\n",
        "realgjrgarch.fit.pred <- ugarchfit(realgarch.spec,\n",
        "                                  N225.df$N225.Return,\n",
        "                                  out.sample = dim(N225.df.out)[1],\n",
        "                                  solver = 'hybrid',\n",
        "                                  realizedVol = N225.df$N225.VolGJRGARCH)"
      ],
      "id": "qXP7fhgBte5t",
      "execution_count": 190,
      "outputs": []
    },
    {
      "cell_type": "code",
      "metadata": {
        "id": "uNJkuqkmtgvL"
      },
      "source": [
        "# Forecast calculated through adjustment\n",
        "realgjrgarch.pred.a <- ugarchforecast(realgjrgarch.fit.pred,\n",
        "                                      n.ahead = 1,\n",
        "                                      n.roll = dim(N225.df.out)[1])\n",
        "\n",
        "realgjrgarch.forecast.a <- xts(sigma(realgjrgarch.pred.a)[1,],\n",
        "                              move(as.Date(names(sigma(realgjrgarch.pred.a)[1,])), by = 1))"
      ],
      "id": "uNJkuqkmtgvL",
      "execution_count": 191,
      "outputs": []
    },
    {
      "cell_type": "code",
      "metadata": {
        "id": "rfCr3awkticN"
      },
      "source": [
        "# Forecast calculated using specification\n",
        "realgjrgarch.pred.b <- ugarchforecast(realgjrgarch.spec.pred, \n",
        "                                     n.ahead = 1, \n",
        "                                     n.roll = dim(N225.df.out)[1], \n",
        "                                     data = N225.df$N225.Return, \n",
        "                                     out.sample = dim(N225.df.out)[1], \n",
        "                                     realizedVol = N225.df$N225.VolRealGJRGARCH)\n",
        "\n",
        "realgjrgarch.forecast.b <- xts(sigma(realgjrgarch.pred.b)[1,],\n",
        "                               move(as.Date(names(sigma(realgjrgarch.pred.b)[1,])), by = 1))"
      ],
      "id": "rfCr3awkticN",
      "execution_count": 192,
      "outputs": []
    },
    {
      "cell_type": "code",
      "metadata": {
        "id": "3UzDKX5UtkC7"
      },
      "source": [
        "# Model filtering\n",
        "realgjrgarch.filt.pred <- ugarchfilter(realgjrgarch.spec.pred,\n",
        "                                      data = N225.df$N225.Return,\n",
        "                                      n.old = nrow(N225.df) - dim(N225.df.out)[1],\n",
        "                                      realizedVol = N225.df$N225.VolRealGJRGARCH)\n",
        "\n",
        "realgjrgarch.filt <- tail(sigma(realgjrgarch.filt.pred), dim(N225.df.out)[1])"
      ],
      "id": "3UzDKX5UtkC7",
      "execution_count": 193,
      "outputs": []
    },
    {
      "cell_type": "code",
      "metadata": {
        "colab": {
          "base_uri": "https://localhost:8080/",
          "height": 136
        },
        "id": "LNdVHJb2tla3",
        "outputId": "af2f332b-b0ae-4f69-bbde-97d2fbf1328a"
      },
      "source": [
        "# Comparative\n",
        "colnames(realgjrgarch.filt) <- 'filter'\n",
        "colnames(realgjrgarch.forecast.a) <- 'forecast1'\n",
        "colnames(realgjrgarch.forecast.b) <- 'forecast2'\n",
        "\n",
        "realgjrgarch.ftest <- cbind(realgjrgarch.filt,\n",
        "                            realgjrgarch.forecast.a,\n",
        "                            realgjrgarch.forecast.b)\n",
        "head(round(realgjrgarch.ftest, digits = 4))"
      ],
      "id": "LNdVHJb2tla3",
      "execution_count": 194,
      "outputs": [
        {
          "output_type": "display_data",
          "data": {
            "text/plain": [
              "           filter forecast1 forecast2\n",
              "2014-12-19 1.5191    1.4201    1.4925\n",
              "2014-12-22 1.4570    1.4172    1.4329\n",
              "2014-12-24 1.4520    1.4171    1.4294\n",
              "2014-12-25 1.4539    1.3474    1.4341\n",
              "2014-12-26 1.3877    1.3095    1.3624\n",
              "2014-12-29 1.3434    1.2522    1.3220"
            ]
          },
          "metadata": {
            "tags": []
          }
        }
      ]
    },
    {
      "cell_type": "code",
      "metadata": {
        "colab": {
          "base_uri": "https://localhost:8080/",
          "height": 252
        },
        "id": "3ESbujLFtnAw",
        "outputId": "977413b1-a446-43dd-e672-5084843e3663"
      },
      "source": [
        "sigma.realgjrgarch.pred.a <- ts(realgjrgarch.forecast.a[-1,])\n",
        "sigma.realgjrgarch.pred.b <- ts(realgjrgarch.forecast.b[-1,])\n",
        "sigma.realgjrgarch.true <- ts(N225.df.out$N225.VolRealGJRGARCH)\n",
        "\n",
        "sigma.realgjrgarch <- na.omit(cbind(sigma.realgjrgarch.pred.a,\n",
        "                                    sigma.realgjrgarch.pred.b,\n",
        "                                    sigma.realgjrgarch.true))\n",
        "head(sigma.realgjrgarch)"
      ],
      "id": "3ESbujLFtnAw",
      "execution_count": 195,
      "outputs": [
        {
          "output_type": "display_data",
          "data": {
            "text/plain": [
              "  sigma.realgjrgarch.pred.a sigma.realgjrgarch.pred.b sigma.realgjrgarch.true\n",
              "1 1.417220                  1.432926                  2.109718               \n",
              "2 1.417131                  1.429390                  2.098589               \n",
              "3 1.347398                  1.434103                  2.104767               \n",
              "4 1.309492                  1.362444                  1.901597               \n",
              "5 1.252187                  1.322003                  1.776242               \n",
              "6 1.194968                  1.261723                  1.621955               "
            ],
            "text/latex": "A Time Series: 6 × 3\n\\begin{tabular}{r|lll}\n  & sigma.realgjrgarch.pred.a & sigma.realgjrgarch.pred.b & sigma.realgjrgarch.true\\\\\n\\hline\n\t1 & 1.417220 & 1.432926 & 2.109718\\\\\n\t2 & 1.417131 & 1.429390 & 2.098589\\\\\n\t3 & 1.347398 & 1.434103 & 2.104767\\\\\n\t4 & 1.309492 & 1.362444 & 1.901597\\\\\n\t5 & 1.252187 & 1.322003 & 1.776242\\\\\n\t6 & 1.194968 & 1.261723 & 1.621955\\\\\n\\end{tabular}\n",
            "text/markdown": "\nA Time Series: 6 × 3\n\n| <!--/--> | sigma.realgjrgarch.pred.a | sigma.realgjrgarch.pred.b | sigma.realgjrgarch.true |\n|---|---|---|---|\n| 1 | 1.417220 | 1.432926 | 2.109718 |\n| 2 | 1.417131 | 1.429390 | 2.098589 |\n| 3 | 1.347398 | 1.434103 | 2.104767 |\n| 4 | 1.309492 | 1.362444 | 1.901597 |\n| 5 | 1.252187 | 1.322003 | 1.776242 |\n| 6 | 1.194968 | 1.261723 | 1.621955 |\n\n",
            "text/html": [
              "<table class=\"dataframe\">\n",
              "<caption>A Time Series: 6 × 3</caption>\n",
              "<thead>\n",
              "\t<tr><th></th><th scope=col>sigma.realgjrgarch.pred.a</th><th scope=col>sigma.realgjrgarch.pred.b</th><th scope=col>sigma.realgjrgarch.true</th></tr>\n",
              "</thead>\n",
              "<tbody>\n",
              "\t<tr><th scope=row>1</th><td>1.417220</td><td>1.432926</td><td>2.109718</td></tr>\n",
              "\t<tr><th scope=row>2</th><td>1.417131</td><td>1.429390</td><td>2.098589</td></tr>\n",
              "\t<tr><th scope=row>3</th><td>1.347398</td><td>1.434103</td><td>2.104767</td></tr>\n",
              "\t<tr><th scope=row>4</th><td>1.309492</td><td>1.362444</td><td>1.901597</td></tr>\n",
              "\t<tr><th scope=row>5</th><td>1.252187</td><td>1.322003</td><td>1.776242</td></tr>\n",
              "\t<tr><th scope=row>6</th><td>1.194968</td><td>1.261723</td><td>1.621955</td></tr>\n",
              "</tbody>\n",
              "</table>\n"
            ]
          },
          "metadata": {
            "tags": []
          }
        }
      ]
    },
    {
      "cell_type": "markdown",
      "metadata": {
        "id": "XIXx7PfMto5u"
      },
      "source": [
        "**Performance evaluation**"
      ],
      "id": "XIXx7PfMto5u"
    },
    {
      "cell_type": "code",
      "metadata": {
        "colab": {
          "base_uri": "https://localhost:8080/",
          "height": 51
        },
        "id": "Ag4Mj-Ftton1",
        "outputId": "ba025d99-9f95-4caa-fb52-a1e2741cc6c6"
      },
      "source": [
        "# Forecast Error - Forecast a\n",
        "realgjrgarch.error.a <- sigma.realgjrgarch[,'sigma.realgjrgarch.pred.a'] - sigma.realgjrgarch[,'sigma.realgjrgarch.true']\n",
        "head(realgjrgarch.error.a)"
      ],
      "id": "Ag4Mj-Ftton1",
      "execution_count": 196,
      "outputs": [
        {
          "output_type": "display_data",
          "data": {
            "text/plain": [
              "A Time Series:\n",
              "[1] -0.6924978 -0.6814581 -0.7573685 -0.5921053 -0.5240547 -0.4269878"
            ],
            "text/latex": "A Time Series:\\\\\\begin{enumerate*}\n\\item -0.692497755865777\n\\item -0.681458068415739\n\\item -0.75736853918582\n\\item -0.592105311948705\n\\item -0.524054709200151\n\\item -0.426987785408495\n\\end{enumerate*}\n",
            "text/markdown": "A Time Series:  \n1. -0.692497755865777\n2. -0.681458068415739\n3. -0.75736853918582\n4. -0.592105311948705\n5. -0.524054709200151\n6. -0.426987785408495\n\n\n",
            "text/html": [
              "A Time Series:<br><style>\n",
              ".list-inline {list-style: none; margin:0; padding: 0}\n",
              ".list-inline>li {display: inline-block}\n",
              ".list-inline>li:not(:last-child)::after {content: \"\\00b7\"; padding: 0 .5ex}\n",
              "</style>\n",
              "<ol class=list-inline><li>-0.692497755865777</li><li>-0.681458068415739</li><li>-0.75736853918582</li><li>-0.592105311948705</li><li>-0.524054709200151</li><li>-0.426987785408495</li></ol>\n"
            ]
          },
          "metadata": {
            "tags": []
          }
        }
      ]
    },
    {
      "cell_type": "code",
      "metadata": {
        "colab": {
          "base_uri": "https://localhost:8080/",
          "height": 51
        },
        "id": "uL_nAHaZtsmX",
        "outputId": "696af5a5-a085-46ee-d990-a3d39927619d"
      },
      "source": [
        "# Forecast Error - Forecast b\n",
        "realgjrgarch.error.b <- sigma.realgjrgarch[,'sigma.realgjrgarch.pred.b'] - sigma.realgjrgarch[,'sigma.realgjrgarch.true']\n",
        "head(realgjrgarch.error.b)"
      ],
      "id": "uL_nAHaZtsmX",
      "execution_count": 197,
      "outputs": [
        {
          "output_type": "display_data",
          "data": {
            "text/plain": [
              "A Time Series:\n",
              "[1] -0.6767917 -0.6691996 -0.6706643 -0.5391532 -0.4542391 -0.3602322"
            ],
            "text/latex": "A Time Series:\\\\\\begin{enumerate*}\n\\item -0.676791670278984\n\\item -0.669199624645259\n\\item -0.670664282386797\n\\item -0.539153237886085\n\\item -0.454239146222752\n\\item -0.360232198139072\n\\end{enumerate*}\n",
            "text/markdown": "A Time Series:  \n1. -0.676791670278984\n2. -0.669199624645259\n3. -0.670664282386797\n4. -0.539153237886085\n5. -0.454239146222752\n6. -0.360232198139072\n\n\n",
            "text/html": [
              "A Time Series:<br><style>\n",
              ".list-inline {list-style: none; margin:0; padding: 0}\n",
              ".list-inline>li {display: inline-block}\n",
              ".list-inline>li:not(:last-child)::after {content: \"\\00b7\"; padding: 0 .5ex}\n",
              "</style>\n",
              "<ol class=list-inline><li>-0.676791670278984</li><li>-0.669199624645259</li><li>-0.670664282386797</li><li>-0.539153237886085</li><li>-0.454239146222752</li><li>-0.360232198139072</li></ol>\n"
            ]
          },
          "metadata": {
            "tags": []
          }
        }
      ]
    },
    {
      "cell_type": "code",
      "metadata": {
        "colab": {
          "base_uri": "https://localhost:8080/",
          "height": 34
        },
        "id": "jCrb2QAytuKC",
        "outputId": "9a688732-145b-4764-f275-91797d25dd6a"
      },
      "source": [
        "# Mean Square Error Loss - Forecast a\n",
        "realgjrgarch.mse.a <- MSE(sigma.realgjrgarch[,'sigma.realgjrgarch.pred.a'],\n",
        "                          sigma.realgjrgarch[,'sigma.realgjrgarch.true'])\n",
        "round(realgjrgarch.mse.a, digits = 3)"
      ],
      "id": "jCrb2QAytuKC",
      "execution_count": 198,
      "outputs": [
        {
          "output_type": "display_data",
          "data": {
            "text/plain": [
              "[1] 1.852"
            ],
            "text/latex": "1.852",
            "text/markdown": "1.852",
            "text/html": [
              "1.852"
            ]
          },
          "metadata": {
            "tags": []
          }
        }
      ]
    },
    {
      "cell_type": "code",
      "metadata": {
        "colab": {
          "base_uri": "https://localhost:8080/",
          "height": 34
        },
        "id": "VJXxBH1wtvZc",
        "outputId": "467831c6-bdfe-443e-f832-d558d7525f9d"
      },
      "source": [
        "# Mean Square Error Loss - Forecast b\n",
        "realgjrgarch.mse.b <- MSE(sigma.realgjrgarch[,'sigma.realgjrgarch.pred.b'],\n",
        "                          sigma.realgjrgarch[,'sigma.realgjrgarch.true'])\n",
        "round(realgjrgarch.mse.b, digits = 3)"
      ],
      "id": "VJXxBH1wtvZc",
      "execution_count": 199,
      "outputs": [
        {
          "output_type": "display_data",
          "data": {
            "text/plain": [
              "[1] 1.817"
            ],
            "text/latex": "1.817",
            "text/markdown": "1.817",
            "text/html": [
              "1.817"
            ]
          },
          "metadata": {
            "tags": []
          }
        }
      ]
    },
    {
      "cell_type": "code",
      "metadata": {
        "colab": {
          "base_uri": "https://localhost:8080/",
          "height": 34
        },
        "id": "ohL91LcHtxCm",
        "outputId": "028fc5a7-cb9d-4cdf-90c2-e2450af7d974"
      },
      "source": [
        "# Mean Absolute Error Loss - Forecast a\n",
        "realgjrgarch.mae.a <- MAE(sigma.realgjrgarch[,'sigma.realgjrgarch.pred.a'],\n",
        "                          sigma.realgjrgarch[,'sigma.realgjrgarch.true'])\n",
        "round(realgjrgarch.mae.a, digits = 3)"
      ],
      "id": "ohL91LcHtxCm",
      "execution_count": 200,
      "outputs": [
        {
          "output_type": "display_data",
          "data": {
            "text/plain": [
              "[1] 0.642"
            ],
            "text/latex": "0.642",
            "text/markdown": "0.642",
            "text/html": [
              "0.642"
            ]
          },
          "metadata": {
            "tags": []
          }
        }
      ]
    },
    {
      "cell_type": "code",
      "metadata": {
        "colab": {
          "base_uri": "https://localhost:8080/",
          "height": 34
        },
        "id": "2IrJeFHStyH5",
        "outputId": "08cf0da6-5738-4aef-a2a3-31dae2ed58a7"
      },
      "source": [
        "# Mean Absolute Error Loss - Forecast b\n",
        "realgjrgarch.mae.b <- MAE(sigma.realgjrgarch[,'sigma.realgjrgarch.pred.b'],\n",
        "                          sigma.realgjrgarch[,'sigma.realgjrgarch.true'])\n",
        "round(realgjrgarch.mae.b, digits = 3)"
      ],
      "id": "2IrJeFHStyH5",
      "execution_count": 201,
      "outputs": [
        {
          "output_type": "display_data",
          "data": {
            "text/plain": [
              "[1] 0.623"
            ],
            "text/latex": "0.623",
            "text/markdown": "0.623",
            "text/html": [
              "0.623"
            ]
          },
          "metadata": {
            "tags": []
          }
        }
      ]
    },
    {
      "cell_type": "code",
      "metadata": {
        "colab": {
          "base_uri": "https://localhost:8080/",
          "height": 34
        },
        "id": "SqGo_64Itzj3",
        "outputId": "600c0361-eb9c-4c53-9b8b-4d46e9fd05c2"
      },
      "source": [
        "# Root Mean Square Error Loss - Forecast a\n",
        "realgjrgarch.rmse.a <- RMSE(sigma.realgjrgarch[,'sigma.realgjrgarch.pred.a'],\n",
        "                            sigma.realgjrgarch[,'sigma.realgjrgarch.true'])\n",
        "round(realgjrgarch.rmse.a, digits = 3)"
      ],
      "id": "SqGo_64Itzj3",
      "execution_count": 202,
      "outputs": [
        {
          "output_type": "display_data",
          "data": {
            "text/plain": [
              "[1] 1.361"
            ],
            "text/latex": "1.361",
            "text/markdown": "1.361",
            "text/html": [
              "1.361"
            ]
          },
          "metadata": {
            "tags": []
          }
        }
      ]
    },
    {
      "cell_type": "code",
      "metadata": {
        "colab": {
          "base_uri": "https://localhost:8080/",
          "height": 34
        },
        "id": "T7atQxuXt1AP",
        "outputId": "1d432874-b229-48fc-a109-b88faf25b44b"
      },
      "source": [
        "# Root Mean Square Error Loss - Forecast b\n",
        "realgjrgarch.rmse.b <- RMSE(sigma.realgjrgarch[,'sigma.realgjrgarch.pred.b'],\n",
        "                            sigma.realgjrgarch[,'sigma.realgjrgarch.true'])\n",
        "round(realgjrgarch.rmse.b, digits = 3)"
      ],
      "id": "T7atQxuXt1AP",
      "execution_count": 203,
      "outputs": [
        {
          "output_type": "display_data",
          "data": {
            "text/plain": [
              "[1] 1.348"
            ],
            "text/latex": "1.348",
            "text/markdown": "1.348",
            "text/html": [
              "1.348"
            ]
          },
          "metadata": {
            "tags": []
          }
        }
      ]
    },
    {
      "cell_type": "code",
      "metadata": {
        "colab": {
          "base_uri": "https://localhost:8080/",
          "height": 34
        },
        "id": "9fJX1_Ect2jQ",
        "outputId": "b382a207-0467-488c-f61f-6c89cdd74523"
      },
      "source": [
        "# Quasi-likelihood loss function - forecast a\n",
        "h <- sigma.realgjrgarch[,'sigma.realgjrgarch.true']\n",
        "\n",
        "h.hat.a <- sigma.realgjrgarch[,'sigma.realgjrgarch.pred.a']     \n",
        "realgjrgarch.qlike.a <- mean(log(sqrt(h)) + h.hat.a/sqrt(h))\n",
        "round(realgjrgarch.qlike.a, digits = 5)"
      ],
      "id": "9fJX1_Ect2jQ",
      "execution_count": 204,
      "outputs": [
        {
          "output_type": "display_data",
          "data": {
            "text/plain": [
              "[1] 1.15304"
            ],
            "text/latex": "1.15304",
            "text/markdown": "1.15304",
            "text/html": [
              "1.15304"
            ]
          },
          "metadata": {
            "tags": []
          }
        }
      ]
    },
    {
      "cell_type": "code",
      "metadata": {
        "colab": {
          "base_uri": "https://localhost:8080/",
          "height": 34
        },
        "id": "Sx3HuoWct3rq",
        "outputId": "930ba4f4-1688-4c3e-9a74-5a18debd9005"
      },
      "source": [
        "# Quasi-likelihood loss function - forecast b\n",
        "h.hat.b <- sigma.realgjrgarch[,'sigma.realgjrgarch.pred.b']\n",
        "realgjrgarch.qlike.b <- mean(log(sqrt(h)) + h.hat.b/sqrt(h))\n",
        "round(realgjrgarch.qlike.b, digits = 5)"
      ],
      "id": "Sx3HuoWct3rq",
      "execution_count": 205,
      "outputs": [
        {
          "output_type": "display_data",
          "data": {
            "text/plain": [
              "[1] 1.16543"
            ],
            "text/latex": "1.16543",
            "text/markdown": "1.16543",
            "text/html": [
              "1.16543"
            ]
          },
          "metadata": {
            "tags": []
          }
        }
      ]
    },
    {
      "cell_type": "code",
      "metadata": {
        "colab": {
          "base_uri": "https://localhost:8080/",
          "height": 119
        },
        "id": "cse_VeX2OFEY",
        "outputId": "93f250e0-ddb0-43d8-d3d4-beabfc3dd628"
      },
      "source": [
        "# Diebold-Mariano Test (accuracy test) - test 1\n",
        "f.a <- sigma.realgjrgarch[,'sigma.realgjrgarch.pred.a']\n",
        "f.b <- sigma.realgjrgarch[,'sigma.realgjrgarch.pred.b']\n",
        "y <- sigma.realgjrgarch[,'sigma.realgjrgarch.true']\n",
        "\n",
        "DM.test(f.a, f.b, y, loss.type = \"SE\", c = FALSE, H1 = \"same\")"
      ],
      "id": "cse_VeX2OFEY",
      "execution_count": 206,
      "outputs": [
        {
          "output_type": "display_data",
          "data": {
            "text/plain": [
              "\n",
              "\tDiebold-Mariano test\n",
              "\n",
              "data:  f.a and f.b and y\n",
              "statistic = 3.5249, forecast horizon = 1, p-value = 0.0004237\n",
              "alternative hypothesis: Forecast f1 and f2 have different accuracy.\n"
            ]
          },
          "metadata": {
            "tags": []
          }
        }
      ]
    },
    {
      "cell_type": "code",
      "metadata": {
        "colab": {
          "base_uri": "https://localhost:8080/",
          "height": 136
        },
        "id": "icTJE8GzOHA8",
        "outputId": "35c71abe-9225-4ebc-9b51-3b21cc9bc932"
      },
      "source": [
        "# Diebold-Mariano test for predictive accuracy - test 2\n",
        "e.a <- realgjrgarch.error.a\n",
        "e.b <- realgjrgarch.error.b\n",
        "\n",
        "dm.test(e.a, e.b, alternative = \"two.sided\", h = 1, power = 2)"
      ],
      "id": "icTJE8GzOHA8",
      "execution_count": 207,
      "outputs": [
        {
          "output_type": "display_data",
          "data": {
            "text/plain": [
              "\n",
              "\tDiebold-Mariano Test\n",
              "\n",
              "data:  e.ae.b\n",
              "DM = 3.5238, Forecast horizon = 1, Loss function power = 2, p-value =\n",
              "0.0004377\n",
              "alternative hypothesis: two.sided\n"
            ]
          },
          "metadata": {
            "tags": []
          }
        }
      ]
    },
    {
      "cell_type": "code",
      "metadata": {
        "colab": {
          "base_uri": "https://localhost:8080/",
          "height": 34
        },
        "id": "fenyJq26OKdD",
        "outputId": "679290bb-a121-43f4-abe0-df92b3828744"
      },
      "source": [
        "# Quasi-likelihood Loss Function For Volatility Forecasts - forecast a\n",
        "realgjrgarch.qlike.a <- mean(LossVol(sigma.realgjrgarch[,'sigma.realgjrgarch.true'],\n",
        "                                    sigma.realgjrgarch[,'sigma.realgjrgarch.pred.a'],\n",
        "                                    which = \"QLIKE\"))\n",
        "round(realgjrgarch.qlike.a, digits = 3)"
      ],
      "id": "fenyJq26OKdD",
      "execution_count": 208,
      "outputs": [
        {
          "output_type": "display_data",
          "data": {
            "text/plain": [
              "[1] 2.223"
            ],
            "text/latex": "2.223",
            "text/markdown": "2.223",
            "text/html": [
              "2.223"
            ]
          },
          "metadata": {
            "tags": []
          }
        }
      ]
    },
    {
      "cell_type": "code",
      "metadata": {
        "colab": {
          "base_uri": "https://localhost:8080/",
          "height": 34
        },
        "id": "BZiiiS5BOMIH",
        "outputId": "3a87ebb8-61de-48d4-fa8d-c8abfad7b74d"
      },
      "source": [
        "# Quasi-likelihood Loss Function For Volatility Forecasts - forecast 1b\n",
        "realgjrgarch.qlike.b <- mean(LossVol(sigma.realgjrgarch[,'sigma.realgjrgarch.true'],\n",
        "                                    sigma.realgjrgarch[,'sigma.realgjrgarch.pred.b'],\n",
        "                                    which = \"QLIKE\"))\n",
        "round(realgjrgarch.qlike.b, digits = 3)"
      ],
      "id": "BZiiiS5BOMIH",
      "execution_count": 209,
      "outputs": [
        {
          "output_type": "display_data",
          "data": {
            "text/plain": [
              "[1] 2.182"
            ],
            "text/latex": "2.182",
            "text/markdown": "2.182",
            "text/html": [
              "2.182"
            ]
          },
          "metadata": {
            "tags": []
          }
        }
      ]
    },
    {
      "cell_type": "code",
      "metadata": {
        "colab": {
          "base_uri": "https://localhost:8080/",
          "height": 34
        },
        "id": "wpWs_NItt47v",
        "outputId": "a40370c5-1b2c-4115-d9c1-ba629da263b6"
      },
      "source": [
        "# Log loss / Cross-Entropy Loss -  forecast a\n",
        "realgjrgarch.logloss.a <- LogLoss(sigma.realgjrgarch[,'sigma.realgjrgarch.pred.a'],\n",
        "                                  sigma.realgjrgarch[,'sigma.realgjrgarch.true'])\n",
        "round(realgjrgarch.logloss.a, digits = 3)"
      ],
      "id": "wpWs_NItt47v",
      "execution_count": 210,
      "outputs": [
        {
          "output_type": "display_data",
          "data": {
            "text/plain": [
              "[1] -29.242"
            ],
            "text/latex": "-29.242",
            "text/markdown": "-29.242",
            "text/html": [
              "-29.242"
            ]
          },
          "metadata": {
            "tags": []
          }
        }
      ]
    },
    {
      "cell_type": "code",
      "metadata": {
        "colab": {
          "base_uri": "https://localhost:8080/",
          "height": 34
        },
        "id": "NOm3JSWtt609",
        "outputId": "7589c818-39ae-4686-e10b-adc9930b998f"
      },
      "source": [
        "# Log loss / Cross-Entropy Loss -  forecast b\n",
        "realgjrgarch.logloss.b <- LogLoss(sigma.realgjrgarch[,'sigma.realgjrgarch.pred.b'],\n",
        "                                  sigma.realgjrgarch[,'sigma.realgjrgarch.true'])\n",
        "round(realgjrgarch.logloss.b, digits = 3)"
      ],
      "id": "NOm3JSWtt609",
      "execution_count": 211,
      "outputs": [
        {
          "output_type": "display_data",
          "data": {
            "text/plain": [
              "[1] -29.419"
            ],
            "text/latex": "-29.419",
            "text/markdown": "-29.419",
            "text/html": [
              "-29.419"
            ]
          },
          "metadata": {
            "tags": []
          }
        }
      ]
    },
    {
      "cell_type": "code",
      "metadata": {
        "colab": {
          "base_uri": "https://localhost:8080/",
          "height": 170
        },
        "id": "zAqllzeHt8Fg",
        "outputId": "6fc40413-09b4-4cb0-c3e3-640cdf33326b"
      },
      "source": [
        "# Linear regression to assess forecast performance - forecast a\n",
        "realgjrgarch.model.a <- lm(sigma.realgjrgarch.true ~ sigma.realgjrgarch.pred.a,\n",
        "                          data = sigma.realgjrgarch)\n",
        "round(coeftest(realgjrgarch.model.a, NeweyWest(realgjrgarch.model.a,\n",
        "                                              lag = bwNeweyWest(realgjrgarch.model.a),\n",
        "                                              prewhite = F)), 3)\n",
        "round(summary(realgjrgarch.model.a)$adj.r.squared, 3)"
      ],
      "id": "zAqllzeHt8Fg",
      "execution_count": 212,
      "outputs": [
        {
          "output_type": "display_data",
          "data": {
            "text/plain": [
              "\n",
              "t test of coefficients:\n",
              "\n",
              "                          Estimate Std. Error t value  Pr(>|t|)    \n",
              "(Intercept)                 -2.475      0.211 -11.760 < 2.2e-16 ***\n",
              "sigma.realgjrgarch.pred.a    3.482      0.189  18.412 < 2.2e-16 ***\n",
              "---\n",
              "Signif. codes:  0 ‘***’ 0.001 ‘**’ 0.01 ‘*’ 0.05 ‘.’ 0.1 ‘ ’ 1\n"
            ]
          },
          "metadata": {
            "tags": []
          }
        },
        {
          "output_type": "display_data",
          "data": {
            "text/plain": [
              "[1] 0.888"
            ],
            "text/latex": "0.888",
            "text/markdown": "0.888",
            "text/html": [
              "0.888"
            ]
          },
          "metadata": {
            "tags": []
          }
        }
      ]
    },
    {
      "cell_type": "code",
      "metadata": {
        "colab": {
          "base_uri": "https://localhost:8080/",
          "height": 170
        },
        "id": "l98Tp5ujt9ZH",
        "outputId": "ea2caf43-c625-49a7-e7ae-dd70f7796aef"
      },
      "source": [
        "# Linear regression to assess forecast performance - forecast b\n",
        "realgjrgarch.model.b <- lm(sigma.realgjrgarch.true ~ sigma.realgjrgarch.pred.b,\n",
        "                          data = sigma.realgjrgarch)\n",
        "round(coeftest(realgjrgarch.model.b, NeweyWest(realgjrgarch.model.b,\n",
        "                                              lag = bwNeweyWest(realgjrgarch.model.b),\n",
        "                                              prewhite = F)), 3)\n",
        "round(summary(realgjrgarch.model.b)$adj.r.squared, 3)"
      ],
      "id": "l98Tp5ujt9ZH",
      "execution_count": 213,
      "outputs": [
        {
          "output_type": "display_data",
          "data": {
            "text/plain": [
              "\n",
              "t test of coefficients:\n",
              "\n",
              "                          Estimate Std. Error t value  Pr(>|t|)    \n",
              "(Intercept)                 -2.793      0.212 -13.191 < 2.2e-16 ***\n",
              "sigma.realgjrgarch.pred.b    3.696      0.184  20.046 < 2.2e-16 ***\n",
              "---\n",
              "Signif. codes:  0 ‘***’ 0.001 ‘**’ 0.01 ‘*’ 0.05 ‘.’ 0.1 ‘ ’ 1\n"
            ]
          },
          "metadata": {
            "tags": []
          }
        },
        {
          "output_type": "display_data",
          "data": {
            "text/plain": [
              "[1] 0.948"
            ],
            "text/latex": "0.948",
            "text/markdown": "0.948",
            "text/html": [
              "0.948"
            ]
          },
          "metadata": {
            "tags": []
          }
        }
      ]
    },
    {
      "cell_type": "markdown",
      "metadata": {
        "id": "AciM8pt0zDOf"
      },
      "source": [
        "#12. Forecast - Markov-Switching GARCH"
      ],
      "id": "AciM8pt0zDOf"
    },
    {
      "cell_type": "markdown",
      "metadata": {
        "id": "0duULlBdzPeP"
      },
      "source": [
        "##(a) MS Linear GARCH"
      ],
      "id": "0duULlBdzPeP"
    },
    {
      "cell_type": "code",
      "metadata": {
        "id": "x-aTWmwh3OPQ"
      },
      "source": [
        "# Model Estimation - Maximum Likelihood Estimation\n",
        "msgarch.fit.pred.a <- FitML(msgarch.spec,\n",
        "                            data = N225.df$N225.Return)"
      ],
      "id": "x-aTWmwh3OPQ",
      "execution_count": 214,
      "outputs": []
    },
    {
      "cell_type": "code",
      "metadata": {
        "id": "_V7_va4c1iFq"
      },
      "source": [
        "# Model Estimation - MCMC/Bayesian estimation\n",
        "msgarch.fit.pred.b <- FitMCMC(msgarch.spec,\n",
        "                              data = N225.df$N225.Return)"
      ],
      "id": "_V7_va4c1iFq",
      "execution_count": 215,
      "outputs": []
    },
    {
      "cell_type": "code",
      "metadata": {
        "id": "DqhNduVO2fOA"
      },
      "source": [
        "# Forecast - Maximum Likelihood Estimation\n",
        "msgarch.pred.a <- predict(object = msgarch.fit.pred.a,\n",
        "                          nahead = dim(N225.df.out)[1],\n",
        "                          do.return.draw = TRUE)\n",
        "\n",
        "msgarch.forecast.a <- ts(msgarch.pred.a$vol)"
      ],
      "id": "DqhNduVO2fOA",
      "execution_count": 216,
      "outputs": []
    },
    {
      "cell_type": "code",
      "metadata": {
        "id": "xPlTh8-d3FE7"
      },
      "source": [
        "# Forecast - MCMC/Bayesian estimation\n",
        "msgarch.pred.b <- predict(object = msgarch.fit.pred.b,\n",
        "                          nahead = dim(N225.df.out)[1],\n",
        "                          do.return.draw = TRUE)\n",
        "\n",
        "msgarch.forecast.b <- ts(msgarch.pred.b$vol)"
      ],
      "id": "xPlTh8-d3FE7",
      "execution_count": 217,
      "outputs": []
    },
    {
      "cell_type": "code",
      "metadata": {
        "colab": {
          "base_uri": "https://localhost:8080/",
          "height": 252
        },
        "id": "YA2pLbUs3fK5",
        "outputId": "193f67df-9443-47eb-d023-c09d706b4ed3"
      },
      "source": [
        "# Comparative\n",
        "sigma.msgarch.pred.a <- msgarch.forecast.a\n",
        "sigma.msgarch.pred.b <- msgarch.forecast.b\n",
        "sigma.msgarch.true <- ts(N225.df.out[,'N225.VolMSGARCH'])\n",
        "\n",
        "sigma.msgarch <- na.omit(cbind(sigma.msgarch.pred.a,\n",
        "                              sigma.msgarch.pred.b,\n",
        "                              sigma.msgarch.true))\n",
        "head(sigma.msgarch)"
      ],
      "id": "YA2pLbUs3fK5",
      "execution_count": 218,
      "outputs": [
        {
          "output_type": "display_data",
          "data": {
            "text/plain": [
              "  sigma.msgarch.pred.a sigma.msgarch.pred.b sigma.msgarch.true\n",
              "1 1.291663             1.325804             1.365494          \n",
              "2 1.241336             1.298193             1.491592          \n",
              "3 1.250228             1.266092             1.502558          \n",
              "4 1.278568             1.266262             1.403811          \n",
              "5 1.243934             1.256323             1.369106          \n",
              "6 1.259011             1.276429             1.275592          "
            ],
            "text/latex": "A Time Series: 6 × 3\n\\begin{tabular}{r|lll}\n  & sigma.msgarch.pred.a & sigma.msgarch.pred.b & sigma.msgarch.true\\\\\n\\hline\n\t1 & 1.291663 & 1.325804 & 1.365494\\\\\n\t2 & 1.241336 & 1.298193 & 1.491592\\\\\n\t3 & 1.250228 & 1.266092 & 1.502558\\\\\n\t4 & 1.278568 & 1.266262 & 1.403811\\\\\n\t5 & 1.243934 & 1.256323 & 1.369106\\\\\n\t6 & 1.259011 & 1.276429 & 1.275592\\\\\n\\end{tabular}\n",
            "text/markdown": "\nA Time Series: 6 × 3\n\n| <!--/--> | sigma.msgarch.pred.a | sigma.msgarch.pred.b | sigma.msgarch.true |\n|---|---|---|---|\n| 1 | 1.291663 | 1.325804 | 1.365494 |\n| 2 | 1.241336 | 1.298193 | 1.491592 |\n| 3 | 1.250228 | 1.266092 | 1.502558 |\n| 4 | 1.278568 | 1.266262 | 1.403811 |\n| 5 | 1.243934 | 1.256323 | 1.369106 |\n| 6 | 1.259011 | 1.276429 | 1.275592 |\n\n",
            "text/html": [
              "<table class=\"dataframe\">\n",
              "<caption>A Time Series: 6 × 3</caption>\n",
              "<thead>\n",
              "\t<tr><th></th><th scope=col>sigma.msgarch.pred.a</th><th scope=col>sigma.msgarch.pred.b</th><th scope=col>sigma.msgarch.true</th></tr>\n",
              "</thead>\n",
              "<tbody>\n",
              "\t<tr><th scope=row>1</th><td>1.291663</td><td>1.325804</td><td>1.365494</td></tr>\n",
              "\t<tr><th scope=row>2</th><td>1.241336</td><td>1.298193</td><td>1.491592</td></tr>\n",
              "\t<tr><th scope=row>3</th><td>1.250228</td><td>1.266092</td><td>1.502558</td></tr>\n",
              "\t<tr><th scope=row>4</th><td>1.278568</td><td>1.266262</td><td>1.403811</td></tr>\n",
              "\t<tr><th scope=row>5</th><td>1.243934</td><td>1.256323</td><td>1.369106</td></tr>\n",
              "\t<tr><th scope=row>6</th><td>1.259011</td><td>1.276429</td><td>1.275592</td></tr>\n",
              "</tbody>\n",
              "</table>\n"
            ]
          },
          "metadata": {
            "tags": []
          }
        }
      ]
    },
    {
      "cell_type": "markdown",
      "metadata": {
        "id": "LVbmSsEMBJaw"
      },
      "source": [
        "**Performance evaluation**"
      ],
      "id": "LVbmSsEMBJaw"
    },
    {
      "cell_type": "code",
      "metadata": {
        "colab": {
          "base_uri": "https://localhost:8080/",
          "height": 51
        },
        "id": "haXFBMWaBKz2",
        "outputId": "ad6e6e31-5db3-4d10-c624-5a1b212fa5d1"
      },
      "source": [
        "# Forecast Error - Forecast a\n",
        "msgarch.error.a <- sigma.msgarch[,'sigma.msgarch.pred.a'] - sigma.msgarch[,'sigma.msgarch.true']\n",
        "head(msgarch.error.a)"
      ],
      "id": "haXFBMWaBKz2",
      "execution_count": 219,
      "outputs": [
        {
          "output_type": "display_data",
          "data": {
            "text/plain": [
              "A Time Series:\n",
              "[1] -0.07383057 -0.25025635 -0.25233052 -0.12524263 -0.12517148 -0.01658165"
            ],
            "text/latex": "A Time Series:\\\\\\begin{enumerate*}\n\\item -0.0738305696511232\n\\item -0.250256354953806\n\\item -0.252330520673078\n\\item -0.12524262671488\n\\item -0.125171484020078\n\\item -0.0165816453762497\n\\end{enumerate*}\n",
            "text/markdown": "A Time Series:  \n1. -0.0738305696511232\n2. -0.250256354953806\n3. -0.252330520673078\n4. -0.12524262671488\n5. -0.125171484020078\n6. -0.0165816453762497\n\n\n",
            "text/html": [
              "A Time Series:<br><style>\n",
              ".list-inline {list-style: none; margin:0; padding: 0}\n",
              ".list-inline>li {display: inline-block}\n",
              ".list-inline>li:not(:last-child)::after {content: \"\\00b7\"; padding: 0 .5ex}\n",
              "</style>\n",
              "<ol class=list-inline><li>-0.0738305696511232</li><li>-0.250256354953806</li><li>-0.252330520673078</li><li>-0.12524262671488</li><li>-0.125171484020078</li><li>-0.0165816453762497</li></ol>\n"
            ]
          },
          "metadata": {
            "tags": []
          }
        }
      ]
    },
    {
      "cell_type": "code",
      "metadata": {
        "colab": {
          "base_uri": "https://localhost:8080/",
          "height": 51
        },
        "id": "88NZpanFBNd9",
        "outputId": "3c2a8ec4-8775-4cee-a08c-9ba92164774f"
      },
      "source": [
        "# Forecast Error - Forecast b\n",
        "msgarch.error.b <- sigma.msgarch[,'sigma.msgarch.pred.b'] - sigma.msgarch[,'sigma.msgarch.true']\n",
        "head(msgarch.error.b)"
      ],
      "id": "88NZpanFBNd9",
      "execution_count": 220,
      "outputs": [
        {
          "output_type": "display_data",
          "data": {
            "text/plain": [
              "A Time Series:\n",
              "[1] -0.0396896649 -0.1933989481 -0.2364660062 -0.1375486373 -0.1127825302\n",
              "[6]  0.0008372525"
            ],
            "text/latex": "A Time Series:\\\\\\begin{enumerate*}\n\\item -0.0396896649285379\n\\item -0.193398948130812\n\\item -0.236466006171361\n\\item -0.137548637345026\n\\item -0.112782530249026\n\\item 0.000837252515643705\n\\end{enumerate*}\n",
            "text/markdown": "A Time Series:  \n1. -0.0396896649285379\n2. -0.193398948130812\n3. -0.236466006171361\n4. -0.137548637345026\n5. -0.112782530249026\n6. 0.000837252515643705\n\n\n",
            "text/html": [
              "A Time Series:<br><style>\n",
              ".list-inline {list-style: none; margin:0; padding: 0}\n",
              ".list-inline>li {display: inline-block}\n",
              ".list-inline>li:not(:last-child)::after {content: \"\\00b7\"; padding: 0 .5ex}\n",
              "</style>\n",
              "<ol class=list-inline><li>-0.0396896649285379</li><li>-0.193398948130812</li><li>-0.236466006171361</li><li>-0.137548637345026</li><li>-0.112782530249026</li><li>0.000837252515643705</li></ol>\n"
            ]
          },
          "metadata": {
            "tags": []
          }
        }
      ]
    },
    {
      "cell_type": "code",
      "metadata": {
        "colab": {
          "base_uri": "https://localhost:8080/",
          "height": 34
        },
        "id": "C_VP13j7BPKI",
        "outputId": "f670c5f9-3c93-44d1-a9f0-278438b6da89"
      },
      "source": [
        "# Mean Square Error Loss - Forecast a\n",
        "msgarch.mse.a <- MSE(sigma.msgarch[,'sigma.msgarch.pred.a'],\n",
        "                    sigma.msgarch[,'sigma.msgarch.true'])\n",
        "round(msgarch.mse.a, digits = 3)"
      ],
      "id": "C_VP13j7BPKI",
      "execution_count": 221,
      "outputs": [
        {
          "output_type": "display_data",
          "data": {
            "text/plain": [
              "[1] 0.177"
            ],
            "text/latex": "0.177",
            "text/markdown": "0.177",
            "text/html": [
              "0.177"
            ]
          },
          "metadata": {
            "tags": []
          }
        }
      ]
    },
    {
      "cell_type": "code",
      "metadata": {
        "colab": {
          "base_uri": "https://localhost:8080/",
          "height": 34
        },
        "id": "pzReqrbUBQvb",
        "outputId": "30572f5a-5250-4bc7-ded6-9aa4ffcb3f84"
      },
      "source": [
        "# Mean Square Error Loss - Forecast b\n",
        "msgarch.mse.b <- MSE(sigma.msgarch[,'sigma.msgarch.pred.b'],\n",
        "                    sigma.msgarch[,'sigma.msgarch.true'])\n",
        "round(msgarch.mse.b, digits = 3)"
      ],
      "id": "pzReqrbUBQvb",
      "execution_count": 222,
      "outputs": [
        {
          "output_type": "display_data",
          "data": {
            "text/plain": [
              "[1] 0.234"
            ],
            "text/latex": "0.234",
            "text/markdown": "0.234",
            "text/html": [
              "0.234"
            ]
          },
          "metadata": {
            "tags": []
          }
        }
      ]
    },
    {
      "cell_type": "code",
      "metadata": {
        "colab": {
          "base_uri": "https://localhost:8080/",
          "height": 34
        },
        "id": "ATJYe181BSMd",
        "outputId": "fa0d71de-52d6-4693-9d46-6af5e685a3d7"
      },
      "source": [
        "# Mean Absolute Error Loss - Forecast a\n",
        "msgarch.mae.a <- MAE(sigma.msgarch[,'sigma.msgarch.pred.a'],\n",
        "                    sigma.msgarch[,'sigma.msgarch.true'])\n",
        "round(msgarch.mae.a, digits = 3)"
      ],
      "id": "ATJYe181BSMd",
      "execution_count": 223,
      "outputs": [
        {
          "output_type": "display_data",
          "data": {
            "text/plain": [
              "[1] 0.32"
            ],
            "text/latex": "0.32",
            "text/markdown": "0.32",
            "text/html": [
              "0.32"
            ]
          },
          "metadata": {
            "tags": []
          }
        }
      ]
    },
    {
      "cell_type": "code",
      "metadata": {
        "colab": {
          "base_uri": "https://localhost:8080/",
          "height": 34
        },
        "id": "l1fAVRUvBTne",
        "outputId": "fa1a5032-627d-4e93-bfac-69494f145dad"
      },
      "source": [
        "# Mean Absolute Error Loss - Forecast b\n",
        "msgarch.mae.b <- MAE(sigma.msgarch[,'sigma.msgarch.pred.b'],\n",
        "                    sigma.msgarch[,'sigma.msgarch.true'])\n",
        "round(msgarch.mae.b, digits = 3)"
      ],
      "id": "l1fAVRUvBTne",
      "execution_count": 224,
      "outputs": [
        {
          "output_type": "display_data",
          "data": {
            "text/plain": [
              "[1] 0.416"
            ],
            "text/latex": "0.416",
            "text/markdown": "0.416",
            "text/html": [
              "0.416"
            ]
          },
          "metadata": {
            "tags": []
          }
        }
      ]
    },
    {
      "cell_type": "code",
      "metadata": {
        "colab": {
          "base_uri": "https://localhost:8080/",
          "height": 34
        },
        "id": "OuJINwLnBVER",
        "outputId": "d3be0cfc-a94a-44fb-b4c6-b5a36296c0e2"
      },
      "source": [
        "# Root Mean Square Error Loss - Forecast a\n",
        "msgarch.rmse.a <- RMSE(sigma.msgarch[,'sigma.msgarch.pred.a'],\n",
        "                      sigma.msgarch[,'sigma.msgarch.true'])\n",
        "round(msgarch.rmse.a, digits = 3)"
      ],
      "id": "OuJINwLnBVER",
      "execution_count": 225,
      "outputs": [
        {
          "output_type": "display_data",
          "data": {
            "text/plain": [
              "[1] 0.42"
            ],
            "text/latex": "0.42",
            "text/markdown": "0.42",
            "text/html": [
              "0.42"
            ]
          },
          "metadata": {
            "tags": []
          }
        }
      ]
    },
    {
      "cell_type": "code",
      "metadata": {
        "colab": {
          "base_uri": "https://localhost:8080/",
          "height": 34
        },
        "id": "zzi4QlI8BWh3",
        "outputId": "e088b412-0048-4f6d-8a4b-55ae3d9038d1"
      },
      "source": [
        "# Root Mean Square Error Loss - Forecast b\n",
        "msgarch.rmse.b <- RMSE(sigma.msgarch[,'sigma.msgarch.pred.b'],\n",
        "                      sigma.msgarch[,'sigma.msgarch.true'])\n",
        "round(msgarch.rmse.b, digits = 3)"
      ],
      "id": "zzi4QlI8BWh3",
      "execution_count": 226,
      "outputs": [
        {
          "output_type": "display_data",
          "data": {
            "text/plain": [
              "[1] 0.484"
            ],
            "text/latex": "0.484",
            "text/markdown": "0.484",
            "text/html": [
              "0.484"
            ]
          },
          "metadata": {
            "tags": []
          }
        }
      ]
    },
    {
      "cell_type": "code",
      "metadata": {
        "colab": {
          "base_uri": "https://localhost:8080/",
          "height": 34
        },
        "id": "c1gkCdpIBXp1",
        "outputId": "c07be5fe-4bbe-4aa5-dd0e-158d0c16222b"
      },
      "source": [
        "# Quasi-likelihood loss function - forecast a\n",
        "h <- sigma.msgarch[,'sigma.msgarch.true']\n",
        "\n",
        "h.hat.a <- sigma.msgarch[,'sigma.msgarch.pred.a']     \n",
        "msgarch.qlike.a <- mean(log(sqrt(h)) + h.hat.a/sqrt(h))\n",
        "round(msgarch.qlike.a, digits = 5)"
      ],
      "id": "c1gkCdpIBXp1",
      "execution_count": 227,
      "outputs": [
        {
          "output_type": "display_data",
          "data": {
            "text/plain": [
              "[1] 1.28747"
            ],
            "text/latex": "1.28747",
            "text/markdown": "1.28747",
            "text/html": [
              "1.28747"
            ]
          },
          "metadata": {
            "tags": []
          }
        }
      ]
    },
    {
      "cell_type": "code",
      "metadata": {
        "colab": {
          "base_uri": "https://localhost:8080/",
          "height": 34
        },
        "id": "tBBaRrm8BZWv",
        "outputId": "864ba6af-08cb-4451-af39-25bb324c8115"
      },
      "source": [
        "# Quasi-likelihood loss function - forecast b\n",
        "h.hat.b <- sigma.msgarch[,'sigma.msgarch.pred.b']\n",
        "msgarch.qlike.b <- mean(log(sqrt(h)) + h.hat.b/sqrt(h))\n",
        "round(msgarch.qlike.b, digits = 5)"
      ],
      "id": "tBBaRrm8BZWv",
      "execution_count": 228,
      "outputs": [
        {
          "output_type": "display_data",
          "data": {
            "text/plain": [
              "[1] 1.45452"
            ],
            "text/latex": "1.45452",
            "text/markdown": "1.45452",
            "text/html": [
              "1.45452"
            ]
          },
          "metadata": {
            "tags": []
          }
        }
      ]
    },
    {
      "cell_type": "code",
      "metadata": {
        "colab": {
          "base_uri": "https://localhost:8080/",
          "height": 119
        },
        "id": "Nd1_TRdDOusT",
        "outputId": "9bac6316-0431-4308-ebb2-4b5f0c80ef6e"
      },
      "source": [
        "# Diebold-Mariano Test (accuracy test) - test 1\n",
        "f.a <- sigma.msgarch[,'sigma.msgarch.pred.a']\n",
        "f.b <- sigma.msgarch[,'sigma.msgarch.pred.b']\n",
        "y <- sigma.msgarch[,'sigma.msgarch.true']\n",
        "\n",
        "DM.test(f.a, f.b, y, loss.type = \"SE\", c = FALSE, H1 = \"same\")"
      ],
      "id": "Nd1_TRdDOusT",
      "execution_count": 229,
      "outputs": [
        {
          "output_type": "display_data",
          "data": {
            "text/plain": [
              "\n",
              "\tDiebold-Mariano test\n",
              "\n",
              "data:  f.a and f.b and y\n",
              "statistic = -14.203, forecast horizon = 1, p-value < 2.2e-16\n",
              "alternative hypothesis: Forecast f1 and f2 have different accuracy.\n"
            ]
          },
          "metadata": {
            "tags": []
          }
        }
      ]
    },
    {
      "cell_type": "code",
      "metadata": {
        "colab": {
          "base_uri": "https://localhost:8080/",
          "height": 136
        },
        "id": "l0j5yLLOOw7a",
        "outputId": "975629e2-2893-43cc-987f-3661e8116f89"
      },
      "source": [
        "# Diebold-Mariano test for predictive accuracy - test 2\n",
        "e.a <- msgarch.error.a\n",
        "e.b <- msgarch.error.b\n",
        "\n",
        "dm.test(e.a, e.b, alternative = \"two.sided\", h = 1, power = 2)"
      ],
      "id": "l0j5yLLOOw7a",
      "execution_count": 230,
      "outputs": [
        {
          "output_type": "display_data",
          "data": {
            "text/plain": [
              "\n",
              "\tDiebold-Mariano Test\n",
              "\n",
              "data:  e.ae.b\n",
              "DM = -14.198, Forecast horizon = 1, Loss function power = 2, p-value <\n",
              "2.2e-16\n",
              "alternative hypothesis: two.sided\n"
            ]
          },
          "metadata": {
            "tags": []
          }
        }
      ]
    },
    {
      "cell_type": "code",
      "metadata": {
        "colab": {
          "base_uri": "https://localhost:8080/",
          "height": 34
        },
        "id": "ciLg4NnOOywe",
        "outputId": "0d067a19-7c9c-4040-e932-d374bc7ac51b"
      },
      "source": [
        "# Quasi-likelihood Loss Function For Volatility Forecasts - forecast a\n",
        "msgarch.qlike.a <- mean(LossVol(sigma.msgarch[,'sigma.msgarch.true'],\n",
        "                                sigma.msgarch[,'sigma.msgarch.pred.a'],\n",
        "                                which = \"QLIKE\"))\n",
        "round(msgarch.qlike.a, digits = 3)"
      ],
      "id": "ciLg4NnOOywe",
      "execution_count": 231,
      "outputs": [
        {
          "output_type": "display_data",
          "data": {
            "text/plain": [
              "[1] 1.521"
            ],
            "text/latex": "1.521",
            "text/markdown": "1.521",
            "text/html": [
              "1.521"
            ]
          },
          "metadata": {
            "tags": []
          }
        }
      ]
    },
    {
      "cell_type": "code",
      "metadata": {
        "colab": {
          "base_uri": "https://localhost:8080/",
          "height": 34
        },
        "id": "056kZTWaO0lh",
        "outputId": "ede2f584-0fb5-4d64-82c5-bc4bab24af53"
      },
      "source": [
        "# Quasi-likelihood Loss Function For Volatility Forecasts - forecast 1b\n",
        "msgarch.qlike.b <- mean(LossVol(sigma.msgarch[,'sigma.msgarch.true'],\n",
        "                                sigma.msgarch[,'sigma.msgarch.pred.b'],\n",
        "                                which = \"QLIKE\"))\n",
        "round(msgarch.qlike.b, digits = 3)"
      ],
      "id": "056kZTWaO0lh",
      "execution_count": 232,
      "outputs": [
        {
          "output_type": "display_data",
          "data": {
            "text/plain": [
              "[1] 1.552"
            ],
            "text/latex": "1.552",
            "text/markdown": "1.552",
            "text/html": [
              "1.552"
            ]
          },
          "metadata": {
            "tags": []
          }
        }
      ]
    },
    {
      "cell_type": "code",
      "metadata": {
        "colab": {
          "base_uri": "https://localhost:8080/",
          "height": 34
        },
        "id": "oB52pVTlBaui",
        "outputId": "60c496f4-7e6d-435a-c75e-6277415eda15"
      },
      "source": [
        "# Log loss / Cross-Entropy Loss -  forecast a\n",
        "msgarch.logloss.a <- LogLoss(sigma.msgarch[,'sigma.msgarch.pred.a'],\n",
        "                             sigma.msgarch[,'sigma.msgarch.true'])\n",
        "round(msgarch.logloss.a, digits = 3)"
      ],
      "id": "oB52pVTlBaui",
      "execution_count": 233,
      "outputs": [
        {
          "output_type": "display_data",
          "data": {
            "text/plain": [
              "[1] -7.927"
            ],
            "text/latex": "-7.927",
            "text/markdown": "-7.927",
            "text/html": [
              "-7.927"
            ]
          },
          "metadata": {
            "tags": []
          }
        }
      ]
    },
    {
      "cell_type": "code",
      "metadata": {
        "colab": {
          "base_uri": "https://localhost:8080/",
          "height": 34
        },
        "id": "tKV7Ey6HBcAX",
        "outputId": "89667dbb-0e26-4293-adc1-c4dcdd3d4107"
      },
      "source": [
        "# Log loss / Cross-Entropy Loss -  forecast b\n",
        "msgarch.logloss.b <- LogLoss(sigma.msgarch[,'sigma.msgarch.pred.b'],\n",
        "                             sigma.msgarch[,'sigma.msgarch.true'])\n",
        "round(msgarch.logloss.b, digits = 3)"
      ],
      "id": "tKV7Ey6HBcAX",
      "execution_count": 234,
      "outputs": [
        {
          "output_type": "display_data",
          "data": {
            "text/plain": [
              "[1] -7.927"
            ],
            "text/latex": "-7.927",
            "text/markdown": "-7.927",
            "text/html": [
              "-7.927"
            ]
          },
          "metadata": {
            "tags": []
          }
        }
      ]
    },
    {
      "cell_type": "code",
      "metadata": {
        "colab": {
          "base_uri": "https://localhost:8080/",
          "height": 136
        },
        "id": "sOe2Un_QBdZx",
        "outputId": "b7d73560-b747-432e-df9d-4442ff69cff7"
      },
      "source": [
        "# Linear regression to assess forecast performance - forecast a\n",
        "msgarch.model.a <- lm(sigma.msgarch.true ~ sigma.msgarch.pred.a,\n",
        "                      data = sigma.msgarch)\n",
        "round(coeftest(msgarch.model.a, NeweyWest(msgarch.model.a,\n",
        "                                          lag = bwNeweyWest(msgarch.model.a),\n",
        "                                          prewhite = F)), 3)\n",
        "round(summary(msgarch.model.a)$adj.r.squared, 3)"
      ],
      "id": "sOe2Un_QBdZx",
      "execution_count": 235,
      "outputs": [
        {
          "output_type": "display_data",
          "data": {
            "text/plain": [
              "\n",
              "t test of coefficients:\n",
              "\n",
              "                     Estimate Std. Error t value Pr(>|t|)\n",
              "(Intercept)             1.372      1.327   1.034    0.301\n",
              "sigma.msgarch.pred.a   -0.110      1.017  -0.108    0.914\n"
            ]
          },
          "metadata": {
            "tags": []
          }
        },
        {
          "output_type": "display_data",
          "data": {
            "text/plain": [
              "[1] -0.001"
            ],
            "text/latex": "-0.001",
            "text/markdown": "-0.001",
            "text/html": [
              "-0.001"
            ]
          },
          "metadata": {
            "tags": []
          }
        }
      ]
    },
    {
      "cell_type": "code",
      "metadata": {
        "colab": {
          "base_uri": "https://localhost:8080/",
          "height": 170
        },
        "id": "e7KtdthFBfGJ",
        "outputId": "5731af93-13b2-4438-e89a-ad54f16d7f8e"
      },
      "source": [
        "# Linear regression to assess forecast performance - forecast b\n",
        "msgarch.model.b <- lm(sigma.msgarch.true ~ sigma.msgarch.pred.b,\n",
        "                      data = sigma.msgarch)\n",
        "round(coeftest(msgarch.model.b, NeweyWest(msgarch.model.b,\n",
        "                                          lag = bwNeweyWest(msgarch.model.b),\n",
        "                                          prewhite = F)), 3)\n",
        "round(summary(msgarch.model.b)$adj.r.squared, 3)"
      ],
      "id": "e7KtdthFBfGJ",
      "execution_count": 236,
      "outputs": [
        {
          "output_type": "display_data",
          "data": {
            "text/plain": [
              "\n",
              "t test of coefficients:\n",
              "\n",
              "                     Estimate Std. Error t value Pr(>|t|)  \n",
              "(Intercept)             0.914      0.494   1.851    0.064 .\n",
              "sigma.msgarch.pred.b    0.214      0.342   0.624    0.533  \n",
              "---\n",
              "Signif. codes:  0 ‘***’ 0.001 ‘**’ 0.01 ‘*’ 0.05 ‘.’ 0.1 ‘ ’ 1\n"
            ]
          },
          "metadata": {
            "tags": []
          }
        },
        {
          "output_type": "display_data",
          "data": {
            "text/plain": [
              "[1] 0"
            ],
            "text/latex": "0",
            "text/markdown": "0",
            "text/html": [
              "0"
            ]
          },
          "metadata": {
            "tags": []
          }
        }
      ]
    },
    {
      "cell_type": "markdown",
      "metadata": {
        "id": "-78BTEGuzVds"
      },
      "source": [
        "##(b) MS EGARCH"
      ],
      "id": "-78BTEGuzVds"
    },
    {
      "cell_type": "markdown",
      "metadata": {
        "id": "u9TnzFICT7eZ"
      },
      "source": [
        "**Forecast**"
      ],
      "id": "u9TnzFICT7eZ"
    },
    {
      "cell_type": "code",
      "metadata": {
        "id": "dwUbBOwIUn4E"
      },
      "source": [
        "# Model Estimation - Maximum Likelihood Estimation\n",
        "msegarch.fit.pred.a <- FitML(msegarch.spec,\n",
        "                             data = N225.df$N225.Return)"
      ],
      "id": "dwUbBOwIUn4E",
      "execution_count": 237,
      "outputs": []
    },
    {
      "cell_type": "code",
      "metadata": {
        "id": "I7ro5gakUpWQ"
      },
      "source": [
        "# Model Estimation - MCMC/Bayesian estimation\n",
        "msegarch.fit.pred.b <- FitMCMC(msegarch.spec,\n",
        "                               data = N225.df$N225.Return)"
      ],
      "id": "I7ro5gakUpWQ",
      "execution_count": 238,
      "outputs": []
    },
    {
      "cell_type": "code",
      "metadata": {
        "id": "p6lPXY-eUqmn"
      },
      "source": [
        "# Forecast - Maximum Likelihood Estimation\n",
        "msegarch.pred.a <- predict(object = msegarch.fit.pred.a,\n",
        "                           nahead = dim(N225.df.out)[1],\n",
        "                           do.return.draw = TRUE)\n",
        "\n",
        "msegarch.forecast.a <- ts(msegarch.pred.a$vol)"
      ],
      "id": "p6lPXY-eUqmn",
      "execution_count": 239,
      "outputs": []
    },
    {
      "cell_type": "code",
      "metadata": {
        "id": "HV3tfTO5Ur-S"
      },
      "source": [
        "# Forecast - MCMC/Bayesian estimation\n",
        "msegarch.pred.b <- predict(object = msegarch.fit.pred.b,\n",
        "                          nahead = dim(N225.df.out)[1],\n",
        "                          do.return.draw = TRUE)\n",
        "\n",
        "msegarch.forecast.b <- ts(msegarch.pred.b$vol)"
      ],
      "id": "HV3tfTO5Ur-S",
      "execution_count": 240,
      "outputs": []
    },
    {
      "cell_type": "code",
      "metadata": {
        "colab": {
          "base_uri": "https://localhost:8080/",
          "height": 252
        },
        "id": "iCb5Lo59Uto6",
        "outputId": "b7cb43e4-d685-49bb-8b66-94d274839887"
      },
      "source": [
        "# Comparative\n",
        "sigma.msegarch.pred.a <- msegarch.forecast.a\n",
        "sigma.msegarch.pred.b <- msegarch.forecast.b\n",
        "sigma.msegarch.true <- ts(N225.df.out[,'N225.VolMSEGARCH'])\n",
        "\n",
        "sigma.msegarch <- na.omit(cbind(sigma.msegarch.pred.a,\n",
        "                                sigma.msegarch.pred.b,\n",
        "                                sigma.msegarch.true))\n",
        "head(sigma.msegarch)"
      ],
      "id": "iCb5Lo59Uto6",
      "execution_count": 241,
      "outputs": [
        {
          "output_type": "display_data",
          "data": {
            "text/plain": [
              "  sigma.msegarch.pred.a sigma.msegarch.pred.b sigma.msegarch.true\n",
              "1 1.269972              1.254948              1.427323           \n",
              "2 1.291872              1.275845              1.494555           \n",
              "3 1.298671              1.292517              1.347157           \n",
              "4 1.323281              1.308792              1.280250           \n",
              "5 1.321337              1.330085              1.182133           \n",
              "6 1.321842              1.309732              1.081344           "
            ],
            "text/latex": "A Time Series: 6 × 3\n\\begin{tabular}{r|lll}\n  & sigma.msegarch.pred.a & sigma.msegarch.pred.b & sigma.msegarch.true\\\\\n\\hline\n\t1 & 1.269972 & 1.254948 & 1.427323\\\\\n\t2 & 1.291872 & 1.275845 & 1.494555\\\\\n\t3 & 1.298671 & 1.292517 & 1.347157\\\\\n\t4 & 1.323281 & 1.308792 & 1.280250\\\\\n\t5 & 1.321337 & 1.330085 & 1.182133\\\\\n\t6 & 1.321842 & 1.309732 & 1.081344\\\\\n\\end{tabular}\n",
            "text/markdown": "\nA Time Series: 6 × 3\n\n| <!--/--> | sigma.msegarch.pred.a | sigma.msegarch.pred.b | sigma.msegarch.true |\n|---|---|---|---|\n| 1 | 1.269972 | 1.254948 | 1.427323 |\n| 2 | 1.291872 | 1.275845 | 1.494555 |\n| 3 | 1.298671 | 1.292517 | 1.347157 |\n| 4 | 1.323281 | 1.308792 | 1.280250 |\n| 5 | 1.321337 | 1.330085 | 1.182133 |\n| 6 | 1.321842 | 1.309732 | 1.081344 |\n\n",
            "text/html": [
              "<table class=\"dataframe\">\n",
              "<caption>A Time Series: 6 × 3</caption>\n",
              "<thead>\n",
              "\t<tr><th></th><th scope=col>sigma.msegarch.pred.a</th><th scope=col>sigma.msegarch.pred.b</th><th scope=col>sigma.msegarch.true</th></tr>\n",
              "</thead>\n",
              "<tbody>\n",
              "\t<tr><th scope=row>1</th><td>1.269972</td><td>1.254948</td><td>1.427323</td></tr>\n",
              "\t<tr><th scope=row>2</th><td>1.291872</td><td>1.275845</td><td>1.494555</td></tr>\n",
              "\t<tr><th scope=row>3</th><td>1.298671</td><td>1.292517</td><td>1.347157</td></tr>\n",
              "\t<tr><th scope=row>4</th><td>1.323281</td><td>1.308792</td><td>1.280250</td></tr>\n",
              "\t<tr><th scope=row>5</th><td>1.321337</td><td>1.330085</td><td>1.182133</td></tr>\n",
              "\t<tr><th scope=row>6</th><td>1.321842</td><td>1.309732</td><td>1.081344</td></tr>\n",
              "</tbody>\n",
              "</table>\n"
            ]
          },
          "metadata": {
            "tags": []
          }
        }
      ]
    },
    {
      "cell_type": "markdown",
      "metadata": {
        "id": "GzhnWJGgUvIS"
      },
      "source": [
        "**Performance evaluation**"
      ],
      "id": "GzhnWJGgUvIS"
    },
    {
      "cell_type": "code",
      "metadata": {
        "colab": {
          "base_uri": "https://localhost:8080/",
          "height": 51
        },
        "id": "POjtagN9Vgf1",
        "outputId": "48deb3a5-627f-45f9-b6a3-7e116f043181"
      },
      "source": [
        "# Forecast Error - Forecast a\n",
        "msegarch.error.a <- sigma.msegarch[,'sigma.msegarch.pred.a'] - sigma.msegarch[,'sigma.msegarch.true']\n",
        "head(msegarch.error.a)"
      ],
      "id": "POjtagN9Vgf1",
      "execution_count": 242,
      "outputs": [
        {
          "output_type": "display_data",
          "data": {
            "text/plain": [
              "A Time Series:\n",
              "[1] -0.15735099 -0.20268325 -0.04848598  0.04303095  0.13920437  0.24049846"
            ],
            "text/latex": "A Time Series:\\\\\\begin{enumerate*}\n\\item -0.15735099382666\n\\item -0.20268324558315\n\\item -0.0484859752195315\n\\item 0.0430309524250183\n\\item 0.139204368286603\n\\item 0.240498458407693\n\\end{enumerate*}\n",
            "text/markdown": "A Time Series:  \n1. -0.15735099382666\n2. -0.20268324558315\n3. -0.0484859752195315\n4. 0.0430309524250183\n5. 0.139204368286603\n6. 0.240498458407693\n\n\n",
            "text/html": [
              "A Time Series:<br><style>\n",
              ".list-inline {list-style: none; margin:0; padding: 0}\n",
              ".list-inline>li {display: inline-block}\n",
              ".list-inline>li:not(:last-child)::after {content: \"\\00b7\"; padding: 0 .5ex}\n",
              "</style>\n",
              "<ol class=list-inline><li>-0.15735099382666</li><li>-0.20268324558315</li><li>-0.0484859752195315</li><li>0.0430309524250183</li><li>0.139204368286603</li><li>0.240498458407693</li></ol>\n"
            ]
          },
          "metadata": {
            "tags": []
          }
        }
      ]
    },
    {
      "cell_type": "code",
      "metadata": {
        "colab": {
          "base_uri": "https://localhost:8080/",
          "height": 51
        },
        "id": "qXxb9AZoViK5",
        "outputId": "9d6dd0d4-0d77-4548-9257-e3840e0d2bfb"
      },
      "source": [
        "# Forecast Error - Forecast b\n",
        "msegarch.error.b <- sigma.msegarch[,'sigma.msegarch.pred.b'] - sigma.msegarch[,'sigma.msegarch.true']\n",
        "head(msegarch.error.b)"
      ],
      "id": "qXxb9AZoViK5",
      "execution_count": 243,
      "outputs": [
        {
          "output_type": "display_data",
          "data": {
            "text/plain": [
              "A Time Series:\n",
              "[1] -0.17237460 -0.21871053 -0.05463931  0.02854236  0.14795174  0.22838798"
            ],
            "text/latex": "A Time Series:\\\\\\begin{enumerate*}\n\\item -0.172374597540591\n\\item -0.218710527042978\n\\item -0.0546393089348687\n\\item 0.0285423590886305\n\\item 0.147951742407824\n\\item 0.22838797960158\n\\end{enumerate*}\n",
            "text/markdown": "A Time Series:  \n1. -0.172374597540591\n2. -0.218710527042978\n3. -0.0546393089348687\n4. 0.0285423590886305\n5. 0.147951742407824\n6. 0.22838797960158\n\n\n",
            "text/html": [
              "A Time Series:<br><style>\n",
              ".list-inline {list-style: none; margin:0; padding: 0}\n",
              ".list-inline>li {display: inline-block}\n",
              ".list-inline>li:not(:last-child)::after {content: \"\\00b7\"; padding: 0 .5ex}\n",
              "</style>\n",
              "<ol class=list-inline><li>-0.172374597540591</li><li>-0.218710527042978</li><li>-0.0546393089348687</li><li>0.0285423590886305</li><li>0.147951742407824</li><li>0.22838797960158</li></ol>\n"
            ]
          },
          "metadata": {
            "tags": []
          }
        }
      ]
    },
    {
      "cell_type": "code",
      "metadata": {
        "colab": {
          "base_uri": "https://localhost:8080/",
          "height": 34
        },
        "id": "7Ym-Je0xVjsX",
        "outputId": "3a4e4df2-1742-4d97-8854-ba9117f93dcd"
      },
      "source": [
        "# Mean Square Error Loss - Forecast a\n",
        "msegarch.mse.a <- MSE(sigma.msegarch[,'sigma.msegarch.pred.a'],\n",
        "                      sigma.msegarch[,'sigma.msegarch.true'])\n",
        "round(msegarch.mse.a, digits = 3)"
      ],
      "id": "7Ym-Je0xVjsX",
      "execution_count": 244,
      "outputs": [
        {
          "output_type": "display_data",
          "data": {
            "text/plain": [
              "[1] 0.36"
            ],
            "text/latex": "0.36",
            "text/markdown": "0.36",
            "text/html": [
              "0.36"
            ]
          },
          "metadata": {
            "tags": []
          }
        }
      ]
    },
    {
      "cell_type": "code",
      "metadata": {
        "colab": {
          "base_uri": "https://localhost:8080/",
          "height": 34
        },
        "id": "kDMt40y6VlED",
        "outputId": "57aa5666-34ab-43d2-92d7-ed910d2730ee"
      },
      "source": [
        "# Mean Square Error Loss - Forecast b\n",
        "msegarch.mse.b <- MSE(sigma.msegarch[,'sigma.msegarch.pred.b'],\n",
        "                      sigma.msegarch[,'sigma.msegarch.true'])\n",
        "round(msegarch.mse.b, digits = 3)"
      ],
      "id": "kDMt40y6VlED",
      "execution_count": 245,
      "outputs": [
        {
          "output_type": "display_data",
          "data": {
            "text/plain": [
              "[1] 0.353"
            ],
            "text/latex": "0.353",
            "text/markdown": "0.353",
            "text/html": [
              "0.353"
            ]
          },
          "metadata": {
            "tags": []
          }
        }
      ]
    },
    {
      "cell_type": "code",
      "metadata": {
        "colab": {
          "base_uri": "https://localhost:8080/",
          "height": 34
        },
        "id": "KuTJjVuQVmfI",
        "outputId": "b01f089f-f36d-4aca-ac25-39a1ce3834b7"
      },
      "source": [
        "# Mean Absolute Error Loss - Forecast a\n",
        "msegarch.mae.a <- MAE(sigma.msegarch[,'sigma.msegarch.pred.a'],\n",
        "                      sigma.msegarch[,'sigma.msegarch.true'])\n",
        "round(msegarch.mae.a, digits = 3)"
      ],
      "id": "KuTJjVuQVmfI",
      "execution_count": 246,
      "outputs": [
        {
          "output_type": "display_data",
          "data": {
            "text/plain": [
              "[1] 0.525"
            ],
            "text/latex": "0.525",
            "text/markdown": "0.525",
            "text/html": [
              "0.525"
            ]
          },
          "metadata": {
            "tags": []
          }
        }
      ]
    },
    {
      "cell_type": "code",
      "metadata": {
        "colab": {
          "base_uri": "https://localhost:8080/",
          "height": 34
        },
        "id": "mhBHKzaRVoAs",
        "outputId": "5224744f-28ca-4aa6-d784-db45b4a93a4d"
      },
      "source": [
        "# Mean Absolute Error Loss - Forecast b\n",
        "msegarch.mae.b <- MAE(sigma.msegarch[,'sigma.msegarch.pred.b'],\n",
        "                      sigma.msegarch[,'sigma.msegarch.true'])\n",
        "round(msegarch.mae.b, digits = 3)"
      ],
      "id": "mhBHKzaRVoAs",
      "execution_count": 247,
      "outputs": [
        {
          "output_type": "display_data",
          "data": {
            "text/plain": [
              "[1] 0.521"
            ],
            "text/latex": "0.521",
            "text/markdown": "0.521",
            "text/html": [
              "0.521"
            ]
          },
          "metadata": {
            "tags": []
          }
        }
      ]
    },
    {
      "cell_type": "code",
      "metadata": {
        "colab": {
          "base_uri": "https://localhost:8080/",
          "height": 34
        },
        "id": "iwaAxe-iVpPE",
        "outputId": "92758532-b95a-439a-e4e8-4cc56a608a22"
      },
      "source": [
        "# Root Mean Square Error Loss - Forecast a\n",
        "msegarch.rmse.a <- RMSE(sigma.msegarch[,'sigma.msegarch.pred.a'],\n",
        "                        sigma.msegarch[,'sigma.msegarch.true'])\n",
        "round(msegarch.rmse.a, digits = 3)"
      ],
      "id": "iwaAxe-iVpPE",
      "execution_count": 248,
      "outputs": [
        {
          "output_type": "display_data",
          "data": {
            "text/plain": [
              "[1] 0.6"
            ],
            "text/latex": "0.6",
            "text/markdown": "0.6",
            "text/html": [
              "0.6"
            ]
          },
          "metadata": {
            "tags": []
          }
        }
      ]
    },
    {
      "cell_type": "code",
      "metadata": {
        "colab": {
          "base_uri": "https://localhost:8080/",
          "height": 34
        },
        "id": "yHKTx3GjVrU4",
        "outputId": "ec8d8871-42a5-465c-b750-78accdcd4875"
      },
      "source": [
        "# Root Mean Square Error Loss - Forecast b\n",
        "msegarch.rmse.b <- RMSE(sigma.msegarch[,'sigma.msegarch.pred.b'],\n",
        "                        sigma.msegarch[,'sigma.msegarch.true'])\n",
        "round(msegarch.rmse.b, digits = 3)"
      ],
      "id": "yHKTx3GjVrU4",
      "execution_count": 249,
      "outputs": [
        {
          "output_type": "display_data",
          "data": {
            "text/plain": [
              "[1] 0.594"
            ],
            "text/latex": "0.594",
            "text/markdown": "0.594",
            "text/html": [
              "0.594"
            ]
          },
          "metadata": {
            "tags": []
          }
        }
      ]
    },
    {
      "cell_type": "code",
      "metadata": {
        "colab": {
          "base_uri": "https://localhost:8080/",
          "height": 34
        },
        "id": "q0z0yjuZVtNf",
        "outputId": "47df85b9-22ef-4d57-a8da-44dfb20512b8"
      },
      "source": [
        "# Quasi-likelihood loss function - forecast a\n",
        "h <- sigma.msegarch[,'sigma.msegarch.true']\n",
        "\n",
        "h.hat.a <- sigma.msegarch[,'sigma.msegarch.pred.a']     \n",
        "msegarch.qlike.a <- mean(log(sqrt(h)) + h.hat.a/sqrt(h))\n",
        "round(msegarch.qlike.a, digits = 5)"
      ],
      "id": "q0z0yjuZVtNf",
      "execution_count": 250,
      "outputs": [
        {
          "output_type": "display_data",
          "data": {
            "text/plain": [
              "[1] 1.51235"
            ],
            "text/latex": "1.51235",
            "text/markdown": "1.51235",
            "text/html": [
              "1.51235"
            ]
          },
          "metadata": {
            "tags": []
          }
        }
      ]
    },
    {
      "cell_type": "code",
      "metadata": {
        "colab": {
          "base_uri": "https://localhost:8080/",
          "height": 34
        },
        "id": "Jr_3YbHMVuw6",
        "outputId": "43ae39a4-ac27-47c5-a343-f0155f0ac17b"
      },
      "source": [
        "# Quasi-likelihood loss function - forecast b\n",
        "h.hat.b <- sigma.msegarch[,'sigma.msegarch.pred.b']\n",
        "msegarch.qlike.b <- mean(log(sqrt(h)) + h.hat.b/sqrt(h))\n",
        "round(msegarch.qlike.b, digits = 5)"
      ],
      "id": "Jr_3YbHMVuw6",
      "execution_count": 251,
      "outputs": [
        {
          "output_type": "display_data",
          "data": {
            "text/plain": [
              "[1] 1.51182"
            ],
            "text/latex": "1.51182",
            "text/markdown": "1.51182",
            "text/html": [
              "1.51182"
            ]
          },
          "metadata": {
            "tags": []
          }
        }
      ]
    },
    {
      "cell_type": "code",
      "metadata": {
        "colab": {
          "base_uri": "https://localhost:8080/",
          "height": 119
        },
        "id": "ulWlwNktVwfY",
        "outputId": "fc381a67-68d5-488a-b96f-26e3c08ced7d"
      },
      "source": [
        "# Diebold-Mariano Test (accuracy test) - test 1\n",
        "f.a <- sigma.msegarch[,'sigma.msegarch.pred.a']\n",
        "f.b <- sigma.msegarch[,'sigma.msegarch.pred.b']\n",
        "y <- sigma.msegarch[,'sigma.msegarch.true']\n",
        "\n",
        "DM.test(f.a, f.b, y, loss.type = \"SE\", c = FALSE, H1 = \"same\")"
      ],
      "id": "ulWlwNktVwfY",
      "execution_count": 252,
      "outputs": [
        {
          "output_type": "display_data",
          "data": {
            "text/plain": [
              "\n",
              "\tDiebold-Mariano test\n",
              "\n",
              "data:  f.a and f.b and y\n",
              "statistic = 1.6522, forecast horizon = 1, p-value = 0.09849\n",
              "alternative hypothesis: Forecast f1 and f2 have different accuracy.\n"
            ]
          },
          "metadata": {
            "tags": []
          }
        }
      ]
    },
    {
      "cell_type": "code",
      "metadata": {
        "colab": {
          "base_uri": "https://localhost:8080/",
          "height": 136
        },
        "id": "MmdmO3tAVxyS",
        "outputId": "e8a54824-7940-4cf6-afbd-4d17add1bf56"
      },
      "source": [
        "# Diebold-Mariano test for predictive accuracy - test 2\n",
        "e.a <- msegarch.error.a\n",
        "e.b <- msegarch.error.b\n",
        "\n",
        "dm.test(e.a, e.b, alternative = \"two.sided\", h = 1, power = 2)"
      ],
      "id": "MmdmO3tAVxyS",
      "execution_count": 253,
      "outputs": [
        {
          "output_type": "display_data",
          "data": {
            "text/plain": [
              "\n",
              "\tDiebold-Mariano Test\n",
              "\n",
              "data:  e.ae.b\n",
              "DM = 1.6488, Forecast horizon = 1, Loss function power = 2, p-value =\n",
              "0.1005\n",
              "alternative hypothesis: two.sided\n"
            ]
          },
          "metadata": {
            "tags": []
          }
        }
      ]
    },
    {
      "cell_type": "code",
      "metadata": {
        "colab": {
          "base_uri": "https://localhost:8080/",
          "height": 34
        },
        "id": "5d-xsUBTV1FG",
        "outputId": "a3d57734-7fe5-4ba6-ce1a-fcbe1e935633"
      },
      "source": [
        "# Quasi-likelihood Loss Function For Volatility Forecasts - forecast a\n",
        "msegarch.qlike.a <- mean(LossVol(sigma.msegarch[,'sigma.msegarch.true'],\n",
        "                                 sigma.msegarch[,'sigma.msegarch.pred.a'],\n",
        "                                 which = \"QLIKE\"))\n",
        "round(msegarch.qlike.a, digits = 3)"
      ],
      "id": "5d-xsUBTV1FG",
      "execution_count": 254,
      "outputs": [
        {
          "output_type": "display_data",
          "data": {
            "text/plain": [
              "[1] 1.614"
            ],
            "text/latex": "1.614",
            "text/markdown": "1.614",
            "text/html": [
              "1.614"
            ]
          },
          "metadata": {
            "tags": []
          }
        }
      ]
    },
    {
      "cell_type": "code",
      "metadata": {
        "colab": {
          "base_uri": "https://localhost:8080/",
          "height": 34
        },
        "id": "h5IP8nAUV5un",
        "outputId": "4cffaf35-c4db-4995-96e4-819502915cbf"
      },
      "source": [
        "# Quasi-likelihood Loss Function For Volatility Forecasts - forecast 1b\n",
        "msegarch.qlike.b <- mean(LossVol(sigma.msegarch[,'sigma.msegarch.true'],\n",
        "                                 sigma.msegarch[,'sigma.msegarch.pred.b'],\n",
        "                                 which = \"QLIKE\"))\n",
        "round(msegarch.qlike.b, digits = 3)"
      ],
      "id": "h5IP8nAUV5un",
      "execution_count": 255,
      "outputs": [
        {
          "output_type": "display_data",
          "data": {
            "text/plain": [
              "[1] 1.606"
            ],
            "text/latex": "1.606",
            "text/markdown": "1.606",
            "text/html": [
              "1.606"
            ]
          },
          "metadata": {
            "tags": []
          }
        }
      ]
    },
    {
      "cell_type": "code",
      "metadata": {
        "colab": {
          "base_uri": "https://localhost:8080/",
          "height": 34
        },
        "id": "3WbEUHjtV7yw",
        "outputId": "d262a970-ae28-45b0-b95e-feb10734d77a"
      },
      "source": [
        "# Log loss / Cross-Entropy Loss -  forecast a\n",
        "msegarch.logloss.a <- LogLoss(sigma.msegarch[,'sigma.msegarch.pred.a'],\n",
        "                              sigma.msegarch[,'sigma.msegarch.true'])\n",
        "round(msegarch.logloss.a, digits = 3)"
      ],
      "id": "3WbEUHjtV7yw",
      "execution_count": 256,
      "outputs": [
        {
          "output_type": "display_data",
          "data": {
            "text/plain": [
              "[1] -8.075"
            ],
            "text/latex": "-8.075",
            "text/markdown": "-8.075",
            "text/html": [
              "-8.075"
            ]
          },
          "metadata": {
            "tags": []
          }
        }
      ]
    },
    {
      "cell_type": "code",
      "metadata": {
        "colab": {
          "base_uri": "https://localhost:8080/",
          "height": 34
        },
        "id": "nGKcE1e7V9na",
        "outputId": "2895a0b6-9136-4657-d243-279ba246d72f"
      },
      "source": [
        "# Log loss / Cross-Entropy Loss -  forecast b\n",
        "msegarch.logloss.b <- LogLoss(sigma.msegarch[,'sigma.msegarch.pred.b'],\n",
        "                              sigma.msegarch[,'sigma.msegarch.true'])\n",
        "round(msegarch.logloss.b, digits = 3)"
      ],
      "id": "nGKcE1e7V9na",
      "execution_count": 257,
      "outputs": [
        {
          "output_type": "display_data",
          "data": {
            "text/plain": [
              "[1] -8.075"
            ],
            "text/latex": "-8.075",
            "text/markdown": "-8.075",
            "text/html": [
              "-8.075"
            ]
          },
          "metadata": {
            "tags": []
          }
        }
      ]
    },
    {
      "cell_type": "code",
      "metadata": {
        "colab": {
          "base_uri": "https://localhost:8080/",
          "height": 136
        },
        "id": "fEdw4L4JWDnH",
        "outputId": "f3b47a9a-d9d7-45f2-adc1-513990252533"
      },
      "source": [
        "# Linear regression to assess forecast performance - forecast a\n",
        "msegarch.model.a <- lm(sigma.msegarch.true ~ sigma.msegarch.pred.a,\n",
        "                       data = sigma.msegarch)\n",
        "round(coeftest(msegarch.model.a, NeweyWest(msegarch.model.a,\n",
        "                                           lag = bwNeweyWest(msegarch.model.a),\n",
        "                                           prewhite = F)), 3)\n",
        "round(summary(msegarch.model.a)$adj.r.squared, 3)"
      ],
      "id": "fEdw4L4JWDnH",
      "execution_count": 258,
      "outputs": [
        {
          "output_type": "display_data",
          "data": {
            "text/plain": [
              "\n",
              "t test of coefficients:\n",
              "\n",
              "                      Estimate Std. Error t value Pr(>|t|)\n",
              "(Intercept)              1.008      0.837   1.204    0.230\n",
              "sigma.msegarch.pred.a    0.149      0.574   0.259    0.796\n"
            ]
          },
          "metadata": {
            "tags": []
          }
        },
        {
          "output_type": "display_data",
          "data": {
            "text/plain": [
              "[1] -0.004"
            ],
            "text/latex": "-0.004",
            "text/markdown": "-0.004",
            "text/html": [
              "-0.004"
            ]
          },
          "metadata": {
            "tags": []
          }
        }
      ]
    },
    {
      "cell_type": "code",
      "metadata": {
        "colab": {
          "base_uri": "https://localhost:8080/",
          "height": 170
        },
        "id": "U7IDUvRJWFVX",
        "outputId": "99c8dab6-e278-420e-ee09-25bbbdd909ea"
      },
      "source": [
        "# Linear regression to assess forecast performance - forecast b\n",
        "msegarch.model.b <- lm(sigma.msegarch.true ~ sigma.msegarch.pred.b,\n",
        "                       data = sigma.msegarch)\n",
        "round(coeftest(msegarch.model.b, NeweyWest(msegarch.model.b,\n",
        "                                           lag = bwNeweyWest(msegarch.model.b),\n",
        "                                           prewhite = F)), 3)\n",
        "round(summary(msegarch.model.b)$adj.r.squared, 3)"
      ],
      "id": "U7IDUvRJWFVX",
      "execution_count": 259,
      "outputs": [
        {
          "output_type": "display_data",
          "data": {
            "text/plain": [
              "\n",
              "t test of coefficients:\n",
              "\n",
              "                      Estimate Std. Error t value Pr(>|t|)  \n",
              "(Intercept)             -0.302      0.864  -0.350    0.727  \n",
              "sigma.msegarch.pred.b    1.011      0.586   1.724    0.086 .\n",
              "---\n",
              "Signif. codes:  0 ‘***’ 0.001 ‘**’ 0.01 ‘*’ 0.05 ‘.’ 0.1 ‘ ’ 1\n"
            ]
          },
          "metadata": {
            "tags": []
          }
        },
        {
          "output_type": "display_data",
          "data": {
            "text/plain": [
              "[1] 0.016"
            ],
            "text/latex": "0.016",
            "text/markdown": "0.016",
            "text/html": [
              "0.016"
            ]
          },
          "metadata": {
            "tags": []
          }
        }
      ]
    },
    {
      "cell_type": "markdown",
      "metadata": {
        "id": "nB7uBx88zXd1"
      },
      "source": [
        "##(c) MS GJR-GARCH"
      ],
      "id": "nB7uBx88zXd1"
    },
    {
      "cell_type": "markdown",
      "metadata": {
        "id": "l3JW-GeRT-W3"
      },
      "source": [
        "**Forecast**"
      ],
      "id": "l3JW-GeRT-W3"
    },
    {
      "cell_type": "code",
      "metadata": {
        "id": "CQ6gLJ8xqn77"
      },
      "source": [
        "# Model Estimation - Maximum Likelihood Estimation\n",
        "msgjrgarch.fit.pred.a <- FitML(msgjrgarch.spec,\n",
        "                                data = N225.df$N225.Return)"
      ],
      "id": "CQ6gLJ8xqn77",
      "execution_count": 260,
      "outputs": []
    },
    {
      "cell_type": "code",
      "metadata": {
        "id": "uk7xwCe0qqa8"
      },
      "source": [
        "# Model Estimation - MCMC/Bayesian estimation\n",
        "msgjrgarch.fit.pred.b <- FitMCMC(msgjrgarch.spec,\n",
        "                                 data = N225.df$N225.Return)"
      ],
      "id": "uk7xwCe0qqa8",
      "execution_count": 261,
      "outputs": []
    },
    {
      "cell_type": "code",
      "metadata": {
        "id": "taC2gBX_qroa"
      },
      "source": [
        "# Forecast - Maximum Likelihood Estimation\n",
        "msgjrgarch.pred.a <- predict(object = msgjrgarch.fit.pred.a,\n",
        "                            nahead = dim(N225.df.out)[1],\n",
        "                            do.return.draw = TRUE)\n",
        "\n",
        "msgjrgarch.forecast.a <- ts(msgjrgarch.pred.a$vol)"
      ],
      "id": "taC2gBX_qroa",
      "execution_count": 262,
      "outputs": []
    },
    {
      "cell_type": "code",
      "metadata": {
        "id": "DvFhQsItqtQ4"
      },
      "source": [
        "# Forecast - MCMC/Bayesian estimation\n",
        "msgjrgarch.pred.b <- predict(object = msgjrgarch.fit.pred.b,\n",
        "                            nahead = dim(N225.df.out)[1],\n",
        "                            do.return.draw = TRUE)\n",
        "\n",
        "msgjrgarch.forecast.b <- ts(msgjrgarch.pred.b$vol)"
      ],
      "id": "DvFhQsItqtQ4",
      "execution_count": 263,
      "outputs": []
    },
    {
      "cell_type": "code",
      "metadata": {
        "colab": {
          "base_uri": "https://localhost:8080/",
          "height": 252
        },
        "id": "jT24kG0tquux",
        "outputId": "3eaf21cc-9123-4d13-8221-2c48d32ac223"
      },
      "source": [
        "# Comparative\n",
        "sigma.msgjrgarch.pred.a <- msgjrgarch.forecast.a\n",
        "sigma.msgjrgarch.pred.b <- msgjrgarch.forecast.b\n",
        "sigma.msgjrgarch.true <- ts(N225.df.out[,'N225.VolMSGJRGARCH'])\n",
        "\n",
        "sigma.msgjrgarch <- na.omit(cbind(sigma.msgjrgarch.pred.a,\n",
        "                                  sigma.msgjrgarch.pred.b,\n",
        "                                  sigma.msgjrgarch.true))\n",
        "head(sigma.msgjrgarch)"
      ],
      "id": "jT24kG0tquux",
      "execution_count": 264,
      "outputs": [
        {
          "output_type": "display_data",
          "data": {
            "text/plain": [
              "  sigma.msgjrgarch.pred.a sigma.msgjrgarch.pred.b sigma.msgjrgarch.true\n",
              "1 1.239661                1.232340                1.439692             \n",
              "2 1.238846                1.242619                1.403150             \n",
              "3 1.263816                1.297050                1.343261             \n",
              "4 1.270337                1.244223                1.279790             \n",
              "5 1.285416                1.318923                1.247217             \n",
              "6 1.289490                1.375566                1.192845             "
            ],
            "text/latex": "A Time Series: 6 × 3\n\\begin{tabular}{r|lll}\n  & sigma.msgjrgarch.pred.a & sigma.msgjrgarch.pred.b & sigma.msgjrgarch.true\\\\\n\\hline\n\t1 & 1.239661 & 1.232340 & 1.439692\\\\\n\t2 & 1.238846 & 1.242619 & 1.403150\\\\\n\t3 & 1.263816 & 1.297050 & 1.343261\\\\\n\t4 & 1.270337 & 1.244223 & 1.279790\\\\\n\t5 & 1.285416 & 1.318923 & 1.247217\\\\\n\t6 & 1.289490 & 1.375566 & 1.192845\\\\\n\\end{tabular}\n",
            "text/markdown": "\nA Time Series: 6 × 3\n\n| <!--/--> | sigma.msgjrgarch.pred.a | sigma.msgjrgarch.pred.b | sigma.msgjrgarch.true |\n|---|---|---|---|\n| 1 | 1.239661 | 1.232340 | 1.439692 |\n| 2 | 1.238846 | 1.242619 | 1.403150 |\n| 3 | 1.263816 | 1.297050 | 1.343261 |\n| 4 | 1.270337 | 1.244223 | 1.279790 |\n| 5 | 1.285416 | 1.318923 | 1.247217 |\n| 6 | 1.289490 | 1.375566 | 1.192845 |\n\n",
            "text/html": [
              "<table class=\"dataframe\">\n",
              "<caption>A Time Series: 6 × 3</caption>\n",
              "<thead>\n",
              "\t<tr><th></th><th scope=col>sigma.msgjrgarch.pred.a</th><th scope=col>sigma.msgjrgarch.pred.b</th><th scope=col>sigma.msgjrgarch.true</th></tr>\n",
              "</thead>\n",
              "<tbody>\n",
              "\t<tr><th scope=row>1</th><td>1.239661</td><td>1.232340</td><td>1.439692</td></tr>\n",
              "\t<tr><th scope=row>2</th><td>1.238846</td><td>1.242619</td><td>1.403150</td></tr>\n",
              "\t<tr><th scope=row>3</th><td>1.263816</td><td>1.297050</td><td>1.343261</td></tr>\n",
              "\t<tr><th scope=row>4</th><td>1.270337</td><td>1.244223</td><td>1.279790</td></tr>\n",
              "\t<tr><th scope=row>5</th><td>1.285416</td><td>1.318923</td><td>1.247217</td></tr>\n",
              "\t<tr><th scope=row>6</th><td>1.289490</td><td>1.375566</td><td>1.192845</td></tr>\n",
              "</tbody>\n",
              "</table>\n"
            ]
          },
          "metadata": {
            "tags": []
          }
        }
      ]
    },
    {
      "cell_type": "markdown",
      "metadata": {
        "id": "JuI4MGEVqxUD"
      },
      "source": [
        "**Performance evaluation**"
      ],
      "id": "JuI4MGEVqxUD"
    },
    {
      "cell_type": "code",
      "metadata": {
        "colab": {
          "base_uri": "https://localhost:8080/",
          "height": 51
        },
        "id": "lXsnouifqzNK",
        "outputId": "2344a07b-127f-4f20-e759-bded6fd75225"
      },
      "source": [
        "# Forecast Error - Forecast a\n",
        "msgjrgarch.error.a <- sigma.msgjrgarch[,'sigma.msgjrgarch.pred.a'] - sigma.msgjrgarch[,'sigma.msgjrgarch.true']\n",
        "head(msgjrgarch.error.a)"
      ],
      "id": "lXsnouifqzNK",
      "execution_count": 265,
      "outputs": [
        {
          "output_type": "display_data",
          "data": {
            "text/plain": [
              "A Time Series:\n",
              "[1] -0.200031385 -0.164303798 -0.079444720 -0.009453496  0.038199456\n",
              "[6]  0.096644865"
            ],
            "text/latex": "A Time Series:\\\\\\begin{enumerate*}\n\\item -0.200031384939887\n\\item -0.164303798282028\n\\item -0.0794447199555048\n\\item -0.00945349605273749\n\\item 0.0381994563655166\n\\item 0.0966448654388636\n\\end{enumerate*}\n",
            "text/markdown": "A Time Series:  \n1. -0.200031384939887\n2. -0.164303798282028\n3. -0.0794447199555048\n4. -0.00945349605273749\n5. 0.0381994563655166\n6. 0.0966448654388636\n\n\n",
            "text/html": [
              "A Time Series:<br><style>\n",
              ".list-inline {list-style: none; margin:0; padding: 0}\n",
              ".list-inline>li {display: inline-block}\n",
              ".list-inline>li:not(:last-child)::after {content: \"\\00b7\"; padding: 0 .5ex}\n",
              "</style>\n",
              "<ol class=list-inline><li>-0.200031384939887</li><li>-0.164303798282028</li><li>-0.0794447199555048</li><li>-0.00945349605273749</li><li>0.0381994563655166</li><li>0.0966448654388636</li></ol>\n"
            ]
          },
          "metadata": {
            "tags": []
          }
        }
      ]
    },
    {
      "cell_type": "code",
      "metadata": {
        "colab": {
          "base_uri": "https://localhost:8080/",
          "height": 51
        },
        "id": "G-it0c-8q0qO",
        "outputId": "c229b274-26b1-4023-95b3-dd8b84917436"
      },
      "source": [
        "# Forecast Error - Forecast b\n",
        "msgjrgarch.error.b <- sigma.msgjrgarch[,'sigma.msgjrgarch.pred.b'] - sigma.msgjrgarch[,'sigma.msgjrgarch.true']\n",
        "head(msgjrgarch.error.b)"
      ],
      "id": "G-it0c-8q0qO",
      "execution_count": 266,
      "outputs": [
        {
          "output_type": "display_data",
          "data": {
            "text/plain": [
              "A Time Series:\n",
              "[1] -0.20735283 -0.16053055 -0.04621063 -0.03556701  0.07170677  0.18272035"
            ],
            "text/latex": "A Time Series:\\\\\\begin{enumerate*}\n\\item -0.207352825823787\n\\item -0.160530546663517\n\\item -0.0462106251681054\n\\item -0.0355670090828382\n\\item 0.0717067698394971\n\\item 0.182720353052391\n\\end{enumerate*}\n",
            "text/markdown": "A Time Series:  \n1. -0.207352825823787\n2. -0.160530546663517\n3. -0.0462106251681054\n4. -0.0355670090828382\n5. 0.0717067698394971\n6. 0.182720353052391\n\n\n",
            "text/html": [
              "A Time Series:<br><style>\n",
              ".list-inline {list-style: none; margin:0; padding: 0}\n",
              ".list-inline>li {display: inline-block}\n",
              ".list-inline>li:not(:last-child)::after {content: \"\\00b7\"; padding: 0 .5ex}\n",
              "</style>\n",
              "<ol class=list-inline><li>-0.207352825823787</li><li>-0.160530546663517</li><li>-0.0462106251681054</li><li>-0.0355670090828382</li><li>0.0717067698394971</li><li>0.182720353052391</li></ol>\n"
            ]
          },
          "metadata": {
            "tags": []
          }
        }
      ]
    },
    {
      "cell_type": "code",
      "metadata": {
        "colab": {
          "base_uri": "https://localhost:8080/",
          "height": 34
        },
        "id": "vpi9_7Ozq2YF",
        "outputId": "f6c028b1-9d29-436e-d3a0-e9fdcb70226f"
      },
      "source": [
        "# Mean Square Error Loss - Forecast a\n",
        "msgjrgarch.mse.a <- MSE(sigma.msgjrgarch[,'sigma.msgjrgarch.pred.a'],\n",
        "                        sigma.msgjrgarch[,'sigma.msgjrgarch.true'])\n",
        "round(msgjrgarch.mse.a, digits = 3)"
      ],
      "id": "vpi9_7Ozq2YF",
      "execution_count": 267,
      "outputs": [
        {
          "output_type": "display_data",
          "data": {
            "text/plain": [
              "[1] 0.303"
            ],
            "text/latex": "0.303",
            "text/markdown": "0.303",
            "text/html": [
              "0.303"
            ]
          },
          "metadata": {
            "tags": []
          }
        }
      ]
    },
    {
      "cell_type": "code",
      "metadata": {
        "colab": {
          "base_uri": "https://localhost:8080/",
          "height": 34
        },
        "id": "BmG7UUNUq3pM",
        "outputId": "7e6bfd5a-10d1-4da2-b530-6aecf852f41c"
      },
      "source": [
        "# Mean Square Error Loss - Forecast b\n",
        "msgjrgarch.mse.b <- MSE(sigma.msgjrgarch[,'sigma.msgjrgarch.pred.b'],\n",
        "                        sigma.msgjrgarch[,'sigma.msgjrgarch.true'])\n",
        "round(msgjrgarch.mse.b, digits = 3)"
      ],
      "id": "BmG7UUNUq3pM",
      "execution_count": 268,
      "outputs": [
        {
          "output_type": "display_data",
          "data": {
            "text/plain": [
              "[1] 0.37"
            ],
            "text/latex": "0.37",
            "text/markdown": "0.37",
            "text/html": [
              "0.37"
            ]
          },
          "metadata": {
            "tags": []
          }
        }
      ]
    },
    {
      "cell_type": "code",
      "metadata": {
        "colab": {
          "base_uri": "https://localhost:8080/",
          "height": 34
        },
        "id": "hXTa5SMJq5Kc",
        "outputId": "d7a6e934-4f93-4306-f34e-b950e2bc47ef"
      },
      "source": [
        "# Mean Absolute Error Loss - Forecast a\n",
        "msgjrgarch.mae.a <- MAE(sigma.msgjrgarch[,'sigma.msgjrgarch.pred.a'],\n",
        "                        sigma.msgjrgarch[,'sigma.msgjrgarch.true'])\n",
        "round(msgjrgarch.mae.a, digits = 3)"
      ],
      "id": "hXTa5SMJq5Kc",
      "execution_count": 269,
      "outputs": [
        {
          "output_type": "display_data",
          "data": {
            "text/plain": [
              "[1] 0.477"
            ],
            "text/latex": "0.477",
            "text/markdown": "0.477",
            "text/html": [
              "0.477"
            ]
          },
          "metadata": {
            "tags": []
          }
        }
      ]
    },
    {
      "cell_type": "code",
      "metadata": {
        "colab": {
          "base_uri": "https://localhost:8080/",
          "height": 34
        },
        "id": "y-cKrOXLq6oI",
        "outputId": "2f231488-983d-4334-8cdd-542d8f50fc8a"
      },
      "source": [
        "# Mean Absolute Error Loss - Forecast b\n",
        "msgjrgarch.mae.b <- MAE(sigma.msgjrgarch[,'sigma.msgjrgarch.pred.b'],\n",
        "                        sigma.msgjrgarch[,'sigma.msgjrgarch.true'])\n",
        "round(msgjrgarch.mae.b, digits = 3)"
      ],
      "id": "y-cKrOXLq6oI",
      "execution_count": 270,
      "outputs": [
        {
          "output_type": "display_data",
          "data": {
            "text/plain": [
              "[1] 0.537"
            ],
            "text/latex": "0.537",
            "text/markdown": "0.537",
            "text/html": [
              "0.537"
            ]
          },
          "metadata": {
            "tags": []
          }
        }
      ]
    },
    {
      "cell_type": "code",
      "metadata": {
        "colab": {
          "base_uri": "https://localhost:8080/",
          "height": 34
        },
        "id": "yY_lh4P5q8hV",
        "outputId": "1cf1f90f-fbf9-4e53-fb56-6b9510a2b73e"
      },
      "source": [
        "# Root Mean Square Error Loss - Forecast a\n",
        "msgjrgarch.rmse.a <- RMSE(sigma.msgjrgarch[,'sigma.msgjrgarch.pred.a'],\n",
        "                          sigma.msgjrgarch[,'sigma.msgjrgarch.true'])\n",
        "round(msgjrgarch.rmse.a, digits = 3)"
      ],
      "id": "yY_lh4P5q8hV",
      "execution_count": 271,
      "outputs": [
        {
          "output_type": "display_data",
          "data": {
            "text/plain": [
              "[1] 0.55"
            ],
            "text/latex": "0.55",
            "text/markdown": "0.55",
            "text/html": [
              "0.55"
            ]
          },
          "metadata": {
            "tags": []
          }
        }
      ]
    },
    {
      "cell_type": "code",
      "metadata": {
        "colab": {
          "base_uri": "https://localhost:8080/",
          "height": 34
        },
        "id": "u3HQsD5Qq-QB",
        "outputId": "b736aae3-b66d-4ef3-f1a9-8d3d91c3a8bd"
      },
      "source": [
        "# Root Mean Square Error Loss - Forecast b\n",
        "msgjrgarch.rmse.b <- RMSE(sigma.msgjrgarch[,'sigma.msgjrgarch.pred.b'],\n",
        "                          sigma.msgjrgarch[,'sigma.msgjrgarch.true'])\n",
        "round(msgjrgarch.rmse.b, digits = 3)"
      ],
      "id": "u3HQsD5Qq-QB",
      "execution_count": 272,
      "outputs": [
        {
          "output_type": "display_data",
          "data": {
            "text/plain": [
              "[1] 0.608"
            ],
            "text/latex": "0.608",
            "text/markdown": "0.608",
            "text/html": [
              "0.608"
            ]
          },
          "metadata": {
            "tags": []
          }
        }
      ]
    },
    {
      "cell_type": "code",
      "metadata": {
        "colab": {
          "base_uri": "https://localhost:8080/",
          "height": 34
        },
        "id": "94nhDvc3q__y",
        "outputId": "46b101a4-2f43-476b-da21-20a61758b9c5"
      },
      "source": [
        "# Quasi-likelihood loss function - forecast a\n",
        "h <- sigma.msgjrgarch[,'sigma.msgjrgarch.true']\n",
        "\n",
        "h.hat.a <- sigma.msgjrgarch[,'sigma.msgjrgarch.pred.a']     \n",
        "msgjrgarch.qlike.a <- mean(log(sqrt(h)) + h.hat.a/sqrt(h))\n",
        "round(msgjrgarch.qlike.a, digits = 5)"
      ],
      "id": "94nhDvc3q__y",
      "execution_count": 273,
      "outputs": [
        {
          "output_type": "display_data",
          "data": {
            "text/plain": [
              "[1] 1.49344"
            ],
            "text/latex": "1.49344",
            "text/markdown": "1.49344",
            "text/html": [
              "1.49344"
            ]
          },
          "metadata": {
            "tags": []
          }
        }
      ]
    },
    {
      "cell_type": "code",
      "metadata": {
        "colab": {
          "base_uri": "https://localhost:8080/",
          "height": 34
        },
        "id": "EQKq_D5FrByJ",
        "outputId": "6abc89e8-2cd6-4cb6-a604-5489b30007f5"
      },
      "source": [
        "# Quasi-likelihood loss function - forecast b\n",
        "h.hat.b <- sigma.msgjrgarch[,'sigma.msgjrgarch.pred.b']\n",
        "msgjrgarch.qlike.b <- mean(log(sqrt(h)) + h.hat.b/sqrt(h))\n",
        "round(msgjrgarch.qlike.b, digits = 5)"
      ],
      "id": "EQKq_D5FrByJ",
      "execution_count": 274,
      "outputs": [
        {
          "output_type": "display_data",
          "data": {
            "text/plain": [
              "[1] 1.56467"
            ],
            "text/latex": "1.56467",
            "text/markdown": "1.56467",
            "text/html": [
              "1.56467"
            ]
          },
          "metadata": {
            "tags": []
          }
        }
      ]
    },
    {
      "cell_type": "code",
      "metadata": {
        "colab": {
          "base_uri": "https://localhost:8080/",
          "height": 119
        },
        "id": "vPTQpCKJrDfH",
        "outputId": "d5bcbde7-6ce3-42ff-8158-de7a47020698"
      },
      "source": [
        "# Diebold-Mariano Test (accuracy test) - test 1\n",
        "f.a <- sigma.msgjrgarch[,'sigma.msgjrgarch.pred.a']\n",
        "f.b <- sigma.msgjrgarch[,'sigma.msgjrgarch.pred.b']\n",
        "y <- sigma.msgjrgarch[,'sigma.msgjrgarch.true']\n",
        "\n",
        "DM.test(f.a, f.b, y, loss.type = \"SE\", c = FALSE, H1 = \"same\")"
      ],
      "id": "vPTQpCKJrDfH",
      "execution_count": 275,
      "outputs": [
        {
          "output_type": "display_data",
          "data": {
            "text/plain": [
              "\n",
              "\tDiebold-Mariano test\n",
              "\n",
              "data:  f.a and f.b and y\n",
              "statistic = -22.571, forecast horizon = 1, p-value < 2.2e-16\n",
              "alternative hypothesis: Forecast f1 and f2 have different accuracy.\n"
            ]
          },
          "metadata": {
            "tags": []
          }
        }
      ]
    },
    {
      "cell_type": "code",
      "metadata": {
        "colab": {
          "base_uri": "https://localhost:8080/",
          "height": 136
        },
        "id": "4gP3k2MNrFGk",
        "outputId": "0ab30c99-7c84-4a23-c2a6-b37fb7a971d3"
      },
      "source": [
        "# Diebold-Mariano test for predictive accuracy - test 2\n",
        "e.a <- msgjrgarch.error.a\n",
        "e.b <- msgjrgarch.error.b\n",
        "\n",
        "dm.test(e.a, e.b, alternative = \"two.sided\", h = 1, power = 2)"
      ],
      "id": "4gP3k2MNrFGk",
      "execution_count": 276,
      "outputs": [
        {
          "output_type": "display_data",
          "data": {
            "text/plain": [
              "\n",
              "\tDiebold-Mariano Test\n",
              "\n",
              "data:  e.ae.b\n",
              "DM = -22.564, Forecast horizon = 1, Loss function power = 2, p-value <\n",
              "2.2e-16\n",
              "alternative hypothesis: two.sided\n"
            ]
          },
          "metadata": {
            "tags": []
          }
        }
      ]
    },
    {
      "cell_type": "code",
      "metadata": {
        "colab": {
          "base_uri": "https://localhost:8080/",
          "height": 34
        },
        "id": "LcULPKoNrGxD",
        "outputId": "5fd4acce-4e4e-4141-c3a2-a9d4cb6fa31b"
      },
      "source": [
        "# Quasi-likelihood Loss Function For Volatility Forecasts - forecast a\n",
        "msgjrgarch.qlike.a <- mean(LossVol(sigma.msgjrgarch[,'sigma.msgjrgarch.true'],\n",
        "                                    sigma.msgjrgarch[,'sigma.msgjrgarch.pred.a'],\n",
        "                                    which = \"QLIKE\"))\n",
        "round(msgjrgarch.qlike.a, digits = 3)"
      ],
      "id": "LcULPKoNrGxD",
      "execution_count": 277,
      "outputs": [
        {
          "output_type": "display_data",
          "data": {
            "text/plain": [
              "[1] 1.602"
            ],
            "text/latex": "1.602",
            "text/markdown": "1.602",
            "text/html": [
              "1.602"
            ]
          },
          "metadata": {
            "tags": []
          }
        }
      ]
    },
    {
      "cell_type": "code",
      "metadata": {
        "colab": {
          "base_uri": "https://localhost:8080/",
          "height": 34
        },
        "id": "CWGlz0amrIPg",
        "outputId": "33faa229-3e49-4c04-b633-b31d24f8eafd"
      },
      "source": [
        "# Quasi-likelihood Loss Function For Volatility Forecasts - forecast 1b\n",
        "msgjrgarch.qlike.b <- mean(LossVol(sigma.msgjrgarch[,'sigma.msgjrgarch.true'],\n",
        "                                  sigma.msgjrgarch[,'sigma.msgjrgarch.pred.b'],\n",
        "                                  which = \"QLIKE\"))\n",
        "round(msgjrgarch.qlike.b, digits = 3)"
      ],
      "id": "CWGlz0amrIPg",
      "execution_count": 278,
      "outputs": [
        {
          "output_type": "display_data",
          "data": {
            "text/plain": [
              "[1] 1.642"
            ],
            "text/latex": "1.642",
            "text/markdown": "1.642",
            "text/html": [
              "1.642"
            ]
          },
          "metadata": {
            "tags": []
          }
        }
      ]
    },
    {
      "cell_type": "code",
      "metadata": {
        "colab": {
          "base_uri": "https://localhost:8080/",
          "height": 34
        },
        "id": "pay6piZ-rJmP",
        "outputId": "b4eaecf6-c24c-4f75-a752-1a98e79d3dde"
      },
      "source": [
        "# Log loss / Cross-Entropy Loss -  forecast a\n",
        "msgjrgarch.logloss.a <- LogLoss(sigma.msgjrgarch[,'sigma.msgjrgarch.pred.a'],\n",
        "                                sigma.msgjrgarch[,'sigma.msgjrgarch.true'])\n",
        "round(msgjrgarch.logloss.a, digits = 3)"
      ],
      "id": "pay6piZ-rJmP",
      "execution_count": 279,
      "outputs": [
        {
          "output_type": "display_data",
          "data": {
            "text/plain": [
              "[1] -8.41"
            ],
            "text/latex": "-8.41",
            "text/markdown": "-8.41",
            "text/html": [
              "-8.41"
            ]
          },
          "metadata": {
            "tags": []
          }
        }
      ]
    },
    {
      "cell_type": "code",
      "metadata": {
        "colab": {
          "base_uri": "https://localhost:8080/",
          "height": 34
        },
        "id": "p4KdG8yirK7j",
        "outputId": "23937a11-d2c0-452d-dec2-3967974cb162"
      },
      "source": [
        "# Log loss / Cross-Entropy Loss -  forecast b\n",
        "msgjrgarch.logloss.b <- LogLoss(sigma.msgjrgarch[,'sigma.msgjrgarch.pred.b'],\n",
        "                                sigma.msgjrgarch[,'sigma.msgjrgarch.true'])\n",
        "round(msgjrgarch.logloss.b, digits = 3)"
      ],
      "id": "p4KdG8yirK7j",
      "execution_count": 280,
      "outputs": [
        {
          "output_type": "display_data",
          "data": {
            "text/plain": [
              "[1] -8.41"
            ],
            "text/latex": "-8.41",
            "text/markdown": "-8.41",
            "text/html": [
              "-8.41"
            ]
          },
          "metadata": {
            "tags": []
          }
        }
      ]
    },
    {
      "cell_type": "code",
      "metadata": {
        "colab": {
          "base_uri": "https://localhost:8080/",
          "height": 170
        },
        "id": "b4P8dlDNrMMd",
        "outputId": "85a54ad2-8b76-4649-a154-1de9f1bc1b08"
      },
      "source": [
        "# Linear regression to assess forecast performance - forecast a\n",
        "msgjrgarch.model.a <- lm(sigma.msgjrgarch.true ~ sigma.msgjrgarch.pred.a,\n",
        "                      data = sigma.msgjrgarch)\n",
        "round(coeftest(msgjrgarch.model.a, NeweyWest(msgjrgarch.model.a,\n",
        "                                            lag = bwNeweyWest(msgjrgarch.model.a),\n",
        "                                            prewhite = F)), 3)\n",
        "round(summary(msgjrgarch.model.a)$adj.r.squared, 3)"
      ],
      "id": "b4P8dlDNrMMd",
      "execution_count": 281,
      "outputs": [
        {
          "output_type": "display_data",
          "data": {
            "text/plain": [
              "\n",
              "t test of coefficients:\n",
              "\n",
              "                        Estimate Std. Error t value Pr(>|t|)  \n",
              "(Intercept)               -0.910      1.129  -0.806    0.420  \n",
              "sigma.msgjrgarch.pred.a    1.423      0.754   1.888    0.059 .\n",
              "---\n",
              "Signif. codes:  0 ‘***’ 0.001 ‘**’ 0.01 ‘*’ 0.05 ‘.’ 0.1 ‘ ’ 1\n"
            ]
          },
          "metadata": {
            "tags": []
          }
        },
        {
          "output_type": "display_data",
          "data": {
            "text/plain": [
              "[1] 0.012"
            ],
            "text/latex": "0.012",
            "text/markdown": "0.012",
            "text/html": [
              "0.012"
            ]
          },
          "metadata": {
            "tags": []
          }
        }
      ]
    },
    {
      "cell_type": "code",
      "metadata": {
        "colab": {
          "base_uri": "https://localhost:8080/",
          "height": 170
        },
        "id": "dn4BRM4-rN7I",
        "outputId": "e18da47c-28ca-43af-f58b-54246ca55084"
      },
      "source": [
        "# Linear regression to assess forecast performance - forecast b\n",
        "msgjrgarch.model.b <- lm(sigma.msgjrgarch.true ~ sigma.msgjrgarch.pred.b,\n",
        "                      data = sigma.msgjrgarch)\n",
        "round(coeftest(msgjrgarch.model.b, NeweyWest(msgjrgarch.model.b,\n",
        "                                            lag = bwNeweyWest(msgjrgarch.model.b),\n",
        "                                            prewhite = F)), 3)\n",
        "round(summary(msgjrgarch.model.b)$adj.r.squared, 3)"
      ],
      "id": "dn4BRM4-rN7I",
      "execution_count": 282,
      "outputs": [
        {
          "output_type": "display_data",
          "data": {
            "text/plain": [
              "\n",
              "t test of coefficients:\n",
              "\n",
              "                        Estimate Std. Error t value  Pr(>|t|)    \n",
              "(Intercept)                2.325      0.274   8.485 < 2.2e-16 ***\n",
              "sigma.msgjrgarch.pred.b   -0.681      0.169  -4.042 < 2.2e-16 ***\n",
              "---\n",
              "Signif. codes:  0 ‘***’ 0.001 ‘**’ 0.01 ‘*’ 0.05 ‘.’ 0.1 ‘ ’ 1\n"
            ]
          },
          "metadata": {
            "tags": []
          }
        },
        {
          "output_type": "display_data",
          "data": {
            "text/plain": [
              "[1] 0.016"
            ],
            "text/latex": "0.016",
            "text/markdown": "0.016",
            "text/html": [
              "0.016"
            ]
          },
          "metadata": {
            "tags": []
          }
        }
      ]
    },
    {
      "cell_type": "markdown",
      "metadata": {
        "id": "fZYN_pFPylpJ"
      },
      "source": [
        "#13. Monthly volatility"
      ],
      "id": "fZYN_pFPylpJ"
    },
    {
      "cell_type": "markdown",
      "metadata": {
        "id": "_GCDjgnx_W_A"
      },
      "source": [
        "##(a) Transformation of a daily frequency to monthly frequency"
      ],
      "id": "_GCDjgnx_W_A"
    },
    {
      "cell_type": "code",
      "metadata": {
        "colab": {
          "base_uri": "https://localhost:8080/",
          "height": 374
        },
        "id": "JLXA-z-l_f3q",
        "outputId": "5c724a6a-f495-4acf-eb6f-a8540cfa9d58"
      },
      "source": [
        "N225.df.month <- apply.monthly(N225.df, FUN = mean)\n",
        "head(N225.df.month)"
      ],
      "id": "JLXA-z-l_f3q",
      "execution_count": 283,
      "outputs": [
        {
          "output_type": "display_data",
          "data": {
            "text/plain": [
              "           N225.Close N225.Return N225.VolGARCH N225.VolEGARCH N225.VolGJRGARCH\n",
              "2000-01-31   18938.20  0.15477107      2.545534       2.549265         2.378654\n",
              "2000-02-29   19685.53  0.10628973      1.195289       1.336783         1.136741\n",
              "2000-03-31   19834.72  0.08523381      1.189052       1.290232         1.237756\n",
              "2000-04-28   19517.67 -0.61774051      3.210475       3.307569         4.048145\n",
              "2000-05-31   17039.97 -0.47877798      3.675515       4.248671         4.547811\n",
              "2000-06-30   16969.28  0.29068713      2.006539       2.036139         1.884819\n",
              "           N225.VolRealGARCH N225.VolRealEGARCH N225.VolRealGJRGARCH\n",
              "2000-01-31          2.579900           2.591625             2.408568\n",
              "2000-02-29          1.274257           1.388684             1.206369\n",
              "2000-03-31          1.211488           1.311881             1.265167\n",
              "2000-04-28          3.038884           3.125196             3.639042\n",
              "2000-05-31          3.687663           4.269741             4.458522\n",
              "2000-06-30          2.082886           2.146308             1.987274\n",
              "           N225.VolMSGARCH N225.VolMSEGARCH N225.VolMSGJRGARCH\n",
              "2000-01-31        2.210275         1.598143           1.567096\n",
              "2000-02-29        1.081443         1.029911           1.151037\n",
              "2000-03-31        1.083373         1.074679           1.116307\n",
              "2000-04-28        1.617014         1.744878           1.833584\n",
              "2000-05-31        1.740300         2.178891           2.046521\n",
              "2000-06-30        1.382876         1.489262           1.356514"
            ]
          },
          "metadata": {
            "tags": []
          }
        }
      ]
    },
    {
      "cell_type": "markdown",
      "metadata": {
        "id": "KX6T_XNH_n93"
      },
      "source": [
        "##(b) Lag Length Selection"
      ],
      "id": "KX6T_XNH_n93"
    },
    {
      "cell_type": "code",
      "metadata": {
        "colab": {
          "base_uri": "https://localhost:8080/"
        },
        "id": "nEgGG_NO_rJk",
        "outputId": "ab029d85-bc40-4ce2-967c-414b66ddda4a"
      },
      "source": [
        "# Package\n",
        "install.packages('tsDyn')\n",
        "\n",
        "library(tsDyn)"
      ],
      "id": "nEgGG_NO_rJk",
      "execution_count": 284,
      "outputs": [
        {
          "output_type": "stream",
          "text": [
            "Installing package into ‘/usr/local/lib/R/site-library’\n",
            "(as ‘lib’ is unspecified)\n",
            "\n",
            "\n",
            "Attaching package: ‘tsDyn’\n",
            "\n",
            "\n",
            "The following object is masked from ‘package:MLmetrics’:\n",
            "\n",
            "    MAPE\n",
            "\n",
            "\n",
            "The following object is masked from ‘package:Metrics’:\n",
            "\n",
            "    mse\n",
            "\n",
            "\n"
          ],
          "name": "stderr"
        }
      ]
    },
    {
      "cell_type": "code",
      "metadata": {
        "colab": {
          "base_uri": "https://localhost:8080/",
          "height": 68
        },
        "id": "nSnrXFwT_zzY",
        "outputId": "a576e607-5ec0-4c0f-de25-a65e9cfcca5b"
      },
      "source": [
        "lags.select(N225.df.month$N225.VolGARCH, lag.max = 10)"
      ],
      "id": "nSnrXFwT_zzY",
      "execution_count": 285,
      "outputs": [
        {
          "output_type": "display_data",
          "data": {
            "text/plain": [
              "Best AIC:  lag= 3 \n",
              "Best BIC:  lag= 2 \n",
              "Best HQ :  lag= 3 "
            ]
          },
          "metadata": {
            "tags": []
          }
        }
      ]
    },
    {
      "cell_type": "code",
      "metadata": {
        "colab": {
          "base_uri": "https://localhost:8080/",
          "height": 68
        },
        "id": "uK1NeJFsBna8",
        "outputId": "e1e0d125-a6cc-44a9-be12-86fded67f98a"
      },
      "source": [
        "lags.select(N225.df.month$N225.VolEGARCH, lag.max = 10)"
      ],
      "id": "uK1NeJFsBna8",
      "execution_count": 286,
      "outputs": [
        {
          "output_type": "display_data",
          "data": {
            "text/plain": [
              "Best AIC:  lag= 2 \n",
              "Best BIC:  lag= 1 \n",
              "Best HQ :  lag= 2 "
            ]
          },
          "metadata": {
            "tags": []
          }
        }
      ]
    },
    {
      "cell_type": "code",
      "metadata": {
        "colab": {
          "base_uri": "https://localhost:8080/",
          "height": 68
        },
        "id": "sPkpUtZhBqHJ",
        "outputId": "513192d8-eb5b-42b1-ed6e-72a5a3262ee7"
      },
      "source": [
        "lags.select(N225.df.month$N225.VolGJRGARCH, lag.max = 10)"
      ],
      "id": "sPkpUtZhBqHJ",
      "execution_count": 287,
      "outputs": [
        {
          "output_type": "display_data",
          "data": {
            "text/plain": [
              "Best AIC:  lag= 2 \n",
              "Best BIC:  lag= 2 \n",
              "Best HQ :  lag= 2 "
            ]
          },
          "metadata": {
            "tags": []
          }
        }
      ]
    },
    {
      "cell_type": "code",
      "metadata": {
        "colab": {
          "base_uri": "https://localhost:8080/",
          "height": 68
        },
        "id": "K9_kCmfQBsDt",
        "outputId": "c4ffb1bd-f64e-4896-b17f-5f7a9eb1e7e7"
      },
      "source": [
        "lags.select(N225.df.month$N225.VolRealGARCH, lag.max = 10)"
      ],
      "id": "K9_kCmfQBsDt",
      "execution_count": 288,
      "outputs": [
        {
          "output_type": "display_data",
          "data": {
            "text/plain": [
              "Best AIC:  lag= 3 \n",
              "Best BIC:  lag= 3 \n",
              "Best HQ :  lag= 3 "
            ]
          },
          "metadata": {
            "tags": []
          }
        }
      ]
    },
    {
      "cell_type": "code",
      "metadata": {
        "colab": {
          "base_uri": "https://localhost:8080/",
          "height": 68
        },
        "id": "c74fPYQEB3Pc",
        "outputId": "320c99f2-83a1-45af-da9e-ec92baf03326"
      },
      "source": [
        "lags.select(N225.df.month$N225.VolRealEGARCH, lag.max = 10)"
      ],
      "id": "c74fPYQEB3Pc",
      "execution_count": 289,
      "outputs": [
        {
          "output_type": "display_data",
          "data": {
            "text/plain": [
              "Best AIC:  lag= 3 \n",
              "Best BIC:  lag= 1 \n",
              "Best HQ :  lag= 2 "
            ]
          },
          "metadata": {
            "tags": []
          }
        }
      ]
    },
    {
      "cell_type": "code",
      "metadata": {
        "colab": {
          "base_uri": "https://localhost:8080/",
          "height": 68
        },
        "id": "eShiYpuXB6vM",
        "outputId": "99632d5e-d69a-442e-b31b-783670cfd0b6"
      },
      "source": [
        "lags.select(N225.df.month$N225.VolRealGJRGARCH, lag.max = 10)"
      ],
      "id": "eShiYpuXB6vM",
      "execution_count": 290,
      "outputs": [
        {
          "output_type": "display_data",
          "data": {
            "text/plain": [
              "Best AIC:  lag= 3 \n",
              "Best BIC:  lag= 2 \n",
              "Best HQ :  lag= 2 "
            ]
          },
          "metadata": {
            "tags": []
          }
        }
      ]
    },
    {
      "cell_type": "code",
      "metadata": {
        "colab": {
          "base_uri": "https://localhost:8080/",
          "height": 68
        },
        "id": "vZpT89GVB-Kq",
        "outputId": "548e4817-4411-485d-ae66-647873ed7240"
      },
      "source": [
        "lags.select(N225.df.month$N225.VolMSGARCH, lag.max = 10)"
      ],
      "id": "vZpT89GVB-Kq",
      "execution_count": 291,
      "outputs": [
        {
          "output_type": "display_data",
          "data": {
            "text/plain": [
              "Best AIC:  lag= 2 \n",
              "Best BIC:  lag= 1 \n",
              "Best HQ :  lag= 2 "
            ]
          },
          "metadata": {
            "tags": []
          }
        }
      ]
    },
    {
      "cell_type": "code",
      "metadata": {
        "colab": {
          "base_uri": "https://localhost:8080/",
          "height": 68
        },
        "id": "bTXkiJYoCCF8",
        "outputId": "6ef05c39-e8a1-463d-978d-b9f47b457a95"
      },
      "source": [
        "lags.select(N225.df.month$N225.VolMSEGARCH , lag.max = 10)"
      ],
      "id": "bTXkiJYoCCF8",
      "execution_count": 292,
      "outputs": [
        {
          "output_type": "display_data",
          "data": {
            "text/plain": [
              "Best AIC:  lag= 1 \n",
              "Best BIC:  lag= 1 \n",
              "Best HQ :  lag= 1 "
            ]
          },
          "metadata": {
            "tags": []
          }
        }
      ]
    },
    {
      "cell_type": "code",
      "metadata": {
        "colab": {
          "base_uri": "https://localhost:8080/",
          "height": 68
        },
        "id": "gmp7CKgmCIaH",
        "outputId": "43a10806-aca3-477b-d2b8-6569d8a804ff"
      },
      "source": [
        "lags.select(N225.df.month$N225.VolMSGJRGARCH , lag.max = 10)"
      ],
      "id": "gmp7CKgmCIaH",
      "execution_count": 293,
      "outputs": [
        {
          "output_type": "display_data",
          "data": {
            "text/plain": [
              "Best AIC:  lag= 1 \n",
              "Best BIC:  lag= 1 \n",
              "Best HQ :  lag= 1 "
            ]
          },
          "metadata": {
            "tags": []
          }
        }
      ]
    },
    {
      "cell_type": "markdown",
      "metadata": {
        "id": "9HdfotCPALkn"
      },
      "source": [
        "##(c) Import dataset"
      ],
      "id": "9HdfotCPALkn"
    },
    {
      "cell_type": "markdown",
      "metadata": {
        "id": "KhOH_NiBAe_8"
      },
      "source": [
        "**EPU**"
      ],
      "id": "KhOH_NiBAe_8"
    },
    {
      "cell_type": "code",
      "metadata": {
        "id": "14oHDlSZAg9S"
      },
      "source": [
        "# Package\n",
        "library(readxl)"
      ],
      "id": "14oHDlSZAg9S",
      "execution_count": 294,
      "outputs": []
    },
    {
      "cell_type": "code",
      "metadata": {
        "colab": {
          "base_uri": "https://localhost:8080/",
          "height": 405
        },
        "id": "ijgoJa2cAlpy",
        "outputId": "e0912860-db55-4f6c-f6c8-3ed9674a5254"
      },
      "source": [
        "EPU <- read_excel(\"EPU_All_Country_Data.xlsx\",\n",
        "                  sheet = \"Import\",\n",
        "                  col_types = c(\"date\", \"numeric\", \"numeric\", \"numeric\", \"numeric\",\n",
        "                                \"numeric\", \"numeric\", \"numeric\", \"numeric\", \"numeric\",\n",
        "                                \"numeric\", \"numeric\", \"numeric\", \"numeric\"))\n",
        "head(EPU)"
      ],
      "id": "ijgoJa2cAlpy",
      "execution_count": 295,
      "outputs": [
        {
          "output_type": "display_data",
          "data": {
            "text/plain": [
              "  MM.YYYY    GEPU_current Brazil    Russia    India     Chile     Mexico   \n",
              "1 2000-01-01 63.43916      54.60320 117.12624  55.47412 104.18382 161.02013\n",
              "2 2000-02-01 58.77943      41.26398  27.02751  58.04263  76.43725 157.84093\n",
              "3 2000-03-01 61.33933      73.60725  27.27277  63.43669  78.59699  90.80582\n",
              "4 2000-04-01 64.76240      96.34906  25.90913  78.92112  63.72873  93.59448\n",
              "5 2000-05-01 86.84892     189.96852  42.97606  59.61799 120.89192 136.35007\n",
              "6 2000-06-01 88.23903     106.87265 115.94142 110.34407 156.83112 216.03893\n",
              "  China     Canada   France   Germany   Japan     UK       US       \n",
              "1 44.004440 46.92811 18.45134  73.23399  78.12204 30.08247  88.98869\n",
              "2  9.066709 45.72284 33.22514  97.35842  78.62767 36.62590  73.36520\n",
              "3 44.399136 39.32267 42.40266  96.09151  79.74557 45.16381  73.29862\n",
              "4 35.441414 53.17447 16.59283  69.44795 103.12970 42.74244  70.59975\n",
              "5 71.135803 54.20769 55.37305 135.28714  86.34306 53.87834 118.14321\n",
              "6 36.856976 45.04951 35.07029  58.29012 150.85790 51.15050 109.58423"
            ],
            "text/latex": "A tibble: 6 × 14\n\\begin{tabular}{llllllllllllll}\n MM.YYYY & GEPU\\_current & Brazil & Russia & India & Chile & Mexico & China & Canada & France & Germany & Japan & UK & US\\\\\n <dttm> & <dbl> & <dbl> & <dbl> & <dbl> & <dbl> & <dbl> & <dbl> & <dbl> & <dbl> & <dbl> & <dbl> & <dbl> & <dbl>\\\\\n\\hline\n\t 2000-01-01 & 63.43916 &  54.60320 & 117.12624 &  55.47412 & 104.18382 & 161.02013 & 44.004440 & 46.92811 & 18.45134 &  73.23399 &  78.12204 & 30.08247 &  88.98869\\\\\n\t 2000-02-01 & 58.77943 &  41.26398 &  27.02751 &  58.04263 &  76.43725 & 157.84093 &  9.066709 & 45.72284 & 33.22514 &  97.35842 &  78.62767 & 36.62590 &  73.36520\\\\\n\t 2000-03-01 & 61.33933 &  73.60725 &  27.27277 &  63.43669 &  78.59699 &  90.80582 & 44.399136 & 39.32267 & 42.40266 &  96.09151 &  79.74557 & 45.16381 &  73.29862\\\\\n\t 2000-04-01 & 64.76240 &  96.34906 &  25.90913 &  78.92112 &  63.72873 &  93.59448 & 35.441414 & 53.17447 & 16.59283 &  69.44795 & 103.12970 & 42.74244 &  70.59975\\\\\n\t 2000-05-01 & 86.84892 & 189.96852 &  42.97606 &  59.61799 & 120.89192 & 136.35007 & 71.135803 & 54.20769 & 55.37305 & 135.28714 &  86.34306 & 53.87834 & 118.14321\\\\\n\t 2000-06-01 & 88.23903 & 106.87265 & 115.94142 & 110.34407 & 156.83112 & 216.03893 & 36.856976 & 45.04951 & 35.07029 &  58.29012 & 150.85790 & 51.15050 & 109.58423\\\\\n\\end{tabular}\n",
            "text/markdown": "\nA tibble: 6 × 14\n\n| MM.YYYY &lt;dttm&gt; | GEPU_current &lt;dbl&gt; | Brazil &lt;dbl&gt; | Russia &lt;dbl&gt; | India &lt;dbl&gt; | Chile &lt;dbl&gt; | Mexico &lt;dbl&gt; | China &lt;dbl&gt; | Canada &lt;dbl&gt; | France &lt;dbl&gt; | Germany &lt;dbl&gt; | Japan &lt;dbl&gt; | UK &lt;dbl&gt; | US &lt;dbl&gt; |\n|---|---|---|---|---|---|---|---|---|---|---|---|---|---|\n| 2000-01-01 | 63.43916 |  54.60320 | 117.12624 |  55.47412 | 104.18382 | 161.02013 | 44.004440 | 46.92811 | 18.45134 |  73.23399 |  78.12204 | 30.08247 |  88.98869 |\n| 2000-02-01 | 58.77943 |  41.26398 |  27.02751 |  58.04263 |  76.43725 | 157.84093 |  9.066709 | 45.72284 | 33.22514 |  97.35842 |  78.62767 | 36.62590 |  73.36520 |\n| 2000-03-01 | 61.33933 |  73.60725 |  27.27277 |  63.43669 |  78.59699 |  90.80582 | 44.399136 | 39.32267 | 42.40266 |  96.09151 |  79.74557 | 45.16381 |  73.29862 |\n| 2000-04-01 | 64.76240 |  96.34906 |  25.90913 |  78.92112 |  63.72873 |  93.59448 | 35.441414 | 53.17447 | 16.59283 |  69.44795 | 103.12970 | 42.74244 |  70.59975 |\n| 2000-05-01 | 86.84892 | 189.96852 |  42.97606 |  59.61799 | 120.89192 | 136.35007 | 71.135803 | 54.20769 | 55.37305 | 135.28714 |  86.34306 | 53.87834 | 118.14321 |\n| 2000-06-01 | 88.23903 | 106.87265 | 115.94142 | 110.34407 | 156.83112 | 216.03893 | 36.856976 | 45.04951 | 35.07029 |  58.29012 | 150.85790 | 51.15050 | 109.58423 |\n\n",
            "text/html": [
              "<table class=\"dataframe\">\n",
              "<caption>A tibble: 6 × 14</caption>\n",
              "<thead>\n",
              "\t<tr><th scope=col>MM.YYYY</th><th scope=col>GEPU_current</th><th scope=col>Brazil</th><th scope=col>Russia</th><th scope=col>India</th><th scope=col>Chile</th><th scope=col>Mexico</th><th scope=col>China</th><th scope=col>Canada</th><th scope=col>France</th><th scope=col>Germany</th><th scope=col>Japan</th><th scope=col>UK</th><th scope=col>US</th></tr>\n",
              "\t<tr><th scope=col>&lt;dttm&gt;</th><th scope=col>&lt;dbl&gt;</th><th scope=col>&lt;dbl&gt;</th><th scope=col>&lt;dbl&gt;</th><th scope=col>&lt;dbl&gt;</th><th scope=col>&lt;dbl&gt;</th><th scope=col>&lt;dbl&gt;</th><th scope=col>&lt;dbl&gt;</th><th scope=col>&lt;dbl&gt;</th><th scope=col>&lt;dbl&gt;</th><th scope=col>&lt;dbl&gt;</th><th scope=col>&lt;dbl&gt;</th><th scope=col>&lt;dbl&gt;</th><th scope=col>&lt;dbl&gt;</th></tr>\n",
              "</thead>\n",
              "<tbody>\n",
              "\t<tr><td>2000-01-01</td><td>63.43916</td><td> 54.60320</td><td>117.12624</td><td> 55.47412</td><td>104.18382</td><td>161.02013</td><td>44.004440</td><td>46.92811</td><td>18.45134</td><td> 73.23399</td><td> 78.12204</td><td>30.08247</td><td> 88.98869</td></tr>\n",
              "\t<tr><td>2000-02-01</td><td>58.77943</td><td> 41.26398</td><td> 27.02751</td><td> 58.04263</td><td> 76.43725</td><td>157.84093</td><td> 9.066709</td><td>45.72284</td><td>33.22514</td><td> 97.35842</td><td> 78.62767</td><td>36.62590</td><td> 73.36520</td></tr>\n",
              "\t<tr><td>2000-03-01</td><td>61.33933</td><td> 73.60725</td><td> 27.27277</td><td> 63.43669</td><td> 78.59699</td><td> 90.80582</td><td>44.399136</td><td>39.32267</td><td>42.40266</td><td> 96.09151</td><td> 79.74557</td><td>45.16381</td><td> 73.29862</td></tr>\n",
              "\t<tr><td>2000-04-01</td><td>64.76240</td><td> 96.34906</td><td> 25.90913</td><td> 78.92112</td><td> 63.72873</td><td> 93.59448</td><td>35.441414</td><td>53.17447</td><td>16.59283</td><td> 69.44795</td><td>103.12970</td><td>42.74244</td><td> 70.59975</td></tr>\n",
              "\t<tr><td>2000-05-01</td><td>86.84892</td><td>189.96852</td><td> 42.97606</td><td> 59.61799</td><td>120.89192</td><td>136.35007</td><td>71.135803</td><td>54.20769</td><td>55.37305</td><td>135.28714</td><td> 86.34306</td><td>53.87834</td><td>118.14321</td></tr>\n",
              "\t<tr><td>2000-06-01</td><td>88.23903</td><td>106.87265</td><td>115.94142</td><td>110.34407</td><td>156.83112</td><td>216.03893</td><td>36.856976</td><td>45.04951</td><td>35.07029</td><td> 58.29012</td><td>150.85790</td><td>51.15050</td><td>109.58423</td></tr>\n",
              "</tbody>\n",
              "</table>\n"
            ]
          },
          "metadata": {
            "tags": []
          }
        }
      ]
    },
    {
      "cell_type": "code",
      "metadata": {
        "id": "MrqrZ8MZA4-_"
      },
      "source": [
        "attach(EPU)"
      ],
      "id": "MrqrZ8MZA4-_",
      "execution_count": 296,
      "outputs": []
    },
    {
      "cell_type": "markdown",
      "metadata": {
        "id": "Vq9oiwlrA58O"
      },
      "source": [
        "**VIX**"
      ],
      "id": "Vq9oiwlrA58O"
    },
    {
      "cell_type": "code",
      "metadata": {
        "colab": {
          "base_uri": "https://localhost:8080/",
          "height": 34
        },
        "id": "V5iY9Kr3BAkR",
        "outputId": "5ed5d62c-ef7e-4516-e49d-20b8bf0a3b75"
      },
      "source": [
        "getSymbols(\"^VIX\", from = '2000-01-01', to = '2021-05-31', periodicity = \"monthly\")"
      ],
      "id": "V5iY9Kr3BAkR",
      "execution_count": 297,
      "outputs": [
        {
          "output_type": "display_data",
          "data": {
            "text/plain": [
              "[1] \"^VIX\""
            ],
            "text/latex": "'\\textasciicircum{}VIX'",
            "text/markdown": "'^VIX'",
            "text/html": [
              "'^VIX'"
            ]
          },
          "metadata": {
            "tags": []
          }
        }
      ]
    },
    {
      "cell_type": "code",
      "metadata": {
        "colab": {
          "base_uri": "https://localhost:8080/",
          "height": 136
        },
        "id": "_SCvdZFcBOxo",
        "outputId": "03596efc-2df2-4bbc-f6d6-96b423301877"
      },
      "source": [
        "head(VIX)"
      ],
      "id": "_SCvdZFcBOxo",
      "execution_count": 298,
      "outputs": [
        {
          "output_type": "display_data",
          "data": {
            "text/plain": [
              "           VIX.Open VIX.High VIX.Low VIX.Close VIX.Volume VIX.Adjusted\n",
              "2000-01-01    24.36    29.00   19.51     24.95          0        24.95\n",
              "2000-02-01    24.43    28.12   20.69     23.37          0        23.37\n",
              "2000-03-01    22.65    25.87   19.19     24.11          0        24.11\n",
              "2000-04-01    24.99    34.31   23.25     26.20          0        26.20\n",
              "2000-05-01    26.07    32.89   23.23     23.65          0        23.65\n",
              "2000-06-01    23.20    25.01   19.39     19.54          0        19.54"
            ]
          },
          "metadata": {
            "tags": []
          }
        }
      ]
    },
    {
      "cell_type": "code",
      "metadata": {
        "id": "uuIrny6OBRnH"
      },
      "source": [
        "VIX <- na.omit(VIX)"
      ],
      "id": "uuIrny6OBRnH",
      "execution_count": 299,
      "outputs": []
    },
    {
      "cell_type": "markdown",
      "metadata": {
        "id": "LGG7p_RIG7PV"
      },
      "source": [
        "##(d) Estimation"
      ],
      "id": "LGG7p_RIG7PV"
    },
    {
      "cell_type": "markdown",
      "metadata": {
        "id": "gvQCcsPIBUVX"
      },
      "source": [
        "**Benchmark model**"
      ],
      "id": "gvQCcsPIBUVX"
    },
    {
      "cell_type": "code",
      "metadata": {
        "colab": {
          "base_uri": "https://localhost:8080/",
          "height": 136
        },
        "id": "lnEjm9lKBYi3",
        "outputId": "41504f64-21e3-451b-e060-2bdbd3552ac9"
      },
      "source": [
        "# Concatenate (number of rows of data frames aren't different)\n",
        "uncertainty <- cbind(VIX[,'VIX.Close'], EPU$Japan, EPU$GEPU_current)\n",
        "head(uncertainty)"
      ],
      "id": "lnEjm9lKBYi3",
      "execution_count": 300,
      "outputs": [
        {
          "output_type": "display_data",
          "data": {
            "text/plain": [
              "           VIX.Close EPU.Japan EPU.GEPU_current\n",
              "2000-01-01     24.95  78.12204         63.43916\n",
              "2000-02-01     23.37  78.62767         58.77943\n",
              "2000-03-01     24.11  79.74557         61.33933\n",
              "2000-04-01     26.20 103.12970         64.76240\n",
              "2000-05-01     23.65  86.34306         86.84892\n",
              "2000-06-01     19.54 150.85790         88.23903"
            ]
          },
          "metadata": {
            "tags": []
          }
        }
      ]
    },
    {
      "cell_type": "code",
      "metadata": {
        "id": "IHhaF8KxC7VF"
      },
      "source": [
        "# Lag of uncertainty variables (lag = 1)\n",
        "lag.epu <- ts(Lag(uncertainty$EPU.Japan, 1))\n",
        "lag.gepu <- ts(Lag(uncertainty$EPU.GEPU_current, 1))\n",
        "lag.vix <- ts(Lag(uncertainty$VIX.Close, 1))"
      ],
      "id": "IHhaF8KxC7VF",
      "execution_count": 301,
      "outputs": []
    },
    {
      "cell_type": "markdown",
      "metadata": {
        "id": "zHQo6FW0FO18"
      },
      "source": [
        "**Linear GARCH**"
      ],
      "id": "zHQo6FW0FO18"
    },
    {
      "cell_type": "code",
      "metadata": {
        "colab": {
          "base_uri": "https://localhost:8080/",
          "height": 187
        },
        "id": "u3qNPRhUClNO",
        "outputId": "3a0a1702-e11e-4230-87d2-7dc8dda2345d"
      },
      "source": [
        "# Estimation 1 - GARCH (Best BIC:  lag= 2)\n",
        "garch <- ts(log(N225.df.month$N225.VolGARCH))\n",
        "lag.garch.1 <- ts(Lag(log(N225.df.month$N225.VolGARCH), 1))\n",
        "lag.garch.2 <- ts(Lag(log(N225.df.month$N225.VolGARCH), 2))\n",
        "\n",
        "ols.garch <- cbind(garch, lag.garch.1, lag.garch.2, \n",
        "                  lag.epu, lag.gepu, lag.vix)\n",
        "\n",
        "model.garch.1 <- lm(garch ~  lag.garch.1 + lag.garch.2, \n",
        "                    data = ols.garch)\n",
        "\n",
        "round(coeftest(model.garch.1, NeweyWest(model.garch.1, \n",
        "                                        lag = bwNeweyWest(model.garch.1), \n",
        "                                        prewhite = F)), 3)\n",
        "\n",
        "round(summary(model.garch.1)$adj.r.squared, 3)"
      ],
      "id": "u3qNPRhUClNO",
      "execution_count": 302,
      "outputs": [
        {
          "output_type": "display_data",
          "data": {
            "text/plain": [
              "\n",
              "t test of coefficients:\n",
              "\n",
              "            Estimate Std. Error t value Pr(>|t|)    \n",
              "(Intercept)    0.184      0.038   4.856   <2e-16 ***\n",
              "lag.garch.1    0.777      0.073  10.657   <2e-16 ***\n",
              "lag.garch.2   -0.102      0.054  -1.876    0.062 .  \n",
              "---\n",
              "Signif. codes:  0 ‘***’ 0.001 ‘**’ 0.01 ‘*’ 0.05 ‘.’ 0.1 ‘ ’ 1\n"
            ]
          },
          "metadata": {
            "tags": []
          }
        },
        {
          "output_type": "display_data",
          "data": {
            "text/plain": [
              "[1] 0.5"
            ],
            "text/latex": "0.5",
            "text/markdown": "0.5",
            "text/html": [
              "0.5"
            ]
          },
          "metadata": {
            "tags": []
          }
        }
      ]
    },
    {
      "cell_type": "code",
      "metadata": {
        "colab": {
          "base_uri": "https://localhost:8080/",
          "height": 204
        },
        "id": "uppwdMKEE44m",
        "outputId": "32c60400-f29b-4a51-dbd6-3e566b10410c"
      },
      "source": [
        "# Estimation 2 - GARCH (Best BIC:  lag= 2)\n",
        "model.garch.2 <- lm(garch ~  lag.garch.1 + lag.garch.2 + lag.epu, \n",
        "                    data = ols.garch)\n",
        "\n",
        "round(coeftest(model.garch.2, NeweyWest(model.garch.2, \n",
        "                                        lag = bwNeweyWest(model.garch.2), \n",
        "                                        prewhite = F)), 3)\n",
        "\n",
        "round(summary(model.garch.2)$adj.r.squared, 3)"
      ],
      "id": "uppwdMKEE44m",
      "execution_count": 303,
      "outputs": [
        {
          "output_type": "display_data",
          "data": {
            "text/plain": [
              "\n",
              "t test of coefficients:\n",
              "\n",
              "            Estimate Std. Error t value Pr(>|t|)    \n",
              "(Intercept)    0.034      0.083   0.409    0.683    \n",
              "lag.garch.1    0.738      0.068  10.853   <2e-16 ***\n",
              "lag.garch.2   -0.104      0.053  -1.972    0.050 *  \n",
              "lag.epu        0.002      0.001   1.962    0.051 .  \n",
              "---\n",
              "Signif. codes:  0 ‘***’ 0.001 ‘**’ 0.01 ‘*’ 0.05 ‘.’ 0.1 ‘ ’ 1\n"
            ]
          },
          "metadata": {
            "tags": []
          }
        },
        {
          "output_type": "display_data",
          "data": {
            "text/plain": [
              "[1] 0.504"
            ],
            "text/latex": "0.504",
            "text/markdown": "0.504",
            "text/html": [
              "0.504"
            ]
          },
          "metadata": {
            "tags": []
          }
        }
      ]
    },
    {
      "cell_type": "code",
      "metadata": {
        "colab": {
          "base_uri": "https://localhost:8080/",
          "height": 204
        },
        "id": "YX8DzU72O0oB",
        "outputId": "eed6dd26-4779-4da4-951e-6b7dab6fbfaf"
      },
      "source": [
        "# Estimation 3 - GARCH (Best BIC:  lag= 2)\n",
        "model.garch.3 <- lm(garch ~  lag.garch.1 + lag.garch.2 + lag.vix, \n",
        "                    data = ols.garch)\n",
        "\n",
        "round(coeftest(model.garch.3, NeweyWest(model.garch.3, \n",
        "                                        lag = bwNeweyWest(model.garch.3), \n",
        "                                        prewhite = F)), 3)\n",
        "\n",
        "round(summary(model.garch.3)$adj.r.squared, 3)"
      ],
      "id": "YX8DzU72O0oB",
      "execution_count": 304,
      "outputs": [
        {
          "output_type": "display_data",
          "data": {
            "text/plain": [
              "\n",
              "t test of coefficients:\n",
              "\n",
              "            Estimate Std. Error t value Pr(>|t|)    \n",
              "(Intercept)   -0.195      0.076  -2.586    0.010 ** \n",
              "lag.garch.1    0.600      0.065   9.254   <2e-16 ***\n",
              "lag.garch.2   -0.125      0.046  -2.707    0.007 ** \n",
              "lag.vix        0.024      0.005   4.945   <2e-16 ***\n",
              "---\n",
              "Signif. codes:  0 ‘***’ 0.001 ‘**’ 0.01 ‘*’ 0.05 ‘.’ 0.1 ‘ ’ 1\n"
            ]
          },
          "metadata": {
            "tags": []
          }
        },
        {
          "output_type": "display_data",
          "data": {
            "text/plain": [
              "[1] 0.567"
            ],
            "text/latex": "0.567",
            "text/markdown": "0.567",
            "text/html": [
              "0.567"
            ]
          },
          "metadata": {
            "tags": []
          }
        }
      ]
    },
    {
      "cell_type": "code",
      "metadata": {
        "colab": {
          "base_uri": "https://localhost:8080/",
          "height": 221
        },
        "id": "it_P-MqUO4ec",
        "outputId": "f134c553-67e7-49b0-bba3-8fc845d80ed0"
      },
      "source": [
        "# Estimation 4 - GARCH (Best BIC:  lag= 2)\n",
        "model.garch.4 <- lm(garch ~  lag.garch.1 + lag.garch.2 + lag.epu + lag.vix, \n",
        "                    data = ols.garch)\n",
        "\n",
        "round(coeftest(model.garch.4, NeweyWest(model.garch.4, \n",
        "                                        lag = bwNeweyWest(model.garch.4), \n",
        "                                        prewhite = F)), 3)\n",
        "\n",
        "round(summary(model.garch.4)$adj.r.squared, 3)"
      ],
      "id": "it_P-MqUO4ec",
      "execution_count": 305,
      "outputs": [
        {
          "output_type": "display_data",
          "data": {
            "text/plain": [
              "\n",
              "t test of coefficients:\n",
              "\n",
              "            Estimate Std. Error t value Pr(>|t|)    \n",
              "(Intercept)   -0.170      0.097  -1.754    0.081 .  \n",
              "lag.garch.1    0.605      0.064   9.463   <2e-16 ***\n",
              "lag.garch.2   -0.125      0.045  -2.746    0.006 ** \n",
              "lag.epu        0.000      0.001  -0.428    0.669    \n",
              "lag.vix        0.025      0.005   4.683   <2e-16 ***\n",
              "---\n",
              "Signif. codes:  0 ‘***’ 0.001 ‘**’ 0.01 ‘*’ 0.05 ‘.’ 0.1 ‘ ’ 1\n"
            ]
          },
          "metadata": {
            "tags": []
          }
        },
        {
          "output_type": "display_data",
          "data": {
            "text/plain": [
              "[1] 0.565"
            ],
            "text/latex": "0.565",
            "text/markdown": "0.565",
            "text/html": [
              "0.565"
            ]
          },
          "metadata": {
            "tags": []
          }
        }
      ]
    },
    {
      "cell_type": "code",
      "metadata": {
        "colab": {
          "base_uri": "https://localhost:8080/",
          "height": 238
        },
        "id": "w-QVaWN0PS9d",
        "outputId": "de721489-7138-4e35-f7a0-b8e652b9a9e9"
      },
      "source": [
        "# Estimation 5 - GARCH (Best BIC:  lag= 2)\n",
        "model.garch.5 <- lm(garch ~  lag.garch.1 + lag.garch.2 + lag.epu + lag.gepu + lag.vix, \n",
        "                    data = ols.garch)\n",
        "\n",
        "round(coeftest(model.garch.5, NeweyWest(model.garch.5, \n",
        "                                        lag = bwNeweyWest(model.garch.5), \n",
        "                                        prewhite = F)), 3)\n",
        "\n",
        "round(summary(model.garch.5)$adj.r.squared, 3)"
      ],
      "id": "w-QVaWN0PS9d",
      "execution_count": 306,
      "outputs": [
        {
          "output_type": "display_data",
          "data": {
            "text/plain": [
              "\n",
              "t test of coefficients:\n",
              "\n",
              "            Estimate Std. Error t value Pr(>|t|)    \n",
              "(Intercept)   -0.181      0.107  -1.695    0.091 .  \n",
              "lag.garch.1    0.559      0.062   9.031   <2e-16 ***\n",
              "lag.garch.2   -0.145      0.044  -3.323    0.001 ***\n",
              "lag.epu        0.002      0.001   1.778    0.077 .  \n",
              "lag.gepu      -0.002      0.000  -3.996   <2e-16 ***\n",
              "lag.vix        0.026      0.005   4.961   <2e-16 ***\n",
              "---\n",
              "Signif. codes:  0 ‘***’ 0.001 ‘**’ 0.01 ‘*’ 0.05 ‘.’ 0.1 ‘ ’ 1\n"
            ]
          },
          "metadata": {
            "tags": []
          }
        },
        {
          "output_type": "display_data",
          "data": {
            "text/plain": [
              "[1] 0.586"
            ],
            "text/latex": "0.586",
            "text/markdown": "0.586",
            "text/html": [
              "0.586"
            ]
          },
          "metadata": {
            "tags": []
          }
        }
      ]
    },
    {
      "cell_type": "markdown",
      "metadata": {
        "id": "KxPH8UsAFTKr"
      },
      "source": [
        "**EGARCH**"
      ],
      "id": "KxPH8UsAFTKr"
    },
    {
      "cell_type": "code",
      "metadata": {
        "colab": {
          "base_uri": "https://localhost:8080/",
          "height": 170
        },
        "id": "jjaoFjcPF-zc",
        "outputId": "8ecdf636-6405-4da5-bbbb-86314034b87e"
      },
      "source": [
        "# Estimation 1 - EGARCH (Best BIC:  lag= 1)\n",
        "egarch <- ts(log(N225.df.month$N225.VolEGARCH))\n",
        "lag.egarch.1 <- ts(Lag(log(N225.df.month$N225.VolEGARCH), 1))\n",
        "\n",
        "ols.egarch <- cbind(egarch, lag.egarch.1,\n",
        "                    lag.epu, lag.gepu, lag.vix)\n",
        "\n",
        "model.egarch.1 <- lm(egarch ~  lag.egarch.1, \n",
        "                    data = ols.egarch)\n",
        "\n",
        "round(coeftest(model.egarch.1, NeweyWest(model.egarch.1, \n",
        "                                         lag = bwNeweyWest(model.egarch.1), \n",
        "                                         prewhite = F)), 3)\n",
        "\n",
        "round(summary(model.egarch.1)$adj.r.squared, 3)"
      ],
      "id": "jjaoFjcPF-zc",
      "execution_count": 307,
      "outputs": [
        {
          "output_type": "display_data",
          "data": {
            "text/plain": [
              "\n",
              "t test of coefficients:\n",
              "\n",
              "             Estimate Std. Error t value  Pr(>|t|)    \n",
              "(Intercept)     0.176      0.039   4.489 < 2.2e-16 ***\n",
              "lag.egarch.1    0.678      0.049  13.776 < 2.2e-16 ***\n",
              "---\n",
              "Signif. codes:  0 ‘***’ 0.001 ‘**’ 0.01 ‘*’ 0.05 ‘.’ 0.1 ‘ ’ 1\n"
            ]
          },
          "metadata": {
            "tags": []
          }
        },
        {
          "output_type": "display_data",
          "data": {
            "text/plain": [
              "[1] 0.457"
            ],
            "text/latex": "0.457",
            "text/markdown": "0.457",
            "text/html": [
              "0.457"
            ]
          },
          "metadata": {
            "tags": []
          }
        }
      ]
    },
    {
      "cell_type": "code",
      "metadata": {
        "colab": {
          "base_uri": "https://localhost:8080/",
          "height": 187
        },
        "id": "6SYfDY-QGW3S",
        "outputId": "6ba6e632-5778-4148-ad29-fbe500d10fc9"
      },
      "source": [
        "# Estimation 2 - EGARCH (Best BIC:  lag= 1)\n",
        "model.egarch.2 <- lm(egarch ~  lag.egarch.1 + lag.epu, \n",
        "                     data = ols.egarch)\n",
        "\n",
        "round(coeftest(model.egarch.2, NeweyWest(model.egarch.2, \n",
        "                                         lag = bwNeweyWest(model.egarch.2), \n",
        "                                         prewhite = F)), 3)\n",
        "\n",
        "round(summary(model.egarch.2)$adj.r.squared, 3)"
      ],
      "id": "6SYfDY-QGW3S",
      "execution_count": 308,
      "outputs": [
        {
          "output_type": "display_data",
          "data": {
            "text/plain": [
              "\n",
              "t test of coefficients:\n",
              "\n",
              "             Estimate Std. Error t value Pr(>|t|)    \n",
              "(Intercept)     0.057      0.086   0.663    0.508    \n",
              "lag.egarch.1    0.646      0.050  12.880   <2e-16 ***\n",
              "lag.epu         0.001      0.001   1.550    0.122    \n",
              "---\n",
              "Signif. codes:  0 ‘***’ 0.001 ‘**’ 0.01 ‘*’ 0.05 ‘.’ 0.1 ‘ ’ 1\n"
            ]
          },
          "metadata": {
            "tags": []
          }
        },
        {
          "output_type": "display_data",
          "data": {
            "text/plain": [
              "[1] 0.459"
            ],
            "text/latex": "0.459",
            "text/markdown": "0.459",
            "text/html": [
              "0.459"
            ]
          },
          "metadata": {
            "tags": []
          }
        }
      ]
    },
    {
      "cell_type": "code",
      "metadata": {
        "colab": {
          "base_uri": "https://localhost:8080/",
          "height": 187
        },
        "id": "iNZE-7iEPn_A",
        "outputId": "9708df41-9206-4e77-98d2-83d0fde179a0"
      },
      "source": [
        "# Estimation 3 - EGARCH (Best BIC:  lag= 1)\n",
        "model.egarch.3 <- lm(egarch ~  lag.egarch.1 + lag.vix, \n",
        "                     data = ols.egarch)\n",
        "\n",
        "round(coeftest(model.egarch.3, NeweyWest(model.egarch.3, \n",
        "                                         lag = bwNeweyWest(model.egarch.3), \n",
        "                                         prewhite = F)), 3)\n",
        "\n",
        "round(summary(model.egarch.3)$adj.r.squared, 3)"
      ],
      "id": "iNZE-7iEPn_A",
      "execution_count": 309,
      "outputs": [
        {
          "output_type": "display_data",
          "data": {
            "text/plain": [
              "\n",
              "t test of coefficients:\n",
              "\n",
              "             Estimate Std. Error t value Pr(>|t|)    \n",
              "(Intercept)    -0.171      0.077  -2.229    0.027 *  \n",
              "lag.egarch.1    0.493      0.058   8.436   <2e-16 ***\n",
              "lag.vix         0.022      0.005   4.835   <2e-16 ***\n",
              "---\n",
              "Signif. codes:  0 ‘***’ 0.001 ‘**’ 0.01 ‘*’ 0.05 ‘.’ 0.1 ‘ ’ 1\n"
            ]
          },
          "metadata": {
            "tags": []
          }
        },
        {
          "output_type": "display_data",
          "data": {
            "text/plain": [
              "[1] 0.511"
            ],
            "text/latex": "0.511",
            "text/markdown": "0.511",
            "text/html": [
              "0.511"
            ]
          },
          "metadata": {
            "tags": []
          }
        }
      ]
    },
    {
      "cell_type": "code",
      "metadata": {
        "colab": {
          "base_uri": "https://localhost:8080/",
          "height": 204
        },
        "id": "Cd-rJ4nnPpme",
        "outputId": "07df86d6-d539-4947-ed69-f6525e8ee571"
      },
      "source": [
        "# Estimation 4 - EGARCH (Best BIC:  lag= 1)\n",
        "model.egarch.4 <- lm(egarch ~  lag.egarch.1 + lag.epu + lag.vix, \n",
        "                     data = ols.egarch)\n",
        "\n",
        "round(coeftest(model.egarch.4, NeweyWest(model.egarch.4, \n",
        "                                         lag = bwNeweyWest(model.egarch.4), \n",
        "                                         prewhite = F)), 3)\n",
        "\n",
        "round(summary(model.egarch.4)$adj.r.squared, 3)"
      ],
      "id": "Cd-rJ4nnPpme",
      "execution_count": 310,
      "outputs": [
        {
          "output_type": "display_data",
          "data": {
            "text/plain": [
              "\n",
              "t test of coefficients:\n",
              "\n",
              "             Estimate Std. Error t value Pr(>|t|)    \n",
              "(Intercept)    -0.136      0.096  -1.411    0.159    \n",
              "lag.egarch.1    0.499      0.062   8.099   <2e-16 ***\n",
              "lag.epu        -0.001      0.001  -0.609    0.543    \n",
              "lag.vix         0.023      0.005   4.597   <2e-16 ***\n",
              "---\n",
              "Signif. codes:  0 ‘***’ 0.001 ‘**’ 0.01 ‘*’ 0.05 ‘.’ 0.1 ‘ ’ 1\n"
            ]
          },
          "metadata": {
            "tags": []
          }
        },
        {
          "output_type": "display_data",
          "data": {
            "text/plain": [
              "[1] 0.51"
            ],
            "text/latex": "0.51",
            "text/markdown": "0.51",
            "text/html": [
              "0.51"
            ]
          },
          "metadata": {
            "tags": []
          }
        }
      ]
    },
    {
      "cell_type": "code",
      "metadata": {
        "colab": {
          "base_uri": "https://localhost:8080/",
          "height": 221
        },
        "id": "c3XRtwQFPqqa",
        "outputId": "c1f33a4d-1efd-464d-e98a-e5a3862ed104"
      },
      "source": [
        "# Estimation 5 - EGARCH (Best BIC:  lag= 1)\n",
        "model.egarch.5 <- lm(egarch ~  lag.egarch.1 + lag.epu + lag.gepu + lag.vix, \n",
        "                     data = ols.egarch)\n",
        "\n",
        "round(coeftest(model.egarch.5, NeweyWest(model.egarch.5, \n",
        "                                         lag = bwNeweyWest(model.egarch.5), \n",
        "                                         prewhite = F)), 3)\n",
        "\n",
        "round(summary(model.egarch.5)$adj.r.squared, 3)"
      ],
      "id": "c3XRtwQFPqqa",
      "execution_count": 311,
      "outputs": [
        {
          "output_type": "display_data",
          "data": {
            "text/plain": [
              "\n",
              "t test of coefficients:\n",
              "\n",
              "             Estimate Std. Error t value Pr(>|t|)    \n",
              "(Intercept)    -0.158      0.096  -1.652    0.100 .  \n",
              "lag.egarch.1    0.419      0.058   7.252   <2e-16 ***\n",
              "lag.epu         0.002      0.001   2.101    0.037 *  \n",
              "lag.gepu       -0.002      0.000  -4.199   <2e-16 ***\n",
              "lag.vix         0.025      0.005   5.115   <2e-16 ***\n",
              "---\n",
              "Signif. codes:  0 ‘***’ 0.001 ‘**’ 0.01 ‘*’ 0.05 ‘.’ 0.1 ‘ ’ 1\n"
            ]
          },
          "metadata": {
            "tags": []
          }
        },
        {
          "output_type": "display_data",
          "data": {
            "text/plain": [
              "[1] 0.536"
            ],
            "text/latex": "0.536",
            "text/markdown": "0.536",
            "text/html": [
              "0.536"
            ]
          },
          "metadata": {
            "tags": []
          }
        }
      ]
    },
    {
      "cell_type": "markdown",
      "metadata": {
        "id": "q6ZVo4RGFVPg"
      },
      "source": [
        "**GJR-GARCH**"
      ],
      "id": "q6ZVo4RGFVPg"
    },
    {
      "cell_type": "code",
      "metadata": {
        "colab": {
          "base_uri": "https://localhost:8080/",
          "height": 187
        },
        "id": "sSV2QDYhF_4v",
        "outputId": "1ccc816d-d40c-433b-9a9a-d0ba846d156e"
      },
      "source": [
        "# Estimation 1 - GJR-GARCH (Best BIC:  lag= 2)\n",
        "gjrgarch <- ts(log(N225.df.month$N225.VolGJRGARCH))\n",
        "lag.gjrgarch.1 <- ts(Lag(log(N225.df.month$N225.VolGJRGARCH), 1))\n",
        "lag.gjrgarch.2 <- ts(Lag(log(N225.df.month$N225.VolGJRGARCH), 2))\n",
        "\n",
        "ols.gjrgarch <- cbind(gjrgarch, lag.gjrgarch.1, lag.gjrgarch.2,\n",
        "                      lag.epu, lag.gepu, lag.vix)\n",
        "\n",
        "model.gjrgarch.1 <- lm(gjrgarch ~  lag.gjrgarch.1 + lag.gjrgarch.2, \n",
        "                       data = ols.gjrgarch)\n",
        "\n",
        "round(coeftest(model.gjrgarch.1, NeweyWest(model.gjrgarch.1, \n",
        "                                           lag = bwNeweyWest(model.gjrgarch.1), \n",
        "                                           prewhite = F)), 3)\n",
        "\n",
        "round(summary(model.gjrgarch.1)$adj.r.squared, 3)"
      ],
      "id": "sSV2QDYhF_4v",
      "execution_count": 312,
      "outputs": [
        {
          "output_type": "display_data",
          "data": {
            "text/plain": [
              "\n",
              "t test of coefficients:\n",
              "\n",
              "               Estimate Std. Error t value Pr(>|t|)    \n",
              "(Intercept)       0.202      0.042   4.767   <2e-16 ***\n",
              "lag.gjrgarch.1    0.705      0.070  10.029   <2e-16 ***\n",
              "lag.gjrgarch.2   -0.065      0.051  -1.264    0.207    \n",
              "---\n",
              "Signif. codes:  0 ‘***’ 0.001 ‘**’ 0.01 ‘*’ 0.05 ‘.’ 0.1 ‘ ’ 1\n"
            ]
          },
          "metadata": {
            "tags": []
          }
        },
        {
          "output_type": "display_data",
          "data": {
            "text/plain": [
              "[1] 0.436"
            ],
            "text/latex": "0.436",
            "text/markdown": "0.436",
            "text/html": [
              "0.436"
            ]
          },
          "metadata": {
            "tags": []
          }
        }
      ]
    },
    {
      "cell_type": "code",
      "metadata": {
        "colab": {
          "base_uri": "https://localhost:8080/",
          "height": 204
        },
        "id": "QfZ9xeMXGXxq",
        "outputId": "fe923cba-3381-463e-cc7c-acb9c49b1b57"
      },
      "source": [
        "# Estimation 2 - GJR-GARCH (Best BIC:  lag= 2)\n",
        "model.gjrgarch.2 <- lm(gjrgarch ~  lag.gjrgarch.1 + lag.gjrgarch.2 + lag.epu, \n",
        "                       data = ols.gjrgarch)\n",
        "\n",
        "round(coeftest(model.gjrgarch.2, NeweyWest(model.gjrgarch.2, \n",
        "                                          lag = bwNeweyWest(model.gjrgarch.2), \n",
        "                                          prewhite = F)), 3)\n",
        "\n",
        "round(summary(model.gjrgarch.2)$adj.r.squared, 3)"
      ],
      "id": "QfZ9xeMXGXxq",
      "execution_count": 313,
      "outputs": [
        {
          "output_type": "display_data",
          "data": {
            "text/plain": [
              "\n",
              "t test of coefficients:\n",
              "\n",
              "               Estimate Std. Error t value Pr(>|t|)    \n",
              "(Intercept)       0.079      0.092   0.865    0.388    \n",
              "lag.gjrgarch.1    0.676      0.067  10.039   <2e-16 ***\n",
              "lag.gjrgarch.2   -0.070      0.053  -1.331    0.184    \n",
              "lag.epu           0.001      0.001   1.494    0.136    \n",
              "---\n",
              "Signif. codes:  0 ‘***’ 0.001 ‘**’ 0.01 ‘*’ 0.05 ‘.’ 0.1 ‘ ’ 1\n"
            ]
          },
          "metadata": {
            "tags": []
          }
        },
        {
          "output_type": "display_data",
          "data": {
            "text/plain": [
              "[1] 0.438"
            ],
            "text/latex": "0.438",
            "text/markdown": "0.438",
            "text/html": [
              "0.438"
            ]
          },
          "metadata": {
            "tags": []
          }
        }
      ]
    },
    {
      "cell_type": "code",
      "metadata": {
        "colab": {
          "base_uri": "https://localhost:8080/",
          "height": 204
        },
        "id": "RpwqcFbDQveh",
        "outputId": "1258e84e-a375-4feb-893a-c9e179d04201"
      },
      "source": [
        "# Estimation 3 - GJR-GARCH (Best BIC:  lag= 2)\n",
        "model.gjrgarch.3 <- lm(gjrgarch ~  lag.gjrgarch.1 + lag.gjrgarch.2 + lag.vix, \n",
        "                       data = ols.gjrgarch)\n",
        "\n",
        "round(coeftest(model.gjrgarch.3, NeweyWest(model.gjrgarch.3, \n",
        "                                          lag = bwNeweyWest(model.gjrgarch.3), \n",
        "                                          prewhite = F)), 3)\n",
        "\n",
        "round(summary(model.gjrgarch.3)$adj.r.squared, 3)"
      ],
      "id": "RpwqcFbDQveh",
      "execution_count": 314,
      "outputs": [
        {
          "output_type": "display_data",
          "data": {
            "text/plain": [
              "\n",
              "t test of coefficients:\n",
              "\n",
              "               Estimate Std. Error t value Pr(>|t|)    \n",
              "(Intercept)      -0.177      0.087  -2.026    0.044 *  \n",
              "lag.gjrgarch.1    0.539      0.066   8.117   <2e-16 ***\n",
              "lag.gjrgarch.2   -0.099      0.048  -2.068    0.040 *  \n",
              "lag.vix           0.024      0.006   4.214   <2e-16 ***\n",
              "---\n",
              "Signif. codes:  0 ‘***’ 0.001 ‘**’ 0.01 ‘*’ 0.05 ‘.’ 0.1 ‘ ’ 1\n"
            ]
          },
          "metadata": {
            "tags": []
          }
        },
        {
          "output_type": "display_data",
          "data": {
            "text/plain": [
              "[1] 0.498"
            ],
            "text/latex": "0.498",
            "text/markdown": "0.498",
            "text/html": [
              "0.498"
            ]
          },
          "metadata": {
            "tags": []
          }
        }
      ]
    },
    {
      "cell_type": "code",
      "metadata": {
        "colab": {
          "base_uri": "https://localhost:8080/",
          "height": 221
        },
        "id": "oVcvw2H_QwAc",
        "outputId": "bb26cc91-6da3-4ceb-eacc-0578ecd355cf"
      },
      "source": [
        "# Estimation 4 - GJR-GARCH (Best BIC:  lag= 2)\n",
        "model.gjrgarch.4 <- lm(gjrgarch ~  lag.gjrgarch.1 + lag.gjrgarch.2 + lag.epu + lag.vix, \n",
        "                       data = ols.gjrgarch)\n",
        "\n",
        "round(coeftest(model.gjrgarch.4, NeweyWest(model.gjrgarch.4, \n",
        "                                          lag = bwNeweyWest(model.gjrgarch.4), \n",
        "                                          prewhite = F)), 3)\n",
        "\n",
        "round(summary(model.gjrgarch.4)$adj.r.squared, 3)"
      ],
      "id": "oVcvw2H_QwAc",
      "execution_count": 315,
      "outputs": [
        {
          "output_type": "display_data",
          "data": {
            "text/plain": [
              "\n",
              "t test of coefficients:\n",
              "\n",
              "               Estimate Std. Error t value Pr(>|t|)    \n",
              "(Intercept)      -0.131      0.105  -1.252    0.212    \n",
              "lag.gjrgarch.1    0.546      0.066   8.269   <2e-16 ***\n",
              "lag.gjrgarch.2   -0.097      0.048  -2.014    0.045 *  \n",
              "lag.epu          -0.001      0.001  -0.727    0.468    \n",
              "lag.vix           0.025      0.006   4.196   <2e-16 ***\n",
              "---\n",
              "Signif. codes:  0 ‘***’ 0.001 ‘**’ 0.01 ‘*’ 0.05 ‘.’ 0.1 ‘ ’ 1\n"
            ]
          },
          "metadata": {
            "tags": []
          }
        },
        {
          "output_type": "display_data",
          "data": {
            "text/plain": [
              "[1] 0.497"
            ],
            "text/latex": "0.497",
            "text/markdown": "0.497",
            "text/html": [
              "0.497"
            ]
          },
          "metadata": {
            "tags": []
          }
        }
      ]
    },
    {
      "cell_type": "code",
      "metadata": {
        "colab": {
          "base_uri": "https://localhost:8080/",
          "height": 238
        },
        "id": "5lDj4PwxQwzP",
        "outputId": "fcdc96eb-305b-4ff9-e666-a932cd2a898d"
      },
      "source": [
        "# Estimation 5 - GJR-GARCH (Best BIC:  lag= 2)\n",
        "model.gjrgarch.5 <- lm(gjrgarch ~  lag.gjrgarch.1 + lag.gjrgarch.2 + lag.epu + lag.gepu + lag.vix, \n",
        "                       data = ols.gjrgarch)\n",
        "\n",
        "round(coeftest(model.gjrgarch.5, NeweyWest(model.gjrgarch.5, \n",
        "                                          lag = bwNeweyWest(model.gjrgarch.5), \n",
        "                                          prewhite = F)), 3)\n",
        "\n",
        "round(summary(model.gjrgarch.5)$adj.r.squared, 3)"
      ],
      "id": "5lDj4PwxQwzP",
      "execution_count": 316,
      "outputs": [
        {
          "output_type": "display_data",
          "data": {
            "text/plain": [
              "\n",
              "t test of coefficients:\n",
              "\n",
              "               Estimate Std. Error t value Pr(>|t|)    \n",
              "(Intercept)      -0.149      0.111  -1.346    0.179    \n",
              "lag.gjrgarch.1    0.491      0.060   8.247   <2e-16 ***\n",
              "lag.gjrgarch.2   -0.124      0.046  -2.690    0.008 ** \n",
              "lag.epu           0.002      0.001   1.813    0.071 .  \n",
              "lag.gepu         -0.002      0.000  -4.211   <2e-16 ***\n",
              "lag.vix           0.027      0.006   4.754   <2e-16 ***\n",
              "---\n",
              "Signif. codes:  0 ‘***’ 0.001 ‘**’ 0.01 ‘*’ 0.05 ‘.’ 0.1 ‘ ’ 1\n"
            ]
          },
          "metadata": {
            "tags": []
          }
        },
        {
          "output_type": "display_data",
          "data": {
            "text/plain": [
              "[1] 0.522"
            ],
            "text/latex": "0.522",
            "text/markdown": "0.522",
            "text/html": [
              "0.522"
            ]
          },
          "metadata": {
            "tags": []
          }
        }
      ]
    },
    {
      "cell_type": "markdown",
      "metadata": {
        "id": "9k0Ku1lRFXsE"
      },
      "source": [
        "**Realized Linear GARCH**"
      ],
      "id": "9k0Ku1lRFXsE"
    },
    {
      "cell_type": "code",
      "metadata": {
        "colab": {
          "base_uri": "https://localhost:8080/",
          "height": 204
        },
        "id": "ggRFZZTrGA7l",
        "outputId": "7f972493-de8e-4e32-d37c-0db94a8f4afa"
      },
      "source": [
        "# Estimation 1 - Realized Linear GARCH (Best BIC:  lag= 3)\n",
        "realgarch <- ts(log(N225.df.month$N225.VolRealGARCH))\n",
        "lag.realgarch.1 <- ts(Lag(log(N225.df.month$N225.VolRealGARCH), 1))\n",
        "lag.realgarch.2 <- ts(Lag(log(N225.df.month$N225.VolRealGARCH), 2))\n",
        "lag.realgarch.3 <- ts(Lag(log(N225.df.month$N225.VolRealGARCH), 3))\n",
        "\n",
        "ols.realgarch <- cbind(realgarch, lag.realgarch.1, lag.realgarch.2, lag.realgarch.3, \n",
        "                       lag.epu, lag.gepu, lag.vix)\n",
        "\n",
        "model.realgarch.1 <- lm(realgarch ~  lag.realgarch.1 + lag.realgarch.2 + lag.realgarch.3, \n",
        "                        data = ols.realgarch)\n",
        "\n",
        "round(coeftest(model.realgarch.1, NeweyWest(model.realgarch.1, \n",
        "                                            lag = bwNeweyWest(model.realgarch.1), \n",
        "                                            prewhite = F)), 3)\n",
        "\n",
        "round(summary(model.realgarch.1)$adj.r.squared, 3)"
      ],
      "id": "ggRFZZTrGA7l",
      "execution_count": 317,
      "outputs": [
        {
          "output_type": "display_data",
          "data": {
            "text/plain": [
              "\n",
              "t test of coefficients:\n",
              "\n",
              "                Estimate Std. Error t value Pr(>|t|)    \n",
              "(Intercept)        0.174      0.039   4.439   <2e-16 ***\n",
              "lag.realgarch.1    0.794      0.074  10.722   <2e-16 ***\n",
              "lag.realgarch.2   -0.174      0.071  -2.450    0.015 *  \n",
              "lag.realgarch.3    0.085      0.056   1.524    0.129    \n",
              "---\n",
              "Signif. codes:  0 ‘***’ 0.001 ‘**’ 0.01 ‘*’ 0.05 ‘.’ 0.1 ‘ ’ 1\n"
            ]
          },
          "metadata": {
            "tags": []
          }
        },
        {
          "output_type": "display_data",
          "data": {
            "text/plain": [
              "[1] 0.506"
            ],
            "text/latex": "0.506",
            "text/markdown": "0.506",
            "text/html": [
              "0.506"
            ]
          },
          "metadata": {
            "tags": []
          }
        }
      ]
    },
    {
      "cell_type": "code",
      "metadata": {
        "colab": {
          "base_uri": "https://localhost:8080/",
          "height": 221
        },
        "id": "hlGIumFjGY6u",
        "outputId": "871c4eba-4fa7-42ca-c156-545bd26c4ab2"
      },
      "source": [
        "# Estimation 2 - Realized Linear GARCH (Best BIC:  lag= 3)\n",
        "model.realgarch.2 <- lm(realgarch ~  lag.realgarch.1 + lag.realgarch.2 + lag.realgarch.3 + lag.epu, \n",
        "                        data = ols.realgarch)\n",
        "\n",
        "round(coeftest(model.realgarch.2, NeweyWest(model.realgarch.2, \n",
        "                                            lag = bwNeweyWest(model.realgarch.2), \n",
        "                                            prewhite = F)), 3)\n",
        "\n",
        "round(summary(model.realgarch.2)$adj.r.squared, 3)"
      ],
      "id": "hlGIumFjGY6u",
      "execution_count": 318,
      "outputs": [
        {
          "output_type": "display_data",
          "data": {
            "text/plain": [
              "\n",
              "t test of coefficients:\n",
              "\n",
              "                Estimate Std. Error t value Pr(>|t|)    \n",
              "(Intercept)        0.024      0.079   0.305    0.761    \n",
              "lag.realgarch.1    0.752      0.067  11.209   <2e-16 ***\n",
              "lag.realgarch.2   -0.170      0.069  -2.464    0.014 *  \n",
              "lag.realgarch.3    0.077      0.056   1.369    0.172    \n",
              "lag.epu            0.002      0.001   2.081    0.038 *  \n",
              "---\n",
              "Signif. codes:  0 ‘***’ 0.001 ‘**’ 0.01 ‘*’ 0.05 ‘.’ 0.1 ‘ ’ 1\n"
            ]
          },
          "metadata": {
            "tags": []
          }
        },
        {
          "output_type": "display_data",
          "data": {
            "text/plain": [
              "[1] 0.51"
            ],
            "text/latex": "0.51",
            "text/markdown": "0.51",
            "text/html": [
              "0.51"
            ]
          },
          "metadata": {
            "tags": []
          }
        }
      ]
    },
    {
      "cell_type": "code",
      "metadata": {
        "colab": {
          "base_uri": "https://localhost:8080/",
          "height": 221
        },
        "id": "Fort9qJBRSmj",
        "outputId": "5523e4f5-e6bf-4671-a0b4-fd6fd17ee0ed"
      },
      "source": [
        "# Estimation 3 - Realized Linear GARCH (Best BIC:  lag= 3)\n",
        "model.realgarch.3 <- lm(realgarch ~  lag.realgarch.1 + lag.realgarch.2 + lag.realgarch.3 + lag.vix, \n",
        "                        data = ols.realgarch)\n",
        "\n",
        "round(coeftest(model.realgarch.3, NeweyWest(model.realgarch.3, \n",
        "                                            lag = bwNeweyWest(model.realgarch.3), \n",
        "                                            prewhite = F)), 3)\n",
        "\n",
        "round(summary(model.realgarch.3)$adj.r.squared, 3)"
      ],
      "id": "Fort9qJBRSmj",
      "execution_count": 319,
      "outputs": [
        {
          "output_type": "display_data",
          "data": {
            "text/plain": [
              "\n",
              "t test of coefficients:\n",
              "\n",
              "                Estimate Std. Error t value Pr(>|t|)    \n",
              "(Intercept)       -0.181      0.067  -2.721    0.007 ** \n",
              "lag.realgarch.1    0.607      0.063   9.689   <2e-16 ***\n",
              "lag.realgarch.2   -0.160      0.063  -2.528    0.012 *  \n",
              "lag.realgarch.3    0.040      0.053   0.746    0.456    \n",
              "lag.vix            0.024      0.005   5.312   <2e-16 ***\n",
              "---\n",
              "Signif. codes:  0 ‘***’ 0.001 ‘**’ 0.01 ‘*’ 0.05 ‘.’ 0.1 ‘ ’ 1\n"
            ]
          },
          "metadata": {
            "tags": []
          }
        },
        {
          "output_type": "display_data",
          "data": {
            "text/plain": [
              "[1] 0.576"
            ],
            "text/latex": "0.576",
            "text/markdown": "0.576",
            "text/html": [
              "0.576"
            ]
          },
          "metadata": {
            "tags": []
          }
        }
      ]
    },
    {
      "cell_type": "code",
      "metadata": {
        "colab": {
          "base_uri": "https://localhost:8080/",
          "height": 238
        },
        "id": "Y7DFY72qRTZm",
        "outputId": "01edbb9b-4624-4310-d4f3-9f1696364b64"
      },
      "source": [
        "# Estimation 4 - Realized Linear GARCH (Best BIC:  lag= 3)\n",
        "model.realgarch.4 <- lm(realgarch ~  lag.realgarch.1 + lag.realgarch.2 + lag.realgarch.3 + lag.epu + lag.vix, \n",
        "                        data = ols.realgarch)\n",
        "\n",
        "round(coeftest(model.realgarch.4, NeweyWest(model.realgarch.4, \n",
        "                                            lag = bwNeweyWest(model.realgarch.4), \n",
        "                                            prewhite = F)), 3)\n",
        "\n",
        "round(summary(model.realgarch.4)$adj.r.squared, 3)"
      ],
      "id": "Y7DFY72qRTZm",
      "execution_count": 320,
      "outputs": [
        {
          "output_type": "display_data",
          "data": {
            "text/plain": [
              "\n",
              "t test of coefficients:\n",
              "\n",
              "                Estimate Std. Error t value Pr(>|t|)    \n",
              "(Intercept)       -0.160      0.092  -1.746    0.082 .  \n",
              "lag.realgarch.1    0.611      0.064   9.544   <2e-16 ***\n",
              "lag.realgarch.2   -0.160      0.060  -2.681    0.008 ** \n",
              "lag.realgarch.3    0.040      0.048   0.845    0.399    \n",
              "lag.epu            0.000      0.001  -0.375    0.708    \n",
              "lag.vix            0.024      0.005   4.722   <2e-16 ***\n",
              "---\n",
              "Signif. codes:  0 ‘***’ 0.001 ‘**’ 0.01 ‘*’ 0.05 ‘.’ 0.1 ‘ ’ 1\n"
            ]
          },
          "metadata": {
            "tags": []
          }
        },
        {
          "output_type": "display_data",
          "data": {
            "text/plain": [
              "[1] 0.575"
            ],
            "text/latex": "0.575",
            "text/markdown": "0.575",
            "text/html": [
              "0.575"
            ]
          },
          "metadata": {
            "tags": []
          }
        }
      ]
    },
    {
      "cell_type": "code",
      "metadata": {
        "colab": {
          "base_uri": "https://localhost:8080/",
          "height": 255
        },
        "id": "zYv19mZSRUB9",
        "outputId": "5270195a-1eb4-4713-b3eb-39615f0ed819"
      },
      "source": [
        "# Estimation 5 - Realized Linear GARCH (Best BIC:  lag= 3)\n",
        "model.realgarch.5 <- lm(realgarch ~  lag.realgarch.1 + lag.realgarch.2 + lag.realgarch.3\n",
        "                                   + lag.epu + lag.gepu + lag.vix, \n",
        "                        data = ols.realgarch)\n",
        "\n",
        "round(coeftest(model.realgarch.5, NeweyWest(model.realgarch.5, \n",
        "                                            lag = bwNeweyWest(model.realgarch.5), \n",
        "                                            prewhite = F)), 3)\n",
        "\n",
        "round(summary(model.realgarch.5)$adj.r.squared, 3)"
      ],
      "id": "zYv19mZSRUB9",
      "execution_count": 321,
      "outputs": [
        {
          "output_type": "display_data",
          "data": {
            "text/plain": [
              "\n",
              "t test of coefficients:\n",
              "\n",
              "                Estimate Std. Error t value Pr(>|t|)    \n",
              "(Intercept)       -0.165      0.101  -1.634    0.104    \n",
              "lag.realgarch.1    0.560      0.062   9.014   <2e-16 ***\n",
              "lag.realgarch.2   -0.157      0.053  -2.946    0.004 ** \n",
              "lag.realgarch.3    0.013      0.048   0.275    0.784    \n",
              "lag.epu            0.002      0.001   1.760    0.080 .  \n",
              "lag.gepu          -0.002      0.000  -3.927   <2e-16 ***\n",
              "lag.vix            0.026      0.005   5.001   <2e-16 ***\n",
              "---\n",
              "Signif. codes:  0 ‘***’ 0.001 ‘**’ 0.01 ‘*’ 0.05 ‘.’ 0.1 ‘ ’ 1\n"
            ]
          },
          "metadata": {
            "tags": []
          }
        },
        {
          "output_type": "display_data",
          "data": {
            "text/plain": [
              "[1] 0.595"
            ],
            "text/latex": "0.595",
            "text/markdown": "0.595",
            "text/html": [
              "0.595"
            ]
          },
          "metadata": {
            "tags": []
          }
        }
      ]
    },
    {
      "cell_type": "markdown",
      "metadata": {
        "id": "tUOifxgkFbpF"
      },
      "source": [
        "**Realized EGARCH**"
      ],
      "id": "tUOifxgkFbpF"
    },
    {
      "cell_type": "code",
      "metadata": {
        "colab": {
          "base_uri": "https://localhost:8080/",
          "height": 170
        },
        "id": "aKcrDVVGGCtZ",
        "outputId": "eba4ba18-e7a2-48c7-d9e8-d2986ca4ed28"
      },
      "source": [
        "# Estimation 1 - Realized EGARCH (Best BIC:  lag= 1)\n",
        "realegarch <- ts(log(N225.df.month$N225.VolRealEGARCH))\n",
        "lag.realegarch.1 <- ts(Lag(log(N225.df.month$N225.VolRealEGARCH), 1))\n",
        "\n",
        "ols.realegarch <- cbind(realegarch, lag.realegarch.1,\n",
        "                        lag.epu, lag.gepu, lag.vix)\n",
        "\n",
        "model.realegarch.1 <- lm(realegarch ~  lag.realegarch.1, \n",
        "                        data = ols.realegarch)\n",
        "\n",
        "round(coeftest(model.realegarch.1, NeweyWest(model.realegarch.1, \n",
        "                                            lag = bwNeweyWest(model.realegarch.1), \n",
        "                                            prewhite = F)), 3)\n",
        "\n",
        "round(summary(model.realegarch.1)$adj.r.squared, 3)"
      ],
      "id": "aKcrDVVGGCtZ",
      "execution_count": 322,
      "outputs": [
        {
          "output_type": "display_data",
          "data": {
            "text/plain": [
              "\n",
              "t test of coefficients:\n",
              "\n",
              "                 Estimate Std. Error t value  Pr(>|t|)    \n",
              "(Intercept)         0.178      0.039   4.568 < 2.2e-16 ***\n",
              "lag.realegarch.1    0.681      0.049  13.875 < 2.2e-16 ***\n",
              "---\n",
              "Signif. codes:  0 ‘***’ 0.001 ‘**’ 0.01 ‘*’ 0.05 ‘.’ 0.1 ‘ ’ 1\n"
            ]
          },
          "metadata": {
            "tags": []
          }
        },
        {
          "output_type": "display_data",
          "data": {
            "text/plain": [
              "[1] 0.462"
            ],
            "text/latex": "0.462",
            "text/markdown": "0.462",
            "text/html": [
              "0.462"
            ]
          },
          "metadata": {
            "tags": []
          }
        }
      ]
    },
    {
      "cell_type": "code",
      "metadata": {
        "colab": {
          "base_uri": "https://localhost:8080/",
          "height": 187
        },
        "id": "k9o6HRw9GZ1M",
        "outputId": "c3a68eba-070d-40a2-8d5f-b9ada123ecad"
      },
      "source": [
        "# Estimation 2 - Realized EGARCH (Best BIC:  lag= 1)\n",
        "model.realegarch.2 <- lm(realegarch ~  lag.realegarch.1 + lag.epu, \n",
        "                          data = ols.realegarch)\n",
        "\n",
        "round(coeftest(model.realegarch.2, NeweyWest(model.realegarch.2, \n",
        "                                              lag = bwNeweyWest(model.realegarch.2), \n",
        "                                              prewhite = F)), 3)\n",
        "\n",
        "round(summary(model.realegarch.2)$adj.r.squared, 3)"
      ],
      "id": "k9o6HRw9GZ1M",
      "execution_count": 323,
      "outputs": [
        {
          "output_type": "display_data",
          "data": {
            "text/plain": [
              "\n",
              "t test of coefficients:\n",
              "\n",
              "                 Estimate Std. Error t value Pr(>|t|)    \n",
              "(Intercept)         0.052      0.084   0.622    0.534    \n",
              "lag.realegarch.1    0.647      0.050  13.015   <2e-16 ***\n",
              "lag.epu             0.001      0.001   1.699    0.091 .  \n",
              "---\n",
              "Signif. codes:  0 ‘***’ 0.001 ‘**’ 0.01 ‘*’ 0.05 ‘.’ 0.1 ‘ ’ 1\n"
            ]
          },
          "metadata": {
            "tags": []
          }
        },
        {
          "output_type": "display_data",
          "data": {
            "text/plain": [
              "[1] 0.464"
            ],
            "text/latex": "0.464",
            "text/markdown": "0.464",
            "text/html": [
              "0.464"
            ]
          },
          "metadata": {
            "tags": []
          }
        }
      ]
    },
    {
      "cell_type": "code",
      "metadata": {
        "colab": {
          "base_uri": "https://localhost:8080/",
          "height": 187
        },
        "id": "I1exBnz0R4Pj",
        "outputId": "adb69f06-7196-4a6c-f966-3e76ec34fedb"
      },
      "source": [
        "# Estimation 3 - Realized EGARCH (Best BIC:  lag= 1)\n",
        "model.realegarch.3 <- lm(realegarch ~  lag.realegarch.1 + lag.vix, \n",
        "                          data = ols.realegarch)\n",
        "\n",
        "round(coeftest(model.realegarch.3, NeweyWest(model.realegarch.3, \n",
        "                                              lag = bwNeweyWest(model.realegarch.3), \n",
        "                                              prewhite = F)), 3)\n",
        "\n",
        "round(summary(model.realegarch.3)$adj.r.squared, 3)"
      ],
      "id": "I1exBnz0R4Pj",
      "execution_count": 324,
      "outputs": [
        {
          "output_type": "display_data",
          "data": {
            "text/plain": [
              "\n",
              "t test of coefficients:\n",
              "\n",
              "                 Estimate Std. Error t value Pr(>|t|)    \n",
              "(Intercept)        -0.170      0.074  -2.280    0.023 *  \n",
              "lag.realegarch.1    0.490      0.058   8.443   <2e-16 ***\n",
              "lag.vix             0.023      0.005   5.013   <2e-16 ***\n",
              "---\n",
              "Signif. codes:  0 ‘***’ 0.001 ‘**’ 0.01 ‘*’ 0.05 ‘.’ 0.1 ‘ ’ 1\n"
            ]
          },
          "metadata": {
            "tags": []
          }
        },
        {
          "output_type": "display_data",
          "data": {
            "text/plain": [
              "[1] 0.522"
            ],
            "text/latex": "0.522",
            "text/markdown": "0.522",
            "text/html": [
              "0.522"
            ]
          },
          "metadata": {
            "tags": []
          }
        }
      ]
    },
    {
      "cell_type": "code",
      "metadata": {
        "colab": {
          "base_uri": "https://localhost:8080/",
          "height": 221
        },
        "id": "txIofdC1R5OJ",
        "outputId": "bb9106f6-c6c3-4ed7-f380-ef147a028c06"
      },
      "source": [
        "# Estimation 4 - Realized EGARCH (Best BIC:  lag= 1)\n",
        "model.realegarch.4 <- lm(realegarch ~  lag.realegarch.1 + lag.epu + lag.gepu + lag.vix, \n",
        "                          data = ols.realegarch)\n",
        "\n",
        "round(coeftest(model.realegarch.4, NeweyWest(model.realegarch.4, \n",
        "                                              lag = bwNeweyWest(model.realegarch.4), \n",
        "                                              prewhite = F)), 3)\n",
        "\n",
        "round(summary(model.realegarch.4)$adj.r.squared, 3)"
      ],
      "id": "txIofdC1R5OJ",
      "execution_count": 325,
      "outputs": [
        {
          "output_type": "display_data",
          "data": {
            "text/plain": [
              "\n",
              "t test of coefficients:\n",
              "\n",
              "                 Estimate Std. Error t value Pr(>|t|)    \n",
              "(Intercept)        -0.157      0.093  -1.694    0.092 .  \n",
              "lag.realegarch.1    0.417      0.055   7.531   <2e-16 ***\n",
              "lag.epu             0.002      0.001   2.116    0.035 *  \n",
              "lag.gepu           -0.002      0.000  -4.217   <2e-16 ***\n",
              "lag.vix             0.025      0.005   5.300   <2e-16 ***\n",
              "---\n",
              "Signif. codes:  0 ‘***’ 0.001 ‘**’ 0.01 ‘*’ 0.05 ‘.’ 0.1 ‘ ’ 1\n"
            ]
          },
          "metadata": {
            "tags": []
          }
        },
        {
          "output_type": "display_data",
          "data": {
            "text/plain": [
              "[1] 0.545"
            ],
            "text/latex": "0.545",
            "text/markdown": "0.545",
            "text/html": [
              "0.545"
            ]
          },
          "metadata": {
            "tags": []
          }
        }
      ]
    },
    {
      "cell_type": "code",
      "metadata": {
        "colab": {
          "base_uri": "https://localhost:8080/",
          "height": 221
        },
        "id": "HpsZ5qyNR6JL",
        "outputId": "68e6847c-f81e-43cb-aab5-afcd6f11215f"
      },
      "source": [
        "# Estimation 5 - Realized EGARCH (Best BIC:  lag= 1)\n",
        "model.realegarch.5 <- lm(realegarch ~  lag.realegarch.1 + lag.epu + lag.gepu + lag.vix, \n",
        "                          data = ols.realegarch)\n",
        "\n",
        "round(coeftest(model.realegarch.5, NeweyWest(model.realegarch.5, \n",
        "                                              lag = bwNeweyWest(model.realegarch.5), \n",
        "                                              prewhite = F)), 3)\n",
        "\n",
        "round(summary(model.realegarch.5)$adj.r.squared, 3)"
      ],
      "id": "HpsZ5qyNR6JL",
      "execution_count": 326,
      "outputs": [
        {
          "output_type": "display_data",
          "data": {
            "text/plain": [
              "\n",
              "t test of coefficients:\n",
              "\n",
              "                 Estimate Std. Error t value Pr(>|t|)    \n",
              "(Intercept)        -0.157      0.093  -1.694    0.092 .  \n",
              "lag.realegarch.1    0.417      0.055   7.531   <2e-16 ***\n",
              "lag.epu             0.002      0.001   2.116    0.035 *  \n",
              "lag.gepu           -0.002      0.000  -4.217   <2e-16 ***\n",
              "lag.vix             0.025      0.005   5.300   <2e-16 ***\n",
              "---\n",
              "Signif. codes:  0 ‘***’ 0.001 ‘**’ 0.01 ‘*’ 0.05 ‘.’ 0.1 ‘ ’ 1\n"
            ]
          },
          "metadata": {
            "tags": []
          }
        },
        {
          "output_type": "display_data",
          "data": {
            "text/plain": [
              "[1] 0.545"
            ],
            "text/latex": "0.545",
            "text/markdown": "0.545",
            "text/html": [
              "0.545"
            ]
          },
          "metadata": {
            "tags": []
          }
        }
      ]
    },
    {
      "cell_type": "markdown",
      "metadata": {
        "id": "zegAfcHHFdbK"
      },
      "source": [
        "**Realized GJR-GARCH**"
      ],
      "id": "zegAfcHHFdbK"
    },
    {
      "cell_type": "code",
      "metadata": {
        "colab": {
          "base_uri": "https://localhost:8080/",
          "height": 187
        },
        "id": "g0qHrweAGDrp",
        "outputId": "74a8b8bf-6db4-4c81-a79f-691d06ecc6bf"
      },
      "source": [
        "# Estimation 1 - Realized GJR-GARCH (Best BIC:  lag= 2)\n",
        "realgjrgarch <- ts(log(N225.df.month$N225.VolRealGJRGARCH))\n",
        "lag.realgjrgarch.1 <- ts(Lag(log(N225.df.month$N225.VolRealGJRGARCH), 1))\n",
        "lag.realgjrgarch.2 <- ts(Lag(log(N225.df.month$N225.VolRealGJRGARCH), 2))\n",
        "\n",
        "ols.realgjrgarch <- cbind(realgjrgarch, lag.realgjrgarch.1, lag.realgjrgarch.2, \n",
        "                          lag.epu, lag.gepu, lag.vix)\n",
        "\n",
        "model.realgjrgarch.1 <- lm(realgjrgarch ~  lag.realgjrgarch.1 + lag.realgjrgarch.2, \n",
        "                            data = ols.realgjrgarch)\n",
        "\n",
        "round(coeftest(model.realgjrgarch.1, NeweyWest(model.realgjrgarch.1, \n",
        "                                              lag = bwNeweyWest(model.realgjrgarch.1), \n",
        "                                              prewhite = F)), 3)\n",
        "\n",
        "round(summary(model.realgjrgarch.1)$adj.r.squared, 3)"
      ],
      "id": "g0qHrweAGDrp",
      "execution_count": 327,
      "outputs": [
        {
          "output_type": "display_data",
          "data": {
            "text/plain": [
              "\n",
              "t test of coefficients:\n",
              "\n",
              "                   Estimate Std. Error t value Pr(>|t|)    \n",
              "(Intercept)           0.206      0.042   4.957   <2e-16 ***\n",
              "lag.realgjrgarch.1    0.716      0.070  10.210   <2e-16 ***\n",
              "lag.realgjrgarch.2   -0.074      0.051  -1.453    0.147    \n",
              "---\n",
              "Signif. codes:  0 ‘***’ 0.001 ‘**’ 0.01 ‘*’ 0.05 ‘.’ 0.1 ‘ ’ 1\n"
            ]
          },
          "metadata": {
            "tags": []
          }
        },
        {
          "output_type": "display_data",
          "data": {
            "text/plain": [
              "[1] 0.443"
            ],
            "text/latex": "0.443",
            "text/markdown": "0.443",
            "text/html": [
              "0.443"
            ]
          },
          "metadata": {
            "tags": []
          }
        }
      ]
    },
    {
      "cell_type": "code",
      "metadata": {
        "colab": {
          "base_uri": "https://localhost:8080/",
          "height": 204
        },
        "id": "upoZ-ZM9GbFJ",
        "outputId": "5e56bb9d-2769-4767-fd81-b9c98af10309"
      },
      "source": [
        "# Estimation 2 - Realized GJR-GARCH (Best BIC:  lag= 2)\n",
        "model.realgjrgarch.2 <- lm(realgjrgarch ~  lag.realgjrgarch.1 + lag.realgjrgarch.2 + lag.epu, \n",
        "                          data = ols.realgjrgarch)\n",
        "\n",
        "round(coeftest(model.realgjrgarch.2, NeweyWest(model.realgjrgarch.2, \n",
        "                                              lag = bwNeweyWest(model.realgjrgarch.2), \n",
        "                                              prewhite = F)), 3)\n",
        "\n",
        "round(summary(model.realgjrgarch.2)$adj.r.squared, 3)"
      ],
      "id": "upoZ-ZM9GbFJ",
      "execution_count": 328,
      "outputs": [
        {
          "output_type": "display_data",
          "data": {
            "text/plain": [
              "\n",
              "t test of coefficients:\n",
              "\n",
              "                   Estimate Std. Error t value Pr(>|t|)    \n",
              "(Intercept)           0.079      0.087   0.918    0.359    \n",
              "lag.realgjrgarch.1    0.684      0.064  10.730   <2e-16 ***\n",
              "lag.realgjrgarch.2   -0.079      0.052  -1.514    0.131    \n",
              "lag.epu               0.001      0.001   1.670    0.096 .  \n",
              "---\n",
              "Signif. codes:  0 ‘***’ 0.001 ‘**’ 0.01 ‘*’ 0.05 ‘.’ 0.1 ‘ ’ 1\n"
            ]
          },
          "metadata": {
            "tags": []
          }
        },
        {
          "output_type": "display_data",
          "data": {
            "text/plain": [
              "[1] 0.446"
            ],
            "text/latex": "0.446",
            "text/markdown": "0.446",
            "text/html": [
              "0.446"
            ]
          },
          "metadata": {
            "tags": []
          }
        }
      ]
    },
    {
      "cell_type": "code",
      "metadata": {
        "colab": {
          "base_uri": "https://localhost:8080/",
          "height": 204
        },
        "id": "ZNfAR-ogSdfR",
        "outputId": "ed843ee8-ecbe-4b71-d471-3b1f755bcda6"
      },
      "source": [
        "# Estimation 3 - Realized GJR-GARCH (Best BIC:  lag= 2)\n",
        "model.realgjrgarch.3 <- lm(realgjrgarch ~  lag.realgjrgarch.1 + lag.realgjrgarch.2 + lag.vix, \n",
        "                          data = ols.realgjrgarch)\n",
        "\n",
        "round(coeftest(model.realgjrgarch.3, NeweyWest(model.realgjrgarch.3, \n",
        "                                              lag = bwNeweyWest(model.realgjrgarch.3), \n",
        "                                              prewhite = F)), 3)\n",
        "\n",
        "round(summary(model.realgjrgarch.3)$adj.r.squared, 3)"
      ],
      "id": "ZNfAR-ogSdfR",
      "execution_count": 329,
      "outputs": [
        {
          "output_type": "display_data",
          "data": {
            "text/plain": [
              "\n",
              "t test of coefficients:\n",
              "\n",
              "                   Estimate Std. Error t value Pr(>|t|)    \n",
              "(Intercept)          -0.156      0.080  -1.958    0.051 .  \n",
              "lag.realgjrgarch.1    0.544      0.064   8.438   <2e-16 ***\n",
              "lag.realgjrgarch.2   -0.108      0.048  -2.257    0.025 *  \n",
              "lag.vix               0.024      0.005   4.403   <2e-16 ***\n",
              "---\n",
              "Signif. codes:  0 ‘***’ 0.001 ‘**’ 0.01 ‘*’ 0.05 ‘.’ 0.1 ‘ ’ 1\n"
            ]
          },
          "metadata": {
            "tags": []
          }
        },
        {
          "output_type": "display_data",
          "data": {
            "text/plain": [
              "[1] 0.511"
            ],
            "text/latex": "0.511",
            "text/markdown": "0.511",
            "text/html": [
              "0.511"
            ]
          },
          "metadata": {
            "tags": []
          }
        }
      ]
    },
    {
      "cell_type": "code",
      "metadata": {
        "colab": {
          "base_uri": "https://localhost:8080/",
          "height": 221
        },
        "id": "nAvk7lOxSfk7",
        "outputId": "6f2a7c93-af0d-40f5-a733-7290c88268da"
      },
      "source": [
        "# Estimation 4 - Realized GJR-GARCH (Best BIC:  lag= 2)\n",
        "model.realgjrgarch.4 <- lm(realgjrgarch ~  lag.realgjrgarch.1 + lag.realgjrgarch.2 + lag.epu + lag.vix, \n",
        "                          data = ols.realgjrgarch)\n",
        "\n",
        "round(coeftest(model.realgjrgarch.4, NeweyWest(model.realgjrgarch.4, \n",
        "                                              lag = bwNeweyWest(model.realgjrgarch.4), \n",
        "                                              prewhite = F)), 3)\n",
        "\n",
        "round(summary(model.realgjrgarch.4)$adj.r.squared, 3)"
      ],
      "id": "nAvk7lOxSfk7",
      "execution_count": 330,
      "outputs": [
        {
          "output_type": "display_data",
          "data": {
            "text/plain": [
              "\n",
              "t test of coefficients:\n",
              "\n",
              "                   Estimate Std. Error t value Pr(>|t|)    \n",
              "(Intercept)          -0.117      0.097  -1.202    0.231    \n",
              "lag.realgjrgarch.1    0.551      0.064   8.605   <2e-16 ***\n",
              "lag.realgjrgarch.2   -0.107      0.048  -2.213    0.028 *  \n",
              "lag.epu              -0.001      0.001  -0.656    0.513    \n",
              "lag.vix               0.025      0.006   4.349   <2e-16 ***\n",
              "---\n",
              "Signif. codes:  0 ‘***’ 0.001 ‘**’ 0.01 ‘*’ 0.05 ‘.’ 0.1 ‘ ’ 1\n"
            ]
          },
          "metadata": {
            "tags": []
          }
        },
        {
          "output_type": "display_data",
          "data": {
            "text/plain": [
              "[1] 0.509"
            ],
            "text/latex": "0.509",
            "text/markdown": "0.509",
            "text/html": [
              "0.509"
            ]
          },
          "metadata": {
            "tags": []
          }
        }
      ]
    },
    {
      "cell_type": "code",
      "metadata": {
        "colab": {
          "base_uri": "https://localhost:8080/",
          "height": 238
        },
        "id": "q8aAhKYVSe07",
        "outputId": "ef000410-fed4-4bfe-c31d-306b9229359c"
      },
      "source": [
        "# Estimation 5 - Realized GJR-GARCH (Best BIC:  lag= 2)\n",
        "model.realgjrgarch.5 <- lm(realgjrgarch ~  lag.realgjrgarch.1 + lag.realgjrgarch.2 + lag.epu + lag.gepu + lag.vix, \n",
        "                          data = ols.realgjrgarch)\n",
        "\n",
        "round(coeftest(model.realgjrgarch.5, NeweyWest(model.realgjrgarch.5, \n",
        "                                              lag = bwNeweyWest(model.realgjrgarch.5), \n",
        "                                              prewhite = F)), 3)\n",
        "\n",
        "round(summary(model.realgjrgarch.5)$adj.r.squared, 3)"
      ],
      "id": "q8aAhKYVSe07",
      "execution_count": 331,
      "outputs": [
        {
          "output_type": "display_data",
          "data": {
            "text/plain": [
              "\n",
              "t test of coefficients:\n",
              "\n",
              "                   Estimate Std. Error t value Pr(>|t|)    \n",
              "(Intercept)          -0.129      0.102  -1.261    0.209    \n",
              "lag.realgjrgarch.1    0.497      0.056   8.804   <2e-16 ***\n",
              "lag.realgjrgarch.2   -0.132      0.046  -2.842    0.005 ** \n",
              "lag.epu               0.002      0.001   1.790    0.075 .  \n",
              "lag.gepu             -0.002      0.000  -4.191   <2e-16 ***\n",
              "lag.vix               0.026      0.005   4.957   <2e-16 ***\n",
              "---\n",
              "Signif. codes:  0 ‘***’ 0.001 ‘**’ 0.01 ‘*’ 0.05 ‘.’ 0.1 ‘ ’ 1\n"
            ]
          },
          "metadata": {
            "tags": []
          }
        },
        {
          "output_type": "display_data",
          "data": {
            "text/plain": [
              "[1] 0.535"
            ],
            "text/latex": "0.535",
            "text/markdown": "0.535",
            "text/html": [
              "0.535"
            ]
          },
          "metadata": {
            "tags": []
          }
        }
      ]
    },
    {
      "cell_type": "markdown",
      "metadata": {
        "id": "Cak8CR8-Fft3"
      },
      "source": [
        "**MS Linear GARCH**"
      ],
      "id": "Cak8CR8-Fft3"
    },
    {
      "cell_type": "code",
      "metadata": {
        "colab": {
          "base_uri": "https://localhost:8080/",
          "height": 170
        },
        "id": "fG33RRq4GEcL",
        "outputId": "cc244e46-f5ac-4ccb-a718-849f6642a0c3"
      },
      "source": [
        "# Estimation 1 - MS Linear GARCH (Best BIC:  lag= 1)\n",
        "msgarch <- ts(log(N225.df.month$N225.VolMSGARCH))\n",
        "lag.msgarch.1 <- ts(Lag(log(N225.df.month$N225.VolMSGARCH), 1))\n",
        "\n",
        "ols.msgarch <- cbind(msgarch, lag.msgarch.1, \n",
        "                    lag.epu, lag.gepu, lag.vix)\n",
        "\n",
        "model.msgarch.1 <- lm(msgarch ~  lag.msgarch.1, \n",
        "                      data = ols.msgarch)\n",
        "\n",
        "round(coeftest(model.msgarch.1, NeweyWest(model.msgarch.1, \n",
        "                                          lag = bwNeweyWest(model.msgarch.1), \n",
        "                                          prewhite = F)), 3)\n",
        "\n",
        "round(summary(model.msgarch.1)$adj.r.squared, 3)"
      ],
      "id": "fG33RRq4GEcL",
      "execution_count": 332,
      "outputs": [
        {
          "output_type": "display_data",
          "data": {
            "text/plain": [
              "\n",
              "t test of coefficients:\n",
              "\n",
              "              Estimate Std. Error t value  Pr(>|t|)    \n",
              "(Intercept)      0.071      0.016   4.464 < 2.2e-16 ***\n",
              "lag.msgarch.1    0.723      0.053  13.579 < 2.2e-16 ***\n",
              "---\n",
              "Signif. codes:  0 ‘***’ 0.001 ‘**’ 0.01 ‘*’ 0.05 ‘.’ 0.1 ‘ ’ 1\n"
            ]
          },
          "metadata": {
            "tags": []
          }
        },
        {
          "output_type": "display_data",
          "data": {
            "text/plain": [
              "[1] 0.529"
            ],
            "text/latex": "0.529",
            "text/markdown": "0.529",
            "text/html": [
              "0.529"
            ]
          },
          "metadata": {
            "tags": []
          }
        }
      ]
    },
    {
      "cell_type": "code",
      "metadata": {
        "colab": {
          "base_uri": "https://localhost:8080/",
          "height": 187
        },
        "id": "y8QhY7EwGcFZ",
        "outputId": "941de7f4-46bd-40c5-fc5c-8c6828359b0f"
      },
      "source": [
        "# Estimation 2 - MS Linear GARCH (Best BIC:  lag= 1)\n",
        "model.msgarch.2 <- lm(msgarch ~  lag.msgarch.1 + lag.epu, \n",
        "                      data = ols.msgarch)\n",
        "\n",
        "round(coeftest(model.msgarch.2, NeweyWest(model.msgarch.2, \n",
        "                                          lag = bwNeweyWest(model.msgarch.2), \n",
        "                                          prewhite = F)), 3)\n",
        "\n",
        "round(summary(model.msgarch.2)$adj.r.squared, 3)"
      ],
      "id": "y8QhY7EwGcFZ",
      "execution_count": 333,
      "outputs": [
        {
          "output_type": "display_data",
          "data": {
            "text/plain": [
              "\n",
              "t test of coefficients:\n",
              "\n",
              "              Estimate Std. Error t value Pr(>|t|)    \n",
              "(Intercept)     -0.003      0.037  -0.088    0.930    \n",
              "lag.msgarch.1    0.677      0.054  12.630   <2e-16 ***\n",
              "lag.epu          0.001      0.000   2.081    0.038 *  \n",
              "---\n",
              "Signif. codes:  0 ‘***’ 0.001 ‘**’ 0.01 ‘*’ 0.05 ‘.’ 0.1 ‘ ’ 1\n"
            ]
          },
          "metadata": {
            "tags": []
          }
        },
        {
          "output_type": "display_data",
          "data": {
            "text/plain": [
              "[1] 0.535"
            ],
            "text/latex": "0.535",
            "text/markdown": "0.535",
            "text/html": [
              "0.535"
            ]
          },
          "metadata": {
            "tags": []
          }
        }
      ]
    },
    {
      "cell_type": "code",
      "metadata": {
        "colab": {
          "base_uri": "https://localhost:8080/",
          "height": 187
        },
        "id": "qV-P5RleTO03",
        "outputId": "6dbb2c88-b32a-46f0-e7fc-80161b71f595"
      },
      "source": [
        "# Estimation 3 - MS Linear GARCH (Best BIC:  lag= 1)\n",
        "model.msgarch.3 <- lm(msgarch ~  lag.msgarch.1 + lag.vix, \n",
        "                      data = ols.msgarch)\n",
        "\n",
        "round(coeftest(model.msgarch.3, NeweyWest(model.msgarch.3, \n",
        "                                          lag = bwNeweyWest(model.msgarch.3), \n",
        "                                          prewhite = F)), 3)\n",
        "\n",
        "round(summary(model.msgarch.3)$adj.r.squared, 3)"
      ],
      "id": "qV-P5RleTO03",
      "execution_count": 334,
      "outputs": [
        {
          "output_type": "display_data",
          "data": {
            "text/plain": [
              "\n",
              "t test of coefficients:\n",
              "\n",
              "              Estimate Std. Error t value Pr(>|t|)    \n",
              "(Intercept)     -0.085      0.035  -2.439    0.015 *  \n",
              "lag.msgarch.1    0.530      0.062   8.537   <2e-16 ***\n",
              "lag.vix          0.010      0.002   4.423   <2e-16 ***\n",
              "---\n",
              "Signif. codes:  0 ‘***’ 0.001 ‘**’ 0.01 ‘*’ 0.05 ‘.’ 0.1 ‘ ’ 1\n"
            ]
          },
          "metadata": {
            "tags": []
          }
        },
        {
          "output_type": "display_data",
          "data": {
            "text/plain": [
              "[1] 0.592"
            ],
            "text/latex": "0.592",
            "text/markdown": "0.592",
            "text/html": [
              "0.592"
            ]
          },
          "metadata": {
            "tags": []
          }
        }
      ]
    },
    {
      "cell_type": "code",
      "metadata": {
        "colab": {
          "base_uri": "https://localhost:8080/",
          "height": 204
        },
        "id": "FcjDEzYZTObB",
        "outputId": "0ae2492e-cf80-44a5-93da-5c561af52abf"
      },
      "source": [
        "# Estimation 4 - MS Linear GARCH (Best BIC:  lag= 1)\n",
        "model.msgarch.4 <- lm(msgarch ~  lag.msgarch.1 + lag.epu + lag.vix, \n",
        "                      data = ols.msgarch)\n",
        "\n",
        "round(coeftest(model.msgarch.4, NeweyWest(model.msgarch.4, \n",
        "                                          lag = bwNeweyWest(model.msgarch.4), \n",
        "                                          prewhite = F)), 3)\n",
        "\n",
        "round(summary(model.msgarch.4)$adj.r.squared, 3)"
      ],
      "id": "FcjDEzYZTObB",
      "execution_count": 335,
      "outputs": [
        {
          "output_type": "display_data",
          "data": {
            "text/plain": [
              "\n",
              "t test of coefficients:\n",
              "\n",
              "              Estimate Std. Error t value Pr(>|t|)    \n",
              "(Intercept)     -0.087      0.039  -2.212    0.028 *  \n",
              "lag.msgarch.1    0.529      0.057   9.269   <2e-16 ***\n",
              "lag.epu          0.000      0.000   0.067    0.947    \n",
              "lag.vix          0.010      0.002   4.676   <2e-16 ***\n",
              "---\n",
              "Signif. codes:  0 ‘***’ 0.001 ‘**’ 0.01 ‘*’ 0.05 ‘.’ 0.1 ‘ ’ 1\n"
            ]
          },
          "metadata": {
            "tags": []
          }
        },
        {
          "output_type": "display_data",
          "data": {
            "text/plain": [
              "[1] 0.59"
            ],
            "text/latex": "0.59",
            "text/markdown": "0.59",
            "text/html": [
              "0.59"
            ]
          },
          "metadata": {
            "tags": []
          }
        }
      ]
    },
    {
      "cell_type": "code",
      "metadata": {
        "colab": {
          "base_uri": "https://localhost:8080/",
          "height": 221
        },
        "id": "ImV_Ip4BTNpK",
        "outputId": "32b190a8-721b-43f9-a9e1-31a5e5039881"
      },
      "source": [
        "# Estimation 5 - MS Linear GARCH (Best BIC:  lag= 1)\n",
        "model.msgarch.5 <- lm(msgarch ~  lag.msgarch.1 + lag.epu + lag.gepu + lag.vix, \n",
        "                      data = ols.msgarch)\n",
        "\n",
        "round(coeftest(model.msgarch.5, NeweyWest(model.msgarch.5, \n",
        "                                          lag = bwNeweyWest(model.msgarch.5), \n",
        "                                          prewhite = F)), 3)\n",
        "\n",
        "round(summary(model.msgarch.5)$adj.r.squared, 3)"
      ],
      "id": "ImV_Ip4BTNpK",
      "execution_count": 336,
      "outputs": [
        {
          "output_type": "display_data",
          "data": {
            "text/plain": [
              "\n",
              "t test of coefficients:\n",
              "\n",
              "              Estimate Std. Error t value Pr(>|t|)    \n",
              "(Intercept)     -0.092      0.047  -1.947    0.053 .  \n",
              "lag.msgarch.1    0.473      0.065   7.292   <2e-16 ***\n",
              "lag.epu          0.001      0.000   1.961    0.051 .  \n",
              "lag.gepu        -0.001      0.000  -3.781   <2e-16 ***\n",
              "lag.vix          0.011      0.002   4.502   <2e-16 ***\n",
              "---\n",
              "Signif. codes:  0 ‘***’ 0.001 ‘**’ 0.01 ‘*’ 0.05 ‘.’ 0.1 ‘ ’ 1\n"
            ]
          },
          "metadata": {
            "tags": []
          }
        },
        {
          "output_type": "display_data",
          "data": {
            "text/plain": [
              "[1] 0.607"
            ],
            "text/latex": "0.607",
            "text/markdown": "0.607",
            "text/html": [
              "0.607"
            ]
          },
          "metadata": {
            "tags": []
          }
        }
      ]
    },
    {
      "cell_type": "markdown",
      "metadata": {
        "id": "VuhTae9lFjX9"
      },
      "source": [
        "**MS EGARCH**"
      ],
      "id": "VuhTae9lFjX9"
    },
    {
      "cell_type": "code",
      "metadata": {
        "colab": {
          "base_uri": "https://localhost:8080/",
          "height": 170
        },
        "id": "GVFR95aSGFnm",
        "outputId": "04f01f9b-8d08-4df1-f2cd-c8ae3de96c4c"
      },
      "source": [
        "# Estimation 1 - MS EGARCH (Best BIC:  lag= 1)\n",
        "msegarch <- ts(log(N225.df.month$N225.VolMSEGARCH ))\n",
        "lag.msegarch.1 <- ts(Lag(log(N225.df.month$N225.VolMSEGARCH ), 1))\n",
        "\n",
        "ols.msegarch <- cbind(msegarch, lag.msegarch.1, \n",
        "                      lag.epu, lag.gepu, lag.vix)\n",
        "\n",
        "model.msegarch.1 <- lm(msegarch ~  lag.msegarch.1, \n",
        "                      data = ols.msegarch)\n",
        "\n",
        "round(coeftest(model.msegarch.1, NeweyWest(model.msegarch.1, \n",
        "                                          lag = bwNeweyWest(model.msegarch.1), \n",
        "                                          prewhite = F)), 3)\n",
        "\n",
        "round(summary(model.msegarch.1)$adj.r.squared, 3)"
      ],
      "id": "GVFR95aSGFnm",
      "execution_count": 337,
      "outputs": [
        {
          "output_type": "display_data",
          "data": {
            "text/plain": [
              "\n",
              "t test of coefficients:\n",
              "\n",
              "               Estimate Std. Error t value  Pr(>|t|)    \n",
              "(Intercept)       0.088      0.020   4.281 < 2.2e-16 ***\n",
              "lag.msegarch.1    0.657      0.050  13.154 < 2.2e-16 ***\n",
              "---\n",
              "Signif. codes:  0 ‘***’ 0.001 ‘**’ 0.01 ‘*’ 0.05 ‘.’ 0.1 ‘ ’ 1\n"
            ]
          },
          "metadata": {
            "tags": []
          }
        },
        {
          "output_type": "display_data",
          "data": {
            "text/plain": [
              "[1] 0.43"
            ],
            "text/latex": "0.43",
            "text/markdown": "0.43",
            "text/html": [
              "0.43"
            ]
          },
          "metadata": {
            "tags": []
          }
        }
      ]
    },
    {
      "cell_type": "code",
      "metadata": {
        "colab": {
          "base_uri": "https://localhost:8080/",
          "height": 187
        },
        "id": "u_nw2tqyGcyh",
        "outputId": "c0f4c68a-3321-42f2-b100-48e5cea6a829"
      },
      "source": [
        "# Estimation 2 - MS EGARCH (Best BIC:  lag= 1)\n",
        "model.msegarch.2 <- lm(msegarch ~  lag.msegarch.1 + lag.epu, \n",
        "                      data = ols.msegarch)\n",
        "\n",
        "round(coeftest(model.msegarch.2, NeweyWest(model.msegarch.2, \n",
        "                                          lag = bwNeweyWest(model.msegarch.2), \n",
        "                                          prewhite = F)), 3)\n",
        "\n",
        "round(summary(model.msegarch.2)$adj.r.squared, 3)"
      ],
      "id": "u_nw2tqyGcyh",
      "execution_count": 338,
      "outputs": [
        {
          "output_type": "display_data",
          "data": {
            "text/plain": [
              "\n",
              "t test of coefficients:\n",
              "\n",
              "               Estimate Std. Error t value Pr(>|t|)    \n",
              "(Intercept)       0.011      0.048   0.224    0.823    \n",
              "lag.msegarch.1    0.620      0.051  12.244   <2e-16 ***\n",
              "lag.epu           0.001      0.000   1.755    0.080 .  \n",
              "---\n",
              "Signif. codes:  0 ‘***’ 0.001 ‘**’ 0.01 ‘*’ 0.05 ‘.’ 0.1 ‘ ’ 1\n"
            ]
          },
          "metadata": {
            "tags": []
          }
        },
        {
          "output_type": "display_data",
          "data": {
            "text/plain": [
              "[1] 0.433"
            ],
            "text/latex": "0.433",
            "text/markdown": "0.433",
            "text/html": [
              "0.433"
            ]
          },
          "metadata": {
            "tags": []
          }
        }
      ]
    },
    {
      "cell_type": "code",
      "metadata": {
        "colab": {
          "base_uri": "https://localhost:8080/",
          "height": 187
        },
        "id": "RB00v9ZcTvla",
        "outputId": "33eccc45-e9b4-48ff-ca2e-f130360266b9"
      },
      "source": [
        "# Estimation 3 - MS EGARCH (Best BIC:  lag= 1)\n",
        "model.msegarch.3 <- lm(msegarch ~  lag.msegarch.1 + lag.vix, \n",
        "                      data = ols.msegarch)\n",
        "\n",
        "round(coeftest(model.msegarch.3, NeweyWest(model.msegarch.3, \n",
        "                                          lag = bwNeweyWest(model.msegarch.3), \n",
        "                                          prewhite = F)), 3)\n",
        "\n",
        "round(summary(model.msegarch.3)$adj.r.squared, 3)"
      ],
      "id": "RB00v9ZcTvla",
      "execution_count": 339,
      "outputs": [
        {
          "output_type": "display_data",
          "data": {
            "text/plain": [
              "\n",
              "t test of coefficients:\n",
              "\n",
              "               Estimate Std. Error t value Pr(>|t|)    \n",
              "(Intercept)      -0.124      0.043  -2.862    0.005 ** \n",
              "lag.msegarch.1    0.459      0.059   7.768   <2e-16 ***\n",
              "lag.vix           0.013      0.003   5.154   <2e-16 ***\n",
              "---\n",
              "Signif. codes:  0 ‘***’ 0.001 ‘**’ 0.01 ‘*’ 0.05 ‘.’ 0.1 ‘ ’ 1\n"
            ]
          },
          "metadata": {
            "tags": []
          }
        },
        {
          "output_type": "display_data",
          "data": {
            "text/plain": [
              "[1] 0.496"
            ],
            "text/latex": "0.496",
            "text/markdown": "0.496",
            "text/html": [
              "0.496"
            ]
          },
          "metadata": {
            "tags": []
          }
        }
      ]
    },
    {
      "cell_type": "code",
      "metadata": {
        "colab": {
          "base_uri": "https://localhost:8080/",
          "height": 204
        },
        "id": "YWwcKD55TvQs",
        "outputId": "993ea348-5630-4de8-af1a-9d8836b1cd05"
      },
      "source": [
        "# Estimation 4 - MS EGARCH (Best BIC:  lag= 1)\n",
        "model.msegarch.4 <- lm(msegarch ~  lag.msegarch.1 + lag.epu + lag.vix, \n",
        "                      data = ols.msegarch)\n",
        "\n",
        "round(coeftest(model.msegarch.4, NeweyWest(model.msegarch.4, \n",
        "                                          lag = bwNeweyWest(model.msegarch.4), \n",
        "                                          prewhite = F)), 3)\n",
        "\n",
        "round(summary(model.msegarch.4)$adj.r.squared, 3)"
      ],
      "id": "YWwcKD55TvQs",
      "execution_count": 340,
      "outputs": [
        {
          "output_type": "display_data",
          "data": {
            "text/plain": [
              "\n",
              "t test of coefficients:\n",
              "\n",
              "               Estimate Std. Error t value Pr(>|t|)    \n",
              "(Intercept)      -0.107      0.054  -1.969    0.050 *  \n",
              "lag.msegarch.1    0.465      0.059   7.927   <2e-16 ***\n",
              "lag.epu           0.000      0.000  -0.522    0.602    \n",
              "lag.vix           0.013      0.003   4.935   <2e-16 ***\n",
              "---\n",
              "Signif. codes:  0 ‘***’ 0.001 ‘**’ 0.01 ‘*’ 0.05 ‘.’ 0.1 ‘ ’ 1\n"
            ]
          },
          "metadata": {
            "tags": []
          }
        },
        {
          "output_type": "display_data",
          "data": {
            "text/plain": [
              "[1] 0.495"
            ],
            "text/latex": "0.495",
            "text/markdown": "0.495",
            "text/html": [
              "0.495"
            ]
          },
          "metadata": {
            "tags": []
          }
        }
      ]
    },
    {
      "cell_type": "code",
      "metadata": {
        "colab": {
          "base_uri": "https://localhost:8080/",
          "height": 221
        },
        "id": "NA_Ttf5wTuoa",
        "outputId": "7d5a5838-a640-439e-eaff-22a8972970ee"
      },
      "source": [
        "# Estimation 5 - MS EGARCH (Best BIC:  lag= 1)\n",
        "model.msegarch.5 <- lm(msegarch ~  lag.msegarch.1 + lag.epu + lag.gepu + lag.vix, \n",
        "                      data = ols.msegarch)\n",
        "\n",
        "round(coeftest(model.msegarch.5, NeweyWest(model.msegarch.5, \n",
        "                                          lag = bwNeweyWest(model.msegarch.5), \n",
        "                                          prewhite = F)), 3)\n",
        "\n",
        "round(summary(model.msegarch.5)$adj.r.squared, 3)"
      ],
      "id": "NA_Ttf5wTuoa",
      "execution_count": 341,
      "outputs": [
        {
          "output_type": "display_data",
          "data": {
            "text/plain": [
              "\n",
              "t test of coefficients:\n",
              "\n",
              "               Estimate Std. Error t value Pr(>|t|)    \n",
              "(Intercept)      -0.122      0.054  -2.238    0.026 *  \n",
              "lag.msegarch.1    0.385      0.054   7.100   <2e-16 ***\n",
              "lag.epu           0.001      0.001   2.342    0.020 *  \n",
              "lag.gepu         -0.001      0.000  -4.477   <2e-16 ***\n",
              "lag.vix           0.014      0.003   5.366   <2e-16 ***\n",
              "---\n",
              "Signif. codes:  0 ‘***’ 0.001 ‘**’ 0.01 ‘*’ 0.05 ‘.’ 0.1 ‘ ’ 1\n"
            ]
          },
          "metadata": {
            "tags": []
          }
        },
        {
          "output_type": "display_data",
          "data": {
            "text/plain": [
              "[1] 0.523"
            ],
            "text/latex": "0.523",
            "text/markdown": "0.523",
            "text/html": [
              "0.523"
            ]
          },
          "metadata": {
            "tags": []
          }
        }
      ]
    },
    {
      "cell_type": "markdown",
      "metadata": {
        "id": "T838p-YpFncL"
      },
      "source": [
        "**MS GJR-GARCH**"
      ],
      "id": "T838p-YpFncL"
    },
    {
      "cell_type": "code",
      "metadata": {
        "colab": {
          "base_uri": "https://localhost:8080/",
          "height": 170
        },
        "id": "PhMbYM2SGGj5",
        "outputId": "2d5a7286-737f-40e5-f8ad-c12601bc2e21"
      },
      "source": [
        "# Estimation 1 - MS GJR-GARCH (Best BIC:  lag= 1)\n",
        "msgjrgarch <- ts(log(N225.df.month$N225.VolMSGJRGARCH))\n",
        "lag.msgjrgarch.1 <- ts(Lag(log(N225.df.month$N225.VolMSGJRGARCH), 1))\n",
        "\n",
        "ols.msgjrgarch <- cbind(msgjrgarch, lag.msgjrgarch.1, \n",
        "                  lag.epu, lag.gepu, lag.vix)\n",
        "\n",
        "model.msgjrgarch.1 <- lm(msgjrgarch ~  lag.msgjrgarch.1, \n",
        "                    data = ols.garch)\n",
        "\n",
        "round(coeftest(model.msgjrgarch.1, NeweyWest(model.msgjrgarch.1, \n",
        "                                        lag = bwNeweyWest(model.msgjrgarch.1), \n",
        "                                        prewhite = F)), 3)\n",
        "\n",
        "round(summary(model.msgjrgarch.1)$adj.r.squared, 3)"
      ],
      "id": "PhMbYM2SGGj5",
      "execution_count": 342,
      "outputs": [
        {
          "output_type": "display_data",
          "data": {
            "text/plain": [
              "\n",
              "t test of coefficients:\n",
              "\n",
              "                 Estimate Std. Error t value  Pr(>|t|)    \n",
              "(Intercept)         0.083      0.018   4.504 < 2.2e-16 ***\n",
              "lag.msgjrgarch.1    0.690      0.052  13.267 < 2.2e-16 ***\n",
              "---\n",
              "Signif. codes:  0 ‘***’ 0.001 ‘**’ 0.01 ‘*’ 0.05 ‘.’ 0.1 ‘ ’ 1\n"
            ]
          },
          "metadata": {
            "tags": []
          }
        },
        {
          "output_type": "display_data",
          "data": {
            "text/plain": [
              "[1] 0.474"
            ],
            "text/latex": "0.474",
            "text/markdown": "0.474",
            "text/html": [
              "0.474"
            ]
          },
          "metadata": {
            "tags": []
          }
        }
      ]
    },
    {
      "cell_type": "code",
      "metadata": {
        "colab": {
          "base_uri": "https://localhost:8080/",
          "height": 187
        },
        "id": "WlDqwOGZGdr5",
        "outputId": "9eb71d36-5a9f-4c1c-b067-6bb27beb9f87"
      },
      "source": [
        "# Estimation 2 - MS GJR-GARCH (Best BIC:  lag= 1)\n",
        "model.msgjrgarch.2 <- lm(msgjrgarch ~  lag.msgjrgarch.1 + lag.epu, \n",
        "                        data = ols.msgjrgarch)\n",
        "\n",
        "round(coeftest(model.msgjrgarch.2, NeweyWest(model.msgjrgarch.2, \n",
        "                                            lag = bwNeweyWest(model.msgjrgarch.2), \n",
        "                                            prewhite = F)), 3)\n",
        "\n",
        "round(summary(model.msgjrgarch.2)$adj.r.squared, 3)"
      ],
      "id": "WlDqwOGZGdr5",
      "execution_count": 343,
      "outputs": [
        {
          "output_type": "display_data",
          "data": {
            "text/plain": [
              "\n",
              "t test of coefficients:\n",
              "\n",
              "                 Estimate Std. Error t value Pr(>|t|)    \n",
              "(Intercept)         0.025      0.041   0.604    0.547    \n",
              "lag.msgjrgarch.1    0.658      0.052  12.623   <2e-16 ***\n",
              "lag.epu             0.001      0.000   1.535    0.126    \n",
              "---\n",
              "Signif. codes:  0 ‘***’ 0.001 ‘**’ 0.01 ‘*’ 0.05 ‘.’ 0.1 ‘ ’ 1\n"
            ]
          },
          "metadata": {
            "tags": []
          }
        },
        {
          "output_type": "display_data",
          "data": {
            "text/plain": [
              "[1] 0.476"
            ],
            "text/latex": "0.476",
            "text/markdown": "0.476",
            "text/html": [
              "0.476"
            ]
          },
          "metadata": {
            "tags": []
          }
        }
      ]
    },
    {
      "cell_type": "code",
      "metadata": {
        "colab": {
          "base_uri": "https://localhost:8080/",
          "height": 187
        },
        "id": "jJgCwT8yUMsT",
        "outputId": "81210434-4936-4317-e33b-ca139892040c"
      },
      "source": [
        "# Estimation 3 - MS GJR-GARCH (Best BIC:  lag= 1)\n",
        "model.msgjrgarch.3 <- lm(msgjrgarch ~  lag.msgjrgarch.1 + lag.vix, \n",
        "                        data = ols.msgjrgarch)\n",
        "\n",
        "round(coeftest(model.msgjrgarch.3, NeweyWest(model.msgjrgarch.3, \n",
        "                                            lag = bwNeweyWest(model.msgjrgarch.3), \n",
        "                                            prewhite = F)), 3)\n",
        "\n",
        "round(summary(model.msgjrgarch.3)$adj.r.squared, 3)"
      ],
      "id": "jJgCwT8yUMsT",
      "execution_count": 344,
      "outputs": [
        {
          "output_type": "display_data",
          "data": {
            "text/plain": [
              "\n",
              "t test of coefficients:\n",
              "\n",
              "                 Estimate Std. Error t value Pr(>|t|)    \n",
              "(Intercept)        -0.086      0.040  -2.159    0.032 *  \n",
              "lag.msgjrgarch.1    0.510      0.060   8.508   <2e-16 ***\n",
              "lag.vix             0.011      0.003   4.220   <2e-16 ***\n",
              "---\n",
              "Signif. codes:  0 ‘***’ 0.001 ‘**’ 0.01 ‘*’ 0.05 ‘.’ 0.1 ‘ ’ 1\n"
            ]
          },
          "metadata": {
            "tags": []
          }
        },
        {
          "output_type": "display_data",
          "data": {
            "text/plain": [
              "[1] 0.527"
            ],
            "text/latex": "0.527",
            "text/markdown": "0.527",
            "text/html": [
              "0.527"
            ]
          },
          "metadata": {
            "tags": []
          }
        }
      ]
    },
    {
      "cell_type": "code",
      "metadata": {
        "colab": {
          "base_uri": "https://localhost:8080/",
          "height": 204
        },
        "id": "6P9qZXRPUMWd",
        "outputId": "e58e1d00-25bf-4ddf-c71e-508146fc4aeb"
      },
      "source": [
        "# Estimation 4 - MS GJR-GARCH (Best BIC:  lag= 1)\n",
        "model.msgjrgarch.4 <- lm(msgjrgarch ~  lag.msgjrgarch.1 + lag.epu + lag.vix, \n",
        "                        data = ols.msgjrgarch)\n",
        "\n",
        "round(coeftest(model.msgjrgarch.4, NeweyWest(model.msgjrgarch.4, \n",
        "                                            lag = bwNeweyWest(model.msgjrgarch.4), \n",
        "                                            prewhite = F)), 3)\n",
        "\n",
        "round(summary(model.msgjrgarch.4)$adj.r.squared, 3)"
      ],
      "id": "6P9qZXRPUMWd",
      "execution_count": 345,
      "outputs": [
        {
          "output_type": "display_data",
          "data": {
            "text/plain": [
              "\n",
              "t test of coefficients:\n",
              "\n",
              "                 Estimate Std. Error t value Pr(>|t|)    \n",
              "(Intercept)        -0.071      0.048  -1.474    0.142    \n",
              "lag.msgjrgarch.1    0.515      0.057   9.004   <2e-16 ***\n",
              "lag.epu             0.000      0.000  -0.577    0.565    \n",
              "lag.vix             0.011      0.003   4.295   <2e-16 ***\n",
              "---\n",
              "Signif. codes:  0 ‘***’ 0.001 ‘**’ 0.01 ‘*’ 0.05 ‘.’ 0.1 ‘ ’ 1\n"
            ]
          },
          "metadata": {
            "tags": []
          }
        },
        {
          "output_type": "display_data",
          "data": {
            "text/plain": [
              "[1] 0.526"
            ],
            "text/latex": "0.526",
            "text/markdown": "0.526",
            "text/html": [
              "0.526"
            ]
          },
          "metadata": {
            "tags": []
          }
        }
      ]
    },
    {
      "cell_type": "code",
      "metadata": {
        "colab": {
          "base_uri": "https://localhost:8080/",
          "height": 221
        },
        "id": "Ps34kcv3ULt3",
        "outputId": "6d78b21c-3a77-4ea2-ba04-63f700527915"
      },
      "source": [
        "# Estimation 5 - MS GJR-GARCH (Best BIC:  lag= 1)\n",
        "model.msgjrgarch.5 <- lm(msgjrgarch ~  lag.msgjrgarch.1 + lag.epu + lag.gepu + lag.vix, \n",
        "                        data = ols.msgjrgarch)\n",
        "\n",
        "round(coeftest(model.msgjrgarch.5, NeweyWest(model.msgjrgarch.5, \n",
        "                                            lag = bwNeweyWest(model.msgjrgarch.5), \n",
        "                                            prewhite = F)), 3)\n",
        "\n",
        "round(summary(model.msgjrgarch.5)$adj.r.squared, 3)"
      ],
      "id": "Ps34kcv3ULt3",
      "execution_count": 346,
      "outputs": [
        {
          "output_type": "display_data",
          "data": {
            "text/plain": [
              "\n",
              "t test of coefficients:\n",
              "\n",
              "                 Estimate Std. Error t value Pr(>|t|)    \n",
              "(Intercept)        -0.080      0.051  -1.570    0.118    \n",
              "lag.msgjrgarch.1    0.449      0.055   8.231   <2e-16 ***\n",
              "lag.epu             0.001      0.001   1.817    0.070 .  \n",
              "lag.gepu           -0.001      0.000  -3.956   <2e-16 ***\n",
              "lag.vix             0.012      0.003   4.440   <2e-16 ***\n",
              "---\n",
              "Signif. codes:  0 ‘***’ 0.001 ‘**’ 0.01 ‘*’ 0.05 ‘.’ 0.1 ‘ ’ 1\n"
            ]
          },
          "metadata": {
            "tags": []
          }
        },
        {
          "output_type": "display_data",
          "data": {
            "text/plain": [
              "[1] 0.547"
            ],
            "text/latex": "0.547",
            "text/markdown": "0.547",
            "text/html": [
              "0.547"
            ]
          },
          "metadata": {
            "tags": []
          }
        }
      ]
    }
  ]
}