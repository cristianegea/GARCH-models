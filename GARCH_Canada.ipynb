{
  "nbformat": 4,
  "nbformat_minor": 5,
  "metadata": {
    "kernelspec": {
      "display_name": "R",
      "language": "R",
      "name": "ir"
    },
    "language_info": {
      "codemirror_mode": "r",
      "file_extension": ".r",
      "mimetype": "text/x-r-source",
      "name": "R",
      "pygments_lexer": "r",
      "version": "3.6.1"
    },
    "colab": {
      "name": "GARCH_Canada.ipynb",
      "provenance": [],
      "collapsed_sections": []
    }
  },
  "cells": [
    {
      "cell_type": "markdown",
      "metadata": {
        "id": "10c9fc70"
      },
      "source": [
        "# Analysis of stock returns forecasts"
      ],
      "id": "10c9fc70"
    },
    {
      "cell_type": "markdown",
      "metadata": {
        "id": "0a03ea35"
      },
      "source": [
        "**Reference**: Realized GARCH models: Simpler is better (Xie & Yu, 2019)\n",
        "\n",
        "Sample: Canada (^GSPTSE)"
      ],
      "id": "0a03ea35"
    },
    {
      "cell_type": "code",
      "metadata": {
        "id": "66c60229"
      },
      "source": [
        "# Memory clearing\n",
        "rm(list=ls())"
      ],
      "id": "66c60229",
      "execution_count": 1,
      "outputs": []
    },
    {
      "cell_type": "markdown",
      "metadata": {
        "id": "5e52a103"
      },
      "source": [
        "## 1. Data import"
      ],
      "id": "5e52a103"
    },
    {
      "cell_type": "code",
      "metadata": {
        "colab": {
          "base_uri": "https://localhost:8080/"
        },
        "id": "a015db89",
        "outputId": "1d7358f0-fd8e-4584-c951-263ee74f91f4"
      },
      "source": [
        "# Packages\n",
        "install.packages('quantmod')\n",
        "install.packages('tidyquant')\n",
        "install.packages('PerformanceAnalytics')\n",
        "\n",
        "library(quantmod)\n",
        "library(tidyquant)\n",
        "library(PerformanceAnalytics)"
      ],
      "id": "a015db89",
      "execution_count": 2,
      "outputs": [
        {
          "output_type": "stream",
          "text": [
            "Installing package into ‘/usr/local/lib/R/site-library’\n",
            "(as ‘lib’ is unspecified)\n",
            "\n",
            "also installing the dependencies ‘xts’, ‘zoo’, ‘TTR’\n",
            "\n",
            "\n",
            "Installing package into ‘/usr/local/lib/R/site-library’\n",
            "(as ‘lib’ is unspecified)\n",
            "\n",
            "also installing the dependencies ‘numDeriv’, ‘SQUAREM’, ‘lava’, ‘listenv’, ‘parallelly’, ‘prodlim’, ‘future’, ‘globals’, ‘later’, ‘gower’, ‘ipred’, ‘furrr’, ‘htmlwidgets’, ‘crosstalk’, ‘promises’, ‘warp’, ‘fracdiff’, ‘lmtest’, ‘tseries’, ‘urca’, ‘RcppArmadillo’, ‘quadprog’, ‘recipes’, ‘rsample’, ‘plotly’, ‘padr’, ‘slider’, ‘anytime’, ‘forecast’, ‘snakecase’, ‘PerformanceAnalytics’, ‘lazyeval’, ‘Quandl’, ‘riingo’, ‘alphavantager’, ‘timetk’, ‘timeDate’, ‘janitor’\n",
            "\n",
            "\n",
            "Installing package into ‘/usr/local/lib/R/site-library’\n",
            "(as ‘lib’ is unspecified)\n",
            "\n",
            "Loading required package: xts\n",
            "\n",
            "Loading required package: zoo\n",
            "\n",
            "\n",
            "Attaching package: ‘zoo’\n",
            "\n",
            "\n",
            "The following objects are masked from ‘package:base’:\n",
            "\n",
            "    as.Date, as.Date.numeric\n",
            "\n",
            "\n",
            "Loading required package: TTR\n",
            "\n",
            "Registered S3 method overwritten by 'quantmod':\n",
            "  method            from\n",
            "  as.zoo.data.frame zoo \n",
            "\n",
            "Loading required package: lubridate\n",
            "\n",
            "Warning message in system(\"timedatectl\", intern = TRUE):\n",
            "“running command 'timedatectl' had status 1”\n",
            "\n",
            "Attaching package: ‘lubridate’\n",
            "\n",
            "\n",
            "The following objects are masked from ‘package:base’:\n",
            "\n",
            "    date, intersect, setdiff, union\n",
            "\n",
            "\n",
            "Loading required package: PerformanceAnalytics\n",
            "\n",
            "\n",
            "Attaching package: ‘PerformanceAnalytics’\n",
            "\n",
            "\n",
            "The following object is masked from ‘package:graphics’:\n",
            "\n",
            "    legend\n",
            "\n",
            "\n",
            "\u001b[30m══\u001b[39m \u001b[30mNeed to Learn tidyquant?\u001b[39m \u001b[30m════════════════════════════════════════════════════\u001b[39m\u001b[34m\n",
            "Business Science offers a 1-hour course - Learning Lab #9: Performance Analysis & Portfolio Optimization with tidyquant!\n",
            "\u001b[39m\u001b[34m</> Learn more at: https://university.business-science.io/p/learning-labs-pro </>\u001b[39m\n",
            "\n"
          ],
          "name": "stderr"
        }
      ]
    },
    {
      "cell_type": "markdown",
      "metadata": {
        "id": "77462b8b-5261-4090-9001-2c344b610bd8"
      },
      "source": [
        "**Reading the datas (Source: Yahoo Finance)**"
      ],
      "id": "77462b8b-5261-4090-9001-2c344b610bd8"
    },
    {
      "cell_type": "code",
      "metadata": {
        "colab": {
          "base_uri": "https://localhost:8080/",
          "height": 258
        },
        "id": "90849e76",
        "outputId": "788bf2af-6d2c-401b-8b79-e9f5bc61cdab"
      },
      "source": [
        "getSymbols(\"^GSPTSE\", from = '2000-01-01', to = '2021-05-31') "
      ],
      "id": "90849e76",
      "execution_count": 3,
      "outputs": [
        {
          "output_type": "stream",
          "text": [
            "‘getSymbols’ currently uses auto.assign=TRUE by default, but will\n",
            "use auto.assign=FALSE in 0.5-0. You will still be able to use\n",
            "‘loadSymbols’ to automatically load data. getOption(\"getSymbols.env\")\n",
            "and getOption(\"getSymbols.auto.assign\") will still be checked for\n",
            "alternate defaults.\n",
            "\n",
            "This message is shown once per session and may be disabled by setting \n",
            "options(\"getSymbols.warning4.0\"=FALSE). See ?getSymbols for details.\n",
            "\n",
            "\n",
            "Warning message:\n",
            "“^GSPTSE contains missing values. Some functions will not work if objects contain missing values in the middle of the series. Consider using na.omit(), na.approx(), na.fill(), etc to remove or replace them.”\n"
          ],
          "name": "stderr"
        },
        {
          "output_type": "display_data",
          "data": {
            "text/plain": [
              "[1] \"^GSPTSE\""
            ],
            "text/latex": "'\\textasciicircum{}GSPTSE'",
            "text/markdown": "'^GSPTSE'",
            "text/html": [
              "'^GSPTSE'"
            ]
          },
          "metadata": {
            "tags": []
          }
        }
      ]
    },
    {
      "cell_type": "markdown",
      "metadata": {
        "id": "37fcac8f-663c-4ab6-a2ec-d3dfb628e1d8"
      },
      "source": [
        "**Checking data frequency**"
      ],
      "id": "37fcac8f-663c-4ab6-a2ec-d3dfb628e1d8"
    },
    {
      "cell_type": "code",
      "metadata": {
        "colab": {
          "base_uri": "https://localhost:8080/",
          "height": 34
        },
        "id": "cf681b78-5138-4ee8-aee3-2e93db60bece",
        "outputId": "ec0186f5-00a6-4449-8b0f-262a4d5319a5"
      },
      "source": [
        "periodicity(GSPTSE)        "
      ],
      "id": "cf681b78-5138-4ee8-aee3-2e93db60bece",
      "execution_count": 4,
      "outputs": [
        {
          "output_type": "display_data",
          "data": {
            "text/plain": [
              "Daily periodicity from 2000-01-04 to 2021-05-28 "
            ]
          },
          "metadata": {
            "tags": []
          }
        }
      ]
    },
    {
      "cell_type": "markdown",
      "metadata": {
        "id": "7d452205-8ea1-461b-a15f-682cc4b96318"
      },
      "source": [
        "**Identifying missing values (%)**"
      ],
      "id": "7d452205-8ea1-461b-a15f-682cc4b96318"
    },
    {
      "cell_type": "code",
      "metadata": {
        "colab": {
          "base_uri": "https://localhost:8080/",
          "height": 68
        },
        "id": "7d329e61-d1a6-4c17-82ad-0a4ea31d0232",
        "outputId": "93319aa1-2f6f-47fb-c60d-0cf2fc9500d4"
      },
      "source": [
        "round(prop.table(table(is.na(GSPTSE)))*100, digits = 2)       "
      ],
      "id": "7d329e61-d1a6-4c17-82ad-0a4ea31d0232",
      "execution_count": 5,
      "outputs": [
        {
          "output_type": "display_data",
          "data": {
            "text/plain": [
              "\n",
              "FALSE  TRUE \n",
              "99.17  0.83 "
            ]
          },
          "metadata": {
            "tags": []
          }
        }
      ]
    },
    {
      "cell_type": "markdown",
      "metadata": {
        "id": "b3787f51-b9fb-458d-b650-5c19b0c22c44"
      },
      "source": [
        "**Removing missing values**"
      ],
      "id": "b3787f51-b9fb-458d-b650-5c19b0c22c44"
    },
    {
      "cell_type": "code",
      "metadata": {
        "id": "4c168321-5b36-4058-b5fc-c9170fc50afd",
        "colab": {
          "base_uri": "https://localhost:8080/",
          "height": 68
        },
        "outputId": "db346606-508b-47b7-a42d-b8ef972a391e"
      },
      "source": [
        "GSPTSE <- na.omit(GSPTSE)    \n",
        "round(prop.table(table(is.na(GSPTSE)))*100, digits = 2)         "
      ],
      "id": "4c168321-5b36-4058-b5fc-c9170fc50afd",
      "execution_count": 6,
      "outputs": [
        {
          "output_type": "display_data",
          "data": {
            "text/plain": [
              "\n",
              "FALSE \n",
              "  100 "
            ]
          },
          "metadata": {
            "tags": []
          }
        }
      ]
    },
    {
      "cell_type": "markdown",
      "metadata": {
        "id": "ef01dac6-72b2-4ec0-b160-1fbdf579a04e"
      },
      "source": [
        "**Removing unnecessary features**"
      ],
      "id": "ef01dac6-72b2-4ec0-b160-1fbdf579a04e"
    },
    {
      "cell_type": "code",
      "metadata": {
        "colab": {
          "base_uri": "https://localhost:8080/",
          "height": 136
        },
        "id": "ea0759f7-0353-404b-b206-98bc5c35d66a",
        "outputId": "f1b8bfe0-bfb5-4412-f7bf-3672674c9772"
      },
      "source": [
        "GSPTSE.df <- GSPTSE[,'GSPTSE.Close']                              \n",
        "head(GSPTSE.df)"
      ],
      "id": "ea0759f7-0353-404b-b206-98bc5c35d66a",
      "execution_count": 7,
      "outputs": [
        {
          "output_type": "display_data",
          "data": {
            "text/plain": [
              "           GSPTSE.Close\n",
              "2000-01-04       8202.6\n",
              "2000-01-05       8119.4\n",
              "2000-01-06       8114.2\n",
              "2000-01-07       8429.4\n",
              "2000-01-10       8602.5\n",
              "2000-01-11       8442.6"
            ]
          },
          "metadata": {
            "tags": []
          }
        }
      ]
    },
    {
      "cell_type": "markdown",
      "metadata": {
        "id": "00ce5730-0246-4093-8c80-b0aa48bade58"
      },
      "source": [
        "**Calculating log-returns**"
      ],
      "id": "00ce5730-0246-4093-8c80-b0aa48bade58"
    },
    {
      "cell_type": "code",
      "metadata": {
        "colab": {
          "base_uri": "https://localhost:8080/",
          "height": 136
        },
        "id": "a39fe789-889c-4974-9e5e-141050303ac9",
        "outputId": "8fd786d6-78d5-49af-9544-218f2ff74975"
      },
      "source": [
        "logreturn <- diff(log(GSPTSE.df$GSPTSE.Close))*100                     \n",
        "head(logreturn)"
      ],
      "id": "a39fe789-889c-4974-9e5e-141050303ac9",
      "execution_count": 8,
      "outputs": [
        {
          "output_type": "display_data",
          "data": {
            "text/plain": [
              "           GSPTSE.Close\n",
              "2000-01-04           NA\n",
              "2000-01-05  -1.01948818\n",
              "2000-01-06  -0.06406105\n",
              "2000-01-07   3.81100042\n",
              "2000-01-10   2.03272172\n",
              "2000-01-11  -1.87625870"
            ]
          },
          "metadata": {
            "tags": []
          }
        }
      ]
    },
    {
      "cell_type": "markdown",
      "metadata": {
        "id": "83e12642-5c42-4a95-963f-809884d6bf7f"
      },
      "source": [
        "**Aggregating the data**"
      ],
      "id": "83e12642-5c42-4a95-963f-809884d6bf7f"
    },
    {
      "cell_type": "code",
      "metadata": {
        "colab": {
          "base_uri": "https://localhost:8080/",
          "height": 136
        },
        "id": "25c57967-90a6-4684-9b14-9a5c0867c38b",
        "outputId": "72f95e90-f1aa-45c0-dd94-5719fbcf6a48"
      },
      "source": [
        "GSPTSE.df$GSPTSE.Return <- logreturn                  \n",
        "GSPTSE.df <- na.omit(GSPTSE.df)\n",
        "head(GSPTSE.df)"
      ],
      "id": "25c57967-90a6-4684-9b14-9a5c0867c38b",
      "execution_count": 9,
      "outputs": [
        {
          "output_type": "display_data",
          "data": {
            "text/plain": [
              "           GSPTSE.Close GSPTSE.Return\n",
              "2000-01-05       8119.4   -1.01948818\n",
              "2000-01-06       8114.2   -0.06406105\n",
              "2000-01-07       8429.4    3.81100042\n",
              "2000-01-10       8602.5    2.03272172\n",
              "2000-01-11       8442.6   -1.87625870\n",
              "2000-01-12       8360.0   -0.98318446"
            ]
          },
          "metadata": {
            "tags": []
          }
        }
      ]
    },
    {
      "cell_type": "markdown",
      "metadata": {
        "id": "d5366ab1-99ff-4fc7-ba7c-e62d184424bd"
      },
      "source": [
        "**Identifying missing values (%)**"
      ],
      "id": "d5366ab1-99ff-4fc7-ba7c-e62d184424bd"
    },
    {
      "cell_type": "code",
      "metadata": {
        "colab": {
          "base_uri": "https://localhost:8080/",
          "height": 68
        },
        "id": "66ab6572-9a4d-4703-adb4-0405d06b5783",
        "outputId": "1657c74f-a599-4cd3-e9de-2f85b5ca1cda"
      },
      "source": [
        "round(prop.table(table(is.na(GSPTSE.df)))*100, digits = 2)       "
      ],
      "id": "66ab6572-9a4d-4703-adb4-0405d06b5783",
      "execution_count": 10,
      "outputs": [
        {
          "output_type": "display_data",
          "data": {
            "text/plain": [
              "\n",
              "FALSE \n",
              "  100 "
            ]
          },
          "metadata": {
            "tags": []
          }
        }
      ]
    },
    {
      "cell_type": "markdown",
      "metadata": {
        "id": "8a8dac53-aaa9-48b4-b345-44958dd87d9a"
      },
      "source": [
        "## 2. Graph analysis"
      ],
      "id": "8a8dac53-aaa9-48b4-b345-44958dd87d9a"
    },
    {
      "cell_type": "code",
      "metadata": {
        "id": "aadcb8e0-582a-435f-864c-a43651d7e6a6",
        "colab": {
          "base_uri": "https://localhost:8080/"
        },
        "outputId": "d8e51a91-9207-406e-8a9a-f594568e4b8d"
      },
      "source": [
        "# Package\n",
        "install.packages('xts')\n",
        "install.packages('ggplot2')\n",
        "install.packages('gridExtra')\n",
        "\n",
        "library(xts)\n",
        "library(ggplot2)\n",
        "library(gridExtra)"
      ],
      "id": "aadcb8e0-582a-435f-864c-a43651d7e6a6",
      "execution_count": 11,
      "outputs": [
        {
          "output_type": "stream",
          "text": [
            "Installing package into ‘/usr/local/lib/R/site-library’\n",
            "(as ‘lib’ is unspecified)\n",
            "\n",
            "Installing package into ‘/usr/local/lib/R/site-library’\n",
            "(as ‘lib’ is unspecified)\n",
            "\n",
            "Installing package into ‘/usr/local/lib/R/site-library’\n",
            "(as ‘lib’ is unspecified)\n",
            "\n"
          ],
          "name": "stderr"
        }
      ]
    },
    {
      "cell_type": "markdown",
      "metadata": {
        "id": "0dc149bd-ea9f-4227-9807-c33fa1636347"
      },
      "source": [
        "**Price & Return charts**"
      ],
      "id": "0dc149bd-ea9f-4227-9807-c33fa1636347"
    },
    {
      "cell_type": "code",
      "metadata": {
        "colab": {
          "base_uri": "https://localhost:8080/",
          "height": 505
        },
        "id": "4a7ba28a-a574-47a6-8368-2111f43c7bd3",
        "outputId": "f55a9270-5904-4c3a-b0d2-44fc88fbf692"
      },
      "source": [
        "# Price chart\n",
        "graph1 <- ggplot(GSPTSE.df,\n",
        "                aes(x = index(GSPTSE.df), y = GSPTSE.df[,'GSPTSE.Close'])) +\n",
        "                geom_line(color = \"black\") +\n",
        "                ggtitle(\"Canada\") +\n",
        "                xlab(\"Date\") +\n",
        "                ylab(\"Closing prices ($)\") +\n",
        "                theme(plot.title = element_text(hjust = 0.5))\n",
        "\n",
        "# Return chart\n",
        "graph2 <- ggplot(GSPTSE.df,\n",
        "                aes(x = index(GSPTSE.df), y = GSPTSE.df[,'GSPTSE.Return'])) +\n",
        "                geom_line(color = \"black\") +\n",
        "                ggtitle(\"Canada\") +\n",
        "                xlab(\"Date\") +\n",
        "                ylab(\"Return\") +\n",
        "                theme(plot.title = element_text(hjust = 0.5))\n",
        "\n",
        "grid.arrange(graph1, graph2, ncol = 1, nrow = 2)"
      ],
      "id": "4a7ba28a-a574-47a6-8368-2111f43c7bd3",
      "execution_count": 12,
      "outputs": [
        {
          "output_type": "stream",
          "text": [
            "Don't know how to automatically pick scale for object of type xts/zoo. Defaulting to continuous.\n",
            "\n",
            "Don't know how to automatically pick scale for object of type xts/zoo. Defaulting to continuous.\n",
            "\n"
          ],
          "name": "stderr"
        },
        {
          "output_type": "display_data",
          "data": {
            "image/png": "[encoded data removed]",
            "text/plain": [
              "plot without title"
            ]
          },
          "metadata": {
            "tags": [],
            "image/png": {
              "width": 420,
              "height": 420
            }
          }
        }
      ]
    },
    {
      "cell_type": "markdown",
      "metadata": {
        "id": "2fb985b6-91a7-43fe-ba22-5663a6d63477"
      },
      "source": [
        "## 3. Descriptive statistic"
      ],
      "id": "2fb985b6-91a7-43fe-ba22-5663a6d63477"
    },
    {
      "cell_type": "code",
      "metadata": {
        "colab": {
          "base_uri": "https://localhost:8080/"
        },
        "id": "5cba5803-a987-4c14-aa9b-d9337afb3512",
        "outputId": "681232f2-4744-4c92-ba8e-1f00b6e36eff"
      },
      "source": [
        "# Packages\n",
        "install.packages('moments')\n",
        "\n",
        "library(moments)"
      ],
      "id": "5cba5803-a987-4c14-aa9b-d9337afb3512",
      "execution_count": 13,
      "outputs": [
        {
          "output_type": "stream",
          "text": [
            "Installing package into ‘/usr/local/lib/R/site-library’\n",
            "(as ‘lib’ is unspecified)\n",
            "\n",
            "\n",
            "Attaching package: ‘moments’\n",
            "\n",
            "\n",
            "The following objects are masked from ‘package:PerformanceAnalytics’:\n",
            "\n",
            "    kurtosis, skewness\n",
            "\n",
            "\n"
          ],
          "name": "stderr"
        }
      ]
    },
    {
      "cell_type": "markdown",
      "metadata": {
        "id": "69bbfe9a-7c71-415d-89a4-7a7f70b88e9d"
      },
      "source": [
        "**Descriptive statistic**"
      ],
      "id": "69bbfe9a-7c71-415d-89a4-7a7f70b88e9d"
    },
    {
      "cell_type": "code",
      "metadata": {
        "colab": {
          "base_uri": "https://localhost:8080/",
          "height": 34
        },
        "id": "b282c2d9-b582-4a89-8f56-b23b6ade6202",
        "outputId": "2be98104-5613-4943-e849-849e34a20ae8"
      },
      "source": [
        "# mean\n",
        "round(mean(GSPTSE.df$GSPTSE.Return), 3)                         "
      ],
      "id": "b282c2d9-b582-4a89-8f56-b23b6ade6202",
      "execution_count": 14,
      "outputs": [
        {
          "output_type": "display_data",
          "data": {
            "text/plain": [
              "[1] 0.016"
            ],
            "text/latex": "0.016",
            "text/markdown": "0.016",
            "text/html": [
              "0.016"
            ]
          },
          "metadata": {
            "tags": []
          }
        }
      ]
    },
    {
      "cell_type": "code",
      "metadata": {
        "colab": {
          "base_uri": "https://localhost:8080/",
          "height": 34
        },
        "id": "a0fefd4e-8b2e-4bf2-aa7f-1dfc0d2d1892",
        "outputId": "b9072647-4bec-49a0-ee87-951c5ddd7b39"
      },
      "source": [
        "# sd\n",
        "round(sd(GSPTSE.df$GSPTSE.Return), 3)                           "
      ],
      "id": "a0fefd4e-8b2e-4bf2-aa7f-1dfc0d2d1892",
      "execution_count": 15,
      "outputs": [
        {
          "output_type": "display_data",
          "data": {
            "text/plain": [
              "[1] 1.13"
            ],
            "text/latex": "1.13",
            "text/markdown": "1.13",
            "text/html": [
              "1.13"
            ]
          },
          "metadata": {
            "tags": []
          }
        }
      ]
    },
    {
      "cell_type": "code",
      "metadata": {
        "colab": {
          "base_uri": "https://localhost:8080/",
          "height": 34
        },
        "id": "e5f57896-f56d-416f-9cbf-4217d00ffb72",
        "outputId": "659c7713-e5b2-4bdb-eeb6-b029a8aaaedc"
      },
      "source": [
        "# skewness\n",
        "round(skewness(GSPTSE.df$GSPTSE.Return), 3)                     "
      ],
      "id": "e5f57896-f56d-416f-9cbf-4217d00ffb72",
      "execution_count": 16,
      "outputs": [
        {
          "output_type": "display_data",
          "data": {
            "text/plain": [
              "GSPTSE.Return \n",
              "       -0.945 "
            ],
            "text/latex": "\\textbf{GSPTSE.Return:} -0.945",
            "text/markdown": "**GSPTSE.Return:** -0.945",
            "text/html": [
              "<strong>GSPTSE.Return:</strong> -0.945"
            ]
          },
          "metadata": {
            "tags": []
          }
        }
      ]
    },
    {
      "cell_type": "code",
      "metadata": {
        "colab": {
          "base_uri": "https://localhost:8080/",
          "height": 34
        },
        "id": "04580b0d-e33e-4a03-8c3c-72c205253ed2",
        "outputId": "4f99fc3a-77c7-450d-8472-ccd3e60b095f"
      },
      "source": [
        "# kurtosis\n",
        "round(kurtosis(GSPTSE.df$GSPTSE.Return), 3)                     "
      ],
      "id": "04580b0d-e33e-4a03-8c3c-72c205253ed2",
      "execution_count": 17,
      "outputs": [
        {
          "output_type": "display_data",
          "data": {
            "text/plain": [
              "GSPTSE.Return \n",
              "       19.877 "
            ],
            "text/latex": "\\textbf{GSPTSE.Return:} 19.877",
            "text/markdown": "**GSPTSE.Return:** 19.877",
            "text/html": [
              "<strong>GSPTSE.Return:</strong> 19.877"
            ]
          },
          "metadata": {
            "tags": []
          }
        }
      ]
    },
    {
      "cell_type": "code",
      "metadata": {
        "colab": {
          "base_uri": "https://localhost:8080/",
          "height": 34
        },
        "id": "515839a1-874b-4639-b9a2-1f0f24f844cd",
        "outputId": "307507b6-4d42-4658-8893-caa55d287102"
      },
      "source": [
        "# min\n",
        "round(min(GSPTSE.df$GSPTSE.Return), 3)                          "
      ],
      "id": "515839a1-874b-4639-b9a2-1f0f24f844cd",
      "execution_count": 18,
      "outputs": [
        {
          "output_type": "display_data",
          "data": {
            "text/plain": [
              "[1] -13.176"
            ],
            "text/latex": "-13.176",
            "text/markdown": "-13.176",
            "text/html": [
              "-13.176"
            ]
          },
          "metadata": {
            "tags": []
          }
        }
      ]
    },
    {
      "cell_type": "code",
      "metadata": {
        "colab": {
          "base_uri": "https://localhost:8080/",
          "height": 34
        },
        "id": "3b88ac9d-baad-40df-913b-511417327e3a",
        "outputId": "8db0b1c0-ebca-41e7-9116-852b100d8c3d"
      },
      "source": [
        "# p5\n",
        "round(quantile(GSPTSE.df$GSPTSE.Return, probs = 0.05), 3)       "
      ],
      "id": "3b88ac9d-baad-40df-913b-511417327e3a",
      "execution_count": 19,
      "outputs": [
        {
          "output_type": "display_data",
          "data": {
            "text/plain": [
              "    5% \n",
              "-1.684 "
            ],
            "text/latex": "\\textbf{5\\textbackslash{}\\%:} -1.684",
            "text/markdown": "**5%:** -1.684",
            "text/html": [
              "<strong>5%:</strong> -1.684"
            ]
          },
          "metadata": {
            "tags": []
          }
        }
      ]
    },
    {
      "cell_type": "code",
      "metadata": {
        "colab": {
          "base_uri": "https://localhost:8080/",
          "height": 34
        },
        "id": "47455c1f-33d8-4811-955a-03286ad779bc",
        "outputId": "0c47a733-5861-47f4-9407-e0c48d2b6e97"
      },
      "source": [
        "# p25\n",
        "round(quantile(GSPTSE.df$GSPTSE.Return, probs = 0.25), 3)       "
      ],
      "id": "47455c1f-33d8-4811-955a-03286ad779bc",
      "execution_count": 20,
      "outputs": [
        {
          "output_type": "display_data",
          "data": {
            "text/plain": [
              "   25% \n",
              "-0.437 "
            ],
            "text/latex": "\\textbf{25\\textbackslash{}\\%:} -0.437",
            "text/markdown": "**25%:** -0.437",
            "text/html": [
              "<strong>25%:</strong> -0.437"
            ]
          },
          "metadata": {
            "tags": []
          }
        }
      ]
    },
    {
      "cell_type": "code",
      "metadata": {
        "colab": {
          "base_uri": "https://localhost:8080/",
          "height": 34
        },
        "id": "a6516b44-9009-4d73-9216-cd6d7ce1aa75",
        "outputId": "751a1258-03a4-4a6a-a33c-545bbb2269b5"
      },
      "source": [
        "# median\n",
        "round(median(GSPTSE.df$GSPTSE.Return), 3)                       "
      ],
      "id": "a6516b44-9009-4d73-9216-cd6d7ce1aa75",
      "execution_count": 21,
      "outputs": [
        {
          "output_type": "display_data",
          "data": {
            "text/plain": [
              "[1] 0.071"
            ],
            "text/latex": "0.071",
            "text/markdown": "0.071",
            "text/html": [
              "0.071"
            ]
          },
          "metadata": {
            "tags": []
          }
        }
      ]
    },
    {
      "cell_type": "code",
      "metadata": {
        "colab": {
          "base_uri": "https://localhost:8080/",
          "height": 34
        },
        "id": "a86278a2-66fa-4421-8432-6a68176eebc8",
        "outputId": "638b1e0b-e00b-4375-af2a-a00dd4351305"
      },
      "source": [
        "# p75\n",
        "round(quantile(GSPTSE.df$GSPTSE.Return, probs = 0.75), 3)       "
      ],
      "id": "a86278a2-66fa-4421-8432-6a68176eebc8",
      "execution_count": 22,
      "outputs": [
        {
          "output_type": "display_data",
          "data": {
            "text/plain": [
              "  75% \n",
              "0.548 "
            ],
            "text/latex": "\\textbf{75\\textbackslash{}\\%:} 0.548",
            "text/markdown": "**75%:** 0.548",
            "text/html": [
              "<strong>75%:</strong> 0.548"
            ]
          },
          "metadata": {
            "tags": []
          }
        }
      ]
    },
    {
      "cell_type": "code",
      "metadata": {
        "colab": {
          "base_uri": "https://localhost:8080/",
          "height": 34
        },
        "id": "be64d68b-c5cc-42d9-b55d-bbfca6846cf8",
        "outputId": "b3c50435-8804-4344-e94b-0c20336a7548"
      },
      "source": [
        "# p95\n",
        "round(quantile(GSPTSE.df$GSPTSE.Return, probs = 0.95), 3)       "
      ],
      "id": "be64d68b-c5cc-42d9-b55d-bbfca6846cf8",
      "execution_count": 23,
      "outputs": [
        {
          "output_type": "display_data",
          "data": {
            "text/plain": [
              "  95% \n",
              "1.484 "
            ],
            "text/latex": "\\textbf{95\\textbackslash{}\\%:} 1.484",
            "text/markdown": "**95%:** 1.484",
            "text/html": [
              "<strong>95%:</strong> 1.484"
            ]
          },
          "metadata": {
            "tags": []
          }
        }
      ]
    },
    {
      "cell_type": "code",
      "metadata": {
        "colab": {
          "base_uri": "https://localhost:8080/",
          "height": 34
        },
        "id": "ecf88ca5-5576-4cfb-a9f2-225db45f12af",
        "outputId": "647a5d33-fcab-4a7a-b49e-eed2feb1c963"
      },
      "source": [
        "# max\n",
        "round(max(GSPTSE.df$GSPTSE.Return), 3)                          "
      ],
      "id": "ecf88ca5-5576-4cfb-a9f2-225db45f12af",
      "execution_count": 24,
      "outputs": [
        {
          "output_type": "display_data",
          "data": {
            "text/plain": [
              "[1] 11.295"
            ],
            "text/latex": "11.295",
            "text/markdown": "11.295",
            "text/html": [
              "11.295"
            ]
          },
          "metadata": {
            "tags": []
          }
        }
      ]
    },
    {
      "cell_type": "code",
      "metadata": {
        "colab": {
          "base_uri": "https://localhost:8080/",
          "height": 34
        },
        "id": "1679dd88-86bc-4041-ad68-7c1899c799a4",
        "outputId": "c8bf1a10-ae44-4378-ed7d-35f87ca476e3"
      },
      "source": [
        "# n observations\n",
        "length(GSPTSE.df$GSPTSE.Return)                                 "
      ],
      "id": "1679dd88-86bc-4041-ad68-7c1899c799a4",
      "execution_count": 25,
      "outputs": [
        {
          "output_type": "display_data",
          "data": {
            "text/plain": [
              "[1] 5377"
            ],
            "text/latex": "5377",
            "text/markdown": "5377",
            "text/html": [
              "5377"
            ]
          },
          "metadata": {
            "tags": []
          }
        }
      ]
    },
    {
      "cell_type": "markdown",
      "metadata": {
        "id": "7d7f50bf-3414-409f-abaf-59204b4eaed3"
      },
      "source": [
        "## 4. Series normality analysis"
      ],
      "id": "7d7f50bf-3414-409f-abaf-59204b4eaed3"
    },
    {
      "cell_type": "code",
      "metadata": {
        "id": "2a3ad960-3a87-48a4-bff0-b20498343432"
      },
      "source": [
        "# Package\n",
        "library(tseries)"
      ],
      "id": "2a3ad960-3a87-48a4-bff0-b20498343432",
      "execution_count": 26,
      "outputs": []
    },
    {
      "cell_type": "code",
      "metadata": {
        "colab": {
          "base_uri": "https://localhost:8080/",
          "height": 102
        },
        "id": "49b52423-cbd3-41df-9c5e-6074e2c1a911",
        "outputId": "d41f7ca3-b77c-4a41-af45-a062e04bd9a5"
      },
      "source": [
        "jarque.bera.test(GSPTSE.df$GSPTSE.Return)"
      ],
      "id": "49b52423-cbd3-41df-9c5e-6074e2c1a911",
      "execution_count": 27,
      "outputs": [
        {
          "output_type": "display_data",
          "data": {
            "text/plain": [
              "\n",
              "\tJarque Bera Test\n",
              "\n",
              "data:  GSPTSE.df$GSPTSE.Return\n",
              "X-squared = 64616, df = 2, p-value < 2.2e-16\n"
            ]
          },
          "metadata": {
            "tags": []
          }
        }
      ]
    },
    {
      "cell_type": "markdown",
      "metadata": {
        "id": "5b8f4698-26c6-4675-886e-b5e9a72061ac"
      },
      "source": [
        "## 5. Autocorrelation pattern analysis"
      ],
      "id": "5b8f4698-26c6-4675-886e-b5e9a72061ac"
    },
    {
      "cell_type": "code",
      "metadata": {
        "id": "0b5c4562-547f-4763-8ea8-396761d8ddc3",
        "colab": {
          "base_uri": "https://localhost:8080/"
        },
        "outputId": "8402833c-fa79-49f9-96b7-564b80998271"
      },
      "source": [
        "# Packages\n",
        "install.packages('TSA')\n",
        "install.packages('aTSA')\n",
        "install.packages('FinTS')\n",
        "\n",
        "library(TSA)\n",
        "library(aTSA)\n",
        "library(FinTS)"
      ],
      "id": "0b5c4562-547f-4763-8ea8-396761d8ddc3",
      "execution_count": 28,
      "outputs": [
        {
          "output_type": "stream",
          "text": [
            "Installing package into ‘/usr/local/lib/R/site-library’\n",
            "(as ‘lib’ is unspecified)\n",
            "\n",
            "also installing the dependencies ‘leaps’, ‘locfit’\n",
            "\n",
            "\n",
            "Installing package into ‘/usr/local/lib/R/site-library’\n",
            "(as ‘lib’ is unspecified)\n",
            "\n",
            "Installing package into ‘/usr/local/lib/R/site-library’\n",
            "(as ‘lib’ is unspecified)\n",
            "\n",
            "\n",
            "Attaching package: ‘TSA’\n",
            "\n",
            "\n",
            "The following objects are masked from ‘package:moments’:\n",
            "\n",
            "    kurtosis, skewness\n",
            "\n",
            "\n",
            "The following objects are masked from ‘package:PerformanceAnalytics’:\n",
            "\n",
            "    kurtosis, skewness\n",
            "\n",
            "\n",
            "The following objects are masked from ‘package:stats’:\n",
            "\n",
            "    acf, arima\n",
            "\n",
            "\n",
            "The following object is masked from ‘package:utils’:\n",
            "\n",
            "    tar\n",
            "\n",
            "\n",
            "\n",
            "Attaching package: ‘aTSA’\n",
            "\n",
            "\n",
            "The following objects are masked from ‘package:tseries’:\n",
            "\n",
            "    adf.test, kpss.test, pp.test\n",
            "\n",
            "\n",
            "The following object is masked from ‘package:graphics’:\n",
            "\n",
            "    identify\n",
            "\n",
            "\n"
          ],
          "name": "stderr"
        }
      ]
    },
    {
      "cell_type": "markdown",
      "metadata": {
        "id": "efbcdd1a-f5c6-4e6a-bf31-3d547512b3f4"
      },
      "source": [
        "**McLeod-Li test for conditional heteroskedasticity (ARCH effect)**"
      ],
      "id": "efbcdd1a-f5c6-4e6a-bf31-3d547512b3f4"
    },
    {
      "cell_type": "code",
      "metadata": {
        "colab": {
          "base_uri": "https://localhost:8080/",
          "height": 437
        },
        "id": "NDGMFcWQ54yq",
        "outputId": "50754521-c0dd-4c82-e8f3-c01784d3e4a7"
      },
      "source": [
        "McLeod.Li.test(y = GSPTSE.df$GSPTSE.Return)\n",
        "# p-valor < 1% => ARCH effect"
      ],
      "id": "NDGMFcWQ54yq",
      "execution_count": 29,
      "outputs": [
        {
          "output_type": "display_data",
          "data": {
            "image/png": "[encoded data removed]",
            "text/plain": [
              "plot without title"
            ]
          },
          "metadata": {
            "tags": [],
            "image/png": {
              "width": 420,
              "height": 420
            }
          }
        }
      ]
    },
    {
      "cell_type": "markdown",
      "metadata": {
        "id": "d2e068a6-3254-475c-acbf-a75dda7ac434"
      },
      "source": [
        "**Lagrange Multiplier (LM) test for autoregressive conditional heteroscedasticity (ARCH)**"
      ],
      "id": "d2e068a6-3254-475c-acbf-a75dda7ac434"
    },
    {
      "cell_type": "code",
      "metadata": {
        "id": "eaaf6d58-c987-450e-b7d9-d547bb10f7f9",
        "colab": {
          "base_uri": "https://localhost:8080/",
          "height": 102
        },
        "outputId": "ea92d61f-949f-42d9-c8e4-17369aeb4251"
      },
      "source": [
        "ArchTest(GSPTSE.df$GSPTSE.Return, demean = FALSE)"
      ],
      "id": "eaaf6d58-c987-450e-b7d9-d547bb10f7f9",
      "execution_count": 30,
      "outputs": [
        {
          "output_type": "display_data",
          "data": {
            "text/plain": [
              "\n",
              "\tARCH LM-test; Null hypothesis: no ARCH effects\n",
              "\n",
              "data:  GSPTSE.df$GSPTSE.Return\n",
              "Chi-squared = 1514.9, df = 12, p-value < 2.2e-16\n"
            ]
          },
          "metadata": {
            "tags": []
          }
        }
      ]
    },
    {
      "cell_type": "markdown",
      "metadata": {
        "id": "8c5b334a-4c0e-4341-b80b-bd4a9ec89dc1"
      },
      "source": [
        "## 6. GARCH model estimation"
      ],
      "id": "8c5b334a-4c0e-4341-b80b-bd4a9ec89dc1"
    },
    {
      "cell_type": "code",
      "metadata": {
        "colab": {
          "base_uri": "https://localhost:8080/"
        },
        "id": "7abb7558-53ac-4e1b-bbfa-f1de46b2d889",
        "outputId": "1fc526e1-fdc5-4059-b321-896dc1e64f64"
      },
      "source": [
        "# Packages\n",
        "install.packages('tidyverse')\n",
        "install.packages('FinTS')\n",
        "install.packages('texreg')\n",
        "install.packages('rugarch')\n",
        "\n",
        "library(tidyverse)\n",
        "library(FinTS)\n",
        "library(texreg)\n",
        "library(rugarch)"
      ],
      "id": "7abb7558-53ac-4e1b-bbfa-f1de46b2d889",
      "execution_count": 31,
      "outputs": [
        {
          "output_type": "stream",
          "text": [
            "Installing package into ‘/usr/local/lib/R/site-library’\n",
            "(as ‘lib’ is unspecified)\n",
            "\n",
            "Installing package into ‘/usr/local/lib/R/site-library’\n",
            "(as ‘lib’ is unspecified)\n",
            "\n",
            "Installing package into ‘/usr/local/lib/R/site-library’\n",
            "(as ‘lib’ is unspecified)\n",
            "\n",
            "Installing package into ‘/usr/local/lib/R/site-library’\n",
            "(as ‘lib’ is unspecified)\n",
            "\n",
            "also installing the dependencies ‘misc3d’, ‘truncnorm’, ‘FNN’, ‘kernlab’, ‘mclust’, ‘multicool’, ‘mvtnorm’, ‘plot3D’, ‘pracma’, ‘DistributionUtils’, ‘GeneralizedHyperbolic’, ‘Rsolnp’, ‘nloptr’, ‘ks’, ‘spd’, ‘chron’, ‘SkewHyperbolic’\n",
            "\n",
            "\n",
            "── \u001b[1mAttaching packages\u001b[22m ─────────────────────────────────────── tidyverse 1.3.1 ──\n",
            "\n",
            "\u001b[32m✔\u001b[39m \u001b[34mtibble \u001b[39m 3.1.2     \u001b[32m✔\u001b[39m \u001b[34mdplyr  \u001b[39m 1.0.6\n",
            "\u001b[32m✔\u001b[39m \u001b[34mtidyr  \u001b[39m 1.1.3     \u001b[32m✔\u001b[39m \u001b[34mstringr\u001b[39m 1.4.0\n",
            "\u001b[32m✔\u001b[39m \u001b[34mreadr  \u001b[39m 1.4.0     \u001b[32m✔\u001b[39m \u001b[34mforcats\u001b[39m 0.5.1\n",
            "\u001b[32m✔\u001b[39m \u001b[34mpurrr  \u001b[39m 0.3.4     \n",
            "\n",
            "── \u001b[1mConflicts\u001b[22m ────────────────────────────────────────── tidyverse_conflicts() ──\n",
            "\u001b[31m✖\u001b[39m \u001b[34mlubridate\u001b[39m::\u001b[32mas.difftime()\u001b[39m masks \u001b[34mbase\u001b[39m::as.difftime()\n",
            "\u001b[31m✖\u001b[39m \u001b[34mdplyr\u001b[39m::\u001b[32mcombine()\u001b[39m         masks \u001b[34mgridExtra\u001b[39m::combine()\n",
            "\u001b[31m✖\u001b[39m \u001b[34mlubridate\u001b[39m::\u001b[32mdate()\u001b[39m        masks \u001b[34mbase\u001b[39m::date()\n",
            "\u001b[31m✖\u001b[39m \u001b[34mdplyr\u001b[39m::\u001b[32mfilter()\u001b[39m          masks \u001b[34mstats\u001b[39m::filter()\n",
            "\u001b[31m✖\u001b[39m \u001b[34mdplyr\u001b[39m::\u001b[32mfirst()\u001b[39m           masks \u001b[34mxts\u001b[39m::first()\n",
            "\u001b[31m✖\u001b[39m \u001b[34mlubridate\u001b[39m::\u001b[32mintersect()\u001b[39m   masks \u001b[34mbase\u001b[39m::intersect()\n",
            "\u001b[31m✖\u001b[39m \u001b[34mdplyr\u001b[39m::\u001b[32mlag()\u001b[39m             masks \u001b[34mstats\u001b[39m::lag()\n",
            "\u001b[31m✖\u001b[39m \u001b[34mdplyr\u001b[39m::\u001b[32mlast()\u001b[39m            masks \u001b[34mxts\u001b[39m::last()\n",
            "\u001b[31m✖\u001b[39m \u001b[34mlubridate\u001b[39m::\u001b[32msetdiff()\u001b[39m     masks \u001b[34mbase\u001b[39m::setdiff()\n",
            "\u001b[31m✖\u001b[39m \u001b[34mreadr\u001b[39m::\u001b[32mspec()\u001b[39m            masks \u001b[34mTSA\u001b[39m::spec()\n",
            "\u001b[31m✖\u001b[39m \u001b[34mlubridate\u001b[39m::\u001b[32munion()\u001b[39m       masks \u001b[34mbase\u001b[39m::union()\n",
            "\n",
            "Version:  1.37.5\n",
            "Date:     2020-06-17\n",
            "Author:   Philip Leifeld (University of Essex)\n",
            "\n",
            "Consider submitting praise using the praise or praise_interactive functions.\n",
            "Please cite the JSS article in your publications -- see citation(\"texreg\").\n",
            "\n",
            "\n",
            "Attaching package: ‘texreg’\n",
            "\n",
            "\n",
            "The following object is masked from ‘package:tidyr’:\n",
            "\n",
            "    extract\n",
            "\n",
            "\n",
            "Loading required package: parallel\n",
            "\n",
            "\n",
            "Attaching package: ‘rugarch’\n",
            "\n",
            "\n",
            "The following object is masked from ‘package:purrr’:\n",
            "\n",
            "    reduce\n",
            "\n",
            "\n",
            "The following object is masked from ‘package:stats’:\n",
            "\n",
            "    sigma\n",
            "\n",
            "\n"
          ],
          "name": "stderr"
        }
      ]
    },
    {
      "cell_type": "code",
      "metadata": {
        "id": "ae5f5617-1efe-4488-bda0-051cf1bf4550"
      },
      "source": [
        "# Parameters definition\n",
        "ar_lag <- 0\n",
        "ma_lag <- 0\n",
        "arch_lag <- 1\n",
        "garch_lag <- 1"
      ],
      "id": "ae5f5617-1efe-4488-bda0-051cf1bf4550",
      "execution_count": 32,
      "outputs": []
    },
    {
      "cell_type": "markdown",
      "metadata": {
        "id": "4fb9f039-c974-422c-8f32-9c886eb06aeb"
      },
      "source": [
        "**Linear GARCH model**"
      ],
      "id": "4fb9f039-c974-422c-8f32-9c886eb06aeb"
    },
    {
      "cell_type": "code",
      "metadata": {
        "id": "47c0b88c-69c3-486d-b02c-29405ebd96e9"
      },
      "source": [
        "# Specification \n",
        "garch.spec <- ugarchspec(variance.model = list(model = \"sGARCH\",\n",
        "                                               garchOrder = c(arch_lag, garch_lag)),\n",
        "                         mean.model = list(armaOrder = c(ar_lag, ma_lag)),\n",
        "                         distribution.model = \"snorm\")\n",
        "# distribution.model = \"snorm\" => skew-normal distribution"
      ],
      "id": "47c0b88c-69c3-486d-b02c-29405ebd96e9",
      "execution_count": 33,
      "outputs": []
    },
    {
      "cell_type": "code",
      "metadata": {
        "id": "4f4f78bc-4e59-462b-af7e-1bcac1264fa3",
        "colab": {
          "base_uri": "https://localhost:8080/",
          "height": 221
        },
        "outputId": "a32314e7-8d2d-4d28-dc6c-f80ae97f9061"
      },
      "source": [
        "# Estimation\n",
        "garch.fit <- ugarchfit(spec = garch.spec, data = GSPTSE.df$GSPTSE.Return)\n",
        "round(garch.fit@fit$matcoef, 4)"
      ],
      "id": "4f4f78bc-4e59-462b-af7e-1bcac1264fa3",
      "execution_count": 34,
      "outputs": [
        {
          "output_type": "display_data",
          "data": {
            "text/plain": [
              "        Estimate  Std. Error  t value Pr(>|t|)\n",
              "mu     0.0398    0.0092        4.3098 0       \n",
              "omega  0.0083    0.0016        5.0791 0       \n",
              "alpha1 0.1026    0.0078       13.1296 0       \n",
              "beta1  0.8904    0.0079      112.9355 0       \n",
              "skew   0.7924    0.0146       54.4370 0       "
            ],
            "text/latex": "A matrix: 5 × 4 of type dbl\n\\begin{tabular}{r|llll}\n  &  Estimate &  Std. Error &  t value & Pr(>\\textbar{}t\\textbar{})\\\\\n\\hline\n\tmu & 0.0398 & 0.0092 &   4.3098 & 0\\\\\n\tomega & 0.0083 & 0.0016 &   5.0791 & 0\\\\\n\talpha1 & 0.1026 & 0.0078 &  13.1296 & 0\\\\\n\tbeta1 & 0.8904 & 0.0079 & 112.9355 & 0\\\\\n\tskew & 0.7924 & 0.0146 &  54.4370 & 0\\\\\n\\end{tabular}\n",
            "text/markdown": "\nA matrix: 5 × 4 of type dbl\n\n| <!--/--> |  Estimate |  Std. Error |  t value | Pr(&gt;|t|) |\n|---|---|---|---|---|\n| mu | 0.0398 | 0.0092 |   4.3098 | 0 |\n| omega | 0.0083 | 0.0016 |   5.0791 | 0 |\n| alpha1 | 0.1026 | 0.0078 |  13.1296 | 0 |\n| beta1 | 0.8904 | 0.0079 | 112.9355 | 0 |\n| skew | 0.7924 | 0.0146 |  54.4370 | 0 |\n\n",
            "text/html": [
              "<table class=\"dataframe\">\n",
              "<caption>A matrix: 5 × 4 of type dbl</caption>\n",
              "<thead>\n",
              "\t<tr><th></th><th scope=col> Estimate</th><th scope=col> Std. Error</th><th scope=col> t value</th><th scope=col>Pr(&gt;|t|)</th></tr>\n",
              "</thead>\n",
              "<tbody>\n",
              "\t<tr><th scope=row>mu</th><td>0.0398</td><td>0.0092</td><td>  4.3098</td><td>0</td></tr>\n",
              "\t<tr><th scope=row>omega</th><td>0.0083</td><td>0.0016</td><td>  5.0791</td><td>0</td></tr>\n",
              "\t<tr><th scope=row>alpha1</th><td>0.1026</td><td>0.0078</td><td> 13.1296</td><td>0</td></tr>\n",
              "\t<tr><th scope=row>beta1</th><td>0.8904</td><td>0.0079</td><td>112.9355</td><td>0</td></tr>\n",
              "\t<tr><th scope=row>skew</th><td>0.7924</td><td>0.0146</td><td> 54.4370</td><td>0</td></tr>\n",
              "</tbody>\n",
              "</table>\n"
            ]
          },
          "metadata": {
            "tags": []
          }
        }
      ]
    },
    {
      "cell_type": "code",
      "metadata": {
        "id": "52cb3822-6ebd-4d45-b2c6-04c1acb17b34",
        "colab": {
          "base_uri": "https://localhost:8080/",
          "height": 153
        },
        "outputId": "b41c8211-885a-4dd9-901e-6cd424be7b01"
      },
      "source": [
        "# Extracting variance series from the Linear GARCH model\n",
        "var.garch <- ts(garch.fit@fit$sigma^2)\n",
        "head(var.garch)\n",
        "\n",
        "GSPTSE.df$GSPTSE.VolGARCH <- as.numeric(var.garch)\n",
        "head(GSPTSE.df)"
      ],
      "id": "52cb3822-6ebd-4d45-b2c6-04c1acb17b34",
      "execution_count": 35,
      "outputs": [
        {
          "output_type": "display_data",
          "data": {
            "text/plain": [
              "[1] 1.277901 1.261229 1.132384 2.475375 2.619771 2.717546"
            ],
            "text/latex": "\\begin{enumerate*}\n\\item 1.27790125294242\n\\item 1.26122869459741\n\\item 1.13238380121096\n\\item 2.47537464117248\n\\item 2.61977147773673\n\\item 2.71754629438777\n\\end{enumerate*}\n",
            "text/markdown": "1. 1.27790125294242\n2. 1.26122869459741\n3. 1.13238380121096\n4. 2.47537464117248\n5. 2.61977147773673\n6. 2.71754629438777\n\n\n",
            "text/html": [
              "<style>\n",
              ".list-inline {list-style: none; margin:0; padding: 0}\n",
              ".list-inline>li {display: inline-block}\n",
              ".list-inline>li:not(:last-child)::after {content: \"\\00b7\"; padding: 0 .5ex}\n",
              "</style>\n",
              "<ol class=list-inline><li>1.27790125294242</li><li>1.26122869459741</li><li>1.13238380121096</li><li>2.47537464117248</li><li>2.61977147773673</li><li>2.71754629438777</li></ol>\n"
            ]
          },
          "metadata": {
            "tags": []
          }
        },
        {
          "output_type": "display_data",
          "data": {
            "text/plain": [
              "           GSPTSE.Close GSPTSE.Return GSPTSE.VolGARCH\n",
              "2000-01-05       8119.4   -1.01948818        1.277901\n",
              "2000-01-06       8114.2   -0.06406105        1.261229\n",
              "2000-01-07       8429.4    3.81100042        1.132384\n",
              "2000-01-10       8602.5    2.03272172        2.475375\n",
              "2000-01-11       8442.6   -1.87625870        2.619771\n",
              "2000-01-12       8360.0   -0.98318446        2.717546"
            ]
          },
          "metadata": {
            "tags": []
          }
        }
      ]
    },
    {
      "cell_type": "markdown",
      "metadata": {
        "id": "e6f29dce-3413-404b-ab4f-fa35eee0c98f"
      },
      "source": [
        "**EGARCH model**"
      ],
      "id": "e6f29dce-3413-404b-ab4f-fa35eee0c98f"
    },
    {
      "cell_type": "code",
      "metadata": {
        "id": "3f49a904-41b9-4e2e-a788-6da4085d14db"
      },
      "source": [
        "# Specification \n",
        "egarch.spec <- ugarchspec(variance.model = list(model = \"eGARCH\",\n",
        "                                                garchOrder = c(arch_lag, garch_lag)),\n",
        "                          mean.model = list(armaOrder = c(ar_lag, ma_lag)), \n",
        "                          distribution.model = \"snorm\")\n",
        "# distribution.model = \"snorm\" => skew-normal distribution"
      ],
      "id": "3f49a904-41b9-4e2e-a788-6da4085d14db",
      "execution_count": 36,
      "outputs": []
    },
    {
      "cell_type": "code",
      "metadata": {
        "id": "1d6a661b-2206-4fa7-b4e8-d3765c54a302",
        "colab": {
          "base_uri": "https://localhost:8080/",
          "height": 252
        },
        "outputId": "c4efb232-3bfc-4801-c93d-3e90bf72396a"
      },
      "source": [
        "# Estimation\n",
        "egarch.fit <- ugarchfit(spec = egarch.spec, data = GSPTSE.df$GSPTSE.Return)\n",
        "round(egarch.fit@fit$matcoef, 4)"
      ],
      "id": "1d6a661b-2206-4fa7-b4e8-d3765c54a302",
      "execution_count": 37,
      "outputs": [
        {
          "output_type": "display_data",
          "data": {
            "text/plain": [
              "        Estimate  Std. Error  t value  Pr(>|t|)\n",
              "mu      0.0166   0.0081         2.0355 0.0418  \n",
              "omega  -0.0033   0.0019        -1.7166 0.0861  \n",
              "alpha1 -0.0990   0.0070       -14.2139 0.0000  \n",
              "beta1   0.9834   0.0008      1284.2984 0.0000  \n",
              "gamma1  0.1512   0.0104        14.4987 0.0000  \n",
              "skew    0.7897   0.0147        53.7248 0.0000  "
            ],
            "text/latex": "A matrix: 6 × 4 of type dbl\n\\begin{tabular}{r|llll}\n  &  Estimate &  Std. Error &  t value & Pr(>\\textbar{}t\\textbar{})\\\\\n\\hline\n\tmu &  0.0166 & 0.0081 &    2.0355 & 0.0418\\\\\n\tomega & -0.0033 & 0.0019 &   -1.7166 & 0.0861\\\\\n\talpha1 & -0.0990 & 0.0070 &  -14.2139 & 0.0000\\\\\n\tbeta1 &  0.9834 & 0.0008 & 1284.2984 & 0.0000\\\\\n\tgamma1 &  0.1512 & 0.0104 &   14.4987 & 0.0000\\\\\n\tskew &  0.7897 & 0.0147 &   53.7248 & 0.0000\\\\\n\\end{tabular}\n",
            "text/markdown": "\nA matrix: 6 × 4 of type dbl\n\n| <!--/--> |  Estimate |  Std. Error |  t value | Pr(&gt;|t|) |\n|---|---|---|---|---|\n| mu |  0.0166 | 0.0081 |    2.0355 | 0.0418 |\n| omega | -0.0033 | 0.0019 |   -1.7166 | 0.0861 |\n| alpha1 | -0.0990 | 0.0070 |  -14.2139 | 0.0000 |\n| beta1 |  0.9834 | 0.0008 | 1284.2984 | 0.0000 |\n| gamma1 |  0.1512 | 0.0104 |   14.4987 | 0.0000 |\n| skew |  0.7897 | 0.0147 |   53.7248 | 0.0000 |\n\n",
            "text/html": [
              "<table class=\"dataframe\">\n",
              "<caption>A matrix: 6 × 4 of type dbl</caption>\n",
              "<thead>\n",
              "\t<tr><th></th><th scope=col> Estimate</th><th scope=col> Std. Error</th><th scope=col> t value</th><th scope=col>Pr(&gt;|t|)</th></tr>\n",
              "</thead>\n",
              "<tbody>\n",
              "\t<tr><th scope=row>mu</th><td> 0.0166</td><td>0.0081</td><td>   2.0355</td><td>0.0418</td></tr>\n",
              "\t<tr><th scope=row>omega</th><td>-0.0033</td><td>0.0019</td><td>  -1.7166</td><td>0.0861</td></tr>\n",
              "\t<tr><th scope=row>alpha1</th><td>-0.0990</td><td>0.0070</td><td> -14.2139</td><td>0.0000</td></tr>\n",
              "\t<tr><th scope=row>beta1</th><td> 0.9834</td><td>0.0008</td><td>1284.2984</td><td>0.0000</td></tr>\n",
              "\t<tr><th scope=row>gamma1</th><td> 0.1512</td><td>0.0104</td><td>  14.4987</td><td>0.0000</td></tr>\n",
              "\t<tr><th scope=row>skew</th><td> 0.7897</td><td>0.0147</td><td>  53.7248</td><td>0.0000</td></tr>\n",
              "</tbody>\n",
              "</table>\n"
            ]
          },
          "metadata": {
            "tags": []
          }
        }
      ]
    },
    {
      "cell_type": "code",
      "metadata": {
        "id": "cffa8b9c-7f85-4602-ac12-0456b3314f2e",
        "colab": {
          "base_uri": "https://localhost:8080/",
          "height": 153
        },
        "outputId": "ed14e693-fbbf-4548-866c-15aeab280a23"
      },
      "source": [
        "# Extracting variance series from the EGARCH model\n",
        "var.egarch <- ts(egarch.fit@fit$sigma^2)\n",
        "head(var.egarch)\n",
        "\n",
        "GSPTSE.df$GSPTSE.VolEGARCH <- as.numeric(var.egarch)\n",
        "head(GSPTSE.df)"
      ],
      "id": "cffa8b9c-7f85-4602-ac12-0456b3314f2e",
      "execution_count": 38,
      "outputs": [
        {
          "output_type": "display_data",
          "data": {
            "text/plain": [
              "[1] 1.277354 1.413267 1.262294 1.324593 1.275901 1.706945"
            ],
            "text/latex": "\\begin{enumerate*}\n\\item 1.27735425000295\n\\item 1.41326711831628\n\\item 1.26229442675398\n\\item 1.32459341146868\n\\item 1.27590141244347\n\\item 1.70694455191848\n\\end{enumerate*}\n",
            "text/markdown": "1. 1.27735425000295\n2. 1.41326711831628\n3. 1.26229442675398\n4. 1.32459341146868\n5. 1.27590141244347\n6. 1.70694455191848\n\n\n",
            "text/html": [
              "<style>\n",
              ".list-inline {list-style: none; margin:0; padding: 0}\n",
              ".list-inline>li {display: inline-block}\n",
              ".list-inline>li:not(:last-child)::after {content: \"\\00b7\"; padding: 0 .5ex}\n",
              "</style>\n",
              "<ol class=list-inline><li>1.27735425000295</li><li>1.41326711831628</li><li>1.26229442675398</li><li>1.32459341146868</li><li>1.27590141244347</li><li>1.70694455191848</li></ol>\n"
            ]
          },
          "metadata": {
            "tags": []
          }
        },
        {
          "output_type": "display_data",
          "data": {
            "text/plain": [
              "           GSPTSE.Close GSPTSE.Return GSPTSE.VolGARCH GSPTSE.VolEGARCH\n",
              "2000-01-05       8119.4   -1.01948818        1.277901         1.277354\n",
              "2000-01-06       8114.2   -0.06406105        1.261229         1.413267\n",
              "2000-01-07       8429.4    3.81100042        1.132384         1.262294\n",
              "2000-01-10       8602.5    2.03272172        2.475375         1.324593\n",
              "2000-01-11       8442.6   -1.87625870        2.619771         1.275901\n",
              "2000-01-12       8360.0   -0.98318446        2.717546         1.706945"
            ]
          },
          "metadata": {
            "tags": []
          }
        }
      ]
    },
    {
      "cell_type": "markdown",
      "metadata": {
        "id": "3f46740f-5c39-4774-9658-6fc3f087dd0a"
      },
      "source": [
        "**GJR-GARCH model**"
      ],
      "id": "3f46740f-5c39-4774-9658-6fc3f087dd0a"
    },
    {
      "cell_type": "code",
      "metadata": {
        "id": "ab68bdb5-2f9a-4efa-b9af-2cf920607b6a"
      },
      "source": [
        "# Specification \n",
        "gjrgarch.spec <- ugarchspec(variance.model = list(model = \"gjrGARCH\",\n",
        "                                                  garchOrder = c(arch_lag, garch_lag)),\n",
        "                            mean.model = list(armaOrder = c(ar_lag, ma_lag)), \n",
        "                            distribution.model = \"snorm\")\n",
        "# distribution.model = \"snorm\" => skew-normal distribution"
      ],
      "id": "ab68bdb5-2f9a-4efa-b9af-2cf920607b6a",
      "execution_count": 39,
      "outputs": []
    },
    {
      "cell_type": "code",
      "metadata": {
        "id": "bd6466b5-b0f5-44e2-9d43-2922a0f6f588",
        "colab": {
          "base_uri": "https://localhost:8080/",
          "height": 252
        },
        "outputId": "f97b8e6d-24f2-49f0-ab65-0346095802ca"
      },
      "source": [
        "# Estimation\n",
        "gjrgarch.fit <- ugarchfit(spec = gjrgarch.spec, data = GSPTSE.df$GSPTSE.Return)\n",
        "round(gjrgarch.fit@fit$matcoef, 4)"
      ],
      "id": "bd6466b5-b0f5-44e2-9d43-2922a0f6f588",
      "execution_count": 40,
      "outputs": [
        {
          "output_type": "display_data",
          "data": {
            "text/plain": [
              "        Estimate  Std. Error  t value Pr(>|t|)\n",
              "mu     0.0188    0.0095        1.9861 0.0470  \n",
              "omega  0.0109    0.0016        6.7205 0.0000  \n",
              "alpha1 0.0212    0.0074        2.8638 0.0042  \n",
              "beta1  0.9026    0.0071      126.5385 0.0000  \n",
              "gamma1 0.1211    0.0125        9.7168 0.0000  \n",
              "skew   0.7904    0.0146       54.0536 0.0000  "
            ],
            "text/latex": "A matrix: 6 × 4 of type dbl\n\\begin{tabular}{r|llll}\n  &  Estimate &  Std. Error &  t value & Pr(>\\textbar{}t\\textbar{})\\\\\n\\hline\n\tmu & 0.0188 & 0.0095 &   1.9861 & 0.0470\\\\\n\tomega & 0.0109 & 0.0016 &   6.7205 & 0.0000\\\\\n\talpha1 & 0.0212 & 0.0074 &   2.8638 & 0.0042\\\\\n\tbeta1 & 0.9026 & 0.0071 & 126.5385 & 0.0000\\\\\n\tgamma1 & 0.1211 & 0.0125 &   9.7168 & 0.0000\\\\\n\tskew & 0.7904 & 0.0146 &  54.0536 & 0.0000\\\\\n\\end{tabular}\n",
            "text/markdown": "\nA matrix: 6 × 4 of type dbl\n\n| <!--/--> |  Estimate |  Std. Error |  t value | Pr(&gt;|t|) |\n|---|---|---|---|---|\n| mu | 0.0188 | 0.0095 |   1.9861 | 0.0470 |\n| omega | 0.0109 | 0.0016 |   6.7205 | 0.0000 |\n| alpha1 | 0.0212 | 0.0074 |   2.8638 | 0.0042 |\n| beta1 | 0.9026 | 0.0071 | 126.5385 | 0.0000 |\n| gamma1 | 0.1211 | 0.0125 |   9.7168 | 0.0000 |\n| skew | 0.7904 | 0.0146 |  54.0536 | 0.0000 |\n\n",
            "text/html": [
              "<table class=\"dataframe\">\n",
              "<caption>A matrix: 6 × 4 of type dbl</caption>\n",
              "<thead>\n",
              "\t<tr><th></th><th scope=col> Estimate</th><th scope=col> Std. Error</th><th scope=col> t value</th><th scope=col>Pr(&gt;|t|)</th></tr>\n",
              "</thead>\n",
              "<tbody>\n",
              "\t<tr><th scope=row>mu</th><td>0.0188</td><td>0.0095</td><td>  1.9861</td><td>0.0470</td></tr>\n",
              "\t<tr><th scope=row>omega</th><td>0.0109</td><td>0.0016</td><td>  6.7205</td><td>0.0000</td></tr>\n",
              "\t<tr><th scope=row>alpha1</th><td>0.0212</td><td>0.0074</td><td>  2.8638</td><td>0.0042</td></tr>\n",
              "\t<tr><th scope=row>beta1</th><td>0.9026</td><td>0.0071</td><td>126.5385</td><td>0.0000</td></tr>\n",
              "\t<tr><th scope=row>gamma1</th><td>0.1211</td><td>0.0125</td><td>  9.7168</td><td>0.0000</td></tr>\n",
              "\t<tr><th scope=row>skew</th><td>0.7904</td><td>0.0146</td><td> 54.0536</td><td>0.0000</td></tr>\n",
              "</tbody>\n",
              "</table>\n"
            ]
          },
          "metadata": {
            "tags": []
          }
        }
      ]
    },
    {
      "cell_type": "code",
      "metadata": {
        "id": "866a759d-f023-4e0a-9708-ad0b03378079",
        "colab": {
          "base_uri": "https://localhost:8080/",
          "height": 272
        },
        "outputId": "11f729da-d5d5-4423-8619-b769618d5fcd"
      },
      "source": [
        "# Extracting variance series from the GJR-GARCH model\n",
        "var.gjrgarch <- ts(gjrgarch.fit@fit$sigma^2)\n",
        "head(var.gjrgarch)\n",
        "\n",
        "GSPTSE.df$GSPTSE.VolGJRGARCH <- as.numeric(var.gjrgarch)\n",
        "head(GSPTSE.df)"
      ],
      "id": "866a759d-f023-4e0a-9708-ad0b03378079",
      "execution_count": 41,
      "outputs": [
        {
          "output_type": "display_data",
          "data": {
            "text/plain": [
              "[1] 1.277360 1.317148 1.200654 1.399601 1.360136 1.749434"
            ],
            "text/latex": "\\begin{enumerate*}\n\\item 1.2773598396531\n\\item 1.31714835169117\n\\item 1.20065448369259\n\\item 1.39960093902115\n\\item 1.36013648980811\n\\item 1.74943421574492\n\\end{enumerate*}\n",
            "text/markdown": "1. 1.2773598396531\n2. 1.31714835169117\n3. 1.20065448369259\n4. 1.39960093902115\n5. 1.36013648980811\n6. 1.74943421574492\n\n\n",
            "text/html": [
              "<style>\n",
              ".list-inline {list-style: none; margin:0; padding: 0}\n",
              ".list-inline>li {display: inline-block}\n",
              ".list-inline>li:not(:last-child)::after {content: \"\\00b7\"; padding: 0 .5ex}\n",
              "</style>\n",
              "<ol class=list-inline><li>1.2773598396531</li><li>1.31714835169117</li><li>1.20065448369259</li><li>1.39960093902115</li><li>1.36013648980811</li><li>1.74943421574492</li></ol>\n"
            ]
          },
          "metadata": {
            "tags": []
          }
        },
        {
          "output_type": "display_data",
          "data": {
            "text/plain": [
              "           GSPTSE.Close GSPTSE.Return GSPTSE.VolGARCH GSPTSE.VolEGARCH\n",
              "2000-01-05       8119.4   -1.01948818        1.277901         1.277354\n",
              "2000-01-06       8114.2   -0.06406105        1.261229         1.413267\n",
              "2000-01-07       8429.4    3.81100042        1.132384         1.262294\n",
              "2000-01-10       8602.5    2.03272172        2.475375         1.324593\n",
              "2000-01-11       8442.6   -1.87625870        2.619771         1.275901\n",
              "2000-01-12       8360.0   -0.98318446        2.717546         1.706945\n",
              "           GSPTSE.VolGJRGARCH\n",
              "2000-01-05           1.277360\n",
              "2000-01-06           1.317148\n",
              "2000-01-07           1.200654\n",
              "2000-01-10           1.399601\n",
              "2000-01-11           1.360136\n",
              "2000-01-12           1.749434"
            ]
          },
          "metadata": {
            "tags": []
          }
        }
      ]
    },
    {
      "cell_type": "markdown",
      "metadata": {
        "id": "30791595-f694-409c-a534-adfd13007dc8"
      },
      "source": [
        "## 7. Realized GARCH model estimation"
      ],
      "id": "30791595-f694-409c-a534-adfd13007dc8"
    },
    {
      "cell_type": "code",
      "metadata": {
        "id": "15180bd5-14f4-433e-8d95-6daf87ad72ee"
      },
      "source": [
        "# Specification\n",
        "realgarch.spec <- ugarchspec(mean.model = list(armaOrder = c(ar_lag, ma_lag),\n",
        "                                               include.mean = FALSE),\n",
        "                             variance.model = list(model = 'realGARCH',\n",
        "                                                   garchOrder = c(arch_lag, garch_lag)),\n",
        "                             distribution.model = \"snorm\")\n",
        "# distribution.model = \"snorm\" => skew-normal distribution)"
      ],
      "id": "15180bd5-14f4-433e-8d95-6daf87ad72ee",
      "execution_count": 42,
      "outputs": []
    },
    {
      "cell_type": "markdown",
      "metadata": {
        "id": "a579f920-f7b4-4ea6-b1dc-16fbfd9f5bec"
      },
      "source": [
        "**Realized Linear GARCH**"
      ],
      "id": "a579f920-f7b4-4ea6-b1dc-16fbfd9f5bec"
    },
    {
      "cell_type": "code",
      "metadata": {
        "id": "15ba614a-3479-4aeb-a0a3-f6aa302df878",
        "colab": {
          "base_uri": "https://localhost:8080/",
          "height": 345
        },
        "outputId": "89e0a371-3440-47f3-a77f-1da06aa9484f"
      },
      "source": [
        "# Estimation\n",
        "realgarch.fit <- ugarchfit(realgarch.spec, GSPTSE.df$GSPTSE.Return,\n",
        "                          solver = 'hybrid',\n",
        "                          realizedVol = GSPTSE.df$GSPTSE.VolGARCH)\n",
        "round(realgarch.fit@fit$matcoef, 4)"
      ],
      "id": "15ba614a-3479-4aeb-a0a3-f6aa302df878",
      "execution_count": 43,
      "outputs": [
        {
          "output_type": "display_data",
          "data": {
            "text/plain": [
              "        Estimate  Std. Error  t value Pr(>|t|)\n",
              "omega   0.0239   0.0200        1.1936 0.2326  \n",
              "alpha1  0.9799   0.0239       41.0069 0.0000  \n",
              "beta1   0.0092   0.0135        0.6783 0.4976  \n",
              "eta11   0.0018   0.0020        0.8968 0.3698  \n",
              "eta21   0.0062   0.0011        5.8835 0.0000  \n",
              "delta   0.9989   0.0203       49.2720 0.0000  \n",
              "lambda  0.1432   0.0014      103.7013 0.0000  \n",
              "skew    0.7880   0.0142       55.4566 0.0000  \n",
              "xi     -0.0289   0.0200       -1.4474 0.1478  "
            ],
            "text/latex": "A matrix: 9 × 4 of type dbl\n\\begin{tabular}{r|llll}\n  &  Estimate &  Std. Error &  t value & Pr(>\\textbar{}t\\textbar{})\\\\\n\\hline\n\tomega &  0.0239 & 0.0200 &   1.1936 & 0.2326\\\\\n\talpha1 &  0.9799 & 0.0239 &  41.0069 & 0.0000\\\\\n\tbeta1 &  0.0092 & 0.0135 &   0.6783 & 0.4976\\\\\n\teta11 &  0.0018 & 0.0020 &   0.8968 & 0.3698\\\\\n\teta21 &  0.0062 & 0.0011 &   5.8835 & 0.0000\\\\\n\tdelta &  0.9989 & 0.0203 &  49.2720 & 0.0000\\\\\n\tlambda &  0.1432 & 0.0014 & 103.7013 & 0.0000\\\\\n\tskew &  0.7880 & 0.0142 &  55.4566 & 0.0000\\\\\n\txi & -0.0289 & 0.0200 &  -1.4474 & 0.1478\\\\\n\\end{tabular}\n",
            "text/markdown": "\nA matrix: 9 × 4 of type dbl\n\n| <!--/--> |  Estimate |  Std. Error |  t value | Pr(&gt;|t|) |\n|---|---|---|---|---|\n| omega |  0.0239 | 0.0200 |   1.1936 | 0.2326 |\n| alpha1 |  0.9799 | 0.0239 |  41.0069 | 0.0000 |\n| beta1 |  0.0092 | 0.0135 |   0.6783 | 0.4976 |\n| eta11 |  0.0018 | 0.0020 |   0.8968 | 0.3698 |\n| eta21 |  0.0062 | 0.0011 |   5.8835 | 0.0000 |\n| delta |  0.9989 | 0.0203 |  49.2720 | 0.0000 |\n| lambda |  0.1432 | 0.0014 | 103.7013 | 0.0000 |\n| skew |  0.7880 | 0.0142 |  55.4566 | 0.0000 |\n| xi | -0.0289 | 0.0200 |  -1.4474 | 0.1478 |\n\n",
            "text/html": [
              "<table class=\"dataframe\">\n",
              "<caption>A matrix: 9 × 4 of type dbl</caption>\n",
              "<thead>\n",
              "\t<tr><th></th><th scope=col> Estimate</th><th scope=col> Std. Error</th><th scope=col> t value</th><th scope=col>Pr(&gt;|t|)</th></tr>\n",
              "</thead>\n",
              "<tbody>\n",
              "\t<tr><th scope=row>omega</th><td> 0.0239</td><td>0.0200</td><td>  1.1936</td><td>0.2326</td></tr>\n",
              "\t<tr><th scope=row>alpha1</th><td> 0.9799</td><td>0.0239</td><td> 41.0069</td><td>0.0000</td></tr>\n",
              "\t<tr><th scope=row>beta1</th><td> 0.0092</td><td>0.0135</td><td>  0.6783</td><td>0.4976</td></tr>\n",
              "\t<tr><th scope=row>eta11</th><td> 0.0018</td><td>0.0020</td><td>  0.8968</td><td>0.3698</td></tr>\n",
              "\t<tr><th scope=row>eta21</th><td> 0.0062</td><td>0.0011</td><td>  5.8835</td><td>0.0000</td></tr>\n",
              "\t<tr><th scope=row>delta</th><td> 0.9989</td><td>0.0203</td><td> 49.2720</td><td>0.0000</td></tr>\n",
              "\t<tr><th scope=row>lambda</th><td> 0.1432</td><td>0.0014</td><td>103.7013</td><td>0.0000</td></tr>\n",
              "\t<tr><th scope=row>skew</th><td> 0.7880</td><td>0.0142</td><td> 55.4566</td><td>0.0000</td></tr>\n",
              "\t<tr><th scope=row>xi</th><td>-0.0289</td><td>0.0200</td><td> -1.4474</td><td>0.1478</td></tr>\n",
              "</tbody>\n",
              "</table>\n"
            ]
          },
          "metadata": {
            "tags": []
          }
        }
      ]
    },
    {
      "cell_type": "code",
      "metadata": {
        "id": "35f05310-d764-4a29-895f-14a3d9333110",
        "colab": {
          "base_uri": "https://localhost:8080/",
          "height": 272
        },
        "outputId": "f45e4b1b-0027-4c28-d0df-01bf77c8a03f"
      },
      "source": [
        "# Extracting variance series from the Realized Linear GARCH model\n",
        "var.realgarch <- ts(realgarch.fit@fit$sigma^2)\n",
        "head(var.realgarch)\n",
        "\n",
        "GSPTSE.df$GSPTSE.VolRealGARCH <- as.numeric(var.realgarch)\n",
        "head(GSPTSE.df)"
      ],
      "id": "35f05310-d764-4a29-895f-14a3d9333110",
      "execution_count": 44,
      "outputs": [
        {
          "output_type": "display_data",
          "data": {
            "text/plain": [
              "[1] 1.277624 1.305310 1.288874 1.159576 2.492904 2.653924"
            ],
            "text/latex": "\\begin{enumerate*}\n\\item 1.27762443176293\n\\item 1.30531037898103\n\\item 1.28887385463454\n\\item 1.15957608188249\n\\item 2.49290368675785\n\\item 2.65392443735655\n\\end{enumerate*}\n",
            "text/markdown": "1. 1.27762443176293\n2. 1.30531037898103\n3. 1.28887385463454\n4. 1.15957608188249\n5. 2.49290368675785\n6. 2.65392443735655\n\n\n",
            "text/html": [
              "<style>\n",
              ".list-inline {list-style: none; margin:0; padding: 0}\n",
              ".list-inline>li {display: inline-block}\n",
              ".list-inline>li:not(:last-child)::after {content: \"\\00b7\"; padding: 0 .5ex}\n",
              "</style>\n",
              "<ol class=list-inline><li>1.27762443176293</li><li>1.30531037898103</li><li>1.28887385463454</li><li>1.15957608188249</li><li>2.49290368675785</li><li>2.65392443735655</li></ol>\n"
            ]
          },
          "metadata": {
            "tags": []
          }
        },
        {
          "output_type": "display_data",
          "data": {
            "text/plain": [
              "           GSPTSE.Close GSPTSE.Return GSPTSE.VolGARCH GSPTSE.VolEGARCH\n",
              "2000-01-05       8119.4   -1.01948818        1.277901         1.277354\n",
              "2000-01-06       8114.2   -0.06406105        1.261229         1.413267\n",
              "2000-01-07       8429.4    3.81100042        1.132384         1.262294\n",
              "2000-01-10       8602.5    2.03272172        2.475375         1.324593\n",
              "2000-01-11       8442.6   -1.87625870        2.619771         1.275901\n",
              "2000-01-12       8360.0   -0.98318446        2.717546         1.706945\n",
              "           GSPTSE.VolGJRGARCH GSPTSE.VolRealGARCH\n",
              "2000-01-05           1.277360            1.277624\n",
              "2000-01-06           1.317148            1.305310\n",
              "2000-01-07           1.200654            1.288874\n",
              "2000-01-10           1.399601            1.159576\n",
              "2000-01-11           1.360136            2.492904\n",
              "2000-01-12           1.749434            2.653924"
            ]
          },
          "metadata": {
            "tags": []
          }
        }
      ]
    },
    {
      "cell_type": "markdown",
      "metadata": {
        "id": "3cac3418-86e3-40a3-b370-d044e9ffda05"
      },
      "source": [
        "**Realized EGARCH**"
      ],
      "id": "3cac3418-86e3-40a3-b370-d044e9ffda05"
    },
    {
      "cell_type": "code",
      "metadata": {
        "id": "8dab1b63-5db6-4abb-8ab3-4e49b909a386",
        "colab": {
          "base_uri": "https://localhost:8080/",
          "height": 345
        },
        "outputId": "badfcc06-f471-472b-8894-a2c031eb2119"
      },
      "source": [
        "# Estimation\n",
        "realegarch.fit <- ugarchfit(realgarch.spec, GSPTSE.df$GSPTSE.Return,\n",
        "                            solver = 'hybrid',\n",
        "                            realizedVol = GSPTSE.df$GSPTSE.VolEGARCH)\n",
        "round(realegarch.fit@fit$matcoef, 4)"
      ],
      "id": "8dab1b63-5db6-4abb-8ab3-4e49b909a386",
      "execution_count": 45,
      "outputs": [
        {
          "output_type": "display_data",
          "data": {
            "text/plain": [
              "        Estimate  Std. Error  t value Pr(>|t|)\n",
              "omega   0.0265   0.0201        1.3175 0.1877  \n",
              "alpha1  1.0000   0.0231       43.2784 0.0000  \n",
              "beta1   0.0000   0.0135        0.0000 1.0000  \n",
              "eta11   0.0013   0.0022        0.5944 0.5522  \n",
              "eta21   0.0096   0.0012        8.3053 0.0000  \n",
              "delta   0.9859   0.0185       53.1576 0.0000  \n",
              "lambda  0.1517   0.0015      103.6588 0.0000  \n",
              "skew    0.7873   0.0144       54.8250 0.0000  \n",
              "xi     -0.0320   0.0196       -1.6334 0.1024  "
            ],
            "text/latex": "A matrix: 9 × 4 of type dbl\n\\begin{tabular}{r|llll}\n  &  Estimate &  Std. Error &  t value & Pr(>\\textbar{}t\\textbar{})\\\\\n\\hline\n\tomega &  0.0265 & 0.0201 &   1.3175 & 0.1877\\\\\n\talpha1 &  1.0000 & 0.0231 &  43.2784 & 0.0000\\\\\n\tbeta1 &  0.0000 & 0.0135 &   0.0000 & 1.0000\\\\\n\teta11 &  0.0013 & 0.0022 &   0.5944 & 0.5522\\\\\n\teta21 &  0.0096 & 0.0012 &   8.3053 & 0.0000\\\\\n\tdelta &  0.9859 & 0.0185 &  53.1576 & 0.0000\\\\\n\tlambda &  0.1517 & 0.0015 & 103.6588 & 0.0000\\\\\n\tskew &  0.7873 & 0.0144 &  54.8250 & 0.0000\\\\\n\txi & -0.0320 & 0.0196 &  -1.6334 & 0.1024\\\\\n\\end{tabular}\n",
            "text/markdown": "\nA matrix: 9 × 4 of type dbl\n\n| <!--/--> |  Estimate |  Std. Error |  t value | Pr(&gt;|t|) |\n|---|---|---|---|---|\n| omega |  0.0265 | 0.0201 |   1.3175 | 0.1877 |\n| alpha1 |  1.0000 | 0.0231 |  43.2784 | 0.0000 |\n| beta1 |  0.0000 | 0.0135 |   0.0000 | 1.0000 |\n| eta11 |  0.0013 | 0.0022 |   0.5944 | 0.5522 |\n| eta21 |  0.0096 | 0.0012 |   8.3053 | 0.0000 |\n| delta |  0.9859 | 0.0185 |  53.1576 | 0.0000 |\n| lambda |  0.1517 | 0.0015 | 103.6588 | 0.0000 |\n| skew |  0.7873 | 0.0144 |  54.8250 | 0.0000 |\n| xi | -0.0320 | 0.0196 |  -1.6334 | 0.1024 |\n\n",
            "text/html": [
              "<table class=\"dataframe\">\n",
              "<caption>A matrix: 9 × 4 of type dbl</caption>\n",
              "<thead>\n",
              "\t<tr><th></th><th scope=col> Estimate</th><th scope=col> Std. Error</th><th scope=col> t value</th><th scope=col>Pr(&gt;|t|)</th></tr>\n",
              "</thead>\n",
              "<tbody>\n",
              "\t<tr><th scope=row>omega</th><td> 0.0265</td><td>0.0201</td><td>  1.3175</td><td>0.1877</td></tr>\n",
              "\t<tr><th scope=row>alpha1</th><td> 1.0000</td><td>0.0231</td><td> 43.2784</td><td>0.0000</td></tr>\n",
              "\t<tr><th scope=row>beta1</th><td> 0.0000</td><td>0.0135</td><td>  0.0000</td><td>1.0000</td></tr>\n",
              "\t<tr><th scope=row>eta11</th><td> 0.0013</td><td>0.0022</td><td>  0.5944</td><td>0.5522</td></tr>\n",
              "\t<tr><th scope=row>eta21</th><td> 0.0096</td><td>0.0012</td><td>  8.3053</td><td>0.0000</td></tr>\n",
              "\t<tr><th scope=row>delta</th><td> 0.9859</td><td>0.0185</td><td> 53.1576</td><td>0.0000</td></tr>\n",
              "\t<tr><th scope=row>lambda</th><td> 0.1517</td><td>0.0015</td><td>103.6588</td><td>0.0000</td></tr>\n",
              "\t<tr><th scope=row>skew</th><td> 0.7873</td><td>0.0144</td><td> 54.8250</td><td>0.0000</td></tr>\n",
              "\t<tr><th scope=row>xi</th><td>-0.0320</td><td>0.0196</td><td> -1.6334</td><td>0.1024</td></tr>\n",
              "</tbody>\n",
              "</table>\n"
            ]
          },
          "metadata": {
            "tags": []
          }
        }
      ]
    },
    {
      "cell_type": "code",
      "metadata": {
        "id": "8888b518-3a21-47ca-9f66-8cb6a20c7a0d",
        "colab": {
          "base_uri": "https://localhost:8080/",
          "height": 272
        },
        "outputId": "9cc40fed-0b20-4103-e773-3fe1746dd381"
      },
      "source": [
        "# Extracting variance series from the Realized EGARCH model\n",
        "var.realegarch <- ts(realegarch.fit@fit$sigma^2)\n",
        "head(var.realegarch)\n",
        "\n",
        "GSPTSE.df$GSPTSE.VolRealEGARCH <- as.numeric(var.realegarch)\n",
        "head(GSPTSE.df)"
      ],
      "id": "8888b518-3a21-47ca-9f66-8cb6a20c7a0d",
      "execution_count": 46,
      "outputs": [
        {
          "output_type": "display_data",
          "data": {
            "text/plain": [
              "[1] 1.277624 1.311710 1.451278 1.296245 1.360220 1.310218"
            ],
            "text/latex": "\\begin{enumerate*}\n\\item 1.27762443176293\n\\item 1.31171018520389\n\\item 1.45127840437393\n\\item 1.29624533184018\n\\item 1.36021983707836\n\\item 1.3102182747768\n\\end{enumerate*}\n",
            "text/markdown": "1. 1.27762443176293\n2. 1.31171018520389\n3. 1.45127840437393\n4. 1.29624533184018\n5. 1.36021983707836\n6. 1.3102182747768\n\n\n",
            "text/html": [
              "<style>\n",
              ".list-inline {list-style: none; margin:0; padding: 0}\n",
              ".list-inline>li {display: inline-block}\n",
              ".list-inline>li:not(:last-child)::after {content: \"\\00b7\"; padding: 0 .5ex}\n",
              "</style>\n",
              "<ol class=list-inline><li>1.27762443176293</li><li>1.31171018520389</li><li>1.45127840437393</li><li>1.29624533184018</li><li>1.36021983707836</li><li>1.3102182747768</li></ol>\n"
            ]
          },
          "metadata": {
            "tags": []
          }
        },
        {
          "output_type": "display_data",
          "data": {
            "text/plain": [
              "           GSPTSE.Close GSPTSE.Return GSPTSE.VolGARCH GSPTSE.VolEGARCH\n",
              "2000-01-05       8119.4   -1.01948818        1.277901         1.277354\n",
              "2000-01-06       8114.2   -0.06406105        1.261229         1.413267\n",
              "2000-01-07       8429.4    3.81100042        1.132384         1.262294\n",
              "2000-01-10       8602.5    2.03272172        2.475375         1.324593\n",
              "2000-01-11       8442.6   -1.87625870        2.619771         1.275901\n",
              "2000-01-12       8360.0   -0.98318446        2.717546         1.706945\n",
              "           GSPTSE.VolGJRGARCH GSPTSE.VolRealGARCH GSPTSE.VolRealEGARCH\n",
              "2000-01-05           1.277360            1.277624             1.277624\n",
              "2000-01-06           1.317148            1.305310             1.311710\n",
              "2000-01-07           1.200654            1.288874             1.451278\n",
              "2000-01-10           1.399601            1.159576             1.296245\n",
              "2000-01-11           1.360136            2.492904             1.360220\n",
              "2000-01-12           1.749434            2.653924             1.310218"
            ]
          },
          "metadata": {
            "tags": []
          }
        }
      ]
    },
    {
      "cell_type": "markdown",
      "metadata": {
        "id": "84982d7c-c0eb-404c-b399-e720fb9281cf"
      },
      "source": [
        "**Realized GJR-GARCH**"
      ],
      "id": "84982d7c-c0eb-404c-b399-e720fb9281cf"
    },
    {
      "cell_type": "code",
      "metadata": {
        "id": "9fbe16e5-06c5-4329-ac4e-cd097521e0fe",
        "colab": {
          "base_uri": "https://localhost:8080/",
          "height": 345
        },
        "outputId": "fe0758af-6f8a-47e4-9bbd-125772752f4a"
      },
      "source": [
        "# Estimation\n",
        "realgjrgarch.fit <- ugarchfit(realgarch.spec, GSPTSE.df$GSPTSE.Return,\n",
        "                              solver = 'hybrid',\n",
        "                              realizedVol = GSPTSE.df$GSPTSE.VolGJRGARCH)\n",
        "round(realgjrgarch.fit@fit$matcoef, 4)"
      ],
      "id": "9fbe16e5-06c5-4329-ac4e-cd097521e0fe",
      "execution_count": 47,
      "outputs": [
        {
          "output_type": "display_data",
          "data": {
            "text/plain": [
              "        Estimate  Std. Error  t value Pr(>|t|)\n",
              "omega   0.0175   0.0203        0.8649 0.3871  \n",
              "alpha1  0.9824   0.0238       41.3365 0.0000  \n",
              "beta1   0.0000   0.0136        0.0000 1.0000  \n",
              "eta11   0.0004   0.0023        0.1689 0.8658  \n",
              "eta21   0.0085   0.0012        7.1467 0.0000  \n",
              "delta   1.0031   0.0202       49.7028 0.0000  \n",
              "lambda  0.1581   0.0015      103.6769 0.0000  \n",
              "skew    0.7855   0.0144       54.6848 0.0000  \n",
              "xi     -0.0235   0.0201       -1.1685 0.2426  "
            ],
            "text/latex": "A matrix: 9 × 4 of type dbl\n\\begin{tabular}{r|llll}\n  &  Estimate &  Std. Error &  t value & Pr(>\\textbar{}t\\textbar{})\\\\\n\\hline\n\tomega &  0.0175 & 0.0203 &   0.8649 & 0.3871\\\\\n\talpha1 &  0.9824 & 0.0238 &  41.3365 & 0.0000\\\\\n\tbeta1 &  0.0000 & 0.0136 &   0.0000 & 1.0000\\\\\n\teta11 &  0.0004 & 0.0023 &   0.1689 & 0.8658\\\\\n\teta21 &  0.0085 & 0.0012 &   7.1467 & 0.0000\\\\\n\tdelta &  1.0031 & 0.0202 &  49.7028 & 0.0000\\\\\n\tlambda &  0.1581 & 0.0015 & 103.6769 & 0.0000\\\\\n\tskew &  0.7855 & 0.0144 &  54.6848 & 0.0000\\\\\n\txi & -0.0235 & 0.0201 &  -1.1685 & 0.2426\\\\\n\\end{tabular}\n",
            "text/markdown": "\nA matrix: 9 × 4 of type dbl\n\n| <!--/--> |  Estimate |  Std. Error |  t value | Pr(&gt;|t|) |\n|---|---|---|---|---|\n| omega |  0.0175 | 0.0203 |   0.8649 | 0.3871 |\n| alpha1 |  0.9824 | 0.0238 |  41.3365 | 0.0000 |\n| beta1 |  0.0000 | 0.0136 |   0.0000 | 1.0000 |\n| eta11 |  0.0004 | 0.0023 |   0.1689 | 0.8658 |\n| eta21 |  0.0085 | 0.0012 |   7.1467 | 0.0000 |\n| delta |  1.0031 | 0.0202 |  49.7028 | 0.0000 |\n| lambda |  0.1581 | 0.0015 | 103.6769 | 0.0000 |\n| skew |  0.7855 | 0.0144 |  54.6848 | 0.0000 |\n| xi | -0.0235 | 0.0201 |  -1.1685 | 0.2426 |\n\n",
            "text/html": [
              "<table class=\"dataframe\">\n",
              "<caption>A matrix: 9 × 4 of type dbl</caption>\n",
              "<thead>\n",
              "\t<tr><th></th><th scope=col> Estimate</th><th scope=col> Std. Error</th><th scope=col> t value</th><th scope=col>Pr(&gt;|t|)</th></tr>\n",
              "</thead>\n",
              "<tbody>\n",
              "\t<tr><th scope=row>omega</th><td> 0.0175</td><td>0.0203</td><td>  0.8649</td><td>0.3871</td></tr>\n",
              "\t<tr><th scope=row>alpha1</th><td> 0.9824</td><td>0.0238</td><td> 41.3365</td><td>0.0000</td></tr>\n",
              "\t<tr><th scope=row>beta1</th><td> 0.0000</td><td>0.0136</td><td>  0.0000</td><td>1.0000</td></tr>\n",
              "\t<tr><th scope=row>eta11</th><td> 0.0004</td><td>0.0023</td><td>  0.1689</td><td>0.8658</td></tr>\n",
              "\t<tr><th scope=row>eta21</th><td> 0.0085</td><td>0.0012</td><td>  7.1467</td><td>0.0000</td></tr>\n",
              "\t<tr><th scope=row>delta</th><td> 1.0031</td><td>0.0202</td><td> 49.7028</td><td>0.0000</td></tr>\n",
              "\t<tr><th scope=row>lambda</th><td> 0.1581</td><td>0.0015</td><td>103.6769</td><td>0.0000</td></tr>\n",
              "\t<tr><th scope=row>skew</th><td> 0.7855</td><td>0.0144</td><td> 54.6848</td><td>0.0000</td></tr>\n",
              "\t<tr><th scope=row>xi</th><td>-0.0235</td><td>0.0201</td><td> -1.1685</td><td>0.2426</td></tr>\n",
              "</tbody>\n",
              "</table>\n"
            ]
          },
          "metadata": {
            "tags": []
          }
        }
      ]
    },
    {
      "cell_type": "code",
      "metadata": {
        "id": "72de108a-b473-4d76-9dc5-c1ae251113eb",
        "colab": {
          "base_uri": "https://localhost:8080/",
          "height": 391
        },
        "outputId": "2fec3e5e-ffd9-4469-9a71-388285afc760"
      },
      "source": [
        "# Extracting variance series from the Realized GJR-GARCH model\n",
        "var.realgjrgarch <- ts(realgjrgarch.fit@fit$sigma^2)\n",
        "head(var.realgjrgarch)\n",
        "\n",
        "GSPTSE.df$GSPTSE.VolRealGJRGARCH <- as.numeric(var.realgjrgarch)\n",
        "head(GSPTSE.df)"
      ],
      "id": "72de108a-b473-4d76-9dc5-c1ae251113eb",
      "execution_count": 48,
      "outputs": [
        {
          "output_type": "display_data",
          "data": {
            "text/plain": [
              "[1] 1.277624 1.294355 1.333953 1.217954 1.415946 1.376713"
            ],
            "text/latex": "\\begin{enumerate*}\n\\item 1.27762443176293\n\\item 1.29435470362792\n\\item 1.33395334638242\n\\item 1.21795356450846\n\\item 1.41594627688073\n\\item 1.37671274422362\n\\end{enumerate*}\n",
            "text/markdown": "1. 1.27762443176293\n2. 1.29435470362792\n3. 1.33395334638242\n4. 1.21795356450846\n5. 1.41594627688073\n6. 1.37671274422362\n\n\n",
            "text/html": [
              "<style>\n",
              ".list-inline {list-style: none; margin:0; padding: 0}\n",
              ".list-inline>li {display: inline-block}\n",
              ".list-inline>li:not(:last-child)::after {content: \"\\00b7\"; padding: 0 .5ex}\n",
              "</style>\n",
              "<ol class=list-inline><li>1.27762443176293</li><li>1.29435470362792</li><li>1.33395334638242</li><li>1.21795356450846</li><li>1.41594627688073</li><li>1.37671274422362</li></ol>\n"
            ]
          },
          "metadata": {
            "tags": []
          }
        },
        {
          "output_type": "display_data",
          "data": {
            "text/plain": [
              "           GSPTSE.Close GSPTSE.Return GSPTSE.VolGARCH GSPTSE.VolEGARCH\n",
              "2000-01-05       8119.4   -1.01948818        1.277901         1.277354\n",
              "2000-01-06       8114.2   -0.06406105        1.261229         1.413267\n",
              "2000-01-07       8429.4    3.81100042        1.132384         1.262294\n",
              "2000-01-10       8602.5    2.03272172        2.475375         1.324593\n",
              "2000-01-11       8442.6   -1.87625870        2.619771         1.275901\n",
              "2000-01-12       8360.0   -0.98318446        2.717546         1.706945\n",
              "           GSPTSE.VolGJRGARCH GSPTSE.VolRealGARCH GSPTSE.VolRealEGARCH\n",
              "2000-01-05           1.277360            1.277624             1.277624\n",
              "2000-01-06           1.317148            1.305310             1.311710\n",
              "2000-01-07           1.200654            1.288874             1.451278\n",
              "2000-01-10           1.399601            1.159576             1.296245\n",
              "2000-01-11           1.360136            2.492904             1.360220\n",
              "2000-01-12           1.749434            2.653924             1.310218\n",
              "           GSPTSE.VolRealGJRGARCH\n",
              "2000-01-05               1.277624\n",
              "2000-01-06               1.294355\n",
              "2000-01-07               1.333953\n",
              "2000-01-10               1.217954\n",
              "2000-01-11               1.415946\n",
              "2000-01-12               1.376713"
            ]
          },
          "metadata": {
            "tags": []
          }
        }
      ]
    },
    {
      "cell_type": "markdown",
      "metadata": {
        "id": "735d096c-8ec1-4d3a-a1d9-b7174e560beb"
      },
      "source": [
        "## 8. Markov-Switching GARCH estimation"
      ],
      "id": "735d096c-8ec1-4d3a-a1d9-b7174e560beb"
    },
    {
      "cell_type": "code",
      "metadata": {
        "id": "9ea73810-e857-41db-82fd-a2e4dd54c754",
        "colab": {
          "base_uri": "https://localhost:8080/"
        },
        "outputId": "b7d0b077-b271-4eba-af43-af96fbd46dc3"
      },
      "source": [
        "# Packages\n",
        "install.packages('MSGARCH')\n",
        "\n",
        "library(MSGARCH)"
      ],
      "id": "9ea73810-e857-41db-82fd-a2e4dd54c754",
      "execution_count": 49,
      "outputs": [
        {
          "output_type": "stream",
          "text": [
            "Installing package into ‘/usr/local/lib/R/site-library’\n",
            "(as ‘lib’ is unspecified)\n",
            "\n",
            "also installing the dependencies ‘coda’, ‘expm’, ‘fanplot’\n",
            "\n",
            "\n"
          ],
          "name": "stderr"
        }
      ]
    },
    {
      "cell_type": "markdown",
      "metadata": {
        "id": "ef3e18a9-c620-446e-b3cd-d5d20cf98832"
      },
      "source": [
        "2 regimes: low volatility and high volatility"
      ],
      "id": "ef3e18a9-c620-446e-b3cd-d5d20cf98832"
    },
    {
      "cell_type": "markdown",
      "metadata": {
        "id": "0nhstzdv_IBM"
      },
      "source": [
        "**Linear MS GARCH**"
      ],
      "id": "0nhstzdv_IBM"
    },
    {
      "cell_type": "code",
      "metadata": {
        "id": "a31f362b-be2d-4084-85cc-fd43b95ba2cf"
      },
      "source": [
        "# Specification\n",
        "msgarch.spec <- CreateSpec(variance.spec = list(model = c(\"sGARCH\")),\n",
        "                           distribution.spec = list(distribution = c(\"snorm\")),\n",
        "                           switch.spec = list(K = 2))"
      ],
      "id": "a31f362b-be2d-4084-85cc-fd43b95ba2cf",
      "execution_count": 50,
      "outputs": []
    },
    {
      "cell_type": "code",
      "metadata": {
        "id": "v0OrYkGOTGnf",
        "colab": {
          "base_uri": "https://localhost:8080/"
        },
        "outputId": "79d0ccd3-ef23-46b1-f902-b78430d19932"
      },
      "source": [
        "# Estimation\n",
        "msgarch.fit <- FitML(msgarch.spec, data = GSPTSE.df$GSPTSE.Return)    \n",
        "summary(msgarch.fit)"
      ],
      "id": "v0OrYkGOTGnf",
      "execution_count": 51,
      "outputs": [
        {
          "output_type": "stream",
          "text": [
            "Specification type: Markov-switching\n",
            "Specification name: sGARCH_snorm sGARCH_snorm\n",
            "Number of parameters in each variance model: 3 3\n",
            "Number of parameters in each distribution: 1 1\n",
            "------------------------------------------\n",
            "Fixed parameters:\n",
            "None\n",
            "------------------------------------------\n",
            "Across regime constrained parameters:\n",
            "None\n",
            "------------------------------------------\n",
            "Fitted parameters:\n",
            "         Estimate Std. Error      t value Pr(>|t|)\n",
            "alpha0_1   0.0065          0 1.959882e+21   <1e-16\n",
            "alpha1_1   0.0984          0 4.098684e+21   <1e-16\n",
            "beta_1     0.8884          0 1.067124e+23   <1e-16\n",
            "xi_1       0.8105          0 4.942121e+20   <1e-16\n",
            "alpha0_2   0.6028          0 1.029478e+20   <1e-16\n",
            "alpha1_2   0.3404          0 2.117715e+20   <1e-16\n",
            "beta_2     0.6298          0 1.298514e+22   <1e-16\n",
            "xi_2       0.1272          0 5.433100e+07   <1e-16\n",
            "P_1_1      0.9610          0 1.062398e+24   <1e-16\n",
            "P_2_1      0.9813          0 2.790766e+22   <1e-16\n",
            "------------------------------------------\n",
            "Transition matrix:\n",
            "      t+1|k=1 t+1|k=2\n",
            "t|k=1  0.9610  0.0390\n",
            "t|k=2  0.9813  0.0187\n",
            "------------------------------------------\n",
            "Stable probabilities:\n",
            "State 1 State 2 \n",
            " 0.9618  0.0382 \n",
            "------------------------------------------\n",
            "LL: -6567.7226\n",
            "AIC: 13155.4453\n",
            "BIC: 13221.3441\n",
            "------------------------------------------\n"
          ],
          "name": "stdout"
        }
      ]
    },
    {
      "cell_type": "code",
      "metadata": {
        "id": "Bg9ZdxIiTUr7",
        "colab": {
          "base_uri": "https://localhost:8080/",
          "height": 391
        },
        "outputId": "e53f7fea-2543-4d7f-b57a-f5bdb1f7c6fe"
      },
      "source": [
        "# Extracting variance series from the MS GARCH model\n",
        "var.msgarch <- ts(Volatility(msgarch.fit))\n",
        "head(var.msgarch)\n",
        "\n",
        "GSPTSE.df$GSPTSE.VolMSGARCH <- as.numeric(var.msgarch)\n",
        "head(GSPTSE.df)"
      ],
      "id": "Bg9ZdxIiTUr7",
      "execution_count": 52,
      "outputs": [
        {
          "output_type": "display_data",
          "data": {
            "text/plain": [
              "      t=1       t=2       t=3       t=4       t=5       t=6 \n",
              "1.1183481 1.0256656 0.9133555 1.4325171 1.5335781 1.5512332 "
            ],
            "text/latex": "\\begin{description*}\n\\item[t=1] 1.11834809442984\n\\item[t=2] 1.02566559666529\n\\item[t=3] 0.913355540965258\n\\item[t=4] 1.43251708861499\n\\item[t=5] 1.53357805871325\n\\item[t=6] 1.55123322141406\n\\end{description*}\n",
            "text/markdown": "t=1\n:   1.11834809442984t=2\n:   1.02566559666529t=3\n:   0.913355540965258t=4\n:   1.43251708861499t=5\n:   1.53357805871325t=6\n:   1.55123322141406\n\n",
            "text/html": [
              "<style>\n",
              ".dl-inline {width: auto; margin:0; padding: 0}\n",
              ".dl-inline>dt, .dl-inline>dd {float: none; width: auto; display: inline-block}\n",
              ".dl-inline>dt::after {content: \":\\0020\"; padding-right: .5ex}\n",
              ".dl-inline>dt:not(:first-of-type) {padding-left: .5ex}\n",
              "</style><dl class=dl-inline><dt>t=1</dt><dd>1.11834809442984</dd><dt>t=2</dt><dd>1.02566559666529</dd><dt>t=3</dt><dd>0.913355540965258</dd><dt>t=4</dt><dd>1.43251708861499</dd><dt>t=5</dt><dd>1.53357805871325</dd><dt>t=6</dt><dd>1.55123322141406</dd></dl>\n"
            ]
          },
          "metadata": {
            "tags": []
          }
        },
        {
          "output_type": "display_data",
          "data": {
            "text/plain": [
              "           GSPTSE.Close GSPTSE.Return GSPTSE.VolGARCH GSPTSE.VolEGARCH\n",
              "2000-01-05       8119.4   -1.01948818        1.277901         1.277354\n",
              "2000-01-06       8114.2   -0.06406105        1.261229         1.413267\n",
              "2000-01-07       8429.4    3.81100042        1.132384         1.262294\n",
              "2000-01-10       8602.5    2.03272172        2.475375         1.324593\n",
              "2000-01-11       8442.6   -1.87625870        2.619771         1.275901\n",
              "2000-01-12       8360.0   -0.98318446        2.717546         1.706945\n",
              "           GSPTSE.VolGJRGARCH GSPTSE.VolRealGARCH GSPTSE.VolRealEGARCH\n",
              "2000-01-05           1.277360            1.277624             1.277624\n",
              "2000-01-06           1.317148            1.305310             1.311710\n",
              "2000-01-07           1.200654            1.288874             1.451278\n",
              "2000-01-10           1.399601            1.159576             1.296245\n",
              "2000-01-11           1.360136            2.492904             1.360220\n",
              "2000-01-12           1.749434            2.653924             1.310218\n",
              "           GSPTSE.VolRealGJRGARCH GSPTSE.VolMSGARCH\n",
              "2000-01-05               1.277624         1.1183481\n",
              "2000-01-06               1.294355         1.0256656\n",
              "2000-01-07               1.333953         0.9133555\n",
              "2000-01-10               1.217954         1.4325171\n",
              "2000-01-11               1.415946         1.5335781\n",
              "2000-01-12               1.376713         1.5512332"
            ]
          },
          "metadata": {
            "tags": []
          }
        }
      ]
    },
    {
      "cell_type": "markdown",
      "metadata": {
        "id": "jDyeAzbaUZGK"
      },
      "source": [
        "**MS EGARCH**"
      ],
      "id": "jDyeAzbaUZGK"
    },
    {
      "cell_type": "code",
      "metadata": {
        "id": "OJ_1-NOIUduu"
      },
      "source": [
        "# Specification\n",
        "msegarch.spec <- CreateSpec(variance.spec = list(model = c(\"eGARCH\")),\n",
        "                            distribution.spec = list(distribution = c(\"snorm\")),\n",
        "                            switch.spec = list(K = 2))"
      ],
      "id": "OJ_1-NOIUduu",
      "execution_count": 53,
      "outputs": []
    },
    {
      "cell_type": "code",
      "metadata": {
        "id": "QZBzDVNzUgcq",
        "colab": {
          "base_uri": "https://localhost:8080/"
        },
        "outputId": "070c1f86-47ea-4090-a865-12840410b5d9"
      },
      "source": [
        "# Estimation\n",
        "msegarch.fit <- FitML(msegarch.spec, data = GSPTSE.df$GSPTSE.Return)    \n",
        "summary(msegarch.fit)"
      ],
      "id": "QZBzDVNzUgcq",
      "execution_count": 54,
      "outputs": [
        {
          "output_type": "stream",
          "text": [
            "Specification type: Markov-switching\n",
            "Specification name: eGARCH_snorm eGARCH_snorm\n",
            "Number of parameters in each variance model: 4 4\n",
            "Number of parameters in each distribution: 1 1\n",
            "------------------------------------------\n",
            "Fixed parameters:\n",
            "None\n",
            "------------------------------------------\n",
            "Across regime constrained parameters:\n",
            "None\n",
            "------------------------------------------\n",
            "Fitted parameters:\n",
            "         Estimate Std. Error  t value  Pr(>|t|)\n",
            "alpha0_1  -0.0123     0.0029  -4.2674 9.890e-06\n",
            "alpha1_1   0.0890     0.0130   6.8243 4.417e-12\n",
            "alpha2_1  -0.1143     0.0104 -11.0387    <1e-16\n",
            "beta_1     0.9828     0.0027 367.3951    <1e-16\n",
            "xi_1       0.7674     0.0209  36.7688    <1e-16\n",
            "alpha0_2   0.0297     0.0063   4.6768 1.457e-06\n",
            "alpha1_2   0.0862     0.0225   3.8278 6.464e-05\n",
            "alpha2_2  -0.1678     0.0267  -6.2855 1.634e-10\n",
            "beta_2     0.9804     0.0038 254.9361    <1e-16\n",
            "xi_2       0.7478     0.0395  18.9436    <1e-16\n",
            "P_1_1      0.9879     0.0216  45.8115    <1e-16\n",
            "P_2_1      0.0528     0.0047  11.3266    <1e-16\n",
            "------------------------------------------\n",
            "Transition matrix:\n",
            "      t+1|k=1 t+1|k=2\n",
            "t|k=1  0.9879  0.0121\n",
            "t|k=2  0.0528  0.9472\n",
            "------------------------------------------\n",
            "Stable probabilities:\n",
            "State 1 State 2 \n",
            " 0.8132  0.1868 \n",
            "------------------------------------------\n",
            "LL: -6485.5822\n",
            "AIC: 12995.1643\n",
            "BIC: 13074.243\n",
            "------------------------------------------\n"
          ],
          "name": "stdout"
        }
      ]
    },
    {
      "cell_type": "code",
      "metadata": {
        "id": "RTicDPi3U_ux",
        "colab": {
          "base_uri": "https://localhost:8080/",
          "height": 391
        },
        "outputId": "38e62a39-7991-4e65-e433-3e6a120c4cb8"
      },
      "source": [
        "# Extracting variance series from the MS EGARCH model\n",
        "var.msegarch <- ts(Volatility(msegarch.fit))\n",
        "head(var.msegarch)\n",
        "\n",
        "GSPTSE.df$GSPTSE.VolMSEGARCH <- as.numeric(var.msegarch)\n",
        "head(GSPTSE.df)"
      ],
      "id": "RTicDPi3U_ux",
      "execution_count": 55,
      "outputs": [
        {
          "output_type": "display_data",
          "data": {
            "text/plain": [
              "      t=1       t=2       t=3       t=4       t=5       t=6 \n",
              "1.1170588 1.1806587 0.9516159 1.8626318 1.7263424 1.9122403 "
            ],
            "text/latex": "\\begin{description*}\n\\item[t=1] 1.11705879119718\n\\item[t=2] 1.18065867226853\n\\item[t=3] 0.951615852420773\n\\item[t=4] 1.8626318312321\n\\item[t=5] 1.72634238342562\n\\item[t=6] 1.91224027435941\n\\end{description*}\n",
            "text/markdown": "t=1\n:   1.11705879119718t=2\n:   1.18065867226853t=3\n:   0.951615852420773t=4\n:   1.8626318312321t=5\n:   1.72634238342562t=6\n:   1.91224027435941\n\n",
            "text/html": [
              "<style>\n",
              ".dl-inline {width: auto; margin:0; padding: 0}\n",
              ".dl-inline>dt, .dl-inline>dd {float: none; width: auto; display: inline-block}\n",
              ".dl-inline>dt::after {content: \":\\0020\"; padding-right: .5ex}\n",
              ".dl-inline>dt:not(:first-of-type) {padding-left: .5ex}\n",
              "</style><dl class=dl-inline><dt>t=1</dt><dd>1.11705879119718</dd><dt>t=2</dt><dd>1.18065867226853</dd><dt>t=3</dt><dd>0.951615852420773</dd><dt>t=4</dt><dd>1.8626318312321</dd><dt>t=5</dt><dd>1.72634238342562</dd><dt>t=6</dt><dd>1.91224027435941</dd></dl>\n"
            ]
          },
          "metadata": {
            "tags": []
          }
        },
        {
          "output_type": "display_data",
          "data": {
            "text/plain": [
              "           GSPTSE.Close GSPTSE.Return GSPTSE.VolGARCH GSPTSE.VolEGARCH\n",
              "2000-01-05       8119.4   -1.01948818        1.277901         1.277354\n",
              "2000-01-06       8114.2   -0.06406105        1.261229         1.413267\n",
              "2000-01-07       8429.4    3.81100042        1.132384         1.262294\n",
              "2000-01-10       8602.5    2.03272172        2.475375         1.324593\n",
              "2000-01-11       8442.6   -1.87625870        2.619771         1.275901\n",
              "2000-01-12       8360.0   -0.98318446        2.717546         1.706945\n",
              "           GSPTSE.VolGJRGARCH GSPTSE.VolRealGARCH GSPTSE.VolRealEGARCH\n",
              "2000-01-05           1.277360            1.277624             1.277624\n",
              "2000-01-06           1.317148            1.305310             1.311710\n",
              "2000-01-07           1.200654            1.288874             1.451278\n",
              "2000-01-10           1.399601            1.159576             1.296245\n",
              "2000-01-11           1.360136            2.492904             1.360220\n",
              "2000-01-12           1.749434            2.653924             1.310218\n",
              "           GSPTSE.VolRealGJRGARCH GSPTSE.VolMSGARCH GSPTSE.VolMSEGARCH\n",
              "2000-01-05               1.277624         1.1183481          1.1170588\n",
              "2000-01-06               1.294355         1.0256656          1.1806587\n",
              "2000-01-07               1.333953         0.9133555          0.9516159\n",
              "2000-01-10               1.217954         1.4325171          1.8626318\n",
              "2000-01-11               1.415946         1.5335781          1.7263424\n",
              "2000-01-12               1.376713         1.5512332          1.9122403"
            ]
          },
          "metadata": {
            "tags": []
          }
        }
      ]
    },
    {
      "cell_type": "markdown",
      "metadata": {
        "id": "lA_6nowOVjc3"
      },
      "source": [
        "**MS GJR-GARCH**"
      ],
      "id": "lA_6nowOVjc3"
    },
    {
      "cell_type": "code",
      "metadata": {
        "id": "hnpt-SDyVmC3"
      },
      "source": [
        "# Specification\n",
        "msgjrgarch.spec <- CreateSpec(variance.spec = list(model = c(\"gjrGARCH\")),\n",
        "                              distribution.spec = list(distribution = c(\"snorm\")),\n",
        "                              switch.spec = list(K = 2))"
      ],
      "id": "hnpt-SDyVmC3",
      "execution_count": 56,
      "outputs": []
    },
    {
      "cell_type": "code",
      "metadata": {
        "id": "KkskZPFCVoPK",
        "colab": {
          "base_uri": "https://localhost:8080/"
        },
        "outputId": "2159b948-535e-4b9d-f8e1-16c78aa39364"
      },
      "source": [
        "# Estimation\n",
        "msgjrgarch.fit <- FitML(msgjrgarch.spec, data = GSPTSE.df$GSPTSE.Return)    \n",
        "summary(msgjrgarch.fit)"
      ],
      "id": "KkskZPFCVoPK",
      "execution_count": 57,
      "outputs": [
        {
          "output_type": "stream",
          "text": [
            "Specification type: Markov-switching\n",
            "Specification name: gjrGARCH_snorm gjrGARCH_snorm\n",
            "Number of parameters in each variance model: 4 4\n",
            "Number of parameters in each distribution: 1 1\n",
            "------------------------------------------\n",
            "Fixed parameters:\n",
            "None\n",
            "------------------------------------------\n",
            "Across regime constrained parameters:\n",
            "None\n",
            "------------------------------------------\n",
            "Fitted parameters:\n",
            "         Estimate Std. Error   t value  Pr(>|t|)\n",
            "alpha0_1   0.0290     0.0073    3.9922 3.273e-05\n",
            "alpha1_1   0.0000     0.0003    0.0731 4.708e-01\n",
            "alpha2_1   0.1147     0.0292    3.9228 4.376e-05\n",
            "beta_1     0.9005     0.0116   77.4223    <1e-16\n",
            "xi_1       0.8159     0.0260   31.4395    <1e-16\n",
            "alpha0_2   0.0069     0.0017    4.1421 1.721e-05\n",
            "alpha1_2   0.0042     0.0117    0.3579 3.602e-01\n",
            "alpha2_2   0.1532     0.0264    5.8127 3.074e-09\n",
            "beta_2     0.9080     0.0024  379.9077    <1e-16\n",
            "xi_2       0.7283     0.0198   36.8523    <1e-16\n",
            "P_1_1      0.9987     0.0008 1271.0286    <1e-16\n",
            "P_2_1      0.0012     0.0009    1.2618 1.035e-01\n",
            "------------------------------------------\n",
            "Transition matrix:\n",
            "      t+1|k=1 t+1|k=2\n",
            "t|k=1  0.9987  0.0013\n",
            "t|k=2  0.0012  0.9988\n",
            "------------------------------------------\n",
            "Stable probabilities:\n",
            "State 1 State 2 \n",
            " 0.4699  0.5301 \n",
            "------------------------------------------\n",
            "LL: -6498.9636\n",
            "AIC: 13021.9272\n",
            "BIC: 13101.0058\n",
            "------------------------------------------\n"
          ],
          "name": "stdout"
        }
      ]
    },
    {
      "cell_type": "code",
      "metadata": {
        "id": "ixZcmHkiWKXi",
        "colab": {
          "base_uri": "https://localhost:8080/",
          "height": 510
        },
        "outputId": "8d6f2254-9a97-4124-a442-5bd75334d678"
      },
      "source": [
        "# Extracting variance series from the MS GJR-GARCH model\n",
        "var.msgjrgarch <- ts(Volatility(msgjrgarch.fit))\n",
        "head(var.msgjrgarch)\n",
        "\n",
        "GSPTSE.df$GSPTSE.VolMSGJRGARCH <- as.numeric(var.msgjrgarch)\n",
        "head(GSPTSE.df)"
      ],
      "id": "ixZcmHkiWKXi",
      "execution_count": 58,
      "outputs": [
        {
          "output_type": "display_data",
          "data": {
            "text/plain": [
              "     t=1      t=2      t=3      t=4      t=5      t=6 \n",
              "1.951395 1.901329 1.479283 2.251500 2.151084 2.181982 "
            ],
            "text/latex": "\\begin{description*}\n\\item[t=1] 1.95139516696475\n\\item[t=2] 1.90132868114077\n\\item[t=3] 1.47928274831501\n\\item[t=4] 2.25150000289383\n\\item[t=5] 2.15108444675617\n\\item[t=6] 2.18198168543432\n\\end{description*}\n",
            "text/markdown": "t=1\n:   1.95139516696475t=2\n:   1.90132868114077t=3\n:   1.47928274831501t=4\n:   2.25150000289383t=5\n:   2.15108444675617t=6\n:   2.18198168543432\n\n",
            "text/html": [
              "<style>\n",
              ".dl-inline {width: auto; margin:0; padding: 0}\n",
              ".dl-inline>dt, .dl-inline>dd {float: none; width: auto; display: inline-block}\n",
              ".dl-inline>dt::after {content: \":\\0020\"; padding-right: .5ex}\n",
              ".dl-inline>dt:not(:first-of-type) {padding-left: .5ex}\n",
              "</style><dl class=dl-inline><dt>t=1</dt><dd>1.95139516696475</dd><dt>t=2</dt><dd>1.90132868114077</dd><dt>t=3</dt><dd>1.47928274831501</dd><dt>t=4</dt><dd>2.25150000289383</dd><dt>t=5</dt><dd>2.15108444675617</dd><dt>t=6</dt><dd>2.18198168543432</dd></dl>\n"
            ]
          },
          "metadata": {
            "tags": []
          }
        },
        {
          "output_type": "display_data",
          "data": {
            "text/plain": [
              "           GSPTSE.Close GSPTSE.Return GSPTSE.VolGARCH GSPTSE.VolEGARCH\n",
              "2000-01-05       8119.4   -1.01948818        1.277901         1.277354\n",
              "2000-01-06       8114.2   -0.06406105        1.261229         1.413267\n",
              "2000-01-07       8429.4    3.81100042        1.132384         1.262294\n",
              "2000-01-10       8602.5    2.03272172        2.475375         1.324593\n",
              "2000-01-11       8442.6   -1.87625870        2.619771         1.275901\n",
              "2000-01-12       8360.0   -0.98318446        2.717546         1.706945\n",
              "           GSPTSE.VolGJRGARCH GSPTSE.VolRealGARCH GSPTSE.VolRealEGARCH\n",
              "2000-01-05           1.277360            1.277624             1.277624\n",
              "2000-01-06           1.317148            1.305310             1.311710\n",
              "2000-01-07           1.200654            1.288874             1.451278\n",
              "2000-01-10           1.399601            1.159576             1.296245\n",
              "2000-01-11           1.360136            2.492904             1.360220\n",
              "2000-01-12           1.749434            2.653924             1.310218\n",
              "           GSPTSE.VolRealGJRGARCH GSPTSE.VolMSGARCH GSPTSE.VolMSEGARCH\n",
              "2000-01-05               1.277624         1.1183481          1.1170588\n",
              "2000-01-06               1.294355         1.0256656          1.1806587\n",
              "2000-01-07               1.333953         0.9133555          0.9516159\n",
              "2000-01-10               1.217954         1.4325171          1.8626318\n",
              "2000-01-11               1.415946         1.5335781          1.7263424\n",
              "2000-01-12               1.376713         1.5512332          1.9122403\n",
              "           GSPTSE.VolMSGJRGARCH\n",
              "2000-01-05             1.951395\n",
              "2000-01-06             1.901329\n",
              "2000-01-07             1.479283\n",
              "2000-01-10             2.251500\n",
              "2000-01-11             2.151084\n",
              "2000-01-12             2.181982"
            ]
          },
          "metadata": {
            "tags": []
          }
        }
      ]
    },
    {
      "cell_type": "markdown",
      "metadata": {
        "id": "P34LgaLxXaiv"
      },
      "source": [
        "## 9. Sample split: in-sample (70%) and out-sample (30%)"
      ],
      "id": "P34LgaLxXaiv"
    },
    {
      "cell_type": "code",
      "metadata": {
        "id": "oEXlnm7ZXl3S",
        "colab": {
          "base_uri": "https://localhost:8080/",
          "height": 34
        },
        "outputId": "ab87ba84-9878-45bd-d5b6-72f5381ddf61"
      },
      "source": [
        "# Total number of lines \n",
        "nrow(GSPTSE.df)                "
      ],
      "id": "oEXlnm7ZXl3S",
      "execution_count": 59,
      "outputs": [
        {
          "output_type": "display_data",
          "data": {
            "text/plain": [
              "[1] 5377"
            ],
            "text/latex": "5377",
            "text/markdown": "5377",
            "text/html": [
              "5377"
            ]
          },
          "metadata": {
            "tags": []
          }
        }
      ]
    },
    {
      "cell_type": "code",
      "metadata": {
        "id": "yBa5ZL9QXw0J",
        "colab": {
          "base_uri": "https://localhost:8080/",
          "height": 34
        },
        "outputId": "2509ecf9-5560-4f9c-aab0-66bb927c7bc3"
      },
      "source": [
        "# Cut-line\n",
        "round(nrow(GSPTSE.df)*0.7, digits = 0)"
      ],
      "id": "yBa5ZL9QXw0J",
      "execution_count": 60,
      "outputs": [
        {
          "output_type": "display_data",
          "data": {
            "text/plain": [
              "[1] 3764"
            ],
            "text/latex": "3764",
            "text/markdown": "3764",
            "text/html": [
              "3764"
            ]
          },
          "metadata": {
            "tags": []
          }
        }
      ]
    },
    {
      "cell_type": "code",
      "metadata": {
        "id": "dlcRWLpoXzN_",
        "colab": {
          "base_uri": "https://localhost:8080/",
          "height": 34
        },
        "outputId": "d1a2ad34-c5ae-4de0-d9a9-45e0f5421111"
      },
      "source": [
        "# In-sample\n",
        "GSPTSE.df.in <- GSPTSE.df[1:round(nrow(GSPTSE.df)*0.7, digits = 0),]\n",
        "dim(GSPTSE.df.in)"
      ],
      "id": "dlcRWLpoXzN_",
      "execution_count": 61,
      "outputs": [
        {
          "output_type": "display_data",
          "data": {
            "text/plain": [
              "[1] 3764   11"
            ],
            "text/latex": "\\begin{enumerate*}\n\\item 3764\n\\item 11\n\\end{enumerate*}\n",
            "text/markdown": "1. 3764\n2. 11\n\n\n",
            "text/html": [
              "<style>\n",
              ".list-inline {list-style: none; margin:0; padding: 0}\n",
              ".list-inline>li {display: inline-block}\n",
              ".list-inline>li:not(:last-child)::after {content: \"\\00b7\"; padding: 0 .5ex}\n",
              "</style>\n",
              "<ol class=list-inline><li>3764</li><li>11</li></ol>\n"
            ]
          },
          "metadata": {
            "tags": []
          }
        }
      ]
    },
    {
      "cell_type": "code",
      "metadata": {
        "id": "ZaKAIY7iX2SE",
        "colab": {
          "base_uri": "https://localhost:8080/",
          "height": 34
        },
        "outputId": "0ce02c0d-f26c-4593-d987-21a832e9db17"
      },
      "source": [
        "# Out-sample\n",
        "GSPTSE.df.out <- GSPTSE.df[(round(nrow(GSPTSE.df)*0.7, digits = 0)+1):nrow(GSPTSE.df),]\n",
        "dim(GSPTSE.df.out)"
      ],
      "id": "ZaKAIY7iX2SE",
      "execution_count": 62,
      "outputs": [
        {
          "output_type": "display_data",
          "data": {
            "text/plain": [
              "[1] 1613   11"
            ],
            "text/latex": "\\begin{enumerate*}\n\\item 1613\n\\item 11\n\\end{enumerate*}\n",
            "text/markdown": "1. 1613\n2. 11\n\n\n",
            "text/html": [
              "<style>\n",
              ".list-inline {list-style: none; margin:0; padding: 0}\n",
              ".list-inline>li {display: inline-block}\n",
              ".list-inline>li:not(:last-child)::after {content: \"\\00b7\"; padding: 0 .5ex}\n",
              "</style>\n",
              "<ol class=list-inline><li>1613</li><li>11</li></ol>\n"
            ]
          },
          "metadata": {
            "tags": []
          }
        }
      ]
    },
    {
      "cell_type": "markdown",
      "metadata": {
        "id": "Ae_49vbJJAY1"
      },
      "source": [
        "# 10. Forecast - GARCH models"
      ],
      "id": "Ae_49vbJJAY1"
    },
    {
      "cell_type": "code",
      "metadata": {
        "id": "-eJ97HPPJEH5",
        "colab": {
          "base_uri": "https://localhost:8080/"
        },
        "outputId": "622ddd42-9237-4c6a-a503-fb79a3584e4e"
      },
      "source": [
        "# Packages\n",
        "install.packages('Metrics')\n",
        "install.packages('MLmetrics')\n",
        "install.packages('multDM')\n",
        "install.packages('MCS')\n",
        "install.packages('sandwich')\n",
        "install.packages('lmtest')\n",
        "install.packages('forecast')\n",
        "\n",
        "library(Metrics)\n",
        "library(MLmetrics)\n",
        "library(multDM)\n",
        "library(MCS)\n",
        "library(sandwich)\n",
        "library(lmtest)\n",
        "library(forecast)"
      ],
      "id": "-eJ97HPPJEH5",
      "execution_count": 63,
      "outputs": [
        {
          "output_type": "stream",
          "text": [
            "Installing package into ‘/usr/local/lib/R/site-library’\n",
            "(as ‘lib’ is unspecified)\n",
            "\n",
            "Installing package into ‘/usr/local/lib/R/site-library’\n",
            "(as ‘lib’ is unspecified)\n",
            "\n",
            "also installing the dependencies ‘bitops’, ‘gtools’, ‘caTools’, ‘gplots’, ‘ROCR’\n",
            "\n",
            "\n",
            "Installing package into ‘/usr/local/lib/R/site-library’\n",
            "(as ‘lib’ is unspecified)\n",
            "\n",
            "also installing the dependencies ‘timeSeries’, ‘fastICA’, ‘gss’, ‘stabledist’, ‘fGarch’, ‘fBasics’, ‘MTS’\n",
            "\n",
            "\n",
            "Installing package into ‘/usr/local/lib/R/site-library’\n",
            "(as ‘lib’ is unspecified)\n",
            "\n",
            "Installing package into ‘/usr/local/lib/R/site-library’\n",
            "(as ‘lib’ is unspecified)\n",
            "\n",
            "Installing package into ‘/usr/local/lib/R/site-library’\n",
            "(as ‘lib’ is unspecified)\n",
            "\n",
            "Installing package into ‘/usr/local/lib/R/site-library’\n",
            "(as ‘lib’ is unspecified)\n",
            "\n",
            "\n",
            "Attaching package: ‘MLmetrics’\n",
            "\n",
            "\n",
            "The following object is masked from ‘package:base’:\n",
            "\n",
            "    Recall\n",
            "\n",
            "\n",
            "Registered S3 methods overwritten by 'forecast':\n",
            "  method       from\n",
            "  fitted.Arima TSA \n",
            "  plot.Arima   TSA \n",
            "\n",
            "\n",
            "Attaching package: ‘forecast’\n",
            "\n",
            "\n",
            "The following object is masked from ‘package:Metrics’:\n",
            "\n",
            "    accuracy\n",
            "\n",
            "\n",
            "The following object is masked from ‘package:FinTS’:\n",
            "\n",
            "    Acf\n",
            "\n",
            "\n",
            "The following object is masked from ‘package:aTSA’:\n",
            "\n",
            "    forecast\n",
            "\n",
            "\n"
          ],
          "name": "stderr"
        }
      ]
    },
    {
      "cell_type": "markdown",
      "metadata": {
        "id": "eDF61ZNDK7-L"
      },
      "source": [
        "## (a) Linear GARCH"
      ],
      "id": "eDF61ZNDK7-L"
    },
    {
      "cell_type": "markdown",
      "metadata": {
        "id": "zQvg4fhykI3G"
      },
      "source": [
        "**Forecast**"
      ],
      "id": "zQvg4fhykI3G"
    },
    {
      "cell_type": "code",
      "metadata": {
        "id": "4kWDFtEyQj8x"
      },
      "source": [
        "# Model specification\n",
        "garch.spec.pred <- garch.spec\n",
        "setfixed(garch.spec.pred) <- as.list(coef(garch.fit))"
      ],
      "id": "4kWDFtEyQj8x",
      "execution_count": 64,
      "outputs": []
    },
    {
      "cell_type": "code",
      "metadata": {
        "id": "LJ35908xRCpF"
      },
      "source": [
        "# Model adjustment\n",
        "garch.fit.pred <- ugarchfit(garch.spec,\n",
        "                            GSPTSE.df$GSPTSE.Return,\n",
        "                            out.sample = dim(GSPTSE.df.out)[1])"
      ],
      "id": "LJ35908xRCpF",
      "execution_count": 65,
      "outputs": []
    },
    {
      "cell_type": "code",
      "metadata": {
        "id": "Q6VYCPYGSISr"
      },
      "source": [
        "# Forecast calculated through adjustment\n",
        "garch.pred.a <- ugarchforecast(garch.fit.pred,\n",
        "                               n.ahead = 1,\n",
        "                               n.roll = dim(GSPTSE.df.out)[1])\n",
        "\n",
        "garch.forecast.a <- xts(sigma(garch.pred.a)[1,],\n",
        "                       move(as.Date(names(sigma(garch.pred.a)[1,])), by = 1))"
      ],
      "id": "Q6VYCPYGSISr",
      "execution_count": 66,
      "outputs": []
    },
    {
      "cell_type": "code",
      "metadata": {
        "id": "E5KGemi8gXh2"
      },
      "source": [
        "# Forecast calculated using specification\n",
        "garch.pred.b <- ugarchforecast(garch.spec.pred,\n",
        "                               n.ahead = 1,\n",
        "                               n.roll = dim(GSPTSE.df.out)[1],\n",
        "                               data = GSPTSE.df$GSPTSE.Return,\n",
        "                               out.sample = dim(GSPTSE.df.out)[1])\n",
        "\n",
        "garch.forecast.b <- xts(sigma(garch.pred.b)[1,],\n",
        "                        move(as.Date(names(sigma(garch.pred.b)[1,])), by = 1))  "
      ],
      "id": "E5KGemi8gXh2",
      "execution_count": 67,
      "outputs": []
    },
    {
      "cell_type": "code",
      "metadata": {
        "id": "Yg9KKURbgy7R"
      },
      "source": [
        "# Model filtering\n",
        "garch.filt.pred <- ugarchfilter(garch.spec.pred,\n",
        "                                data = GSPTSE.df$GSPTSE.Return,\n",
        "                                n.old = nrow(GSPTSE.df) - dim(GSPTSE.df.out)[1])\n",
        "\n",
        "garch.filt <- tail(sigma(garch.filt.pred), dim(GSPTSE.df.out)[1])                                 "
      ],
      "id": "Yg9KKURbgy7R",
      "execution_count": 68,
      "outputs": []
    },
    {
      "cell_type": "code",
      "metadata": {
        "id": "9p-8qghPVjR8",
        "colab": {
          "base_uri": "https://localhost:8080/",
          "height": 136
        },
        "outputId": "e1b7da3c-878f-4437-a3f3-2a96be19342d"
      },
      "source": [
        "# Comparative\n",
        "colnames(garch.filt) <- 'filter'\n",
        "colnames(garch.forecast.a) <- 'forecast1'\n",
        "colnames(garch.forecast.b) <- 'forecast2'\n",
        "\n",
        "garch.ftest <- cbind(garch.filt,\n",
        "                    garch.forecast.a,\n",
        "                    garch.forecast.b)\n",
        "head(round(garch.ftest, digits = 4))"
      ],
      "id": "9p-8qghPVjR8",
      "execution_count": 69,
      "outputs": [
        {
          "output_type": "display_data",
          "data": {
            "text/plain": [
              "           filter forecast1 forecast2\n",
              "2014-12-23 1.1867    1.1484    1.1867\n",
              "2014-12-24 1.1749    1.1417    1.1749\n",
              "2014-12-29 1.1126    1.0967    1.1126\n",
              "2014-12-30 1.0592    1.0575    1.0592\n",
              "2014-12-31 1.0057    1.0179    1.0057\n",
              "2015-01-02 0.9538    0.9788    0.9538"
            ]
          },
          "metadata": {
            "tags": []
          }
        }
      ]
    },
    {
      "cell_type": "code",
      "metadata": {
        "id": "XvWtLYxOK7cE",
        "colab": {
          "base_uri": "https://localhost:8080/",
          "height": 252
        },
        "outputId": "d7ef5ec3-edcd-4db2-afe6-f61a47be6887"
      },
      "source": [
        "sigma.garch.pred.a <- ts(garch.forecast.a[-1,])\n",
        "sigma.garch.pred.b <- ts(garch.forecast.b[-1,])\n",
        "sigma.garch.true <- ts(GSPTSE.df.out$GSPTSE.VolGARCH)\n",
        "\n",
        "sigma.garch <- na.omit(cbind(sigma.garch.pred.a, \n",
        "                            sigma.garch.pred.b,\n",
        "                            sigma.garch.true))\n",
        "head(sigma.garch)"
      ],
      "id": "XvWtLYxOK7cE",
      "execution_count": 70,
      "outputs": [
        {
          "output_type": "display_data",
          "data": {
            "text/plain": [
              "  sigma.garch.pred.a sigma.garch.pred.b sigma.garch.true\n",
              "1 1.1417401          1.1749362          1.4083002       \n",
              "2 1.0967059          1.1126044          1.3804751       \n",
              "3 1.0575472          1.0591901          1.2378886       \n",
              "4 1.0178842          1.0056969          1.1218837       \n",
              "5 0.9788430          0.9537881          1.0114263       \n",
              "6 0.9657027          0.9389404          0.9097118       "
            ],
            "text/latex": "A Time Series: 6 × 3\n\\begin{tabular}{r|lll}\n  & sigma.garch.pred.a & sigma.garch.pred.b & sigma.garch.true\\\\\n\\hline\n\t1 & 1.1417401 & 1.1749362 & 1.4083002\\\\\n\t2 & 1.0967059 & 1.1126044 & 1.3804751\\\\\n\t3 & 1.0575472 & 1.0591901 & 1.2378886\\\\\n\t4 & 1.0178842 & 1.0056969 & 1.1218837\\\\\n\t5 & 0.9788430 & 0.9537881 & 1.0114263\\\\\n\t6 & 0.9657027 & 0.9389404 & 0.9097118\\\\\n\\end{tabular}\n",
            "text/markdown": "\nA Time Series: 6 × 3\n\n| <!--/--> | sigma.garch.pred.a | sigma.garch.pred.b | sigma.garch.true |\n|---|---|---|---|\n| 1 | 1.1417401 | 1.1749362 | 1.4083002 |\n| 2 | 1.0967059 | 1.1126044 | 1.3804751 |\n| 3 | 1.0575472 | 1.0591901 | 1.2378886 |\n| 4 | 1.0178842 | 1.0056969 | 1.1218837 |\n| 5 | 0.9788430 | 0.9537881 | 1.0114263 |\n| 6 | 0.9657027 | 0.9389404 | 0.9097118 |\n\n",
            "text/html": [
              "<table class=\"dataframe\">\n",
              "<caption>A Time Series: 6 × 3</caption>\n",
              "<thead>\n",
              "\t<tr><th></th><th scope=col>sigma.garch.pred.a</th><th scope=col>sigma.garch.pred.b</th><th scope=col>sigma.garch.true</th></tr>\n",
              "</thead>\n",
              "<tbody>\n",
              "\t<tr><th scope=row>1</th><td>1.1417401</td><td>1.1749362</td><td>1.4083002</td></tr>\n",
              "\t<tr><th scope=row>2</th><td>1.0967059</td><td>1.1126044</td><td>1.3804751</td></tr>\n",
              "\t<tr><th scope=row>3</th><td>1.0575472</td><td>1.0591901</td><td>1.2378886</td></tr>\n",
              "\t<tr><th scope=row>4</th><td>1.0178842</td><td>1.0056969</td><td>1.1218837</td></tr>\n",
              "\t<tr><th scope=row>5</th><td>0.9788430</td><td>0.9537881</td><td>1.0114263</td></tr>\n",
              "\t<tr><th scope=row>6</th><td>0.9657027</td><td>0.9389404</td><td>0.9097118</td></tr>\n",
              "</tbody>\n",
              "</table>\n"
            ]
          },
          "metadata": {
            "tags": []
          }
        }
      ]
    },
    {
      "cell_type": "markdown",
      "metadata": {
        "id": "mSx7eTn3kPct"
      },
      "source": [
        "**Performance evaluation**"
      ],
      "id": "mSx7eTn3kPct"
    },
    {
      "cell_type": "code",
      "metadata": {
        "id": "U_o8n_8ckYWr",
        "colab": {
          "base_uri": "https://localhost:8080/",
          "height": 51
        },
        "outputId": "17b679a0-d3b7-44db-fcf8-0508c0350548"
      },
      "source": [
        "# Forecast Error - Forecast a\n",
        "garch.error.a <- sigma.garch[,'sigma.garch.pred.a'] - sigma.garch[,'sigma.garch.true']\n",
        "head(garch.error.a)"
      ],
      "id": "U_o8n_8ckYWr",
      "execution_count": 71,
      "outputs": [
        {
          "output_type": "display_data",
          "data": {
            "text/plain": [
              "A Time Series:\n",
              "[1] -0.26656014 -0.28376914 -0.18034135 -0.10399944 -0.03258330  0.05599086"
            ],
            "text/latex": "A Time Series:\\\\\\begin{enumerate*}\n\\item -0.266560143348273\n\\item -0.283769137164205\n\\item -0.180341349075441\n\\item -0.103999443893464\n\\item -0.0325832983763162\n\\item 0.0559908599986678\n\\end{enumerate*}\n",
            "text/markdown": "A Time Series:  \n1. -0.266560143348273\n2. -0.283769137164205\n3. -0.180341349075441\n4. -0.103999443893464\n5. -0.0325832983763162\n6. 0.0559908599986678\n\n\n",
            "text/html": [
              "A Time Series:<br><style>\n",
              ".list-inline {list-style: none; margin:0; padding: 0}\n",
              ".list-inline>li {display: inline-block}\n",
              ".list-inline>li:not(:last-child)::after {content: \"\\00b7\"; padding: 0 .5ex}\n",
              "</style>\n",
              "<ol class=list-inline><li>-0.266560143348273</li><li>-0.283769137164205</li><li>-0.180341349075441</li><li>-0.103999443893464</li><li>-0.0325832983763162</li><li>0.0559908599986678</li></ol>\n"
            ]
          },
          "metadata": {
            "tags": []
          }
        }
      ]
    },
    {
      "cell_type": "code",
      "metadata": {
        "id": "hrJcPxcLlIy3",
        "colab": {
          "base_uri": "https://localhost:8080/",
          "height": 51
        },
        "outputId": "6be9e01e-3efa-4490-b906-85c6757c7ac0"
      },
      "source": [
        "# Forecast Error - Forecast b\n",
        "garch.error.b <- sigma.garch[,'sigma.garch.pred.b'] - sigma.garch[,'sigma.garch.true']\n",
        "head(garch.error.b)"
      ],
      "id": "hrJcPxcLlIy3",
      "execution_count": 72,
      "outputs": [
        {
          "output_type": "display_data",
          "data": {
            "text/plain": [
              "A Time Series:\n",
              "[1] -0.23336403 -0.26787064 -0.17869848 -0.11618671 -0.05763821  0.02922863"
            ],
            "text/latex": "A Time Series:\\\\\\begin{enumerate*}\n\\item -0.233364025043893\n\\item -0.267870639402328\n\\item -0.178698484647427\n\\item -0.116186710668793\n\\item -0.0576382129640025\n\\item 0.0292286339208605\n\\end{enumerate*}\n",
            "text/markdown": "A Time Series:  \n1. -0.233364025043893\n2. -0.267870639402328\n3. -0.178698484647427\n4. -0.116186710668793\n5. -0.0576382129640025\n6. 0.0292286339208605\n\n\n",
            "text/html": [
              "A Time Series:<br><style>\n",
              ".list-inline {list-style: none; margin:0; padding: 0}\n",
              ".list-inline>li {display: inline-block}\n",
              ".list-inline>li:not(:last-child)::after {content: \"\\00b7\"; padding: 0 .5ex}\n",
              "</style>\n",
              "<ol class=list-inline><li>-0.233364025043893</li><li>-0.267870639402328</li><li>-0.178698484647427</li><li>-0.116186710668793</li><li>-0.0576382129640025</li><li>0.0292286339208605</li></ol>\n"
            ]
          },
          "metadata": {
            "tags": []
          }
        }
      ]
    },
    {
      "cell_type": "code",
      "metadata": {
        "id": "vVvmYhWSK6Jx",
        "colab": {
          "base_uri": "https://localhost:8080/",
          "height": 34
        },
        "outputId": "6e2bd9c0-4570-4637-ce19-e513db0d7640"
      },
      "source": [
        "# Mean Square Error Loss - Forecast a\n",
        "garch.mse.a <- MSE(sigma.garch[,'sigma.garch.pred.a'], \n",
        "                  sigma.garch[,'sigma.garch.true'])\n",
        "round(garch.mse.a, digits = 3)     "
      ],
      "id": "vVvmYhWSK6Jx",
      "execution_count": 73,
      "outputs": [
        {
          "output_type": "display_data",
          "data": {
            "text/plain": [
              "[1] 10.631"
            ],
            "text/latex": "10.631",
            "text/markdown": "10.631",
            "text/html": [
              "10.631"
            ]
          },
          "metadata": {
            "tags": []
          }
        }
      ]
    },
    {
      "cell_type": "code",
      "metadata": {
        "id": "P64kl9rCllXj",
        "colab": {
          "base_uri": "https://localhost:8080/",
          "height": 34
        },
        "outputId": "ed6cdbd6-bad1-4abd-e2c6-36a2a0b4dd90"
      },
      "source": [
        "# Mean Square Error Loss - Forecast b\n",
        "garch.mse.b <- MSE(sigma.garch[,'sigma.garch.pred.b'],\n",
        "                  sigma.garch[,'sigma.garch.true'])\n",
        "round(garch.mse.b, digits = 3) "
      ],
      "id": "P64kl9rCllXj",
      "execution_count": 74,
      "outputs": [
        {
          "output_type": "display_data",
          "data": {
            "text/plain": [
              "[1] 10.419"
            ],
            "text/latex": "10.419",
            "text/markdown": "10.419",
            "text/html": [
              "10.419"
            ]
          },
          "metadata": {
            "tags": []
          }
        }
      ]
    },
    {
      "cell_type": "code",
      "metadata": {
        "id": "ahWBmWNDLabm",
        "colab": {
          "base_uri": "https://localhost:8080/",
          "height": 34
        },
        "outputId": "488c943a-303e-4259-ac37-8cd5bf409256"
      },
      "source": [
        "# Mean Absolute Error Loss - Forecast a\n",
        "garch.mae.a <- MAE(sigma.garch[,'sigma.garch.pred.a'], \n",
        "                  sigma.garch[,'sigma.garch.true'])\n",
        "round(garch.mae.a, digits = 3)"
      ],
      "id": "ahWBmWNDLabm",
      "execution_count": 75,
      "outputs": [
        {
          "output_type": "display_data",
          "data": {
            "text/plain": [
              "[1] 0.671"
            ],
            "text/latex": "0.671",
            "text/markdown": "0.671",
            "text/html": [
              "0.671"
            ]
          },
          "metadata": {
            "tags": []
          }
        }
      ]
    },
    {
      "cell_type": "code",
      "metadata": {
        "id": "0K7TTaZNl2Y4",
        "colab": {
          "base_uri": "https://localhost:8080/",
          "height": 34
        },
        "outputId": "1fefc13c-9b38-4f96-f0c0-fdcdfd2dbb15"
      },
      "source": [
        "# Mean Absolute Error Loss - Forecast b\n",
        "garch.mae.b <- MAE(sigma.garch[,'sigma.garch.pred.b'], \n",
        "                  sigma.garch[,'sigma.garch.true'])\n",
        "round(garch.mae.b, digits = 3)"
      ],
      "id": "0K7TTaZNl2Y4",
      "execution_count": 76,
      "outputs": [
        {
          "output_type": "display_data",
          "data": {
            "text/plain": [
              "[1] 0.654"
            ],
            "text/latex": "0.654",
            "text/markdown": "0.654",
            "text/html": [
              "0.654"
            ]
          },
          "metadata": {
            "tags": []
          }
        }
      ]
    },
    {
      "cell_type": "code",
      "metadata": {
        "id": "BQXtSoWcLeK6",
        "colab": {
          "base_uri": "https://localhost:8080/",
          "height": 34
        },
        "outputId": "5bc3ecca-0e33-46f8-cb0e-16f9ab06d948"
      },
      "source": [
        "# Root Mean Square Error Loss - Forecast a\n",
        "garch.rmse.a <- RMSE(sigma.garch[,'sigma.garch.pred.a'], \n",
        "                    sigma.garch[,'sigma.garch.true'])\n",
        "round(garch.rmse.a, digits = 3)"
      ],
      "id": "BQXtSoWcLeK6",
      "execution_count": 77,
      "outputs": [
        {
          "output_type": "display_data",
          "data": {
            "text/plain": [
              "[1] 3.26"
            ],
            "text/latex": "3.26",
            "text/markdown": "3.26",
            "text/html": [
              "3.26"
            ]
          },
          "metadata": {
            "tags": []
          }
        }
      ]
    },
    {
      "cell_type": "code",
      "metadata": {
        "id": "hIrzvC1CmNvg",
        "colab": {
          "base_uri": "https://localhost:8080/",
          "height": 34
        },
        "outputId": "8c42e618-add2-4cf4-90b7-c3768a65e848"
      },
      "source": [
        "# Root Mean Square Error Loss - Forecast b\n",
        "garch.rmse.b <- RMSE(sigma.garch[,'sigma.garch.pred.b'], \n",
        "                    sigma.garch[,'sigma.garch.true'])\n",
        "round(garch.rmse.b, digits = 3)"
      ],
      "id": "hIrzvC1CmNvg",
      "execution_count": 78,
      "outputs": [
        {
          "output_type": "display_data",
          "data": {
            "text/plain": [
              "[1] 3.228"
            ],
            "text/latex": "3.228",
            "text/markdown": "3.228",
            "text/html": [
              "3.228"
            ]
          },
          "metadata": {
            "tags": []
          }
        }
      ]
    },
    {
      "cell_type": "code",
      "metadata": {
        "id": "hla4zyfwnSkl",
        "colab": {
          "base_uri": "https://localhost:8080/",
          "height": 34
        },
        "outputId": "c0a15218-afbe-4623-c7aa-c012cd46b4ff"
      },
      "source": [
        "# Quasi-likelihood loss function - forecast a\n",
        "h <- sigma.garch[,'sigma.garch.true']\n",
        "\n",
        "h.hat.a <- sigma.garch[,'sigma.garch.pred.a']     \n",
        "garch.qlike.a <- mean(log(sqrt(h)) + h.hat.a/sqrt(h))\n",
        "round(garch.qlike.a, digits = 5) "
      ],
      "id": "hla4zyfwnSkl",
      "execution_count": 79,
      "outputs": [
        {
          "output_type": "display_data",
          "data": {
            "text/plain": [
              "[1] 0.66638"
            ],
            "text/latex": "0.66638",
            "text/markdown": "0.66638",
            "text/html": [
              "0.66638"
            ]
          },
          "metadata": {
            "tags": []
          }
        }
      ]
    },
    {
      "cell_type": "code",
      "metadata": {
        "id": "V13-JFWyn-r0",
        "colab": {
          "base_uri": "https://localhost:8080/",
          "height": 34
        },
        "outputId": "0a96dc8c-2682-4f81-df9e-d32f67615165"
      },
      "source": [
        "# Quasi-likelihood loss function - forecast b\n",
        "h.hat.b <- sigma.garch[,'sigma.garch.pred.b']\n",
        "garch.qlike.b <- mean(log(sqrt(h)) + h.hat.b/sqrt(h))\n",
        "round(garch.qlike.b, digits = 5)   "
      ],
      "id": "V13-JFWyn-r0",
      "execution_count": 80,
      "outputs": [
        {
          "output_type": "display_data",
          "data": {
            "text/plain": [
              "[1] 0.63206"
            ],
            "text/latex": "0.63206",
            "text/markdown": "0.63206",
            "text/html": [
              "0.63206"
            ]
          },
          "metadata": {
            "tags": []
          }
        }
      ]
    },
    {
      "cell_type": "code",
      "metadata": {
        "id": "kDFbGnTIoLi9",
        "colab": {
          "base_uri": "https://localhost:8080/",
          "height": 119
        },
        "outputId": "ea756ad0-37c2-46a4-a7e2-6071906ed34a"
      },
      "source": [
        "# Diebold-Mariano Test (accuracy test) - test 1\n",
        "f.a <- sigma.garch[,'sigma.garch.pred.a']\n",
        "f.b <- sigma.garch[,'sigma.garch.pred.b']\n",
        "y <- sigma.garch[,'sigma.garch.true']\n",
        "\n",
        "DM.test(f.a, f.b, y, loss.type = \"SE\", c = FALSE, H1 = \"same\")"
      ],
      "id": "kDFbGnTIoLi9",
      "execution_count": 81,
      "outputs": [
        {
          "output_type": "display_data",
          "data": {
            "text/plain": [
              "\n",
              "\tDiebold-Mariano test\n",
              "\n",
              "data:  f.a and f.b and y\n",
              "statistic = 2.9802, forecast horizon = 1, p-value = 0.002881\n",
              "alternative hypothesis: Forecast f1 and f2 have different accuracy.\n"
            ]
          },
          "metadata": {
            "tags": []
          }
        }
      ]
    },
    {
      "cell_type": "code",
      "metadata": {
        "id": "FLLLPUQtoyZS",
        "colab": {
          "base_uri": "https://localhost:8080/",
          "height": 136
        },
        "outputId": "bfed44cb-5616-4a01-cd61-06bac8032b1a"
      },
      "source": [
        "# Diebold-Mariano test for predictive accuracy - test 2\n",
        "e.a <- garch.error.a\n",
        "e.b <- garch.error.b\n",
        "\n",
        "dm.test(e.a, e.b, alternative = \"two.sided\", h = 1, power = 2)"
      ],
      "id": "FLLLPUQtoyZS",
      "execution_count": 82,
      "outputs": [
        {
          "output_type": "display_data",
          "data": {
            "text/plain": [
              "\n",
              "\tDiebold-Mariano Test\n",
              "\n",
              "data:  e.ae.b\n",
              "DM = 2.9793, Forecast horizon = 1, Loss function power = 2, p-value =\n",
              "0.002933\n",
              "alternative hypothesis: two.sided\n"
            ]
          },
          "metadata": {
            "tags": []
          }
        }
      ]
    },
    {
      "cell_type": "code",
      "metadata": {
        "id": "K8wRfezFrxtJ",
        "colab": {
          "base_uri": "https://localhost:8080/",
          "height": 34
        },
        "outputId": "a947e0f2-4898-49fe-960a-341a96969239"
      },
      "source": [
        "# Quasi-likelihood Loss Function For Volatility Forecasts - forecast a\n",
        "garch.qlike.a <- mean(LossVol(sigma.garch[,'sigma.garch.true'],\n",
        "                              sigma.garch[,'sigma.garch.pred.a'],\n",
        "                              which = \"QLIKE\"))\n",
        "round(garch.qlike.a, digits = 3)"
      ],
      "id": "K8wRfezFrxtJ",
      "execution_count": 83,
      "outputs": [
        {
          "output_type": "display_data",
          "data": {
            "text/plain": [
              "[1] 0.459"
            ],
            "text/latex": "0.459",
            "text/markdown": "0.459",
            "text/html": [
              "0.459"
            ]
          },
          "metadata": {
            "tags": []
          }
        }
      ]
    },
    {
      "cell_type": "code",
      "metadata": {
        "id": "HUVoT5c5sFMt",
        "colab": {
          "base_uri": "https://localhost:8080/",
          "height": 34
        },
        "outputId": "199326a9-02bb-4a90-a858-95552f045109"
      },
      "source": [
        "# Quasi-likelihood Loss Function For Volatility Forecasts - forecast 1b\n",
        "garch.qlike.b <- mean(LossVol(sigma.garch[,'sigma.garch.true'],\n",
        "                              sigma.garch[,'sigma.garch.pred.b'],\n",
        "                              which = \"QLIKE\"))\n",
        "round(garch.qlike.b, digits = 3)"
      ],
      "id": "HUVoT5c5sFMt",
      "execution_count": 84,
      "outputs": [
        {
          "output_type": "display_data",
          "data": {
            "text/plain": [
              "[1] 0.377"
            ],
            "text/latex": "0.377",
            "text/markdown": "0.377",
            "text/html": [
              "0.377"
            ]
          },
          "metadata": {
            "tags": []
          }
        }
      ]
    },
    {
      "cell_type": "code",
      "metadata": {
        "id": "9BsA_6HBsOJV",
        "colab": {
          "base_uri": "https://localhost:8080/",
          "height": 34
        },
        "outputId": "605d5ee7-80cb-4775-9a45-aec989453ce2"
      },
      "source": [
        "# Log loss / Cross-Entropy Loss -  forecast a\n",
        "garch.logloss.a <- LogLoss(sigma.garch[,'sigma.garch.pred.a'],\n",
        "                           sigma.garch[,'sigma.garch.true'])\n",
        "round(garch.logloss.a, digits = 3)"
      ],
      "id": "9BsA_6HBsOJV",
      "execution_count": 85,
      "outputs": [
        {
          "output_type": "display_data",
          "data": {
            "text/plain": [
              "[1] -19.703"
            ],
            "text/latex": "-19.703",
            "text/markdown": "-19.703",
            "text/html": [
              "-19.703"
            ]
          },
          "metadata": {
            "tags": []
          }
        }
      ]
    },
    {
      "cell_type": "code",
      "metadata": {
        "id": "WYgOyvussxPG",
        "colab": {
          "base_uri": "https://localhost:8080/",
          "height": 34
        },
        "outputId": "16076b05-8ebe-4669-dbc4-3add18f1b923"
      },
      "source": [
        "# Log loss / Cross-Entropy Loss -  forecast b\n",
        "garch.logloss.b <- LogLoss(sigma.garch[,'sigma.garch.pred.b'],\n",
        "                           sigma.garch[,'sigma.garch.true'])\n",
        "round(garch.logloss.b, digits = 3)"
      ],
      "id": "WYgOyvussxPG",
      "execution_count": 86,
      "outputs": [
        {
          "output_type": "display_data",
          "data": {
            "text/plain": [
              "[1] -19.725"
            ],
            "text/latex": "-19.725",
            "text/markdown": "-19.725",
            "text/html": [
              "-19.725"
            ]
          },
          "metadata": {
            "tags": []
          }
        }
      ]
    },
    {
      "cell_type": "code",
      "metadata": {
        "id": "fvV0JmWWs_-H",
        "colab": {
          "base_uri": "https://localhost:8080/",
          "height": 170
        },
        "outputId": "66ebabfe-99bc-4835-94d6-dc799cd23fe1"
      },
      "source": [
        "# Linear regression to assess forecast performance - forecast a\n",
        "garch.model.a <- lm(sigma.garch.true ~ sigma.garch.pred.a, \n",
        "                    data = sigma.garch)\n",
        "round(coeftest(garch.model.a, NeweyWest(garch.model.a,\n",
        "                                        lag = bwNeweyWest(garch.model.a),\n",
        "                                        prewhite = F)), 3)\n",
        "round(summary(garch.model.a)$adj.r.squared, 3)"
      ],
      "id": "fvV0JmWWs_-H",
      "execution_count": 87,
      "outputs": [
        {
          "output_type": "display_data",
          "data": {
            "text/plain": [
              "\n",
              "t test of coefficients:\n",
              "\n",
              "                   Estimate Std. Error t value  Pr(>|t|)    \n",
              "(Intercept)          -3.327      0.416  -7.992 < 2.2e-16 ***\n",
              "sigma.garch.pred.a    5.429      0.578   9.399 < 2.2e-16 ***\n",
              "---\n",
              "Signif. codes:  0 ‘***’ 0.001 ‘**’ 0.01 ‘*’ 0.05 ‘.’ 0.1 ‘ ’ 1\n"
            ]
          },
          "metadata": {
            "tags": []
          }
        },
        {
          "output_type": "display_data",
          "data": {
            "text/plain": [
              "[1] 0.843"
            ],
            "text/latex": "0.843",
            "text/markdown": "0.843",
            "text/html": [
              "0.843"
            ]
          },
          "metadata": {
            "tags": []
          }
        }
      ]
    },
    {
      "cell_type": "code",
      "metadata": {
        "id": "BKQCfwbmWcez",
        "colab": {
          "base_uri": "https://localhost:8080/",
          "height": 170
        },
        "outputId": "8ab370f2-c57d-4c02-85cc-626009c97710"
      },
      "source": [
        "# Linear regression to assess forecast performance - forecast b\n",
        "garch.model.b <- lm(sigma.garch.true ~ sigma.garch.pred.b, \n",
        "                    data = sigma.garch)\n",
        "round(coeftest(garch.model.b, NeweyWest(garch.model.b,\n",
        "                                        lag = bwNeweyWest(garch.model.b),\n",
        "                                        prewhite = F)), 3)\n",
        "round(summary(garch.model.b)$adj.r.squared, 3)"
      ],
      "id": "BKQCfwbmWcez",
      "execution_count": 88,
      "outputs": [
        {
          "output_type": "display_data",
          "data": {
            "text/plain": [
              "\n",
              "t test of coefficients:\n",
              "\n",
              "                   Estimate Std. Error t value  Pr(>|t|)    \n",
              "(Intercept)          -3.119      0.439  -7.101 < 2.2e-16 ***\n",
              "sigma.garch.pred.b    5.286      0.620   8.526 < 2.2e-16 ***\n",
              "---\n",
              "Signif. codes:  0 ‘***’ 0.001 ‘**’ 0.01 ‘*’ 0.05 ‘.’ 0.1 ‘ ’ 1\n"
            ]
          },
          "metadata": {
            "tags": []
          }
        },
        {
          "output_type": "display_data",
          "data": {
            "text/plain": [
              "[1] 0.867"
            ],
            "text/latex": "0.867",
            "text/markdown": "0.867",
            "text/html": [
              "0.867"
            ]
          },
          "metadata": {
            "tags": []
          }
        }
      ]
    },
    {
      "cell_type": "markdown",
      "metadata": {
        "id": "qYxZcfeREZ3G"
      },
      "source": [
        "##(b) EGARCH"
      ],
      "id": "qYxZcfeREZ3G"
    },
    {
      "cell_type": "markdown",
      "metadata": {
        "id": "eU8nVcegGWrx"
      },
      "source": [
        "**Forecast**"
      ],
      "id": "eU8nVcegGWrx"
    },
    {
      "cell_type": "code",
      "metadata": {
        "id": "GGr6qMWPGY56"
      },
      "source": [
        "# Model specification\n",
        "egarch.spec.pred <- egarch.spec\n",
        "setfixed(egarch.spec.pred) <- as.list(coef(egarch.fit))"
      ],
      "id": "GGr6qMWPGY56",
      "execution_count": 89,
      "outputs": []
    },
    {
      "cell_type": "code",
      "metadata": {
        "id": "GDk5w7ACGfr5"
      },
      "source": [
        "# Model adjustment\n",
        "egarch.fit.pred <- ugarchfit(egarch.spec,\n",
        "                             GSPTSE.df$GSPTSE.Return,\n",
        "                             out.sample = dim(GSPTSE.df.out)[1])"
      ],
      "id": "GDk5w7ACGfr5",
      "execution_count": 90,
      "outputs": []
    },
    {
      "cell_type": "code",
      "metadata": {
        "id": "YpL93AZ4Gmyu"
      },
      "source": [
        "# Forecast calculated through adjustment\n",
        "egarch.pred.a <- ugarchforecast(egarch.fit.pred,\n",
        "                                n.ahead = 1,\n",
        "                                n.roll = dim(GSPTSE.df.out)[1])\n",
        "\n",
        "egarch.forecast.a <- xts(sigma(egarch.pred.a)[1,],\n",
        "                         move(as.Date(names(sigma(egarch.pred.a)[1,])), by = 1))"
      ],
      "id": "YpL93AZ4Gmyu",
      "execution_count": 91,
      "outputs": []
    },
    {
      "cell_type": "code",
      "metadata": {
        "id": "Q97EAAIsGwDR"
      },
      "source": [
        "# Forecast calculated using specification\n",
        "egarch.pred.b <- ugarchforecast(egarch.spec.pred,\n",
        "                                n.ahead = 1,\n",
        "                                n.roll = dim(GSPTSE.df.out)[1],\n",
        "                                data = GSPTSE.df$GSPTSE.Return,\n",
        "                                out.sample = dim(GSPTSE.df.out)[1])\n",
        "\n",
        "egarch.forecast.b <- xts(sigma(egarch.pred.b)[1,],\n",
        "                         move(as.Date(names(sigma(egarch.pred.b)[1,])), by = 1))               "
      ],
      "id": "Q97EAAIsGwDR",
      "execution_count": 93,
      "outputs": []
    },
    {
      "cell_type": "code",
      "metadata": {
        "id": "QSI_GcusG5Yq"
      },
      "source": [
        "# Model filtering\n",
        "egarch.filt.pred <- ugarchfilter(egarch.spec.pred,\n",
        "                                data = GSPTSE.df$GSPTSE.Return,\n",
        "                                n.old = nrow(GSPTSE.df) - dim(GSPTSE.df.out)[1])\n",
        "\n",
        "egarch.filt <- tail(sigma(egarch.filt.pred), dim(GSPTSE.df.out)[1]) "
      ],
      "id": "QSI_GcusG5Yq",
      "execution_count": 94,
      "outputs": []
    },
    {
      "cell_type": "code",
      "metadata": {
        "colab": {
          "base_uri": "https://localhost:8080/",
          "height": 136
        },
        "id": "Vz2srX-ZHB-M",
        "outputId": "481001ea-b3ee-4e56-8d41-c3d19b595b36"
      },
      "source": [
        "# Comparative\n",
        "colnames(egarch.filt) <- 'filter'\n",
        "colnames(egarch.forecast.a) <- 'forecast1'\n",
        "colnames(egarch.forecast.b) <- 'forecast2'\n",
        "\n",
        "egarch.ftest <- cbind(egarch.filt, \n",
        "                      egarch.forecast.a,\n",
        "                      egarch.forecast.b)\n",
        "head(round(egarch.ftest, digits = 4))"
      ],
      "id": "Vz2srX-ZHB-M",
      "execution_count": 95,
      "outputs": [
        {
          "output_type": "display_data",
          "data": {
            "text/plain": [
              "           filter forecast1 forecast2\n",
              "2014-12-23 1.1087    1.1092    1.1087\n",
              "2014-12-24 1.0674    1.0755    1.0674\n",
              "2014-12-29 1.0042    1.0266    1.0042\n",
              "2014-12-30 0.9524    0.9851    0.9524\n",
              "2014-12-31 0.9172    0.9577    0.9172\n",
              "2015-01-02 0.8713    0.9214    0.8713"
            ]
          },
          "metadata": {
            "tags": []
          }
        }
      ]
    },
    {
      "cell_type": "code",
      "metadata": {
        "colab": {
          "base_uri": "https://localhost:8080/",
          "height": 252
        },
        "id": "Mq5-c2zDHIzy",
        "outputId": "f7731265-0ca8-444b-fca0-7a02d552b4f3"
      },
      "source": [
        "sigma.egarch.pred.a <- ts(egarch.forecast.a[-1,])\n",
        "sigma.egarch.pred.b <- ts(egarch.forecast.b[-1,])\n",
        "sigma.egarch.true <- ts(GSPTSE.df.out$GSPTSE.VolEGARCH)\n",
        "\n",
        "sigma.egarch <- na.omit(cbind(sigma.egarch.pred.a,\n",
        "                              sigma.egarch.pred.b,\n",
        "                              sigma.egarch.true))\n",
        "head(sigma.egarch)"
      ],
      "id": "Mq5-c2zDHIzy",
      "execution_count": 96,
      "outputs": [
        {
          "output_type": "display_data",
          "data": {
            "text/plain": [
              "  sigma.egarch.pred.a sigma.egarch.pred.b sigma.egarch.true\n",
              "1 1.0755363           1.0673682           1.2292304        \n",
              "2 1.0265672           1.0041808           1.1392750        \n",
              "3 0.9850908           0.9524381           1.0083790        \n",
              "4 0.9577433           0.9172194           0.9071384        \n",
              "5 0.9213903           0.8713419           0.8412914        \n",
              "6 0.8938721           0.8408866           0.7592368        "
            ],
            "text/latex": "A Time Series: 6 × 3\n\\begin{tabular}{r|lll}\n  & sigma.egarch.pred.a & sigma.egarch.pred.b & sigma.egarch.true\\\\\n\\hline\n\t1 & 1.0755363 & 1.0673682 & 1.2292304\\\\\n\t2 & 1.0265672 & 1.0041808 & 1.1392750\\\\\n\t3 & 0.9850908 & 0.9524381 & 1.0083790\\\\\n\t4 & 0.9577433 & 0.9172194 & 0.9071384\\\\\n\t5 & 0.9213903 & 0.8713419 & 0.8412914\\\\\n\t6 & 0.8938721 & 0.8408866 & 0.7592368\\\\\n\\end{tabular}\n",
            "text/markdown": "\nA Time Series: 6 × 3\n\n| <!--/--> | sigma.egarch.pred.a | sigma.egarch.pred.b | sigma.egarch.true |\n|---|---|---|---|\n| 1 | 1.0755363 | 1.0673682 | 1.2292304 |\n| 2 | 1.0265672 | 1.0041808 | 1.1392750 |\n| 3 | 0.9850908 | 0.9524381 | 1.0083790 |\n| 4 | 0.9577433 | 0.9172194 | 0.9071384 |\n| 5 | 0.9213903 | 0.8713419 | 0.8412914 |\n| 6 | 0.8938721 | 0.8408866 | 0.7592368 |\n\n",
            "text/html": [
              "<table class=\"dataframe\">\n",
              "<caption>A Time Series: 6 × 3</caption>\n",
              "<thead>\n",
              "\t<tr><th></th><th scope=col>sigma.egarch.pred.a</th><th scope=col>sigma.egarch.pred.b</th><th scope=col>sigma.egarch.true</th></tr>\n",
              "</thead>\n",
              "<tbody>\n",
              "\t<tr><th scope=row>1</th><td>1.0755363</td><td>1.0673682</td><td>1.2292304</td></tr>\n",
              "\t<tr><th scope=row>2</th><td>1.0265672</td><td>1.0041808</td><td>1.1392750</td></tr>\n",
              "\t<tr><th scope=row>3</th><td>0.9850908</td><td>0.9524381</td><td>1.0083790</td></tr>\n",
              "\t<tr><th scope=row>4</th><td>0.9577433</td><td>0.9172194</td><td>0.9071384</td></tr>\n",
              "\t<tr><th scope=row>5</th><td>0.9213903</td><td>0.8713419</td><td>0.8412914</td></tr>\n",
              "\t<tr><th scope=row>6</th><td>0.8938721</td><td>0.8408866</td><td>0.7592368</td></tr>\n",
              "</tbody>\n",
              "</table>\n"
            ]
          },
          "metadata": {
            "tags": []
          }
        }
      ]
    },
    {
      "cell_type": "markdown",
      "metadata": {
        "id": "kHT5c985HYvC"
      },
      "source": [
        "**Performance evaluation**"
      ],
      "id": "kHT5c985HYvC"
    },
    {
      "cell_type": "code",
      "metadata": {
        "colab": {
          "base_uri": "https://localhost:8080/",
          "height": 51
        },
        "id": "2zj41DH_HbJB",
        "outputId": "ce027bcc-4981-4a26-cf4a-b23ff5faaff1"
      },
      "source": [
        "# Forecast Error - Forecast a\n",
        "egarch.error.a <- sigma.egarch[,'sigma.egarch.pred.a'] - sigma.egarch[,'sigma.egarch.true']\n",
        "head(egarch.error.a)"
      ],
      "id": "2zj41DH_HbJB",
      "execution_count": 97,
      "outputs": [
        {
          "output_type": "display_data",
          "data": {
            "text/plain": [
              "A Time Series:\n",
              "[1] -0.15369415 -0.11270775 -0.02328822  0.05060491  0.08009888  0.13463534"
            ],
            "text/latex": "A Time Series:\\\\\\begin{enumerate*}\n\\item -0.153694147915735\n\\item -0.112707751780395\n\\item -0.0232882232895402\n\\item 0.0506049110049045\n\\item 0.0800988798417398\n\\item 0.13463533631103\n\\end{enumerate*}\n",
            "text/markdown": "A Time Series:  \n1. -0.153694147915735\n2. -0.112707751780395\n3. -0.0232882232895402\n4. 0.0506049110049045\n5. 0.0800988798417398\n6. 0.13463533631103\n\n\n",
            "text/html": [
              "A Time Series:<br><style>\n",
              ".list-inline {list-style: none; margin:0; padding: 0}\n",
              ".list-inline>li {display: inline-block}\n",
              ".list-inline>li:not(:last-child)::after {content: \"\\00b7\"; padding: 0 .5ex}\n",
              "</style>\n",
              "<ol class=list-inline><li>-0.153694147915735</li><li>-0.112707751780395</li><li>-0.0232882232895402</li><li>0.0506049110049045</li><li>0.0800988798417398</li><li>0.13463533631103</li></ol>\n"
            ]
          },
          "metadata": {
            "tags": []
          }
        }
      ]
    },
    {
      "cell_type": "code",
      "metadata": {
        "colab": {
          "base_uri": "https://localhost:8080/",
          "height": 51
        },
        "id": "qGfmTbM3HhNe",
        "outputId": "18a08806-9d8c-4fd9-c54f-53a2108c15f6"
      },
      "source": [
        "# Forecast Error - Forecast b\n",
        "egarch.error.b <- sigma.egarch[,'sigma.egarch.pred.b'] - sigma.egarch[,'sigma.egarch.true']\n",
        "head(egarch.error.b)"
      ],
      "id": "qGfmTbM3HhNe",
      "execution_count": 98,
      "outputs": [
        {
          "output_type": "display_data",
          "data": {
            "text/plain": [
              "A Time Series:\n",
              "[1] -0.16186220 -0.13509419 -0.05594091  0.01008102  0.03005051  0.08164981"
            ],
            "text/latex": "A Time Series:\\\\\\begin{enumerate*}\n\\item -0.1618621999497\n\\item -0.135094187011164\n\\item -0.0559409098274468\n\\item 0.0100810157750146\n\\item 0.0300505144511909\n\\item 0.0816498112450589\n\\end{enumerate*}\n",
            "text/markdown": "A Time Series:  \n1. -0.1618621999497\n2. -0.135094187011164\n3. -0.0559409098274468\n4. 0.0100810157750146\n5. 0.0300505144511909\n6. 0.0816498112450589\n\n\n",
            "text/html": [
              "A Time Series:<br><style>\n",
              ".list-inline {list-style: none; margin:0; padding: 0}\n",
              ".list-inline>li {display: inline-block}\n",
              ".list-inline>li:not(:last-child)::after {content: \"\\00b7\"; padding: 0 .5ex}\n",
              "</style>\n",
              "<ol class=list-inline><li>-0.1618621999497</li><li>-0.135094187011164</li><li>-0.0559409098274468</li><li>0.0100810157750146</li><li>0.0300505144511909</li><li>0.0816498112450589</li></ol>\n"
            ]
          },
          "metadata": {
            "tags": []
          }
        }
      ]
    },
    {
      "cell_type": "code",
      "metadata": {
        "colab": {
          "base_uri": "https://localhost:8080/",
          "height": 34
        },
        "id": "ghBbYBQ7HocG",
        "outputId": "1bf54b99-a44e-40be-b931-4dbb58d39d58"
      },
      "source": [
        "# Mean Square Error Loss - Forecast a\n",
        "egarch.mse.a <- MSE(sigma.egarch[,'sigma.egarch.pred.a'],\n",
        "                    sigma.egarch[,'sigma.egarch.true'])\n",
        "round(egarch.mse.a, digits = 3)     "
      ],
      "id": "ghBbYBQ7HocG",
      "execution_count": 99,
      "outputs": [
        {
          "output_type": "display_data",
          "data": {
            "text/plain": [
              "[1] 5.543"
            ],
            "text/latex": "5.543",
            "text/markdown": "5.543",
            "text/html": [
              "5.543"
            ]
          },
          "metadata": {
            "tags": []
          }
        }
      ]
    },
    {
      "cell_type": "code",
      "metadata": {
        "colab": {
          "base_uri": "https://localhost:8080/",
          "height": 34
        },
        "id": "_D9c09GZHtiG",
        "outputId": "fb3f13c6-1522-43b7-a335-e0385815241d"
      },
      "source": [
        "# Mean Square Error Loss - Forecast b\n",
        "egarch.mse.b <- MSE(sigma.egarch[,'sigma.egarch.pred.b'],\n",
        "                    sigma.egarch[,'sigma.egarch.true'])\n",
        "round(egarch.mse.b, digits = 3) "
      ],
      "id": "_D9c09GZHtiG",
      "execution_count": 100,
      "outputs": [
        {
          "output_type": "display_data",
          "data": {
            "text/plain": [
              "[1] 5.345"
            ],
            "text/latex": "5.345",
            "text/markdown": "5.345",
            "text/html": [
              "5.345"
            ]
          },
          "metadata": {
            "tags": []
          }
        }
      ]
    },
    {
      "cell_type": "code",
      "metadata": {
        "colab": {
          "base_uri": "https://localhost:8080/",
          "height": 34
        },
        "id": "0YnAkzX0HyHX",
        "outputId": "70be5127-641a-4f1a-94f5-dad9ed550498"
      },
      "source": [
        "# Mean Absolute Error Loss - Forecast a\n",
        "egarch.mae.a <- MAE(sigma.egarch[,'sigma.egarch.pred.a'],\n",
        "                    sigma.egarch[,'sigma.egarch.true'])\n",
        "round(egarch.mae.a, digits = 3)"
      ],
      "id": "0YnAkzX0HyHX",
      "execution_count": 101,
      "outputs": [
        {
          "output_type": "display_data",
          "data": {
            "text/plain": [
              "[1] 0.528"
            ],
            "text/latex": "0.528",
            "text/markdown": "0.528",
            "text/html": [
              "0.528"
            ]
          },
          "metadata": {
            "tags": []
          }
        }
      ]
    },
    {
      "cell_type": "code",
      "metadata": {
        "colab": {
          "base_uri": "https://localhost:8080/",
          "height": 34
        },
        "id": "brmCUjE_H4bJ",
        "outputId": "8d0dfebd-86d1-4e98-9aa1-447a5b45627e"
      },
      "source": [
        "# Mean Absolute Error Loss - Forecast b\n",
        "egarch.mae.b <- MAE(sigma.egarch[,'sigma.egarch.pred.b'],\n",
        "                    sigma.egarch[,'sigma.egarch.true'])\n",
        "round(egarch.mae.b, digits = 3)"
      ],
      "id": "brmCUjE_H4bJ",
      "execution_count": 102,
      "outputs": [
        {
          "output_type": "display_data",
          "data": {
            "text/plain": [
              "[1] 0.508"
            ],
            "text/latex": "0.508",
            "text/markdown": "0.508",
            "text/html": [
              "0.508"
            ]
          },
          "metadata": {
            "tags": []
          }
        }
      ]
    },
    {
      "cell_type": "code",
      "metadata": {
        "colab": {
          "base_uri": "https://localhost:8080/",
          "height": 34
        },
        "id": "kBL2NOllIBLP",
        "outputId": "9f4ed50e-442a-46a5-fb15-797ff4a19526"
      },
      "source": [
        "# Root Mean Square Error Loss - Forecast a\n",
        "egarch.rmse.a <- RMSE(sigma.egarch[,'sigma.egarch.pred.a'],\n",
        "                      sigma.egarch[,'sigma.egarch.true'])\n",
        "round(egarch.rmse.a, digits = 3)"
      ],
      "id": "kBL2NOllIBLP",
      "execution_count": 103,
      "outputs": [
        {
          "output_type": "display_data",
          "data": {
            "text/plain": [
              "[1] 2.354"
            ],
            "text/latex": "2.354",
            "text/markdown": "2.354",
            "text/html": [
              "2.354"
            ]
          },
          "metadata": {
            "tags": []
          }
        }
      ]
    },
    {
      "cell_type": "code",
      "metadata": {
        "colab": {
          "base_uri": "https://localhost:8080/",
          "height": 34
        },
        "id": "YZw8WsYrIGZr",
        "outputId": "aabef53b-7b6d-4d57-90bd-0b0ebb15380f"
      },
      "source": [
        "# Root Mean Square Error Loss - Forecast b\n",
        "egarch.rmse.b <- RMSE(sigma.egarch[,'sigma.egarch.pred.b'],\n",
        "                      sigma.egarch[,'sigma.egarch.true'])\n",
        "round(egarch.rmse.b, digits = 3)"
      ],
      "id": "YZw8WsYrIGZr",
      "execution_count": 104,
      "outputs": [
        {
          "output_type": "display_data",
          "data": {
            "text/plain": [
              "[1] 2.312"
            ],
            "text/latex": "2.312",
            "text/markdown": "2.312",
            "text/html": [
              "2.312"
            ]
          },
          "metadata": {
            "tags": []
          }
        }
      ]
    },
    {
      "cell_type": "code",
      "metadata": {
        "colab": {
          "base_uri": "https://localhost:8080/",
          "height": 34
        },
        "id": "lvf7k5Y2IK3Z",
        "outputId": "8843d484-f6f3-44ec-8997-edab3d6611ca"
      },
      "source": [
        "# Quasi-likelihood loss function - forecast a\n",
        "h <- sigma.egarch[,'sigma.egarch.true']\n",
        "\n",
        "h.hat.a <- sigma.egarch[,'sigma.egarch.pred.a']     \n",
        "egarch.qlike.a <- mean(log(sqrt(h)) + h.hat.a/sqrt(h))\n",
        "round(egarch.qlike.a, digits = 5) "
      ],
      "id": "lvf7k5Y2IK3Z",
      "execution_count": 105,
      "outputs": [
        {
          "output_type": "display_data",
          "data": {
            "text/plain": [
              "[1] 0.67101"
            ],
            "text/latex": "0.67101",
            "text/markdown": "0.67101",
            "text/html": [
              "0.67101"
            ]
          },
          "metadata": {
            "tags": []
          }
        }
      ]
    },
    {
      "cell_type": "code",
      "metadata": {
        "colab": {
          "base_uri": "https://localhost:8080/",
          "height": 34
        },
        "id": "ac17LDnAIdRq",
        "outputId": "5a11f680-995a-48b7-e8b9-07d301e909f0"
      },
      "source": [
        "# Quasi-likelihood loss function - forecast b\n",
        "h.hat.b <- sigma.egarch[,'sigma.egarch.pred.b']\n",
        "egarch.qlike.b <- mean(log(sqrt(h)) + h.hat.b/sqrt(h))\n",
        "round(egarch.qlike.b, digits = 5) "
      ],
      "id": "ac17LDnAIdRq",
      "execution_count": 106,
      "outputs": [
        {
          "output_type": "display_data",
          "data": {
            "text/plain": [
              "[1] 0.6377"
            ],
            "text/latex": "0.6377",
            "text/markdown": "0.6377",
            "text/html": [
              "0.6377"
            ]
          },
          "metadata": {
            "tags": []
          }
        }
      ]
    },
    {
      "cell_type": "code",
      "metadata": {
        "colab": {
          "base_uri": "https://localhost:8080/",
          "height": 119
        },
        "id": "MDtn0VGCIhYb",
        "outputId": "980b8299-161d-41be-9367-5ec3c2d62308"
      },
      "source": [
        "# Diebold-Mariano Test (accuracy test) - test 1\n",
        "f.a <- sigma.egarch[,'sigma.egarch.pred.a']\n",
        "f.b <- sigma.egarch[,'sigma.egarch.pred.b']\n",
        "y <- sigma.egarch[,'sigma.egarch.true']\n",
        "\n",
        "DM.test(f.a, f.b, y, loss.type = \"SE\", c = FALSE, H1 = \"same\")"
      ],
      "id": "MDtn0VGCIhYb",
      "execution_count": 107,
      "outputs": [
        {
          "output_type": "display_data",
          "data": {
            "text/plain": [
              "\n",
              "\tDiebold-Mariano test\n",
              "\n",
              "data:  f.a and f.b and y\n",
              "statistic = 3.277, forecast horizon = 1, p-value = 0.001049\n",
              "alternative hypothesis: Forecast f1 and f2 have different accuracy.\n"
            ]
          },
          "metadata": {
            "tags": []
          }
        }
      ]
    },
    {
      "cell_type": "code",
      "metadata": {
        "colab": {
          "base_uri": "https://localhost:8080/",
          "height": 136
        },
        "id": "iTwM8a02ImcX",
        "outputId": "d8550996-8219-4e6f-e7ac-02983ea3b11d"
      },
      "source": [
        "# Diebold-Mariano test for predictive accuracy - test 2\n",
        "e.a <- egarch.error.a\n",
        "e.b <- egarch.error.b\n",
        "\n",
        "dm.test(e.a, e.b, alternative = \"two.sided\", h = 1, power = 2)"
      ],
      "id": "iTwM8a02ImcX",
      "execution_count": 108,
      "outputs": [
        {
          "output_type": "display_data",
          "data": {
            "text/plain": [
              "\n",
              "\tDiebold-Mariano Test\n",
              "\n",
              "data:  e.ae.b\n",
              "DM = 3.2759, Forecast horizon = 1, Loss function power = 2, p-value =\n",
              "0.001075\n",
              "alternative hypothesis: two.sided\n"
            ]
          },
          "metadata": {
            "tags": []
          }
        }
      ]
    },
    {
      "cell_type": "code",
      "metadata": {
        "colab": {
          "base_uri": "https://localhost:8080/",
          "height": 34
        },
        "id": "ubakDsZgIphu",
        "outputId": "12df7aa0-2d66-4738-de1a-a0aa9280751a"
      },
      "source": [
        "# Quasi-likelihood Loss Function For Volatility Forecasts - forecast a\n",
        "egarch.qlike.a <- mean(LossVol(sigma.egarch[,'sigma.egarch.true'],\n",
        "                              sigma.egarch[,'sigma.egarch.pred.a'],\n",
        "                              which = \"QLIKE\"))\n",
        "round(egarch.qlike.a, digits = 3)"
      ],
      "id": "ubakDsZgIphu",
      "execution_count": 109,
      "outputs": [
        {
          "output_type": "display_data",
          "data": {
            "text/plain": [
              "[1] 0.337"
            ],
            "text/latex": "0.337",
            "text/markdown": "0.337",
            "text/html": [
              "0.337"
            ]
          },
          "metadata": {
            "tags": []
          }
        }
      ]
    },
    {
      "cell_type": "code",
      "metadata": {
        "colab": {
          "base_uri": "https://localhost:8080/",
          "height": 34
        },
        "id": "a0KYFwLDIwmm",
        "outputId": "b59d9882-d4ec-4c09-ff73-f66b0bd1ac07"
      },
      "source": [
        "# Quasi-likelihood Loss Function For Volatility Forecasts - forecast b\n",
        "egarch.qlike.b <- mean(LossVol(sigma.egarch[,'sigma.egarch.true'],\n",
        "                              sigma.egarch[,'sigma.egarch.pred.b'],\n",
        "                              which = \"QLIKE\"))\n",
        "round(egarch.qlike.b, digits = 3)"
      ],
      "id": "a0KYFwLDIwmm",
      "execution_count": 110,
      "outputs": [
        {
          "output_type": "display_data",
          "data": {
            "text/plain": [
              "[1] 0.245"
            ],
            "text/latex": "0.245",
            "text/markdown": "0.245",
            "text/html": [
              "0.245"
            ]
          },
          "metadata": {
            "tags": []
          }
        }
      ]
    },
    {
      "cell_type": "code",
      "metadata": {
        "colab": {
          "base_uri": "https://localhost:8080/",
          "height": 34
        },
        "id": "fegx1LuTI2iB",
        "outputId": "1aefb7cb-6f8b-4e98-b971-da43a909c3e2"
      },
      "source": [
        "# Log loss / Cross-Entropy Loss -  forecast a\n",
        "egarch.logloss.a <- LogLoss(sigma.egarch[,'sigma.egarch.pred.a'],\n",
        "                            sigma.egarch[,'sigma.egarch.true'])\n",
        "round(egarch.logloss.a, digits = 3)"
      ],
      "id": "fegx1LuTI2iB",
      "execution_count": 111,
      "outputs": [
        {
          "output_type": "display_data",
          "data": {
            "text/plain": [
              "[1] -14.198"
            ],
            "text/latex": "-14.198",
            "text/markdown": "-14.198",
            "text/html": [
              "-14.198"
            ]
          },
          "metadata": {
            "tags": []
          }
        }
      ]
    },
    {
      "cell_type": "code",
      "metadata": {
        "colab": {
          "base_uri": "https://localhost:8080/",
          "height": 34
        },
        "id": "Rorhgye9I9H4",
        "outputId": "835c8de5-6144-414b-a9c2-7ca34ad8c229"
      },
      "source": [
        "# Log loss / Cross-Entropy Loss -  forecast b\n",
        "egarch.logloss.b <- LogLoss(sigma.egarch[,'sigma.egarch.pred.b'],\n",
        "                            sigma.egarch[,'sigma.egarch.true'])\n",
        "round(egarch.logloss.b, digits = 3)"
      ],
      "id": "Rorhgye9I9H4",
      "execution_count": 112,
      "outputs": [
        {
          "output_type": "display_data",
          "data": {
            "text/plain": [
              "[1] -14.234"
            ],
            "text/latex": "-14.234",
            "text/markdown": "-14.234",
            "text/html": [
              "-14.234"
            ]
          },
          "metadata": {
            "tags": []
          }
        }
      ]
    },
    {
      "cell_type": "code",
      "metadata": {
        "colab": {
          "base_uri": "https://localhost:8080/",
          "height": 170
        },
        "id": "cztScVEKJB5j",
        "outputId": "1ee09f50-f768-479e-92d6-b9285a08c4b3"
      },
      "source": [
        "# Linear regression to assess forecast performance - forecast a\n",
        "egarch.model.a <- lm(sigma.egarch.true ~ sigma.egarch.pred.a, \n",
        "                    data = sigma.egarch)\n",
        "round(coeftest(egarch.model.a, NeweyWest(egarch.model.a,\n",
        "                                        lag = bwNeweyWest(egarch.model.a),\n",
        "                                        prewhite = F)), 3)\n",
        "round(summary(egarch.model.a)$adj.r.squared, 3)"
      ],
      "id": "cztScVEKJB5j",
      "execution_count": 113,
      "outputs": [
        {
          "output_type": "display_data",
          "data": {
            "text/plain": [
              "\n",
              "t test of coefficients:\n",
              "\n",
              "                    Estimate Std. Error t value  Pr(>|t|)    \n",
              "(Intercept)           -2.847      0.637  -4.472 < 2.2e-16 ***\n",
              "sigma.egarch.pred.a    4.731      0.867   5.458 < 2.2e-16 ***\n",
              "---\n",
              "Signif. codes:  0 ‘***’ 0.001 ‘**’ 0.01 ‘*’ 0.05 ‘.’ 0.1 ‘ ’ 1\n"
            ]
          },
          "metadata": {
            "tags": []
          }
        },
        {
          "output_type": "display_data",
          "data": {
            "text/plain": [
              "[1] 0.803"
            ],
            "text/latex": "0.803",
            "text/markdown": "0.803",
            "text/html": [
              "0.803"
            ]
          },
          "metadata": {
            "tags": []
          }
        }
      ]
    },
    {
      "cell_type": "code",
      "metadata": {
        "colab": {
          "base_uri": "https://localhost:8080/",
          "height": 170
        },
        "id": "9ro2-RuaJIu0",
        "outputId": "88f5321e-8c79-4da3-d71d-f7453b0530c8"
      },
      "source": [
        "# Linear regression to assess forecast performance - forecast b\n",
        "egarch.model.b <- lm(sigma.egarch.true ~ sigma.egarch.pred.b, \n",
        "                    data = sigma.egarch)\n",
        "round(coeftest(egarch.model.b, NeweyWest(egarch.model.b,\n",
        "                                        lag = bwNeweyWest(egarch.model.b),\n",
        "                                        prewhite = F)), 3)\n",
        "round(summary(egarch.model.b)$adj.r.squared, 3)"
      ],
      "id": "9ro2-RuaJIu0",
      "execution_count": 114,
      "outputs": [
        {
          "output_type": "display_data",
          "data": {
            "text/plain": [
              "\n",
              "t test of coefficients:\n",
              "\n",
              "                    Estimate Std. Error t value  Pr(>|t|)    \n",
              "(Intercept)           -2.588      0.499  -5.189 < 2.2e-16 ***\n",
              "sigma.egarch.pred.b    4.491      0.688   6.528 < 2.2e-16 ***\n",
              "---\n",
              "Signif. codes:  0 ‘***’ 0.001 ‘**’ 0.01 ‘*’ 0.05 ‘.’ 0.1 ‘ ’ 1\n"
            ]
          },
          "metadata": {
            "tags": []
          }
        },
        {
          "output_type": "display_data",
          "data": {
            "text/plain": [
              "[1] 0.831"
            ],
            "text/latex": "0.831",
            "text/markdown": "0.831",
            "text/html": [
              "0.831"
            ]
          },
          "metadata": {
            "tags": []
          }
        }
      ]
    },
    {
      "cell_type": "markdown",
      "metadata": {
        "id": "oFQkdPS-eVHu"
      },
      "source": [
        "##(c) GJR-GARCH"
      ],
      "id": "oFQkdPS-eVHu"
    },
    {
      "cell_type": "markdown",
      "metadata": {
        "id": "0IkxEGn3evX0"
      },
      "source": [
        "**Forecast**"
      ],
      "id": "0IkxEGn3evX0"
    },
    {
      "cell_type": "code",
      "metadata": {
        "id": "Bu5hsRqZezGx"
      },
      "source": [
        "# Model specification\n",
        "gjrgarch.spec.pred <- gjrgarch.spec\n",
        "setfixed(gjrgarch.spec.pred) <- as.list(coef(gjrgarch.fit))"
      ],
      "id": "Bu5hsRqZezGx",
      "execution_count": 115,
      "outputs": []
    },
    {
      "cell_type": "code",
      "metadata": {
        "id": "pnj0hU2se9-J"
      },
      "source": [
        "# Model adjustment\n",
        "gjrgarch.fit.pred <- ugarchfit(gjrgarch.spec,\n",
        "                              GSPTSE.df$GSPTSE.Return,\n",
        "                              out.sample = dim(GSPTSE.df.out)[1])"
      ],
      "id": "pnj0hU2se9-J",
      "execution_count": 116,
      "outputs": []
    },
    {
      "cell_type": "code",
      "metadata": {
        "id": "_3Rv4lN1fGbp"
      },
      "source": [
        "# Forecast calculated through adjustment\n",
        "gjrgarch.pred.a <- ugarchforecast(gjrgarch.fit.pred,\n",
        "                                 n.ahead = 1,\n",
        "                                 n.roll = dim(GSPTSE.df.out)[1])\n",
        "\n",
        "gjrgarch.forecast.a <- xts(sigma(gjrgarch.pred.a)[1,],\n",
        "                           move(as.Date(names(sigma(gjrgarch.pred.a)[1,])), by = 1))"
      ],
      "id": "_3Rv4lN1fGbp",
      "execution_count": 117,
      "outputs": []
    },
    {
      "cell_type": "code",
      "metadata": {
        "id": "BuoBNGH8fSEL"
      },
      "source": [
        "# Forecast calculated using specification\n",
        "gjrgarch.pred.b <- ugarchforecast(gjrgarch.spec.pred,\n",
        "                                  n.ahead = 1,\n",
        "                                  n.roll = dim(GSPTSE.df.out)[1],\n",
        "                                  data = GSPTSE.df$GSPTSE.Return,\n",
        "                                  out.sample = dim(GSPTSE.df.out)[1])\n",
        "\n",
        "gjrgarch.forecast.b <- xts(sigma(gjrgarch.pred.b)[1,],\n",
        "                           move(as.Date(names(sigma(gjrgarch.pred.b)[1,])), by = 1)) "
      ],
      "id": "BuoBNGH8fSEL",
      "execution_count": 118,
      "outputs": []
    },
    {
      "cell_type": "code",
      "metadata": {
        "id": "D8Sva5A_fh9s"
      },
      "source": [
        "# Model filtering\n",
        "gjrgarch.filt.pred <- ugarchfilter(gjrgarch.spec.pred,\n",
        "                                   data = GSPTSE.df$GSPTSE.Return,\n",
        "                                   n.old = nrow(GSPTSE.df) - dim(GSPTSE.df.out)[1])\n",
        "\n",
        "gjrgarch.filt <- tail(sigma(gjrgarch.filt.pred), dim(GSPTSE.df.out)[1]) "
      ],
      "id": "D8Sva5A_fh9s",
      "execution_count": 119,
      "outputs": []
    },
    {
      "cell_type": "code",
      "metadata": {
        "colab": {
          "base_uri": "https://localhost:8080/",
          "height": 136
        },
        "id": "Cud0ITmzfjyf",
        "outputId": "a804a65e-956a-439f-ce90-55fecdb32bc7"
      },
      "source": [
        "# Comparative\n",
        "colnames(gjrgarch.filt) <- 'filter'\n",
        "colnames(gjrgarch.forecast.a) <- 'forecast1'\n",
        "colnames(gjrgarch.forecast.b) <- 'forecast2'\n",
        "\n",
        "gjrgarch.ftest <- cbind(gjrgarch.filt, \n",
        "                        gjrgarch.forecast.a,\n",
        "                        gjrgarch.forecast.b)\n",
        "head(round(gjrgarch.ftest, digits = 4))"
      ],
      "id": "Cud0ITmzfjyf",
      "execution_count": 120,
      "outputs": [
        {
          "output_type": "display_data",
          "data": {
            "text/plain": [
              "           filter forecast1 forecast2\n",
              "2014-12-23 1.1226    1.1096    1.1226\n",
              "2014-12-24 1.0834    1.0773    1.0834\n",
              "2014-12-29 1.0346    1.0403    1.0346\n",
              "2014-12-30 0.9898    1.0056    0.9898\n",
              "2014-12-31 0.9486    0.9738    0.9486\n",
              "2015-01-02 0.9076    0.9418    0.9076"
            ]
          },
          "metadata": {
            "tags": []
          }
        }
      ]
    },
    {
      "cell_type": "code",
      "metadata": {
        "colab": {
          "base_uri": "https://localhost:8080/",
          "height": 252
        },
        "id": "HujuXn--flgj",
        "outputId": "9c236722-8d29-4980-98cb-fc0165825f5c"
      },
      "source": [
        "sigma.gjrgarch.pred.a <- ts(gjrgarch.forecast.a[-1,])\n",
        "sigma.gjrgarch.pred.b <- ts(gjrgarch.forecast.b[-1,])\n",
        "sigma.gjrgarch.true <- ts(GSPTSE.df.out$GSPTSE.VolGJRGARCH)\n",
        "\n",
        "sigma.gjrgarch <- na.omit(cbind(sigma.gjrgarch.pred.a,\n",
        "                                sigma.gjrgarch.pred.b,\n",
        "                                sigma.gjrgarch.true))\n",
        "head(sigma.gjrgarch)"
      ],
      "id": "HujuXn--flgj",
      "execution_count": 121,
      "outputs": [
        {
          "output_type": "display_data",
          "data": {
            "text/plain": [
              "  sigma.gjrgarch.pred.a sigma.gjrgarch.pred.b sigma.gjrgarch.true\n",
              "1 1.0773017             1.0834201             1.2603124          \n",
              "2 1.0403014             1.0346260             1.1737992          \n",
              "3 1.0056275             0.9897862             1.0704510          \n",
              "4 0.9738172             0.9485744             0.9796768          \n",
              "5 0.9418375             0.9075767             0.8997934          \n",
              "6 0.9149614             0.8764170             0.8236954          "
            ],
            "text/latex": "A Time Series: 6 × 3\n\\begin{tabular}{r|lll}\n  & sigma.gjrgarch.pred.a & sigma.gjrgarch.pred.b & sigma.gjrgarch.true\\\\\n\\hline\n\t1 & 1.0773017 & 1.0834201 & 1.2603124\\\\\n\t2 & 1.0403014 & 1.0346260 & 1.1737992\\\\\n\t3 & 1.0056275 & 0.9897862 & 1.0704510\\\\\n\t4 & 0.9738172 & 0.9485744 & 0.9796768\\\\\n\t5 & 0.9418375 & 0.9075767 & 0.8997934\\\\\n\t6 & 0.9149614 & 0.8764170 & 0.8236954\\\\\n\\end{tabular}\n",
            "text/markdown": "\nA Time Series: 6 × 3\n\n| <!--/--> | sigma.gjrgarch.pred.a | sigma.gjrgarch.pred.b | sigma.gjrgarch.true |\n|---|---|---|---|\n| 1 | 1.0773017 | 1.0834201 | 1.2603124 |\n| 2 | 1.0403014 | 1.0346260 | 1.1737992 |\n| 3 | 1.0056275 | 0.9897862 | 1.0704510 |\n| 4 | 0.9738172 | 0.9485744 | 0.9796768 |\n| 5 | 0.9418375 | 0.9075767 | 0.8997934 |\n| 6 | 0.9149614 | 0.8764170 | 0.8236954 |\n\n",
            "text/html": [
              "<table class=\"dataframe\">\n",
              "<caption>A Time Series: 6 × 3</caption>\n",
              "<thead>\n",
              "\t<tr><th></th><th scope=col>sigma.gjrgarch.pred.a</th><th scope=col>sigma.gjrgarch.pred.b</th><th scope=col>sigma.gjrgarch.true</th></tr>\n",
              "</thead>\n",
              "<tbody>\n",
              "\t<tr><th scope=row>1</th><td>1.0773017</td><td>1.0834201</td><td>1.2603124</td></tr>\n",
              "\t<tr><th scope=row>2</th><td>1.0403014</td><td>1.0346260</td><td>1.1737992</td></tr>\n",
              "\t<tr><th scope=row>3</th><td>1.0056275</td><td>0.9897862</td><td>1.0704510</td></tr>\n",
              "\t<tr><th scope=row>4</th><td>0.9738172</td><td>0.9485744</td><td>0.9796768</td></tr>\n",
              "\t<tr><th scope=row>5</th><td>0.9418375</td><td>0.9075767</td><td>0.8997934</td></tr>\n",
              "\t<tr><th scope=row>6</th><td>0.9149614</td><td>0.8764170</td><td>0.8236954</td></tr>\n",
              "</tbody>\n",
              "</table>\n"
            ]
          },
          "metadata": {
            "tags": []
          }
        }
      ]
    },
    {
      "cell_type": "markdown",
      "metadata": {
        "id": "bUYdP2aVfnV8"
      },
      "source": [
        "**Performance evaluation**"
      ],
      "id": "bUYdP2aVfnV8"
    },
    {
      "cell_type": "code",
      "metadata": {
        "colab": {
          "base_uri": "https://localhost:8080/",
          "height": 51
        },
        "id": "SsZQktM-fpou",
        "outputId": "8413c6cc-d1af-4cdc-b23b-a271af0126f7"
      },
      "source": [
        "# Forecast Error - Forecast a\n",
        "gjrgarch.error.a <- sigma.gjrgarch[,'sigma.gjrgarch.pred.a'] - sigma.gjrgarch[,'sigma.gjrgarch.true']\n",
        "head(gjrgarch.error.a)"
      ],
      "id": "SsZQktM-fpou",
      "execution_count": 122,
      "outputs": [
        {
          "output_type": "display_data",
          "data": {
            "text/plain": [
              "A Time Series:\n",
              "[1] -0.183010622 -0.133497754 -0.064823467 -0.005859601  0.042044119\n",
              "[6]  0.091265965"
            ],
            "text/latex": "A Time Series:\\\\\\begin{enumerate*}\n\\item -0.183010621994782\n\\item -0.13349775393799\n\\item -0.0648234665399765\n\\item -0.00585960109283334\n\\item 0.0420441186522496\n\\item 0.0912659646455573\n\\end{enumerate*}\n",
            "text/markdown": "A Time Series:  \n1. -0.183010621994782\n2. -0.13349775393799\n3. -0.0648234665399765\n4. -0.00585960109283334\n5. 0.0420441186522496\n6. 0.0912659646455573\n\n\n",
            "text/html": [
              "A Time Series:<br><style>\n",
              ".list-inline {list-style: none; margin:0; padding: 0}\n",
              ".list-inline>li {display: inline-block}\n",
              ".list-inline>li:not(:last-child)::after {content: \"\\00b7\"; padding: 0 .5ex}\n",
              "</style>\n",
              "<ol class=list-inline><li>-0.183010621994782</li><li>-0.13349775393799</li><li>-0.0648234665399765</li><li>-0.00585960109283334</li><li>0.0420441186522496</li><li>0.0912659646455573</li></ol>\n"
            ]
          },
          "metadata": {
            "tags": []
          }
        }
      ]
    },
    {
      "cell_type": "code",
      "metadata": {
        "colab": {
          "base_uri": "https://localhost:8080/",
          "height": 51
        },
        "id": "jBBozS2dfq74",
        "outputId": "a517b3d8-2d12-4ab3-acf2-6f6c68571cc6"
      },
      "source": [
        "# Forecast Error - Forecast b\n",
        "gjrgarch.error.b <- sigma.gjrgarch[,'sigma.gjrgarch.pred.b'] - sigma.gjrgarch[,'sigma.gjrgarch.true']\n",
        "head(gjrgarch.error.b)"
      ],
      "id": "jBBozS2dfq74",
      "execution_count": 123,
      "outputs": [
        {
          "output_type": "display_data",
          "data": {
            "text/plain": [
              "A Time Series:\n",
              "[1] -0.176892222 -0.139173158 -0.080664789 -0.031102372  0.007783302\n",
              "[6]  0.052721516"
            ],
            "text/latex": "A Time Series:\\\\\\begin{enumerate*}\n\\item -0.176892222279526\n\\item -0.139173158032478\n\\item -0.0806647888742176\n\\item -0.0311023722068066\n\\item 0.00778330177044606\n\\item 0.0527215158992976\n\\end{enumerate*}\n",
            "text/markdown": "A Time Series:  \n1. -0.176892222279526\n2. -0.139173158032478\n3. -0.0806647888742176\n4. -0.0311023722068066\n5. 0.00778330177044606\n6. 0.0527215158992976\n\n\n",
            "text/html": [
              "A Time Series:<br><style>\n",
              ".list-inline {list-style: none; margin:0; padding: 0}\n",
              ".list-inline>li {display: inline-block}\n",
              ".list-inline>li:not(:last-child)::after {content: \"\\00b7\"; padding: 0 .5ex}\n",
              "</style>\n",
              "<ol class=list-inline><li>-0.176892222279526</li><li>-0.139173158032478</li><li>-0.0806647888742176</li><li>-0.0311023722068066</li><li>0.00778330177044606</li><li>0.0527215158992976</li></ol>\n"
            ]
          },
          "metadata": {
            "tags": []
          }
        }
      ]
    },
    {
      "cell_type": "code",
      "metadata": {
        "colab": {
          "base_uri": "https://localhost:8080/",
          "height": 34
        },
        "id": "i2fN1KMjfsXn",
        "outputId": "4330cac6-d57a-4f53-b615-13a8e5d46e5c"
      },
      "source": [
        "# Mean Square Error Loss - Forecast a\n",
        "gjrgarch.mse.a <- MSE(sigma.gjrgarch[,'sigma.gjrgarch.pred.a'],\n",
        "                      sigma.gjrgarch[,'sigma.gjrgarch.true'])\n",
        "round(gjrgarch.mse.a, digits = 3)     "
      ],
      "id": "i2fN1KMjfsXn",
      "execution_count": 124,
      "outputs": [
        {
          "output_type": "display_data",
          "data": {
            "text/plain": [
              "[1] 13.071"
            ],
            "text/latex": "13.071",
            "text/markdown": "13.071",
            "text/html": [
              "13.071"
            ]
          },
          "metadata": {
            "tags": []
          }
        }
      ]
    },
    {
      "cell_type": "code",
      "metadata": {
        "colab": {
          "base_uri": "https://localhost:8080/",
          "height": 34
        },
        "id": "Lvt4jBa7ft6T",
        "outputId": "a2dd87af-5e4a-4606-d86f-c82961a22042"
      },
      "source": [
        "# Mean Square Error Loss - Forecast b\n",
        "gjrgarch.mse.b <- MSE(sigma.gjrgarch[,'sigma.gjrgarch.pred.b'],\n",
        "                      sigma.gjrgarch[,'sigma.gjrgarch.true'])\n",
        "round(gjrgarch.mse.b, digits = 3) "
      ],
      "id": "Lvt4jBa7ft6T",
      "execution_count": 125,
      "outputs": [
        {
          "output_type": "display_data",
          "data": {
            "text/plain": [
              "[1] 12.823"
            ],
            "text/latex": "12.823",
            "text/markdown": "12.823",
            "text/html": [
              "12.823"
            ]
          },
          "metadata": {
            "tags": []
          }
        }
      ]
    },
    {
      "cell_type": "code",
      "metadata": {
        "colab": {
          "base_uri": "https://localhost:8080/",
          "height": 34
        },
        "id": "0F8MhYOFfveh",
        "outputId": "3e6012c3-5a9d-4c4f-e89b-4a1a4eed520f"
      },
      "source": [
        "# Mean Absolute Error Loss - Forecast a\n",
        "gjrgarch.mae.a <- MAE(sigma.gjrgarch[,'sigma.gjrgarch.pred.a'],\n",
        "                      sigma.gjrgarch[,'sigma.gjrgarch.true'])\n",
        "round(gjrgarch.mae.a, digits = 3)"
      ],
      "id": "0F8MhYOFfveh",
      "execution_count": 126,
      "outputs": [
        {
          "output_type": "display_data",
          "data": {
            "text/plain": [
              "[1] 0.725"
            ],
            "text/latex": "0.725",
            "text/markdown": "0.725",
            "text/html": [
              "0.725"
            ]
          },
          "metadata": {
            "tags": []
          }
        }
      ]
    },
    {
      "cell_type": "code",
      "metadata": {
        "colab": {
          "base_uri": "https://localhost:8080/",
          "height": 34
        },
        "id": "jzHyH96NfxBJ",
        "outputId": "6f351fca-7f66-4445-8f6a-3c12c42ec9bb"
      },
      "source": [
        "# Mean Absolute Error Loss - Forecast b\n",
        "gjrgarch.mae.b <- MAE(sigma.gjrgarch[,'sigma.gjrgarch.pred.b'],\n",
        "                      sigma.gjrgarch[,'sigma.gjrgarch.true'])\n",
        "round(gjrgarch.mae.b, digits = 3)"
      ],
      "id": "jzHyH96NfxBJ",
      "execution_count": 127,
      "outputs": [
        {
          "output_type": "display_data",
          "data": {
            "text/plain": [
              "[1] 0.697"
            ],
            "text/latex": "0.697",
            "text/markdown": "0.697",
            "text/html": [
              "0.697"
            ]
          },
          "metadata": {
            "tags": []
          }
        }
      ]
    },
    {
      "cell_type": "code",
      "metadata": {
        "colab": {
          "base_uri": "https://localhost:8080/",
          "height": 34
        },
        "id": "-h5RQeH-fyoY",
        "outputId": "fbf3f662-27b8-4555-9901-9d00a265218c"
      },
      "source": [
        "# Root Mean Square Error Loss - Forecast a\n",
        "gjrgarch.rmse.a <- RMSE(sigma.gjrgarch[,'sigma.gjrgarch.pred.a'],\n",
        "                        sigma.gjrgarch[,'sigma.gjrgarch.true'])\n",
        "round(gjrgarch.rmse.a, digits = 3)"
      ],
      "id": "-h5RQeH-fyoY",
      "execution_count": 128,
      "outputs": [
        {
          "output_type": "display_data",
          "data": {
            "text/plain": [
              "[1] 3.615"
            ],
            "text/latex": "3.615",
            "text/markdown": "3.615",
            "text/html": [
              "3.615"
            ]
          },
          "metadata": {
            "tags": []
          }
        }
      ]
    },
    {
      "cell_type": "code",
      "metadata": {
        "colab": {
          "base_uri": "https://localhost:8080/",
          "height": 34
        },
        "id": "CO0j4hDsf0d4",
        "outputId": "da035288-d0f6-407e-eb94-4e7c477b6086"
      },
      "source": [
        "# Root Mean Square Error Loss - Forecast b\n",
        "gjrgarch.rmse.b <- RMSE(sigma.gjrgarch[,'sigma.gjrgarch.pred.b'],\n",
        "                        sigma.gjrgarch[,'sigma.gjrgarch.true'])\n",
        "round(gjrgarch.rmse.b, digits = 3)"
      ],
      "id": "CO0j4hDsf0d4",
      "execution_count": 129,
      "outputs": [
        {
          "output_type": "display_data",
          "data": {
            "text/plain": [
              "[1] 3.581"
            ],
            "text/latex": "3.581",
            "text/markdown": "3.581",
            "text/html": [
              "3.581"
            ]
          },
          "metadata": {
            "tags": []
          }
        }
      ]
    },
    {
      "cell_type": "code",
      "metadata": {
        "colab": {
          "base_uri": "https://localhost:8080/",
          "height": 34
        },
        "id": "0izvA6naf2CT",
        "outputId": "ae634cd7-f6b6-4ed0-eab6-e01006673767"
      },
      "source": [
        "# Quasi-likelihood loss function - forecast a\n",
        "h <- sigma.gjrgarch[,'sigma.gjrgarch.true']\n",
        "\n",
        "h.hat.a <- sigma.gjrgarch[,'sigma.gjrgarch.pred.a']     \n",
        "gjrgarch.qlike.a <- mean(log(sqrt(h)) + h.hat.a/sqrt(h))\n",
        "round(gjrgarch.qlike.a, digits = 5) "
      ],
      "id": "0izvA6naf2CT",
      "execution_count": 130,
      "outputs": [
        {
          "output_type": "display_data",
          "data": {
            "text/plain": [
              "[1] 0.70384"
            ],
            "text/latex": "0.70384",
            "text/markdown": "0.70384",
            "text/html": [
              "0.70384"
            ]
          },
          "metadata": {
            "tags": []
          }
        }
      ]
    },
    {
      "cell_type": "code",
      "metadata": {
        "colab": {
          "base_uri": "https://localhost:8080/",
          "height": 34
        },
        "id": "OkYbmGlgf4CE",
        "outputId": "5013ad9b-91c3-4105-a28b-869d58f25696"
      },
      "source": [
        "# Quasi-likelihood loss function - forecast b\n",
        "h.hat.b <- sigma.gjrgarch[,'sigma.gjrgarch.pred.b']\n",
        "gjrgarch.qlike.b <- mean(log(sqrt(h)) + h.hat.b/sqrt(h))\n",
        "round(gjrgarch.qlike.b, digits = 5) "
      ],
      "id": "OkYbmGlgf4CE",
      "execution_count": 131,
      "outputs": [
        {
          "output_type": "display_data",
          "data": {
            "text/plain": [
              "[1] 0.65158"
            ],
            "text/latex": "0.65158",
            "text/markdown": "0.65158",
            "text/html": [
              "0.65158"
            ]
          },
          "metadata": {
            "tags": []
          }
        }
      ]
    },
    {
      "cell_type": "code",
      "metadata": {
        "colab": {
          "base_uri": "https://localhost:8080/",
          "height": 119
        },
        "id": "rzS76jQef6U9",
        "outputId": "cf0c454c-859b-465d-ac2c-29db5e618e7d"
      },
      "source": [
        "# Diebold-Mariano Test (accuracy test) - test 1\n",
        "f.a <- sigma.gjrgarch[,'sigma.gjrgarch.pred.a']\n",
        "f.b <- sigma.gjrgarch[,'sigma.gjrgarch.pred.b']\n",
        "y <- sigma.gjrgarch[,'sigma.gjrgarch.true']\n",
        "\n",
        "DM.test(f.a, f.b, y, loss.type = \"SE\", c = FALSE, H1 = \"same\")"
      ],
      "id": "rzS76jQef6U9",
      "execution_count": 132,
      "outputs": [
        {
          "output_type": "display_data",
          "data": {
            "text/plain": [
              "\n",
              "\tDiebold-Mariano test\n",
              "\n",
              "data:  f.a and f.b and y\n",
              "statistic = 3.2185, forecast horizon = 1, p-value = 0.001289\n",
              "alternative hypothesis: Forecast f1 and f2 have different accuracy.\n"
            ]
          },
          "metadata": {
            "tags": []
          }
        }
      ]
    },
    {
      "cell_type": "code",
      "metadata": {
        "colab": {
          "base_uri": "https://localhost:8080/",
          "height": 136
        },
        "id": "6Z5ZUPt9f78m",
        "outputId": "36989f88-5cfc-4a40-de75-0abbb11ebb5d"
      },
      "source": [
        "# Diebold-Mariano test for predictive accuracy - test 2\n",
        "e.a <- gjrgarch.error.a\n",
        "e.b <- gjrgarch.error.b\n",
        "\n",
        "dm.test(e.a, e.b, alternative = \"two.sided\", h = 1, power = 2)"
      ],
      "id": "6Z5ZUPt9f78m",
      "execution_count": 133,
      "outputs": [
        {
          "output_type": "display_data",
          "data": {
            "text/plain": [
              "\n",
              "\tDiebold-Mariano Test\n",
              "\n",
              "data:  e.ae.b\n",
              "DM = 3.2175, Forecast horizon = 1, Loss function power = 2, p-value =\n",
              "0.001319\n",
              "alternative hypothesis: two.sided\n"
            ]
          },
          "metadata": {
            "tags": []
          }
        }
      ]
    },
    {
      "cell_type": "code",
      "metadata": {
        "colab": {
          "base_uri": "https://localhost:8080/",
          "height": 34
        },
        "id": "VXp_bhCxf9j3",
        "outputId": "6ba1b5e1-4567-4c6f-d078-fb2bbd79fbcb"
      },
      "source": [
        "# Quasi-likelihood Loss Function For Volatility Forecasts - forecast a\n",
        "gjrgarch.qlike.a <- mean(LossVol(sigma.gjrgarch[,'sigma.gjrgarch.true'],\n",
        "                                 sigma.gjrgarch[,'sigma.gjrgarch.pred.a'],\n",
        "                                 which = \"QLIKE\"))\n",
        "round(gjrgarch.qlike.a, digits = 3)"
      ],
      "id": "VXp_bhCxf9j3",
      "execution_count": 134,
      "outputs": [
        {
          "output_type": "display_data",
          "data": {
            "text/plain": [
              "[1] 0.591"
            ],
            "text/latex": "0.591",
            "text/markdown": "0.591",
            "text/html": [
              "0.591"
            ]
          },
          "metadata": {
            "tags": []
          }
        }
      ]
    },
    {
      "cell_type": "code",
      "metadata": {
        "colab": {
          "base_uri": "https://localhost:8080/",
          "height": 34
        },
        "id": "rdnKVIIPhRw-",
        "outputId": "7002b4bd-8b2e-4157-83fe-b192d4dc1ea8"
      },
      "source": [
        "# Quasi-likelihood Loss Function For Volatility Forecasts - forecast b\n",
        "gjrgarch.qlike.b <- mean(LossVol(sigma.gjrgarch[,'sigma.gjrgarch.true'],\n",
        "                                 sigma.gjrgarch[,'sigma.gjrgarch.pred.b'],\n",
        "                                 which = \"QLIKE\"))\n",
        "round(gjrgarch.qlike.b, digits = 3)"
      ],
      "id": "rdnKVIIPhRw-",
      "execution_count": 135,
      "outputs": [
        {
          "output_type": "display_data",
          "data": {
            "text/plain": [
              "[1] 0.481"
            ],
            "text/latex": "0.481",
            "text/markdown": "0.481",
            "text/html": [
              "0.481"
            ]
          },
          "metadata": {
            "tags": []
          }
        }
      ]
    },
    {
      "cell_type": "code",
      "metadata": {
        "colab": {
          "base_uri": "https://localhost:8080/",
          "height": 34
        },
        "id": "MS_N8LCMhTKg",
        "outputId": "d610d362-d56c-4bb7-e6f3-7b7cde39f0ac"
      },
      "source": [
        "# Log loss / Cross-Entropy Loss -  forecast a\n",
        "gjrgarch.logloss.a <- LogLoss(sigma.gjrgarch[,'sigma.gjrgarch.pred.a'],\n",
        "                              sigma.gjrgarch[,'sigma.gjrgarch.true'])\n",
        "round(gjrgarch.logloss.a, digits = 3)"
      ],
      "id": "MS_N8LCMhTKg",
      "execution_count": 136,
      "outputs": [
        {
          "output_type": "display_data",
          "data": {
            "text/plain": [
              "[1] -21.388"
            ],
            "text/latex": "-21.388",
            "text/markdown": "-21.388",
            "text/html": [
              "-21.388"
            ]
          },
          "metadata": {
            "tags": []
          }
        }
      ]
    },
    {
      "cell_type": "code",
      "metadata": {
        "colab": {
          "base_uri": "https://localhost:8080/",
          "height": 34
        },
        "id": "5d2cFCtrhU8y",
        "outputId": "13ef1369-bbf0-47b8-cddd-df1b0c35f107"
      },
      "source": [
        "# Log loss / Cross-Entropy Loss -  forecast b\n",
        "gjrgarch.logloss.b <- LogLoss(sigma.gjrgarch[,'sigma.gjrgarch.pred.b'],\n",
        "                              sigma.gjrgarch[,'sigma.gjrgarch.true'])\n",
        "round(gjrgarch.logloss.b, digits = 3)"
      ],
      "id": "5d2cFCtrhU8y",
      "execution_count": 137,
      "outputs": [
        {
          "output_type": "display_data",
          "data": {
            "text/plain": [
              "[1] -21.399"
            ],
            "text/latex": "-21.399",
            "text/markdown": "-21.399",
            "text/html": [
              "-21.399"
            ]
          },
          "metadata": {
            "tags": []
          }
        }
      ]
    },
    {
      "cell_type": "code",
      "metadata": {
        "colab": {
          "base_uri": "https://localhost:8080/",
          "height": 170
        },
        "id": "b1gMzpGYhWtR",
        "outputId": "89362632-3ab2-4094-e3f4-9e280fefc06e"
      },
      "source": [
        "# Linear regression to assess forecast performance - forecast a\n",
        "gjrgarch.model.a <- lm(sigma.gjrgarch.true ~ sigma.gjrgarch.pred.a, \n",
        "                      data = sigma.gjrgarch)\n",
        "round(coeftest(gjrgarch.model.a, NeweyWest(gjrgarch.model.a,\n",
        "                                          lag = bwNeweyWest(gjrgarch.model.a),\n",
        "                                          prewhite = F)), 3)\n",
        "round(summary(gjrgarch.model.a)$adj.r.squared, 3)"
      ],
      "id": "b1gMzpGYhWtR",
      "execution_count": 138,
      "outputs": [
        {
          "output_type": "display_data",
          "data": {
            "text/plain": [
              "\n",
              "t test of coefficients:\n",
              "\n",
              "                      Estimate Std. Error t value  Pr(>|t|)    \n",
              "(Intercept)             -3.703      0.659  -5.618 < 2.2e-16 ***\n",
              "sigma.gjrgarch.pred.a    5.785      0.878   6.590 < 2.2e-16 ***\n",
              "---\n",
              "Signif. codes:  0 ‘***’ 0.001 ‘**’ 0.01 ‘*’ 0.05 ‘.’ 0.1 ‘ ’ 1\n"
            ]
          },
          "metadata": {
            "tags": []
          }
        },
        {
          "output_type": "display_data",
          "data": {
            "text/plain": [
              "[1] 0.843"
            ],
            "text/latex": "0.843",
            "text/markdown": "0.843",
            "text/html": [
              "0.843"
            ]
          },
          "metadata": {
            "tags": []
          }
        }
      ]
    },
    {
      "cell_type": "code",
      "metadata": {
        "colab": {
          "base_uri": "https://localhost:8080/",
          "height": 170
        },
        "id": "tBYTx0AqhYC8",
        "outputId": "2bc31496-ba7b-4be4-f330-43b390fe77da"
      },
      "source": [
        "# Linear regression to assess forecast performance - forecast b\n",
        "gjrgarch.model.b <- lm(sigma.gjrgarch.true ~ sigma.gjrgarch.pred.b, \n",
        "                      data = sigma.gjrgarch)\n",
        "round(coeftest(gjrgarch.model.b, NeweyWest(gjrgarch.model.b,\n",
        "                                          lag = bwNeweyWest(gjrgarch.model.b),\n",
        "                                          prewhite = F)), 3)\n",
        "round(summary(gjrgarch.model.b)$adj.r.squared, 3)"
      ],
      "id": "tBYTx0AqhYC8",
      "execution_count": 139,
      "outputs": [
        {
          "output_type": "display_data",
          "data": {
            "text/plain": [
              "\n",
              "t test of coefficients:\n",
              "\n",
              "                      Estimate Std. Error t value  Pr(>|t|)    \n",
              "(Intercept)             -3.368      0.525  -6.420 < 2.2e-16 ***\n",
              "sigma.gjrgarch.pred.b    5.567      0.715   7.786 < 2.2e-16 ***\n",
              "---\n",
              "Signif. codes:  0 ‘***’ 0.001 ‘**’ 0.01 ‘*’ 0.05 ‘.’ 0.1 ‘ ’ 1\n"
            ]
          },
          "metadata": {
            "tags": []
          }
        },
        {
          "output_type": "display_data",
          "data": {
            "text/plain": [
              "[1] 0.86"
            ],
            "text/latex": "0.86",
            "text/markdown": "0.86",
            "text/html": [
              "0.86"
            ]
          },
          "metadata": {
            "tags": []
          }
        }
      ]
    },
    {
      "cell_type": "markdown",
      "metadata": {
        "id": "hBtX1JYCb3s3"
      },
      "source": [
        "#11. Forecast - Realized GARCH models"
      ],
      "id": "hBtX1JYCb3s3"
    },
    {
      "cell_type": "markdown",
      "metadata": {
        "id": "UIwlmS2LcHzI"
      },
      "source": [
        "##(a) Realized Linear GARCH"
      ],
      "id": "UIwlmS2LcHzI"
    },
    {
      "cell_type": "markdown",
      "metadata": {
        "id": "m1Lwk0WVrwGP"
      },
      "source": [
        "**Forecast**"
      ],
      "id": "m1Lwk0WVrwGP"
    },
    {
      "cell_type": "code",
      "metadata": {
        "id": "qz6geGd9cb1b"
      },
      "source": [
        "# Model specification\n",
        "realgarch.spec.pred <- realgarch.spec\n",
        "setfixed(realgarch.spec.pred) <- as.list(coef(realgarch.fit))"
      ],
      "id": "qz6geGd9cb1b",
      "execution_count": 140,
      "outputs": []
    },
    {
      "cell_type": "code",
      "metadata": {
        "id": "dmFRUuGzdBgQ"
      },
      "source": [
        "# Model adjustment\n",
        "realgarch.fit.pred <- ugarchfit(realgarch.spec,\n",
        "                                GSPTSE.df$GSPTSE.Return,\n",
        "                                out.sample = dim(GSPTSE.df.out)[1],\n",
        "                                solver = 'hybrid',\n",
        "                                realizedVol = GSPTSE.df$GSPTSE.VolGARCH)"
      ],
      "id": "dmFRUuGzdBgQ",
      "execution_count": 141,
      "outputs": []
    },
    {
      "cell_type": "code",
      "metadata": {
        "id": "uAyVSHF0eBkR"
      },
      "source": [
        "# Forecast calculated through adjustment\n",
        "realgarch.pred.a <- ugarchforecast(realgarch.fit.pred,\n",
        "                                   n.ahead = 1,\n",
        "                                   n.roll = dim(GSPTSE.df.out)[1])\n",
        "\n",
        "realgarch.forecast.a <- xts(sigma(realgarch.pred.a)[1,],\n",
        "                            move(as.Date(names(sigma(realgarch.pred.a)[1,])), by = 1))"
      ],
      "id": "uAyVSHF0eBkR",
      "execution_count": 142,
      "outputs": []
    },
    {
      "cell_type": "code",
      "metadata": {
        "id": "GpWgFuK_eVgR"
      },
      "source": [
        "# Forecast calculated using specification\n",
        "realgarch.pred.b <- ugarchforecast(realgarch.spec.pred, \n",
        "                                   n.ahead = 1, \n",
        "                                   n.roll = dim(GSPTSE.df.out)[1], \n",
        "                                   data = GSPTSE.df$GSPTSE.Return, \n",
        "                                   out.sample = dim(GSPTSE.df.out)[1], \n",
        "                                   realizedVol = GSPTSE.df$GSPTSE.VolRealGARCH)\n",
        "\n",
        "realgarch.forecast.b <- xts(sigma(realgarch.pred.b)[1,],\n",
        "                            move(as.Date(names(sigma(realgarch.pred.b)[1,])), by = 1))"
      ],
      "id": "GpWgFuK_eVgR",
      "execution_count": 143,
      "outputs": []
    },
    {
      "cell_type": "code",
      "metadata": {
        "id": "t-BKfrn_fXib"
      },
      "source": [
        "# Model filtering\n",
        "realgarch.filt.pred <- ugarchfilter(realgarch.spec.pred,\n",
        "                                    data = GSPTSE.df$GSPTSE.Return,\n",
        "                                    n.old = nrow(GSPTSE.df) - dim(GSPTSE.df.out)[1],\n",
        "                                    realizedVol = GSPTSE.df$GSPTSE.VolRealGARCH)\n",
        "\n",
        "realgarch.filt <- tail(sigma(realgarch.filt.pred), dim(GSPTSE.df.out)[1])"
      ],
      "id": "t-BKfrn_fXib",
      "execution_count": 145,
      "outputs": []
    },
    {
      "cell_type": "code",
      "metadata": {
        "colab": {
          "base_uri": "https://localhost:8080/",
          "height": 136
        },
        "id": "etKihjvFoDCY",
        "outputId": "f5f5af80-50b5-4b6d-970e-bae31d1166c3"
      },
      "source": [
        "# Comparative\n",
        "colnames(realgarch.filt) <- 'filter'\n",
        "colnames(realgarch.forecast.a) <- 'forecast1'\n",
        "colnames(realgarch.forecast.b) <- 'forecast2'\n",
        "\n",
        "realgarch.ftest <- cbind(realgarch.filt,\n",
        "                        realgarch.forecast.a,\n",
        "                        realgarch.forecast.b)\n",
        "head(round(realgarch.ftest, digits = 4))"
      ],
      "id": "etKihjvFoDCY",
      "execution_count": 146,
      "outputs": [
        {
          "output_type": "display_data",
          "data": {
            "text/plain": [
              "           filter forecast1 forecast2\n",
              "2014-12-23 1.3175    1.2397    1.3021\n",
              "2014-12-24 1.2750    1.1779    1.2523\n",
              "2014-12-29 1.2121    1.1700    1.1960\n",
              "2014-12-30 1.1995    1.1091    1.1835\n",
              "2014-12-31 1.1381    1.0577    1.1228\n",
              "2015-01-02 1.0845    1.0094    1.0692"
            ]
          },
          "metadata": {
            "tags": []
          }
        }
      ]
    },
    {
      "cell_type": "code",
      "metadata": {
        "colab": {
          "base_uri": "https://localhost:8080/",
          "height": 252
        },
        "id": "PLZ71If2oR7-",
        "outputId": "159b8690-ed1d-4258-8885-a8c6f24f2ce2"
      },
      "source": [
        "sigma.realgarch.pred.a <- ts(realgarch.forecast.a[-1,])\n",
        "sigma.realgarch.pred.b <- ts(realgarch.forecast.b[-1,])\n",
        "sigma.realgarch.true <- ts(GSPTSE.df.out$GSPTSE.VolRealGARCH)\n",
        "\n",
        "sigma.realgarch <- na.omit(cbind(sigma.realgarch.pred.a,\n",
        "                                sigma.realgarch.pred.b,\n",
        "                                sigma.realgarch.true))\n",
        "head(sigma.realgarch)"
      ],
      "id": "PLZ71If2oR7-",
      "execution_count": 147,
      "outputs": [
        {
          "output_type": "display_data",
          "data": {
            "text/plain": [
              "  sigma.realgarch.pred.a sigma.realgarch.pred.b sigma.realgarch.true\n",
              "1 1.177935               1.252332               1.594064            \n",
              "2 1.170044               1.195995               1.438625            \n",
              "3 1.109052               1.183493               1.409437            \n",
              "4 1.057723               1.122845               1.266390            \n",
              "5 1.009421               1.069236               1.148853            \n",
              "6 0.954505               1.015887               1.036969            "
            ],
            "text/latex": "A Time Series: 6 × 3\n\\begin{tabular}{r|lll}\n  & sigma.realgarch.pred.a & sigma.realgarch.pred.b & sigma.realgarch.true\\\\\n\\hline\n\t1 & 1.177935 & 1.252332 & 1.594064\\\\\n\t2 & 1.170044 & 1.195995 & 1.438625\\\\\n\t3 & 1.109052 & 1.183493 & 1.409437\\\\\n\t4 & 1.057723 & 1.122845 & 1.266390\\\\\n\t5 & 1.009421 & 1.069236 & 1.148853\\\\\n\t6 & 0.954505 & 1.015887 & 1.036969\\\\\n\\end{tabular}\n",
            "text/markdown": "\nA Time Series: 6 × 3\n\n| <!--/--> | sigma.realgarch.pred.a | sigma.realgarch.pred.b | sigma.realgarch.true |\n|---|---|---|---|\n| 1 | 1.177935 | 1.252332 | 1.594064 |\n| 2 | 1.170044 | 1.195995 | 1.438625 |\n| 3 | 1.109052 | 1.183493 | 1.409437 |\n| 4 | 1.057723 | 1.122845 | 1.266390 |\n| 5 | 1.009421 | 1.069236 | 1.148853 |\n| 6 | 0.954505 | 1.015887 | 1.036969 |\n\n",
            "text/html": [
              "<table class=\"dataframe\">\n",
              "<caption>A Time Series: 6 × 3</caption>\n",
              "<thead>\n",
              "\t<tr><th></th><th scope=col>sigma.realgarch.pred.a</th><th scope=col>sigma.realgarch.pred.b</th><th scope=col>sigma.realgarch.true</th></tr>\n",
              "</thead>\n",
              "<tbody>\n",
              "\t<tr><th scope=row>1</th><td>1.177935</td><td>1.252332</td><td>1.594064</td></tr>\n",
              "\t<tr><th scope=row>2</th><td>1.170044</td><td>1.195995</td><td>1.438625</td></tr>\n",
              "\t<tr><th scope=row>3</th><td>1.109052</td><td>1.183493</td><td>1.409437</td></tr>\n",
              "\t<tr><th scope=row>4</th><td>1.057723</td><td>1.122845</td><td>1.266390</td></tr>\n",
              "\t<tr><th scope=row>5</th><td>1.009421</td><td>1.069236</td><td>1.148853</td></tr>\n",
              "\t<tr><th scope=row>6</th><td>0.954505</td><td>1.015887</td><td>1.036969</td></tr>\n",
              "</tbody>\n",
              "</table>\n"
            ]
          },
          "metadata": {
            "tags": []
          }
        }
      ]
    },
    {
      "cell_type": "markdown",
      "metadata": {
        "id": "FC4yfA9tog9z"
      },
      "source": [
        "**Performance evaluation**"
      ],
      "id": "FC4yfA9tog9z"
    },
    {
      "cell_type": "code",
      "metadata": {
        "colab": {
          "base_uri": "https://localhost:8080/",
          "height": 51
        },
        "id": "8F-5qQlPojtX",
        "outputId": "dbd275e9-4d0b-4948-abf7-422a5fab4c18"
      },
      "source": [
        "# Forecast Error - Forecast a\n",
        "realgarch.error.a <- sigma.realgarch[,'sigma.realgarch.pred.a'] - sigma.realgarch[,'sigma.realgarch.true']\n",
        "head(realgarch.error.a)"
      ],
      "id": "8F-5qQlPojtX",
      "execution_count": 148,
      "outputs": [
        {
          "output_type": "display_data",
          "data": {
            "text/plain": [
              "A Time Series:\n",
              "[1] -0.41612941 -0.26858124 -0.30038499 -0.20866677 -0.13943154 -0.08246412"
            ],
            "text/latex": "A Time Series:\\\\\\begin{enumerate*}\n\\item -0.416129414690733\n\\item -0.268581242621161\n\\item -0.300384991004056\n\\item -0.208666773607309\n\\item -0.139431535916871\n\\item -0.0824641215684982\n\\end{enumerate*}\n",
            "text/markdown": "A Time Series:  \n1. -0.416129414690733\n2. -0.268581242621161\n3. -0.300384991004056\n4. -0.208666773607309\n5. -0.139431535916871\n6. -0.0824641215684982\n\n\n",
            "text/html": [
              "A Time Series:<br><style>\n",
              ".list-inline {list-style: none; margin:0; padding: 0}\n",
              ".list-inline>li {display: inline-block}\n",
              ".list-inline>li:not(:last-child)::after {content: \"\\00b7\"; padding: 0 .5ex}\n",
              "</style>\n",
              "<ol class=list-inline><li>-0.416129414690733</li><li>-0.268581242621161</li><li>-0.300384991004056</li><li>-0.208666773607309</li><li>-0.139431535916871</li><li>-0.0824641215684982</li></ol>\n"
            ]
          },
          "metadata": {
            "tags": []
          }
        }
      ]
    },
    {
      "cell_type": "code",
      "metadata": {
        "colab": {
          "base_uri": "https://localhost:8080/",
          "height": 51
        },
        "id": "PiJYuUxiotkL",
        "outputId": "85842ba5-f4f8-49f3-d34b-b26182a59314"
      },
      "source": [
        "# Forecast Error - Forecast b\n",
        "realgarch.error.b <- sigma.realgarch[,'sigma.realgarch.pred.b'] - sigma.realgarch[,'sigma.realgarch.true']\n",
        "head(realgarch.error.b)"
      ],
      "id": "PiJYuUxiotkL",
      "execution_count": 149,
      "outputs": [
        {
          "output_type": "display_data",
          "data": {
            "text/plain": [
              "A Time Series:\n",
              "[1] -0.34173188 -0.24263092 -0.22594368 -0.14354409 -0.07961674 -0.02108185"
            ],
            "text/latex": "A Time Series:\\\\\\begin{enumerate*}\n\\item -0.341731883933438\n\\item -0.242630920030003\n\\item -0.225943681661119\n\\item -0.143544091490686\n\\item -0.0796167408751491\n\\item -0.0210818514616675\n\\end{enumerate*}\n",
            "text/markdown": "A Time Series:  \n1. -0.341731883933438\n2. -0.242630920030003\n3. -0.225943681661119\n4. -0.143544091490686\n5. -0.0796167408751491\n6. -0.0210818514616675\n\n\n",
            "text/html": [
              "A Time Series:<br><style>\n",
              ".list-inline {list-style: none; margin:0; padding: 0}\n",
              ".list-inline>li {display: inline-block}\n",
              ".list-inline>li:not(:last-child)::after {content: \"\\00b7\"; padding: 0 .5ex}\n",
              "</style>\n",
              "<ol class=list-inline><li>-0.341731883933438</li><li>-0.242630920030003</li><li>-0.225943681661119</li><li>-0.143544091490686</li><li>-0.0796167408751491</li><li>-0.0210818514616675</li></ol>\n"
            ]
          },
          "metadata": {
            "tags": []
          }
        }
      ]
    },
    {
      "cell_type": "code",
      "metadata": {
        "colab": {
          "base_uri": "https://localhost:8080/",
          "height": 34
        },
        "id": "vbAvOFpLo0nu",
        "outputId": "4d2541d6-f372-4668-fd64-5a1baf5713fb"
      },
      "source": [
        "# Mean Square Error Loss - Forecast a\n",
        "realgarch.mse.a <- MSE(sigma.realgarch[,'sigma.realgarch.pred.a'],\n",
        "                      sigma.realgarch[,'sigma.realgarch.true'])\n",
        "round(realgarch.mse.a, digits = 3)"
      ],
      "id": "vbAvOFpLo0nu",
      "execution_count": 150,
      "outputs": [
        {
          "output_type": "display_data",
          "data": {
            "text/plain": [
              "[1] 10.398"
            ],
            "text/latex": "10.398",
            "text/markdown": "10.398",
            "text/html": [
              "10.398"
            ]
          },
          "metadata": {
            "tags": []
          }
        }
      ]
    },
    {
      "cell_type": "code",
      "metadata": {
        "colab": {
          "base_uri": "https://localhost:8080/",
          "height": 34
        },
        "id": "NYOMn_1jpBuo",
        "outputId": "6da51c23-e747-4bad-81f7-e23421ef242d"
      },
      "source": [
        "# Mean Square Error Loss - Forecast b\n",
        "realgarch.mse.b <- MSE(sigma.realgarch[,'sigma.realgarch.pred.b'],\n",
        "                      sigma.realgarch[,'sigma.realgarch.true'])\n",
        "round(realgarch.mse.b, digits = 3)"
      ],
      "id": "NYOMn_1jpBuo",
      "execution_count": 151,
      "outputs": [
        {
          "output_type": "display_data",
          "data": {
            "text/plain": [
              "[1] 10.137"
            ],
            "text/latex": "10.137",
            "text/markdown": "10.137",
            "text/html": [
              "10.137"
            ]
          },
          "metadata": {
            "tags": []
          }
        }
      ]
    },
    {
      "cell_type": "code",
      "metadata": {
        "colab": {
          "base_uri": "https://localhost:8080/",
          "height": 34
        },
        "id": "5gtUpAD3pLBL",
        "outputId": "18f4c21b-6aa0-496b-d8d0-a1fb28c22efa"
      },
      "source": [
        "# Mean Absolute Error Loss - Forecast a\n",
        "realgarch.mae.a <- MAE(sigma.realgarch[,'sigma.realgarch.pred.a'],\n",
        "                      sigma.realgarch[,'sigma.realgarch.true'])\n",
        "round(realgarch.mae.a, digits = 3)"
      ],
      "id": "5gtUpAD3pLBL",
      "execution_count": 152,
      "outputs": [
        {
          "output_type": "display_data",
          "data": {
            "text/plain": [
              "[1] 0.661"
            ],
            "text/latex": "0.661",
            "text/markdown": "0.661",
            "text/html": [
              "0.661"
            ]
          },
          "metadata": {
            "tags": []
          }
        }
      ]
    },
    {
      "cell_type": "code",
      "metadata": {
        "colab": {
          "base_uri": "https://localhost:8080/",
          "height": 34
        },
        "id": "vHqwSRt4psVv",
        "outputId": "0e5714e6-25a7-4edc-dac9-8266c61a3dfe"
      },
      "source": [
        "# Mean Absolute Error Loss - Forecast b\n",
        "realgarch.mae.b <- MAE(sigma.realgarch[,'sigma.realgarch.pred.b'],\n",
        "                      sigma.realgarch[,'sigma.realgarch.true'])\n",
        "round(realgarch.mae.b, digits = 3)"
      ],
      "id": "vHqwSRt4psVv",
      "execution_count": 153,
      "outputs": [
        {
          "output_type": "display_data",
          "data": {
            "text/plain": [
              "[1] 0.647"
            ],
            "text/latex": "0.647",
            "text/markdown": "0.647",
            "text/html": [
              "0.647"
            ]
          },
          "metadata": {
            "tags": []
          }
        }
      ]
    },
    {
      "cell_type": "code",
      "metadata": {
        "colab": {
          "base_uri": "https://localhost:8080/",
          "height": 34
        },
        "id": "zAncFWD3p1UQ",
        "outputId": "ebb490aa-032e-4097-aabd-d2124346450f"
      },
      "source": [
        "# Root Mean Square Error Loss - Forecast a\n",
        "realgarch.rmse.a <- RMSE(sigma.realgarch[,'sigma.realgarch.pred.a'],\n",
        "                        sigma.realgarch[,'sigma.realgarch.true'])\n",
        "round(realgarch.rmse.a, digits = 3)"
      ],
      "id": "zAncFWD3p1UQ",
      "execution_count": 154,
      "outputs": [
        {
          "output_type": "display_data",
          "data": {
            "text/plain": [
              "[1] 3.225"
            ],
            "text/latex": "3.225",
            "text/markdown": "3.225",
            "text/html": [
              "3.225"
            ]
          },
          "metadata": {
            "tags": []
          }
        }
      ]
    },
    {
      "cell_type": "code",
      "metadata": {
        "colab": {
          "base_uri": "https://localhost:8080/",
          "height": 34
        },
        "id": "YUT2DAgbp_Hh",
        "outputId": "844c40fb-eedb-4739-9839-9a97be787be5"
      },
      "source": [
        "# Root Mean Square Error Loss - Forecast b\n",
        "realgarch.rmse.b <- RMSE(sigma.realgarch[,'sigma.realgarch.pred.b'],\n",
        "                        sigma.realgarch[,'sigma.realgarch.true'])\n",
        "round(realgarch.rmse.b, digits = 3)"
      ],
      "id": "YUT2DAgbp_Hh",
      "execution_count": 155,
      "outputs": [
        {
          "output_type": "display_data",
          "data": {
            "text/plain": [
              "[1] 3.184"
            ],
            "text/latex": "3.184",
            "text/markdown": "3.184",
            "text/html": [
              "3.184"
            ]
          },
          "metadata": {
            "tags": []
          }
        }
      ]
    },
    {
      "cell_type": "code",
      "metadata": {
        "colab": {
          "base_uri": "https://localhost:8080/",
          "height": 34
        },
        "id": "7NgsSo1NqGeb",
        "outputId": "29467008-4971-4d87-c07d-8f10603fb289"
      },
      "source": [
        "# Quasi-likelihood loss function - forecast a\n",
        "h <- sigma.realgarch[,'sigma.realgarch.true']\n",
        "\n",
        "h.hat.a <- sigma.realgarch[,'sigma.realgarch.pred.a']     \n",
        "realgarch.qlike.a <- mean(log(sqrt(h)) + h.hat.a/sqrt(h))\n",
        "round(realgarch.qlike.a, digits = 5)"
      ],
      "id": "7NgsSo1NqGeb",
      "execution_count": 156,
      "outputs": [
        {
          "output_type": "display_data",
          "data": {
            "text/plain": [
              "[1] 0.64892"
            ],
            "text/latex": "0.64892",
            "text/markdown": "0.64892",
            "text/html": [
              "0.64892"
            ]
          },
          "metadata": {
            "tags": []
          }
        }
      ]
    },
    {
      "cell_type": "code",
      "metadata": {
        "id": "iW1lc37WqRWB",
        "colab": {
          "base_uri": "https://localhost:8080/",
          "height": 34
        },
        "outputId": "483b175e-b7b5-4bbc-9893-8b97aa1ffb3e"
      },
      "source": [
        "# Quasi-likelihood loss function - forecast b\n",
        "h.hat.b <- sigma.realgarch[,'sigma.realgarch.pred.b']\n",
        "realgarch.qlike.b <- mean(log(sqrt(h)) + h.hat.b/sqrt(h))\n",
        "round(realgarch.qlike.b, digits = 5)"
      ],
      "id": "iW1lc37WqRWB",
      "execution_count": 157,
      "outputs": [
        {
          "output_type": "display_data",
          "data": {
            "text/plain": [
              "[1] 0.648"
            ],
            "text/latex": "0.648",
            "text/markdown": "0.648",
            "text/html": [
              "0.648"
            ]
          },
          "metadata": {
            "tags": []
          }
        }
      ]
    },
    {
      "cell_type": "code",
      "metadata": {
        "colab": {
          "base_uri": "https://localhost:8080/",
          "height": 119
        },
        "id": "8pJzz3NkLbR_",
        "outputId": "8801491d-f70d-4088-ed32-4d1b08c73111"
      },
      "source": [
        "# Diebold-Mariano Test (accuracy test) - test 1\n",
        "f.a <- sigma.realgarch[,'sigma.realgarch.pred.a']\n",
        "f.b <- sigma.realgarch[,'sigma.realgarch.pred.b']\n",
        "y <- sigma.realgarch[,'sigma.realgarch.true']\n",
        "\n",
        "DM.test(f.a, f.b, y, loss.type = \"SE\", c = FALSE, H1 = \"same\")"
      ],
      "id": "8pJzz3NkLbR_",
      "execution_count": 158,
      "outputs": [
        {
          "output_type": "display_data",
          "data": {
            "text/plain": [
              "\n",
              "\tDiebold-Mariano test\n",
              "\n",
              "data:  f.a and f.b and y\n",
              "statistic = 3.6535, forecast horizon = 1, p-value = 0.0002587\n",
              "alternative hypothesis: Forecast f1 and f2 have different accuracy.\n"
            ]
          },
          "metadata": {
            "tags": []
          }
        }
      ]
    },
    {
      "cell_type": "code",
      "metadata": {
        "colab": {
          "base_uri": "https://localhost:8080/",
          "height": 136
        },
        "id": "xQq1f2KCLlQm",
        "outputId": "f2023358-fed7-4991-b5a1-5219919d665e"
      },
      "source": [
        "# Diebold-Mariano test for predictive accuracy - test 2\n",
        "e.a <- realgarch.error.a\n",
        "e.b <- realgarch.error.b\n",
        "\n",
        "dm.test(e.a, e.b, alternative = \"two.sided\", h = 1, power = 2)"
      ],
      "id": "xQq1f2KCLlQm",
      "execution_count": 159,
      "outputs": [
        {
          "output_type": "display_data",
          "data": {
            "text/plain": [
              "\n",
              "\tDiebold-Mariano Test\n",
              "\n",
              "data:  e.ae.b\n",
              "DM = 3.6523, Forecast horizon = 1, Loss function power = 2, p-value =\n",
              "0.0002682\n",
              "alternative hypothesis: two.sided\n"
            ]
          },
          "metadata": {
            "tags": []
          }
        }
      ]
    },
    {
      "cell_type": "code",
      "metadata": {
        "colab": {
          "base_uri": "https://localhost:8080/",
          "height": 34
        },
        "id": "jY7kH1DsLu0F",
        "outputId": "99d19573-d4be-476e-9f2a-6aee701e5a94"
      },
      "source": [
        "# Quasi-likelihood Loss Function For Volatility Forecasts - forecast a\n",
        "realgarch.qlike.a <- mean(LossVol(sigma.realgarch[,'sigma.realgarch.true'],\n",
        "                                  sigma.realgarch[,'sigma.realgarch.pred.a'],\n",
        "                                  which = \"QLIKE\"))\n",
        "round(realgarch.qlike.a, digits = 3)"
      ],
      "id": "jY7kH1DsLu0F",
      "execution_count": 160,
      "outputs": [
        {
          "output_type": "display_data",
          "data": {
            "text/plain": [
              "[1] 0.508"
            ],
            "text/latex": "0.508",
            "text/markdown": "0.508",
            "text/html": [
              "0.508"
            ]
          },
          "metadata": {
            "tags": []
          }
        }
      ]
    },
    {
      "cell_type": "code",
      "metadata": {
        "colab": {
          "base_uri": "https://localhost:8080/",
          "height": 34
        },
        "id": "q27uEsBQL7Qv",
        "outputId": "0e59df65-bfb0-4af5-f20e-58c44ad96642"
      },
      "source": [
        "# Quasi-likelihood Loss Function For Volatility Forecasts - forecast b\n",
        "realgarch.qlike.b <- mean(LossVol(sigma.realgarch[,'sigma.realgarch.true'],\n",
        "                                  sigma.realgarch[,'sigma.realgarch.pred.b'],\n",
        "                                  which = \"QLIKE\"))\n",
        "round(realgarch.qlike.b, digits = 3)"
      ],
      "id": "q27uEsBQL7Qv",
      "execution_count": 161,
      "outputs": [
        {
          "output_type": "display_data",
          "data": {
            "text/plain": [
              "[1] 0.42"
            ],
            "text/latex": "0.42",
            "text/markdown": "0.42",
            "text/html": [
              "0.42"
            ]
          },
          "metadata": {
            "tags": []
          }
        }
      ]
    },
    {
      "cell_type": "code",
      "metadata": {
        "colab": {
          "base_uri": "https://localhost:8080/",
          "height": 34
        },
        "id": "TMTJMS8Irbu-",
        "outputId": "53eeee8b-48ee-4253-c0c6-226e4c22a0c1"
      },
      "source": [
        "# Log loss / Cross-Entropy Loss -  forecast a\n",
        "realgarch.logloss.a <- LogLoss(sigma.realgarch[,'sigma.realgarch.pred.a'],\n",
        "                              sigma.realgarch[,'sigma.realgarch.true'])\n",
        "round(realgarch.logloss.a, digits = 3)"
      ],
      "id": "TMTJMS8Irbu-",
      "execution_count": 162,
      "outputs": [
        {
          "output_type": "display_data",
          "data": {
            "text/plain": [
              "[1] -19.675"
            ],
            "text/latex": "-19.675",
            "text/markdown": "-19.675",
            "text/html": [
              "-19.675"
            ]
          },
          "metadata": {
            "tags": []
          }
        }
      ]
    },
    {
      "cell_type": "code",
      "metadata": {
        "colab": {
          "base_uri": "https://localhost:8080/",
          "height": 34
        },
        "id": "YZMTB5ofrd7X",
        "outputId": "92a255c4-d6fc-49bd-be95-bcab02009b32"
      },
      "source": [
        "# Log loss / Cross-Entropy Loss -  forecast b\n",
        "realgarch.logloss.b <- LogLoss(sigma.realgarch[,'sigma.realgarch.pred.b'],\n",
        "                              sigma.realgarch[,'sigma.realgarch.true'])\n",
        "round(realgarch.logloss.b, digits = 3)"
      ],
      "id": "YZMTB5ofrd7X",
      "execution_count": 163,
      "outputs": [
        {
          "output_type": "display_data",
          "data": {
            "text/plain": [
              "[1] -19.756"
            ],
            "text/latex": "-19.756",
            "text/markdown": "-19.756",
            "text/html": [
              "-19.756"
            ]
          },
          "metadata": {
            "tags": []
          }
        }
      ]
    },
    {
      "cell_type": "code",
      "metadata": {
        "colab": {
          "base_uri": "https://localhost:8080/",
          "height": 170
        },
        "id": "JEMT__yorfjp",
        "outputId": "df881b2e-8a19-4cb3-c86d-0520aaf6c957"
      },
      "source": [
        "# Linear regression to assess forecast performance - forecast a\n",
        "realgarch.model.a <- lm(sigma.realgarch.true ~ sigma.realgarch.pred.a,\n",
        "                        data = sigma.realgarch)\n",
        "round(coeftest(realgarch.model.a, NeweyWest(realgarch.model.a,\n",
        "                                            lag = bwNeweyWest(realgarch.model.a),\n",
        "                                            prewhite = F)), 3)\n",
        "round(summary(realgarch.model.a)$adj.r.squared, 3)"
      ],
      "id": "JEMT__yorfjp",
      "execution_count": 164,
      "outputs": [
        {
          "output_type": "display_data",
          "data": {
            "text/plain": [
              "\n",
              "t test of coefficients:\n",
              "\n",
              "                       Estimate Std. Error t value  Pr(>|t|)    \n",
              "(Intercept)              -3.394      0.443  -7.659 < 2.2e-16 ***\n",
              "sigma.realgarch.pred.a    5.633      0.620   9.087 < 2.2e-16 ***\n",
              "---\n",
              "Signif. codes:  0 ‘***’ 0.001 ‘**’ 0.01 ‘*’ 0.05 ‘.’ 0.1 ‘ ’ 1\n"
            ]
          },
          "metadata": {
            "tags": []
          }
        },
        {
          "output_type": "display_data",
          "data": {
            "text/plain": [
              "[1] 0.86"
            ],
            "text/latex": "0.86",
            "text/markdown": "0.86",
            "text/html": [
              "0.86"
            ]
          },
          "metadata": {
            "tags": []
          }
        }
      ]
    },
    {
      "cell_type": "code",
      "metadata": {
        "colab": {
          "base_uri": "https://localhost:8080/",
          "height": 170
        },
        "id": "ldQCcTrrrhmc",
        "outputId": "d4b70799-27f8-40d0-a0cc-365b0168a92a"
      },
      "source": [
        "# Linear regression to assess forecast performance - forecast b\n",
        "realgarch.model.b <- lm(sigma.realgarch.true ~ sigma.realgarch.pred.b,\n",
        "                        data = sigma.realgarch)\n",
        "round(coeftest(realgarch.model.b, NeweyWest(realgarch.model.b,\n",
        "                                            lag = bwNeweyWest(realgarch.model.b),\n",
        "                                            prewhite = F)), 3)\n",
        "round(summary(realgarch.model.b)$adj.r.squared, 3)"
      ],
      "id": "ldQCcTrrrhmc",
      "execution_count": 165,
      "outputs": [
        {
          "output_type": "display_data",
          "data": {
            "text/plain": [
              "\n",
              "t test of coefficients:\n",
              "\n",
              "                       Estimate Std. Error t value  Pr(>|t|)    \n",
              "(Intercept)              -3.258      0.519  -6.279 < 2.2e-16 ***\n",
              "sigma.realgarch.pred.b    5.411      0.713   7.584 < 2.2e-16 ***\n",
              "---\n",
              "Signif. codes:  0 ‘***’ 0.001 ‘**’ 0.01 ‘*’ 0.05 ‘.’ 0.1 ‘ ’ 1\n"
            ]
          },
          "metadata": {
            "tags": []
          }
        },
        {
          "output_type": "display_data",
          "data": {
            "text/plain": [
              "[1] 0.883"
            ],
            "text/latex": "0.883",
            "text/markdown": "0.883",
            "text/html": [
              "0.883"
            ]
          },
          "metadata": {
            "tags": []
          }
        }
      ]
    },
    {
      "cell_type": "markdown",
      "metadata": {
        "id": "OuZavxA4cLrP"
      },
      "source": [
        "##(b) Realized EGARCH"
      ],
      "id": "OuZavxA4cLrP"
    },
    {
      "cell_type": "markdown",
      "metadata": {
        "id": "4sUcOAaFrz2G"
      },
      "source": [
        "**Forecast**"
      ],
      "id": "4sUcOAaFrz2G"
    },
    {
      "cell_type": "code",
      "metadata": {
        "id": "dCRNQymVi604"
      },
      "source": [
        "# Model specification\n",
        "realegarch.spec.pred <- realgarch.spec\n",
        "setfixed(realegarch.spec.pred) <- as.list(coef(realegarch.fit))"
      ],
      "id": "dCRNQymVi604",
      "execution_count": 166,
      "outputs": []
    },
    {
      "cell_type": "code",
      "metadata": {
        "id": "r2ZbX0BnqqNz"
      },
      "source": [
        "# Model adjustment\n",
        "realegarch.fit.pred <- ugarchfit(realgarch.spec,\n",
        "                                 GSPTSE.df$GSPTSE.Return,\n",
        "                                 out.sample = dim(GSPTSE.df.out)[1],\n",
        "                                 solver = 'hybrid',\n",
        "                                 realizedVol = GSPTSE.df$GSPTSE.VolEGARCH)"
      ],
      "id": "r2ZbX0BnqqNz",
      "execution_count": 167,
      "outputs": []
    },
    {
      "cell_type": "code",
      "metadata": {
        "id": "BMElDW_Jq3NC"
      },
      "source": [
        "# Forecast calculated through adjustment\n",
        "realegarch.pred.a <- ugarchforecast(realegarch.fit.pred,\n",
        "                                    n.ahead = 1,\n",
        "                                    n.roll = dim(GSPTSE.df.out)[1])\n",
        "\n",
        "realegarch.forecast.a <- xts(sigma(realegarch.pred.a)[1,],\n",
        "                             move(as.Date(names(sigma(realegarch.pred.a)[1,])), by = 1))"
      ],
      "id": "BMElDW_Jq3NC",
      "execution_count": 168,
      "outputs": []
    },
    {
      "cell_type": "code",
      "metadata": {
        "id": "sVpye2IHq__O"
      },
      "source": [
        "# Forecast calculated using specification\n",
        "realegarch.pred.b <- ugarchforecast(realegarch.spec.pred, \n",
        "                                   n.ahead = 1, \n",
        "                                   n.roll = dim(GSPTSE.df.out)[1], \n",
        "                                   data = GSPTSE.df$GSPTSE.Return, \n",
        "                                   out.sample = dim(GSPTSE.df.out)[1], \n",
        "                                   realizedVol = GSPTSE.df$GSPTSE.VolRealEGARCH)\n",
        "\n",
        "realegarch.forecast.b <- xts(sigma(realegarch.pred.b)[1,],\n",
        "                             move(as.Date(names(sigma(realegarch.pred.b)[1,])), by = 1))"
      ],
      "id": "sVpye2IHq__O",
      "execution_count": 169,
      "outputs": []
    },
    {
      "cell_type": "code",
      "metadata": {
        "id": "ippLtx4arSw6"
      },
      "source": [
        "# Model filtering\n",
        "realegarch.filt.pred <- ugarchfilter(realegarch.spec.pred,\n",
        "                                     data = GSPTSE.df$GSPTSE.Return,\n",
        "                                     n.old = nrow(GSPTSE.df) - dim(GSPTSE.df.out)[1],\n",
        "                                     realizedVol = GSPTSE.df$GSPTSE.VolRealEGARCH)\n",
        "\n",
        "realegarch.filt <- tail(sigma(realegarch.filt.pred), dim(GSPTSE.df.out)[1])"
      ],
      "id": "ippLtx4arSw6",
      "execution_count": 170,
      "outputs": []
    },
    {
      "cell_type": "code",
      "metadata": {
        "colab": {
          "base_uri": "https://localhost:8080/",
          "height": 136
        },
        "id": "-mfEos63rZUt",
        "outputId": "692d0849-73ff-47c4-da53-61c3136ec260"
      },
      "source": [
        "# Comparative\n",
        "colnames(realegarch.filt) <- 'filter'\n",
        "colnames(realegarch.forecast.a) <- 'forecast1'\n",
        "colnames(realegarch.forecast.b) <- 'forecast2'\n",
        "\n",
        "realegarch.ftest <- cbind(realegarch.filt,\n",
        "                         realegarch.forecast.a,\n",
        "                         realegarch.forecast.b)\n",
        "head(round(realegarch.ftest, digits = 4))"
      ],
      "id": "-mfEos63rZUt",
      "execution_count": 171,
      "outputs": [
        {
          "output_type": "display_data",
          "data": {
            "text/plain": [
              "           filter forecast1 forecast2\n",
              "2014-12-23 1.2368    1.1425    1.2155\n",
              "2014-12-24 1.1797    1.1041    1.1603\n",
              "2014-12-29 1.1385    1.0603    1.1169\n",
              "2014-12-30 1.0961    1.0013    1.0770\n",
              "2014-12-31 1.0312    0.9516    1.0130\n",
              "2015-01-02 0.9781    0.9142    0.9639"
            ]
          },
          "metadata": {
            "tags": []
          }
        }
      ]
    },
    {
      "cell_type": "code",
      "metadata": {
        "colab": {
          "base_uri": "https://localhost:8080/",
          "height": 252
        },
        "id": "ZQXrOuN3rgS6",
        "outputId": "68e48771-c5e3-40fe-e5ec-8c8f72b24769"
      },
      "source": [
        "sigma.realegarch.pred.a <- ts(realegarch.forecast.a[-1,])\n",
        "sigma.realegarch.pred.b <- ts(realegarch.forecast.b[-1,])\n",
        "sigma.realegarch.true <- ts(GSPTSE.df.out$GSPTSE.VolRealEGARCH)\n",
        "\n",
        "sigma.realegarch <- na.omit(cbind(sigma.realegarch.pred.a,\n",
        "                                 sigma.realegarch.pred.b,\n",
        "                                 sigma.realegarch.true))\n",
        "head(sigma.realegarch)"
      ],
      "id": "ZQXrOuN3rgS6",
      "execution_count": 172,
      "outputs": [
        {
          "output_type": "display_data",
          "data": {
            "text/plain": [
              "  sigma.realegarch.pred.a sigma.realegarch.pred.b sigma.realegarch.true\n",
              "1 1.1041356               1.1602745               1.3552904            \n",
              "2 1.0602687               1.1169366               1.2622921            \n",
              "3 1.0013312               1.0769907               1.1699173            \n",
              "4 0.9515991               1.0130122               1.0355009            \n",
              "5 0.9141595               0.9639379               0.9315373            \n",
              "6 0.8755182               0.9232588               0.8639194            "
            ],
            "text/latex": "A Time Series: 6 × 3\n\\begin{tabular}{r|lll}\n  & sigma.realegarch.pred.a & sigma.realegarch.pred.b & sigma.realegarch.true\\\\\n\\hline\n\t1 & 1.1041356 & 1.1602745 & 1.3552904\\\\\n\t2 & 1.0602687 & 1.1169366 & 1.2622921\\\\\n\t3 & 1.0013312 & 1.0769907 & 1.1699173\\\\\n\t4 & 0.9515991 & 1.0130122 & 1.0355009\\\\\n\t5 & 0.9141595 & 0.9639379 & 0.9315373\\\\\n\t6 & 0.8755182 & 0.9232588 & 0.8639194\\\\\n\\end{tabular}\n",
            "text/markdown": "\nA Time Series: 6 × 3\n\n| <!--/--> | sigma.realegarch.pred.a | sigma.realegarch.pred.b | sigma.realegarch.true |\n|---|---|---|---|\n| 1 | 1.1041356 | 1.1602745 | 1.3552904 |\n| 2 | 1.0602687 | 1.1169366 | 1.2622921 |\n| 3 | 1.0013312 | 1.0769907 | 1.1699173 |\n| 4 | 0.9515991 | 1.0130122 | 1.0355009 |\n| 5 | 0.9141595 | 0.9639379 | 0.9315373 |\n| 6 | 0.8755182 | 0.9232588 | 0.8639194 |\n\n",
            "text/html": [
              "<table class=\"dataframe\">\n",
              "<caption>A Time Series: 6 × 3</caption>\n",
              "<thead>\n",
              "\t<tr><th></th><th scope=col>sigma.realegarch.pred.a</th><th scope=col>sigma.realegarch.pred.b</th><th scope=col>sigma.realegarch.true</th></tr>\n",
              "</thead>\n",
              "<tbody>\n",
              "\t<tr><th scope=row>1</th><td>1.1041356</td><td>1.1602745</td><td>1.3552904</td></tr>\n",
              "\t<tr><th scope=row>2</th><td>1.0602687</td><td>1.1169366</td><td>1.2622921</td></tr>\n",
              "\t<tr><th scope=row>3</th><td>1.0013312</td><td>1.0769907</td><td>1.1699173</td></tr>\n",
              "\t<tr><th scope=row>4</th><td>0.9515991</td><td>1.0130122</td><td>1.0355009</td></tr>\n",
              "\t<tr><th scope=row>5</th><td>0.9141595</td><td>0.9639379</td><td>0.9315373</td></tr>\n",
              "\t<tr><th scope=row>6</th><td>0.8755182</td><td>0.9232588</td><td>0.8639194</td></tr>\n",
              "</tbody>\n",
              "</table>\n"
            ]
          },
          "metadata": {
            "tags": []
          }
        }
      ]
    },
    {
      "cell_type": "markdown",
      "metadata": {
        "id": "khFocUVZroGF"
      },
      "source": [
        "**Performance evaluation**"
      ],
      "id": "khFocUVZroGF"
    },
    {
      "cell_type": "code",
      "metadata": {
        "colab": {
          "base_uri": "https://localhost:8080/",
          "height": 51
        },
        "id": "e_JT3VHqrnxH",
        "outputId": "7007aa0a-3ed7-4502-bd6f-be06e89b5f31"
      },
      "source": [
        "# Forecast Error - Forecast a\n",
        "realegarch.error.a <- sigma.realegarch[,'sigma.realegarch.pred.a'] - sigma.realegarch[,'sigma.realegarch.true']\n",
        "head(realegarch.error.a)"
      ],
      "id": "e_JT3VHqrnxH",
      "execution_count": 173,
      "outputs": [
        {
          "output_type": "display_data",
          "data": {
            "text/plain": [
              "A Time Series:\n",
              "[1] -0.25115485 -0.20202341 -0.16858603 -0.08390182 -0.01737782  0.01159881"
            ],
            "text/latex": "A Time Series:\\\\\\begin{enumerate*}\n\\item -0.251154849536286\n\\item -0.202023405316716\n\\item -0.168586033040491\n\\item -0.0839018194840843\n\\item -0.0173778151871711\n\\item 0.0115988097057548\n\\end{enumerate*}\n",
            "text/markdown": "A Time Series:  \n1. -0.251154849536286\n2. -0.202023405316716\n3. -0.168586033040491\n4. -0.0839018194840843\n5. -0.0173778151871711\n6. 0.0115988097057548\n\n\n",
            "text/html": [
              "A Time Series:<br><style>\n",
              ".list-inline {list-style: none; margin:0; padding: 0}\n",
              ".list-inline>li {display: inline-block}\n",
              ".list-inline>li:not(:last-child)::after {content: \"\\00b7\"; padding: 0 .5ex}\n",
              "</style>\n",
              "<ol class=list-inline><li>-0.251154849536286</li><li>-0.202023405316716</li><li>-0.168586033040491</li><li>-0.0839018194840843</li><li>-0.0173778151871711</li><li>0.0115988097057548</li></ol>\n"
            ]
          },
          "metadata": {
            "tags": []
          }
        }
      ]
    },
    {
      "cell_type": "code",
      "metadata": {
        "colab": {
          "base_uri": "https://localhost:8080/",
          "height": 51
        },
        "id": "-9waGeC7r-AZ",
        "outputId": "92313397-c41c-4406-aad4-33017fccb884"
      },
      "source": [
        "# Forecast Error - Forecast b\n",
        "realegarch.error.b <- sigma.realegarch[,'sigma.realegarch.pred.b'] - sigma.realegarch[,'sigma.realegarch.true']\n",
        "head(realegarch.error.b)"
      ],
      "id": "-9waGeC7r-AZ",
      "execution_count": 174,
      "outputs": [
        {
          "output_type": "display_data",
          "data": {
            "text/plain": [
              "A Time Series:\n",
              "[1] -0.19501589 -0.14535554 -0.09292656 -0.02248869  0.03240057  0.05933936"
            ],
            "text/latex": "A Time Series:\\\\\\begin{enumerate*}\n\\item -0.195015894394571\n\\item -0.145355537047966\n\\item -0.0929265622155058\n\\item -0.022488686904754\n\\item 0.0324005711605929\n\\item 0.0593393637444083\n\\end{enumerate*}\n",
            "text/markdown": "A Time Series:  \n1. -0.195015894394571\n2. -0.145355537047966\n3. -0.0929265622155058\n4. -0.022488686904754\n5. 0.0324005711605929\n6. 0.0593393637444083\n\n\n",
            "text/html": [
              "A Time Series:<br><style>\n",
              ".list-inline {list-style: none; margin:0; padding: 0}\n",
              ".list-inline>li {display: inline-block}\n",
              ".list-inline>li:not(:last-child)::after {content: \"\\00b7\"; padding: 0 .5ex}\n",
              "</style>\n",
              "<ol class=list-inline><li>-0.195015894394571</li><li>-0.145355537047966</li><li>-0.0929265622155058</li><li>-0.022488686904754</li><li>0.0324005711605929</li><li>0.0593393637444083</li></ol>\n"
            ]
          },
          "metadata": {
            "tags": []
          }
        }
      ]
    },
    {
      "cell_type": "code",
      "metadata": {
        "colab": {
          "base_uri": "https://localhost:8080/",
          "height": 34
        },
        "id": "PiBrYKy6sEhq",
        "outputId": "14c6d0f6-e386-4889-806f-025daf5f8665"
      },
      "source": [
        "# Mean Square Error Loss - Forecast a\n",
        "realegarch.mse.a <- MSE(sigma.realegarch[,'sigma.realegarch.pred.a'],\n",
        "                        sigma.realegarch[,'sigma.realegarch.true'])\n",
        "round(realegarch.mse.a, digits = 3)"
      ],
      "id": "PiBrYKy6sEhq",
      "execution_count": 175,
      "outputs": [
        {
          "output_type": "display_data",
          "data": {
            "text/plain": [
              "[1] 5.891"
            ],
            "text/latex": "5.891",
            "text/markdown": "5.891",
            "text/html": [
              "5.891"
            ]
          },
          "metadata": {
            "tags": []
          }
        }
      ]
    },
    {
      "cell_type": "code",
      "metadata": {
        "colab": {
          "base_uri": "https://localhost:8080/",
          "height": 34
        },
        "id": "SnAzzICNsRN9",
        "outputId": "d8c6f61f-3d9c-4597-ed02-10c5543bf1a9"
      },
      "source": [
        "# Mean Square Error Loss - Forecast b\n",
        "realegarch.mse.b <- MSE(sigma.realegarch[,'sigma.realegarch.pred.b'],\n",
        "                        sigma.realegarch[,'sigma.realegarch.true'])\n",
        "round(realegarch.mse.b, digits = 3)"
      ],
      "id": "SnAzzICNsRN9",
      "execution_count": 176,
      "outputs": [
        {
          "output_type": "display_data",
          "data": {
            "text/plain": [
              "[1] 5.629"
            ],
            "text/latex": "5.629",
            "text/markdown": "5.629",
            "text/html": [
              "5.629"
            ]
          },
          "metadata": {
            "tags": []
          }
        }
      ]
    },
    {
      "cell_type": "code",
      "metadata": {
        "colab": {
          "base_uri": "https://localhost:8080/",
          "height": 34
        },
        "id": "8Gzrc_9ZsVuk",
        "outputId": "cc45391c-b319-4e66-961c-feccfa10514a"
      },
      "source": [
        "# Mean Absolute Error Loss - Forecast a\n",
        "realegarch.mae.a <- MAE(sigma.realegarch[,'sigma.realegarch.pred.a'],\n",
        "                        sigma.realegarch[,'sigma.realegarch.true'])\n",
        "round(realegarch.mae.a, digits = 3)"
      ],
      "id": "8Gzrc_9ZsVuk",
      "execution_count": 177,
      "outputs": [
        {
          "output_type": "display_data",
          "data": {
            "text/plain": [
              "[1] 0.53"
            ],
            "text/latex": "0.53",
            "text/markdown": "0.53",
            "text/html": [
              "0.53"
            ]
          },
          "metadata": {
            "tags": []
          }
        }
      ]
    },
    {
      "cell_type": "code",
      "metadata": {
        "colab": {
          "base_uri": "https://localhost:8080/",
          "height": 34
        },
        "id": "Cz721K6JsbCN",
        "outputId": "2fe9503b-cc29-4aa0-def9-f0f0e6390474"
      },
      "source": [
        "# Mean Absolute Error Loss - Forecast b\n",
        "realegarch.mae.b <- MAE(sigma.realegarch[,'sigma.realegarch.pred.b'],\n",
        "                        sigma.realegarch[,'sigma.realegarch.true'])\n",
        "round(realegarch.mae.b, digits = 3)"
      ],
      "id": "Cz721K6JsbCN",
      "execution_count": 178,
      "outputs": [
        {
          "output_type": "display_data",
          "data": {
            "text/plain": [
              "[1] 0.511"
            ],
            "text/latex": "0.511",
            "text/markdown": "0.511",
            "text/html": [
              "0.511"
            ]
          },
          "metadata": {
            "tags": []
          }
        }
      ]
    },
    {
      "cell_type": "code",
      "metadata": {
        "colab": {
          "base_uri": "https://localhost:8080/",
          "height": 34
        },
        "id": "9Eb94SMosgnv",
        "outputId": "baee6e47-afe4-4c81-b71d-5517c62a32cf"
      },
      "source": [
        "# Root Mean Square Error Loss - Forecast a\n",
        "realegarch.rmse.a <- RMSE(sigma.realegarch[,'sigma.realegarch.pred.a'],\n",
        "                          sigma.realegarch[,'sigma.realegarch.true'])\n",
        "round(realegarch.rmse.a, digits = 3)"
      ],
      "id": "9Eb94SMosgnv",
      "execution_count": 179,
      "outputs": [
        {
          "output_type": "display_data",
          "data": {
            "text/plain": [
              "[1] 2.427"
            ],
            "text/latex": "2.427",
            "text/markdown": "2.427",
            "text/html": [
              "2.427"
            ]
          },
          "metadata": {
            "tags": []
          }
        }
      ]
    },
    {
      "cell_type": "code",
      "metadata": {
        "colab": {
          "base_uri": "https://localhost:8080/",
          "height": 34
        },
        "id": "Prmb2aDFsnt3",
        "outputId": "e6f54f44-9d40-47ec-f936-8a041b52a32e"
      },
      "source": [
        "# Root Mean Square Error Loss - Forecast b\n",
        "realegarch.rmse.b <- RMSE(sigma.realegarch[,'sigma.realegarch.pred.b'],\n",
        "                         sigma.realegarch[,'sigma.realegarch.true'])\n",
        "round(realegarch.rmse.b, digits = 3)"
      ],
      "id": "Prmb2aDFsnt3",
      "execution_count": 180,
      "outputs": [
        {
          "output_type": "display_data",
          "data": {
            "text/plain": [
              "[1] 2.373"
            ],
            "text/latex": "2.373",
            "text/markdown": "2.373",
            "text/html": [
              "2.373"
            ]
          },
          "metadata": {
            "tags": []
          }
        }
      ]
    },
    {
      "cell_type": "code",
      "metadata": {
        "colab": {
          "base_uri": "https://localhost:8080/",
          "height": 34
        },
        "id": "0xvoZRpRst8e",
        "outputId": "ff1f7315-b62e-4e51-86a5-747cb847e661"
      },
      "source": [
        "# Quasi-likelihood loss function - forecast a\n",
        "h <- sigma.realegarch[,'sigma.realegarch.true']\n",
        "\n",
        "h.hat.a <- sigma.realegarch[,'sigma.realegarch.pred.a']     \n",
        "realegarch.qlike.a <- mean(log(sqrt(h)) + h.hat.a/sqrt(h))\n",
        "round(realegarch.qlike.a, digits = 5)"
      ],
      "id": "0xvoZRpRst8e",
      "execution_count": 181,
      "outputs": [
        {
          "output_type": "display_data",
          "data": {
            "text/plain": [
              "[1] 0.65172"
            ],
            "text/latex": "0.65172",
            "text/markdown": "0.65172",
            "text/html": [
              "0.65172"
            ]
          },
          "metadata": {
            "tags": []
          }
        }
      ]
    },
    {
      "cell_type": "code",
      "metadata": {
        "colab": {
          "base_uri": "https://localhost:8080/",
          "height": 34
        },
        "id": "bjmoDbwHsy07",
        "outputId": "7df346bd-9003-4e97-82ca-1cbd5d0081ff"
      },
      "source": [
        "# Quasi-likelihood loss function - forecast b\n",
        "h.hat.b <- sigma.realegarch[,'sigma.realegarch.pred.b']\n",
        "realegarch.qlike.b <- mean(log(sqrt(h)) + h.hat.b/sqrt(h))\n",
        "round(realegarch.qlike.b, digits = 5)"
      ],
      "id": "bjmoDbwHsy07",
      "execution_count": 182,
      "outputs": [
        {
          "output_type": "display_data",
          "data": {
            "text/plain": [
              "[1] 0.64583"
            ],
            "text/latex": "0.64583",
            "text/markdown": "0.64583",
            "text/html": [
              "0.64583"
            ]
          },
          "metadata": {
            "tags": []
          }
        }
      ]
    },
    {
      "cell_type": "code",
      "metadata": {
        "colab": {
          "base_uri": "https://localhost:8080/",
          "height": 119
        },
        "id": "pNX4j9UpM2Xp",
        "outputId": "1362cf6f-f80e-4c95-bf7d-2b49fd5a1010"
      },
      "source": [
        "# Diebold-Mariano Test (accuracy test) - test 1\n",
        "f.a <- sigma.realegarch[,'sigma.realegarch.pred.a']\n",
        "f.b <- sigma.realegarch[,'sigma.realegarch.pred.b']\n",
        "y <- sigma.realegarch[,'sigma.realegarch.true']\n",
        "\n",
        "DM.test(f.a, f.b, y, loss.type = \"SE\", c = FALSE, H1 = \"same\")"
      ],
      "id": "pNX4j9UpM2Xp",
      "execution_count": 183,
      "outputs": [
        {
          "output_type": "display_data",
          "data": {
            "text/plain": [
              "\n",
              "\tDiebold-Mariano test\n",
              "\n",
              "data:  f.a and f.b and y\n",
              "statistic = 3.4241, forecast horizon = 1, p-value = 0.0006169\n",
              "alternative hypothesis: Forecast f1 and f2 have different accuracy.\n"
            ]
          },
          "metadata": {
            "tags": []
          }
        }
      ]
    },
    {
      "cell_type": "code",
      "metadata": {
        "colab": {
          "base_uri": "https://localhost:8080/",
          "height": 136
        },
        "id": "rZuiAzulM5bV",
        "outputId": "4d7d3110-7df7-4a8d-95b0-b4c00bbeec79"
      },
      "source": [
        "# Diebold-Mariano test for predictive accuracy - test 2\n",
        "e.a <- realegarch.error.a\n",
        "e.b <- realegarch.error.b\n",
        "\n",
        "dm.test(e.a, e.b, alternative = \"two.sided\", h = 1, power = 2)"
      ],
      "id": "rZuiAzulM5bV",
      "execution_count": 184,
      "outputs": [
        {
          "output_type": "display_data",
          "data": {
            "text/plain": [
              "\n",
              "\tDiebold-Mariano Test\n",
              "\n",
              "data:  e.ae.b\n",
              "DM = 3.423, Forecast horizon = 1, Loss function power = 2, p-value =\n",
              "0.0006348\n",
              "alternative hypothesis: two.sided\n"
            ]
          },
          "metadata": {
            "tags": []
          }
        }
      ]
    },
    {
      "cell_type": "code",
      "metadata": {
        "colab": {
          "base_uri": "https://localhost:8080/",
          "height": 34
        },
        "id": "V1jfC8jiM7CV",
        "outputId": "903ff33c-b3fa-4f13-9433-c5fe0a1ff6cf"
      },
      "source": [
        "# Quasi-likelihood Loss Function For Volatility Forecasts - forecast a\n",
        "realegarch.qlike.a <- mean(LossVol(sigma.realegarch[,'sigma.realegarch.true'],\n",
        "                                  sigma.realegarch[,'sigma.realegarch.pred.a'],\n",
        "                                  which = \"QLIKE\"))\n",
        "round(realegarch.qlike.a, digits = 3)"
      ],
      "id": "V1jfC8jiM7CV",
      "execution_count": 185,
      "outputs": [
        {
          "output_type": "display_data",
          "data": {
            "text/plain": [
              "[1] 0.378"
            ],
            "text/latex": "0.378",
            "text/markdown": "0.378",
            "text/html": [
              "0.378"
            ]
          },
          "metadata": {
            "tags": []
          }
        }
      ]
    },
    {
      "cell_type": "code",
      "metadata": {
        "colab": {
          "base_uri": "https://localhost:8080/",
          "height": 34
        },
        "id": "zC1g4re5M9KZ",
        "outputId": "c3949e29-7f64-4c35-ba07-5fe81fb5d87e"
      },
      "source": [
        "# Quasi-likelihood Loss Function For Volatility Forecasts - forecast 1b\n",
        "realegarch.qlike.b <- mean(LossVol(sigma.realegarch[,'sigma.realegarch.true'],\n",
        "                                  sigma.realegarch[,'sigma.realegarch.pred.b'],\n",
        "                                  which = \"QLIKE\"))\n",
        "round(realegarch.qlike.b, digits = 3)"
      ],
      "id": "zC1g4re5M9KZ",
      "execution_count": 186,
      "outputs": [
        {
          "output_type": "display_data",
          "data": {
            "text/plain": [
              "[1] 0.27"
            ],
            "text/latex": "0.27",
            "text/markdown": "0.27",
            "text/html": [
              "0.27"
            ]
          },
          "metadata": {
            "tags": []
          }
        }
      ]
    },
    {
      "cell_type": "code",
      "metadata": {
        "colab": {
          "base_uri": "https://localhost:8080/",
          "height": 34
        },
        "id": "jGHSBt6Fs20A",
        "outputId": "58bcfcd7-2528-4e65-d7af-57f5fc05b5ae"
      },
      "source": [
        "# Log loss / Cross-Entropy Loss -  forecast a\n",
        "realegarch.logloss.a <- LogLoss(sigma.realegarch[,'sigma.realegarch.pred.a'],\n",
        "                                sigma.realegarch[,'sigma.realegarch.true'])\n",
        "round(realegarch.logloss.a, digits = 3)"
      ],
      "id": "jGHSBt6Fs20A",
      "execution_count": 187,
      "outputs": [
        {
          "output_type": "display_data",
          "data": {
            "text/plain": [
              "[1] -14.799"
            ],
            "text/latex": "-14.799",
            "text/markdown": "-14.799",
            "text/html": [
              "-14.799"
            ]
          },
          "metadata": {
            "tags": []
          }
        }
      ]
    },
    {
      "cell_type": "code",
      "metadata": {
        "colab": {
          "base_uri": "https://localhost:8080/",
          "height": 34
        },
        "id": "Xz953tWks75m",
        "outputId": "1dd415dd-63cb-4ca9-c947-01d39688f2a3"
      },
      "source": [
        "# Log loss / Cross-Entropy Loss -  forecast b\n",
        "realegarch.logloss.b <- LogLoss(sigma.realegarch[,'sigma.realegarch.pred.b'],\n",
        "                               sigma.realegarch[,'sigma.realegarch.true'])\n",
        "round(realegarch.logloss.b, digits = 3)"
      ],
      "id": "Xz953tWks75m",
      "execution_count": 188,
      "outputs": [
        {
          "output_type": "display_data",
          "data": {
            "text/plain": [
              "[1] -14.887"
            ],
            "text/latex": "-14.887",
            "text/markdown": "-14.887",
            "text/html": [
              "-14.887"
            ]
          },
          "metadata": {
            "tags": []
          }
        }
      ]
    },
    {
      "cell_type": "code",
      "metadata": {
        "colab": {
          "base_uri": "https://localhost:8080/",
          "height": 170
        },
        "id": "nDEjjWYytA3n",
        "outputId": "3835e186-0546-455e-ce1e-ac4a5a2b41c1"
      },
      "source": [
        "# Linear regression to assess forecast performance - forecast a\n",
        "realegarch.model.a <- lm(sigma.realegarch.true ~ sigma.realegarch.pred.a,\n",
        "                          data = sigma.realegarch)\n",
        "round(coeftest(realegarch.model.a, NeweyWest(realegarch.model.a,\n",
        "                                            lag = bwNeweyWest(realegarch.model.a),\n",
        "                                            prewhite = F)), 3)\n",
        "round(summary(realegarch.model.a)$adj.r.squared, 3)"
      ],
      "id": "nDEjjWYytA3n",
      "execution_count": 189,
      "outputs": [
        {
          "output_type": "display_data",
          "data": {
            "text/plain": [
              "\n",
              "t test of coefficients:\n",
              "\n",
              "                        Estimate Std. Error t value  Pr(>|t|)    \n",
              "(Intercept)               -2.896      0.587  -4.930 < 2.2e-16 ***\n",
              "sigma.realegarch.pred.a    4.905      0.806   6.086 < 2.2e-16 ***\n",
              "---\n",
              "Signif. codes:  0 ‘***’ 0.001 ‘**’ 0.01 ‘*’ 0.05 ‘.’ 0.1 ‘ ’ 1\n"
            ]
          },
          "metadata": {
            "tags": []
          }
        },
        {
          "output_type": "display_data",
          "data": {
            "text/plain": [
              "[1] 0.818"
            ],
            "text/latex": "0.818",
            "text/markdown": "0.818",
            "text/html": [
              "0.818"
            ]
          },
          "metadata": {
            "tags": []
          }
        }
      ]
    },
    {
      "cell_type": "code",
      "metadata": {
        "colab": {
          "base_uri": "https://localhost:8080/",
          "height": 170
        },
        "id": "pBwia3SptNNd",
        "outputId": "c6e73c23-3224-4b33-cc9e-ac2337d61e14"
      },
      "source": [
        "# Linear regression to assess forecast performance - forecast b\n",
        "realegarch.model.b <- lm(sigma.realegarch.true ~ sigma.realegarch.pred.b,\n",
        "                         data = sigma.realegarch)\n",
        "round(coeftest(realegarch.model.b, NeweyWest(realegarch.model.b,\n",
        "                                             lag = bwNeweyWest(realegarch.model.b),\n",
        "                                             prewhite = F)), 3)\n",
        "round(summary(realegarch.model.b)$adj.r.squared, 3)"
      ],
      "id": "pBwia3SptNNd",
      "execution_count": 190,
      "outputs": [
        {
          "output_type": "display_data",
          "data": {
            "text/plain": [
              "\n",
              "t test of coefficients:\n",
              "\n",
              "                        Estimate Std. Error t value  Pr(>|t|)    \n",
              "(Intercept)               -2.718      0.524  -5.183 < 2.2e-16 ***\n",
              "sigma.realegarch.pred.b    4.638      0.716   6.475 < 2.2e-16 ***\n",
              "---\n",
              "Signif. codes:  0 ‘***’ 0.001 ‘**’ 0.01 ‘*’ 0.05 ‘.’ 0.1 ‘ ’ 1\n"
            ]
          },
          "metadata": {
            "tags": []
          }
        },
        {
          "output_type": "display_data",
          "data": {
            "text/plain": [
              "[1] 0.859"
            ],
            "text/latex": "0.859",
            "text/markdown": "0.859",
            "text/html": [
              "0.859"
            ]
          },
          "metadata": {
            "tags": []
          }
        }
      ]
    },
    {
      "cell_type": "markdown",
      "metadata": {
        "id": "F09WUjYGcRlC"
      },
      "source": [
        "##(c) Realized GJR-GARCH"
      ],
      "id": "F09WUjYGcRlC"
    },
    {
      "cell_type": "markdown",
      "metadata": {
        "id": "qnRKcOcCta7o"
      },
      "source": [
        "**Forecast**"
      ],
      "id": "qnRKcOcCta7o"
    },
    {
      "cell_type": "code",
      "metadata": {
        "id": "Fqt19JCftdbE"
      },
      "source": [
        "# Model specification\n",
        "realgjrgarch.spec.pred <- realgarch.spec\n",
        "setfixed(realgjrgarch.spec.pred) <- as.list(coef(realgjrgarch.fit))"
      ],
      "id": "Fqt19JCftdbE",
      "execution_count": 191,
      "outputs": []
    },
    {
      "cell_type": "code",
      "metadata": {
        "id": "qXP7fhgBte5t"
      },
      "source": [
        "# Model adjustment\n",
        "realgjrgarch.fit.pred <- ugarchfit(realgarch.spec,\n",
        "                                  GSPTSE.df$GSPTSE.Return,\n",
        "                                  out.sample = dim(GSPTSE.df.out)[1],\n",
        "                                  solver = 'hybrid',\n",
        "                                  realizedVol = GSPTSE.df$GSPTSE.VolGJRGARCH)"
      ],
      "id": "qXP7fhgBte5t",
      "execution_count": 192,
      "outputs": []
    },
    {
      "cell_type": "code",
      "metadata": {
        "id": "uNJkuqkmtgvL"
      },
      "source": [
        "# Forecast calculated through adjustment\n",
        "realgjrgarch.pred.a <- ugarchforecast(realgjrgarch.fit.pred,\n",
        "                                      n.ahead = 1,\n",
        "                                      n.roll = dim(GSPTSE.df.out)[1])\n",
        "\n",
        "realgjrgarch.forecast.a <- xts(sigma(realgjrgarch.pred.a)[1,],\n",
        "                              move(as.Date(names(sigma(realgjrgarch.pred.a)[1,])), by = 1))"
      ],
      "id": "uNJkuqkmtgvL",
      "execution_count": 193,
      "outputs": []
    },
    {
      "cell_type": "code",
      "metadata": {
        "id": "rfCr3awkticN"
      },
      "source": [
        "# Forecast calculated using specification\n",
        "realgjrgarch.pred.b <- ugarchforecast(realgjrgarch.spec.pred, \n",
        "                                     n.ahead = 1, \n",
        "                                     n.roll = dim(GSPTSE.df.out)[1], \n",
        "                                     data = GSPTSE.df$GSPTSE.Return, \n",
        "                                     out.sample = dim(GSPTSE.df.out)[1], \n",
        "                                     realizedVol = GSPTSE.df$GSPTSE.VolRealGJRGARCH)\n",
        "\n",
        "realgjrgarch.forecast.b <- xts(sigma(realgjrgarch.pred.b)[1,],\n",
        "                               move(as.Date(names(sigma(realgjrgarch.pred.b)[1,])), by = 1))"
      ],
      "id": "rfCr3awkticN",
      "execution_count": 194,
      "outputs": []
    },
    {
      "cell_type": "code",
      "metadata": {
        "id": "3UzDKX5UtkC7"
      },
      "source": [
        "# Model filtering\n",
        "realgjrgarch.filt.pred <- ugarchfilter(realgjrgarch.spec.pred,\n",
        "                                      data = GSPTSE.df$GSPTSE.Return,\n",
        "                                      n.old = nrow(GSPTSE.df) - dim(GSPTSE.df.out)[1],\n",
        "                                      realizedVol = GSPTSE.df$GSPTSE.VolRealGJRGARCH)\n",
        "\n",
        "realgjrgarch.filt <- tail(sigma(realgjrgarch.filt.pred), dim(GSPTSE.df.out)[1])"
      ],
      "id": "3UzDKX5UtkC7",
      "execution_count": 195,
      "outputs": []
    },
    {
      "cell_type": "code",
      "metadata": {
        "colab": {
          "base_uri": "https://localhost:8080/",
          "height": 136
        },
        "id": "LNdVHJb2tla3",
        "outputId": "66e85893-8c6e-4425-bf68-61ee845e7eee"
      },
      "source": [
        "# Comparative\n",
        "colnames(realgjrgarch.filt) <- 'filter'\n",
        "colnames(realgjrgarch.forecast.a) <- 'forecast1'\n",
        "colnames(realgjrgarch.forecast.b) <- 'forecast2'\n",
        "\n",
        "realgjrgarch.ftest <- cbind(realgjrgarch.filt,\n",
        "                            realgjrgarch.forecast.a,\n",
        "                            realgjrgarch.forecast.b)\n",
        "head(round(realgjrgarch.ftest, digits = 4))"
      ],
      "id": "LNdVHJb2tla3",
      "execution_count": 196,
      "outputs": [
        {
          "output_type": "display_data",
          "data": {
            "text/plain": [
              "           filter forecast1 forecast2\n",
              "2014-12-23 1.2347    1.1567    1.2238\n",
              "2014-12-24 1.1857    1.1092    1.1711\n",
              "2014-12-29 1.1377    1.0718    1.1279\n",
              "2014-12-30 1.0993    1.0295    1.0900\n",
              "2014-12-31 1.0515    0.9879    1.0412\n",
              "2015-01-02 1.0075    0.9493    0.9948"
            ]
          },
          "metadata": {
            "tags": []
          }
        }
      ]
    },
    {
      "cell_type": "code",
      "metadata": {
        "colab": {
          "base_uri": "https://localhost:8080/",
          "height": 252
        },
        "id": "3ESbujLFtnAw",
        "outputId": "a1f54a87-c88a-4646-8159-9d9e8a8b5bcb"
      },
      "source": [
        "sigma.realgjrgarch.pred.a <- ts(realgjrgarch.forecast.a[-1,])\n",
        "sigma.realgjrgarch.pred.b <- ts(realgjrgarch.forecast.b[-1,])\n",
        "sigma.realgjrgarch.true <- ts(GSPTSE.df.out$GSPTSE.VolRealGJRGARCH)\n",
        "\n",
        "sigma.realgjrgarch <- na.omit(cbind(sigma.realgjrgarch.pred.a,\n",
        "                                    sigma.realgjrgarch.pred.b,\n",
        "                                    sigma.realgjrgarch.true))\n",
        "head(sigma.realgjrgarch)"
      ],
      "id": "3ESbujLFtnAw",
      "execution_count": 197,
      "outputs": [
        {
          "output_type": "display_data",
          "data": {
            "text/plain": [
              "  sigma.realgjrgarch.pred.a sigma.realgjrgarch.pred.b sigma.realgjrgarch.true\n",
              "1 1.1091957                 1.1710607                 1.3895732              \n",
              "2 1.0717518                 1.1279093                 1.2773820              \n",
              "3 1.0294875                 1.0900362                 1.1911848              \n",
              "4 0.9878780                 1.0411607                 1.0880667              \n",
              "5 0.9492646                 0.9947622                 0.9973505              \n",
              "6 0.9131324                 0.9534502                 0.9173963              "
            ],
            "text/latex": "A Time Series: 6 × 3\n\\begin{tabular}{r|lll}\n  & sigma.realgjrgarch.pred.a & sigma.realgjrgarch.pred.b & sigma.realgjrgarch.true\\\\\n\\hline\n\t1 & 1.1091957 & 1.1710607 & 1.3895732\\\\\n\t2 & 1.0717518 & 1.1279093 & 1.2773820\\\\\n\t3 & 1.0294875 & 1.0900362 & 1.1911848\\\\\n\t4 & 0.9878780 & 1.0411607 & 1.0880667\\\\\n\t5 & 0.9492646 & 0.9947622 & 0.9973505\\\\\n\t6 & 0.9131324 & 0.9534502 & 0.9173963\\\\\n\\end{tabular}\n",
            "text/markdown": "\nA Time Series: 6 × 3\n\n| <!--/--> | sigma.realgjrgarch.pred.a | sigma.realgjrgarch.pred.b | sigma.realgjrgarch.true |\n|---|---|---|---|\n| 1 | 1.1091957 | 1.1710607 | 1.3895732 |\n| 2 | 1.0717518 | 1.1279093 | 1.2773820 |\n| 3 | 1.0294875 | 1.0900362 | 1.1911848 |\n| 4 | 0.9878780 | 1.0411607 | 1.0880667 |\n| 5 | 0.9492646 | 0.9947622 | 0.9973505 |\n| 6 | 0.9131324 | 0.9534502 | 0.9173963 |\n\n",
            "text/html": [
              "<table class=\"dataframe\">\n",
              "<caption>A Time Series: 6 × 3</caption>\n",
              "<thead>\n",
              "\t<tr><th></th><th scope=col>sigma.realgjrgarch.pred.a</th><th scope=col>sigma.realgjrgarch.pred.b</th><th scope=col>sigma.realgjrgarch.true</th></tr>\n",
              "</thead>\n",
              "<tbody>\n",
              "\t<tr><th scope=row>1</th><td>1.1091957</td><td>1.1710607</td><td>1.3895732</td></tr>\n",
              "\t<tr><th scope=row>2</th><td>1.0717518</td><td>1.1279093</td><td>1.2773820</td></tr>\n",
              "\t<tr><th scope=row>3</th><td>1.0294875</td><td>1.0900362</td><td>1.1911848</td></tr>\n",
              "\t<tr><th scope=row>4</th><td>0.9878780</td><td>1.0411607</td><td>1.0880667</td></tr>\n",
              "\t<tr><th scope=row>5</th><td>0.9492646</td><td>0.9947622</td><td>0.9973505</td></tr>\n",
              "\t<tr><th scope=row>6</th><td>0.9131324</td><td>0.9534502</td><td>0.9173963</td></tr>\n",
              "</tbody>\n",
              "</table>\n"
            ]
          },
          "metadata": {
            "tags": []
          }
        }
      ]
    },
    {
      "cell_type": "markdown",
      "metadata": {
        "id": "XIXx7PfMto5u"
      },
      "source": [
        "**Performance evaluation**"
      ],
      "id": "XIXx7PfMto5u"
    },
    {
      "cell_type": "code",
      "metadata": {
        "colab": {
          "base_uri": "https://localhost:8080/",
          "height": 51
        },
        "id": "Ag4Mj-Ftton1",
        "outputId": "5d600dd3-0e71-41f4-e32f-6e5f3a670275"
      },
      "source": [
        "# Forecast Error - Forecast a\n",
        "realgjrgarch.error.a <- sigma.realgjrgarch[,'sigma.realgjrgarch.pred.a'] - sigma.realgjrgarch[,'sigma.realgjrgarch.true']\n",
        "head(realgjrgarch.error.a)"
      ],
      "id": "Ag4Mj-Ftton1",
      "execution_count": 198,
      "outputs": [
        {
          "output_type": "display_data",
          "data": {
            "text/plain": [
              "A Time Series:\n",
              "[1] -0.280377496 -0.205630127 -0.161697295 -0.100188681 -0.048085918\n",
              "[6] -0.004263907"
            ],
            "text/latex": "A Time Series:\\\\\\begin{enumerate*}\n\\item -0.28037749628942\n\\item -0.205630126552683\n\\item -0.161697295188785\n\\item -0.100188680961982\n\\item -0.0480859175475166\n\\item -0.00426390658385034\n\\end{enumerate*}\n",
            "text/markdown": "A Time Series:  \n1. -0.28037749628942\n2. -0.205630126552683\n3. -0.161697295188785\n4. -0.100188680961982\n5. -0.0480859175475166\n6. -0.00426390658385034\n\n\n",
            "text/html": [
              "A Time Series:<br><style>\n",
              ".list-inline {list-style: none; margin:0; padding: 0}\n",
              ".list-inline>li {display: inline-block}\n",
              ".list-inline>li:not(:last-child)::after {content: \"\\00b7\"; padding: 0 .5ex}\n",
              "</style>\n",
              "<ol class=list-inline><li>-0.28037749628942</li><li>-0.205630126552683</li><li>-0.161697295188785</li><li>-0.100188680961982</li><li>-0.0480859175475166</li><li>-0.00426390658385034</li></ol>\n"
            ]
          },
          "metadata": {
            "tags": []
          }
        }
      ]
    },
    {
      "cell_type": "code",
      "metadata": {
        "colab": {
          "base_uri": "https://localhost:8080/",
          "height": 51
        },
        "id": "uL_nAHaZtsmX",
        "outputId": "379f0fab-dc2e-47bd-cf41-42e7bb3a2a40"
      },
      "source": [
        "# Forecast Error - Forecast b\n",
        "realgjrgarch.error.b <- sigma.realgjrgarch[,'sigma.realgjrgarch.pred.b'] - sigma.realgjrgarch[,'sigma.realgjrgarch.true']\n",
        "head(realgjrgarch.error.b)"
      ],
      "id": "uL_nAHaZtsmX",
      "execution_count": 199,
      "outputs": [
        {
          "output_type": "display_data",
          "data": {
            "text/plain": [
              "A Time Series:\n",
              "[1] -0.21851252 -0.14947266 -0.10114852 -0.04690601 -0.00258837  0.03605390"
            ],
            "text/latex": "A Time Series:\\\\\\begin{enumerate*}\n\\item -0.218512521487002\n\\item -0.149472657414971\n\\item -0.101148520704158\n\\item -0.0469060111726083\n\\item -0.00258836984702471\n\\item 0.0360539042790213\n\\end{enumerate*}\n",
            "text/markdown": "A Time Series:  \n1. -0.218512521487002\n2. -0.149472657414971\n3. -0.101148520704158\n4. -0.0469060111726083\n5. -0.00258836984702471\n6. 0.0360539042790213\n\n\n",
            "text/html": [
              "A Time Series:<br><style>\n",
              ".list-inline {list-style: none; margin:0; padding: 0}\n",
              ".list-inline>li {display: inline-block}\n",
              ".list-inline>li:not(:last-child)::after {content: \"\\00b7\"; padding: 0 .5ex}\n",
              "</style>\n",
              "<ol class=list-inline><li>-0.218512521487002</li><li>-0.149472657414971</li><li>-0.101148520704158</li><li>-0.0469060111726083</li><li>-0.00258836984702471</li><li>0.0360539042790213</li></ol>\n"
            ]
          },
          "metadata": {
            "tags": []
          }
        }
      ]
    },
    {
      "cell_type": "code",
      "metadata": {
        "colab": {
          "base_uri": "https://localhost:8080/",
          "height": 34
        },
        "id": "jCrb2QAytuKC",
        "outputId": "89451472-371d-46ec-b6a4-11ae2f258516"
      },
      "source": [
        "# Mean Square Error Loss - Forecast a\n",
        "realgjrgarch.mse.a <- MSE(sigma.realgjrgarch[,'sigma.realgjrgarch.pred.a'],\n",
        "                          sigma.realgjrgarch[,'sigma.realgjrgarch.true'])\n",
        "round(realgjrgarch.mse.a, digits = 3)"
      ],
      "id": "jCrb2QAytuKC",
      "execution_count": 200,
      "outputs": [
        {
          "output_type": "display_data",
          "data": {
            "text/plain": [
              "[1] 12.062"
            ],
            "text/latex": "12.062",
            "text/markdown": "12.062",
            "text/html": [
              "12.062"
            ]
          },
          "metadata": {
            "tags": []
          }
        }
      ]
    },
    {
      "cell_type": "code",
      "metadata": {
        "colab": {
          "base_uri": "https://localhost:8080/",
          "height": 34
        },
        "id": "VJXxBH1wtvZc",
        "outputId": "a4484266-0894-40f9-8df5-2da94804e24a"
      },
      "source": [
        "# Mean Square Error Loss - Forecast b\n",
        "realgjrgarch.mse.b <- MSE(sigma.realgjrgarch[,'sigma.realgjrgarch.pred.b'],\n",
        "                          sigma.realgjrgarch[,'sigma.realgjrgarch.true'])\n",
        "round(realgjrgarch.mse.b, digits = 3)"
      ],
      "id": "VJXxBH1wtvZc",
      "execution_count": 201,
      "outputs": [
        {
          "output_type": "display_data",
          "data": {
            "text/plain": [
              "[1] 11.688"
            ],
            "text/latex": "11.688",
            "text/markdown": "11.688",
            "text/html": [
              "11.688"
            ]
          },
          "metadata": {
            "tags": []
          }
        }
      ]
    },
    {
      "cell_type": "code",
      "metadata": {
        "colab": {
          "base_uri": "https://localhost:8080/",
          "height": 34
        },
        "id": "ohL91LcHtxCm",
        "outputId": "6bcf4229-2851-4cac-c222-748277fed5b3"
      },
      "source": [
        "# Mean Absolute Error Loss - Forecast a\n",
        "realgjrgarch.mae.a <- MAE(sigma.realgjrgarch[,'sigma.realgjrgarch.pred.a'],\n",
        "                          sigma.realgjrgarch[,'sigma.realgjrgarch.true'])\n",
        "round(realgjrgarch.mae.a, digits = 3)"
      ],
      "id": "ohL91LcHtxCm",
      "execution_count": 202,
      "outputs": [
        {
          "output_type": "display_data",
          "data": {
            "text/plain": [
              "[1] 0.694"
            ],
            "text/latex": "0.694",
            "text/markdown": "0.694",
            "text/html": [
              "0.694"
            ]
          },
          "metadata": {
            "tags": []
          }
        }
      ]
    },
    {
      "cell_type": "code",
      "metadata": {
        "colab": {
          "base_uri": "https://localhost:8080/",
          "height": 34
        },
        "id": "2IrJeFHStyH5",
        "outputId": "bb15472f-2a68-4441-8cf0-c2617922eddd"
      },
      "source": [
        "# Mean Absolute Error Loss - Forecast b\n",
        "realgjrgarch.mae.b <- MAE(sigma.realgjrgarch[,'sigma.realgjrgarch.pred.b'],\n",
        "                          sigma.realgjrgarch[,'sigma.realgjrgarch.true'])\n",
        "round(realgjrgarch.mae.b, digits = 3)"
      ],
      "id": "2IrJeFHStyH5",
      "execution_count": 203,
      "outputs": [
        {
          "output_type": "display_data",
          "data": {
            "text/plain": [
              "[1] 0.674"
            ],
            "text/latex": "0.674",
            "text/markdown": "0.674",
            "text/html": [
              "0.674"
            ]
          },
          "metadata": {
            "tags": []
          }
        }
      ]
    },
    {
      "cell_type": "code",
      "metadata": {
        "colab": {
          "base_uri": "https://localhost:8080/",
          "height": 34
        },
        "id": "SqGo_64Itzj3",
        "outputId": "2d97708b-ee80-4dae-dec2-85d93f66f4cc"
      },
      "source": [
        "# Root Mean Square Error Loss - Forecast a\n",
        "realgjrgarch.rmse.a <- RMSE(sigma.realgjrgarch[,'sigma.realgjrgarch.pred.a'],\n",
        "                            sigma.realgjrgarch[,'sigma.realgjrgarch.true'])\n",
        "round(realgjrgarch.rmse.a, digits = 3)"
      ],
      "id": "SqGo_64Itzj3",
      "execution_count": 204,
      "outputs": [
        {
          "output_type": "display_data",
          "data": {
            "text/plain": [
              "[1] 3.473"
            ],
            "text/latex": "3.473",
            "text/markdown": "3.473",
            "text/html": [
              "3.473"
            ]
          },
          "metadata": {
            "tags": []
          }
        }
      ]
    },
    {
      "cell_type": "code",
      "metadata": {
        "colab": {
          "base_uri": "https://localhost:8080/",
          "height": 34
        },
        "id": "T7atQxuXt1AP",
        "outputId": "d3767063-94f2-4b0e-8193-05c2831fdf64"
      },
      "source": [
        "# Root Mean Square Error Loss - Forecast b\n",
        "realgjrgarch.rmse.b <- RMSE(sigma.realgjrgarch[,'sigma.realgjrgarch.pred.b'],\n",
        "                            sigma.realgjrgarch[,'sigma.realgjrgarch.true'])\n",
        "round(realgjrgarch.rmse.b, digits = 3)"
      ],
      "id": "T7atQxuXt1AP",
      "execution_count": 205,
      "outputs": [
        {
          "output_type": "display_data",
          "data": {
            "text/plain": [
              "[1] 3.419"
            ],
            "text/latex": "3.419",
            "text/markdown": "3.419",
            "text/html": [
              "3.419"
            ]
          },
          "metadata": {
            "tags": []
          }
        }
      ]
    },
    {
      "cell_type": "code",
      "metadata": {
        "colab": {
          "base_uri": "https://localhost:8080/",
          "height": 34
        },
        "id": "9fJX1_Ect2jQ",
        "outputId": "a827e913-b2ed-418e-fbbc-bcbad3cfe934"
      },
      "source": [
        "# Quasi-likelihood loss function - forecast a\n",
        "h <- sigma.realgjrgarch[,'sigma.realgjrgarch.true']\n",
        "\n",
        "h.hat.a <- sigma.realgjrgarch[,'sigma.realgjrgarch.pred.a']     \n",
        "realgjrgarch.qlike.a <- mean(log(sqrt(h)) + h.hat.a/sqrt(h))\n",
        "round(realgjrgarch.qlike.a, digits = 5)"
      ],
      "id": "9fJX1_Ect2jQ",
      "execution_count": 206,
      "outputs": [
        {
          "output_type": "display_data",
          "data": {
            "text/plain": [
              "[1] 0.67438"
            ],
            "text/latex": "0.67438",
            "text/markdown": "0.67438",
            "text/html": [
              "0.67438"
            ]
          },
          "metadata": {
            "tags": []
          }
        }
      ]
    },
    {
      "cell_type": "code",
      "metadata": {
        "colab": {
          "base_uri": "https://localhost:8080/",
          "height": 34
        },
        "id": "Sx3HuoWct3rq",
        "outputId": "fdddffa9-f2f4-4a5e-e40b-ffa6d8b5e25f"
      },
      "source": [
        "# Quasi-likelihood loss function - forecast b\n",
        "h.hat.b <- sigma.realgjrgarch[,'sigma.realgjrgarch.pred.b']\n",
        "realgjrgarch.qlike.b <- mean(log(sqrt(h)) + h.hat.b/sqrt(h))\n",
        "round(realgjrgarch.qlike.b, digits = 5)"
      ],
      "id": "Sx3HuoWct3rq",
      "execution_count": 207,
      "outputs": [
        {
          "output_type": "display_data",
          "data": {
            "text/plain": [
              "[1] 0.66714"
            ],
            "text/latex": "0.66714",
            "text/markdown": "0.66714",
            "text/html": [
              "0.66714"
            ]
          },
          "metadata": {
            "tags": []
          }
        }
      ]
    },
    {
      "cell_type": "code",
      "metadata": {
        "colab": {
          "base_uri": "https://localhost:8080/",
          "height": 119
        },
        "id": "cse_VeX2OFEY",
        "outputId": "603cc15e-c0b5-463d-b13d-6720a1a76789"
      },
      "source": [
        "# Diebold-Mariano Test (accuracy test) - test 1\n",
        "f.a <- sigma.realgjrgarch[,'sigma.realgjrgarch.pred.a']\n",
        "f.b <- sigma.realgjrgarch[,'sigma.realgjrgarch.pred.b']\n",
        "y <- sigma.realgjrgarch[,'sigma.realgjrgarch.true']\n",
        "\n",
        "DM.test(f.a, f.b, y, loss.type = \"SE\", c = FALSE, H1 = \"same\")"
      ],
      "id": "cse_VeX2OFEY",
      "execution_count": 208,
      "outputs": [
        {
          "output_type": "display_data",
          "data": {
            "text/plain": [
              "\n",
              "\tDiebold-Mariano test\n",
              "\n",
              "data:  f.a and f.b and y\n",
              "statistic = 3.8462, forecast horizon = 1, p-value = 0.00012\n",
              "alternative hypothesis: Forecast f1 and f2 have different accuracy.\n"
            ]
          },
          "metadata": {
            "tags": []
          }
        }
      ]
    },
    {
      "cell_type": "code",
      "metadata": {
        "colab": {
          "base_uri": "https://localhost:8080/",
          "height": 136
        },
        "id": "icTJE8GzOHA8",
        "outputId": "510b5168-8364-4431-f2db-5fdcfc202b7e"
      },
      "source": [
        "# Diebold-Mariano test for predictive accuracy - test 2\n",
        "e.a <- realgjrgarch.error.a\n",
        "e.b <- realgjrgarch.error.b\n",
        "\n",
        "dm.test(e.a, e.b, alternative = \"two.sided\", h = 1, power = 2)"
      ],
      "id": "icTJE8GzOHA8",
      "execution_count": 209,
      "outputs": [
        {
          "output_type": "display_data",
          "data": {
            "text/plain": [
              "\n",
              "\tDiebold-Mariano Test\n",
              "\n",
              "data:  e.ae.b\n",
              "DM = 3.845, Forecast horizon = 1, Loss function power = 2, p-value =\n",
              "0.0001252\n",
              "alternative hypothesis: two.sided\n"
            ]
          },
          "metadata": {
            "tags": []
          }
        }
      ]
    },
    {
      "cell_type": "code",
      "metadata": {
        "colab": {
          "base_uri": "https://localhost:8080/",
          "height": 34
        },
        "id": "fenyJq26OKdD",
        "outputId": "6553e67d-3979-4770-b770-eadc57bcfdc7"
      },
      "source": [
        "# Quasi-likelihood Loss Function For Volatility Forecasts - forecast a\n",
        "realgjrgarch.qlike.a <- mean(LossVol(sigma.realgjrgarch[,'sigma.realgjrgarch.true'],\n",
        "                                    sigma.realgjrgarch[,'sigma.realgjrgarch.pred.a'],\n",
        "                                    which = \"QLIKE\"))\n",
        "round(realgjrgarch.qlike.a, digits = 3)"
      ],
      "id": "fenyJq26OKdD",
      "execution_count": 210,
      "outputs": [
        {
          "output_type": "display_data",
          "data": {
            "text/plain": [
              "[1] 0.64"
            ],
            "text/latex": "0.64",
            "text/markdown": "0.64",
            "text/html": [
              "0.64"
            ]
          },
          "metadata": {
            "tags": []
          }
        }
      ]
    },
    {
      "cell_type": "code",
      "metadata": {
        "colab": {
          "base_uri": "https://localhost:8080/",
          "height": 34
        },
        "id": "BZiiiS5BOMIH",
        "outputId": "99646da3-bca4-49b2-d22c-b1564336ed8d"
      },
      "source": [
        "# Quasi-likelihood Loss Function For Volatility Forecasts - forecast 1b\n",
        "realgjrgarch.qlike.b <- mean(LossVol(sigma.realgjrgarch[,'sigma.realgjrgarch.true'],\n",
        "                                    sigma.realgjrgarch[,'sigma.realgjrgarch.pred.b'],\n",
        "                                    which = \"QLIKE\"))\n",
        "round(realgjrgarch.qlike.b, digits = 3)"
      ],
      "id": "BZiiiS5BOMIH",
      "execution_count": 211,
      "outputs": [
        {
          "output_type": "display_data",
          "data": {
            "text/plain": [
              "[1] 0.512"
            ],
            "text/latex": "0.512",
            "text/markdown": "0.512",
            "text/html": [
              "0.512"
            ]
          },
          "metadata": {
            "tags": []
          }
        }
      ]
    },
    {
      "cell_type": "code",
      "metadata": {
        "colab": {
          "base_uri": "https://localhost:8080/",
          "height": 34
        },
        "id": "wpWs_NItt47v",
        "outputId": "a00bed0a-3369-4593-f086-fa834401ddd9"
      },
      "source": [
        "# Log loss / Cross-Entropy Loss -  forecast a\n",
        "realgjrgarch.logloss.a <- LogLoss(sigma.realgjrgarch[,'sigma.realgjrgarch.pred.a'],\n",
        "                                  sigma.realgjrgarch[,'sigma.realgjrgarch.true'])\n",
        "round(realgjrgarch.logloss.a, digits = 3)"
      ],
      "id": "wpWs_NItt47v",
      "execution_count": 212,
      "outputs": [
        {
          "output_type": "display_data",
          "data": {
            "text/plain": [
              "[1] -20.67"
            ],
            "text/latex": "-20.67",
            "text/markdown": "-20.67",
            "text/html": [
              "-20.67"
            ]
          },
          "metadata": {
            "tags": []
          }
        }
      ]
    },
    {
      "cell_type": "code",
      "metadata": {
        "colab": {
          "base_uri": "https://localhost:8080/",
          "height": 34
        },
        "id": "NOm3JSWtt609",
        "outputId": "a93114a5-8553-45d0-dbc3-30172ba623a9"
      },
      "source": [
        "# Log loss / Cross-Entropy Loss -  forecast b\n",
        "realgjrgarch.logloss.b <- LogLoss(sigma.realgjrgarch[,'sigma.realgjrgarch.pred.b'],\n",
        "                                  sigma.realgjrgarch[,'sigma.realgjrgarch.true'])\n",
        "round(realgjrgarch.logloss.b, digits = 3)"
      ],
      "id": "NOm3JSWtt609",
      "execution_count": 213,
      "outputs": [
        {
          "output_type": "display_data",
          "data": {
            "text/plain": [
              "[1] -20.79"
            ],
            "text/latex": "-20.79",
            "text/markdown": "-20.79",
            "text/html": [
              "-20.79"
            ]
          },
          "metadata": {
            "tags": []
          }
        }
      ]
    },
    {
      "cell_type": "code",
      "metadata": {
        "colab": {
          "base_uri": "https://localhost:8080/",
          "height": 170
        },
        "id": "zAqllzeHt8Fg",
        "outputId": "66827a33-53d2-4e30-a4f9-3bb475b6a45d"
      },
      "source": [
        "# Linear regression to assess forecast performance - forecast a\n",
        "realgjrgarch.model.a <- lm(sigma.realgjrgarch.true ~ sigma.realgjrgarch.pred.a,\n",
        "                          data = sigma.realgjrgarch)\n",
        "round(coeftest(realgjrgarch.model.a, NeweyWest(realgjrgarch.model.a,\n",
        "                                              lag = bwNeweyWest(realgjrgarch.model.a),\n",
        "                                              prewhite = F)), 3)\n",
        "round(summary(realgjrgarch.model.a)$adj.r.squared, 3)"
      ],
      "id": "zAqllzeHt8Fg",
      "execution_count": 214,
      "outputs": [
        {
          "output_type": "display_data",
          "data": {
            "text/plain": [
              "\n",
              "t test of coefficients:\n",
              "\n",
              "                          Estimate Std. Error t value  Pr(>|t|)    \n",
              "(Intercept)                 -3.727      0.624  -5.970 < 2.2e-16 ***\n",
              "sigma.realgjrgarch.pred.a    5.993      0.844   7.103 < 2.2e-16 ***\n",
              "---\n",
              "Signif. codes:  0 ‘***’ 0.001 ‘**’ 0.01 ‘*’ 0.05 ‘.’ 0.1 ‘ ’ 1\n"
            ]
          },
          "metadata": {
            "tags": []
          }
        },
        {
          "output_type": "display_data",
          "data": {
            "text/plain": [
              "[1] 0.846"
            ],
            "text/latex": "0.846",
            "text/markdown": "0.846",
            "text/html": [
              "0.846"
            ]
          },
          "metadata": {
            "tags": []
          }
        }
      ]
    },
    {
      "cell_type": "code",
      "metadata": {
        "colab": {
          "base_uri": "https://localhost:8080/",
          "height": 170
        },
        "id": "l98Tp5ujt9ZH",
        "outputId": "a5d666ea-cfca-4e33-a628-0b8e35b5e9aa"
      },
      "source": [
        "# Linear regression to assess forecast performance - forecast b\n",
        "realgjrgarch.model.b <- lm(sigma.realgjrgarch.true ~ sigma.realgjrgarch.pred.b,\n",
        "                          data = sigma.realgjrgarch)\n",
        "round(coeftest(realgjrgarch.model.b, NeweyWest(realgjrgarch.model.b,\n",
        "                                              lag = bwNeweyWest(realgjrgarch.model.b),\n",
        "                                              prewhite = F)), 3)\n",
        "round(summary(realgjrgarch.model.b)$adj.r.squared, 3)"
      ],
      "id": "l98Tp5ujt9ZH",
      "execution_count": 215,
      "outputs": [
        {
          "output_type": "display_data",
          "data": {
            "text/plain": [
              "\n",
              "t test of coefficients:\n",
              "\n",
              "                          Estimate Std. Error t value  Pr(>|t|)    \n",
              "(Intercept)                 -3.514      0.553  -6.353 < 2.2e-16 ***\n",
              "sigma.realgjrgarch.pred.b    5.693      0.750   7.593 < 2.2e-16 ***\n",
              "---\n",
              "Signif. codes:  0 ‘***’ 0.001 ‘**’ 0.01 ‘*’ 0.05 ‘.’ 0.1 ‘ ’ 1\n"
            ]
          },
          "metadata": {
            "tags": []
          }
        },
        {
          "output_type": "display_data",
          "data": {
            "text/plain": [
              "[1] 0.879"
            ],
            "text/latex": "0.879",
            "text/markdown": "0.879",
            "text/html": [
              "0.879"
            ]
          },
          "metadata": {
            "tags": []
          }
        }
      ]
    },
    {
      "cell_type": "markdown",
      "metadata": {
        "id": "AciM8pt0zDOf"
      },
      "source": [
        "#12. Forecast - Markov-Switching GARCH"
      ],
      "id": "AciM8pt0zDOf"
    },
    {
      "cell_type": "markdown",
      "metadata": {
        "id": "0duULlBdzPeP"
      },
      "source": [
        "##(a) MS Linear GARCH"
      ],
      "id": "0duULlBdzPeP"
    },
    {
      "cell_type": "code",
      "metadata": {
        "id": "x-aTWmwh3OPQ"
      },
      "source": [
        "# Model Estimation - Maximum Likelihood Estimation\n",
        "msgarch.fit.pred.a <- FitML(msgarch.spec,\n",
        "                            data = GSPTSE.df$GSPTSE.Return)"
      ],
      "id": "x-aTWmwh3OPQ",
      "execution_count": 216,
      "outputs": []
    },
    {
      "cell_type": "code",
      "metadata": {
        "id": "_V7_va4c1iFq"
      },
      "source": [
        "# Model Estimation - MCMC/Bayesian estimation\n",
        "msgarch.fit.pred.b <- FitMCMC(msgarch.spec,\n",
        "                              data = GSPTSE.df$GSPTSE.Return)"
      ],
      "id": "_V7_va4c1iFq",
      "execution_count": 217,
      "outputs": []
    },
    {
      "cell_type": "code",
      "metadata": {
        "id": "DqhNduVO2fOA"
      },
      "source": [
        "# Forecast - Maximum Likelihood Estimation\n",
        "msgarch.pred.a <- predict(object = msgarch.fit.pred.a,\n",
        "                          nahead = dim(GSPTSE.df.out)[1],\n",
        "                          do.return.draw = TRUE)\n",
        "\n",
        "msgarch.forecast.a <- ts(msgarch.pred.a$vol)"
      ],
      "id": "DqhNduVO2fOA",
      "execution_count": 218,
      "outputs": []
    },
    {
      "cell_type": "code",
      "metadata": {
        "id": "xPlTh8-d3FE7"
      },
      "source": [
        "# Forecast - MCMC/Bayesian estimation\n",
        "msgarch.pred.b <- predict(object = msgarch.fit.pred.b,\n",
        "                          nahead = dim(GSPTSE.df.out)[1],\n",
        "                          do.return.draw = TRUE)\n",
        "\n",
        "msgarch.forecast.b <- ts(msgarch.pred.b$vol)"
      ],
      "id": "xPlTh8-d3FE7",
      "execution_count": 219,
      "outputs": []
    },
    {
      "cell_type": "code",
      "metadata": {
        "colab": {
          "base_uri": "https://localhost:8080/",
          "height": 252
        },
        "id": "YA2pLbUs3fK5",
        "outputId": "7244f3c4-9eda-4781-e61a-015463e93689"
      },
      "source": [
        "# Comparative\n",
        "sigma.msgarch.pred.a <- msgarch.forecast.a\n",
        "sigma.msgarch.pred.b <- msgarch.forecast.b\n",
        "sigma.msgarch.true <- ts(GSPTSE.df.out[,'GSPTSE.VolMSGARCH'])\n",
        "\n",
        "sigma.msgarch <- na.omit(cbind(sigma.msgarch.pred.a,\n",
        "                              sigma.msgarch.pred.b,\n",
        "                              sigma.msgarch.true))\n",
        "head(sigma.msgarch)"
      ],
      "id": "YA2pLbUs3fK5",
      "execution_count": 220,
      "outputs": [
        {
          "output_type": "display_data",
          "data": {
            "text/plain": [
              "  sigma.msgarch.pred.a sigma.msgarch.pred.b sigma.msgarch.true\n",
              "1 0.6237967            0.5957005            1.1725532         \n",
              "2 0.6318633            0.6248301            1.1652202         \n",
              "3 0.6423807            0.6092952            1.1002554         \n",
              "4 0.6450471            0.6538488            1.0473765         \n",
              "5 0.6430116            0.6455160            0.9930071         \n",
              "6 0.6534424            0.6448407            0.9415597         "
            ],
            "text/latex": "A Time Series: 6 × 3\n\\begin{tabular}{r|lll}\n  & sigma.msgarch.pred.a & sigma.msgarch.pred.b & sigma.msgarch.true\\\\\n\\hline\n\t1 & 0.6237967 & 0.5957005 & 1.1725532\\\\\n\t2 & 0.6318633 & 0.6248301 & 1.1652202\\\\\n\t3 & 0.6423807 & 0.6092952 & 1.1002554\\\\\n\t4 & 0.6450471 & 0.6538488 & 1.0473765\\\\\n\t5 & 0.6430116 & 0.6455160 & 0.9930071\\\\\n\t6 & 0.6534424 & 0.6448407 & 0.9415597\\\\\n\\end{tabular}\n",
            "text/markdown": "\nA Time Series: 6 × 3\n\n| <!--/--> | sigma.msgarch.pred.a | sigma.msgarch.pred.b | sigma.msgarch.true |\n|---|---|---|---|\n| 1 | 0.6237967 | 0.5957005 | 1.1725532 |\n| 2 | 0.6318633 | 0.6248301 | 1.1652202 |\n| 3 | 0.6423807 | 0.6092952 | 1.1002554 |\n| 4 | 0.6450471 | 0.6538488 | 1.0473765 |\n| 5 | 0.6430116 | 0.6455160 | 0.9930071 |\n| 6 | 0.6534424 | 0.6448407 | 0.9415597 |\n\n",
            "text/html": [
              "<table class=\"dataframe\">\n",
              "<caption>A Time Series: 6 × 3</caption>\n",
              "<thead>\n",
              "\t<tr><th></th><th scope=col>sigma.msgarch.pred.a</th><th scope=col>sigma.msgarch.pred.b</th><th scope=col>sigma.msgarch.true</th></tr>\n",
              "</thead>\n",
              "<tbody>\n",
              "\t<tr><th scope=row>1</th><td>0.6237967</td><td>0.5957005</td><td>1.1725532</td></tr>\n",
              "\t<tr><th scope=row>2</th><td>0.6318633</td><td>0.6248301</td><td>1.1652202</td></tr>\n",
              "\t<tr><th scope=row>3</th><td>0.6423807</td><td>0.6092952</td><td>1.1002554</td></tr>\n",
              "\t<tr><th scope=row>4</th><td>0.6450471</td><td>0.6538488</td><td>1.0473765</td></tr>\n",
              "\t<tr><th scope=row>5</th><td>0.6430116</td><td>0.6455160</td><td>0.9930071</td></tr>\n",
              "\t<tr><th scope=row>6</th><td>0.6534424</td><td>0.6448407</td><td>0.9415597</td></tr>\n",
              "</tbody>\n",
              "</table>\n"
            ]
          },
          "metadata": {
            "tags": []
          }
        }
      ]
    },
    {
      "cell_type": "markdown",
      "metadata": {
        "id": "LVbmSsEMBJaw"
      },
      "source": [
        "**Performance evaluation**"
      ],
      "id": "LVbmSsEMBJaw"
    },
    {
      "cell_type": "code",
      "metadata": {
        "colab": {
          "base_uri": "https://localhost:8080/",
          "height": 51
        },
        "id": "haXFBMWaBKz2",
        "outputId": "ee414e58-a513-4c16-a2aa-36a2ea592338"
      },
      "source": [
        "# Forecast Error - Forecast a\n",
        "msgarch.error.a <- sigma.msgarch[,'sigma.msgarch.pred.a'] - sigma.msgarch[,'sigma.msgarch.true']\n",
        "head(msgarch.error.a)"
      ],
      "id": "haXFBMWaBKz2",
      "execution_count": 221,
      "outputs": [
        {
          "output_type": "display_data",
          "data": {
            "text/plain": [
              "A Time Series:\n",
              "[1] -0.5487566 -0.5333569 -0.4578747 -0.4023294 -0.3499955 -0.2881173"
            ],
            "text/latex": "A Time Series:\\\\\\begin{enumerate*}\n\\item -0.548756572730108\n\\item -0.5333568518744\n\\item -0.457874679566203\n\\item -0.402329356063371\n\\item -0.349995466356161\n\\item -0.288117329628277\n\\end{enumerate*}\n",
            "text/markdown": "A Time Series:  \n1. -0.548756572730108\n2. -0.5333568518744\n3. -0.457874679566203\n4. -0.402329356063371\n5. -0.349995466356161\n6. -0.288117329628277\n\n\n",
            "text/html": [
              "A Time Series:<br><style>\n",
              ".list-inline {list-style: none; margin:0; padding: 0}\n",
              ".list-inline>li {display: inline-block}\n",
              ".list-inline>li:not(:last-child)::after {content: \"\\00b7\"; padding: 0 .5ex}\n",
              "</style>\n",
              "<ol class=list-inline><li>-0.548756572730108</li><li>-0.5333568518744</li><li>-0.457874679566203</li><li>-0.402329356063371</li><li>-0.349995466356161</li><li>-0.288117329628277</li></ol>\n"
            ]
          },
          "metadata": {
            "tags": []
          }
        }
      ]
    },
    {
      "cell_type": "code",
      "metadata": {
        "colab": {
          "base_uri": "https://localhost:8080/",
          "height": 51
        },
        "id": "88NZpanFBNd9",
        "outputId": "8fa15e6f-9e01-4811-ed7d-1c27441ff55a"
      },
      "source": [
        "# Forecast Error - Forecast b\n",
        "msgarch.error.b <- sigma.msgarch[,'sigma.msgarch.pred.b'] - sigma.msgarch[,'sigma.msgarch.true']\n",
        "head(msgarch.error.b)"
      ],
      "id": "88NZpanFBNd9",
      "execution_count": 222,
      "outputs": [
        {
          "output_type": "display_data",
          "data": {
            "text/plain": [
              "A Time Series:\n",
              "[1] -0.5768527 -0.5403900 -0.4909602 -0.3935277 -0.3474910 -0.2967190"
            ],
            "text/latex": "A Time Series:\\\\\\begin{enumerate*}\n\\item -0.57685272006987\n\\item -0.540390046301847\n\\item -0.490960165177883\n\\item -0.393527727561757\n\\item -0.347491025779121\n\\item -0.296719049871145\n\\end{enumerate*}\n",
            "text/markdown": "A Time Series:  \n1. -0.57685272006987\n2. -0.540390046301847\n3. -0.490960165177883\n4. -0.393527727561757\n5. -0.347491025779121\n6. -0.296719049871145\n\n\n",
            "text/html": [
              "A Time Series:<br><style>\n",
              ".list-inline {list-style: none; margin:0; padding: 0}\n",
              ".list-inline>li {display: inline-block}\n",
              ".list-inline>li:not(:last-child)::after {content: \"\\00b7\"; padding: 0 .5ex}\n",
              "</style>\n",
              "<ol class=list-inline><li>-0.57685272006987</li><li>-0.540390046301847</li><li>-0.490960165177883</li><li>-0.393527727561757</li><li>-0.347491025779121</li><li>-0.296719049871145</li></ol>\n"
            ]
          },
          "metadata": {
            "tags": []
          }
        }
      ]
    },
    {
      "cell_type": "code",
      "metadata": {
        "colab": {
          "base_uri": "https://localhost:8080/",
          "height": 34
        },
        "id": "C_VP13j7BPKI",
        "outputId": "b118254d-713e-461b-ded5-be6d44f2ae5c"
      },
      "source": [
        "# Mean Square Error Loss - Forecast a\n",
        "msgarch.mse.a <- MSE(sigma.msgarch[,'sigma.msgarch.pred.a'],\n",
        "                    sigma.msgarch[,'sigma.msgarch.true'])\n",
        "round(msgarch.mse.a, digits = 3)"
      ],
      "id": "C_VP13j7BPKI",
      "execution_count": 223,
      "outputs": [
        {
          "output_type": "display_data",
          "data": {
            "text/plain": [
              "[1] 0.457"
            ],
            "text/latex": "0.457",
            "text/markdown": "0.457",
            "text/html": [
              "0.457"
            ]
          },
          "metadata": {
            "tags": []
          }
        }
      ]
    },
    {
      "cell_type": "code",
      "metadata": {
        "colab": {
          "base_uri": "https://localhost:8080/",
          "height": 34
        },
        "id": "pzReqrbUBQvb",
        "outputId": "3af2a54b-6724-4b04-9ba2-daa6994e8f53"
      },
      "source": [
        "# Mean Square Error Loss - Forecast b\n",
        "msgarch.mse.b <- MSE(sigma.msgarch[,'sigma.msgarch.pred.b'],\n",
        "                    sigma.msgarch[,'sigma.msgarch.true'])\n",
        "round(msgarch.mse.b, digits = 3)"
      ],
      "id": "pzReqrbUBQvb",
      "execution_count": 224,
      "outputs": [
        {
          "output_type": "display_data",
          "data": {
            "text/plain": [
              "[1] 0.623"
            ],
            "text/latex": "0.623",
            "text/markdown": "0.623",
            "text/html": [
              "0.623"
            ]
          },
          "metadata": {
            "tags": []
          }
        }
      ]
    },
    {
      "cell_type": "code",
      "metadata": {
        "colab": {
          "base_uri": "https://localhost:8080/",
          "height": 34
        },
        "id": "ATJYe181BSMd",
        "outputId": "0d184c47-f4fd-48d6-a951-f2ac05a21520"
      },
      "source": [
        "# Mean Absolute Error Loss - Forecast a\n",
        "msgarch.mae.a <- MAE(sigma.msgarch[,'sigma.msgarch.pred.a'],\n",
        "                    sigma.msgarch[,'sigma.msgarch.true'])\n",
        "round(msgarch.mae.a, digits = 3)"
      ],
      "id": "ATJYe181BSMd",
      "execution_count": 225,
      "outputs": [
        {
          "output_type": "display_data",
          "data": {
            "text/plain": [
              "[1] 0.42"
            ],
            "text/latex": "0.42",
            "text/markdown": "0.42",
            "text/html": [
              "0.42"
            ]
          },
          "metadata": {
            "tags": []
          }
        }
      ]
    },
    {
      "cell_type": "code",
      "metadata": {
        "colab": {
          "base_uri": "https://localhost:8080/",
          "height": 34
        },
        "id": "l1fAVRUvBTne",
        "outputId": "f15fe000-7e3b-4780-d622-7435b6234060"
      },
      "source": [
        "# Mean Absolute Error Loss - Forecast b\n",
        "msgarch.mae.b <- MAE(sigma.msgarch[,'sigma.msgarch.pred.b'],\n",
        "                    sigma.msgarch[,'sigma.msgarch.true'])\n",
        "round(msgarch.mae.b, digits = 3)"
      ],
      "id": "l1fAVRUvBTne",
      "execution_count": 226,
      "outputs": [
        {
          "output_type": "display_data",
          "data": {
            "text/plain": [
              "[1] 0.619"
            ],
            "text/latex": "0.619",
            "text/markdown": "0.619",
            "text/html": [
              "0.619"
            ]
          },
          "metadata": {
            "tags": []
          }
        }
      ]
    },
    {
      "cell_type": "code",
      "metadata": {
        "colab": {
          "base_uri": "https://localhost:8080/",
          "height": 34
        },
        "id": "OuJINwLnBVER",
        "outputId": "81958cbd-9351-4b2a-a688-416c8575239b"
      },
      "source": [
        "# Root Mean Square Error Loss - Forecast a\n",
        "msgarch.rmse.a <- RMSE(sigma.msgarch[,'sigma.msgarch.pred.a'],\n",
        "                      sigma.msgarch[,'sigma.msgarch.true'])\n",
        "round(msgarch.rmse.a, digits = 3)"
      ],
      "id": "OuJINwLnBVER",
      "execution_count": 227,
      "outputs": [
        {
          "output_type": "display_data",
          "data": {
            "text/plain": [
              "[1] 0.676"
            ],
            "text/latex": "0.676",
            "text/markdown": "0.676",
            "text/html": [
              "0.676"
            ]
          },
          "metadata": {
            "tags": []
          }
        }
      ]
    },
    {
      "cell_type": "code",
      "metadata": {
        "colab": {
          "base_uri": "https://localhost:8080/",
          "height": 34
        },
        "id": "zzi4QlI8BWh3",
        "outputId": "ebc3bacb-01a0-486b-9a61-015baa893e76"
      },
      "source": [
        "# Root Mean Square Error Loss - Forecast b\n",
        "msgarch.rmse.b <- RMSE(sigma.msgarch[,'sigma.msgarch.pred.b'],\n",
        "                      sigma.msgarch[,'sigma.msgarch.true'])\n",
        "round(msgarch.rmse.b, digits = 3)"
      ],
      "id": "zzi4QlI8BWh3",
      "execution_count": 228,
      "outputs": [
        {
          "output_type": "display_data",
          "data": {
            "text/plain": [
              "[1] 0.789"
            ],
            "text/latex": "0.789",
            "text/markdown": "0.789",
            "text/html": [
              "0.789"
            ]
          },
          "metadata": {
            "tags": []
          }
        }
      ]
    },
    {
      "cell_type": "code",
      "metadata": {
        "colab": {
          "base_uri": "https://localhost:8080/",
          "height": 34
        },
        "id": "c1gkCdpIBXp1",
        "outputId": "7fe42441-4e69-4798-e065-51eb6bf892cd"
      },
      "source": [
        "# Quasi-likelihood loss function - forecast a\n",
        "h <- sigma.msgarch[,'sigma.msgarch.true']\n",
        "\n",
        "h.hat.a <- sigma.msgarch[,'sigma.msgarch.pred.a']     \n",
        "msgarch.qlike.a <- mean(log(sqrt(h)) + h.hat.a/sqrt(h))\n",
        "round(msgarch.qlike.a, digits = 5)"
      ],
      "id": "c1gkCdpIBXp1",
      "execution_count": 229,
      "outputs": [
        {
          "output_type": "display_data",
          "data": {
            "text/plain": [
              "[1] 1.03093"
            ],
            "text/latex": "1.03093",
            "text/markdown": "1.03093",
            "text/html": [
              "1.03093"
            ]
          },
          "metadata": {
            "tags": []
          }
        }
      ]
    },
    {
      "cell_type": "code",
      "metadata": {
        "colab": {
          "base_uri": "https://localhost:8080/",
          "height": 34
        },
        "id": "tBBaRrm8BZWv",
        "outputId": "e9db08e9-a6d7-495b-e11e-f945f02c6791"
      },
      "source": [
        "# Quasi-likelihood loss function - forecast b\n",
        "h.hat.b <- sigma.msgarch[,'sigma.msgarch.pred.b']\n",
        "msgarch.qlike.b <- mean(log(sqrt(h)) + h.hat.b/sqrt(h))\n",
        "round(msgarch.qlike.b, digits = 5)"
      ],
      "id": "tBBaRrm8BZWv",
      "execution_count": 230,
      "outputs": [
        {
          "output_type": "display_data",
          "data": {
            "text/plain": [
              "[1] 1.33986"
            ],
            "text/latex": "1.33986",
            "text/markdown": "1.33986",
            "text/html": [
              "1.33986"
            ]
          },
          "metadata": {
            "tags": []
          }
        }
      ]
    },
    {
      "cell_type": "code",
      "metadata": {
        "colab": {
          "base_uri": "https://localhost:8080/",
          "height": 119
        },
        "id": "Nd1_TRdDOusT",
        "outputId": "9b711318-3c9f-4b06-9d22-f94857705849"
      },
      "source": [
        "# Diebold-Mariano Test (accuracy test) - test 1\n",
        "f.a <- sigma.msgarch[,'sigma.msgarch.pred.a']\n",
        "f.b <- sigma.msgarch[,'sigma.msgarch.pred.b']\n",
        "y <- sigma.msgarch[,'sigma.msgarch.true']\n",
        "\n",
        "DM.test(f.a, f.b, y, loss.type = \"SE\", c = FALSE, H1 = \"same\")"
      ],
      "id": "Nd1_TRdDOusT",
      "execution_count": 231,
      "outputs": [
        {
          "output_type": "display_data",
          "data": {
            "text/plain": [
              "\n",
              "\tDiebold-Mariano test\n",
              "\n",
              "data:  f.a and f.b and y\n",
              "statistic = -9.6033, forecast horizon = 1, p-value < 2.2e-16\n",
              "alternative hypothesis: Forecast f1 and f2 have different accuracy.\n"
            ]
          },
          "metadata": {
            "tags": []
          }
        }
      ]
    },
    {
      "cell_type": "code",
      "metadata": {
        "colab": {
          "base_uri": "https://localhost:8080/",
          "height": 136
        },
        "id": "l0j5yLLOOw7a",
        "outputId": "510dc818-b64c-42ca-a511-4e8dd1865019"
      },
      "source": [
        "# Diebold-Mariano test for predictive accuracy - test 2\n",
        "e.a <- msgarch.error.a\n",
        "e.b <- msgarch.error.b\n",
        "\n",
        "dm.test(e.a, e.b, alternative = \"two.sided\", h = 1, power = 2)"
      ],
      "id": "l0j5yLLOOw7a",
      "execution_count": 232,
      "outputs": [
        {
          "output_type": "display_data",
          "data": {
            "text/plain": [
              "\n",
              "\tDiebold-Mariano Test\n",
              "\n",
              "data:  e.ae.b\n",
              "DM = -9.6003, Forecast horizon = 1, Loss function power = 2, p-value <\n",
              "2.2e-16\n",
              "alternative hypothesis: two.sided\n"
            ]
          },
          "metadata": {
            "tags": []
          }
        }
      ]
    },
    {
      "cell_type": "code",
      "metadata": {
        "colab": {
          "base_uri": "https://localhost:8080/",
          "height": 34
        },
        "id": "ciLg4NnOOywe",
        "outputId": "aa9b4882-f7ba-4508-b964-1a0d93c1988f"
      },
      "source": [
        "# Quasi-likelihood Loss Function For Volatility Forecasts - forecast a\n",
        "msgarch.qlike.a <- mean(LossVol(sigma.msgarch[,'sigma.msgarch.true'],\n",
        "                                sigma.msgarch[,'sigma.msgarch.pred.a'],\n",
        "                                which = \"QLIKE\"))\n",
        "round(msgarch.qlike.a, digits = 3)"
      ],
      "id": "ciLg4NnOOywe",
      "execution_count": 233,
      "outputs": [
        {
          "output_type": "display_data",
          "data": {
            "text/plain": [
              "[1] 1.075"
            ],
            "text/latex": "1.075",
            "text/markdown": "1.075",
            "text/html": [
              "1.075"
            ]
          },
          "metadata": {
            "tags": []
          }
        }
      ]
    },
    {
      "cell_type": "code",
      "metadata": {
        "colab": {
          "base_uri": "https://localhost:8080/",
          "height": 34
        },
        "id": "056kZTWaO0lh",
        "outputId": "4ccc05c5-73b3-4d30-8e5b-2a5df14b344b"
      },
      "source": [
        "# Quasi-likelihood Loss Function For Volatility Forecasts - forecast 1b\n",
        "msgarch.qlike.b <- mean(LossVol(sigma.msgarch[,'sigma.msgarch.true'],\n",
        "                                sigma.msgarch[,'sigma.msgarch.pred.b'],\n",
        "                                which = \"QLIKE\"))\n",
        "round(msgarch.qlike.b, digits = 3)"
      ],
      "id": "056kZTWaO0lh",
      "execution_count": 234,
      "outputs": [
        {
          "output_type": "display_data",
          "data": {
            "text/plain": [
              "[1] 1.071"
            ],
            "text/latex": "1.071",
            "text/markdown": "1.071",
            "text/html": [
              "1.071"
            ]
          },
          "metadata": {
            "tags": []
          }
        }
      ]
    },
    {
      "cell_type": "code",
      "metadata": {
        "colab": {
          "base_uri": "https://localhost:8080/",
          "height": 34
        },
        "id": "oB52pVTlBaui",
        "outputId": "f2bdd3ec-be55-42d4-9da0-4dc4418b2094"
      },
      "source": [
        "# Log loss / Cross-Entropy Loss -  forecast a\n",
        "msgarch.logloss.a <- LogLoss(sigma.msgarch[,'sigma.msgarch.pred.a'],\n",
        "                             sigma.msgarch[,'sigma.msgarch.true'])\n",
        "round(msgarch.logloss.a, digits = 3)"
      ],
      "id": "oB52pVTlBaui",
      "execution_count": 235,
      "outputs": [
        {
          "output_type": "display_data",
          "data": {
            "text/plain": [
              "[1] 4.151"
            ],
            "text/latex": "4.151",
            "text/markdown": "4.151",
            "text/html": [
              "4.151"
            ]
          },
          "metadata": {
            "tags": []
          }
        }
      ]
    },
    {
      "cell_type": "code",
      "metadata": {
        "colab": {
          "base_uri": "https://localhost:8080/",
          "height": 34
        },
        "id": "tKV7Ey6HBcAX",
        "outputId": "b35a522b-4766-443e-da4b-6bcc72846084"
      },
      "source": [
        "# Log loss / Cross-Entropy Loss -  forecast b\n",
        "msgarch.logloss.b <- LogLoss(sigma.msgarch[,'sigma.msgarch.pred.b'],\n",
        "                             sigma.msgarch[,'sigma.msgarch.true'])\n",
        "round(msgarch.logloss.b, digits = 3)"
      ],
      "id": "tKV7Ey6HBcAX",
      "execution_count": 236,
      "outputs": [
        {
          "output_type": "display_data",
          "data": {
            "text/plain": [
              "[1] 5.84"
            ],
            "text/latex": "5.84",
            "text/markdown": "5.84",
            "text/html": [
              "5.84"
            ]
          },
          "metadata": {
            "tags": []
          }
        }
      ]
    },
    {
      "cell_type": "code",
      "metadata": {
        "colab": {
          "base_uri": "https://localhost:8080/",
          "height": 170
        },
        "id": "sOe2Un_QBdZx",
        "outputId": "0ee3ca7f-2bec-498d-baa6-dceffc47fa34"
      },
      "source": [
        "# Linear regression to assess forecast performance - forecast a\n",
        "msgarch.model.a <- lm(sigma.msgarch.true ~ sigma.msgarch.pred.a,\n",
        "                      data = sigma.msgarch)\n",
        "round(coeftest(msgarch.model.a, NeweyWest(msgarch.model.a,\n",
        "                                          lag = bwNeweyWest(msgarch.model.a),\n",
        "                                          prewhite = F)), 3)\n",
        "round(summary(msgarch.model.a)$adj.r.squared, 3)"
      ],
      "id": "sOe2Un_QBdZx",
      "execution_count": 237,
      "outputs": [
        {
          "output_type": "display_data",
          "data": {
            "text/plain": [
              "\n",
              "t test of coefficients:\n",
              "\n",
              "                     Estimate Std. Error t value Pr(>|t|)  \n",
              "(Intercept)             1.010      0.437   2.312    0.021 *\n",
              "sigma.msgarch.pred.a   -0.200      0.482  -0.416    0.677  \n",
              "---\n",
              "Signif. codes:  0 ‘***’ 0.001 ‘**’ 0.01 ‘*’ 0.05 ‘.’ 0.1 ‘ ’ 1\n"
            ]
          },
          "metadata": {
            "tags": []
          }
        },
        {
          "output_type": "display_data",
          "data": {
            "text/plain": [
              "[1] 0"
            ],
            "text/latex": "0",
            "text/markdown": "0",
            "text/html": [
              "0"
            ]
          },
          "metadata": {
            "tags": []
          }
        }
      ]
    },
    {
      "cell_type": "code",
      "metadata": {
        "colab": {
          "base_uri": "https://localhost:8080/",
          "height": 136
        },
        "id": "e7KtdthFBfGJ",
        "outputId": "9a3a7cae-508a-4aba-8eac-048ddf38627d"
      },
      "source": [
        "# Linear regression to assess forecast performance - forecast b\n",
        "msgarch.model.b <- lm(sigma.msgarch.true ~ sigma.msgarch.pred.b,\n",
        "                      data = sigma.msgarch)\n",
        "round(coeftest(msgarch.model.b, NeweyWest(msgarch.model.b,\n",
        "                                          lag = bwNeweyWest(msgarch.model.b),\n",
        "                                          prewhite = F)), 3)\n",
        "round(summary(msgarch.model.b)$adj.r.squared, 3)"
      ],
      "id": "e7KtdthFBfGJ",
      "execution_count": 238,
      "outputs": [
        {
          "output_type": "display_data",
          "data": {
            "text/plain": [
              "\n",
              "t test of coefficients:\n",
              "\n",
              "                     Estimate Std. Error t value Pr(>|t|)\n",
              "(Intercept)             0.326      0.432   0.755    0.450\n",
              "sigma.msgarch.pred.b    0.388      0.389   0.997    0.319\n"
            ]
          },
          "metadata": {
            "tags": []
          }
        },
        {
          "output_type": "display_data",
          "data": {
            "text/plain": [
              "[1] 0.017"
            ],
            "text/latex": "0.017",
            "text/markdown": "0.017",
            "text/html": [
              "0.017"
            ]
          },
          "metadata": {
            "tags": []
          }
        }
      ]
    },
    {
      "cell_type": "markdown",
      "metadata": {
        "id": "-78BTEGuzVds"
      },
      "source": [
        "##(b) MS EGARCH"
      ],
      "id": "-78BTEGuzVds"
    },
    {
      "cell_type": "markdown",
      "metadata": {
        "id": "u9TnzFICT7eZ"
      },
      "source": [
        "**Forecast**"
      ],
      "id": "u9TnzFICT7eZ"
    },
    {
      "cell_type": "code",
      "metadata": {
        "id": "dwUbBOwIUn4E"
      },
      "source": [
        "# Model Estimation - Maximum Likelihood Estimation\n",
        "msegarch.fit.pred.a <- FitML(msegarch.spec,\n",
        "                             data = GSPTSE.df$GSPTSE.Return)"
      ],
      "id": "dwUbBOwIUn4E",
      "execution_count": 239,
      "outputs": []
    },
    {
      "cell_type": "code",
      "metadata": {
        "id": "I7ro5gakUpWQ"
      },
      "source": [
        "# Model Estimation - MCMC/Bayesian estimation\n",
        "msegarch.fit.pred.b <- FitMCMC(msegarch.spec,\n",
        "                               data = GSPTSE.df$GSPTSE.Return)"
      ],
      "id": "I7ro5gakUpWQ",
      "execution_count": 240,
      "outputs": []
    },
    {
      "cell_type": "code",
      "metadata": {
        "id": "p6lPXY-eUqmn"
      },
      "source": [
        "# Forecast - Maximum Likelihood Estimation\n",
        "msegarch.pred.a <- predict(object = msegarch.fit.pred.a,\n",
        "                           nahead = dim(GSPTSE.df.out)[1],\n",
        "                           do.return.draw = TRUE)\n",
        "\n",
        "msegarch.forecast.a <- ts(msegarch.pred.a$vol)"
      ],
      "id": "p6lPXY-eUqmn",
      "execution_count": 241,
      "outputs": []
    },
    {
      "cell_type": "code",
      "metadata": {
        "id": "HV3tfTO5Ur-S"
      },
      "source": [
        "# Forecast - MCMC/Bayesian estimation\n",
        "msegarch.pred.b <- predict(object = msegarch.fit.pred.b,\n",
        "                          nahead = dim(GSPTSE.df.out)[1],\n",
        "                          do.return.draw = TRUE)\n",
        "\n",
        "msegarch.forecast.b <- ts(msegarch.pred.b$vol)"
      ],
      "id": "HV3tfTO5Ur-S",
      "execution_count": 242,
      "outputs": []
    },
    {
      "cell_type": "code",
      "metadata": {
        "colab": {
          "base_uri": "https://localhost:8080/",
          "height": 252
        },
        "id": "iCb5Lo59Uto6",
        "outputId": "bf4e2dcc-3372-4887-e9e7-8f0bbcea0788"
      },
      "source": [
        "# Comparative\n",
        "sigma.msegarch.pred.a <- msegarch.forecast.a\n",
        "sigma.msegarch.pred.b <- msegarch.forecast.b\n",
        "sigma.msegarch.true <- ts(GSPTSE.df.out[,'GSPTSE.VolMSEGARCH'])\n",
        "\n",
        "sigma.msegarch <- na.omit(cbind(sigma.msegarch.pred.a,\n",
        "                                sigma.msegarch.pred.b,\n",
        "                                sigma.msegarch.true))\n",
        "head(sigma.msegarch)"
      ],
      "id": "iCb5Lo59Uto6",
      "execution_count": 243,
      "outputs": [
        {
          "output_type": "display_data",
          "data": {
            "text/plain": [
              "  sigma.msegarch.pred.a sigma.msegarch.pred.b sigma.msegarch.true\n",
              "1 0.4932973             0.4812743             1.0744632          \n",
              "2 0.5063963             0.5263806             1.0163144          \n",
              "3 0.5122184             0.5285263             0.9579534          \n",
              "4 0.5203486             0.5541206             0.9035613          \n",
              "5 0.5236276             0.5527915             0.8785067          \n",
              "6 0.5443310             0.5796952             0.8453790          "
            ],
            "text/latex": "A Time Series: 6 × 3\n\\begin{tabular}{r|lll}\n  & sigma.msegarch.pred.a & sigma.msegarch.pred.b & sigma.msegarch.true\\\\\n\\hline\n\t1 & 0.4932973 & 0.4812743 & 1.0744632\\\\\n\t2 & 0.5063963 & 0.5263806 & 1.0163144\\\\\n\t3 & 0.5122184 & 0.5285263 & 0.9579534\\\\\n\t4 & 0.5203486 & 0.5541206 & 0.9035613\\\\\n\t5 & 0.5236276 & 0.5527915 & 0.8785067\\\\\n\t6 & 0.5443310 & 0.5796952 & 0.8453790\\\\\n\\end{tabular}\n",
            "text/markdown": "\nA Time Series: 6 × 3\n\n| <!--/--> | sigma.msegarch.pred.a | sigma.msegarch.pred.b | sigma.msegarch.true |\n|---|---|---|---|\n| 1 | 0.4932973 | 0.4812743 | 1.0744632 |\n| 2 | 0.5063963 | 0.5263806 | 1.0163144 |\n| 3 | 0.5122184 | 0.5285263 | 0.9579534 |\n| 4 | 0.5203486 | 0.5541206 | 0.9035613 |\n| 5 | 0.5236276 | 0.5527915 | 0.8785067 |\n| 6 | 0.5443310 | 0.5796952 | 0.8453790 |\n\n",
            "text/html": [
              "<table class=\"dataframe\">\n",
              "<caption>A Time Series: 6 × 3</caption>\n",
              "<thead>\n",
              "\t<tr><th></th><th scope=col>sigma.msegarch.pred.a</th><th scope=col>sigma.msegarch.pred.b</th><th scope=col>sigma.msegarch.true</th></tr>\n",
              "</thead>\n",
              "<tbody>\n",
              "\t<tr><th scope=row>1</th><td>0.4932973</td><td>0.4812743</td><td>1.0744632</td></tr>\n",
              "\t<tr><th scope=row>2</th><td>0.5063963</td><td>0.5263806</td><td>1.0163144</td></tr>\n",
              "\t<tr><th scope=row>3</th><td>0.5122184</td><td>0.5285263</td><td>0.9579534</td></tr>\n",
              "\t<tr><th scope=row>4</th><td>0.5203486</td><td>0.5541206</td><td>0.9035613</td></tr>\n",
              "\t<tr><th scope=row>5</th><td>0.5236276</td><td>0.5527915</td><td>0.8785067</td></tr>\n",
              "\t<tr><th scope=row>6</th><td>0.5443310</td><td>0.5796952</td><td>0.8453790</td></tr>\n",
              "</tbody>\n",
              "</table>\n"
            ]
          },
          "metadata": {
            "tags": []
          }
        }
      ]
    },
    {
      "cell_type": "markdown",
      "metadata": {
        "id": "GzhnWJGgUvIS"
      },
      "source": [
        "**Performance evaluation**"
      ],
      "id": "GzhnWJGgUvIS"
    },
    {
      "cell_type": "code",
      "metadata": {
        "colab": {
          "base_uri": "https://localhost:8080/",
          "height": 51
        },
        "id": "POjtagN9Vgf1",
        "outputId": "3306a7c8-7351-4138-eca8-bbf007501e51"
      },
      "source": [
        "# Forecast Error - Forecast a\n",
        "msegarch.error.a <- sigma.msegarch[,'sigma.msegarch.pred.a'] - sigma.msegarch[,'sigma.msegarch.true']\n",
        "head(msegarch.error.a)"
      ],
      "id": "POjtagN9Vgf1",
      "execution_count": 244,
      "outputs": [
        {
          "output_type": "display_data",
          "data": {
            "text/plain": [
              "A Time Series:\n",
              "[1] -0.5811660 -0.5099181 -0.4457350 -0.3832127 -0.3548791 -0.3010480"
            ],
            "text/latex": "A Time Series:\\\\\\begin{enumerate*}\n\\item -0.58116596833457\n\\item -0.509918119709835\n\\item -0.445734979936574\n\\item -0.383212687314658\n\\item -0.354879108095019\n\\item -0.30104802175065\n\\end{enumerate*}\n",
            "text/markdown": "A Time Series:  \n1. -0.58116596833457\n2. -0.509918119709835\n3. -0.445734979936574\n4. -0.383212687314658\n5. -0.354879108095019\n6. -0.30104802175065\n\n\n",
            "text/html": [
              "A Time Series:<br><style>\n",
              ".list-inline {list-style: none; margin:0; padding: 0}\n",
              ".list-inline>li {display: inline-block}\n",
              ".list-inline>li:not(:last-child)::after {content: \"\\00b7\"; padding: 0 .5ex}\n",
              "</style>\n",
              "<ol class=list-inline><li>-0.58116596833457</li><li>-0.509918119709835</li><li>-0.445734979936574</li><li>-0.383212687314658</li><li>-0.354879108095019</li><li>-0.30104802175065</li></ol>\n"
            ]
          },
          "metadata": {
            "tags": []
          }
        }
      ]
    },
    {
      "cell_type": "code",
      "metadata": {
        "colab": {
          "base_uri": "https://localhost:8080/",
          "height": 51
        },
        "id": "qXxb9AZoViK5",
        "outputId": "190babc7-f725-43fc-c4d6-2a95f61ad515"
      },
      "source": [
        "# Forecast Error - Forecast b\n",
        "msegarch.error.b <- sigma.msegarch[,'sigma.msegarch.pred.b'] - sigma.msegarch[,'sigma.msegarch.true']\n",
        "head(msegarch.error.b)"
      ],
      "id": "qXxb9AZoViK5",
      "execution_count": 245,
      "outputs": [
        {
          "output_type": "display_data",
          "data": {
            "text/plain": [
              "A Time Series:\n",
              "[1] -0.5931889 -0.4899339 -0.4294271 -0.3494407 -0.3257153 -0.2656838"
            ],
            "text/latex": "A Time Series:\\\\\\begin{enumerate*}\n\\item -0.593188934600736\n\\item -0.489933867100194\n\\item -0.429427127332147\n\\item -0.349440701108539\n\\item -0.325715262857277\n\\item -0.265683801424631\n\\end{enumerate*}\n",
            "text/markdown": "A Time Series:  \n1. -0.593188934600736\n2. -0.489933867100194\n3. -0.429427127332147\n4. -0.349440701108539\n5. -0.325715262857277\n6. -0.265683801424631\n\n\n",
            "text/html": [
              "A Time Series:<br><style>\n",
              ".list-inline {list-style: none; margin:0; padding: 0}\n",
              ".list-inline>li {display: inline-block}\n",
              ".list-inline>li:not(:last-child)::after {content: \"\\00b7\"; padding: 0 .5ex}\n",
              "</style>\n",
              "<ol class=list-inline><li>-0.593188934600736</li><li>-0.489933867100194</li><li>-0.429427127332147</li><li>-0.349440701108539</li><li>-0.325715262857277</li><li>-0.265683801424631</li></ol>\n"
            ]
          },
          "metadata": {
            "tags": []
          }
        }
      ]
    },
    {
      "cell_type": "code",
      "metadata": {
        "colab": {
          "base_uri": "https://localhost:8080/",
          "height": 34
        },
        "id": "7Ym-Je0xVjsX",
        "outputId": "6225f5c1-1934-4f13-c023-34518cc595e6"
      },
      "source": [
        "# Mean Square Error Loss - Forecast a\n",
        "msegarch.mse.a <- MSE(sigma.msegarch[,'sigma.msegarch.pred.a'],\n",
        "                      sigma.msegarch[,'sigma.msegarch.true'])\n",
        "round(msegarch.mse.a, digits = 3)"
      ],
      "id": "7Ym-Je0xVjsX",
      "execution_count": 246,
      "outputs": [
        {
          "output_type": "display_data",
          "data": {
            "text/plain": [
              "[1] 0.473"
            ],
            "text/latex": "0.473",
            "text/markdown": "0.473",
            "text/html": [
              "0.473"
            ]
          },
          "metadata": {
            "tags": []
          }
        }
      ]
    },
    {
      "cell_type": "code",
      "metadata": {
        "colab": {
          "base_uri": "https://localhost:8080/",
          "height": 34
        },
        "id": "kDMt40y6VlED",
        "outputId": "079e1514-b7da-432c-b07b-c26ef9cd4752"
      },
      "source": [
        "# Mean Square Error Loss - Forecast b\n",
        "msegarch.mse.b <- MSE(sigma.msegarch[,'sigma.msegarch.pred.b'],\n",
        "                      sigma.msegarch[,'sigma.msegarch.true'])\n",
        "round(msegarch.mse.b, digits = 3)"
      ],
      "id": "kDMt40y6VlED",
      "execution_count": 247,
      "outputs": [
        {
          "output_type": "display_data",
          "data": {
            "text/plain": [
              "[1] 0.512"
            ],
            "text/latex": "0.512",
            "text/markdown": "0.512",
            "text/html": [
              "0.512"
            ]
          },
          "metadata": {
            "tags": []
          }
        }
      ]
    },
    {
      "cell_type": "code",
      "metadata": {
        "colab": {
          "base_uri": "https://localhost:8080/",
          "height": 34
        },
        "id": "KuTJjVuQVmfI",
        "outputId": "1273e007-85e7-417f-f31a-7c9a46a6897e"
      },
      "source": [
        "# Mean Absolute Error Loss - Forecast a\n",
        "msegarch.mae.a <- MAE(sigma.msegarch[,'sigma.msegarch.pred.a'],\n",
        "                      sigma.msegarch[,'sigma.msegarch.true'])\n",
        "round(msegarch.mae.a, digits = 3)"
      ],
      "id": "KuTJjVuQVmfI",
      "execution_count": 248,
      "outputs": [
        {
          "output_type": "display_data",
          "data": {
            "text/plain": [
              "[1] 0.522"
            ],
            "text/latex": "0.522",
            "text/markdown": "0.522",
            "text/html": [
              "0.522"
            ]
          },
          "metadata": {
            "tags": []
          }
        }
      ]
    },
    {
      "cell_type": "code",
      "metadata": {
        "colab": {
          "base_uri": "https://localhost:8080/",
          "height": 34
        },
        "id": "mhBHKzaRVoAs",
        "outputId": "0a84d514-a377-4724-da9c-e9eb8be6a9cb"
      },
      "source": [
        "# Mean Absolute Error Loss - Forecast b\n",
        "msegarch.mae.b <- MAE(sigma.msegarch[,'sigma.msegarch.pred.b'],\n",
        "                      sigma.msegarch[,'sigma.msegarch.true'])\n",
        "round(msegarch.mae.b, digits = 3)"
      ],
      "id": "mhBHKzaRVoAs",
      "execution_count": 249,
      "outputs": [
        {
          "output_type": "display_data",
          "data": {
            "text/plain": [
              "[1] 0.568"
            ],
            "text/latex": "0.568",
            "text/markdown": "0.568",
            "text/html": [
              "0.568"
            ]
          },
          "metadata": {
            "tags": []
          }
        }
      ]
    },
    {
      "cell_type": "code",
      "metadata": {
        "colab": {
          "base_uri": "https://localhost:8080/",
          "height": 34
        },
        "id": "iwaAxe-iVpPE",
        "outputId": "9da4747f-db91-4c6b-aef5-5c3ac5f14e2c"
      },
      "source": [
        "# Root Mean Square Error Loss - Forecast a\n",
        "msegarch.rmse.a <- RMSE(sigma.msegarch[,'sigma.msegarch.pred.a'],\n",
        "                        sigma.msegarch[,'sigma.msegarch.true'])\n",
        "round(msegarch.rmse.a, digits = 3)"
      ],
      "id": "iwaAxe-iVpPE",
      "execution_count": 250,
      "outputs": [
        {
          "output_type": "display_data",
          "data": {
            "text/plain": [
              "[1] 0.688"
            ],
            "text/latex": "0.688",
            "text/markdown": "0.688",
            "text/html": [
              "0.688"
            ]
          },
          "metadata": {
            "tags": []
          }
        }
      ]
    },
    {
      "cell_type": "code",
      "metadata": {
        "colab": {
          "base_uri": "https://localhost:8080/",
          "height": 34
        },
        "id": "yHKTx3GjVrU4",
        "outputId": "0005594b-5654-470e-9522-83338cb55b8e"
      },
      "source": [
        "# Root Mean Square Error Loss - Forecast b\n",
        "msegarch.rmse.b <- RMSE(sigma.msegarch[,'sigma.msegarch.pred.b'],\n",
        "                        sigma.msegarch[,'sigma.msegarch.true'])\n",
        "round(msegarch.rmse.b, digits = 3)"
      ],
      "id": "yHKTx3GjVrU4",
      "execution_count": 251,
      "outputs": [
        {
          "output_type": "display_data",
          "data": {
            "text/plain": [
              "[1] 0.715"
            ],
            "text/latex": "0.715",
            "text/markdown": "0.715",
            "text/html": [
              "0.715"
            ]
          },
          "metadata": {
            "tags": []
          }
        }
      ]
    },
    {
      "cell_type": "code",
      "metadata": {
        "colab": {
          "base_uri": "https://localhost:8080/",
          "height": 34
        },
        "id": "q0z0yjuZVtNf",
        "outputId": "bc134039-dcc2-4a24-f81e-f4b80f0d19c1"
      },
      "source": [
        "# Quasi-likelihood loss function - forecast a\n",
        "h <- sigma.msegarch[,'sigma.msegarch.true']\n",
        "\n",
        "h.hat.a <- sigma.msegarch[,'sigma.msegarch.pred.a']     \n",
        "msegarch.qlike.a <- mean(log(sqrt(h)) + h.hat.a/sqrt(h))\n",
        "round(msegarch.qlike.a, digits = 5)"
      ],
      "id": "q0z0yjuZVtNf",
      "execution_count": 252,
      "outputs": [
        {
          "output_type": "display_data",
          "data": {
            "text/plain": [
              "[1] 1.21153"
            ],
            "text/latex": "1.21153",
            "text/markdown": "1.21153",
            "text/html": [
              "1.21153"
            ]
          },
          "metadata": {
            "tags": []
          }
        }
      ]
    },
    {
      "cell_type": "code",
      "metadata": {
        "colab": {
          "base_uri": "https://localhost:8080/",
          "height": 34
        },
        "id": "Jr_3YbHMVuw6",
        "outputId": "f150bb13-b909-4b1c-c5fd-8451387e6c3f"
      },
      "source": [
        "# Quasi-likelihood loss function - forecast b\n",
        "h.hat.b <- sigma.msegarch[,'sigma.msegarch.pred.b']\n",
        "msegarch.qlike.b <- mean(log(sqrt(h)) + h.hat.b/sqrt(h))\n",
        "round(msegarch.qlike.b, digits = 5)"
      ],
      "id": "Jr_3YbHMVuw6",
      "execution_count": 253,
      "outputs": [
        {
          "output_type": "display_data",
          "data": {
            "text/plain": [
              "[1] 1.29385"
            ],
            "text/latex": "1.29385",
            "text/markdown": "1.29385",
            "text/html": [
              "1.29385"
            ]
          },
          "metadata": {
            "tags": []
          }
        }
      ]
    },
    {
      "cell_type": "code",
      "metadata": {
        "colab": {
          "base_uri": "https://localhost:8080/",
          "height": 119
        },
        "id": "ulWlwNktVwfY",
        "outputId": "506dbc3a-5cfe-4410-de14-8de9a857b763"
      },
      "source": [
        "# Diebold-Mariano Test (accuracy test) - test 1\n",
        "f.a <- sigma.msegarch[,'sigma.msegarch.pred.a']\n",
        "f.b <- sigma.msegarch[,'sigma.msegarch.pred.b']\n",
        "y <- sigma.msegarch[,'sigma.msegarch.true']\n",
        "\n",
        "DM.test(f.a, f.b, y, loss.type = \"SE\", c = FALSE, H1 = \"same\")"
      ],
      "id": "ulWlwNktVwfY",
      "execution_count": 254,
      "outputs": [
        {
          "output_type": "display_data",
          "data": {
            "text/plain": [
              "\n",
              "\tDiebold-Mariano test\n",
              "\n",
              "data:  f.a and f.b and y\n",
              "statistic = -8.162, forecast horizon = 1, p-value = 2.22e-16\n",
              "alternative hypothesis: Forecast f1 and f2 have different accuracy.\n"
            ]
          },
          "metadata": {
            "tags": []
          }
        }
      ]
    },
    {
      "cell_type": "code",
      "metadata": {
        "colab": {
          "base_uri": "https://localhost:8080/",
          "height": 136
        },
        "id": "MmdmO3tAVxyS",
        "outputId": "240b8090-4079-4955-9966-37fd24e10b2c"
      },
      "source": [
        "# Diebold-Mariano test for predictive accuracy - test 2\n",
        "e.a <- msegarch.error.a\n",
        "e.b <- msegarch.error.b\n",
        "\n",
        "dm.test(e.a, e.b, alternative = \"two.sided\", h = 1, power = 2)"
      ],
      "id": "MmdmO3tAVxyS",
      "execution_count": 255,
      "outputs": [
        {
          "output_type": "display_data",
          "data": {
            "text/plain": [
              "\n",
              "\tDiebold-Mariano Test\n",
              "\n",
              "data:  e.ae.b\n",
              "DM = -8.1594, Forecast horizon = 1, Loss function power = 2, p-value =\n",
              "6.705e-16\n",
              "alternative hypothesis: two.sided\n"
            ]
          },
          "metadata": {
            "tags": []
          }
        }
      ]
    },
    {
      "cell_type": "code",
      "metadata": {
        "colab": {
          "base_uri": "https://localhost:8080/",
          "height": 34
        },
        "id": "5d-xsUBTV1FG",
        "outputId": "2086f1b8-868d-43c8-8930-a6dc3e53a7ce"
      },
      "source": [
        "# Quasi-likelihood Loss Function For Volatility Forecasts - forecast a\n",
        "msegarch.qlike.a <- mean(LossVol(sigma.msegarch[,'sigma.msegarch.true'],\n",
        "                                 sigma.msegarch[,'sigma.msegarch.pred.a'],\n",
        "                                 which = \"QLIKE\"))\n",
        "round(msegarch.qlike.a, digits = 3)"
      ],
      "id": "5d-xsUBTV1FG",
      "execution_count": 256,
      "outputs": [
        {
          "output_type": "display_data",
          "data": {
            "text/plain": [
              "[1] 1.01"
            ],
            "text/latex": "1.01",
            "text/markdown": "1.01",
            "text/html": [
              "1.01"
            ]
          },
          "metadata": {
            "tags": []
          }
        }
      ]
    },
    {
      "cell_type": "code",
      "metadata": {
        "colab": {
          "base_uri": "https://localhost:8080/",
          "height": 34
        },
        "id": "h5IP8nAUV5un",
        "outputId": "150248a0-4841-40d0-8dde-1d2af6e134a5"
      },
      "source": [
        "# Quasi-likelihood Loss Function For Volatility Forecasts - forecast 1b\n",
        "msegarch.qlike.b <- mean(LossVol(sigma.msegarch[,'sigma.msegarch.true'],\n",
        "                                 sigma.msegarch[,'sigma.msegarch.pred.b'],\n",
        "                                 which = \"QLIKE\"))\n",
        "round(msegarch.qlike.b, digits = 3)"
      ],
      "id": "h5IP8nAUV5un",
      "execution_count": 257,
      "outputs": [
        {
          "output_type": "display_data",
          "data": {
            "text/plain": [
              "[1] 1.002"
            ],
            "text/latex": "1.002",
            "text/markdown": "1.002",
            "text/html": [
              "1.002"
            ]
          },
          "metadata": {
            "tags": []
          }
        }
      ]
    },
    {
      "cell_type": "code",
      "metadata": {
        "colab": {
          "base_uri": "https://localhost:8080/",
          "height": 34
        },
        "id": "3WbEUHjtV7yw",
        "outputId": "259b9aa3-25e7-4bb1-f758-1cd407787b43"
      },
      "source": [
        "# Log loss / Cross-Entropy Loss -  forecast a\n",
        "msegarch.logloss.a <- LogLoss(sigma.msegarch[,'sigma.msegarch.pred.a'],\n",
        "                              sigma.msegarch[,'sigma.msegarch.true'])\n",
        "round(msegarch.logloss.a, digits = 3)"
      ],
      "id": "3WbEUHjtV7yw",
      "execution_count": 258,
      "outputs": [
        {
          "output_type": "display_data",
          "data": {
            "text/plain": [
              "[1] 7.051"
            ],
            "text/latex": "7.051",
            "text/markdown": "7.051",
            "text/html": [
              "7.051"
            ]
          },
          "metadata": {
            "tags": []
          }
        }
      ]
    },
    {
      "cell_type": "code",
      "metadata": {
        "colab": {
          "base_uri": "https://localhost:8080/",
          "height": 34
        },
        "id": "nGKcE1e7V9na",
        "outputId": "7b05883b-044e-49bb-8097-61b743689468"
      },
      "source": [
        "# Log loss / Cross-Entropy Loss -  forecast b\n",
        "msegarch.logloss.b <- LogLoss(sigma.msegarch[,'sigma.msegarch.pred.b'],\n",
        "                              sigma.msegarch[,'sigma.msegarch.true'])\n",
        "round(msegarch.logloss.b, digits = 3)"
      ],
      "id": "nGKcE1e7V9na",
      "execution_count": 259,
      "outputs": [
        {
          "output_type": "display_data",
          "data": {
            "text/plain": [
              "[1] 7.252"
            ],
            "text/latex": "7.252",
            "text/markdown": "7.252",
            "text/html": [
              "7.252"
            ]
          },
          "metadata": {
            "tags": []
          }
        }
      ]
    },
    {
      "cell_type": "code",
      "metadata": {
        "colab": {
          "base_uri": "https://localhost:8080/",
          "height": 170
        },
        "id": "fEdw4L4JWDnH",
        "outputId": "a1f735b1-402b-4aef-c962-840e1cda5f66"
      },
      "source": [
        "# Linear regression to assess forecast performance - forecast a\n",
        "msegarch.model.a <- lm(sigma.msegarch.true ~ sigma.msegarch.pred.a,\n",
        "                       data = sigma.msegarch)\n",
        "round(coeftest(msegarch.model.a, NeweyWest(msegarch.model.a,\n",
        "                                           lag = bwNeweyWest(msegarch.model.a),\n",
        "                                           prewhite = F)), 3)\n",
        "round(summary(msegarch.model.a)$adj.r.squared, 3)"
      ],
      "id": "fEdw4L4JWDnH",
      "execution_count": 260,
      "outputs": [
        {
          "output_type": "display_data",
          "data": {
            "text/plain": [
              "\n",
              "t test of coefficients:\n",
              "\n",
              "                      Estimate Std. Error t value Pr(>|t|)    \n",
              "(Intercept)              1.009      0.207   4.864   <2e-16 ***\n",
              "sigma.msegarch.pred.a   -0.197      0.206  -0.960    0.337    \n",
              "---\n",
              "Signif. codes:  0 ‘***’ 0.001 ‘**’ 0.01 ‘*’ 0.05 ‘.’ 0.1 ‘ ’ 1\n"
            ]
          },
          "metadata": {
            "tags": []
          }
        },
        {
          "output_type": "display_data",
          "data": {
            "text/plain": [
              "[1] 0"
            ],
            "text/latex": "0",
            "text/markdown": "0",
            "text/html": [
              "0"
            ]
          },
          "metadata": {
            "tags": []
          }
        }
      ]
    },
    {
      "cell_type": "code",
      "metadata": {
        "colab": {
          "base_uri": "https://localhost:8080/",
          "height": 136
        },
        "id": "U7IDUvRJWFVX",
        "outputId": "2ba4dde9-671c-43aa-cc41-ae2f9aea9972"
      },
      "source": [
        "# Linear regression to assess forecast performance - forecast b\n",
        "msegarch.model.b <- lm(sigma.msegarch.true ~ sigma.msegarch.pred.b,\n",
        "                       data = sigma.msegarch)\n",
        "round(coeftest(msegarch.model.b, NeweyWest(msegarch.model.b,\n",
        "                                           lag = bwNeweyWest(msegarch.model.b),\n",
        "                                           prewhite = F)), 3)\n",
        "round(summary(msegarch.model.b)$adj.r.squared, 3)"
      ],
      "id": "U7IDUvRJWFVX",
      "execution_count": 261,
      "outputs": [
        {
          "output_type": "display_data",
          "data": {
            "text/plain": [
              "\n",
              "t test of coefficients:\n",
              "\n",
              "                      Estimate Std. Error t value Pr(>|t|)\n",
              "(Intercept)              0.063      0.716   0.088    0.930\n",
              "sigma.msegarch.pred.b    0.602      0.629   0.957    0.339\n"
            ]
          },
          "metadata": {
            "tags": []
          }
        },
        {
          "output_type": "display_data",
          "data": {
            "text/plain": [
              "[1] 0.012"
            ],
            "text/latex": "0.012",
            "text/markdown": "0.012",
            "text/html": [
              "0.012"
            ]
          },
          "metadata": {
            "tags": []
          }
        }
      ]
    },
    {
      "cell_type": "markdown",
      "metadata": {
        "id": "nB7uBx88zXd1"
      },
      "source": [
        "##(c) MS GJR-GARCH"
      ],
      "id": "nB7uBx88zXd1"
    },
    {
      "cell_type": "markdown",
      "metadata": {
        "id": "l3JW-GeRT-W3"
      },
      "source": [
        "**Forecast**"
      ],
      "id": "l3JW-GeRT-W3"
    },
    {
      "cell_type": "code",
      "metadata": {
        "id": "CQ6gLJ8xqn77"
      },
      "source": [
        "# Model Estimation - Maximum Likelihood Estimation\n",
        "msgjrgarch.fit.pred.a <- FitML(msgjrgarch.spec,\n",
        "                                data = GSPTSE.df$GSPTSE.Return)"
      ],
      "id": "CQ6gLJ8xqn77",
      "execution_count": 262,
      "outputs": []
    },
    {
      "cell_type": "code",
      "metadata": {
        "id": "uk7xwCe0qqa8"
      },
      "source": [
        "# Model Estimation - MCMC/Bayesian estimation\n",
        "msgjrgarch.fit.pred.b <- FitMCMC(msgjrgarch.spec,\n",
        "                                 data = GSPTSE.df$GSPTSE.Return)"
      ],
      "id": "uk7xwCe0qqa8",
      "execution_count": 263,
      "outputs": []
    },
    {
      "cell_type": "code",
      "metadata": {
        "id": "taC2gBX_qroa"
      },
      "source": [
        "# Forecast - Maximum Likelihood Estimation\n",
        "msgjrgarch.pred.a <- predict(object = msgjrgarch.fit.pred.a,\n",
        "                            nahead = dim(GSPTSE.df.out)[1],\n",
        "                            do.return.draw = TRUE)\n",
        "\n",
        "msgjrgarch.forecast.a <- ts(msgjrgarch.pred.a$vol)"
      ],
      "id": "taC2gBX_qroa",
      "execution_count": 264,
      "outputs": []
    },
    {
      "cell_type": "code",
      "metadata": {
        "id": "DvFhQsItqtQ4"
      },
      "source": [
        "# Forecast - MCMC/Bayesian estimation\n",
        "msgjrgarch.pred.b <- predict(object = msgjrgarch.fit.pred.b,\n",
        "                            nahead = dim(GSPTSE.df.out)[1],\n",
        "                            do.return.draw = TRUE)\n",
        "\n",
        "msgjrgarch.forecast.b <- ts(msgjrgarch.pred.b$vol)"
      ],
      "id": "DvFhQsItqtQ4",
      "execution_count": 265,
      "outputs": []
    },
    {
      "cell_type": "code",
      "metadata": {
        "colab": {
          "base_uri": "https://localhost:8080/",
          "height": 252
        },
        "id": "jT24kG0tquux",
        "outputId": "5137b47a-2d96-4c21-850e-aad418689fb2"
      },
      "source": [
        "# Comparative\n",
        "sigma.msgjrgarch.pred.a <- msgjrgarch.forecast.a\n",
        "sigma.msgjrgarch.pred.b <- msgjrgarch.forecast.b\n",
        "sigma.msgjrgarch.true <- ts(GSPTSE.df.out[,'GSPTSE.VolMSGJRGARCH'])\n",
        "\n",
        "sigma.msgjrgarch <- na.omit(cbind(sigma.msgjrgarch.pred.a,\n",
        "                                  sigma.msgjrgarch.pred.b,\n",
        "                                  sigma.msgjrgarch.true))\n",
        "head(sigma.msgjrgarch)"
      ],
      "id": "jT24kG0tquux",
      "execution_count": 266,
      "outputs": [
        {
          "output_type": "display_data",
          "data": {
            "text/plain": [
              "  sigma.msgjrgarch.pred.a sigma.msgjrgarch.pred.b sigma.msgjrgarch.true\n",
              "1 0.5748804               0.5265346               1.1126429            \n",
              "2 0.5907180               0.5397228               1.0665041            \n",
              "3 0.5974959               0.5619566               1.0196564            \n",
              "4 0.6108021               0.5453132               0.9756650            \n",
              "5 0.6206665               0.6129729               0.9358398            \n",
              "6 0.6209051               0.5822943               0.8962559            "
            ],
            "text/latex": "A Time Series: 6 × 3\n\\begin{tabular}{r|lll}\n  & sigma.msgjrgarch.pred.a & sigma.msgjrgarch.pred.b & sigma.msgjrgarch.true\\\\\n\\hline\n\t1 & 0.5748804 & 0.5265346 & 1.1126429\\\\\n\t2 & 0.5907180 & 0.5397228 & 1.0665041\\\\\n\t3 & 0.5974959 & 0.5619566 & 1.0196564\\\\\n\t4 & 0.6108021 & 0.5453132 & 0.9756650\\\\\n\t5 & 0.6206665 & 0.6129729 & 0.9358398\\\\\n\t6 & 0.6209051 & 0.5822943 & 0.8962559\\\\\n\\end{tabular}\n",
            "text/markdown": "\nA Time Series: 6 × 3\n\n| <!--/--> | sigma.msgjrgarch.pred.a | sigma.msgjrgarch.pred.b | sigma.msgjrgarch.true |\n|---|---|---|---|\n| 1 | 0.5748804 | 0.5265346 | 1.1126429 |\n| 2 | 0.5907180 | 0.5397228 | 1.0665041 |\n| 3 | 0.5974959 | 0.5619566 | 1.0196564 |\n| 4 | 0.6108021 | 0.5453132 | 0.9756650 |\n| 5 | 0.6206665 | 0.6129729 | 0.9358398 |\n| 6 | 0.6209051 | 0.5822943 | 0.8962559 |\n\n",
            "text/html": [
              "<table class=\"dataframe\">\n",
              "<caption>A Time Series: 6 × 3</caption>\n",
              "<thead>\n",
              "\t<tr><th></th><th scope=col>sigma.msgjrgarch.pred.a</th><th scope=col>sigma.msgjrgarch.pred.b</th><th scope=col>sigma.msgjrgarch.true</th></tr>\n",
              "</thead>\n",
              "<tbody>\n",
              "\t<tr><th scope=row>1</th><td>0.5748804</td><td>0.5265346</td><td>1.1126429</td></tr>\n",
              "\t<tr><th scope=row>2</th><td>0.5907180</td><td>0.5397228</td><td>1.0665041</td></tr>\n",
              "\t<tr><th scope=row>3</th><td>0.5974959</td><td>0.5619566</td><td>1.0196564</td></tr>\n",
              "\t<tr><th scope=row>4</th><td>0.6108021</td><td>0.5453132</td><td>0.9756650</td></tr>\n",
              "\t<tr><th scope=row>5</th><td>0.6206665</td><td>0.6129729</td><td>0.9358398</td></tr>\n",
              "\t<tr><th scope=row>6</th><td>0.6209051</td><td>0.5822943</td><td>0.8962559</td></tr>\n",
              "</tbody>\n",
              "</table>\n"
            ]
          },
          "metadata": {
            "tags": []
          }
        }
      ]
    },
    {
      "cell_type": "markdown",
      "metadata": {
        "id": "JuI4MGEVqxUD"
      },
      "source": [
        "**Performance evaluation**"
      ],
      "id": "JuI4MGEVqxUD"
    },
    {
      "cell_type": "code",
      "metadata": {
        "colab": {
          "base_uri": "https://localhost:8080/",
          "height": 51
        },
        "id": "lXsnouifqzNK",
        "outputId": "e8ee8f4c-4e38-4c27-c88c-dc3c5f221488"
      },
      "source": [
        "# Forecast Error - Forecast a\n",
        "msgjrgarch.error.a <- sigma.msgjrgarch[,'sigma.msgjrgarch.pred.a'] - sigma.msgjrgarch[,'sigma.msgjrgarch.true']\n",
        "head(msgjrgarch.error.a)"
      ],
      "id": "lXsnouifqzNK",
      "execution_count": 267,
      "outputs": [
        {
          "output_type": "display_data",
          "data": {
            "text/plain": [
              "A Time Series:\n",
              "[1] -0.5377625 -0.4757862 -0.4221605 -0.3648629 -0.3151733 -0.2753508"
            ],
            "text/latex": "A Time Series:\\\\\\begin{enumerate*}\n\\item -0.537762546886782\n\\item -0.475786155155052\n\\item -0.422160452486305\n\\item -0.364862916451399\n\\item -0.315173304946991\n\\item -0.275350833191303\n\\end{enumerate*}\n",
            "text/markdown": "A Time Series:  \n1. -0.537762546886782\n2. -0.475786155155052\n3. -0.422160452486305\n4. -0.364862916451399\n5. -0.315173304946991\n6. -0.275350833191303\n\n\n",
            "text/html": [
              "A Time Series:<br><style>\n",
              ".list-inline {list-style: none; margin:0; padding: 0}\n",
              ".list-inline>li {display: inline-block}\n",
              ".list-inline>li:not(:last-child)::after {content: \"\\00b7\"; padding: 0 .5ex}\n",
              "</style>\n",
              "<ol class=list-inline><li>-0.537762546886782</li><li>-0.475786155155052</li><li>-0.422160452486305</li><li>-0.364862916451399</li><li>-0.315173304946991</li><li>-0.275350833191303</li></ol>\n"
            ]
          },
          "metadata": {
            "tags": []
          }
        }
      ]
    },
    {
      "cell_type": "code",
      "metadata": {
        "colab": {
          "base_uri": "https://localhost:8080/",
          "height": 51
        },
        "id": "G-it0c-8q0qO",
        "outputId": "6c8d5573-ee3b-4c11-d9ac-28191afd8e4d"
      },
      "source": [
        "# Forecast Error - Forecast b\n",
        "msgjrgarch.error.b <- sigma.msgjrgarch[,'sigma.msgjrgarch.pred.b'] - sigma.msgjrgarch[,'sigma.msgjrgarch.true']\n",
        "head(msgjrgarch.error.b)"
      ],
      "id": "G-it0c-8q0qO",
      "execution_count": 268,
      "outputs": [
        {
          "output_type": "display_data",
          "data": {
            "text/plain": [
              "A Time Series:\n",
              "[1] -0.5861083 -0.5267813 -0.4576998 -0.4303518 -0.3228669 -0.3139616"
            ],
            "text/latex": "A Time Series:\\\\\\begin{enumerate*}\n\\item -0.586108304221261\n\\item -0.526781282317101\n\\item -0.457699755145061\n\\item -0.430351784973855\n\\item -0.322866927334942\n\\item -0.3139615732992\n\\end{enumerate*}\n",
            "text/markdown": "A Time Series:  \n1. -0.586108304221261\n2. -0.526781282317101\n3. -0.457699755145061\n4. -0.430351784973855\n5. -0.322866927334942\n6. -0.3139615732992\n\n\n",
            "text/html": [
              "A Time Series:<br><style>\n",
              ".list-inline {list-style: none; margin:0; padding: 0}\n",
              ".list-inline>li {display: inline-block}\n",
              ".list-inline>li:not(:last-child)::after {content: \"\\00b7\"; padding: 0 .5ex}\n",
              "</style>\n",
              "<ol class=list-inline><li>-0.586108304221261</li><li>-0.526781282317101</li><li>-0.457699755145061</li><li>-0.430351784973855</li><li>-0.322866927334942</li><li>-0.3139615732992</li></ol>\n"
            ]
          },
          "metadata": {
            "tags": []
          }
        }
      ]
    },
    {
      "cell_type": "code",
      "metadata": {
        "colab": {
          "base_uri": "https://localhost:8080/",
          "height": 34
        },
        "id": "vpi9_7Ozq2YF",
        "outputId": "2df4f128-bddd-45f6-d79e-aba4df9d5856"
      },
      "source": [
        "# Mean Square Error Loss - Forecast a\n",
        "msgjrgarch.mse.a <- MSE(sigma.msgjrgarch[,'sigma.msgjrgarch.pred.a'],\n",
        "                        sigma.msgjrgarch[,'sigma.msgjrgarch.true'])\n",
        "round(msgjrgarch.mse.a, digits = 3)"
      ],
      "id": "vpi9_7Ozq2YF",
      "execution_count": 269,
      "outputs": [
        {
          "output_type": "display_data",
          "data": {
            "text/plain": [
              "[1] 0.601"
            ],
            "text/latex": "0.601",
            "text/markdown": "0.601",
            "text/html": [
              "0.601"
            ]
          },
          "metadata": {
            "tags": []
          }
        }
      ]
    },
    {
      "cell_type": "code",
      "metadata": {
        "colab": {
          "base_uri": "https://localhost:8080/",
          "height": 34
        },
        "id": "BmG7UUNUq3pM",
        "outputId": "12b130df-b429-4e0a-857b-00f72c477a15"
      },
      "source": [
        "# Mean Square Error Loss - Forecast b\n",
        "msgjrgarch.mse.b <- MSE(sigma.msgjrgarch[,'sigma.msgjrgarch.pred.b'],\n",
        "                        sigma.msgjrgarch[,'sigma.msgjrgarch.true'])\n",
        "round(msgjrgarch.mse.b, digits = 3)"
      ],
      "id": "BmG7UUNUq3pM",
      "execution_count": 270,
      "outputs": [
        {
          "output_type": "display_data",
          "data": {
            "text/plain": [
              "[1] 0.806"
            ],
            "text/latex": "0.806",
            "text/markdown": "0.806",
            "text/html": [
              "0.806"
            ]
          },
          "metadata": {
            "tags": []
          }
        }
      ]
    },
    {
      "cell_type": "code",
      "metadata": {
        "colab": {
          "base_uri": "https://localhost:8080/",
          "height": 34
        },
        "id": "hXTa5SMJq5Kc",
        "outputId": "904151f4-634e-4eb7-c317-d970fa15975a"
      },
      "source": [
        "# Mean Absolute Error Loss - Forecast a\n",
        "msgjrgarch.mae.a <- MAE(sigma.msgjrgarch[,'sigma.msgjrgarch.pred.a'],\n",
        "                        sigma.msgjrgarch[,'sigma.msgjrgarch.true'])\n",
        "round(msgjrgarch.mae.a, digits = 3)"
      ],
      "id": "hXTa5SMJq5Kc",
      "execution_count": 271,
      "outputs": [
        {
          "output_type": "display_data",
          "data": {
            "text/plain": [
              "[1] 0.59"
            ],
            "text/latex": "0.59",
            "text/markdown": "0.59",
            "text/html": [
              "0.59"
            ]
          },
          "metadata": {
            "tags": []
          }
        }
      ]
    },
    {
      "cell_type": "code",
      "metadata": {
        "colab": {
          "base_uri": "https://localhost:8080/",
          "height": 34
        },
        "id": "y-cKrOXLq6oI",
        "outputId": "879e7642-d4d4-47d3-832c-fbd22e35c133"
      },
      "source": [
        "# Mean Absolute Error Loss - Forecast b\n",
        "msgjrgarch.mae.b <- MAE(sigma.msgjrgarch[,'sigma.msgjrgarch.pred.b'],\n",
        "                        sigma.msgjrgarch[,'sigma.msgjrgarch.true'])\n",
        "round(msgjrgarch.mae.b, digits = 3)"
      ],
      "id": "y-cKrOXLq6oI",
      "execution_count": 272,
      "outputs": [
        {
          "output_type": "display_data",
          "data": {
            "text/plain": [
              "[1] 0.649"
            ],
            "text/latex": "0.649",
            "text/markdown": "0.649",
            "text/html": [
              "0.649"
            ]
          },
          "metadata": {
            "tags": []
          }
        }
      ]
    },
    {
      "cell_type": "code",
      "metadata": {
        "colab": {
          "base_uri": "https://localhost:8080/",
          "height": 34
        },
        "id": "yY_lh4P5q8hV",
        "outputId": "b0dad6b5-e7ea-4058-9cab-6e668d93a5d2"
      },
      "source": [
        "# Root Mean Square Error Loss - Forecast a\n",
        "msgjrgarch.rmse.a <- RMSE(sigma.msgjrgarch[,'sigma.msgjrgarch.pred.a'],\n",
        "                          sigma.msgjrgarch[,'sigma.msgjrgarch.true'])\n",
        "round(msgjrgarch.rmse.a, digits = 3)"
      ],
      "id": "yY_lh4P5q8hV",
      "execution_count": 273,
      "outputs": [
        {
          "output_type": "display_data",
          "data": {
            "text/plain": [
              "[1] 0.775"
            ],
            "text/latex": "0.775",
            "text/markdown": "0.775",
            "text/html": [
              "0.775"
            ]
          },
          "metadata": {
            "tags": []
          }
        }
      ]
    },
    {
      "cell_type": "code",
      "metadata": {
        "colab": {
          "base_uri": "https://localhost:8080/",
          "height": 34
        },
        "id": "u3HQsD5Qq-QB",
        "outputId": "73d4a960-a7f1-407d-8539-ff5f8659a463"
      },
      "source": [
        "# Root Mean Square Error Loss - Forecast b\n",
        "msgjrgarch.rmse.b <- RMSE(sigma.msgjrgarch[,'sigma.msgjrgarch.pred.b'],\n",
        "                          sigma.msgjrgarch[,'sigma.msgjrgarch.true'])\n",
        "round(msgjrgarch.rmse.b, digits = 3)"
      ],
      "id": "u3HQsD5Qq-QB",
      "execution_count": 274,
      "outputs": [
        {
          "output_type": "display_data",
          "data": {
            "text/plain": [
              "[1] 0.898"
            ],
            "text/latex": "0.898",
            "text/markdown": "0.898",
            "text/html": [
              "0.898"
            ]
          },
          "metadata": {
            "tags": []
          }
        }
      ]
    },
    {
      "cell_type": "code",
      "metadata": {
        "colab": {
          "base_uri": "https://localhost:8080/",
          "height": 34
        },
        "id": "94nhDvc3q__y",
        "outputId": "b23fb0bb-c75a-474c-db8d-ebdd32ee39d7"
      },
      "source": [
        "# Quasi-likelihood loss function - forecast a\n",
        "h <- sigma.msgjrgarch[,'sigma.msgjrgarch.true']\n",
        "\n",
        "h.hat.a <- sigma.msgjrgarch[,'sigma.msgjrgarch.pred.a']     \n",
        "msgjrgarch.qlike.a <- mean(log(sqrt(h)) + h.hat.a/sqrt(h))\n",
        "round(msgjrgarch.qlike.a, digits = 5)"
      ],
      "id": "94nhDvc3q__y",
      "execution_count": 275,
      "outputs": [
        {
          "output_type": "display_data",
          "data": {
            "text/plain": [
              "[1] 1.28848"
            ],
            "text/latex": "1.28848",
            "text/markdown": "1.28848",
            "text/html": [
              "1.28848"
            ]
          },
          "metadata": {
            "tags": []
          }
        }
      ]
    },
    {
      "cell_type": "code",
      "metadata": {
        "colab": {
          "base_uri": "https://localhost:8080/",
          "height": 34
        },
        "id": "EQKq_D5FrByJ",
        "outputId": "9e4752de-dbbd-416f-a3ca-034a526c0280"
      },
      "source": [
        "# Quasi-likelihood loss function - forecast b\n",
        "h.hat.b <- sigma.msgjrgarch[,'sigma.msgjrgarch.pred.b']\n",
        "msgjrgarch.qlike.b <- mean(log(sqrt(h)) + h.hat.b/sqrt(h))\n",
        "round(msgjrgarch.qlike.b, digits = 5)"
      ],
      "id": "EQKq_D5FrByJ",
      "execution_count": 276,
      "outputs": [
        {
          "output_type": "display_data",
          "data": {
            "text/plain": [
              "[1] 1.32486"
            ],
            "text/latex": "1.32486",
            "text/markdown": "1.32486",
            "text/html": [
              "1.32486"
            ]
          },
          "metadata": {
            "tags": []
          }
        }
      ]
    },
    {
      "cell_type": "code",
      "metadata": {
        "colab": {
          "base_uri": "https://localhost:8080/",
          "height": 119
        },
        "id": "vPTQpCKJrDfH",
        "outputId": "985eb92d-2537-453a-95d9-19e8d9b4ecb2"
      },
      "source": [
        "# Diebold-Mariano Test (accuracy test) - test 1\n",
        "f.a <- sigma.msgjrgarch[,'sigma.msgjrgarch.pred.a']\n",
        "f.b <- sigma.msgjrgarch[,'sigma.msgjrgarch.pred.b']\n",
        "y <- sigma.msgjrgarch[,'sigma.msgjrgarch.true']\n",
        "\n",
        "DM.test(f.a, f.b, y, loss.type = \"SE\", c = FALSE, H1 = \"same\")"
      ],
      "id": "vPTQpCKJrDfH",
      "execution_count": 277,
      "outputs": [
        {
          "output_type": "display_data",
          "data": {
            "text/plain": [
              "\n",
              "\tDiebold-Mariano test\n",
              "\n",
              "data:  f.a and f.b and y\n",
              "statistic = -5.4973, forecast horizon = 1, p-value = 3.856e-08\n",
              "alternative hypothesis: Forecast f1 and f2 have different accuracy.\n"
            ]
          },
          "metadata": {
            "tags": []
          }
        }
      ]
    },
    {
      "cell_type": "code",
      "metadata": {
        "colab": {
          "base_uri": "https://localhost:8080/",
          "height": 136
        },
        "id": "4gP3k2MNrFGk",
        "outputId": "38e69429-3d4f-48ab-82c1-9fcf260c7510"
      },
      "source": [
        "# Diebold-Mariano test for predictive accuracy - test 2\n",
        "e.a <- msgjrgarch.error.a\n",
        "e.b <- msgjrgarch.error.b\n",
        "\n",
        "dm.test(e.a, e.b, alternative = \"two.sided\", h = 1, power = 2)"
      ],
      "id": "4gP3k2MNrFGk",
      "execution_count": 278,
      "outputs": [
        {
          "output_type": "display_data",
          "data": {
            "text/plain": [
              "\n",
              "\tDiebold-Mariano Test\n",
              "\n",
              "data:  e.ae.b\n",
              "DM = -5.4956, Forecast horizon = 1, Loss function power = 2, p-value =\n",
              "4.518e-08\n",
              "alternative hypothesis: two.sided\n"
            ]
          },
          "metadata": {
            "tags": []
          }
        }
      ]
    },
    {
      "cell_type": "code",
      "metadata": {
        "colab": {
          "base_uri": "https://localhost:8080/",
          "height": 34
        },
        "id": "LcULPKoNrGxD",
        "outputId": "6bf292cd-d71b-457d-b97f-42cfd97f0339"
      },
      "source": [
        "# Quasi-likelihood Loss Function For Volatility Forecasts - forecast a\n",
        "msgjrgarch.qlike.a <- mean(LossVol(sigma.msgjrgarch[,'sigma.msgjrgarch.true'],\n",
        "                                    sigma.msgjrgarch[,'sigma.msgjrgarch.pred.a'],\n",
        "                                    which = \"QLIKE\"))\n",
        "round(msgjrgarch.qlike.a, digits = 3)"
      ],
      "id": "LcULPKoNrGxD",
      "execution_count": 279,
      "outputs": [
        {
          "output_type": "display_data",
          "data": {
            "text/plain": [
              "[1] 0.951"
            ],
            "text/latex": "0.951",
            "text/markdown": "0.951",
            "text/html": [
              "0.951"
            ]
          },
          "metadata": {
            "tags": []
          }
        }
      ]
    },
    {
      "cell_type": "code",
      "metadata": {
        "colab": {
          "base_uri": "https://localhost:8080/",
          "height": 34
        },
        "id": "CWGlz0amrIPg",
        "outputId": "bc76f39d-30ea-4cba-b6e1-2aa0ff55cb1b"
      },
      "source": [
        "# Quasi-likelihood Loss Function For Volatility Forecasts - forecast 1b\n",
        "msgjrgarch.qlike.b <- mean(LossVol(sigma.msgjrgarch[,'sigma.msgjrgarch.true'],\n",
        "                                  sigma.msgjrgarch[,'sigma.msgjrgarch.pred.b'],\n",
        "                                  which = \"QLIKE\"))\n",
        "round(msgjrgarch.qlike.b, digits = 3)"
      ],
      "id": "CWGlz0amrIPg",
      "execution_count": 280,
      "outputs": [
        {
          "output_type": "display_data",
          "data": {
            "text/plain": [
              "[1] 1.297"
            ],
            "text/latex": "1.297",
            "text/markdown": "1.297",
            "text/html": [
              "1.297"
            ]
          },
          "metadata": {
            "tags": []
          }
        }
      ]
    },
    {
      "cell_type": "code",
      "metadata": {
        "colab": {
          "base_uri": "https://localhost:8080/",
          "height": 34
        },
        "id": "pay6piZ-rJmP",
        "outputId": "0cfd8676-f63d-4817-feeb-54a3491aa454"
      },
      "source": [
        "# Log loss / Cross-Entropy Loss -  forecast a\n",
        "msgjrgarch.logloss.a <- LogLoss(sigma.msgjrgarch[,'sigma.msgjrgarch.pred.a'],\n",
        "                                sigma.msgjrgarch[,'sigma.msgjrgarch.true'])\n",
        "round(msgjrgarch.logloss.a, digits = 3)"
      ],
      "id": "pay6piZ-rJmP",
      "execution_count": 281,
      "outputs": [
        {
          "output_type": "display_data",
          "data": {
            "text/plain": [
              "[1] 6.558"
            ],
            "text/latex": "6.558",
            "text/markdown": "6.558",
            "text/html": [
              "6.558"
            ]
          },
          "metadata": {
            "tags": []
          }
        }
      ]
    },
    {
      "cell_type": "code",
      "metadata": {
        "colab": {
          "base_uri": "https://localhost:8080/",
          "height": 34
        },
        "id": "p4KdG8yirK7j",
        "outputId": "0c7db395-96ea-41fa-98af-206e1ea589df"
      },
      "source": [
        "# Log loss / Cross-Entropy Loss -  forecast b\n",
        "msgjrgarch.logloss.b <- LogLoss(sigma.msgjrgarch[,'sigma.msgjrgarch.pred.b'],\n",
        "                                sigma.msgjrgarch[,'sigma.msgjrgarch.true'])\n",
        "round(msgjrgarch.logloss.b, digits = 3)"
      ],
      "id": "p4KdG8yirK7j",
      "execution_count": 282,
      "outputs": [
        {
          "output_type": "display_data",
          "data": {
            "text/plain": [
              "[1] 6.404"
            ],
            "text/latex": "6.404",
            "text/markdown": "6.404",
            "text/html": [
              "6.404"
            ]
          },
          "metadata": {
            "tags": []
          }
        }
      ]
    },
    {
      "cell_type": "code",
      "metadata": {
        "colab": {
          "base_uri": "https://localhost:8080/",
          "height": 170
        },
        "id": "b4P8dlDNrMMd",
        "outputId": "9706e5dc-8e50-4042-b80f-335b72ef85cc"
      },
      "source": [
        "# Linear regression to assess forecast performance - forecast a\n",
        "msgjrgarch.model.a <- lm(sigma.msgjrgarch.true ~ sigma.msgjrgarch.pred.a,\n",
        "                      data = sigma.msgjrgarch)\n",
        "round(coeftest(msgjrgarch.model.a, NeweyWest(msgjrgarch.model.a,\n",
        "                                            lag = bwNeweyWest(msgjrgarch.model.a),\n",
        "                                            prewhite = F)), 3)\n",
        "round(summary(msgjrgarch.model.a)$adj.r.squared, 3)"
      ],
      "id": "b4P8dlDNrMMd",
      "execution_count": 283,
      "outputs": [
        {
          "output_type": "display_data",
          "data": {
            "text/plain": [
              "\n",
              "t test of coefficients:\n",
              "\n",
              "                        Estimate Std. Error t value Pr(>|t|)  \n",
              "(Intercept)               -0.482      0.695  -0.694    0.488  \n",
              "sigma.msgjrgarch.pred.a    1.069      0.623   1.715    0.087 .\n",
              "---\n",
              "Signif. codes:  0 ‘***’ 0.001 ‘**’ 0.01 ‘*’ 0.05 ‘.’ 0.1 ‘ ’ 1\n"
            ]
          },
          "metadata": {
            "tags": []
          }
        },
        {
          "output_type": "display_data",
          "data": {
            "text/plain": [
              "[1] 0.171"
            ],
            "text/latex": "0.171",
            "text/markdown": "0.171",
            "text/html": [
              "0.171"
            ]
          },
          "metadata": {
            "tags": []
          }
        }
      ]
    },
    {
      "cell_type": "code",
      "metadata": {
        "colab": {
          "base_uri": "https://localhost:8080/",
          "height": 170
        },
        "id": "dn4BRM4-rN7I",
        "outputId": "9f757135-4e42-4198-f702-ef78baee7197"
      },
      "source": [
        "# Linear regression to assess forecast performance - forecast b\n",
        "msgjrgarch.model.b <- lm(sigma.msgjrgarch.true ~ sigma.msgjrgarch.pred.b,\n",
        "                      data = sigma.msgjrgarch)\n",
        "round(coeftest(msgjrgarch.model.b, NeweyWest(msgjrgarch.model.b,\n",
        "                                            lag = bwNeweyWest(msgjrgarch.model.b),\n",
        "                                            prewhite = F)), 3)\n",
        "round(summary(msgjrgarch.model.b)$adj.r.squared, 3)"
      ],
      "id": "dn4BRM4-rN7I",
      "execution_count": 284,
      "outputs": [
        {
          "output_type": "display_data",
          "data": {
            "text/plain": [
              "\n",
              "t test of coefficients:\n",
              "\n",
              "                        Estimate Std. Error t value Pr(>|t|)    \n",
              "(Intercept)                1.309      0.249   5.252   <2e-16 ***\n",
              "sigma.msgjrgarch.pred.b   -0.425      0.155  -2.742    0.006 ** \n",
              "---\n",
              "Signif. codes:  0 ‘***’ 0.001 ‘**’ 0.01 ‘*’ 0.05 ‘.’ 0.1 ‘ ’ 1\n"
            ]
          },
          "metadata": {
            "tags": []
          }
        },
        {
          "output_type": "display_data",
          "data": {
            "text/plain": [
              "[1] 0.019"
            ],
            "text/latex": "0.019",
            "text/markdown": "0.019",
            "text/html": [
              "0.019"
            ]
          },
          "metadata": {
            "tags": []
          }
        }
      ]
    },
    {
      "cell_type": "markdown",
      "metadata": {
        "id": "fZYN_pFPylpJ"
      },
      "source": [
        "#13. Monthly volatility"
      ],
      "id": "fZYN_pFPylpJ"
    },
    {
      "cell_type": "markdown",
      "metadata": {
        "id": "_GCDjgnx_W_A"
      },
      "source": [
        "##(a) Transformation of a daily frequency to monthly frequency"
      ],
      "id": "_GCDjgnx_W_A"
    },
    {
      "cell_type": "code",
      "metadata": {
        "colab": {
          "base_uri": "https://localhost:8080/",
          "height": 493
        },
        "id": "JLXA-z-l_f3q",
        "outputId": "a5de8205-28f2-4ab6-979f-b4194d620513"
      },
      "source": [
        "GSPTSE.df.month <- apply.monthly(GSPTSE.df, FUN = mean)\n",
        "head(GSPTSE.df.month)"
      ],
      "id": "JLXA-z-l_f3q",
      "execution_count": 285,
      "outputs": [
        {
          "output_type": "display_data",
          "data": {
            "text/plain": [
              "           GSPTSE.Close GSPTSE.Return GSPTSE.VolGARCH GSPTSE.VolEGARCH\n",
              "2000-01-31     8469.979    0.17573149        1.918533         1.455882\n",
              "2000-02-29     9185.962    0.35055261        2.212796         1.510536\n",
              "2000-03-31     9582.752    0.15595623        1.748115         1.478742\n",
              "2000-04-28     9145.632   -0.06424478        4.119719         3.680151\n",
              "2000-05-31     9296.591   -0.04672654        3.725866         3.092563\n",
              "2000-06-30     9952.873    0.44139410        2.265517         1.655499\n",
              "           GSPTSE.VolGJRGARCH GSPTSE.VolRealGARCH GSPTSE.VolRealEGARCH\n",
              "2000-01-31           1.437241            1.897183             1.447322\n",
              "2000-02-29           1.623104            2.284779             1.585058\n",
              "2000-03-31           1.302945            1.724641             1.461409\n",
              "2000-04-28           4.302526            4.011998             3.723685\n",
              "2000-05-31           3.517269            3.838062             3.220887\n",
              "2000-06-30           1.688992            2.407584             1.772352\n",
              "           GSPTSE.VolRealGJRGARCH GSPTSE.VolMSGARCH GSPTSE.VolMSEGARCH\n",
              "2000-01-31               1.392810          1.286443           1.439761\n",
              "2000-02-29               1.691863          1.449258           1.306121\n",
              "2000-03-31               1.245844          1.303150           1.264881\n",
              "2000-04-28               4.186554          1.949806           2.078201\n",
              "2000-05-31               3.556177          1.875298           1.831516\n",
              "2000-06-30               1.795449          1.447488           1.256945\n",
              "           GSPTSE.VolMSGJRGARCH\n",
              "2000-01-31             1.816660\n",
              "2000-02-29             1.359797\n",
              "2000-03-31             1.099900\n",
              "2000-04-28             2.078868\n",
              "2000-05-31             1.896326\n",
              "2000-06-30             1.243264"
            ]
          },
          "metadata": {
            "tags": []
          }
        }
      ]
    },
    {
      "cell_type": "markdown",
      "metadata": {
        "id": "KX6T_XNH_n93"
      },
      "source": [
        "##(b) Lag Length Selection"
      ],
      "id": "KX6T_XNH_n93"
    },
    {
      "cell_type": "code",
      "metadata": {
        "colab": {
          "base_uri": "https://localhost:8080/"
        },
        "id": "nEgGG_NO_rJk",
        "outputId": "49595ce6-2bd0-418f-f408-4ebfe8c7c17f"
      },
      "source": [
        "# Package\n",
        "install.packages('tsDyn')\n",
        "\n",
        "library(tsDyn)"
      ],
      "id": "nEgGG_NO_rJk",
      "execution_count": 286,
      "outputs": [
        {
          "output_type": "stream",
          "text": [
            "Installing package into ‘/usr/local/lib/R/site-library’\n",
            "(as ‘lib’ is unspecified)\n",
            "\n",
            "also installing the dependencies ‘tmvnsim’, ‘deSolve’, ‘strucchange’, ‘iterators’, ‘mnormt’, ‘tseriesChaos’, ‘vars’, ‘foreach’\n",
            "\n",
            "\n",
            "\n",
            "Attaching package: ‘tsDyn’\n",
            "\n",
            "\n",
            "The following object is masked from ‘package:MLmetrics’:\n",
            "\n",
            "    MAPE\n",
            "\n",
            "\n",
            "The following object is masked from ‘package:Metrics’:\n",
            "\n",
            "    mse\n",
            "\n",
            "\n"
          ],
          "name": "stderr"
        }
      ]
    },
    {
      "cell_type": "code",
      "metadata": {
        "colab": {
          "base_uri": "https://localhost:8080/",
          "height": 68
        },
        "id": "nSnrXFwT_zzY",
        "outputId": "6484215c-9d4d-40a0-cf33-cb9c238678ad"
      },
      "source": [
        "lags.select(GSPTSE.df.month$GSPTSE.VolGARCH, lag.max = 10)"
      ],
      "id": "nSnrXFwT_zzY",
      "execution_count": 287,
      "outputs": [
        {
          "output_type": "display_data",
          "data": {
            "text/plain": [
              "Best AIC:  lag= 2 \n",
              "Best BIC:  lag= 1 \n",
              "Best HQ :  lag= 2 "
            ]
          },
          "metadata": {
            "tags": []
          }
        }
      ]
    },
    {
      "cell_type": "code",
      "metadata": {
        "colab": {
          "base_uri": "https://localhost:8080/",
          "height": 68
        },
        "id": "uK1NeJFsBna8",
        "outputId": "dc08e318-7a59-4824-d3c5-1c06acab2e2d"
      },
      "source": [
        "lags.select(GSPTSE.df.month$GSPTSE.VolEGARCH, lag.max = 10)"
      ],
      "id": "uK1NeJFsBna8",
      "execution_count": 288,
      "outputs": [
        {
          "output_type": "display_data",
          "data": {
            "text/plain": [
              "Best AIC:  lag= 1 \n",
              "Best BIC:  lag= 1 \n",
              "Best HQ :  lag= 1 "
            ]
          },
          "metadata": {
            "tags": []
          }
        }
      ]
    },
    {
      "cell_type": "code",
      "metadata": {
        "colab": {
          "base_uri": "https://localhost:8080/",
          "height": 68
        },
        "id": "sPkpUtZhBqHJ",
        "outputId": "faa7fb7f-ab2f-45c0-ceee-fb775360010e"
      },
      "source": [
        "lags.select(GSPTSE.df.month$GSPTSE.VolGJRGARCH, lag.max = 10)"
      ],
      "id": "sPkpUtZhBqHJ",
      "execution_count": 289,
      "outputs": [
        {
          "output_type": "display_data",
          "data": {
            "text/plain": [
              "Best AIC:  lag= 2 \n",
              "Best BIC:  lag= 1 \n",
              "Best HQ :  lag= 1 "
            ]
          },
          "metadata": {
            "tags": []
          }
        }
      ]
    },
    {
      "cell_type": "code",
      "metadata": {
        "colab": {
          "base_uri": "https://localhost:8080/",
          "height": 68
        },
        "id": "K9_kCmfQBsDt",
        "outputId": "1accc4ea-313a-4830-fef2-e597ccfe2d6b"
      },
      "source": [
        "lags.select(GSPTSE.df.month$GSPTSE.VolRealGARCH, lag.max = 10)"
      ],
      "id": "K9_kCmfQBsDt",
      "execution_count": 290,
      "outputs": [
        {
          "output_type": "display_data",
          "data": {
            "text/plain": [
              "Best AIC:  lag= 3 \n",
              "Best BIC:  lag= 2 \n",
              "Best HQ :  lag= 2 "
            ]
          },
          "metadata": {
            "tags": []
          }
        }
      ]
    },
    {
      "cell_type": "code",
      "metadata": {
        "colab": {
          "base_uri": "https://localhost:8080/",
          "height": 68
        },
        "id": "c74fPYQEB3Pc",
        "outputId": "e28f106a-d785-48d2-a360-56f7fed0e02d"
      },
      "source": [
        "lags.select(GSPTSE.df.month$GSPTSE.VolRealEGARCH, lag.max = 10)"
      ],
      "id": "c74fPYQEB3Pc",
      "execution_count": 291,
      "outputs": [
        {
          "output_type": "display_data",
          "data": {
            "text/plain": [
              "Best AIC:  lag= 2 \n",
              "Best BIC:  lag= 1 \n",
              "Best HQ :  lag= 1 "
            ]
          },
          "metadata": {
            "tags": []
          }
        }
      ]
    },
    {
      "cell_type": "code",
      "metadata": {
        "colab": {
          "base_uri": "https://localhost:8080/",
          "height": 68
        },
        "id": "eShiYpuXB6vM",
        "outputId": "01a768a7-d5fb-425d-d438-aa786fdaab80"
      },
      "source": [
        "lags.select(GSPTSE.df.month$GSPTSE.VolRealGJRGARCH, lag.max = 10)"
      ],
      "id": "eShiYpuXB6vM",
      "execution_count": 292,
      "outputs": [
        {
          "output_type": "display_data",
          "data": {
            "text/plain": [
              "Best AIC:  lag= 2 \n",
              "Best BIC:  lag= 1 \n",
              "Best HQ :  lag= 2 "
            ]
          },
          "metadata": {
            "tags": []
          }
        }
      ]
    },
    {
      "cell_type": "code",
      "metadata": {
        "colab": {
          "base_uri": "https://localhost:8080/",
          "height": 68
        },
        "id": "vZpT89GVB-Kq",
        "outputId": "42b0c818-0688-410e-f1e0-75723ea1857f"
      },
      "source": [
        "lags.select(GSPTSE.df.month$GSPTSE.VolMSGARCH, lag.max = 10)"
      ],
      "id": "vZpT89GVB-Kq",
      "execution_count": 293,
      "outputs": [
        {
          "output_type": "display_data",
          "data": {
            "text/plain": [
              "Best AIC:  lag= 2 \n",
              "Best BIC:  lag= 1 \n",
              "Best HQ :  lag= 2 "
            ]
          },
          "metadata": {
            "tags": []
          }
        }
      ]
    },
    {
      "cell_type": "code",
      "metadata": {
        "colab": {
          "base_uri": "https://localhost:8080/",
          "height": 68
        },
        "id": "bTXkiJYoCCF8",
        "outputId": "a230f7d3-cce8-48f3-d449-12d2d5d94163"
      },
      "source": [
        "lags.select(GSPTSE.df.month$GSPTSE.VolMSEGARCH , lag.max = 10)"
      ],
      "id": "bTXkiJYoCCF8",
      "execution_count": 294,
      "outputs": [
        {
          "output_type": "display_data",
          "data": {
            "text/plain": [
              "Best AIC:  lag= 1 \n",
              "Best BIC:  lag= 1 \n",
              "Best HQ :  lag= 1 "
            ]
          },
          "metadata": {
            "tags": []
          }
        }
      ]
    },
    {
      "cell_type": "code",
      "metadata": {
        "colab": {
          "base_uri": "https://localhost:8080/",
          "height": 68
        },
        "id": "gmp7CKgmCIaH",
        "outputId": "9f90313a-a6a7-4c1e-95d8-09d2accf0b97"
      },
      "source": [
        "lags.select(GSPTSE.df.month$GSPTSE.VolMSGJRGARCH , lag.max = 10)"
      ],
      "id": "gmp7CKgmCIaH",
      "execution_count": 295,
      "outputs": [
        {
          "output_type": "display_data",
          "data": {
            "text/plain": [
              "Best AIC:  lag= 2 \n",
              "Best BIC:  lag= 1 \n",
              "Best HQ :  lag= 2 "
            ]
          },
          "metadata": {
            "tags": []
          }
        }
      ]
    },
    {
      "cell_type": "markdown",
      "metadata": {
        "id": "9HdfotCPALkn"
      },
      "source": [
        "##(c) Import dataset"
      ],
      "id": "9HdfotCPALkn"
    },
    {
      "cell_type": "markdown",
      "metadata": {
        "id": "KhOH_NiBAe_8"
      },
      "source": [
        "**EPU**"
      ],
      "id": "KhOH_NiBAe_8"
    },
    {
      "cell_type": "code",
      "metadata": {
        "id": "14oHDlSZAg9S"
      },
      "source": [
        "# Package\n",
        "library(readxl)"
      ],
      "id": "14oHDlSZAg9S",
      "execution_count": null,
      "outputs": []
    },
    {
      "cell_type": "code",
      "metadata": {
        "colab": {
          "base_uri": "https://localhost:8080/",
          "height": 405
        },
        "id": "ijgoJa2cAlpy",
        "outputId": "bde151fc-d81d-4335-87d1-223a61e1c8fe"
      },
      "source": [
        "EPU <- read_excel(\"EPU_All_Country_Data.xlsx\",\n",
        "                  sheet = \"Import\",\n",
        "                  col_types = c(\"date\", \"numeric\", \"numeric\", \"numeric\", \"numeric\",\n",
        "                                \"numeric\", \"numeric\", \"numeric\", \"numeric\", \"numeric\",\n",
        "                                \"numeric\", \"numeric\", \"numeric\", \"numeric\"))\n",
        "head(EPU)"
      ],
      "id": "ijgoJa2cAlpy",
      "execution_count": null,
      "outputs": [
        {
          "output_type": "display_data",
          "data": {
            "text/plain": [
              "  MM.YYYY    GEPU_current Brazil    Russia    India     Chile     Mexico   \n",
              "1 2000-01-01 63.43916      54.60320 117.12624  55.47412 104.18382 161.02013\n",
              "2 2000-02-01 58.77943      41.26398  27.02751  58.04263  76.43725 157.84093\n",
              "3 2000-03-01 61.33933      73.60725  27.27277  63.43669  78.59699  90.80582\n",
              "4 2000-04-01 64.76240      96.34906  25.90913  78.92112  63.72873  93.59448\n",
              "5 2000-05-01 86.84892     189.96852  42.97606  59.61799 120.89192 136.35007\n",
              "6 2000-06-01 88.23903     106.87265 115.94142 110.34407 156.83112 216.03893\n",
              "  China     Canada   France   Germany   Japan     UK       US       \n",
              "1 44.004440 46.92811 18.45134  73.23399  78.12204 30.08247  88.98869\n",
              "2  9.066709 45.72284 33.22514  97.35842  78.62767 36.62590  73.36520\n",
              "3 44.399136 39.32267 42.40266  96.09151  79.74557 45.16381  73.29862\n",
              "4 35.441414 53.17447 16.59283  69.44795 103.12970 42.74244  70.59975\n",
              "5 71.135803 54.20769 55.37305 135.28714  86.34306 53.87834 118.14321\n",
              "6 36.856976 45.04951 35.07029  58.29012 150.85790 51.15050 109.58423"
            ],
            "text/latex": "A tibble: 6 × 14\n\\begin{tabular}{llllllllllllll}\n MM.YYYY & GEPU\\_current & Brazil & Russia & India & Chile & Mexico & China & Canada & France & Germany & Japan & UK & US\\\\\n <dttm> & <dbl> & <dbl> & <dbl> & <dbl> & <dbl> & <dbl> & <dbl> & <dbl> & <dbl> & <dbl> & <dbl> & <dbl> & <dbl>\\\\\n\\hline\n\t 2000-01-01 & 63.43916 &  54.60320 & 117.12624 &  55.47412 & 104.18382 & 161.02013 & 44.004440 & 46.92811 & 18.45134 &  73.23399 &  78.12204 & 30.08247 &  88.98869\\\\\n\t 2000-02-01 & 58.77943 &  41.26398 &  27.02751 &  58.04263 &  76.43725 & 157.84093 &  9.066709 & 45.72284 & 33.22514 &  97.35842 &  78.62767 & 36.62590 &  73.36520\\\\\n\t 2000-03-01 & 61.33933 &  73.60725 &  27.27277 &  63.43669 &  78.59699 &  90.80582 & 44.399136 & 39.32267 & 42.40266 &  96.09151 &  79.74557 & 45.16381 &  73.29862\\\\\n\t 2000-04-01 & 64.76240 &  96.34906 &  25.90913 &  78.92112 &  63.72873 &  93.59448 & 35.441414 & 53.17447 & 16.59283 &  69.44795 & 103.12970 & 42.74244 &  70.59975\\\\\n\t 2000-05-01 & 86.84892 & 189.96852 &  42.97606 &  59.61799 & 120.89192 & 136.35007 & 71.135803 & 54.20769 & 55.37305 & 135.28714 &  86.34306 & 53.87834 & 118.14321\\\\\n\t 2000-06-01 & 88.23903 & 106.87265 & 115.94142 & 110.34407 & 156.83112 & 216.03893 & 36.856976 & 45.04951 & 35.07029 &  58.29012 & 150.85790 & 51.15050 & 109.58423\\\\\n\\end{tabular}\n",
            "text/markdown": "\nA tibble: 6 × 14\n\n| MM.YYYY &lt;dttm&gt; | GEPU_current &lt;dbl&gt; | Brazil &lt;dbl&gt; | Russia &lt;dbl&gt; | India &lt;dbl&gt; | Chile &lt;dbl&gt; | Mexico &lt;dbl&gt; | China &lt;dbl&gt; | Canada &lt;dbl&gt; | France &lt;dbl&gt; | Germany &lt;dbl&gt; | Japan &lt;dbl&gt; | UK &lt;dbl&gt; | US &lt;dbl&gt; |\n|---|---|---|---|---|---|---|---|---|---|---|---|---|---|\n| 2000-01-01 | 63.43916 |  54.60320 | 117.12624 |  55.47412 | 104.18382 | 161.02013 | 44.004440 | 46.92811 | 18.45134 |  73.23399 |  78.12204 | 30.08247 |  88.98869 |\n| 2000-02-01 | 58.77943 |  41.26398 |  27.02751 |  58.04263 |  76.43725 | 157.84093 |  9.066709 | 45.72284 | 33.22514 |  97.35842 |  78.62767 | 36.62590 |  73.36520 |\n| 2000-03-01 | 61.33933 |  73.60725 |  27.27277 |  63.43669 |  78.59699 |  90.80582 | 44.399136 | 39.32267 | 42.40266 |  96.09151 |  79.74557 | 45.16381 |  73.29862 |\n| 2000-04-01 | 64.76240 |  96.34906 |  25.90913 |  78.92112 |  63.72873 |  93.59448 | 35.441414 | 53.17447 | 16.59283 |  69.44795 | 103.12970 | 42.74244 |  70.59975 |\n| 2000-05-01 | 86.84892 | 189.96852 |  42.97606 |  59.61799 | 120.89192 | 136.35007 | 71.135803 | 54.20769 | 55.37305 | 135.28714 |  86.34306 | 53.87834 | 118.14321 |\n| 2000-06-01 | 88.23903 | 106.87265 | 115.94142 | 110.34407 | 156.83112 | 216.03893 | 36.856976 | 45.04951 | 35.07029 |  58.29012 | 150.85790 | 51.15050 | 109.58423 |\n\n",
            "text/html": [
              "<table class=\"dataframe\">\n",
              "<caption>A tibble: 6 × 14</caption>\n",
              "<thead>\n",
              "\t<tr><th scope=col>MM.YYYY</th><th scope=col>GEPU_current</th><th scope=col>Brazil</th><th scope=col>Russia</th><th scope=col>India</th><th scope=col>Chile</th><th scope=col>Mexico</th><th scope=col>China</th><th scope=col>Canada</th><th scope=col>France</th><th scope=col>Germany</th><th scope=col>Japan</th><th scope=col>UK</th><th scope=col>US</th></tr>\n",
              "\t<tr><th scope=col>&lt;dttm&gt;</th><th scope=col>&lt;dbl&gt;</th><th scope=col>&lt;dbl&gt;</th><th scope=col>&lt;dbl&gt;</th><th scope=col>&lt;dbl&gt;</th><th scope=col>&lt;dbl&gt;</th><th scope=col>&lt;dbl&gt;</th><th scope=col>&lt;dbl&gt;</th><th scope=col>&lt;dbl&gt;</th><th scope=col>&lt;dbl&gt;</th><th scope=col>&lt;dbl&gt;</th><th scope=col>&lt;dbl&gt;</th><th scope=col>&lt;dbl&gt;</th><th scope=col>&lt;dbl&gt;</th></tr>\n",
              "</thead>\n",
              "<tbody>\n",
              "\t<tr><td>2000-01-01</td><td>63.43916</td><td> 54.60320</td><td>117.12624</td><td> 55.47412</td><td>104.18382</td><td>161.02013</td><td>44.004440</td><td>46.92811</td><td>18.45134</td><td> 73.23399</td><td> 78.12204</td><td>30.08247</td><td> 88.98869</td></tr>\n",
              "\t<tr><td>2000-02-01</td><td>58.77943</td><td> 41.26398</td><td> 27.02751</td><td> 58.04263</td><td> 76.43725</td><td>157.84093</td><td> 9.066709</td><td>45.72284</td><td>33.22514</td><td> 97.35842</td><td> 78.62767</td><td>36.62590</td><td> 73.36520</td></tr>\n",
              "\t<tr><td>2000-03-01</td><td>61.33933</td><td> 73.60725</td><td> 27.27277</td><td> 63.43669</td><td> 78.59699</td><td> 90.80582</td><td>44.399136</td><td>39.32267</td><td>42.40266</td><td> 96.09151</td><td> 79.74557</td><td>45.16381</td><td> 73.29862</td></tr>\n",
              "\t<tr><td>2000-04-01</td><td>64.76240</td><td> 96.34906</td><td> 25.90913</td><td> 78.92112</td><td> 63.72873</td><td> 93.59448</td><td>35.441414</td><td>53.17447</td><td>16.59283</td><td> 69.44795</td><td>103.12970</td><td>42.74244</td><td> 70.59975</td></tr>\n",
              "\t<tr><td>2000-05-01</td><td>86.84892</td><td>189.96852</td><td> 42.97606</td><td> 59.61799</td><td>120.89192</td><td>136.35007</td><td>71.135803</td><td>54.20769</td><td>55.37305</td><td>135.28714</td><td> 86.34306</td><td>53.87834</td><td>118.14321</td></tr>\n",
              "\t<tr><td>2000-06-01</td><td>88.23903</td><td>106.87265</td><td>115.94142</td><td>110.34407</td><td>156.83112</td><td>216.03893</td><td>36.856976</td><td>45.04951</td><td>35.07029</td><td> 58.29012</td><td>150.85790</td><td>51.15050</td><td>109.58423</td></tr>\n",
              "</tbody>\n",
              "</table>\n"
            ]
          },
          "metadata": {
            "tags": []
          }
        }
      ]
    },
    {
      "cell_type": "code",
      "metadata": {
        "id": "MrqrZ8MZA4-_"
      },
      "source": [
        "attach(EPU)"
      ],
      "id": "MrqrZ8MZA4-_",
      "execution_count": null,
      "outputs": []
    },
    {
      "cell_type": "markdown",
      "metadata": {
        "id": "Vq9oiwlrA58O"
      },
      "source": [
        "**VIX**"
      ],
      "id": "Vq9oiwlrA58O"
    },
    {
      "cell_type": "code",
      "metadata": {
        "colab": {
          "base_uri": "https://localhost:8080/",
          "height": 34
        },
        "id": "V5iY9Kr3BAkR",
        "outputId": "faf26fe6-6228-4c17-f861-ec2f5279a360"
      },
      "source": [
        "getSymbols(\"^VIX\", from = '2000-01-01', to = '2021-05-31', periodicity = \"monthly\")"
      ],
      "id": "V5iY9Kr3BAkR",
      "execution_count": null,
      "outputs": [
        {
          "output_type": "display_data",
          "data": {
            "text/plain": [
              "[1] \"^VIX\""
            ],
            "text/latex": "'\\textasciicircum{}VIX'",
            "text/markdown": "'^VIX'",
            "text/html": [
              "'^VIX'"
            ]
          },
          "metadata": {
            "tags": []
          }
        }
      ]
    },
    {
      "cell_type": "code",
      "metadata": {
        "colab": {
          "base_uri": "https://localhost:8080/",
          "height": 136
        },
        "id": "_SCvdZFcBOxo",
        "outputId": "e2ac2cde-2de7-4619-bdbb-2cf75e2b53f0"
      },
      "source": [
        "head(VIX)"
      ],
      "id": "_SCvdZFcBOxo",
      "execution_count": null,
      "outputs": [
        {
          "output_type": "display_data",
          "data": {
            "text/plain": [
              "           VIX.Open VIX.High VIX.Low VIX.Close VIX.Volume VIX.Adjusted\n",
              "2000-01-01    24.36    29.00   19.51     24.95          0        24.95\n",
              "2000-02-01    24.43    28.12   20.69     23.37          0        23.37\n",
              "2000-03-01    22.65    25.87   19.19     24.11          0        24.11\n",
              "2000-04-01    24.99    34.31   23.25     26.20          0        26.20\n",
              "2000-05-01    26.07    32.89   23.23     23.65          0        23.65\n",
              "2000-06-01    23.20    25.01   19.39     19.54          0        19.54"
            ]
          },
          "metadata": {
            "tags": []
          }
        }
      ]
    },
    {
      "cell_type": "code",
      "metadata": {
        "id": "uuIrny6OBRnH"
      },
      "source": [
        "VIX <- na.omit(VIX)"
      ],
      "id": "uuIrny6OBRnH",
      "execution_count": null,
      "outputs": []
    },
    {
      "cell_type": "markdown",
      "metadata": {
        "id": "LGG7p_RIG7PV"
      },
      "source": [
        "##(d) Estimation"
      ],
      "id": "LGG7p_RIG7PV"
    },
    {
      "cell_type": "markdown",
      "metadata": {
        "id": "gvQCcsPIBUVX"
      },
      "source": [
        "**Benchmark model**"
      ],
      "id": "gvQCcsPIBUVX"
    },
    {
      "cell_type": "code",
      "metadata": {
        "colab": {
          "base_uri": "https://localhost:8080/",
          "height": 136
        },
        "id": "lnEjm9lKBYi3",
        "outputId": "f4f62b2f-077e-4737-f2e3-9da170b4afba"
      },
      "source": [
        "# Concatenate (number of rows of data frames aren't different)\n",
        "uncertainty <- cbind(VIX[,'VIX.Close'], EPU$Brazil, EPU$GEPU_current)\n",
        "head(uncertainty)"
      ],
      "id": "lnEjm9lKBYi3",
      "execution_count": null,
      "outputs": [
        {
          "output_type": "display_data",
          "data": {
            "text/plain": [
              "           VIX.Close EPU.Brazil EPU.GEPU_current\n",
              "2000-01-01     24.95   54.60320         63.43916\n",
              "2000-02-01     23.37   41.26398         58.77943\n",
              "2000-03-01     24.11   73.60725         61.33933\n",
              "2000-04-01     26.20   96.34906         64.76240\n",
              "2000-05-01     23.65  189.96852         86.84892\n",
              "2000-06-01     19.54  106.87265         88.23903"
            ]
          },
          "metadata": {
            "tags": []
          }
        }
      ]
    },
    {
      "cell_type": "code",
      "metadata": {
        "id": "IHhaF8KxC7VF"
      },
      "source": [
        "# Lag of uncertainty variables (lag = 1)\n",
        "lag.epu <- ts(Lag(uncertainty$EPU.Brazil, 1))\n",
        "lag.gepu <- ts(Lag(uncertainty$EPU.GEPU_current, 1))\n",
        "lag.vix <- ts(Lag(uncertainty$VIX.Close, 1))"
      ],
      "id": "IHhaF8KxC7VF",
      "execution_count": null,
      "outputs": []
    },
    {
      "cell_type": "markdown",
      "metadata": {
        "id": "zHQo6FW0FO18"
      },
      "source": [
        "**Linear GARCH**"
      ],
      "id": "zHQo6FW0FO18"
    },
    {
      "cell_type": "code",
      "metadata": {
        "colab": {
          "base_uri": "https://localhost:8080/",
          "height": 187
        },
        "id": "u3qNPRhUClNO",
        "outputId": "944a9433-9710-4551-dee6-545f8c107bcb"
      },
      "source": [
        "# Estimation 1 - GARCH (Best BIC:  lag= 2)\n",
        "garch <- ts(log(BVSP.df.month$BVSP.VolGARCH))\n",
        "lag.garch.1 <- ts(Lag(log(BVSP.df.month$BVSP.VolGARCH), 1))\n",
        "lag.garch.2 <- ts(Lag(log(BVSP.df.month$BVSP.VolGARCH), 2))\n",
        "\n",
        "ols.garch <- cbind(garch, lag.garch.1, lag.garch.2, \n",
        "                  lag.epu, lag.gepu, lag.vix)\n",
        "\n",
        "model.garch.1 <- lm(garch ~  lag.garch.1 + lag.garch.2, \n",
        "                    data = ols.garch)\n",
        "\n",
        "round(coeftest(model.garch.1, NeweyWest(model.garch.1, \n",
        "                                        lag = bwNeweyWest(model.garch.1), \n",
        "                                        prewhite = F)), 3)\n",
        "\n",
        "round(summary(model.garch.1)$adj.r.squared, 3)"
      ],
      "id": "u3qNPRhUClNO",
      "execution_count": null,
      "outputs": [
        {
          "output_type": "display_data",
          "data": {
            "text/plain": [
              "\n",
              "t test of coefficients:\n",
              "\n",
              "            Estimate Std. Error t value Pr(>|t|)    \n",
              "(Intercept)    0.285      0.051   5.631   <2e-16 ***\n",
              "lag.garch.1    0.834      0.073  11.397   <2e-16 ***\n",
              "lag.garch.2   -0.132      0.069  -1.919    0.056 .  \n",
              "---\n",
              "Signif. codes:  0 ‘***’ 0.001 ‘**’ 0.01 ‘*’ 0.05 ‘.’ 0.1 ‘ ’ 1\n"
            ]
          },
          "metadata": {
            "tags": []
          }
        },
        {
          "output_type": "display_data",
          "data": {
            "text/plain": [
              "[1] 0.545"
            ],
            "text/latex": "0.545",
            "text/markdown": "0.545",
            "text/html": [
              "0.545"
            ]
          },
          "metadata": {
            "tags": []
          }
        }
      ]
    },
    {
      "cell_type": "code",
      "metadata": {
        "colab": {
          "base_uri": "https://localhost:8080/",
          "height": 204
        },
        "id": "uppwdMKEE44m",
        "outputId": "c2745d6b-4555-42a5-b57d-584869e3378f"
      },
      "source": [
        "# Estimation 2 - GARCH (Best BIC:  lag= 2)\n",
        "model.garch.2 <- lm(garch ~  lag.garch.1 + lag.garch.2 + lag.epu, \n",
        "                    data = ols.garch)\n",
        "\n",
        "round(coeftest(model.garch.2, NeweyWest(model.garch.2, \n",
        "                                        lag = bwNeweyWest(model.garch.2), \n",
        "                                        prewhite = F)), 3)\n",
        "\n",
        "round(summary(model.garch.2)$adj.r.squared, 3)"
      ],
      "id": "uppwdMKEE44m",
      "execution_count": null,
      "outputs": [
        {
          "output_type": "display_data",
          "data": {
            "text/plain": [
              "\n",
              "t test of coefficients:\n",
              "\n",
              "            Estimate Std. Error t value Pr(>|t|)    \n",
              "(Intercept)    0.296      0.061   4.832   <2e-16 ***\n",
              "lag.garch.1    0.837      0.079  10.645   <2e-16 ***\n",
              "lag.garch.2   -0.133      0.070  -1.892    0.060 .  \n",
              "lag.epu        0.000      0.000  -0.480    0.632    \n",
              "---\n",
              "Signif. codes:  0 ‘***’ 0.001 ‘**’ 0.01 ‘*’ 0.05 ‘.’ 0.1 ‘ ’ 1\n"
            ]
          },
          "metadata": {
            "tags": []
          }
        },
        {
          "output_type": "display_data",
          "data": {
            "text/plain": [
              "[1] 0.544"
            ],
            "text/latex": "0.544",
            "text/markdown": "0.544",
            "text/html": [
              "0.544"
            ]
          },
          "metadata": {
            "tags": []
          }
        }
      ]
    },
    {
      "cell_type": "code",
      "metadata": {
        "colab": {
          "base_uri": "https://localhost:8080/",
          "height": 204
        },
        "id": "YX8DzU72O0oB",
        "outputId": "8bf148a7-a969-4e84-9e32-ae87e0efa8b8"
      },
      "source": [
        "# Estimation 3 - GARCH (Best BIC:  lag= 2)\n",
        "model.garch.3 <- lm(garch ~  lag.garch.1 + lag.garch.2 + lag.vix, \n",
        "                    data = ols.garch)\n",
        "\n",
        "round(coeftest(model.garch.3, NeweyWest(model.garch.3, \n",
        "                                        lag = bwNeweyWest(model.garch.3), \n",
        "                                        prewhite = F)), 3)\n",
        "\n",
        "round(summary(model.garch.3)$adj.r.squared, 3)"
      ],
      "id": "YX8DzU72O0oB",
      "execution_count": null,
      "outputs": [
        {
          "output_type": "display_data",
          "data": {
            "text/plain": [
              "\n",
              "t test of coefficients:\n",
              "\n",
              "            Estimate Std. Error t value Pr(>|t|)    \n",
              "(Intercept)    0.096      0.049   1.963    0.051 .  \n",
              "lag.garch.1    0.645      0.082   7.857   <2e-16 ***\n",
              "lag.garch.2   -0.168      0.060  -2.811    0.005 ** \n",
              "lag.vix        0.020      0.006   3.559   <2e-16 ***\n",
              "---\n",
              "Signif. codes:  0 ‘***’ 0.001 ‘**’ 0.01 ‘*’ 0.05 ‘.’ 0.1 ‘ ’ 1\n"
            ]
          },
          "metadata": {
            "tags": []
          }
        },
        {
          "output_type": "display_data",
          "data": {
            "text/plain": [
              "[1] 0.605"
            ],
            "text/latex": "0.605",
            "text/markdown": "0.605",
            "text/html": [
              "0.605"
            ]
          },
          "metadata": {
            "tags": []
          }
        }
      ]
    },
    {
      "cell_type": "code",
      "metadata": {
        "colab": {
          "base_uri": "https://localhost:8080/",
          "height": 221
        },
        "id": "it_P-MqUO4ec",
        "outputId": "885ddeb2-0b4c-4d99-959d-77d3290ec929"
      },
      "source": [
        "# Estimation 4 - GARCH (Best BIC:  lag= 2)\n",
        "model.garch.4 <- lm(garch ~  lag.garch.1 + lag.garch.2 + lag.epu + lag.vix, \n",
        "                    data = ols.garch)\n",
        "\n",
        "round(coeftest(model.garch.4, NeweyWest(model.garch.4, \n",
        "                                        lag = bwNeweyWest(model.garch.4), \n",
        "                                        prewhite = F)), 3)\n",
        "\n",
        "round(summary(model.garch.4)$adj.r.squared, 3)"
      ],
      "id": "it_P-MqUO4ec",
      "execution_count": null,
      "outputs": [
        {
          "output_type": "display_data",
          "data": {
            "text/plain": [
              "\n",
              "t test of coefficients:\n",
              "\n",
              "            Estimate Std. Error t value Pr(>|t|)    \n",
              "(Intercept)    0.092      0.061   1.499    0.135    \n",
              "lag.garch.1    0.644      0.086   7.506   <2e-16 ***\n",
              "lag.garch.2   -0.167      0.059  -2.852    0.005 ** \n",
              "lag.epu        0.000      0.000   0.119    0.906    \n",
              "lag.vix        0.020      0.006   3.532   <2e-16 ***\n",
              "---\n",
              "Signif. codes:  0 ‘***’ 0.001 ‘**’ 0.01 ‘*’ 0.05 ‘.’ 0.1 ‘ ’ 1\n"
            ]
          },
          "metadata": {
            "tags": []
          }
        },
        {
          "output_type": "display_data",
          "data": {
            "text/plain": [
              "[1] 0.603"
            ],
            "text/latex": "0.603",
            "text/markdown": "0.603",
            "text/html": [
              "0.603"
            ]
          },
          "metadata": {
            "tags": []
          }
        }
      ]
    },
    {
      "cell_type": "code",
      "metadata": {
        "colab": {
          "base_uri": "https://localhost:8080/",
          "height": 238
        },
        "id": "w-QVaWN0PS9d",
        "outputId": "26ad2ad8-5505-4ac7-b2c7-be9c45ba32c3"
      },
      "source": [
        "# Estimation 5 - GARCH (Best BIC:  lag= 2)\n",
        "model.garch.5 <- lm(garch ~  lag.garch.1 + lag.garch.2 + lag.epu + lag.gepu + lag.vix, \n",
        "                    data = ols.garch)\n",
        "\n",
        "round(coeftest(model.garch.5, NeweyWest(model.garch.5, \n",
        "                                        lag = bwNeweyWest(model.garch.5), \n",
        "                                        prewhite = F)), 3)\n",
        "\n",
        "round(summary(model.garch.5)$adj.r.squared, 3)"
      ],
      "id": "w-QVaWN0PS9d",
      "execution_count": null,
      "outputs": [
        {
          "output_type": "display_data",
          "data": {
            "text/plain": [
              "\n",
              "t test of coefficients:\n",
              "\n",
              "            Estimate Std. Error t value Pr(>|t|)    \n",
              "(Intercept)    0.157      0.066   2.390    0.018 *  \n",
              "lag.garch.1    0.585      0.078   7.532   <2e-16 ***\n",
              "lag.garch.2   -0.169      0.058  -2.884    0.004 ** \n",
              "lag.epu        0.001      0.000   3.215    0.001 ***\n",
              "lag.gepu      -0.002      0.000  -5.793   <2e-16 ***\n",
              "lag.vix        0.026      0.006   4.291   <2e-16 ***\n",
              "---\n",
              "Signif. codes:  0 ‘***’ 0.001 ‘**’ 0.01 ‘*’ 0.05 ‘.’ 0.1 ‘ ’ 1\n"
            ]
          },
          "metadata": {
            "tags": []
          }
        },
        {
          "output_type": "display_data",
          "data": {
            "text/plain": [
              "[1] 0.631"
            ],
            "text/latex": "0.631",
            "text/markdown": "0.631",
            "text/html": [
              "0.631"
            ]
          },
          "metadata": {
            "tags": []
          }
        }
      ]
    },
    {
      "cell_type": "markdown",
      "metadata": {
        "id": "KxPH8UsAFTKr"
      },
      "source": [
        "**EGARCH**"
      ],
      "id": "KxPH8UsAFTKr"
    },
    {
      "cell_type": "code",
      "metadata": {
        "colab": {
          "base_uri": "https://localhost:8080/",
          "height": 170
        },
        "id": "jjaoFjcPF-zc",
        "outputId": "4795b419-2e7b-4fa3-cb4b-3cadbd9e3c4b"
      },
      "source": [
        "# Estimation 1 - EGARCH (Best BIC:  lag= 1)\n",
        "egarch <- ts(log(BVSP.df.month$BVSP.VolEGARCH))\n",
        "lag.egarch.1 <- ts(Lag(log(BVSP.df.month$BVSP.VolEGARCH), 1))\n",
        "\n",
        "ols.egarch <- cbind(egarch, lag.egarch.1,\n",
        "                    lag.epu, lag.gepu, lag.vix)\n",
        "\n",
        "model.egarch.1 <- lm(egarch ~  lag.egarch.1, \n",
        "                    data = ols.egarch)\n",
        "\n",
        "round(coeftest(model.egarch.1, NeweyWest(model.egarch.1, \n",
        "                                         lag = bwNeweyWest(model.egarch.1), \n",
        "                                         prewhite = F)), 3)\n",
        "\n",
        "round(summary(model.egarch.1)$adj.r.squared, 3)"
      ],
      "id": "jjaoFjcPF-zc",
      "execution_count": null,
      "outputs": [
        {
          "output_type": "display_data",
          "data": {
            "text/plain": [
              "\n",
              "t test of coefficients:\n",
              "\n",
              "             Estimate Std. Error t value  Pr(>|t|)    \n",
              "(Intercept)     0.292      0.050   5.848 < 2.2e-16 ***\n",
              "lag.egarch.1    0.691      0.049  14.065 < 2.2e-16 ***\n",
              "---\n",
              "Signif. codes:  0 ‘***’ 0.001 ‘**’ 0.01 ‘*’ 0.05 ‘.’ 0.1 ‘ ’ 1\n"
            ]
          },
          "metadata": {
            "tags": []
          }
        },
        {
          "output_type": "display_data",
          "data": {
            "text/plain": [
              "[1] 0.476"
            ],
            "text/latex": "0.476",
            "text/markdown": "0.476",
            "text/html": [
              "0.476"
            ]
          },
          "metadata": {
            "tags": []
          }
        }
      ]
    },
    {
      "cell_type": "code",
      "metadata": {
        "colab": {
          "base_uri": "https://localhost:8080/",
          "height": 187
        },
        "id": "6SYfDY-QGW3S",
        "outputId": "1b48fb92-b85f-448b-f10d-956181f38a1b"
      },
      "source": [
        "# Estimation 2 - EGARCH (Best BIC:  lag= 1)\n",
        "model.egarch.2 <- lm(egarch ~  lag.egarch.1 + lag.epu, \n",
        "                     data = ols.egarch)\n",
        "\n",
        "round(coeftest(model.egarch.2, NeweyWest(model.egarch.2, \n",
        "                                         lag = bwNeweyWest(model.egarch.2), \n",
        "                                         prewhite = F)), 3)\n",
        "\n",
        "round(summary(model.egarch.2)$adj.r.squared, 3)"
      ],
      "id": "6SYfDY-QGW3S",
      "execution_count": null,
      "outputs": [
        {
          "output_type": "display_data",
          "data": {
            "text/plain": [
              "\n",
              "t test of coefficients:\n",
              "\n",
              "             Estimate Std. Error t value Pr(>|t|)    \n",
              "(Intercept)     0.336      0.050   6.677   <2e-16 ***\n",
              "lag.egarch.1    0.697      0.051  13.759   <2e-16 ***\n",
              "lag.epu         0.000      0.000  -2.053    0.041 *  \n",
              "---\n",
              "Signif. codes:  0 ‘***’ 0.001 ‘**’ 0.01 ‘*’ 0.05 ‘.’ 0.1 ‘ ’ 1\n"
            ]
          },
          "metadata": {
            "tags": []
          }
        },
        {
          "output_type": "display_data",
          "data": {
            "text/plain": [
              "[1] 0.477"
            ],
            "text/latex": "0.477",
            "text/markdown": "0.477",
            "text/html": [
              "0.477"
            ]
          },
          "metadata": {
            "tags": []
          }
        }
      ]
    },
    {
      "cell_type": "code",
      "metadata": {
        "colab": {
          "base_uri": "https://localhost:8080/",
          "height": 187
        },
        "id": "iNZE-7iEPn_A",
        "outputId": "70e65bb4-e87b-40c5-8310-2b2be30ead41"
      },
      "source": [
        "# Estimation 3 - EGARCH (Best BIC:  lag= 1)\n",
        "model.egarch.3 <- lm(egarch ~  lag.egarch.1 + lag.vix, \n",
        "                     data = ols.egarch)\n",
        "\n",
        "round(coeftest(model.egarch.3, NeweyWest(model.egarch.3, \n",
        "                                         lag = bwNeweyWest(model.egarch.3), \n",
        "                                         prewhite = F)), 3)\n",
        "\n",
        "round(summary(model.egarch.3)$adj.r.squared, 3)"
      ],
      "id": "iNZE-7iEPn_A",
      "execution_count": null,
      "outputs": [
        {
          "output_type": "display_data",
          "data": {
            "text/plain": [
              "\n",
              "t test of coefficients:\n",
              "\n",
              "             Estimate Std. Error t value Pr(>|t|)    \n",
              "(Intercept)     0.133      0.062   2.158    0.032 *  \n",
              "lag.egarch.1    0.532      0.073   7.260   <2e-16 ***\n",
              "lag.vix         0.016      0.005   3.016    0.003 ** \n",
              "---\n",
              "Signif. codes:  0 ‘***’ 0.001 ‘**’ 0.01 ‘*’ 0.05 ‘.’ 0.1 ‘ ’ 1\n"
            ]
          },
          "metadata": {
            "tags": []
          }
        },
        {
          "output_type": "display_data",
          "data": {
            "text/plain": [
              "[1] 0.512"
            ],
            "text/latex": "0.512",
            "text/markdown": "0.512",
            "text/html": [
              "0.512"
            ]
          },
          "metadata": {
            "tags": []
          }
        }
      ]
    },
    {
      "cell_type": "code",
      "metadata": {
        "colab": {
          "base_uri": "https://localhost:8080/",
          "height": 204
        },
        "id": "Cd-rJ4nnPpme",
        "outputId": "0ead6312-10e4-4b11-ec0e-439534618029"
      },
      "source": [
        "# Estimation 4 - EGARCH (Best BIC:  lag= 1)\n",
        "model.egarch.4 <- lm(egarch ~  lag.egarch.1 + lag.epu + lag.vix, \n",
        "                     data = ols.egarch)\n",
        "\n",
        "round(coeftest(model.egarch.4, NeweyWest(model.egarch.4, \n",
        "                                         lag = bwNeweyWest(model.egarch.4), \n",
        "                                         prewhite = F)), 3)\n",
        "\n",
        "round(summary(model.egarch.4)$adj.r.squared, 3)"
      ],
      "id": "Cd-rJ4nnPpme",
      "execution_count": null,
      "outputs": [
        {
          "output_type": "display_data",
          "data": {
            "text/plain": [
              "\n",
              "t test of coefficients:\n",
              "\n",
              "             Estimate Std. Error t value Pr(>|t|)    \n",
              "(Intercept)     0.171      0.062   2.769    0.006 ** \n",
              "lag.egarch.1    0.539      0.075   7.212   <2e-16 ***\n",
              "lag.epu         0.000      0.000  -1.301    0.194    \n",
              "lag.vix         0.015      0.005   2.931    0.004 ** \n",
              "---\n",
              "Signif. codes:  0 ‘***’ 0.001 ‘**’ 0.01 ‘*’ 0.05 ‘.’ 0.1 ‘ ’ 1\n"
            ]
          },
          "metadata": {
            "tags": []
          }
        },
        {
          "output_type": "display_data",
          "data": {
            "text/plain": [
              "[1] 0.513"
            ],
            "text/latex": "0.513",
            "text/markdown": "0.513",
            "text/html": [
              "0.513"
            ]
          },
          "metadata": {
            "tags": []
          }
        }
      ]
    },
    {
      "cell_type": "code",
      "metadata": {
        "colab": {
          "base_uri": "https://localhost:8080/",
          "height": 221
        },
        "id": "c3XRtwQFPqqa",
        "outputId": "fe4338bf-b34b-41e3-e36e-1d9eed4a15fa"
      },
      "source": [
        "# Estimation 5 - EGARCH (Best BIC:  lag= 1)\n",
        "model.egarch.5 <- lm(egarch ~  lag.egarch.1 + lag.epu + lag.gepu + lag.vix, \n",
        "                     data = ols.egarch)\n",
        "\n",
        "round(coeftest(model.egarch.5, NeweyWest(model.egarch.5, \n",
        "                                         lag = bwNeweyWest(model.egarch.5), \n",
        "                                         prewhite = F)), 3)\n",
        "\n",
        "round(summary(model.egarch.5)$adj.r.squared, 3)"
      ],
      "id": "c3XRtwQFPqqa",
      "execution_count": null,
      "outputs": [
        {
          "output_type": "display_data",
          "data": {
            "text/plain": [
              "\n",
              "t test of coefficients:\n",
              "\n",
              "             Estimate Std. Error t value Pr(>|t|)    \n",
              "(Intercept)     0.234      0.074   3.155    0.002 ** \n",
              "lag.egarch.1    0.482      0.074   6.535   <2e-16 ***\n",
              "lag.epu         0.000      0.000   1.219    0.224    \n",
              "lag.gepu       -0.001      0.000  -4.847   <2e-16 ***\n",
              "lag.vix         0.020      0.006   3.443    0.001 ***\n",
              "---\n",
              "Signif. codes:  0 ‘***’ 0.001 ‘**’ 0.01 ‘*’ 0.05 ‘.’ 0.1 ‘ ’ 1\n"
            ]
          },
          "metadata": {
            "tags": []
          }
        },
        {
          "output_type": "display_data",
          "data": {
            "text/plain": [
              "[1] 0.536"
            ],
            "text/latex": "0.536",
            "text/markdown": "0.536",
            "text/html": [
              "0.536"
            ]
          },
          "metadata": {
            "tags": []
          }
        }
      ]
    },
    {
      "cell_type": "markdown",
      "metadata": {
        "id": "q6ZVo4RGFVPg"
      },
      "source": [
        "**GJR-GARCH**"
      ],
      "id": "q6ZVo4RGFVPg"
    },
    {
      "cell_type": "code",
      "metadata": {
        "colab": {
          "base_uri": "https://localhost:8080/",
          "height": 170
        },
        "id": "sSV2QDYhF_4v",
        "outputId": "9ce1f5eb-6b6f-4388-8549-5a1a09e3f08f"
      },
      "source": [
        "# Estimation 1 - GJR-GARCH (Best BIC:  lag= 1)\n",
        "gjrgarch <- ts(log(BVSP.df.month$BVSP.VolGJRGARCH))\n",
        "lag.gjrgarch.1 <- ts(Lag(log(BVSP.df.month$BVSP.VolGJRGARCH), 1))\n",
        "\n",
        "ols.gjrgarch <- cbind(gjrgarch, lag.gjrgarch.1,\n",
        "                      lag.epu, lag.gepu, lag.vix)\n",
        "\n",
        "model.gjrgarch.1 <- lm(gjrgarch ~  lag.gjrgarch.1, \n",
        "                       data = ols.gjrgarch)\n",
        "\n",
        "round(coeftest(model.gjrgarch.1, NeweyWest(model.gjrgarch.1, \n",
        "                                           lag = bwNeweyWest(model.gjrgarch.1), \n",
        "                                           prewhite = F)), 3)\n",
        "\n",
        "round(summary(model.gjrgarch.1)$adj.r.squared, 3)"
      ],
      "id": "sSV2QDYhF_4v",
      "execution_count": null,
      "outputs": [
        {
          "output_type": "display_data",
          "data": {
            "text/plain": [
              "\n",
              "t test of coefficients:\n",
              "\n",
              "               Estimate Std. Error t value  Pr(>|t|)    \n",
              "(Intercept)       0.304      0.051   5.925 < 2.2e-16 ***\n",
              "lag.gjrgarch.1    0.679      0.058  11.662 < 2.2e-16 ***\n",
              "---\n",
              "Signif. codes:  0 ‘***’ 0.001 ‘**’ 0.01 ‘*’ 0.05 ‘.’ 0.1 ‘ ’ 1\n"
            ]
          },
          "metadata": {
            "tags": []
          }
        },
        {
          "output_type": "display_data",
          "data": {
            "text/plain": [
              "[1] 0.461"
            ],
            "text/latex": "0.461",
            "text/markdown": "0.461",
            "text/html": [
              "0.461"
            ]
          },
          "metadata": {
            "tags": []
          }
        }
      ]
    },
    {
      "cell_type": "code",
      "metadata": {
        "colab": {
          "base_uri": "https://localhost:8080/",
          "height": 187
        },
        "id": "QfZ9xeMXGXxq",
        "outputId": "b6137273-2118-47ba-bfb9-3888538b558a"
      },
      "source": [
        "# Estimation 2 - GJR-GARCH (Best BIC:  lag= 1)\n",
        "model.gjrgarch.2 <- lm(gjrgarch ~  lag.gjrgarch.1 + lag.epu, \n",
        "                       data = ols.gjrgarch)\n",
        "\n",
        "round(coeftest(model.gjrgarch.2, NeweyWest(model.gjrgarch.2, \n",
        "                                          lag = bwNeweyWest(model.gjrgarch.2), \n",
        "                                          prewhite = F)), 3)\n",
        "\n",
        "round(summary(model.gjrgarch.2)$adj.r.squared, 3)"
      ],
      "id": "QfZ9xeMXGXxq",
      "execution_count": null,
      "outputs": [
        {
          "output_type": "display_data",
          "data": {
            "text/plain": [
              "\n",
              "t test of coefficients:\n",
              "\n",
              "               Estimate Std. Error t value Pr(>|t|)    \n",
              "(Intercept)       0.324      0.056   5.739   <2e-16 ***\n",
              "lag.gjrgarch.1    0.683      0.058  11.697   <2e-16 ***\n",
              "lag.epu           0.000      0.000  -0.980    0.328    \n",
              "---\n",
              "Signif. codes:  0 ‘***’ 0.001 ‘**’ 0.01 ‘*’ 0.05 ‘.’ 0.1 ‘ ’ 1\n"
            ]
          },
          "metadata": {
            "tags": []
          }
        },
        {
          "output_type": "display_data",
          "data": {
            "text/plain": [
              "[1] 0.459"
            ],
            "text/latex": "0.459",
            "text/markdown": "0.459",
            "text/html": [
              "0.459"
            ]
          },
          "metadata": {
            "tags": []
          }
        }
      ]
    },
    {
      "cell_type": "code",
      "metadata": {
        "colab": {
          "base_uri": "https://localhost:8080/",
          "height": 187
        },
        "id": "RpwqcFbDQveh",
        "outputId": "bc043915-bf46-4ede-d895-648b01671fb3"
      },
      "source": [
        "# Estimation 3 - GJR-GARCH (Best BIC:  lag= 1)\n",
        "model.gjrgarch.3 <- lm(gjrgarch ~  lag.gjrgarch.1 + lag.vix, \n",
        "                       data = ols.gjrgarch)\n",
        "\n",
        "round(coeftest(model.gjrgarch.3, NeweyWest(model.gjrgarch.3, \n",
        "                                          lag = bwNeweyWest(model.gjrgarch.3), \n",
        "                                          prewhite = F)), 3)\n",
        "\n",
        "round(summary(model.gjrgarch.3)$adj.r.squared, 3)"
      ],
      "id": "RpwqcFbDQveh",
      "execution_count": null,
      "outputs": [
        {
          "output_type": "display_data",
          "data": {
            "text/plain": [
              "\n",
              "t test of coefficients:\n",
              "\n",
              "               Estimate Std. Error t value Pr(>|t|)    \n",
              "(Intercept)       0.111      0.070   1.594    0.112    \n",
              "lag.gjrgarch.1    0.488      0.076   6.427   <2e-16 ***\n",
              "lag.vix           0.019      0.006   3.112    0.002 ** \n",
              "---\n",
              "Signif. codes:  0 ‘***’ 0.001 ‘**’ 0.01 ‘*’ 0.05 ‘.’ 0.1 ‘ ’ 1\n"
            ]
          },
          "metadata": {
            "tags": []
          }
        },
        {
          "output_type": "display_data",
          "data": {
            "text/plain": [
              "[1] 0.509"
            ],
            "text/latex": "0.509",
            "text/markdown": "0.509",
            "text/html": [
              "0.509"
            ]
          },
          "metadata": {
            "tags": []
          }
        }
      ]
    },
    {
      "cell_type": "code",
      "metadata": {
        "colab": {
          "base_uri": "https://localhost:8080/",
          "height": 204
        },
        "id": "oVcvw2H_QwAc",
        "outputId": "04dff00f-f78d-4180-f9da-3083336226d9"
      },
      "source": [
        "# Estimation 4 - GJR-GARCH (Best BIC:  lag= 1)\n",
        "model.gjrgarch.4 <- lm(gjrgarch ~  lag.gjrgarch.1 + lag.epu + lag.vix, \n",
        "                       data = ols.gjrgarch)\n",
        "\n",
        "round(coeftest(model.gjrgarch.4, NeweyWest(model.gjrgarch.4, \n",
        "                                          lag = bwNeweyWest(model.gjrgarch.4), \n",
        "                                          prewhite = F)), 3)\n",
        "\n",
        "round(summary(model.gjrgarch.4)$adj.r.squared, 3)"
      ],
      "id": "oVcvw2H_QwAc",
      "execution_count": null,
      "outputs": [
        {
          "output_type": "display_data",
          "data": {
            "text/plain": [
              "\n",
              "t test of coefficients:\n",
              "\n",
              "               Estimate Std. Error t value Pr(>|t|)    \n",
              "(Intercept)       0.117      0.078   1.505    0.134    \n",
              "lag.gjrgarch.1    0.490      0.081   6.050   <2e-16 ***\n",
              "lag.epu           0.000      0.000  -0.163    0.870    \n",
              "lag.vix           0.019      0.006   3.032    0.003 ** \n",
              "---\n",
              "Signif. codes:  0 ‘***’ 0.001 ‘**’ 0.01 ‘*’ 0.05 ‘.’ 0.1 ‘ ’ 1\n"
            ]
          },
          "metadata": {
            "tags": []
          }
        },
        {
          "output_type": "display_data",
          "data": {
            "text/plain": [
              "[1] 0.507"
            ],
            "text/latex": "0.507",
            "text/markdown": "0.507",
            "text/html": [
              "0.507"
            ]
          },
          "metadata": {
            "tags": []
          }
        }
      ]
    },
    {
      "cell_type": "code",
      "metadata": {
        "colab": {
          "base_uri": "https://localhost:8080/",
          "height": 221
        },
        "id": "5lDj4PwxQwzP",
        "outputId": "d2285288-5cb6-4082-8b11-e144ea163b2f"
      },
      "source": [
        "# Estimation 5 - GJR-GARCH (Best BIC:  lag= 1)\n",
        "model.gjrgarch.5 <- lm(gjrgarch ~  lag.gjrgarch.1 + lag.epu + lag.gepu + lag.vix, \n",
        "                       data = ols.gjrgarch)\n",
        "\n",
        "round(coeftest(model.gjrgarch.5, NeweyWest(model.gjrgarch.5, \n",
        "                                          lag = bwNeweyWest(model.gjrgarch.5), \n",
        "                                          prewhite = F)), 3)\n",
        "\n",
        "round(summary(model.gjrgarch.5)$adj.r.squared, 3)"
      ],
      "id": "5lDj4PwxQwzP",
      "execution_count": null,
      "outputs": [
        {
          "output_type": "display_data",
          "data": {
            "text/plain": [
              "\n",
              "t test of coefficients:\n",
              "\n",
              "               Estimate Std. Error t value Pr(>|t|)    \n",
              "(Intercept)       0.177      0.090   1.971    0.050 *  \n",
              "lag.gjrgarch.1    0.438      0.074   5.891   <2e-16 ***\n",
              "lag.epu           0.001      0.000   2.113    0.036 *  \n",
              "lag.gepu         -0.001      0.000  -4.707   <2e-16 ***\n",
              "lag.vix           0.024      0.007   3.477    0.001 ***\n",
              "---\n",
              "Signif. codes:  0 ‘***’ 0.001 ‘**’ 0.01 ‘*’ 0.05 ‘.’ 0.1 ‘ ’ 1\n"
            ]
          },
          "metadata": {
            "tags": []
          }
        },
        {
          "output_type": "display_data",
          "data": {
            "text/plain": [
              "[1] 0.531"
            ],
            "text/latex": "0.531",
            "text/markdown": "0.531",
            "text/html": [
              "0.531"
            ]
          },
          "metadata": {
            "tags": []
          }
        }
      ]
    },
    {
      "cell_type": "markdown",
      "metadata": {
        "id": "9k0Ku1lRFXsE"
      },
      "source": [
        "**Realized Linear GARCH**"
      ],
      "id": "9k0Ku1lRFXsE"
    },
    {
      "cell_type": "code",
      "metadata": {
        "colab": {
          "base_uri": "https://localhost:8080/",
          "height": 187
        },
        "id": "ggRFZZTrGA7l",
        "outputId": "0fe25d45-40fe-42b6-acf2-08baa80f4fcf"
      },
      "source": [
        "# Estimation 1 - Realized Linear GARCH (Best BIC:  lag= 2)\n",
        "realgarch <- ts(log(BVSP.df.month$BVSP.VolRealGARCH))\n",
        "lag.realgarch.1 <- ts(Lag(log(BVSP.df.month$BVSP.VolRealGARCH), 1))\n",
        "lag.realgarch.2 <- ts(Lag(log(BVSP.df.month$BVSP.VolRealGARCH), 2))\n",
        "\n",
        "ols.realgarch <- cbind(realgarch, lag.realgarch.1, lag.realgarch.2, \n",
        "                       lag.epu, lag.gepu, lag.vix)\n",
        "\n",
        "model.realgarch.1 <- lm(realgarch ~  lag.realgarch.1 + lag.realgarch.2, \n",
        "                        data = ols.realgarch)\n",
        "\n",
        "round(coeftest(model.realgarch.1, NeweyWest(model.realgarch.1, \n",
        "                                            lag = bwNeweyWest(model.realgarch.1), \n",
        "                                            prewhite = F)), 3)\n",
        "\n",
        "round(summary(model.realgarch.1)$adj.r.squared, 3)"
      ],
      "id": "ggRFZZTrGA7l",
      "execution_count": null,
      "outputs": [
        {
          "output_type": "display_data",
          "data": {
            "text/plain": [
              "\n",
              "t test of coefficients:\n",
              "\n",
              "                Estimate Std. Error t value Pr(>|t|)    \n",
              "(Intercept)        0.292      0.055   5.345   <2e-16 ***\n",
              "lag.realgarch.1    0.828      0.069  11.943   <2e-16 ***\n",
              "lag.realgarch.2   -0.130      0.062  -2.093    0.037 *  \n",
              "---\n",
              "Signif. codes:  0 ‘***’ 0.001 ‘**’ 0.01 ‘*’ 0.05 ‘.’ 0.1 ‘ ’ 1\n"
            ]
          },
          "metadata": {
            "tags": []
          }
        },
        {
          "output_type": "display_data",
          "data": {
            "text/plain": [
              "[1] 0.539"
            ],
            "text/latex": "0.539",
            "text/markdown": "0.539",
            "text/html": [
              "0.539"
            ]
          },
          "metadata": {
            "tags": []
          }
        }
      ]
    },
    {
      "cell_type": "code",
      "metadata": {
        "colab": {
          "base_uri": "https://localhost:8080/",
          "height": 204
        },
        "id": "hlGIumFjGY6u",
        "outputId": "cb572e51-4e77-4e4f-d406-85d4add35044"
      },
      "source": [
        "# Estimation 2 - Realized Linear GARCH (Best BIC:  lag= 2)\n",
        "model.realgarch.2 <- lm(realgarch ~  lag.realgarch.1 + lag.realgarch.2 + lag.epu, \n",
        "                        data = ols.realgarch)\n",
        "\n",
        "round(coeftest(model.realgarch.2, NeweyWest(model.realgarch.2, \n",
        "                                            lag = bwNeweyWest(model.realgarch.2), \n",
        "                                            prewhite = F)), 3)\n",
        "\n",
        "round(summary(model.realgarch.2)$adj.r.squared, 3)"
      ],
      "id": "hlGIumFjGY6u",
      "execution_count": null,
      "outputs": [
        {
          "output_type": "display_data",
          "data": {
            "text/plain": [
              "\n",
              "t test of coefficients:\n",
              "\n",
              "                Estimate Std. Error t value Pr(>|t|)    \n",
              "(Intercept)        0.297      0.063   4.701   <2e-16 ***\n",
              "lag.realgarch.1    0.830      0.078  10.696   <2e-16 ***\n",
              "lag.realgarch.2   -0.131      0.066  -1.987    0.048 *  \n",
              "lag.epu            0.000      0.000  -0.222    0.825    \n",
              "---\n",
              "Signif. codes:  0 ‘***’ 0.001 ‘**’ 0.01 ‘*’ 0.05 ‘.’ 0.1 ‘ ’ 1\n"
            ]
          },
          "metadata": {
            "tags": []
          }
        },
        {
          "output_type": "display_data",
          "data": {
            "text/plain": [
              "[1] 0.538"
            ],
            "text/latex": "0.538",
            "text/markdown": "0.538",
            "text/html": [
              "0.538"
            ]
          },
          "metadata": {
            "tags": []
          }
        }
      ]
    },
    {
      "cell_type": "code",
      "metadata": {
        "colab": {
          "base_uri": "https://localhost:8080/",
          "height": 204
        },
        "id": "Fort9qJBRSmj",
        "outputId": "63955542-9015-436c-f865-ae7d1cdfeb0b"
      },
      "source": [
        "# Estimation 3 - Realized Linear GARCH (Best BIC:  lag= 2)\n",
        "model.realgarch.3 <- lm(realgarch ~  lag.realgarch.1 + lag.realgarch.2 + lag.vix, \n",
        "                        data = ols.realgarch)\n",
        "\n",
        "round(coeftest(model.realgarch.3, NeweyWest(model.realgarch.3, \n",
        "                                            lag = bwNeweyWest(model.realgarch.3), \n",
        "                                            prewhite = F)), 3)\n",
        "\n",
        "round(summary(model.realgarch.3)$adj.r.squared, 3)"
      ],
      "id": "Fort9qJBRSmj",
      "execution_count": null,
      "outputs": [
        {
          "output_type": "display_data",
          "data": {
            "text/plain": [
              "\n",
              "t test of coefficients:\n",
              "\n",
              "                Estimate Std. Error t value Pr(>|t|)    \n",
              "(Intercept)        0.083      0.052   1.596    0.112    \n",
              "lag.realgarch.1    0.629      0.087   7.245   <2e-16 ***\n",
              "lag.realgarch.2   -0.166      0.055  -3.017    0.003 ** \n",
              "lag.vix            0.022      0.006   3.576   <2e-16 ***\n",
              "---\n",
              "Signif. codes:  0 ‘***’ 0.001 ‘**’ 0.01 ‘*’ 0.05 ‘.’ 0.1 ‘ ’ 1\n"
            ]
          },
          "metadata": {
            "tags": []
          }
        },
        {
          "output_type": "display_data",
          "data": {
            "text/plain": [
              "[1] 0.607"
            ],
            "text/latex": "0.607",
            "text/markdown": "0.607",
            "text/html": [
              "0.607"
            ]
          },
          "metadata": {
            "tags": []
          }
        }
      ]
    },
    {
      "cell_type": "code",
      "metadata": {
        "colab": {
          "base_uri": "https://localhost:8080/",
          "height": 221
        },
        "id": "Y7DFY72qRTZm",
        "outputId": "c031aa53-5c87-4ae8-80e7-3d410d4dadcc"
      },
      "source": [
        "# Estimation 4 - Realized Linear GARCH (Best BIC:  lag= 2)\n",
        "model.realgarch.4 <- lm(realgarch ~  lag.realgarch.1 + lag.realgarch.2 + lag.epu + lag.vix, \n",
        "                        data = ols.realgarch)\n",
        "\n",
        "round(coeftest(model.realgarch.4, NeweyWest(model.realgarch.4, \n",
        "                                            lag = bwNeweyWest(model.realgarch.4), \n",
        "                                            prewhite = F)), 3)\n",
        "\n",
        "round(summary(model.realgarch.4)$adj.r.squared, 3)"
      ],
      "id": "Y7DFY72qRTZm",
      "execution_count": null,
      "outputs": [
        {
          "output_type": "display_data",
          "data": {
            "text/plain": [
              "\n",
              "t test of coefficients:\n",
              "\n",
              "                Estimate Std. Error t value Pr(>|t|)    \n",
              "(Intercept)        0.073      0.067   1.095    0.274    \n",
              "lag.realgarch.1    0.626      0.091   6.854   <2e-16 ***\n",
              "lag.realgarch.2   -0.165      0.053  -3.095    0.002 ** \n",
              "lag.epu            0.000      0.000   0.324    0.746    \n",
              "lag.vix            0.022      0.006   3.539   <2e-16 ***\n",
              "---\n",
              "Signif. codes:  0 ‘***’ 0.001 ‘**’ 0.01 ‘*’ 0.05 ‘.’ 0.1 ‘ ’ 1\n"
            ]
          },
          "metadata": {
            "tags": []
          }
        },
        {
          "output_type": "display_data",
          "data": {
            "text/plain": [
              "[1] 0.606"
            ],
            "text/latex": "0.606",
            "text/markdown": "0.606",
            "text/html": [
              "0.606"
            ]
          },
          "metadata": {
            "tags": []
          }
        }
      ]
    },
    {
      "cell_type": "code",
      "metadata": {
        "colab": {
          "base_uri": "https://localhost:8080/",
          "height": 238
        },
        "id": "zYv19mZSRUB9",
        "outputId": "12e55e08-cd60-4816-d683-ba9a7524f5d4"
      },
      "source": [
        "# Estimation 5 - Realized Linear GARCH (Best BIC:  lag= 2)\n",
        "model.realgarch.5 <- lm(realgarch ~  lag.realgarch.1 + lag.realgarch.2 + lag.epu + lag.gepu + lag.vix, \n",
        "                        data = ols.realgarch)\n",
        "\n",
        "round(coeftest(model.realgarch.5, NeweyWest(model.realgarch.5, \n",
        "                                            lag = bwNeweyWest(model.realgarch.5), \n",
        "                                            prewhite = F)), 3)\n",
        "\n",
        "round(summary(model.realgarch.5)$adj.r.squared, 3)"
      ],
      "id": "zYv19mZSRUB9",
      "execution_count": null,
      "outputs": [
        {
          "output_type": "display_data",
          "data": {
            "text/plain": [
              "\n",
              "t test of coefficients:\n",
              "\n",
              "                Estimate Std. Error t value Pr(>|t|)    \n",
              "(Intercept)        0.141      0.072   1.959    0.051 .  \n",
              "lag.realgarch.1    0.569      0.083   6.871   <2e-16 ***\n",
              "lag.realgarch.2   -0.165      0.055  -2.982    0.003 ** \n",
              "lag.epu            0.001      0.000   3.247    0.001 ***\n",
              "lag.gepu          -0.002      0.000  -5.791   <2e-16 ***\n",
              "lag.vix            0.027      0.006   4.270   <2e-16 ***\n",
              "---\n",
              "Signif. codes:  0 ‘***’ 0.001 ‘**’ 0.01 ‘*’ 0.05 ‘.’ 0.1 ‘ ’ 1\n"
            ]
          },
          "metadata": {
            "tags": []
          }
        },
        {
          "output_type": "display_data",
          "data": {
            "text/plain": [
              "[1] 0.634"
            ],
            "text/latex": "0.634",
            "text/markdown": "0.634",
            "text/html": [
              "0.634"
            ]
          },
          "metadata": {
            "tags": []
          }
        }
      ]
    },
    {
      "cell_type": "markdown",
      "metadata": {
        "id": "tUOifxgkFbpF"
      },
      "source": [
        "**Realized EGARCH**"
      ],
      "id": "tUOifxgkFbpF"
    },
    {
      "cell_type": "code",
      "metadata": {
        "colab": {
          "base_uri": "https://localhost:8080/",
          "height": 170
        },
        "id": "aKcrDVVGGCtZ",
        "outputId": "c82ebdc8-7a6d-446d-d00c-c7efe3e21c37"
      },
      "source": [
        "# Estimation 1 - Realized EGARCH (Best BIC:  lag= 1)\n",
        "realegarch <- ts(log(BVSP.df.month$BVSP.VolRealEGARCH))\n",
        "lag.realegarch.1 <- ts(Lag(log(BVSP.df.month$BVSP.VolRealEGARCH), 1))\n",
        "\n",
        "ols.realegarch <- cbind(realegarch, lag.realegarch.1,\n",
        "                        lag.epu, lag.gepu, lag.vix)\n",
        "\n",
        "model.realegarch.1 <- lm(realegarch ~  lag.realegarch.1, \n",
        "                        data = ols.realegarch)\n",
        "\n",
        "round(coeftest(model.realegarch.1, NeweyWest(model.realegarch.1, \n",
        "                                            lag = bwNeweyWest(model.realegarch.1), \n",
        "                                            prewhite = F)), 3)\n",
        "\n",
        "round(summary(model.realegarch.1)$adj.r.squared, 3)"
      ],
      "id": "aKcrDVVGGCtZ",
      "execution_count": null,
      "outputs": [
        {
          "output_type": "display_data",
          "data": {
            "text/plain": [
              "\n",
              "t test of coefficients:\n",
              "\n",
              "                 Estimate Std. Error t value  Pr(>|t|)    \n",
              "(Intercept)         0.298      0.052   5.754 < 2.2e-16 ***\n",
              "lag.realegarch.1    0.689      0.050  13.836 < 2.2e-16 ***\n",
              "---\n",
              "Signif. codes:  0 ‘***’ 0.001 ‘**’ 0.01 ‘*’ 0.05 ‘.’ 0.1 ‘ ’ 1\n"
            ]
          },
          "metadata": {
            "tags": []
          }
        },
        {
          "output_type": "display_data",
          "data": {
            "text/plain": [
              "[1] 0.473"
            ],
            "text/latex": "0.473",
            "text/markdown": "0.473",
            "text/html": [
              "0.473"
            ]
          },
          "metadata": {
            "tags": []
          }
        }
      ]
    },
    {
      "cell_type": "code",
      "metadata": {
        "colab": {
          "base_uri": "https://localhost:8080/",
          "height": 187
        },
        "id": "k9o6HRw9GZ1M",
        "outputId": "8238eb83-9cd6-471e-c309-00e666eea7c6"
      },
      "source": [
        "# Estimation 2 - Realized EGARCH (Best BIC:  lag= 1)\n",
        "model.realegarch.2 <- lm(realegarch ~  lag.realegarch.1 + lag.epu, \n",
        "                          data = ols.realegarch)\n",
        "\n",
        "round(coeftest(model.realegarch.2, NeweyWest(model.realegarch.2, \n",
        "                                              lag = bwNeweyWest(model.realegarch.2), \n",
        "                                              prewhite = F)), 3)\n",
        "\n",
        "round(summary(model.realegarch.2)$adj.r.squared, 3)"
      ],
      "id": "k9o6HRw9GZ1M",
      "execution_count": null,
      "outputs": [
        {
          "output_type": "display_data",
          "data": {
            "text/plain": [
              "\n",
              "t test of coefficients:\n",
              "\n",
              "                 Estimate Std. Error t value Pr(>|t|)    \n",
              "(Intercept)         0.337      0.052   6.531   <2e-16 ***\n",
              "lag.realegarch.1    0.694      0.052  13.357   <2e-16 ***\n",
              "lag.epu             0.000      0.000  -1.754    0.081 .  \n",
              "---\n",
              "Signif. codes:  0 ‘***’ 0.001 ‘**’ 0.01 ‘*’ 0.05 ‘.’ 0.1 ‘ ’ 1\n"
            ]
          },
          "metadata": {
            "tags": []
          }
        },
        {
          "output_type": "display_data",
          "data": {
            "text/plain": [
              "[1] 0.473"
            ],
            "text/latex": "0.473",
            "text/markdown": "0.473",
            "text/html": [
              "0.473"
            ]
          },
          "metadata": {
            "tags": []
          }
        }
      ]
    },
    {
      "cell_type": "code",
      "metadata": {
        "colab": {
          "base_uri": "https://localhost:8080/",
          "height": 187
        },
        "id": "I1exBnz0R4Pj",
        "outputId": "ba074cf9-53e6-400d-c09e-7413448c9825"
      },
      "source": [
        "# Estimation 3 - Realized EGARCH (Best BIC:  lag= 1)\n",
        "model.realegarch.3 <- lm(realegarch ~  lag.realegarch.1 + lag.vix, \n",
        "                          data = ols.realegarch)\n",
        "\n",
        "round(coeftest(model.realegarch.3, NeweyWest(model.realegarch.3, \n",
        "                                              lag = bwNeweyWest(model.realegarch.3), \n",
        "                                              prewhite = F)), 3)\n",
        "\n",
        "round(summary(model.realegarch.3)$adj.r.squared, 3)"
      ],
      "id": "I1exBnz0R4Pj",
      "execution_count": null,
      "outputs": [
        {
          "output_type": "display_data",
          "data": {
            "text/plain": [
              "\n",
              "t test of coefficients:\n",
              "\n",
              "                 Estimate Std. Error t value Pr(>|t|)    \n",
              "(Intercept)         0.126      0.063   2.001    0.046 *  \n",
              "lag.realegarch.1    0.519      0.076   6.859   <2e-16 ***\n",
              "lag.vix             0.017      0.005   3.117    0.002 ** \n",
              "---\n",
              "Signif. codes:  0 ‘***’ 0.001 ‘**’ 0.01 ‘*’ 0.05 ‘.’ 0.1 ‘ ’ 1\n"
            ]
          },
          "metadata": {
            "tags": []
          }
        },
        {
          "output_type": "display_data",
          "data": {
            "text/plain": [
              "[1] 0.516"
            ],
            "text/latex": "0.516",
            "text/markdown": "0.516",
            "text/html": [
              "0.516"
            ]
          },
          "metadata": {
            "tags": []
          }
        }
      ]
    },
    {
      "cell_type": "code",
      "metadata": {
        "colab": {
          "base_uri": "https://localhost:8080/",
          "height": 221
        },
        "id": "txIofdC1R5OJ",
        "outputId": "f7fdf545-c93d-425b-ac31-b1b04cb7a3e9"
      },
      "source": [
        "# Estimation 4 - Realized EGARCH (Best BIC:  lag= 1)\n",
        "model.realegarch.4 <- lm(realegarch ~  lag.realegarch.1 + lag.epu + lag.gepu + lag.vix, \n",
        "                          data = ols.realegarch)\n",
        "\n",
        "round(coeftest(model.realegarch.4, NeweyWest(model.realegarch.4, \n",
        "                                              lag = bwNeweyWest(model.realegarch.4), \n",
        "                                              prewhite = F)), 3)\n",
        "\n",
        "round(summary(model.realegarch.4)$adj.r.squared, 3)"
      ],
      "id": "txIofdC1R5OJ",
      "execution_count": null,
      "outputs": [
        {
          "output_type": "display_data",
          "data": {
            "text/plain": [
              "\n",
              "t test of coefficients:\n",
              "\n",
              "                 Estimate Std. Error t value Pr(>|t|)    \n",
              "(Intercept)         0.223      0.076   2.947    0.004 ** \n",
              "lag.realegarch.1    0.468      0.076   6.180   <2e-16 ***\n",
              "lag.epu             0.000      0.000   1.409    0.160    \n",
              "lag.gepu           -0.001      0.000  -4.918   <2e-16 ***\n",
              "lag.vix             0.022      0.006   3.489    0.001 ***\n",
              "---\n",
              "Signif. codes:  0 ‘***’ 0.001 ‘**’ 0.01 ‘*’ 0.05 ‘.’ 0.1 ‘ ’ 1\n"
            ]
          },
          "metadata": {
            "tags": []
          }
        },
        {
          "output_type": "display_data",
          "data": {
            "text/plain": [
              "[1] 0.541"
            ],
            "text/latex": "0.541",
            "text/markdown": "0.541",
            "text/html": [
              "0.541"
            ]
          },
          "metadata": {
            "tags": []
          }
        }
      ]
    },
    {
      "cell_type": "code",
      "metadata": {
        "colab": {
          "base_uri": "https://localhost:8080/",
          "height": 221
        },
        "id": "HpsZ5qyNR6JL",
        "outputId": "63076716-57a7-4201-df78-a73455f2ac7c"
      },
      "source": [
        "# Estimation 5 - Realized EGARCH (Best BIC:  lag= 1)\n",
        "model.realegarch.5 <- lm(realegarch ~  lag.realegarch.1 + lag.epu + lag.gepu + lag.vix, \n",
        "                          data = ols.realegarch)\n",
        "\n",
        "round(coeftest(model.realegarch.5, NeweyWest(model.realegarch.5, \n",
        "                                              lag = bwNeweyWest(model.realegarch.5), \n",
        "                                              prewhite = F)), 3)\n",
        "\n",
        "round(summary(model.realegarch.5)$adj.r.squared, 3)"
      ],
      "id": "HpsZ5qyNR6JL",
      "execution_count": null,
      "outputs": [
        {
          "output_type": "display_data",
          "data": {
            "text/plain": [
              "\n",
              "t test of coefficients:\n",
              "\n",
              "                 Estimate Std. Error t value Pr(>|t|)    \n",
              "(Intercept)         0.223      0.076   2.947    0.004 ** \n",
              "lag.realegarch.1    0.468      0.076   6.180   <2e-16 ***\n",
              "lag.epu             0.000      0.000   1.409    0.160    \n",
              "lag.gepu           -0.001      0.000  -4.918   <2e-16 ***\n",
              "lag.vix             0.022      0.006   3.489    0.001 ***\n",
              "---\n",
              "Signif. codes:  0 ‘***’ 0.001 ‘**’ 0.01 ‘*’ 0.05 ‘.’ 0.1 ‘ ’ 1\n"
            ]
          },
          "metadata": {
            "tags": []
          }
        },
        {
          "output_type": "display_data",
          "data": {
            "text/plain": [
              "[1] 0.541"
            ],
            "text/latex": "0.541",
            "text/markdown": "0.541",
            "text/html": [
              "0.541"
            ]
          },
          "metadata": {
            "tags": []
          }
        }
      ]
    },
    {
      "cell_type": "markdown",
      "metadata": {
        "id": "zegAfcHHFdbK"
      },
      "source": [
        "**Realized GJR-GARCH**"
      ],
      "id": "zegAfcHHFdbK"
    },
    {
      "cell_type": "code",
      "metadata": {
        "colab": {
          "base_uri": "https://localhost:8080/",
          "height": 187
        },
        "id": "g0qHrweAGDrp",
        "outputId": "b78f6842-4817-43f0-dbeb-4b1e00458f86"
      },
      "source": [
        "# Estimation 1 - Realized GJR-GARCH (Best BIC:  lag= 2)\n",
        "realgjrgarch <- ts(log(BVSP.df.month$BVSP.VolRealGJRGARCH))\n",
        "lag.realgjrgarch.1 <- ts(Lag(log(BVSP.df.month$BVSP.VolRealGJRGARCH), 1))\n",
        "lag.realgjrgarch.2 <- ts(Lag(log(BVSP.df.month$BVSP.VolRealGJRGARCH), 2))\n",
        "\n",
        "ols.realgjrgarch <- cbind(realgjrgarch, lag.realgjrgarch.1, lag.realgjrgarch.2, \n",
        "                          lag.epu, lag.gepu, lag.vix)\n",
        "\n",
        "model.realgjrgarch.1 <- lm(realgjrgarch ~  lag.realgjrgarch.1 + lag.realgjrgarch.2, \n",
        "                            data = ols.realgjrgarch)\n",
        "\n",
        "round(coeftest(model.realgjrgarch.1, NeweyWest(model.realgjrgarch.1, \n",
        "                                              lag = bwNeweyWest(model.realgjrgarch.1), \n",
        "                                              prewhite = F)), 3)\n",
        "\n",
        "round(summary(model.realgjrgarch.1)$adj.r.squared, 3)"
      ],
      "id": "g0qHrweAGDrp",
      "execution_count": null,
      "outputs": [
        {
          "output_type": "display_data",
          "data": {
            "text/plain": [
              "\n",
              "t test of coefficients:\n",
              "\n",
              "                   Estimate Std. Error t value Pr(>|t|)    \n",
              "(Intercept)           0.347      0.062   5.560   <2e-16 ***\n",
              "lag.realgjrgarch.1    0.743      0.075   9.940   <2e-16 ***\n",
              "lag.realgjrgarch.2   -0.104      0.068  -1.541    0.125    \n",
              "---\n",
              "Signif. codes:  0 ‘***’ 0.001 ‘**’ 0.01 ‘*’ 0.05 ‘.’ 0.1 ‘ ’ 1\n"
            ]
          },
          "metadata": {
            "tags": []
          }
        },
        {
          "output_type": "display_data",
          "data": {
            "text/plain": [
              "[1] 0.453"
            ],
            "text/latex": "0.453",
            "text/markdown": "0.453",
            "text/html": [
              "0.453"
            ]
          },
          "metadata": {
            "tags": []
          }
        }
      ]
    },
    {
      "cell_type": "code",
      "metadata": {
        "colab": {
          "base_uri": "https://localhost:8080/",
          "height": 204
        },
        "id": "upoZ-ZM9GbFJ",
        "outputId": "1e334eac-a5ff-4c58-bd18-dbba4136b6d0"
      },
      "source": [
        "# Estimation 2 - Realized GJR-GARCH (Best BIC:  lag= 2)\n",
        "model.realgjrgarch.2 <- lm(realgjrgarch ~  lag.realgjrgarch.1 + lag.realgjrgarch.2 + lag.epu, \n",
        "                          data = ols.realgjrgarch)\n",
        "\n",
        "round(coeftest(model.realgjrgarch.2, NeweyWest(model.realgjrgarch.2, \n",
        "                                              lag = bwNeweyWest(model.realgjrgarch.2), \n",
        "                                              prewhite = F)), 3)\n",
        "\n",
        "round(summary(model.realgjrgarch.2)$adj.r.squared, 3)"
      ],
      "id": "upoZ-ZM9GbFJ",
      "execution_count": null,
      "outputs": [
        {
          "output_type": "display_data",
          "data": {
            "text/plain": [
              "\n",
              "t test of coefficients:\n",
              "\n",
              "                   Estimate Std. Error t value Pr(>|t|)    \n",
              "(Intercept)           0.365      0.069   5.304   <2e-16 ***\n",
              "lag.realgjrgarch.1    0.748      0.079   9.501   <2e-16 ***\n",
              "lag.realgjrgarch.2   -0.105      0.074  -1.428    0.155    \n",
              "lag.epu               0.000      0.000  -0.721    0.472    \n",
              "---\n",
              "Signif. codes:  0 ‘***’ 0.001 ‘**’ 0.01 ‘*’ 0.05 ‘.’ 0.1 ‘ ’ 1\n"
            ]
          },
          "metadata": {
            "tags": []
          }
        },
        {
          "output_type": "display_data",
          "data": {
            "text/plain": [
              "[1] 0.452"
            ],
            "text/latex": "0.452",
            "text/markdown": "0.452",
            "text/html": [
              "0.452"
            ]
          },
          "metadata": {
            "tags": []
          }
        }
      ]
    },
    {
      "cell_type": "code",
      "metadata": {
        "colab": {
          "base_uri": "https://localhost:8080/",
          "height": 204
        },
        "id": "ZNfAR-ogSdfR",
        "outputId": "c85a308a-5106-4019-d65f-79eab9f4693f"
      },
      "source": [
        "# Estimation 3 - Realized GJR-GARCH (Best BIC:  lag= 2)\n",
        "model.realgjrgarch.3 <- lm(realgjrgarch ~  lag.realgjrgarch.1 + lag.realgjrgarch.2 + lag.vix, \n",
        "                          data = ols.realgjrgarch)\n",
        "\n",
        "round(coeftest(model.realgjrgarch.3, NeweyWest(model.realgjrgarch.3, \n",
        "                                              lag = bwNeweyWest(model.realgjrgarch.3), \n",
        "                                              prewhite = F)), 3)\n",
        "\n",
        "round(summary(model.realgjrgarch.3)$adj.r.squared, 3)"
      ],
      "id": "ZNfAR-ogSdfR",
      "execution_count": null,
      "outputs": [
        {
          "output_type": "display_data",
          "data": {
            "text/plain": [
              "\n",
              "t test of coefficients:\n",
              "\n",
              "                   Estimate Std. Error t value Pr(>|t|)    \n",
              "(Intercept)           0.141      0.057   2.470    0.014 *  \n",
              "lag.realgjrgarch.1    0.560      0.077   7.232   <2e-16 ***\n",
              "lag.realgjrgarch.2   -0.161      0.063  -2.568    0.011 *  \n",
              "lag.vix               0.022      0.006   3.385    0.001 ***\n",
              "---\n",
              "Signif. codes:  0 ‘***’ 0.001 ‘**’ 0.01 ‘*’ 0.05 ‘.’ 0.1 ‘ ’ 1\n"
            ]
          },
          "metadata": {
            "tags": []
          }
        },
        {
          "output_type": "display_data",
          "data": {
            "text/plain": [
              "[1] 0.522"
            ],
            "text/latex": "0.522",
            "text/markdown": "0.522",
            "text/html": [
              "0.522"
            ]
          },
          "metadata": {
            "tags": []
          }
        }
      ]
    },
    {
      "cell_type": "code",
      "metadata": {
        "colab": {
          "base_uri": "https://localhost:8080/",
          "height": 221
        },
        "id": "nAvk7lOxSfk7",
        "outputId": "c1df9358-adf5-485a-d470-390c0dded93e"
      },
      "source": [
        "# Estimation 4 - Realized GJR-GARCH (Best BIC:  lag= 2)\n",
        "model.realgjrgarch.4 <- lm(realgjrgarch ~  lag.realgjrgarch.1 + lag.realgjrgarch.2 + lag.epu + lag.vix, \n",
        "                          data = ols.realgjrgarch)\n",
        "\n",
        "round(coeftest(model.realgjrgarch.4, NeweyWest(model.realgjrgarch.4, \n",
        "                                              lag = bwNeweyWest(model.realgjrgarch.4), \n",
        "                                              prewhite = F)), 3)\n",
        "\n",
        "round(summary(model.realgjrgarch.4)$adj.r.squared, 3)"
      ],
      "id": "nAvk7lOxSfk7",
      "execution_count": null,
      "outputs": [
        {
          "output_type": "display_data",
          "data": {
            "text/plain": [
              "\n",
              "t test of coefficients:\n",
              "\n",
              "                   Estimate Std. Error t value Pr(>|t|)    \n",
              "(Intercept)           0.143      0.073   1.951    0.052 .  \n",
              "lag.realgjrgarch.1    0.560      0.081   6.952   <2e-16 ***\n",
              "lag.realgjrgarch.2   -0.161      0.060  -2.684    0.008 ** \n",
              "lag.epu               0.000      0.000  -0.049    0.961    \n",
              "lag.vix               0.022      0.006   3.369    0.001 ***\n",
              "---\n",
              "Signif. codes:  0 ‘***’ 0.001 ‘**’ 0.01 ‘*’ 0.05 ‘.’ 0.1 ‘ ’ 1\n"
            ]
          },
          "metadata": {
            "tags": []
          }
        },
        {
          "output_type": "display_data",
          "data": {
            "text/plain": [
              "[1] 0.52"
            ],
            "text/latex": "0.52",
            "text/markdown": "0.52",
            "text/html": [
              "0.52"
            ]
          },
          "metadata": {
            "tags": []
          }
        }
      ]
    },
    {
      "cell_type": "code",
      "metadata": {
        "colab": {
          "base_uri": "https://localhost:8080/",
          "height": 238
        },
        "id": "q8aAhKYVSe07",
        "outputId": "0af727d5-5310-4a17-87ab-b234630ae205"
      },
      "source": [
        "# Estimation 5 - Realized GJR-GARCH (Best BIC:  lag= 2)\n",
        "model.realgjrgarch.5 <- lm(realgjrgarch ~  lag.realgjrgarch.1 + lag.realgjrgarch.2 + lag.epu + lag.gepu + lag.vix, \n",
        "                          data = ols.realgjrgarch)\n",
        "\n",
        "round(coeftest(model.realgjrgarch.5, NeweyWest(model.realgjrgarch.5, \n",
        "                                              lag = bwNeweyWest(model.realgjrgarch.5), \n",
        "                                              prewhite = F)), 3)\n",
        "\n",
        "round(summary(model.realgjrgarch.5)$adj.r.squared, 3)"
      ],
      "id": "q8aAhKYVSe07",
      "execution_count": null,
      "outputs": [
        {
          "output_type": "display_data",
          "data": {
            "text/plain": [
              "\n",
              "t test of coefficients:\n",
              "\n",
              "                   Estimate Std. Error t value Pr(>|t|)    \n",
              "(Intercept)           0.208      0.078   2.661    0.008 ** \n",
              "lag.realgjrgarch.1    0.510      0.075   6.765   <2e-16 ***\n",
              "lag.realgjrgarch.2   -0.163      0.057  -2.841    0.005 ** \n",
              "lag.epu               0.001      0.000   2.291    0.023 *  \n",
              "lag.gepu             -0.002      0.000  -4.892   <2e-16 ***\n",
              "lag.vix               0.027      0.007   3.889   <2e-16 ***\n",
              "---\n",
              "Signif. codes:  0 ‘***’ 0.001 ‘**’ 0.01 ‘*’ 0.05 ‘.’ 0.1 ‘ ’ 1\n"
            ]
          },
          "metadata": {
            "tags": []
          }
        },
        {
          "output_type": "display_data",
          "data": {
            "text/plain": [
              "[1] 0.547"
            ],
            "text/latex": "0.547",
            "text/markdown": "0.547",
            "text/html": [
              "0.547"
            ]
          },
          "metadata": {
            "tags": []
          }
        }
      ]
    },
    {
      "cell_type": "markdown",
      "metadata": {
        "id": "Cak8CR8-Fft3"
      },
      "source": [
        "**MS Linear GARCH**"
      ],
      "id": "Cak8CR8-Fft3"
    },
    {
      "cell_type": "code",
      "metadata": {
        "colab": {
          "base_uri": "https://localhost:8080/",
          "height": 187
        },
        "id": "fG33RRq4GEcL",
        "outputId": "1c338089-f640-4f5b-83c2-bc2e7df6705d"
      },
      "source": [
        "# Estimation 1 - MS Linear GARCH (Best BIC:  lag= 2)\n",
        "msgarch <- ts(log(BVSP.df.month$BVSP.VolMSGARCH))\n",
        "lag.msgarch.1 <- ts(Lag(log(BVSP.df.month$BVSP.VolMSGARCH), 1))\n",
        "lag.msgarch.2 <- ts(Lag(log(BVSP.df.month$BVSP.VolMSGARCH), 2))\n",
        "\n",
        "ols.msgarch <- cbind(msgarch, lag.msgarch.1, lag.msgarch.2, \n",
        "                    lag.epu, lag.gepu, lag.vix)\n",
        "\n",
        "model.msgarch.1 <- lm(msgarch ~  lag.msgarch.1 + lag.msgarch.2, \n",
        "                      data = ols.msgarch)\n",
        "\n",
        "round(coeftest(model.msgarch.1, NeweyWest(model.msgarch.1, \n",
        "                                          lag = bwNeweyWest(model.msgarch.1), \n",
        "                                          prewhite = F)), 3)\n",
        "\n",
        "round(summary(model.msgarch.1)$adj.r.squared, 3)"
      ],
      "id": "fG33RRq4GEcL",
      "execution_count": null,
      "outputs": [
        {
          "output_type": "display_data",
          "data": {
            "text/plain": [
              "\n",
              "t test of coefficients:\n",
              "\n",
              "              Estimate Std. Error t value Pr(>|t|)    \n",
              "(Intercept)      0.129      0.024   5.395   <2e-16 ***\n",
              "lag.msgarch.1    0.910      0.076  12.047   <2e-16 ***\n",
              "lag.msgarch.2   -0.182      0.068  -2.683    0.008 ** \n",
              "---\n",
              "Signif. codes:  0 ‘***’ 0.001 ‘**’ 0.01 ‘*’ 0.05 ‘.’ 0.1 ‘ ’ 1\n"
            ]
          },
          "metadata": {
            "tags": []
          }
        },
        {
          "output_type": "display_data",
          "data": {
            "text/plain": [
              "[1] 0.601"
            ],
            "text/latex": "0.601",
            "text/markdown": "0.601",
            "text/html": [
              "0.601"
            ]
          },
          "metadata": {
            "tags": []
          }
        }
      ]
    },
    {
      "cell_type": "code",
      "metadata": {
        "colab": {
          "base_uri": "https://localhost:8080/",
          "height": 204
        },
        "id": "y8QhY7EwGcFZ",
        "outputId": "959af4c1-ddbb-4dea-88bf-eece98913723"
      },
      "source": [
        "# Estimation 2 - MS Linear GARCH (Best BIC:  lag= 2)\n",
        "model.msgarch.2 <- lm(msgarch ~  lag.msgarch.1 + lag.msgarch.2 + lag.epu, \n",
        "                      data = ols.msgarch)\n",
        "\n",
        "round(coeftest(model.msgarch.2, NeweyWest(model.msgarch.2, \n",
        "                                          lag = bwNeweyWest(model.msgarch.2), \n",
        "                                          prewhite = F)), 3)\n",
        "\n",
        "round(summary(model.msgarch.2)$adj.r.squared, 3)"
      ],
      "id": "y8QhY7EwGcFZ",
      "execution_count": null,
      "outputs": [
        {
          "output_type": "display_data",
          "data": {
            "text/plain": [
              "\n",
              "t test of coefficients:\n",
              "\n",
              "              Estimate Std. Error t value Pr(>|t|)    \n",
              "(Intercept)      0.133      0.028   4.760   <2e-16 ***\n",
              "lag.msgarch.1    0.913      0.076  11.959   <2e-16 ***\n",
              "lag.msgarch.2   -0.184      0.065  -2.835    0.005 ** \n",
              "lag.epu          0.000      0.000  -0.382    0.703    \n",
              "---\n",
              "Signif. codes:  0 ‘***’ 0.001 ‘**’ 0.01 ‘*’ 0.05 ‘.’ 0.1 ‘ ’ 1\n"
            ]
          },
          "metadata": {
            "tags": []
          }
        },
        {
          "output_type": "display_data",
          "data": {
            "text/plain": [
              "[1] 0.6"
            ],
            "text/latex": "0.6",
            "text/markdown": "0.6",
            "text/html": [
              "0.6"
            ]
          },
          "metadata": {
            "tags": []
          }
        }
      ]
    },
    {
      "cell_type": "code",
      "metadata": {
        "colab": {
          "base_uri": "https://localhost:8080/",
          "height": 204
        },
        "id": "qV-P5RleTO03",
        "outputId": "52e89cf8-8758-4d58-bec6-ff24aa580a74"
      },
      "source": [
        "# Estimation 3 - MS Linear GARCH (Best BIC:  lag= 2)\n",
        "model.msgarch.3 <- lm(msgarch ~  lag.msgarch.1 + lag.msgarch.2 + lag.vix, \n",
        "                      data = ols.msgarch)\n",
        "\n",
        "round(coeftest(model.msgarch.3, NeweyWest(model.msgarch.3, \n",
        "                                          lag = bwNeweyWest(model.msgarch.3), \n",
        "                                          prewhite = F)), 3)\n",
        "\n",
        "round(summary(model.msgarch.3)$adj.r.squared, 3)"
      ],
      "id": "qV-P5RleTO03",
      "execution_count": null,
      "outputs": [
        {
          "output_type": "display_data",
          "data": {
            "text/plain": [
              "\n",
              "t test of coefficients:\n",
              "\n",
              "              Estimate Std. Error t value Pr(>|t|)    \n",
              "(Intercept)      0.042      0.022   1.901    0.058 .  \n",
              "lag.msgarch.1    0.720      0.087   8.306   <2e-16 ***\n",
              "lag.msgarch.2   -0.203      0.055  -3.729   <2e-16 ***\n",
              "lag.vix          0.009      0.003   3.451    0.001 ***\n",
              "---\n",
              "Signif. codes:  0 ‘***’ 0.001 ‘**’ 0.01 ‘*’ 0.05 ‘.’ 0.1 ‘ ’ 1\n"
            ]
          },
          "metadata": {
            "tags": []
          }
        },
        {
          "output_type": "display_data",
          "data": {
            "text/plain": [
              "[1] 0.654"
            ],
            "text/latex": "0.654",
            "text/markdown": "0.654",
            "text/html": [
              "0.654"
            ]
          },
          "metadata": {
            "tags": []
          }
        }
      ]
    },
    {
      "cell_type": "code",
      "metadata": {
        "colab": {
          "base_uri": "https://localhost:8080/",
          "height": 221
        },
        "id": "FcjDEzYZTObB",
        "outputId": "794732cc-9a12-463a-ab30-c58ca391b75a"
      },
      "source": [
        "# Estimation 4 - MS Linear GARCH (Best BIC:  lag= 2)\n",
        "model.msgarch.4 <- lm(msgarch ~  lag.msgarch.1 + lag.msgarch.2 + lag.epu + lag.vix, \n",
        "                      data = ols.msgarch)\n",
        "\n",
        "round(coeftest(model.msgarch.4, NeweyWest(model.msgarch.4, \n",
        "                                          lag = bwNeweyWest(model.msgarch.4), \n",
        "                                          prewhite = F)), 3)\n",
        "\n",
        "round(summary(model.msgarch.4)$adj.r.squared, 3)"
      ],
      "id": "FcjDEzYZTObB",
      "execution_count": null,
      "outputs": [
        {
          "output_type": "display_data",
          "data": {
            "text/plain": [
              "\n",
              "t test of coefficients:\n",
              "\n",
              "              Estimate Std. Error t value Pr(>|t|)    \n",
              "(Intercept)      0.039      0.028   1.395    0.164    \n",
              "lag.msgarch.1    0.718      0.091   7.876   <2e-16 ***\n",
              "lag.msgarch.2   -0.202      0.055  -3.654   <2e-16 ***\n",
              "lag.epu          0.000      0.000   0.223    0.824    \n",
              "lag.vix          0.009      0.003   3.416    0.001 ***\n",
              "---\n",
              "Signif. codes:  0 ‘***’ 0.001 ‘**’ 0.01 ‘*’ 0.05 ‘.’ 0.1 ‘ ’ 1\n"
            ]
          },
          "metadata": {
            "tags": []
          }
        },
        {
          "output_type": "display_data",
          "data": {
            "text/plain": [
              "[1] 0.652"
            ],
            "text/latex": "0.652",
            "text/markdown": "0.652",
            "text/html": [
              "0.652"
            ]
          },
          "metadata": {
            "tags": []
          }
        }
      ]
    },
    {
      "cell_type": "code",
      "metadata": {
        "colab": {
          "base_uri": "https://localhost:8080/",
          "height": 238
        },
        "id": "ImV_Ip4BTNpK",
        "outputId": "0ed3c4d9-9922-41c9-e210-a9f6bd66bb54"
      },
      "source": [
        "# Estimation 5 - MS Linear GARCH (Best BIC:  lag= 2)\n",
        "model.msgarch.5 <- lm(msgarch ~  lag.msgarch.1 + lag.msgarch.2 + lag.epu + lag.gepu + lag.vix, \n",
        "                      data = ols.msgarch)\n",
        "\n",
        "round(coeftest(model.msgarch.5, NeweyWest(model.msgarch.5, \n",
        "                                          lag = bwNeweyWest(model.msgarch.5), \n",
        "                                          prewhite = F)), 3)\n",
        "\n",
        "round(summary(model.msgarch.5)$adj.r.squared, 3)"
      ],
      "id": "ImV_Ip4BTNpK",
      "execution_count": null,
      "outputs": [
        {
          "output_type": "display_data",
          "data": {
            "text/plain": [
              "\n",
              "t test of coefficients:\n",
              "\n",
              "              Estimate Std. Error t value Pr(>|t|)    \n",
              "(Intercept)      0.068      0.031   2.176    0.030 *  \n",
              "lag.msgarch.1    0.665      0.080   8.304   <2e-16 ***\n",
              "lag.msgarch.2   -0.200      0.056  -3.551   <2e-16 ***\n",
              "lag.epu          0.000      0.000   3.282    0.001 ***\n",
              "lag.gepu        -0.001      0.000  -5.616   <2e-16 ***\n",
              "lag.vix          0.012      0.003   4.203   <2e-16 ***\n",
              "---\n",
              "Signif. codes:  0 ‘***’ 0.001 ‘**’ 0.01 ‘*’ 0.05 ‘.’ 0.1 ‘ ’ 1\n"
            ]
          },
          "metadata": {
            "tags": []
          }
        },
        {
          "output_type": "display_data",
          "data": {
            "text/plain": [
              "[1] 0.676"
            ],
            "text/latex": "0.676",
            "text/markdown": "0.676",
            "text/html": [
              "0.676"
            ]
          },
          "metadata": {
            "tags": []
          }
        }
      ]
    },
    {
      "cell_type": "markdown",
      "metadata": {
        "id": "VuhTae9lFjX9"
      },
      "source": [
        "**MS EGARCH**"
      ],
      "id": "VuhTae9lFjX9"
    },
    {
      "cell_type": "code",
      "metadata": {
        "colab": {
          "base_uri": "https://localhost:8080/",
          "height": 170
        },
        "id": "GVFR95aSGFnm",
        "outputId": "bcb2de48-59f9-4c8a-b334-adf4c1422e7e"
      },
      "source": [
        "# Estimation 1 - MS EGARCH (Best BIC:  lag= 1)\n",
        "msegarch <- ts(log(BVSP.df.month$BVSP.VolMSEGARCH ))\n",
        "lag.msegarch.1 <- ts(Lag(log(BVSP.df.month$BVSP.VolMSEGARCH ), 1))\n",
        "\n",
        "ols.msegarch <- cbind(msegarch, lag.msegarch.1, \n",
        "                      lag.epu, lag.gepu, lag.vix)\n",
        "\n",
        "model.msegarch.1 <- lm(msegarch ~  lag.msegarch.1, \n",
        "                      data = ols.msegarch)\n",
        "\n",
        "round(coeftest(model.msegarch.1, NeweyWest(model.msegarch.1, \n",
        "                                          lag = bwNeweyWest(model.msegarch.1), \n",
        "                                          prewhite = F)), 3)\n",
        "\n",
        "round(summary(model.msegarch.1)$adj.r.squared, 3)"
      ],
      "id": "GVFR95aSGFnm",
      "execution_count": null,
      "outputs": [
        {
          "output_type": "display_data",
          "data": {
            "text/plain": [
              "\n",
              "t test of coefficients:\n",
              "\n",
              "               Estimate Std. Error t value  Pr(>|t|)    \n",
              "(Intercept)       0.142      0.026   5.460 < 2.2e-16 ***\n",
              "lag.msegarch.1    0.696      0.051  13.743 < 2.2e-16 ***\n",
              "---\n",
              "Signif. codes:  0 ‘***’ 0.001 ‘**’ 0.01 ‘*’ 0.05 ‘.’ 0.1 ‘ ’ 1\n"
            ]
          },
          "metadata": {
            "tags": []
          }
        },
        {
          "output_type": "display_data",
          "data": {
            "text/plain": [
              "[1] 0.482"
            ],
            "text/latex": "0.482",
            "text/markdown": "0.482",
            "text/html": [
              "0.482"
            ]
          },
          "metadata": {
            "tags": []
          }
        }
      ]
    },
    {
      "cell_type": "code",
      "metadata": {
        "colab": {
          "base_uri": "https://localhost:8080/",
          "height": 187
        },
        "id": "u_nw2tqyGcyh",
        "outputId": "299c88a4-1487-43c4-c5b8-726be3fff89d"
      },
      "source": [
        "# Estimation 2 - MS EGARCH (Best BIC:  lag= 1)\n",
        "model.msegarch.2 <- lm(msegarch ~  lag.msegarch.1 + lag.epu, \n",
        "                      data = ols.msegarch)\n",
        "\n",
        "round(coeftest(model.msegarch.2, NeweyWest(model.msegarch.2, \n",
        "                                          lag = bwNeweyWest(model.msegarch.2), \n",
        "                                          prewhite = F)), 3)\n",
        "\n",
        "round(summary(model.msegarch.2)$adj.r.squared, 3)"
      ],
      "id": "u_nw2tqyGcyh",
      "execution_count": null,
      "outputs": [
        {
          "output_type": "display_data",
          "data": {
            "text/plain": [
              "\n",
              "t test of coefficients:\n",
              "\n",
              "               Estimate Std. Error t value Pr(>|t|)    \n",
              "(Intercept)       0.161      0.027   5.999   <2e-16 ***\n",
              "lag.msegarch.1    0.702      0.055  12.865   <2e-16 ***\n",
              "lag.epu           0.000      0.000  -1.669    0.096 .  \n",
              "---\n",
              "Signif. codes:  0 ‘***’ 0.001 ‘**’ 0.01 ‘*’ 0.05 ‘.’ 0.1 ‘ ’ 1\n"
            ]
          },
          "metadata": {
            "tags": []
          }
        },
        {
          "output_type": "display_data",
          "data": {
            "text/plain": [
              "[1] 0.482"
            ],
            "text/latex": "0.482",
            "text/markdown": "0.482",
            "text/html": [
              "0.482"
            ]
          },
          "metadata": {
            "tags": []
          }
        }
      ]
    },
    {
      "cell_type": "code",
      "metadata": {
        "colab": {
          "base_uri": "https://localhost:8080/",
          "height": 187
        },
        "id": "RB00v9ZcTvla",
        "outputId": "358dd06f-f8c8-473f-f782-9d06e992503a"
      },
      "source": [
        "# Estimation 3 - MS EGARCH (Best BIC:  lag= 1)\n",
        "model.msegarch.3 <- lm(msegarch ~  lag.msegarch.1 + lag.vix, \n",
        "                      data = ols.msegarch)\n",
        "\n",
        "round(coeftest(model.msegarch.3, NeweyWest(model.msegarch.3, \n",
        "                                          lag = bwNeweyWest(model.msegarch.3), \n",
        "                                          prewhite = F)), 3)\n",
        "\n",
        "round(summary(model.msegarch.3)$adj.r.squared, 3)"
      ],
      "id": "RB00v9ZcTvla",
      "execution_count": null,
      "outputs": [
        {
          "output_type": "display_data",
          "data": {
            "text/plain": [
              "\n",
              "t test of coefficients:\n",
              "\n",
              "               Estimate Std. Error t value Pr(>|t|)    \n",
              "(Intercept)       0.052      0.033   1.611    0.108    \n",
              "lag.msegarch.1    0.525      0.077   6.846   <2e-16 ***\n",
              "lag.vix           0.009      0.003   2.988    0.003 ** \n",
              "---\n",
              "Signif. codes:  0 ‘***’ 0.001 ‘**’ 0.01 ‘*’ 0.05 ‘.’ 0.1 ‘ ’ 1\n"
            ]
          },
          "metadata": {
            "tags": []
          }
        },
        {
          "output_type": "display_data",
          "data": {
            "text/plain": [
              "[1] 0.521"
            ],
            "text/latex": "0.521",
            "text/markdown": "0.521",
            "text/html": [
              "0.521"
            ]
          },
          "metadata": {
            "tags": []
          }
        }
      ]
    },
    {
      "cell_type": "code",
      "metadata": {
        "colab": {
          "base_uri": "https://localhost:8080/",
          "height": 204
        },
        "id": "YWwcKD55TvQs",
        "outputId": "c69d9bb4-4bf8-4580-f7a0-e35fc9da5136"
      },
      "source": [
        "# Estimation 4 - MS EGARCH (Best BIC:  lag= 1)\n",
        "model.msegarch.4 <- lm(msegarch ~  lag.msegarch.1 + lag.epu + lag.vix, \n",
        "                      data = ols.msegarch)\n",
        "\n",
        "round(coeftest(model.msegarch.4, NeweyWest(model.msegarch.4, \n",
        "                                          lag = bwNeweyWest(model.msegarch.4), \n",
        "                                          prewhite = F)), 3)\n",
        "\n",
        "round(summary(model.msegarch.4)$adj.r.squared, 3)"
      ],
      "id": "YWwcKD55TvQs",
      "execution_count": null,
      "outputs": [
        {
          "output_type": "display_data",
          "data": {
            "text/plain": [
              "\n",
              "t test of coefficients:\n",
              "\n",
              "               Estimate Std. Error t value Pr(>|t|)    \n",
              "(Intercept)       0.066      0.035   1.888    0.060 .  \n",
              "lag.msegarch.1    0.531      0.084   6.297   <2e-16 ***\n",
              "lag.epu           0.000      0.000  -0.902    0.368    \n",
              "lag.vix           0.008      0.003   2.845    0.005 ** \n",
              "---\n",
              "Signif. codes:  0 ‘***’ 0.001 ‘**’ 0.01 ‘*’ 0.05 ‘.’ 0.1 ‘ ’ 1\n"
            ]
          },
          "metadata": {
            "tags": []
          }
        },
        {
          "output_type": "display_data",
          "data": {
            "text/plain": [
              "[1] 0.521"
            ],
            "text/latex": "0.521",
            "text/markdown": "0.521",
            "text/html": [
              "0.521"
            ]
          },
          "metadata": {
            "tags": []
          }
        }
      ]
    },
    {
      "cell_type": "code",
      "metadata": {
        "colab": {
          "base_uri": "https://localhost:8080/",
          "height": 221
        },
        "id": "NA_Ttf5wTuoa",
        "outputId": "00ceb23d-e310-4fb8-ad5d-5a6658597a0e"
      },
      "source": [
        "# Estimation 5 - MS EGARCH (Best BIC:  lag= 1)\n",
        "model.msegarch.5 <- lm(msegarch ~  lag.msegarch.1 + lag.epu + lag.gepu + lag.vix, \n",
        "                      data = ols.msegarch)\n",
        "\n",
        "round(coeftest(model.msegarch.5, NeweyWest(model.msegarch.5, \n",
        "                                          lag = bwNeweyWest(model.msegarch.5), \n",
        "                                          prewhite = F)), 3)\n",
        "\n",
        "round(summary(model.msegarch.5)$adj.r.squared, 3)"
      ],
      "id": "NA_Ttf5wTuoa",
      "execution_count": null,
      "outputs": [
        {
          "output_type": "display_data",
          "data": {
            "text/plain": [
              "\n",
              "t test of coefficients:\n",
              "\n",
              "               Estimate Std. Error t value Pr(>|t|)    \n",
              "(Intercept)       0.097      0.041   2.359    0.019 *  \n",
              "lag.msegarch.1    0.478      0.081   5.881   <2e-16 ***\n",
              "lag.epu           0.000      0.000   1.546    0.123    \n",
              "lag.gepu         -0.001      0.000  -4.936   <2e-16 ***\n",
              "lag.vix           0.011      0.003   3.430    0.001 ***\n",
              "---\n",
              "Signif. codes:  0 ‘***’ 0.001 ‘**’ 0.01 ‘*’ 0.05 ‘.’ 0.1 ‘ ’ 1\n"
            ]
          },
          "metadata": {
            "tags": []
          }
        },
        {
          "output_type": "display_data",
          "data": {
            "text/plain": [
              "[1] 0.544"
            ],
            "text/latex": "0.544",
            "text/markdown": "0.544",
            "text/html": [
              "0.544"
            ]
          },
          "metadata": {
            "tags": []
          }
        }
      ]
    },
    {
      "cell_type": "markdown",
      "metadata": {
        "id": "T838p-YpFncL"
      },
      "source": [
        "**MS GJR-GARCH**"
      ],
      "id": "T838p-YpFncL"
    },
    {
      "cell_type": "code",
      "metadata": {
        "colab": {
          "base_uri": "https://localhost:8080/",
          "height": 187
        },
        "id": "PhMbYM2SGGj5",
        "outputId": "2df2ece5-5708-423c-8c27-e369585cf30e"
      },
      "source": [
        "# Estimation 1 - MS GJR-GARCH (Best BIC:  lag= 2)\n",
        "msgjrgarch <- ts(log(BVSP.df.month$BVSP.VolMSGJRGARCH))\n",
        "lag.msgjrgarch.1 <- ts(Lag(log(BVSP.df.month$BVSP.VolMSGJRGARCH), 1))\n",
        "lag.msgjrgarch.2 <- ts(Lag(log(BVSP.df.month$BVSP.VolMSGJRGARCH), 2))\n",
        "\n",
        "ols.msgjrgarch <- cbind(msgjrgarch, lag.msgjrgarch.1, lag.msgjrgarch.2, \n",
        "                  lag.epu, lag.gepu, lag.vix)\n",
        "\n",
        "model.msgjrgarch.1 <- lm(msgjrgarch ~  lag.msgjrgarch.1 + lag.msgjrgarch.2, \n",
        "                    data = ols.garch)\n",
        "\n",
        "round(coeftest(model.msgjrgarch.1, NeweyWest(model.msgjrgarch.1, \n",
        "                                        lag = bwNeweyWest(model.msgjrgarch.1), \n",
        "                                        prewhite = F)), 3)\n",
        "\n",
        "round(summary(model.msgjrgarch.1)$adj.r.squared, 3)"
      ],
      "id": "PhMbYM2SGGj5",
      "execution_count": null,
      "outputs": [
        {
          "output_type": "display_data",
          "data": {
            "text/plain": [
              "\n",
              "t test of coefficients:\n",
              "\n",
              "                 Estimate Std. Error t value Pr(>|t|)    \n",
              "(Intercept)         0.149      0.029   5.183   <2e-16 ***\n",
              "lag.msgjrgarch.1    0.791      0.076  10.405   <2e-16 ***\n",
              "lag.msgjrgarch.2   -0.107      0.069  -1.560     0.12    \n",
              "---\n",
              "Signif. codes:  0 ‘***’ 0.001 ‘**’ 0.01 ‘*’ 0.05 ‘.’ 0.1 ‘ ’ 1\n"
            ]
          },
          "metadata": {
            "tags": []
          }
        },
        {
          "output_type": "display_data",
          "data": {
            "text/plain": [
              "[1] 0.511"
            ],
            "text/latex": "0.511",
            "text/markdown": "0.511",
            "text/html": [
              "0.511"
            ]
          },
          "metadata": {
            "tags": []
          }
        }
      ]
    },
    {
      "cell_type": "code",
      "metadata": {
        "colab": {
          "base_uri": "https://localhost:8080/",
          "height": 204
        },
        "id": "WlDqwOGZGdr5",
        "outputId": "7fec3671-e8b3-4896-bb9c-8daa47d6bfa2"
      },
      "source": [
        "# Estimation 2 - MS GJR-GARCH (Best BIC:  lag= 2)\n",
        "model.msgjrgarch.2 <- lm(msgjrgarch ~  lag.msgjrgarch.1 + lag.msgjrgarch.2 + lag.epu, \n",
        "                        data = ols.msgjrgarch)\n",
        "\n",
        "round(coeftest(model.msgjrgarch.2, NeweyWest(model.msgjrgarch.2, \n",
        "                                            lag = bwNeweyWest(model.msgjrgarch.2), \n",
        "                                            prewhite = F)), 3)\n",
        "\n",
        "round(summary(model.msgjrgarch.2)$adj.r.squared, 3)"
      ],
      "id": "WlDqwOGZGdr5",
      "execution_count": null,
      "outputs": [
        {
          "output_type": "display_data",
          "data": {
            "text/plain": [
              "\n",
              "t test of coefficients:\n",
              "\n",
              "                 Estimate Std. Error t value Pr(>|t|)    \n",
              "(Intercept)         0.161      0.031   5.252   <2e-16 ***\n",
              "lag.msgjrgarch.1    0.797      0.077  10.373   <2e-16 ***\n",
              "lag.msgjrgarch.2   -0.109      0.070  -1.548    0.123    \n",
              "lag.epu             0.000      0.000  -0.935    0.351    \n",
              "---\n",
              "Signif. codes:  0 ‘***’ 0.001 ‘**’ 0.01 ‘*’ 0.05 ‘.’ 0.1 ‘ ’ 1\n"
            ]
          },
          "metadata": {
            "tags": []
          }
        },
        {
          "output_type": "display_data",
          "data": {
            "text/plain": [
              "[1] 0.51"
            ],
            "text/latex": "0.51",
            "text/markdown": "0.51",
            "text/html": [
              "0.51"
            ]
          },
          "metadata": {
            "tags": []
          }
        }
      ]
    },
    {
      "cell_type": "code",
      "metadata": {
        "colab": {
          "base_uri": "https://localhost:8080/",
          "height": 204
        },
        "id": "jJgCwT8yUMsT",
        "outputId": "440f5301-b9f3-4ea5-ae16-510fd3180f8c"
      },
      "source": [
        "# Estimation 3 - MS GJR-GARCH (Best BIC:  lag= 2)\n",
        "model.msgjrgarch.3 <- lm(msgjrgarch ~  lag.msgjrgarch.1 + lag.msgjrgarch.2 + lag.vix, \n",
        "                        data = ols.msgjrgarch)\n",
        "\n",
        "round(coeftest(model.msgjrgarch.3, NeweyWest(model.msgjrgarch.3, \n",
        "                                            lag = bwNeweyWest(model.msgjrgarch.3), \n",
        "                                            prewhite = F)), 3)\n",
        "\n",
        "round(summary(model.msgjrgarch.3)$adj.r.squared, 3)"
      ],
      "id": "jJgCwT8yUMsT",
      "execution_count": null,
      "outputs": [
        {
          "output_type": "display_data",
          "data": {
            "text/plain": [
              "\n",
              "t test of coefficients:\n",
              "\n",
              "                 Estimate Std. Error t value Pr(>|t|)    \n",
              "(Intercept)         0.055      0.027   2.013    0.045 *  \n",
              "lag.msgjrgarch.1    0.617      0.079   7.779   <2e-16 ***\n",
              "lag.msgjrgarch.2   -0.150      0.061  -2.459    0.015 *  \n",
              "lag.vix             0.010      0.003   3.097    0.002 ** \n",
              "---\n",
              "Signif. codes:  0 ‘***’ 0.001 ‘**’ 0.01 ‘*’ 0.05 ‘.’ 0.1 ‘ ’ 1\n"
            ]
          },
          "metadata": {
            "tags": []
          }
        },
        {
          "output_type": "display_data",
          "data": {
            "text/plain": [
              "[1] 0.562"
            ],
            "text/latex": "0.562",
            "text/markdown": "0.562",
            "text/html": [
              "0.562"
            ]
          },
          "metadata": {
            "tags": []
          }
        }
      ]
    },
    {
      "cell_type": "code",
      "metadata": {
        "colab": {
          "base_uri": "https://localhost:8080/",
          "height": 221
        },
        "id": "6P9qZXRPUMWd",
        "outputId": "7f89d6da-dc3c-4592-9d8d-6abb74ab14f7"
      },
      "source": [
        "# Estimation 4 - MS GJR-GARCH (Best BIC:  lag= 2)\n",
        "model.msgjrgarch.4 <- lm(msgjrgarch ~  lag.msgjrgarch.1 + lag.msgjrgarch.2 + lag.epu + lag.vix, \n",
        "                        data = ols.msgjrgarch)\n",
        "\n",
        "round(coeftest(model.msgjrgarch.4, NeweyWest(model.msgjrgarch.4, \n",
        "                                            lag = bwNeweyWest(model.msgjrgarch.4), \n",
        "                                            prewhite = F)), 3)\n",
        "\n",
        "round(summary(model.msgjrgarch.4)$adj.r.squared, 3)"
      ],
      "id": "6P9qZXRPUMWd",
      "execution_count": null,
      "outputs": [
        {
          "output_type": "display_data",
          "data": {
            "text/plain": [
              "\n",
              "t test of coefficients:\n",
              "\n",
              "                 Estimate Std. Error t value Pr(>|t|)    \n",
              "(Intercept)         0.059      0.035   1.691    0.092 .  \n",
              "lag.msgjrgarch.1    0.620      0.082   7.603   <2e-16 ***\n",
              "lag.msgjrgarch.2   -0.150      0.060  -2.491    0.013 *  \n",
              "lag.epu             0.000      0.000  -0.268    0.789    \n",
              "lag.vix             0.010      0.003   3.063    0.002 ** \n",
              "---\n",
              "Signif. codes:  0 ‘***’ 0.001 ‘**’ 0.01 ‘*’ 0.05 ‘.’ 0.1 ‘ ’ 1\n"
            ]
          },
          "metadata": {
            "tags": []
          }
        },
        {
          "output_type": "display_data",
          "data": {
            "text/plain": [
              "[1] 0.561"
            ],
            "text/latex": "0.561",
            "text/markdown": "0.561",
            "text/html": [
              "0.561"
            ]
          },
          "metadata": {
            "tags": []
          }
        }
      ]
    },
    {
      "cell_type": "code",
      "metadata": {
        "colab": {
          "base_uri": "https://localhost:8080/",
          "height": 238
        },
        "id": "Ps34kcv3ULt3",
        "outputId": "95345aba-2021-43b8-cf4f-0e6907512635"
      },
      "source": [
        "# Estimation 5 - MS GJR-GARCH (Best BIC:  lag= 2)\n",
        "model.msgjrgarch.5 <- lm(msgjrgarch ~  lag.msgjrgarch.1 + lag.msgjrgarch.2 + lag.epu + lag.gepu + lag.vix, \n",
        "                        data = ols.msgjrgarch)\n",
        "\n",
        "round(coeftest(model.msgjrgarch.5, NeweyWest(model.msgjrgarch.5, \n",
        "                                            lag = bwNeweyWest(model.msgjrgarch.5), \n",
        "                                            prewhite = F)), 3)\n",
        "\n",
        "round(summary(model.msgjrgarch.5)$adj.r.squared, 3)"
      ],
      "id": "Ps34kcv3ULt3",
      "execution_count": null,
      "outputs": [
        {
          "output_type": "display_data",
          "data": {
            "text/plain": [
              "\n",
              "t test of coefficients:\n",
              "\n",
              "                 Estimate Std. Error t value Pr(>|t|)    \n",
              "(Intercept)         0.087      0.038   2.294    0.023 *  \n",
              "lag.msgjrgarch.1    0.572      0.077   7.419   <2e-16 ***\n",
              "lag.msgjrgarch.2   -0.149      0.058  -2.573    0.011 *  \n",
              "lag.epu             0.000      0.000   2.129    0.034 *  \n",
              "lag.gepu           -0.001      0.000  -4.765   <2e-16 ***\n",
              "lag.vix             0.012      0.003   3.604   <2e-16 ***\n",
              "---\n",
              "Signif. codes:  0 ‘***’ 0.001 ‘**’ 0.01 ‘*’ 0.05 ‘.’ 0.1 ‘ ’ 1\n"
            ]
          },
          "metadata": {
            "tags": []
          }
        },
        {
          "output_type": "display_data",
          "data": {
            "text/plain": [
              "[1] 0.582"
            ],
            "text/latex": "0.582",
            "text/markdown": "0.582",
            "text/html": [
              "0.582"
            ]
          },
          "metadata": {
            "tags": []
          }
        }
      ]
    }
  ]
}