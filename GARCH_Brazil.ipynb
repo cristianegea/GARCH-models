{
  "nbformat": 4,
  "nbformat_minor": 5,
  "metadata": {
    "kernelspec": {
      "display_name": "R",
      "language": "R",
      "name": "ir"
    },
    "language_info": {
      "codemirror_mode": "r",
      "file_extension": ".r",
      "mimetype": "text/x-r-source",
      "name": "R",
      "pygments_lexer": "r",
      "version": "3.6.1"
    },
    "colab": {
      "name": "GARCH_Brazil.ipynb",
      "provenance": [],
      "collapsed_sections": [],
      "toc_visible": true
    }
  },
  "cells": [
    {
      "cell_type": "markdown",
      "metadata": {
        "id": "10c9fc70"
      },
      "source": [
        "# Analysis of stock returns forecasts"
      ],
      "id": "10c9fc70"
    },
    {
      "cell_type": "markdown",
      "metadata": {
        "id": "0a03ea35"
      },
      "source": [
        "**Reference**: Realized GARCH models: Simpler is better (Xie & Yu, 2019)\n",
        "\n",
        "Sample: Brazil (^BVSP)"
      ],
      "id": "0a03ea35"
    },
    {
      "cell_type": "code",
      "metadata": {
        "id": "66c60229"
      },
      "source": [
        "# Memory clearing\n",
        "rm(list=ls())"
      ],
      "id": "66c60229",
      "execution_count": 1,
      "outputs": []
    },
    {
      "cell_type": "markdown",
      "metadata": {
        "id": "5e52a103"
      },
      "source": [
        "## 1. Data import"
      ],
      "id": "5e52a103"
    },
    {
      "cell_type": "code",
      "metadata": {
        "colab": {
          "base_uri": "https://localhost:8080/"
        },
        "id": "a015db89",
        "outputId": "f5ef421a-011d-4386-f3cf-a54f5eb13249"
      },
      "source": [
        "# Packages\n",
        "install.packages('quantmod')\n",
        "install.packages('tidyquant')\n",
        "install.packages('PerformanceAnalytics')\n",
        "\n",
        "library(quantmod)\n",
        "library(tidyquant)\n",
        "library(PerformanceAnalytics)"
      ],
      "id": "a015db89",
      "execution_count": 2,
      "outputs": [
        {
          "output_type": "stream",
          "text": [
            "Installing package into ‘/usr/local/lib/R/site-library’\n",
            "(as ‘lib’ is unspecified)\n",
            "\n",
            "also installing the dependencies ‘xts’, ‘zoo’, ‘TTR’\n",
            "\n",
            "\n",
            "Installing package into ‘/usr/local/lib/R/site-library’\n",
            "(as ‘lib’ is unspecified)\n",
            "\n",
            "also installing the dependencies ‘numDeriv’, ‘SQUAREM’, ‘lava’, ‘listenv’, ‘parallelly’, ‘prodlim’, ‘future’, ‘globals’, ‘later’, ‘gower’, ‘ipred’, ‘furrr’, ‘htmlwidgets’, ‘crosstalk’, ‘promises’, ‘warp’, ‘fracdiff’, ‘lmtest’, ‘tseries’, ‘urca’, ‘RcppArmadillo’, ‘quadprog’, ‘recipes’, ‘rsample’, ‘plotly’, ‘padr’, ‘slider’, ‘anytime’, ‘forecast’, ‘snakecase’, ‘PerformanceAnalytics’, ‘lazyeval’, ‘Quandl’, ‘riingo’, ‘alphavantager’, ‘timetk’, ‘timeDate’, ‘janitor’\n",
            "\n",
            "\n",
            "Installing package into ‘/usr/local/lib/R/site-library’\n",
            "(as ‘lib’ is unspecified)\n",
            "\n",
            "Loading required package: xts\n",
            "\n",
            "Loading required package: zoo\n",
            "\n",
            "\n",
            "Attaching package: ‘zoo’\n",
            "\n",
            "\n",
            "The following objects are masked from ‘package:base’:\n",
            "\n",
            "    as.Date, as.Date.numeric\n",
            "\n",
            "\n",
            "Loading required package: TTR\n",
            "\n",
            "Registered S3 method overwritten by 'quantmod':\n",
            "  method            from\n",
            "  as.zoo.data.frame zoo \n",
            "\n",
            "Loading required package: lubridate\n",
            "\n",
            "Warning message in system(\"timedatectl\", intern = TRUE):\n",
            "“running command 'timedatectl' had status 1”\n",
            "\n",
            "Attaching package: ‘lubridate’\n",
            "\n",
            "\n",
            "The following objects are masked from ‘package:base’:\n",
            "\n",
            "    date, intersect, setdiff, union\n",
            "\n",
            "\n",
            "Loading required package: PerformanceAnalytics\n",
            "\n",
            "\n",
            "Attaching package: ‘PerformanceAnalytics’\n",
            "\n",
            "\n",
            "The following object is masked from ‘package:graphics’:\n",
            "\n",
            "    legend\n",
            "\n",
            "\n",
            "\u001b[30m══\u001b[39m \u001b[30mNeed to Learn tidyquant?\u001b[39m \u001b[30m════════════════════════════════════════════════════\u001b[39m\u001b[34m\n",
            "Business Science offers a 1-hour course - Learning Lab #9: Performance Analysis & Portfolio Optimization with tidyquant!\n",
            "\u001b[39m\u001b[34m</> Learn more at: https://university.business-science.io/p/learning-labs-pro </>\u001b[39m\n",
            "\n"
          ],
          "name": "stderr"
        }
      ]
    },
    {
      "cell_type": "markdown",
      "metadata": {
        "id": "77462b8b-5261-4090-9001-2c344b610bd8"
      },
      "source": [
        "**Reading the datas (Source: Yahoo Finance)**"
      ],
      "id": "77462b8b-5261-4090-9001-2c344b610bd8"
    },
    {
      "cell_type": "code",
      "metadata": {
        "colab": {
          "base_uri": "https://localhost:8080/",
          "height": 273
        },
        "id": "90849e76",
        "outputId": "bb83a726-f808-4aee-b3be-42c2747f53d8"
      },
      "source": [
        "getSymbols(\"^BVSP\", from = '2000-01-01', to = '2021-05-31') "
      ],
      "id": "90849e76",
      "execution_count": 3,
      "outputs": [
        {
          "output_type": "stream",
          "text": [
            "‘getSymbols’ currently uses auto.assign=TRUE by default, but will\n",
            "use auto.assign=FALSE in 0.5-0. You will still be able to use\n",
            "‘loadSymbols’ to automatically load data. getOption(\"getSymbols.env\")\n",
            "and getOption(\"getSymbols.auto.assign\") will still be checked for\n",
            "alternate defaults.\n",
            "\n",
            "This message is shown once per session and may be disabled by setting \n",
            "options(\"getSymbols.warning4.0\"=FALSE). See ?getSymbols for details.\n",
            "\n",
            "\n",
            "Warning message:\n",
            "“^BVSP contains missing values. Some functions will not work if objects contain missing values in the middle of the series. Consider using na.omit(), na.approx(), na.fill(), etc to remove or replace them.”\n"
          ],
          "name": "stderr"
        },
        {
          "output_type": "display_data",
          "data": {
            "text/plain": [
              "[1] \"^BVSP\""
            ],
            "text/latex": "'\\textasciicircum{}BVSP'",
            "text/markdown": "'^BVSP'",
            "text/html": [
              "'^BVSP'"
            ]
          },
          "metadata": {
            "tags": []
          }
        }
      ]
    },
    {
      "cell_type": "markdown",
      "metadata": {
        "id": "37fcac8f-663c-4ab6-a2ec-d3dfb628e1d8"
      },
      "source": [
        "**Checking data frequency**"
      ],
      "id": "37fcac8f-663c-4ab6-a2ec-d3dfb628e1d8"
    },
    {
      "cell_type": "code",
      "metadata": {
        "colab": {
          "base_uri": "https://localhost:8080/",
          "height": 35
        },
        "id": "cf681b78-5138-4ee8-aee3-2e93db60bece",
        "outputId": "84069a43-ef84-427d-e0f1-2bb282013d88"
      },
      "source": [
        "periodicity(BVSP)        "
      ],
      "id": "cf681b78-5138-4ee8-aee3-2e93db60bece",
      "execution_count": 4,
      "outputs": [
        {
          "output_type": "display_data",
          "data": {
            "text/plain": [
              "Daily periodicity from 2000-01-03 to 2021-05-28 "
            ]
          },
          "metadata": {
            "tags": []
          }
        }
      ]
    },
    {
      "cell_type": "markdown",
      "metadata": {
        "id": "7d452205-8ea1-461b-a15f-682cc4b96318"
      },
      "source": [
        "**Identifying missing values (%)**"
      ],
      "id": "7d452205-8ea1-461b-a15f-682cc4b96318"
    },
    {
      "cell_type": "code",
      "metadata": {
        "colab": {
          "base_uri": "https://localhost:8080/",
          "height": 72
        },
        "id": "7d329e61-d1a6-4c17-82ad-0a4ea31d0232",
        "outputId": "e2549590-ec06-403c-ed85-e5e3d8d3e9b9"
      },
      "source": [
        "round(prop.table(table(is.na(BVSP)))*100, digits = 2)       "
      ],
      "id": "7d329e61-d1a6-4c17-82ad-0a4ea31d0232",
      "execution_count": 5,
      "outputs": [
        {
          "output_type": "display_data",
          "data": {
            "text/plain": [
              "\n",
              "FALSE  TRUE \n",
              "98.35  1.65 "
            ]
          },
          "metadata": {
            "tags": []
          }
        }
      ]
    },
    {
      "cell_type": "markdown",
      "metadata": {
        "id": "b3787f51-b9fb-458d-b650-5c19b0c22c44"
      },
      "source": [
        "**Removing missing values**"
      ],
      "id": "b3787f51-b9fb-458d-b650-5c19b0c22c44"
    },
    {
      "cell_type": "code",
      "metadata": {
        "id": "4c168321-5b36-4058-b5fc-c9170fc50afd",
        "colab": {
          "base_uri": "https://localhost:8080/",
          "height": 72
        },
        "outputId": "523a9c03-461a-4fd6-c581-af1c722f9aa3"
      },
      "source": [
        "BVSP <- na.omit(BVSP)    \n",
        "round(prop.table(table(is.na(BVSP)))*100, digits = 2)         "
      ],
      "id": "4c168321-5b36-4058-b5fc-c9170fc50afd",
      "execution_count": 6,
      "outputs": [
        {
          "output_type": "display_data",
          "data": {
            "text/plain": [
              "\n",
              "FALSE \n",
              "  100 "
            ]
          },
          "metadata": {
            "tags": []
          }
        }
      ]
    },
    {
      "cell_type": "markdown",
      "metadata": {
        "id": "ef01dac6-72b2-4ec0-b160-1fbdf579a04e"
      },
      "source": [
        "**Removing unnecessary features**"
      ],
      "id": "ef01dac6-72b2-4ec0-b160-1fbdf579a04e"
    },
    {
      "cell_type": "code",
      "metadata": {
        "colab": {
          "base_uri": "https://localhost:8080/",
          "height": 145
        },
        "id": "ea0759f7-0353-404b-b206-98bc5c35d66a",
        "outputId": "c3add028-98ee-4a1d-f1ab-8911bd3918da"
      },
      "source": [
        "BVSP.df <- BVSP[,'BVSP.Close']                              \n",
        "head(BVSP.df)"
      ],
      "id": "ea0759f7-0353-404b-b206-98bc5c35d66a",
      "execution_count": 7,
      "outputs": [
        {
          "output_type": "display_data",
          "data": {
            "text/plain": [
              "           BVSP.Close\n",
              "2000-01-03      16930\n",
              "2000-01-04      15851\n",
              "2000-01-05      16245\n",
              "2000-01-06      16107\n",
              "2000-01-07      16309\n",
              "2000-01-10      17022"
            ]
          },
          "metadata": {
            "tags": []
          }
        }
      ]
    },
    {
      "cell_type": "markdown",
      "metadata": {
        "id": "00ce5730-0246-4093-8c80-b0aa48bade58"
      },
      "source": [
        "**Calculating log-returns**"
      ],
      "id": "00ce5730-0246-4093-8c80-b0aa48bade58"
    },
    {
      "cell_type": "code",
      "metadata": {
        "colab": {
          "base_uri": "https://localhost:8080/",
          "height": 145
        },
        "id": "a39fe789-889c-4974-9e5e-141050303ac9",
        "outputId": "4839ccd1-194f-4295-f0d4-2fa9cc0a0f6e"
      },
      "source": [
        "logreturn <- log(BVSP.df$BVSP.Close/Lag(BVSP.df$BVSP.Close, 1))*100                     \n",
        "head(logreturn)"
      ],
      "id": "a39fe789-889c-4974-9e5e-141050303ac9",
      "execution_count": 8,
      "outputs": [
        {
          "output_type": "display_data",
          "data": {
            "text/plain": [
              "           BVSP.Close\n",
              "2000-01-03         NA\n",
              "2000-01-04 -6.5854606\n",
              "2000-01-05  2.4552579\n",
              "2000-01-06 -0.8531209\n",
              "2000-01-07  1.2463143\n",
              "2000-01-10  4.2789522"
            ]
          },
          "metadata": {
            "tags": []
          }
        }
      ]
    },
    {
      "cell_type": "markdown",
      "metadata": {
        "id": "83e12642-5c42-4a95-963f-809884d6bf7f"
      },
      "source": [
        "**Aggregating the data**"
      ],
      "id": "83e12642-5c42-4a95-963f-809884d6bf7f"
    },
    {
      "cell_type": "code",
      "metadata": {
        "colab": {
          "base_uri": "https://localhost:8080/",
          "height": 145
        },
        "id": "25c57967-90a6-4684-9b14-9a5c0867c38b",
        "outputId": "0c73dfee-41ec-4173-8185-deb92619f816"
      },
      "source": [
        "BVSP.df$BVSP.Return <- logreturn                  \n",
        "BVSP.df <- na.omit(BVSP.df)\n",
        "head(BVSP.df)"
      ],
      "id": "25c57967-90a6-4684-9b14-9a5c0867c38b",
      "execution_count": 9,
      "outputs": [
        {
          "output_type": "display_data",
          "data": {
            "text/plain": [
              "           BVSP.Close BVSP.Return\n",
              "2000-01-04      15851  -6.5854606\n",
              "2000-01-05      16245   2.4552579\n",
              "2000-01-06      16107  -0.8531209\n",
              "2000-01-07      16309   1.2463143\n",
              "2000-01-10      17022   4.2789522\n",
              "2000-01-11      16573  -2.6731760"
            ]
          },
          "metadata": {
            "tags": []
          }
        }
      ]
    },
    {
      "cell_type": "markdown",
      "metadata": {
        "id": "d5366ab1-99ff-4fc7-ba7c-e62d184424bd"
      },
      "source": [
        "**Identifying missing values (%)**"
      ],
      "id": "d5366ab1-99ff-4fc7-ba7c-e62d184424bd"
    },
    {
      "cell_type": "code",
      "metadata": {
        "colab": {
          "base_uri": "https://localhost:8080/",
          "height": 72
        },
        "id": "66ab6572-9a4d-4703-adb4-0405d06b5783",
        "outputId": "e56b3316-97cb-4a02-a4fb-4f3981a0c9fd"
      },
      "source": [
        "round(prop.table(table(is.na(BVSP.df)))*100, digits = 2)       "
      ],
      "id": "66ab6572-9a4d-4703-adb4-0405d06b5783",
      "execution_count": 10,
      "outputs": [
        {
          "output_type": "display_data",
          "data": {
            "text/plain": [
              "\n",
              "FALSE \n",
              "  100 "
            ]
          },
          "metadata": {
            "tags": []
          }
        }
      ]
    },
    {
      "cell_type": "markdown",
      "metadata": {
        "id": "8a8dac53-aaa9-48b4-b345-44958dd87d9a"
      },
      "source": [
        "## 2. Graph analysis"
      ],
      "id": "8a8dac53-aaa9-48b4-b345-44958dd87d9a"
    },
    {
      "cell_type": "code",
      "metadata": {
        "id": "aadcb8e0-582a-435f-864c-a43651d7e6a6",
        "colab": {
          "base_uri": "https://localhost:8080/"
        },
        "outputId": "bb8c7325-eb4b-46c4-e821-c45545e535b3"
      },
      "source": [
        "# Package\n",
        "install.packages('xts')\n",
        "install.packages('ggplot2')\n",
        "install.packages('gridExtra')\n",
        "\n",
        "library(xts)\n",
        "library(ggplot2)\n",
        "library(gridExtra)"
      ],
      "id": "aadcb8e0-582a-435f-864c-a43651d7e6a6",
      "execution_count": 11,
      "outputs": [
        {
          "output_type": "stream",
          "text": [
            "Installing package into ‘/usr/local/lib/R/site-library’\n",
            "(as ‘lib’ is unspecified)\n",
            "\n",
            "Installing package into ‘/usr/local/lib/R/site-library’\n",
            "(as ‘lib’ is unspecified)\n",
            "\n",
            "Installing package into ‘/usr/local/lib/R/site-library’\n",
            "(as ‘lib’ is unspecified)\n",
            "\n"
          ],
          "name": "stderr"
        }
      ]
    },
    {
      "cell_type": "markdown",
      "metadata": {
        "id": "0dc149bd-ea9f-4227-9807-c33fa1636347"
      },
      "source": [
        "**Price & Return charts**"
      ],
      "id": "0dc149bd-ea9f-4227-9807-c33fa1636347"
    },
    {
      "cell_type": "code",
      "metadata": {
        "colab": {
          "base_uri": "https://localhost:8080/",
          "height": 510
        },
        "id": "4a7ba28a-a574-47a6-8368-2111f43c7bd3",
        "outputId": "41565045-466f-4d42-eab5-a4392bd2b438"
      },
      "source": [
        "# Price chart\n",
        "graph1 <- ggplot(BVSP.df,\n",
        "                aes(x = index(BVSP.df), y = BVSP.df[,'BVSP.Close'])) +\n",
        "                geom_line(color = \"black\") +\n",
        "                ggtitle(\"Brazil\") +\n",
        "                xlab(\"Date\") +\n",
        "                ylab(\"Closing prices ($)\") +\n",
        "                theme(plot.title = element_text(hjust = 0.5))\n",
        "\n",
        "# Return chart\n",
        "graph2 <- ggplot(BVSP.df,\n",
        "                aes(x = index(BVSP.df), y = BVSP.df[,'BVSP.Return'])) +\n",
        "                geom_line(color = \"black\") +\n",
        "                ggtitle(\"Brazil\") +\n",
        "                xlab(\"Date\") +\n",
        "                ylab(\"Return\") +\n",
        "                theme(plot.title = element_text(hjust = 0.5))\n",
        "\n",
        "grid.arrange(graph1, graph2, ncol = 1, nrow = 2)"
      ],
      "id": "4a7ba28a-a574-47a6-8368-2111f43c7bd3",
      "execution_count": 13,
      "outputs": [
        {
          "output_type": "stream",
          "text": [
            "Don't know how to automatically pick scale for object of type xts/zoo. Defaulting to continuous.\n",
            "\n",
            "Don't know how to automatically pick scale for object of type xts/zoo. Defaulting to continuous.\n",
            "\n"
          ],
          "name": "stderr"
        },
        {
          "output_type": "display_data",
          "data": {
            "image/png": "[encoded data removed]",
            "text/plain": [
              "plot without title"
            ]
          },
          "metadata": {
            "tags": [],
            "image/png": {
              "width": 420,
              "height": 420
            }
          }
        }
      ]
    },
    {
      "cell_type": "markdown",
      "metadata": {
        "id": "2fb985b6-91a7-43fe-ba22-5663a6d63477"
      },
      "source": [
        "## 3. Descriptive statistic"
      ],
      "id": "2fb985b6-91a7-43fe-ba22-5663a6d63477"
    },
    {
      "cell_type": "code",
      "metadata": {
        "colab": {
          "base_uri": "https://localhost:8080/"
        },
        "id": "5cba5803-a987-4c14-aa9b-d9337afb3512",
        "outputId": "0f7551a7-0448-46a7-c064-34029ade77d8"
      },
      "source": [
        "# Packages\n",
        "install.packages('moments')\n",
        "\n",
        "library(moments)"
      ],
      "id": "5cba5803-a987-4c14-aa9b-d9337afb3512",
      "execution_count": 14,
      "outputs": [
        {
          "output_type": "stream",
          "text": [
            "Installing package into ‘/usr/local/lib/R/site-library’\n",
            "(as ‘lib’ is unspecified)\n",
            "\n",
            "\n",
            "Attaching package: ‘moments’\n",
            "\n",
            "\n",
            "The following objects are masked from ‘package:PerformanceAnalytics’:\n",
            "\n",
            "    kurtosis, skewness\n",
            "\n",
            "\n"
          ],
          "name": "stderr"
        }
      ]
    },
    {
      "cell_type": "markdown",
      "metadata": {
        "id": "69bbfe9a-7c71-415d-89a4-7a7f70b88e9d"
      },
      "source": [
        "**Descriptive statistic**"
      ],
      "id": "69bbfe9a-7c71-415d-89a4-7a7f70b88e9d"
    },
    {
      "cell_type": "code",
      "metadata": {
        "colab": {
          "base_uri": "https://localhost:8080/",
          "height": 35
        },
        "id": "b282c2d9-b582-4a89-8f56-b23b6ade6202",
        "outputId": "55c05d9f-2b1d-4dda-a823-4fb0fe30a326"
      },
      "source": [
        "# mean\n",
        "round(mean(BVSP.df$BVSP.Return), 3)                         "
      ],
      "id": "b282c2d9-b582-4a89-8f56-b23b6ade6202",
      "execution_count": 16,
      "outputs": [
        {
          "output_type": "display_data",
          "data": {
            "text/plain": [
              "[1] 0.038"
            ],
            "text/latex": "0.038",
            "text/markdown": "0.038",
            "text/html": [
              "0.038"
            ]
          },
          "metadata": {
            "tags": []
          }
        }
      ]
    },
    {
      "cell_type": "code",
      "metadata": {
        "colab": {
          "base_uri": "https://localhost:8080/",
          "height": 35
        },
        "id": "a0fefd4e-8b2e-4bf2-aa7f-1dfc0d2d1892",
        "outputId": "0cf3a551-488d-47e1-a0dc-c02097c2030d"
      },
      "source": [
        "# sd\n",
        "round(sd(BVSP.df$BVSP.Return), 3)                           "
      ],
      "id": "a0fefd4e-8b2e-4bf2-aa7f-1dfc0d2d1892",
      "execution_count": 17,
      "outputs": [
        {
          "output_type": "display_data",
          "data": {
            "text/plain": [
              "[1] 1.81"
            ],
            "text/latex": "1.81",
            "text/markdown": "1.81",
            "text/html": [
              "1.81"
            ]
          },
          "metadata": {
            "tags": []
          }
        }
      ]
    },
    {
      "cell_type": "code",
      "metadata": {
        "colab": {
          "base_uri": "https://localhost:8080/",
          "height": 35
        },
        "id": "e5f57896-f56d-416f-9cbf-4217d00ffb72",
        "outputId": "883835a3-6b59-4cd3-e38b-26829aba62c1"
      },
      "source": [
        "# skewness\n",
        "round(skewness(BVSP.df$BVSP.Return), 3)                     "
      ],
      "id": "e5f57896-f56d-416f-9cbf-4217d00ffb72",
      "execution_count": 18,
      "outputs": [
        {
          "output_type": "display_data",
          "data": {
            "text/plain": [
              "BVSP.Return \n",
              "     -0.367 "
            ],
            "text/latex": "\\textbf{BVSP.Return:} -0.367",
            "text/markdown": "**BVSP.Return:** -0.367",
            "text/html": [
              "<strong>BVSP.Return:</strong> -0.367"
            ]
          },
          "metadata": {
            "tags": []
          }
        }
      ]
    },
    {
      "cell_type": "code",
      "metadata": {
        "colab": {
          "base_uri": "https://localhost:8080/",
          "height": 35
        },
        "id": "04580b0d-e33e-4a03-8c3c-72c205253ed2",
        "outputId": "b1a1a414-144a-480b-8436-cda2dbefeab3"
      },
      "source": [
        "# kurtosis\n",
        "round(kurtosis(BVSP.df$BVSP.Return), 3)                     "
      ],
      "id": "04580b0d-e33e-4a03-8c3c-72c205253ed2",
      "execution_count": 19,
      "outputs": [
        {
          "output_type": "display_data",
          "data": {
            "text/plain": [
              "BVSP.Return \n",
              "      9.535 "
            ],
            "text/latex": "\\textbf{BVSP.Return:} 9.535",
            "text/markdown": "**BVSP.Return:** 9.535",
            "text/html": [
              "<strong>BVSP.Return:</strong> 9.535"
            ]
          },
          "metadata": {
            "tags": []
          }
        }
      ]
    },
    {
      "cell_type": "code",
      "metadata": {
        "colab": {
          "base_uri": "https://localhost:8080/",
          "height": 35
        },
        "id": "515839a1-874b-4639-b9a2-1f0f24f844cd",
        "outputId": "59c7fcc3-d61d-43f4-ebbc-f7069d5946cb"
      },
      "source": [
        "# min\n",
        "round(min(BVSP.df$BVSP.Return), 3)                          "
      ],
      "id": "515839a1-874b-4639-b9a2-1f0f24f844cd",
      "execution_count": 20,
      "outputs": [
        {
          "output_type": "display_data",
          "data": {
            "text/plain": [
              "[1] -15.993"
            ],
            "text/latex": "-15.993",
            "text/markdown": "-15.993",
            "text/html": [
              "-15.993"
            ]
          },
          "metadata": {
            "tags": []
          }
        }
      ]
    },
    {
      "cell_type": "code",
      "metadata": {
        "colab": {
          "base_uri": "https://localhost:8080/",
          "height": 35
        },
        "id": "3b88ac9d-baad-40df-913b-511417327e3a",
        "outputId": "b3a04f80-a306-4a67-834b-b48d3a187776"
      },
      "source": [
        "# p5\n",
        "round(quantile(BVSP.df$BVSP.Return, probs = 0.05), 3)       "
      ],
      "id": "3b88ac9d-baad-40df-913b-511417327e3a",
      "execution_count": 21,
      "outputs": [
        {
          "output_type": "display_data",
          "data": {
            "text/plain": [
              "    5% \n",
              "-2.821 "
            ],
            "text/latex": "\\textbf{5\\textbackslash{}\\%:} -2.821",
            "text/markdown": "**5%:** -2.821",
            "text/html": [
              "<strong>5%:</strong> -2.821"
            ]
          },
          "metadata": {
            "tags": []
          }
        }
      ]
    },
    {
      "cell_type": "code",
      "metadata": {
        "colab": {
          "base_uri": "https://localhost:8080/",
          "height": 35
        },
        "id": "47455c1f-33d8-4811-955a-03286ad779bc",
        "outputId": "4b8bd0be-24cf-41a5-e580-f3cfe98bf9df"
      },
      "source": [
        "# p25\n",
        "round(quantile(BVSP.df$BVSP.Return, probs = 0.25), 3)       "
      ],
      "id": "47455c1f-33d8-4811-955a-03286ad779bc",
      "execution_count": 22,
      "outputs": [
        {
          "output_type": "display_data",
          "data": {
            "text/plain": [
              "   25% \n",
              "-0.925 "
            ],
            "text/latex": "\\textbf{25\\textbackslash{}\\%:} -0.925",
            "text/markdown": "**25%:** -0.925",
            "text/html": [
              "<strong>25%:</strong> -0.925"
            ]
          },
          "metadata": {
            "tags": []
          }
        }
      ]
    },
    {
      "cell_type": "code",
      "metadata": {
        "colab": {
          "base_uri": "https://localhost:8080/",
          "height": 35
        },
        "id": "a6516b44-9009-4d73-9216-cd6d7ce1aa75",
        "outputId": "5b43e186-a110-4cb2-fdda-1d58f352f76a"
      },
      "source": [
        "# median\n",
        "round(median(BVSP.df$BVSP.Return), 3)                       "
      ],
      "id": "a6516b44-9009-4d73-9216-cd6d7ce1aa75",
      "execution_count": 23,
      "outputs": [
        {
          "output_type": "display_data",
          "data": {
            "text/plain": [
              "[1] 0.076"
            ],
            "text/latex": "0.076",
            "text/markdown": "0.076",
            "text/html": [
              "0.076"
            ]
          },
          "metadata": {
            "tags": []
          }
        }
      ]
    },
    {
      "cell_type": "code",
      "metadata": {
        "colab": {
          "base_uri": "https://localhost:8080/",
          "height": 35
        },
        "id": "a86278a2-66fa-4421-8432-6a68176eebc8",
        "outputId": "b925013b-23df-4df2-ee3c-19aa16cad46d"
      },
      "source": [
        "# p75\n",
        "round(quantile(BVSP.df$BVSP.Return, probs = 0.75), 3)       "
      ],
      "id": "a86278a2-66fa-4421-8432-6a68176eebc8",
      "execution_count": 24,
      "outputs": [
        {
          "output_type": "display_data",
          "data": {
            "text/plain": [
              "  75% \n",
              "1.075 "
            ],
            "text/latex": "\\textbf{75\\textbackslash{}\\%:} 1.075",
            "text/markdown": "**75%:** 1.075",
            "text/html": [
              "<strong>75%:</strong> 1.075"
            ]
          },
          "metadata": {
            "tags": []
          }
        }
      ]
    },
    {
      "cell_type": "code",
      "metadata": {
        "colab": {
          "base_uri": "https://localhost:8080/",
          "height": 35
        },
        "id": "be64d68b-c5cc-42d9-b55d-bbfca6846cf8",
        "outputId": "1d4908a6-cbc4-45ac-e31e-f45071b9163b"
      },
      "source": [
        "# p95\n",
        "round(quantile(BVSP.df$BVSP.Return, probs = 0.95), 3)       "
      ],
      "id": "be64d68b-c5cc-42d9-b55d-bbfca6846cf8",
      "execution_count": 25,
      "outputs": [
        {
          "output_type": "display_data",
          "data": {
            "text/plain": [
              "  95% \n",
              "2.676 "
            ],
            "text/latex": "\\textbf{95\\textbackslash{}\\%:} 2.676",
            "text/markdown": "**95%:** 2.676",
            "text/html": [
              "<strong>95%:</strong> 2.676"
            ]
          },
          "metadata": {
            "tags": []
          }
        }
      ]
    },
    {
      "cell_type": "code",
      "metadata": {
        "colab": {
          "base_uri": "https://localhost:8080/",
          "height": 35
        },
        "id": "ecf88ca5-5576-4cfb-a9f2-225db45f12af",
        "outputId": "d0c5cf9d-b476-46ed-fe1b-9d738942a29e"
      },
      "source": [
        "# max\n",
        "round(max(BVSP.df$BVSP.Return), 3)                          "
      ],
      "id": "ecf88ca5-5576-4cfb-a9f2-225db45f12af",
      "execution_count": 26,
      "outputs": [
        {
          "output_type": "display_data",
          "data": {
            "text/plain": [
              "[1] 13.677"
            ],
            "text/latex": "13.677",
            "text/markdown": "13.677",
            "text/html": [
              "13.677"
            ]
          },
          "metadata": {
            "tags": []
          }
        }
      ]
    },
    {
      "cell_type": "code",
      "metadata": {
        "colab": {
          "base_uri": "https://localhost:8080/",
          "height": 35
        },
        "id": "1679dd88-86bc-4041-ad68-7c1899c799a4",
        "outputId": "1b9b51ac-e005-4820-d8a0-19d2f9e5292e"
      },
      "source": [
        "# n observations\n",
        "length(BVSP.df$BVSP.Return)                                 "
      ],
      "id": "1679dd88-86bc-4041-ad68-7c1899c799a4",
      "execution_count": 27,
      "outputs": [
        {
          "output_type": "display_data",
          "data": {
            "text/plain": [
              "[1] 5292"
            ],
            "text/latex": "5292",
            "text/markdown": "5292",
            "text/html": [
              "5292"
            ]
          },
          "metadata": {
            "tags": []
          }
        }
      ]
    },
    {
      "cell_type": "markdown",
      "metadata": {
        "id": "7d7f50bf-3414-409f-abaf-59204b4eaed3"
      },
      "source": [
        "## 4. Series normality analysis"
      ],
      "id": "7d7f50bf-3414-409f-abaf-59204b4eaed3"
    },
    {
      "cell_type": "code",
      "metadata": {
        "id": "2a3ad960-3a87-48a4-bff0-b20498343432"
      },
      "source": [
        "# Package\n",
        "library(tseries)"
      ],
      "id": "2a3ad960-3a87-48a4-bff0-b20498343432",
      "execution_count": 28,
      "outputs": []
    },
    {
      "cell_type": "code",
      "metadata": {
        "colab": {
          "base_uri": "https://localhost:8080/",
          "height": 108
        },
        "id": "49b52423-cbd3-41df-9c5e-6074e2c1a911",
        "outputId": "791103cc-fc00-48d2-8a83-363ca6684b65"
      },
      "source": [
        "jarque.bera.test(BVSP.df$BVSP.Return)"
      ],
      "id": "49b52423-cbd3-41df-9c5e-6074e2c1a911",
      "execution_count": 29,
      "outputs": [
        {
          "output_type": "display_data",
          "data": {
            "text/plain": [
              "\n",
              "\tJarque Bera Test\n",
              "\n",
              "data:  BVSP.df$BVSP.Return\n",
              "X-squared = 9535.5, df = 2, p-value < 2.2e-16\n"
            ]
          },
          "metadata": {
            "tags": []
          }
        }
      ]
    },
    {
      "cell_type": "markdown",
      "metadata": {
        "id": "5b8f4698-26c6-4675-886e-b5e9a72061ac"
      },
      "source": [
        "## 5. Autocorrelation pattern analysis"
      ],
      "id": "5b8f4698-26c6-4675-886e-b5e9a72061ac"
    },
    {
      "cell_type": "code",
      "metadata": {
        "id": "0b5c4562-547f-4763-8ea8-396761d8ddc3",
        "colab": {
          "base_uri": "https://localhost:8080/"
        },
        "outputId": "4e2ceff2-2d0b-4d79-baa8-57889ddfd949"
      },
      "source": [
        "# Packages\n",
        "install.packages('TSA')\n",
        "install.packages('aTSA')\n",
        "install.packages('FinTS')\n",
        "\n",
        "library(TSA)\n",
        "library(aTSA)\n",
        "library(FinTS)"
      ],
      "id": "0b5c4562-547f-4763-8ea8-396761d8ddc3",
      "execution_count": 30,
      "outputs": [
        {
          "output_type": "stream",
          "text": [
            "Installing package into ‘/usr/local/lib/R/site-library’\n",
            "(as ‘lib’ is unspecified)\n",
            "\n",
            "also installing the dependencies ‘leaps’, ‘locfit’\n",
            "\n",
            "\n",
            "Installing package into ‘/usr/local/lib/R/site-library’\n",
            "(as ‘lib’ is unspecified)\n",
            "\n",
            "Installing package into ‘/usr/local/lib/R/site-library’\n",
            "(as ‘lib’ is unspecified)\n",
            "\n",
            "\n",
            "Attaching package: ‘TSA’\n",
            "\n",
            "\n",
            "The following objects are masked from ‘package:moments’:\n",
            "\n",
            "    kurtosis, skewness\n",
            "\n",
            "\n",
            "The following objects are masked from ‘package:PerformanceAnalytics’:\n",
            "\n",
            "    kurtosis, skewness\n",
            "\n",
            "\n",
            "The following objects are masked from ‘package:stats’:\n",
            "\n",
            "    acf, arima\n",
            "\n",
            "\n",
            "The following object is masked from ‘package:utils’:\n",
            "\n",
            "    tar\n",
            "\n",
            "\n",
            "\n",
            "Attaching package: ‘aTSA’\n",
            "\n",
            "\n",
            "The following objects are masked from ‘package:tseries’:\n",
            "\n",
            "    adf.test, kpss.test, pp.test\n",
            "\n",
            "\n",
            "The following object is masked from ‘package:graphics’:\n",
            "\n",
            "    identify\n",
            "\n",
            "\n"
          ],
          "name": "stderr"
        }
      ]
    },
    {
      "cell_type": "markdown",
      "metadata": {
        "id": "efbcdd1a-f5c6-4e6a-bf31-3d547512b3f4"
      },
      "source": [
        "**McLeod-Li test for conditional heteroskedasticity (ARCH effect)**"
      ],
      "id": "efbcdd1a-f5c6-4e6a-bf31-3d547512b3f4"
    },
    {
      "cell_type": "code",
      "metadata": {
        "colab": {
          "base_uri": "https://localhost:8080/",
          "height": 437
        },
        "id": "NDGMFcWQ54yq",
        "outputId": "5c1cebe6-1228-4090-d3b1-4e28db7bc894"
      },
      "source": [
        "McLeod.Li.test(y = BVSP.df$BVSP.Return)\n",
        "# p-valor < 1% => ARCH effect"
      ],
      "id": "NDGMFcWQ54yq",
      "execution_count": 31,
      "outputs": [
        {
          "output_type": "display_data",
          "data": {
            "image/png": "[encoded data removed]",
            "text/plain": [
              "plot without title"
            ]
          },
          "metadata": {
            "tags": [],
            "image/png": {
              "width": 420,
              "height": 420
            }
          }
        }
      ]
    },
    {
      "cell_type": "markdown",
      "metadata": {
        "id": "d2e068a6-3254-475c-acbf-a75dda7ac434"
      },
      "source": [
        "**Lagrange Multiplier (LM) test for autoregressive conditional heteroscedasticity (ARCH)**"
      ],
      "id": "d2e068a6-3254-475c-acbf-a75dda7ac434"
    },
    {
      "cell_type": "code",
      "metadata": {
        "id": "eaaf6d58-c987-450e-b7d9-d547bb10f7f9",
        "colab": {
          "base_uri": "https://localhost:8080/",
          "height": 108
        },
        "outputId": "433b929f-0665-47ae-b44f-e434bdbf9771"
      },
      "source": [
        "ArchTest(BVSP.df$BVSP.Return, demean = FALSE)"
      ],
      "id": "eaaf6d58-c987-450e-b7d9-d547bb10f7f9",
      "execution_count": 32,
      "outputs": [
        {
          "output_type": "display_data",
          "data": {
            "text/plain": [
              "\n",
              "\tARCH LM-test; Null hypothesis: no ARCH effects\n",
              "\n",
              "data:  BVSP.df$BVSP.Return\n",
              "Chi-squared = 1501.7, df = 12, p-value < 2.2e-16\n"
            ]
          },
          "metadata": {
            "tags": []
          }
        }
      ]
    },
    {
      "cell_type": "markdown",
      "metadata": {
        "id": "8c5b334a-4c0e-4341-b80b-bd4a9ec89dc1"
      },
      "source": [
        "## 6. GARCH model estimation"
      ],
      "id": "8c5b334a-4c0e-4341-b80b-bd4a9ec89dc1"
    },
    {
      "cell_type": "code",
      "metadata": {
        "colab": {
          "base_uri": "https://localhost:8080/"
        },
        "id": "7abb7558-53ac-4e1b-bbfa-f1de46b2d889",
        "outputId": "0cc8d374-cee3-4201-dfae-1cd10013703c"
      },
      "source": [
        "# Packages\n",
        "install.packages('tidyverse')\n",
        "install.packages('FinTS')\n",
        "install.packages('texreg')\n",
        "install.packages('rugarch')\n",
        "\n",
        "library(tidyverse)\n",
        "library(FinTS)\n",
        "library(texreg)\n",
        "library(rugarch)"
      ],
      "id": "7abb7558-53ac-4e1b-bbfa-f1de46b2d889",
      "execution_count": 33,
      "outputs": [
        {
          "output_type": "stream",
          "text": [
            "Installing package into ‘/usr/local/lib/R/site-library’\n",
            "(as ‘lib’ is unspecified)\n",
            "\n",
            "Installing package into ‘/usr/local/lib/R/site-library’\n",
            "(as ‘lib’ is unspecified)\n",
            "\n",
            "Installing package into ‘/usr/local/lib/R/site-library’\n",
            "(as ‘lib’ is unspecified)\n",
            "\n",
            "Installing package into ‘/usr/local/lib/R/site-library’\n",
            "(as ‘lib’ is unspecified)\n",
            "\n",
            "also installing the dependencies ‘misc3d’, ‘truncnorm’, ‘FNN’, ‘kernlab’, ‘mclust’, ‘multicool’, ‘mvtnorm’, ‘plot3D’, ‘pracma’, ‘DistributionUtils’, ‘GeneralizedHyperbolic’, ‘Rsolnp’, ‘nloptr’, ‘ks’, ‘spd’, ‘chron’, ‘SkewHyperbolic’\n",
            "\n",
            "\n",
            "── \u001b[1mAttaching packages\u001b[22m ─────────────────────────────────────── tidyverse 1.3.1 ──\n",
            "\n",
            "\u001b[32m✔\u001b[39m \u001b[34mtibble \u001b[39m 3.1.2     \u001b[32m✔\u001b[39m \u001b[34mdplyr  \u001b[39m 1.0.6\n",
            "\u001b[32m✔\u001b[39m \u001b[34mtidyr  \u001b[39m 1.1.3     \u001b[32m✔\u001b[39m \u001b[34mstringr\u001b[39m 1.4.0\n",
            "\u001b[32m✔\u001b[39m \u001b[34mreadr  \u001b[39m 1.4.0     \u001b[32m✔\u001b[39m \u001b[34mforcats\u001b[39m 0.5.1\n",
            "\u001b[32m✔\u001b[39m \u001b[34mpurrr  \u001b[39m 0.3.4     \n",
            "\n",
            "── \u001b[1mConflicts\u001b[22m ────────────────────────────────────────── tidyverse_conflicts() ──\n",
            "\u001b[31m✖\u001b[39m \u001b[34mlubridate\u001b[39m::\u001b[32mas.difftime()\u001b[39m masks \u001b[34mbase\u001b[39m::as.difftime()\n",
            "\u001b[31m✖\u001b[39m \u001b[34mdplyr\u001b[39m::\u001b[32mcombine()\u001b[39m         masks \u001b[34mgridExtra\u001b[39m::combine()\n",
            "\u001b[31m✖\u001b[39m \u001b[34mlubridate\u001b[39m::\u001b[32mdate()\u001b[39m        masks \u001b[34mbase\u001b[39m::date()\n",
            "\u001b[31m✖\u001b[39m \u001b[34mdplyr\u001b[39m::\u001b[32mfilter()\u001b[39m          masks \u001b[34mstats\u001b[39m::filter()\n",
            "\u001b[31m✖\u001b[39m \u001b[34mdplyr\u001b[39m::\u001b[32mfirst()\u001b[39m           masks \u001b[34mxts\u001b[39m::first()\n",
            "\u001b[31m✖\u001b[39m \u001b[34mlubridate\u001b[39m::\u001b[32mintersect()\u001b[39m   masks \u001b[34mbase\u001b[39m::intersect()\n",
            "\u001b[31m✖\u001b[39m \u001b[34mdplyr\u001b[39m::\u001b[32mlag()\u001b[39m             masks \u001b[34mstats\u001b[39m::lag()\n",
            "\u001b[31m✖\u001b[39m \u001b[34mdplyr\u001b[39m::\u001b[32mlast()\u001b[39m            masks \u001b[34mxts\u001b[39m::last()\n",
            "\u001b[31m✖\u001b[39m \u001b[34mlubridate\u001b[39m::\u001b[32msetdiff()\u001b[39m     masks \u001b[34mbase\u001b[39m::setdiff()\n",
            "\u001b[31m✖\u001b[39m \u001b[34mreadr\u001b[39m::\u001b[32mspec()\u001b[39m            masks \u001b[34mTSA\u001b[39m::spec()\n",
            "\u001b[31m✖\u001b[39m \u001b[34mlubridate\u001b[39m::\u001b[32munion()\u001b[39m       masks \u001b[34mbase\u001b[39m::union()\n",
            "\n",
            "Version:  1.37.5\n",
            "Date:     2020-06-17\n",
            "Author:   Philip Leifeld (University of Essex)\n",
            "\n",
            "Consider submitting praise using the praise or praise_interactive functions.\n",
            "Please cite the JSS article in your publications -- see citation(\"texreg\").\n",
            "\n",
            "\n",
            "Attaching package: ‘texreg’\n",
            "\n",
            "\n",
            "The following object is masked from ‘package:tidyr’:\n",
            "\n",
            "    extract\n",
            "\n",
            "\n",
            "Loading required package: parallel\n",
            "\n",
            "\n",
            "Attaching package: ‘rugarch’\n",
            "\n",
            "\n",
            "The following object is masked from ‘package:purrr’:\n",
            "\n",
            "    reduce\n",
            "\n",
            "\n",
            "The following object is masked from ‘package:stats’:\n",
            "\n",
            "    sigma\n",
            "\n",
            "\n"
          ],
          "name": "stderr"
        }
      ]
    },
    {
      "cell_type": "code",
      "metadata": {
        "id": "ae5f5617-1efe-4488-bda0-051cf1bf4550"
      },
      "source": [
        "# Parameters definition\n",
        "ar_lag <- 0\n",
        "ma_lag <- 0\n",
        "arch_lag <- 1\n",
        "garch_lag <- 1"
      ],
      "id": "ae5f5617-1efe-4488-bda0-051cf1bf4550",
      "execution_count": 34,
      "outputs": []
    },
    {
      "cell_type": "markdown",
      "metadata": {
        "id": "4fb9f039-c974-422c-8f32-9c886eb06aeb"
      },
      "source": [
        "**Linear GARCH model**"
      ],
      "id": "4fb9f039-c974-422c-8f32-9c886eb06aeb"
    },
    {
      "cell_type": "code",
      "metadata": {
        "id": "47c0b88c-69c3-486d-b02c-29405ebd96e9"
      },
      "source": [
        "# Specification \n",
        "garch.spec <- ugarchspec(variance.model = list(model = \"sGARCH\",\n",
        "                                               garchOrder = c(arch_lag, garch_lag)),\n",
        "                         mean.model = list(armaOrder = c(ar_lag, ma_lag)),\n",
        "                         distribution.model = \"snorm\")\n",
        "# distribution.model = \"snorm\" => skew-normal distribution"
      ],
      "id": "47c0b88c-69c3-486d-b02c-29405ebd96e9",
      "execution_count": 35,
      "outputs": []
    },
    {
      "cell_type": "code",
      "metadata": {
        "id": "4f4f78bc-4e59-462b-af7e-1bcac1264fa3",
        "colab": {
          "base_uri": "https://localhost:8080/",
          "height": 215
        },
        "outputId": "915cf356-2e28-4b6c-a02e-94dd6b4ac6f1"
      },
      "source": [
        "# Estimation\n",
        "garch.fit <- ugarchfit(spec = garch.spec, data = BVSP.df$BVSP.Return)\n",
        "round(garch.fit@fit$matcoef, 4)"
      ],
      "id": "4f4f78bc-4e59-462b-af7e-1bcac1264fa3",
      "execution_count": 36,
      "outputs": [
        {
          "output_type": "display_data",
          "data": {
            "text/plain": [
              "        Estimate  Std. Error  t value Pr(>|t|)\n",
              "mu     0.0624    0.0205       3.0436  0.0023  \n",
              "omega  0.0670    0.0117       5.7170  0.0000  \n",
              "alpha1 0.0741    0.0070      10.6042  0.0000  \n",
              "beta1  0.9028    0.0091      98.8926  0.0000  \n",
              "skew   0.8982    0.0162      55.3967  0.0000  "
            ],
            "text/latex": "A matrix: 5 × 4 of type dbl\n\\begin{tabular}{r|llll}\n  &  Estimate &  Std. Error &  t value & Pr(>\\textbar{}t\\textbar{})\\\\\n\\hline\n\tmu & 0.0624 & 0.0205 &  3.0436 & 0.0023\\\\\n\tomega & 0.0670 & 0.0117 &  5.7170 & 0.0000\\\\\n\talpha1 & 0.0741 & 0.0070 & 10.6042 & 0.0000\\\\\n\tbeta1 & 0.9028 & 0.0091 & 98.8926 & 0.0000\\\\\n\tskew & 0.8982 & 0.0162 & 55.3967 & 0.0000\\\\\n\\end{tabular}\n",
            "text/markdown": "\nA matrix: 5 × 4 of type dbl\n\n| <!--/--> |  Estimate |  Std. Error |  t value | Pr(&gt;|t|) |\n|---|---|---|---|---|\n| mu | 0.0624 | 0.0205 |  3.0436 | 0.0023 |\n| omega | 0.0670 | 0.0117 |  5.7170 | 0.0000 |\n| alpha1 | 0.0741 | 0.0070 | 10.6042 | 0.0000 |\n| beta1 | 0.9028 | 0.0091 | 98.8926 | 0.0000 |\n| skew | 0.8982 | 0.0162 | 55.3967 | 0.0000 |\n\n",
            "text/html": [
              "<table class=\"dataframe\">\n",
              "<caption>A matrix: 5 × 4 of type dbl</caption>\n",
              "<thead>\n",
              "\t<tr><th></th><th scope=col> Estimate</th><th scope=col> Std. Error</th><th scope=col> t value</th><th scope=col>Pr(&gt;|t|)</th></tr>\n",
              "</thead>\n",
              "<tbody>\n",
              "\t<tr><th scope=row>mu</th><td>0.0624</td><td>0.0205</td><td> 3.0436</td><td>0.0023</td></tr>\n",
              "\t<tr><th scope=row>omega</th><td>0.0670</td><td>0.0117</td><td> 5.7170</td><td>0.0000</td></tr>\n",
              "\t<tr><th scope=row>alpha1</th><td>0.0741</td><td>0.0070</td><td>10.6042</td><td>0.0000</td></tr>\n",
              "\t<tr><th scope=row>beta1</th><td>0.9028</td><td>0.0091</td><td>98.8926</td><td>0.0000</td></tr>\n",
              "\t<tr><th scope=row>skew</th><td>0.8982</td><td>0.0162</td><td>55.3967</td><td>0.0000</td></tr>\n",
              "</tbody>\n",
              "</table>\n"
            ]
          },
          "metadata": {
            "tags": []
          }
        }
      ]
    },
    {
      "cell_type": "code",
      "metadata": {
        "id": "52cb3822-6ebd-4d45-b2c6-04c1acb17b34",
        "colab": {
          "base_uri": "https://localhost:8080/",
          "height": 179
        },
        "outputId": "f9607fd3-7922-48fa-de8b-10740b88a89c"
      },
      "source": [
        "# Extracting variance series from the Linear GARCH model\n",
        "var.garch <- ts(garch.fit@fit$sigma^2)\n",
        "head(var.garch)\n",
        "\n",
        "BVSP.df$BVSP.VolGARCH <- as.numeric(var.garch)\n",
        "head(BVSP.df)"
      ],
      "id": "52cb3822-6ebd-4d45-b2c6-04c1acb17b34",
      "execution_count": 37,
      "outputs": [
        {
          "output_type": "display_data",
          "data": {
            "text/plain": [
              "[1] 3.277609 6.298761 6.177523 5.706156 5.322318 6.188571"
            ],
            "text/latex": "\\begin{enumerate*}\n\\item 3.27760875104544\n\\item 6.29876059768514\n\\item 6.17752307668446\n\\item 5.70615620072201\n\\item 5.32231756869188\n\\item 6.18857062392232\n\\end{enumerate*}\n",
            "text/markdown": "1. 3.27760875104544\n2. 6.29876059768514\n3. 6.17752307668446\n4. 5.70615620072201\n5. 5.32231756869188\n6. 6.18857062392232\n\n\n",
            "text/html": [
              "<style>\n",
              ".list-inline {list-style: none; margin:0; padding: 0}\n",
              ".list-inline>li {display: inline-block}\n",
              ".list-inline>li:not(:last-child)::after {content: \"\\00b7\"; padding: 0 .5ex}\n",
              "</style>\n",
              "<ol class=list-inline><li>3.27760875104544</li><li>6.29876059768514</li><li>6.17752307668446</li><li>5.70615620072201</li><li>5.32231756869188</li><li>6.18857062392232</li></ol>\n"
            ]
          },
          "metadata": {
            "tags": []
          }
        },
        {
          "output_type": "display_data",
          "data": {
            "text/plain": [
              "           BVSP.Close BVSP.Return BVSP.VolGARCH\n",
              "2000-01-04      15851  -6.5854606      3.277609\n",
              "2000-01-05      16245   2.4552579      6.298761\n",
              "2000-01-06      16107  -0.8531209      6.177523\n",
              "2000-01-07      16309   1.2463143      5.706156\n",
              "2000-01-10      17022   4.2789522      5.322318\n",
              "2000-01-11      16573  -2.6731760      6.188571"
            ]
          },
          "metadata": {
            "tags": []
          }
        }
      ]
    },
    {
      "cell_type": "markdown",
      "metadata": {
        "id": "e6f29dce-3413-404b-ab4f-fa35eee0c98f"
      },
      "source": [
        "**EGARCH model**"
      ],
      "id": "e6f29dce-3413-404b-ab4f-fa35eee0c98f"
    },
    {
      "cell_type": "code",
      "metadata": {
        "id": "3f49a904-41b9-4e2e-a788-6da4085d14db"
      },
      "source": [
        "# Specification \n",
        "egarch.spec <- ugarchspec(variance.model = list(model = \"eGARCH\",\n",
        "                                                garchOrder = c(arch_lag, garch_lag)),\n",
        "                          mean.model = list(armaOrder = c(ar_lag, ma_lag)), \n",
        "                          distribution.model = \"snorm\")\n",
        "# distribution.model = \"snorm\" => skew-normal distribution"
      ],
      "id": "3f49a904-41b9-4e2e-a788-6da4085d14db",
      "execution_count": 38,
      "outputs": []
    },
    {
      "cell_type": "code",
      "metadata": {
        "id": "1d6a661b-2206-4fa7-b4e8-d3765c54a302",
        "colab": {
          "base_uri": "https://localhost:8080/",
          "height": 245
        },
        "outputId": "cf75975d-a033-4104-bbf9-17bf087562e4"
      },
      "source": [
        "# Estimation\n",
        "egarch.fit <- ugarchfit(spec = egarch.spec, data = BVSP.df$BVSP.Return)\n",
        "round(egarch.fit@fit$matcoef, 4)"
      ],
      "id": "1d6a661b-2206-4fa7-b4e8-d3765c54a302",
      "execution_count": 39,
      "outputs": [
        {
          "output_type": "display_data",
          "data": {
            "text/plain": [
              "        Estimate  Std. Error  t value  Pr(>|t|)\n",
              "mu      0.0242   0.0206         1.1712 0.2415  \n",
              "omega   0.0286   0.0021        13.5055 0.0000  \n",
              "alpha1 -0.0789   0.0071       -11.0606 0.0000  \n",
              "beta1   0.9731   0.0008      1176.9478 0.0000  \n",
              "gamma1  0.1347   0.0109        12.3417 0.0000  \n",
              "skew    0.9035   0.0164        55.2487 0.0000  "
            ],
            "text/latex": "A matrix: 6 × 4 of type dbl\n\\begin{tabular}{r|llll}\n  &  Estimate &  Std. Error &  t value & Pr(>\\textbar{}t\\textbar{})\\\\\n\\hline\n\tmu &  0.0242 & 0.0206 &    1.1712 & 0.2415\\\\\n\tomega &  0.0286 & 0.0021 &   13.5055 & 0.0000\\\\\n\talpha1 & -0.0789 & 0.0071 &  -11.0606 & 0.0000\\\\\n\tbeta1 &  0.9731 & 0.0008 & 1176.9478 & 0.0000\\\\\n\tgamma1 &  0.1347 & 0.0109 &   12.3417 & 0.0000\\\\\n\tskew &  0.9035 & 0.0164 &   55.2487 & 0.0000\\\\\n\\end{tabular}\n",
            "text/markdown": "\nA matrix: 6 × 4 of type dbl\n\n| <!--/--> |  Estimate |  Std. Error |  t value | Pr(&gt;|t|) |\n|---|---|---|---|---|\n| mu |  0.0242 | 0.0206 |    1.1712 | 0.2415 |\n| omega |  0.0286 | 0.0021 |   13.5055 | 0.0000 |\n| alpha1 | -0.0789 | 0.0071 |  -11.0606 | 0.0000 |\n| beta1 |  0.9731 | 0.0008 | 1176.9478 | 0.0000 |\n| gamma1 |  0.1347 | 0.0109 |   12.3417 | 0.0000 |\n| skew |  0.9035 | 0.0164 |   55.2487 | 0.0000 |\n\n",
            "text/html": [
              "<table class=\"dataframe\">\n",
              "<caption>A matrix: 6 × 4 of type dbl</caption>\n",
              "<thead>\n",
              "\t<tr><th></th><th scope=col> Estimate</th><th scope=col> Std. Error</th><th scope=col> t value</th><th scope=col>Pr(&gt;|t|)</th></tr>\n",
              "</thead>\n",
              "<tbody>\n",
              "\t<tr><th scope=row>mu</th><td> 0.0242</td><td>0.0206</td><td>   1.1712</td><td>0.2415</td></tr>\n",
              "\t<tr><th scope=row>omega</th><td> 0.0286</td><td>0.0021</td><td>  13.5055</td><td>0.0000</td></tr>\n",
              "\t<tr><th scope=row>alpha1</th><td>-0.0789</td><td>0.0071</td><td> -11.0606</td><td>0.0000</td></tr>\n",
              "\t<tr><th scope=row>beta1</th><td> 0.9731</td><td>0.0008</td><td>1176.9478</td><td>0.0000</td></tr>\n",
              "\t<tr><th scope=row>gamma1</th><td> 0.1347</td><td>0.0109</td><td>  12.3417</td><td>0.0000</td></tr>\n",
              "\t<tr><th scope=row>skew</th><td> 0.9035</td><td>0.0164</td><td>  55.2487</td><td>0.0000</td></tr>\n",
              "</tbody>\n",
              "</table>\n"
            ]
          },
          "metadata": {
            "tags": []
          }
        }
      ]
    },
    {
      "cell_type": "code",
      "metadata": {
        "id": "cffa8b9c-7f85-4602-ac12-0456b3314f2e",
        "colab": {
          "base_uri": "https://localhost:8080/",
          "height": 162
        },
        "outputId": "d5ff4f1b-f90b-4fa6-f13b-00e33bc6d382"
      },
      "source": [
        "# Extracting variance series from the EGARCH model\n",
        "var.egarch <- ts(egarch.fit@fit$sigma^2)\n",
        "head(var.egarch)\n",
        "\n",
        "BVSP.df$BVSP.VolEGARCH <- as.numeric(var.egarch)\n",
        "head(BVSP.df)"
      ],
      "id": "cffa8b9c-7f85-4602-ac12-0456b3314f2e",
      "execution_count": 40,
      "outputs": [
        {
          "output_type": "display_data",
          "data": {
            "text/plain": [
              "[1] 3.277192 6.399338 5.935152 5.645890 5.124696 5.032972"
            ],
            "text/latex": "\\begin{enumerate*}\n\\item 3.27719159561574\n\\item 6.3993382449057\n\\item 5.93515200422309\n\\item 5.64589047602057\n\\item 5.12469635912675\n\\item 5.03297151362565\n\\end{enumerate*}\n",
            "text/markdown": "1. 3.27719159561574\n2. 6.3993382449057\n3. 5.93515200422309\n4. 5.64589047602057\n5. 5.12469635912675\n6. 5.03297151362565\n\n\n",
            "text/html": [
              "<style>\n",
              ".list-inline {list-style: none; margin:0; padding: 0}\n",
              ".list-inline>li {display: inline-block}\n",
              ".list-inline>li:not(:last-child)::after {content: \"\\00b7\"; padding: 0 .5ex}\n",
              "</style>\n",
              "<ol class=list-inline><li>3.27719159561574</li><li>6.3993382449057</li><li>5.93515200422309</li><li>5.64589047602057</li><li>5.12469635912675</li><li>5.03297151362565</li></ol>\n"
            ]
          },
          "metadata": {
            "tags": []
          }
        },
        {
          "output_type": "display_data",
          "data": {
            "text/plain": [
              "           BVSP.Close BVSP.Return BVSP.VolGARCH BVSP.VolEGARCH\n",
              "2000-01-04      15851  -6.5854606      3.277609       3.277192\n",
              "2000-01-05      16245   2.4552579      6.298761       6.399338\n",
              "2000-01-06      16107  -0.8531209      6.177523       5.935152\n",
              "2000-01-07      16309   1.2463143      5.706156       5.645890\n",
              "2000-01-10      17022   4.2789522      5.322318       5.124696\n",
              "2000-01-11      16573  -2.6731760      6.188571       5.032972"
            ]
          },
          "metadata": {
            "tags": []
          }
        }
      ]
    },
    {
      "cell_type": "markdown",
      "metadata": {
        "id": "3f46740f-5c39-4774-9658-6fc3f087dd0a"
      },
      "source": [
        "**GJR-GARCH model**"
      ],
      "id": "3f46740f-5c39-4774-9658-6fc3f087dd0a"
    },
    {
      "cell_type": "code",
      "metadata": {
        "id": "ab68bdb5-2f9a-4efa-b9af-2cf920607b6a"
      },
      "source": [
        "# Specification \n",
        "gjrgarch.spec <- ugarchspec(variance.model = list(model = \"gjrGARCH\",\n",
        "                                                  garchOrder = c(arch_lag, garch_lag)),\n",
        "                            mean.model = list(armaOrder = c(ar_lag, ma_lag)), \n",
        "                            distribution.model = \"snorm\")\n",
        "# distribution.model = \"snorm\" => skew-normal distribution"
      ],
      "id": "ab68bdb5-2f9a-4efa-b9af-2cf920607b6a",
      "execution_count": 41,
      "outputs": []
    },
    {
      "cell_type": "code",
      "metadata": {
        "id": "bd6466b5-b0f5-44e2-9d43-2922a0f6f588",
        "colab": {
          "base_uri": "https://localhost:8080/",
          "height": 245
        },
        "outputId": "8363515a-4d67-4438-f52d-017018fe934d"
      },
      "source": [
        "# Estimation\n",
        "gjrgarch.fit <- ugarchfit(spec = gjrgarch.spec, data = BVSP.df$BVSP.Return)\n",
        "round(gjrgarch.fit@fit$matcoef, 4)"
      ],
      "id": "bd6466b5-b0f5-44e2-9d43-2922a0f6f588",
      "execution_count": 42,
      "outputs": [
        {
          "output_type": "display_data",
          "data": {
            "text/plain": [
              "        Estimate  Std. Error  t value Pr(>|t|)\n",
              "mu     0.0295    0.0207       1.4268  0.1536  \n",
              "omega  0.0792    0.0123       6.4331  0.0000  \n",
              "alpha1 0.0177    0.0066       2.6719  0.0075  \n",
              "beta1  0.9045    0.0095      95.2275  0.0000  \n",
              "gamma1 0.0985    0.0125       7.8685  0.0000  \n",
              "skew   0.9031    0.0164      54.9798  0.0000  "
            ],
            "text/latex": "A matrix: 6 × 4 of type dbl\n\\begin{tabular}{r|llll}\n  &  Estimate &  Std. Error &  t value & Pr(>\\textbar{}t\\textbar{})\\\\\n\\hline\n\tmu & 0.0295 & 0.0207 &  1.4268 & 0.1536\\\\\n\tomega & 0.0792 & 0.0123 &  6.4331 & 0.0000\\\\\n\talpha1 & 0.0177 & 0.0066 &  2.6719 & 0.0075\\\\\n\tbeta1 & 0.9045 & 0.0095 & 95.2275 & 0.0000\\\\\n\tgamma1 & 0.0985 & 0.0125 &  7.8685 & 0.0000\\\\\n\tskew & 0.9031 & 0.0164 & 54.9798 & 0.0000\\\\\n\\end{tabular}\n",
            "text/markdown": "\nA matrix: 6 × 4 of type dbl\n\n| <!--/--> |  Estimate |  Std. Error |  t value | Pr(&gt;|t|) |\n|---|---|---|---|---|\n| mu | 0.0295 | 0.0207 |  1.4268 | 0.1536 |\n| omega | 0.0792 | 0.0123 |  6.4331 | 0.0000 |\n| alpha1 | 0.0177 | 0.0066 |  2.6719 | 0.0075 |\n| beta1 | 0.9045 | 0.0095 | 95.2275 | 0.0000 |\n| gamma1 | 0.0985 | 0.0125 |  7.8685 | 0.0000 |\n| skew | 0.9031 | 0.0164 | 54.9798 | 0.0000 |\n\n",
            "text/html": [
              "<table class=\"dataframe\">\n",
              "<caption>A matrix: 6 × 4 of type dbl</caption>\n",
              "<thead>\n",
              "\t<tr><th></th><th scope=col> Estimate</th><th scope=col> Std. Error</th><th scope=col> t value</th><th scope=col>Pr(&gt;|t|)</th></tr>\n",
              "</thead>\n",
              "<tbody>\n",
              "\t<tr><th scope=row>mu</th><td>0.0295</td><td>0.0207</td><td> 1.4268</td><td>0.1536</td></tr>\n",
              "\t<tr><th scope=row>omega</th><td>0.0792</td><td>0.0123</td><td> 6.4331</td><td>0.0000</td></tr>\n",
              "\t<tr><th scope=row>alpha1</th><td>0.0177</td><td>0.0066</td><td> 2.6719</td><td>0.0075</td></tr>\n",
              "\t<tr><th scope=row>beta1</th><td>0.9045</td><td>0.0095</td><td>95.2275</td><td>0.0000</td></tr>\n",
              "\t<tr><th scope=row>gamma1</th><td>0.0985</td><td>0.0125</td><td> 7.8685</td><td>0.0000</td></tr>\n",
              "\t<tr><th scope=row>skew</th><td>0.9031</td><td>0.0164</td><td>54.9798</td><td>0.0000</td></tr>\n",
              "</tbody>\n",
              "</table>\n"
            ]
          },
          "metadata": {
            "tags": []
          }
        }
      ]
    },
    {
      "cell_type": "code",
      "metadata": {
        "id": "866a759d-f023-4e0a-9708-ad0b03378079",
        "colab": {
          "base_uri": "https://localhost:8080/",
          "height": 179
        },
        "outputId": "4d231d17-50c9-4c2b-d4da-bdd4bba70b64"
      },
      "source": [
        "# Extracting variance series from the GJR-GARCH model\n",
        "var.gjrgarch <- ts(gjrgarch.fit@fit$sigma^2)\n",
        "head(var.gjrgarch)\n",
        "\n",
        "BVSP.df$BVSP.VolGJRGARCH <- as.numeric(var.gjrgarch)\n",
        "head(BVSP.df)"
      ],
      "id": "866a759d-f023-4e0a-9708-ad0b03378079",
      "execution_count": 43,
      "outputs": [
        {
          "output_type": "display_data",
          "data": {
            "text/plain": [
              "[1] 3.277075 8.130356 7.537732 6.987840 6.426158 6.212222"
            ],
            "text/latex": "\\begin{enumerate*}\n\\item 3.27707469937323\n\\item 8.13035562904551\n\\item 7.53773241026788\n\\item 6.98784016507984\n\\item 6.42615834735767\n\\item 6.21222229562763\n\\end{enumerate*}\n",
            "text/markdown": "1. 3.27707469937323\n2. 8.13035562904551\n3. 7.53773241026788\n4. 6.98784016507984\n5. 6.42615834735767\n6. 6.21222229562763\n\n\n",
            "text/html": [
              "<style>\n",
              ".list-inline {list-style: none; margin:0; padding: 0}\n",
              ".list-inline>li {display: inline-block}\n",
              ".list-inline>li:not(:last-child)::after {content: \"\\00b7\"; padding: 0 .5ex}\n",
              "</style>\n",
              "<ol class=list-inline><li>3.27707469937323</li><li>8.13035562904551</li><li>7.53773241026788</li><li>6.98784016507984</li><li>6.42615834735767</li><li>6.21222229562763</li></ol>\n"
            ]
          },
          "metadata": {
            "tags": []
          }
        },
        {
          "output_type": "display_data",
          "data": {
            "text/plain": [
              "           BVSP.Close BVSP.Return BVSP.VolGARCH BVSP.VolEGARCH BVSP.VolGJRGARCH\n",
              "2000-01-04      15851  -6.5854606      3.277609       3.277192         3.277075\n",
              "2000-01-05      16245   2.4552579      6.298761       6.399338         8.130356\n",
              "2000-01-06      16107  -0.8531209      6.177523       5.935152         7.537732\n",
              "2000-01-07      16309   1.2463143      5.706156       5.645890         6.987840\n",
              "2000-01-10      17022   4.2789522      5.322318       5.124696         6.426158\n",
              "2000-01-11      16573  -2.6731760      6.188571       5.032972         6.212222"
            ]
          },
          "metadata": {
            "tags": []
          }
        }
      ]
    },
    {
      "cell_type": "markdown",
      "metadata": {
        "id": "30791595-f694-409c-a534-adfd13007dc8"
      },
      "source": [
        "## 7. Realized GARCH model estimation"
      ],
      "id": "30791595-f694-409c-a534-adfd13007dc8"
    },
    {
      "cell_type": "code",
      "metadata": {
        "id": "15180bd5-14f4-433e-8d95-6daf87ad72ee"
      },
      "source": [
        "# Specification\n",
        "realgarch.spec <- ugarchspec(mean.model = list(armaOrder = c(ar_lag, ma_lag),\n",
        "                                               include.mean = FALSE),\n",
        "                             variance.model = list(model = 'realGARCH',\n",
        "                                                   garchOrder = c(arch_lag, garch_lag)),\n",
        "                             distribution.model = \"snorm\")\n",
        "# distribution.model = \"snorm\" => skew-normal distribution)"
      ],
      "id": "15180bd5-14f4-433e-8d95-6daf87ad72ee",
      "execution_count": 44,
      "outputs": []
    },
    {
      "cell_type": "markdown",
      "metadata": {
        "id": "a579f920-f7b4-4ea6-b1dc-16fbfd9f5bec"
      },
      "source": [
        "**Realized Linear GARCH**"
      ],
      "id": "a579f920-f7b4-4ea6-b1dc-16fbfd9f5bec"
    },
    {
      "cell_type": "code",
      "metadata": {
        "id": "15ba614a-3479-4aeb-a0a3-f6aa302df878",
        "colab": {
          "base_uri": "https://localhost:8080/",
          "height": 335
        },
        "outputId": "6293f28b-49e4-49f2-8cb1-c4229218a0f2"
      },
      "source": [
        "# Estimation\n",
        "realgarch.fit <- ugarchfit(realgarch.spec, BVSP.df$BVSP.Return,\n",
        "                          solver = 'hybrid',\n",
        "                          realizedVol = BVSP.df$BVSP.VolGARCH)\n",
        "round(realgarch.fit@fit$matcoef, 4)"
      ],
      "id": "15ba614a-3479-4aeb-a0a3-f6aa302df878",
      "execution_count": 45,
      "outputs": [
        {
          "output_type": "display_data",
          "data": {
            "text/plain": [
              "        Estimate  Std. Error  t value Pr(>|t|)\n",
              "omega  -0.0030   0.0376       -0.0802 0.9361  \n",
              "alpha1  0.9846   0.0369       26.6937 0.0000  \n",
              "beta1   0.0279   0.0136        2.0540 0.0400  \n",
              "eta11   0.0038   0.0015        2.5567 0.0106  \n",
              "eta21   0.0031   0.0008        4.0805 0.0000  \n",
              "delta   0.9687   0.0336       28.8301 0.0000  \n",
              "lambda  0.1058   0.0010      102.8768 0.0000  \n",
              "skew    0.8949   0.0159       56.2821 0.0000  \n",
              "xi      0.0207   0.0374        0.5554 0.5786  "
            ],
            "text/latex": "A matrix: 9 × 4 of type dbl\n\\begin{tabular}{r|llll}\n  &  Estimate &  Std. Error &  t value & Pr(>\\textbar{}t\\textbar{})\\\\\n\\hline\n\tomega & -0.0030 & 0.0376 &  -0.0802 & 0.9361\\\\\n\talpha1 &  0.9846 & 0.0369 &  26.6937 & 0.0000\\\\\n\tbeta1 &  0.0279 & 0.0136 &   2.0540 & 0.0400\\\\\n\teta11 &  0.0038 & 0.0015 &   2.5567 & 0.0106\\\\\n\teta21 &  0.0031 & 0.0008 &   4.0805 & 0.0000\\\\\n\tdelta &  0.9687 & 0.0336 &  28.8301 & 0.0000\\\\\n\tlambda &  0.1058 & 0.0010 & 102.8768 & 0.0000\\\\\n\tskew &  0.8949 & 0.0159 &  56.2821 & 0.0000\\\\\n\txi &  0.0207 & 0.0374 &   0.5554 & 0.5786\\\\\n\\end{tabular}\n",
            "text/markdown": "\nA matrix: 9 × 4 of type dbl\n\n| <!--/--> |  Estimate |  Std. Error |  t value | Pr(&gt;|t|) |\n|---|---|---|---|---|\n| omega | -0.0030 | 0.0376 |  -0.0802 | 0.9361 |\n| alpha1 |  0.9846 | 0.0369 |  26.6937 | 0.0000 |\n| beta1 |  0.0279 | 0.0136 |   2.0540 | 0.0400 |\n| eta11 |  0.0038 | 0.0015 |   2.5567 | 0.0106 |\n| eta21 |  0.0031 | 0.0008 |   4.0805 | 0.0000 |\n| delta |  0.9687 | 0.0336 |  28.8301 | 0.0000 |\n| lambda |  0.1058 | 0.0010 | 102.8768 | 0.0000 |\n| skew |  0.8949 | 0.0159 |  56.2821 | 0.0000 |\n| xi |  0.0207 | 0.0374 |   0.5554 | 0.5786 |\n\n",
            "text/html": [
              "<table class=\"dataframe\">\n",
              "<caption>A matrix: 9 × 4 of type dbl</caption>\n",
              "<thead>\n",
              "\t<tr><th></th><th scope=col> Estimate</th><th scope=col> Std. Error</th><th scope=col> t value</th><th scope=col>Pr(&gt;|t|)</th></tr>\n",
              "</thead>\n",
              "<tbody>\n",
              "\t<tr><th scope=row>omega</th><td>-0.0030</td><td>0.0376</td><td> -0.0802</td><td>0.9361</td></tr>\n",
              "\t<tr><th scope=row>alpha1</th><td> 0.9846</td><td>0.0369</td><td> 26.6937</td><td>0.0000</td></tr>\n",
              "\t<tr><th scope=row>beta1</th><td> 0.0279</td><td>0.0136</td><td>  2.0540</td><td>0.0400</td></tr>\n",
              "\t<tr><th scope=row>eta11</th><td> 0.0038</td><td>0.0015</td><td>  2.5567</td><td>0.0106</td></tr>\n",
              "\t<tr><th scope=row>eta21</th><td> 0.0031</td><td>0.0008</td><td>  4.0805</td><td>0.0000</td></tr>\n",
              "\t<tr><th scope=row>delta</th><td> 0.9687</td><td>0.0336</td><td> 28.8301</td><td>0.0000</td></tr>\n",
              "\t<tr><th scope=row>lambda</th><td> 0.1058</td><td>0.0010</td><td>102.8768</td><td>0.0000</td></tr>\n",
              "\t<tr><th scope=row>skew</th><td> 0.8949</td><td>0.0159</td><td> 56.2821</td><td>0.0000</td></tr>\n",
              "\t<tr><th scope=row>xi</th><td> 0.0207</td><td>0.0374</td><td>  0.5554</td><td>0.5786</td></tr>\n",
              "</tbody>\n",
              "</table>\n"
            ]
          },
          "metadata": {
            "tags": []
          }
        }
      ]
    },
    {
      "cell_type": "code",
      "metadata": {
        "id": "35f05310-d764-4a29-895f-14a3d9333110",
        "colab": {
          "base_uri": "https://localhost:8080/",
          "height": 289
        },
        "outputId": "3aed8223-789b-4ab3-846a-7f61599247d9"
      },
      "source": [
        "# Extracting variance series from the Realized Linear GARCH model\n",
        "var.realgarch <- ts(realgarch.fit@fit$sigma^2)\n",
        "head(var.realgarch)\n",
        "\n",
        "BVSP.df$BVSP.VolRealGARCH <- as.numeric(var.realgarch)\n",
        "head(BVSP.df)"
      ],
      "id": "35f05310-d764-4a29-895f-14a3d9333110",
      "execution_count": 46,
      "outputs": [
        {
          "output_type": "display_data",
          "data": {
            "text/plain": [
              "[1] 3.278438 3.316379 6.311362 6.303794 5.829734 5.431581"
            ],
            "text/latex": "\\begin{enumerate*}\n\\item 3.27843787062093\n\\item 3.31637949171348\n\\item 6.31136181352223\n\\item 6.30379370232389\n\\item 5.82973411229058\n\\item 5.43158081366854\n\\end{enumerate*}\n",
            "text/markdown": "1. 3.27843787062093\n2. 3.31637949171348\n3. 6.31136181352223\n4. 6.30379370232389\n5. 5.82973411229058\n6. 5.43158081366854\n\n\n",
            "text/html": [
              "<style>\n",
              ".list-inline {list-style: none; margin:0; padding: 0}\n",
              ".list-inline>li {display: inline-block}\n",
              ".list-inline>li:not(:last-child)::after {content: \"\\00b7\"; padding: 0 .5ex}\n",
              "</style>\n",
              "<ol class=list-inline><li>3.27843787062093</li><li>3.31637949171348</li><li>6.31136181352223</li><li>6.30379370232389</li><li>5.82973411229058</li><li>5.43158081366854</li></ol>\n"
            ]
          },
          "metadata": {
            "tags": []
          }
        },
        {
          "output_type": "display_data",
          "data": {
            "text/plain": [
              "           BVSP.Close BVSP.Return BVSP.VolGARCH BVSP.VolEGARCH BVSP.VolGJRGARCH\n",
              "2000-01-04      15851  -6.5854606      3.277609       3.277192         3.277075\n",
              "2000-01-05      16245   2.4552579      6.298761       6.399338         8.130356\n",
              "2000-01-06      16107  -0.8531209      6.177523       5.935152         7.537732\n",
              "2000-01-07      16309   1.2463143      5.706156       5.645890         6.987840\n",
              "2000-01-10      17022   4.2789522      5.322318       5.124696         6.426158\n",
              "2000-01-11      16573  -2.6731760      6.188571       5.032972         6.212222\n",
              "           BVSP.VolRealGARCH\n",
              "2000-01-04          3.278438\n",
              "2000-01-05          3.316379\n",
              "2000-01-06          6.311362\n",
              "2000-01-07          6.303794\n",
              "2000-01-10          5.829734\n",
              "2000-01-11          5.431581"
            ]
          },
          "metadata": {
            "tags": []
          }
        }
      ]
    },
    {
      "cell_type": "markdown",
      "metadata": {
        "id": "3cac3418-86e3-40a3-b370-d044e9ffda05"
      },
      "source": [
        "**Realized EGARCH**"
      ],
      "id": "3cac3418-86e3-40a3-b370-d044e9ffda05"
    },
    {
      "cell_type": "code",
      "metadata": {
        "id": "8dab1b63-5db6-4abb-8ab3-4e49b909a386",
        "colab": {
          "base_uri": "https://localhost:8080/",
          "height": 335
        },
        "outputId": "e88e7112-07c7-4b95-ebea-1c03ece07e7f"
      },
      "source": [
        "# Estimation\n",
        "realegarch.fit <- ugarchfit(realgarch.spec, BVSP.df$BVSP.Return,\n",
        "                            solver = 'hybrid',\n",
        "                            realizedVol = BVSP.df$BVSP.VolEGARCH)\n",
        "round(realegarch.fit@fit$matcoef, 4)"
      ],
      "id": "8dab1b63-5db6-4abb-8ab3-4e49b909a386",
      "execution_count": 47,
      "outputs": [
        {
          "output_type": "display_data",
          "data": {
            "text/plain": [
              "        Estimate  Std. Error  t value Pr(>|t|)\n",
              "omega  0.0127    0.0352        0.3616 0.7177  \n",
              "alpha1 0.9788    0.0344       28.4835 0.0000  \n",
              "beta1  0.0201    0.0137        1.4728 0.1408  \n",
              "eta11  0.0036    0.0017        2.1494 0.0316  \n",
              "eta21  0.0051    0.0009        5.8745 0.0000  \n",
              "delta  0.9770    0.0313       31.1640 0.0000  \n",
              "lambda 0.1208    0.0012      102.8753 0.0000  \n",
              "skew   0.8998    0.0160       56.1440 0.0000  \n",
              "xi     0.0097    0.0354        0.2738 0.7842  "
            ],
            "text/latex": "A matrix: 9 × 4 of type dbl\n\\begin{tabular}{r|llll}\n  &  Estimate &  Std. Error &  t value & Pr(>\\textbar{}t\\textbar{})\\\\\n\\hline\n\tomega & 0.0127 & 0.0352 &   0.3616 & 0.7177\\\\\n\talpha1 & 0.9788 & 0.0344 &  28.4835 & 0.0000\\\\\n\tbeta1 & 0.0201 & 0.0137 &   1.4728 & 0.1408\\\\\n\teta11 & 0.0036 & 0.0017 &   2.1494 & 0.0316\\\\\n\teta21 & 0.0051 & 0.0009 &   5.8745 & 0.0000\\\\\n\tdelta & 0.9770 & 0.0313 &  31.1640 & 0.0000\\\\\n\tlambda & 0.1208 & 0.0012 & 102.8753 & 0.0000\\\\\n\tskew & 0.8998 & 0.0160 &  56.1440 & 0.0000\\\\\n\txi & 0.0097 & 0.0354 &   0.2738 & 0.7842\\\\\n\\end{tabular}\n",
            "text/markdown": "\nA matrix: 9 × 4 of type dbl\n\n| <!--/--> |  Estimate |  Std. Error |  t value | Pr(&gt;|t|) |\n|---|---|---|---|---|\n| omega | 0.0127 | 0.0352 |   0.3616 | 0.7177 |\n| alpha1 | 0.9788 | 0.0344 |  28.4835 | 0.0000 |\n| beta1 | 0.0201 | 0.0137 |   1.4728 | 0.1408 |\n| eta11 | 0.0036 | 0.0017 |   2.1494 | 0.0316 |\n| eta21 | 0.0051 | 0.0009 |   5.8745 | 0.0000 |\n| delta | 0.9770 | 0.0313 |  31.1640 | 0.0000 |\n| lambda | 0.1208 | 0.0012 | 102.8753 | 0.0000 |\n| skew | 0.8998 | 0.0160 |  56.1440 | 0.0000 |\n| xi | 0.0097 | 0.0354 |   0.2738 | 0.7842 |\n\n",
            "text/html": [
              "<table class=\"dataframe\">\n",
              "<caption>A matrix: 9 × 4 of type dbl</caption>\n",
              "<thead>\n",
              "\t<tr><th></th><th scope=col> Estimate</th><th scope=col> Std. Error</th><th scope=col> t value</th><th scope=col>Pr(&gt;|t|)</th></tr>\n",
              "</thead>\n",
              "<tbody>\n",
              "\t<tr><th scope=row>omega</th><td>0.0127</td><td>0.0352</td><td>  0.3616</td><td>0.7177</td></tr>\n",
              "\t<tr><th scope=row>alpha1</th><td>0.9788</td><td>0.0344</td><td> 28.4835</td><td>0.0000</td></tr>\n",
              "\t<tr><th scope=row>beta1</th><td>0.0201</td><td>0.0137</td><td>  1.4728</td><td>0.1408</td></tr>\n",
              "\t<tr><th scope=row>eta11</th><td>0.0036</td><td>0.0017</td><td>  2.1494</td><td>0.0316</td></tr>\n",
              "\t<tr><th scope=row>eta21</th><td>0.0051</td><td>0.0009</td><td>  5.8745</td><td>0.0000</td></tr>\n",
              "\t<tr><th scope=row>delta</th><td>0.9770</td><td>0.0313</td><td> 31.1640</td><td>0.0000</td></tr>\n",
              "\t<tr><th scope=row>lambda</th><td>0.1208</td><td>0.0012</td><td>102.8753</td><td>0.0000</td></tr>\n",
              "\t<tr><th scope=row>skew</th><td>0.8998</td><td>0.0160</td><td> 56.1440</td><td>0.0000</td></tr>\n",
              "\t<tr><th scope=row>xi</th><td>0.0097</td><td>0.0354</td><td>  0.2738</td><td>0.7842</td></tr>\n",
              "</tbody>\n",
              "</table>\n"
            ]
          },
          "metadata": {
            "tags": []
          }
        }
      ]
    },
    {
      "cell_type": "code",
      "metadata": {
        "id": "8888b518-3a21-47ca-9f66-8cb6a20c7a0d",
        "colab": {
          "base_uri": "https://localhost:8080/",
          "height": 306
        },
        "outputId": "82a37898-2d17-4492-9254-b4b252f74c30"
      },
      "source": [
        "# Extracting variance series from the Realized EGARCH model\n",
        "var.realegarch <- ts(realegarch.fit@fit$sigma^2)\n",
        "head(var.realegarch)\n",
        "\n",
        "BVSP.df$BVSP.VolRealEGARCH <- as.numeric(var.realegarch)\n",
        "head(BVSP.df)"
      ],
      "id": "8888b518-3a21-47ca-9f66-8cb6a20c7a0d",
      "execution_count": 48,
      "outputs": [
        {
          "output_type": "display_data",
          "data": {
            "text/plain": [
              "[1] 3.278438 3.314794 6.382861 6.007974 5.714271 5.192206"
            ],
            "text/latex": "\\begin{enumerate*}\n\\item 3.27843787062093\n\\item 3.31479367092362\n\\item 6.38286149820586\n\\item 6.00797419930896\n\\item 5.71427090244263\n\\item 5.19220633974007\n\\end{enumerate*}\n",
            "text/markdown": "1. 3.27843787062093\n2. 3.31479367092362\n3. 6.38286149820586\n4. 6.00797419930896\n5. 5.71427090244263\n6. 5.19220633974007\n\n\n",
            "text/html": [
              "<style>\n",
              ".list-inline {list-style: none; margin:0; padding: 0}\n",
              ".list-inline>li {display: inline-block}\n",
              ".list-inline>li:not(:last-child)::after {content: \"\\00b7\"; padding: 0 .5ex}\n",
              "</style>\n",
              "<ol class=list-inline><li>3.27843787062093</li><li>3.31479367092362</li><li>6.38286149820586</li><li>6.00797419930896</li><li>5.71427090244263</li><li>5.19220633974007</li></ol>\n"
            ]
          },
          "metadata": {
            "tags": []
          }
        },
        {
          "output_type": "display_data",
          "data": {
            "text/plain": [
              "           BVSP.Close BVSP.Return BVSP.VolGARCH BVSP.VolEGARCH BVSP.VolGJRGARCH\n",
              "2000-01-04      15851  -6.5854606      3.277609       3.277192         3.277075\n",
              "2000-01-05      16245   2.4552579      6.298761       6.399338         8.130356\n",
              "2000-01-06      16107  -0.8531209      6.177523       5.935152         7.537732\n",
              "2000-01-07      16309   1.2463143      5.706156       5.645890         6.987840\n",
              "2000-01-10      17022   4.2789522      5.322318       5.124696         6.426158\n",
              "2000-01-11      16573  -2.6731760      6.188571       5.032972         6.212222\n",
              "           BVSP.VolRealGARCH BVSP.VolRealEGARCH\n",
              "2000-01-04          3.278438           3.278438\n",
              "2000-01-05          3.316379           3.314794\n",
              "2000-01-06          6.311362           6.382861\n",
              "2000-01-07          6.303794           6.007974\n",
              "2000-01-10          5.829734           5.714271\n",
              "2000-01-11          5.431581           5.192206"
            ]
          },
          "metadata": {
            "tags": []
          }
        }
      ]
    },
    {
      "cell_type": "markdown",
      "metadata": {
        "id": "84982d7c-c0eb-404c-b399-e720fb9281cf"
      },
      "source": [
        "**Realized GJR-GARCH**"
      ],
      "id": "84982d7c-c0eb-404c-b399-e720fb9281cf"
    },
    {
      "cell_type": "code",
      "metadata": {
        "id": "9fbe16e5-06c5-4329-ac4e-cd097521e0fe",
        "colab": {
          "base_uri": "https://localhost:8080/",
          "height": 335
        },
        "outputId": "cb017c7c-89b3-4214-816d-db82aed50668"
      },
      "source": [
        "# Estimation\n",
        "realgjrgarch.fit <- ugarchfit(realgarch.spec, BVSP.df$BVSP.Return,\n",
        "                              solver = 'hybrid',\n",
        "                              realizedVol = BVSP.df$BVSP.VolGJRGARCH)\n",
        "round(realgjrgarch.fit@fit$matcoef, 4)"
      ],
      "id": "9fbe16e5-06c5-4329-ac4e-cd097521e0fe",
      "execution_count": 49,
      "outputs": [
        {
          "output_type": "display_data",
          "data": {
            "text/plain": [
              "        Estimate  Std. Error  t value Pr(>|t|)\n",
              "omega  0.0206    0.0368        0.5589 0.5762  \n",
              "alpha1 0.9775    0.0361       27.0846 0.0000  \n",
              "beta1  0.0110    0.0136        0.8123 0.4166  \n",
              "eta11  0.0039    0.0017        2.2715 0.0231  \n",
              "eta21  0.0046    0.0009        5.1194 0.0000  \n",
              "delta  0.9871    0.0337       29.2839 0.0000  \n",
              "lambda 0.1231    0.0012      102.8760 0.0000  \n",
              "skew   0.8990    0.0161       55.7879 0.0000  \n",
              "xi     0.0020    0.0374        0.0541 0.9569  "
            ],
            "text/latex": "A matrix: 9 × 4 of type dbl\n\\begin{tabular}{r|llll}\n  &  Estimate &  Std. Error &  t value & Pr(>\\textbar{}t\\textbar{})\\\\\n\\hline\n\tomega & 0.0206 & 0.0368 &   0.5589 & 0.5762\\\\\n\talpha1 & 0.9775 & 0.0361 &  27.0846 & 0.0000\\\\\n\tbeta1 & 0.0110 & 0.0136 &   0.8123 & 0.4166\\\\\n\teta11 & 0.0039 & 0.0017 &   2.2715 & 0.0231\\\\\n\teta21 & 0.0046 & 0.0009 &   5.1194 & 0.0000\\\\\n\tdelta & 0.9871 & 0.0337 &  29.2839 & 0.0000\\\\\n\tlambda & 0.1231 & 0.0012 & 102.8760 & 0.0000\\\\\n\tskew & 0.8990 & 0.0161 &  55.7879 & 0.0000\\\\\n\txi & 0.0020 & 0.0374 &   0.0541 & 0.9569\\\\\n\\end{tabular}\n",
            "text/markdown": "\nA matrix: 9 × 4 of type dbl\n\n| <!--/--> |  Estimate |  Std. Error |  t value | Pr(&gt;|t|) |\n|---|---|---|---|---|\n| omega | 0.0206 | 0.0368 |   0.5589 | 0.5762 |\n| alpha1 | 0.9775 | 0.0361 |  27.0846 | 0.0000 |\n| beta1 | 0.0110 | 0.0136 |   0.8123 | 0.4166 |\n| eta11 | 0.0039 | 0.0017 |   2.2715 | 0.0231 |\n| eta21 | 0.0046 | 0.0009 |   5.1194 | 0.0000 |\n| delta | 0.9871 | 0.0337 |  29.2839 | 0.0000 |\n| lambda | 0.1231 | 0.0012 | 102.8760 | 0.0000 |\n| skew | 0.8990 | 0.0161 |  55.7879 | 0.0000 |\n| xi | 0.0020 | 0.0374 |   0.0541 | 0.9569 |\n\n",
            "text/html": [
              "<table class=\"dataframe\">\n",
              "<caption>A matrix: 9 × 4 of type dbl</caption>\n",
              "<thead>\n",
              "\t<tr><th></th><th scope=col> Estimate</th><th scope=col> Std. Error</th><th scope=col> t value</th><th scope=col>Pr(&gt;|t|)</th></tr>\n",
              "</thead>\n",
              "<tbody>\n",
              "\t<tr><th scope=row>omega</th><td>0.0206</td><td>0.0368</td><td>  0.5589</td><td>0.5762</td></tr>\n",
              "\t<tr><th scope=row>alpha1</th><td>0.9775</td><td>0.0361</td><td> 27.0846</td><td>0.0000</td></tr>\n",
              "\t<tr><th scope=row>beta1</th><td>0.0110</td><td>0.0136</td><td>  0.8123</td><td>0.4166</td></tr>\n",
              "\t<tr><th scope=row>eta11</th><td>0.0039</td><td>0.0017</td><td>  2.2715</td><td>0.0231</td></tr>\n",
              "\t<tr><th scope=row>eta21</th><td>0.0046</td><td>0.0009</td><td>  5.1194</td><td>0.0000</td></tr>\n",
              "\t<tr><th scope=row>delta</th><td>0.9871</td><td>0.0337</td><td> 29.2839</td><td>0.0000</td></tr>\n",
              "\t<tr><th scope=row>lambda</th><td>0.1231</td><td>0.0012</td><td>102.8760</td><td>0.0000</td></tr>\n",
              "\t<tr><th scope=row>skew</th><td>0.8990</td><td>0.0161</td><td> 55.7879</td><td>0.0000</td></tr>\n",
              "\t<tr><th scope=row>xi</th><td>0.0020</td><td>0.0374</td><td>  0.0541</td><td>0.9569</td></tr>\n",
              "</tbody>\n",
              "</table>\n"
            ]
          },
          "metadata": {
            "tags": []
          }
        }
      ]
    },
    {
      "cell_type": "code",
      "metadata": {
        "id": "72de108a-b473-4d76-9dc5-c1ae251113eb",
        "colab": {
          "base_uri": "https://localhost:8080/",
          "height": 289
        },
        "outputId": "a9f70fe3-9e1c-4af4-ea38-557953e189eb"
      },
      "source": [
        "# Extracting variance series from the Realized GJR-GARCH model\n",
        "var.realgjrgarch <- ts(realgjrgarch.fit@fit$sigma^2)\n",
        "head(var.realgjrgarch)\n",
        "\n",
        "BVSP.df$BVSP.VolRealGJRGARCH <- as.numeric(var.realgjrgarch)\n",
        "head(BVSP.df)"
      ],
      "id": "72de108a-b473-4d76-9dc5-c1ae251113eb",
      "execution_count": 50,
      "outputs": [
        {
          "output_type": "display_data",
          "data": {
            "text/plain": [
              "[1] 3.278438 3.300075 8.022242 7.523652 6.981738 6.427358"
            ],
            "text/latex": "\\begin{enumerate*}\n\\item 3.27843787062093\n\\item 3.30007452315401\n\\item 8.022241889248\n\\item 7.52365154246756\n\\item 6.981738267716\n\\item 6.42735834522221\n\\end{enumerate*}\n",
            "text/markdown": "1. 3.27843787062093\n2. 3.30007452315401\n3. 8.022241889248\n4. 7.52365154246756\n5. 6.981738267716\n6. 6.42735834522221\n\n\n",
            "text/html": [
              "<style>\n",
              ".list-inline {list-style: none; margin:0; padding: 0}\n",
              ".list-inline>li {display: inline-block}\n",
              ".list-inline>li:not(:last-child)::after {content: \"\\00b7\"; padding: 0 .5ex}\n",
              "</style>\n",
              "<ol class=list-inline><li>3.27843787062093</li><li>3.30007452315401</li><li>8.022241889248</li><li>7.52365154246756</li><li>6.981738267716</li><li>6.42735834522221</li></ol>\n"
            ]
          },
          "metadata": {
            "tags": []
          }
        },
        {
          "output_type": "display_data",
          "data": {
            "text/plain": [
              "           BVSP.Close BVSP.Return BVSP.VolGARCH BVSP.VolEGARCH BVSP.VolGJRGARCH\n",
              "2000-01-04      15851  -6.5854606      3.277609       3.277192         3.277075\n",
              "2000-01-05      16245   2.4552579      6.298761       6.399338         8.130356\n",
              "2000-01-06      16107  -0.8531209      6.177523       5.935152         7.537732\n",
              "2000-01-07      16309   1.2463143      5.706156       5.645890         6.987840\n",
              "2000-01-10      17022   4.2789522      5.322318       5.124696         6.426158\n",
              "2000-01-11      16573  -2.6731760      6.188571       5.032972         6.212222\n",
              "           BVSP.VolRealGARCH BVSP.VolRealEGARCH BVSP.VolRealGJRGARCH\n",
              "2000-01-04          3.278438           3.278438             3.278438\n",
              "2000-01-05          3.316379           3.314794             3.300075\n",
              "2000-01-06          6.311362           6.382861             8.022242\n",
              "2000-01-07          6.303794           6.007974             7.523652\n",
              "2000-01-10          5.829734           5.714271             6.981738\n",
              "2000-01-11          5.431581           5.192206             6.427358"
            ]
          },
          "metadata": {
            "tags": []
          }
        }
      ]
    },
    {
      "cell_type": "markdown",
      "metadata": {
        "id": "735d096c-8ec1-4d3a-a1d9-b7174e560beb"
      },
      "source": [
        "## 8. Markov-Switching GARCH estimation"
      ],
      "id": "735d096c-8ec1-4d3a-a1d9-b7174e560beb"
    },
    {
      "cell_type": "code",
      "metadata": {
        "id": "9ea73810-e857-41db-82fd-a2e4dd54c754",
        "colab": {
          "base_uri": "https://localhost:8080/"
        },
        "outputId": "ca32a84c-4dee-47e2-8916-b3afda76ce43"
      },
      "source": [
        "# Packages\n",
        "install.packages('MSGARCH')\n",
        "\n",
        "library(MSGARCH)"
      ],
      "id": "9ea73810-e857-41db-82fd-a2e4dd54c754",
      "execution_count": 51,
      "outputs": [
        {
          "output_type": "stream",
          "text": [
            "Installing package into ‘/usr/local/lib/R/site-library’\n",
            "(as ‘lib’ is unspecified)\n",
            "\n",
            "also installing the dependencies ‘coda’, ‘expm’, ‘fanplot’\n",
            "\n",
            "\n"
          ],
          "name": "stderr"
        }
      ]
    },
    {
      "cell_type": "markdown",
      "metadata": {
        "id": "ef3e18a9-c620-446e-b3cd-d5d20cf98832"
      },
      "source": [
        "2 regimes: low volatility and high volatility"
      ],
      "id": "ef3e18a9-c620-446e-b3cd-d5d20cf98832"
    },
    {
      "cell_type": "markdown",
      "metadata": {
        "id": "0nhstzdv_IBM"
      },
      "source": [
        "**Linear MS GARCH**"
      ],
      "id": "0nhstzdv_IBM"
    },
    {
      "cell_type": "code",
      "metadata": {
        "id": "a31f362b-be2d-4084-85cc-fd43b95ba2cf"
      },
      "source": [
        "# Specification\n",
        "msgarch.spec <- CreateSpec(variance.spec = list(model = c(\"sGARCH\")),\n",
        "                           distribution.spec = list(distribution = c(\"snorm\")),\n",
        "                           switch.spec = list(K = 2))"
      ],
      "id": "a31f362b-be2d-4084-85cc-fd43b95ba2cf",
      "execution_count": 52,
      "outputs": []
    },
    {
      "cell_type": "code",
      "metadata": {
        "id": "v0OrYkGOTGnf",
        "colab": {
          "base_uri": "https://localhost:8080/"
        },
        "outputId": "91da509b-0cab-42d6-ad2c-9f9832a7341a"
      },
      "source": [
        "# Brazil\n",
        "msgarch.fit <- FitML(msgarch.spec, data = BVSP.df$BVSP.Return)    \n",
        "summary(msgarch.fit)"
      ],
      "id": "v0OrYkGOTGnf",
      "execution_count": 53,
      "outputs": [
        {
          "output_type": "stream",
          "text": [
            "Specification type: Markov-switching\n",
            "Specification name: sGARCH_snorm sGARCH_snorm\n",
            "Number of parameters in each variance model: 3 3\n",
            "Number of parameters in each distribution: 1 1\n",
            "------------------------------------------\n",
            "Fixed parameters:\n",
            "None\n",
            "------------------------------------------\n",
            "Across regime constrained parameters:\n",
            "None\n",
            "------------------------------------------\n",
            "Fitted parameters:\n",
            "         Estimate Std. Error  t value  Pr(>|t|)\n",
            "alpha0_1   0.0351     0.0101   3.4763 2.542e-04\n",
            "alpha1_1   0.0502     0.0130   3.8659 5.534e-05\n",
            "beta_1     0.9298     0.0040 232.3847    <1e-16\n",
            "xi_1       0.9351     0.0212  44.1838    <1e-16\n",
            "alpha0_2   1.4578     0.9263   1.5739 5.776e-02\n",
            "alpha1_2   0.2163     0.5752   0.3760 3.535e-01\n",
            "beta_2     0.7704     0.0416  18.5273    <1e-16\n",
            "xi_2       0.7102     0.1176   6.0396 7.724e-10\n",
            "P_1_1      0.9776     0.2614   3.7404 9.185e-05\n",
            "P_2_1      0.5015     0.0241  20.7953    <1e-16\n",
            "------------------------------------------\n",
            "Transition matrix:\n",
            "      t+1|k=1 t+1|k=2\n",
            "t|k=1  0.9776  0.0224\n",
            "t|k=2  0.5015  0.4985\n",
            "------------------------------------------\n",
            "Stable probabilities:\n",
            "State 1 State 2 \n",
            " 0.9573  0.0427 \n",
            "------------------------------------------\n",
            "LL: -9968.4847\n",
            "AIC: 19956.9693\n",
            "BIC: 20022.7089\n",
            "------------------------------------------\n"
          ],
          "name": "stdout"
        }
      ]
    },
    {
      "cell_type": "code",
      "metadata": {
        "id": "Bg9ZdxIiTUr7",
        "colab": {
          "base_uri": "https://localhost:8080/",
          "height": 434
        },
        "outputId": "89edd521-75bc-4a0d-d69c-52bb76c76e8c"
      },
      "source": [
        "# Extracting variance series from the MS GARCH model\n",
        "var.msgarch <- ts(Volatility(msgarch.fit))\n",
        "head(var.msgarch)\n",
        "\n",
        "BVSP.df$BVSP.VolMSGARCH <- as.numeric(var.msgarch)\n",
        "head(BVSP.df)"
      ],
      "id": "Bg9ZdxIiTUr7",
      "execution_count": 54,
      "outputs": [
        {
          "output_type": "display_data",
          "data": {
            "text/plain": [
              "     t=1      t=2      t=3      t=4      t=5      t=6 \n",
              "2.519228 2.781641 2.483674 2.274973 2.173013 2.625170 "
            ],
            "text/latex": "\\begin{description*}\n\\item[t=1] 2.51922776459328\n\\item[t=2] 2.78164069918073\n\\item[t=3] 2.48367399201081\n\\item[t=4] 2.27497323163924\n\\item[t=5] 2.17301276291749\n\\item[t=6] 2.6251695687892\n\\end{description*}\n",
            "text/markdown": "t=1\n:   2.51922776459328t=2\n:   2.78164069918073t=3\n:   2.48367399201081t=4\n:   2.27497323163924t=5\n:   2.17301276291749t=6\n:   2.6251695687892\n\n",
            "text/html": [
              "<style>\n",
              ".dl-inline {width: auto; margin:0; padding: 0}\n",
              ".dl-inline>dt, .dl-inline>dd {float: none; width: auto; display: inline-block}\n",
              ".dl-inline>dt::after {content: \":\\0020\"; padding-right: .5ex}\n",
              ".dl-inline>dt:not(:first-of-type) {padding-left: .5ex}\n",
              "</style><dl class=dl-inline><dt>t=1</dt><dd>2.51922776459328</dd><dt>t=2</dt><dd>2.78164069918073</dd><dt>t=3</dt><dd>2.48367399201081</dd><dt>t=4</dt><dd>2.27497323163924</dd><dt>t=5</dt><dd>2.17301276291749</dd><dt>t=6</dt><dd>2.6251695687892</dd></dl>\n"
            ]
          },
          "metadata": {
            "tags": []
          }
        },
        {
          "output_type": "display_data",
          "data": {
            "text/plain": [
              "           BVSP.Close BVSP.Return BVSP.VolGARCH BVSP.VolEGARCH BVSP.VolGJRGARCH\n",
              "2000-01-04      15851  -6.5854606      3.277609       3.277192         3.277075\n",
              "2000-01-05      16245   2.4552579      6.298761       6.399338         8.130356\n",
              "2000-01-06      16107  -0.8531209      6.177523       5.935152         7.537732\n",
              "2000-01-07      16309   1.2463143      5.706156       5.645890         6.987840\n",
              "2000-01-10      17022   4.2789522      5.322318       5.124696         6.426158\n",
              "2000-01-11      16573  -2.6731760      6.188571       5.032972         6.212222\n",
              "           BVSP.VolRealGARCH BVSP.VolRealEGARCH BVSP.VolRealGJRGARCH\n",
              "2000-01-04          3.278438           3.278438             3.278438\n",
              "2000-01-05          3.316379           3.314794             3.300075\n",
              "2000-01-06          6.311362           6.382861             8.022242\n",
              "2000-01-07          6.303794           6.007974             7.523652\n",
              "2000-01-10          5.829734           5.714271             6.981738\n",
              "2000-01-11          5.431581           5.192206             6.427358\n",
              "           BVSP.VolMSGARCH\n",
              "2000-01-04        2.519228\n",
              "2000-01-05        2.781641\n",
              "2000-01-06        2.483674\n",
              "2000-01-07        2.274973\n",
              "2000-01-10        2.173013\n",
              "2000-01-11        2.625170"
            ]
          },
          "metadata": {
            "tags": []
          }
        }
      ]
    },
    {
      "cell_type": "markdown",
      "metadata": {
        "id": "jDyeAzbaUZGK"
      },
      "source": [
        "**MS EGARCH**"
      ],
      "id": "jDyeAzbaUZGK"
    },
    {
      "cell_type": "code",
      "metadata": {
        "id": "OJ_1-NOIUduu"
      },
      "source": [
        "# Specification\n",
        "msegarch.spec <- CreateSpec(variance.spec = list(model = c(\"eGARCH\")),\n",
        "                            distribution.spec = list(distribution = c(\"snorm\")),\n",
        "                            switch.spec = list(K = 2))"
      ],
      "id": "OJ_1-NOIUduu",
      "execution_count": 55,
      "outputs": []
    },
    {
      "cell_type": "code",
      "metadata": {
        "id": "QZBzDVNzUgcq",
        "colab": {
          "base_uri": "https://localhost:8080/"
        },
        "outputId": "0b50e81a-594b-40dc-b84a-9db23a052c90"
      },
      "source": [
        "# Estimation\n",
        "msegarch.fit <- FitML(msegarch.spec, data = BVSP.df$BVSP.Return)    \n",
        "summary(msegarch.fit)"
      ],
      "id": "QZBzDVNzUgcq",
      "execution_count": 56,
      "outputs": [
        {
          "output_type": "stream",
          "text": [
            "Specification type: Markov-switching\n",
            "Specification name: eGARCH_snorm eGARCH_snorm\n",
            "Number of parameters in each variance model: 4 4\n",
            "Number of parameters in each distribution: 1 1\n",
            "------------------------------------------\n",
            "Fixed parameters:\n",
            "None\n",
            "------------------------------------------\n",
            "Across regime constrained parameters:\n",
            "None\n",
            "------------------------------------------\n",
            "Fitted parameters:\n",
            "         Estimate Std. Error  t value  Pr(>|t|)\n",
            "alpha0_1   0.0102     0.0033   3.1312 8.704e-04\n",
            "alpha1_1   0.0732     0.0118   6.1960 2.895e-10\n",
            "alpha2_1  -0.0561     0.0078  -7.2196 2.608e-13\n",
            "beta_1     0.9859     0.0033 299.0567    <1e-16\n",
            "xi_1       0.9253     0.0210  44.0053    <1e-16\n",
            "alpha0_2   0.1211     0.0343   3.5286 2.089e-04\n",
            "alpha1_2   0.0511     0.0376   1.3584 8.716e-02\n",
            "alpha2_2  -0.2282     0.0499  -4.5724 2.410e-06\n",
            "beta_2     0.9506     0.0155  61.3541    <1e-16\n",
            "xi_2       0.8898     0.0717  12.4103    <1e-16\n",
            "P_1_1      0.9910     0.0403  24.5829    <1e-16\n",
            "P_2_1      0.1132     0.0036  31.0695    <1e-16\n",
            "------------------------------------------\n",
            "Transition matrix:\n",
            "      t+1|k=1 t+1|k=2\n",
            "t|k=1  0.9910  0.0090\n",
            "t|k=2  0.1132  0.8868\n",
            "------------------------------------------\n",
            "Stable probabilities:\n",
            "State 1 State 2 \n",
            " 0.9267  0.0733 \n",
            "------------------------------------------\n",
            "LL: -9924.3289\n",
            "AIC: 19872.6579\n",
            "BIC: 19951.5453\n",
            "------------------------------------------\n"
          ],
          "name": "stdout"
        }
      ]
    },
    {
      "cell_type": "code",
      "metadata": {
        "id": "RTicDPi3U_ux",
        "colab": {
          "base_uri": "https://localhost:8080/",
          "height": 434
        },
        "outputId": "2ea8202c-7b2b-4f9e-aa54-3acd077edd51"
      },
      "source": [
        "# Extracting variance series from the MS EGARCH model\n",
        "var.msegarch <- ts(Volatility(msegarch.fit))\n",
        "head(var.msegarch)\n",
        "\n",
        "BVSP.df$BVSP.VolMSEGARCH <- as.numeric(var.msegarch)\n",
        "head(BVSP.df)"
      ],
      "id": "RTicDPi3U_ux",
      "execution_count": 57,
      "outputs": [
        {
          "output_type": "display_data",
          "data": {
            "text/plain": [
              "     t=1      t=2      t=3      t=4      t=5      t=6 \n",
              "1.663138 2.160653 2.058091 1.965085 1.869909 2.045523 "
            ],
            "text/latex": "\\begin{description*}\n\\item[t=1] 1.66313767115401\n\\item[t=2] 2.16065315217934\n\\item[t=3] 2.05809054639506\n\\item[t=4] 1.96508483293997\n\\item[t=5] 1.86990877154415\n\\item[t=6] 2.0455227421788\n\\end{description*}\n",
            "text/markdown": "t=1\n:   1.66313767115401t=2\n:   2.16065315217934t=3\n:   2.05809054639506t=4\n:   1.96508483293997t=5\n:   1.86990877154415t=6\n:   2.0455227421788\n\n",
            "text/html": [
              "<style>\n",
              ".dl-inline {width: auto; margin:0; padding: 0}\n",
              ".dl-inline>dt, .dl-inline>dd {float: none; width: auto; display: inline-block}\n",
              ".dl-inline>dt::after {content: \":\\0020\"; padding-right: .5ex}\n",
              ".dl-inline>dt:not(:first-of-type) {padding-left: .5ex}\n",
              "</style><dl class=dl-inline><dt>t=1</dt><dd>1.66313767115401</dd><dt>t=2</dt><dd>2.16065315217934</dd><dt>t=3</dt><dd>2.05809054639506</dd><dt>t=4</dt><dd>1.96508483293997</dd><dt>t=5</dt><dd>1.86990877154415</dd><dt>t=6</dt><dd>2.0455227421788</dd></dl>\n"
            ]
          },
          "metadata": {
            "tags": []
          }
        },
        {
          "output_type": "display_data",
          "data": {
            "text/plain": [
              "           BVSP.Close BVSP.Return BVSP.VolGARCH BVSP.VolEGARCH BVSP.VolGJRGARCH\n",
              "2000-01-04      15851  -6.5854606      3.277609       3.277192         3.277075\n",
              "2000-01-05      16245   2.4552579      6.298761       6.399338         8.130356\n",
              "2000-01-06      16107  -0.8531209      6.177523       5.935152         7.537732\n",
              "2000-01-07      16309   1.2463143      5.706156       5.645890         6.987840\n",
              "2000-01-10      17022   4.2789522      5.322318       5.124696         6.426158\n",
              "2000-01-11      16573  -2.6731760      6.188571       5.032972         6.212222\n",
              "           BVSP.VolRealGARCH BVSP.VolRealEGARCH BVSP.VolRealGJRGARCH\n",
              "2000-01-04          3.278438           3.278438             3.278438\n",
              "2000-01-05          3.316379           3.314794             3.300075\n",
              "2000-01-06          6.311362           6.382861             8.022242\n",
              "2000-01-07          6.303794           6.007974             7.523652\n",
              "2000-01-10          5.829734           5.714271             6.981738\n",
              "2000-01-11          5.431581           5.192206             6.427358\n",
              "           BVSP.VolMSGARCH BVSP.VolMSEGARCH\n",
              "2000-01-04        2.519228         1.663138\n",
              "2000-01-05        2.781641         2.160653\n",
              "2000-01-06        2.483674         2.058091\n",
              "2000-01-07        2.274973         1.965085\n",
              "2000-01-10        2.173013         1.869909\n",
              "2000-01-11        2.625170         2.045523"
            ]
          },
          "metadata": {
            "tags": []
          }
        }
      ]
    },
    {
      "cell_type": "markdown",
      "metadata": {
        "id": "lA_6nowOVjc3"
      },
      "source": [
        "**MS GJR-GARCH**"
      ],
      "id": "lA_6nowOVjc3"
    },
    {
      "cell_type": "code",
      "metadata": {
        "id": "hnpt-SDyVmC3"
      },
      "source": [
        "# Specification\n",
        "msgjrgarch.spec <- CreateSpec(variance.spec = list(model = c(\"gjrGARCH\")),\n",
        "                              distribution.spec = list(distribution = c(\"snorm\")),\n",
        "                              switch.spec = list(K = 2))"
      ],
      "id": "hnpt-SDyVmC3",
      "execution_count": 58,
      "outputs": []
    },
    {
      "cell_type": "code",
      "metadata": {
        "id": "KkskZPFCVoPK",
        "colab": {
          "base_uri": "https://localhost:8080/"
        },
        "outputId": "6ed4fb17-4f6e-4f09-f683-26b29da72a47"
      },
      "source": [
        "# Estimation\n",
        "msgjrgarch.fit <- FitML(msgjrgarch.spec, data = BVSP.df$BVSP.Return)    \n",
        "summary(msgjrgarch.fit)"
      ],
      "id": "KkskZPFCVoPK",
      "execution_count": 59,
      "outputs": [
        {
          "output_type": "stream",
          "text": [
            "Specification type: Markov-switching\n",
            "Specification name: gjrGARCH_snorm gjrGARCH_snorm\n",
            "Number of parameters in each variance model: 4 4\n",
            "Number of parameters in each distribution: 1 1\n",
            "------------------------------------------\n",
            "Fixed parameters:\n",
            "None\n",
            "------------------------------------------\n",
            "Across regime constrained parameters:\n",
            "None\n",
            "------------------------------------------\n",
            "Fitted parameters:\n",
            "         Estimate Std. Error  t value  Pr(>|t|)\n",
            "alpha0_1   0.0105     0.0173   0.6047 2.727e-01\n",
            "alpha1_1   0.0197     0.0089   2.2172 1.330e-02\n",
            "alpha2_1   0.0646     0.0286   2.2551 1.206e-02\n",
            "beta_1     0.9328     0.0064 145.4129    <1e-16\n",
            "xi_1       0.9876     0.0448  22.0612    <1e-16\n",
            "alpha0_2   0.8856     0.4686   1.8899 2.939e-02\n",
            "alpha1_2   0.0000     0.0002   0.0837 4.666e-01\n",
            "alpha2_2   0.4893     0.2485   1.9685 2.450e-02\n",
            "beta_2     0.6459     0.0663   9.7420    <1e-16\n",
            "xi_2       0.7347     0.0578  12.7126    <1e-16\n",
            "P_1_1      0.6567     0.0030 215.9706    <1e-16\n",
            "P_2_1      0.9965     9.3859   0.1062 4.577e-01\n",
            "------------------------------------------\n",
            "Transition matrix:\n",
            "      t+1|k=1 t+1|k=2\n",
            "t|k=1  0.6567  0.3433\n",
            "t|k=2  0.9965  0.0035\n",
            "------------------------------------------\n",
            "Stable probabilities:\n",
            "State 1 State 2 \n",
            " 0.7437  0.2563 \n",
            "------------------------------------------\n",
            "LL: -9923.5027\n",
            "AIC: 19871.0054\n",
            "BIC: 19949.8928\n",
            "------------------------------------------\n"
          ],
          "name": "stdout"
        }
      ]
    },
    {
      "cell_type": "code",
      "metadata": {
        "id": "ixZcmHkiWKXi",
        "colab": {
          "base_uri": "https://localhost:8080/",
          "height": 434
        },
        "outputId": "5ac751ac-4c13-49ab-fc84-ddd59b84b448"
      },
      "source": [
        "# Extracting variance series from the MS GJR-GARCH model\n",
        "var.msgjrgarch <- ts(Volatility(msgjrgarch.fit))\n",
        "head(var.msgjrgarch)\n",
        "\n",
        "BVSP.df$BVSP.VolMSGJRGARCH <- as.numeric(var.msgjrgarch)\n",
        "head(BVSP.df)"
      ],
      "id": "ixZcmHkiWKXi",
      "execution_count": 60,
      "outputs": [
        {
          "output_type": "display_data",
          "data": {
            "text/plain": [
              "     t=1      t=2      t=3      t=4      t=5      t=6 \n",
              "1.850624 3.278781 2.902409 2.633716 2.327751 2.095988 "
            ],
            "text/latex": "\\begin{description*}\n\\item[t=1] 1.8506235324479\n\\item[t=2] 3.27878131960115\n\\item[t=3] 2.90240887202784\n\\item[t=4] 2.6337163149878\n\\item[t=5] 2.32775114411405\n\\item[t=6] 2.09598758563231\n\\end{description*}\n",
            "text/markdown": "t=1\n:   1.8506235324479t=2\n:   3.27878131960115t=3\n:   2.90240887202784t=4\n:   2.6337163149878t=5\n:   2.32775114411405t=6\n:   2.09598758563231\n\n",
            "text/html": [
              "<style>\n",
              ".dl-inline {width: auto; margin:0; padding: 0}\n",
              ".dl-inline>dt, .dl-inline>dd {float: none; width: auto; display: inline-block}\n",
              ".dl-inline>dt::after {content: \":\\0020\"; padding-right: .5ex}\n",
              ".dl-inline>dt:not(:first-of-type) {padding-left: .5ex}\n",
              "</style><dl class=dl-inline><dt>t=1</dt><dd>1.8506235324479</dd><dt>t=2</dt><dd>3.27878131960115</dd><dt>t=3</dt><dd>2.90240887202784</dd><dt>t=4</dt><dd>2.6337163149878</dd><dt>t=5</dt><dd>2.32775114411405</dd><dt>t=6</dt><dd>2.09598758563231</dd></dl>\n"
            ]
          },
          "metadata": {
            "tags": []
          }
        },
        {
          "output_type": "display_data",
          "data": {
            "text/plain": [
              "           BVSP.Close BVSP.Return BVSP.VolGARCH BVSP.VolEGARCH BVSP.VolGJRGARCH\n",
              "2000-01-04      15851  -6.5854606      3.277609       3.277192         3.277075\n",
              "2000-01-05      16245   2.4552579      6.298761       6.399338         8.130356\n",
              "2000-01-06      16107  -0.8531209      6.177523       5.935152         7.537732\n",
              "2000-01-07      16309   1.2463143      5.706156       5.645890         6.987840\n",
              "2000-01-10      17022   4.2789522      5.322318       5.124696         6.426158\n",
              "2000-01-11      16573  -2.6731760      6.188571       5.032972         6.212222\n",
              "           BVSP.VolRealGARCH BVSP.VolRealEGARCH BVSP.VolRealGJRGARCH\n",
              "2000-01-04          3.278438           3.278438             3.278438\n",
              "2000-01-05          3.316379           3.314794             3.300075\n",
              "2000-01-06          6.311362           6.382861             8.022242\n",
              "2000-01-07          6.303794           6.007974             7.523652\n",
              "2000-01-10          5.829734           5.714271             6.981738\n",
              "2000-01-11          5.431581           5.192206             6.427358\n",
              "           BVSP.VolMSGARCH BVSP.VolMSEGARCH BVSP.VolMSGJRGARCH\n",
              "2000-01-04        2.519228         1.663138           1.850624\n",
              "2000-01-05        2.781641         2.160653           3.278781\n",
              "2000-01-06        2.483674         2.058091           2.902409\n",
              "2000-01-07        2.274973         1.965085           2.633716\n",
              "2000-01-10        2.173013         1.869909           2.327751\n",
              "2000-01-11        2.625170         2.045523           2.095988"
            ]
          },
          "metadata": {
            "tags": []
          }
        }
      ]
    },
    {
      "cell_type": "markdown",
      "metadata": {
        "id": "P34LgaLxXaiv"
      },
      "source": [
        "## 9. Sample split: in-sample (70%) and out-sample (30%)"
      ],
      "id": "P34LgaLxXaiv"
    },
    {
      "cell_type": "code",
      "metadata": {
        "id": "oEXlnm7ZXl3S",
        "colab": {
          "base_uri": "https://localhost:8080/",
          "height": 35
        },
        "outputId": "b2d92f6c-30c4-4883-9c7b-84baebf9355b"
      },
      "source": [
        "# Total number of lines \n",
        "nrow(BVSP.df)                "
      ],
      "id": "oEXlnm7ZXl3S",
      "execution_count": 61,
      "outputs": [
        {
          "output_type": "display_data",
          "data": {
            "text/plain": [
              "[1] 5292"
            ],
            "text/latex": "5292",
            "text/markdown": "5292",
            "text/html": [
              "5292"
            ]
          },
          "metadata": {
            "tags": []
          }
        }
      ]
    },
    {
      "cell_type": "code",
      "metadata": {
        "id": "yBa5ZL9QXw0J",
        "colab": {
          "base_uri": "https://localhost:8080/",
          "height": 35
        },
        "outputId": "1d161ffc-a4e4-4c4b-83fb-8a4f53c12c9e"
      },
      "source": [
        "# Cut-line\n",
        "round(nrow(BVSP.df)*0.7, digits = 0)"
      ],
      "id": "yBa5ZL9QXw0J",
      "execution_count": 62,
      "outputs": [
        {
          "output_type": "display_data",
          "data": {
            "text/plain": [
              "[1] 3704"
            ],
            "text/latex": "3704",
            "text/markdown": "3704",
            "text/html": [
              "3704"
            ]
          },
          "metadata": {
            "tags": []
          }
        }
      ]
    },
    {
      "cell_type": "code",
      "metadata": {
        "id": "dlcRWLpoXzN_",
        "colab": {
          "base_uri": "https://localhost:8080/",
          "height": 35
        },
        "outputId": "4956c9d0-d9a5-40c8-f129-d9859640316f"
      },
      "source": [
        "# In-sample\n",
        "BVSP.df.in <- BVSP.df[1:round(nrow(BVSP.df)*0.7, digits = 0),]\n",
        "dim(BVSP.df.in)"
      ],
      "id": "dlcRWLpoXzN_",
      "execution_count": 63,
      "outputs": [
        {
          "output_type": "display_data",
          "data": {
            "text/plain": [
              "[1] 3704   11"
            ],
            "text/latex": "\\begin{enumerate*}\n\\item 3704\n\\item 11\n\\end{enumerate*}\n",
            "text/markdown": "1. 3704\n2. 11\n\n\n",
            "text/html": [
              "<style>\n",
              ".list-inline {list-style: none; margin:0; padding: 0}\n",
              ".list-inline>li {display: inline-block}\n",
              ".list-inline>li:not(:last-child)::after {content: \"\\00b7\"; padding: 0 .5ex}\n",
              "</style>\n",
              "<ol class=list-inline><li>3704</li><li>11</li></ol>\n"
            ]
          },
          "metadata": {
            "tags": []
          }
        }
      ]
    },
    {
      "cell_type": "code",
      "metadata": {
        "id": "ZaKAIY7iX2SE",
        "colab": {
          "base_uri": "https://localhost:8080/",
          "height": 35
        },
        "outputId": "49361b84-1679-4314-ac3f-aa854112f564"
      },
      "source": [
        "# Out-sample\n",
        "BVSP.df.out <- BVSP.df[(round(nrow(BVSP.df)*0.7, digits = 0)+1):nrow(BVSP.df),]\n",
        "dim(BVSP.df.out)"
      ],
      "id": "ZaKAIY7iX2SE",
      "execution_count": 64,
      "outputs": [
        {
          "output_type": "display_data",
          "data": {
            "text/plain": [
              "[1] 1588   11"
            ],
            "text/latex": "\\begin{enumerate*}\n\\item 1588\n\\item 11\n\\end{enumerate*}\n",
            "text/markdown": "1. 1588\n2. 11\n\n\n",
            "text/html": [
              "<style>\n",
              ".list-inline {list-style: none; margin:0; padding: 0}\n",
              ".list-inline>li {display: inline-block}\n",
              ".list-inline>li:not(:last-child)::after {content: \"\\00b7\"; padding: 0 .5ex}\n",
              "</style>\n",
              "<ol class=list-inline><li>1588</li><li>11</li></ol>\n"
            ]
          },
          "metadata": {
            "tags": []
          }
        }
      ]
    },
    {
      "cell_type": "markdown",
      "metadata": {
        "id": "Ae_49vbJJAY1"
      },
      "source": [
        "# 10. Forecast - GARCH models"
      ],
      "id": "Ae_49vbJJAY1"
    },
    {
      "cell_type": "code",
      "metadata": {
        "id": "-eJ97HPPJEH5",
        "colab": {
          "base_uri": "https://localhost:8080/"
        },
        "outputId": "a04abe24-2fde-48a1-8d82-1a14d7a7acf4"
      },
      "source": [
        "# Packages\n",
        "install.packages('Metrics')\n",
        "install.packages('MLmetrics')\n",
        "install.packages('multDM')\n",
        "install.packages('MCS')\n",
        "install.packages('sandwich')\n",
        "install.packages('lmtest')\n",
        "install.packages('forecast')\n",
        "\n",
        "library(Metrics)\n",
        "library(MLmetrics)\n",
        "library(multDM)\n",
        "library(MCS)\n",
        "library(sandwich)\n",
        "library(lmtest)\n",
        "library(forecast)"
      ],
      "id": "-eJ97HPPJEH5",
      "execution_count": 65,
      "outputs": [
        {
          "output_type": "stream",
          "text": [
            "Installing package into ‘/usr/local/lib/R/site-library’\n",
            "(as ‘lib’ is unspecified)\n",
            "\n",
            "Installing package into ‘/usr/local/lib/R/site-library’\n",
            "(as ‘lib’ is unspecified)\n",
            "\n",
            "also installing the dependencies ‘bitops’, ‘gtools’, ‘caTools’, ‘gplots’, ‘ROCR’\n",
            "\n",
            "\n",
            "Installing package into ‘/usr/local/lib/R/site-library’\n",
            "(as ‘lib’ is unspecified)\n",
            "\n",
            "also installing the dependencies ‘timeSeries’, ‘fastICA’, ‘gss’, ‘stabledist’, ‘fGarch’, ‘fBasics’, ‘MTS’\n",
            "\n",
            "\n",
            "Installing package into ‘/usr/local/lib/R/site-library’\n",
            "(as ‘lib’ is unspecified)\n",
            "\n",
            "Installing package into ‘/usr/local/lib/R/site-library’\n",
            "(as ‘lib’ is unspecified)\n",
            "\n",
            "Installing package into ‘/usr/local/lib/R/site-library’\n",
            "(as ‘lib’ is unspecified)\n",
            "\n",
            "Installing package into ‘/usr/local/lib/R/site-library’\n",
            "(as ‘lib’ is unspecified)\n",
            "\n",
            "\n",
            "Attaching package: ‘MLmetrics’\n",
            "\n",
            "\n",
            "The following object is masked from ‘package:base’:\n",
            "\n",
            "    Recall\n",
            "\n",
            "\n",
            "Registered S3 methods overwritten by 'forecast':\n",
            "  method       from\n",
            "  fitted.Arima TSA \n",
            "  plot.Arima   TSA \n",
            "\n",
            "\n",
            "Attaching package: ‘forecast’\n",
            "\n",
            "\n",
            "The following object is masked from ‘package:Metrics’:\n",
            "\n",
            "    accuracy\n",
            "\n",
            "\n",
            "The following object is masked from ‘package:FinTS’:\n",
            "\n",
            "    Acf\n",
            "\n",
            "\n",
            "The following object is masked from ‘package:aTSA’:\n",
            "\n",
            "    forecast\n",
            "\n",
            "\n"
          ],
          "name": "stderr"
        }
      ]
    },
    {
      "cell_type": "markdown",
      "metadata": {
        "id": "eDF61ZNDK7-L"
      },
      "source": [
        "## (a) Linear GARCH"
      ],
      "id": "eDF61ZNDK7-L"
    },
    {
      "cell_type": "markdown",
      "metadata": {
        "id": "zQvg4fhykI3G"
      },
      "source": [
        "**Forecast**"
      ],
      "id": "zQvg4fhykI3G"
    },
    {
      "cell_type": "code",
      "metadata": {
        "id": "4kWDFtEyQj8x"
      },
      "source": [
        "# Model specification\n",
        "garch.spec.pred <- garch.spec\n",
        "setfixed(garch.spec.pred) <- as.list(coef(garch.fit))"
      ],
      "id": "4kWDFtEyQj8x",
      "execution_count": 66,
      "outputs": []
    },
    {
      "cell_type": "code",
      "metadata": {
        "id": "LJ35908xRCpF"
      },
      "source": [
        "# Model adjustment\n",
        "garch.fit.pred <- ugarchfit(garch.spec,\n",
        "                            BVSP.df$BVSP.Return,\n",
        "                            out.sample = dim(BVSP.df.out)[1])"
      ],
      "id": "LJ35908xRCpF",
      "execution_count": 67,
      "outputs": []
    },
    {
      "cell_type": "code",
      "metadata": {
        "id": "Q6VYCPYGSISr"
      },
      "source": [
        "# Forecast calculated through adjustment\n",
        "garch.pred.a <- ugarchforecast(garch.fit.pred,\n",
        "                               n.ahead = 1,\n",
        "                               n.roll = dim(BVSP.df.out)[1])\n",
        "\n",
        "garch.forecast.a <- xts(sigma(garch.pred.a)[1,],\n",
        "                       move(as.Date(names(sigma(garch.pred.a)[1,])), by = 1))"
      ],
      "id": "Q6VYCPYGSISr",
      "execution_count": 68,
      "outputs": []
    },
    {
      "cell_type": "code",
      "metadata": {
        "id": "E5KGemi8gXh2"
      },
      "source": [
        "# Forecast calculated using specification\n",
        "garch.pred.b <- ugarchforecast(garch.spec.pred,\n",
        "                               n.ahead = 1,\n",
        "                               n.roll = dim(BVSP.df.out)[1],\n",
        "                               data = BVSP.df$BVSP.Return,\n",
        "                               out.sample = dim(BVSP.df.out)[1])\n",
        "\n",
        "garch.forecast.b <- xts(sigma(garch.pred.b)[1,],\n",
        "                        move(as.Date(names(sigma(garch.pred.b)[1,])), by = 1))  "
      ],
      "id": "E5KGemi8gXh2",
      "execution_count": 69,
      "outputs": []
    },
    {
      "cell_type": "code",
      "metadata": {
        "id": "Yg9KKURbgy7R"
      },
      "source": [
        "# Model filtering\n",
        "garch.filt.pred <- ugarchfilter(garch.spec.pred,\n",
        "                                data = BVSP.df$BVSP.Return,\n",
        "                                n.old = nrow(BVSP.df) - dim(BVSP.df.out)[1])\n",
        "\n",
        "garch.filt <- tail(sigma(garch.filt.pred), dim(BVSP.df.out)[1])                                 "
      ],
      "id": "Yg9KKURbgy7R",
      "execution_count": 70,
      "outputs": []
    },
    {
      "cell_type": "code",
      "metadata": {
        "id": "9p-8qghPVjR8",
        "colab": {
          "base_uri": "https://localhost:8080/",
          "height": 145
        },
        "outputId": "c994a162-99a9-4d2a-ac65-7dfcb8b2d719"
      },
      "source": [
        "# Comparative\n",
        "colnames(garch.filt) <- 'filter'\n",
        "colnames(garch.forecast.a) <- 'forecast1'\n",
        "colnames(garch.forecast.b) <- 'forecast2'\n",
        "\n",
        "garch.ftest <- cbind(garch.filt,\n",
        "                    garch.forecast.a,\n",
        "                    garch.forecast.b)\n",
        "head(round(garch.ftest, digits = 4))"
      ],
      "id": "9p-8qghPVjR8",
      "execution_count": 72,
      "outputs": [
        {
          "output_type": "display_data",
          "data": {
            "text/plain": [
              "           filter forecast1 forecast2\n",
              "2014-12-18 2.1477    2.1678    2.1477\n",
              "2014-12-19 2.0617    2.0942    2.0617\n",
              "2014-12-22 2.0720    2.1040    2.0720\n",
              "2014-12-23 2.0001    2.0422    2.0001\n",
              "2014-12-26 1.9586    2.0062    1.9586\n",
              "2014-12-29 1.9249    1.9751    1.9249"
            ]
          },
          "metadata": {
            "tags": []
          }
        }
      ]
    },
    {
      "cell_type": "code",
      "metadata": {
        "id": "XvWtLYxOK7cE",
        "colab": {
          "base_uri": "https://localhost:8080/",
          "height": 245
        },
        "outputId": "37c3811c-3f7f-42cd-b722-454fb8671635"
      },
      "source": [
        "sigma.garch.pred.a <- ts(garch.forecast.a[-1,])\n",
        "sigma.garch.pred.b <- ts(garch.forecast.b[-1,])\n",
        "sigma.garch.true <- ts(BVSP.df.out$BVSP.VolGARCH)\n",
        "\n",
        "sigma.garch <- na.omit(cbind(sigma.garch.pred.a, \n",
        "                            sigma.garch.pred.b,\n",
        "                            sigma.garch.true))\n",
        "head(sigma.garch)"
      ],
      "id": "XvWtLYxOK7cE",
      "execution_count": 73,
      "outputs": [
        {
          "output_type": "display_data",
          "data": {
            "text/plain": [
              "  sigma.garch.pred.a sigma.garch.pred.b sigma.garch.true\n",
              "1 2.094176           2.061689           4.612556        \n",
              "2 2.104005           2.072001           4.250562        \n",
              "3 2.042246           2.000053           4.293190        \n",
              "4 2.006214           1.958646           4.000212        \n",
              "5 1.975098           1.924943           3.836295        \n",
              "6 1.918799           1.860952           3.705407        "
            ],
            "text/latex": "A Time Series: 6 × 3\n\\begin{tabular}{r|lll}\n  & sigma.garch.pred.a & sigma.garch.pred.b & sigma.garch.true\\\\\n\\hline\n\t1 & 2.094176 & 2.061689 & 4.612556\\\\\n\t2 & 2.104005 & 2.072001 & 4.250562\\\\\n\t3 & 2.042246 & 2.000053 & 4.293190\\\\\n\t4 & 2.006214 & 1.958646 & 4.000212\\\\\n\t5 & 1.975098 & 1.924943 & 3.836295\\\\\n\t6 & 1.918799 & 1.860952 & 3.705407\\\\\n\\end{tabular}\n",
            "text/markdown": "\nA Time Series: 6 × 3\n\n| <!--/--> | sigma.garch.pred.a | sigma.garch.pred.b | sigma.garch.true |\n|---|---|---|---|\n| 1 | 2.094176 | 2.061689 | 4.612556 |\n| 2 | 2.104005 | 2.072001 | 4.250562 |\n| 3 | 2.042246 | 2.000053 | 4.293190 |\n| 4 | 2.006214 | 1.958646 | 4.000212 |\n| 5 | 1.975098 | 1.924943 | 3.836295 |\n| 6 | 1.918799 | 1.860952 | 3.705407 |\n\n",
            "text/html": [
              "<table class=\"dataframe\">\n",
              "<caption>A Time Series: 6 × 3</caption>\n",
              "<thead>\n",
              "\t<tr><th></th><th scope=col>sigma.garch.pred.a</th><th scope=col>sigma.garch.pred.b</th><th scope=col>sigma.garch.true</th></tr>\n",
              "</thead>\n",
              "<tbody>\n",
              "\t<tr><th scope=row>1</th><td>2.094176</td><td>2.061689</td><td>4.612556</td></tr>\n",
              "\t<tr><th scope=row>2</th><td>2.104005</td><td>2.072001</td><td>4.250562</td></tr>\n",
              "\t<tr><th scope=row>3</th><td>2.042246</td><td>2.000053</td><td>4.293190</td></tr>\n",
              "\t<tr><th scope=row>4</th><td>2.006214</td><td>1.958646</td><td>4.000212</td></tr>\n",
              "\t<tr><th scope=row>5</th><td>1.975098</td><td>1.924943</td><td>3.836295</td></tr>\n",
              "\t<tr><th scope=row>6</th><td>1.918799</td><td>1.860952</td><td>3.705407</td></tr>\n",
              "</tbody>\n",
              "</table>\n"
            ]
          },
          "metadata": {
            "tags": []
          }
        }
      ]
    },
    {
      "cell_type": "markdown",
      "metadata": {
        "id": "mSx7eTn3kPct"
      },
      "source": [
        "**Performance evaluation**"
      ],
      "id": "mSx7eTn3kPct"
    },
    {
      "cell_type": "code",
      "metadata": {
        "id": "U_o8n_8ckYWr",
        "colab": {
          "base_uri": "https://localhost:8080/",
          "height": 69
        },
        "outputId": "62f651aa-a1d6-4820-8f6c-b9afbdba90a0"
      },
      "source": [
        "# Forecast Error - Forecast a\n",
        "garch.error.a <- sigma.garch[,'sigma.garch.pred.a'] - sigma.garch[,'sigma.garch.true']\n",
        "head(garch.error.a)"
      ],
      "id": "U_o8n_8ckYWr",
      "execution_count": 75,
      "outputs": [
        {
          "output_type": "display_data",
          "data": {
            "text/plain": [
              "A Time Series:\n",
              "[1] -2.518380 -2.146557 -2.250943 -1.993998 -1.861197 -1.786608"
            ],
            "text/latex": "A Time Series:\\\\\\begin{enumerate*}\n\\item -2.51837957959616\n\\item -2.14655742267742\n\\item -2.25094325018654\n\\item -1.99399795327132\n\\item -1.86119705632375\n\\item -1.7866082879977\n\\end{enumerate*}\n",
            "text/markdown": "A Time Series:  \n1. -2.51837957959616\n2. -2.14655742267742\n3. -2.25094325018654\n4. -1.99399795327132\n5. -1.86119705632375\n6. -1.7866082879977\n\n\n",
            "text/html": [
              "A Time Series:<br><style>\n",
              ".list-inline {list-style: none; margin:0; padding: 0}\n",
              ".list-inline>li {display: inline-block}\n",
              ".list-inline>li:not(:last-child)::after {content: \"\\00b7\"; padding: 0 .5ex}\n",
              "</style>\n",
              "<ol class=list-inline><li>-2.51837957959616</li><li>-2.14655742267742</li><li>-2.25094325018654</li><li>-1.99399795327132</li><li>-1.86119705632375</li><li>-1.7866082879977</li></ol>\n"
            ]
          },
          "metadata": {
            "tags": []
          }
        }
      ]
    },
    {
      "cell_type": "code",
      "metadata": {
        "id": "hrJcPxcLlIy3",
        "colab": {
          "base_uri": "https://localhost:8080/",
          "height": 69
        },
        "outputId": "e93093c3-1d6a-4e65-bbac-77dd66092c5d"
      },
      "source": [
        "# Forecast Error - Forecast 1b\n",
        "garch.error.b <- sigma.garch[,'sigma.garch.pred.b'] - sigma.garch[,'sigma.garch.true']\n",
        "head(garch.error.b)"
      ],
      "id": "hrJcPxcLlIy3",
      "execution_count": 76,
      "outputs": [
        {
          "output_type": "display_data",
          "data": {
            "text/plain": [
              "A Time Series:\n",
              "[1] -2.550867 -2.178561 -2.293137 -2.041566 -1.911351 -1.844455"
            ],
            "text/latex": "A Time Series:\\\\\\begin{enumerate*}\n\\item -2.55086680871289\n\\item -2.17856064158141\n\\item -2.29313661946934\n\\item -2.04156601741774\n\\item -1.91135130757521\n\\item -1.84445492934139\n\\end{enumerate*}\n",
            "text/markdown": "A Time Series:  \n1. -2.55086680871289\n2. -2.17856064158141\n3. -2.29313661946934\n4. -2.04156601741774\n5. -1.91135130757521\n6. -1.84445492934139\n\n\n",
            "text/html": [
              "A Time Series:<br><style>\n",
              ".list-inline {list-style: none; margin:0; padding: 0}\n",
              ".list-inline>li {display: inline-block}\n",
              ".list-inline>li:not(:last-child)::after {content: \"\\00b7\"; padding: 0 .5ex}\n",
              "</style>\n",
              "<ol class=list-inline><li>-2.55086680871289</li><li>-2.17856064158141</li><li>-2.29313661946934</li><li>-2.04156601741774</li><li>-1.91135130757521</li><li>-1.84445492934139</li></ol>\n"
            ]
          },
          "metadata": {
            "tags": []
          }
        }
      ]
    },
    {
      "cell_type": "code",
      "metadata": {
        "id": "vVvmYhWSK6Jx",
        "colab": {
          "base_uri": "https://localhost:8080/",
          "height": 35
        },
        "outputId": "32d31053-f051-4b8d-c618-683e58bbf81c"
      },
      "source": [
        "# Mean Square Error Loss - Forecast a\n",
        "garch.mse.a <- MSE(sigma.garch[,'sigma.garch.pred.a'], \n",
        "                  sigma.garch[,'sigma.garch.true'])\n",
        "round(garch.mse.a, digits = 3)     "
      ],
      "id": "vVvmYhWSK6Jx",
      "execution_count": 77,
      "outputs": [
        {
          "output_type": "display_data",
          "data": {
            "text/plain": [
              "[1] 20.976"
            ],
            "text/latex": "20.976",
            "text/markdown": "20.976",
            "text/html": [
              "20.976"
            ]
          },
          "metadata": {
            "tags": []
          }
        }
      ]
    },
    {
      "cell_type": "code",
      "metadata": {
        "id": "P64kl9rCllXj",
        "colab": {
          "base_uri": "https://localhost:8080/",
          "height": 35
        },
        "outputId": "a2235415-3720-42b1-c53c-4a08e30849d1"
      },
      "source": [
        "# Mean Square Error Loss - Forecast b\n",
        "garch.mse.b <- MSE(sigma.garch[,'sigma.garch.pred.b'],\n",
        "                  sigma.garch[,'sigma.garch.true'])\n",
        "round(garch.mse.b, digits = 3) "
      ],
      "id": "P64kl9rCllXj",
      "execution_count": 78,
      "outputs": [
        {
          "output_type": "display_data",
          "data": {
            "text/plain": [
              "[1] 21.051"
            ],
            "text/latex": "21.051",
            "text/markdown": "21.051",
            "text/html": [
              "21.051"
            ]
          },
          "metadata": {
            "tags": []
          }
        }
      ]
    },
    {
      "cell_type": "code",
      "metadata": {
        "id": "ahWBmWNDLabm",
        "colab": {
          "base_uri": "https://localhost:8080/",
          "height": 35
        },
        "outputId": "8a0ba75b-1884-4b3d-b210-89afec9053e0"
      },
      "source": [
        "# Mean Absolute Error Loss - Forecast a\n",
        "garch.mae.a <- MAE(sigma.garch[,'sigma.garch.pred.a'], \n",
        "                  sigma.garch[,'sigma.garch.true'])\n",
        "round(garch.mae.a, digits = 3)"
      ],
      "id": "ahWBmWNDLabm",
      "execution_count": 79,
      "outputs": [
        {
          "output_type": "display_data",
          "data": {
            "text/plain": [
              "[1] 1.361"
            ],
            "text/latex": "1.361",
            "text/markdown": "1.361",
            "text/html": [
              "1.361"
            ]
          },
          "metadata": {
            "tags": []
          }
        }
      ]
    },
    {
      "cell_type": "code",
      "metadata": {
        "id": "0K7TTaZNl2Y4",
        "colab": {
          "base_uri": "https://localhost:8080/",
          "height": 35
        },
        "outputId": "773edfbd-617c-4808-d34c-08deca8e9419"
      },
      "source": [
        "# Mean Absolute Error Loss - Forecast b\n",
        "garch.mae.b <- MAE(sigma.garch[,'sigma.garch.pred.b'], \n",
        "                  sigma.garch[,'sigma.garch.true'])\n",
        "round(garch.mae.b, digits = 3)"
      ],
      "id": "0K7TTaZNl2Y4",
      "execution_count": 80,
      "outputs": [
        {
          "output_type": "display_data",
          "data": {
            "text/plain": [
              "[1] 1.378"
            ],
            "text/latex": "1.378",
            "text/markdown": "1.378",
            "text/html": [
              "1.378"
            ]
          },
          "metadata": {
            "tags": []
          }
        }
      ]
    },
    {
      "cell_type": "code",
      "metadata": {
        "id": "BQXtSoWcLeK6",
        "colab": {
          "base_uri": "https://localhost:8080/",
          "height": 35
        },
        "outputId": "8729043b-543e-4462-e400-f5b432fad7d7"
      },
      "source": [
        "# Root Mean Square Error Loss - Forecast a\n",
        "garch.rmse.a <- RMSE(sigma.garch[,'sigma.garch.pred.a'], \n",
        "                    sigma.garch[,'sigma.garch.true'])\n",
        "round(garch.rmse.a, digits = 3)"
      ],
      "id": "BQXtSoWcLeK6",
      "execution_count": 81,
      "outputs": [
        {
          "output_type": "display_data",
          "data": {
            "text/plain": [
              "[1] 4.58"
            ],
            "text/latex": "4.58",
            "text/markdown": "4.58",
            "text/html": [
              "4.58"
            ]
          },
          "metadata": {
            "tags": []
          }
        }
      ]
    },
    {
      "cell_type": "code",
      "metadata": {
        "id": "hIrzvC1CmNvg",
        "colab": {
          "base_uri": "https://localhost:8080/",
          "height": 35
        },
        "outputId": "88be4c90-9152-4a98-ba6a-464cd405760f"
      },
      "source": [
        "# Root Mean Square Error Loss - Forecast b\n",
        "garch.rmse.b <- RMSE(sigma.garch[,'sigma.garch.pred.b'], \n",
        "                    sigma.garch[,'sigma.garch.true'])\n",
        "round(garch.rmse.b, digits = 3)"
      ],
      "id": "hIrzvC1CmNvg",
      "execution_count": 82,
      "outputs": [
        {
          "output_type": "display_data",
          "data": {
            "text/plain": [
              "[1] 4.588"
            ],
            "text/latex": "4.588",
            "text/markdown": "4.588",
            "text/html": [
              "4.588"
            ]
          },
          "metadata": {
            "tags": []
          }
        }
      ]
    },
    {
      "cell_type": "code",
      "metadata": {
        "id": "hla4zyfwnSkl",
        "colab": {
          "base_uri": "https://localhost:8080/",
          "height": 35
        },
        "outputId": "4f75c245-97c3-442f-b45f-cfca67ef607c"
      },
      "source": [
        "# Quasi-likelihood loss function - forecast a\n",
        "h <- BVSP.df.out$BVSP.VolGARCH\n",
        "\n",
        "h.hat.a <- garch.forecast.a[-1,]     \n",
        "garch.qlike.a <- mean(log(sqrt(h)) + h.hat.a/sqrt(h))\n",
        "round(garch.qlike.a, digits = 5) "
      ],
      "id": "hla4zyfwnSkl",
      "execution_count": 84,
      "outputs": [
        {
          "output_type": "display_data",
          "data": {
            "text/plain": [
              "[1] 1.40877"
            ],
            "text/latex": "1.40877",
            "text/markdown": "1.40877",
            "text/html": [
              "1.40877"
            ]
          },
          "metadata": {
            "tags": []
          }
        }
      ]
    },
    {
      "cell_type": "code",
      "metadata": {
        "id": "V13-JFWyn-r0",
        "colab": {
          "base_uri": "https://localhost:8080/",
          "height": 35
        },
        "outputId": "fb177170-b777-4b22-97f3-5f9dd68e0506"
      },
      "source": [
        "# Quasi-likelihood loss function - forecast b\n",
        "h.hat.b <- garch.forecast.b[-1,]\n",
        "garch.qlike.b <- mean(log(sqrt(h)) + h.hat.b/sqrt(h))\n",
        "round(garch.qlike.b, digits = 5)   "
      ],
      "id": "V13-JFWyn-r0",
      "execution_count": 85,
      "outputs": [
        {
          "output_type": "display_data",
          "data": {
            "text/plain": [
              "[1] 1.39994"
            ],
            "text/latex": "1.39994",
            "text/markdown": "1.39994",
            "text/html": [
              "1.39994"
            ]
          },
          "metadata": {
            "tags": []
          }
        }
      ]
    },
    {
      "cell_type": "code",
      "metadata": {
        "id": "kDFbGnTIoLi9",
        "colab": {
          "base_uri": "https://localhost:8080/",
          "height": 126
        },
        "outputId": "fcb173f0-cce3-406c-8b5d-dc7f29f10c0d"
      },
      "source": [
        "# Diebold-Mariano Test (accuracy test) - test 1\n",
        "f.a <- garch.forecast.a\n",
        "f.b <- garch.forecast.b\n",
        "y <- BVSP.df.out$BVSP.VolGARCH\n",
        "\n",
        "DM.test(f.a, f.b, y, loss.type = \"SE\", c = FALSE, H1 = \"same\")"
      ],
      "id": "kDFbGnTIoLi9",
      "execution_count": 86,
      "outputs": [
        {
          "output_type": "display_data",
          "data": {
            "text/plain": [
              "\n",
              "\tDiebold-Mariano test\n",
              "\n",
              "data:  f.a and f.b and y\n",
              "statistic = -0.80494, forecast horizon = 1, p-value = 0.4209\n",
              "alternative hypothesis: Forecast f1 and f2 have different accuracy.\n"
            ]
          },
          "metadata": {
            "tags": []
          }
        }
      ]
    },
    {
      "cell_type": "code",
      "metadata": {
        "id": "FLLLPUQtoyZS",
        "colab": {
          "base_uri": "https://localhost:8080/",
          "height": 145
        },
        "outputId": "e646135b-0d35-47eb-cf18-02ef73228ddf"
      },
      "source": [
        "# Diebold-Mariano test for predictive accuracy - test 2\n",
        "e.a <- garch.error.a\n",
        "e.b <- garch.error.b\n",
        "\n",
        "dm.test(e.a, e.b, alternative = \"two.sided\", h = 1, power = 2)"
      ],
      "id": "FLLLPUQtoyZS",
      "execution_count": 87,
      "outputs": [
        {
          "output_type": "display_data",
          "data": {
            "text/plain": [
              "\n",
              "\tDiebold-Mariano Test\n",
              "\n",
              "data:  e.ae.b\n",
              "DM = -1.6188, Forecast horizon = 1, Loss function power = 2, p-value =\n",
              "0.1057\n",
              "alternative hypothesis: two.sided\n"
            ]
          },
          "metadata": {
            "tags": []
          }
        }
      ]
    },
    {
      "cell_type": "code",
      "metadata": {
        "id": "K8wRfezFrxtJ",
        "colab": {
          "base_uri": "https://localhost:8080/",
          "height": 35
        },
        "outputId": "b026a917-3e05-4fd7-efcb-e3887884b006"
      },
      "source": [
        "# Quasi-likelihood Loss Function For Volatility Forecasts - forecast a\n",
        "garch.qlike.a <- mean(LossVol(sigma.garch[,'sigma.garch.true'],\n",
        "                              sigma.garch[,'sigma.garch.pred.a'],\n",
        "                              which = \"QLIKE\"))\n",
        "round(garch.qlike.a, digits = 3)"
      ],
      "id": "K8wRfezFrxtJ",
      "execution_count": 88,
      "outputs": [
        {
          "output_type": "display_data",
          "data": {
            "text/plain": [
              "[1] 3.73"
            ],
            "text/latex": "3.73",
            "text/markdown": "3.73",
            "text/html": [
              "3.73"
            ]
          },
          "metadata": {
            "tags": []
          }
        }
      ]
    },
    {
      "cell_type": "code",
      "metadata": {
        "id": "HUVoT5c5sFMt",
        "colab": {
          "base_uri": "https://localhost:8080/",
          "height": 35
        },
        "outputId": "5ac8ec6b-49ad-4bd1-aaa3-48de31c5102c"
      },
      "source": [
        "# Quasi-likelihood Loss Function For Volatility Forecasts - forecast 1b\n",
        "garch.qlike.b <- mean(LossVol(sigma.garch[,'sigma.garch.true'],\n",
        "                              sigma.garch[,'sigma.garch.pred.b'],\n",
        "                              which = \"QLIKE\"))\n",
        "round(garch.qlike.b, digits = 3)"
      ],
      "id": "HUVoT5c5sFMt",
      "execution_count": 89,
      "outputs": [
        {
          "output_type": "display_data",
          "data": {
            "text/plain": [
              "[1] 3.781"
            ],
            "text/latex": "3.781",
            "text/markdown": "3.781",
            "text/html": [
              "3.781"
            ]
          },
          "metadata": {
            "tags": []
          }
        }
      ]
    },
    {
      "cell_type": "code",
      "metadata": {
        "id": "9BsA_6HBsOJV",
        "colab": {
          "base_uri": "https://localhost:8080/",
          "height": 35
        },
        "outputId": "0e4dd24d-ee0a-481a-921e-0994d4fbe768"
      },
      "source": [
        "# Log loss / Cross-Entropy Loss -  forecast a\n",
        "garch.logloss.a <- LogLoss(sigma.garch[,'sigma.garch.pred.a'],\n",
        "                           sigma.garch[,'sigma.garch.true'])\n",
        "round(garch.logloss.a, digits = 3)"
      ],
      "id": "9BsA_6HBsOJV",
      "execution_count": 90,
      "outputs": [
        {
          "output_type": "display_data",
          "data": {
            "text/plain": [
              "[1] -67.003"
            ],
            "text/latex": "-67.003",
            "text/markdown": "-67.003",
            "text/html": [
              "-67.003"
            ]
          },
          "metadata": {
            "tags": []
          }
        }
      ]
    },
    {
      "cell_type": "code",
      "metadata": {
        "id": "WYgOyvussxPG",
        "colab": {
          "base_uri": "https://localhost:8080/",
          "height": 35
        },
        "outputId": "5f425540-b088-4b88-d1c7-c6eda128eae2"
      },
      "source": [
        "# Log loss / Cross-Entropy Loss -  forecast b\n",
        "garch.logloss.b <- LogLoss(sigma.garch[,'sigma.garch.pred.b'],\n",
        "                           sigma.garch[,'sigma.garch.true'])\n",
        "round(garch.logloss.b, digits = 3)"
      ],
      "id": "WYgOyvussxPG",
      "execution_count": 91,
      "outputs": [
        {
          "output_type": "display_data",
          "data": {
            "text/plain": [
              "[1] -67.003"
            ],
            "text/latex": "-67.003",
            "text/markdown": "-67.003",
            "text/html": [
              "-67.003"
            ]
          },
          "metadata": {
            "tags": []
          }
        }
      ]
    },
    {
      "cell_type": "code",
      "metadata": {
        "id": "fvV0JmWWs_-H",
        "colab": {
          "base_uri": "https://localhost:8080/",
          "height": 180
        },
        "outputId": "c9551155-06d0-4c75-f7b0-39fcec55468b"
      },
      "source": [
        "# Linear regression to assess forecast performance - forecast a\n",
        "garch.model.a <- lm(sigma.garch.true ~ sigma.garch.pred.a, \n",
        "                    data = sigma.garch)\n",
        "round(coeftest(garch.model.a, NeweyWest(garch.model.a,\n",
        "                                        lag = bwNeweyWest(garch.model.a),\n",
        "                                        prewhite = F)), 3)\n",
        "round(summary(garch.model.a)$adj.r.squared, 3)"
      ],
      "id": "fvV0JmWWs_-H",
      "execution_count": 92,
      "outputs": [
        {
          "output_type": "display_data",
          "data": {
            "text/plain": [
              "\n",
              "t test of coefficients:\n",
              "\n",
              "                   Estimate Std. Error t value  Pr(>|t|)    \n",
              "(Intercept)          -7.652      1.167  -6.557 < 2.2e-16 ***\n",
              "sigma.garch.pred.a    6.692      0.785   8.521 < 2.2e-16 ***\n",
              "---\n",
              "Signif. codes:  0 ‘***’ 0.001 ‘**’ 0.01 ‘*’ 0.05 ‘.’ 0.1 ‘ ’ 1\n"
            ]
          },
          "metadata": {
            "tags": []
          }
        },
        {
          "output_type": "display_data",
          "data": {
            "text/plain": [
              "[1] 0.881"
            ],
            "text/latex": "0.881",
            "text/markdown": "0.881",
            "text/html": [
              "0.881"
            ]
          },
          "metadata": {
            "tags": []
          }
        }
      ]
    },
    {
      "cell_type": "code",
      "metadata": {
        "id": "BKQCfwbmWcez",
        "colab": {
          "base_uri": "https://localhost:8080/",
          "height": 180
        },
        "outputId": "1d1781f7-24af-415a-9c6b-e76455eac189"
      },
      "source": [
        "# Linear regression to assess forecast performance - forecast b\n",
        "garch.model.b <- lm(sigma.garch.true ~ sigma.garch.pred.b, \n",
        "                    data = sigma.garch)\n",
        "round(coeftest(garch.model.b, NeweyWest(garch.model.b,\n",
        "                                        lag = bwNeweyWest(garch.model.b),\n",
        "                                        prewhite = F)), 3)\n",
        "round(summary(garch.model.b)$adj.r.squared, 3)"
      ],
      "id": "BKQCfwbmWcez",
      "execution_count": 93,
      "outputs": [
        {
          "output_type": "display_data",
          "data": {
            "text/plain": [
              "\n",
              "t test of coefficients:\n",
              "\n",
              "                   Estimate Std. Error t value  Pr(>|t|)    \n",
              "(Intercept)          -7.797      1.056  -7.380 < 2.2e-16 ***\n",
              "sigma.garch.pred.b    6.852      0.716   9.574 < 2.2e-16 ***\n",
              "---\n",
              "Signif. codes:  0 ‘***’ 0.001 ‘**’ 0.01 ‘*’ 0.05 ‘.’ 0.1 ‘ ’ 1\n"
            ]
          },
          "metadata": {
            "tags": []
          }
        },
        {
          "output_type": "display_data",
          "data": {
            "text/plain": [
              "[1] 0.896"
            ],
            "text/latex": "0.896",
            "text/markdown": "0.896",
            "text/html": [
              "0.896"
            ]
          },
          "metadata": {
            "tags": []
          }
        }
      ]
    },
    {
      "cell_type": "markdown",
      "metadata": {
        "id": "qYxZcfeREZ3G"
      },
      "source": [
        "##(b) EGARCH"
      ],
      "id": "qYxZcfeREZ3G"
    },
    {
      "cell_type": "markdown",
      "metadata": {
        "id": "eU8nVcegGWrx"
      },
      "source": [
        "**Forecast**"
      ],
      "id": "eU8nVcegGWrx"
    },
    {
      "cell_type": "code",
      "metadata": {
        "id": "GGr6qMWPGY56"
      },
      "source": [
        "# Model specification\n",
        "egarch.spec.pred <- egarch.spec\n",
        "setfixed(egarch.spec.pred) <- as.list(coef(egarch.fit))"
      ],
      "id": "GGr6qMWPGY56",
      "execution_count": 94,
      "outputs": []
    },
    {
      "cell_type": "code",
      "metadata": {
        "id": "GDk5w7ACGfr5"
      },
      "source": [
        "# Model adjustment\n",
        "egarch.fit.pred <- ugarchfit(egarch.spec,\n",
        "                             BVSP.df$BVSP.Return,\n",
        "                             out.sample = dim(BVSP.df.out)[1])"
      ],
      "id": "GDk5w7ACGfr5",
      "execution_count": 95,
      "outputs": []
    },
    {
      "cell_type": "code",
      "metadata": {
        "id": "YpL93AZ4Gmyu"
      },
      "source": [
        "# Forecast calculated through adjustment\n",
        "egarch.pred.a <- ugarchforecast(egarch.fit.pred,\n",
        "                                n.ahead = 1,\n",
        "                                n.roll = dim(BVSP.df.out)[1])\n",
        "\n",
        "egarch.forecast.a <- xts(sigma(egarch.pred.a)[1,],\n",
        "                         move(as.Date(names(sigma(egarch.pred.a)[1,])), by = 1))"
      ],
      "id": "YpL93AZ4Gmyu",
      "execution_count": 96,
      "outputs": []
    },
    {
      "cell_type": "code",
      "metadata": {
        "id": "Q97EAAIsGwDR"
      },
      "source": [
        "# Forecast calculated using specification\n",
        "egarch.pred.b <- ugarchforecast(egarch.spec.pred,\n",
        "                                n.ahead = 1,\n",
        "                                n.roll = dim(BVSP.df.out)[1],\n",
        "                                data = BVSP.df$BVSP.Return,\n",
        "                                out.sample = dim(BVSP.df.out)[1])\n",
        "\n",
        "egarch.forecast.b <- xts(sigma(egarch.pred.b)[1,],\n",
        "                         move(as.Date(names(sigma(egarch.pred.b)[1,])), by = 1))               "
      ],
      "id": "Q97EAAIsGwDR",
      "execution_count": 97,
      "outputs": []
    },
    {
      "cell_type": "code",
      "metadata": {
        "id": "QSI_GcusG5Yq"
      },
      "source": [
        "# Model filtering\n",
        "egarch.filt.pred <- ugarchfilter(egarch.spec.pred,\n",
        "                                data = BVSP.df$BVSP.Return,\n",
        "                                n.old = nrow(BVSP.df) - dim(BVSP.df.out)[1])\n",
        "\n",
        "egarch.filt <- tail(sigma(egarch.filt.pred), dim(BVSP.df.out)[1]) "
      ],
      "id": "QSI_GcusG5Yq",
      "execution_count": 98,
      "outputs": []
    },
    {
      "cell_type": "code",
      "metadata": {
        "colab": {
          "base_uri": "https://localhost:8080/",
          "height": 145
        },
        "id": "Vz2srX-ZHB-M",
        "outputId": "e15a0ac1-d346-49d0-976f-8059fd02e343"
      },
      "source": [
        "# Comparative\n",
        "colnames(egarch.filt) <- 'filter'\n",
        "colnames(egarch.forecast.a) <- 'forecast1'\n",
        "colnames(egarch.forecast.b) <- 'forecast2'\n",
        "\n",
        "egarch.ftest <- cbind(egarch.filt, \n",
        "                      egarch.forecast.a,\n",
        "                      egarch.forecast.b)\n",
        "head(round(egarch.ftest, digits = 4))"
      ],
      "id": "Vz2srX-ZHB-M",
      "execution_count": 99,
      "outputs": [
        {
          "output_type": "display_data",
          "data": {
            "text/plain": [
              "           filter forecast1 forecast2\n",
              "2014-12-18 2.2794    2.3151    2.2794\n",
              "2014-12-19 2.1911    2.2383    2.1911\n",
              "2014-12-22 2.1244    2.1789    2.1244\n",
              "2014-12-23 2.0254    2.0913    2.0254\n",
              "2014-12-26 1.9502    2.0229    1.9502\n",
              "2014-12-29 1.9989    2.0631    1.9989"
            ]
          },
          "metadata": {
            "tags": []
          }
        }
      ]
    },
    {
      "cell_type": "code",
      "metadata": {
        "colab": {
          "base_uri": "https://localhost:8080/",
          "height": 245
        },
        "id": "Mq5-c2zDHIzy",
        "outputId": "810284dc-a245-4622-e402-792658ff1a21"
      },
      "source": [
        "sigma.egarch.pred.a <- ts(egarch.forecast.a[-1,])\n",
        "sigma.egarch.pred.b <- ts(egarch.forecast.b[-1,])\n",
        "sigma.egarch.true <- ts(BVSP.df.out$BVSP.VolEGARCH)\n",
        "\n",
        "sigma.egarch <- na.omit(cbind(sigma.egarch.pred.a,\n",
        "                              sigma.egarch.pred.b,\n",
        "                              sigma.egarch.true))\n",
        "head(sigma.egarch)"
      ],
      "id": "Mq5-c2zDHIzy",
      "execution_count": 100,
      "outputs": [
        {
          "output_type": "display_data",
          "data": {
            "text/plain": [
              "  sigma.egarch.pred.a sigma.egarch.pred.b sigma.egarch.true\n",
              "1 2.238324            2.191107            5.195683         \n",
              "2 2.178901            2.124372            4.800948         \n",
              "3 2.091286            2.025405            4.512957         \n",
              "4 2.022900            1.950204            4.102263         \n",
              "5 2.063057            1.998877            3.803295         \n",
              "6 1.982182            1.908976            3.995508         "
            ],
            "text/latex": "A Time Series: 6 × 3\n\\begin{tabular}{r|lll}\n  & sigma.egarch.pred.a & sigma.egarch.pred.b & sigma.egarch.true\\\\\n\\hline\n\t1 & 2.238324 & 2.191107 & 5.195683\\\\\n\t2 & 2.178901 & 2.124372 & 4.800948\\\\\n\t3 & 2.091286 & 2.025405 & 4.512957\\\\\n\t4 & 2.022900 & 1.950204 & 4.102263\\\\\n\t5 & 2.063057 & 1.998877 & 3.803295\\\\\n\t6 & 1.982182 & 1.908976 & 3.995508\\\\\n\\end{tabular}\n",
            "text/markdown": "\nA Time Series: 6 × 3\n\n| <!--/--> | sigma.egarch.pred.a | sigma.egarch.pred.b | sigma.egarch.true |\n|---|---|---|---|\n| 1 | 2.238324 | 2.191107 | 5.195683 |\n| 2 | 2.178901 | 2.124372 | 4.800948 |\n| 3 | 2.091286 | 2.025405 | 4.512957 |\n| 4 | 2.022900 | 1.950204 | 4.102263 |\n| 5 | 2.063057 | 1.998877 | 3.803295 |\n| 6 | 1.982182 | 1.908976 | 3.995508 |\n\n",
            "text/html": [
              "<table class=\"dataframe\">\n",
              "<caption>A Time Series: 6 × 3</caption>\n",
              "<thead>\n",
              "\t<tr><th></th><th scope=col>sigma.egarch.pred.a</th><th scope=col>sigma.egarch.pred.b</th><th scope=col>sigma.egarch.true</th></tr>\n",
              "</thead>\n",
              "<tbody>\n",
              "\t<tr><th scope=row>1</th><td>2.238324</td><td>2.191107</td><td>5.195683</td></tr>\n",
              "\t<tr><th scope=row>2</th><td>2.178901</td><td>2.124372</td><td>4.800948</td></tr>\n",
              "\t<tr><th scope=row>3</th><td>2.091286</td><td>2.025405</td><td>4.512957</td></tr>\n",
              "\t<tr><th scope=row>4</th><td>2.022900</td><td>1.950204</td><td>4.102263</td></tr>\n",
              "\t<tr><th scope=row>5</th><td>2.063057</td><td>1.998877</td><td>3.803295</td></tr>\n",
              "\t<tr><th scope=row>6</th><td>1.982182</td><td>1.908976</td><td>3.995508</td></tr>\n",
              "</tbody>\n",
              "</table>\n"
            ]
          },
          "metadata": {
            "tags": []
          }
        }
      ]
    },
    {
      "cell_type": "markdown",
      "metadata": {
        "id": "kHT5c985HYvC"
      },
      "source": [
        "**Performance evaluation**"
      ],
      "id": "kHT5c985HYvC"
    },
    {
      "cell_type": "code",
      "metadata": {
        "colab": {
          "base_uri": "https://localhost:8080/",
          "height": 69
        },
        "id": "2zj41DH_HbJB",
        "outputId": "47fb6e24-941f-40a5-c9a3-1987970c3f0b"
      },
      "source": [
        "# Forecast Error - Forecast a\n",
        "egarch.error.a <- sigma.egarch[,'sigma.egarch.pred.a'] - sigma.egarch[,'sigma.egarch.true']\n",
        "head(egarch.error.a)"
      ],
      "id": "2zj41DH_HbJB",
      "execution_count": 101,
      "outputs": [
        {
          "output_type": "display_data",
          "data": {
            "text/plain": [
              "A Time Series:\n",
              "[1] -2.957360 -2.622047 -2.421671 -2.079363 -1.740239 -2.013326"
            ],
            "text/latex": "A Time Series:\\\\\\begin{enumerate*}\n\\item -2.95735957542463\n\\item -2.62204714033833\n\\item -2.42167108944654\n\\item -2.07936316265011\n\\item -1.74023892945191\n\\item -2.01332593701319\n\\end{enumerate*}\n",
            "text/markdown": "A Time Series:  \n1. -2.95735957542463\n2. -2.62204714033833\n3. -2.42167108944654\n4. -2.07936316265011\n5. -1.74023892945191\n6. -2.01332593701319\n\n\n",
            "text/html": [
              "A Time Series:<br><style>\n",
              ".list-inline {list-style: none; margin:0; padding: 0}\n",
              ".list-inline>li {display: inline-block}\n",
              ".list-inline>li:not(:last-child)::after {content: \"\\00b7\"; padding: 0 .5ex}\n",
              "</style>\n",
              "<ol class=list-inline><li>-2.95735957542463</li><li>-2.62204714033833</li><li>-2.42167108944654</li><li>-2.07936316265011</li><li>-1.74023892945191</li><li>-2.01332593701319</li></ol>\n"
            ]
          },
          "metadata": {
            "tags": []
          }
        }
      ]
    },
    {
      "cell_type": "code",
      "metadata": {
        "colab": {
          "base_uri": "https://localhost:8080/",
          "height": 69
        },
        "id": "qGfmTbM3HhNe",
        "outputId": "0d4e6a18-dd7e-4021-c646-77aa3f5f53cf"
      },
      "source": [
        "# Forecast Error - Forecast b\n",
        "egarch.error.b <- sigma.egarch[,'sigma.egarch.pred.b'] - sigma.egarch[,'sigma.egarch.true']\n",
        "head(egarch.error.b)"
      ],
      "id": "qGfmTbM3HhNe",
      "execution_count": 102,
      "outputs": [
        {
          "output_type": "display_data",
          "data": {
            "text/plain": [
              "A Time Series:\n",
              "[1] -3.004577 -2.676576 -2.487552 -2.152060 -1.804419 -2.086532"
            ],
            "text/latex": "A Time Series:\\\\\\begin{enumerate*}\n\\item -3.00457657326654\n\\item -2.67657616258969\n\\item -2.48755243086813\n\\item -2.1520595240401\n\\item -1.80441876144712\n\\item -2.08653167451968\n\\end{enumerate*}\n",
            "text/markdown": "A Time Series:  \n1. -3.00457657326654\n2. -2.67657616258969\n3. -2.48755243086813\n4. -2.1520595240401\n5. -1.80441876144712\n6. -2.08653167451968\n\n\n",
            "text/html": [
              "A Time Series:<br><style>\n",
              ".list-inline {list-style: none; margin:0; padding: 0}\n",
              ".list-inline>li {display: inline-block}\n",
              ".list-inline>li:not(:last-child)::after {content: \"\\00b7\"; padding: 0 .5ex}\n",
              "</style>\n",
              "<ol class=list-inline><li>-3.00457657326654</li><li>-2.67657616258969</li><li>-2.48755243086813</li><li>-2.1520595240401</li><li>-1.80441876144712</li><li>-2.08653167451968</li></ol>\n"
            ]
          },
          "metadata": {
            "tags": []
          }
        }
      ]
    },
    {
      "cell_type": "code",
      "metadata": {
        "colab": {
          "base_uri": "https://localhost:8080/",
          "height": 35
        },
        "id": "ghBbYBQ7HocG",
        "outputId": "0c75d735-57e2-4596-a236-594c8e094a72"
      },
      "source": [
        "# Mean Square Error Loss - Forecast a\n",
        "egarch.mse.a <- MSE(sigma.egarch[,'sigma.egarch.pred.a'],\n",
        "                    sigma.egarch[,'sigma.egarch.true'])\n",
        "round(egarch.mse.a, digits = 3)     "
      ],
      "id": "ghBbYBQ7HocG",
      "execution_count": 103,
      "outputs": [
        {
          "output_type": "display_data",
          "data": {
            "text/plain": [
              "[1] 12.801"
            ],
            "text/latex": "12.801",
            "text/markdown": "12.801",
            "text/html": [
              "12.801"
            ]
          },
          "metadata": {
            "tags": []
          }
        }
      ]
    },
    {
      "cell_type": "code",
      "metadata": {
        "colab": {
          "base_uri": "https://localhost:8080/",
          "height": 35
        },
        "id": "_D9c09GZHtiG",
        "outputId": "6d375238-e069-457d-dc48-2ef577602320"
      },
      "source": [
        "# Mean Square Error Loss - Forecast b\n",
        "egarch.mse.b <- MSE(sigma.egarch[,'sigma.egarch.pred.b'],\n",
        "                    sigma.egarch[,'sigma.egarch.true'])\n",
        "round(egarch.mse.b, digits = 3) "
      ],
      "id": "_D9c09GZHtiG",
      "execution_count": 104,
      "outputs": [
        {
          "output_type": "display_data",
          "data": {
            "text/plain": [
              "[1] 12.883"
            ],
            "text/latex": "12.883",
            "text/markdown": "12.883",
            "text/html": [
              "12.883"
            ]
          },
          "metadata": {
            "tags": []
          }
        }
      ]
    },
    {
      "cell_type": "code",
      "metadata": {
        "colab": {
          "base_uri": "https://localhost:8080/",
          "height": 35
        },
        "id": "0YnAkzX0HyHX",
        "outputId": "bfc39eec-5314-4438-a850-3a16f6d0ada3"
      },
      "source": [
        "# Mean Absolute Error Loss - Forecast a\n",
        "egarch.mae.a <- MAE(sigma.egarch[,'sigma.egarch.pred.a'],\n",
        "                    sigma.egarch[,'sigma.egarch.true'])\n",
        "round(egarch.mae.a, digits = 3)"
      ],
      "id": "0YnAkzX0HyHX",
      "execution_count": 105,
      "outputs": [
        {
          "output_type": "display_data",
          "data": {
            "text/plain": [
              "[1] 1.213"
            ],
            "text/latex": "1.213",
            "text/markdown": "1.213",
            "text/html": [
              "1.213"
            ]
          },
          "metadata": {
            "tags": []
          }
        }
      ]
    },
    {
      "cell_type": "code",
      "metadata": {
        "colab": {
          "base_uri": "https://localhost:8080/",
          "height": 35
        },
        "id": "brmCUjE_H4bJ",
        "outputId": "aa80d664-55ac-4e9e-d6f7-f9809d7e17b9"
      },
      "source": [
        "# Mean Absolute Error Loss - Forecast b\n",
        "egarch.mae.b <- MAE(sigma.egarch[,'sigma.egarch.pred.b'],\n",
        "                    sigma.egarch[,'sigma.egarch.true'])\n",
        "round(egarch.mae.b, digits = 3)"
      ],
      "id": "brmCUjE_H4bJ",
      "execution_count": 106,
      "outputs": [
        {
          "output_type": "display_data",
          "data": {
            "text/plain": [
              "[1] 1.22"
            ],
            "text/latex": "1.22",
            "text/markdown": "1.22",
            "text/html": [
              "1.22"
            ]
          },
          "metadata": {
            "tags": []
          }
        }
      ]
    },
    {
      "cell_type": "code",
      "metadata": {
        "colab": {
          "base_uri": "https://localhost:8080/",
          "height": 35
        },
        "id": "kBL2NOllIBLP",
        "outputId": "8605447a-3508-4a59-d79b-37d563cf1389"
      },
      "source": [
        "# Root Mean Square Error Loss - Forecast a\n",
        "egarch.rmse.a <- RMSE(sigma.egarch[,'sigma.egarch.pred.a'],\n",
        "                      sigma.egarch[,'sigma.egarch.true'])\n",
        "round(egarch.rmse.a, digits = 3)"
      ],
      "id": "kBL2NOllIBLP",
      "execution_count": 107,
      "outputs": [
        {
          "output_type": "display_data",
          "data": {
            "text/plain": [
              "[1] 3.578"
            ],
            "text/latex": "3.578",
            "text/markdown": "3.578",
            "text/html": [
              "3.578"
            ]
          },
          "metadata": {
            "tags": []
          }
        }
      ]
    },
    {
      "cell_type": "code",
      "metadata": {
        "colab": {
          "base_uri": "https://localhost:8080/",
          "height": 35
        },
        "id": "YZw8WsYrIGZr",
        "outputId": "1f097a82-3df1-45c3-f8da-cee81b356814"
      },
      "source": [
        "# Root Mean Square Error Loss - Forecast b\n",
        "egarch.rmse.b <- RMSE(sigma.egarch[,'sigma.egarch.pred.b'],\n",
        "                      sigma.egarch[,'sigma.egarch.true'])\n",
        "round(egarch.rmse.b, digits = 3)"
      ],
      "id": "YZw8WsYrIGZr",
      "execution_count": 108,
      "outputs": [
        {
          "output_type": "display_data",
          "data": {
            "text/plain": [
              "[1] 3.589"
            ],
            "text/latex": "3.589",
            "text/markdown": "3.589",
            "text/html": [
              "3.589"
            ]
          },
          "metadata": {
            "tags": []
          }
        }
      ]
    },
    {
      "cell_type": "code",
      "metadata": {
        "colab": {
          "base_uri": "https://localhost:8080/",
          "height": 35
        },
        "id": "lvf7k5Y2IK3Z",
        "outputId": "2a80673f-ad64-43a2-b0d5-469dd15c9f56"
      },
      "source": [
        "# Quasi-likelihood loss function - forecast a\n",
        "h <- BVSP.df.out$BVSP.VolEGARCH\n",
        "\n",
        "h.hat.a <- egarch.forecast.a[-1,]     \n",
        "egarch.qlike.a <- mean(log(sqrt(h)) + h.hat.a/sqrt(h))\n",
        "round(egarch.qlike.a, digits = 5) "
      ],
      "id": "lvf7k5Y2IK3Z",
      "execution_count": 109,
      "outputs": [
        {
          "output_type": "display_data",
          "data": {
            "text/plain": [
              "[1] 1.38414"
            ],
            "text/latex": "1.38414",
            "text/markdown": "1.38414",
            "text/html": [
              "1.38414"
            ]
          },
          "metadata": {
            "tags": []
          }
        }
      ]
    },
    {
      "cell_type": "code",
      "metadata": {
        "colab": {
          "base_uri": "https://localhost:8080/",
          "height": 35
        },
        "id": "ac17LDnAIdRq",
        "outputId": "66707572-1187-49b6-8813-63a7719e0d4f"
      },
      "source": [
        "# Quasi-likelihood loss function - forecast b\n",
        "h.hat.b <- egarch.forecast.b[-1,]\n",
        "egarch.qlike.b <- mean(log(sqrt(h)) + h.hat.b/sqrt(h))\n",
        "round(egarch.qlike.b, digits = 5) "
      ],
      "id": "ac17LDnAIdRq",
      "execution_count": 110,
      "outputs": [
        {
          "output_type": "display_data",
          "data": {
            "text/plain": [
              "[1] 1.38396"
            ],
            "text/latex": "1.38396",
            "text/markdown": "1.38396",
            "text/html": [
              "1.38396"
            ]
          },
          "metadata": {
            "tags": []
          }
        }
      ]
    },
    {
      "cell_type": "code",
      "metadata": {
        "colab": {
          "base_uri": "https://localhost:8080/",
          "height": 126
        },
        "id": "MDtn0VGCIhYb",
        "outputId": "f0b3b0b3-cef4-4997-d0fb-d8efcb883891"
      },
      "source": [
        "# Diebold-Mariano Test (accuracy test) - test 1\n",
        "f.a <- egarch.forecast.a\n",
        "f.b <- egarch.forecast.b\n",
        "y <- BVSP.df.out$BVSP.VolEGARCH\n",
        "\n",
        "DM.test(f.a, f.b, y, loss.type = \"SE\", c = FALSE, H1 = \"same\")"
      ],
      "id": "MDtn0VGCIhYb",
      "execution_count": 111,
      "outputs": [
        {
          "output_type": "display_data",
          "data": {
            "text/plain": [
              "\n",
              "\tDiebold-Mariano test\n",
              "\n",
              "data:  f.a and f.b and y\n",
              "statistic = -0.98075, forecast horizon = 1, p-value = 0.3267\n",
              "alternative hypothesis: Forecast f1 and f2 have different accuracy.\n"
            ]
          },
          "metadata": {
            "tags": []
          }
        }
      ]
    },
    {
      "cell_type": "code",
      "metadata": {
        "colab": {
          "base_uri": "https://localhost:8080/",
          "height": 145
        },
        "id": "iTwM8a02ImcX",
        "outputId": "f241acc5-de83-4fcb-e846-093da4d67e1d"
      },
      "source": [
        "# Diebold-Mariano test for predictive accuracy - test 2\n",
        "e.a <- egarch.error.a\n",
        "e.b <- egarch.error.b\n",
        "\n",
        "dm.test(e.a, e.b, alternative = \"two.sided\", h = 1, power = 2)"
      ],
      "id": "iTwM8a02ImcX",
      "execution_count": 112,
      "outputs": [
        {
          "output_type": "display_data",
          "data": {
            "text/plain": [
              "\n",
              "\tDiebold-Mariano Test\n",
              "\n",
              "data:  e.ae.b\n",
              "DM = -2.071, Forecast horizon = 1, Loss function power = 2, p-value =\n",
              "0.03852\n",
              "alternative hypothesis: two.sided\n"
            ]
          },
          "metadata": {
            "tags": []
          }
        }
      ]
    },
    {
      "cell_type": "code",
      "metadata": {
        "colab": {
          "base_uri": "https://localhost:8080/",
          "height": 35
        },
        "id": "ubakDsZgIphu",
        "outputId": "82afb10a-8a49-49b1-8a6e-bcbf312f2cee"
      },
      "source": [
        "# Quasi-likelihood Loss Function For Volatility Forecasts - forecast a\n",
        "egarch.qlike.a <- mean(LossVol(sigma.egarch[,'sigma.egarch.true'],\n",
        "                              sigma.egarch[,'sigma.egarch.pred.a'],\n",
        "                              which = \"QLIKE\"))\n",
        "round(egarch.qlike.a, digits = 3)"
      ],
      "id": "ubakDsZgIphu",
      "execution_count": 113,
      "outputs": [
        {
          "output_type": "display_data",
          "data": {
            "text/plain": [
              "[1] 3.529"
            ],
            "text/latex": "3.529",
            "text/markdown": "3.529",
            "text/html": [
              "3.529"
            ]
          },
          "metadata": {
            "tags": []
          }
        }
      ]
    },
    {
      "cell_type": "code",
      "metadata": {
        "colab": {
          "base_uri": "https://localhost:8080/",
          "height": 35
        },
        "id": "a0KYFwLDIwmm",
        "outputId": "853e06ea-3da6-4252-eb65-d384fe9f737b"
      },
      "source": [
        "# Quasi-likelihood Loss Function For Volatility Forecasts - forecast b\n",
        "egarch.qlike.b <- mean(LossVol(sigma.egarch[,'sigma.egarch.true'],\n",
        "                              sigma.egarch[,'sigma.egarch.pred.b'],\n",
        "                              which = \"QLIKE\"))\n",
        "round(egarch.qlike.b, digits = 3)"
      ],
      "id": "a0KYFwLDIwmm",
      "execution_count": 114,
      "outputs": [
        {
          "output_type": "display_data",
          "data": {
            "text/plain": [
              "[1] 3.562"
            ],
            "text/latex": "3.562",
            "text/markdown": "3.562",
            "text/html": [
              "3.562"
            ]
          },
          "metadata": {
            "tags": []
          }
        }
      ]
    },
    {
      "cell_type": "code",
      "metadata": {
        "colab": {
          "base_uri": "https://localhost:8080/",
          "height": 35
        },
        "id": "fegx1LuTI2iB",
        "outputId": "082112a8-ef19-48be-b227-a7249b0e5fac"
      },
      "source": [
        "# Log loss / Cross-Entropy Loss -  forecast a\n",
        "egarch.logloss.a <- LogLoss(sigma.egarch[,'sigma.egarch.pred.a'],\n",
        "                            sigma.egarch[,'sigma.egarch.true'])\n",
        "round(egarch.logloss.a, digits = 3)"
      ],
      "id": "fegx1LuTI2iB",
      "execution_count": 115,
      "outputs": [
        {
          "output_type": "display_data",
          "data": {
            "text/plain": [
              "[1] -60.419"
            ],
            "text/latex": "-60.419",
            "text/markdown": "-60.419",
            "text/html": [
              "-60.419"
            ]
          },
          "metadata": {
            "tags": []
          }
        }
      ]
    },
    {
      "cell_type": "code",
      "metadata": {
        "colab": {
          "base_uri": "https://localhost:8080/",
          "height": 35
        },
        "id": "Rorhgye9I9H4",
        "outputId": "5d3064be-d3b3-42d9-e387-488480eefac6"
      },
      "source": [
        "# Log loss / Cross-Entropy Loss -  forecast b\n",
        "egarch.logloss.b <- LogLoss(sigma.egarch[,'sigma.egarch.pred.b'],\n",
        "                            sigma.egarch[,'sigma.egarch.true'])\n",
        "round(egarch.logloss.b, digits = 3)"
      ],
      "id": "Rorhgye9I9H4",
      "execution_count": 116,
      "outputs": [
        {
          "output_type": "display_data",
          "data": {
            "text/plain": [
              "[1] -60.418"
            ],
            "text/latex": "-60.418",
            "text/markdown": "-60.418",
            "text/html": [
              "-60.418"
            ]
          },
          "metadata": {
            "tags": []
          }
        }
      ]
    },
    {
      "cell_type": "code",
      "metadata": {
        "colab": {
          "base_uri": "https://localhost:8080/",
          "height": 180
        },
        "id": "cztScVEKJB5j",
        "outputId": "9c2ea599-ac30-4233-d6c2-342d09442e30"
      },
      "source": [
        "# Linear regression to assess forecast performance - forecast a\n",
        "egarch.model.a <- lm(sigma.egarch.true ~ sigma.egarch.pred.a, \n",
        "                    data = sigma.egarch)\n",
        "round(coeftest(egarch.model.a, NeweyWest(egarch.model.a,\n",
        "                                        lag = bwNeweyWest(egarch.model.a),\n",
        "                                        prewhite = F)), 3)\n",
        "round(summary(egarch.model.a)$adj.r.squared, 3)"
      ],
      "id": "cztScVEKJB5j",
      "execution_count": 117,
      "outputs": [
        {
          "output_type": "display_data",
          "data": {
            "text/plain": [
              "\n",
              "t test of coefficients:\n",
              "\n",
              "                    Estimate Std. Error t value  Pr(>|t|)    \n",
              "(Intercept)           -6.181      1.288  -4.800 < 2.2e-16 ***\n",
              "sigma.egarch.pred.a    5.788      0.875   6.612 < 2.2e-16 ***\n",
              "---\n",
              "Signif. codes:  0 ‘***’ 0.001 ‘**’ 0.01 ‘*’ 0.05 ‘.’ 0.1 ‘ ’ 1\n"
            ]
          },
          "metadata": {
            "tags": []
          }
        },
        {
          "output_type": "display_data",
          "data": {
            "text/plain": [
              "[1] 0.849"
            ],
            "text/latex": "0.849",
            "text/markdown": "0.849",
            "text/html": [
              "0.849"
            ]
          },
          "metadata": {
            "tags": []
          }
        }
      ]
    },
    {
      "cell_type": "code",
      "metadata": {
        "colab": {
          "base_uri": "https://localhost:8080/",
          "height": 180
        },
        "id": "9ro2-RuaJIu0",
        "outputId": "0425c3a0-ab64-4b24-aa15-7c7376120ee9"
      },
      "source": [
        "# Linear regression to assess forecast performance - forecast b\n",
        "egarch.model.b <- lm(sigma.egarch.true ~ sigma.egarch.pred.b, \n",
        "                    data = sigma.egarch)\n",
        "round(coeftest(egarch.model.b, NeweyWest(egarch.model.b,\n",
        "                                        lag = bwNeweyWest(egarch.model.b),\n",
        "                                        prewhite = F)), 3)\n",
        "round(summary(egarch.model.b)$adj.r.squared, 3)"
      ],
      "id": "9ro2-RuaJIu0",
      "execution_count": 118,
      "outputs": [
        {
          "output_type": "display_data",
          "data": {
            "text/plain": [
              "\n",
              "t test of coefficients:\n",
              "\n",
              "                    Estimate Std. Error t value  Pr(>|t|)    \n",
              "(Intercept)           -6.420      1.225  -5.241 < 2.2e-16 ***\n",
              "sigma.egarch.pred.b    5.957      0.831   7.170 < 2.2e-16 ***\n",
              "---\n",
              "Signif. codes:  0 ‘***’ 0.001 ‘**’ 0.01 ‘*’ 0.05 ‘.’ 0.1 ‘ ’ 1\n"
            ]
          },
          "metadata": {
            "tags": []
          }
        },
        {
          "output_type": "display_data",
          "data": {
            "text/plain": [
              "[1] 0.855"
            ],
            "text/latex": "0.855",
            "text/markdown": "0.855",
            "text/html": [
              "0.855"
            ]
          },
          "metadata": {
            "tags": []
          }
        }
      ]
    },
    {
      "cell_type": "markdown",
      "metadata": {
        "id": "oFQkdPS-eVHu"
      },
      "source": [
        "##(c) GJR-GARCH"
      ],
      "id": "oFQkdPS-eVHu"
    },
    {
      "cell_type": "markdown",
      "metadata": {
        "id": "0IkxEGn3evX0"
      },
      "source": [
        "**Forecast**"
      ],
      "id": "0IkxEGn3evX0"
    },
    {
      "cell_type": "code",
      "metadata": {
        "id": "Bu5hsRqZezGx"
      },
      "source": [
        "# Model specification\n",
        "gjrgarch.spec.pred <- gjrgarch.spec\n",
        "setfixed(gjrgarch.spec.pred) <- as.list(coef(gjrgarch.fit))"
      ],
      "id": "Bu5hsRqZezGx",
      "execution_count": 119,
      "outputs": []
    },
    {
      "cell_type": "code",
      "metadata": {
        "id": "pnj0hU2se9-J"
      },
      "source": [
        "# Model adjustment\n",
        "gjrgarch.fit.pred <- ugarchfit(gjrgarch.spec,\n",
        "                              BVSP.df$BVSP.Return,\n",
        "                              out.sample = dim(BVSP.df.out)[1])"
      ],
      "id": "pnj0hU2se9-J",
      "execution_count": 120,
      "outputs": []
    },
    {
      "cell_type": "code",
      "metadata": {
        "id": "_3Rv4lN1fGbp"
      },
      "source": [
        "# Forecast calculated through adjustment\n",
        "gjrgarch.pred.a <- ugarchforecast(gjrgarch.fit.pred,\n",
        "                                 n.ahead = 1,\n",
        "                                 n.roll = dim(BVSP.df.out)[1])\n",
        "\n",
        "gjrgarch.forecast.a <- xts(sigma(gjrgarch.pred.a)[1,],\n",
        "                           move(as.Date(names(sigma(gjrgarch.pred.a)[1,])), by = 1))"
      ],
      "id": "_3Rv4lN1fGbp",
      "execution_count": 121,
      "outputs": []
    },
    {
      "cell_type": "code",
      "metadata": {
        "id": "BuoBNGH8fSEL"
      },
      "source": [
        "# Forecast calculated using specification\n",
        "gjrgarch.pred.b <- ugarchforecast(gjrgarch.spec.pred,\n",
        "                                  n.ahead = 1,\n",
        "                                  n.roll = dim(BVSP.df.out)[1],\n",
        "                                  data = BVSP.df$BVSP.Return,\n",
        "                                  out.sample = dim(BVSP.df.out)[1])\n",
        "\n",
        "gjrgarch.forecast.b <- xts(sigma(gjrgarch.pred.b)[1,],\n",
        "                           move(as.Date(names(sigma(gjrgarch.pred.b)[1,])), by = 1)) "
      ],
      "id": "BuoBNGH8fSEL",
      "execution_count": 122,
      "outputs": []
    },
    {
      "cell_type": "code",
      "metadata": {
        "id": "D8Sva5A_fh9s"
      },
      "source": [
        "# Model filtering\n",
        "gjrgarch.filt.pred <- ugarchfilter(gjrgarch.spec.pred,\n",
        "                                   data = BVSP.df$BVSP.Return,\n",
        "                                   n.old = nrow(BVSP.df) - dim(BVSP.df.out)[1])\n",
        "\n",
        "gjrgarch.filt <- tail(sigma(gjrgarch.filt.pred), dim(BVSP.df.out)[1]) "
      ],
      "id": "D8Sva5A_fh9s",
      "execution_count": 123,
      "outputs": []
    },
    {
      "cell_type": "code",
      "metadata": {
        "colab": {
          "base_uri": "https://localhost:8080/",
          "height": 145
        },
        "id": "Cud0ITmzfjyf",
        "outputId": "4ea589ac-b2cc-4cbc-82d5-311f5948b952"
      },
      "source": [
        "# Comparative\n",
        "colnames(gjrgarch.filt) <- 'filter'\n",
        "colnames(gjrgarch.forecast.a) <- 'forecast1'\n",
        "colnames(gjrgarch.forecast.b) <- 'forecast2'\n",
        "\n",
        "gjrgarch.ftest <- cbind(gjrgarch.filt, \n",
        "                        gjrgarch.forecast.a,\n",
        "                        gjrgarch.forecast.b)\n",
        "head(round(gjrgarch.ftest, digits = 4))"
      ],
      "id": "Cud0ITmzfjyf",
      "execution_count": 124,
      "outputs": [
        {
          "output_type": "display_data",
          "data": {
            "text/plain": [
              "           filter forecast1 forecast2\n",
              "2014-12-18 2.2283    2.2488    2.2283\n",
              "2014-12-19 2.1440    2.1811    2.1440\n",
              "2014-12-22 2.0816    2.1235    2.0816\n",
              "2014-12-23 2.0033    2.0585    2.0033\n",
              "2014-12-26 1.9362    1.9998    1.9362\n",
              "2014-12-29 1.9322    1.9957    1.9322"
            ]
          },
          "metadata": {
            "tags": []
          }
        }
      ]
    },
    {
      "cell_type": "code",
      "metadata": {
        "colab": {
          "base_uri": "https://localhost:8080/",
          "height": 245
        },
        "id": "HujuXn--flgj",
        "outputId": "979f1a0d-1202-4ebc-c898-b87093967924"
      },
      "source": [
        "sigma.gjrgarch.pred.a <- ts(gjrgarch.forecast.a[-1,])\n",
        "sigma.gjrgarch.pred.b <- ts(gjrgarch.forecast.b[-1,])\n",
        "sigma.gjrgarch.true <- ts(BVSP.df.out$BVSP.VolGJRGARCH)\n",
        "\n",
        "sigma.gjrgarch <- na.omit(cbind(sigma.gjrgarch.pred.a,\n",
        "                                sigma.gjrgarch.pred.b,\n",
        "                                sigma.gjrgarch.true))\n",
        "head(sigma.gjrgarch)"
      ],
      "id": "HujuXn--flgj",
      "execution_count": 125,
      "outputs": [
        {
          "output_type": "display_data",
          "data": {
            "text/plain": [
              "  sigma.gjrgarch.pred.a sigma.gjrgarch.pred.b sigma.gjrgarch.true\n",
              "1 2.181134              2.144047              4.965233           \n",
              "2 2.123483              2.081607              4.596936           \n",
              "3 2.058479              2.003337              4.333086           \n",
              "4 1.999778              1.936216              4.013357           \n",
              "5 1.995700              1.932160              3.748931           \n",
              "6 1.936492              1.862574              3.733243           "
            ],
            "text/latex": "A Time Series: 6 × 3\n\\begin{tabular}{r|lll}\n  & sigma.gjrgarch.pred.a & sigma.gjrgarch.pred.b & sigma.gjrgarch.true\\\\\n\\hline\n\t1 & 2.181134 & 2.144047 & 4.965233\\\\\n\t2 & 2.123483 & 2.081607 & 4.596936\\\\\n\t3 & 2.058479 & 2.003337 & 4.333086\\\\\n\t4 & 1.999778 & 1.936216 & 4.013357\\\\\n\t5 & 1.995700 & 1.932160 & 3.748931\\\\\n\t6 & 1.936492 & 1.862574 & 3.733243\\\\\n\\end{tabular}\n",
            "text/markdown": "\nA Time Series: 6 × 3\n\n| <!--/--> | sigma.gjrgarch.pred.a | sigma.gjrgarch.pred.b | sigma.gjrgarch.true |\n|---|---|---|---|\n| 1 | 2.181134 | 2.144047 | 4.965233 |\n| 2 | 2.123483 | 2.081607 | 4.596936 |\n| 3 | 2.058479 | 2.003337 | 4.333086 |\n| 4 | 1.999778 | 1.936216 | 4.013357 |\n| 5 | 1.995700 | 1.932160 | 3.748931 |\n| 6 | 1.936492 | 1.862574 | 3.733243 |\n\n",
            "text/html": [
              "<table class=\"dataframe\">\n",
              "<caption>A Time Series: 6 × 3</caption>\n",
              "<thead>\n",
              "\t<tr><th></th><th scope=col>sigma.gjrgarch.pred.a</th><th scope=col>sigma.gjrgarch.pred.b</th><th scope=col>sigma.gjrgarch.true</th></tr>\n",
              "</thead>\n",
              "<tbody>\n",
              "\t<tr><th scope=row>1</th><td>2.181134</td><td>2.144047</td><td>4.965233</td></tr>\n",
              "\t<tr><th scope=row>2</th><td>2.123483</td><td>2.081607</td><td>4.596936</td></tr>\n",
              "\t<tr><th scope=row>3</th><td>2.058479</td><td>2.003337</td><td>4.333086</td></tr>\n",
              "\t<tr><th scope=row>4</th><td>1.999778</td><td>1.936216</td><td>4.013357</td></tr>\n",
              "\t<tr><th scope=row>5</th><td>1.995700</td><td>1.932160</td><td>3.748931</td></tr>\n",
              "\t<tr><th scope=row>6</th><td>1.936492</td><td>1.862574</td><td>3.733243</td></tr>\n",
              "</tbody>\n",
              "</table>\n"
            ]
          },
          "metadata": {
            "tags": []
          }
        }
      ]
    },
    {
      "cell_type": "markdown",
      "metadata": {
        "id": "bUYdP2aVfnV8"
      },
      "source": [
        "**Performance evaluation**"
      ],
      "id": "bUYdP2aVfnV8"
    },
    {
      "cell_type": "code",
      "metadata": {
        "colab": {
          "base_uri": "https://localhost:8080/",
          "height": 69
        },
        "id": "SsZQktM-fpou",
        "outputId": "ee7cea67-67ce-4e38-e412-2b920ede8e94"
      },
      "source": [
        "# Forecast Error - Forecast a\n",
        "gjrgarch.error.a <- sigma.gjrgarch[,'sigma.gjrgarch.pred.a'] - sigma.gjrgarch[,'sigma.gjrgarch.true']\n",
        "head(gjrgarch.error.a)"
      ],
      "id": "SsZQktM-fpou",
      "execution_count": 126,
      "outputs": [
        {
          "output_type": "display_data",
          "data": {
            "text/plain": [
              "A Time Series:\n",
              "[1] -2.784099 -2.473453 -2.274606 -2.013579 -1.753231 -1.796750"
            ],
            "text/latex": "A Time Series:\\\\\\begin{enumerate*}\n\\item -2.78409912912798\n\\item -2.4734530435754\n\\item -2.27460648543498\n\\item -2.01357937733504\n\\item -1.75323092392702\n\\item -1.79675049171803\n\\end{enumerate*}\n",
            "text/markdown": "A Time Series:  \n1. -2.78409912912798\n2. -2.4734530435754\n3. -2.27460648543498\n4. -2.01357937733504\n5. -1.75323092392702\n6. -1.79675049171803\n\n\n",
            "text/html": [
              "A Time Series:<br><style>\n",
              ".list-inline {list-style: none; margin:0; padding: 0}\n",
              ".list-inline>li {display: inline-block}\n",
              ".list-inline>li:not(:last-child)::after {content: \"\\00b7\"; padding: 0 .5ex}\n",
              "</style>\n",
              "<ol class=list-inline><li>-2.78409912912798</li><li>-2.4734530435754</li><li>-2.27460648543498</li><li>-2.01357937733504</li><li>-1.75323092392702</li><li>-1.79675049171803</li></ol>\n"
            ]
          },
          "metadata": {
            "tags": []
          }
        }
      ]
    },
    {
      "cell_type": "code",
      "metadata": {
        "colab": {
          "base_uri": "https://localhost:8080/",
          "height": 69
        },
        "id": "jBBozS2dfq74",
        "outputId": "639e6cf8-bd29-4535-bda6-52fdb523e59f"
      },
      "source": [
        "# Forecast Error - Forecast b\n",
        "gjrgarch.error.b <- sigma.gjrgarch[,'sigma.gjrgarch.pred.b'] - sigma.gjrgarch[,'sigma.gjrgarch.true']\n",
        "head(gjrgarch.error.b)"
      ],
      "id": "jBBozS2dfq74",
      "execution_count": 127,
      "outputs": [
        {
          "output_type": "display_data",
          "data": {
            "text/plain": [
              "A Time Series:\n",
              "[1] -2.821186 -2.515329 -2.329749 -2.077142 -1.816771 -1.870668"
            ],
            "text/latex": "A Time Series:\\\\\\begin{enumerate*}\n\\item -2.82118635955423\n\\item -2.51532919969148\n\\item -2.32974917227978\n\\item -2.07714173446917\n\\item -1.81677116527387\n\\item -1.87066848039501\n\\end{enumerate*}\n",
            "text/markdown": "A Time Series:  \n1. -2.82118635955423\n2. -2.51532919969148\n3. -2.32974917227978\n4. -2.07714173446917\n5. -1.81677116527387\n6. -1.87066848039501\n\n\n",
            "text/html": [
              "A Time Series:<br><style>\n",
              ".list-inline {list-style: none; margin:0; padding: 0}\n",
              ".list-inline>li {display: inline-block}\n",
              ".list-inline>li:not(:last-child)::after {content: \"\\00b7\"; padding: 0 .5ex}\n",
              "</style>\n",
              "<ol class=list-inline><li>-2.82118635955423</li><li>-2.51532919969148</li><li>-2.32974917227978</li><li>-2.07714173446917</li><li>-1.81677116527387</li><li>-1.87066848039501</li></ol>\n"
            ]
          },
          "metadata": {
            "tags": []
          }
        }
      ]
    },
    {
      "cell_type": "code",
      "metadata": {
        "colab": {
          "base_uri": "https://localhost:8080/",
          "height": 35
        },
        "id": "i2fN1KMjfsXn",
        "outputId": "a0743978-22ec-4c94-ec98-d10810973088"
      },
      "source": [
        "# Mean Square Error Loss - Forecast a\n",
        "gjrgarch.mse.a <- MSE(sigma.gjrgarch[,'sigma.gjrgarch.pred.a'],\n",
        "                      sigma.gjrgarch[,'sigma.gjrgarch.true'])\n",
        "round(gjrgarch.mse.a, digits = 3)     "
      ],
      "id": "i2fN1KMjfsXn",
      "execution_count": 128,
      "outputs": [
        {
          "output_type": "display_data",
          "data": {
            "text/plain": [
              "[1] 31.377"
            ],
            "text/latex": "31.377",
            "text/markdown": "31.377",
            "text/html": [
              "31.377"
            ]
          },
          "metadata": {
            "tags": []
          }
        }
      ]
    },
    {
      "cell_type": "code",
      "metadata": {
        "colab": {
          "base_uri": "https://localhost:8080/",
          "height": 35
        },
        "id": "Lvt4jBa7ft6T",
        "outputId": "62d73b87-839f-434d-d0ea-4c6c06ec6533"
      },
      "source": [
        "# Mean Square Error Loss - Forecast b\n",
        "gjrgarch.mse.b <- MSE(sigma.gjrgarch[,'sigma.gjrgarch.pred.b'],\n",
        "                      sigma.gjrgarch[,'sigma.gjrgarch.true'])\n",
        "round(gjrgarch.mse.b, digits = 3) "
      ],
      "id": "Lvt4jBa7ft6T",
      "execution_count": 129,
      "outputs": [
        {
          "output_type": "display_data",
          "data": {
            "text/plain": [
              "[1] 31.465"
            ],
            "text/latex": "31.465",
            "text/markdown": "31.465",
            "text/html": [
              "31.465"
            ]
          },
          "metadata": {
            "tags": []
          }
        }
      ]
    },
    {
      "cell_type": "code",
      "metadata": {
        "colab": {
          "base_uri": "https://localhost:8080/",
          "height": 35
        },
        "id": "0F8MhYOFfveh",
        "outputId": "200aa195-a8a2-4c9f-a51b-ed8b4ca3580d"
      },
      "source": [
        "# Mean Absolute Error Loss - Forecast a\n",
        "gjrgarch.mae.a <- MAE(sigma.gjrgarch[,'sigma.gjrgarch.pred.a'],\n",
        "                      sigma.gjrgarch[,'sigma.gjrgarch.true'])\n",
        "round(gjrgarch.mae.a, digits = 3)"
      ],
      "id": "0F8MhYOFfveh",
      "execution_count": 130,
      "outputs": [
        {
          "output_type": "display_data",
          "data": {
            "text/plain": [
              "[1] 1.485"
            ],
            "text/latex": "1.485",
            "text/markdown": "1.485",
            "text/html": [
              "1.485"
            ]
          },
          "metadata": {
            "tags": []
          }
        }
      ]
    },
    {
      "cell_type": "code",
      "metadata": {
        "colab": {
          "base_uri": "https://localhost:8080/",
          "height": 35
        },
        "id": "jzHyH96NfxBJ",
        "outputId": "fc3343e7-294e-426a-c911-2d0963799342"
      },
      "source": [
        "# Mean Absolute Error Loss - Forecast b\n",
        "gjrgarch.mae.b <- MAE(sigma.gjrgarch[,'sigma.gjrgarch.pred.b'],\n",
        "                      sigma.gjrgarch[,'sigma.gjrgarch.true'])\n",
        "round(gjrgarch.mae.b, digits = 3)"
      ],
      "id": "jzHyH96NfxBJ",
      "execution_count": 131,
      "outputs": [
        {
          "output_type": "display_data",
          "data": {
            "text/plain": [
              "[1] 1.508"
            ],
            "text/latex": "1.508",
            "text/markdown": "1.508",
            "text/html": [
              "1.508"
            ]
          },
          "metadata": {
            "tags": []
          }
        }
      ]
    },
    {
      "cell_type": "code",
      "metadata": {
        "colab": {
          "base_uri": "https://localhost:8080/",
          "height": 35
        },
        "id": "-h5RQeH-fyoY",
        "outputId": "2d46c720-39c1-43f1-e046-941bdd5edab5"
      },
      "source": [
        "# Root Mean Square Error Loss - Forecast a\n",
        "gjrgarch.rmse.a <- RMSE(sigma.gjrgarch[,'sigma.gjrgarch.pred.a'],\n",
        "                        sigma.gjrgarch[,'sigma.gjrgarch.true'])\n",
        "round(gjrgarch.rmse.a, digits = 3)"
      ],
      "id": "-h5RQeH-fyoY",
      "execution_count": 132,
      "outputs": [
        {
          "output_type": "display_data",
          "data": {
            "text/plain": [
              "[1] 5.602"
            ],
            "text/latex": "5.602",
            "text/markdown": "5.602",
            "text/html": [
              "5.602"
            ]
          },
          "metadata": {
            "tags": []
          }
        }
      ]
    },
    {
      "cell_type": "code",
      "metadata": {
        "colab": {
          "base_uri": "https://localhost:8080/",
          "height": 35
        },
        "id": "CO0j4hDsf0d4",
        "outputId": "75e896f9-5070-4ba3-b0eb-e82b1c902c2e"
      },
      "source": [
        "# Root Mean Square Error Loss - Forecast b\n",
        "gjrgarch.rmse.b <- RMSE(sigma.gjrgarch[,'sigma.gjrgarch.pred.b'],\n",
        "                        sigma.gjrgarch[,'sigma.gjrgarch.true'])\n",
        "round(gjrgarch.rmse.b, digits = 3)"
      ],
      "id": "CO0j4hDsf0d4",
      "execution_count": 133,
      "outputs": [
        {
          "output_type": "display_data",
          "data": {
            "text/plain": [
              "[1] 5.609"
            ],
            "text/latex": "5.609",
            "text/markdown": "5.609",
            "text/html": [
              "5.609"
            ]
          },
          "metadata": {
            "tags": []
          }
        }
      ]
    },
    {
      "cell_type": "code",
      "metadata": {
        "colab": {
          "base_uri": "https://localhost:8080/",
          "height": 35
        },
        "id": "0izvA6naf2CT",
        "outputId": "3b1da869-6b0e-4d53-c43b-62e27d680d0f"
      },
      "source": [
        "# Quasi-likelihood loss function - forecast a\n",
        "h <- BVSP.df.out$BVSP.VolGJRGARCH\n",
        "\n",
        "h.hat.a <- gjrgarch.forecast.a[-1,]     \n",
        "gjrgarch.qlike.a <- mean(log(sqrt(h)) + h.hat.a/sqrt(h))\n",
        "round(gjrgarch.qlike.a, digits = 5) "
      ],
      "id": "0izvA6naf2CT",
      "execution_count": 134,
      "outputs": [
        {
          "output_type": "display_data",
          "data": {
            "text/plain": [
              "[1] 1.41138"
            ],
            "text/latex": "1.41138",
            "text/markdown": "1.41138",
            "text/html": [
              "1.41138"
            ]
          },
          "metadata": {
            "tags": []
          }
        }
      ]
    },
    {
      "cell_type": "code",
      "metadata": {
        "colab": {
          "base_uri": "https://localhost:8080/",
          "height": 35
        },
        "id": "OkYbmGlgf4CE",
        "outputId": "cd11f0c3-02ed-43a4-fe8f-a5211f0ea8a5"
      },
      "source": [
        "# Quasi-likelihood loss function - forecast b\n",
        "h.hat.b <- gjrgarch.forecast.b[-1,]\n",
        "gjrgarch.qlike.b <- mean(log(sqrt(h)) + h.hat.b/sqrt(h))\n",
        "round(gjrgarch.qlike.b, digits = 5) "
      ],
      "id": "OkYbmGlgf4CE",
      "execution_count": 135,
      "outputs": [
        {
          "output_type": "display_data",
          "data": {
            "text/plain": [
              "[1] 1.39837"
            ],
            "text/latex": "1.39837",
            "text/markdown": "1.39837",
            "text/html": [
              "1.39837"
            ]
          },
          "metadata": {
            "tags": []
          }
        }
      ]
    },
    {
      "cell_type": "code",
      "metadata": {
        "colab": {
          "base_uri": "https://localhost:8080/",
          "height": 126
        },
        "id": "rzS76jQef6U9",
        "outputId": "71d906d1-b487-4ef4-9bff-5cccec5ab823"
      },
      "source": [
        "# Diebold-Mariano Test (accuracy test) - test 1\n",
        "f.a <- gjrgarch.forecast.a\n",
        "f.b <- gjrgarch.forecast.b\n",
        "y <- BVSP.df.out$BVSP.VolGJRGARCH\n",
        "\n",
        "DM.test(f.a, f.b, y, loss.type = \"SE\", c = FALSE, H1 = \"same\")"
      ],
      "id": "rzS76jQef6U9",
      "execution_count": 136,
      "outputs": [
        {
          "output_type": "display_data",
          "data": {
            "text/plain": [
              "\n",
              "\tDiebold-Mariano test\n",
              "\n",
              "data:  f.a and f.b and y\n",
              "statistic = -0.3779, forecast horizon = 1, p-value = 0.7055\n",
              "alternative hypothesis: Forecast f1 and f2 have different accuracy.\n"
            ]
          },
          "metadata": {
            "tags": []
          }
        }
      ]
    },
    {
      "cell_type": "code",
      "metadata": {
        "colab": {
          "base_uri": "https://localhost:8080/",
          "height": 145
        },
        "id": "6Z5ZUPt9f78m",
        "outputId": "8d55c0d1-9266-4af2-ee80-ff614ca22358"
      },
      "source": [
        "# Diebold-Mariano test for predictive accuracy - test 2\n",
        "e.a <- gjrgarch.error.a\n",
        "e.b <- gjrgarch.error.b\n",
        "\n",
        "dm.test(e.a, e.b, alternative = \"two.sided\", h = 1, power = 2)"
      ],
      "id": "6Z5ZUPt9f78m",
      "execution_count": 137,
      "outputs": [
        {
          "output_type": "display_data",
          "data": {
            "text/plain": [
              "\n",
              "\tDiebold-Mariano Test\n",
              "\n",
              "data:  e.ae.b\n",
              "DM = -1.1927, Forecast horizon = 1, Loss function power = 2, p-value =\n",
              "0.2332\n",
              "alternative hypothesis: two.sided\n"
            ]
          },
          "metadata": {
            "tags": []
          }
        }
      ]
    },
    {
      "cell_type": "code",
      "metadata": {
        "colab": {
          "base_uri": "https://localhost:8080/",
          "height": 35
        },
        "id": "VXp_bhCxf9j3",
        "outputId": "4155cde0-f7ee-4e06-c8ca-45e87ebc1407"
      },
      "source": [
        "# Quasi-likelihood Loss Function For Volatility Forecasts - forecast a\n",
        "gjrgarch.qlike.a <- mean(LossVol(sigma.gjrgarch[,'sigma.gjrgarch.true'],\n",
        "                                 sigma.gjrgarch[,'sigma.gjrgarch.pred.a'],\n",
        "                                 which = \"QLIKE\"))\n",
        "round(gjrgarch.qlike.a, digits = 3)"
      ],
      "id": "VXp_bhCxf9j3",
      "execution_count": 138,
      "outputs": [
        {
          "output_type": "display_data",
          "data": {
            "text/plain": [
              "[1] 3.871"
            ],
            "text/latex": "3.871",
            "text/markdown": "3.871",
            "text/html": [
              "3.871"
            ]
          },
          "metadata": {
            "tags": []
          }
        }
      ]
    },
    {
      "cell_type": "code",
      "metadata": {
        "colab": {
          "base_uri": "https://localhost:8080/",
          "height": 35
        },
        "id": "rdnKVIIPhRw-",
        "outputId": "00531a42-38f9-4a61-eb98-0b4b5b2e0622"
      },
      "source": [
        "# Quasi-likelihood Loss Function For Volatility Forecasts - forecast b\n",
        "gjrgarch.qlike.b <- mean(LossVol(sigma.gjrgarch[,'sigma.gjrgarch.true'],\n",
        "                                 sigma.gjrgarch[,'sigma.gjrgarch.pred.b'],\n",
        "                                 which = \"QLIKE\"))\n",
        "round(gjrgarch.qlike.b, digits = 3)"
      ],
      "id": "rdnKVIIPhRw-",
      "execution_count": 139,
      "outputs": [
        {
          "output_type": "display_data",
          "data": {
            "text/plain": [
              "[1] 3.931"
            ],
            "text/latex": "3.931",
            "text/markdown": "3.931",
            "text/html": [
              "3.931"
            ]
          },
          "metadata": {
            "tags": []
          }
        }
      ]
    },
    {
      "cell_type": "code",
      "metadata": {
        "colab": {
          "base_uri": "https://localhost:8080/",
          "height": 35
        },
        "id": "MS_N8LCMhTKg",
        "outputId": "bbe927d0-2d99-4a80-8363-ec34fcaa468f"
      },
      "source": [
        "# Log loss / Cross-Entropy Loss -  forecast a\n",
        "gjrgarch.logloss.a <- LogLoss(sigma.gjrgarch[,'sigma.gjrgarch.pred.a'],\n",
        "                              sigma.gjrgarch[,'sigma.gjrgarch.true'])\n",
        "round(gjrgarch.logloss.a, digits = 3)"
      ],
      "id": "MS_N8LCMhTKg",
      "execution_count": 141,
      "outputs": [
        {
          "output_type": "display_data",
          "data": {
            "text/plain": [
              "[1] -71.634"
            ],
            "text/latex": "-71.634",
            "text/markdown": "-71.634",
            "text/html": [
              "-71.634"
            ]
          },
          "metadata": {
            "tags": []
          }
        }
      ]
    },
    {
      "cell_type": "code",
      "metadata": {
        "colab": {
          "base_uri": "https://localhost:8080/",
          "height": 35
        },
        "id": "5d2cFCtrhU8y",
        "outputId": "b0687a9a-b529-48bb-8e99-187f0e8ef23e"
      },
      "source": [
        "# Log loss / Cross-Entropy Loss -  forecast b\n",
        "gjrgarch.logloss.b <- LogLoss(sigma.gjrgarch[,'sigma.gjrgarch.pred.b'],\n",
        "                              sigma.gjrgarch[,'sigma.gjrgarch.true'])\n",
        "round(gjrgarch.logloss.b, digits = 3)"
      ],
      "id": "5d2cFCtrhU8y",
      "execution_count": 142,
      "outputs": [
        {
          "output_type": "display_data",
          "data": {
            "text/plain": [
              "[1] -71.636"
            ],
            "text/latex": "-71.636",
            "text/markdown": "-71.636",
            "text/html": [
              "-71.636"
            ]
          },
          "metadata": {
            "tags": []
          }
        }
      ]
    },
    {
      "cell_type": "code",
      "metadata": {
        "colab": {
          "base_uri": "https://localhost:8080/",
          "height": 180
        },
        "id": "b1gMzpGYhWtR",
        "outputId": "d2cd854c-f2f9-44e7-961b-779c3ec02d1c"
      },
      "source": [
        "# Linear regression to assess forecast performance - forecast a\n",
        "gjrgarch.model.a <- lm(sigma.gjrgarch.true ~ sigma.gjrgarch.pred.a, \n",
        "                      data = sigma.gjrgarch)\n",
        "round(coeftest(gjrgarch.model.a, NeweyWest(gjrgarch.model.a,\n",
        "                                          lag = bwNeweyWest(gjrgarch.model.a),\n",
        "                                          prewhite = F)), 3)\n",
        "round(summary(gjrgarch.model.a)$adj.r.squared, 3)"
      ],
      "id": "b1gMzpGYhWtR",
      "execution_count": 143,
      "outputs": [
        {
          "output_type": "display_data",
          "data": {
            "text/plain": [
              "\n",
              "t test of coefficients:\n",
              "\n",
              "                      Estimate Std. Error t value  Pr(>|t|)    \n",
              "(Intercept)             -8.571      1.494  -5.737 < 2.2e-16 ***\n",
              "sigma.gjrgarch.pred.a    7.294      0.998   7.310 < 2.2e-16 ***\n",
              "---\n",
              "Signif. codes:  0 ‘***’ 0.001 ‘**’ 0.01 ‘*’ 0.05 ‘.’ 0.1 ‘ ’ 1\n"
            ]
          },
          "metadata": {
            "tags": []
          }
        },
        {
          "output_type": "display_data",
          "data": {
            "text/plain": [
              "[1] 0.866"
            ],
            "text/latex": "0.866",
            "text/markdown": "0.866",
            "text/html": [
              "0.866"
            ]
          },
          "metadata": {
            "tags": []
          }
        }
      ]
    },
    {
      "cell_type": "code",
      "metadata": {
        "colab": {
          "base_uri": "https://localhost:8080/",
          "height": 180
        },
        "id": "tBYTx0AqhYC8",
        "outputId": "7c55f3af-8704-44ec-c626-9ebcf6e2e8ca"
      },
      "source": [
        "# Linear regression to assess forecast performance - forecast b\n",
        "gjrgarch.model.b <- lm(sigma.gjrgarch.true ~ sigma.gjrgarch.pred.b, \n",
        "                      data = sigma.gjrgarch)\n",
        "round(coeftest(gjrgarch.model.b, NeweyWest(gjrgarch.model.b,\n",
        "                                          lag = bwNeweyWest(gjrgarch.model.b),\n",
        "                                          prewhite = F)), 3)\n",
        "round(summary(gjrgarch.model.b)$adj.r.squared, 3)"
      ],
      "id": "tBYTx0AqhYC8",
      "execution_count": 144,
      "outputs": [
        {
          "output_type": "display_data",
          "data": {
            "text/plain": [
              "\n",
              "t test of coefficients:\n",
              "\n",
              "                      Estimate Std. Error t value  Pr(>|t|)    \n",
              "(Intercept)             -8.706      1.264  -6.889 < 2.2e-16 ***\n",
              "sigma.gjrgarch.pred.b    7.481      0.847   8.829 < 2.2e-16 ***\n",
              "---\n",
              "Signif. codes:  0 ‘***’ 0.001 ‘**’ 0.01 ‘*’ 0.05 ‘.’ 0.1 ‘ ’ 1\n"
            ]
          },
          "metadata": {
            "tags": []
          }
        },
        {
          "output_type": "display_data",
          "data": {
            "text/plain": [
              "[1] 0.884"
            ],
            "text/latex": "0.884",
            "text/markdown": "0.884",
            "text/html": [
              "0.884"
            ]
          },
          "metadata": {
            "tags": []
          }
        }
      ]
    },
    {
      "cell_type": "markdown",
      "metadata": {
        "id": "hBtX1JYCb3s3"
      },
      "source": [
        "#11. Forecast - Realized GARCH models"
      ],
      "id": "hBtX1JYCb3s3"
    },
    {
      "cell_type": "markdown",
      "metadata": {
        "id": "UIwlmS2LcHzI"
      },
      "source": [
        "##(a) Realized Linear GARCH"
      ],
      "id": "UIwlmS2LcHzI"
    },
    {
      "cell_type": "code",
      "metadata": {
        "id": "qz6geGd9cb1b"
      },
      "source": [
        "# Model specification\n",
        "realgarch.spec.pred <- realgarch.spec\n",
        "setfixed(realgarch.spec.pred) <- as.list(coef(realgarch.fit))"
      ],
      "id": "qz6geGd9cb1b",
      "execution_count": 145,
      "outputs": []
    },
    {
      "cell_type": "code",
      "metadata": {
        "id": "dmFRUuGzdBgQ"
      },
      "source": [
        "# Model adjustment\n",
        "realgarch.fit.pred <- ugarchfit(realgarch.spec,\n",
        "                                BVSP.df$BVSP.Return,\n",
        "                                out.sample = dim(BVSP.df.out)[1],\n",
        "                                solver = 'hybrid',\n",
        "                                realizedVol = BVSP.df$BVSP.VolGARCH)"
      ],
      "id": "dmFRUuGzdBgQ",
      "execution_count": 146,
      "outputs": []
    },
    {
      "cell_type": "code",
      "metadata": {
        "id": "uAyVSHF0eBkR"
      },
      "source": [
        "# Forecast calculated through adjustment\n",
        "realgarch.pred.a <- ugarchforecast(realgarch.fit.pred,\n",
        "                                   n.ahead = 1,\n",
        "                                   n.roll = dim(BVSP.df.out)[1])\n",
        "\n",
        "realgarch.forecast.a <- xts(sigma(realgarch.pred.a)[1,],\n",
        "                            move(as.Date(names(sigma(realgarch.pred.a)[1,])), by = 1))"
      ],
      "id": "uAyVSHF0eBkR",
      "execution_count": 147,
      "outputs": []
    },
    {
      "cell_type": "code",
      "metadata": {
        "id": "GpWgFuK_eVgR"
      },
      "source": [
        "# Forecast calculated using specification\n",
        "realgarch.pred.b <- ugarchforecast(realgarch.spec.pred, \n",
        "                                   n.ahead = 1, \n",
        "                                   n.roll = dim(BVSP.df.out)[1], \n",
        "                                   data = BVSP.df$BVSP.Return, \n",
        "                                   out.sample = dim(BVSP.df.out)[1], \n",
        "                                   realizedVol = BVSP.df$BVSP.VolRealGARCH)\n",
        "\n",
        "realgarch.forecast.b <- xts(sigma(realgarch.pred.b)[1,],\n",
        "                            move(as.Date(names(sigma(realgarch.pred.b)[1,])), by = 1))"
      ],
      "id": "GpWgFuK_eVgR",
      "execution_count": 148,
      "outputs": []
    },
    {
      "cell_type": "code",
      "metadata": {
        "id": "t-BKfrn_fXib"
      },
      "source": [
        "# Model filtering\n",
        "realgarch.filt.pred <- ugarchfilter(realgarch.spec.pred,\n",
        "                                    data = BVSP.df$BVSP.Return,\n",
        "                                    n.old = nrow(BVSP.df) - dim(BVSP.df.out)[1],\n",
        "                                    realizedVol = BVSP.df$BVSP.VolRealGARCH)\n",
        "\n",
        "realgarch.filt <- tail(sigma(realgarch.filt.pred), dim(BVSP.df.out)[1])"
      ],
      "id": "t-BKfrn_fXib",
      "execution_count": 149,
      "outputs": []
    },
    {
      "cell_type": "code",
      "metadata": {
        "colab": {
          "base_uri": "https://localhost:8080/",
          "height": 136
        },
        "id": "etKihjvFoDCY",
        "outputId": "8156e878-b2ad-4701-b28f-7fcc91874c03"
      },
      "source": [
        "# Comparative\n",
        "colnames(realgarch.filt) <- 'filter'\n",
        "colnames(realgarch.forecast.a) <- 'forecast1'\n",
        "colnames(realgarch.forecast.b) <- 'forecast2'\n",
        "\n",
        "realgarch.ftest <- cbind(realgarch.filt,\n",
        "                        realgarch.forecast.a,\n",
        "                        realgarch.forecast.b)\n",
        "head(round(realgarch.ftest, digits = 4))"
      ],
      "id": "etKihjvFoDCY",
      "execution_count": 150,
      "outputs": [
        {
          "output_type": "display_data",
          "data": {
            "text/plain": [
              "           filter forecast1 forecast2\n",
              "2014-12-18 2.1281    2.0614    2.1488\n",
              "2014-12-19 2.0421    2.2006    2.0610\n",
              "2014-12-22 2.1755    2.1135    2.2008\n",
              "2014-12-23 2.0984    2.1214    2.1140\n",
              "2014-12-26 2.1043    2.0566    2.1305\n",
              "2014-12-29 2.0338    2.0063    2.0564"
            ]
          },
          "metadata": {
            "tags": []
          }
        }
      ]
    },
    {
      "cell_type": "code",
      "metadata": {
        "colab": {
          "base_uri": "https://localhost:8080/",
          "height": 252
        },
        "id": "PLZ71If2oR7-",
        "outputId": "f3e791a1-f256-4927-998f-76560c44f8c3"
      },
      "source": [
        "sigma.realgarch.pred.a <- ts(realgarch.forecast.a[-1,])\n",
        "sigma.realgarch.pred.b <- ts(realgarch.forecast.b[-1,])\n",
        "sigma.realgarch.true <- ts(BVSP.df.out$BVSP.VolRealGARCH)\n",
        "\n",
        "sigma.realgarch <- na.omit(cbind(sigma.realgarch.pred.a,\n",
        "                                sigma.realgarch.pred.b,\n",
        "                                sigma.realgarch.true))\n",
        "head(sigma.realgarch)"
      ],
      "id": "PLZ71If2oR7-",
      "execution_count": 152,
      "outputs": [
        {
          "output_type": "display_data",
          "data": {
            "text/plain": [
              "  sigma.realgarch.pred.a sigma.realgarch.pred.b sigma.realgarch.true\n",
              "1 2.200643               2.061047               4.098386            \n",
              "2 2.113521               2.200823               4.671548            \n",
              "3 2.121410               2.114042               4.326113            \n",
              "4 2.056602               2.130456               4.359481            \n",
              "5 2.006326               2.056450               4.067284            \n",
              "6 1.971562               2.009548               3.895598            "
            ],
            "text/latex": "A Time Series: 6 × 3\n\\begin{tabular}{r|lll}\n  & sigma.realgarch.pred.a & sigma.realgarch.pred.b & sigma.realgarch.true\\\\\n\\hline\n\t1 & 2.200643 & 2.061047 & 4.098386\\\\\n\t2 & 2.113521 & 2.200823 & 4.671548\\\\\n\t3 & 2.121410 & 2.114042 & 4.326113\\\\\n\t4 & 2.056602 & 2.130456 & 4.359481\\\\\n\t5 & 2.006326 & 2.056450 & 4.067284\\\\\n\t6 & 1.971562 & 2.009548 & 3.895598\\\\\n\\end{tabular}\n",
            "text/markdown": "\nA Time Series: 6 × 3\n\n| <!--/--> | sigma.realgarch.pred.a | sigma.realgarch.pred.b | sigma.realgarch.true |\n|---|---|---|---|\n| 1 | 2.200643 | 2.061047 | 4.098386 |\n| 2 | 2.113521 | 2.200823 | 4.671548 |\n| 3 | 2.121410 | 2.114042 | 4.326113 |\n| 4 | 2.056602 | 2.130456 | 4.359481 |\n| 5 | 2.006326 | 2.056450 | 4.067284 |\n| 6 | 1.971562 | 2.009548 | 3.895598 |\n\n",
            "text/html": [
              "<table class=\"dataframe\">\n",
              "<caption>A Time Series: 6 × 3</caption>\n",
              "<thead>\n",
              "\t<tr><th></th><th scope=col>sigma.realgarch.pred.a</th><th scope=col>sigma.realgarch.pred.b</th><th scope=col>sigma.realgarch.true</th></tr>\n",
              "</thead>\n",
              "<tbody>\n",
              "\t<tr><th scope=row>1</th><td>2.200643</td><td>2.061047</td><td>4.098386</td></tr>\n",
              "\t<tr><th scope=row>2</th><td>2.113521</td><td>2.200823</td><td>4.671548</td></tr>\n",
              "\t<tr><th scope=row>3</th><td>2.121410</td><td>2.114042</td><td>4.326113</td></tr>\n",
              "\t<tr><th scope=row>4</th><td>2.056602</td><td>2.130456</td><td>4.359481</td></tr>\n",
              "\t<tr><th scope=row>5</th><td>2.006326</td><td>2.056450</td><td>4.067284</td></tr>\n",
              "\t<tr><th scope=row>6</th><td>1.971562</td><td>2.009548</td><td>3.895598</td></tr>\n",
              "</tbody>\n",
              "</table>\n"
            ]
          },
          "metadata": {
            "tags": []
          }
        }
      ]
    },
    {
      "cell_type": "markdown",
      "metadata": {
        "id": "FC4yfA9tog9z"
      },
      "source": [
        "**Performance evaluation**"
      ],
      "id": "FC4yfA9tog9z"
    },
    {
      "cell_type": "code",
      "metadata": {
        "colab": {
          "base_uri": "https://localhost:8080/",
          "height": 51
        },
        "id": "8F-5qQlPojtX",
        "outputId": "5c9b29f8-2c9d-49f3-e180-09afb5d06922"
      },
      "source": [
        "# Forecast Error - Forecast a\n",
        "realgarch.error.a <- sigma.realgarch[,'sigma.realgarch.pred.a'] - sigma.realgarch[,'sigma.realgarch.true']\n",
        "head(realgarch.error.a)"
      ],
      "id": "8F-5qQlPojtX",
      "execution_count": 153,
      "outputs": [
        {
          "output_type": "display_data",
          "data": {
            "text/plain": [
              "A Time Series:\n",
              "[1] -1.897744 -2.558028 -2.204703 -2.302879 -2.060958 -1.924036"
            ],
            "text/latex": "A Time Series:\\\\\\begin{enumerate*}\n\\item -1.89774350179184\n\\item -2.5580275889154\n\\item -2.20470326038254\n\\item -2.30287893680363\n\\item -2.06095814206317\n\\item -1.92403577042809\n\\end{enumerate*}\n",
            "text/markdown": "A Time Series:  \n1. -1.89774350179184\n2. -2.5580275889154\n3. -2.20470326038254\n4. -2.30287893680363\n5. -2.06095814206317\n6. -1.92403577042809\n\n\n",
            "text/html": [
              "A Time Series:<br><style>\n",
              ".list-inline {list-style: none; margin:0; padding: 0}\n",
              ".list-inline>li {display: inline-block}\n",
              ".list-inline>li:not(:last-child)::after {content: \"\\00b7\"; padding: 0 .5ex}\n",
              "</style>\n",
              "<ol class=list-inline><li>-1.89774350179184</li><li>-2.5580275889154</li><li>-2.20470326038254</li><li>-2.30287893680363</li><li>-2.06095814206317</li><li>-1.92403577042809</li></ol>\n"
            ]
          },
          "metadata": {
            "tags": []
          }
        }
      ]
    },
    {
      "cell_type": "code",
      "metadata": {
        "colab": {
          "base_uri": "https://localhost:8080/",
          "height": 51
        },
        "id": "PiJYuUxiotkL",
        "outputId": "2564dee6-72f7-4f07-c58c-bc31048094aa"
      },
      "source": [
        "# Forecast Error - Forecast b\n",
        "realgarch.error.b <- sigma.realgarch[,'sigma.realgarch.pred.b'] - sigma.realgarch[,'sigma.realgarch.true']\n",
        "head(realgarch.error.b)"
      ],
      "id": "PiJYuUxiotkL",
      "execution_count": 154,
      "outputs": [
        {
          "output_type": "display_data",
          "data": {
            "text/plain": [
              "A Time Series:\n",
              "[1] -2.037339 -2.470725 -2.212072 -2.229025 -2.010835 -1.886050"
            ],
            "text/latex": "A Time Series:\\\\\\begin{enumerate*}\n\\item -2.03733920266477\n\\item -2.47072518417582\n\\item -2.2120719605439\n\\item -2.22902497805242\n\\item -2.0108347768878\n\\item -1.88604988873838\n\\end{enumerate*}\n",
            "text/markdown": "A Time Series:  \n1. -2.03733920266477\n2. -2.47072518417582\n3. -2.2120719605439\n4. -2.22902497805242\n5. -2.0108347768878\n6. -1.88604988873838\n\n\n",
            "text/html": [
              "A Time Series:<br><style>\n",
              ".list-inline {list-style: none; margin:0; padding: 0}\n",
              ".list-inline>li {display: inline-block}\n",
              ".list-inline>li:not(:last-child)::after {content: \"\\00b7\"; padding: 0 .5ex}\n",
              "</style>\n",
              "<ol class=list-inline><li>-2.03733920266477</li><li>-2.47072518417582</li><li>-2.2120719605439</li><li>-2.22902497805242</li><li>-2.0108347768878</li><li>-1.88604988873838</li></ol>\n"
            ]
          },
          "metadata": {
            "tags": []
          }
        }
      ]
    },
    {
      "cell_type": "code",
      "metadata": {
        "colab": {
          "base_uri": "https://localhost:8080/",
          "height": 34
        },
        "id": "vbAvOFpLo0nu",
        "outputId": "b1e0b953-f0d9-4f75-b6e7-63cf5ce8e81c"
      },
      "source": [
        "# Mean Square Error Loss - Forecast a\n",
        "realgarch.mse.a <- MSE(sigma.realgarch[,'sigma.realgarch.pred.a'],\n",
        "                      sigma.realgarch[,'sigma.realgarch.true'])\n",
        "round(realgarch.mse.a, digits = 3)"
      ],
      "id": "vbAvOFpLo0nu",
      "execution_count": 155,
      "outputs": [
        {
          "output_type": "display_data",
          "data": {
            "text/plain": [
              "[1] 22.877"
            ],
            "text/latex": "22.877",
            "text/markdown": "22.877",
            "text/html": [
              "22.877"
            ]
          },
          "metadata": {
            "tags": []
          }
        }
      ]
    },
    {
      "cell_type": "code",
      "metadata": {
        "colab": {
          "base_uri": "https://localhost:8080/",
          "height": 34
        },
        "id": "NYOMn_1jpBuo",
        "outputId": "033c11f3-c6a6-42d9-a791-2dc76ce2969d"
      },
      "source": [
        "# Mean Square Error Loss - Forecast b\n",
        "realgarch.mse.b <- MSE(sigma.realgarch[,'sigma.realgarch.pred.b'],\n",
        "                      sigma.realgarch[,'sigma.realgarch.true'])\n",
        "round(realgarch.mse.b, digits = 3)"
      ],
      "id": "NYOMn_1jpBuo",
      "execution_count": 156,
      "outputs": [
        {
          "output_type": "display_data",
          "data": {
            "text/plain": [
              "[1] 22.751"
            ],
            "text/latex": "22.751",
            "text/markdown": "22.751",
            "text/html": [
              "22.751"
            ]
          },
          "metadata": {
            "tags": []
          }
        }
      ]
    },
    {
      "cell_type": "code",
      "metadata": {
        "colab": {
          "base_uri": "https://localhost:8080/",
          "height": 34
        },
        "id": "5gtUpAD3pLBL",
        "outputId": "c6c77d37-d1e6-4e0a-a520-21f73bdfd70c"
      },
      "source": [
        "# Mean Absolute Error Loss - Forecast a\n",
        "realgarch.mae.a <- MAE(sigma.realgarch[,'sigma.realgarch.pred.a'],\n",
        "                      sigma.realgarch[,'sigma.realgarch.true'])\n",
        "round(realgarch.mae.a, digits = 3)"
      ],
      "id": "5gtUpAD3pLBL",
      "execution_count": 157,
      "outputs": [
        {
          "output_type": "display_data",
          "data": {
            "text/plain": [
              "[1] 1.397"
            ],
            "text/latex": "1.397",
            "text/markdown": "1.397",
            "text/html": [
              "1.397"
            ]
          },
          "metadata": {
            "tags": []
          }
        }
      ]
    },
    {
      "cell_type": "code",
      "metadata": {
        "colab": {
          "base_uri": "https://localhost:8080/",
          "height": 34
        },
        "id": "vHqwSRt4psVv",
        "outputId": "4565dbeb-1dda-467f-caac-6af1665e0956"
      },
      "source": [
        "# Mean Absolute Error Loss - Forecast b\n",
        "realgarch.mae.b <- MAE(sigma.realgarch[,'sigma.realgarch.pred.b'],\n",
        "                      sigma.realgarch[,'sigma.realgarch.true'])\n",
        "round(realgarch.mae.b, digits = 3)"
      ],
      "id": "vHqwSRt4psVv",
      "execution_count": 158,
      "outputs": [
        {
          "output_type": "display_data",
          "data": {
            "text/plain": [
              "[1] 1.391"
            ],
            "text/latex": "1.391",
            "text/markdown": "1.391",
            "text/html": [
              "1.391"
            ]
          },
          "metadata": {
            "tags": []
          }
        }
      ]
    },
    {
      "cell_type": "code",
      "metadata": {
        "colab": {
          "base_uri": "https://localhost:8080/",
          "height": 34
        },
        "id": "zAncFWD3p1UQ",
        "outputId": "e8f80c0b-e2a6-49da-cbc8-43bc842456bf"
      },
      "source": [
        "# Root Mean Square Error Loss - Forecast a\n",
        "realgarch.rmse.a <- RMSE(sigma.realgarch[,'sigma.realgarch.pred.a'],\n",
        "                        sigma.realgarch[,'sigma.realgarch.true'])\n",
        "round(realgarch.rmse.a, digits = 3)"
      ],
      "id": "zAncFWD3p1UQ",
      "execution_count": 159,
      "outputs": [
        {
          "output_type": "display_data",
          "data": {
            "text/plain": [
              "[1] 4.783"
            ],
            "text/latex": "4.783",
            "text/markdown": "4.783",
            "text/html": [
              "4.783"
            ]
          },
          "metadata": {
            "tags": []
          }
        }
      ]
    },
    {
      "cell_type": "code",
      "metadata": {
        "colab": {
          "base_uri": "https://localhost:8080/",
          "height": 34
        },
        "id": "YUT2DAgbp_Hh",
        "outputId": "6fc2e777-f642-4dc7-9084-c47b3a124791"
      },
      "source": [
        "# Root Mean Square Error Loss - Forecast b\n",
        "realgarch.rmse.b <- RMSE(sigma.realgarch[,'sigma.realgarch.pred.b'],\n",
        "                        sigma.realgarch[,'sigma.realgarch.true'])\n",
        "round(realgarch.rmse.b, digits = 3)"
      ],
      "id": "YUT2DAgbp_Hh",
      "execution_count": 160,
      "outputs": [
        {
          "output_type": "display_data",
          "data": {
            "text/plain": [
              "[1] 4.77"
            ],
            "text/latex": "4.77",
            "text/markdown": "4.77",
            "text/html": [
              "4.77"
            ]
          },
          "metadata": {
            "tags": []
          }
        }
      ]
    },
    {
      "cell_type": "code",
      "metadata": {
        "colab": {
          "base_uri": "https://localhost:8080/",
          "height": 34
        },
        "id": "7NgsSo1NqGeb",
        "outputId": "aa7fd10f-bc3c-471e-b702-1a5cc0962e50"
      },
      "source": [
        "# Quasi-likelihood loss function - forecast a\n",
        "h <- BVSP.df.out$BVSP.VolRealGARCH\n",
        "\n",
        "h.hat.a <- realgarch.forecast.a[-1,]     \n",
        "realgarch.qlike.a <- mean(log(sqrt(h)) + h.hat.a/sqrt(h))\n",
        "round(realgarch.qlike.a, digits = 5)"
      ],
      "id": "7NgsSo1NqGeb",
      "execution_count": 161,
      "outputs": [
        {
          "output_type": "display_data",
          "data": {
            "text/plain": [
              "[1] 1.41847"
            ],
            "text/latex": "1.41847",
            "text/markdown": "1.41847",
            "text/html": [
              "1.41847"
            ]
          },
          "metadata": {
            "tags": []
          }
        }
      ]
    },
    {
      "cell_type": "code",
      "metadata": {
        "id": "iW1lc37WqRWB",
        "colab": {
          "base_uri": "https://localhost:8080/",
          "height": 34
        },
        "outputId": "37d36c77-bc4f-4aa8-bb15-b2ad3248c127"
      },
      "source": [
        "# Quasi-likelihood loss function - forecast b\n",
        "h.hat.b <- realgarch.forecast.b[-1,]\n",
        "realgarch.qlike.b <- mean(log(sqrt(h)) + h.hat.b/sqrt(h))\n",
        "round(realgarch.qlike.b, digits = 5)"
      ],
      "id": "iW1lc37WqRWB",
      "execution_count": 162,
      "outputs": [
        {
          "output_type": "display_data",
          "data": {
            "text/plain": [
              "[1] 1.41968"
            ],
            "text/latex": "1.41968",
            "text/markdown": "1.41968",
            "text/html": [
              "1.41968"
            ]
          },
          "metadata": {
            "tags": []
          }
        }
      ]
    },
    {
      "cell_type": "code",
      "metadata": {
        "colab": {
          "base_uri": "https://localhost:8080/",
          "height": 34
        },
        "id": "TMTJMS8Irbu-",
        "outputId": "5cd778b1-d6aa-4169-e06c-9d027965017c"
      },
      "source": [
        "# Log loss / Cross-Entropy Loss -  forecast a\n",
        "realgarch.logloss.a <- LogLoss(sigma.realgarch[,'sigma.realgarch.pred.a'],\n",
        "                              sigma.realgarch[,'sigma.realgarch.true'])\n",
        "round(realgarch.logloss.a, digits = 3)"
      ],
      "id": "TMTJMS8Irbu-",
      "execution_count": 163,
      "outputs": [
        {
          "output_type": "display_data",
          "data": {
            "text/plain": [
              "[1] -68.77"
            ],
            "text/latex": "-68.77",
            "text/markdown": "-68.77",
            "text/html": [
              "-68.77"
            ]
          },
          "metadata": {
            "tags": []
          }
        }
      ]
    },
    {
      "cell_type": "code",
      "metadata": {
        "colab": {
          "base_uri": "https://localhost:8080/",
          "height": 34
        },
        "id": "YZMTB5ofrd7X",
        "outputId": "8a5341a7-392b-45c1-9ce0-9914f819907c"
      },
      "source": [
        "# Log loss / Cross-Entropy Loss -  forecast b\n",
        "realgarch.logloss.b <- LogLoss(sigma.realgarch[,'sigma.realgarch.pred.b'],\n",
        "                              sigma.realgarch[,'sigma.realgarch.true'])\n",
        "round(realgarch.logloss.b, digits = 3)"
      ],
      "id": "YZMTB5ofrd7X",
      "execution_count": 164,
      "outputs": [
        {
          "output_type": "display_data",
          "data": {
            "text/plain": [
              "[1] -68.77"
            ],
            "text/latex": "-68.77",
            "text/markdown": "-68.77",
            "text/html": [
              "-68.77"
            ]
          },
          "metadata": {
            "tags": []
          }
        }
      ]
    },
    {
      "cell_type": "code",
      "metadata": {
        "colab": {
          "base_uri": "https://localhost:8080/",
          "height": 170
        },
        "id": "JEMT__yorfjp",
        "outputId": "508693e3-ec40-4681-8a06-4ff29007bc43"
      },
      "source": [
        "# Linear regression to assess forecast performance - forecast a\n",
        "realgarch.model.a <- lm(sigma.realgarch.true ~ sigma.realgarch.pred.a,\n",
        "                        data = sigma.realgarch)\n",
        "round(coeftest(realgarch.model.a, NeweyWest(realgarch.model.a,\n",
        "                                            lag = bwNeweyWest(realgarch.model.a),\n",
        "                                            prewhite = F)), 3)\n",
        "round(summary(realgarch.model.a)$adj.r.squared, 3)"
      ],
      "id": "JEMT__yorfjp",
      "execution_count": 166,
      "outputs": [
        {
          "output_type": "display_data",
          "data": {
            "text/plain": [
              "\n",
              "t test of coefficients:\n",
              "\n",
              "                       Estimate Std. Error t value  Pr(>|t|)    \n",
              "(Intercept)              -7.904      0.952  -8.305 < 2.2e-16 ***\n",
              "sigma.realgarch.pred.a    6.811      0.633  10.762 < 2.2e-16 ***\n",
              "---\n",
              "Signif. codes:  0 ‘***’ 0.001 ‘**’ 0.01 ‘*’ 0.05 ‘.’ 0.1 ‘ ’ 1\n"
            ]
          },
          "metadata": {
            "tags": []
          }
        },
        {
          "output_type": "display_data",
          "data": {
            "text/plain": [
              "[1] 0.898"
            ],
            "text/latex": "0.898",
            "text/markdown": "0.898",
            "text/html": [
              "0.898"
            ]
          },
          "metadata": {
            "tags": []
          }
        }
      ]
    },
    {
      "cell_type": "code",
      "metadata": {
        "colab": {
          "base_uri": "https://localhost:8080/",
          "height": 170
        },
        "id": "ldQCcTrrrhmc",
        "outputId": "d14b15ca-1c13-4631-8a45-fd4c99bbcc2f"
      },
      "source": [
        "# Linear regression to assess forecast performance - forecast b\n",
        "realgarch.model.b <- lm(sigma.realgarch.true ~ sigma.realgarch.pred.b,\n",
        "                        data = sigma.realgarch)\n",
        "round(coeftest(realgarch.model.b, NeweyWest(realgarch.model.b,\n",
        "                                            lag = bwNeweyWest(realgarch.model.b),\n",
        "                                            prewhite = F)), 3)\n",
        "round(summary(realgarch.model.b)$adj.r.squared, 3)"
      ],
      "id": "ldQCcTrrrhmc",
      "execution_count": 167,
      "outputs": [
        {
          "output_type": "display_data",
          "data": {
            "text/plain": [
              "\n",
              "t test of coefficients:\n",
              "\n",
              "                       Estimate Std. Error t value  Pr(>|t|)    \n",
              "(Intercept)              -7.943      1.004  -7.908 < 2.2e-16 ***\n",
              "sigma.realgarch.pred.b    6.832      0.666  10.264 < 2.2e-16 ***\n",
              "---\n",
              "Signif. codes:  0 ‘***’ 0.001 ‘**’ 0.01 ‘*’ 0.05 ‘.’ 0.1 ‘ ’ 1\n"
            ]
          },
          "metadata": {
            "tags": []
          }
        },
        {
          "output_type": "display_data",
          "data": {
            "text/plain": [
              "[1] 0.917"
            ],
            "text/latex": "0.917",
            "text/markdown": "0.917",
            "text/html": [
              "0.917"
            ]
          },
          "metadata": {
            "tags": []
          }
        }
      ]
    },
    {
      "cell_type": "markdown",
      "metadata": {
        "id": "OuZavxA4cLrP"
      },
      "source": [
        "##(b) Realized EGARCH"
      ],
      "id": "OuZavxA4cLrP"
    },
    {
      "cell_type": "markdown",
      "metadata": {
        "id": "F09WUjYGcRlC"
      },
      "source": [
        "##(c) Realized GJR-GARCH"
      ],
      "id": "F09WUjYGcRlC"
    }
  ]
}