{
  "nbformat": 4,
  "nbformat_minor": 5,
  "metadata": {
    "kernelspec": {
      "display_name": "R",
      "language": "R",
      "name": "ir"
    },
    "language_info": {
      "codemirror_mode": "r",
      "file_extension": ".r",
      "mimetype": "text/x-r-source",
      "name": "R",
      "pygments_lexer": "r",
      "version": "3.6.1"
    },
    "colab": {
      "name": "DM_GARCH_China.ipynb",
      "provenance": [],
      "collapsed_sections": []
    }
  },
  "cells": [
    {
      "cell_type": "markdown",
      "metadata": {
        "id": "10c9fc70"
      },
      "source": [
        "# Analysis of stock returns forecasts"
      ],
      "id": "10c9fc70"
    },
    {
      "cell_type": "markdown",
      "metadata": {
        "id": "0a03ea35"
      },
      "source": [
        "**Reference**: Realized GARCH models: Simpler is better (Xie & Yu, 2019)\n",
        "\n",
        "Sample: China (^HSCE)"
      ],
      "id": "0a03ea35"
    },
    {
      "cell_type": "code",
      "metadata": {
        "id": "66c60229"
      },
      "source": [
        "# Memory clearing\n",
        "rm(list=ls())"
      ],
      "id": "66c60229",
      "execution_count": 1,
      "outputs": []
    },
    {
      "cell_type": "markdown",
      "metadata": {
        "id": "5e52a103"
      },
      "source": [
        "## 1. Data import"
      ],
      "id": "5e52a103"
    },
    {
      "cell_type": "code",
      "metadata": {
        "colab": {
          "base_uri": "https://localhost:8080/"
        },
        "id": "a015db89",
        "outputId": "90074545-815c-45b1-b1de-af8886ef3540"
      },
      "source": [
        "# Packages\n",
        "install.packages('quantmod')\n",
        "install.packages('tidyquant')\n",
        "install.packages('PerformanceAnalytics')\n",
        "\n",
        "library(quantmod)\n",
        "library(tidyquant)\n",
        "library(PerformanceAnalytics)"
      ],
      "id": "a015db89",
      "execution_count": 2,
      "outputs": [
        {
          "output_type": "stream",
          "name": "stderr",
          "text": [
            "Installing package into ‘/usr/local/lib/R/site-library’\n",
            "(as ‘lib’ is unspecified)\n",
            "\n",
            "also installing the dependencies ‘xts’, ‘zoo’, ‘TTR’\n",
            "\n",
            "\n",
            "Installing package into ‘/usr/local/lib/R/site-library’\n",
            "(as ‘lib’ is unspecified)\n",
            "\n",
            "also installing the dependencies ‘future.apply’, ‘progressr’, ‘numDeriv’, ‘SQUAREM’, ‘lava’, ‘prodlim’, ‘globals’, ‘later’, ‘listenv’, ‘parallelly’, ‘gower’, ‘hardhat’, ‘ipred’, ‘furrr’, ‘htmlwidgets’, ‘crosstalk’, ‘promises’, ‘warp’, ‘BH’, ‘fracdiff’, ‘lmtest’, ‘tseries’, ‘urca’, ‘RcppArmadillo’, ‘RcppRoll’, ‘future’, ‘quadprog’, ‘recipes’, ‘rsample’, ‘plotly’, ‘padr’, ‘slider’, ‘anytime’, ‘forecast’, ‘tsfeatures’, ‘snakecase’, ‘PerformanceAnalytics’, ‘lazyeval’, ‘Quandl’, ‘riingo’, ‘alphavantager’, ‘timetk’, ‘timeDate’, ‘janitor’\n",
            "\n",
            "\n",
            "Installing package into ‘/usr/local/lib/R/site-library’\n",
            "(as ‘lib’ is unspecified)\n",
            "\n",
            "Loading required package: xts\n",
            "\n",
            "Loading required package: zoo\n",
            "\n",
            "\n",
            "Attaching package: ‘zoo’\n",
            "\n",
            "\n",
            "The following objects are masked from ‘package:base’:\n",
            "\n",
            "    as.Date, as.Date.numeric\n",
            "\n",
            "\n",
            "Loading required package: TTR\n",
            "\n",
            "Registered S3 method overwritten by 'quantmod':\n",
            "  method            from\n",
            "  as.zoo.data.frame zoo \n",
            "\n",
            "Loading required package: lubridate\n",
            "\n",
            "Warning message in system(\"timedatectl\", intern = TRUE):\n",
            "“running command 'timedatectl' had status 1”\n",
            "\n",
            "Attaching package: ‘lubridate’\n",
            "\n",
            "\n",
            "The following objects are masked from ‘package:base’:\n",
            "\n",
            "    date, intersect, setdiff, union\n",
            "\n",
            "\n",
            "Loading required package: PerformanceAnalytics\n",
            "\n",
            "\n",
            "Attaching package: ‘PerformanceAnalytics’\n",
            "\n",
            "\n",
            "The following object is masked from ‘package:graphics’:\n",
            "\n",
            "    legend\n",
            "\n",
            "\n",
            "\u001b[30m══\u001b[39m \u001b[30mNeed to Learn tidyquant?\u001b[39m \u001b[30m════════════════════════════════════════════════════\u001b[39m\u001b[34m\n",
            "Business Science offers a 1-hour course - Learning Lab #9: Performance Analysis & Portfolio Optimization with tidyquant!\n",
            "\u001b[39m\u001b[34m</> Learn more at: https://university.business-science.io/p/learning-labs-pro </>\u001b[39m\n",
            "\n"
          ]
        }
      ]
    },
    {
      "cell_type": "markdown",
      "metadata": {
        "id": "77462b8b-5261-4090-9001-2c344b610bd8"
      },
      "source": [
        "**Reading the datas (Source: Yahoo Finance)**"
      ],
      "id": "77462b8b-5261-4090-9001-2c344b610bd8"
    },
    {
      "cell_type": "code",
      "metadata": {
        "colab": {
          "base_uri": "https://localhost:8080/",
          "height": 263
        },
        "id": "90849e76",
        "outputId": "10d67351-2443-4023-b039-ca782daf5ea6"
      },
      "source": [
        "getSymbols(\"^HSCE\", from = '2000-01-01', to = '2021-10-31') "
      ],
      "id": "90849e76",
      "execution_count": 3,
      "outputs": [
        {
          "output_type": "stream",
          "name": "stderr",
          "text": [
            "‘getSymbols’ currently uses auto.assign=TRUE by default, but will\n",
            "use auto.assign=FALSE in 0.5-0. You will still be able to use\n",
            "‘loadSymbols’ to automatically load data. getOption(\"getSymbols.env\")\n",
            "and getOption(\"getSymbols.auto.assign\") will still be checked for\n",
            "alternate defaults.\n",
            "\n",
            "This message is shown once per session and may be disabled by setting \n",
            "options(\"getSymbols.warning4.0\"=FALSE). See ?getSymbols for details.\n",
            "\n",
            "\n",
            "Warning message:\n",
            "“^HSCE contains missing values. Some functions will not work if objects contain missing values in the middle of the series. Consider using na.omit(), na.approx(), na.fill(), etc to remove or replace them.”\n"
          ]
        },
        {
          "output_type": "display_data",
          "data": {
            "text/plain": [
              "[1] \"^HSCE\""
            ],
            "text/latex": "'\\textasciicircum{}HSCE'",
            "text/markdown": "'^HSCE'",
            "text/html": [
              "'^HSCE'"
            ]
          },
          "metadata": {}
        }
      ]
    },
    {
      "cell_type": "markdown",
      "metadata": {
        "id": "37fcac8f-663c-4ab6-a2ec-d3dfb628e1d8"
      },
      "source": [
        "**Checking data frequency**"
      ],
      "id": "37fcac8f-663c-4ab6-a2ec-d3dfb628e1d8"
    },
    {
      "cell_type": "code",
      "metadata": {
        "colab": {
          "base_uri": "https://localhost:8080/",
          "height": 34
        },
        "id": "cf681b78-5138-4ee8-aee3-2e93db60bece",
        "outputId": "fb4acc7a-5e20-4513-91ff-bbae7c7befa6"
      },
      "source": [
        "periodicity(HSCE)        "
      ],
      "id": "cf681b78-5138-4ee8-aee3-2e93db60bece",
      "execution_count": 4,
      "outputs": [
        {
          "output_type": "display_data",
          "data": {
            "text/plain": [
              "Daily periodicity from 2000-01-03 to 2021-10-29 "
            ]
          },
          "metadata": {}
        }
      ]
    },
    {
      "cell_type": "markdown",
      "metadata": {
        "id": "7d452205-8ea1-461b-a15f-682cc4b96318"
      },
      "source": [
        "**Identifying missing values (%)**"
      ],
      "id": "7d452205-8ea1-461b-a15f-682cc4b96318"
    },
    {
      "cell_type": "code",
      "metadata": {
        "colab": {
          "base_uri": "https://localhost:8080/",
          "height": 69
        },
        "id": "7d329e61-d1a6-4c17-82ad-0a4ea31d0232",
        "outputId": "65511a56-c1ab-44ff-9e31-f8778c113d6b"
      },
      "source": [
        "round(prop.table(table(is.na(HSCE)))*100, digits = 2)       "
      ],
      "id": "7d329e61-d1a6-4c17-82ad-0a4ea31d0232",
      "execution_count": 5,
      "outputs": [
        {
          "output_type": "display_data",
          "data": {
            "text/plain": [
              "\n",
              "FALSE  TRUE \n",
              "97.84  2.16 "
            ]
          },
          "metadata": {}
        }
      ]
    },
    {
      "cell_type": "markdown",
      "metadata": {
        "id": "b3787f51-b9fb-458d-b650-5c19b0c22c44"
      },
      "source": [
        "**Removing missing values**"
      ],
      "id": "b3787f51-b9fb-458d-b650-5c19b0c22c44"
    },
    {
      "cell_type": "code",
      "metadata": {
        "id": "4c168321-5b36-4058-b5fc-c9170fc50afd",
        "colab": {
          "base_uri": "https://localhost:8080/",
          "height": 69
        },
        "outputId": "0ade4c9a-03fb-4d9d-e0e9-8f6ce19260a3"
      },
      "source": [
        "HSCE <- na.omit(HSCE)    \n",
        "round(prop.table(table(is.na(HSCE)))*100, digits = 2)         "
      ],
      "id": "4c168321-5b36-4058-b5fc-c9170fc50afd",
      "execution_count": 6,
      "outputs": [
        {
          "output_type": "display_data",
          "data": {
            "text/plain": [
              "\n",
              "FALSE \n",
              "  100 "
            ]
          },
          "metadata": {}
        }
      ]
    },
    {
      "cell_type": "markdown",
      "metadata": {
        "id": "ef01dac6-72b2-4ec0-b160-1fbdf579a04e"
      },
      "source": [
        "**Removing unnecessary features**"
      ],
      "id": "ef01dac6-72b2-4ec0-b160-1fbdf579a04e"
    },
    {
      "cell_type": "code",
      "metadata": {
        "colab": {
          "base_uri": "https://localhost:8080/",
          "height": 139
        },
        "id": "ea0759f7-0353-404b-b206-98bc5c35d66a",
        "outputId": "4ca4f95f-6649-4efe-bb5f-0adaa0c220ea"
      },
      "source": [
        "HSCE.df <- HSCE[,'HSCE.Close']                              \n",
        "head(HSCE.df)"
      ],
      "id": "ea0759f7-0353-404b-b206-98bc5c35d66a",
      "execution_count": 7,
      "outputs": [
        {
          "output_type": "display_data",
          "data": {
            "text/plain": [
              "           HSCE.Close\n",
              "2000-01-03    1999.99\n",
              "2000-01-04    2082.93\n",
              "2000-01-05    1956.57\n",
              "2000-01-06    1904.20\n",
              "2000-01-07    2004.51\n",
              "2000-01-10    2061.00"
            ]
          },
          "metadata": {}
        }
      ]
    },
    {
      "cell_type": "markdown",
      "metadata": {
        "id": "00ce5730-0246-4093-8c80-b0aa48bade58"
      },
      "source": [
        "**Calculating log-returns**"
      ],
      "id": "00ce5730-0246-4093-8c80-b0aa48bade58"
    },
    {
      "cell_type": "code",
      "metadata": {
        "colab": {
          "base_uri": "https://localhost:8080/",
          "height": 139
        },
        "id": "a39fe789-889c-4974-9e5e-141050303ac9",
        "outputId": "0ae122d7-e27b-478a-b224-435b808217f5"
      },
      "source": [
        "logreturn <- diff(log(HSCE.df$HSCE.Close))*100                     \n",
        "head(logreturn)"
      ],
      "id": "a39fe789-889c-4974-9e5e-141050303ac9",
      "execution_count": 8,
      "outputs": [
        {
          "output_type": "display_data",
          "data": {
            "text/plain": [
              "           HSCE.Close\n",
              "2000-01-03         NA\n",
              "2000-01-04   4.063335\n",
              "2000-01-05  -6.258261\n",
              "2000-01-06  -2.713097\n",
              "2000-01-07   5.133770\n",
              "2000-01-10   2.779166"
            ]
          },
          "metadata": {}
        }
      ]
    },
    {
      "cell_type": "markdown",
      "metadata": {
        "id": "83e12642-5c42-4a95-963f-809884d6bf7f"
      },
      "source": [
        "**Aggregating the data**"
      ],
      "id": "83e12642-5c42-4a95-963f-809884d6bf7f"
    },
    {
      "cell_type": "code",
      "metadata": {
        "colab": {
          "base_uri": "https://localhost:8080/",
          "height": 139
        },
        "id": "25c57967-90a6-4684-9b14-9a5c0867c38b",
        "outputId": "11429486-0939-40f2-a4a8-9a6a396daa8f"
      },
      "source": [
        "HSCE.df$HSCE.Return <- logreturn                  \n",
        "HSCE.df <- na.omit(HSCE.df)\n",
        "head(HSCE.df)"
      ],
      "id": "25c57967-90a6-4684-9b14-9a5c0867c38b",
      "execution_count": 9,
      "outputs": [
        {
          "output_type": "display_data",
          "data": {
            "text/plain": [
              "           HSCE.Close HSCE.Return\n",
              "2000-01-04    2082.93    4.063335\n",
              "2000-01-05    1956.57   -6.258261\n",
              "2000-01-06    1904.20   -2.713097\n",
              "2000-01-07    2004.51    5.133770\n",
              "2000-01-10    2061.00    2.779166\n",
              "2000-01-11    1996.30   -3.189581"
            ]
          },
          "metadata": {}
        }
      ]
    },
    {
      "cell_type": "markdown",
      "metadata": {
        "id": "d5366ab1-99ff-4fc7-ba7c-e62d184424bd"
      },
      "source": [
        "**Identifying missing values (%)**"
      ],
      "id": "d5366ab1-99ff-4fc7-ba7c-e62d184424bd"
    },
    {
      "cell_type": "code",
      "metadata": {
        "colab": {
          "base_uri": "https://localhost:8080/",
          "height": 69
        },
        "id": "66ab6572-9a4d-4703-adb4-0405d06b5783",
        "outputId": "e4b903ed-0d11-46e9-f98d-cdd1a63db21f"
      },
      "source": [
        "round(prop.table(table(is.na(HSCE.df)))*100, digits = 2)       "
      ],
      "id": "66ab6572-9a4d-4703-adb4-0405d06b5783",
      "execution_count": 10,
      "outputs": [
        {
          "output_type": "display_data",
          "data": {
            "text/plain": [
              "\n",
              "FALSE \n",
              "  100 "
            ]
          },
          "metadata": {}
        }
      ]
    },
    {
      "cell_type": "markdown",
      "metadata": {
        "id": "8a8dac53-aaa9-48b4-b345-44958dd87d9a"
      },
      "source": [
        "## 2. Graph analysis"
      ],
      "id": "8a8dac53-aaa9-48b4-b345-44958dd87d9a"
    },
    {
      "cell_type": "code",
      "metadata": {
        "id": "aadcb8e0-582a-435f-864c-a43651d7e6a6",
        "colab": {
          "base_uri": "https://localhost:8080/"
        },
        "outputId": "0c81a874-3050-4979-b32d-60334a8d3095"
      },
      "source": [
        "# Package\n",
        "install.packages('xts')\n",
        "install.packages('ggplot2')\n",
        "install.packages('gridExtra')\n",
        "\n",
        "library(xts)\n",
        "library(ggplot2)\n",
        "library(gridExtra)"
      ],
      "id": "aadcb8e0-582a-435f-864c-a43651d7e6a6",
      "execution_count": 11,
      "outputs": [
        {
          "output_type": "stream",
          "name": "stderr",
          "text": [
            "Installing package into ‘/usr/local/lib/R/site-library’\n",
            "(as ‘lib’ is unspecified)\n",
            "\n",
            "Installing package into ‘/usr/local/lib/R/site-library’\n",
            "(as ‘lib’ is unspecified)\n",
            "\n",
            "Installing package into ‘/usr/local/lib/R/site-library’\n",
            "(as ‘lib’ is unspecified)\n",
            "\n"
          ]
        }
      ]
    },
    {
      "cell_type": "markdown",
      "metadata": {
        "id": "0dc149bd-ea9f-4227-9807-c33fa1636347"
      },
      "source": [
        "**Price & Return charts**"
      ],
      "id": "0dc149bd-ea9f-4227-9807-c33fa1636347"
    },
    {
      "cell_type": "code",
      "metadata": {
        "colab": {
          "base_uri": "https://localhost:8080/",
          "height": 506
        },
        "id": "4a7ba28a-a574-47a6-8368-2111f43c7bd3",
        "outputId": "2f86383a-433b-401f-f546-26b65e299a84"
      },
      "source": [
        "# Price chart\n",
        "graph1 <- ggplot(HSCE.df,\n",
        "                aes(x = index(HSCE.df), y = HSCE.df[,'HSCE.Close'])) +\n",
        "                geom_line(color = \"black\") +\n",
        "                ggtitle(\"China\") +\n",
        "                xlab(\"Date\") +\n",
        "                ylab(\"Closing prices ($)\") +\n",
        "                theme(plot.title = element_text(hjust = 0.5))\n",
        "\n",
        "# Return chart\n",
        "graph2 <- ggplot(HSCE.df,\n",
        "                aes(x = index(HSCE.df), y = HSCE.df[,'HSCE.Return'])) +\n",
        "                geom_line(color = \"black\") +\n",
        "                ggtitle(\"China\") +\n",
        "                xlab(\"Date\") +\n",
        "                ylab(\"Return\") +\n",
        "                theme(plot.title = element_text(hjust = 0.5))\n",
        "\n",
        "grid.arrange(graph1, graph2, ncol = 1, nrow = 2)"
      ],
      "id": "4a7ba28a-a574-47a6-8368-2111f43c7bd3",
      "execution_count": 12,
      "outputs": [
        {
          "output_type": "stream",
          "name": "stderr",
          "text": [
            "Don't know how to automatically pick scale for object of type xts/zoo. Defaulting to continuous.\n",
            "\n",
            "Don't know how to automatically pick scale for object of type xts/zoo. Defaulting to continuous.\n",
            "\n"
          ]
        },
        {
          "output_type": "display_data",
          "data": {
            "image/png": "[encoded data removed]",
            "text/plain": [
              "plot without title"
            ]
          },
          "metadata": {
            "image/png": {
              "width": 420,
              "height": 420
            }
          }
        }
      ]
    },
    {
      "cell_type": "markdown",
      "metadata": {
        "id": "2fb985b6-91a7-43fe-ba22-5663a6d63477"
      },
      "source": [
        "## 3. Descriptive statistic"
      ],
      "id": "2fb985b6-91a7-43fe-ba22-5663a6d63477"
    },
    {
      "cell_type": "code",
      "metadata": {
        "colab": {
          "base_uri": "https://localhost:8080/"
        },
        "id": "5cba5803-a987-4c14-aa9b-d9337afb3512",
        "outputId": "8e2084b9-f5d7-40de-a552-9ec2eceb7b05"
      },
      "source": [
        "# Packages\n",
        "install.packages('moments')\n",
        "\n",
        "library(moments)"
      ],
      "id": "5cba5803-a987-4c14-aa9b-d9337afb3512",
      "execution_count": 13,
      "outputs": [
        {
          "output_type": "stream",
          "name": "stderr",
          "text": [
            "Installing package into ‘/usr/local/lib/R/site-library’\n",
            "(as ‘lib’ is unspecified)\n",
            "\n",
            "\n",
            "Attaching package: ‘moments’\n",
            "\n",
            "\n",
            "The following objects are masked from ‘package:PerformanceAnalytics’:\n",
            "\n",
            "    kurtosis, skewness\n",
            "\n",
            "\n"
          ]
        }
      ]
    },
    {
      "cell_type": "markdown",
      "metadata": {
        "id": "69bbfe9a-7c71-415d-89a4-7a7f70b88e9d"
      },
      "source": [
        "**Descriptive statistic**"
      ],
      "id": "69bbfe9a-7c71-415d-89a4-7a7f70b88e9d"
    },
    {
      "cell_type": "code",
      "metadata": {
        "colab": {
          "base_uri": "https://localhost:8080/",
          "height": 34
        },
        "id": "b282c2d9-b582-4a89-8f56-b23b6ade6202",
        "outputId": "12e7b74a-849b-4b2b-c72a-e8d7bed0fbba"
      },
      "source": [
        "# mean\n",
        "round(mean(HSCE.df$HSCE.Return), 3)                         "
      ],
      "id": "b282c2d9-b582-4a89-8f56-b23b6ade6202",
      "execution_count": 14,
      "outputs": [
        {
          "output_type": "display_data",
          "data": {
            "text/plain": [
              "[1] 0.028"
            ],
            "text/latex": "0.028",
            "text/markdown": "0.028",
            "text/html": [
              "0.028"
            ]
          },
          "metadata": {}
        }
      ]
    },
    {
      "cell_type": "code",
      "metadata": {
        "colab": {
          "base_uri": "https://localhost:8080/",
          "height": 34
        },
        "id": "a0fefd4e-8b2e-4bf2-aa7f-1dfc0d2d1892",
        "outputId": "24b7295d-8851-4d26-c494-d44cb7e40c0b"
      },
      "source": [
        "# sd\n",
        "round(sd(HSCE.df$HSCE.Return), 3)                           "
      ],
      "id": "a0fefd4e-8b2e-4bf2-aa7f-1dfc0d2d1892",
      "execution_count": 15,
      "outputs": [
        {
          "output_type": "display_data",
          "data": {
            "text/plain": [
              "[1] 1.883"
            ],
            "text/latex": "1.883",
            "text/markdown": "1.883",
            "text/html": [
              "1.883"
            ]
          },
          "metadata": {}
        }
      ]
    },
    {
      "cell_type": "code",
      "metadata": {
        "colab": {
          "base_uri": "https://localhost:8080/",
          "height": 34
        },
        "id": "e5f57896-f56d-416f-9cbf-4217d00ffb72",
        "outputId": "5947ece9-093d-4798-98e4-8e2ac70e7f80"
      },
      "source": [
        "# skewness\n",
        "round(skewness(HSCE.df$HSCE.Return), 3)                     "
      ],
      "id": "e5f57896-f56d-416f-9cbf-4217d00ffb72",
      "execution_count": 16,
      "outputs": [
        {
          "output_type": "display_data",
          "data": {
            "text/plain": [
              "HSCE.Return \n",
              "      0.069 "
            ],
            "text/latex": "\\textbf{HSCE.Return:} 0.069",
            "text/markdown": "**HSCE.Return:** 0.069",
            "text/html": [
              "<strong>HSCE.Return:</strong> 0.069"
            ]
          },
          "metadata": {}
        }
      ]
    },
    {
      "cell_type": "code",
      "metadata": {
        "colab": {
          "base_uri": "https://localhost:8080/",
          "height": 34
        },
        "id": "04580b0d-e33e-4a03-8c3c-72c205253ed2",
        "outputId": "79743f45-c416-44e9-abf6-955b76115e81"
      },
      "source": [
        "# kurtosis\n",
        "round(kurtosis(HSCE.df$HSCE.Return), 3)                     "
      ],
      "id": "04580b0d-e33e-4a03-8c3c-72c205253ed2",
      "execution_count": 17,
      "outputs": [
        {
          "output_type": "display_data",
          "data": {
            "text/plain": [
              "HSCE.Return \n",
              "      9.136 "
            ],
            "text/latex": "\\textbf{HSCE.Return:} 9.136",
            "text/markdown": "**HSCE.Return:** 9.136",
            "text/html": [
              "<strong>HSCE.Return:</strong> 9.136"
            ]
          },
          "metadata": {}
        }
      ]
    },
    {
      "cell_type": "code",
      "metadata": {
        "colab": {
          "base_uri": "https://localhost:8080/",
          "height": 34
        },
        "id": "515839a1-874b-4639-b9a2-1f0f24f844cd",
        "outputId": "c4fb5117-750a-49d9-e94d-09321beb35ec"
      },
      "source": [
        "# min\n",
        "round(min(HSCE.df$HSCE.Return), 3)                          "
      ],
      "id": "515839a1-874b-4639-b9a2-1f0f24f844cd",
      "execution_count": 18,
      "outputs": [
        {
          "output_type": "display_data",
          "data": {
            "text/plain": [
              "[1] -15.087"
            ],
            "text/latex": "-15.087",
            "text/markdown": "-15.087",
            "text/html": [
              "-15.087"
            ]
          },
          "metadata": {}
        }
      ]
    },
    {
      "cell_type": "code",
      "metadata": {
        "colab": {
          "base_uri": "https://localhost:8080/",
          "height": 34
        },
        "id": "3b88ac9d-baad-40df-913b-511417327e3a",
        "outputId": "9c29eed0-0aaa-4213-c4e7-a04a4571af1c"
      },
      "source": [
        "# p5\n",
        "round(quantile(HSCE.df$HSCE.Return, probs = 0.05), 3)       "
      ],
      "id": "3b88ac9d-baad-40df-913b-511417327e3a",
      "execution_count": 19,
      "outputs": [
        {
          "output_type": "display_data",
          "data": {
            "text/plain": [
              "    5% \n",
              "-2.924 "
            ],
            "text/latex": "\\textbf{5\\textbackslash{}\\%:} -2.924",
            "text/markdown": "**5%:** -2.924",
            "text/html": [
              "<strong>5%:</strong> -2.924"
            ]
          },
          "metadata": {}
        }
      ]
    },
    {
      "cell_type": "code",
      "metadata": {
        "colab": {
          "base_uri": "https://localhost:8080/",
          "height": 34
        },
        "id": "47455c1f-33d8-4811-955a-03286ad779bc",
        "outputId": "6b4b070e-7573-4685-de0a-b2fa93f454f8"
      },
      "source": [
        "# p25\n",
        "round(quantile(HSCE.df$HSCE.Return, probs = 0.25), 3)       "
      ],
      "id": "47455c1f-33d8-4811-955a-03286ad779bc",
      "execution_count": 20,
      "outputs": [
        {
          "output_type": "display_data",
          "data": {
            "text/plain": [
              "  25% \n",
              "-0.89 "
            ],
            "text/latex": "\\textbf{25\\textbackslash{}\\%:} -0.89",
            "text/markdown": "**25%:** -0.89",
            "text/html": [
              "<strong>25%:</strong> -0.89"
            ]
          },
          "metadata": {}
        }
      ]
    },
    {
      "cell_type": "code",
      "metadata": {
        "colab": {
          "base_uri": "https://localhost:8080/",
          "height": 34
        },
        "id": "a6516b44-9009-4d73-9216-cd6d7ce1aa75",
        "outputId": "c353ca02-f7f9-415a-f040-95eb19ce6bec"
      },
      "source": [
        "# median\n",
        "round(median(HSCE.df$HSCE.Return), 3)                       "
      ],
      "id": "a6516b44-9009-4d73-9216-cd6d7ce1aa75",
      "execution_count": 21,
      "outputs": [
        {
          "output_type": "display_data",
          "data": {
            "text/plain": [
              "[1] 0.041"
            ],
            "text/latex": "0.041",
            "text/markdown": "0.041",
            "text/html": [
              "0.041"
            ]
          },
          "metadata": {}
        }
      ]
    },
    {
      "cell_type": "code",
      "metadata": {
        "colab": {
          "base_uri": "https://localhost:8080/",
          "height": 34
        },
        "id": "a86278a2-66fa-4421-8432-6a68176eebc8",
        "outputId": "33bb2a26-c654-4553-c66a-338f934e4dbb"
      },
      "source": [
        "# p75\n",
        "round(quantile(HSCE.df$HSCE.Return, probs = 0.75), 3)       "
      ],
      "id": "a86278a2-66fa-4421-8432-6a68176eebc8",
      "execution_count": 22,
      "outputs": [
        {
          "output_type": "display_data",
          "data": {
            "text/plain": [
              "  75% \n",
              "1.006 "
            ],
            "text/latex": "\\textbf{75\\textbackslash{}\\%:} 1.006",
            "text/markdown": "**75%:** 1.006",
            "text/html": [
              "<strong>75%:</strong> 1.006"
            ]
          },
          "metadata": {}
        }
      ]
    },
    {
      "cell_type": "code",
      "metadata": {
        "colab": {
          "base_uri": "https://localhost:8080/",
          "height": 34
        },
        "id": "be64d68b-c5cc-42d9-b55d-bbfca6846cf8",
        "outputId": "620c3a65-ff75-4363-d6a6-61112cbfd29e"
      },
      "source": [
        "# p95\n",
        "round(quantile(HSCE.df$HSCE.Return, probs = 0.95), 3)       "
      ],
      "id": "be64d68b-c5cc-42d9-b55d-bbfca6846cf8",
      "execution_count": 23,
      "outputs": [
        {
          "output_type": "display_data",
          "data": {
            "text/plain": [
              "  95% \n",
              "2.795 "
            ],
            "text/latex": "\\textbf{95\\textbackslash{}\\%:} 2.795",
            "text/markdown": "**95%:** 2.795",
            "text/html": [
              "<strong>95%:</strong> 2.795"
            ]
          },
          "metadata": {}
        }
      ]
    },
    {
      "cell_type": "code",
      "metadata": {
        "colab": {
          "base_uri": "https://localhost:8080/",
          "height": 34
        },
        "id": "ecf88ca5-5576-4cfb-a9f2-225db45f12af",
        "outputId": "47251faf-bda1-4c27-e4b7-d644001edd0b"
      },
      "source": [
        "# max\n",
        "round(max(HSCE.df$HSCE.Return), 3)                          "
      ],
      "id": "ecf88ca5-5576-4cfb-a9f2-225db45f12af",
      "execution_count": 24,
      "outputs": [
        {
          "output_type": "display_data",
          "data": {
            "text/plain": [
              "[1] 15.606"
            ],
            "text/latex": "15.606",
            "text/markdown": "15.606",
            "text/html": [
              "15.606"
            ]
          },
          "metadata": {}
        }
      ]
    },
    {
      "cell_type": "code",
      "metadata": {
        "colab": {
          "base_uri": "https://localhost:8080/",
          "height": 34
        },
        "id": "1679dd88-86bc-4041-ad68-7c1899c799a4",
        "outputId": "6992ab3b-bfd0-4c91-acbb-e8aa07364244"
      },
      "source": [
        "# n observations\n",
        "length(HSCE.df$HSCE.Return)                                 "
      ],
      "id": "1679dd88-86bc-4041-ad68-7c1899c799a4",
      "execution_count": 25,
      "outputs": [
        {
          "output_type": "display_data",
          "data": {
            "text/plain": [
              "[1] 5341"
            ],
            "text/latex": "5341",
            "text/markdown": "5341",
            "text/html": [
              "5341"
            ]
          },
          "metadata": {}
        }
      ]
    },
    {
      "cell_type": "markdown",
      "metadata": {
        "id": "7d7f50bf-3414-409f-abaf-59204b4eaed3"
      },
      "source": [
        "## 4. Series normality analysis"
      ],
      "id": "7d7f50bf-3414-409f-abaf-59204b4eaed3"
    },
    {
      "cell_type": "code",
      "metadata": {
        "id": "2a3ad960-3a87-48a4-bff0-b20498343432"
      },
      "source": [
        "# Package\n",
        "library(tseries)"
      ],
      "id": "2a3ad960-3a87-48a4-bff0-b20498343432",
      "execution_count": 26,
      "outputs": []
    },
    {
      "cell_type": "code",
      "metadata": {
        "colab": {
          "base_uri": "https://localhost:8080/",
          "height": 104
        },
        "id": "49b52423-cbd3-41df-9c5e-6074e2c1a911",
        "outputId": "f99bcd37-b6ef-4d1d-d5a6-f7ba0df38346"
      },
      "source": [
        "jarque.bera.test(HSCE.df$HSCE.Return)"
      ],
      "id": "49b52423-cbd3-41df-9c5e-6074e2c1a911",
      "execution_count": 27,
      "outputs": [
        {
          "output_type": "display_data",
          "data": {
            "text/plain": [
              "\n",
              "\tJarque Bera Test\n",
              "\n",
              "data:  HSCE.df$HSCE.Return\n",
              "X-squared = 8382.6, df = 2, p-value < 2.2e-16\n"
            ]
          },
          "metadata": {}
        }
      ]
    },
    {
      "cell_type": "markdown",
      "metadata": {
        "id": "5b8f4698-26c6-4675-886e-b5e9a72061ac"
      },
      "source": [
        "## 5. Autocorrelation pattern analysis"
      ],
      "id": "5b8f4698-26c6-4675-886e-b5e9a72061ac"
    },
    {
      "cell_type": "code",
      "metadata": {
        "id": "0b5c4562-547f-4763-8ea8-396761d8ddc3",
        "colab": {
          "base_uri": "https://localhost:8080/"
        },
        "outputId": "6f4045bf-6b86-46eb-e85d-f667f7a516e3"
      },
      "source": [
        "# Packages\n",
        "install.packages('TSA')\n",
        "install.packages('aTSA')\n",
        "install.packages('FinTS')\n",
        "\n",
        "library(TSA)\n",
        "library(aTSA)\n",
        "library(FinTS)"
      ],
      "id": "0b5c4562-547f-4763-8ea8-396761d8ddc3",
      "execution_count": 28,
      "outputs": [
        {
          "output_type": "stream",
          "name": "stderr",
          "text": [
            "Installing package into ‘/usr/local/lib/R/site-library’\n",
            "(as ‘lib’ is unspecified)\n",
            "\n",
            "also installing the dependencies ‘leaps’, ‘locfit’\n",
            "\n",
            "\n",
            "Installing package into ‘/usr/local/lib/R/site-library’\n",
            "(as ‘lib’ is unspecified)\n",
            "\n",
            "Installing package into ‘/usr/local/lib/R/site-library’\n",
            "(as ‘lib’ is unspecified)\n",
            "\n",
            "\n",
            "Attaching package: ‘TSA’\n",
            "\n",
            "\n",
            "The following objects are masked from ‘package:moments’:\n",
            "\n",
            "    kurtosis, skewness\n",
            "\n",
            "\n",
            "The following objects are masked from ‘package:PerformanceAnalytics’:\n",
            "\n",
            "    kurtosis, skewness\n",
            "\n",
            "\n",
            "The following objects are masked from ‘package:stats’:\n",
            "\n",
            "    acf, arima\n",
            "\n",
            "\n",
            "The following object is masked from ‘package:utils’:\n",
            "\n",
            "    tar\n",
            "\n",
            "\n",
            "\n",
            "Attaching package: ‘aTSA’\n",
            "\n",
            "\n",
            "The following objects are masked from ‘package:tseries’:\n",
            "\n",
            "    adf.test, kpss.test, pp.test\n",
            "\n",
            "\n",
            "The following object is masked from ‘package:graphics’:\n",
            "\n",
            "    identify\n",
            "\n",
            "\n"
          ]
        }
      ]
    },
    {
      "cell_type": "markdown",
      "metadata": {
        "id": "efbcdd1a-f5c6-4e6a-bf31-3d547512b3f4"
      },
      "source": [
        "**McLeod-Li test for conditional heteroskedasticity (ARCH effect)**"
      ],
      "id": "efbcdd1a-f5c6-4e6a-bf31-3d547512b3f4"
    },
    {
      "cell_type": "code",
      "metadata": {
        "colab": {
          "base_uri": "https://localhost:8080/",
          "height": 437
        },
        "id": "NDGMFcWQ54yq",
        "outputId": "6147621f-4bc9-46ad-b3ed-0d85dee0080a"
      },
      "source": [
        "McLeod.Li.test(y = HSCE.df$HSCE.Return)\n",
        "# p-valor < 1% => ARCH effect"
      ],
      "id": "NDGMFcWQ54yq",
      "execution_count": 29,
      "outputs": [
        {
          "output_type": "display_data",
          "data": {
            "image/png": "[encoded data removed]",
            "text/plain": [
              "plot without title"
            ]
          },
          "metadata": {
            "image/png": {
              "width": 420,
              "height": 420
            }
          }
        }
      ]
    },
    {
      "cell_type": "markdown",
      "metadata": {
        "id": "d2e068a6-3254-475c-acbf-a75dda7ac434"
      },
      "source": [
        "**Lagrange Multiplier (LM) test for autoregressive conditional heteroscedasticity (ARCH)**"
      ],
      "id": "d2e068a6-3254-475c-acbf-a75dda7ac434"
    },
    {
      "cell_type": "code",
      "metadata": {
        "id": "eaaf6d58-c987-450e-b7d9-d547bb10f7f9",
        "colab": {
          "base_uri": "https://localhost:8080/",
          "height": 104
        },
        "outputId": "924559f4-7fce-4353-9e1b-8680e7bf69b1"
      },
      "source": [
        "ArchTest(HSCE.df$HSCE.Return, demean = FALSE)"
      ],
      "id": "eaaf6d58-c987-450e-b7d9-d547bb10f7f9",
      "execution_count": 30,
      "outputs": [
        {
          "output_type": "display_data",
          "data": {
            "text/plain": [
              "\n",
              "\tARCH LM-test; Null hypothesis: no ARCH effects\n",
              "\n",
              "data:  HSCE.df$HSCE.Return\n",
              "Chi-squared = 1191.7, df = 12, p-value < 2.2e-16\n"
            ]
          },
          "metadata": {}
        }
      ]
    },
    {
      "cell_type": "markdown",
      "metadata": {
        "id": "8c5b334a-4c0e-4341-b80b-bd4a9ec89dc1"
      },
      "source": [
        "## 6. GARCH model estimation"
      ],
      "id": "8c5b334a-4c0e-4341-b80b-bd4a9ec89dc1"
    },
    {
      "cell_type": "code",
      "metadata": {
        "colab": {
          "base_uri": "https://localhost:8080/"
        },
        "id": "7abb7558-53ac-4e1b-bbfa-f1de46b2d889",
        "outputId": "a88dbc7c-5596-411c-cdf7-e50dcd98efea"
      },
      "source": [
        "# Packages\n",
        "install.packages('tidyverse')\n",
        "install.packages('FinTS')\n",
        "install.packages('texreg')\n",
        "install.packages('rugarch')\n",
        "\n",
        "library(tidyverse)\n",
        "library(FinTS)\n",
        "library(texreg)\n",
        "library(rugarch)"
      ],
      "id": "7abb7558-53ac-4e1b-bbfa-f1de46b2d889",
      "execution_count": 31,
      "outputs": [
        {
          "output_type": "stream",
          "name": "stderr",
          "text": [
            "Installing package into ‘/usr/local/lib/R/site-library’\n",
            "(as ‘lib’ is unspecified)\n",
            "\n",
            "Installing package into ‘/usr/local/lib/R/site-library’\n",
            "(as ‘lib’ is unspecified)\n",
            "\n",
            "Installing package into ‘/usr/local/lib/R/site-library’\n",
            "(as ‘lib’ is unspecified)\n",
            "\n",
            "Installing package into ‘/usr/local/lib/R/site-library’\n",
            "(as ‘lib’ is unspecified)\n",
            "\n",
            "also installing the dependencies ‘misc3d’, ‘truncnorm’, ‘FNN’, ‘kernlab’, ‘mclust’, ‘multicool’, ‘mvtnorm’, ‘plot3D’, ‘pracma’, ‘DistributionUtils’, ‘GeneralizedHyperbolic’, ‘Rsolnp’, ‘ks’, ‘spd’, ‘chron’, ‘SkewHyperbolic’\n",
            "\n",
            "\n",
            "── \u001b[1mAttaching packages\u001b[22m ─────────────────────────────────────── tidyverse 1.3.1 ──\n",
            "\n",
            "\u001b[32m✔\u001b[39m \u001b[34mtibble \u001b[39m 3.1.6     \u001b[32m✔\u001b[39m \u001b[34mdplyr  \u001b[39m 1.0.7\n",
            "\u001b[32m✔\u001b[39m \u001b[34mtidyr  \u001b[39m 1.1.4     \u001b[32m✔\u001b[39m \u001b[34mstringr\u001b[39m 1.4.0\n",
            "\u001b[32m✔\u001b[39m \u001b[34mreadr  \u001b[39m 2.1.1     \u001b[32m✔\u001b[39m \u001b[34mforcats\u001b[39m 0.5.1\n",
            "\u001b[32m✔\u001b[39m \u001b[34mpurrr  \u001b[39m 0.3.4     \n",
            "\n",
            "── \u001b[1mConflicts\u001b[22m ────────────────────────────────────────── tidyverse_conflicts() ──\n",
            "\u001b[31m✖\u001b[39m \u001b[34mlubridate\u001b[39m::\u001b[32mas.difftime()\u001b[39m masks \u001b[34mbase\u001b[39m::as.difftime()\n",
            "\u001b[31m✖\u001b[39m \u001b[34mdplyr\u001b[39m::\u001b[32mcombine()\u001b[39m         masks \u001b[34mgridExtra\u001b[39m::combine()\n",
            "\u001b[31m✖\u001b[39m \u001b[34mlubridate\u001b[39m::\u001b[32mdate()\u001b[39m        masks \u001b[34mbase\u001b[39m::date()\n",
            "\u001b[31m✖\u001b[39m \u001b[34mdplyr\u001b[39m::\u001b[32mfilter()\u001b[39m          masks \u001b[34mstats\u001b[39m::filter()\n",
            "\u001b[31m✖\u001b[39m \u001b[34mdplyr\u001b[39m::\u001b[32mfirst()\u001b[39m           masks \u001b[34mxts\u001b[39m::first()\n",
            "\u001b[31m✖\u001b[39m \u001b[34mlubridate\u001b[39m::\u001b[32mintersect()\u001b[39m   masks \u001b[34mbase\u001b[39m::intersect()\n",
            "\u001b[31m✖\u001b[39m \u001b[34mdplyr\u001b[39m::\u001b[32mlag()\u001b[39m             masks \u001b[34mstats\u001b[39m::lag()\n",
            "\u001b[31m✖\u001b[39m \u001b[34mdplyr\u001b[39m::\u001b[32mlast()\u001b[39m            masks \u001b[34mxts\u001b[39m::last()\n",
            "\u001b[31m✖\u001b[39m \u001b[34mlubridate\u001b[39m::\u001b[32msetdiff()\u001b[39m     masks \u001b[34mbase\u001b[39m::setdiff()\n",
            "\u001b[31m✖\u001b[39m \u001b[34mreadr\u001b[39m::\u001b[32mspec()\u001b[39m            masks \u001b[34mTSA\u001b[39m::spec()\n",
            "\u001b[31m✖\u001b[39m \u001b[34mlubridate\u001b[39m::\u001b[32munion()\u001b[39m       masks \u001b[34mbase\u001b[39m::union()\n",
            "\n",
            "Version:  1.37.5\n",
            "Date:     2020-06-17\n",
            "Author:   Philip Leifeld (University of Essex)\n",
            "\n",
            "Consider submitting praise using the praise or praise_interactive functions.\n",
            "Please cite the JSS article in your publications -- see citation(\"texreg\").\n",
            "\n",
            "\n",
            "Attaching package: ‘texreg’\n",
            "\n",
            "\n",
            "The following object is masked from ‘package:tidyr’:\n",
            "\n",
            "    extract\n",
            "\n",
            "\n",
            "Loading required package: parallel\n",
            "\n",
            "\n",
            "Attaching package: ‘rugarch’\n",
            "\n",
            "\n",
            "The following object is masked from ‘package:purrr’:\n",
            "\n",
            "    reduce\n",
            "\n",
            "\n",
            "The following object is masked from ‘package:stats’:\n",
            "\n",
            "    sigma\n",
            "\n",
            "\n"
          ]
        }
      ]
    },
    {
      "cell_type": "code",
      "metadata": {
        "id": "ae5f5617-1efe-4488-bda0-051cf1bf4550"
      },
      "source": [
        "# Parameters definition\n",
        "ar_lag <- 0\n",
        "ma_lag <- 0\n",
        "arch_lag <- 1\n",
        "garch_lag <- 1"
      ],
      "id": "ae5f5617-1efe-4488-bda0-051cf1bf4550",
      "execution_count": 32,
      "outputs": []
    },
    {
      "cell_type": "markdown",
      "metadata": {
        "id": "4fb9f039-c974-422c-8f32-9c886eb06aeb"
      },
      "source": [
        "**Linear GARCH model**"
      ],
      "id": "4fb9f039-c974-422c-8f32-9c886eb06aeb"
    },
    {
      "cell_type": "code",
      "metadata": {
        "id": "47c0b88c-69c3-486d-b02c-29405ebd96e9"
      },
      "source": [
        "# Specification \n",
        "garch.spec <- ugarchspec(variance.model = list(model = \"sGARCH\",\n",
        "                                               garchOrder = c(arch_lag, garch_lag)),\n",
        "                         mean.model = list(armaOrder = c(ar_lag, ma_lag)),\n",
        "                         distribution.model = \"snorm\")\n",
        "# distribution.model = \"snorm\" => skew-normal distribution"
      ],
      "id": "47c0b88c-69c3-486d-b02c-29405ebd96e9",
      "execution_count": 33,
      "outputs": []
    },
    {
      "cell_type": "code",
      "metadata": {
        "id": "4f4f78bc-4e59-462b-af7e-1bcac1264fa3",
        "colab": {
          "base_uri": "https://localhost:8080/",
          "height": 224
        },
        "outputId": "79047bf1-2ab9-4fa3-b545-48e27d807b7f"
      },
      "source": [
        "# Estimation\n",
        "garch.fit <- ugarchfit(spec = garch.spec, data = HSCE.df$HSCE.Return)\n",
        "round(garch.fit@fit$matcoef, 4)"
      ],
      "id": "4f4f78bc-4e59-462b-af7e-1bcac1264fa3",
      "execution_count": 34,
      "outputs": [
        {
          "output_type": "display_data",
          "data": {
            "text/plain": [
              "        Estimate  Std. Error  t value Pr(>|t|)\n",
              "mu     0.0430    0.0193        2.2296 0.0258  \n",
              "omega  0.0307    0.0068        4.4974 0.0000  \n",
              "alpha1 0.0696    0.0074        9.4111 0.0000  \n",
              "beta1  0.9211    0.0084      109.2169 0.0000  \n",
              "skew   0.9665    0.0163       59.1446 0.0000  "
            ],
            "text/latex": "A matrix: 5 × 4 of type dbl\n\\begin{tabular}{r|llll}\n  &  Estimate &  Std. Error &  t value & Pr(>\\textbar{}t\\textbar{})\\\\\n\\hline\n\tmu & 0.0430 & 0.0193 &   2.2296 & 0.0258\\\\\n\tomega & 0.0307 & 0.0068 &   4.4974 & 0.0000\\\\\n\talpha1 & 0.0696 & 0.0074 &   9.4111 & 0.0000\\\\\n\tbeta1 & 0.9211 & 0.0084 & 109.2169 & 0.0000\\\\\n\tskew & 0.9665 & 0.0163 &  59.1446 & 0.0000\\\\\n\\end{tabular}\n",
            "text/markdown": "\nA matrix: 5 × 4 of type dbl\n\n| <!--/--> |  Estimate |  Std. Error |  t value | Pr(&gt;|t|) |\n|---|---|---|---|---|\n| mu | 0.0430 | 0.0193 |   2.2296 | 0.0258 |\n| omega | 0.0307 | 0.0068 |   4.4974 | 0.0000 |\n| alpha1 | 0.0696 | 0.0074 |   9.4111 | 0.0000 |\n| beta1 | 0.9211 | 0.0084 | 109.2169 | 0.0000 |\n| skew | 0.9665 | 0.0163 |  59.1446 | 0.0000 |\n\n",
            "text/html": [
              "<table class=\"dataframe\">\n",
              "<caption>A matrix: 5 × 4 of type dbl</caption>\n",
              "<thead>\n",
              "\t<tr><th></th><th scope=col> Estimate</th><th scope=col> Std. Error</th><th scope=col> t value</th><th scope=col>Pr(&gt;|t|)</th></tr>\n",
              "</thead>\n",
              "<tbody>\n",
              "\t<tr><th scope=row>mu</th><td>0.0430</td><td>0.0193</td><td>  2.2296</td><td>0.0258</td></tr>\n",
              "\t<tr><th scope=row>omega</th><td>0.0307</td><td>0.0068</td><td>  4.4974</td><td>0.0000</td></tr>\n",
              "\t<tr><th scope=row>alpha1</th><td>0.0696</td><td>0.0074</td><td>  9.4111</td><td>0.0000</td></tr>\n",
              "\t<tr><th scope=row>beta1</th><td>0.9211</td><td>0.0084</td><td>109.2169</td><td>0.0000</td></tr>\n",
              "\t<tr><th scope=row>skew</th><td>0.9665</td><td>0.0163</td><td> 59.1446</td><td>0.0000</td></tr>\n",
              "</tbody>\n",
              "</table>\n"
            ]
          },
          "metadata": {}
        }
      ]
    },
    {
      "cell_type": "code",
      "metadata": {
        "id": "52cb3822-6ebd-4d45-b2c6-04c1acb17b34",
        "colab": {
          "base_uri": "https://localhost:8080/",
          "height": 156
        },
        "outputId": "ff63bd92-a30f-49d8-8ee9-900e2f34af59"
      },
      "source": [
        "# Extracting variance series from the Linear GARCH model\n",
        "var.garch <- ts(garch.fit@fit$sigma^2)\n",
        "head(var.garch)\n",
        "\n",
        "HSCE.df$HSCE.VolGARCH <- as.numeric(var.garch)\n",
        "head(HSCE.df)"
      ],
      "id": "52cb3822-6ebd-4d45-b2c6-04c1acb17b34",
      "execution_count": 35,
      "outputs": [
        {
          "output_type": "display_data",
          "data": {
            "text/plain": [
              "[1] 3.545198 4.420381 6.863968 6.881529 8.171850 8.078617"
            ],
            "text/latex": "\\begin{enumerate*}\n\\item 3.54519773047192\n\\item 4.4203813867577\n\\item 6.86396846790892\n\\item 6.88152924245421\n\\item 8.17184960873221\n\\item 8.07861653282478\n\\end{enumerate*}\n",
            "text/markdown": "1. 3.54519773047192\n2. 4.4203813867577\n3. 6.86396846790892\n4. 6.88152924245421\n5. 8.17184960873221\n6. 8.07861653282478\n\n\n",
            "text/html": [
              "<style>\n",
              ".list-inline {list-style: none; margin:0; padding: 0}\n",
              ".list-inline>li {display: inline-block}\n",
              ".list-inline>li:not(:last-child)::after {content: \"\\00b7\"; padding: 0 .5ex}\n",
              "</style>\n",
              "<ol class=list-inline><li>3.54519773047192</li><li>4.4203813867577</li><li>6.86396846790892</li><li>6.88152924245421</li><li>8.17184960873221</li><li>8.07861653282478</li></ol>\n"
            ]
          },
          "metadata": {}
        },
        {
          "output_type": "display_data",
          "data": {
            "text/plain": [
              "           HSCE.Close HSCE.Return HSCE.VolGARCH\n",
              "2000-01-04    2082.93    4.063335      3.545198\n",
              "2000-01-05    1956.57   -6.258261      4.420381\n",
              "2000-01-06    1904.20   -2.713097      6.863968\n",
              "2000-01-07    2004.51    5.133770      6.881529\n",
              "2000-01-10    2061.00    2.779166      8.171850\n",
              "2000-01-11    1996.30   -3.189581      8.078617"
            ]
          },
          "metadata": {}
        }
      ]
    },
    {
      "cell_type": "markdown",
      "metadata": {
        "id": "e6f29dce-3413-404b-ab4f-fa35eee0c98f"
      },
      "source": [
        "**EGARCH model**"
      ],
      "id": "e6f29dce-3413-404b-ab4f-fa35eee0c98f"
    },
    {
      "cell_type": "code",
      "metadata": {
        "id": "3f49a904-41b9-4e2e-a788-6da4085d14db"
      },
      "source": [
        "# Specification \n",
        "egarch.spec <- ugarchspec(variance.model = list(model = \"eGARCH\",\n",
        "                                                garchOrder = c(arch_lag, garch_lag)),\n",
        "                          mean.model = list(armaOrder = c(ar_lag, ma_lag)), \n",
        "                          distribution.model = \"snorm\")\n",
        "# distribution.model = \"snorm\" => skew-normal distribution"
      ],
      "id": "3f49a904-41b9-4e2e-a788-6da4085d14db",
      "execution_count": 36,
      "outputs": []
    },
    {
      "cell_type": "code",
      "metadata": {
        "id": "1d6a661b-2206-4fa7-b4e8-d3765c54a302",
        "colab": {
          "base_uri": "https://localhost:8080/",
          "height": 255
        },
        "outputId": "ba17a264-3fc7-4d3d-fa19-d69843f7c16a"
      },
      "source": [
        "# Estimation\n",
        "egarch.fit <- ugarchfit(spec = egarch.spec, data = HSCE.df$HSCE.Return)\n",
        "round(egarch.fit@fit$matcoef, 4)"
      ],
      "id": "1d6a661b-2206-4fa7-b4e8-d3765c54a302",
      "execution_count": 37,
      "outputs": [
        {
          "output_type": "display_data",
          "data": {
            "text/plain": [
              "        Estimate  Std. Error  t value  Pr(>|t|)\n",
              "mu      0.0260   0.0160         1.6190 0.1054  \n",
              "omega   0.0185   0.0018        10.1996 0.0000  \n",
              "alpha1 -0.0212   0.0061        -3.4730 0.0005  \n",
              "beta1   0.9857   0.0009      1111.2095 0.0000  \n",
              "gamma1  0.1596   0.0129        12.3841 0.0000  \n",
              "skew    0.9769   0.0165        59.2262 0.0000  "
            ],
            "text/latex": "A matrix: 6 × 4 of type dbl\n\\begin{tabular}{r|llll}\n  &  Estimate &  Std. Error &  t value & Pr(>\\textbar{}t\\textbar{})\\\\\n\\hline\n\tmu &  0.0260 & 0.0160 &    1.6190 & 0.1054\\\\\n\tomega &  0.0185 & 0.0018 &   10.1996 & 0.0000\\\\\n\talpha1 & -0.0212 & 0.0061 &   -3.4730 & 0.0005\\\\\n\tbeta1 &  0.9857 & 0.0009 & 1111.2095 & 0.0000\\\\\n\tgamma1 &  0.1596 & 0.0129 &   12.3841 & 0.0000\\\\\n\tskew &  0.9769 & 0.0165 &   59.2262 & 0.0000\\\\\n\\end{tabular}\n",
            "text/markdown": "\nA matrix: 6 × 4 of type dbl\n\n| <!--/--> |  Estimate |  Std. Error |  t value | Pr(&gt;|t|) |\n|---|---|---|---|---|\n| mu |  0.0260 | 0.0160 |    1.6190 | 0.1054 |\n| omega |  0.0185 | 0.0018 |   10.1996 | 0.0000 |\n| alpha1 | -0.0212 | 0.0061 |   -3.4730 | 0.0005 |\n| beta1 |  0.9857 | 0.0009 | 1111.2095 | 0.0000 |\n| gamma1 |  0.1596 | 0.0129 |   12.3841 | 0.0000 |\n| skew |  0.9769 | 0.0165 |   59.2262 | 0.0000 |\n\n",
            "text/html": [
              "<table class=\"dataframe\">\n",
              "<caption>A matrix: 6 × 4 of type dbl</caption>\n",
              "<thead>\n",
              "\t<tr><th></th><th scope=col> Estimate</th><th scope=col> Std. Error</th><th scope=col> t value</th><th scope=col>Pr(&gt;|t|)</th></tr>\n",
              "</thead>\n",
              "<tbody>\n",
              "\t<tr><th scope=row>mu</th><td> 0.0260</td><td>0.0160</td><td>   1.6190</td><td>0.1054</td></tr>\n",
              "\t<tr><th scope=row>omega</th><td> 0.0185</td><td>0.0018</td><td>  10.1996</td><td>0.0000</td></tr>\n",
              "\t<tr><th scope=row>alpha1</th><td>-0.0212</td><td>0.0061</td><td>  -3.4730</td><td>0.0005</td></tr>\n",
              "\t<tr><th scope=row>beta1</th><td> 0.9857</td><td>0.0009</td><td>1111.2095</td><td>0.0000</td></tr>\n",
              "\t<tr><th scope=row>gamma1</th><td> 0.1596</td><td>0.0129</td><td>  12.3841</td><td>0.0000</td></tr>\n",
              "\t<tr><th scope=row>skew</th><td> 0.9769</td><td>0.0165</td><td>  59.2262</td><td>0.0000</td></tr>\n",
              "</tbody>\n",
              "</table>\n"
            ]
          },
          "metadata": {}
        }
      ]
    },
    {
      "cell_type": "code",
      "metadata": {
        "id": "cffa8b9c-7f85-4602-ac12-0456b3314f2e",
        "colab": {
          "base_uri": "https://localhost:8080/",
          "height": 156
        },
        "outputId": "b4a614b6-9eef-4019-b772-5b21ac80120d"
      },
      "source": [
        "# Extracting variance series from the EGARCH model\n",
        "var.egarch <- ts(egarch.fit@fit$sigma^2)\n",
        "head(var.egarch)\n",
        "\n",
        "HSCE.df$HSCE.VolEGARCH <- as.numeric(var.egarch)\n",
        "head(HSCE.df)"
      ],
      "id": "cffa8b9c-7f85-4602-ac12-0456b3314f2e",
      "execution_count": 38,
      "outputs": [
        {
          "output_type": "display_data",
          "data": {
            "text/plain": [
              "[1] 3.544979 4.201116 6.424192 6.820387 7.801167 7.786976"
            ],
            "text/latex": "\\begin{enumerate*}\n\\item 3.54497920772317\n\\item 4.20111629265018\n\\item 6.42419216809199\n\\item 6.82038664614913\n\\item 7.80116716746538\n\\item 7.78697621991985\n\\end{enumerate*}\n",
            "text/markdown": "1. 3.54497920772317\n2. 4.20111629265018\n3. 6.42419216809199\n4. 6.82038664614913\n5. 7.80116716746538\n6. 7.78697621991985\n\n\n",
            "text/html": [
              "<style>\n",
              ".list-inline {list-style: none; margin:0; padding: 0}\n",
              ".list-inline>li {display: inline-block}\n",
              ".list-inline>li:not(:last-child)::after {content: \"\\00b7\"; padding: 0 .5ex}\n",
              "</style>\n",
              "<ol class=list-inline><li>3.54497920772317</li><li>4.20111629265018</li><li>6.42419216809199</li><li>6.82038664614913</li><li>7.80116716746538</li><li>7.78697621991985</li></ol>\n"
            ]
          },
          "metadata": {}
        },
        {
          "output_type": "display_data",
          "data": {
            "text/plain": [
              "           HSCE.Close HSCE.Return HSCE.VolGARCH HSCE.VolEGARCH\n",
              "2000-01-04    2082.93    4.063335      3.545198       3.544979\n",
              "2000-01-05    1956.57   -6.258261      4.420381       4.201116\n",
              "2000-01-06    1904.20   -2.713097      6.863968       6.424192\n",
              "2000-01-07    2004.51    5.133770      6.881529       6.820387\n",
              "2000-01-10    2061.00    2.779166      8.171850       7.801167\n",
              "2000-01-11    1996.30   -3.189581      8.078617       7.786976"
            ]
          },
          "metadata": {}
        }
      ]
    },
    {
      "cell_type": "markdown",
      "metadata": {
        "id": "3f46740f-5c39-4774-9658-6fc3f087dd0a"
      },
      "source": [
        "**GJR-GARCH model**"
      ],
      "id": "3f46740f-5c39-4774-9658-6fc3f087dd0a"
    },
    {
      "cell_type": "code",
      "metadata": {
        "id": "ab68bdb5-2f9a-4efa-b9af-2cf920607b6a"
      },
      "source": [
        "# Specification \n",
        "gjrgarch.spec <- ugarchspec(variance.model = list(model = \"gjrGARCH\",\n",
        "                                                  garchOrder = c(arch_lag, garch_lag)),\n",
        "                            mean.model = list(armaOrder = c(ar_lag, ma_lag)), \n",
        "                            distribution.model = \"snorm\")\n",
        "# distribution.model = \"snorm\" => skew-normal distribution"
      ],
      "id": "ab68bdb5-2f9a-4efa-b9af-2cf920607b6a",
      "execution_count": 39,
      "outputs": []
    },
    {
      "cell_type": "code",
      "metadata": {
        "id": "bd6466b5-b0f5-44e2-9d43-2922a0f6f588",
        "colab": {
          "base_uri": "https://localhost:8080/",
          "height": 255
        },
        "outputId": "8e8b33d3-b1f7-494c-bce5-e48afc050d39"
      },
      "source": [
        "# Estimation\n",
        "gjrgarch.fit <- ugarchfit(spec = gjrgarch.spec, data = HSCE.df$HSCE.Return)\n",
        "round(gjrgarch.fit@fit$matcoef, 4)"
      ],
      "id": "bd6466b5-b0f5-44e2-9d43-2922a0f6f588",
      "execution_count": 40,
      "outputs": [
        {
          "output_type": "display_data",
          "data": {
            "text/plain": [
              "        Estimate  Std. Error  t value Pr(>|t|)\n",
              "mu     0.0286    0.0197        1.4549 0.1457  \n",
              "omega  0.0352    0.0074        4.7801 0.0000  \n",
              "alpha1 0.0546    0.0072        7.5519 0.0000  \n",
              "beta1  0.9182    0.0087      105.7592 0.0000  \n",
              "gamma1 0.0321    0.0091        3.5264 0.0004  \n",
              "skew   0.9705    0.0165       58.9452 0.0000  "
            ],
            "text/latex": "A matrix: 6 × 4 of type dbl\n\\begin{tabular}{r|llll}\n  &  Estimate &  Std. Error &  t value & Pr(>\\textbar{}t\\textbar{})\\\\\n\\hline\n\tmu & 0.0286 & 0.0197 &   1.4549 & 0.1457\\\\\n\tomega & 0.0352 & 0.0074 &   4.7801 & 0.0000\\\\\n\talpha1 & 0.0546 & 0.0072 &   7.5519 & 0.0000\\\\\n\tbeta1 & 0.9182 & 0.0087 & 105.7592 & 0.0000\\\\\n\tgamma1 & 0.0321 & 0.0091 &   3.5264 & 0.0004\\\\\n\tskew & 0.9705 & 0.0165 &  58.9452 & 0.0000\\\\\n\\end{tabular}\n",
            "text/markdown": "\nA matrix: 6 × 4 of type dbl\n\n| <!--/--> |  Estimate |  Std. Error |  t value | Pr(&gt;|t|) |\n|---|---|---|---|---|\n| mu | 0.0286 | 0.0197 |   1.4549 | 0.1457 |\n| omega | 0.0352 | 0.0074 |   4.7801 | 0.0000 |\n| alpha1 | 0.0546 | 0.0072 |   7.5519 | 0.0000 |\n| beta1 | 0.9182 | 0.0087 | 105.7592 | 0.0000 |\n| gamma1 | 0.0321 | 0.0091 |   3.5264 | 0.0004 |\n| skew | 0.9705 | 0.0165 |  58.9452 | 0.0000 |\n\n",
            "text/html": [
              "<table class=\"dataframe\">\n",
              "<caption>A matrix: 6 × 4 of type dbl</caption>\n",
              "<thead>\n",
              "\t<tr><th></th><th scope=col> Estimate</th><th scope=col> Std. Error</th><th scope=col> t value</th><th scope=col>Pr(&gt;|t|)</th></tr>\n",
              "</thead>\n",
              "<tbody>\n",
              "\t<tr><th scope=row>mu</th><td>0.0286</td><td>0.0197</td><td>  1.4549</td><td>0.1457</td></tr>\n",
              "\t<tr><th scope=row>omega</th><td>0.0352</td><td>0.0074</td><td>  4.7801</td><td>0.0000</td></tr>\n",
              "\t<tr><th scope=row>alpha1</th><td>0.0546</td><td>0.0072</td><td>  7.5519</td><td>0.0000</td></tr>\n",
              "\t<tr><th scope=row>beta1</th><td>0.9182</td><td>0.0087</td><td>105.7592</td><td>0.0000</td></tr>\n",
              "\t<tr><th scope=row>gamma1</th><td>0.0321</td><td>0.0091</td><td>  3.5264</td><td>0.0004</td></tr>\n",
              "\t<tr><th scope=row>skew</th><td>0.9705</td><td>0.0165</td><td> 58.9452</td><td>0.0000</td></tr>\n",
              "</tbody>\n",
              "</table>\n"
            ]
          },
          "metadata": {}
        }
      ]
    },
    {
      "cell_type": "code",
      "metadata": {
        "id": "866a759d-f023-4e0a-9708-ad0b03378079",
        "colab": {
          "base_uri": "https://localhost:8080/",
          "height": 156
        },
        "outputId": "20cbe53a-31f3-49bb-959b-ff20fae47e9a"
      },
      "source": [
        "# Extracting variance series from the GJR-GARCH model\n",
        "var.gjrgarch <- ts(gjrgarch.fit@fit$sigma^2)\n",
        "head(var.gjrgarch)\n",
        "\n",
        "HSCE.df$HSCE.VolGJRGARCH <- as.numeric(var.gjrgarch)\n",
        "head(HSCE.df)"
      ],
      "id": "866a759d-f023-4e0a-9708-ad0b03378079",
      "execution_count": 41,
      "outputs": [
        {
          "output_type": "display_data",
          "data": {
            "text/plain": [
              "[1] 3.544975 4.178420 7.296621 7.386129 8.239147 8.012996"
            ],
            "text/latex": "\\begin{enumerate*}\n\\item 3.54497504691557\n\\item 4.17841970001002\n\\item 7.29662125016952\n\\item 7.38612918175601\n\\item 8.23914669155876\n\\item 8.012996196699\n\\end{enumerate*}\n",
            "text/markdown": "1. 3.54497504691557\n2. 4.17841970001002\n3. 7.29662125016952\n4. 7.38612918175601\n5. 8.23914669155876\n6. 8.012996196699\n\n\n",
            "text/html": [
              "<style>\n",
              ".list-inline {list-style: none; margin:0; padding: 0}\n",
              ".list-inline>li {display: inline-block}\n",
              ".list-inline>li:not(:last-child)::after {content: \"\\00b7\"; padding: 0 .5ex}\n",
              "</style>\n",
              "<ol class=list-inline><li>3.54497504691557</li><li>4.17841970001002</li><li>7.29662125016952</li><li>7.38612918175601</li><li>8.23914669155876</li><li>8.012996196699</li></ol>\n"
            ]
          },
          "metadata": {}
        },
        {
          "output_type": "display_data",
          "data": {
            "text/plain": [
              "           HSCE.Close HSCE.Return HSCE.VolGARCH HSCE.VolEGARCH HSCE.VolGJRGARCH\n",
              "2000-01-04    2082.93    4.063335      3.545198       3.544979         3.544975\n",
              "2000-01-05    1956.57   -6.258261      4.420381       4.201116         4.178420\n",
              "2000-01-06    1904.20   -2.713097      6.863968       6.424192         7.296621\n",
              "2000-01-07    2004.51    5.133770      6.881529       6.820387         7.386129\n",
              "2000-01-10    2061.00    2.779166      8.171850       7.801167         8.239147\n",
              "2000-01-11    1996.30   -3.189581      8.078617       7.786976         8.012996"
            ]
          },
          "metadata": {}
        }
      ]
    },
    {
      "cell_type": "markdown",
      "metadata": {
        "id": "30791595-f694-409c-a534-adfd13007dc8"
      },
      "source": [
        "## 7. Realized GARCH model estimation"
      ],
      "id": "30791595-f694-409c-a534-adfd13007dc8"
    },
    {
      "cell_type": "code",
      "metadata": {
        "id": "15180bd5-14f4-433e-8d95-6daf87ad72ee"
      },
      "source": [
        "# Specification\n",
        "realgarch.spec <- ugarchspec(mean.model = list(armaOrder = c(ar_lag, ma_lag),\n",
        "                                               include.mean = FALSE),\n",
        "                             variance.model = list(model = 'realGARCH',\n",
        "                                                   garchOrder = c(arch_lag, garch_lag)),\n",
        "                             distribution.model = \"snorm\")\n",
        "# distribution.model = \"snorm\" => skew-normal distribution)"
      ],
      "id": "15180bd5-14f4-433e-8d95-6daf87ad72ee",
      "execution_count": 42,
      "outputs": []
    },
    {
      "cell_type": "markdown",
      "metadata": {
        "id": "a579f920-f7b4-4ea6-b1dc-16fbfd9f5bec"
      },
      "source": [
        "**Realized Linear GARCH**"
      ],
      "id": "a579f920-f7b4-4ea6-b1dc-16fbfd9f5bec"
    },
    {
      "cell_type": "code",
      "metadata": {
        "id": "15ba614a-3479-4aeb-a0a3-f6aa302df878",
        "colab": {
          "base_uri": "https://localhost:8080/",
          "height": 349
        },
        "outputId": "72ba5941-f108-40d9-b21f-89e66d643ba1"
      },
      "source": [
        "# Estimation\n",
        "realgarch.fit <- ugarchfit(realgarch.spec, HSCE.df$HSCE.Return,\n",
        "                          solver = 'hybrid',\n",
        "                          realizedVol = HSCE.df$HSCE.VolGARCH)\n",
        "round(realgarch.fit@fit$matcoef, 4)"
      ],
      "id": "15ba614a-3479-4aeb-a0a3-f6aa302df878",
      "execution_count": 43,
      "outputs": [
        {
          "output_type": "display_data",
          "data": {
            "text/plain": [
              "        Estimate  Std. Error  t value Pr(>|t|)\n",
              "omega  0.0063    0.0315        0.2013 0.8405  \n",
              "alpha1 0.9944    0.0299       33.2808 0.0000  \n",
              "beta1  0.0081    0.0136        0.5981 0.5497  \n",
              "eta11  0.0028    0.0014        2.0479 0.0406  \n",
              "eta21  0.0039    0.0008        4.9339 0.0000  \n",
              "delta  0.9875    0.0264       37.4617 0.0000  \n",
              "lambda 0.1013    0.0010      103.3518 0.0000  \n",
              "skew   0.9646    0.0161       59.8719 0.0000  \n",
              "xi     0.0029    0.0314        0.0910 0.9275  "
            ],
            "text/latex": "A matrix: 9 × 4 of type dbl\n\\begin{tabular}{r|llll}\n  &  Estimate &  Std. Error &  t value & Pr(>\\textbar{}t\\textbar{})\\\\\n\\hline\n\tomega & 0.0063 & 0.0315 &   0.2013 & 0.8405\\\\\n\talpha1 & 0.9944 & 0.0299 &  33.2808 & 0.0000\\\\\n\tbeta1 & 0.0081 & 0.0136 &   0.5981 & 0.5497\\\\\n\teta11 & 0.0028 & 0.0014 &   2.0479 & 0.0406\\\\\n\teta21 & 0.0039 & 0.0008 &   4.9339 & 0.0000\\\\\n\tdelta & 0.9875 & 0.0264 &  37.4617 & 0.0000\\\\\n\tlambda & 0.1013 & 0.0010 & 103.3518 & 0.0000\\\\\n\tskew & 0.9646 & 0.0161 &  59.8719 & 0.0000\\\\\n\txi & 0.0029 & 0.0314 &   0.0910 & 0.9275\\\\\n\\end{tabular}\n",
            "text/markdown": "\nA matrix: 9 × 4 of type dbl\n\n| <!--/--> |  Estimate |  Std. Error |  t value | Pr(&gt;|t|) |\n|---|---|---|---|---|\n| omega | 0.0063 | 0.0315 |   0.2013 | 0.8405 |\n| alpha1 | 0.9944 | 0.0299 |  33.2808 | 0.0000 |\n| beta1 | 0.0081 | 0.0136 |   0.5981 | 0.5497 |\n| eta11 | 0.0028 | 0.0014 |   2.0479 | 0.0406 |\n| eta21 | 0.0039 | 0.0008 |   4.9339 | 0.0000 |\n| delta | 0.9875 | 0.0264 |  37.4617 | 0.0000 |\n| lambda | 0.1013 | 0.0010 | 103.3518 | 0.0000 |\n| skew | 0.9646 | 0.0161 |  59.8719 | 0.0000 |\n| xi | 0.0029 | 0.0314 |   0.0910 | 0.9275 |\n\n",
            "text/html": [
              "<table class=\"dataframe\">\n",
              "<caption>A matrix: 9 × 4 of type dbl</caption>\n",
              "<thead>\n",
              "\t<tr><th></th><th scope=col> Estimate</th><th scope=col> Std. Error</th><th scope=col> t value</th><th scope=col>Pr(&gt;|t|)</th></tr>\n",
              "</thead>\n",
              "<tbody>\n",
              "\t<tr><th scope=row>omega</th><td>0.0063</td><td>0.0315</td><td>  0.2013</td><td>0.8405</td></tr>\n",
              "\t<tr><th scope=row>alpha1</th><td>0.9944</td><td>0.0299</td><td> 33.2808</td><td>0.0000</td></tr>\n",
              "\t<tr><th scope=row>beta1</th><td>0.0081</td><td>0.0136</td><td>  0.5981</td><td>0.5497</td></tr>\n",
              "\t<tr><th scope=row>eta11</th><td>0.0028</td><td>0.0014</td><td>  2.0479</td><td>0.0406</td></tr>\n",
              "\t<tr><th scope=row>eta21</th><td>0.0039</td><td>0.0008</td><td>  4.9339</td><td>0.0000</td></tr>\n",
              "\t<tr><th scope=row>delta</th><td>0.9875</td><td>0.0264</td><td> 37.4617</td><td>0.0000</td></tr>\n",
              "\t<tr><th scope=row>lambda</th><td>0.1013</td><td>0.0010</td><td>103.3518</td><td>0.0000</td></tr>\n",
              "\t<tr><th scope=row>skew</th><td>0.9646</td><td>0.0161</td><td> 59.8719</td><td>0.0000</td></tr>\n",
              "\t<tr><th scope=row>xi</th><td>0.0029</td><td>0.0314</td><td>  0.0910</td><td>0.9275</td></tr>\n",
              "</tbody>\n",
              "</table>\n"
            ]
          },
          "metadata": {}
        }
      ]
    },
    {
      "cell_type": "code",
      "metadata": {
        "id": "35f05310-d764-4a29-895f-14a3d9333110",
        "colab": {
          "base_uri": "https://localhost:8080/",
          "height": 277
        },
        "outputId": "45ab307f-6ff7-41d0-d02a-a610586b894c"
      },
      "source": [
        "# Extracting variance series from the Realized Linear GARCH model\n",
        "var.realgarch <- ts(realgarch.fit@fit$sigma^2)\n",
        "head(var.realgarch)\n",
        "\n",
        "HSCE.df$HSCE.VolRealGARCH <- as.numeric(var.realgarch)\n",
        "head(HSCE.df)"
      ],
      "id": "35f05310-d764-4a29-895f-14a3d9333110",
      "execution_count": 44,
      "outputs": [
        {
          "output_type": "display_data",
          "data": {
            "text/plain": [
              "[1] 3.545763 3.578986 4.457298 6.916464 6.958878 8.256105"
            ],
            "text/latex": "\\begin{enumerate*}\n\\item 3.54576328527644\n\\item 3.57898580912119\n\\item 4.45729781836479\n\\item 6.91646418153473\n\\item 6.95887805887782\n\\item 8.25610461895205\n\\end{enumerate*}\n",
            "text/markdown": "1. 3.54576328527644\n2. 3.57898580912119\n3. 4.45729781836479\n4. 6.91646418153473\n5. 6.95887805887782\n6. 8.25610461895205\n\n\n",
            "text/html": [
              "<style>\n",
              ".list-inline {list-style: none; margin:0; padding: 0}\n",
              ".list-inline>li {display: inline-block}\n",
              ".list-inline>li:not(:last-child)::after {content: \"\\00b7\"; padding: 0 .5ex}\n",
              "</style>\n",
              "<ol class=list-inline><li>3.54576328527644</li><li>3.57898580912119</li><li>4.45729781836479</li><li>6.91646418153473</li><li>6.95887805887782</li><li>8.25610461895205</li></ol>\n"
            ]
          },
          "metadata": {}
        },
        {
          "output_type": "display_data",
          "data": {
            "text/plain": [
              "           HSCE.Close HSCE.Return HSCE.VolGARCH HSCE.VolEGARCH HSCE.VolGJRGARCH\n",
              "2000-01-04    2082.93    4.063335      3.545198       3.544979         3.544975\n",
              "2000-01-05    1956.57   -6.258261      4.420381       4.201116         4.178420\n",
              "2000-01-06    1904.20   -2.713097      6.863968       6.424192         7.296621\n",
              "2000-01-07    2004.51    5.133770      6.881529       6.820387         7.386129\n",
              "2000-01-10    2061.00    2.779166      8.171850       7.801167         8.239147\n",
              "2000-01-11    1996.30   -3.189581      8.078617       7.786976         8.012996\n",
              "           HSCE.VolRealGARCH\n",
              "2000-01-04          3.545763\n",
              "2000-01-05          3.578986\n",
              "2000-01-06          4.457298\n",
              "2000-01-07          6.916464\n",
              "2000-01-10          6.958878\n",
              "2000-01-11          8.256105"
            ]
          },
          "metadata": {}
        }
      ]
    },
    {
      "cell_type": "markdown",
      "metadata": {
        "id": "3cac3418-86e3-40a3-b370-d044e9ffda05"
      },
      "source": [
        "**Realized EGARCH**"
      ],
      "id": "3cac3418-86e3-40a3-b370-d044e9ffda05"
    },
    {
      "cell_type": "code",
      "metadata": {
        "id": "8dab1b63-5db6-4abb-8ab3-4e49b909a386",
        "colab": {
          "base_uri": "https://localhost:8080/",
          "height": 349
        },
        "outputId": "6e2bdaa2-7a1d-4640-9414-202712246814"
      },
      "source": [
        "# Estimation\n",
        "realegarch.fit <- ugarchfit(realgarch.spec, HSCE.df$HSCE.Return,\n",
        "                            solver = 'hybrid',\n",
        "                            realizedVol = HSCE.df$HSCE.VolEGARCH)\n",
        "round(realegarch.fit@fit$matcoef, 4)"
      ],
      "id": "8dab1b63-5db6-4abb-8ab3-4e49b909a386",
      "execution_count": 45,
      "outputs": [
        {
          "output_type": "display_data",
          "data": {
            "text/plain": [
              "        Estimate  Std. Error  t value Pr(>|t|)\n",
              "omega  0.0035    0.0305        0.1156 0.9080  \n",
              "alpha1 0.9793    0.0290       33.7910 0.0000  \n",
              "beta1  0.0257    0.0137        1.8798 0.0601  \n",
              "eta11  0.0012    0.0014        0.8271 0.4082  \n",
              "eta21  0.0040    0.0008        4.9372 0.0000  \n",
              "delta  0.9840    0.0256       38.3820 0.0000  \n",
              "lambda 0.1051    0.0010      103.3530 0.0000  \n",
              "skew   0.9749    0.0162       60.0257 0.0000  \n",
              "xi     0.0066    0.0308        0.2156 0.8293  "
            ],
            "text/latex": "A matrix: 9 × 4 of type dbl\n\\begin{tabular}{r|llll}\n  &  Estimate &  Std. Error &  t value & Pr(>\\textbar{}t\\textbar{})\\\\\n\\hline\n\tomega & 0.0035 & 0.0305 &   0.1156 & 0.9080\\\\\n\talpha1 & 0.9793 & 0.0290 &  33.7910 & 0.0000\\\\\n\tbeta1 & 0.0257 & 0.0137 &   1.8798 & 0.0601\\\\\n\teta11 & 0.0012 & 0.0014 &   0.8271 & 0.4082\\\\\n\teta21 & 0.0040 & 0.0008 &   4.9372 & 0.0000\\\\\n\tdelta & 0.9840 & 0.0256 &  38.3820 & 0.0000\\\\\n\tlambda & 0.1051 & 0.0010 & 103.3530 & 0.0000\\\\\n\tskew & 0.9749 & 0.0162 &  60.0257 & 0.0000\\\\\n\txi & 0.0066 & 0.0308 &   0.2156 & 0.8293\\\\\n\\end{tabular}\n",
            "text/markdown": "\nA matrix: 9 × 4 of type dbl\n\n| <!--/--> |  Estimate |  Std. Error |  t value | Pr(&gt;|t|) |\n|---|---|---|---|---|\n| omega | 0.0035 | 0.0305 |   0.1156 | 0.9080 |\n| alpha1 | 0.9793 | 0.0290 |  33.7910 | 0.0000 |\n| beta1 | 0.0257 | 0.0137 |   1.8798 | 0.0601 |\n| eta11 | 0.0012 | 0.0014 |   0.8271 | 0.4082 |\n| eta21 | 0.0040 | 0.0008 |   4.9372 | 0.0000 |\n| delta | 0.9840 | 0.0256 |  38.3820 | 0.0000 |\n| lambda | 0.1051 | 0.0010 | 103.3530 | 0.0000 |\n| skew | 0.9749 | 0.0162 |  60.0257 | 0.0000 |\n| xi | 0.0066 | 0.0308 |   0.2156 | 0.8293 |\n\n",
            "text/html": [
              "<table class=\"dataframe\">\n",
              "<caption>A matrix: 9 × 4 of type dbl</caption>\n",
              "<thead>\n",
              "\t<tr><th></th><th scope=col> Estimate</th><th scope=col> Std. Error</th><th scope=col> t value</th><th scope=col>Pr(&gt;|t|)</th></tr>\n",
              "</thead>\n",
              "<tbody>\n",
              "\t<tr><th scope=row>omega</th><td>0.0035</td><td>0.0305</td><td>  0.1156</td><td>0.9080</td></tr>\n",
              "\t<tr><th scope=row>alpha1</th><td>0.9793</td><td>0.0290</td><td> 33.7910</td><td>0.0000</td></tr>\n",
              "\t<tr><th scope=row>beta1</th><td>0.0257</td><td>0.0137</td><td>  1.8798</td><td>0.0601</td></tr>\n",
              "\t<tr><th scope=row>eta11</th><td>0.0012</td><td>0.0014</td><td>  0.8271</td><td>0.4082</td></tr>\n",
              "\t<tr><th scope=row>eta21</th><td>0.0040</td><td>0.0008</td><td>  4.9372</td><td>0.0000</td></tr>\n",
              "\t<tr><th scope=row>delta</th><td>0.9840</td><td>0.0256</td><td> 38.3820</td><td>0.0000</td></tr>\n",
              "\t<tr><th scope=row>lambda</th><td>0.1051</td><td>0.0010</td><td>103.3530</td><td>0.0000</td></tr>\n",
              "\t<tr><th scope=row>skew</th><td>0.9749</td><td>0.0162</td><td> 60.0257</td><td>0.0000</td></tr>\n",
              "\t<tr><th scope=row>xi</th><td>0.0066</td><td>0.0308</td><td>  0.2156</td><td>0.8293</td></tr>\n",
              "</tbody>\n",
              "</table>\n"
            ]
          },
          "metadata": {}
        }
      ]
    },
    {
      "cell_type": "code",
      "metadata": {
        "id": "8888b518-3a21-47ca-9f66-8cb6a20c7a0d",
        "colab": {
          "base_uri": "https://localhost:8080/",
          "height": 277
        },
        "outputId": "c7c1b9c1-ac32-4e58-adf8-6f88c9efd94c"
      },
      "source": [
        "# Extracting variance series from the Realized EGARCH model\n",
        "var.realegarch <- ts(realegarch.fit@fit$sigma^2)\n",
        "head(var.realegarch)\n",
        "\n",
        "HSCE.df$HSCE.VolRealEGARCH <- as.numeric(var.realegarch)\n",
        "head(HSCE.df)"
      ],
      "id": "8888b518-3a21-47ca-9f66-8cb6a20c7a0d",
      "execution_count": 46,
      "outputs": [
        {
          "output_type": "display_data",
          "data": {
            "text/plain": [
              "[1] 3.545763 3.579821 4.228524 6.436848 6.899407 7.883622"
            ],
            "text/latex": "\\begin{enumerate*}\n\\item 3.54576328527644\n\\item 3.57982123724544\n\\item 4.22852355424666\n\\item 6.43684750589984\n\\item 6.89940702915189\n\\item 7.88362220659133\n\\end{enumerate*}\n",
            "text/markdown": "1. 3.54576328527644\n2. 3.57982123724544\n3. 4.22852355424666\n4. 6.43684750589984\n5. 6.89940702915189\n6. 7.88362220659133\n\n\n",
            "text/html": [
              "<style>\n",
              ".list-inline {list-style: none; margin:0; padding: 0}\n",
              ".list-inline>li {display: inline-block}\n",
              ".list-inline>li:not(:last-child)::after {content: \"\\00b7\"; padding: 0 .5ex}\n",
              "</style>\n",
              "<ol class=list-inline><li>3.54576328527644</li><li>3.57982123724544</li><li>4.22852355424666</li><li>6.43684750589984</li><li>6.89940702915189</li><li>7.88362220659133</li></ol>\n"
            ]
          },
          "metadata": {}
        },
        {
          "output_type": "display_data",
          "data": {
            "text/plain": [
              "           HSCE.Close HSCE.Return HSCE.VolGARCH HSCE.VolEGARCH HSCE.VolGJRGARCH\n",
              "2000-01-04    2082.93    4.063335      3.545198       3.544979         3.544975\n",
              "2000-01-05    1956.57   -6.258261      4.420381       4.201116         4.178420\n",
              "2000-01-06    1904.20   -2.713097      6.863968       6.424192         7.296621\n",
              "2000-01-07    2004.51    5.133770      6.881529       6.820387         7.386129\n",
              "2000-01-10    2061.00    2.779166      8.171850       7.801167         8.239147\n",
              "2000-01-11    1996.30   -3.189581      8.078617       7.786976         8.012996\n",
              "           HSCE.VolRealGARCH HSCE.VolRealEGARCH\n",
              "2000-01-04          3.545763           3.545763\n",
              "2000-01-05          3.578986           3.579821\n",
              "2000-01-06          4.457298           4.228524\n",
              "2000-01-07          6.916464           6.436848\n",
              "2000-01-10          6.958878           6.899407\n",
              "2000-01-11          8.256105           7.883622"
            ]
          },
          "metadata": {}
        }
      ]
    },
    {
      "cell_type": "markdown",
      "metadata": {
        "id": "84982d7c-c0eb-404c-b399-e720fb9281cf"
      },
      "source": [
        "**Realized GJR-GARCH**"
      ],
      "id": "84982d7c-c0eb-404c-b399-e720fb9281cf"
    },
    {
      "cell_type": "code",
      "metadata": {
        "id": "9fbe16e5-06c5-4329-ac4e-cd097521e0fe",
        "colab": {
          "base_uri": "https://localhost:8080/",
          "height": 349
        },
        "outputId": "533d2b5b-506b-4a8e-ebc7-d4257ed2b4d6"
      },
      "source": [
        "# Estimation\n",
        "realgjrgarch.fit <- ugarchfit(realgarch.spec, HSCE.df$HSCE.Return,\n",
        "                              solver = 'hybrid',\n",
        "                              realizedVol = HSCE.df$HSCE.VolGJRGARCH)\n",
        "round(realgjrgarch.fit@fit$matcoef, 4)"
      ],
      "id": "9fbe16e5-06c5-4329-ac4e-cd097521e0fe",
      "execution_count": 47,
      "outputs": [
        {
          "output_type": "display_data",
          "data": {
            "text/plain": [
              "        Estimate  Std. Error  t value Pr(>|t|)\n",
              "omega  0.0060    0.0315        0.1889 0.8502  \n",
              "alpha1 0.9950    0.0300       33.1503 0.0000  \n",
              "beta1  0.0080    0.0137        0.5854 0.5583  \n",
              "eta11  0.0019    0.0014        1.3317 0.1830  \n",
              "eta21  0.0043    0.0008        5.3091 0.0000  \n",
              "delta  0.9860    0.0264       37.3301 0.0000  \n",
              "lambda 0.1054    0.0010      103.3522 0.0000  \n",
              "skew   0.9682    0.0162       59.8312 0.0000  \n",
              "xi     0.0042    0.0314        0.1332 0.8940  "
            ],
            "text/latex": "A matrix: 9 × 4 of type dbl\n\\begin{tabular}{r|llll}\n  &  Estimate &  Std. Error &  t value & Pr(>\\textbar{}t\\textbar{})\\\\\n\\hline\n\tomega & 0.0060 & 0.0315 &   0.1889 & 0.8502\\\\\n\talpha1 & 0.9950 & 0.0300 &  33.1503 & 0.0000\\\\\n\tbeta1 & 0.0080 & 0.0137 &   0.5854 & 0.5583\\\\\n\teta11 & 0.0019 & 0.0014 &   1.3317 & 0.1830\\\\\n\teta21 & 0.0043 & 0.0008 &   5.3091 & 0.0000\\\\\n\tdelta & 0.9860 & 0.0264 &  37.3301 & 0.0000\\\\\n\tlambda & 0.1054 & 0.0010 & 103.3522 & 0.0000\\\\\n\tskew & 0.9682 & 0.0162 &  59.8312 & 0.0000\\\\\n\txi & 0.0042 & 0.0314 &   0.1332 & 0.8940\\\\\n\\end{tabular}\n",
            "text/markdown": "\nA matrix: 9 × 4 of type dbl\n\n| <!--/--> |  Estimate |  Std. Error |  t value | Pr(&gt;|t|) |\n|---|---|---|---|---|\n| omega | 0.0060 | 0.0315 |   0.1889 | 0.8502 |\n| alpha1 | 0.9950 | 0.0300 |  33.1503 | 0.0000 |\n| beta1 | 0.0080 | 0.0137 |   0.5854 | 0.5583 |\n| eta11 | 0.0019 | 0.0014 |   1.3317 | 0.1830 |\n| eta21 | 0.0043 | 0.0008 |   5.3091 | 0.0000 |\n| delta | 0.9860 | 0.0264 |  37.3301 | 0.0000 |\n| lambda | 0.1054 | 0.0010 | 103.3522 | 0.0000 |\n| skew | 0.9682 | 0.0162 |  59.8312 | 0.0000 |\n| xi | 0.0042 | 0.0314 |   0.1332 | 0.8940 |\n\n",
            "text/html": [
              "<table class=\"dataframe\">\n",
              "<caption>A matrix: 9 × 4 of type dbl</caption>\n",
              "<thead>\n",
              "\t<tr><th></th><th scope=col> Estimate</th><th scope=col> Std. Error</th><th scope=col> t value</th><th scope=col>Pr(&gt;|t|)</th></tr>\n",
              "</thead>\n",
              "<tbody>\n",
              "\t<tr><th scope=row>omega</th><td>0.0060</td><td>0.0315</td><td>  0.1889</td><td>0.8502</td></tr>\n",
              "\t<tr><th scope=row>alpha1</th><td>0.9950</td><td>0.0300</td><td> 33.1503</td><td>0.0000</td></tr>\n",
              "\t<tr><th scope=row>beta1</th><td>0.0080</td><td>0.0137</td><td>  0.5854</td><td>0.5583</td></tr>\n",
              "\t<tr><th scope=row>eta11</th><td>0.0019</td><td>0.0014</td><td>  1.3317</td><td>0.1830</td></tr>\n",
              "\t<tr><th scope=row>eta21</th><td>0.0043</td><td>0.0008</td><td>  5.3091</td><td>0.0000</td></tr>\n",
              "\t<tr><th scope=row>delta</th><td>0.9860</td><td>0.0264</td><td> 37.3301</td><td>0.0000</td></tr>\n",
              "\t<tr><th scope=row>lambda</th><td>0.1054</td><td>0.0010</td><td>103.3522</td><td>0.0000</td></tr>\n",
              "\t<tr><th scope=row>skew</th><td>0.9682</td><td>0.0162</td><td> 59.8312</td><td>0.0000</td></tr>\n",
              "\t<tr><th scope=row>xi</th><td>0.0042</td><td>0.0314</td><td>  0.1332</td><td>0.8940</td></tr>\n",
              "</tbody>\n",
              "</table>\n"
            ]
          },
          "metadata": {}
        }
      ]
    },
    {
      "cell_type": "code",
      "metadata": {
        "id": "72de108a-b473-4d76-9dc5-c1ae251113eb",
        "colab": {
          "base_uri": "https://localhost:8080/",
          "height": 277
        },
        "outputId": "dac99562-e9c7-4f24-a671-85574dbb275c"
      },
      "source": [
        "# Extracting variance series from the Realized GJR-GARCH model\n",
        "var.realgjrgarch <- ts(realgjrgarch.fit@fit$sigma^2)\n",
        "head(var.realgjrgarch)\n",
        "\n",
        "HSCE.df$HSCE.VolRealGJRGARCH <- as.numeric(var.realgjrgarch)\n",
        "head(HSCE.df)"
      ],
      "id": "72de108a-b473-4d76-9dc5-c1ae251113eb",
      "execution_count": 48,
      "outputs": [
        {
          "output_type": "display_data",
          "data": {
            "text/plain": [
              "[1] 3.545763 3.579824 4.216357 7.352045 7.475026 8.334870"
            ],
            "text/latex": "\\begin{enumerate*}\n\\item 3.54576328527644\n\\item 3.57982384003312\n\\item 4.21635678747882\n\\item 7.35204510488333\n\\item 7.47502641195776\n\\item 8.33487041174316\n\\end{enumerate*}\n",
            "text/markdown": "1. 3.54576328527644\n2. 3.57982384003312\n3. 4.21635678747882\n4. 7.35204510488333\n5. 7.47502641195776\n6. 8.33487041174316\n\n\n",
            "text/html": [
              "<style>\n",
              ".list-inline {list-style: none; margin:0; padding: 0}\n",
              ".list-inline>li {display: inline-block}\n",
              ".list-inline>li:not(:last-child)::after {content: \"\\00b7\"; padding: 0 .5ex}\n",
              "</style>\n",
              "<ol class=list-inline><li>3.54576328527644</li><li>3.57982384003312</li><li>4.21635678747882</li><li>7.35204510488333</li><li>7.47502641195776</li><li>8.33487041174316</li></ol>\n"
            ]
          },
          "metadata": {}
        },
        {
          "output_type": "display_data",
          "data": {
            "text/plain": [
              "           HSCE.Close HSCE.Return HSCE.VolGARCH HSCE.VolEGARCH HSCE.VolGJRGARCH\n",
              "2000-01-04    2082.93    4.063335      3.545198       3.544979         3.544975\n",
              "2000-01-05    1956.57   -6.258261      4.420381       4.201116         4.178420\n",
              "2000-01-06    1904.20   -2.713097      6.863968       6.424192         7.296621\n",
              "2000-01-07    2004.51    5.133770      6.881529       6.820387         7.386129\n",
              "2000-01-10    2061.00    2.779166      8.171850       7.801167         8.239147\n",
              "2000-01-11    1996.30   -3.189581      8.078617       7.786976         8.012996\n",
              "           HSCE.VolRealGARCH HSCE.VolRealEGARCH HSCE.VolRealGJRGARCH\n",
              "2000-01-04          3.545763           3.545763             3.545763\n",
              "2000-01-05          3.578986           3.579821             3.579824\n",
              "2000-01-06          4.457298           4.228524             4.216357\n",
              "2000-01-07          6.916464           6.436848             7.352045\n",
              "2000-01-10          6.958878           6.899407             7.475026\n",
              "2000-01-11          8.256105           7.883622             8.334870"
            ]
          },
          "metadata": {}
        }
      ]
    },
    {
      "cell_type": "markdown",
      "metadata": {
        "id": "735d096c-8ec1-4d3a-a1d9-b7174e560beb"
      },
      "source": [
        "## 8. Markov-Switching GARCH estimation"
      ],
      "id": "735d096c-8ec1-4d3a-a1d9-b7174e560beb"
    },
    {
      "cell_type": "code",
      "metadata": {
        "id": "9ea73810-e857-41db-82fd-a2e4dd54c754",
        "colab": {
          "base_uri": "https://localhost:8080/"
        },
        "outputId": "39cf18c0-955e-450e-9f98-7ce10698a0bd"
      },
      "source": [
        "# Packages\n",
        "install.packages('MSGARCH')\n",
        "\n",
        "library(MSGARCH)"
      ],
      "id": "9ea73810-e857-41db-82fd-a2e4dd54c754",
      "execution_count": 49,
      "outputs": [
        {
          "output_type": "stream",
          "name": "stderr",
          "text": [
            "Installing package into ‘/usr/local/lib/R/site-library’\n",
            "(as ‘lib’ is unspecified)\n",
            "\n",
            "also installing the dependencies ‘coda’, ‘expm’, ‘fanplot’\n",
            "\n",
            "\n"
          ]
        }
      ]
    },
    {
      "cell_type": "markdown",
      "metadata": {
        "id": "ef3e18a9-c620-446e-b3cd-d5d20cf98832"
      },
      "source": [
        "2 regimes: low volatility and high volatility"
      ],
      "id": "ef3e18a9-c620-446e-b3cd-d5d20cf98832"
    },
    {
      "cell_type": "markdown",
      "metadata": {
        "id": "0nhstzdv_IBM"
      },
      "source": [
        "**Linear MS GARCH**"
      ],
      "id": "0nhstzdv_IBM"
    },
    {
      "cell_type": "code",
      "metadata": {
        "id": "a31f362b-be2d-4084-85cc-fd43b95ba2cf"
      },
      "source": [
        "# Specification\n",
        "msgarch.spec <- CreateSpec(variance.spec = list(model = c(\"sGARCH\")),\n",
        "                           distribution.spec = list(distribution = c(\"snorm\")),\n",
        "                           switch.spec = list(K = 2))"
      ],
      "id": "a31f362b-be2d-4084-85cc-fd43b95ba2cf",
      "execution_count": 50,
      "outputs": []
    },
    {
      "cell_type": "code",
      "metadata": {
        "id": "v0OrYkGOTGnf",
        "colab": {
          "base_uri": "https://localhost:8080/"
        },
        "outputId": "091de6f3-9722-48ce-d251-47e22ee46581"
      },
      "source": [
        "# Estimation\n",
        "msgarch.fit <- FitML(msgarch.spec, data = HSCE.df$HSCE.Return)    \n",
        "summary(msgarch.fit)"
      ],
      "id": "v0OrYkGOTGnf",
      "execution_count": 51,
      "outputs": [
        {
          "output_type": "stream",
          "name": "stdout",
          "text": [
            "Specification type: Markov-switching\n",
            "Specification name: sGARCH_snorm sGARCH_snorm\n",
            "Number of parameters in each variance model: 3 3\n",
            "Number of parameters in each distribution: 1 1\n",
            "------------------------------------------\n",
            "Fixed parameters:\n",
            "None\n",
            "------------------------------------------\n",
            "Across regime constrained parameters:\n",
            "None\n",
            "------------------------------------------\n",
            "Fitted parameters:\n",
            "         Estimate Std. Error  t value  Pr(>|t|)\n",
            "alpha0_1   0.0098     0.0030   3.2269 6.258e-04\n",
            "alpha1_1   0.0133     0.0062   2.1360 1.634e-02\n",
            "beta_1     0.9737     0.0026 368.3851    <1e-16\n",
            "xi_1       0.9614     0.0277  34.7394    <1e-16\n",
            "alpha0_2   0.1386     0.0452   3.0621 1.099e-03\n",
            "alpha1_2   0.0600     0.0370   1.6200 5.262e-02\n",
            "beta_2     0.9362     0.0021 441.5513    <1e-16\n",
            "xi_2       0.9761     0.0366  26.6870    <1e-16\n",
            "P_1_1      0.9636     0.0271  35.5392    <1e-16\n",
            "P_2_1      0.0969     0.0106   9.1101    <1e-16\n",
            "------------------------------------------\n",
            "Transition matrix:\n",
            "      t+1|k=1 t+1|k=2\n",
            "t|k=1  0.9636  0.0364\n",
            "t|k=2  0.0969  0.9031\n",
            "------------------------------------------\n",
            "Stable probabilities:\n",
            "State 1 State 2 \n",
            " 0.7268  0.2732 \n",
            "------------------------------------------\n",
            "LL: -10010.4868\n",
            "AIC: 20040.9736\n",
            "BIC: 20106.8053\n",
            "------------------------------------------\n"
          ]
        }
      ]
    },
    {
      "cell_type": "code",
      "metadata": {
        "id": "Bg9ZdxIiTUr7",
        "colab": {
          "base_uri": "https://localhost:8080/",
          "height": 416
        },
        "outputId": "8c731e43-b604-45d1-d9c6-f7182e7153cb"
      },
      "source": [
        "# Extracting variance series from the MS GARCH model\n",
        "var.msgarch <- ts(Volatility(msgarch.fit))\n",
        "head(var.msgarch)\n",
        "\n",
        "HSCE.df$HSCE.VolMSGARCH <- as.numeric(var.msgarch)\n",
        "head(HSCE.df)"
      ],
      "id": "Bg9ZdxIiTUr7",
      "execution_count": 52,
      "outputs": [
        {
          "output_type": "display_data",
          "data": {
            "text/plain": [
              "     t=1      t=2      t=3      t=4      t=5      t=6 \n",
              "3.214047 3.188500 5.627884 5.372043 5.463742 5.201256 "
            ],
            "text/latex": "\\begin{description*}\n\\item[t=1] 3.21404686535601\n\\item[t=2] 3.18849952258716\n\\item[t=3] 5.62788386610079\n\\item[t=4] 5.37204279878146\n\\item[t=5] 5.46374192915861\n\\item[t=6] 5.20125572788552\n\\end{description*}\n",
            "text/markdown": "t=1\n:   3.21404686535601t=2\n:   3.18849952258716t=3\n:   5.62788386610079t=4\n:   5.37204279878146t=5\n:   5.46374192915861t=6\n:   5.20125572788552\n\n",
            "text/html": [
              "<style>\n",
              ".dl-inline {width: auto; margin:0; padding: 0}\n",
              ".dl-inline>dt, .dl-inline>dd {float: none; width: auto; display: inline-block}\n",
              ".dl-inline>dt::after {content: \":\\0020\"; padding-right: .5ex}\n",
              ".dl-inline>dt:not(:first-of-type) {padding-left: .5ex}\n",
              "</style><dl class=dl-inline><dt>t=1</dt><dd>3.21404686535601</dd><dt>t=2</dt><dd>3.18849952258716</dd><dt>t=3</dt><dd>5.62788386610079</dd><dt>t=4</dt><dd>5.37204279878146</dd><dt>t=5</dt><dd>5.46374192915861</dd><dt>t=6</dt><dd>5.20125572788552</dd></dl>\n"
            ]
          },
          "metadata": {}
        },
        {
          "output_type": "display_data",
          "data": {
            "text/plain": [
              "           HSCE.Close HSCE.Return HSCE.VolGARCH HSCE.VolEGARCH HSCE.VolGJRGARCH\n",
              "2000-01-04    2082.93    4.063335      3.545198       3.544979         3.544975\n",
              "2000-01-05    1956.57   -6.258261      4.420381       4.201116         4.178420\n",
              "2000-01-06    1904.20   -2.713097      6.863968       6.424192         7.296621\n",
              "2000-01-07    2004.51    5.133770      6.881529       6.820387         7.386129\n",
              "2000-01-10    2061.00    2.779166      8.171850       7.801167         8.239147\n",
              "2000-01-11    1996.30   -3.189581      8.078617       7.786976         8.012996\n",
              "           HSCE.VolRealGARCH HSCE.VolRealEGARCH HSCE.VolRealGJRGARCH\n",
              "2000-01-04          3.545763           3.545763             3.545763\n",
              "2000-01-05          3.578986           3.579821             3.579824\n",
              "2000-01-06          4.457298           4.228524             4.216357\n",
              "2000-01-07          6.916464           6.436848             7.352045\n",
              "2000-01-10          6.958878           6.899407             7.475026\n",
              "2000-01-11          8.256105           7.883622             8.334870\n",
              "           HSCE.VolMSGARCH\n",
              "2000-01-04        3.214047\n",
              "2000-01-05        3.188500\n",
              "2000-01-06        5.627884\n",
              "2000-01-07        5.372043\n",
              "2000-01-10        5.463742\n",
              "2000-01-11        5.201256"
            ]
          },
          "metadata": {}
        }
      ]
    },
    {
      "cell_type": "markdown",
      "metadata": {
        "id": "jDyeAzbaUZGK"
      },
      "source": [
        "**MS EGARCH**"
      ],
      "id": "jDyeAzbaUZGK"
    },
    {
      "cell_type": "code",
      "metadata": {
        "id": "OJ_1-NOIUduu"
      },
      "source": [
        "# Specification\n",
        "msegarch.spec <- CreateSpec(variance.spec = list(model = c(\"eGARCH\")),\n",
        "                            distribution.spec = list(distribution = c(\"snorm\")),\n",
        "                            switch.spec = list(K = 2))"
      ],
      "id": "OJ_1-NOIUduu",
      "execution_count": 53,
      "outputs": []
    },
    {
      "cell_type": "code",
      "metadata": {
        "id": "QZBzDVNzUgcq",
        "colab": {
          "base_uri": "https://localhost:8080/"
        },
        "outputId": "0b3c6d23-e174-4c6a-9ec3-7debe9ca4838"
      },
      "source": [
        "# Estimation\n",
        "msegarch.fit <- FitML(msegarch.spec, data = HSCE.df$HSCE.Return)    \n",
        "summary(msegarch.fit)"
      ],
      "id": "QZBzDVNzUgcq",
      "execution_count": 54,
      "outputs": [
        {
          "output_type": "stream",
          "name": "stdout",
          "text": [
            "Specification type: Markov-switching\n",
            "Specification name: eGARCH_snorm eGARCH_snorm\n",
            "Number of parameters in each variance model: 4 4\n",
            "Number of parameters in each distribution: 1 1\n",
            "------------------------------------------\n",
            "Fixed parameters:\n",
            "None\n",
            "------------------------------------------\n",
            "Across regime constrained parameters:\n",
            "None\n",
            "------------------------------------------\n",
            "Fitted parameters:\n",
            "         Estimate Std. Error  t value  Pr(>|t|)\n",
            "alpha0_1  -0.0021     0.0018  -1.1814 1.187e-01\n",
            "alpha1_1   0.0639     0.0153   4.1820 1.445e-05\n",
            "alpha2_1  -0.0332     0.0105  -3.1680 7.675e-04\n",
            "beta_1     0.9920     0.0024 413.9288    <1e-16\n",
            "xi_1       0.9381     0.0262  35.8496    <1e-16\n",
            "alpha0_2   0.0560     0.0129   4.3409 7.095e-06\n",
            "alpha1_2   0.1075     0.0256   4.1925 1.380e-05\n",
            "alpha2_2  -0.0411     0.0148  -2.7729 2.778e-03\n",
            "beta_2     0.9843     0.0046 215.6638    <1e-16\n",
            "xi_2       0.9906     0.0436  22.7204    <1e-16\n",
            "P_1_1      0.9650     0.0331  29.1651    <1e-16\n",
            "P_2_1      0.1241     0.0107  11.5732    <1e-16\n",
            "------------------------------------------\n",
            "Transition matrix:\n",
            "      t+1|k=1 t+1|k=2\n",
            "t|k=1  0.9650  0.0350\n",
            "t|k=2  0.1241  0.8759\n",
            "------------------------------------------\n",
            "Stable probabilities:\n",
            "State 1 State 2 \n",
            " 0.7802  0.2198 \n",
            "------------------------------------------\n",
            "LL: -9994.3544\n",
            "AIC: 20012.7089\n",
            "BIC: 20091.7069\n",
            "------------------------------------------\n"
          ]
        }
      ]
    },
    {
      "cell_type": "code",
      "metadata": {
        "id": "RTicDPi3U_ux",
        "colab": {
          "base_uri": "https://localhost:8080/",
          "height": 416
        },
        "outputId": "9c0507bf-1878-4c69-bda3-03d3d975f9d6"
      },
      "source": [
        "# Extracting variance series from the MS EGARCH model\n",
        "var.msegarch <- ts(Volatility(msegarch.fit))\n",
        "head(var.msegarch)\n",
        "\n",
        "HSCE.df$HSCE.VolMSEGARCH <- as.numeric(var.msegarch)\n",
        "head(HSCE.df)"
      ],
      "id": "RTicDPi3U_ux",
      "execution_count": 55,
      "outputs": [
        {
          "output_type": "display_data",
          "data": {
            "text/plain": [
              "     t=1      t=2      t=3      t=4      t=5      t=6 \n",
              "2.890268 2.846753 5.672716 5.437145 5.540006 5.201757 "
            ],
            "text/latex": "\\begin{description*}\n\\item[t=1] 2.89026769594027\n\\item[t=2] 2.84675258671223\n\\item[t=3] 5.67271579549385\n\\item[t=4] 5.43714531588604\n\\item[t=5] 5.54000577633205\n\\item[t=6] 5.20175685763625\n\\end{description*}\n",
            "text/markdown": "t=1\n:   2.89026769594027t=2\n:   2.84675258671223t=3\n:   5.67271579549385t=4\n:   5.43714531588604t=5\n:   5.54000577633205t=6\n:   5.20175685763625\n\n",
            "text/html": [
              "<style>\n",
              ".dl-inline {width: auto; margin:0; padding: 0}\n",
              ".dl-inline>dt, .dl-inline>dd {float: none; width: auto; display: inline-block}\n",
              ".dl-inline>dt::after {content: \":\\0020\"; padding-right: .5ex}\n",
              ".dl-inline>dt:not(:first-of-type) {padding-left: .5ex}\n",
              "</style><dl class=dl-inline><dt>t=1</dt><dd>2.89026769594027</dd><dt>t=2</dt><dd>2.84675258671223</dd><dt>t=3</dt><dd>5.67271579549385</dd><dt>t=4</dt><dd>5.43714531588604</dd><dt>t=5</dt><dd>5.54000577633205</dd><dt>t=6</dt><dd>5.20175685763625</dd></dl>\n"
            ]
          },
          "metadata": {}
        },
        {
          "output_type": "display_data",
          "data": {
            "text/plain": [
              "           HSCE.Close HSCE.Return HSCE.VolGARCH HSCE.VolEGARCH HSCE.VolGJRGARCH\n",
              "2000-01-04    2082.93    4.063335      3.545198       3.544979         3.544975\n",
              "2000-01-05    1956.57   -6.258261      4.420381       4.201116         4.178420\n",
              "2000-01-06    1904.20   -2.713097      6.863968       6.424192         7.296621\n",
              "2000-01-07    2004.51    5.133770      6.881529       6.820387         7.386129\n",
              "2000-01-10    2061.00    2.779166      8.171850       7.801167         8.239147\n",
              "2000-01-11    1996.30   -3.189581      8.078617       7.786976         8.012996\n",
              "           HSCE.VolRealGARCH HSCE.VolRealEGARCH HSCE.VolRealGJRGARCH\n",
              "2000-01-04          3.545763           3.545763             3.545763\n",
              "2000-01-05          3.578986           3.579821             3.579824\n",
              "2000-01-06          4.457298           4.228524             4.216357\n",
              "2000-01-07          6.916464           6.436848             7.352045\n",
              "2000-01-10          6.958878           6.899407             7.475026\n",
              "2000-01-11          8.256105           7.883622             8.334870\n",
              "           HSCE.VolMSGARCH HSCE.VolMSEGARCH\n",
              "2000-01-04        3.214047         2.890268\n",
              "2000-01-05        3.188500         2.846753\n",
              "2000-01-06        5.627884         5.672716\n",
              "2000-01-07        5.372043         5.437145\n",
              "2000-01-10        5.463742         5.540006\n",
              "2000-01-11        5.201256         5.201757"
            ]
          },
          "metadata": {}
        }
      ]
    },
    {
      "cell_type": "markdown",
      "metadata": {
        "id": "lA_6nowOVjc3"
      },
      "source": [
        "**MS GJR-GARCH**"
      ],
      "id": "lA_6nowOVjc3"
    },
    {
      "cell_type": "code",
      "metadata": {
        "id": "hnpt-SDyVmC3"
      },
      "source": [
        "# Specification\n",
        "msgjrgarch.spec <- CreateSpec(variance.spec = list(model = c(\"gjrGARCH\")),\n",
        "                              distribution.spec = list(distribution = c(\"snorm\")),\n",
        "                              switch.spec = list(K = 2))"
      ],
      "id": "hnpt-SDyVmC3",
      "execution_count": 56,
      "outputs": []
    },
    {
      "cell_type": "code",
      "metadata": {
        "id": "KkskZPFCVoPK",
        "colab": {
          "base_uri": "https://localhost:8080/"
        },
        "outputId": "951ae5ce-31f8-44fb-8da6-232c7bb8cf63"
      },
      "source": [
        "# Estimation\n",
        "msgjrgarch.fit <- FitML(msgjrgarch.spec, data = HSCE.df$HSCE.Return)    \n",
        "summary(msgjrgarch.fit)"
      ],
      "id": "KkskZPFCVoPK",
      "execution_count": 57,
      "outputs": [
        {
          "output_type": "stream",
          "name": "stdout",
          "text": [
            "Specification type: Markov-switching\n",
            "Specification name: gjrGARCH_snorm gjrGARCH_snorm\n",
            "Number of parameters in each variance model: 4 4\n",
            "Number of parameters in each distribution: 1 1\n",
            "------------------------------------------\n",
            "Fixed parameters:\n",
            "None\n",
            "------------------------------------------\n",
            "Across regime constrained parameters:\n",
            "None\n",
            "------------------------------------------\n",
            "Fitted parameters:\n",
            "         Estimate Std. Error  t value  Pr(>|t|)\n",
            "alpha0_1   0.0116     0.0048   2.4147 7.873e-03\n",
            "alpha1_1   0.0059     0.0061   0.9750 1.648e-01\n",
            "alpha2_1   0.0174     0.0120   1.4507 7.344e-02\n",
            "beta_1     0.9712     0.0045 215.8038    <1e-16\n",
            "xi_1       0.9458     0.0272  34.8134    <1e-16\n",
            "alpha0_2   0.1279     0.0385   3.3194 4.510e-04\n",
            "alpha1_2   0.0164     0.0161   1.0194 1.540e-01\n",
            "alpha2_2   0.0649     0.0285   2.2769 1.140e-02\n",
            "beta_2     0.9469     0.0025 376.4619    <1e-16\n",
            "xi_2       1.0000     0.0378  26.4693    <1e-16\n",
            "P_1_1      0.9686     0.0227  42.7342    <1e-16\n",
            "P_2_1      0.0848     0.0106   7.9868 6.661e-16\n",
            "------------------------------------------\n",
            "Transition matrix:\n",
            "      t+1|k=1 t+1|k=2\n",
            "t|k=1  0.9686  0.0314\n",
            "t|k=2  0.0848  0.9152\n",
            "------------------------------------------\n",
            "Stable probabilities:\n",
            "State 1 State 2 \n",
            " 0.7296  0.2704 \n",
            "------------------------------------------\n",
            "LL: -10000.4354\n",
            "AIC: 20024.8708\n",
            "BIC: 20103.8688\n",
            "------------------------------------------\n"
          ]
        }
      ]
    },
    {
      "cell_type": "code",
      "metadata": {
        "id": "ixZcmHkiWKXi",
        "colab": {
          "base_uri": "https://localhost:8080/",
          "height": 416
        },
        "outputId": "1b8327d0-a443-408f-acfb-a000038307a2"
      },
      "source": [
        "# Extracting variance series from the MS GJR-GARCH model\n",
        "var.msgjrgarch <- ts(Volatility(msgjrgarch.fit))\n",
        "head(var.msgjrgarch)\n",
        "\n",
        "HSCE.df$HSCE.VolMSGJRGARCH <- as.numeric(var.msgjrgarch)\n",
        "head(HSCE.df)"
      ],
      "id": "ixZcmHkiWKXi",
      "execution_count": 58,
      "outputs": [
        {
          "output_type": "display_data",
          "data": {
            "text/plain": [
              "     t=1      t=2      t=3      t=4      t=5      t=6 \n",
              "2.952867 2.908365 5.305209 5.095995 5.137822 4.900231 "
            ],
            "text/latex": "\\begin{description*}\n\\item[t=1] 2.95286663627262\n\\item[t=2] 2.9083654953826\n\\item[t=3] 5.30520899459871\n\\item[t=4] 5.09599544830097\n\\item[t=5] 5.13782220260069\n\\item[t=6] 4.90023116548813\n\\end{description*}\n",
            "text/markdown": "t=1\n:   2.95286663627262t=2\n:   2.9083654953826t=3\n:   5.30520899459871t=4\n:   5.09599544830097t=5\n:   5.13782220260069t=6\n:   4.90023116548813\n\n",
            "text/html": [
              "<style>\n",
              ".dl-inline {width: auto; margin:0; padding: 0}\n",
              ".dl-inline>dt, .dl-inline>dd {float: none; width: auto; display: inline-block}\n",
              ".dl-inline>dt::after {content: \":\\0020\"; padding-right: .5ex}\n",
              ".dl-inline>dt:not(:first-of-type) {padding-left: .5ex}\n",
              "</style><dl class=dl-inline><dt>t=1</dt><dd>2.95286663627262</dd><dt>t=2</dt><dd>2.9083654953826</dd><dt>t=3</dt><dd>5.30520899459871</dd><dt>t=4</dt><dd>5.09599544830097</dd><dt>t=5</dt><dd>5.13782220260069</dd><dt>t=6</dt><dd>4.90023116548813</dd></dl>\n"
            ]
          },
          "metadata": {}
        },
        {
          "output_type": "display_data",
          "data": {
            "text/plain": [
              "           HSCE.Close HSCE.Return HSCE.VolGARCH HSCE.VolEGARCH HSCE.VolGJRGARCH\n",
              "2000-01-04    2082.93    4.063335      3.545198       3.544979         3.544975\n",
              "2000-01-05    1956.57   -6.258261      4.420381       4.201116         4.178420\n",
              "2000-01-06    1904.20   -2.713097      6.863968       6.424192         7.296621\n",
              "2000-01-07    2004.51    5.133770      6.881529       6.820387         7.386129\n",
              "2000-01-10    2061.00    2.779166      8.171850       7.801167         8.239147\n",
              "2000-01-11    1996.30   -3.189581      8.078617       7.786976         8.012996\n",
              "           HSCE.VolRealGARCH HSCE.VolRealEGARCH HSCE.VolRealGJRGARCH\n",
              "2000-01-04          3.545763           3.545763             3.545763\n",
              "2000-01-05          3.578986           3.579821             3.579824\n",
              "2000-01-06          4.457298           4.228524             4.216357\n",
              "2000-01-07          6.916464           6.436848             7.352045\n",
              "2000-01-10          6.958878           6.899407             7.475026\n",
              "2000-01-11          8.256105           7.883622             8.334870\n",
              "           HSCE.VolMSGARCH HSCE.VolMSEGARCH HSCE.VolMSGJRGARCH\n",
              "2000-01-04        3.214047         2.890268           2.952867\n",
              "2000-01-05        3.188500         2.846753           2.908365\n",
              "2000-01-06        5.627884         5.672716           5.305209\n",
              "2000-01-07        5.372043         5.437145           5.095995\n",
              "2000-01-10        5.463742         5.540006           5.137822\n",
              "2000-01-11        5.201256         5.201757           4.900231"
            ]
          },
          "metadata": {}
        }
      ]
    },
    {
      "cell_type": "markdown",
      "metadata": {
        "id": "P34LgaLxXaiv"
      },
      "source": [
        "## 9. Sample split: in-sample (70%) and out-sample (30%)"
      ],
      "id": "P34LgaLxXaiv"
    },
    {
      "cell_type": "code",
      "metadata": {
        "id": "oEXlnm7ZXl3S",
        "colab": {
          "base_uri": "https://localhost:8080/",
          "height": 34
        },
        "outputId": "2636988b-e129-4f30-833a-d213fc385be2"
      },
      "source": [
        "# Total number of lines \n",
        "nrow(HSCE.df)                "
      ],
      "id": "oEXlnm7ZXl3S",
      "execution_count": 59,
      "outputs": [
        {
          "output_type": "display_data",
          "data": {
            "text/plain": [
              "[1] 5341"
            ],
            "text/latex": "5341",
            "text/markdown": "5341",
            "text/html": [
              "5341"
            ]
          },
          "metadata": {}
        }
      ]
    },
    {
      "cell_type": "code",
      "metadata": {
        "id": "yBa5ZL9QXw0J",
        "colab": {
          "base_uri": "https://localhost:8080/",
          "height": 34
        },
        "outputId": "874e5316-5e3c-4b1d-a213-6a9da44e8411"
      },
      "source": [
        "# Cut-line\n",
        "round(nrow(HSCE.df)*0.7, digits = 0)"
      ],
      "id": "yBa5ZL9QXw0J",
      "execution_count": 60,
      "outputs": [
        {
          "output_type": "display_data",
          "data": {
            "text/plain": [
              "[1] 3739"
            ],
            "text/latex": "3739",
            "text/markdown": "3739",
            "text/html": [
              "3739"
            ]
          },
          "metadata": {}
        }
      ]
    },
    {
      "cell_type": "code",
      "metadata": {
        "id": "dlcRWLpoXzN_",
        "colab": {
          "base_uri": "https://localhost:8080/",
          "height": 34
        },
        "outputId": "9f2c2102-8f32-41c8-ad37-a1fb6d346e79"
      },
      "source": [
        "# In-sample\n",
        "HSCE.df.in <- HSCE.df[1:round(nrow(HSCE.df)*0.7, digits = 0),]\n",
        "dim(HSCE.df.in)"
      ],
      "id": "dlcRWLpoXzN_",
      "execution_count": 61,
      "outputs": [
        {
          "output_type": "display_data",
          "data": {
            "text/plain": [
              "[1] 3739   11"
            ],
            "text/latex": "\\begin{enumerate*}\n\\item 3739\n\\item 11\n\\end{enumerate*}\n",
            "text/markdown": "1. 3739\n2. 11\n\n\n",
            "text/html": [
              "<style>\n",
              ".list-inline {list-style: none; margin:0; padding: 0}\n",
              ".list-inline>li {display: inline-block}\n",
              ".list-inline>li:not(:last-child)::after {content: \"\\00b7\"; padding: 0 .5ex}\n",
              "</style>\n",
              "<ol class=list-inline><li>3739</li><li>11</li></ol>\n"
            ]
          },
          "metadata": {}
        }
      ]
    },
    {
      "cell_type": "code",
      "metadata": {
        "id": "ZaKAIY7iX2SE",
        "colab": {
          "base_uri": "https://localhost:8080/",
          "height": 34
        },
        "outputId": "477fed35-5d21-4673-899a-c6b7a3e95c95"
      },
      "source": [
        "# Out-sample\n",
        "HSCE.df.out <- HSCE.df[(round(nrow(HSCE.df)*0.7, digits = 0)+1):nrow(HSCE.df),]\n",
        "dim(HSCE.df.out)"
      ],
      "id": "ZaKAIY7iX2SE",
      "execution_count": 62,
      "outputs": [
        {
          "output_type": "display_data",
          "data": {
            "text/plain": [
              "[1] 1602   11"
            ],
            "text/latex": "\\begin{enumerate*}\n\\item 1602\n\\item 11\n\\end{enumerate*}\n",
            "text/markdown": "1. 1602\n2. 11\n\n\n",
            "text/html": [
              "<style>\n",
              ".list-inline {list-style: none; margin:0; padding: 0}\n",
              ".list-inline>li {display: inline-block}\n",
              ".list-inline>li:not(:last-child)::after {content: \"\\00b7\"; padding: 0 .5ex}\n",
              "</style>\n",
              "<ol class=list-inline><li>1602</li><li>11</li></ol>\n"
            ]
          },
          "metadata": {}
        }
      ]
    },
    {
      "cell_type": "markdown",
      "metadata": {
        "id": "Ae_49vbJJAY1"
      },
      "source": [
        "# 10. Forecast - GARCH models"
      ],
      "id": "Ae_49vbJJAY1"
    },
    {
      "cell_type": "code",
      "metadata": {
        "id": "-eJ97HPPJEH5",
        "colab": {
          "base_uri": "https://localhost:8080/"
        },
        "outputId": "5d5eee5d-1b29-4e1e-fbbb-273d844ec5b0"
      },
      "source": [
        "# Packages\n",
        "install.packages('Metrics')\n",
        "install.packages('MLmetrics')\n",
        "install.packages('multDM')\n",
        "install.packages('MCS')\n",
        "install.packages('sandwich')\n",
        "install.packages('lmtest')\n",
        "install.packages('forecast')\n",
        "\n",
        "library(Metrics)\n",
        "library(MLmetrics)\n",
        "library(multDM)\n",
        "library(MCS)\n",
        "library(sandwich)\n",
        "library(lmtest)\n",
        "library(forecast)"
      ],
      "id": "-eJ97HPPJEH5",
      "execution_count": 63,
      "outputs": [
        {
          "output_type": "stream",
          "name": "stderr",
          "text": [
            "Installing package into ‘/usr/local/lib/R/site-library’\n",
            "(as ‘lib’ is unspecified)\n",
            "\n",
            "Installing package into ‘/usr/local/lib/R/site-library’\n",
            "(as ‘lib’ is unspecified)\n",
            "\n",
            "also installing the dependencies ‘bitops’, ‘gtools’, ‘caTools’, ‘gplots’, ‘ROCR’\n",
            "\n",
            "\n",
            "Installing package into ‘/usr/local/lib/R/site-library’\n",
            "(as ‘lib’ is unspecified)\n",
            "\n",
            "also installing the dependencies ‘timeSeries’, ‘fastICA’, ‘gss’, ‘stabledist’, ‘fGarch’, ‘fBasics’, ‘MTS’\n",
            "\n",
            "\n",
            "Installing package into ‘/usr/local/lib/R/site-library’\n",
            "(as ‘lib’ is unspecified)\n",
            "\n",
            "Installing package into ‘/usr/local/lib/R/site-library’\n",
            "(as ‘lib’ is unspecified)\n",
            "\n",
            "Installing package into ‘/usr/local/lib/R/site-library’\n",
            "(as ‘lib’ is unspecified)\n",
            "\n",
            "Installing package into ‘/usr/local/lib/R/site-library’\n",
            "(as ‘lib’ is unspecified)\n",
            "\n",
            "\n",
            "Attaching package: ‘MLmetrics’\n",
            "\n",
            "\n",
            "The following object is masked from ‘package:base’:\n",
            "\n",
            "    Recall\n",
            "\n",
            "\n",
            "Registered S3 methods overwritten by 'forecast':\n",
            "  method       from\n",
            "  fitted.Arima TSA \n",
            "  plot.Arima   TSA \n",
            "\n",
            "\n",
            "Attaching package: ‘forecast’\n",
            "\n",
            "\n",
            "The following object is masked from ‘package:Metrics’:\n",
            "\n",
            "    accuracy\n",
            "\n",
            "\n",
            "The following object is masked from ‘package:FinTS’:\n",
            "\n",
            "    Acf\n",
            "\n",
            "\n",
            "The following object is masked from ‘package:aTSA’:\n",
            "\n",
            "    forecast\n",
            "\n",
            "\n"
          ]
        }
      ]
    },
    {
      "cell_type": "markdown",
      "metadata": {
        "id": "eDF61ZNDK7-L"
      },
      "source": [
        "## (a) Linear GARCH"
      ],
      "id": "eDF61ZNDK7-L"
    },
    {
      "cell_type": "markdown",
      "metadata": {
        "id": "zQvg4fhykI3G"
      },
      "source": [
        "**Forecast**"
      ],
      "id": "zQvg4fhykI3G"
    },
    {
      "cell_type": "code",
      "metadata": {
        "id": "4kWDFtEyQj8x"
      },
      "source": [
        "# Model specification\n",
        "garch.spec.pred <- garch.spec\n",
        "setfixed(garch.spec.pred) <- as.list(coef(garch.fit))"
      ],
      "id": "4kWDFtEyQj8x",
      "execution_count": 64,
      "outputs": []
    },
    {
      "cell_type": "code",
      "metadata": {
        "id": "LJ35908xRCpF"
      },
      "source": [
        "# Model adjustment\n",
        "garch.fit.pred <- ugarchfit(garch.spec,\n",
        "                            HSCE.df$HSCE.Return,\n",
        "                            out.sample = dim(HSCE.df.out)[1])"
      ],
      "id": "LJ35908xRCpF",
      "execution_count": 65,
      "outputs": []
    },
    {
      "cell_type": "code",
      "metadata": {
        "id": "Q6VYCPYGSISr"
      },
      "source": [
        "# Forecast calculated through adjustment\n",
        "garch.pred <- ugarchforecast(garch.fit.pred,\n",
        "                             n.ahead = 1,\n",
        "                             n.roll = dim(HSCE.df.out)[1])\n",
        "\n",
        "garch.forecast <- xts(sigma(garch.pred)[1,],\n",
        "                      move(as.Date(names(sigma(garch.pred)[1,])), by = 1))"
      ],
      "id": "Q6VYCPYGSISr",
      "execution_count": 66,
      "outputs": []
    },
    {
      "cell_type": "code",
      "metadata": {
        "id": "XvWtLYxOK7cE",
        "colab": {
          "base_uri": "https://localhost:8080/",
          "height": 255
        },
        "outputId": "3dc62a43-9598-4cdf-b282-15ad001a531f"
      },
      "source": [
        "sigma.garch.pred <- ts(garch.forecast[-1,])\n",
        "sigma.garch.true <- ts(HSCE.df.out$HSCE.VolGARCH)\n",
        "\n",
        "sigma.garch <- na.omit(cbind(sigma.garch.pred,\n",
        "                            sigma.garch.true))\n",
        "head(sigma.garch)"
      ],
      "id": "XvWtLYxOK7cE",
      "execution_count": 67,
      "outputs": [
        {
          "output_type": "display_data",
          "data": {
            "text/plain": [
              "  sigma.garch.pred sigma.garch.true\n",
              "1 1.846054         3.472659        \n",
              "2 1.778617         3.334189        \n",
              "3 1.870604         3.103459        \n",
              "4 1.810348         3.402820        \n",
              "5 1.806468         3.191380        \n",
              "6 1.819442         3.169370        "
            ],
            "text/latex": "A Time Series: 6 × 2\n\\begin{tabular}{r|ll}\n  & sigma.garch.pred & sigma.garch.true\\\\\n\\hline\n\t1 & 1.846054 & 3.472659\\\\\n\t2 & 1.778617 & 3.334189\\\\\n\t3 & 1.870604 & 3.103459\\\\\n\t4 & 1.810348 & 3.402820\\\\\n\t5 & 1.806468 & 3.191380\\\\\n\t6 & 1.819442 & 3.169370\\\\\n\\end{tabular}\n",
            "text/markdown": "\nA Time Series: 6 × 2\n\n| <!--/--> | sigma.garch.pred | sigma.garch.true |\n|---|---|---|\n| 1 | 1.846054 | 3.472659 |\n| 2 | 1.778617 | 3.334189 |\n| 3 | 1.870604 | 3.103459 |\n| 4 | 1.810348 | 3.402820 |\n| 5 | 1.806468 | 3.191380 |\n| 6 | 1.819442 | 3.169370 |\n\n",
            "text/html": [
              "<table class=\"dataframe\">\n",
              "<caption>A Time Series: 6 × 2</caption>\n",
              "<thead>\n",
              "\t<tr><th></th><th scope=col>sigma.garch.pred</th><th scope=col>sigma.garch.true</th></tr>\n",
              "</thead>\n",
              "<tbody>\n",
              "\t<tr><th scope=row>1</th><td>1.846054</td><td>3.472659</td></tr>\n",
              "\t<tr><th scope=row>2</th><td>1.778617</td><td>3.334189</td></tr>\n",
              "\t<tr><th scope=row>3</th><td>1.870604</td><td>3.103459</td></tr>\n",
              "\t<tr><th scope=row>4</th><td>1.810348</td><td>3.402820</td></tr>\n",
              "\t<tr><th scope=row>5</th><td>1.806468</td><td>3.191380</td></tr>\n",
              "\t<tr><th scope=row>6</th><td>1.819442</td><td>3.169370</td></tr>\n",
              "</tbody>\n",
              "</table>\n"
            ]
          },
          "metadata": {}
        }
      ]
    },
    {
      "cell_type": "markdown",
      "metadata": {
        "id": "mSx7eTn3kPct"
      },
      "source": [
        "**Performance evaluation**"
      ],
      "id": "mSx7eTn3kPct"
    },
    {
      "cell_type": "code",
      "metadata": {
        "id": "U_o8n_8ckYWr",
        "colab": {
          "base_uri": "https://localhost:8080/",
          "height": 52
        },
        "outputId": "889f3808-c083-463d-a099-7f9c9c947b70"
      },
      "source": [
        "# Forecast Error\n",
        "garch.error <- sigma.garch[,'sigma.garch.pred'] - sigma.garch[,'sigma.garch.true']\n",
        "head(garch.error)"
      ],
      "id": "U_o8n_8ckYWr",
      "execution_count": 68,
      "outputs": [
        {
          "output_type": "display_data",
          "data": {
            "text/plain": [
              "A Time Series:\n",
              "[1] -1.626605 -1.555572 -1.232855 -1.592472 -1.384912 -1.349927"
            ],
            "text/latex": "A Time Series:\\\\\\begin{enumerate*}\n\\item -1.62660505688822\n\\item -1.55557198595036\n\\item -1.23285505158332\n\\item -1.59247157621991\n\\item -1.38491215859377\n\\item -1.34992743270715\n\\end{enumerate*}\n",
            "text/markdown": "A Time Series:  \n1. -1.62660505688822\n2. -1.55557198595036\n3. -1.23285505158332\n4. -1.59247157621991\n5. -1.38491215859377\n6. -1.34992743270715\n\n\n",
            "text/html": [
              "A Time Series:<br><style>\n",
              ".list-inline {list-style: none; margin:0; padding: 0}\n",
              ".list-inline>li {display: inline-block}\n",
              ".list-inline>li:not(:last-child)::after {content: \"\\00b7\"; padding: 0 .5ex}\n",
              "</style>\n",
              "<ol class=list-inline><li>-1.62660505688822</li><li>-1.55557198595036</li><li>-1.23285505158332</li><li>-1.59247157621991</li><li>-1.38491215859377</li><li>-1.34992743270715</li></ol>\n"
            ]
          },
          "metadata": {}
        }
      ]
    },
    {
      "cell_type": "code",
      "metadata": {
        "id": "vVvmYhWSK6Jx",
        "colab": {
          "base_uri": "https://localhost:8080/",
          "height": 34
        },
        "outputId": "38ddc13c-4cac-4daa-ce3b-b8da9c69add7"
      },
      "source": [
        "# Mean Square Error Loss\n",
        "garch.mse <- MSE(sigma.garch[,'sigma.garch.pred'], \n",
        "                 sigma.garch[,'sigma.garch.true'])\n",
        "round(garch.mse, digits = 3)     "
      ],
      "id": "vVvmYhWSK6Jx",
      "execution_count": 69,
      "outputs": [
        {
          "output_type": "display_data",
          "data": {
            "text/plain": [
              "[1] 1.146"
            ],
            "text/latex": "1.146",
            "text/markdown": "1.146",
            "text/html": [
              "1.146"
            ]
          },
          "metadata": {}
        }
      ]
    },
    {
      "cell_type": "code",
      "metadata": {
        "id": "ahWBmWNDLabm",
        "colab": {
          "base_uri": "https://localhost:8080/",
          "height": 34
        },
        "outputId": "626e6d44-2a7a-4e97-ceac-1807b447dc5d"
      },
      "source": [
        "# Mean Absolute Error Loss\n",
        "garch.mae <- MAE(sigma.garch[,'sigma.garch.pred'], \n",
        "                 sigma.garch[,'sigma.garch.true'])\n",
        "round(garch.mae, digits = 3)"
      ],
      "id": "ahWBmWNDLabm",
      "execution_count": 70,
      "outputs": [
        {
          "output_type": "display_data",
          "data": {
            "text/plain": [
              "[1] 0.659"
            ],
            "text/latex": "0.659",
            "text/markdown": "0.659",
            "text/html": [
              "0.659"
            ]
          },
          "metadata": {}
        }
      ]
    },
    {
      "cell_type": "code",
      "metadata": {
        "id": "BQXtSoWcLeK6",
        "colab": {
          "base_uri": "https://localhost:8080/",
          "height": 34
        },
        "outputId": "68fda998-f265-433e-b284-e35b5037abfc"
      },
      "source": [
        "# Root Mean Square Error Loss\n",
        "garch.rmse <- RMSE(sigma.garch[,'sigma.garch.pred'], \n",
        "                   sigma.garch[,'sigma.garch.true'])\n",
        "round(garch.rmse, digits = 3)"
      ],
      "id": "BQXtSoWcLeK6",
      "execution_count": 71,
      "outputs": [
        {
          "output_type": "display_data",
          "data": {
            "text/plain": [
              "[1] 1.07"
            ],
            "text/latex": "1.07",
            "text/markdown": "1.07",
            "text/html": [
              "1.07"
            ]
          },
          "metadata": {}
        }
      ]
    },
    {
      "cell_type": "code",
      "metadata": {
        "id": "hla4zyfwnSkl",
        "colab": {
          "base_uri": "https://localhost:8080/",
          "height": 34
        },
        "outputId": "62c541db-1dd0-4582-a587-381d4a20ec09"
      },
      "source": [
        "# Quasi-likelihood loss function\n",
        "h <- sigma.garch[,'sigma.garch.true']\n",
        "\n",
        "h.hat <- sigma.garch[,'sigma.garch.pred']     \n",
        "garch.qlike <- mean(log(sqrt(h)) + h.hat/sqrt(h))\n",
        "round(garch.qlike, digits = 3) "
      ],
      "id": "hla4zyfwnSkl",
      "execution_count": 72,
      "outputs": [
        {
          "output_type": "display_data",
          "data": {
            "text/plain": [
              "[1] 1.314"
            ],
            "text/latex": "1.314",
            "text/markdown": "1.314",
            "text/html": [
              "1.314"
            ]
          },
          "metadata": {}
        }
      ]
    },
    {
      "cell_type": "code",
      "metadata": {
        "id": "fvV0JmWWs_-H",
        "colab": {
          "base_uri": "https://localhost:8080/",
          "height": 173
        },
        "outputId": "2179b248-9524-4c8d-856f-4d2095908e77"
      },
      "source": [
        "# Linear regression to assess forecast performance\n",
        "garch.model <- lm(sigma.garch.true ~ sigma.garch.pred, \n",
        "                  data = sigma.garch)\n",
        "round(coeftest(garch.model, NeweyWest(garch.model,\n",
        "                                      lag = bwNeweyWest(garch.model),\n",
        "                                      prewhite = F)), 3)\n",
        "round(summary(garch.model)$adj.r.squared, 3)"
      ],
      "id": "fvV0JmWWs_-H",
      "execution_count": 73,
      "outputs": [
        {
          "output_type": "display_data",
          "data": {
            "text/plain": [
              "\n",
              "t test of coefficients:\n",
              "\n",
              "                 Estimate Std. Error t value  Pr(>|t|)    \n",
              "(Intercept)        -2.382      0.160 -14.927 < 2.2e-16 ***\n",
              "sigma.garch.pred    3.145      0.121  26.010 < 2.2e-16 ***\n",
              "---\n",
              "Signif. codes:  0 ‘***’ 0.001 ‘**’ 0.01 ‘*’ 0.05 ‘.’ 0.1 ‘ ’ 1\n"
            ]
          },
          "metadata": {}
        },
        {
          "output_type": "display_data",
          "data": {
            "text/plain": [
              "[1] 0.935"
            ],
            "text/latex": "0.935",
            "text/markdown": "0.935",
            "text/html": [
              "0.935"
            ]
          },
          "metadata": {}
        }
      ]
    },
    {
      "cell_type": "markdown",
      "metadata": {
        "id": "qYxZcfeREZ3G"
      },
      "source": [
        "##(b) EGARCH"
      ],
      "id": "qYxZcfeREZ3G"
    },
    {
      "cell_type": "markdown",
      "metadata": {
        "id": "eU8nVcegGWrx"
      },
      "source": [
        "**Forecast**"
      ],
      "id": "eU8nVcegGWrx"
    },
    {
      "cell_type": "code",
      "metadata": {
        "id": "GGr6qMWPGY56"
      },
      "source": [
        "# Model specification\n",
        "egarch.spec.pred <- egarch.spec\n",
        "setfixed(egarch.spec.pred) <- as.list(coef(egarch.fit))"
      ],
      "id": "GGr6qMWPGY56",
      "execution_count": 74,
      "outputs": []
    },
    {
      "cell_type": "code",
      "metadata": {
        "id": "GDk5w7ACGfr5"
      },
      "source": [
        "# Model adjustment\n",
        "egarch.fit.pred <- ugarchfit(egarch.spec,\n",
        "                             HSCE.df$HSCE.Return,\n",
        "                             out.sample = dim(HSCE.df.out)[1])"
      ],
      "id": "GDk5w7ACGfr5",
      "execution_count": 75,
      "outputs": []
    },
    {
      "cell_type": "code",
      "metadata": {
        "id": "YpL93AZ4Gmyu"
      },
      "source": [
        "# Forecast calculated through adjustment\n",
        "egarch.pred <- ugarchforecast(egarch.fit.pred,\n",
        "                              n.ahead = 1,\n",
        "                              n.roll = dim(HSCE.df.out)[1])\n",
        "\n",
        "egarch.forecast <- xts(sigma(egarch.pred)[1,],\n",
        "                       move(as.Date(names(sigma(egarch.pred)[1,])), by = 1))"
      ],
      "id": "YpL93AZ4Gmyu",
      "execution_count": 76,
      "outputs": []
    },
    {
      "cell_type": "code",
      "metadata": {
        "id": "Mq5-c2zDHIzy",
        "colab": {
          "base_uri": "https://localhost:8080/",
          "height": 255
        },
        "outputId": "d344c575-6a76-4660-e82e-3dc1192385f2"
      },
      "source": [
        "sigma.egarch.pred <- ts(egarch.forecast[-1,])\n",
        "sigma.egarch.true <- ts(HSCE.df.out$HSCE.VolEGARCH)\n",
        "\n",
        "sigma.egarch <- na.omit(cbind(sigma.egarch.pred,\n",
        "                              sigma.egarch.true))\n",
        "head(sigma.egarch)"
      ],
      "id": "Mq5-c2zDHIzy",
      "execution_count": 77,
      "outputs": [
        {
          "output_type": "display_data",
          "data": {
            "text/plain": [
              "  sigma.egarch.pred sigma.egarch.true\n",
              "1 1.823935          3.201802         \n",
              "2 1.718480          3.191436         \n",
              "3 1.874372          2.852116         \n",
              "4 1.812247          3.364148         \n",
              "5 1.857014          3.145226         \n",
              "6 1.880025          3.291393         "
            ],
            "text/latex": "A Time Series: 6 × 2\n\\begin{tabular}{r|ll}\n  & sigma.egarch.pred & sigma.egarch.true\\\\\n\\hline\n\t1 & 1.823935 & 3.201802\\\\\n\t2 & 1.718480 & 3.191436\\\\\n\t3 & 1.874372 & 2.852116\\\\\n\t4 & 1.812247 & 3.364148\\\\\n\t5 & 1.857014 & 3.145226\\\\\n\t6 & 1.880025 & 3.291393\\\\\n\\end{tabular}\n",
            "text/markdown": "\nA Time Series: 6 × 2\n\n| <!--/--> | sigma.egarch.pred | sigma.egarch.true |\n|---|---|---|\n| 1 | 1.823935 | 3.201802 |\n| 2 | 1.718480 | 3.191436 |\n| 3 | 1.874372 | 2.852116 |\n| 4 | 1.812247 | 3.364148 |\n| 5 | 1.857014 | 3.145226 |\n| 6 | 1.880025 | 3.291393 |\n\n",
            "text/html": [
              "<table class=\"dataframe\">\n",
              "<caption>A Time Series: 6 × 2</caption>\n",
              "<thead>\n",
              "\t<tr><th></th><th scope=col>sigma.egarch.pred</th><th scope=col>sigma.egarch.true</th></tr>\n",
              "</thead>\n",
              "<tbody>\n",
              "\t<tr><th scope=row>1</th><td>1.823935</td><td>3.201802</td></tr>\n",
              "\t<tr><th scope=row>2</th><td>1.718480</td><td>3.191436</td></tr>\n",
              "\t<tr><th scope=row>3</th><td>1.874372</td><td>2.852116</td></tr>\n",
              "\t<tr><th scope=row>4</th><td>1.812247</td><td>3.364148</td></tr>\n",
              "\t<tr><th scope=row>5</th><td>1.857014</td><td>3.145226</td></tr>\n",
              "\t<tr><th scope=row>6</th><td>1.880025</td><td>3.291393</td></tr>\n",
              "</tbody>\n",
              "</table>\n"
            ]
          },
          "metadata": {}
        }
      ]
    },
    {
      "cell_type": "markdown",
      "metadata": {
        "id": "kHT5c985HYvC"
      },
      "source": [
        "**Performance evaluation**"
      ],
      "id": "kHT5c985HYvC"
    },
    {
      "cell_type": "code",
      "metadata": {
        "id": "2zj41DH_HbJB",
        "colab": {
          "base_uri": "https://localhost:8080/",
          "height": 52
        },
        "outputId": "ab533246-1e27-44a5-bd88-b2984412fa96"
      },
      "source": [
        "# Forecast Error\n",
        "egarch.error <- sigma.egarch[,'sigma.egarch.pred'] - sigma.egarch[,'sigma.egarch.true']\n",
        "head(egarch.error)"
      ],
      "id": "2zj41DH_HbJB",
      "execution_count": 78,
      "outputs": [
        {
          "output_type": "display_data",
          "data": {
            "text/plain": [
              "A Time Series:\n",
              "[1] -1.3778670 -1.4729557 -0.9777438 -1.5519010 -1.2882125 -1.4113675"
            ],
            "text/latex": "A Time Series:\\\\\\begin{enumerate*}\n\\item -1.37786696067802\n\\item -1.47295567885613\n\\item -0.977743813090373\n\\item -1.55190095421965\n\\item -1.28821252926303\n\\item -1.4113675351007\n\\end{enumerate*}\n",
            "text/markdown": "A Time Series:  \n1. -1.37786696067802\n2. -1.47295567885613\n3. -0.977743813090373\n4. -1.55190095421965\n5. -1.28821252926303\n6. -1.4113675351007\n\n\n",
            "text/html": [
              "A Time Series:<br><style>\n",
              ".list-inline {list-style: none; margin:0; padding: 0}\n",
              ".list-inline>li {display: inline-block}\n",
              ".list-inline>li:not(:last-child)::after {content: \"\\00b7\"; padding: 0 .5ex}\n",
              "</style>\n",
              "<ol class=list-inline><li>-1.37786696067802</li><li>-1.47295567885613</li><li>-0.977743813090373</li><li>-1.55190095421965</li><li>-1.28821252926303</li><li>-1.4113675351007</li></ol>\n"
            ]
          },
          "metadata": {}
        }
      ]
    },
    {
      "cell_type": "code",
      "metadata": {
        "id": "ghBbYBQ7HocG",
        "colab": {
          "base_uri": "https://localhost:8080/",
          "height": 34
        },
        "outputId": "9eaab465-499e-48c7-d5e0-cfaf81720297"
      },
      "source": [
        "# Mean Square Error Loss\n",
        "egarch.mse <- MSE(sigma.egarch[,'sigma.egarch.pred'],\n",
        "                  sigma.egarch[,'sigma.egarch.true'])\n",
        "round(egarch.mse, digits = 3)     "
      ],
      "id": "ghBbYBQ7HocG",
      "execution_count": 79,
      "outputs": [
        {
          "output_type": "display_data",
          "data": {
            "text/plain": [
              "[1] 1.345"
            ],
            "text/latex": "1.345",
            "text/markdown": "1.345",
            "text/html": [
              "1.345"
            ]
          },
          "metadata": {}
        }
      ]
    },
    {
      "cell_type": "code",
      "metadata": {
        "id": "_D9c09GZHtiG",
        "colab": {
          "base_uri": "https://localhost:8080/",
          "height": 34
        },
        "outputId": "7ac8e546-5447-4c57-f6d7-60a2516a8307"
      },
      "source": [
        "# Mean Square Error Loss Relative\n",
        "egarch.mse.relative <- egarch.mse/garch.mse\n",
        "round(egarch.mse.relative, digits = 3)"
      ],
      "id": "_D9c09GZHtiG",
      "execution_count": 80,
      "outputs": [
        {
          "output_type": "display_data",
          "data": {
            "text/plain": [
              "[1] 1.173"
            ],
            "text/latex": "1.173",
            "text/markdown": "1.173",
            "text/html": [
              "1.173"
            ]
          },
          "metadata": {}
        }
      ]
    },
    {
      "cell_type": "code",
      "metadata": {
        "id": "0YnAkzX0HyHX",
        "colab": {
          "base_uri": "https://localhost:8080/",
          "height": 34
        },
        "outputId": "0c61db82-218b-44b4-bad3-7e92a66d0219"
      },
      "source": [
        "# Mean Absolute Error Loss\n",
        "egarch.mae <- MAE(sigma.egarch[,'sigma.egarch.pred'],\n",
        "                  sigma.egarch[,'sigma.egarch.true'])\n",
        "round(egarch.mae, digits = 3)"
      ],
      "id": "0YnAkzX0HyHX",
      "execution_count": 81,
      "outputs": [
        {
          "output_type": "display_data",
          "data": {
            "text/plain": [
              "[1] 0.722"
            ],
            "text/latex": "0.722",
            "text/markdown": "0.722",
            "text/html": [
              "0.722"
            ]
          },
          "metadata": {}
        }
      ]
    },
    {
      "cell_type": "code",
      "metadata": {
        "id": "brmCUjE_H4bJ",
        "colab": {
          "base_uri": "https://localhost:8080/",
          "height": 34
        },
        "outputId": "0afbc794-093b-4581-a39c-2656b1fdfba6"
      },
      "source": [
        "# Mean Absolute Error Relative\n",
        "egarch.mae.relative <- egarch.mae/garch.mae\n",
        "round(egarch.mae.relative, digits = 3)"
      ],
      "id": "brmCUjE_H4bJ",
      "execution_count": 82,
      "outputs": [
        {
          "output_type": "display_data",
          "data": {
            "text/plain": [
              "[1] 1.097"
            ],
            "text/latex": "1.097",
            "text/markdown": "1.097",
            "text/html": [
              "1.097"
            ]
          },
          "metadata": {}
        }
      ]
    },
    {
      "cell_type": "code",
      "metadata": {
        "id": "kBL2NOllIBLP",
        "colab": {
          "base_uri": "https://localhost:8080/",
          "height": 34
        },
        "outputId": "93cb63b9-03f7-46e4-9097-96d5d95e081b"
      },
      "source": [
        "# Root Mean Square Error Loss\n",
        "egarch.rmse <- RMSE(sigma.egarch[,'sigma.egarch.pred'],\n",
        "                    sigma.egarch[,'sigma.egarch.true'])\n",
        "round(egarch.rmse, digits = 3)"
      ],
      "id": "kBL2NOllIBLP",
      "execution_count": 83,
      "outputs": [
        {
          "output_type": "display_data",
          "data": {
            "text/plain": [
              "[1] 1.16"
            ],
            "text/latex": "1.16",
            "text/markdown": "1.16",
            "text/html": [
              "1.16"
            ]
          },
          "metadata": {}
        }
      ]
    },
    {
      "cell_type": "code",
      "metadata": {
        "id": "YZw8WsYrIGZr",
        "colab": {
          "base_uri": "https://localhost:8080/",
          "height": 34
        },
        "outputId": "60e5cb92-99b5-4f5c-a937-98a69c48df48"
      },
      "source": [
        "# Root Mean Square Error Loss Relative\n",
        "egarch.rmse.relative <- egarch.rmse/garch.rmse\n",
        "round(egarch.rmse.relative, digits = 3)"
      ],
      "id": "YZw8WsYrIGZr",
      "execution_count": 84,
      "outputs": [
        {
          "output_type": "display_data",
          "data": {
            "text/plain": [
              "[1] 1.083"
            ],
            "text/latex": "1.083",
            "text/markdown": "1.083",
            "text/html": [
              "1.083"
            ]
          },
          "metadata": {}
        }
      ]
    },
    {
      "cell_type": "code",
      "metadata": {
        "id": "lvf7k5Y2IK3Z",
        "colab": {
          "base_uri": "https://localhost:8080/",
          "height": 34
        },
        "outputId": "503bf6aa-7f62-4f08-be20-40789a11a118"
      },
      "source": [
        "# Quasi-likelihood loss function\n",
        "h <- sigma.egarch[,'sigma.egarch.true']\n",
        "\n",
        "h.hat <- sigma.egarch[,'sigma.egarch.pred']     \n",
        "egarch.qlike <- mean(log(sqrt(h)) + h.hat/sqrt(h))\n",
        "round(egarch.qlike, digits = 3) "
      ],
      "id": "lvf7k5Y2IK3Z",
      "execution_count": 85,
      "outputs": [
        {
          "output_type": "display_data",
          "data": {
            "text/plain": [
              "[1] 1.331"
            ],
            "text/latex": "1.331",
            "text/markdown": "1.331",
            "text/html": [
              "1.331"
            ]
          },
          "metadata": {}
        }
      ]
    },
    {
      "cell_type": "code",
      "metadata": {
        "id": "iTwM8a02ImcX",
        "colab": {
          "base_uri": "https://localhost:8080/",
          "height": 139
        },
        "outputId": "90b35550-e5ee-46b7-b62a-cdf5b6109ee7"
      },
      "source": [
        "# Diebold-Mariano test for predictive accuracy\n",
        "e1 <- egarch.error\n",
        "e2 <- garch.error\n",
        "\n",
        "dm.test(e1, e2, alternative = \"two.sided\", h = 1, power = 2)"
      ],
      "id": "iTwM8a02ImcX",
      "execution_count": 86,
      "outputs": [
        {
          "output_type": "display_data",
          "data": {
            "text/plain": [
              "\n",
              "\tDiebold-Mariano Test\n",
              "\n",
              "data:  e1e2\n",
              "DM = 9.1793, Forecast horizon = 1, Loss function power = 2, p-value <\n",
              "2.2e-16\n",
              "alternative hypothesis: two.sided\n"
            ]
          },
          "metadata": {}
        }
      ]
    },
    {
      "cell_type": "code",
      "metadata": {
        "id": "cztScVEKJB5j",
        "colab": {
          "base_uri": "https://localhost:8080/",
          "height": 173
        },
        "outputId": "23c046ac-513e-489c-9780-219628cd7645"
      },
      "source": [
        "# Linear regression to assess forecast performance\n",
        "egarch.model <- lm(sigma.egarch.true ~ sigma.egarch.pred, \n",
        "                   data = sigma.egarch)\n",
        "round(coeftest(egarch.model, NeweyWest(egarch.model,\n",
        "                                       lag = bwNeweyWest(egarch.model),\n",
        "                                        prewhite = F)), 3)\n",
        "round(summary(egarch.model)$adj.r.squared, 3)"
      ],
      "id": "cztScVEKJB5j",
      "execution_count": 87,
      "outputs": [
        {
          "output_type": "display_data",
          "data": {
            "text/plain": [
              "\n",
              "t test of coefficients:\n",
              "\n",
              "                  Estimate Std. Error t value  Pr(>|t|)    \n",
              "(Intercept)         -2.377      0.157 -15.093 < 2.2e-16 ***\n",
              "sigma.egarch.pred    3.135      0.118  26.671 < 2.2e-16 ***\n",
              "---\n",
              "Signif. codes:  0 ‘***’ 0.001 ‘**’ 0.01 ‘*’ 0.05 ‘.’ 0.1 ‘ ’ 1\n"
            ]
          },
          "metadata": {}
        },
        {
          "output_type": "display_data",
          "data": {
            "text/plain": [
              "[1] 0.932"
            ],
            "text/latex": "0.932",
            "text/markdown": "0.932",
            "text/html": [
              "0.932"
            ]
          },
          "metadata": {}
        }
      ]
    },
    {
      "cell_type": "markdown",
      "metadata": {
        "id": "hBtX1JYCb3s3"
      },
      "source": [
        "#11. Forecast - Realized GARCH models"
      ],
      "id": "hBtX1JYCb3s3"
    },
    {
      "cell_type": "markdown",
      "metadata": {
        "id": "UIwlmS2LcHzI"
      },
      "source": [
        "##(a) Realized Linear GARCH"
      ],
      "id": "UIwlmS2LcHzI"
    },
    {
      "cell_type": "markdown",
      "metadata": {
        "id": "m1Lwk0WVrwGP"
      },
      "source": [
        "**Forecast**"
      ],
      "id": "m1Lwk0WVrwGP"
    },
    {
      "cell_type": "code",
      "metadata": {
        "id": "qz6geGd9cb1b"
      },
      "source": [
        "# Model specification\n",
        "realgarch.spec.pred <- realgarch.spec\n",
        "setfixed(realgarch.spec.pred) <- as.list(coef(realgarch.fit))"
      ],
      "id": "qz6geGd9cb1b",
      "execution_count": 88,
      "outputs": []
    },
    {
      "cell_type": "code",
      "metadata": {
        "id": "dmFRUuGzdBgQ"
      },
      "source": [
        "# Model adjustment\n",
        "realgarch.fit.pred <- ugarchfit(realgarch.spec,\n",
        "                                HSCE.df$HSCE.Return,\n",
        "                                out.sample = dim(HSCE.df.out)[1],\n",
        "                                solver = 'hybrid',\n",
        "                                realizedVol = HSCE.df$HSCE.VolGARCH)"
      ],
      "id": "dmFRUuGzdBgQ",
      "execution_count": 89,
      "outputs": []
    },
    {
      "cell_type": "code",
      "metadata": {
        "id": "uAyVSHF0eBkR"
      },
      "source": [
        "# Forecast calculated through adjustment\n",
        "realgarch.pred <- ugarchforecast(realgarch.fit.pred,\n",
        "                                 n.ahead = 1,\n",
        "                                 n.roll = dim(HSCE.df.out)[1])\n",
        "\n",
        "realgarch.forecast <- xts(sigma(realgarch.pred)[1,],\n",
        "                          move(as.Date(names(sigma(realgarch.pred)[1,])), by = 1))"
      ],
      "id": "uAyVSHF0eBkR",
      "execution_count": 90,
      "outputs": []
    },
    {
      "cell_type": "code",
      "metadata": {
        "id": "PLZ71If2oR7-",
        "colab": {
          "base_uri": "https://localhost:8080/",
          "height": 255
        },
        "outputId": "6a1f4fcf-4638-41e8-909d-9279645df2c8"
      },
      "source": [
        "sigma.realgarch.pred <- ts(realgarch.forecast[-1,])\n",
        "sigma.realgarch.true <- ts(HSCE.df.out$HSCE.VolRealGARCH)\n",
        "\n",
        "sigma.realgarch <- na.omit(cbind(sigma.realgarch.pred,\n",
        "                                sigma.realgarch.true))\n",
        "head(sigma.realgarch)"
      ],
      "id": "PLZ71If2oR7-",
      "execution_count": 91,
      "outputs": [
        {
          "output_type": "display_data",
          "data": {
            "text/plain": [
              "  sigma.realgarch.pred sigma.realgarch.true\n",
              "1 1.862612             3.725776            \n",
              "2 1.825805             3.507577            \n",
              "3 1.759541             3.366835            \n",
              "4 1.848301             3.134070            \n",
              "5 1.790642             3.432598            \n",
              "6 1.781267             3.222857            "
            ],
            "text/latex": "A Time Series: 6 × 2\n\\begin{tabular}{r|ll}\n  & sigma.realgarch.pred & sigma.realgarch.true\\\\\n\\hline\n\t1 & 1.862612 & 3.725776\\\\\n\t2 & 1.825805 & 3.507577\\\\\n\t3 & 1.759541 & 3.366835\\\\\n\t4 & 1.848301 & 3.134070\\\\\n\t5 & 1.790642 & 3.432598\\\\\n\t6 & 1.781267 & 3.222857\\\\\n\\end{tabular}\n",
            "text/markdown": "\nA Time Series: 6 × 2\n\n| <!--/--> | sigma.realgarch.pred | sigma.realgarch.true |\n|---|---|---|\n| 1 | 1.862612 | 3.725776 |\n| 2 | 1.825805 | 3.507577 |\n| 3 | 1.759541 | 3.366835 |\n| 4 | 1.848301 | 3.134070 |\n| 5 | 1.790642 | 3.432598 |\n| 6 | 1.781267 | 3.222857 |\n\n",
            "text/html": [
              "<table class=\"dataframe\">\n",
              "<caption>A Time Series: 6 × 2</caption>\n",
              "<thead>\n",
              "\t<tr><th></th><th scope=col>sigma.realgarch.pred</th><th scope=col>sigma.realgarch.true</th></tr>\n",
              "</thead>\n",
              "<tbody>\n",
              "\t<tr><th scope=row>1</th><td>1.862612</td><td>3.725776</td></tr>\n",
              "\t<tr><th scope=row>2</th><td>1.825805</td><td>3.507577</td></tr>\n",
              "\t<tr><th scope=row>3</th><td>1.759541</td><td>3.366835</td></tr>\n",
              "\t<tr><th scope=row>4</th><td>1.848301</td><td>3.134070</td></tr>\n",
              "\t<tr><th scope=row>5</th><td>1.790642</td><td>3.432598</td></tr>\n",
              "\t<tr><th scope=row>6</th><td>1.781267</td><td>3.222857</td></tr>\n",
              "</tbody>\n",
              "</table>\n"
            ]
          },
          "metadata": {}
        }
      ]
    },
    {
      "cell_type": "markdown",
      "metadata": {
        "id": "FC4yfA9tog9z"
      },
      "source": [
        "**Performance evaluation**"
      ],
      "id": "FC4yfA9tog9z"
    },
    {
      "cell_type": "code",
      "metadata": {
        "id": "8F-5qQlPojtX",
        "colab": {
          "base_uri": "https://localhost:8080/",
          "height": 52
        },
        "outputId": "4c7227b8-14e6-42c7-da2e-96ce6451cf50"
      },
      "source": [
        "# Forecast Error\n",
        "realgarch.error <- sigma.realgarch[,'sigma.realgarch.pred'] - sigma.realgarch[,'sigma.realgarch.true']\n",
        "head(realgarch.error)"
      ],
      "id": "8F-5qQlPojtX",
      "execution_count": 92,
      "outputs": [
        {
          "output_type": "display_data",
          "data": {
            "text/plain": [
              "A Time Series:\n",
              "[1] -1.863165 -1.681772 -1.607294 -1.285769 -1.641956 -1.441590"
            ],
            "text/latex": "A Time Series:\\\\\\begin{enumerate*}\n\\item -1.86316464440635\n\\item -1.68177214930293\n\\item -1.60729390135321\n\\item -1.28576860443881\n\\item -1.64195602634723\n\\item -1.44159042694962\n\\end{enumerate*}\n",
            "text/markdown": "A Time Series:  \n1. -1.86316464440635\n2. -1.68177214930293\n3. -1.60729390135321\n4. -1.28576860443881\n5. -1.64195602634723\n6. -1.44159042694962\n\n\n",
            "text/html": [
              "A Time Series:<br><style>\n",
              ".list-inline {list-style: none; margin:0; padding: 0}\n",
              ".list-inline>li {display: inline-block}\n",
              ".list-inline>li:not(:last-child)::after {content: \"\\00b7\"; padding: 0 .5ex}\n",
              "</style>\n",
              "<ol class=list-inline><li>-1.86316464440635</li><li>-1.68177214930293</li><li>-1.60729390135321</li><li>-1.28576860443881</li><li>-1.64195602634723</li><li>-1.44159042694962</li></ol>\n"
            ]
          },
          "metadata": {}
        }
      ]
    },
    {
      "cell_type": "code",
      "metadata": {
        "id": "vbAvOFpLo0nu",
        "colab": {
          "base_uri": "https://localhost:8080/",
          "height": 34
        },
        "outputId": "f8078df4-1e55-4188-fae3-b7d15d6010ae"
      },
      "source": [
        "# Mean Square Error Loss\n",
        "realgarch.mse <- MSE(sigma.realgarch[,'sigma.realgarch.pred'],\n",
        "                     sigma.realgarch[,'sigma.realgarch.true'])\n",
        "round(realgarch.mse, digits = 3)"
      ],
      "id": "vbAvOFpLo0nu",
      "execution_count": 93,
      "outputs": [
        {
          "output_type": "display_data",
          "data": {
            "text/plain": [
              "[1] 1.241"
            ],
            "text/latex": "1.241",
            "text/markdown": "1.241",
            "text/html": [
              "1.241"
            ]
          },
          "metadata": {}
        }
      ]
    },
    {
      "cell_type": "code",
      "metadata": {
        "id": "NYOMn_1jpBuo",
        "colab": {
          "base_uri": "https://localhost:8080/",
          "height": 34
        },
        "outputId": "bee8c355-50b7-4838-d787-91c355adcf15"
      },
      "source": [
        "# Mean Square Error Loss Relative\n",
        "realgarch.mse.relative <- realgarch.mse/garch.mse\n",
        "round(realgarch.mse.relative, digits = 3)"
      ],
      "id": "NYOMn_1jpBuo",
      "execution_count": 94,
      "outputs": [
        {
          "output_type": "display_data",
          "data": {
            "text/plain": [
              "[1] 1.083"
            ],
            "text/latex": "1.083",
            "text/markdown": "1.083",
            "text/html": [
              "1.083"
            ]
          },
          "metadata": {}
        }
      ]
    },
    {
      "cell_type": "code",
      "metadata": {
        "id": "5gtUpAD3pLBL",
        "colab": {
          "base_uri": "https://localhost:8080/",
          "height": 34
        },
        "outputId": "88c524b8-5190-498d-9bb8-5afcba8c218a"
      },
      "source": [
        "# Mean Absolute Error Loss\n",
        "realgarch.mae <- MAE(sigma.realgarch[,'sigma.realgarch.pred'],\n",
        "                      sigma.realgarch[,'sigma.realgarch.true'])\n",
        "round(realgarch.mae, digits = 3)"
      ],
      "id": "5gtUpAD3pLBL",
      "execution_count": 95,
      "outputs": [
        {
          "output_type": "display_data",
          "data": {
            "text/plain": [
              "[1] 0.694"
            ],
            "text/latex": "0.694",
            "text/markdown": "0.694",
            "text/html": [
              "0.694"
            ]
          },
          "metadata": {}
        }
      ]
    },
    {
      "cell_type": "code",
      "metadata": {
        "id": "vHqwSRt4psVv",
        "colab": {
          "base_uri": "https://localhost:8080/",
          "height": 34
        },
        "outputId": "cbe8e19a-0b1e-4e08-c414-bf30c24615ee"
      },
      "source": [
        "# Mean Absolute Error Loss Relative\n",
        "realgarch.mae.relative <- realgarch.mae/garch.mae\n",
        "round(realgarch.mae.relative, digits = 3)"
      ],
      "id": "vHqwSRt4psVv",
      "execution_count": 96,
      "outputs": [
        {
          "output_type": "display_data",
          "data": {
            "text/plain": [
              "[1] 1.054"
            ],
            "text/latex": "1.054",
            "text/markdown": "1.054",
            "text/html": [
              "1.054"
            ]
          },
          "metadata": {}
        }
      ]
    },
    {
      "cell_type": "code",
      "metadata": {
        "id": "zAncFWD3p1UQ",
        "colab": {
          "base_uri": "https://localhost:8080/",
          "height": 34
        },
        "outputId": "b78a7a73-d4d7-4870-a8c7-4d29ef2bd121"
      },
      "source": [
        "# Root Mean Square Error Loss\n",
        "realgarch.rmse <- RMSE(sigma.realgarch[,'sigma.realgarch.pred'],\n",
        "                       sigma.realgarch[,'sigma.realgarch.true'])\n",
        "round(realgarch.rmse, digits = 3)"
      ],
      "id": "zAncFWD3p1UQ",
      "execution_count": 97,
      "outputs": [
        {
          "output_type": "display_data",
          "data": {
            "text/plain": [
              "[1] 1.114"
            ],
            "text/latex": "1.114",
            "text/markdown": "1.114",
            "text/html": [
              "1.114"
            ]
          },
          "metadata": {}
        }
      ]
    },
    {
      "cell_type": "code",
      "metadata": {
        "id": "YUT2DAgbp_Hh",
        "colab": {
          "base_uri": "https://localhost:8080/",
          "height": 34
        },
        "outputId": "67c29167-6ffb-4893-8b10-6bad0387cf3b"
      },
      "source": [
        "# Root Mean Square Error Loss Relative\n",
        "realgarch.rmse.relative <- realgarch.rmse/garch.rmse\n",
        "round(realgarch.rmse.relative, digits = 3)"
      ],
      "id": "YUT2DAgbp_Hh",
      "execution_count": 98,
      "outputs": [
        {
          "output_type": "display_data",
          "data": {
            "text/plain": [
              "[1] 1.041"
            ],
            "text/latex": "1.041",
            "text/markdown": "1.041",
            "text/html": [
              "1.041"
            ]
          },
          "metadata": {}
        }
      ]
    },
    {
      "cell_type": "code",
      "metadata": {
        "id": "7NgsSo1NqGeb",
        "colab": {
          "base_uri": "https://localhost:8080/",
          "height": 34
        },
        "outputId": "ce509130-27f0-4338-b39b-2c0c54c4853e"
      },
      "source": [
        "# Quasi-likelihood loss function\n",
        "h <- sigma.realgarch[,'sigma.realgarch.true']\n",
        "\n",
        "h.hat <- sigma.realgarch[,'sigma.realgarch.pred']     \n",
        "realgarch.qlike <- mean(log(sqrt(h)) + h.hat/sqrt(h))\n",
        "round(realgarch.qlike, digits = 5)"
      ],
      "id": "7NgsSo1NqGeb",
      "execution_count": 99,
      "outputs": [
        {
          "output_type": "display_data",
          "data": {
            "text/plain": [
              "[1] 1.29744"
            ],
            "text/latex": "1.29744",
            "text/markdown": "1.29744",
            "text/html": [
              "1.29744"
            ]
          },
          "metadata": {}
        }
      ]
    },
    {
      "cell_type": "code",
      "metadata": {
        "id": "xQq1f2KCLlQm",
        "colab": {
          "base_uri": "https://localhost:8080/",
          "height": 139
        },
        "outputId": "3bfb008c-ac21-4ab3-9f73-81ce17b6bb0e"
      },
      "source": [
        "# Diebold-Mariano test for predictive accuracy\n",
        "e1 <- realgarch.error\n",
        "e2 <- garch.error\n",
        "\n",
        "dm.test(e1, e2, alternative = \"two.sided\", h = 1, power = 2)"
      ],
      "id": "xQq1f2KCLlQm",
      "execution_count": 100,
      "outputs": [
        {
          "output_type": "display_data",
          "data": {
            "text/plain": [
              "\n",
              "\tDiebold-Mariano Test\n",
              "\n",
              "data:  e1e2\n",
              "DM = 3.4565, Forecast horizon = 1, Loss function power = 2, p-value =\n",
              "0.0005615\n",
              "alternative hypothesis: two.sided\n"
            ]
          },
          "metadata": {}
        }
      ]
    },
    {
      "cell_type": "code",
      "metadata": {
        "id": "JEMT__yorfjp",
        "colab": {
          "base_uri": "https://localhost:8080/",
          "height": 173
        },
        "outputId": "33a497ec-49b7-4264-f4e1-e62d75881798"
      },
      "source": [
        "# Linear regression to assess forecast performance\n",
        "realgarch.model <- lm(sigma.realgarch.true ~ sigma.realgarch.pred,\n",
        "                      data = sigma.realgarch)\n",
        "round(coeftest(realgarch.model, NeweyWest(realgarch.model,\n",
        "                                          lag = bwNeweyWest(realgarch.model),\n",
        "                                          prewhite = F)), 3)\n",
        "round(summary(realgarch.model)$adj.r.squared, 3)"
      ],
      "id": "JEMT__yorfjp",
      "execution_count": 101,
      "outputs": [
        {
          "output_type": "display_data",
          "data": {
            "text/plain": [
              "\n",
              "t test of coefficients:\n",
              "\n",
              "                     Estimate Std. Error t value  Pr(>|t|)    \n",
              "(Intercept)            -2.465      0.167 -14.771 < 2.2e-16 ***\n",
              "sigma.realgarch.pred    3.270      0.128  25.535 < 2.2e-16 ***\n",
              "---\n",
              "Signif. codes:  0 ‘***’ 0.001 ‘**’ 0.01 ‘*’ 0.05 ‘.’ 0.1 ‘ ’ 1\n"
            ]
          },
          "metadata": {}
        },
        {
          "output_type": "display_data",
          "data": {
            "text/plain": [
              "[1] 0.936"
            ],
            "text/latex": "0.936",
            "text/markdown": "0.936",
            "text/html": [
              "0.936"
            ]
          },
          "metadata": {}
        }
      ]
    },
    {
      "cell_type": "markdown",
      "metadata": {
        "id": "OuZavxA4cLrP"
      },
      "source": [
        "##(b) Realized EGARCH"
      ],
      "id": "OuZavxA4cLrP"
    },
    {
      "cell_type": "markdown",
      "metadata": {
        "id": "4sUcOAaFrz2G"
      },
      "source": [
        "**Forecast**"
      ],
      "id": "4sUcOAaFrz2G"
    },
    {
      "cell_type": "code",
      "metadata": {
        "id": "dCRNQymVi604"
      },
      "source": [
        "# Model specification\n",
        "realegarch.spec.pred <- realgarch.spec\n",
        "setfixed(realegarch.spec.pred) <- as.list(coef(realegarch.fit))"
      ],
      "id": "dCRNQymVi604",
      "execution_count": 102,
      "outputs": []
    },
    {
      "cell_type": "code",
      "metadata": {
        "id": "r2ZbX0BnqqNz"
      },
      "source": [
        "# Model adjustment\n",
        "realegarch.fit.pred <- ugarchfit(realgarch.spec,\n",
        "                                 HSCE.df$HSCE.Return,\n",
        "                                 out.sample = dim(HSCE.df.out)[1],\n",
        "                                 solver = 'hybrid',\n",
        "                                 realizedVol = HSCE.df$HSCE.VolEGARCH)"
      ],
      "id": "r2ZbX0BnqqNz",
      "execution_count": 103,
      "outputs": []
    },
    {
      "cell_type": "code",
      "metadata": {
        "id": "BMElDW_Jq3NC"
      },
      "source": [
        "# Forecast calculated through adjustment\n",
        "realegarch.pred <- ugarchforecast(realegarch.fit.pred,\n",
        "                                  n.ahead = 1,\n",
        "                                  n.roll = dim(HSCE.df.out)[1])\n",
        "\n",
        "realegarch.forecast <- xts(sigma(realegarch.pred)[1,],\n",
        "                           move(as.Date(names(sigma(realegarch.pred)[1,])), by = 1))"
      ],
      "id": "BMElDW_Jq3NC",
      "execution_count": 104,
      "outputs": []
    },
    {
      "cell_type": "code",
      "metadata": {
        "id": "ZQXrOuN3rgS6",
        "colab": {
          "base_uri": "https://localhost:8080/",
          "height": 255
        },
        "outputId": "cf652a00-81ef-4a0c-8a27-34a2d2780ecb"
      },
      "source": [
        "sigma.realegarch.pred <- ts(realegarch.forecast[-1,])\n",
        "sigma.realegarch.true <- ts(HSCE.df.out$HSCE.VolRealEGARCH)\n",
        "\n",
        "sigma.realegarch <- na.omit(cbind(sigma.realegarch.pred,\n",
        "                                 sigma.realegarch.true))\n",
        "head(sigma.realegarch)"
      ],
      "id": "ZQXrOuN3rgS6",
      "execution_count": 105,
      "outputs": [
        {
          "output_type": "display_data",
          "data": {
            "text/plain": [
              "  sigma.realegarch.pred sigma.realegarch.true\n",
              "1 1.797388              3.403316             \n",
              "2 1.793251              3.236698             \n",
              "3 1.697137              3.222279             \n",
              "4 1.842997              2.886073             \n",
              "5 1.780558              3.382970             \n",
              "6 1.826569              3.180192             "
            ],
            "text/latex": "A Time Series: 6 × 2\n\\begin{tabular}{r|ll}\n  & sigma.realegarch.pred & sigma.realegarch.true\\\\\n\\hline\n\t1 & 1.797388 & 3.403316\\\\\n\t2 & 1.793251 & 3.236698\\\\\n\t3 & 1.697137 & 3.222279\\\\\n\t4 & 1.842997 & 2.886073\\\\\n\t5 & 1.780558 & 3.382970\\\\\n\t6 & 1.826569 & 3.180192\\\\\n\\end{tabular}\n",
            "text/markdown": "\nA Time Series: 6 × 2\n\n| <!--/--> | sigma.realegarch.pred | sigma.realegarch.true |\n|---|---|---|\n| 1 | 1.797388 | 3.403316 |\n| 2 | 1.793251 | 3.236698 |\n| 3 | 1.697137 | 3.222279 |\n| 4 | 1.842997 | 2.886073 |\n| 5 | 1.780558 | 3.382970 |\n| 6 | 1.826569 | 3.180192 |\n\n",
            "text/html": [
              "<table class=\"dataframe\">\n",
              "<caption>A Time Series: 6 × 2</caption>\n",
              "<thead>\n",
              "\t<tr><th></th><th scope=col>sigma.realegarch.pred</th><th scope=col>sigma.realegarch.true</th></tr>\n",
              "</thead>\n",
              "<tbody>\n",
              "\t<tr><th scope=row>1</th><td>1.797388</td><td>3.403316</td></tr>\n",
              "\t<tr><th scope=row>2</th><td>1.793251</td><td>3.236698</td></tr>\n",
              "\t<tr><th scope=row>3</th><td>1.697137</td><td>3.222279</td></tr>\n",
              "\t<tr><th scope=row>4</th><td>1.842997</td><td>2.886073</td></tr>\n",
              "\t<tr><th scope=row>5</th><td>1.780558</td><td>3.382970</td></tr>\n",
              "\t<tr><th scope=row>6</th><td>1.826569</td><td>3.180192</td></tr>\n",
              "</tbody>\n",
              "</table>\n"
            ]
          },
          "metadata": {}
        }
      ]
    },
    {
      "cell_type": "markdown",
      "metadata": {
        "id": "khFocUVZroGF"
      },
      "source": [
        "**Performance evaluation**"
      ],
      "id": "khFocUVZroGF"
    },
    {
      "cell_type": "code",
      "metadata": {
        "id": "e_JT3VHqrnxH",
        "colab": {
          "base_uri": "https://localhost:8080/",
          "height": 52
        },
        "outputId": "d2c48f54-9e15-44bc-b7b2-67cb129c8462"
      },
      "source": [
        "# Forecast Error\n",
        "realegarch.error <- sigma.realegarch[,'sigma.realegarch.pred'] - sigma.realegarch[,'sigma.realegarch.true']\n",
        "head(realegarch.error)"
      ],
      "id": "e_JT3VHqrnxH",
      "execution_count": 106,
      "outputs": [
        {
          "output_type": "display_data",
          "data": {
            "text/plain": [
              "A Time Series:\n",
              "[1] -1.605929 -1.443447 -1.525142 -1.043076 -1.602412 -1.353623"
            ],
            "text/latex": "A Time Series:\\\\\\begin{enumerate*}\n\\item -1.60592857146026\n\\item -1.44344701283184\n\\item -1.52514218220089\n\\item -1.04307616677957\n\\item -1.60241224176469\n\\item -1.35362318780857\n\\end{enumerate*}\n",
            "text/markdown": "A Time Series:  \n1. -1.60592857146026\n2. -1.44344701283184\n3. -1.52514218220089\n4. -1.04307616677957\n5. -1.60241224176469\n6. -1.35362318780857\n\n\n",
            "text/html": [
              "A Time Series:<br><style>\n",
              ".list-inline {list-style: none; margin:0; padding: 0}\n",
              ".list-inline>li {display: inline-block}\n",
              ".list-inline>li:not(:last-child)::after {content: \"\\00b7\"; padding: 0 .5ex}\n",
              "</style>\n",
              "<ol class=list-inline><li>-1.60592857146026</li><li>-1.44344701283184</li><li>-1.52514218220089</li><li>-1.04307616677957</li><li>-1.60241224176469</li><li>-1.35362318780857</li></ol>\n"
            ]
          },
          "metadata": {}
        }
      ]
    },
    {
      "cell_type": "code",
      "metadata": {
        "id": "PiBrYKy6sEhq",
        "colab": {
          "base_uri": "https://localhost:8080/",
          "height": 34
        },
        "outputId": "9220467b-573a-4664-a9af-2c48750ae9ae"
      },
      "source": [
        "# Mean Square Error Loss\n",
        "realegarch.mse <- MSE(sigma.realegarch[,'sigma.realegarch.pred'],\n",
        "                      sigma.realegarch[,'sigma.realegarch.true'])\n",
        "round(realegarch.mse, digits = 3)"
      ],
      "id": "PiBrYKy6sEhq",
      "execution_count": 107,
      "outputs": [
        {
          "output_type": "display_data",
          "data": {
            "text/plain": [
              "[1] 1.455"
            ],
            "text/latex": "1.455",
            "text/markdown": "1.455",
            "text/html": [
              "1.455"
            ]
          },
          "metadata": {}
        }
      ]
    },
    {
      "cell_type": "code",
      "metadata": {
        "id": "SnAzzICNsRN9",
        "colab": {
          "base_uri": "https://localhost:8080/",
          "height": 34
        },
        "outputId": "2b1f8883-d568-4e1d-ceb3-c07913615ec7"
      },
      "source": [
        "# Mean Square Error Loss Relative\n",
        "realegarch.mse.relative <- realegarch.mse/garch.mse\n",
        "round(realegarch.mse.relative, digits = 3)"
      ],
      "id": "SnAzzICNsRN9",
      "execution_count": 108,
      "outputs": [
        {
          "output_type": "display_data",
          "data": {
            "text/plain": [
              "[1] 1.269"
            ],
            "text/latex": "1.269",
            "text/markdown": "1.269",
            "text/html": [
              "1.269"
            ]
          },
          "metadata": {}
        }
      ]
    },
    {
      "cell_type": "code",
      "metadata": {
        "id": "8Gzrc_9ZsVuk",
        "colab": {
          "base_uri": "https://localhost:8080/",
          "height": 34
        },
        "outputId": "0e17075e-a731-433a-ff1e-13b4a02c5aec"
      },
      "source": [
        "# Mean Absolute Error Loss\n",
        "realegarch.mae <- MAE(sigma.realegarch[,'sigma.realegarch.pred'],\n",
        "                      sigma.realegarch[,'sigma.realegarch.true'])\n",
        "round(realegarch.mae, digits = 3)"
      ],
      "id": "8Gzrc_9ZsVuk",
      "execution_count": 109,
      "outputs": [
        {
          "output_type": "display_data",
          "data": {
            "text/plain": [
              "[1] 0.758"
            ],
            "text/latex": "0.758",
            "text/markdown": "0.758",
            "text/html": [
              "0.758"
            ]
          },
          "metadata": {}
        }
      ]
    },
    {
      "cell_type": "code",
      "metadata": {
        "id": "Cz721K6JsbCN",
        "colab": {
          "base_uri": "https://localhost:8080/",
          "height": 34
        },
        "outputId": "659bf04c-342e-4308-fb3c-abde4d368a2e"
      },
      "source": [
        "# Mean Absolute Error Relative\n",
        "realegarch.mae.relative <- realegarch.mae/garch.mae\n",
        "round(realegarch.mae.relative, digits = 3)"
      ],
      "id": "Cz721K6JsbCN",
      "execution_count": 110,
      "outputs": [
        {
          "output_type": "display_data",
          "data": {
            "text/plain": [
              "[1] 1.152"
            ],
            "text/latex": "1.152",
            "text/markdown": "1.152",
            "text/html": [
              "1.152"
            ]
          },
          "metadata": {}
        }
      ]
    },
    {
      "cell_type": "code",
      "metadata": {
        "id": "9Eb94SMosgnv",
        "colab": {
          "base_uri": "https://localhost:8080/",
          "height": 34
        },
        "outputId": "d9ad26bd-94b4-45c5-936c-035fc64eeccd"
      },
      "source": [
        "# Root Mean Square Error Loss\n",
        "realegarch.rmse <- RMSE(sigma.realegarch[,'sigma.realegarch.pred'],\n",
        "                        sigma.realegarch[,'sigma.realegarch.true'])\n",
        "round(realegarch.rmse, digits = 3)"
      ],
      "id": "9Eb94SMosgnv",
      "execution_count": 111,
      "outputs": [
        {
          "output_type": "display_data",
          "data": {
            "text/plain": [
              "[1] 1.206"
            ],
            "text/latex": "1.206",
            "text/markdown": "1.206",
            "text/html": [
              "1.206"
            ]
          },
          "metadata": {}
        }
      ]
    },
    {
      "cell_type": "code",
      "metadata": {
        "id": "Prmb2aDFsnt3",
        "colab": {
          "base_uri": "https://localhost:8080/",
          "height": 34
        },
        "outputId": "ac71eb6b-48e9-4e55-d7b4-5fb5f75dfb26"
      },
      "source": [
        "# Root Mean Square Error Loss Relative\n",
        "realegarch.rmse.relative <- realegarch.rmse/garch.rmse\n",
        "round(realegarch.rmse.relative, digits = 3)"
      ],
      "id": "Prmb2aDFsnt3",
      "execution_count": 112,
      "outputs": [
        {
          "output_type": "display_data",
          "data": {
            "text/plain": [
              "[1] 1.127"
            ],
            "text/latex": "1.127",
            "text/markdown": "1.127",
            "text/html": [
              "1.127"
            ]
          },
          "metadata": {}
        }
      ]
    },
    {
      "cell_type": "code",
      "source": [
        "# Quasi-likelihood loss function\n",
        "h <- sigma.realegarch[,'sigma.realegarch.true']\n",
        "\n",
        "h.hat <- sigma.realegarch[,'sigma.realegarch.pred']     \n",
        "realegarch.qlike <- mean(log(sqrt(h)) + h.hat/sqrt(h))\n",
        "round(realegarch.qlike, digits = 3)"
      ],
      "metadata": {
        "colab": {
          "base_uri": "https://localhost:8080/",
          "height": 34
        },
        "id": "5CDSmy1zFtl0",
        "outputId": "165590ba-606d-4960-d317-decb036bec29"
      },
      "id": "5CDSmy1zFtl0",
      "execution_count": 113,
      "outputs": [
        {
          "output_type": "display_data",
          "data": {
            "text/plain": [
              "[1] 1.314"
            ],
            "text/latex": "1.314",
            "text/markdown": "1.314",
            "text/html": [
              "1.314"
            ]
          },
          "metadata": {}
        }
      ]
    },
    {
      "cell_type": "code",
      "metadata": {
        "id": "0xvoZRpRst8e",
        "colab": {
          "base_uri": "https://localhost:8080/",
          "height": 139
        },
        "outputId": "f3ec1998-aab1-4b96-a795-8e97fdb1a56d"
      },
      "source": [
        "# Diebold-Mariano test for predictive accuracy - test 2\n",
        "e1 <- realegarch.error\n",
        "e2 <- garch.error\n",
        "\n",
        "dm.test(e1, e2, alternative = \"two.sided\", h = 1, power = 2)"
      ],
      "id": "0xvoZRpRst8e",
      "execution_count": 114,
      "outputs": [
        {
          "output_type": "display_data",
          "data": {
            "text/plain": [
              "\n",
              "\tDiebold-Mariano Test\n",
              "\n",
              "data:  e1e2\n",
              "DM = 8.6457, Forecast horizon = 1, Loss function power = 2, p-value <\n",
              "2.2e-16\n",
              "alternative hypothesis: two.sided\n"
            ]
          },
          "metadata": {}
        }
      ]
    },
    {
      "cell_type": "code",
      "metadata": {
        "id": "nDEjjWYytA3n",
        "colab": {
          "base_uri": "https://localhost:8080/",
          "height": 173
        },
        "outputId": "2cba0f33-e617-4dac-cc5e-b7d4dcd5712c"
      },
      "source": [
        "# Linear regression to assess forecast performance\n",
        "realegarch.model <- lm(sigma.realegarch.true ~ sigma.realegarch.pred,\n",
        "                       data = sigma.realegarch)\n",
        "round(coeftest(realegarch.model, NeweyWest(realegarch.model,\n",
        "                                           lag = bwNeweyWest(realegarch.model),\n",
        "                                           prewhite = F)), 3)\n",
        "round(summary(realegarch.model)$adj.r.squared, 3)"
      ],
      "id": "nDEjjWYytA3n",
      "execution_count": 115,
      "outputs": [
        {
          "output_type": "display_data",
          "data": {
            "text/plain": [
              "\n",
              "t test of coefficients:\n",
              "\n",
              "                      Estimate Std. Error t value  Pr(>|t|)    \n",
              "(Intercept)             -2.456      0.164 -15.010 < 2.2e-16 ***\n",
              "sigma.realegarch.pred    3.258      0.124  26.356 < 2.2e-16 ***\n",
              "---\n",
              "Signif. codes:  0 ‘***’ 0.001 ‘**’ 0.01 ‘*’ 0.05 ‘.’ 0.1 ‘ ’ 1\n"
            ]
          },
          "metadata": {}
        },
        {
          "output_type": "display_data",
          "data": {
            "text/plain": [
              "[1] 0.935"
            ],
            "text/latex": "0.935",
            "text/markdown": "0.935",
            "text/html": [
              "0.935"
            ]
          },
          "metadata": {}
        }
      ]
    },
    {
      "cell_type": "markdown",
      "metadata": {
        "id": "fZYN_pFPylpJ"
      },
      "source": [
        "#13. Monthly volatility"
      ],
      "id": "fZYN_pFPylpJ"
    },
    {
      "cell_type": "markdown",
      "metadata": {
        "id": "_GCDjgnx_W_A"
      },
      "source": [
        "##(a) Transformation of a daily frequency to monthly frequency"
      ],
      "id": "_GCDjgnx_W_A"
    },
    {
      "cell_type": "code",
      "metadata": {
        "id": "JLXA-z-l_f3q",
        "colab": {
          "base_uri": "https://localhost:8080/",
          "height": 382
        },
        "outputId": "06e56043-80da-45d3-85be-cdaa01dabed1"
      },
      "source": [
        "HSCE.df.month <- apply.monthly(HSCE.df, FUN = mean)\n",
        "head(HSCE.df.month)"
      ],
      "id": "JLXA-z-l_f3q",
      "execution_count": 116,
      "outputs": [
        {
          "output_type": "display_data",
          "data": {
            "text/plain": [
              "           HSCE.Close HSCE.Return HSCE.VolGARCH HSCE.VolEGARCH HSCE.VolGJRGARCH\n",
              "2000-01-31   1906.854  -0.4713909      5.986116       6.027945         6.098060\n",
              "2000-02-29   1603.911  -1.1804437      6.849182       7.285387         7.164682\n",
              "2000-03-31   1491.671   0.1768005      7.065238       7.531443         7.123113\n",
              "2000-04-28   1541.570   0.2236872      9.358568       8.371473         9.087515\n",
              "2000-05-31   1695.081   0.3540625     11.604425       9.303418        10.601017\n",
              "2000-06-30   1914.989   0.5538173      7.638224       6.989555         6.902728\n",
              "           HSCE.VolRealGARCH HSCE.VolRealEGARCH HSCE.VolRealGJRGARCH\n",
              "2000-01-31          6.026355           6.085663             6.137709\n",
              "2000-02-29          6.633411           7.032153             6.935178\n",
              "2000-03-31          7.340579           7.856285             7.432811\n",
              "2000-04-28          9.028948           8.234694             8.793933\n",
              "2000-05-31         11.840875           9.432272            10.831221\n",
              "2000-06-30          7.982504           7.312566             7.226179\n",
              "           HSCE.VolMSGARCH HSCE.VolMSEGARCH HSCE.VolMSGJRGARCH\n",
              "2000-01-31        3.134049         3.160783           3.066011\n",
              "2000-02-29        3.063685         3.167888           3.134509\n",
              "2000-03-31        2.494327         2.616396           2.549550\n",
              "2000-04-28        2.801663         2.872304           2.762975\n",
              "2000-05-31        3.014142         2.964364           2.844113\n",
              "2000-06-30        2.503941         2.418961           2.378920"
            ]
          },
          "metadata": {}
        }
      ]
    },
    {
      "cell_type": "markdown",
      "metadata": {
        "id": "KX6T_XNH_n93"
      },
      "source": [
        "##(b) Lag Length Selection"
      ],
      "id": "KX6T_XNH_n93"
    },
    {
      "cell_type": "code",
      "metadata": {
        "id": "nEgGG_NO_rJk",
        "colab": {
          "base_uri": "https://localhost:8080/"
        },
        "outputId": "cf110d3a-e888-4b69-9484-1c0a7e51a141"
      },
      "source": [
        "# Package\n",
        "install.packages('tsDyn')\n",
        "\n",
        "library(tsDyn)"
      ],
      "id": "nEgGG_NO_rJk",
      "execution_count": 117,
      "outputs": [
        {
          "output_type": "stream",
          "name": "stderr",
          "text": [
            "Installing package into ‘/usr/local/lib/R/site-library’\n",
            "(as ‘lib’ is unspecified)\n",
            "\n",
            "also installing the dependencies ‘tmvnsim’, ‘deSolve’, ‘strucchange’, ‘iterators’, ‘mnormt’, ‘tseriesChaos’, ‘vars’, ‘foreach’\n",
            "\n",
            "\n",
            "\n",
            "Attaching package: ‘tsDyn’\n",
            "\n",
            "\n",
            "The following object is masked from ‘package:MLmetrics’:\n",
            "\n",
            "    MAPE\n",
            "\n",
            "\n",
            "The following object is masked from ‘package:Metrics’:\n",
            "\n",
            "    mse\n",
            "\n",
            "\n"
          ]
        }
      ]
    },
    {
      "cell_type": "code",
      "metadata": {
        "id": "nSnrXFwT_zzY",
        "colab": {
          "base_uri": "https://localhost:8080/",
          "height": 69
        },
        "outputId": "fc182871-ab3f-4dfa-bf78-d23cb26aed72"
      },
      "source": [
        "lags.select(HSCE.df.month$HSCE.VolGARCH, lag.max = 10)"
      ],
      "id": "nSnrXFwT_zzY",
      "execution_count": 118,
      "outputs": [
        {
          "output_type": "display_data",
          "data": {
            "text/plain": [
              "Best AIC:  lag= 8 \n",
              "Best BIC:  lag= 3 \n",
              "Best HQ :  lag= 3 "
            ]
          },
          "metadata": {}
        }
      ]
    },
    {
      "cell_type": "code",
      "metadata": {
        "id": "uK1NeJFsBna8",
        "colab": {
          "base_uri": "https://localhost:8080/",
          "height": 69
        },
        "outputId": "c45a553e-6309-4d6c-9481-b03feaa2bc88"
      },
      "source": [
        "lags.select(HSCE.df.month$HSCE.VolEGARCH, lag.max = 10)"
      ],
      "id": "uK1NeJFsBna8",
      "execution_count": 119,
      "outputs": [
        {
          "output_type": "display_data",
          "data": {
            "text/plain": [
              "Best AIC:  lag= 5 \n",
              "Best BIC:  lag= 3 \n",
              "Best HQ :  lag= 5 "
            ]
          },
          "metadata": {}
        }
      ]
    },
    {
      "cell_type": "code",
      "metadata": {
        "id": "sPkpUtZhBqHJ",
        "colab": {
          "base_uri": "https://localhost:8080/",
          "height": 69
        },
        "outputId": "6e2af374-c0d1-4fda-d285-6493fd333195"
      },
      "source": [
        "lags.select(HSCE.df.month$HSCE.VolGJRGARCH, lag.max = 10)"
      ],
      "id": "sPkpUtZhBqHJ",
      "execution_count": 120,
      "outputs": [
        {
          "output_type": "display_data",
          "data": {
            "text/plain": [
              "Best AIC:  lag= 8 \n",
              "Best BIC:  lag= 3 \n",
              "Best HQ :  lag= 5 "
            ]
          },
          "metadata": {}
        }
      ]
    },
    {
      "cell_type": "code",
      "metadata": {
        "id": "K9_kCmfQBsDt",
        "colab": {
          "base_uri": "https://localhost:8080/",
          "height": 69
        },
        "outputId": "1465c181-b926-4c94-d5f2-bbe77116b0f0"
      },
      "source": [
        "lags.select(HSCE.df.month$HSCE.VolRealGARCH, lag.max = 10)"
      ],
      "id": "K9_kCmfQBsDt",
      "execution_count": 121,
      "outputs": [
        {
          "output_type": "display_data",
          "data": {
            "text/plain": [
              "Best AIC:  lag= 3 \n",
              "Best BIC:  lag= 3 \n",
              "Best HQ :  lag= 3 "
            ]
          },
          "metadata": {}
        }
      ]
    },
    {
      "cell_type": "code",
      "metadata": {
        "id": "c74fPYQEB3Pc",
        "colab": {
          "base_uri": "https://localhost:8080/",
          "height": 69
        },
        "outputId": "549e832a-ddc7-48b4-a8b8-f60827d6bc1c"
      },
      "source": [
        "lags.select(HSCE.df.month$HSCE.VolRealEGARCH, lag.max = 10)"
      ],
      "id": "c74fPYQEB3Pc",
      "execution_count": 122,
      "outputs": [
        {
          "output_type": "display_data",
          "data": {
            "text/plain": [
              "Best AIC:  lag= 5 \n",
              "Best BIC:  lag= 3 \n",
              "Best HQ :  lag= 3 "
            ]
          },
          "metadata": {}
        }
      ]
    },
    {
      "cell_type": "code",
      "metadata": {
        "id": "eShiYpuXB6vM",
        "colab": {
          "base_uri": "https://localhost:8080/",
          "height": 69
        },
        "outputId": "e933f525-272b-4eec-98b3-7e49bd7d87ec"
      },
      "source": [
        "lags.select(HSCE.df.month$HSCE.VolRealGJRGARCH, lag.max = 10)"
      ],
      "id": "eShiYpuXB6vM",
      "execution_count": 123,
      "outputs": [
        {
          "output_type": "display_data",
          "data": {
            "text/plain": [
              "Best AIC:  lag= 8 \n",
              "Best BIC:  lag= 3 \n",
              "Best HQ :  lag= 3 "
            ]
          },
          "metadata": {}
        }
      ]
    },
    {
      "cell_type": "code",
      "metadata": {
        "id": "vZpT89GVB-Kq",
        "colab": {
          "base_uri": "https://localhost:8080/",
          "height": 69
        },
        "outputId": "6a2a61f7-5daa-4bb7-db06-56510353c86a"
      },
      "source": [
        "lags.select(HSCE.df.month$HSCE.VolMSGARCH, lag.max = 10)"
      ],
      "id": "vZpT89GVB-Kq",
      "execution_count": 124,
      "outputs": [
        {
          "output_type": "display_data",
          "data": {
            "text/plain": [
              "Best AIC:  lag= 3 \n",
              "Best BIC:  lag= 1 \n",
              "Best HQ :  lag= 1 "
            ]
          },
          "metadata": {}
        }
      ]
    },
    {
      "cell_type": "code",
      "metadata": {
        "id": "bTXkiJYoCCF8",
        "colab": {
          "base_uri": "https://localhost:8080/",
          "height": 69
        },
        "outputId": "7a1a883d-31ad-4b86-8a62-3faac6487e55"
      },
      "source": [
        "lags.select(HSCE.df.month$HSCE.VolMSEGARCH , lag.max = 10)"
      ],
      "id": "bTXkiJYoCCF8",
      "execution_count": 125,
      "outputs": [
        {
          "output_type": "display_data",
          "data": {
            "text/plain": [
              "Best AIC:  lag= 3 \n",
              "Best BIC:  lag= 1 \n",
              "Best HQ :  lag= 1 "
            ]
          },
          "metadata": {}
        }
      ]
    },
    {
      "cell_type": "code",
      "metadata": {
        "id": "gmp7CKgmCIaH",
        "colab": {
          "base_uri": "https://localhost:8080/",
          "height": 69
        },
        "outputId": "7d530f6c-c2b7-4d33-c1f3-996a136db9bd"
      },
      "source": [
        "lags.select(HSCE.df.month$HSCE.VolMSGJRGARCH , lag.max = 10)"
      ],
      "id": "gmp7CKgmCIaH",
      "execution_count": 126,
      "outputs": [
        {
          "output_type": "display_data",
          "data": {
            "text/plain": [
              "Best AIC:  lag= 3 \n",
              "Best BIC:  lag= 1 \n",
              "Best HQ :  lag= 1 "
            ]
          },
          "metadata": {}
        }
      ]
    },
    {
      "cell_type": "markdown",
      "metadata": {
        "id": "9HdfotCPALkn"
      },
      "source": [
        "##(c) Import dataset"
      ],
      "id": "9HdfotCPALkn"
    },
    {
      "cell_type": "markdown",
      "metadata": {
        "id": "KhOH_NiBAe_8"
      },
      "source": [
        "**EPU**"
      ],
      "id": "KhOH_NiBAe_8"
    },
    {
      "cell_type": "code",
      "metadata": {
        "id": "14oHDlSZAg9S"
      },
      "source": [
        "# Package\n",
        "library(readxl)"
      ],
      "id": "14oHDlSZAg9S",
      "execution_count": 127,
      "outputs": []
    },
    {
      "cell_type": "code",
      "metadata": {
        "id": "ijgoJa2cAlpy",
        "colab": {
          "base_uri": "https://localhost:8080/",
          "height": 410
        },
        "outputId": "6cb393a1-9000-474c-f39f-3fdccb247fb3"
      },
      "source": [
        "EPU <- read_excel(\"EPU_All_Country_Data.xlsx\",\n",
        "                  sheet = \"Import\",\n",
        "                  col_types = c(\"date\", \"numeric\", \"numeric\", \"numeric\", \"numeric\",\n",
        "                                \"numeric\", \"numeric\", \"numeric\", \"numeric\", \"numeric\",\n",
        "                                \"numeric\", \"numeric\", \"numeric\", \"numeric\"))\n",
        "head(EPU)"
      ],
      "id": "ijgoJa2cAlpy",
      "execution_count": 128,
      "outputs": [
        {
          "output_type": "display_data",
          "data": {
            "text/plain": [
              "  MM.YYYY    GEPU_current Brazil    Russia    India     Chile     Mexico   \n",
              "1 2000-01-01 63.43916      54.60320 117.12624  55.47412 104.18382 161.02013\n",
              "2 2000-02-01 58.77943      41.26398  27.02751  58.04263  76.43725 157.84093\n",
              "3 2000-03-01 61.33933      73.60725  27.27277  63.43669  78.59699  90.80582\n",
              "4 2000-04-01 64.76240      96.34906  25.90913  78.92112  63.72873  93.59448\n",
              "5 2000-05-01 86.84892     189.96852  42.97606  59.61799 120.89192 136.35007\n",
              "6 2000-06-01 88.23903     106.87265 115.94142 110.34407 156.83112 216.03893\n",
              "  China     Canada   France   Germany   Japan     UK       US       \n",
              "1 44.004440 46.92811 18.45134  73.23399  78.12204 30.08247  88.98869\n",
              "2  9.066709 45.72284 33.22514  97.35842  78.62767 36.62590  73.36520\n",
              "3 44.399136 39.32267 42.40266  96.09151  79.74557 45.16381  73.29862\n",
              "4 35.441414 53.17447 16.59283  69.44795 103.12970 42.74244  70.59975\n",
              "5 71.135803 54.20769 55.37305 135.28714  86.34306 53.87834 118.14321\n",
              "6 36.856976 45.04951 35.07029  58.29012 150.85790 51.15050 109.58423"
            ],
            "text/latex": "A tibble: 6 × 14\n\\begin{tabular}{llllllllllllll}\n MM.YYYY & GEPU\\_current & Brazil & Russia & India & Chile & Mexico & China & Canada & France & Germany & Japan & UK & US\\\\\n <dttm> & <dbl> & <dbl> & <dbl> & <dbl> & <dbl> & <dbl> & <dbl> & <dbl> & <dbl> & <dbl> & <dbl> & <dbl> & <dbl>\\\\\n\\hline\n\t 2000-01-01 & 63.43916 &  54.60320 & 117.12624 &  55.47412 & 104.18382 & 161.02013 & 44.004440 & 46.92811 & 18.45134 &  73.23399 &  78.12204 & 30.08247 &  88.98869\\\\\n\t 2000-02-01 & 58.77943 &  41.26398 &  27.02751 &  58.04263 &  76.43725 & 157.84093 &  9.066709 & 45.72284 & 33.22514 &  97.35842 &  78.62767 & 36.62590 &  73.36520\\\\\n\t 2000-03-01 & 61.33933 &  73.60725 &  27.27277 &  63.43669 &  78.59699 &  90.80582 & 44.399136 & 39.32267 & 42.40266 &  96.09151 &  79.74557 & 45.16381 &  73.29862\\\\\n\t 2000-04-01 & 64.76240 &  96.34906 &  25.90913 &  78.92112 &  63.72873 &  93.59448 & 35.441414 & 53.17447 & 16.59283 &  69.44795 & 103.12970 & 42.74244 &  70.59975\\\\\n\t 2000-05-01 & 86.84892 & 189.96852 &  42.97606 &  59.61799 & 120.89192 & 136.35007 & 71.135803 & 54.20769 & 55.37305 & 135.28714 &  86.34306 & 53.87834 & 118.14321\\\\\n\t 2000-06-01 & 88.23903 & 106.87265 & 115.94142 & 110.34407 & 156.83112 & 216.03893 & 36.856976 & 45.04951 & 35.07029 &  58.29012 & 150.85790 & 51.15050 & 109.58423\\\\\n\\end{tabular}\n",
            "text/markdown": "\nA tibble: 6 × 14\n\n| MM.YYYY &lt;dttm&gt; | GEPU_current &lt;dbl&gt; | Brazil &lt;dbl&gt; | Russia &lt;dbl&gt; | India &lt;dbl&gt; | Chile &lt;dbl&gt; | Mexico &lt;dbl&gt; | China &lt;dbl&gt; | Canada &lt;dbl&gt; | France &lt;dbl&gt; | Germany &lt;dbl&gt; | Japan &lt;dbl&gt; | UK &lt;dbl&gt; | US &lt;dbl&gt; |\n|---|---|---|---|---|---|---|---|---|---|---|---|---|---|\n| 2000-01-01 | 63.43916 |  54.60320 | 117.12624 |  55.47412 | 104.18382 | 161.02013 | 44.004440 | 46.92811 | 18.45134 |  73.23399 |  78.12204 | 30.08247 |  88.98869 |\n| 2000-02-01 | 58.77943 |  41.26398 |  27.02751 |  58.04263 |  76.43725 | 157.84093 |  9.066709 | 45.72284 | 33.22514 |  97.35842 |  78.62767 | 36.62590 |  73.36520 |\n| 2000-03-01 | 61.33933 |  73.60725 |  27.27277 |  63.43669 |  78.59699 |  90.80582 | 44.399136 | 39.32267 | 42.40266 |  96.09151 |  79.74557 | 45.16381 |  73.29862 |\n| 2000-04-01 | 64.76240 |  96.34906 |  25.90913 |  78.92112 |  63.72873 |  93.59448 | 35.441414 | 53.17447 | 16.59283 |  69.44795 | 103.12970 | 42.74244 |  70.59975 |\n| 2000-05-01 | 86.84892 | 189.96852 |  42.97606 |  59.61799 | 120.89192 | 136.35007 | 71.135803 | 54.20769 | 55.37305 | 135.28714 |  86.34306 | 53.87834 | 118.14321 |\n| 2000-06-01 | 88.23903 | 106.87265 | 115.94142 | 110.34407 | 156.83112 | 216.03893 | 36.856976 | 45.04951 | 35.07029 |  58.29012 | 150.85790 | 51.15050 | 109.58423 |\n\n",
            "text/html": [
              "<table class=\"dataframe\">\n",
              "<caption>A tibble: 6 × 14</caption>\n",
              "<thead>\n",
              "\t<tr><th scope=col>MM.YYYY</th><th scope=col>GEPU_current</th><th scope=col>Brazil</th><th scope=col>Russia</th><th scope=col>India</th><th scope=col>Chile</th><th scope=col>Mexico</th><th scope=col>China</th><th scope=col>Canada</th><th scope=col>France</th><th scope=col>Germany</th><th scope=col>Japan</th><th scope=col>UK</th><th scope=col>US</th></tr>\n",
              "\t<tr><th scope=col>&lt;dttm&gt;</th><th scope=col>&lt;dbl&gt;</th><th scope=col>&lt;dbl&gt;</th><th scope=col>&lt;dbl&gt;</th><th scope=col>&lt;dbl&gt;</th><th scope=col>&lt;dbl&gt;</th><th scope=col>&lt;dbl&gt;</th><th scope=col>&lt;dbl&gt;</th><th scope=col>&lt;dbl&gt;</th><th scope=col>&lt;dbl&gt;</th><th scope=col>&lt;dbl&gt;</th><th scope=col>&lt;dbl&gt;</th><th scope=col>&lt;dbl&gt;</th><th scope=col>&lt;dbl&gt;</th></tr>\n",
              "</thead>\n",
              "<tbody>\n",
              "\t<tr><td>2000-01-01</td><td>63.43916</td><td> 54.60320</td><td>117.12624</td><td> 55.47412</td><td>104.18382</td><td>161.02013</td><td>44.004440</td><td>46.92811</td><td>18.45134</td><td> 73.23399</td><td> 78.12204</td><td>30.08247</td><td> 88.98869</td></tr>\n",
              "\t<tr><td>2000-02-01</td><td>58.77943</td><td> 41.26398</td><td> 27.02751</td><td> 58.04263</td><td> 76.43725</td><td>157.84093</td><td> 9.066709</td><td>45.72284</td><td>33.22514</td><td> 97.35842</td><td> 78.62767</td><td>36.62590</td><td> 73.36520</td></tr>\n",
              "\t<tr><td>2000-03-01</td><td>61.33933</td><td> 73.60725</td><td> 27.27277</td><td> 63.43669</td><td> 78.59699</td><td> 90.80582</td><td>44.399136</td><td>39.32267</td><td>42.40266</td><td> 96.09151</td><td> 79.74557</td><td>45.16381</td><td> 73.29862</td></tr>\n",
              "\t<tr><td>2000-04-01</td><td>64.76240</td><td> 96.34906</td><td> 25.90913</td><td> 78.92112</td><td> 63.72873</td><td> 93.59448</td><td>35.441414</td><td>53.17447</td><td>16.59283</td><td> 69.44795</td><td>103.12970</td><td>42.74244</td><td> 70.59975</td></tr>\n",
              "\t<tr><td>2000-05-01</td><td>86.84892</td><td>189.96852</td><td> 42.97606</td><td> 59.61799</td><td>120.89192</td><td>136.35007</td><td>71.135803</td><td>54.20769</td><td>55.37305</td><td>135.28714</td><td> 86.34306</td><td>53.87834</td><td>118.14321</td></tr>\n",
              "\t<tr><td>2000-06-01</td><td>88.23903</td><td>106.87265</td><td>115.94142</td><td>110.34407</td><td>156.83112</td><td>216.03893</td><td>36.856976</td><td>45.04951</td><td>35.07029</td><td> 58.29012</td><td>150.85790</td><td>51.15050</td><td>109.58423</td></tr>\n",
              "</tbody>\n",
              "</table>\n"
            ]
          },
          "metadata": {}
        }
      ]
    },
    {
      "cell_type": "code",
      "metadata": {
        "id": "MrqrZ8MZA4-_"
      },
      "source": [
        "attach(EPU)"
      ],
      "id": "MrqrZ8MZA4-_",
      "execution_count": 129,
      "outputs": []
    },
    {
      "cell_type": "markdown",
      "metadata": {
        "id": "Vq9oiwlrA58O"
      },
      "source": [
        "**VIX**"
      ],
      "id": "Vq9oiwlrA58O"
    },
    {
      "cell_type": "code",
      "metadata": {
        "id": "V5iY9Kr3BAkR",
        "colab": {
          "base_uri": "https://localhost:8080/",
          "height": 34
        },
        "outputId": "e19cb23c-be95-4b44-d9d8-0a5b2be4bc69"
      },
      "source": [
        "getSymbols(\"^VIX\", from = '2000-01-01', to = '2021-10-31', periodicity = \"monthly\")"
      ],
      "id": "V5iY9Kr3BAkR",
      "execution_count": 130,
      "outputs": [
        {
          "output_type": "display_data",
          "data": {
            "text/plain": [
              "[1] \"^VIX\""
            ],
            "text/latex": "'\\textasciicircum{}VIX'",
            "text/markdown": "'^VIX'",
            "text/html": [
              "'^VIX'"
            ]
          },
          "metadata": {}
        }
      ]
    },
    {
      "cell_type": "code",
      "metadata": {
        "id": "_SCvdZFcBOxo",
        "colab": {
          "base_uri": "https://localhost:8080/",
          "height": 139
        },
        "outputId": "6f151513-8b79-444a-c2ba-5390bb63e5da"
      },
      "source": [
        "head(VIX)"
      ],
      "id": "_SCvdZFcBOxo",
      "execution_count": 131,
      "outputs": [
        {
          "output_type": "display_data",
          "data": {
            "text/plain": [
              "           VIX.Open VIX.High VIX.Low VIX.Close VIX.Volume VIX.Adjusted\n",
              "2000-01-01    24.36    29.00   19.51     24.95          0        24.95\n",
              "2000-02-01    24.43    28.12   20.69     23.37          0        23.37\n",
              "2000-03-01    22.65    25.87   19.19     24.11          0        24.11\n",
              "2000-04-01    24.99    34.31   23.25     26.20          0        26.20\n",
              "2000-05-01    26.07    32.89   23.23     23.65          0        23.65\n",
              "2000-06-01    23.20    25.01   19.39     19.54          0        19.54"
            ]
          },
          "metadata": {}
        }
      ]
    },
    {
      "cell_type": "code",
      "metadata": {
        "id": "uuIrny6OBRnH"
      },
      "source": [
        "VIX <- na.omit(VIX)"
      ],
      "id": "uuIrny6OBRnH",
      "execution_count": 132,
      "outputs": []
    },
    {
      "cell_type": "markdown",
      "metadata": {
        "id": "LGG7p_RIG7PV"
      },
      "source": [
        "##(d) Estimation"
      ],
      "id": "LGG7p_RIG7PV"
    },
    {
      "cell_type": "markdown",
      "metadata": {
        "id": "gvQCcsPIBUVX"
      },
      "source": [
        "**Benchmark model**"
      ],
      "id": "gvQCcsPIBUVX"
    },
    {
      "cell_type": "code",
      "metadata": {
        "id": "lnEjm9lKBYi3"
      },
      "source": [
        "# Concatenate (number of rows of data frames aren't different)\n",
        "#uncertainty <- cbind(VIX[,'VIX.Close'], EPU$China, EPU$GEPU_current)\n",
        "#head(uncertainty)"
      ],
      "id": "lnEjm9lKBYi3",
      "execution_count": 133,
      "outputs": []
    },
    {
      "cell_type": "code",
      "metadata": {
        "id": "IHhaF8KxC7VF"
      },
      "source": [
        "# Lag of uncertainty variables (lag = 1)\n",
        "lag.epu <- ts(Lag(EPU$China, 1))\n",
        "lag.gepu <- ts(Lag(EPU$GEPU_current, 1))\n",
        "lag.vix <- ts(Lag(VIX$VIX.Close, 1))"
      ],
      "id": "IHhaF8KxC7VF",
      "execution_count": 134,
      "outputs": []
    },
    {
      "cell_type": "markdown",
      "metadata": {
        "id": "zHQo6FW0FO18"
      },
      "source": [
        "**Linear GARCH**"
      ],
      "id": "zHQo6FW0FO18"
    },
    {
      "cell_type": "code",
      "metadata": {
        "id": "u3qNPRhUClNO",
        "colab": {
          "base_uri": "https://localhost:8080/",
          "height": 208
        },
        "outputId": "d29a9769-58d7-4394-8b6e-23a5f55013d8"
      },
      "source": [
        "# Estimation 1 - GARCH (Best BIC:  lag= 3)\n",
        "garch <- ts(log(HSCE.df.month$HSCE.VolGARCH))\n",
        "lag.garch.1 <- ts(Lag(log(HSCE.df.month$HSCE.VolGARCH), 1))\n",
        "lag.garch.2 <- ts(Lag(log(HSCE.df.month$HSCE.VolGARCH), 2))\n",
        "lag.garch.3 <- ts(Lag(log(HSCE.df.month$HSCE.VolGARCH), 3))\n",
        "\n",
        "ols.garch <- cbind(garch, lag.garch.1, lag.garch.2, lag.garch.3, \n",
        "                  lag.epu, lag.gepu, lag.vix)\n",
        "\n",
        "model.garch.1 <- lm(garch ~  lag.garch.1 + lag.garch.2 + lag.garch.3, \n",
        "                    data = ols.garch)\n",
        "\n",
        "round(coeftest(model.garch.1, NeweyWest(model.garch.1, \n",
        "                                        lag = bwNeweyWest(model.garch.1), \n",
        "                                        prewhite = F)), 3)\n",
        "\n",
        "round(summary(model.garch.1)$adj.r.squared, 3)"
      ],
      "id": "u3qNPRhUClNO",
      "execution_count": 135,
      "outputs": [
        {
          "output_type": "display_data",
          "data": {
            "text/plain": [
              "\n",
              "t test of coefficients:\n",
              "\n",
              "            Estimate Std. Error t value Pr(>|t|)    \n",
              "(Intercept)    0.113      0.030   3.726   <2e-16 ***\n",
              "lag.garch.1    1.012      0.081  12.468   <2e-16 ***\n",
              "lag.garch.2   -0.261      0.113  -2.317    0.021 *  \n",
              "lag.garch.3    0.125      0.067   1.864    0.063 .  \n",
              "---\n",
              "Signif. codes:  0 ‘***’ 0.001 ‘**’ 0.01 ‘*’ 0.05 ‘.’ 0.1 ‘ ’ 1\n"
            ]
          },
          "metadata": {}
        },
        {
          "output_type": "display_data",
          "data": {
            "text/plain": [
              "[1] 0.778"
            ],
            "text/latex": "0.778",
            "text/markdown": "0.778",
            "text/html": [
              "0.778"
            ]
          },
          "metadata": {}
        }
      ]
    },
    {
      "cell_type": "code",
      "metadata": {
        "id": "uppwdMKEE44m",
        "colab": {
          "base_uri": "https://localhost:8080/",
          "height": 225
        },
        "outputId": "dd79aab9-2e66-4e3b-9aa0-17bb80fc57f2"
      },
      "source": [
        "# Estimation 2 - GARCH (Best BIC:  lag= 3)\n",
        "model.garch.2 <- lm(garch ~  lag.garch.1 + lag.garch.2 + lag.garch.3 + lag.epu, \n",
        "                    data = ols.garch)\n",
        "\n",
        "round(coeftest(model.garch.2, NeweyWest(model.garch.2, \n",
        "                                        lag = bwNeweyWest(model.garch.2), \n",
        "                                        prewhite = F)), 3)\n",
        "\n",
        "round(summary(model.garch.2)$adj.r.squared, 3)"
      ],
      "id": "uppwdMKEE44m",
      "execution_count": 136,
      "outputs": [
        {
          "output_type": "display_data",
          "data": {
            "text/plain": [
              "\n",
              "t test of coefficients:\n",
              "\n",
              "            Estimate Std. Error t value Pr(>|t|)    \n",
              "(Intercept)    0.172      0.042   4.057   <2e-16 ***\n",
              "lag.garch.1    1.002      0.086  11.676   <2e-16 ***\n",
              "lag.garch.2   -0.247      0.113  -2.187    0.030 *  \n",
              "lag.garch.3    0.106      0.067   1.581    0.115    \n",
              "lag.epu        0.000      0.000  -2.526    0.012 *  \n",
              "---\n",
              "Signif. codes:  0 ‘***’ 0.001 ‘**’ 0.01 ‘*’ 0.05 ‘.’ 0.1 ‘ ’ 1\n"
            ]
          },
          "metadata": {}
        },
        {
          "output_type": "display_data",
          "data": {
            "text/plain": [
              "[1] 0.786"
            ],
            "text/latex": "0.786",
            "text/markdown": "0.786",
            "text/html": [
              "0.786"
            ]
          },
          "metadata": {}
        }
      ]
    },
    {
      "cell_type": "code",
      "metadata": {
        "id": "YX8DzU72O0oB",
        "colab": {
          "base_uri": "https://localhost:8080/",
          "height": 225
        },
        "outputId": "479a8e35-c09a-4e67-dd84-ec11f79d075f"
      },
      "source": [
        "# Estimation 3 - GARCH (Best BIC:  lag= 3)\n",
        "model.garch.3 <- lm(garch ~  lag.garch.1 + lag.garch.2 + lag.garch.3 + lag.vix, \n",
        "                    data = ols.garch)\n",
        "\n",
        "round(coeftest(model.garch.3, NeweyWest(model.garch.3, \n",
        "                                        lag = bwNeweyWest(model.garch.3), \n",
        "                                        prewhite = F)), 3)\n",
        "\n",
        "round(summary(model.garch.3)$adj.r.squared, 3)"
      ],
      "id": "YX8DzU72O0oB",
      "execution_count": 137,
      "outputs": [
        {
          "output_type": "display_data",
          "data": {
            "text/plain": [
              "\n",
              "t test of coefficients:\n",
              "\n",
              "            Estimate Std. Error t value Pr(>|t|)    \n",
              "(Intercept)    0.001      0.048   0.017    0.987    \n",
              "lag.garch.1    0.956      0.075  12.832   <2e-16 ***\n",
              "lag.garch.2   -0.256      0.109  -2.347    0.020 *  \n",
              "lag.garch.3    0.120      0.067   1.798    0.073 .  \n",
              "lag.vix        0.008      0.003   2.698    0.007 ** \n",
              "---\n",
              "Signif. codes:  0 ‘***’ 0.001 ‘**’ 0.01 ‘*’ 0.05 ‘.’ 0.1 ‘ ’ 1\n"
            ]
          },
          "metadata": {}
        },
        {
          "output_type": "display_data",
          "data": {
            "text/plain": [
              "[1] 0.784"
            ],
            "text/latex": "0.784",
            "text/markdown": "0.784",
            "text/html": [
              "0.784"
            ]
          },
          "metadata": {}
        }
      ]
    },
    {
      "cell_type": "code",
      "metadata": {
        "id": "it_P-MqUO4ec",
        "colab": {
          "base_uri": "https://localhost:8080/",
          "height": 243
        },
        "outputId": "1fc3235f-5bed-4b8b-8dae-11257a301a68"
      },
      "source": [
        "# Estimation 4 - GARCH (Best BIC:  lag= 3)\n",
        "model.garch.4 <- lm(garch ~  lag.garch.1 + lag.garch.2 + lag.garch.3 + lag.epu + lag.vix, \n",
        "                    data = ols.garch)\n",
        "\n",
        "round(coeftest(model.garch.4, NeweyWest(model.garch.4, \n",
        "                                        lag = bwNeweyWest(model.garch.4), \n",
        "                                        prewhite = F)), 3)\n",
        "\n",
        "round(summary(model.garch.4)$adj.r.squared, 3)"
      ],
      "id": "it_P-MqUO4ec",
      "execution_count": 138,
      "outputs": [
        {
          "output_type": "display_data",
          "data": {
            "text/plain": [
              "\n",
              "t test of coefficients:\n",
              "\n",
              "            Estimate Std. Error t value Pr(>|t|)    \n",
              "(Intercept)    0.056      0.057   0.975    0.331    \n",
              "lag.garch.1    0.922      0.076  12.138   <2e-16 ***\n",
              "lag.garch.2   -0.236      0.105  -2.257    0.025 *  \n",
              "lag.garch.3    0.094      0.067   1.394    0.165    \n",
              "lag.epu        0.000      0.000  -3.762   <2e-16 ***\n",
              "lag.vix        0.011      0.003   3.341    0.001 ***\n",
              "---\n",
              "Signif. codes:  0 ‘***’ 0.001 ‘**’ 0.01 ‘*’ 0.05 ‘.’ 0.1 ‘ ’ 1\n"
            ]
          },
          "metadata": {}
        },
        {
          "output_type": "display_data",
          "data": {
            "text/plain": [
              "[1] 0.796"
            ],
            "text/latex": "0.796",
            "text/markdown": "0.796",
            "text/html": [
              "0.796"
            ]
          },
          "metadata": {}
        }
      ]
    },
    {
      "cell_type": "code",
      "metadata": {
        "id": "w-QVaWN0PS9d",
        "colab": {
          "base_uri": "https://localhost:8080/",
          "height": 260
        },
        "outputId": "06f61083-69ee-47ff-ab67-9847b7338f29"
      },
      "source": [
        "# Estimation 5 - GARCH (Best BIC:  lag= 3)\n",
        "model.garch.5 <- lm(garch ~  lag.garch.1 + lag.garch.2 + lag.garch.3 + lag.epu + lag.gepu + lag.vix, \n",
        "                    data = ols.garch)\n",
        "\n",
        "round(coeftest(model.garch.5, NeweyWest(model.garch.5, \n",
        "                                        lag = bwNeweyWest(model.garch.5), \n",
        "                                        prewhite = F)), 3)\n",
        "\n",
        "round(summary(model.garch.5)$adj.r.squared, 3)"
      ],
      "id": "w-QVaWN0PS9d",
      "execution_count": 139,
      "outputs": [
        {
          "output_type": "display_data",
          "data": {
            "text/plain": [
              "\n",
              "t test of coefficients:\n",
              "\n",
              "            Estimate Std. Error t value Pr(>|t|)    \n",
              "(Intercept)    0.125      0.062   2.020    0.044 *  \n",
              "lag.garch.1    0.913      0.081  11.227   <2e-16 ***\n",
              "lag.garch.2   -0.235      0.111  -2.120    0.035 *  \n",
              "lag.garch.3    0.085      0.069   1.224    0.222    \n",
              "lag.epu        0.000      0.000   0.420    0.675    \n",
              "lag.gepu      -0.002      0.001  -1.717    0.087 .  \n",
              "lag.vix        0.014      0.004   3.267    0.001 ***\n",
              "---\n",
              "Signif. codes:  0 ‘***’ 0.001 ‘**’ 0.01 ‘*’ 0.05 ‘.’ 0.1 ‘ ’ 1\n"
            ]
          },
          "metadata": {}
        },
        {
          "output_type": "display_data",
          "data": {
            "text/plain": [
              "[1] 0.798"
            ],
            "text/latex": "0.798",
            "text/markdown": "0.798",
            "text/html": [
              "0.798"
            ]
          },
          "metadata": {}
        }
      ]
    },
    {
      "cell_type": "markdown",
      "metadata": {
        "id": "KxPH8UsAFTKr"
      },
      "source": [
        "**EGARCH**"
      ],
      "id": "KxPH8UsAFTKr"
    },
    {
      "cell_type": "code",
      "metadata": {
        "id": "jjaoFjcPF-zc",
        "colab": {
          "base_uri": "https://localhost:8080/",
          "height": 208
        },
        "outputId": "283bfbd9-5aff-45a4-d84b-18cbf8badd71"
      },
      "source": [
        "# Estimation 1 - EGARCH (Best BIC:  lag= 3)\n",
        "egarch <- ts(log(HSCE.df.month$HSCE.VolEGARCH))\n",
        "lag.egarch.1 <- ts(Lag(log(HSCE.df.month$HSCE.VolEGARCH), 1))\n",
        "lag.egarch.2 <- ts(Lag(log(HSCE.df.month$HSCE.VolEGARCH), 2))\n",
        "lag.egarch.3 <- ts(Lag(log(HSCE.df.month$HSCE.VolEGARCH), 3))\n",
        "\n",
        "ols.egarch <- cbind(egarch, lag.egarch.1, lag.egarch.2, lag.egarch.3,\n",
        "                    lag.epu, lag.gepu, lag.vix)\n",
        "\n",
        "model.egarch.1 <- lm(egarch ~  lag.egarch.1 + lag.egarch.2 + lag.egarch.3, \n",
        "                    data = ols.egarch)\n",
        "\n",
        "round(coeftest(model.egarch.1, NeweyWest(model.egarch.1, \n",
        "                                         lag = bwNeweyWest(model.egarch.1), \n",
        "                                         prewhite = F)), 3)\n",
        "\n",
        "round(summary(model.egarch.1)$adj.r.squared, 3)"
      ],
      "id": "jjaoFjcPF-zc",
      "execution_count": 140,
      "outputs": [
        {
          "output_type": "display_data",
          "data": {
            "text/plain": [
              "\n",
              "t test of coefficients:\n",
              "\n",
              "             Estimate Std. Error t value Pr(>|t|)    \n",
              "(Intercept)     0.120      0.033   3.650   <2e-16 ***\n",
              "lag.egarch.1    0.973      0.074  13.186   <2e-16 ***\n",
              "lag.egarch.2   -0.201      0.106  -1.894    0.059 .  \n",
              "lag.egarch.3    0.097      0.064   1.530    0.127    \n",
              "---\n",
              "Signif. codes:  0 ‘***’ 0.001 ‘**’ 0.01 ‘*’ 0.05 ‘.’ 0.1 ‘ ’ 1\n"
            ]
          },
          "metadata": {}
        },
        {
          "output_type": "display_data",
          "data": {
            "text/plain": [
              "[1] 0.765"
            ],
            "text/latex": "0.765",
            "text/markdown": "0.765",
            "text/html": [
              "0.765"
            ]
          },
          "metadata": {}
        }
      ]
    },
    {
      "cell_type": "code",
      "metadata": {
        "id": "6SYfDY-QGW3S",
        "colab": {
          "base_uri": "https://localhost:8080/",
          "height": 225
        },
        "outputId": "d3a2fb00-653a-4342-d256-08aebd8e5e55"
      },
      "source": [
        "# Estimation 2 - EGARCH (Best BIC:  lag= 3)\n",
        "model.egarch.2 <- lm(egarch ~  lag.egarch.1 + lag.egarch.2 + lag.egarch.3 + lag.epu, \n",
        "                     data = ols.egarch)\n",
        "\n",
        "round(coeftest(model.egarch.2, NeweyWest(model.egarch.2, \n",
        "                                         lag = bwNeweyWest(model.egarch.2), \n",
        "                                         prewhite = F)), 3)\n",
        "\n",
        "round(summary(model.egarch.2)$adj.r.squared, 3)"
      ],
      "id": "6SYfDY-QGW3S",
      "execution_count": 141,
      "outputs": [
        {
          "output_type": "display_data",
          "data": {
            "text/plain": [
              "\n",
              "t test of coefficients:\n",
              "\n",
              "             Estimate Std. Error t value Pr(>|t|)    \n",
              "(Intercept)     0.184      0.044   4.165   <2e-16 ***\n",
              "lag.egarch.1    0.960      0.080  12.029   <2e-16 ***\n",
              "lag.egarch.2   -0.186      0.108  -1.724    0.086 .  \n",
              "lag.egarch.3    0.079      0.065   1.217    0.225    \n",
              "lag.epu         0.000      0.000  -2.570    0.011 *  \n",
              "---\n",
              "Signif. codes:  0 ‘***’ 0.001 ‘**’ 0.01 ‘*’ 0.05 ‘.’ 0.1 ‘ ’ 1\n"
            ]
          },
          "metadata": {}
        },
        {
          "output_type": "display_data",
          "data": {
            "text/plain": [
              "[1] 0.774"
            ],
            "text/latex": "0.774",
            "text/markdown": "0.774",
            "text/html": [
              "0.774"
            ]
          },
          "metadata": {}
        }
      ]
    },
    {
      "cell_type": "code",
      "metadata": {
        "id": "iNZE-7iEPn_A",
        "colab": {
          "base_uri": "https://localhost:8080/",
          "height": 225
        },
        "outputId": "3f0924b0-57ab-4fc3-ed56-2ba8018eed17"
      },
      "source": [
        "# Estimation 3 - EGARCH (Best BIC:  lag= 3)\n",
        "model.egarch.3 <- lm(egarch ~  lag.egarch.1 + lag.egarch.2 + lag.egarch.3 + lag.vix, \n",
        "                     data = ols.egarch)\n",
        "\n",
        "round(coeftest(model.egarch.3, NeweyWest(model.egarch.3, \n",
        "                                         lag = bwNeweyWest(model.egarch.3), \n",
        "                                         prewhite = F)), 3)\n",
        "\n",
        "round(summary(model.egarch.3)$adj.r.squared, 3)"
      ],
      "id": "iNZE-7iEPn_A",
      "execution_count": 142,
      "outputs": [
        {
          "output_type": "display_data",
          "data": {
            "text/plain": [
              "\n",
              "t test of coefficients:\n",
              "\n",
              "             Estimate Std. Error t value Pr(>|t|)    \n",
              "(Intercept)     0.021      0.048   0.433    0.666    \n",
              "lag.egarch.1    0.923      0.070  13.229   <2e-16 ***\n",
              "lag.egarch.2   -0.199      0.105  -1.897    0.059 .  \n",
              "lag.egarch.3    0.092      0.065   1.418    0.157    \n",
              "lag.vix         0.007      0.003   2.345    0.020 *  \n",
              "---\n",
              "Signif. codes:  0 ‘***’ 0.001 ‘**’ 0.01 ‘*’ 0.05 ‘.’ 0.1 ‘ ’ 1\n"
            ]
          },
          "metadata": {}
        },
        {
          "output_type": "display_data",
          "data": {
            "text/plain": [
              "[1] 0.769"
            ],
            "text/latex": "0.769",
            "text/markdown": "0.769",
            "text/html": [
              "0.769"
            ]
          },
          "metadata": {}
        }
      ]
    },
    {
      "cell_type": "code",
      "metadata": {
        "id": "Cd-rJ4nnPpme",
        "colab": {
          "base_uri": "https://localhost:8080/",
          "height": 243
        },
        "outputId": "c74baead-d70e-40cc-a44d-2d1dd0edcbd6"
      },
      "source": [
        "# Estimation 4 - EGARCH (Best BIC:  lag= 3)\n",
        "model.egarch.4 <- lm(egarch ~  lag.egarch.1 + lag.egarch.2 + lag.egarch.3 + lag.epu + lag.vix, \n",
        "                     data = ols.egarch)\n",
        "\n",
        "round(coeftest(model.egarch.4, NeweyWest(model.egarch.4, \n",
        "                                         lag = bwNeweyWest(model.egarch.4), \n",
        "                                         prewhite = F)), 3)\n",
        "\n",
        "round(summary(model.egarch.4)$adj.r.squared, 3)"
      ],
      "id": "Cd-rJ4nnPpme",
      "execution_count": 143,
      "outputs": [
        {
          "output_type": "display_data",
          "data": {
            "text/plain": [
              "\n",
              "t test of coefficients:\n",
              "\n",
              "             Estimate Std. Error t value Pr(>|t|)    \n",
              "(Intercept)     0.077      0.055   1.414    0.159    \n",
              "lag.egarch.1    0.885      0.076  11.704   <2e-16 ***\n",
              "lag.egarch.2   -0.180      0.103  -1.747    0.082 .  \n",
              "lag.egarch.3    0.068      0.065   1.040    0.299    \n",
              "lag.epu         0.000      0.000  -3.547   <2e-16 ***\n",
              "lag.vix         0.010      0.003   2.905    0.004 ** \n",
              "---\n",
              "Signif. codes:  0 ‘***’ 0.001 ‘**’ 0.01 ‘*’ 0.05 ‘.’ 0.1 ‘ ’ 1\n"
            ]
          },
          "metadata": {}
        },
        {
          "output_type": "display_data",
          "data": {
            "text/plain": [
              "[1] 0.783"
            ],
            "text/latex": "0.783",
            "text/markdown": "0.783",
            "text/html": [
              "0.783"
            ]
          },
          "metadata": {}
        }
      ]
    },
    {
      "cell_type": "code",
      "metadata": {
        "id": "c3XRtwQFPqqa",
        "colab": {
          "base_uri": "https://localhost:8080/",
          "height": 260
        },
        "outputId": "44d26f93-e716-4798-e9ef-5051a7035297"
      },
      "source": [
        "# Estimation 5 - EGARCH (Best BIC:  lag= 3)\n",
        "model.egarch.5 <- lm(egarch ~  lag.egarch.1 + lag.egarch.2 + lag.egarch.3 + lag.epu + lag.gepu + lag.vix, \n",
        "                     data = ols.egarch)\n",
        "\n",
        "round(coeftest(model.egarch.5, NeweyWest(model.egarch.5, \n",
        "                                         lag = bwNeweyWest(model.egarch.5), \n",
        "                                         prewhite = F)), 3)\n",
        "\n",
        "round(summary(model.egarch.5)$adj.r.squared, 3)"
      ],
      "id": "c3XRtwQFPqqa",
      "execution_count": 144,
      "outputs": [
        {
          "output_type": "display_data",
          "data": {
            "text/plain": [
              "\n",
              "t test of coefficients:\n",
              "\n",
              "             Estimate Std. Error t value Pr(>|t|)    \n",
              "(Intercept)     0.148      0.064   2.308    0.022 *  \n",
              "lag.egarch.1    0.875      0.076  11.521   <2e-16 ***\n",
              "lag.egarch.2   -0.177      0.104  -1.709    0.089 .  \n",
              "lag.egarch.3    0.059      0.066   0.889    0.375    \n",
              "lag.epu         0.000      0.000   0.429    0.668    \n",
              "lag.gepu       -0.002      0.001  -1.795    0.074 .  \n",
              "lag.vix         0.013      0.004   3.222    0.001 ***\n",
              "---\n",
              "Signif. codes:  0 ‘***’ 0.001 ‘**’ 0.01 ‘*’ 0.05 ‘.’ 0.1 ‘ ’ 1\n"
            ]
          },
          "metadata": {}
        },
        {
          "output_type": "display_data",
          "data": {
            "text/plain": [
              "[1] 0.785"
            ],
            "text/latex": "0.785",
            "text/markdown": "0.785",
            "text/html": [
              "0.785"
            ]
          },
          "metadata": {}
        }
      ]
    },
    {
      "cell_type": "markdown",
      "metadata": {
        "id": "q6ZVo4RGFVPg"
      },
      "source": [
        "**GJR-GARCH**"
      ],
      "id": "q6ZVo4RGFVPg"
    },
    {
      "cell_type": "code",
      "metadata": {
        "id": "sSV2QDYhF_4v",
        "colab": {
          "base_uri": "https://localhost:8080/",
          "height": 208
        },
        "outputId": "6a341f14-1c7e-45b4-cda3-5a8095d374b5"
      },
      "source": [
        "# Estimation 1 - GJR-GARCH (Best BIC:  lag= 3)\n",
        "gjrgarch <- ts(log(HSCE.df.month$HSCE.VolGJRGARCH))\n",
        "lag.gjrgarch.1 <- ts(Lag(log(HSCE.df.month$HSCE.VolGJRGARCH), 1))\n",
        "lag.gjrgarch.2 <- ts(Lag(log(HSCE.df.month$HSCE.VolGJRGARCH), 2))\n",
        "lag.gjrgarch.3 <- ts(Lag(log(HSCE.df.month$HSCE.VolGJRGARCH), 3))\n",
        "\n",
        "ols.gjrgarch <- cbind(gjrgarch, lag.gjrgarch.1, lag.gjrgarch.2, lag.gjrgarch.3,\n",
        "                      lag.epu, lag.gepu, lag.vix)\n",
        "\n",
        "model.gjrgarch.1 <- lm(gjrgarch ~  lag.gjrgarch.1 + lag.gjrgarch.2 + lag.gjrgarch.3, \n",
        "                       data = ols.gjrgarch)\n",
        "\n",
        "round(coeftest(model.gjrgarch.1, NeweyWest(model.gjrgarch.1, \n",
        "                                           lag = bwNeweyWest(model.gjrgarch.1), \n",
        "                                           prewhite = F)), 3)\n",
        "\n",
        "round(summary(model.gjrgarch.1)$adj.r.squared, 3)"
      ],
      "id": "sSV2QDYhF_4v",
      "execution_count": 145,
      "outputs": [
        {
          "output_type": "display_data",
          "data": {
            "text/plain": [
              "\n",
              "t test of coefficients:\n",
              "\n",
              "               Estimate Std. Error t value Pr(>|t|)    \n",
              "(Intercept)       0.122      0.032   3.835   <2e-16 ***\n",
              "lag.gjrgarch.1    0.977      0.079  12.346   <2e-16 ***\n",
              "lag.gjrgarch.2   -0.212      0.109  -1.935    0.054 .  \n",
              "lag.gjrgarch.3    0.101      0.065   1.565    0.119    \n",
              "---\n",
              "Signif. codes:  0 ‘***’ 0.001 ‘**’ 0.01 ‘*’ 0.05 ‘.’ 0.1 ‘ ’ 1\n"
            ]
          },
          "metadata": {}
        },
        {
          "output_type": "display_data",
          "data": {
            "text/plain": [
              "[1] 0.76"
            ],
            "text/latex": "0.76",
            "text/markdown": "0.76",
            "text/html": [
              "0.76"
            ]
          },
          "metadata": {}
        }
      ]
    },
    {
      "cell_type": "code",
      "metadata": {
        "id": "QfZ9xeMXGXxq",
        "colab": {
          "base_uri": "https://localhost:8080/",
          "height": 225
        },
        "outputId": "894738c8-7fac-49ad-8eb3-7ec645641f35"
      },
      "source": [
        "# Estimation 2 - GJR-GARCH (Best BIC:  lag= 3)\n",
        "model.gjrgarch.2 <- lm(gjrgarch ~  lag.gjrgarch.1 + lag.gjrgarch.2 + lag.gjrgarch.3 + lag.epu, \n",
        "                       data = ols.gjrgarch)\n",
        "\n",
        "round(coeftest(model.gjrgarch.2, NeweyWest(model.gjrgarch.2, \n",
        "                                          lag = bwNeweyWest(model.gjrgarch.2), \n",
        "                                          prewhite = F)), 3)\n",
        "\n",
        "round(summary(model.gjrgarch.2)$adj.r.squared, 3)"
      ],
      "id": "QfZ9xeMXGXxq",
      "execution_count": 146,
      "outputs": [
        {
          "output_type": "display_data",
          "data": {
            "text/plain": [
              "\n",
              "t test of coefficients:\n",
              "\n",
              "               Estimate Std. Error t value Pr(>|t|)    \n",
              "(Intercept)       0.183      0.044   4.139   <2e-16 ***\n",
              "lag.gjrgarch.1    0.968      0.084  11.576   <2e-16 ***\n",
              "lag.gjrgarch.2   -0.198      0.108  -1.842    0.067 .  \n",
              "lag.gjrgarch.3    0.083      0.066   1.265    0.207    \n",
              "lag.epu           0.000      0.000  -2.585    0.010 ** \n",
              "---\n",
              "Signif. codes:  0 ‘***’ 0.001 ‘**’ 0.01 ‘*’ 0.05 ‘.’ 0.1 ‘ ’ 1\n"
            ]
          },
          "metadata": {}
        },
        {
          "output_type": "display_data",
          "data": {
            "text/plain": [
              "[1] 0.77"
            ],
            "text/latex": "0.77",
            "text/markdown": "0.77",
            "text/html": [
              "0.77"
            ]
          },
          "metadata": {}
        }
      ]
    },
    {
      "cell_type": "code",
      "metadata": {
        "id": "RpwqcFbDQveh",
        "colab": {
          "base_uri": "https://localhost:8080/",
          "height": 225
        },
        "outputId": "c30b0546-7246-47ae-b5b6-ac720f2db2a2"
      },
      "source": [
        "# Estimation 3 - GJR-GARCH (Best BIC:  lag= 3)\n",
        "model.gjrgarch.3 <- lm(gjrgarch ~  lag.gjrgarch.1 + lag.gjrgarch.2 + lag.gjrgarch.3 + lag.vix, \n",
        "                       data = ols.gjrgarch)\n",
        "\n",
        "round(coeftest(model.gjrgarch.3, NeweyWest(model.gjrgarch.3, \n",
        "                                          lag = bwNeweyWest(model.gjrgarch.3), \n",
        "                                          prewhite = F)), 3)\n",
        "\n",
        "round(summary(model.gjrgarch.3)$adj.r.squared, 3)"
      ],
      "id": "RpwqcFbDQveh",
      "execution_count": 147,
      "outputs": [
        {
          "output_type": "display_data",
          "data": {
            "text/plain": [
              "\n",
              "t test of coefficients:\n",
              "\n",
              "               Estimate Std. Error t value Pr(>|t|)    \n",
              "(Intercept)       0.019      0.050   0.373    0.709    \n",
              "lag.gjrgarch.1    0.925      0.073  12.740   <2e-16 ***\n",
              "lag.gjrgarch.2   -0.209      0.105  -1.994    0.047 *  \n",
              "lag.gjrgarch.3    0.096      0.064   1.510    0.132    \n",
              "lag.vix           0.008      0.003   2.423    0.016 *  \n",
              "---\n",
              "Signif. codes:  0 ‘***’ 0.001 ‘**’ 0.01 ‘*’ 0.05 ‘.’ 0.1 ‘ ’ 1\n"
            ]
          },
          "metadata": {}
        },
        {
          "output_type": "display_data",
          "data": {
            "text/plain": [
              "[1] 0.765"
            ],
            "text/latex": "0.765",
            "text/markdown": "0.765",
            "text/html": [
              "0.765"
            ]
          },
          "metadata": {}
        }
      ]
    },
    {
      "cell_type": "code",
      "metadata": {
        "id": "oVcvw2H_QwAc",
        "colab": {
          "base_uri": "https://localhost:8080/",
          "height": 243
        },
        "outputId": "298c207e-e692-40d7-9137-13b17e0d4452"
      },
      "source": [
        "# Estimation 4 - GJR-GARCH (Best BIC:  lag= 3)\n",
        "model.gjrgarch.4 <- lm(gjrgarch ~  lag.gjrgarch.1 + lag.gjrgarch.2 + lag.gjrgarch.3 + lag.epu + lag.vix, \n",
        "                       data = ols.gjrgarch)\n",
        "\n",
        "round(coeftest(model.gjrgarch.4, NeweyWest(model.gjrgarch.4, \n",
        "                                          lag = bwNeweyWest(model.gjrgarch.4), \n",
        "                                          prewhite = F)), 3)\n",
        "\n",
        "round(summary(model.gjrgarch.4)$adj.r.squared, 3)"
      ],
      "id": "oVcvw2H_QwAc",
      "execution_count": 148,
      "outputs": [
        {
          "output_type": "display_data",
          "data": {
            "text/plain": [
              "\n",
              "t test of coefficients:\n",
              "\n",
              "               Estimate Std. Error t value Pr(>|t|)    \n",
              "(Intercept)       0.073      0.054   1.353    0.177    \n",
              "lag.gjrgarch.1    0.893      0.078  11.394   <2e-16 ***\n",
              "lag.gjrgarch.2   -0.192      0.106  -1.806    0.072 .  \n",
              "lag.gjrgarch.3    0.072      0.065   1.119    0.264    \n",
              "lag.epu           0.000      0.000  -3.575   <2e-16 ***\n",
              "lag.vix           0.010      0.003   2.960    0.003 ** \n",
              "---\n",
              "Signif. codes:  0 ‘***’ 0.001 ‘**’ 0.01 ‘*’ 0.05 ‘.’ 0.1 ‘ ’ 1\n"
            ]
          },
          "metadata": {}
        },
        {
          "output_type": "display_data",
          "data": {
            "text/plain": [
              "[1] 0.778"
            ],
            "text/latex": "0.778",
            "text/markdown": "0.778",
            "text/html": [
              "0.778"
            ]
          },
          "metadata": {}
        }
      ]
    },
    {
      "cell_type": "code",
      "metadata": {
        "id": "5lDj4PwxQwzP",
        "colab": {
          "base_uri": "https://localhost:8080/",
          "height": 260
        },
        "outputId": "07df5ba7-27c4-4a97-f2e5-61dbfdeeaa2b"
      },
      "source": [
        "# Estimation 5 - GJR-GARCH (Best BIC:  lag= 3)\n",
        "model.gjrgarch.5 <- lm(gjrgarch ~  lag.gjrgarch.1 + lag.gjrgarch.2 + lag.gjrgarch.3\n",
        "                                 + lag.epu + lag.gepu + lag.vix, \n",
        "                       data = ols.gjrgarch)\n",
        "\n",
        "round(coeftest(model.gjrgarch.5, NeweyWest(model.gjrgarch.5, \n",
        "                                          lag = bwNeweyWest(model.gjrgarch.5), \n",
        "                                          prewhite = F)), 3)\n",
        "\n",
        "round(summary(model.gjrgarch.5)$adj.r.squared, 3)"
      ],
      "id": "5lDj4PwxQwzP",
      "execution_count": 149,
      "outputs": [
        {
          "output_type": "display_data",
          "data": {
            "text/plain": [
              "\n",
              "t test of coefficients:\n",
              "\n",
              "               Estimate Std. Error t value Pr(>|t|)    \n",
              "(Intercept)       0.147      0.063   2.325    0.021 *  \n",
              "lag.gjrgarch.1    0.883      0.078  11.246   <2e-16 ***\n",
              "lag.gjrgarch.2   -0.189      0.106  -1.789    0.075 .  \n",
              "lag.gjrgarch.3    0.062      0.066   0.940    0.348    \n",
              "lag.epu           0.000      0.000   0.523    0.601    \n",
              "lag.gepu         -0.002      0.001  -1.832    0.068 .  \n",
              "lag.vix           0.013      0.004   3.241    0.001 ***\n",
              "---\n",
              "Signif. codes:  0 ‘***’ 0.001 ‘**’ 0.01 ‘*’ 0.05 ‘.’ 0.1 ‘ ’ 1\n"
            ]
          },
          "metadata": {}
        },
        {
          "output_type": "display_data",
          "data": {
            "text/plain": [
              "[1] 0.781"
            ],
            "text/latex": "0.781",
            "text/markdown": "0.781",
            "text/html": [
              "0.781"
            ]
          },
          "metadata": {}
        }
      ]
    },
    {
      "cell_type": "markdown",
      "metadata": {
        "id": "9k0Ku1lRFXsE"
      },
      "source": [
        "**Realized Linear GARCH**"
      ],
      "id": "9k0Ku1lRFXsE"
    },
    {
      "cell_type": "code",
      "metadata": {
        "id": "ggRFZZTrGA7l",
        "colab": {
          "base_uri": "https://localhost:8080/",
          "height": 208
        },
        "outputId": "38b916fa-1a21-40e6-c63e-5d53359ff1af"
      },
      "source": [
        "# Estimation 1 - Realized Linear GARCH (Best BIC:  lag= 3)\n",
        "realgarch <- ts(log(HSCE.df.month$HSCE.VolRealGARCH))\n",
        "lag.realgarch.1 <- ts(Lag(log(HSCE.df.month$HSCE.VolRealGARCH), 1))\n",
        "lag.realgarch.2 <- ts(Lag(log(HSCE.df.month$HSCE.VolRealGARCH), 2))\n",
        "lag.realgarch.3 <- ts(Lag(log(HSCE.df.month$HSCE.VolRealGARCH), 3))\n",
        "\n",
        "ols.realgarch <- cbind(realgarch, lag.realgarch.1, lag.realgarch.2, lag.realgarch.3, \n",
        "                       lag.epu, lag.gepu, lag.vix)\n",
        "\n",
        "model.realgarch.1 <- lm(realgarch ~  lag.realgarch.1 + lag.realgarch.2 + lag.realgarch.3, \n",
        "                        data = ols.realgarch)\n",
        "\n",
        "round(coeftest(model.realgarch.1, NeweyWest(model.realgarch.1, \n",
        "                                            lag = bwNeweyWest(model.realgarch.1), \n",
        "                                            prewhite = F)), 3)\n",
        "\n",
        "round(summary(model.realgarch.1)$adj.r.squared, 3)"
      ],
      "id": "ggRFZZTrGA7l",
      "execution_count": 150,
      "outputs": [
        {
          "output_type": "display_data",
          "data": {
            "text/plain": [
              "\n",
              "t test of coefficients:\n",
              "\n",
              "                Estimate Std. Error t value Pr(>|t|)    \n",
              "(Intercept)        0.115      0.031   3.754   <2e-16 ***\n",
              "lag.realgarch.1    1.017      0.083  12.185   <2e-16 ***\n",
              "lag.realgarch.2   -0.263      0.115  -2.277    0.024 *  \n",
              "lag.realgarch.3    0.122      0.068   1.805    0.072 .  \n",
              "---\n",
              "Signif. codes:  0 ‘***’ 0.001 ‘**’ 0.01 ‘*’ 0.05 ‘.’ 0.1 ‘ ’ 1\n"
            ]
          },
          "metadata": {}
        },
        {
          "output_type": "display_data",
          "data": {
            "text/plain": [
              "[1] 0.779"
            ],
            "text/latex": "0.779",
            "text/markdown": "0.779",
            "text/html": [
              "0.779"
            ]
          },
          "metadata": {}
        }
      ]
    },
    {
      "cell_type": "code",
      "metadata": {
        "id": "hlGIumFjGY6u",
        "colab": {
          "base_uri": "https://localhost:8080/",
          "height": 225
        },
        "outputId": "0c41a8af-7e25-417c-9707-6ee3b036c022"
      },
      "source": [
        "# Estimation 2 - Realized Linear GARCH (Best BIC:  lag= 3)\n",
        "model.realgarch.2 <- lm(realgarch ~  lag.realgarch.1 + lag.realgarch.2 + lag.realgarch.3 + lag.epu, \n",
        "                        data = ols.realgarch)\n",
        "\n",
        "round(coeftest(model.realgarch.2, NeweyWest(model.realgarch.2, \n",
        "                                            lag = bwNeweyWest(model.realgarch.2), \n",
        "                                            prewhite = F)), 3)\n",
        "\n",
        "round(summary(model.realgarch.2)$adj.r.squared, 3)"
      ],
      "id": "hlGIumFjGY6u",
      "execution_count": 151,
      "outputs": [
        {
          "output_type": "display_data",
          "data": {
            "text/plain": [
              "\n",
              "t test of coefficients:\n",
              "\n",
              "                Estimate Std. Error t value Pr(>|t|)    \n",
              "(Intercept)        0.173      0.042   4.148   <2e-16 ***\n",
              "lag.realgarch.1    1.006      0.088  11.441   <2e-16 ***\n",
              "lag.realgarch.2   -0.246      0.116  -2.119    0.035 *  \n",
              "lag.realgarch.3    0.101      0.068   1.483    0.139    \n",
              "lag.epu            0.000      0.000  -2.519    0.012 *  \n",
              "---\n",
              "Signif. codes:  0 ‘***’ 0.001 ‘**’ 0.01 ‘*’ 0.05 ‘.’ 0.1 ‘ ’ 1\n"
            ]
          },
          "metadata": {}
        },
        {
          "output_type": "display_data",
          "data": {
            "text/plain": [
              "[1] 0.787"
            ],
            "text/latex": "0.787",
            "text/markdown": "0.787",
            "text/html": [
              "0.787"
            ]
          },
          "metadata": {}
        }
      ]
    },
    {
      "cell_type": "code",
      "metadata": {
        "id": "Fort9qJBRSmj",
        "colab": {
          "base_uri": "https://localhost:8080/",
          "height": 225
        },
        "outputId": "d8ab0647-4c52-44b8-acd6-00c054e06dca"
      },
      "source": [
        "# Estimation 3 - Realized Linear GARCH (Best BIC:  lag= 3)\n",
        "model.realgarch.3 <- lm(realgarch ~  lag.realgarch.1 + lag.realgarch.2 + lag.realgarch.3 + lag.vix, \n",
        "                        data = ols.realgarch)\n",
        "\n",
        "round(coeftest(model.realgarch.3, NeweyWest(model.realgarch.3, \n",
        "                                            lag = bwNeweyWest(model.realgarch.3), \n",
        "                                            prewhite = F)), 3)\n",
        "\n",
        "round(summary(model.realgarch.3)$adj.r.squared, 3)"
      ],
      "id": "Fort9qJBRSmj",
      "execution_count": 152,
      "outputs": [
        {
          "output_type": "display_data",
          "data": {
            "text/plain": [
              "\n",
              "t test of coefficients:\n",
              "\n",
              "                Estimate Std. Error t value Pr(>|t|)    \n",
              "(Intercept)       -0.008      0.049  -0.170    0.865    \n",
              "lag.realgarch.1    0.956      0.076  12.650   <2e-16 ***\n",
              "lag.realgarch.2   -0.256      0.111  -2.311    0.022 *  \n",
              "lag.realgarch.3    0.115      0.067   1.715    0.088 .  \n",
              "lag.vix            0.009      0.003   2.900    0.004 ** \n",
              "---\n",
              "Signif. codes:  0 ‘***’ 0.001 ‘**’ 0.01 ‘*’ 0.05 ‘.’ 0.1 ‘ ’ 1\n"
            ]
          },
          "metadata": {}
        },
        {
          "output_type": "display_data",
          "data": {
            "text/plain": [
              "[1] 0.786"
            ],
            "text/latex": "0.786",
            "text/markdown": "0.786",
            "text/html": [
              "0.786"
            ]
          },
          "metadata": {}
        }
      ]
    },
    {
      "cell_type": "code",
      "metadata": {
        "id": "Y7DFY72qRTZm",
        "colab": {
          "base_uri": "https://localhost:8080/",
          "height": 243
        },
        "outputId": "9ed9bf75-df2f-4cc4-b6b2-0a0dd5b92bf6"
      },
      "source": [
        "# Estimation 4 - Realized Linear GARCH (Best BIC:  lag= 3)\n",
        "model.realgarch.4 <- lm(realgarch ~  lag.realgarch.1 + lag.realgarch.2 + lag.realgarch.3 + lag.epu + lag.vix, \n",
        "                        data = ols.realgarch)\n",
        "\n",
        "round(coeftest(model.realgarch.4, NeweyWest(model.realgarch.4, \n",
        "                                            lag = bwNeweyWest(model.realgarch.4), \n",
        "                                            prewhite = F)), 3)\n",
        "\n",
        "round(summary(model.realgarch.4)$adj.r.squared, 3)"
      ],
      "id": "Y7DFY72qRTZm",
      "execution_count": 153,
      "outputs": [
        {
          "output_type": "display_data",
          "data": {
            "text/plain": [
              "\n",
              "t test of coefficients:\n",
              "\n",
              "                Estimate Std. Error t value Pr(>|t|)    \n",
              "(Intercept)        0.048      0.055   0.882    0.379    \n",
              "lag.realgarch.1    0.920      0.080  11.548   <2e-16 ***\n",
              "lag.realgarch.2   -0.233      0.108  -2.152    0.032 *  \n",
              "lag.realgarch.3    0.087      0.067   1.305    0.193    \n",
              "lag.epu            0.000      0.000  -3.623   <2e-16 ***\n",
              "lag.vix            0.012      0.003   3.381    0.001 ***\n",
              "---\n",
              "Signif. codes:  0 ‘***’ 0.001 ‘**’ 0.01 ‘*’ 0.05 ‘.’ 0.1 ‘ ’ 1\n"
            ]
          },
          "metadata": {}
        },
        {
          "output_type": "display_data",
          "data": {
            "text/plain": [
              "[1] 0.798"
            ],
            "text/latex": "0.798",
            "text/markdown": "0.798",
            "text/html": [
              "0.798"
            ]
          },
          "metadata": {}
        }
      ]
    },
    {
      "cell_type": "code",
      "metadata": {
        "id": "zYv19mZSRUB9",
        "colab": {
          "base_uri": "https://localhost:8080/",
          "height": 260
        },
        "outputId": "197ccad9-1cde-418e-fa0f-34067ce2bb0d"
      },
      "source": [
        "# Estimation 5 - Realized Linear GARCH (Best BIC:  lag= 3)\n",
        "model.realgarch.5 <- lm(realgarch ~  lag.realgarch.1 + lag.realgarch.2 + lag.realgarch.3\n",
        "                                   + lag.epu + lag.gepu + lag.vix, \n",
        "                        data = ols.realgarch)\n",
        "\n",
        "round(coeftest(model.realgarch.5, NeweyWest(model.realgarch.5, \n",
        "                                            lag = bwNeweyWest(model.realgarch.5), \n",
        "                                            prewhite = F)), 3)\n",
        "\n",
        "round(summary(model.realgarch.5)$adj.r.squared, 3)"
      ],
      "id": "zYv19mZSRUB9",
      "execution_count": 154,
      "outputs": [
        {
          "output_type": "display_data",
          "data": {
            "text/plain": [
              "\n",
              "t test of coefficients:\n",
              "\n",
              "                Estimate Std. Error t value Pr(>|t|)    \n",
              "(Intercept)        0.114      0.062   1.850    0.065 .  \n",
              "lag.realgarch.1    0.911      0.083  10.947   <2e-16 ***\n",
              "lag.realgarch.2   -0.229      0.112  -2.057    0.041 *  \n",
              "lag.realgarch.3    0.078      0.069   1.122    0.263    \n",
              "lag.epu            0.000      0.000   0.320    0.749    \n",
              "lag.gepu          -0.001      0.001  -1.641    0.102    \n",
              "lag.vix            0.014      0.004   3.294    0.001 ***\n",
              "---\n",
              "Signif. codes:  0 ‘***’ 0.001 ‘**’ 0.01 ‘*’ 0.05 ‘.’ 0.1 ‘ ’ 1\n"
            ]
          },
          "metadata": {}
        },
        {
          "output_type": "display_data",
          "data": {
            "text/plain": [
              "[1] 0.8"
            ],
            "text/latex": "0.8",
            "text/markdown": "0.8",
            "text/html": [
              "0.8"
            ]
          },
          "metadata": {}
        }
      ]
    },
    {
      "cell_type": "markdown",
      "metadata": {
        "id": "tUOifxgkFbpF"
      },
      "source": [
        "**Realized EGARCH**"
      ],
      "id": "tUOifxgkFbpF"
    },
    {
      "cell_type": "code",
      "metadata": {
        "id": "aKcrDVVGGCtZ",
        "colab": {
          "base_uri": "https://localhost:8080/",
          "height": 208
        },
        "outputId": "2e0b237e-4fdf-41b2-8466-ee7b9ea9bc51"
      },
      "source": [
        "# Estimation 1 - Realized EGARCH (Best BIC:  lag= 3)\n",
        "realegarch <- ts(log(HSCE.df.month$HSCE.VolRealEGARCH))\n",
        "lag.realegarch.1 <- ts(Lag(log(HSCE.df.month$HSCE.VolRealEGARCH), 1))\n",
        "lag.realegarch.2 <- ts(Lag(log(HSCE.df.month$HSCE.VolRealEGARCH), 2))\n",
        "lag.realegarch.3 <- ts(Lag(log(HSCE.df.month$HSCE.VolRealEGARCH), 3))\n",
        "\n",
        "ols.realegarch <- cbind(realegarch, lag.realegarch.1, lag.realegarch.2, lag.realegarch.3,\n",
        "                        lag.epu, lag.gepu, lag.vix)\n",
        "\n",
        "model.realegarch.1 <- lm(realegarch ~  lag.realegarch.1 + lag.realegarch.2 + lag.realegarch.3, \n",
        "                        data = ols.realegarch)\n",
        "\n",
        "round(coeftest(model.realegarch.1, NeweyWest(model.realegarch.1, \n",
        "                                            lag = bwNeweyWest(model.realegarch.1), \n",
        "                                            prewhite = F)), 3)\n",
        "\n",
        "round(summary(model.realegarch.1)$adj.r.squared, 3)"
      ],
      "id": "aKcrDVVGGCtZ",
      "execution_count": 155,
      "outputs": [
        {
          "output_type": "display_data",
          "data": {
            "text/plain": [
              "\n",
              "t test of coefficients:\n",
              "\n",
              "                 Estimate Std. Error t value Pr(>|t|)    \n",
              "(Intercept)         0.121      0.033   3.684   <2e-16 ***\n",
              "lag.realegarch.1    0.981      0.075  13.055   <2e-16 ***\n",
              "lag.realegarch.2   -0.210      0.109  -1.930    0.055 .  \n",
              "lag.realegarch.3    0.097      0.064   1.514    0.131    \n",
              "---\n",
              "Signif. codes:  0 ‘***’ 0.001 ‘**’ 0.01 ‘*’ 0.05 ‘.’ 0.1 ‘ ’ 1\n"
            ]
          },
          "metadata": {}
        },
        {
          "output_type": "display_data",
          "data": {
            "text/plain": [
              "[1] 0.767"
            ],
            "text/latex": "0.767",
            "text/markdown": "0.767",
            "text/html": [
              "0.767"
            ]
          },
          "metadata": {}
        }
      ]
    },
    {
      "cell_type": "code",
      "metadata": {
        "id": "k9o6HRw9GZ1M",
        "colab": {
          "base_uri": "https://localhost:8080/",
          "height": 225
        },
        "outputId": "9386a1cc-3f25-4cd8-ffa7-50a32eae6f22"
      },
      "source": [
        "# Estimation 2 - Realized EGARCH (Best BIC:  lag= 3)\n",
        "model.realegarch.2 <- lm(realegarch ~  lag.realegarch.1 + lag.realegarch.2 + lag.realegarch.3 + lag.epu, \n",
        "                          data = ols.realegarch)\n",
        "\n",
        "round(coeftest(model.realegarch.2, NeweyWest(model.realegarch.2, \n",
        "                                              lag = bwNeweyWest(model.realegarch.2), \n",
        "                                              prewhite = F)), 3)\n",
        "\n",
        "round(summary(model.realegarch.2)$adj.r.squared, 3)"
      ],
      "id": "k9o6HRw9GZ1M",
      "execution_count": 156,
      "outputs": [
        {
          "output_type": "display_data",
          "data": {
            "text/plain": [
              "\n",
              "t test of coefficients:\n",
              "\n",
              "                 Estimate Std. Error t value Pr(>|t|)    \n",
              "(Intercept)         0.185      0.045   4.066   <2e-16 ***\n",
              "lag.realegarch.1    0.966      0.080  12.048   <2e-16 ***\n",
              "lag.realegarch.2   -0.190      0.105  -1.800    0.073 .  \n",
              "lag.realegarch.3    0.077      0.066   1.168    0.244    \n",
              "lag.epu             0.000      0.000  -2.515    0.013 *  \n",
              "---\n",
              "Signif. codes:  0 ‘***’ 0.001 ‘**’ 0.01 ‘*’ 0.05 ‘.’ 0.1 ‘ ’ 1\n"
            ]
          },
          "metadata": {}
        },
        {
          "output_type": "display_data",
          "data": {
            "text/plain": [
              "[1] 0.776"
            ],
            "text/latex": "0.776",
            "text/markdown": "0.776",
            "text/html": [
              "0.776"
            ]
          },
          "metadata": {}
        }
      ]
    },
    {
      "cell_type": "code",
      "metadata": {
        "id": "I1exBnz0R4Pj",
        "colab": {
          "base_uri": "https://localhost:8080/",
          "height": 225
        },
        "outputId": "b972e02c-05e7-4cd5-99c2-5e9b4dc063a7"
      },
      "source": [
        "# Estimation 3 - Realized EGARCH (Best BIC:  lag= 3)\n",
        "model.realegarch.3 <- lm(realegarch ~  lag.realegarch.1 + lag.realegarch.2 + lag.realegarch.3 + lag.vix, \n",
        "                          data = ols.realegarch)\n",
        "\n",
        "round(coeftest(model.realegarch.3, NeweyWest(model.realegarch.3, \n",
        "                                              lag = bwNeweyWest(model.realegarch.3), \n",
        "                                              prewhite = F)), 3)\n",
        "\n",
        "round(summary(model.realegarch.3)$adj.r.squared, 3)"
      ],
      "id": "I1exBnz0R4Pj",
      "execution_count": 157,
      "outputs": [
        {
          "output_type": "display_data",
          "data": {
            "text/plain": [
              "\n",
              "t test of coefficients:\n",
              "\n",
              "                 Estimate Std. Error t value Pr(>|t|)    \n",
              "(Intercept)         0.011      0.049   0.228    0.820    \n",
              "lag.realegarch.1    0.925      0.070  13.179   <2e-16 ***\n",
              "lag.realegarch.2   -0.206      0.106  -1.935    0.054 .  \n",
              "lag.realegarch.3    0.091      0.065   1.393    0.165    \n",
              "lag.vix             0.008      0.003   2.564    0.011 *  \n",
              "---\n",
              "Signif. codes:  0 ‘***’ 0.001 ‘**’ 0.01 ‘*’ 0.05 ‘.’ 0.1 ‘ ’ 1\n"
            ]
          },
          "metadata": {}
        },
        {
          "output_type": "display_data",
          "data": {
            "text/plain": [
              "[1] 0.773"
            ],
            "text/latex": "0.773",
            "text/markdown": "0.773",
            "text/html": [
              "0.773"
            ]
          },
          "metadata": {}
        }
      ]
    },
    {
      "cell_type": "code",
      "metadata": {
        "id": "txIofdC1R5OJ",
        "colab": {
          "base_uri": "https://localhost:8080/",
          "height": 243
        },
        "outputId": "db2c146f-9e24-4f55-988b-4e5f5dd11b63"
      },
      "source": [
        "# Estimation 4 - Realized EGARCH (Best BIC:  lag= 3)\n",
        "model.realegarch.4 <- lm(realegarch ~  lag.realegarch.1 + lag.realegarch.2 + lag.realegarch.3\n",
        "                                     + lag.epu + lag.vix, \n",
        "                          data = ols.realegarch)\n",
        "\n",
        "round(coeftest(model.realegarch.4, NeweyWest(model.realegarch.4, \n",
        "                                              lag = bwNeweyWest(model.realegarch.4), \n",
        "                                              prewhite = F)), 3)\n",
        "\n",
        "round(summary(model.realegarch.4)$adj.r.squared, 3)"
      ],
      "id": "txIofdC1R5OJ",
      "execution_count": 158,
      "outputs": [
        {
          "output_type": "display_data",
          "data": {
            "text/plain": [
              "\n",
              "t test of coefficients:\n",
              "\n",
              "                 Estimate Std. Error t value Pr(>|t|)    \n",
              "(Intercept)         0.069      0.057   1.210    0.228    \n",
              "lag.realegarch.1    0.885      0.074  11.941   <2e-16 ***\n",
              "lag.realegarch.2   -0.182      0.101  -1.805    0.072 .  \n",
              "lag.realegarch.3    0.064      0.066   0.970    0.333    \n",
              "lag.epu             0.000      0.000  -3.672   <2e-16 ***\n",
              "lag.vix             0.011      0.003   3.192    0.002 ** \n",
              "---\n",
              "Signif. codes:  0 ‘***’ 0.001 ‘**’ 0.01 ‘*’ 0.05 ‘.’ 0.1 ‘ ’ 1\n"
            ]
          },
          "metadata": {}
        },
        {
          "output_type": "display_data",
          "data": {
            "text/plain": [
              "[1] 0.786"
            ],
            "text/latex": "0.786",
            "text/markdown": "0.786",
            "text/html": [
              "0.786"
            ]
          },
          "metadata": {}
        }
      ]
    },
    {
      "cell_type": "code",
      "metadata": {
        "id": "HpsZ5qyNR6JL",
        "colab": {
          "base_uri": "https://localhost:8080/",
          "height": 260
        },
        "outputId": "a9a0f90f-ce44-499a-f080-12f4128bc594"
      },
      "source": [
        "# Estimation 5 - Realized EGARCH (Best BIC:  lag= 3)\n",
        "model.realegarch.5 <- lm(realegarch ~  lag.realegarch.1 + lag.realegarch.2 + lag.realegarch.3\n",
        "                                     + lag.epu + lag.gepu + lag.vix, \n",
        "                          data = ols.realegarch)\n",
        "\n",
        "round(coeftest(model.realegarch.5, NeweyWest(model.realegarch.5, \n",
        "                                              lag = bwNeweyWest(model.realegarch.5), \n",
        "                                              prewhite = F)), 3)\n",
        "\n",
        "round(summary(model.realegarch.5)$adj.r.squared, 3)"
      ],
      "id": "HpsZ5qyNR6JL",
      "execution_count": 159,
      "outputs": [
        {
          "output_type": "display_data",
          "data": {
            "text/plain": [
              "\n",
              "t test of coefficients:\n",
              "\n",
              "                 Estimate Std. Error t value Pr(>|t|)    \n",
              "(Intercept)         0.139      0.064   2.152    0.032 *  \n",
              "lag.realegarch.1    0.874      0.076  11.429   <2e-16 ***\n",
              "lag.realegarch.2   -0.177      0.105  -1.681    0.094 .  \n",
              "lag.realegarch.3    0.054      0.067   0.805    0.421    \n",
              "lag.epu             0.000      0.000   0.368    0.713    \n",
              "lag.gepu           -0.002      0.001  -1.759    0.080 .  \n",
              "lag.vix             0.014      0.004   3.296    0.001 ***\n",
              "---\n",
              "Signif. codes:  0 ‘***’ 0.001 ‘**’ 0.01 ‘*’ 0.05 ‘.’ 0.1 ‘ ’ 1\n"
            ]
          },
          "metadata": {}
        },
        {
          "output_type": "display_data",
          "data": {
            "text/plain": [
              "[1] 0.788"
            ],
            "text/latex": "0.788",
            "text/markdown": "0.788",
            "text/html": [
              "0.788"
            ]
          },
          "metadata": {}
        }
      ]
    },
    {
      "cell_type": "markdown",
      "metadata": {
        "id": "zegAfcHHFdbK"
      },
      "source": [
        "**Realized GJR-GARCH**"
      ],
      "id": "zegAfcHHFdbK"
    },
    {
      "cell_type": "code",
      "metadata": {
        "id": "g0qHrweAGDrp",
        "colab": {
          "base_uri": "https://localhost:8080/",
          "height": 208
        },
        "outputId": "879fd3d4-1b0c-44e9-c040-005679662440"
      },
      "source": [
        "# Estimation 1 - Realized GJR-GARCH (Best BIC:  lag= 3)\n",
        "realgjrgarch <- ts(log(HSCE.df.month$HSCE.VolRealGJRGARCH))\n",
        "lag.realgjrgarch.1 <- ts(Lag(log(HSCE.df.month$HSCE.VolRealGJRGARCH), 1))\n",
        "lag.realgjrgarch.2 <- ts(Lag(log(HSCE.df.month$HSCE.VolRealGJRGARCH), 2))\n",
        "lag.realgjrgarch.3 <- ts(Lag(log(HSCE.df.month$HSCE.VolRealGJRGARCH), 3))\n",
        "\n",
        "ols.realgjrgarch <- cbind(realgjrgarch, lag.realgjrgarch.1, lag.realgjrgarch.2, lag.realgjrgarch.3, \n",
        "                          lag.epu, lag.gepu, lag.vix)\n",
        "\n",
        "model.realgjrgarch.1 <- lm(realgjrgarch ~  lag.realgjrgarch.1 + lag.realgjrgarch.2 + lag.realgjrgarch.3, \n",
        "                            data = ols.realgjrgarch)\n",
        "\n",
        "round(coeftest(model.realgjrgarch.1, NeweyWest(model.realgjrgarch.1, \n",
        "                                              lag = bwNeweyWest(model.realgjrgarch.1), \n",
        "                                              prewhite = F)), 3)\n",
        "\n",
        "round(summary(model.realgjrgarch.1)$adj.r.squared, 3)"
      ],
      "id": "g0qHrweAGDrp",
      "execution_count": 160,
      "outputs": [
        {
          "output_type": "display_data",
          "data": {
            "text/plain": [
              "\n",
              "t test of coefficients:\n",
              "\n",
              "                   Estimate Std. Error t value Pr(>|t|)    \n",
              "(Intercept)           0.124      0.032   3.866   <2e-16 ***\n",
              "lag.realgjrgarch.1    0.984      0.081  12.157   <2e-16 ***\n",
              "lag.realgjrgarch.2   -0.218      0.112  -1.939    0.054 .  \n",
              "lag.realgjrgarch.3    0.101      0.066   1.531    0.127    \n",
              "---\n",
              "Signif. codes:  0 ‘***’ 0.001 ‘**’ 0.01 ‘*’ 0.05 ‘.’ 0.1 ‘ ’ 1\n"
            ]
          },
          "metadata": {}
        },
        {
          "output_type": "display_data",
          "data": {
            "text/plain": [
              "[1] 0.762"
            ],
            "text/latex": "0.762",
            "text/markdown": "0.762",
            "text/html": [
              "0.762"
            ]
          },
          "metadata": {}
        }
      ]
    },
    {
      "cell_type": "code",
      "metadata": {
        "id": "upoZ-ZM9GbFJ",
        "colab": {
          "base_uri": "https://localhost:8080/",
          "height": 225
        },
        "outputId": "e68a34c2-2b15-48ee-cd44-5de5aa7ab106"
      },
      "source": [
        "# Estimation 2 - Realized GJR-GARCH (Best BIC:  lag= 3)\n",
        "model.realgjrgarch.2 <- lm(realgjrgarch ~  lag.realgjrgarch.1 + lag.realgjrgarch.2 + lag.realgjrgarch.3\n",
        "                                         + lag.epu, \n",
        "                          data = ols.realgjrgarch)\n",
        "\n",
        "round(coeftest(model.realgjrgarch.2, NeweyWest(model.realgjrgarch.2, \n",
        "                                              lag = bwNeweyWest(model.realgjrgarch.2), \n",
        "                                              prewhite = F)), 3)\n",
        "\n",
        "round(summary(model.realgjrgarch.2)$adj.r.squared, 3)"
      ],
      "id": "upoZ-ZM9GbFJ",
      "execution_count": 161,
      "outputs": [
        {
          "output_type": "display_data",
          "data": {
            "text/plain": [
              "\n",
              "t test of coefficients:\n",
              "\n",
              "                   Estimate Std. Error t value Pr(>|t|)    \n",
              "(Intercept)           0.184      0.044   4.152   <2e-16 ***\n",
              "lag.realgjrgarch.1    0.973      0.086  11.377   <2e-16 ***\n",
              "lag.realgjrgarch.2   -0.201      0.110  -1.825    0.069 .  \n",
              "lag.realgjrgarch.3    0.080      0.066   1.213    0.226    \n",
              "lag.epu               0.000      0.000  -2.549    0.011 *  \n",
              "---\n",
              "Signif. codes:  0 ‘***’ 0.001 ‘**’ 0.01 ‘*’ 0.05 ‘.’ 0.1 ‘ ’ 1\n"
            ]
          },
          "metadata": {}
        },
        {
          "output_type": "display_data",
          "data": {
            "text/plain": [
              "[1] 0.771"
            ],
            "text/latex": "0.771",
            "text/markdown": "0.771",
            "text/html": [
              "0.771"
            ]
          },
          "metadata": {}
        }
      ]
    },
    {
      "cell_type": "code",
      "metadata": {
        "id": "ZNfAR-ogSdfR",
        "colab": {
          "base_uri": "https://localhost:8080/",
          "height": 225
        },
        "outputId": "189d167d-c2b1-4b07-eacd-e46e7ac8ca8e"
      },
      "source": [
        "# Estimation 3 - Realized GJR-GARCH (Best BIC:  lag= 3)\n",
        "model.realgjrgarch.3 <- lm(realgjrgarch ~  lag.realgjrgarch.1 + lag.realgjrgarch.2 + lag.realgjrgarch.3\n",
        "                                         + lag.vix, \n",
        "                          data = ols.realgjrgarch)\n",
        "\n",
        "round(coeftest(model.realgjrgarch.3, NeweyWest(model.realgjrgarch.3, \n",
        "                                              lag = bwNeweyWest(model.realgjrgarch.3), \n",
        "                                              prewhite = F)), 3)\n",
        "\n",
        "round(summary(model.realgjrgarch.3)$adj.r.squared, 3)"
      ],
      "id": "ZNfAR-ogSdfR",
      "execution_count": 162,
      "outputs": [
        {
          "output_type": "display_data",
          "data": {
            "text/plain": [
              "\n",
              "t test of coefficients:\n",
              "\n",
              "                   Estimate Std. Error t value Pr(>|t|)    \n",
              "(Intercept)           0.009      0.050   0.174    0.862    \n",
              "lag.realgjrgarch.1    0.926      0.073  12.600   <2e-16 ***\n",
              "lag.realgjrgarch.2   -0.214      0.108  -1.985    0.048 *  \n",
              "lag.realgjrgarch.3    0.094      0.065   1.444    0.150    \n",
              "lag.vix               0.009      0.003   2.649    0.009 ** \n",
              "---\n",
              "Signif. codes:  0 ‘***’ 0.001 ‘**’ 0.01 ‘*’ 0.05 ‘.’ 0.1 ‘ ’ 1\n"
            ]
          },
          "metadata": {}
        },
        {
          "output_type": "display_data",
          "data": {
            "text/plain": [
              "[1] 0.768"
            ],
            "text/latex": "0.768",
            "text/markdown": "0.768",
            "text/html": [
              "0.768"
            ]
          },
          "metadata": {}
        }
      ]
    },
    {
      "cell_type": "code",
      "metadata": {
        "id": "nAvk7lOxSfk7",
        "colab": {
          "base_uri": "https://localhost:8080/",
          "height": 243
        },
        "outputId": "3ec9f0c4-9862-431e-bd75-708303fc7e1e"
      },
      "source": [
        "# Estimation 4 - Realized GJR-GARCH (Best BIC:  lag= 3)\n",
        "model.realgjrgarch.4 <- lm(realgjrgarch ~  lag.realgjrgarch.1 + lag.realgjrgarch.2 + lag.realgjrgarch.3\n",
        "                                         + lag.epu + lag.vix, \n",
        "                          data = ols.realgjrgarch)\n",
        "\n",
        "round(coeftest(model.realgjrgarch.4, NeweyWest(model.realgjrgarch.4, \n",
        "                                              lag = bwNeweyWest(model.realgjrgarch.4), \n",
        "                                              prewhite = F)), 3)\n",
        "\n",
        "round(summary(model.realgjrgarch.4)$adj.r.squared, 3)"
      ],
      "id": "nAvk7lOxSfk7",
      "execution_count": 163,
      "outputs": [
        {
          "output_type": "display_data",
          "data": {
            "text/plain": [
              "\n",
              "t test of coefficients:\n",
              "\n",
              "                   Estimate Std. Error t value Pr(>|t|)    \n",
              "(Intercept)           0.065      0.057   1.133    0.258    \n",
              "lag.realgjrgarch.1    0.891      0.077  11.541   <2e-16 ***\n",
              "lag.realgjrgarch.2   -0.192      0.104  -1.854    0.065 .  \n",
              "lag.realgjrgarch.3    0.068      0.066   1.033    0.303    \n",
              "lag.epu               0.000      0.000  -3.716   <2e-16 ***\n",
              "lag.vix               0.011      0.003   3.239    0.001 ***\n",
              "---\n",
              "Signif. codes:  0 ‘***’ 0.001 ‘**’ 0.01 ‘*’ 0.05 ‘.’ 0.1 ‘ ’ 1\n"
            ]
          },
          "metadata": {}
        },
        {
          "output_type": "display_data",
          "data": {
            "text/plain": [
              "[1] 0.781"
            ],
            "text/latex": "0.781",
            "text/markdown": "0.781",
            "text/html": [
              "0.781"
            ]
          },
          "metadata": {}
        }
      ]
    },
    {
      "cell_type": "code",
      "metadata": {
        "id": "q8aAhKYVSe07",
        "colab": {
          "base_uri": "https://localhost:8080/",
          "height": 260
        },
        "outputId": "d9fe67d6-94ca-4cea-cf56-c119238029d8"
      },
      "source": [
        "# Estimation 5 - Realized GJR-GARCH (Best BIC:  lag= 3)\n",
        "model.realgjrgarch.5 <- lm(realgjrgarch ~  lag.realgjrgarch.1 + lag.realgjrgarch.2 + lag.realgjrgarch.3\n",
        "                                         + lag.epu + lag.gepu + lag.vix, \n",
        "                          data = ols.realgjrgarch)\n",
        "\n",
        "round(coeftest(model.realgjrgarch.5, NeweyWest(model.realgjrgarch.5, \n",
        "                                              lag = bwNeweyWest(model.realgjrgarch.5), \n",
        "                                              prewhite = F)), 3)\n",
        "\n",
        "round(summary(model.realgjrgarch.5)$adj.r.squared, 3)"
      ],
      "id": "q8aAhKYVSe07",
      "execution_count": 164,
      "outputs": [
        {
          "output_type": "display_data",
          "data": {
            "text/plain": [
              "\n",
              "t test of coefficients:\n",
              "\n",
              "                   Estimate Std. Error t value Pr(>|t|)    \n",
              "(Intercept)           0.136      0.063   2.154    0.032 *  \n",
              "lag.realgjrgarch.1    0.881      0.079  11.126   <2e-16 ***\n",
              "lag.realgjrgarch.2   -0.188      0.109  -1.727    0.085 .  \n",
              "lag.realgjrgarch.3    0.057      0.067   0.843    0.400    \n",
              "lag.epu               0.000      0.000   0.439    0.661    \n",
              "lag.gepu             -0.002      0.001  -1.768    0.078 .  \n",
              "lag.vix               0.014      0.004   3.302    0.001 ***\n",
              "---\n",
              "Signif. codes:  0 ‘***’ 0.001 ‘**’ 0.01 ‘*’ 0.05 ‘.’ 0.1 ‘ ’ 1\n"
            ]
          },
          "metadata": {}
        },
        {
          "output_type": "display_data",
          "data": {
            "text/plain": [
              "[1] 0.784"
            ],
            "text/latex": "0.784",
            "text/markdown": "0.784",
            "text/html": [
              "0.784"
            ]
          },
          "metadata": {}
        }
      ]
    },
    {
      "cell_type": "markdown",
      "metadata": {
        "id": "Cak8CR8-Fft3"
      },
      "source": [
        "**MS Linear GARCH**"
      ],
      "id": "Cak8CR8-Fft3"
    },
    {
      "cell_type": "code",
      "metadata": {
        "id": "fG33RRq4GEcL",
        "colab": {
          "base_uri": "https://localhost:8080/",
          "height": 173
        },
        "outputId": "8f26d0cc-0826-4bd4-9197-791764e1306d"
      },
      "source": [
        "# Estimation 1 - MS Linear GARCH (Best BIC:  lag= 1)\n",
        "msgarch <- ts(log(HSCE.df.month$HSCE.VolMSGARCH))\n",
        "lag.msgarch.1 <- ts(Lag(log(HSCE.df.month$HSCE.VolMSGARCH), 1))\n",
        "\n",
        "ols.msgarch <- cbind(msgarch, lag.msgarch.1, \n",
        "                    lag.epu, lag.gepu, lag.vix)\n",
        "\n",
        "model.msgarch.1 <- lm(msgarch ~  lag.msgarch.1, \n",
        "                      data = ols.msgarch)\n",
        "\n",
        "round(coeftest(model.msgarch.1, NeweyWest(model.msgarch.1, \n",
        "                                          lag = bwNeweyWest(model.msgarch.1), \n",
        "                                          prewhite = F)), 3)\n",
        "\n",
        "round(summary(model.msgarch.1)$adj.r.squared, 3)"
      ],
      "id": "fG33RRq4GEcL",
      "execution_count": 165,
      "outputs": [
        {
          "output_type": "display_data",
          "data": {
            "text/plain": [
              "\n",
              "t test of coefficients:\n",
              "\n",
              "              Estimate Std. Error t value  Pr(>|t|)    \n",
              "(Intercept)      0.060      0.015   4.097 < 2.2e-16 ***\n",
              "lag.msgarch.1    0.866      0.030  28.650 < 2.2e-16 ***\n",
              "---\n",
              "Signif. codes:  0 ‘***’ 0.001 ‘**’ 0.01 ‘*’ 0.05 ‘.’ 0.1 ‘ ’ 1\n"
            ]
          },
          "metadata": {}
        },
        {
          "output_type": "display_data",
          "data": {
            "text/plain": [
              "[1] 0.762"
            ],
            "text/latex": "0.762",
            "text/markdown": "0.762",
            "text/html": [
              "0.762"
            ]
          },
          "metadata": {}
        }
      ]
    },
    {
      "cell_type": "code",
      "metadata": {
        "id": "y8QhY7EwGcFZ",
        "colab": {
          "base_uri": "https://localhost:8080/",
          "height": 191
        },
        "outputId": "05898abb-964d-48b7-e9a8-f50ec9fdc8d6"
      },
      "source": [
        "# Estimation 2 - MS Linear GARCH (Best BIC:  lag= 1)\n",
        "model.msgarch.2 <- lm(msgarch ~  lag.msgarch.1 + lag.epu, \n",
        "                      data = ols.msgarch)\n",
        "\n",
        "round(coeftest(model.msgarch.2, NeweyWest(model.msgarch.2, \n",
        "                                          lag = bwNeweyWest(model.msgarch.2), \n",
        "                                          prewhite = F)), 3)\n",
        "\n",
        "round(summary(model.msgarch.2)$adj.r.squared, 3)"
      ],
      "id": "y8QhY7EwGcFZ",
      "execution_count": 166,
      "outputs": [
        {
          "output_type": "display_data",
          "data": {
            "text/plain": [
              "\n",
              "t test of coefficients:\n",
              "\n",
              "              Estimate Std. Error t value Pr(>|t|)    \n",
              "(Intercept)      0.089      0.022   4.094   <2e-16 ***\n",
              "lag.msgarch.1    0.851      0.034  25.256   <2e-16 ***\n",
              "lag.epu          0.000      0.000  -2.573    0.011 *  \n",
              "---\n",
              "Signif. codes:  0 ‘***’ 0.001 ‘**’ 0.01 ‘*’ 0.05 ‘.’ 0.1 ‘ ’ 1\n"
            ]
          },
          "metadata": {}
        },
        {
          "output_type": "display_data",
          "data": {
            "text/plain": [
              "[1] 0.769"
            ],
            "text/latex": "0.769",
            "text/markdown": "0.769",
            "text/html": [
              "0.769"
            ]
          },
          "metadata": {}
        }
      ]
    },
    {
      "cell_type": "code",
      "metadata": {
        "id": "qV-P5RleTO03",
        "colab": {
          "base_uri": "https://localhost:8080/",
          "height": 191
        },
        "outputId": "b3d8bb80-e30b-46c1-907b-ed033ad6fbb8"
      },
      "source": [
        "# Estimation 3 - MS Linear GARCH (Best BIC:  lag= 1)\n",
        "model.msgarch.3 <- lm(msgarch ~  lag.msgarch.1 + lag.vix, \n",
        "                      data = ols.msgarch)\n",
        "\n",
        "round(coeftest(model.msgarch.3, NeweyWest(model.msgarch.3, \n",
        "                                          lag = bwNeweyWest(model.msgarch.3), \n",
        "                                          prewhite = F)), 3)\n",
        "\n",
        "round(summary(model.msgarch.3)$adj.r.squared, 3)"
      ],
      "id": "qV-P5RleTO03",
      "execution_count": 167,
      "outputs": [
        {
          "output_type": "display_data",
          "data": {
            "text/plain": [
              "\n",
              "t test of coefficients:\n",
              "\n",
              "              Estimate Std. Error t value Pr(>|t|)    \n",
              "(Intercept)      0.014      0.027   0.532    0.595    \n",
              "lag.msgarch.1    0.815      0.035  23.231   <2e-16 ***\n",
              "lag.vix          0.003      0.002   2.205    0.028 *  \n",
              "---\n",
              "Signif. codes:  0 ‘***’ 0.001 ‘**’ 0.01 ‘*’ 0.05 ‘.’ 0.1 ‘ ’ 1\n"
            ]
          },
          "metadata": {}
        },
        {
          "output_type": "display_data",
          "data": {
            "text/plain": [
              "[1] 0.767"
            ],
            "text/latex": "0.767",
            "text/markdown": "0.767",
            "text/html": [
              "0.767"
            ]
          },
          "metadata": {}
        }
      ]
    },
    {
      "cell_type": "code",
      "metadata": {
        "id": "FcjDEzYZTObB",
        "colab": {
          "base_uri": "https://localhost:8080/",
          "height": 208
        },
        "outputId": "0627ae50-76ad-41a7-8ba4-a717bbc8b0ba"
      },
      "source": [
        "# Estimation 4 - MS Linear GARCH (Best BIC:  lag= 1)\n",
        "model.msgarch.4 <- lm(msgarch ~  lag.msgarch.1 + lag.epu + lag.vix, \n",
        "                      data = ols.msgarch)\n",
        "\n",
        "round(coeftest(model.msgarch.4, NeweyWest(model.msgarch.4, \n",
        "                                          lag = bwNeweyWest(model.msgarch.4), \n",
        "                                          prewhite = F)), 3)\n",
        "\n",
        "round(summary(model.msgarch.4)$adj.r.squared, 3)"
      ],
      "id": "FcjDEzYZTObB",
      "execution_count": 168,
      "outputs": [
        {
          "output_type": "display_data",
          "data": {
            "text/plain": [
              "\n",
              "t test of coefficients:\n",
              "\n",
              "              Estimate Std. Error t value Pr(>|t|)    \n",
              "(Intercept)      0.040      0.029   1.394    0.164    \n",
              "lag.msgarch.1    0.772      0.040  19.499   <2e-16 ***\n",
              "lag.epu          0.000      0.000  -3.751   <2e-16 ***\n",
              "lag.vix          0.005      0.002   2.960    0.003 ** \n",
              "---\n",
              "Signif. codes:  0 ‘***’ 0.001 ‘**’ 0.01 ‘*’ 0.05 ‘.’ 0.1 ‘ ’ 1\n"
            ]
          },
          "metadata": {}
        },
        {
          "output_type": "display_data",
          "data": {
            "text/plain": [
              "[1] 0.777"
            ],
            "text/latex": "0.777",
            "text/markdown": "0.777",
            "text/html": [
              "0.777"
            ]
          },
          "metadata": {}
        }
      ]
    },
    {
      "cell_type": "code",
      "metadata": {
        "id": "ImV_Ip4BTNpK",
        "colab": {
          "base_uri": "https://localhost:8080/",
          "height": 225
        },
        "outputId": "e490864b-e2fe-4efd-8bc3-87e32a519542"
      },
      "source": [
        "# Estimation 5 - MS Linear GARCH (Best BIC:  lag= 1)\n",
        "model.msgarch.5 <- lm(msgarch ~  lag.msgarch.1 + lag.epu + lag.gepu + lag.vix, \n",
        "                      data = ols.msgarch)\n",
        "\n",
        "round(coeftest(model.msgarch.5, NeweyWest(model.msgarch.5, \n",
        "                                          lag = bwNeweyWest(model.msgarch.5), \n",
        "                                          prewhite = F)), 3)\n",
        "\n",
        "round(summary(model.msgarch.5)$adj.r.squared, 3)"
      ],
      "id": "ImV_Ip4BTNpK",
      "execution_count": 169,
      "outputs": [
        {
          "output_type": "display_data",
          "data": {
            "text/plain": [
              "\n",
              "t test of coefficients:\n",
              "\n",
              "              Estimate Std. Error t value Pr(>|t|)    \n",
              "(Intercept)      0.072      0.031   2.289    0.023 *  \n",
              "lag.msgarch.1    0.755      0.044  17.078   <2e-16 ***\n",
              "lag.epu          0.000      0.000   0.360    0.719    \n",
              "lag.gepu        -0.001      0.000  -1.635    0.103    \n",
              "lag.vix          0.006      0.002   3.133    0.002 ** \n",
              "---\n",
              "Signif. codes:  0 ‘***’ 0.001 ‘**’ 0.01 ‘*’ 0.05 ‘.’ 0.1 ‘ ’ 1\n"
            ]
          },
          "metadata": {}
        },
        {
          "output_type": "display_data",
          "data": {
            "text/plain": [
              "[1] 0.78"
            ],
            "text/latex": "0.78",
            "text/markdown": "0.78",
            "text/html": [
              "0.78"
            ]
          },
          "metadata": {}
        }
      ]
    },
    {
      "cell_type": "markdown",
      "metadata": {
        "id": "VuhTae9lFjX9"
      },
      "source": [
        "**MS EGARCH**"
      ],
      "id": "VuhTae9lFjX9"
    },
    {
      "cell_type": "code",
      "metadata": {
        "id": "GVFR95aSGFnm",
        "colab": {
          "base_uri": "https://localhost:8080/",
          "height": 173
        },
        "outputId": "bb8fae9f-004a-4c5d-d6d8-6f5e7038bebf"
      },
      "source": [
        "# Estimation 1 - MS EGARCH (Best BIC:  lag= 1)\n",
        "msegarch <- ts(log(HSCE.df.month$HSCE.VolMSEGARCH ))\n",
        "lag.msegarch.1 <- ts(Lag(log(HSCE.df.month$HSCE.VolMSEGARCH ), 1))\n",
        "\n",
        "ols.msegarch <- cbind(msegarch, lag.msegarch.1, \n",
        "                      lag.epu, lag.gepu, lag.vix)\n",
        "\n",
        "model.msegarch.1 <- lm(msegarch ~  lag.msegarch.1, \n",
        "                      data = ols.msegarch)\n",
        "\n",
        "round(coeftest(model.msegarch.1, NeweyWest(model.msegarch.1, \n",
        "                                          lag = bwNeweyWest(model.msegarch.1), \n",
        "                                          prewhite = F)), 3)\n",
        "\n",
        "round(summary(model.msegarch.1)$adj.r.squared, 3)"
      ],
      "id": "GVFR95aSGFnm",
      "execution_count": 170,
      "outputs": [
        {
          "output_type": "display_data",
          "data": {
            "text/plain": [
              "\n",
              "t test of coefficients:\n",
              "\n",
              "               Estimate Std. Error t value  Pr(>|t|)    \n",
              "(Intercept)       0.061      0.015   3.945 < 2.2e-16 ***\n",
              "lag.msegarch.1    0.865      0.030  29.208 < 2.2e-16 ***\n",
              "---\n",
              "Signif. codes:  0 ‘***’ 0.001 ‘**’ 0.01 ‘*’ 0.05 ‘.’ 0.1 ‘ ’ 1\n"
            ]
          },
          "metadata": {}
        },
        {
          "output_type": "display_data",
          "data": {
            "text/plain": [
              "[1] 0.76"
            ],
            "text/latex": "0.76",
            "text/markdown": "0.76",
            "text/html": [
              "0.76"
            ]
          },
          "metadata": {}
        }
      ]
    },
    {
      "cell_type": "code",
      "metadata": {
        "id": "u_nw2tqyGcyh",
        "colab": {
          "base_uri": "https://localhost:8080/",
          "height": 191
        },
        "outputId": "0e165064-2470-4f83-cedf-8852ba955bff"
      },
      "source": [
        "# Estimation 2 - MS EGARCH (Best BIC:  lag= 1)\n",
        "model.msegarch.2 <- lm(msegarch ~  lag.msegarch.1 + lag.epu, \n",
        "                      data = ols.msegarch)\n",
        "\n",
        "round(coeftest(model.msegarch.2, NeweyWest(model.msegarch.2, \n",
        "                                          lag = bwNeweyWest(model.msegarch.2), \n",
        "                                          prewhite = F)), 3)\n",
        "\n",
        "round(summary(model.msegarch.2)$adj.r.squared, 3)"
      ],
      "id": "u_nw2tqyGcyh",
      "execution_count": 171,
      "outputs": [
        {
          "output_type": "display_data",
          "data": {
            "text/plain": [
              "\n",
              "t test of coefficients:\n",
              "\n",
              "               Estimate Std. Error t value Pr(>|t|)    \n",
              "(Intercept)       0.093      0.022   4.335   <2e-16 ***\n",
              "lag.msegarch.1    0.850      0.032  26.766   <2e-16 ***\n",
              "lag.epu           0.000      0.000  -2.613     0.01 ** \n",
              "---\n",
              "Signif. codes:  0 ‘***’ 0.001 ‘**’ 0.01 ‘*’ 0.05 ‘.’ 0.1 ‘ ’ 1\n"
            ]
          },
          "metadata": {}
        },
        {
          "output_type": "display_data",
          "data": {
            "text/plain": [
              "[1] 0.768"
            ],
            "text/latex": "0.768",
            "text/markdown": "0.768",
            "text/html": [
              "0.768"
            ]
          },
          "metadata": {}
        }
      ]
    },
    {
      "cell_type": "code",
      "metadata": {
        "id": "RB00v9ZcTvla",
        "colab": {
          "base_uri": "https://localhost:8080/",
          "height": 191
        },
        "outputId": "a6e21a8e-c317-4234-e97f-2cdf460c5980"
      },
      "source": [
        "# Estimation 3 - MS EGARCH (Best BIC:  lag= 1)\n",
        "model.msegarch.3 <- lm(msegarch ~  lag.msegarch.1 + lag.vix, \n",
        "                      data = ols.msegarch)\n",
        "\n",
        "round(coeftest(model.msegarch.3, NeweyWest(model.msegarch.3, \n",
        "                                          lag = bwNeweyWest(model.msegarch.3), \n",
        "                                          prewhite = F)), 3)\n",
        "\n",
        "round(summary(model.msegarch.3)$adj.r.squared, 3)"
      ],
      "id": "RB00v9ZcTvla",
      "execution_count": 172,
      "outputs": [
        {
          "output_type": "display_data",
          "data": {
            "text/plain": [
              "\n",
              "t test of coefficients:\n",
              "\n",
              "               Estimate Std. Error t value Pr(>|t|)    \n",
              "(Intercept)       0.019      0.025   0.753    0.452    \n",
              "lag.msegarch.1    0.821      0.037  22.366   <2e-16 ***\n",
              "lag.vix           0.003      0.002   1.966    0.050 *  \n",
              "---\n",
              "Signif. codes:  0 ‘***’ 0.001 ‘**’ 0.01 ‘*’ 0.05 ‘.’ 0.1 ‘ ’ 1\n"
            ]
          },
          "metadata": {}
        },
        {
          "output_type": "display_data",
          "data": {
            "text/plain": [
              "[1] 0.762"
            ],
            "text/latex": "0.762",
            "text/markdown": "0.762",
            "text/html": [
              "0.762"
            ]
          },
          "metadata": {}
        }
      ]
    },
    {
      "cell_type": "code",
      "metadata": {
        "id": "YWwcKD55TvQs",
        "colab": {
          "base_uri": "https://localhost:8080/",
          "height": 208
        },
        "outputId": "03ef91b0-b016-4837-f0c1-cbb8508d1866"
      },
      "source": [
        "# Estimation 4 - MS EGARCH (Best BIC:  lag= 1)\n",
        "model.msegarch.4 <- lm(msegarch ~  lag.msegarch.1 + lag.epu + lag.vix, \n",
        "                      data = ols.msegarch)\n",
        "\n",
        "round(coeftest(model.msegarch.4, NeweyWest(model.msegarch.4, \n",
        "                                          lag = bwNeweyWest(model.msegarch.4), \n",
        "                                          prewhite = F)), 3)\n",
        "\n",
        "round(summary(model.msegarch.4)$adj.r.squared, 3)"
      ],
      "id": "YWwcKD55TvQs",
      "execution_count": 173,
      "outputs": [
        {
          "output_type": "display_data",
          "data": {
            "text/plain": [
              "\n",
              "t test of coefficients:\n",
              "\n",
              "               Estimate Std. Error t value Pr(>|t|)    \n",
              "(Intercept)       0.045      0.027   1.664    0.097 .  \n",
              "lag.msegarch.1    0.778      0.043  18.252   <2e-16 ***\n",
              "lag.epu           0.000      0.000  -3.501    0.001 ***\n",
              "lag.vix           0.005      0.002   2.586    0.010 ** \n",
              "---\n",
              "Signif. codes:  0 ‘***’ 0.001 ‘**’ 0.01 ‘*’ 0.05 ‘.’ 0.1 ‘ ’ 1\n"
            ]
          },
          "metadata": {}
        },
        {
          "output_type": "display_data",
          "data": {
            "text/plain": [
              "[1] 0.775"
            ],
            "text/latex": "0.775",
            "text/markdown": "0.775",
            "text/html": [
              "0.775"
            ]
          },
          "metadata": {}
        }
      ]
    },
    {
      "cell_type": "code",
      "metadata": {
        "id": "NA_Ttf5wTuoa",
        "colab": {
          "base_uri": "https://localhost:8080/",
          "height": 225
        },
        "outputId": "1168dc03-b559-4da3-f224-f4f3884213ec"
      },
      "source": [
        "# Estimation 5 - MS EGARCH (Best BIC:  lag= 1)\n",
        "model.msegarch.5 <- lm(msegarch ~  lag.msegarch.1 + lag.epu + lag.gepu + lag.vix, \n",
        "                      data = ols.msegarch)\n",
        "\n",
        "round(coeftest(model.msegarch.5, NeweyWest(model.msegarch.5, \n",
        "                                          lag = bwNeweyWest(model.msegarch.5), \n",
        "                                          prewhite = F)), 3)\n",
        "\n",
        "round(summary(model.msegarch.5)$adj.r.squared, 3)"
      ],
      "id": "NA_Ttf5wTuoa",
      "execution_count": 174,
      "outputs": [
        {
          "output_type": "display_data",
          "data": {
            "text/plain": [
              "\n",
              "t test of coefficients:\n",
              "\n",
              "               Estimate Std. Error t value Pr(>|t|)    \n",
              "(Intercept)       0.081      0.033   2.409    0.017 *  \n",
              "lag.msegarch.1    0.762      0.044  17.458   <2e-16 ***\n",
              "lag.epu           0.000      0.000   0.463    0.644    \n",
              "lag.gepu         -0.001      0.000  -1.754    0.081 .  \n",
              "lag.vix           0.006      0.002   2.890    0.004 ** \n",
              "---\n",
              "Signif. codes:  0 ‘***’ 0.001 ‘**’ 0.01 ‘*’ 0.05 ‘.’ 0.1 ‘ ’ 1\n"
            ]
          },
          "metadata": {}
        },
        {
          "output_type": "display_data",
          "data": {
            "text/plain": [
              "[1] 0.777"
            ],
            "text/latex": "0.777",
            "text/markdown": "0.777",
            "text/html": [
              "0.777"
            ]
          },
          "metadata": {}
        }
      ]
    },
    {
      "cell_type": "markdown",
      "metadata": {
        "id": "T838p-YpFncL"
      },
      "source": [
        "**MS GJR-GARCH**"
      ],
      "id": "T838p-YpFncL"
    },
    {
      "cell_type": "code",
      "metadata": {
        "id": "PhMbYM2SGGj5",
        "colab": {
          "base_uri": "https://localhost:8080/",
          "height": 173
        },
        "outputId": "82a00e8e-85a3-4eb3-d3d7-1db84713f2e3"
      },
      "source": [
        "# Estimation 1 - MS GJR-GARCH (Best BIC:  lag= 1)\n",
        "msgjrgarch <- ts(log(HSCE.df.month$HSCE.VolMSGJRGARCH))\n",
        "lag.msgjrgarch.1 <- ts(Lag(log(HSCE.df.month$HSCE.VolMSGJRGARCH), 1))\n",
        "\n",
        "ols.msgjrgarch <- cbind(msgjrgarch, lag.msgjrgarch.1, \n",
        "                  lag.epu, lag.gepu, lag.vix)\n",
        "\n",
        "model.msgjrgarch.1 <- lm(msgjrgarch ~  lag.msgjrgarch.1, \n",
        "                    data = ols.garch)\n",
        "\n",
        "round(coeftest(model.msgjrgarch.1, NeweyWest(model.msgjrgarch.1, \n",
        "                                        lag = bwNeweyWest(model.msgjrgarch.1), \n",
        "                                        prewhite = F)), 3)\n",
        "\n",
        "round(summary(model.msgjrgarch.1)$adj.r.squared, 3)"
      ],
      "id": "PhMbYM2SGGj5",
      "execution_count": 175,
      "outputs": [
        {
          "output_type": "display_data",
          "data": {
            "text/plain": [
              "\n",
              "t test of coefficients:\n",
              "\n",
              "                 Estimate Std. Error t value  Pr(>|t|)    \n",
              "(Intercept)         0.064      0.016   4.049 < 2.2e-16 ***\n",
              "lag.msgjrgarch.1    0.858      0.032  26.654 < 2.2e-16 ***\n",
              "---\n",
              "Signif. codes:  0 ‘***’ 0.001 ‘**’ 0.01 ‘*’ 0.05 ‘.’ 0.1 ‘ ’ 1\n"
            ]
          },
          "metadata": {}
        },
        {
          "output_type": "display_data",
          "data": {
            "text/plain": [
              "[1] 0.746"
            ],
            "text/latex": "0.746",
            "text/markdown": "0.746",
            "text/html": [
              "0.746"
            ]
          },
          "metadata": {}
        }
      ]
    },
    {
      "cell_type": "code",
      "metadata": {
        "id": "WlDqwOGZGdr5",
        "colab": {
          "base_uri": "https://localhost:8080/",
          "height": 191
        },
        "outputId": "2ff6822a-a849-45d7-c4ac-56f6817c5c79"
      },
      "source": [
        "# Estimation 2 - MS GJR-GARCH (Best BIC:  lag= 1)\n",
        "model.msgjrgarch.2 <- lm(msgjrgarch ~  lag.msgjrgarch.1 + lag.epu, \n",
        "                        data = ols.msgjrgarch)\n",
        "\n",
        "round(coeftest(model.msgjrgarch.2, NeweyWest(model.msgjrgarch.2, \n",
        "                                            lag = bwNeweyWest(model.msgjrgarch.2), \n",
        "                                            prewhite = F)), 3)\n",
        "\n",
        "round(summary(model.msgjrgarch.2)$adj.r.squared, 3)"
      ],
      "id": "WlDqwOGZGdr5",
      "execution_count": 176,
      "outputs": [
        {
          "output_type": "display_data",
          "data": {
            "text/plain": [
              "\n",
              "t test of coefficients:\n",
              "\n",
              "                 Estimate Std. Error t value Pr(>|t|)    \n",
              "(Intercept)         0.095      0.021   4.422   <2e-16 ***\n",
              "lag.msgjrgarch.1    0.843      0.034  24.705   <2e-16 ***\n",
              "lag.epu             0.000      0.000  -2.634    0.009 ** \n",
              "---\n",
              "Signif. codes:  0 ‘***’ 0.001 ‘**’ 0.01 ‘*’ 0.05 ‘.’ 0.1 ‘ ’ 1\n"
            ]
          },
          "metadata": {}
        },
        {
          "output_type": "display_data",
          "data": {
            "text/plain": [
              "[1] 0.754"
            ],
            "text/latex": "0.754",
            "text/markdown": "0.754",
            "text/html": [
              "0.754"
            ]
          },
          "metadata": {}
        }
      ]
    },
    {
      "cell_type": "code",
      "metadata": {
        "id": "jJgCwT8yUMsT",
        "colab": {
          "base_uri": "https://localhost:8080/",
          "height": 191
        },
        "outputId": "1497673a-05ae-4e42-958c-adacaae8801c"
      },
      "source": [
        "# Estimation 3 - MS GJR-GARCH (Best BIC:  lag= 1)\n",
        "model.msgjrgarch.3 <- lm(msgjrgarch ~  lag.msgjrgarch.1 + lag.vix, \n",
        "                        data = ols.msgjrgarch)\n",
        "\n",
        "round(coeftest(model.msgjrgarch.3, NeweyWest(model.msgjrgarch.3, \n",
        "                                            lag = bwNeweyWest(model.msgjrgarch.3), \n",
        "                                            prewhite = F)), 3)\n",
        "\n",
        "round(summary(model.msgjrgarch.3)$adj.r.squared, 3)"
      ],
      "id": "jJgCwT8yUMsT",
      "execution_count": 177,
      "outputs": [
        {
          "output_type": "display_data",
          "data": {
            "text/plain": [
              "\n",
              "t test of coefficients:\n",
              "\n",
              "                 Estimate Std. Error t value Pr(>|t|)    \n",
              "(Intercept)         0.021      0.026   0.794    0.428    \n",
              "lag.msgjrgarch.1    0.808      0.037  21.630   <2e-16 ***\n",
              "lag.vix             0.003      0.002   2.090    0.038 *  \n",
              "---\n",
              "Signif. codes:  0 ‘***’ 0.001 ‘**’ 0.01 ‘*’ 0.05 ‘.’ 0.1 ‘ ’ 1\n"
            ]
          },
          "metadata": {}
        },
        {
          "output_type": "display_data",
          "data": {
            "text/plain": [
              "[1] 0.75"
            ],
            "text/latex": "0.75",
            "text/markdown": "0.75",
            "text/html": [
              "0.75"
            ]
          },
          "metadata": {}
        }
      ]
    },
    {
      "cell_type": "code",
      "metadata": {
        "id": "6P9qZXRPUMWd",
        "colab": {
          "base_uri": "https://localhost:8080/",
          "height": 208
        },
        "outputId": "a2d8e122-020e-483e-911e-266c56bcb01c"
      },
      "source": [
        "# Estimation 4 - MS GJR-GARCH (Best BIC:  lag= 1)\n",
        "model.msgjrgarch.4 <- lm(msgjrgarch ~  lag.msgjrgarch.1 + lag.epu + lag.vix, \n",
        "                        data = ols.msgjrgarch)\n",
        "\n",
        "round(coeftest(model.msgjrgarch.4, NeweyWest(model.msgjrgarch.4, \n",
        "                                            lag = bwNeweyWest(model.msgjrgarch.4), \n",
        "                                            prewhite = F)), 3)\n",
        "\n",
        "round(summary(model.msgjrgarch.4)$adj.r.squared, 3)"
      ],
      "id": "6P9qZXRPUMWd",
      "execution_count": 178,
      "outputs": [
        {
          "output_type": "display_data",
          "data": {
            "text/plain": [
              "\n",
              "t test of coefficients:\n",
              "\n",
              "                 Estimate Std. Error t value Pr(>|t|)    \n",
              "(Intercept)         0.046      0.027   1.719    0.087 .  \n",
              "lag.msgjrgarch.1    0.765      0.043  17.996   <2e-16 ***\n",
              "lag.epu             0.000      0.000  -3.625   <2e-16 ***\n",
              "lag.vix             0.005      0.002   2.773    0.006 ** \n",
              "---\n",
              "Signif. codes:  0 ‘***’ 0.001 ‘**’ 0.01 ‘*’ 0.05 ‘.’ 0.1 ‘ ’ 1\n"
            ]
          },
          "metadata": {}
        },
        {
          "output_type": "display_data",
          "data": {
            "text/plain": [
              "[1] 0.762"
            ],
            "text/latex": "0.762",
            "text/markdown": "0.762",
            "text/html": [
              "0.762"
            ]
          },
          "metadata": {}
        }
      ]
    },
    {
      "cell_type": "code",
      "metadata": {
        "id": "Ps34kcv3ULt3",
        "colab": {
          "base_uri": "https://localhost:8080/",
          "height": 225
        },
        "outputId": "1b123aac-a9a0-481a-ffc8-1a90648f99b8"
      },
      "source": [
        "# Estimation 5 - MS GJR-GARCH (Best BIC:  lag= 1)\n",
        "model.msgjrgarch.5 <- lm(msgjrgarch ~  lag.msgjrgarch.1 + lag.epu + lag.gepu + lag.vix, \n",
        "                        data = ols.msgjrgarch)\n",
        "\n",
        "round(coeftest(model.msgjrgarch.5, NeweyWest(model.msgjrgarch.5, \n",
        "                                            lag = bwNeweyWest(model.msgjrgarch.5), \n",
        "                                            prewhite = F)), 3)\n",
        "\n",
        "round(summary(model.msgjrgarch.5)$adj.r.squared, 3)"
      ],
      "id": "Ps34kcv3ULt3",
      "execution_count": 179,
      "outputs": [
        {
          "output_type": "display_data",
          "data": {
            "text/plain": [
              "\n",
              "t test of coefficients:\n",
              "\n",
              "                 Estimate Std. Error t value Pr(>|t|)    \n",
              "(Intercept)         0.081      0.033   2.429    0.016 *  \n",
              "lag.msgjrgarch.1    0.748      0.044  17.016   <2e-16 ***\n",
              "lag.epu             0.000      0.000   0.465    0.642    \n",
              "lag.gepu           -0.001      0.000  -1.779    0.077 .  \n",
              "lag.vix             0.006      0.002   3.057    0.002 ** \n",
              "---\n",
              "Signif. codes:  0 ‘***’ 0.001 ‘**’ 0.01 ‘*’ 0.05 ‘.’ 0.1 ‘ ’ 1\n"
            ]
          },
          "metadata": {}
        },
        {
          "output_type": "display_data",
          "data": {
            "text/plain": [
              "[1] 0.764"
            ],
            "text/latex": "0.764",
            "text/markdown": "0.764",
            "text/html": [
              "0.764"
            ]
          },
          "metadata": {}
        }
      ]
    }
  ]
}