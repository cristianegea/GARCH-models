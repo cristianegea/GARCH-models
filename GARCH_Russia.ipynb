{
  "nbformat": 4,
  "nbformat_minor": 5,
  "metadata": {
    "kernelspec": {
      "display_name": "R",
      "language": "R",
      "name": "ir"
    },
    "language_info": {
      "codemirror_mode": "r",
      "file_extension": ".r",
      "mimetype": "text/x-r-source",
      "name": "R",
      "pygments_lexer": "r",
      "version": "3.6.1"
    },
    "colab": {
      "name": "GARCH_Russia.ipynb",
      "provenance": [],
      "collapsed_sections": []
    }
  },
  "cells": [
    {
      "cell_type": "markdown",
      "metadata": {
        "id": "10c9fc70"
      },
      "source": [
        "# Analysis of stock returns forecasts"
      ],
      "id": "10c9fc70"
    },
    {
      "cell_type": "markdown",
      "metadata": {
        "id": "0a03ea35"
      },
      "source": [
        "**Reference**: Realized GARCH models: Simpler is better (Xie & Yu, 2019)\n",
        "\n",
        "Sample: Russia (IMOEX.ME)"
      ],
      "id": "0a03ea35"
    },
    {
      "cell_type": "code",
      "metadata": {
        "id": "66c60229"
      },
      "source": [
        "# Memory clearing\n",
        "rm(list=ls())"
      ],
      "id": "66c60229",
      "execution_count": 1,
      "outputs": []
    },
    {
      "cell_type": "markdown",
      "metadata": {
        "id": "5e52a103"
      },
      "source": [
        "## 1. Data import"
      ],
      "id": "5e52a103"
    },
    {
      "cell_type": "code",
      "metadata": {
        "colab": {
          "base_uri": "https://localhost:8080/"
        },
        "id": "a015db89",
        "outputId": "08a13c9c-8547-4eae-e071-ddeb46e50361"
      },
      "source": [
        "# Packages\n",
        "install.packages('quantmod')\n",
        "install.packages('tidyquant')\n",
        "install.packages('PerformanceAnalytics')\n",
        "\n",
        "library(quantmod)\n",
        "library(tidyquant)\n",
        "library(PerformanceAnalytics)"
      ],
      "id": "a015db89",
      "execution_count": 2,
      "outputs": [
        {
          "output_type": "stream",
          "text": [
            "Installing package into ‘/usr/local/lib/R/site-library’\n",
            "(as ‘lib’ is unspecified)\n",
            "\n",
            "also installing the dependencies ‘xts’, ‘zoo’, ‘TTR’\n",
            "\n",
            "\n",
            "Installing package into ‘/usr/local/lib/R/site-library’\n",
            "(as ‘lib’ is unspecified)\n",
            "\n",
            "also installing the dependencies ‘numDeriv’, ‘SQUAREM’, ‘lava’, ‘listenv’, ‘parallelly’, ‘prodlim’, ‘future’, ‘globals’, ‘later’, ‘gower’, ‘ipred’, ‘furrr’, ‘htmlwidgets’, ‘crosstalk’, ‘promises’, ‘warp’, ‘fracdiff’, ‘lmtest’, ‘tseries’, ‘urca’, ‘RcppArmadillo’, ‘quadprog’, ‘recipes’, ‘rsample’, ‘plotly’, ‘padr’, ‘slider’, ‘anytime’, ‘forecast’, ‘snakecase’, ‘PerformanceAnalytics’, ‘lazyeval’, ‘Quandl’, ‘riingo’, ‘alphavantager’, ‘timetk’, ‘timeDate’, ‘janitor’\n",
            "\n",
            "\n",
            "Installing package into ‘/usr/local/lib/R/site-library’\n",
            "(as ‘lib’ is unspecified)\n",
            "\n",
            "Loading required package: xts\n",
            "\n",
            "Loading required package: zoo\n",
            "\n",
            "\n",
            "Attaching package: ‘zoo’\n",
            "\n",
            "\n",
            "The following objects are masked from ‘package:base’:\n",
            "\n",
            "    as.Date, as.Date.numeric\n",
            "\n",
            "\n",
            "Loading required package: TTR\n",
            "\n",
            "Registered S3 method overwritten by 'quantmod':\n",
            "  method            from\n",
            "  as.zoo.data.frame zoo \n",
            "\n",
            "Loading required package: lubridate\n",
            "\n",
            "Warning message in system(\"timedatectl\", intern = TRUE):\n",
            "“running command 'timedatectl' had status 1”\n",
            "\n",
            "Attaching package: ‘lubridate’\n",
            "\n",
            "\n",
            "The following objects are masked from ‘package:base’:\n",
            "\n",
            "    date, intersect, setdiff, union\n",
            "\n",
            "\n",
            "Loading required package: PerformanceAnalytics\n",
            "\n",
            "\n",
            "Attaching package: ‘PerformanceAnalytics’\n",
            "\n",
            "\n",
            "The following object is masked from ‘package:graphics’:\n",
            "\n",
            "    legend\n",
            "\n",
            "\n",
            "\u001b[30m══\u001b[39m \u001b[30mNeed to Learn tidyquant?\u001b[39m \u001b[30m════════════════════════════════════════════════════\u001b[39m\u001b[34m\n",
            "Business Science offers a 1-hour course - Learning Lab #9: Performance Analysis & Portfolio Optimization with tidyquant!\n",
            "\u001b[39m\u001b[34m</> Learn more at: https://university.business-science.io/p/learning-labs-pro </>\u001b[39m\n",
            "\n"
          ],
          "name": "stderr"
        }
      ]
    },
    {
      "cell_type": "markdown",
      "metadata": {
        "id": "77462b8b-5261-4090-9001-2c344b610bd8"
      },
      "source": [
        "**Reading the datas (Source: Yahoo Finance)**"
      ],
      "id": "77462b8b-5261-4090-9001-2c344b610bd8"
    },
    {
      "cell_type": "code",
      "metadata": {
        "colab": {
          "base_uri": "https://localhost:8080/",
          "height": 258
        },
        "id": "90849e76",
        "outputId": "489bf7ba-da97-4686-921a-2c0ed8f015b0"
      },
      "source": [
        "getSymbols(\"IMOEX.ME\", from = '2000-01-01', to = '2021-05-31') "
      ],
      "id": "90849e76",
      "execution_count": 3,
      "outputs": [
        {
          "output_type": "stream",
          "text": [
            "‘getSymbols’ currently uses auto.assign=TRUE by default, but will\n",
            "use auto.assign=FALSE in 0.5-0. You will still be able to use\n",
            "‘loadSymbols’ to automatically load data. getOption(\"getSymbols.env\")\n",
            "and getOption(\"getSymbols.auto.assign\") will still be checked for\n",
            "alternate defaults.\n",
            "\n",
            "This message is shown once per session and may be disabled by setting \n",
            "options(\"getSymbols.warning4.0\"=FALSE). See ?getSymbols for details.\n",
            "\n",
            "\n",
            "Warning message:\n",
            "“IMOEX.ME contains missing values. Some functions will not work if objects contain missing values in the middle of the series. Consider using na.omit(), na.approx(), na.fill(), etc to remove or replace them.”\n"
          ],
          "name": "stderr"
        },
        {
          "output_type": "display_data",
          "data": {
            "text/plain": [
              "[1] \"IMOEX.ME\""
            ],
            "text/latex": "'IMOEX.ME'",
            "text/markdown": "'IMOEX.ME'",
            "text/html": [
              "'IMOEX.ME'"
            ]
          },
          "metadata": {
            "tags": []
          }
        }
      ]
    },
    {
      "cell_type": "markdown",
      "metadata": {
        "id": "37fcac8f-663c-4ab6-a2ec-d3dfb628e1d8"
      },
      "source": [
        "**Checking data frequency**"
      ],
      "id": "37fcac8f-663c-4ab6-a2ec-d3dfb628e1d8"
    },
    {
      "cell_type": "code",
      "metadata": {
        "colab": {
          "base_uri": "https://localhost:8080/",
          "height": 34
        },
        "id": "cf681b78-5138-4ee8-aee3-2e93db60bece",
        "outputId": "aba1869e-84fb-4493-80d7-107c36cde965"
      },
      "source": [
        "periodicity(IMOEX.ME)        "
      ],
      "id": "cf681b78-5138-4ee8-aee3-2e93db60bece",
      "execution_count": 4,
      "outputs": [
        {
          "output_type": "display_data",
          "data": {
            "text/plain": [
              "Daily periodicity from 2013-03-05 to 2021-05-28 "
            ]
          },
          "metadata": {
            "tags": []
          }
        }
      ]
    },
    {
      "cell_type": "markdown",
      "metadata": {
        "id": "7d452205-8ea1-461b-a15f-682cc4b96318"
      },
      "source": [
        "**Identifying missing values (%)**"
      ],
      "id": "7d452205-8ea1-461b-a15f-682cc4b96318"
    },
    {
      "cell_type": "code",
      "metadata": {
        "colab": {
          "base_uri": "https://localhost:8080/",
          "height": 68
        },
        "id": "7d329e61-d1a6-4c17-82ad-0a4ea31d0232",
        "outputId": "58ea9d81-0615-4619-b3d6-d9e784385e9f"
      },
      "source": [
        "round(prop.table(table(is.na(IMOEX.ME)))*100, digits = 2)       "
      ],
      "id": "7d329e61-d1a6-4c17-82ad-0a4ea31d0232",
      "execution_count": 5,
      "outputs": [
        {
          "output_type": "display_data",
          "data": {
            "text/plain": [
              "\n",
              "FALSE  TRUE \n",
              "98.16  1.84 "
            ]
          },
          "metadata": {
            "tags": []
          }
        }
      ]
    },
    {
      "cell_type": "markdown",
      "metadata": {
        "id": "b3787f51-b9fb-458d-b650-5c19b0c22c44"
      },
      "source": [
        "**Removing missing values**"
      ],
      "id": "b3787f51-b9fb-458d-b650-5c19b0c22c44"
    },
    {
      "cell_type": "code",
      "metadata": {
        "id": "4c168321-5b36-4058-b5fc-c9170fc50afd",
        "colab": {
          "base_uri": "https://localhost:8080/",
          "height": 68
        },
        "outputId": "653d7ab4-6761-4cbe-e829-3727160aaf59"
      },
      "source": [
        "IMOEX.ME <- na.omit(IMOEX.ME)    \n",
        "round(prop.table(table(is.na(IMOEX.ME)))*100, digits = 2)         "
      ],
      "id": "4c168321-5b36-4058-b5fc-c9170fc50afd",
      "execution_count": 6,
      "outputs": [
        {
          "output_type": "display_data",
          "data": {
            "text/plain": [
              "\n",
              "FALSE \n",
              "  100 "
            ]
          },
          "metadata": {
            "tags": []
          }
        }
      ]
    },
    {
      "cell_type": "markdown",
      "metadata": {
        "id": "ef01dac6-72b2-4ec0-b160-1fbdf579a04e"
      },
      "source": [
        "**Removing unnecessary features**"
      ],
      "id": "ef01dac6-72b2-4ec0-b160-1fbdf579a04e"
    },
    {
      "cell_type": "code",
      "metadata": {
        "colab": {
          "base_uri": "https://localhost:8080/",
          "height": 136
        },
        "id": "ea0759f7-0353-404b-b206-98bc5c35d66a",
        "outputId": "81fa059b-8904-4013-979c-874b3c1e8288"
      },
      "source": [
        "IMOEX.ME.df <- IMOEX.ME[,'IMOEX.ME.Close']                              \n",
        "head(IMOEX.ME.df)"
      ],
      "id": "ea0759f7-0353-404b-b206-98bc5c35d66a",
      "execution_count": 7,
      "outputs": [
        {
          "output_type": "display_data",
          "data": {
            "text/plain": [
              "           IMOEX.ME.Close\n",
              "2013-03-05        1486.42\n",
              "2013-03-06        1491.49\n",
              "2013-03-07        1491.35\n",
              "2013-03-11        1505.93\n",
              "2013-03-12        1499.74\n",
              "2013-03-13        1495.88"
            ]
          },
          "metadata": {
            "tags": []
          }
        }
      ]
    },
    {
      "cell_type": "markdown",
      "metadata": {
        "id": "00ce5730-0246-4093-8c80-b0aa48bade58"
      },
      "source": [
        "**Calculating log-returns**"
      ],
      "id": "00ce5730-0246-4093-8c80-b0aa48bade58"
    },
    {
      "cell_type": "code",
      "metadata": {
        "colab": {
          "base_uri": "https://localhost:8080/",
          "height": 136
        },
        "id": "a39fe789-889c-4974-9e5e-141050303ac9",
        "outputId": "ad887cf1-5b27-4771-8eef-8356072f0023"
      },
      "source": [
        "logreturn <- diff(log(IMOEX.ME.df$IMOEX.ME.Close))*100                     \n",
        "head(logreturn)"
      ],
      "id": "a39fe789-889c-4974-9e5e-141050303ac9",
      "execution_count": 8,
      "outputs": [
        {
          "output_type": "display_data",
          "data": {
            "text/plain": [
              "           IMOEX.ME.Close\n",
              "2013-03-05             NA\n",
              "2013-03-06    0.340503967\n",
              "2013-03-07   -0.009387966\n",
              "2013-03-11    0.972894949\n",
              "2013-03-12   -0.411893033\n",
              "2013-03-13   -0.257708731"
            ]
          },
          "metadata": {
            "tags": []
          }
        }
      ]
    },
    {
      "cell_type": "markdown",
      "metadata": {
        "id": "83e12642-5c42-4a95-963f-809884d6bf7f"
      },
      "source": [
        "**Aggregating the data**"
      ],
      "id": "83e12642-5c42-4a95-963f-809884d6bf7f"
    },
    {
      "cell_type": "code",
      "metadata": {
        "colab": {
          "base_uri": "https://localhost:8080/",
          "height": 136
        },
        "id": "25c57967-90a6-4684-9b14-9a5c0867c38b",
        "outputId": "caa4ed69-0b7f-442d-8652-2ae782dec807"
      },
      "source": [
        "IMOEX.ME.df$IMOEX.ME.Return <- logreturn                  \n",
        "IMOEX.ME.df <- na.omit(IMOEX.ME.df)\n",
        "head(IMOEX.ME.df)"
      ],
      "id": "25c57967-90a6-4684-9b14-9a5c0867c38b",
      "execution_count": 9,
      "outputs": [
        {
          "output_type": "display_data",
          "data": {
            "text/plain": [
              "           IMOEX.ME.Close IMOEX.ME.Return\n",
              "2013-03-06        1491.49     0.340503967\n",
              "2013-03-07        1491.35    -0.009387966\n",
              "2013-03-11        1505.93     0.972894949\n",
              "2013-03-12        1499.74    -0.411893033\n",
              "2013-03-13        1495.88    -0.257708731\n",
              "2013-03-14        1502.52     0.442904602"
            ]
          },
          "metadata": {
            "tags": []
          }
        }
      ]
    },
    {
      "cell_type": "markdown",
      "metadata": {
        "id": "d5366ab1-99ff-4fc7-ba7c-e62d184424bd"
      },
      "source": [
        "**Identifying missing values (%)**"
      ],
      "id": "d5366ab1-99ff-4fc7-ba7c-e62d184424bd"
    },
    {
      "cell_type": "code",
      "metadata": {
        "colab": {
          "base_uri": "https://localhost:8080/",
          "height": 68
        },
        "id": "66ab6572-9a4d-4703-adb4-0405d06b5783",
        "outputId": "2f9566dd-901c-45e7-aa6e-fbcedc0ae3c7"
      },
      "source": [
        "round(prop.table(table(is.na(IMOEX.ME.df)))*100, digits = 2)       "
      ],
      "id": "66ab6572-9a4d-4703-adb4-0405d06b5783",
      "execution_count": 10,
      "outputs": [
        {
          "output_type": "display_data",
          "data": {
            "text/plain": [
              "\n",
              "FALSE \n",
              "  100 "
            ]
          },
          "metadata": {
            "tags": []
          }
        }
      ]
    },
    {
      "cell_type": "markdown",
      "metadata": {
        "id": "8a8dac53-aaa9-48b4-b345-44958dd87d9a"
      },
      "source": [
        "## 2. Graph analysis"
      ],
      "id": "8a8dac53-aaa9-48b4-b345-44958dd87d9a"
    },
    {
      "cell_type": "code",
      "metadata": {
        "id": "aadcb8e0-582a-435f-864c-a43651d7e6a6",
        "colab": {
          "base_uri": "https://localhost:8080/"
        },
        "outputId": "faa25812-2e27-4dec-cfca-747f286e02ce"
      },
      "source": [
        "# Package\n",
        "install.packages('xts')\n",
        "install.packages('ggplot2')\n",
        "install.packages('gridExtra')\n",
        "\n",
        "library(xts)\n",
        "library(ggplot2)\n",
        "library(gridExtra)"
      ],
      "id": "aadcb8e0-582a-435f-864c-a43651d7e6a6",
      "execution_count": 11,
      "outputs": [
        {
          "output_type": "stream",
          "text": [
            "Installing package into ‘/usr/local/lib/R/site-library’\n",
            "(as ‘lib’ is unspecified)\n",
            "\n",
            "Installing package into ‘/usr/local/lib/R/site-library’\n",
            "(as ‘lib’ is unspecified)\n",
            "\n",
            "Installing package into ‘/usr/local/lib/R/site-library’\n",
            "(as ‘lib’ is unspecified)\n",
            "\n"
          ],
          "name": "stderr"
        }
      ]
    },
    {
      "cell_type": "markdown",
      "metadata": {
        "id": "0dc149bd-ea9f-4227-9807-c33fa1636347"
      },
      "source": [
        "**Price & Return charts**"
      ],
      "id": "0dc149bd-ea9f-4227-9807-c33fa1636347"
    },
    {
      "cell_type": "code",
      "metadata": {
        "colab": {
          "base_uri": "https://localhost:8080/",
          "height": 505
        },
        "id": "4a7ba28a-a574-47a6-8368-2111f43c7bd3",
        "outputId": "b68c2f59-bbed-48f8-8889-53fee42119ee"
      },
      "source": [
        "# Price chart\n",
        "graph1 <- ggplot(IMOEX.ME.df,\n",
        "                aes(x = index(IMOEX.ME.df), y = IMOEX.ME.df[,'IMOEX.ME.Close'])) +\n",
        "                geom_line(color = \"black\") +\n",
        "                ggtitle(\"Russia\") +\n",
        "                xlab(\"Date\") +\n",
        "                ylab(\"Closing prices ($)\") +\n",
        "                theme(plot.title = element_text(hjust = 0.5))\n",
        "\n",
        "# Return chart\n",
        "graph2 <- ggplot(IMOEX.ME.df,\n",
        "                aes(x = index(IMOEX.ME.df), y = IMOEX.ME.df[,'IMOEX.ME.Return'])) +\n",
        "                geom_line(color = \"black\") +\n",
        "                ggtitle(\"Russia\") +\n",
        "                xlab(\"Date\") +\n",
        "                ylab(\"Return\") +\n",
        "                theme(plot.title = element_text(hjust = 0.5))\n",
        "\n",
        "grid.arrange(graph1, graph2, ncol = 1, nrow = 2)"
      ],
      "id": "4a7ba28a-a574-47a6-8368-2111f43c7bd3",
      "execution_count": 12,
      "outputs": [
        {
          "output_type": "stream",
          "text": [
            "Don't know how to automatically pick scale for object of type xts/zoo. Defaulting to continuous.\n",
            "\n",
            "Don't know how to automatically pick scale for object of type xts/zoo. Defaulting to continuous.\n",
            "\n"
          ],
          "name": "stderr"
        },
        {
          "output_type": "display_data",
          "data": {
            "image/png": "[encoded data removed]",
            "text/plain": [
              "plot without title"
            ]
          },
          "metadata": {
            "tags": [],
            "image/png": {
              "width": 420,
              "height": 420
            }
          }
        }
      ]
    },
    {
      "cell_type": "markdown",
      "metadata": {
        "id": "2fb985b6-91a7-43fe-ba22-5663a6d63477"
      },
      "source": [
        "## 3. Descriptive statistic"
      ],
      "id": "2fb985b6-91a7-43fe-ba22-5663a6d63477"
    },
    {
      "cell_type": "code",
      "metadata": {
        "colab": {
          "base_uri": "https://localhost:8080/"
        },
        "id": "5cba5803-a987-4c14-aa9b-d9337afb3512",
        "outputId": "99403b50-1783-4b5d-b573-e1f62348d51b"
      },
      "source": [
        "# Packages\n",
        "install.packages('moments')\n",
        "\n",
        "library(moments)"
      ],
      "id": "5cba5803-a987-4c14-aa9b-d9337afb3512",
      "execution_count": 13,
      "outputs": [
        {
          "output_type": "stream",
          "text": [
            "Installing package into ‘/usr/local/lib/R/site-library’\n",
            "(as ‘lib’ is unspecified)\n",
            "\n",
            "\n",
            "Attaching package: ‘moments’\n",
            "\n",
            "\n",
            "The following objects are masked from ‘package:PerformanceAnalytics’:\n",
            "\n",
            "    kurtosis, skewness\n",
            "\n",
            "\n"
          ],
          "name": "stderr"
        }
      ]
    },
    {
      "cell_type": "markdown",
      "metadata": {
        "id": "69bbfe9a-7c71-415d-89a4-7a7f70b88e9d"
      },
      "source": [
        "**Descriptive statistic**"
      ],
      "id": "69bbfe9a-7c71-415d-89a4-7a7f70b88e9d"
    },
    {
      "cell_type": "code",
      "metadata": {
        "colab": {
          "base_uri": "https://localhost:8080/",
          "height": 34
        },
        "id": "b282c2d9-b582-4a89-8f56-b23b6ade6202",
        "outputId": "a9b20e4e-6db9-47a0-c07a-3f553accc2ab"
      },
      "source": [
        "# mean\n",
        "round(mean(IMOEX.ME.df$IMOEX.ME.Return), 3)                         "
      ],
      "id": "b282c2d9-b582-4a89-8f56-b23b6ade6202",
      "execution_count": 14,
      "outputs": [
        {
          "output_type": "display_data",
          "data": {
            "text/plain": [
              "[1] 0.045"
            ],
            "text/latex": "0.045",
            "text/markdown": "0.045",
            "text/html": [
              "0.045"
            ]
          },
          "metadata": {
            "tags": []
          }
        }
      ]
    },
    {
      "cell_type": "code",
      "metadata": {
        "colab": {
          "base_uri": "https://localhost:8080/",
          "height": 34
        },
        "id": "a0fefd4e-8b2e-4bf2-aa7f-1dfc0d2d1892",
        "outputId": "ca62afbf-66e2-456d-ec98-641ae6beaae2"
      },
      "source": [
        "# sd\n",
        "round(sd(IMOEX.ME.df$IMOEX.ME.Return), 3)                           "
      ],
      "id": "a0fefd4e-8b2e-4bf2-aa7f-1dfc0d2d1892",
      "execution_count": 15,
      "outputs": [
        {
          "output_type": "display_data",
          "data": {
            "text/plain": [
              "[1] 1.175"
            ],
            "text/latex": "1.175",
            "text/markdown": "1.175",
            "text/html": [
              "1.175"
            ]
          },
          "metadata": {
            "tags": []
          }
        }
      ]
    },
    {
      "cell_type": "code",
      "metadata": {
        "colab": {
          "base_uri": "https://localhost:8080/",
          "height": 34
        },
        "id": "e5f57896-f56d-416f-9cbf-4217d00ffb72",
        "outputId": "1e8c46e3-8573-4e65-fb2e-4145b7e394bf"
      },
      "source": [
        "# skewness\n",
        "round(skewness(IMOEX.ME.df$IMOEX.ME.Return), 3)                     "
      ],
      "id": "e5f57896-f56d-416f-9cbf-4217d00ffb72",
      "execution_count": 16,
      "outputs": [
        {
          "output_type": "display_data",
          "data": {
            "text/plain": [
              "IMOEX.ME.Return \n",
              "         -0.662 "
            ],
            "text/latex": "\\textbf{IMOEX.ME.Return:} -0.662",
            "text/markdown": "**IMOEX.ME.Return:** -0.662",
            "text/html": [
              "<strong>IMOEX.ME.Return:</strong> -0.662"
            ]
          },
          "metadata": {
            "tags": []
          }
        }
      ]
    },
    {
      "cell_type": "code",
      "metadata": {
        "colab": {
          "base_uri": "https://localhost:8080/",
          "height": 34
        },
        "id": "04580b0d-e33e-4a03-8c3c-72c205253ed2",
        "outputId": "1a2e5d2c-56f7-473e-aa8d-92280cf8b160"
      },
      "source": [
        "# kurtosis\n",
        "round(kurtosis(IMOEX.ME.df$IMOEX.ME.Return), 3)                     "
      ],
      "id": "04580b0d-e33e-4a03-8c3c-72c205253ed2",
      "execution_count": 17,
      "outputs": [
        {
          "output_type": "display_data",
          "data": {
            "text/plain": [
              "IMOEX.ME.Return \n",
              "         15.324 "
            ],
            "text/latex": "\\textbf{IMOEX.ME.Return:} 15.324",
            "text/markdown": "**IMOEX.ME.Return:** 15.324",
            "text/html": [
              "<strong>IMOEX.ME.Return:</strong> 15.324"
            ]
          },
          "metadata": {
            "tags": []
          }
        }
      ]
    },
    {
      "cell_type": "code",
      "metadata": {
        "colab": {
          "base_uri": "https://localhost:8080/",
          "height": 34
        },
        "id": "515839a1-874b-4639-b9a2-1f0f24f844cd",
        "outputId": "77074d4d-7b4c-4c59-a773-c60fe334c533"
      },
      "source": [
        "# min\n",
        "round(min(IMOEX.ME.df$IMOEX.ME.Return), 3)                          "
      ],
      "id": "515839a1-874b-4639-b9a2-1f0f24f844cd",
      "execution_count": 18,
      "outputs": [
        {
          "output_type": "display_data",
          "data": {
            "text/plain": [
              "[1] -11.419"
            ],
            "text/latex": "-11.419",
            "text/markdown": "-11.419",
            "text/html": [
              "-11.419"
            ]
          },
          "metadata": {
            "tags": []
          }
        }
      ]
    },
    {
      "cell_type": "code",
      "metadata": {
        "colab": {
          "base_uri": "https://localhost:8080/",
          "height": 34
        },
        "id": "3b88ac9d-baad-40df-913b-511417327e3a",
        "outputId": "371d9bba-04d4-42f5-aaf2-7cec31f7c520"
      },
      "source": [
        "# p5\n",
        "round(quantile(IMOEX.ME.df$IMOEX.ME.Return, probs = 0.05), 3)       "
      ],
      "id": "3b88ac9d-baad-40df-913b-511417327e3a",
      "execution_count": 19,
      "outputs": [
        {
          "output_type": "display_data",
          "data": {
            "text/plain": [
              "    5% \n",
              "-1.676 "
            ],
            "text/latex": "\\textbf{5\\textbackslash{}\\%:} -1.676",
            "text/markdown": "**5%:** -1.676",
            "text/html": [
              "<strong>5%:</strong> -1.676"
            ]
          },
          "metadata": {
            "tags": []
          }
        }
      ]
    },
    {
      "cell_type": "code",
      "metadata": {
        "colab": {
          "base_uri": "https://localhost:8080/",
          "height": 34
        },
        "id": "47455c1f-33d8-4811-955a-03286ad779bc",
        "outputId": "d86b32c8-f37f-429a-b71c-40db664ce733"
      },
      "source": [
        "# p25\n",
        "round(quantile(IMOEX.ME.df$IMOEX.ME.Return, probs = 0.25), 3)       "
      ],
      "id": "47455c1f-33d8-4811-955a-03286ad779bc",
      "execution_count": 20,
      "outputs": [
        {
          "output_type": "display_data",
          "data": {
            "text/plain": [
              "   25% \n",
              "-0.564 "
            ],
            "text/latex": "\\textbf{25\\textbackslash{}\\%:} -0.564",
            "text/markdown": "**25%:** -0.564",
            "text/html": [
              "<strong>25%:</strong> -0.564"
            ]
          },
          "metadata": {
            "tags": []
          }
        }
      ]
    },
    {
      "cell_type": "code",
      "metadata": {
        "colab": {
          "base_uri": "https://localhost:8080/",
          "height": 34
        },
        "id": "a6516b44-9009-4d73-9216-cd6d7ce1aa75",
        "outputId": "1d57c2c9-8d50-46e1-849f-1f1c1ea89134"
      },
      "source": [
        "# median\n",
        "round(median(IMOEX.ME.df$IMOEX.ME.Return), 3)                       "
      ],
      "id": "a6516b44-9009-4d73-9216-cd6d7ce1aa75",
      "execution_count": 21,
      "outputs": [
        {
          "output_type": "display_data",
          "data": {
            "text/plain": [
              "[1] 0.05"
            ],
            "text/latex": "0.05",
            "text/markdown": "0.05",
            "text/html": [
              "0.05"
            ]
          },
          "metadata": {
            "tags": []
          }
        }
      ]
    },
    {
      "cell_type": "code",
      "metadata": {
        "colab": {
          "base_uri": "https://localhost:8080/",
          "height": 34
        },
        "id": "a86278a2-66fa-4421-8432-6a68176eebc8",
        "outputId": "a99c5d8d-b325-4fce-a9da-fdd59cac1c71"
      },
      "source": [
        "# p75\n",
        "round(quantile(IMOEX.ME.df$IMOEX.ME.Return, probs = 0.75), 3)       "
      ],
      "id": "a86278a2-66fa-4421-8432-6a68176eebc8",
      "execution_count": 22,
      "outputs": [
        {
          "output_type": "display_data",
          "data": {
            "text/plain": [
              "  75% \n",
              "0.691 "
            ],
            "text/latex": "\\textbf{75\\textbackslash{}\\%:} 0.691",
            "text/markdown": "**75%:** 0.691",
            "text/html": [
              "<strong>75%:</strong> 0.691"
            ]
          },
          "metadata": {
            "tags": []
          }
        }
      ]
    },
    {
      "cell_type": "code",
      "metadata": {
        "colab": {
          "base_uri": "https://localhost:8080/",
          "height": 34
        },
        "id": "be64d68b-c5cc-42d9-b55d-bbfca6846cf8",
        "outputId": "a2eda904-0ddb-409d-b108-59761b9e472f"
      },
      "source": [
        "# p95\n",
        "round(quantile(IMOEX.ME.df$IMOEX.ME.Return, probs = 0.95), 3)       "
      ],
      "id": "be64d68b-c5cc-42d9-b55d-bbfca6846cf8",
      "execution_count": 23,
      "outputs": [
        {
          "output_type": "display_data",
          "data": {
            "text/plain": [
              " 95% \n",
              "1.76 "
            ],
            "text/latex": "\\textbf{95\\textbackslash{}\\%:} 1.76",
            "text/markdown": "**95%:** 1.76",
            "text/html": [
              "<strong>95%:</strong> 1.76"
            ]
          },
          "metadata": {
            "tags": []
          }
        }
      ]
    },
    {
      "cell_type": "code",
      "metadata": {
        "colab": {
          "base_uri": "https://localhost:8080/",
          "height": 34
        },
        "id": "ecf88ca5-5576-4cfb-a9f2-225db45f12af",
        "outputId": "47a63af2-65e0-47c3-de35-4eddfe30001f"
      },
      "source": [
        "# max\n",
        "round(max(IMOEX.ME.df$IMOEX.ME.Return), 3)                          "
      ],
      "id": "ecf88ca5-5576-4cfb-a9f2-225db45f12af",
      "execution_count": 24,
      "outputs": [
        {
          "output_type": "display_data",
          "data": {
            "text/plain": [
              "[1] 9.367"
            ],
            "text/latex": "9.367",
            "text/markdown": "9.367",
            "text/html": [
              "9.367"
            ]
          },
          "metadata": {
            "tags": []
          }
        }
      ]
    },
    {
      "cell_type": "code",
      "metadata": {
        "colab": {
          "base_uri": "https://localhost:8080/",
          "height": 34
        },
        "id": "1679dd88-86bc-4041-ad68-7c1899c799a4",
        "outputId": "96a9f13f-4055-4584-8a55-7af9475809d7"
      },
      "source": [
        "# n observations\n",
        "length(IMOEX.ME.df$IMOEX.ME.Return)                                 "
      ],
      "id": "1679dd88-86bc-4041-ad68-7c1899c799a4",
      "execution_count": 25,
      "outputs": [
        {
          "output_type": "display_data",
          "data": {
            "text/plain": [
              "[1] 2026"
            ],
            "text/latex": "2026",
            "text/markdown": "2026",
            "text/html": [
              "2026"
            ]
          },
          "metadata": {
            "tags": []
          }
        }
      ]
    },
    {
      "cell_type": "markdown",
      "metadata": {
        "id": "7d7f50bf-3414-409f-abaf-59204b4eaed3"
      },
      "source": [
        "## 4. Series normality analysis"
      ],
      "id": "7d7f50bf-3414-409f-abaf-59204b4eaed3"
    },
    {
      "cell_type": "code",
      "metadata": {
        "id": "2a3ad960-3a87-48a4-bff0-b20498343432"
      },
      "source": [
        "# Package\n",
        "library(tseries)"
      ],
      "id": "2a3ad960-3a87-48a4-bff0-b20498343432",
      "execution_count": 26,
      "outputs": []
    },
    {
      "cell_type": "code",
      "metadata": {
        "colab": {
          "base_uri": "https://localhost:8080/",
          "height": 102
        },
        "id": "49b52423-cbd3-41df-9c5e-6074e2c1a911",
        "outputId": "eecd738a-b459-4879-dbba-5d4074f27865"
      },
      "source": [
        "jarque.bera.test(IMOEX.ME.df$IMOEX.ME.Return)"
      ],
      "id": "49b52423-cbd3-41df-9c5e-6074e2c1a911",
      "execution_count": 27,
      "outputs": [
        {
          "output_type": "display_data",
          "data": {
            "text/plain": [
              "\n",
              "\tJarque Bera Test\n",
              "\n",
              "data:  IMOEX.ME.df$IMOEX.ME.Return\n",
              "X-squared = 12969, df = 2, p-value < 2.2e-16\n"
            ]
          },
          "metadata": {
            "tags": []
          }
        }
      ]
    },
    {
      "cell_type": "markdown",
      "metadata": {
        "id": "5b8f4698-26c6-4675-886e-b5e9a72061ac"
      },
      "source": [
        "## 5. Autocorrelation pattern analysis"
      ],
      "id": "5b8f4698-26c6-4675-886e-b5e9a72061ac"
    },
    {
      "cell_type": "code",
      "metadata": {
        "id": "0b5c4562-547f-4763-8ea8-396761d8ddc3",
        "colab": {
          "base_uri": "https://localhost:8080/"
        },
        "outputId": "48761691-7ef0-424a-d3db-e162639a2141"
      },
      "source": [
        "# Packages\n",
        "install.packages('TSA')\n",
        "install.packages('aTSA')\n",
        "install.packages('FinTS')\n",
        "\n",
        "library(TSA)\n",
        "library(aTSA)\n",
        "library(FinTS)"
      ],
      "id": "0b5c4562-547f-4763-8ea8-396761d8ddc3",
      "execution_count": 28,
      "outputs": [
        {
          "output_type": "stream",
          "text": [
            "Installing package into ‘/usr/local/lib/R/site-library’\n",
            "(as ‘lib’ is unspecified)\n",
            "\n",
            "also installing the dependencies ‘leaps’, ‘locfit’\n",
            "\n",
            "\n",
            "Installing package into ‘/usr/local/lib/R/site-library’\n",
            "(as ‘lib’ is unspecified)\n",
            "\n",
            "Installing package into ‘/usr/local/lib/R/site-library’\n",
            "(as ‘lib’ is unspecified)\n",
            "\n",
            "\n",
            "Attaching package: ‘TSA’\n",
            "\n",
            "\n",
            "The following objects are masked from ‘package:moments’:\n",
            "\n",
            "    kurtosis, skewness\n",
            "\n",
            "\n",
            "The following objects are masked from ‘package:PerformanceAnalytics’:\n",
            "\n",
            "    kurtosis, skewness\n",
            "\n",
            "\n",
            "The following objects are masked from ‘package:stats’:\n",
            "\n",
            "    acf, arima\n",
            "\n",
            "\n",
            "The following object is masked from ‘package:utils’:\n",
            "\n",
            "    tar\n",
            "\n",
            "\n",
            "\n",
            "Attaching package: ‘aTSA’\n",
            "\n",
            "\n",
            "The following objects are masked from ‘package:tseries’:\n",
            "\n",
            "    adf.test, kpss.test, pp.test\n",
            "\n",
            "\n",
            "The following object is masked from ‘package:graphics’:\n",
            "\n",
            "    identify\n",
            "\n",
            "\n"
          ],
          "name": "stderr"
        }
      ]
    },
    {
      "cell_type": "markdown",
      "metadata": {
        "id": "efbcdd1a-f5c6-4e6a-bf31-3d547512b3f4"
      },
      "source": [
        "**McLeod-Li test for conditional heteroskedasticity (ARCH effect)**"
      ],
      "id": "efbcdd1a-f5c6-4e6a-bf31-3d547512b3f4"
    },
    {
      "cell_type": "code",
      "metadata": {
        "colab": {
          "base_uri": "https://localhost:8080/",
          "height": 437
        },
        "id": "NDGMFcWQ54yq",
        "outputId": "d2b964af-46ee-4487-f07e-1b27d04c4b2f"
      },
      "source": [
        "McLeod.Li.test(y = IMOEX.ME.df$IMOEX.ME.Return)\n",
        "# p-valor < 1% => ARCH effect"
      ],
      "id": "NDGMFcWQ54yq",
      "execution_count": 29,
      "outputs": [
        {
          "output_type": "display_data",
          "data": {
            "image/png": "[encoded data removed]",
            "text/plain": [
              "plot without title"
            ]
          },
          "metadata": {
            "tags": [],
            "image/png": {
              "width": 420,
              "height": 420
            }
          }
        }
      ]
    },
    {
      "cell_type": "markdown",
      "metadata": {
        "id": "d2e068a6-3254-475c-acbf-a75dda7ac434"
      },
      "source": [
        "**Lagrange Multiplier (LM) test for autoregressive conditional heteroscedasticity (ARCH)**"
      ],
      "id": "d2e068a6-3254-475c-acbf-a75dda7ac434"
    },
    {
      "cell_type": "code",
      "metadata": {
        "id": "eaaf6d58-c987-450e-b7d9-d547bb10f7f9",
        "colab": {
          "base_uri": "https://localhost:8080/",
          "height": 102
        },
        "outputId": "669a2f0f-921b-4e01-ead4-d14987b3fa79"
      },
      "source": [
        "ArchTest(IMOEX.ME.df$IMOEX.ME.Return, demean = FALSE)"
      ],
      "id": "eaaf6d58-c987-450e-b7d9-d547bb10f7f9",
      "execution_count": 30,
      "outputs": [
        {
          "output_type": "display_data",
          "data": {
            "text/plain": [
              "\n",
              "\tARCH LM-test; Null hypothesis: no ARCH effects\n",
              "\n",
              "data:  IMOEX.ME.df$IMOEX.ME.Return\n",
              "Chi-squared = 154.68, df = 12, p-value < 2.2e-16\n"
            ]
          },
          "metadata": {
            "tags": []
          }
        }
      ]
    },
    {
      "cell_type": "markdown",
      "metadata": {
        "id": "8c5b334a-4c0e-4341-b80b-bd4a9ec89dc1"
      },
      "source": [
        "## 6. GARCH model estimation"
      ],
      "id": "8c5b334a-4c0e-4341-b80b-bd4a9ec89dc1"
    },
    {
      "cell_type": "code",
      "metadata": {
        "colab": {
          "base_uri": "https://localhost:8080/"
        },
        "id": "7abb7558-53ac-4e1b-bbfa-f1de46b2d889",
        "outputId": "1e0e68c1-c629-4caf-cf3f-062b98a6aae3"
      },
      "source": [
        "# Packages\n",
        "install.packages('tidyverse')\n",
        "install.packages('FinTS')\n",
        "install.packages('texreg')\n",
        "install.packages('rugarch')\n",
        "\n",
        "library(tidyverse)\n",
        "library(FinTS)\n",
        "library(texreg)\n",
        "library(rugarch)"
      ],
      "id": "7abb7558-53ac-4e1b-bbfa-f1de46b2d889",
      "execution_count": 31,
      "outputs": [
        {
          "output_type": "stream",
          "text": [
            "Installing package into ‘/usr/local/lib/R/site-library’\n",
            "(as ‘lib’ is unspecified)\n",
            "\n",
            "Installing package into ‘/usr/local/lib/R/site-library’\n",
            "(as ‘lib’ is unspecified)\n",
            "\n",
            "Installing package into ‘/usr/local/lib/R/site-library’\n",
            "(as ‘lib’ is unspecified)\n",
            "\n",
            "Installing package into ‘/usr/local/lib/R/site-library’\n",
            "(as ‘lib’ is unspecified)\n",
            "\n",
            "also installing the dependencies ‘misc3d’, ‘truncnorm’, ‘FNN’, ‘kernlab’, ‘mclust’, ‘multicool’, ‘mvtnorm’, ‘plot3D’, ‘pracma’, ‘DistributionUtils’, ‘GeneralizedHyperbolic’, ‘Rsolnp’, ‘nloptr’, ‘ks’, ‘spd’, ‘chron’, ‘SkewHyperbolic’\n",
            "\n",
            "\n",
            "── \u001b[1mAttaching packages\u001b[22m ─────────────────────────────────────── tidyverse 1.3.1 ──\n",
            "\n",
            "\u001b[32m✔\u001b[39m \u001b[34mtibble \u001b[39m 3.1.2     \u001b[32m✔\u001b[39m \u001b[34mdplyr  \u001b[39m 1.0.7\n",
            "\u001b[32m✔\u001b[39m \u001b[34mtidyr  \u001b[39m 1.1.3     \u001b[32m✔\u001b[39m \u001b[34mstringr\u001b[39m 1.4.0\n",
            "\u001b[32m✔\u001b[39m \u001b[34mreadr  \u001b[39m 1.4.0     \u001b[32m✔\u001b[39m \u001b[34mforcats\u001b[39m 0.5.1\n",
            "\u001b[32m✔\u001b[39m \u001b[34mpurrr  \u001b[39m 0.3.4     \n",
            "\n",
            "── \u001b[1mConflicts\u001b[22m ────────────────────────────────────────── tidyverse_conflicts() ──\n",
            "\u001b[31m✖\u001b[39m \u001b[34mlubridate\u001b[39m::\u001b[32mas.difftime()\u001b[39m masks \u001b[34mbase\u001b[39m::as.difftime()\n",
            "\u001b[31m✖\u001b[39m \u001b[34mdplyr\u001b[39m::\u001b[32mcombine()\u001b[39m         masks \u001b[34mgridExtra\u001b[39m::combine()\n",
            "\u001b[31m✖\u001b[39m \u001b[34mlubridate\u001b[39m::\u001b[32mdate()\u001b[39m        masks \u001b[34mbase\u001b[39m::date()\n",
            "\u001b[31m✖\u001b[39m \u001b[34mdplyr\u001b[39m::\u001b[32mfilter()\u001b[39m          masks \u001b[34mstats\u001b[39m::filter()\n",
            "\u001b[31m✖\u001b[39m \u001b[34mdplyr\u001b[39m::\u001b[32mfirst()\u001b[39m           masks \u001b[34mxts\u001b[39m::first()\n",
            "\u001b[31m✖\u001b[39m \u001b[34mlubridate\u001b[39m::\u001b[32mintersect()\u001b[39m   masks \u001b[34mbase\u001b[39m::intersect()\n",
            "\u001b[31m✖\u001b[39m \u001b[34mdplyr\u001b[39m::\u001b[32mlag()\u001b[39m             masks \u001b[34mstats\u001b[39m::lag()\n",
            "\u001b[31m✖\u001b[39m \u001b[34mdplyr\u001b[39m::\u001b[32mlast()\u001b[39m            masks \u001b[34mxts\u001b[39m::last()\n",
            "\u001b[31m✖\u001b[39m \u001b[34mlubridate\u001b[39m::\u001b[32msetdiff()\u001b[39m     masks \u001b[34mbase\u001b[39m::setdiff()\n",
            "\u001b[31m✖\u001b[39m \u001b[34mreadr\u001b[39m::\u001b[32mspec()\u001b[39m            masks \u001b[34mTSA\u001b[39m::spec()\n",
            "\u001b[31m✖\u001b[39m \u001b[34mlubridate\u001b[39m::\u001b[32munion()\u001b[39m       masks \u001b[34mbase\u001b[39m::union()\n",
            "\n",
            "Version:  1.37.5\n",
            "Date:     2020-06-17\n",
            "Author:   Philip Leifeld (University of Essex)\n",
            "\n",
            "Consider submitting praise using the praise or praise_interactive functions.\n",
            "Please cite the JSS article in your publications -- see citation(\"texreg\").\n",
            "\n",
            "\n",
            "Attaching package: ‘texreg’\n",
            "\n",
            "\n",
            "The following object is masked from ‘package:tidyr’:\n",
            "\n",
            "    extract\n",
            "\n",
            "\n",
            "Loading required package: parallel\n",
            "\n",
            "\n",
            "Attaching package: ‘rugarch’\n",
            "\n",
            "\n",
            "The following object is masked from ‘package:purrr’:\n",
            "\n",
            "    reduce\n",
            "\n",
            "\n",
            "The following object is masked from ‘package:stats’:\n",
            "\n",
            "    sigma\n",
            "\n",
            "\n"
          ],
          "name": "stderr"
        }
      ]
    },
    {
      "cell_type": "code",
      "metadata": {
        "id": "ae5f5617-1efe-4488-bda0-051cf1bf4550"
      },
      "source": [
        "# Parameters definition\n",
        "ar_lag <- 0\n",
        "ma_lag <- 0\n",
        "arch_lag <- 1\n",
        "garch_lag <- 1"
      ],
      "id": "ae5f5617-1efe-4488-bda0-051cf1bf4550",
      "execution_count": 32,
      "outputs": []
    },
    {
      "cell_type": "markdown",
      "metadata": {
        "id": "4fb9f039-c974-422c-8f32-9c886eb06aeb"
      },
      "source": [
        "**Linear GARCH model**"
      ],
      "id": "4fb9f039-c974-422c-8f32-9c886eb06aeb"
    },
    {
      "cell_type": "code",
      "metadata": {
        "id": "47c0b88c-69c3-486d-b02c-29405ebd96e9"
      },
      "source": [
        "# Specification \n",
        "garch.spec <- ugarchspec(variance.model = list(model = \"sGARCH\",\n",
        "                                               garchOrder = c(arch_lag, garch_lag)),\n",
        "                         mean.model = list(armaOrder = c(ar_lag, ma_lag)),\n",
        "                         distribution.model = \"snorm\")\n",
        "# distribution.model = \"snorm\" => skew-normal distribution"
      ],
      "id": "47c0b88c-69c3-486d-b02c-29405ebd96e9",
      "execution_count": 33,
      "outputs": []
    },
    {
      "cell_type": "code",
      "metadata": {
        "id": "4f4f78bc-4e59-462b-af7e-1bcac1264fa3",
        "colab": {
          "base_uri": "https://localhost:8080/",
          "height": 221
        },
        "outputId": "b8593382-9438-4dbd-9344-88bfa1c9bbab"
      },
      "source": [
        "# Estimation\n",
        "garch.fit <- ugarchfit(spec = garch.spec, data = IMOEX.ME.df$IMOEX.ME.Return)\n",
        "round(garch.fit@fit$matcoef, 4)"
      ],
      "id": "4f4f78bc-4e59-462b-af7e-1bcac1264fa3",
      "execution_count": 34,
      "outputs": [
        {
          "output_type": "display_data",
          "data": {
            "text/plain": [
              "        Estimate  Std. Error  t value Pr(>|t|)\n",
              "mu     0.0559    0.0226       2.4698  0.0135  \n",
              "omega  0.0669    0.0160       4.1840  0.0000  \n",
              "alpha1 0.0935    0.0153       6.1107  0.0000  \n",
              "beta1  0.8570    0.0229      37.4801  0.0000  \n",
              "skew   0.8652    0.0228      37.9197  0.0000  "
            ],
            "text/latex": "A matrix: 5 × 4 of type dbl\n\\begin{tabular}{r|llll}\n  &  Estimate &  Std. Error &  t value & Pr(>\\textbar{}t\\textbar{})\\\\\n\\hline\n\tmu & 0.0559 & 0.0226 &  2.4698 & 0.0135\\\\\n\tomega & 0.0669 & 0.0160 &  4.1840 & 0.0000\\\\\n\talpha1 & 0.0935 & 0.0153 &  6.1107 & 0.0000\\\\\n\tbeta1 & 0.8570 & 0.0229 & 37.4801 & 0.0000\\\\\n\tskew & 0.8652 & 0.0228 & 37.9197 & 0.0000\\\\\n\\end{tabular}\n",
            "text/markdown": "\nA matrix: 5 × 4 of type dbl\n\n| <!--/--> |  Estimate |  Std. Error |  t value | Pr(&gt;|t|) |\n|---|---|---|---|---|\n| mu | 0.0559 | 0.0226 |  2.4698 | 0.0135 |\n| omega | 0.0669 | 0.0160 |  4.1840 | 0.0000 |\n| alpha1 | 0.0935 | 0.0153 |  6.1107 | 0.0000 |\n| beta1 | 0.8570 | 0.0229 | 37.4801 | 0.0000 |\n| skew | 0.8652 | 0.0228 | 37.9197 | 0.0000 |\n\n",
            "text/html": [
              "<table class=\"dataframe\">\n",
              "<caption>A matrix: 5 × 4 of type dbl</caption>\n",
              "<thead>\n",
              "\t<tr><th></th><th scope=col> Estimate</th><th scope=col> Std. Error</th><th scope=col> t value</th><th scope=col>Pr(&gt;|t|)</th></tr>\n",
              "</thead>\n",
              "<tbody>\n",
              "\t<tr><th scope=row>mu</th><td>0.0559</td><td>0.0226</td><td> 2.4698</td><td>0.0135</td></tr>\n",
              "\t<tr><th scope=row>omega</th><td>0.0669</td><td>0.0160</td><td> 4.1840</td><td>0.0000</td></tr>\n",
              "\t<tr><th scope=row>alpha1</th><td>0.0935</td><td>0.0153</td><td> 6.1107</td><td>0.0000</td></tr>\n",
              "\t<tr><th scope=row>beta1</th><td>0.8570</td><td>0.0229</td><td>37.4801</td><td>0.0000</td></tr>\n",
              "\t<tr><th scope=row>skew</th><td>0.8652</td><td>0.0228</td><td>37.9197</td><td>0.0000</td></tr>\n",
              "</tbody>\n",
              "</table>\n"
            ]
          },
          "metadata": {
            "tags": []
          }
        }
      ]
    },
    {
      "cell_type": "code",
      "metadata": {
        "id": "52cb3822-6ebd-4d45-b2c6-04c1acb17b34",
        "colab": {
          "base_uri": "https://localhost:8080/",
          "height": 153
        },
        "outputId": "37bea65e-0103-47e7-db51-733da0cb72cd"
      },
      "source": [
        "# Extracting variance series from the Linear GARCH model\n",
        "var.garch <- ts(garch.fit@fit$sigma^2)\n",
        "head(var.garch)\n",
        "\n",
        "IMOEX.ME.df$IMOEX.ME.VolGARCH <- as.numeric(var.garch)\n",
        "head(IMOEX.ME.df)"
      ],
      "id": "52cb3822-6ebd-4d45-b2c6-04c1acb17b34",
      "execution_count": 35,
      "outputs": [
        {
          "output_type": "display_data",
          "data": {
            "text/plain": [
              "[1] 1.3801312 1.2572715 1.1448001 1.1266191 1.0528801 0.9784216"
            ],
            "text/latex": "\\begin{enumerate*}\n\\item 1.38013123965279\n\\item 1.25727149694469\n\\item 1.1448000537591\n\\item 1.12661912639342\n\\item 1.05288006923201\n\\item 0.978421595785507\n\\end{enumerate*}\n",
            "text/markdown": "1. 1.38013123965279\n2. 1.25727149694469\n3. 1.1448000537591\n4. 1.12661912639342\n5. 1.05288006923201\n6. 0.978421595785507\n\n\n",
            "text/html": [
              "<style>\n",
              ".list-inline {list-style: none; margin:0; padding: 0}\n",
              ".list-inline>li {display: inline-block}\n",
              ".list-inline>li:not(:last-child)::after {content: \"\\00b7\"; padding: 0 .5ex}\n",
              "</style>\n",
              "<ol class=list-inline><li>1.38013123965279</li><li>1.25727149694469</li><li>1.1448000537591</li><li>1.12661912639342</li><li>1.05288006923201</li><li>0.978421595785507</li></ol>\n"
            ]
          },
          "metadata": {
            "tags": []
          }
        },
        {
          "output_type": "display_data",
          "data": {
            "text/plain": [
              "           IMOEX.ME.Close IMOEX.ME.Return IMOEX.ME.VolGARCH\n",
              "2013-03-06        1491.49     0.340503967         1.3801312\n",
              "2013-03-07        1491.35    -0.009387966         1.2572715\n",
              "2013-03-11        1505.93     0.972894949         1.1448001\n",
              "2013-03-12        1499.74    -0.411893033         1.1266191\n",
              "2013-03-13        1495.88    -0.257708731         1.0528801\n",
              "2013-03-14        1502.52     0.442904602         0.9784216"
            ]
          },
          "metadata": {
            "tags": []
          }
        }
      ]
    },
    {
      "cell_type": "markdown",
      "metadata": {
        "id": "e6f29dce-3413-404b-ab4f-fa35eee0c98f"
      },
      "source": [
        "**EGARCH model**"
      ],
      "id": "e6f29dce-3413-404b-ab4f-fa35eee0c98f"
    },
    {
      "cell_type": "code",
      "metadata": {
        "id": "3f49a904-41b9-4e2e-a788-6da4085d14db"
      },
      "source": [
        "# Specification \n",
        "egarch.spec <- ugarchspec(variance.model = list(model = \"eGARCH\",\n",
        "                                                garchOrder = c(arch_lag, garch_lag)),\n",
        "                          mean.model = list(armaOrder = c(ar_lag, ma_lag)), \n",
        "                          distribution.model = \"snorm\")\n",
        "# distribution.model = \"snorm\" => skew-normal distribution"
      ],
      "id": "3f49a904-41b9-4e2e-a788-6da4085d14db",
      "execution_count": 36,
      "outputs": []
    },
    {
      "cell_type": "code",
      "metadata": {
        "id": "1d6a661b-2206-4fa7-b4e8-d3765c54a302",
        "colab": {
          "base_uri": "https://localhost:8080/",
          "height": 252
        },
        "outputId": "215336fd-441d-47a2-ce93-234262959d56"
      },
      "source": [
        "# Estimation\n",
        "egarch.fit <- ugarchfit(spec = egarch.spec, data = IMOEX.ME.df$IMOEX.ME.Return)\n",
        "round(egarch.fit@fit$matcoef, 4)"
      ],
      "id": "1d6a661b-2206-4fa7-b4e8-d3765c54a302",
      "execution_count": 37,
      "outputs": [
        {
          "output_type": "display_data",
          "data": {
            "text/plain": [
              "        Estimate  Std. Error  t value Pr(>|t|)\n",
              "mu      0.0400   0.0334        1.1999 0.2302  \n",
              "omega   0.0120   0.0051        2.3746 0.0176  \n",
              "alpha1 -0.0930   0.0135       -6.9073 0.0000  \n",
              "beta1   0.9588   0.0083      114.8403 0.0000  \n",
              "gamma1  0.1512   0.0216        6.9904 0.0000  \n",
              "skew    0.8894   0.0238       37.3479 0.0000  "
            ],
            "text/latex": "A matrix: 6 × 4 of type dbl\n\\begin{tabular}{r|llll}\n  &  Estimate &  Std. Error &  t value & Pr(>\\textbar{}t\\textbar{})\\\\\n\\hline\n\tmu &  0.0400 & 0.0334 &   1.1999 & 0.2302\\\\\n\tomega &  0.0120 & 0.0051 &   2.3746 & 0.0176\\\\\n\talpha1 & -0.0930 & 0.0135 &  -6.9073 & 0.0000\\\\\n\tbeta1 &  0.9588 & 0.0083 & 114.8403 & 0.0000\\\\\n\tgamma1 &  0.1512 & 0.0216 &   6.9904 & 0.0000\\\\\n\tskew &  0.8894 & 0.0238 &  37.3479 & 0.0000\\\\\n\\end{tabular}\n",
            "text/markdown": "\nA matrix: 6 × 4 of type dbl\n\n| <!--/--> |  Estimate |  Std. Error |  t value | Pr(&gt;|t|) |\n|---|---|---|---|---|\n| mu |  0.0400 | 0.0334 |   1.1999 | 0.2302 |\n| omega |  0.0120 | 0.0051 |   2.3746 | 0.0176 |\n| alpha1 | -0.0930 | 0.0135 |  -6.9073 | 0.0000 |\n| beta1 |  0.9588 | 0.0083 | 114.8403 | 0.0000 |\n| gamma1 |  0.1512 | 0.0216 |   6.9904 | 0.0000 |\n| skew |  0.8894 | 0.0238 |  37.3479 | 0.0000 |\n\n",
            "text/html": [
              "<table class=\"dataframe\">\n",
              "<caption>A matrix: 6 × 4 of type dbl</caption>\n",
              "<thead>\n",
              "\t<tr><th></th><th scope=col> Estimate</th><th scope=col> Std. Error</th><th scope=col> t value</th><th scope=col>Pr(&gt;|t|)</th></tr>\n",
              "</thead>\n",
              "<tbody>\n",
              "\t<tr><th scope=row>mu</th><td> 0.0400</td><td>0.0334</td><td>  1.1999</td><td>0.2302</td></tr>\n",
              "\t<tr><th scope=row>omega</th><td> 0.0120</td><td>0.0051</td><td>  2.3746</td><td>0.0176</td></tr>\n",
              "\t<tr><th scope=row>alpha1</th><td>-0.0930</td><td>0.0135</td><td> -6.9073</td><td>0.0000</td></tr>\n",
              "\t<tr><th scope=row>beta1</th><td> 0.9588</td><td>0.0083</td><td>114.8403</td><td>0.0000</td></tr>\n",
              "\t<tr><th scope=row>gamma1</th><td> 0.1512</td><td>0.0216</td><td>  6.9904</td><td>0.0000</td></tr>\n",
              "\t<tr><th scope=row>skew</th><td> 0.8894</td><td>0.0238</td><td> 37.3479</td><td>0.0000</td></tr>\n",
              "</tbody>\n",
              "</table>\n"
            ]
          },
          "metadata": {
            "tags": []
          }
        }
      ]
    },
    {
      "cell_type": "code",
      "metadata": {
        "id": "cffa8b9c-7f85-4602-ac12-0456b3314f2e",
        "colab": {
          "base_uri": "https://localhost:8080/",
          "height": 153
        },
        "outputId": "bf53142a-12d8-43d7-ffeb-644000b19fff"
      },
      "source": [
        "# Extracting variance series from the EGARCH model\n",
        "var.egarch <- ts(egarch.fit@fit$sigma^2)\n",
        "head(var.egarch)\n",
        "\n",
        "IMOEX.ME.df$IMOEX.ME.VolEGARCH <- as.numeric(var.egarch)\n",
        "head(IMOEX.ME.df)"
      ],
      "id": "cffa8b9c-7f85-4602-ac12-0456b3314f2e",
      "execution_count": 38,
      "outputs": [
        {
          "output_type": "display_data",
          "data": {
            "text/plain": [
              "[1] 1.380051 1.239935 1.114465 1.047736 1.044847 1.004544"
            ],
            "text/latex": "\\begin{enumerate*}\n\\item 1.38005104294068\n\\item 1.23993521329572\n\\item 1.11446503533023\n\\item 1.04773578381368\n\\item 1.04484660782033\n\\item 1.00454389733672\n\\end{enumerate*}\n",
            "text/markdown": "1. 1.38005104294068\n2. 1.23993521329572\n3. 1.11446503533023\n4. 1.04773578381368\n5. 1.04484660782033\n6. 1.00454389733672\n\n\n",
            "text/html": [
              "<style>\n",
              ".list-inline {list-style: none; margin:0; padding: 0}\n",
              ".list-inline>li {display: inline-block}\n",
              ".list-inline>li:not(:last-child)::after {content: \"\\00b7\"; padding: 0 .5ex}\n",
              "</style>\n",
              "<ol class=list-inline><li>1.38005104294068</li><li>1.23993521329572</li><li>1.11446503533023</li><li>1.04773578381368</li><li>1.04484660782033</li><li>1.00454389733672</li></ol>\n"
            ]
          },
          "metadata": {
            "tags": []
          }
        },
        {
          "output_type": "display_data",
          "data": {
            "text/plain": [
              "           IMOEX.ME.Close IMOEX.ME.Return IMOEX.ME.VolGARCH IMOEX.ME.VolEGARCH\n",
              "2013-03-06        1491.49     0.340503967         1.3801312           1.380051\n",
              "2013-03-07        1491.35    -0.009387966         1.2572715           1.239935\n",
              "2013-03-11        1505.93     0.972894949         1.1448001           1.114465\n",
              "2013-03-12        1499.74    -0.411893033         1.1266191           1.047736\n",
              "2013-03-13        1495.88    -0.257708731         1.0528801           1.044847\n",
              "2013-03-14        1502.52     0.442904602         0.9784216           1.004544"
            ]
          },
          "metadata": {
            "tags": []
          }
        }
      ]
    },
    {
      "cell_type": "markdown",
      "metadata": {
        "id": "3f46740f-5c39-4774-9658-6fc3f087dd0a"
      },
      "source": [
        "**GJR-GARCH model**"
      ],
      "id": "3f46740f-5c39-4774-9658-6fc3f087dd0a"
    },
    {
      "cell_type": "code",
      "metadata": {
        "id": "ab68bdb5-2f9a-4efa-b9af-2cf920607b6a"
      },
      "source": [
        "# Specification \n",
        "gjrgarch.spec <- ugarchspec(variance.model = list(model = \"gjrGARCH\",\n",
        "                                                  garchOrder = c(arch_lag, garch_lag)),\n",
        "                            mean.model = list(armaOrder = c(ar_lag, ma_lag)), \n",
        "                            distribution.model = \"snorm\")\n",
        "# distribution.model = \"snorm\" => skew-normal distribution"
      ],
      "id": "ab68bdb5-2f9a-4efa-b9af-2cf920607b6a",
      "execution_count": 39,
      "outputs": []
    },
    {
      "cell_type": "code",
      "metadata": {
        "id": "bd6466b5-b0f5-44e2-9d43-2922a0f6f588",
        "colab": {
          "base_uri": "https://localhost:8080/",
          "height": 252
        },
        "outputId": "d12d1d80-42e0-49d4-a07a-4df376a82069"
      },
      "source": [
        "# Estimation\n",
        "gjrgarch.fit <- ugarchfit(spec = gjrgarch.spec, data = IMOEX.ME.df$IMOEX.ME.Return)\n",
        "round(gjrgarch.fit@fit$matcoef, 4)"
      ],
      "id": "bd6466b5-b0f5-44e2-9d43-2922a0f6f588",
      "execution_count": 40,
      "outputs": [
        {
          "output_type": "display_data",
          "data": {
            "text/plain": [
              "        Estimate  Std. Error  t value Pr(>|t|)\n",
              "mu     0.0396    0.0226       1.7545  0.0793  \n",
              "omega  0.0580    0.0126       4.6161  0.0000  \n",
              "alpha1 0.0290    0.0125       2.3125  0.0208  \n",
              "beta1  0.8766    0.0189      46.2781  0.0000  \n",
              "gamma1 0.1014    0.0206       4.9241  0.0000  \n",
              "skew   0.8763    0.0234      37.4615  0.0000  "
            ],
            "text/latex": "A matrix: 6 × 4 of type dbl\n\\begin{tabular}{r|llll}\n  &  Estimate &  Std. Error &  t value & Pr(>\\textbar{}t\\textbar{})\\\\\n\\hline\n\tmu & 0.0396 & 0.0226 &  1.7545 & 0.0793\\\\\n\tomega & 0.0580 & 0.0126 &  4.6161 & 0.0000\\\\\n\talpha1 & 0.0290 & 0.0125 &  2.3125 & 0.0208\\\\\n\tbeta1 & 0.8766 & 0.0189 & 46.2781 & 0.0000\\\\\n\tgamma1 & 0.1014 & 0.0206 &  4.9241 & 0.0000\\\\\n\tskew & 0.8763 & 0.0234 & 37.4615 & 0.0000\\\\\n\\end{tabular}\n",
            "text/markdown": "\nA matrix: 6 × 4 of type dbl\n\n| <!--/--> |  Estimate |  Std. Error |  t value | Pr(&gt;|t|) |\n|---|---|---|---|---|\n| mu | 0.0396 | 0.0226 |  1.7545 | 0.0793 |\n| omega | 0.0580 | 0.0126 |  4.6161 | 0.0000 |\n| alpha1 | 0.0290 | 0.0125 |  2.3125 | 0.0208 |\n| beta1 | 0.8766 | 0.0189 | 46.2781 | 0.0000 |\n| gamma1 | 0.1014 | 0.0206 |  4.9241 | 0.0000 |\n| skew | 0.8763 | 0.0234 | 37.4615 | 0.0000 |\n\n",
            "text/html": [
              "<table class=\"dataframe\">\n",
              "<caption>A matrix: 6 × 4 of type dbl</caption>\n",
              "<thead>\n",
              "\t<tr><th></th><th scope=col> Estimate</th><th scope=col> Std. Error</th><th scope=col> t value</th><th scope=col>Pr(&gt;|t|)</th></tr>\n",
              "</thead>\n",
              "<tbody>\n",
              "\t<tr><th scope=row>mu</th><td>0.0396</td><td>0.0226</td><td> 1.7545</td><td>0.0793</td></tr>\n",
              "\t<tr><th scope=row>omega</th><td>0.0580</td><td>0.0126</td><td> 4.6161</td><td>0.0000</td></tr>\n",
              "\t<tr><th scope=row>alpha1</th><td>0.0290</td><td>0.0125</td><td> 2.3125</td><td>0.0208</td></tr>\n",
              "\t<tr><th scope=row>beta1</th><td>0.8766</td><td>0.0189</td><td>46.2781</td><td>0.0000</td></tr>\n",
              "\t<tr><th scope=row>gamma1</th><td>0.1014</td><td>0.0206</td><td> 4.9241</td><td>0.0000</td></tr>\n",
              "\t<tr><th scope=row>skew</th><td>0.8763</td><td>0.0234</td><td>37.4615</td><td>0.0000</td></tr>\n",
              "</tbody>\n",
              "</table>\n"
            ]
          },
          "metadata": {
            "tags": []
          }
        }
      ]
    },
    {
      "cell_type": "code",
      "metadata": {
        "id": "866a759d-f023-4e0a-9708-ad0b03378079",
        "colab": {
          "base_uri": "https://localhost:8080/",
          "height": 272
        },
        "outputId": "85817992-75cf-461e-e20a-76c39e44c5a0"
      },
      "source": [
        "# Extracting variance series from the GJR-GARCH model\n",
        "var.gjrgarch <- ts(gjrgarch.fit@fit$sigma^2)\n",
        "head(var.gjrgarch)\n",
        "\n",
        "IMOEX.ME.df$IMOEX.ME.VolGJRGARCH <- as.numeric(var.gjrgarch)\n",
        "head(IMOEX.ME.df)"
      ],
      "id": "866a759d-f023-4e0a-9708-ad0b03378079",
      "execution_count": 41,
      "outputs": [
        {
          "output_type": "display_data",
          "data": {
            "text/plain": [
              "[1] 1.3800563 1.2704290 1.1720181 1.1106684 1.0582321 0.9972141"
            ],
            "text/latex": "\\begin{enumerate*}\n\\item 1.38005628816449\n\\item 1.27042902560686\n\\item 1.17201811701774\n\\item 1.11066837678369\n\\item 1.05823210866683\n\\item 0.997214053101602\n\\end{enumerate*}\n",
            "text/markdown": "1. 1.38005628816449\n2. 1.27042902560686\n3. 1.17201811701774\n4. 1.11066837678369\n5. 1.05823210866683\n6. 0.997214053101602\n\n\n",
            "text/html": [
              "<style>\n",
              ".list-inline {list-style: none; margin:0; padding: 0}\n",
              ".list-inline>li {display: inline-block}\n",
              ".list-inline>li:not(:last-child)::after {content: \"\\00b7\"; padding: 0 .5ex}\n",
              "</style>\n",
              "<ol class=list-inline><li>1.38005628816449</li><li>1.27042902560686</li><li>1.17201811701774</li><li>1.11066837678369</li><li>1.05823210866683</li><li>0.997214053101602</li></ol>\n"
            ]
          },
          "metadata": {
            "tags": []
          }
        },
        {
          "output_type": "display_data",
          "data": {
            "text/plain": [
              "           IMOEX.ME.Close IMOEX.ME.Return IMOEX.ME.VolGARCH IMOEX.ME.VolEGARCH\n",
              "2013-03-06        1491.49     0.340503967         1.3801312           1.380051\n",
              "2013-03-07        1491.35    -0.009387966         1.2572715           1.239935\n",
              "2013-03-11        1505.93     0.972894949         1.1448001           1.114465\n",
              "2013-03-12        1499.74    -0.411893033         1.1266191           1.047736\n",
              "2013-03-13        1495.88    -0.257708731         1.0528801           1.044847\n",
              "2013-03-14        1502.52     0.442904602         0.9784216           1.004544\n",
              "           IMOEX.ME.VolGJRGARCH\n",
              "2013-03-06            1.3800563\n",
              "2013-03-07            1.2704290\n",
              "2013-03-11            1.1720181\n",
              "2013-03-12            1.1106684\n",
              "2013-03-13            1.0582321\n",
              "2013-03-14            0.9972141"
            ]
          },
          "metadata": {
            "tags": []
          }
        }
      ]
    },
    {
      "cell_type": "markdown",
      "metadata": {
        "id": "30791595-f694-409c-a534-adfd13007dc8"
      },
      "source": [
        "## 7. Realized GARCH model estimation"
      ],
      "id": "30791595-f694-409c-a534-adfd13007dc8"
    },
    {
      "cell_type": "code",
      "metadata": {
        "id": "15180bd5-14f4-433e-8d95-6daf87ad72ee"
      },
      "source": [
        "# Specification\n",
        "realgarch.spec <- ugarchspec(mean.model = list(armaOrder = c(ar_lag, ma_lag),\n",
        "                                               include.mean = FALSE),\n",
        "                             variance.model = list(model = 'realGARCH',\n",
        "                                                   garchOrder = c(arch_lag, garch_lag)),\n",
        "                             distribution.model = \"snorm\")\n",
        "# distribution.model = \"snorm\" => skew-normal distribution)"
      ],
      "id": "15180bd5-14f4-433e-8d95-6daf87ad72ee",
      "execution_count": 42,
      "outputs": []
    },
    {
      "cell_type": "markdown",
      "metadata": {
        "id": "a579f920-f7b4-4ea6-b1dc-16fbfd9f5bec"
      },
      "source": [
        "**Realized Linear GARCH**"
      ],
      "id": "a579f920-f7b4-4ea6-b1dc-16fbfd9f5bec"
    },
    {
      "cell_type": "code",
      "metadata": {
        "id": "15ba614a-3479-4aeb-a0a3-f6aa302df878",
        "colab": {
          "base_uri": "https://localhost:8080/",
          "height": 345
        },
        "outputId": "d23b013b-b99c-4f50-8b08-46b8afd5aa66"
      },
      "source": [
        "# Estimation\n",
        "realgarch.fit <- ugarchfit(realgarch.spec, IMOEX.ME.df$IMOEX.ME.Return,\n",
        "                          solver = 'hybrid',\n",
        "                          realizedVol = IMOEX.ME.df$IMOEX.ME.VolGARCH)\n",
        "round(realgarch.fit@fit$matcoef, 4)"
      ],
      "id": "15ba614a-3479-4aeb-a0a3-f6aa302df878",
      "execution_count": 43,
      "outputs": [
        {
          "output_type": "display_data",
          "data": {
            "text/plain": [
              "        Estimate  Std. Error  t value Pr(>|t|)\n",
              "omega   0.0240   0.0312       0.7684  0.4422  \n",
              "alpha1  0.9831   0.0666      14.7698  0.0000  \n",
              "beta1   0.0157   0.0223       0.7044  0.4812  \n",
              "eta11   0.0160   0.0032       4.9613  0.0000  \n",
              "eta21   0.0048   0.0009       5.5146  0.0000  \n",
              "delta   0.9607   0.0611      15.7153  0.0000  \n",
              "lambda  0.1399   0.0022      63.6506  0.0000  \n",
              "skew    0.8814   0.0222      39.7165  0.0000  \n",
              "xi     -0.0190   0.0309      -0.6157  0.5381  "
            ],
            "text/latex": "A matrix: 9 × 4 of type dbl\n\\begin{tabular}{r|llll}\n  &  Estimate &  Std. Error &  t value & Pr(>\\textbar{}t\\textbar{})\\\\\n\\hline\n\tomega &  0.0240 & 0.0312 &  0.7684 & 0.4422\\\\\n\talpha1 &  0.9831 & 0.0666 & 14.7698 & 0.0000\\\\\n\tbeta1 &  0.0157 & 0.0223 &  0.7044 & 0.4812\\\\\n\teta11 &  0.0160 & 0.0032 &  4.9613 & 0.0000\\\\\n\teta21 &  0.0048 & 0.0009 &  5.5146 & 0.0000\\\\\n\tdelta &  0.9607 & 0.0611 & 15.7153 & 0.0000\\\\\n\tlambda &  0.1399 & 0.0022 & 63.6506 & 0.0000\\\\\n\tskew &  0.8814 & 0.0222 & 39.7165 & 0.0000\\\\\n\txi & -0.0190 & 0.0309 & -0.6157 & 0.5381\\\\\n\\end{tabular}\n",
            "text/markdown": "\nA matrix: 9 × 4 of type dbl\n\n| <!--/--> |  Estimate |  Std. Error |  t value | Pr(&gt;|t|) |\n|---|---|---|---|---|\n| omega |  0.0240 | 0.0312 |  0.7684 | 0.4422 |\n| alpha1 |  0.9831 | 0.0666 | 14.7698 | 0.0000 |\n| beta1 |  0.0157 | 0.0223 |  0.7044 | 0.4812 |\n| eta11 |  0.0160 | 0.0032 |  4.9613 | 0.0000 |\n| eta21 |  0.0048 | 0.0009 |  5.5146 | 0.0000 |\n| delta |  0.9607 | 0.0611 | 15.7153 | 0.0000 |\n| lambda |  0.1399 | 0.0022 | 63.6506 | 0.0000 |\n| skew |  0.8814 | 0.0222 | 39.7165 | 0.0000 |\n| xi | -0.0190 | 0.0309 | -0.6157 | 0.5381 |\n\n",
            "text/html": [
              "<table class=\"dataframe\">\n",
              "<caption>A matrix: 9 × 4 of type dbl</caption>\n",
              "<thead>\n",
              "\t<tr><th></th><th scope=col> Estimate</th><th scope=col> Std. Error</th><th scope=col> t value</th><th scope=col>Pr(&gt;|t|)</th></tr>\n",
              "</thead>\n",
              "<tbody>\n",
              "\t<tr><th scope=row>omega</th><td> 0.0240</td><td>0.0312</td><td> 0.7684</td><td>0.4422</td></tr>\n",
              "\t<tr><th scope=row>alpha1</th><td> 0.9831</td><td>0.0666</td><td>14.7698</td><td>0.0000</td></tr>\n",
              "\t<tr><th scope=row>beta1</th><td> 0.0157</td><td>0.0223</td><td> 0.7044</td><td>0.4812</td></tr>\n",
              "\t<tr><th scope=row>eta11</th><td> 0.0160</td><td>0.0032</td><td> 4.9613</td><td>0.0000</td></tr>\n",
              "\t<tr><th scope=row>eta21</th><td> 0.0048</td><td>0.0009</td><td> 5.5146</td><td>0.0000</td></tr>\n",
              "\t<tr><th scope=row>delta</th><td> 0.9607</td><td>0.0611</td><td>15.7153</td><td>0.0000</td></tr>\n",
              "\t<tr><th scope=row>lambda</th><td> 0.1399</td><td>0.0022</td><td>63.6506</td><td>0.0000</td></tr>\n",
              "\t<tr><th scope=row>skew</th><td> 0.8814</td><td>0.0222</td><td>39.7165</td><td>0.0000</td></tr>\n",
              "\t<tr><th scope=row>xi</th><td>-0.0190</td><td>0.0309</td><td>-0.6157</td><td>0.5381</td></tr>\n",
              "</tbody>\n",
              "</table>\n"
            ]
          },
          "metadata": {
            "tags": []
          }
        }
      ]
    },
    {
      "cell_type": "code",
      "metadata": {
        "id": "35f05310-d764-4a29-895f-14a3d9333110",
        "colab": {
          "base_uri": "https://localhost:8080/",
          "height": 272
        },
        "outputId": "aae9d622-541e-4d03-a67c-d004b70aba6d"
      },
      "source": [
        "# Extracting variance series from the Realized Linear GARCH model\n",
        "var.realgarch <- ts(realgarch.fit@fit$sigma^2)\n",
        "head(var.realgarch)\n",
        "\n",
        "IMOEX.ME.df$IMOEX.ME.VolRealGARCH <- as.numeric(var.realgarch)\n",
        "head(IMOEX.ME.df)"
      ],
      "id": "35f05310-d764-4a29-895f-14a3d9333110",
      "execution_count": 44,
      "outputs": [
        {
          "output_type": "display_data",
          "data": {
            "text/plain": [
              "[1] 1.382085 1.413123 1.289803 1.174596 1.154557 1.079931"
            ],
            "text/latex": "\\begin{enumerate*}\n\\item 1.38208503285938\n\\item 1.41312307808822\n\\item 1.28980320372788\n\\item 1.17459557055923\n\\item 1.15455671472625\n\\item 1.07993070619392\n\\end{enumerate*}\n",
            "text/markdown": "1. 1.38208503285938\n2. 1.41312307808822\n3. 1.28980320372788\n4. 1.17459557055923\n5. 1.15455671472625\n6. 1.07993070619392\n\n\n",
            "text/html": [
              "<style>\n",
              ".list-inline {list-style: none; margin:0; padding: 0}\n",
              ".list-inline>li {display: inline-block}\n",
              ".list-inline>li:not(:last-child)::after {content: \"\\00b7\"; padding: 0 .5ex}\n",
              "</style>\n",
              "<ol class=list-inline><li>1.38208503285938</li><li>1.41312307808822</li><li>1.28980320372788</li><li>1.17459557055923</li><li>1.15455671472625</li><li>1.07993070619392</li></ol>\n"
            ]
          },
          "metadata": {
            "tags": []
          }
        },
        {
          "output_type": "display_data",
          "data": {
            "text/plain": [
              "           IMOEX.ME.Close IMOEX.ME.Return IMOEX.ME.VolGARCH IMOEX.ME.VolEGARCH\n",
              "2013-03-06        1491.49     0.340503967         1.3801312           1.380051\n",
              "2013-03-07        1491.35    -0.009387966         1.2572715           1.239935\n",
              "2013-03-11        1505.93     0.972894949         1.1448001           1.114465\n",
              "2013-03-12        1499.74    -0.411893033         1.1266191           1.047736\n",
              "2013-03-13        1495.88    -0.257708731         1.0528801           1.044847\n",
              "2013-03-14        1502.52     0.442904602         0.9784216           1.004544\n",
              "           IMOEX.ME.VolGJRGARCH IMOEX.ME.VolRealGARCH\n",
              "2013-03-06            1.3800563              1.382085\n",
              "2013-03-07            1.2704290              1.413123\n",
              "2013-03-11            1.1720181              1.289803\n",
              "2013-03-12            1.1106684              1.174596\n",
              "2013-03-13            1.0582321              1.154557\n",
              "2013-03-14            0.9972141              1.079931"
            ]
          },
          "metadata": {
            "tags": []
          }
        }
      ]
    },
    {
      "cell_type": "markdown",
      "metadata": {
        "id": "3cac3418-86e3-40a3-b370-d044e9ffda05"
      },
      "source": [
        "**Realized EGARCH**"
      ],
      "id": "3cac3418-86e3-40a3-b370-d044e9ffda05"
    },
    {
      "cell_type": "code",
      "metadata": {
        "id": "8dab1b63-5db6-4abb-8ab3-4e49b909a386",
        "colab": {
          "base_uri": "https://localhost:8080/",
          "height": 345
        },
        "outputId": "98a921d1-ae1d-4002-f881-bb671f1bb257"
      },
      "source": [
        "# Estimation\n",
        "realegarch.fit <- ugarchfit(realgarch.spec, IMOEX.ME.df$IMOEX.ME.Return,\n",
        "                            solver = 'hybrid',\n",
        "                            realizedVol = IMOEX.ME.df$IMOEX.ME.VolEGARCH)\n",
        "round(realegarch.fit@fit$matcoef, 4)"
      ],
      "id": "8dab1b63-5db6-4abb-8ab3-4e49b909a386",
      "execution_count": 45,
      "outputs": [
        {
          "output_type": "display_data",
          "data": {
            "text/plain": [
              "        Estimate  Std. Error  t value Pr(>|t|)\n",
              "omega   0.0191   0.0310       0.6145  0.5389  \n",
              "alpha1  1.0000   0.0624      16.0202  0.0000  \n",
              "beta1   0.0160   0.0234       0.6852  0.4932  \n",
              "eta11   0.0081   0.0033       2.4520  0.0142  \n",
              "eta21   0.0052   0.0010       4.9704  0.0000  \n",
              "delta   0.9441   0.0547      17.2738  0.0000  \n",
              "lambda  0.1448   0.0023      63.6535  0.0000  \n",
              "skew    0.8936   0.0228      39.1363  0.0000  \n",
              "xi     -0.0144   0.0300      -0.4800  0.6312  "
            ],
            "text/latex": "A matrix: 9 × 4 of type dbl\n\\begin{tabular}{r|llll}\n  &  Estimate &  Std. Error &  t value & Pr(>\\textbar{}t\\textbar{})\\\\\n\\hline\n\tomega &  0.0191 & 0.0310 &  0.6145 & 0.5389\\\\\n\talpha1 &  1.0000 & 0.0624 & 16.0202 & 0.0000\\\\\n\tbeta1 &  0.0160 & 0.0234 &  0.6852 & 0.4932\\\\\n\teta11 &  0.0081 & 0.0033 &  2.4520 & 0.0142\\\\\n\teta21 &  0.0052 & 0.0010 &  4.9704 & 0.0000\\\\\n\tdelta &  0.9441 & 0.0547 & 17.2738 & 0.0000\\\\\n\tlambda &  0.1448 & 0.0023 & 63.6535 & 0.0000\\\\\n\tskew &  0.8936 & 0.0228 & 39.1363 & 0.0000\\\\\n\txi & -0.0144 & 0.0300 & -0.4800 & 0.6312\\\\\n\\end{tabular}\n",
            "text/markdown": "\nA matrix: 9 × 4 of type dbl\n\n| <!--/--> |  Estimate |  Std. Error |  t value | Pr(&gt;|t|) |\n|---|---|---|---|---|\n| omega |  0.0191 | 0.0310 |  0.6145 | 0.5389 |\n| alpha1 |  1.0000 | 0.0624 | 16.0202 | 0.0000 |\n| beta1 |  0.0160 | 0.0234 |  0.6852 | 0.4932 |\n| eta11 |  0.0081 | 0.0033 |  2.4520 | 0.0142 |\n| eta21 |  0.0052 | 0.0010 |  4.9704 | 0.0000 |\n| delta |  0.9441 | 0.0547 | 17.2738 | 0.0000 |\n| lambda |  0.1448 | 0.0023 | 63.6535 | 0.0000 |\n| skew |  0.8936 | 0.0228 | 39.1363 | 0.0000 |\n| xi | -0.0144 | 0.0300 | -0.4800 | 0.6312 |\n\n",
            "text/html": [
              "<table class=\"dataframe\">\n",
              "<caption>A matrix: 9 × 4 of type dbl</caption>\n",
              "<thead>\n",
              "\t<tr><th></th><th scope=col> Estimate</th><th scope=col> Std. Error</th><th scope=col> t value</th><th scope=col>Pr(&gt;|t|)</th></tr>\n",
              "</thead>\n",
              "<tbody>\n",
              "\t<tr><th scope=row>omega</th><td> 0.0191</td><td>0.0310</td><td> 0.6145</td><td>0.5389</td></tr>\n",
              "\t<tr><th scope=row>alpha1</th><td> 1.0000</td><td>0.0624</td><td>16.0202</td><td>0.0000</td></tr>\n",
              "\t<tr><th scope=row>beta1</th><td> 0.0160</td><td>0.0234</td><td> 0.6852</td><td>0.4932</td></tr>\n",
              "\t<tr><th scope=row>eta11</th><td> 0.0081</td><td>0.0033</td><td> 2.4520</td><td>0.0142</td></tr>\n",
              "\t<tr><th scope=row>eta21</th><td> 0.0052</td><td>0.0010</td><td> 4.9704</td><td>0.0000</td></tr>\n",
              "\t<tr><th scope=row>delta</th><td> 0.9441</td><td>0.0547</td><td>17.2738</td><td>0.0000</td></tr>\n",
              "\t<tr><th scope=row>lambda</th><td> 0.1448</td><td>0.0023</td><td>63.6535</td><td>0.0000</td></tr>\n",
              "\t<tr><th scope=row>skew</th><td> 0.8936</td><td>0.0228</td><td>39.1363</td><td>0.0000</td></tr>\n",
              "\t<tr><th scope=row>xi</th><td>-0.0144</td><td>0.0300</td><td>-0.4800</td><td>0.6312</td></tr>\n",
              "</tbody>\n",
              "</table>\n"
            ]
          },
          "metadata": {
            "tags": []
          }
        }
      ]
    },
    {
      "cell_type": "code",
      "metadata": {
        "id": "8888b518-3a21-47ca-9f66-8cb6a20c7a0d",
        "colab": {
          "base_uri": "https://localhost:8080/",
          "height": 272
        },
        "outputId": "ba4493c7-0932-4395-b2ff-454f3605edf9"
      },
      "source": [
        "# Extracting variance series from the Realized EGARCH model\n",
        "var.realegarch <- ts(realegarch.fit@fit$sigma^2)\n",
        "head(var.realegarch)\n",
        "\n",
        "IMOEX.ME.df$IMOEX.ME.VolRealEGARCH <- as.numeric(var.realegarch)\n",
        "head(IMOEX.ME.df)"
      ],
      "id": "8888b518-3a21-47ca-9f66-8cb6a20c7a0d",
      "execution_count": 46,
      "outputs": [
        {
          "output_type": "display_data",
          "data": {
            "text/plain": [
              "[1] 1.382085 1.413911 1.270821 1.140276 1.070144 1.066109"
            ],
            "text/latex": "\\begin{enumerate*}\n\\item 1.38208503285938\n\\item 1.41391121213174\n\\item 1.27082052479178\n\\item 1.14027626924281\n\\item 1.0701435651505\n\\item 1.06610899473366\n\\end{enumerate*}\n",
            "text/markdown": "1. 1.38208503285938\n2. 1.41391121213174\n3. 1.27082052479178\n4. 1.14027626924281\n5. 1.0701435651505\n6. 1.06610899473366\n\n\n",
            "text/html": [
              "<style>\n",
              ".list-inline {list-style: none; margin:0; padding: 0}\n",
              ".list-inline>li {display: inline-block}\n",
              ".list-inline>li:not(:last-child)::after {content: \"\\00b7\"; padding: 0 .5ex}\n",
              "</style>\n",
              "<ol class=list-inline><li>1.38208503285938</li><li>1.41391121213174</li><li>1.27082052479178</li><li>1.14027626924281</li><li>1.0701435651505</li><li>1.06610899473366</li></ol>\n"
            ]
          },
          "metadata": {
            "tags": []
          }
        },
        {
          "output_type": "display_data",
          "data": {
            "text/plain": [
              "           IMOEX.ME.Close IMOEX.ME.Return IMOEX.ME.VolGARCH IMOEX.ME.VolEGARCH\n",
              "2013-03-06        1491.49     0.340503967         1.3801312           1.380051\n",
              "2013-03-07        1491.35    -0.009387966         1.2572715           1.239935\n",
              "2013-03-11        1505.93     0.972894949         1.1448001           1.114465\n",
              "2013-03-12        1499.74    -0.411893033         1.1266191           1.047736\n",
              "2013-03-13        1495.88    -0.257708731         1.0528801           1.044847\n",
              "2013-03-14        1502.52     0.442904602         0.9784216           1.004544\n",
              "           IMOEX.ME.VolGJRGARCH IMOEX.ME.VolRealGARCH IMOEX.ME.VolRealEGARCH\n",
              "2013-03-06            1.3800563              1.382085               1.382085\n",
              "2013-03-07            1.2704290              1.413123               1.413911\n",
              "2013-03-11            1.1720181              1.289803               1.270821\n",
              "2013-03-12            1.1106684              1.174596               1.140276\n",
              "2013-03-13            1.0582321              1.154557               1.070144\n",
              "2013-03-14            0.9972141              1.079931               1.066109"
            ]
          },
          "metadata": {
            "tags": []
          }
        }
      ]
    },
    {
      "cell_type": "markdown",
      "metadata": {
        "id": "84982d7c-c0eb-404c-b399-e720fb9281cf"
      },
      "source": [
        "**Realized GJR-GARCH**"
      ],
      "id": "84982d7c-c0eb-404c-b399-e720fb9281cf"
    },
    {
      "cell_type": "code",
      "metadata": {
        "id": "9fbe16e5-06c5-4329-ac4e-cd097521e0fe",
        "colab": {
          "base_uri": "https://localhost:8080/",
          "height": 345
        },
        "outputId": "27584d01-2f4c-41bf-c03d-23e5344d84a4"
      },
      "source": [
        "# Estimation\n",
        "realgjrgarch.fit <- ugarchfit(realgarch.spec, IMOEX.ME.df$IMOEX.ME.Return,\n",
        "                              solver = 'hybrid',\n",
        "                              realizedVol = IMOEX.ME.df$IMOEX.ME.VolGJRGARCH)\n",
        "round(realgjrgarch.fit@fit$matcoef, 4)"
      ],
      "id": "9fbe16e5-06c5-4329-ac4e-cd097521e0fe",
      "execution_count": 47,
      "outputs": [
        {
          "output_type": "display_data",
          "data": {
            "text/plain": [
              "        Estimate  Std. Error  t value Pr(>|t|)\n",
              "omega   0.0246   0.0315       0.7813  0.4346  \n",
              "alpha1  0.9712   0.0648      14.9774  0.0000  \n",
              "beta1   0.0029   0.0228       0.1263  0.8995  \n",
              "eta11   0.0126   0.0033       3.7872  0.0002  \n",
              "eta21   0.0055   0.0010       5.6151  0.0000  \n",
              "delta   0.9869   0.0619      15.9482  0.0000  \n",
              "lambda  0.1445   0.0023      63.6547  0.0000  \n",
              "skew    0.8886   0.0226      39.2535  0.0000  \n",
              "xi     -0.0205   0.0316      -0.6491  0.5163  "
            ],
            "text/latex": "A matrix: 9 × 4 of type dbl\n\\begin{tabular}{r|llll}\n  &  Estimate &  Std. Error &  t value & Pr(>\\textbar{}t\\textbar{})\\\\\n\\hline\n\tomega &  0.0246 & 0.0315 &  0.7813 & 0.4346\\\\\n\talpha1 &  0.9712 & 0.0648 & 14.9774 & 0.0000\\\\\n\tbeta1 &  0.0029 & 0.0228 &  0.1263 & 0.8995\\\\\n\teta11 &  0.0126 & 0.0033 &  3.7872 & 0.0002\\\\\n\teta21 &  0.0055 & 0.0010 &  5.6151 & 0.0000\\\\\n\tdelta &  0.9869 & 0.0619 & 15.9482 & 0.0000\\\\\n\tlambda &  0.1445 & 0.0023 & 63.6547 & 0.0000\\\\\n\tskew &  0.8886 & 0.0226 & 39.2535 & 0.0000\\\\\n\txi & -0.0205 & 0.0316 & -0.6491 & 0.5163\\\\\n\\end{tabular}\n",
            "text/markdown": "\nA matrix: 9 × 4 of type dbl\n\n| <!--/--> |  Estimate |  Std. Error |  t value | Pr(&gt;|t|) |\n|---|---|---|---|---|\n| omega |  0.0246 | 0.0315 |  0.7813 | 0.4346 |\n| alpha1 |  0.9712 | 0.0648 | 14.9774 | 0.0000 |\n| beta1 |  0.0029 | 0.0228 |  0.1263 | 0.8995 |\n| eta11 |  0.0126 | 0.0033 |  3.7872 | 0.0002 |\n| eta21 |  0.0055 | 0.0010 |  5.6151 | 0.0000 |\n| delta |  0.9869 | 0.0619 | 15.9482 | 0.0000 |\n| lambda |  0.1445 | 0.0023 | 63.6547 | 0.0000 |\n| skew |  0.8886 | 0.0226 | 39.2535 | 0.0000 |\n| xi | -0.0205 | 0.0316 | -0.6491 | 0.5163 |\n\n",
            "text/html": [
              "<table class=\"dataframe\">\n",
              "<caption>A matrix: 9 × 4 of type dbl</caption>\n",
              "<thead>\n",
              "\t<tr><th></th><th scope=col> Estimate</th><th scope=col> Std. Error</th><th scope=col> t value</th><th scope=col>Pr(&gt;|t|)</th></tr>\n",
              "</thead>\n",
              "<tbody>\n",
              "\t<tr><th scope=row>omega</th><td> 0.0246</td><td>0.0315</td><td> 0.7813</td><td>0.4346</td></tr>\n",
              "\t<tr><th scope=row>alpha1</th><td> 0.9712</td><td>0.0648</td><td>14.9774</td><td>0.0000</td></tr>\n",
              "\t<tr><th scope=row>beta1</th><td> 0.0029</td><td>0.0228</td><td> 0.1263</td><td>0.8995</td></tr>\n",
              "\t<tr><th scope=row>eta11</th><td> 0.0126</td><td>0.0033</td><td> 3.7872</td><td>0.0002</td></tr>\n",
              "\t<tr><th scope=row>eta21</th><td> 0.0055</td><td>0.0010</td><td> 5.6151</td><td>0.0000</td></tr>\n",
              "\t<tr><th scope=row>delta</th><td> 0.9869</td><td>0.0619</td><td>15.9482</td><td>0.0000</td></tr>\n",
              "\t<tr><th scope=row>lambda</th><td> 0.1445</td><td>0.0023</td><td>63.6547</td><td>0.0000</td></tr>\n",
              "\t<tr><th scope=row>skew</th><td> 0.8886</td><td>0.0226</td><td>39.2535</td><td>0.0000</td></tr>\n",
              "\t<tr><th scope=row>xi</th><td>-0.0205</td><td>0.0316</td><td>-0.6491</td><td>0.5163</td></tr>\n",
              "</tbody>\n",
              "</table>\n"
            ]
          },
          "metadata": {
            "tags": []
          }
        }
      ]
    },
    {
      "cell_type": "code",
      "metadata": {
        "id": "72de108a-b473-4d76-9dc5-c1ae251113eb",
        "colab": {
          "base_uri": "https://localhost:8080/",
          "height": 391
        },
        "outputId": "86c70eb6-2c29-4958-b1f1-3f5c4a881e57"
      },
      "source": [
        "# Extracting variance series from the Realized GJR-GARCH model\n",
        "var.realgjrgarch <- ts(realgjrgarch.fit@fit$sigma^2)\n",
        "head(var.realgjrgarch)\n",
        "\n",
        "IMOEX.ME.df$IMOEX.ME.VolRealGJRGARCH <- as.numeric(var.realgjrgarch)\n",
        "head(IMOEX.ME.df)"
      ],
      "id": "72de108a-b473-4d76-9dc5-c1ae251113eb",
      "execution_count": 48,
      "outputs": [
        {
          "output_type": "display_data",
          "data": {
            "text/plain": [
              "[1] 1.382085 1.402674 1.294382 1.196611 1.135472 1.083207"
            ],
            "text/latex": "\\begin{enumerate*}\n\\item 1.38208503285938\n\\item 1.40267361482029\n\\item 1.2943819139125\n\\item 1.19661101402375\n\\item 1.13547214509495\n\\item 1.08320717884272\n\\end{enumerate*}\n",
            "text/markdown": "1. 1.38208503285938\n2. 1.40267361482029\n3. 1.2943819139125\n4. 1.19661101402375\n5. 1.13547214509495\n6. 1.08320717884272\n\n\n",
            "text/html": [
              "<style>\n",
              ".list-inline {list-style: none; margin:0; padding: 0}\n",
              ".list-inline>li {display: inline-block}\n",
              ".list-inline>li:not(:last-child)::after {content: \"\\00b7\"; padding: 0 .5ex}\n",
              "</style>\n",
              "<ol class=list-inline><li>1.38208503285938</li><li>1.40267361482029</li><li>1.2943819139125</li><li>1.19661101402375</li><li>1.13547214509495</li><li>1.08320717884272</li></ol>\n"
            ]
          },
          "metadata": {
            "tags": []
          }
        },
        {
          "output_type": "display_data",
          "data": {
            "text/plain": [
              "           IMOEX.ME.Close IMOEX.ME.Return IMOEX.ME.VolGARCH IMOEX.ME.VolEGARCH\n",
              "2013-03-06        1491.49     0.340503967         1.3801312           1.380051\n",
              "2013-03-07        1491.35    -0.009387966         1.2572715           1.239935\n",
              "2013-03-11        1505.93     0.972894949         1.1448001           1.114465\n",
              "2013-03-12        1499.74    -0.411893033         1.1266191           1.047736\n",
              "2013-03-13        1495.88    -0.257708731         1.0528801           1.044847\n",
              "2013-03-14        1502.52     0.442904602         0.9784216           1.004544\n",
              "           IMOEX.ME.VolGJRGARCH IMOEX.ME.VolRealGARCH IMOEX.ME.VolRealEGARCH\n",
              "2013-03-06            1.3800563              1.382085               1.382085\n",
              "2013-03-07            1.2704290              1.413123               1.413911\n",
              "2013-03-11            1.1720181              1.289803               1.270821\n",
              "2013-03-12            1.1106684              1.174596               1.140276\n",
              "2013-03-13            1.0582321              1.154557               1.070144\n",
              "2013-03-14            0.9972141              1.079931               1.066109\n",
              "           IMOEX.ME.VolRealGJRGARCH\n",
              "2013-03-06                 1.382085\n",
              "2013-03-07                 1.402674\n",
              "2013-03-11                 1.294382\n",
              "2013-03-12                 1.196611\n",
              "2013-03-13                 1.135472\n",
              "2013-03-14                 1.083207"
            ]
          },
          "metadata": {
            "tags": []
          }
        }
      ]
    },
    {
      "cell_type": "markdown",
      "metadata": {
        "id": "735d096c-8ec1-4d3a-a1d9-b7174e560beb"
      },
      "source": [
        "## 8. Markov-Switching GARCH estimation"
      ],
      "id": "735d096c-8ec1-4d3a-a1d9-b7174e560beb"
    },
    {
      "cell_type": "code",
      "metadata": {
        "id": "9ea73810-e857-41db-82fd-a2e4dd54c754",
        "colab": {
          "base_uri": "https://localhost:8080/"
        },
        "outputId": "d86d31c9-ca0b-4658-c97e-bcbfc743d8a9"
      },
      "source": [
        "# Packages\n",
        "install.packages('MSGARCH')\n",
        "\n",
        "library(MSGARCH)"
      ],
      "id": "9ea73810-e857-41db-82fd-a2e4dd54c754",
      "execution_count": 49,
      "outputs": [
        {
          "output_type": "stream",
          "text": [
            "Installing package into ‘/usr/local/lib/R/site-library’\n",
            "(as ‘lib’ is unspecified)\n",
            "\n",
            "also installing the dependencies ‘coda’, ‘expm’, ‘fanplot’\n",
            "\n",
            "\n"
          ],
          "name": "stderr"
        }
      ]
    },
    {
      "cell_type": "markdown",
      "metadata": {
        "id": "ef3e18a9-c620-446e-b3cd-d5d20cf98832"
      },
      "source": [
        "2 regimes: low volatility and high volatility"
      ],
      "id": "ef3e18a9-c620-446e-b3cd-d5d20cf98832"
    },
    {
      "cell_type": "markdown",
      "metadata": {
        "id": "0nhstzdv_IBM"
      },
      "source": [
        "**Linear MS GARCH**"
      ],
      "id": "0nhstzdv_IBM"
    },
    {
      "cell_type": "code",
      "metadata": {
        "id": "a31f362b-be2d-4084-85cc-fd43b95ba2cf"
      },
      "source": [
        "# Specification\n",
        "msgarch.spec <- CreateSpec(variance.spec = list(model = c(\"sGARCH\")),\n",
        "                           distribution.spec = list(distribution = c(\"snorm\")),\n",
        "                           switch.spec = list(K = 2))"
      ],
      "id": "a31f362b-be2d-4084-85cc-fd43b95ba2cf",
      "execution_count": 50,
      "outputs": []
    },
    {
      "cell_type": "code",
      "metadata": {
        "id": "v0OrYkGOTGnf",
        "colab": {
          "base_uri": "https://localhost:8080/"
        },
        "outputId": "eb28fcaa-20c5-48af-93b7-9ee7e9751998"
      },
      "source": [
        "# Estimation\n",
        "msgarch.fit <- FitML(msgarch.spec, data = IMOEX.ME.df$IMOEX.ME.Return)    \n",
        "summary(msgarch.fit)"
      ],
      "id": "v0OrYkGOTGnf",
      "execution_count": 51,
      "outputs": [
        {
          "output_type": "stream",
          "text": [
            "Specification type: Markov-switching\n",
            "Specification name: sGARCH_snorm sGARCH_snorm\n",
            "Number of parameters in each variance model: 3 3\n",
            "Number of parameters in each distribution: 1 1\n",
            "------------------------------------------\n",
            "Fixed parameters:\n",
            "None\n",
            "------------------------------------------\n",
            "Across regime constrained parameters:\n",
            "None\n",
            "------------------------------------------\n",
            "Fitted parameters:\n",
            "         Estimate Std. Error  t value  Pr(>|t|)\n",
            "alpha0_1   0.0209     0.0057   3.6950 1.099e-04\n",
            "alpha1_1   0.0315     0.0129   2.4501 7.141e-03\n",
            "beta_1     0.9409     0.0065 143.7091    <1e-16\n",
            "xi_1       0.9557     0.0318  30.0156    <1e-16\n",
            "alpha0_2   5.0707   166.3974   0.0305 4.878e-01\n",
            "alpha1_2   0.0000     0.0029   0.0102 4.959e-01\n",
            "beta_2     0.6891    10.2015   0.0675 4.731e-01\n",
            "xi_2       0.9302     0.1660   5.6024 1.057e-08\n",
            "P_1_1      0.9956     0.0738  13.4850    <1e-16\n",
            "P_2_1      0.1837     0.0028  65.9343    <1e-16\n",
            "------------------------------------------\n",
            "Transition matrix:\n",
            "      t+1|k=1 t+1|k=2\n",
            "t|k=1  0.9956  0.0044\n",
            "t|k=2  0.1837  0.8163\n",
            "------------------------------------------\n",
            "Stable probabilities:\n",
            "State 1 State 2 \n",
            " 0.9766  0.0234 \n",
            "------------------------------------------\n",
            "LL: -2897.6141\n",
            "AIC: 5815.2282\n",
            "BIC: 5871.3664\n",
            "------------------------------------------\n"
          ],
          "name": "stdout"
        }
      ]
    },
    {
      "cell_type": "code",
      "metadata": {
        "id": "Bg9ZdxIiTUr7",
        "colab": {
          "base_uri": "https://localhost:8080/",
          "height": 408
        },
        "outputId": "f386b9cf-f875-466c-c073-c90dff58d18c"
      },
      "source": [
        "# Extracting variance series from the MS GARCH model\n",
        "var.msgarch <- ts(Volatility(msgarch.fit))\n",
        "head(var.msgarch)\n",
        "\n",
        "IMOEX.ME.df$IMOEX.ME.VolMSGARCH <- as.numeric(var.msgarch)\n",
        "head(IMOEX.ME.df)"
      ],
      "id": "Bg9ZdxIiTUr7",
      "execution_count": 52,
      "outputs": [
        {
          "output_type": "display_data",
          "data": {
            "text/plain": [
              "      t=1       t=2       t=3       t=4       t=5       t=6 \n",
              "1.0588333 1.0494623 0.9204476 0.9133475 0.8926739 0.8790603 "
            ],
            "text/latex": "\\begin{description*}\n\\item[t=1] 1.05883329802554\n\\item[t=2] 1.0494623359469\n\\item[t=3] 0.920447601934147\n\\item[t=4] 0.91334745960679\n\\item[t=5] 0.892673861867229\n\\item[t=6] 0.879060283546845\n\\end{description*}\n",
            "text/markdown": "t=1\n:   1.05883329802554t=2\n:   1.0494623359469t=3\n:   0.920447601934147t=4\n:   0.91334745960679t=5\n:   0.892673861867229t=6\n:   0.879060283546845\n\n",
            "text/html": [
              "<style>\n",
              ".dl-inline {width: auto; margin:0; padding: 0}\n",
              ".dl-inline>dt, .dl-inline>dd {float: none; width: auto; display: inline-block}\n",
              ".dl-inline>dt::after {content: \":\\0020\"; padding-right: .5ex}\n",
              ".dl-inline>dt:not(:first-of-type) {padding-left: .5ex}\n",
              "</style><dl class=dl-inline><dt>t=1</dt><dd>1.05883329802554</dd><dt>t=2</dt><dd>1.0494623359469</dd><dt>t=3</dt><dd>0.920447601934147</dd><dt>t=4</dt><dd>0.91334745960679</dd><dt>t=5</dt><dd>0.892673861867229</dd><dt>t=6</dt><dd>0.879060283546845</dd></dl>\n"
            ]
          },
          "metadata": {
            "tags": []
          }
        },
        {
          "output_type": "display_data",
          "data": {
            "text/plain": [
              "           IMOEX.ME.Close IMOEX.ME.Return IMOEX.ME.VolGARCH IMOEX.ME.VolEGARCH\n",
              "2013-03-06        1491.49     0.340503967         1.3801312           1.380051\n",
              "2013-03-07        1491.35    -0.009387966         1.2572715           1.239935\n",
              "2013-03-11        1505.93     0.972894949         1.1448001           1.114465\n",
              "2013-03-12        1499.74    -0.411893033         1.1266191           1.047736\n",
              "2013-03-13        1495.88    -0.257708731         1.0528801           1.044847\n",
              "2013-03-14        1502.52     0.442904602         0.9784216           1.004544\n",
              "           IMOEX.ME.VolGJRGARCH IMOEX.ME.VolRealGARCH IMOEX.ME.VolRealEGARCH\n",
              "2013-03-06            1.3800563              1.382085               1.382085\n",
              "2013-03-07            1.2704290              1.413123               1.413911\n",
              "2013-03-11            1.1720181              1.289803               1.270821\n",
              "2013-03-12            1.1106684              1.174596               1.140276\n",
              "2013-03-13            1.0582321              1.154557               1.070144\n",
              "2013-03-14            0.9972141              1.079931               1.066109\n",
              "           IMOEX.ME.VolRealGJRGARCH IMOEX.ME.VolMSGARCH\n",
              "2013-03-06                 1.382085           1.0588333\n",
              "2013-03-07                 1.402674           1.0494623\n",
              "2013-03-11                 1.294382           0.9204476\n",
              "2013-03-12                 1.196611           0.9133475\n",
              "2013-03-13                 1.135472           0.8926739\n",
              "2013-03-14                 1.083207           0.8790603"
            ]
          },
          "metadata": {
            "tags": []
          }
        }
      ]
    },
    {
      "cell_type": "markdown",
      "metadata": {
        "id": "jDyeAzbaUZGK"
      },
      "source": [
        "**MS EGARCH**"
      ],
      "id": "jDyeAzbaUZGK"
    },
    {
      "cell_type": "code",
      "metadata": {
        "id": "OJ_1-NOIUduu"
      },
      "source": [
        "# Specification\n",
        "msegarch.spec <- CreateSpec(variance.spec = list(model = c(\"eGARCH\")),\n",
        "                            distribution.spec = list(distribution = c(\"snorm\")),\n",
        "                            switch.spec = list(K = 2))"
      ],
      "id": "OJ_1-NOIUduu",
      "execution_count": 53,
      "outputs": []
    },
    {
      "cell_type": "code",
      "metadata": {
        "id": "QZBzDVNzUgcq",
        "colab": {
          "base_uri": "https://localhost:8080/"
        },
        "outputId": "c2241b3d-0861-42cb-8415-8e6cf2ee6e45"
      },
      "source": [
        "# Estimation\n",
        "msegarch.fit <- FitML(msegarch.spec, data = IMOEX.ME.df$IMOEX.ME.Return)    \n",
        "summary(msegarch.fit)"
      ],
      "id": "QZBzDVNzUgcq",
      "execution_count": 54,
      "outputs": [
        {
          "output_type": "stream",
          "text": [
            "Specification type: Markov-switching\n",
            "Specification name: eGARCH_snorm eGARCH_snorm\n",
            "Number of parameters in each variance model: 4 4\n",
            "Number of parameters in each distribution: 1 1\n",
            "------------------------------------------\n",
            "Fixed parameters:\n",
            "None\n",
            "------------------------------------------\n",
            "Across regime constrained parameters:\n",
            "None\n",
            "------------------------------------------\n",
            "Fitted parameters:\n",
            "         Estimate Std. Error  t value  Pr(>|t|)\n",
            "alpha0_1  -0.0031     0.0020  -1.5585 5.956e-02\n",
            "alpha1_1   0.0784     0.0151   5.2024 9.838e-08\n",
            "alpha2_1  -0.0353     0.0109  -3.2451 5.870e-04\n",
            "beta_1     0.9803     0.0050 197.1761    <1e-16\n",
            "xi_1       0.9580     0.0334  28.7020    <1e-16\n",
            "alpha0_2   0.1624     0.1329   1.2222 1.108e-01\n",
            "alpha1_2  -0.0958     0.0821  -1.1658 1.218e-01\n",
            "alpha2_2  -0.3601     0.1863  -1.9329 2.662e-02\n",
            "beta_2     0.9035     0.0566  15.9541    <1e-16\n",
            "xi_2       0.8432     0.1761   4.7894 8.365e-07\n",
            "P_1_1      0.9944     0.0682  14.5742    <1e-16\n",
            "P_2_1      0.1347     0.0035  39.0225    <1e-16\n",
            "------------------------------------------\n",
            "Transition matrix:\n",
            "      t+1|k=1 t+1|k=2\n",
            "t|k=1  0.9944  0.0056\n",
            "t|k=2  0.1347  0.8653\n",
            "------------------------------------------\n",
            "Stable probabilities:\n",
            "State 1 State 2 \n",
            " 0.9603  0.0397 \n",
            "------------------------------------------\n",
            "LL: -2886.1397\n",
            "AIC: 5796.2795\n",
            "BIC: 5863.6453\n",
            "------------------------------------------\n"
          ],
          "name": "stdout"
        }
      ]
    },
    {
      "cell_type": "code",
      "metadata": {
        "id": "RTicDPi3U_ux",
        "colab": {
          "base_uri": "https://localhost:8080/",
          "height": 408
        },
        "outputId": "6d8585d3-f886-45f4-b995-4f7373360a12"
      },
      "source": [
        "# Extracting variance series from the MS EGARCH model\n",
        "var.msegarch <- ts(Volatility(msegarch.fit))\n",
        "head(var.msegarch)\n",
        "\n",
        "IMOEX.ME.df$IMOEX.ME.VolMSEGARCH <- as.numeric(var.msegarch)\n",
        "head(IMOEX.ME.df)"
      ],
      "id": "RTicDPi3U_ux",
      "execution_count": 55,
      "outputs": [
        {
          "output_type": "display_data",
          "data": {
            "text/plain": [
              "      t=1       t=2       t=3       t=4       t=5       t=6 \n",
              "1.0158921 0.9983856 0.9283793 0.9102658 0.8999417 0.8858031 "
            ],
            "text/latex": "\\begin{description*}\n\\item[t=1] 1.0158920969954\n\\item[t=2] 0.99838559207891\n\\item[t=3] 0.928379306345136\n\\item[t=4] 0.910265809413803\n\\item[t=5] 0.899941650267218\n\\item[t=6] 0.885803122636508\n\\end{description*}\n",
            "text/markdown": "t=1\n:   1.0158920969954t=2\n:   0.99838559207891t=3\n:   0.928379306345136t=4\n:   0.910265809413803t=5\n:   0.899941650267218t=6\n:   0.885803122636508\n\n",
            "text/html": [
              "<style>\n",
              ".dl-inline {width: auto; margin:0; padding: 0}\n",
              ".dl-inline>dt, .dl-inline>dd {float: none; width: auto; display: inline-block}\n",
              ".dl-inline>dt::after {content: \":\\0020\"; padding-right: .5ex}\n",
              ".dl-inline>dt:not(:first-of-type) {padding-left: .5ex}\n",
              "</style><dl class=dl-inline><dt>t=1</dt><dd>1.0158920969954</dd><dt>t=2</dt><dd>0.99838559207891</dd><dt>t=3</dt><dd>0.928379306345136</dd><dt>t=4</dt><dd>0.910265809413803</dd><dt>t=5</dt><dd>0.899941650267218</dd><dt>t=6</dt><dd>0.885803122636508</dd></dl>\n"
            ]
          },
          "metadata": {
            "tags": []
          }
        },
        {
          "output_type": "display_data",
          "data": {
            "text/plain": [
              "           IMOEX.ME.Close IMOEX.ME.Return IMOEX.ME.VolGARCH IMOEX.ME.VolEGARCH\n",
              "2013-03-06        1491.49     0.340503967         1.3801312           1.380051\n",
              "2013-03-07        1491.35    -0.009387966         1.2572715           1.239935\n",
              "2013-03-11        1505.93     0.972894949         1.1448001           1.114465\n",
              "2013-03-12        1499.74    -0.411893033         1.1266191           1.047736\n",
              "2013-03-13        1495.88    -0.257708731         1.0528801           1.044847\n",
              "2013-03-14        1502.52     0.442904602         0.9784216           1.004544\n",
              "           IMOEX.ME.VolGJRGARCH IMOEX.ME.VolRealGARCH IMOEX.ME.VolRealEGARCH\n",
              "2013-03-06            1.3800563              1.382085               1.382085\n",
              "2013-03-07            1.2704290              1.413123               1.413911\n",
              "2013-03-11            1.1720181              1.289803               1.270821\n",
              "2013-03-12            1.1106684              1.174596               1.140276\n",
              "2013-03-13            1.0582321              1.154557               1.070144\n",
              "2013-03-14            0.9972141              1.079931               1.066109\n",
              "           IMOEX.ME.VolRealGJRGARCH IMOEX.ME.VolMSGARCH IMOEX.ME.VolMSEGARCH\n",
              "2013-03-06                 1.382085           1.0588333            1.0158921\n",
              "2013-03-07                 1.402674           1.0494623            0.9983856\n",
              "2013-03-11                 1.294382           0.9204476            0.9283793\n",
              "2013-03-12                 1.196611           0.9133475            0.9102658\n",
              "2013-03-13                 1.135472           0.8926739            0.8999417\n",
              "2013-03-14                 1.083207           0.8790603            0.8858031"
            ]
          },
          "metadata": {
            "tags": []
          }
        }
      ]
    },
    {
      "cell_type": "markdown",
      "metadata": {
        "id": "lA_6nowOVjc3"
      },
      "source": [
        "**MS GJR-GARCH**"
      ],
      "id": "lA_6nowOVjc3"
    },
    {
      "cell_type": "code",
      "metadata": {
        "id": "hnpt-SDyVmC3"
      },
      "source": [
        "# Specification\n",
        "msgjrgarch.spec <- CreateSpec(variance.spec = list(model = c(\"gjrGARCH\")),\n",
        "                              distribution.spec = list(distribution = c(\"snorm\")),\n",
        "                              switch.spec = list(K = 2))"
      ],
      "id": "hnpt-SDyVmC3",
      "execution_count": 56,
      "outputs": []
    },
    {
      "cell_type": "code",
      "metadata": {
        "id": "KkskZPFCVoPK",
        "colab": {
          "base_uri": "https://localhost:8080/"
        },
        "outputId": "22f26b9a-0e72-49ed-dde9-7d50ef414a5e"
      },
      "source": [
        "# Estimation\n",
        "msgjrgarch.fit <- FitML(msgjrgarch.spec, data = IMOEX.ME.df$IMOEX.ME.Return)    \n",
        "summary(msgjrgarch.fit)"
      ],
      "id": "KkskZPFCVoPK",
      "execution_count": 57,
      "outputs": [
        {
          "output_type": "stream",
          "text": [
            "Specification type: Markov-switching\n",
            "Specification name: gjrGARCH_snorm gjrGARCH_snorm\n",
            "Number of parameters in each variance model: 4 4\n",
            "Number of parameters in each distribution: 1 1\n",
            "------------------------------------------\n",
            "Fixed parameters:\n",
            "None\n",
            "------------------------------------------\n",
            "Across regime constrained parameters:\n",
            "None\n",
            "------------------------------------------\n",
            "Fitted parameters:\n",
            "         Estimate Std. Error  t value  Pr(>|t|)\n",
            "alpha0_1   0.0232     0.0059   3.9352 4.157e-05\n",
            "alpha1_1   0.0219     0.0103   2.1320 1.650e-02\n",
            "alpha2_1   0.0241     0.0151   1.5920 5.569e-02\n",
            "beta_1     0.9361     0.0067 139.0252    <1e-16\n",
            "xi_1       0.9532     0.0321  29.7313    <1e-16\n",
            "alpha0_2   0.7456     1.3969   0.5338 2.968e-01\n",
            "alpha1_2   0.0000     0.0008   0.0057 4.977e-01\n",
            "alpha2_2   0.0561     0.1304   0.4305 3.334e-01\n",
            "beta_2     0.9366     0.1050   8.9174    <1e-16\n",
            "xi_2       0.8619     0.1683   5.1208 1.521e-07\n",
            "P_1_1      0.9947     0.0910  10.9253    <1e-16\n",
            "P_2_1      0.1985     0.0035  55.9399    <1e-16\n",
            "------------------------------------------\n",
            "Transition matrix:\n",
            "      t+1|k=1 t+1|k=2\n",
            "t|k=1  0.9947  0.0053\n",
            "t|k=2  0.1985  0.8015\n",
            "------------------------------------------\n",
            "Stable probabilities:\n",
            "State 1 State 2 \n",
            " 0.9741  0.0259 \n",
            "------------------------------------------\n",
            "LL: -2895.8284\n",
            "AIC: 5815.6568\n",
            "BIC: 5883.0227\n",
            "------------------------------------------\n"
          ],
          "name": "stdout"
        }
      ]
    },
    {
      "cell_type": "code",
      "metadata": {
        "id": "ixZcmHkiWKXi",
        "colab": {
          "base_uri": "https://localhost:8080/",
          "height": 527
        },
        "outputId": "5f9dbb84-16aa-42f1-c18f-edcdf8eefc58"
      },
      "source": [
        "# Extracting variance series from the MS GJR-GARCH model\n",
        "var.msgjrgarch <- ts(Volatility(msgjrgarch.fit))\n",
        "head(var.msgjrgarch)\n",
        "\n",
        "IMOEX.ME.df$IMOEX.ME.VolMSGJRGARCH <- as.numeric(var.msgjrgarch)\n",
        "head(IMOEX.ME.df)"
      ],
      "id": "ixZcmHkiWKXi",
      "execution_count": 58,
      "outputs": [
        {
          "output_type": "display_data",
          "data": {
            "text/plain": [
              "      t=1       t=2       t=3       t=4       t=5       t=6 \n",
              "1.1573391 1.1395587 0.9581754 0.9400725 0.9166367 0.9013425 "
            ],
            "text/latex": "\\begin{description*}\n\\item[t=1] 1.15733911892226\n\\item[t=2] 1.13955873144314\n\\item[t=3] 0.958175376035198\n\\item[t=4] 0.940072542844681\n\\item[t=5] 0.916636727922317\n\\item[t=6] 0.901342521427143\n\\end{description*}\n",
            "text/markdown": "t=1\n:   1.15733911892226t=2\n:   1.13955873144314t=3\n:   0.958175376035198t=4\n:   0.940072542844681t=5\n:   0.916636727922317t=6\n:   0.901342521427143\n\n",
            "text/html": [
              "<style>\n",
              ".dl-inline {width: auto; margin:0; padding: 0}\n",
              ".dl-inline>dt, .dl-inline>dd {float: none; width: auto; display: inline-block}\n",
              ".dl-inline>dt::after {content: \":\\0020\"; padding-right: .5ex}\n",
              ".dl-inline>dt:not(:first-of-type) {padding-left: .5ex}\n",
              "</style><dl class=dl-inline><dt>t=1</dt><dd>1.15733911892226</dd><dt>t=2</dt><dd>1.13955873144314</dd><dt>t=3</dt><dd>0.958175376035198</dd><dt>t=4</dt><dd>0.940072542844681</dd><dt>t=5</dt><dd>0.916636727922317</dd><dt>t=6</dt><dd>0.901342521427143</dd></dl>\n"
            ]
          },
          "metadata": {
            "tags": []
          }
        },
        {
          "output_type": "display_data",
          "data": {
            "text/plain": [
              "           IMOEX.ME.Close IMOEX.ME.Return IMOEX.ME.VolGARCH IMOEX.ME.VolEGARCH\n",
              "2013-03-06        1491.49     0.340503967         1.3801312           1.380051\n",
              "2013-03-07        1491.35    -0.009387966         1.2572715           1.239935\n",
              "2013-03-11        1505.93     0.972894949         1.1448001           1.114465\n",
              "2013-03-12        1499.74    -0.411893033         1.1266191           1.047736\n",
              "2013-03-13        1495.88    -0.257708731         1.0528801           1.044847\n",
              "2013-03-14        1502.52     0.442904602         0.9784216           1.004544\n",
              "           IMOEX.ME.VolGJRGARCH IMOEX.ME.VolRealGARCH IMOEX.ME.VolRealEGARCH\n",
              "2013-03-06            1.3800563              1.382085               1.382085\n",
              "2013-03-07            1.2704290              1.413123               1.413911\n",
              "2013-03-11            1.1720181              1.289803               1.270821\n",
              "2013-03-12            1.1106684              1.174596               1.140276\n",
              "2013-03-13            1.0582321              1.154557               1.070144\n",
              "2013-03-14            0.9972141              1.079931               1.066109\n",
              "           IMOEX.ME.VolRealGJRGARCH IMOEX.ME.VolMSGARCH IMOEX.ME.VolMSEGARCH\n",
              "2013-03-06                 1.382085           1.0588333            1.0158921\n",
              "2013-03-07                 1.402674           1.0494623            0.9983856\n",
              "2013-03-11                 1.294382           0.9204476            0.9283793\n",
              "2013-03-12                 1.196611           0.9133475            0.9102658\n",
              "2013-03-13                 1.135472           0.8926739            0.8999417\n",
              "2013-03-14                 1.083207           0.8790603            0.8858031\n",
              "           IMOEX.ME.VolMSGJRGARCH\n",
              "2013-03-06              1.1573391\n",
              "2013-03-07              1.1395587\n",
              "2013-03-11              0.9581754\n",
              "2013-03-12              0.9400725\n",
              "2013-03-13              0.9166367\n",
              "2013-03-14              0.9013425"
            ]
          },
          "metadata": {
            "tags": []
          }
        }
      ]
    },
    {
      "cell_type": "markdown",
      "metadata": {
        "id": "P34LgaLxXaiv"
      },
      "source": [
        "## 9. Sample split: in-sample (70%) and out-sample (30%)"
      ],
      "id": "P34LgaLxXaiv"
    },
    {
      "cell_type": "code",
      "metadata": {
        "id": "oEXlnm7ZXl3S",
        "colab": {
          "base_uri": "https://localhost:8080/",
          "height": 34
        },
        "outputId": "f47e14eb-cbe1-4f68-ab29-36bf53f1b53c"
      },
      "source": [
        "# Total number of lines \n",
        "nrow(IMOEX.ME.df)                "
      ],
      "id": "oEXlnm7ZXl3S",
      "execution_count": 59,
      "outputs": [
        {
          "output_type": "display_data",
          "data": {
            "text/plain": [
              "[1] 2026"
            ],
            "text/latex": "2026",
            "text/markdown": "2026",
            "text/html": [
              "2026"
            ]
          },
          "metadata": {
            "tags": []
          }
        }
      ]
    },
    {
      "cell_type": "code",
      "metadata": {
        "id": "yBa5ZL9QXw0J",
        "colab": {
          "base_uri": "https://localhost:8080/",
          "height": 34
        },
        "outputId": "d22680df-23de-41a0-88a0-c259554606d7"
      },
      "source": [
        "# Cut-line\n",
        "round(nrow(IMOEX.ME.df)*0.7, digits = 0)"
      ],
      "id": "yBa5ZL9QXw0J",
      "execution_count": 60,
      "outputs": [
        {
          "output_type": "display_data",
          "data": {
            "text/plain": [
              "[1] 1418"
            ],
            "text/latex": "1418",
            "text/markdown": "1418",
            "text/html": [
              "1418"
            ]
          },
          "metadata": {
            "tags": []
          }
        }
      ]
    },
    {
      "cell_type": "code",
      "metadata": {
        "id": "dlcRWLpoXzN_",
        "colab": {
          "base_uri": "https://localhost:8080/",
          "height": 34
        },
        "outputId": "acf6f5cd-367f-495f-a4a3-4b5bb4df639a"
      },
      "source": [
        "# In-sample\n",
        "IMOEX.ME.df.in <- IMOEX.ME.df[1:round(nrow(IMOEX.ME.df)*0.7, digits = 0),]\n",
        "dim(IMOEX.ME.df.in)"
      ],
      "id": "dlcRWLpoXzN_",
      "execution_count": 61,
      "outputs": [
        {
          "output_type": "display_data",
          "data": {
            "text/plain": [
              "[1] 1418   11"
            ],
            "text/latex": "\\begin{enumerate*}\n\\item 1418\n\\item 11\n\\end{enumerate*}\n",
            "text/markdown": "1. 1418\n2. 11\n\n\n",
            "text/html": [
              "<style>\n",
              ".list-inline {list-style: none; margin:0; padding: 0}\n",
              ".list-inline>li {display: inline-block}\n",
              ".list-inline>li:not(:last-child)::after {content: \"\\00b7\"; padding: 0 .5ex}\n",
              "</style>\n",
              "<ol class=list-inline><li>1418</li><li>11</li></ol>\n"
            ]
          },
          "metadata": {
            "tags": []
          }
        }
      ]
    },
    {
      "cell_type": "code",
      "metadata": {
        "id": "ZaKAIY7iX2SE",
        "colab": {
          "base_uri": "https://localhost:8080/",
          "height": 34
        },
        "outputId": "d5a181eb-8abe-435d-c599-af1e03753cca"
      },
      "source": [
        "# Out-sample\n",
        "IMOEX.ME.df.out <- IMOEX.ME.df[(round(nrow(IMOEX.ME.df)*0.7, digits = 0)+1):nrow(IMOEX.ME.df),]\n",
        "dim(IMOEX.ME.df.out)"
      ],
      "id": "ZaKAIY7iX2SE",
      "execution_count": 62,
      "outputs": [
        {
          "output_type": "display_data",
          "data": {
            "text/plain": [
              "[1] 608  11"
            ],
            "text/latex": "\\begin{enumerate*}\n\\item 608\n\\item 11\n\\end{enumerate*}\n",
            "text/markdown": "1. 608\n2. 11\n\n\n",
            "text/html": [
              "<style>\n",
              ".list-inline {list-style: none; margin:0; padding: 0}\n",
              ".list-inline>li {display: inline-block}\n",
              ".list-inline>li:not(:last-child)::after {content: \"\\00b7\"; padding: 0 .5ex}\n",
              "</style>\n",
              "<ol class=list-inline><li>608</li><li>11</li></ol>\n"
            ]
          },
          "metadata": {
            "tags": []
          }
        }
      ]
    },
    {
      "cell_type": "markdown",
      "metadata": {
        "id": "Ae_49vbJJAY1"
      },
      "source": [
        "# 10. Forecast - GARCH models"
      ],
      "id": "Ae_49vbJJAY1"
    },
    {
      "cell_type": "code",
      "metadata": {
        "id": "-eJ97HPPJEH5",
        "colab": {
          "base_uri": "https://localhost:8080/"
        },
        "outputId": "98f290f7-1d39-4b8a-8e16-a85c6030f708"
      },
      "source": [
        "# Packages\n",
        "install.packages('Metrics')\n",
        "install.packages('MLmetrics')\n",
        "install.packages('multDM')\n",
        "install.packages('MCS')\n",
        "install.packages('sandwich')\n",
        "install.packages('lmtest')\n",
        "install.packages('forecast')\n",
        "\n",
        "library(Metrics)\n",
        "library(MLmetrics)\n",
        "library(multDM)\n",
        "library(MCS)\n",
        "library(sandwich)\n",
        "library(lmtest)\n",
        "library(forecast)"
      ],
      "id": "-eJ97HPPJEH5",
      "execution_count": 63,
      "outputs": [
        {
          "output_type": "stream",
          "text": [
            "Installing package into ‘/usr/local/lib/R/site-library’\n",
            "(as ‘lib’ is unspecified)\n",
            "\n",
            "Installing package into ‘/usr/local/lib/R/site-library’\n",
            "(as ‘lib’ is unspecified)\n",
            "\n",
            "also installing the dependencies ‘bitops’, ‘gtools’, ‘caTools’, ‘gplots’, ‘ROCR’\n",
            "\n",
            "\n",
            "Installing package into ‘/usr/local/lib/R/site-library’\n",
            "(as ‘lib’ is unspecified)\n",
            "\n",
            "also installing the dependencies ‘timeSeries’, ‘fastICA’, ‘gss’, ‘stabledist’, ‘fGarch’, ‘fBasics’, ‘MTS’\n",
            "\n",
            "\n",
            "Installing package into ‘/usr/local/lib/R/site-library’\n",
            "(as ‘lib’ is unspecified)\n",
            "\n",
            "Installing package into ‘/usr/local/lib/R/site-library’\n",
            "(as ‘lib’ is unspecified)\n",
            "\n",
            "Installing package into ‘/usr/local/lib/R/site-library’\n",
            "(as ‘lib’ is unspecified)\n",
            "\n",
            "Installing package into ‘/usr/local/lib/R/site-library’\n",
            "(as ‘lib’ is unspecified)\n",
            "\n",
            "\n",
            "Attaching package: ‘MLmetrics’\n",
            "\n",
            "\n",
            "The following object is masked from ‘package:base’:\n",
            "\n",
            "    Recall\n",
            "\n",
            "\n",
            "Registered S3 methods overwritten by 'forecast':\n",
            "  method       from\n",
            "  fitted.Arima TSA \n",
            "  plot.Arima   TSA \n",
            "\n",
            "\n",
            "Attaching package: ‘forecast’\n",
            "\n",
            "\n",
            "The following object is masked from ‘package:Metrics’:\n",
            "\n",
            "    accuracy\n",
            "\n",
            "\n",
            "The following object is masked from ‘package:FinTS’:\n",
            "\n",
            "    Acf\n",
            "\n",
            "\n",
            "The following object is masked from ‘package:aTSA’:\n",
            "\n",
            "    forecast\n",
            "\n",
            "\n"
          ],
          "name": "stderr"
        }
      ]
    },
    {
      "cell_type": "markdown",
      "metadata": {
        "id": "eDF61ZNDK7-L"
      },
      "source": [
        "## (a) Linear GARCH"
      ],
      "id": "eDF61ZNDK7-L"
    },
    {
      "cell_type": "markdown",
      "metadata": {
        "id": "zQvg4fhykI3G"
      },
      "source": [
        "**Forecast**"
      ],
      "id": "zQvg4fhykI3G"
    },
    {
      "cell_type": "code",
      "metadata": {
        "id": "4kWDFtEyQj8x"
      },
      "source": [
        "# Model specification\n",
        "garch.spec.pred <- garch.spec\n",
        "setfixed(garch.spec.pred) <- as.list(coef(garch.fit))"
      ],
      "id": "4kWDFtEyQj8x",
      "execution_count": 64,
      "outputs": []
    },
    {
      "cell_type": "code",
      "metadata": {
        "id": "LJ35908xRCpF"
      },
      "source": [
        "# Model adjustment\n",
        "garch.fit.pred <- ugarchfit(garch.spec,\n",
        "                            IMOEX.ME.df$IMOEX.ME.Return,\n",
        "                            out.sample = dim(IMOEX.ME.df.out)[1])"
      ],
      "id": "LJ35908xRCpF",
      "execution_count": 65,
      "outputs": []
    },
    {
      "cell_type": "code",
      "metadata": {
        "id": "Q6VYCPYGSISr"
      },
      "source": [
        "# Forecast calculated through adjustment\n",
        "garch.pred.a <- ugarchforecast(garch.fit.pred,\n",
        "                               n.ahead = 1,\n",
        "                               n.roll = dim(IMOEX.ME.df.out)[1])\n",
        "\n",
        "garch.forecast.a <- xts(sigma(garch.pred.a)[1,],\n",
        "                       move(as.Date(names(sigma(garch.pred.a)[1,])), by = 1))"
      ],
      "id": "Q6VYCPYGSISr",
      "execution_count": 66,
      "outputs": []
    },
    {
      "cell_type": "code",
      "metadata": {
        "id": "E5KGemi8gXh2"
      },
      "source": [
        "# Forecast calculated using specification\n",
        "garch.pred.b <- ugarchforecast(garch.spec.pred,\n",
        "                               n.ahead = 1,\n",
        "                               n.roll = dim(IMOEX.ME.df.out)[1],\n",
        "                               data = IMOEX.ME.df$IMOEX.ME.Return,\n",
        "                               out.sample = dim(IMOEX.ME.df.out)[1])\n",
        "\n",
        "garch.forecast.b <- xts(sigma(garch.pred.b)[1,],\n",
        "                        move(as.Date(names(sigma(garch.pred.b)[1,])), by = 1))  "
      ],
      "id": "E5KGemi8gXh2",
      "execution_count": 67,
      "outputs": []
    },
    {
      "cell_type": "code",
      "metadata": {
        "id": "Yg9KKURbgy7R"
      },
      "source": [
        "# Model filtering\n",
        "garch.filt.pred <- ugarchfilter(garch.spec.pred,\n",
        "                                data = IMOEX.ME.df$IMOEX.ME.Return,\n",
        "                                n.old = nrow(IMOEX.ME.df) - dim(IMOEX.ME.df.out)[1])\n",
        "\n",
        "garch.filt <- tail(sigma(garch.filt.pred), dim(IMOEX.ME.df.out)[1])                                 "
      ],
      "id": "Yg9KKURbgy7R",
      "execution_count": 68,
      "outputs": []
    },
    {
      "cell_type": "code",
      "metadata": {
        "id": "9p-8qghPVjR8",
        "colab": {
          "base_uri": "https://localhost:8080/",
          "height": 136
        },
        "outputId": "8a4496c9-6cf4-4c85-9931-0a3a8d036c0b"
      },
      "source": [
        "# Comparative\n",
        "colnames(garch.filt) <- 'filter'\n",
        "colnames(garch.forecast.a) <- 'forecast1'\n",
        "colnames(garch.forecast.b) <- 'forecast2'\n",
        "\n",
        "garch.ftest <- cbind(garch.filt,\n",
        "                    garch.forecast.a,\n",
        "                    garch.forecast.b)\n",
        "head(round(garch.ftest, digits = 4))"
      ],
      "id": "9p-8qghPVjR8",
      "execution_count": 69,
      "outputs": [
        {
          "output_type": "display_data",
          "data": {
            "text/plain": [
              "           filter forecast1 forecast2\n",
              "2018-12-17 1.0179    1.0360    1.0179\n",
              "2018-12-18 0.9824    1.0041    0.9824\n",
              "2018-12-19 0.9547    0.9809    0.9547\n",
              "2018-12-20 0.9253    0.9585    0.9253\n",
              "2018-12-21 0.8994    0.9385    0.8994\n",
              "2018-12-24 0.8767    0.9220    0.8767"
            ]
          },
          "metadata": {
            "tags": []
          }
        }
      ]
    },
    {
      "cell_type": "code",
      "metadata": {
        "id": "XvWtLYxOK7cE",
        "colab": {
          "base_uri": "https://localhost:8080/",
          "height": 252
        },
        "outputId": "e2bddf4f-7df1-4657-cf31-a0f47fc408f5"
      },
      "source": [
        "sigma.garch.pred.a <- ts(garch.forecast.a[-1,])\n",
        "sigma.garch.pred.b <- ts(garch.forecast.b[-1,])\n",
        "sigma.garch.true <- ts(IMOEX.ME.df.out$IMOEX.ME.VolGARCH)\n",
        "\n",
        "sigma.garch <- na.omit(cbind(sigma.garch.pred.a, \n",
        "                            sigma.garch.pred.b,\n",
        "                            sigma.garch.true))\n",
        "head(sigma.garch)"
      ],
      "id": "XvWtLYxOK7cE",
      "execution_count": 70,
      "outputs": [
        {
          "output_type": "display_data",
          "data": {
            "text/plain": [
              "  sigma.garch.pred.a sigma.garch.pred.b sigma.garch.true\n",
              "1 1.0041475          0.9824436          1.0360377       \n",
              "2 0.9809436          0.9547080          0.9651954       \n",
              "3 0.9584727          0.9253309          0.9114675       \n",
              "4 0.9384866          0.8994394          0.8562373       \n",
              "5 0.9219583          0.8766729          0.8089913       \n",
              "6 0.9657383          0.9183185          0.7685554       "
            ],
            "text/latex": "A Time Series: 6 × 3\n\\begin{tabular}{r|lll}\n  & sigma.garch.pred.a & sigma.garch.pred.b & sigma.garch.true\\\\\n\\hline\n\t1 & 1.0041475 & 0.9824436 & 1.0360377\\\\\n\t2 & 0.9809436 & 0.9547080 & 0.9651954\\\\\n\t3 & 0.9584727 & 0.9253309 & 0.9114675\\\\\n\t4 & 0.9384866 & 0.8994394 & 0.8562373\\\\\n\t5 & 0.9219583 & 0.8766729 & 0.8089913\\\\\n\t6 & 0.9657383 & 0.9183185 & 0.7685554\\\\\n\\end{tabular}\n",
            "text/markdown": "\nA Time Series: 6 × 3\n\n| <!--/--> | sigma.garch.pred.a | sigma.garch.pred.b | sigma.garch.true |\n|---|---|---|---|\n| 1 | 1.0041475 | 0.9824436 | 1.0360377 |\n| 2 | 0.9809436 | 0.9547080 | 0.9651954 |\n| 3 | 0.9584727 | 0.9253309 | 0.9114675 |\n| 4 | 0.9384866 | 0.8994394 | 0.8562373 |\n| 5 | 0.9219583 | 0.8766729 | 0.8089913 |\n| 6 | 0.9657383 | 0.9183185 | 0.7685554 |\n\n",
            "text/html": [
              "<table class=\"dataframe\">\n",
              "<caption>A Time Series: 6 × 3</caption>\n",
              "<thead>\n",
              "\t<tr><th></th><th scope=col>sigma.garch.pred.a</th><th scope=col>sigma.garch.pred.b</th><th scope=col>sigma.garch.true</th></tr>\n",
              "</thead>\n",
              "<tbody>\n",
              "\t<tr><th scope=row>1</th><td>1.0041475</td><td>0.9824436</td><td>1.0360377</td></tr>\n",
              "\t<tr><th scope=row>2</th><td>0.9809436</td><td>0.9547080</td><td>0.9651954</td></tr>\n",
              "\t<tr><th scope=row>3</th><td>0.9584727</td><td>0.9253309</td><td>0.9114675</td></tr>\n",
              "\t<tr><th scope=row>4</th><td>0.9384866</td><td>0.8994394</td><td>0.8562373</td></tr>\n",
              "\t<tr><th scope=row>5</th><td>0.9219583</td><td>0.8766729</td><td>0.8089913</td></tr>\n",
              "\t<tr><th scope=row>6</th><td>0.9657383</td><td>0.9183185</td><td>0.7685554</td></tr>\n",
              "</tbody>\n",
              "</table>\n"
            ]
          },
          "metadata": {
            "tags": []
          }
        }
      ]
    },
    {
      "cell_type": "markdown",
      "metadata": {
        "id": "mSx7eTn3kPct"
      },
      "source": [
        "**Performance evaluation**"
      ],
      "id": "mSx7eTn3kPct"
    },
    {
      "cell_type": "code",
      "metadata": {
        "id": "U_o8n_8ckYWr",
        "colab": {
          "base_uri": "https://localhost:8080/",
          "height": 68
        },
        "outputId": "40025496-a7be-4a99-b203-4bfb60879054"
      },
      "source": [
        "# Forecast Error - Forecast a\n",
        "garch.error.a <- sigma.garch[,'sigma.garch.pred.a'] - sigma.garch[,'sigma.garch.true']\n",
        "head(garch.error.a)"
      ],
      "id": "U_o8n_8ckYWr",
      "execution_count": 71,
      "outputs": [
        {
          "output_type": "display_data",
          "data": {
            "text/plain": [
              "A Time Series:\n",
              "[1] -0.03189024  0.01574816  0.04700527  0.08224936  0.11296704  0.19718294"
            ],
            "text/latex": "A Time Series:\\\\\\begin{enumerate*}\n\\item -0.0318902385313082\n\\item 0.015748158989437\n\\item 0.0470052675504203\n\\item 0.0822493568604716\n\\item 0.112967043583204\n\\item 0.197182937380751\n\\end{enumerate*}\n",
            "text/markdown": "A Time Series:  \n1. -0.0318902385313082\n2. 0.015748158989437\n3. 0.0470052675504203\n4. 0.0822493568604716\n5. 0.112967043583204\n6. 0.197182937380751\n\n\n",
            "text/html": [
              "A Time Series:<br><style>\n",
              ".list-inline {list-style: none; margin:0; padding: 0}\n",
              ".list-inline>li {display: inline-block}\n",
              ".list-inline>li:not(:last-child)::after {content: \"\\00b7\"; padding: 0 .5ex}\n",
              "</style>\n",
              "<ol class=list-inline><li>-0.0318902385313082</li><li>0.015748158989437</li><li>0.0470052675504203</li><li>0.0822493568604716</li><li>0.112967043583204</li><li>0.197182937380751</li></ol>\n"
            ]
          },
          "metadata": {
            "tags": []
          }
        }
      ]
    },
    {
      "cell_type": "code",
      "metadata": {
        "id": "hrJcPxcLlIy3",
        "colab": {
          "base_uri": "https://localhost:8080/",
          "height": 68
        },
        "outputId": "804d61ca-9032-48dc-8ac4-a9b39baba215"
      },
      "source": [
        "# Forecast Error - Forecast b\n",
        "garch.error.b <- sigma.garch[,'sigma.garch.pred.b'] - sigma.garch[,'sigma.garch.true']\n",
        "head(garch.error.b)"
      ],
      "id": "hrJcPxcLlIy3",
      "execution_count": 72,
      "outputs": [
        {
          "output_type": "display_data",
          "data": {
            "text/plain": [
              "A Time Series:\n",
              "[1] -0.05359412 -0.01048735  0.01386344  0.04320213  0.06768167  0.14976310"
            ],
            "text/latex": "A Time Series:\\\\\\begin{enumerate*}\n\\item -0.0535941242611694\n\\item -0.0104873531836295\n\\item 0.013863444679012\n\\item 0.043202128499699\n\\item 0.0676816699167774\n\\item 0.149763096649504\n\\end{enumerate*}\n",
            "text/markdown": "A Time Series:  \n1. -0.0535941242611694\n2. -0.0104873531836295\n3. 0.013863444679012\n4. 0.043202128499699\n5. 0.0676816699167774\n6. 0.149763096649504\n\n\n",
            "text/html": [
              "A Time Series:<br><style>\n",
              ".list-inline {list-style: none; margin:0; padding: 0}\n",
              ".list-inline>li {display: inline-block}\n",
              ".list-inline>li:not(:last-child)::after {content: \"\\00b7\"; padding: 0 .5ex}\n",
              "</style>\n",
              "<ol class=list-inline><li>-0.0535941242611694</li><li>-0.0104873531836295</li><li>0.013863444679012</li><li>0.043202128499699</li><li>0.0676816699167774</li><li>0.149763096649504</li></ol>\n"
            ]
          },
          "metadata": {
            "tags": []
          }
        }
      ]
    },
    {
      "cell_type": "code",
      "metadata": {
        "id": "vVvmYhWSK6Jx",
        "colab": {
          "base_uri": "https://localhost:8080/",
          "height": 34
        },
        "outputId": "c0e41c82-c983-4a17-d7eb-5f68c7a4e6bf"
      },
      "source": [
        "# Mean Square Error Loss - Forecast a\n",
        "garch.mse.a <- MSE(sigma.garch[,'sigma.garch.pred.a'], \n",
        "                  sigma.garch[,'sigma.garch.true'])\n",
        "round(garch.mse.a, digits = 3)     "
      ],
      "id": "vVvmYhWSK6Jx",
      "execution_count": 73,
      "outputs": [
        {
          "output_type": "display_data",
          "data": {
            "text/plain": [
              "[1] 2.574"
            ],
            "text/latex": "2.574",
            "text/markdown": "2.574",
            "text/html": [
              "2.574"
            ]
          },
          "metadata": {
            "tags": []
          }
        }
      ]
    },
    {
      "cell_type": "code",
      "metadata": {
        "id": "P64kl9rCllXj",
        "colab": {
          "base_uri": "https://localhost:8080/",
          "height": 34
        },
        "outputId": "926a5dea-5fe9-4aac-b97f-f0306d3c16b2"
      },
      "source": [
        "# Mean Square Error Loss - Forecast b\n",
        "garch.mse.b <- MSE(sigma.garch[,'sigma.garch.pred.b'],\n",
        "                  sigma.garch[,'sigma.garch.true'])\n",
        "round(garch.mse.b, digits = 3) "
      ],
      "id": "P64kl9rCllXj",
      "execution_count": 74,
      "outputs": [
        {
          "output_type": "display_data",
          "data": {
            "text/plain": [
              "[1] 2.364"
            ],
            "text/latex": "2.364",
            "text/markdown": "2.364",
            "text/html": [
              "2.364"
            ]
          },
          "metadata": {
            "tags": []
          }
        }
      ]
    },
    {
      "cell_type": "code",
      "metadata": {
        "id": "ahWBmWNDLabm",
        "colab": {
          "base_uri": "https://localhost:8080/",
          "height": 34
        },
        "outputId": "e85ff065-4413-4017-87a4-77551a603eb2"
      },
      "source": [
        "# Mean Absolute Error Loss - Forecast a\n",
        "garch.mae.a <- MAE(sigma.garch[,'sigma.garch.pred.a'], \n",
        "                  sigma.garch[,'sigma.garch.true'])\n",
        "round(garch.mae.a, digits = 3)"
      ],
      "id": "ahWBmWNDLabm",
      "execution_count": 75,
      "outputs": [
        {
          "output_type": "display_data",
          "data": {
            "text/plain": [
              "[1] 0.516"
            ],
            "text/latex": "0.516",
            "text/markdown": "0.516",
            "text/html": [
              "0.516"
            ]
          },
          "metadata": {
            "tags": []
          }
        }
      ]
    },
    {
      "cell_type": "code",
      "metadata": {
        "id": "0K7TTaZNl2Y4",
        "colab": {
          "base_uri": "https://localhost:8080/",
          "height": 34
        },
        "outputId": "20bbd168-b938-47b9-9548-e2411c2eb5ab"
      },
      "source": [
        "# Mean Absolute Error Loss - Forecast b\n",
        "garch.mae.b <- MAE(sigma.garch[,'sigma.garch.pred.b'], \n",
        "                  sigma.garch[,'sigma.garch.true'])\n",
        "round(garch.mae.b, digits = 3)"
      ],
      "id": "0K7TTaZNl2Y4",
      "execution_count": 76,
      "outputs": [
        {
          "output_type": "display_data",
          "data": {
            "text/plain": [
              "[1] 0.46"
            ],
            "text/latex": "0.46",
            "text/markdown": "0.46",
            "text/html": [
              "0.46"
            ]
          },
          "metadata": {
            "tags": []
          }
        }
      ]
    },
    {
      "cell_type": "code",
      "metadata": {
        "id": "BQXtSoWcLeK6",
        "colab": {
          "base_uri": "https://localhost:8080/",
          "height": 34
        },
        "outputId": "ce37c437-a611-4928-c86d-782ab8a4bbb4"
      },
      "source": [
        "# Root Mean Square Error Loss - Forecast a\n",
        "garch.rmse.a <- RMSE(sigma.garch[,'sigma.garch.pred.a'], \n",
        "                    sigma.garch[,'sigma.garch.true'])\n",
        "round(garch.rmse.a, digits = 3)"
      ],
      "id": "BQXtSoWcLeK6",
      "execution_count": 77,
      "outputs": [
        {
          "output_type": "display_data",
          "data": {
            "text/plain": [
              "[1] 1.604"
            ],
            "text/latex": "1.604",
            "text/markdown": "1.604",
            "text/html": [
              "1.604"
            ]
          },
          "metadata": {
            "tags": []
          }
        }
      ]
    },
    {
      "cell_type": "code",
      "metadata": {
        "id": "hIrzvC1CmNvg",
        "colab": {
          "base_uri": "https://localhost:8080/",
          "height": 34
        },
        "outputId": "971e6667-33ea-4760-ede2-663c4f6f3599"
      },
      "source": [
        "# Root Mean Square Error Loss - Forecast b\n",
        "garch.rmse.b <- RMSE(sigma.garch[,'sigma.garch.pred.b'], \n",
        "                    sigma.garch[,'sigma.garch.true'])\n",
        "round(garch.rmse.b, digits = 3)"
      ],
      "id": "hIrzvC1CmNvg",
      "execution_count": 78,
      "outputs": [
        {
          "output_type": "display_data",
          "data": {
            "text/plain": [
              "[1] 1.538"
            ],
            "text/latex": "1.538",
            "text/markdown": "1.538",
            "text/html": [
              "1.538"
            ]
          },
          "metadata": {
            "tags": []
          }
        }
      ]
    },
    {
      "cell_type": "code",
      "metadata": {
        "id": "hla4zyfwnSkl",
        "colab": {
          "base_uri": "https://localhost:8080/",
          "height": 34
        },
        "outputId": "f6c80f1c-63ca-48f2-c21d-76c4ee014190"
      },
      "source": [
        "# Quasi-likelihood loss function - forecast a\n",
        "h <- sigma.garch[,'sigma.garch.true']\n",
        "\n",
        "h.hat.a <- sigma.garch[,'sigma.garch.pred.a']     \n",
        "garch.qlike.a <- mean(log(sqrt(h)) + h.hat.a/sqrt(h))\n",
        "round(garch.qlike.a, digits = 5) "
      ],
      "id": "hla4zyfwnSkl",
      "execution_count": 79,
      "outputs": [
        {
          "output_type": "display_data",
          "data": {
            "text/plain": [
              "[1] 1.08731"
            ],
            "text/latex": "1.08731",
            "text/markdown": "1.08731",
            "text/html": [
              "1.08731"
            ]
          },
          "metadata": {
            "tags": []
          }
        }
      ]
    },
    {
      "cell_type": "code",
      "metadata": {
        "id": "V13-JFWyn-r0",
        "colab": {
          "base_uri": "https://localhost:8080/",
          "height": 34
        },
        "outputId": "64a720d9-5a2d-42ad-da48-697ed99d7f66"
      },
      "source": [
        "# Quasi-likelihood loss function - forecast b\n",
        "h.hat.b <- sigma.garch[,'sigma.garch.pred.b']\n",
        "garch.qlike.b <- mean(log(sqrt(h)) + h.hat.b/sqrt(h))\n",
        "round(garch.qlike.b, digits = 5)   "
      ],
      "id": "V13-JFWyn-r0",
      "execution_count": 80,
      "outputs": [
        {
          "output_type": "display_data",
          "data": {
            "text/plain": [
              "[1] 1.0434"
            ],
            "text/latex": "1.0434",
            "text/markdown": "1.0434",
            "text/html": [
              "1.0434"
            ]
          },
          "metadata": {
            "tags": []
          }
        }
      ]
    },
    {
      "cell_type": "code",
      "metadata": {
        "id": "kDFbGnTIoLi9",
        "colab": {
          "base_uri": "https://localhost:8080/",
          "height": 119
        },
        "outputId": "666c3f72-fb63-49b3-dbb7-b3f406dc8f7d"
      },
      "source": [
        "# Diebold-Mariano Test (accuracy test) - test 1\n",
        "f.a <- sigma.garch[,'sigma.garch.pred.a']\n",
        "f.b <- sigma.garch[,'sigma.garch.pred.b']\n",
        "y <- sigma.garch[,'sigma.garch.true']\n",
        "\n",
        "DM.test(f.a, f.b, y, loss.type = \"SE\", c = FALSE, H1 = \"same\")"
      ],
      "id": "kDFbGnTIoLi9",
      "execution_count": 81,
      "outputs": [
        {
          "output_type": "display_data",
          "data": {
            "text/plain": [
              "\n",
              "\tDiebold-Mariano test\n",
              "\n",
              "data:  f.a and f.b and y\n",
              "statistic = 5.4726, forecast horizon = 1, p-value = 4.436e-08\n",
              "alternative hypothesis: Forecast f1 and f2 have different accuracy.\n"
            ]
          },
          "metadata": {
            "tags": []
          }
        }
      ]
    },
    {
      "cell_type": "code",
      "metadata": {
        "id": "FLLLPUQtoyZS",
        "colab": {
          "base_uri": "https://localhost:8080/",
          "height": 136
        },
        "outputId": "34bf527f-e67a-42ac-94f3-d86cc1f07a71"
      },
      "source": [
        "# Diebold-Mariano test for predictive accuracy - test 2\n",
        "e.a <- garch.error.a\n",
        "e.b <- garch.error.b\n",
        "\n",
        "dm.test(e.a, e.b, alternative = \"two.sided\", h = 1, power = 2)"
      ],
      "id": "FLLLPUQtoyZS",
      "execution_count": 82,
      "outputs": [
        {
          "output_type": "display_data",
          "data": {
            "text/plain": [
              "\n",
              "\tDiebold-Mariano Test\n",
              "\n",
              "data:  e.ae.b\n",
              "DM = 5.4681, Forecast horizon = 1, Loss function power = 2, p-value =\n",
              "6.655e-08\n",
              "alternative hypothesis: two.sided\n"
            ]
          },
          "metadata": {
            "tags": []
          }
        }
      ]
    },
    {
      "cell_type": "code",
      "metadata": {
        "id": "K8wRfezFrxtJ",
        "colab": {
          "base_uri": "https://localhost:8080/",
          "height": 34
        },
        "outputId": "b674fc71-6d5a-45d8-f835-77b7df2a5590"
      },
      "source": [
        "# Quasi-likelihood Loss Function For Volatility Forecasts - forecast a\n",
        "garch.qlike.a <- mean(LossVol(sigma.garch[,'sigma.garch.true'],\n",
        "                              sigma.garch[,'sigma.garch.pred.a'],\n",
        "                              which = \"QLIKE\"))\n",
        "round(garch.qlike.a, digits = 3)"
      ],
      "id": "K8wRfezFrxtJ",
      "execution_count": 83,
      "outputs": [
        {
          "output_type": "display_data",
          "data": {
            "text/plain": [
              "[1] 1.702"
            ],
            "text/latex": "1.702",
            "text/markdown": "1.702",
            "text/html": [
              "1.702"
            ]
          },
          "metadata": {
            "tags": []
          }
        }
      ]
    },
    {
      "cell_type": "code",
      "metadata": {
        "id": "HUVoT5c5sFMt",
        "colab": {
          "base_uri": "https://localhost:8080/",
          "height": 34
        },
        "outputId": "bb152682-5155-4833-dc86-34925abc9f62"
      },
      "source": [
        "# Quasi-likelihood Loss Function For Volatility Forecasts - forecast 1b\n",
        "garch.qlike.b <- mean(LossVol(sigma.garch[,'sigma.garch.true'],\n",
        "                              sigma.garch[,'sigma.garch.pred.b'],\n",
        "                              which = \"QLIKE\"))\n",
        "round(garch.qlike.b, digits = 3)"
      ],
      "id": "HUVoT5c5sFMt",
      "execution_count": 84,
      "outputs": [
        {
          "output_type": "display_data",
          "data": {
            "text/plain": [
              "[1] 1.555"
            ],
            "text/latex": "1.555",
            "text/markdown": "1.555",
            "text/html": [
              "1.555"
            ]
          },
          "metadata": {
            "tags": []
          }
        }
      ]
    },
    {
      "cell_type": "code",
      "metadata": {
        "id": "9BsA_6HBsOJV",
        "colab": {
          "base_uri": "https://localhost:8080/",
          "height": 34
        },
        "outputId": "914a453f-5085-4bcf-fab1-dd8d87804532"
      },
      "source": [
        "# Log loss / Cross-Entropy Loss -  forecast a\n",
        "garch.logloss.a <- LogLoss(sigma.garch[,'sigma.garch.pred.a'],\n",
        "                           sigma.garch[,'sigma.garch.true'])\n",
        "round(garch.logloss.a, digits = 3)"
      ],
      "id": "9BsA_6HBsOJV",
      "execution_count": 85,
      "outputs": [
        {
          "output_type": "display_data",
          "data": {
            "text/plain": [
              "[1] -18.451"
            ],
            "text/latex": "-18.451",
            "text/markdown": "-18.451",
            "text/html": [
              "-18.451"
            ]
          },
          "metadata": {
            "tags": []
          }
        }
      ]
    },
    {
      "cell_type": "code",
      "metadata": {
        "id": "WYgOyvussxPG",
        "colab": {
          "base_uri": "https://localhost:8080/",
          "height": 34
        },
        "outputId": "7f7472b4-6d91-458f-8c24-6a209aac7a14"
      },
      "source": [
        "# Log loss / Cross-Entropy Loss -  forecast b\n",
        "garch.logloss.b <- LogLoss(sigma.garch[,'sigma.garch.pred.b'],\n",
        "                           sigma.garch[,'sigma.garch.true'])\n",
        "round(garch.logloss.b, digits = 3)"
      ],
      "id": "WYgOyvussxPG",
      "execution_count": 86,
      "outputs": [
        {
          "output_type": "display_data",
          "data": {
            "text/plain": [
              "[1] -18.677"
            ],
            "text/latex": "-18.677",
            "text/markdown": "-18.677",
            "text/html": [
              "-18.677"
            ]
          },
          "metadata": {
            "tags": []
          }
        }
      ]
    },
    {
      "cell_type": "code",
      "metadata": {
        "id": "fvV0JmWWs_-H",
        "colab": {
          "base_uri": "https://localhost:8080/",
          "height": 170
        },
        "outputId": "e6b270dd-300d-48db-ce39-6c47e30ba489"
      },
      "source": [
        "# Linear regression to assess forecast performance - forecast a\n",
        "garch.model.a <- lm(sigma.garch.true ~ sigma.garch.pred.a, \n",
        "                    data = sigma.garch)\n",
        "round(coeftest(garch.model.a, NeweyWest(garch.model.a,\n",
        "                                        lag = bwNeweyWest(garch.model.a),\n",
        "                                        prewhite = F)), 3)\n",
        "round(summary(garch.model.a)$adj.r.squared, 3)"
      ],
      "id": "fvV0JmWWs_-H",
      "execution_count": 87,
      "outputs": [
        {
          "output_type": "display_data",
          "data": {
            "text/plain": [
              "\n",
              "t test of coefficients:\n",
              "\n",
              "                   Estimate Std. Error t value  Pr(>|t|)    \n",
              "(Intercept)          -3.744      0.413  -9.057 < 2.2e-16 ***\n",
              "sigma.garch.pred.a    4.601      0.403  11.431 < 2.2e-16 ***\n",
              "---\n",
              "Signif. codes:  0 ‘***’ 0.001 ‘**’ 0.01 ‘*’ 0.05 ‘.’ 0.1 ‘ ’ 1\n"
            ]
          },
          "metadata": {
            "tags": []
          }
        },
        {
          "output_type": "display_data",
          "data": {
            "text/plain": [
              "[1] 0.901"
            ],
            "text/latex": "0.901",
            "text/markdown": "0.901",
            "text/html": [
              "0.901"
            ]
          },
          "metadata": {
            "tags": []
          }
        }
      ]
    },
    {
      "cell_type": "code",
      "metadata": {
        "id": "BKQCfwbmWcez",
        "colab": {
          "base_uri": "https://localhost:8080/",
          "height": 170
        },
        "outputId": "8a000f43-ae9a-4f9e-e1a8-04c2eb1c5751"
      },
      "source": [
        "# Linear regression to assess forecast performance - forecast b\n",
        "garch.model.b <- lm(sigma.garch.true ~ sigma.garch.pred.b, \n",
        "                    data = sigma.garch)\n",
        "round(coeftest(garch.model.b, NeweyWest(garch.model.b,\n",
        "                                        lag = bwNeweyWest(garch.model.b),\n",
        "                                        prewhite = F)), 3)\n",
        "round(summary(garch.model.b)$adj.r.squared, 3)"
      ],
      "id": "BKQCfwbmWcez",
      "execution_count": 88,
      "outputs": [
        {
          "output_type": "display_data",
          "data": {
            "text/plain": [
              "\n",
              "t test of coefficients:\n",
              "\n",
              "                   Estimate Std. Error t value  Pr(>|t|)    \n",
              "(Intercept)          -2.836      0.320  -8.873 < 2.2e-16 ***\n",
              "sigma.garch.pred.b    3.887      0.321  12.107 < 2.2e-16 ***\n",
              "---\n",
              "Signif. codes:  0 ‘***’ 0.001 ‘**’ 0.01 ‘*’ 0.05 ‘.’ 0.1 ‘ ’ 1\n"
            ]
          },
          "metadata": {
            "tags": []
          }
        },
        {
          "output_type": "display_data",
          "data": {
            "text/plain": [
              "[1] 0.912"
            ],
            "text/latex": "0.912",
            "text/markdown": "0.912",
            "text/html": [
              "0.912"
            ]
          },
          "metadata": {
            "tags": []
          }
        }
      ]
    },
    {
      "cell_type": "markdown",
      "metadata": {
        "id": "qYxZcfeREZ3G"
      },
      "source": [
        "##(b) EGARCH"
      ],
      "id": "qYxZcfeREZ3G"
    },
    {
      "cell_type": "markdown",
      "metadata": {
        "id": "eU8nVcegGWrx"
      },
      "source": [
        "**Forecast**"
      ],
      "id": "eU8nVcegGWrx"
    },
    {
      "cell_type": "code",
      "metadata": {
        "id": "GGr6qMWPGY56"
      },
      "source": [
        "# Model specification\n",
        "egarch.spec.pred <- egarch.spec\n",
        "setfixed(egarch.spec.pred) <- as.list(coef(egarch.fit))"
      ],
      "id": "GGr6qMWPGY56",
      "execution_count": 89,
      "outputs": []
    },
    {
      "cell_type": "code",
      "metadata": {
        "id": "GDk5w7ACGfr5"
      },
      "source": [
        "# Model adjustment\n",
        "egarch.fit.pred <- ugarchfit(egarch.spec,\n",
        "                             IMOEX.ME.df$IMOEX.ME.Return,\n",
        "                             out.sample = dim(IMOEX.ME.df.out)[1])"
      ],
      "id": "GDk5w7ACGfr5",
      "execution_count": 90,
      "outputs": []
    },
    {
      "cell_type": "code",
      "metadata": {
        "id": "YpL93AZ4Gmyu"
      },
      "source": [
        "# Forecast calculated through adjustment\n",
        "egarch.pred.a <- ugarchforecast(egarch.fit.pred,\n",
        "                                n.ahead = 1,\n",
        "                                n.roll = dim(IMOEX.ME.df.out)[1])\n",
        "\n",
        "egarch.forecast.a <- xts(sigma(egarch.pred.a)[1,],\n",
        "                         move(as.Date(names(sigma(egarch.pred.a)[1,])), by = 1))"
      ],
      "id": "YpL93AZ4Gmyu",
      "execution_count": 91,
      "outputs": []
    },
    {
      "cell_type": "code",
      "metadata": {
        "id": "Q97EAAIsGwDR"
      },
      "source": [
        "# Forecast calculated using specification\n",
        "egarch.pred.b <- ugarchforecast(egarch.spec.pred,\n",
        "                                n.ahead = 1,\n",
        "                                n.roll = dim(IMOEX.ME.df.out)[1],\n",
        "                                data = IMOEX.ME.df$IMOEX.ME.Return,\n",
        "                                out.sample = dim(IMOEX.ME.df.out)[1])\n",
        "\n",
        "egarch.forecast.b <- xts(sigma(egarch.pred.b)[1,],\n",
        "                         move(as.Date(names(sigma(egarch.pred.b)[1,])), by = 1))               "
      ],
      "id": "Q97EAAIsGwDR",
      "execution_count": 92,
      "outputs": []
    },
    {
      "cell_type": "code",
      "metadata": {
        "id": "QSI_GcusG5Yq"
      },
      "source": [
        "# Model filtering\n",
        "egarch.filt.pred <- ugarchfilter(egarch.spec.pred,\n",
        "                                data = IMOEX.ME.df$IMOEX.ME.Return,\n",
        "                                n.old = nrow(IMOEX.ME.df) - dim(IMOEX.ME.df.out)[1])\n",
        "\n",
        "egarch.filt <- tail(sigma(egarch.filt.pred), dim(IMOEX.ME.df.out)[1]) "
      ],
      "id": "QSI_GcusG5Yq",
      "execution_count": 93,
      "outputs": []
    },
    {
      "cell_type": "code",
      "metadata": {
        "colab": {
          "base_uri": "https://localhost:8080/",
          "height": 136
        },
        "id": "Vz2srX-ZHB-M",
        "outputId": "fd2ade51-92d3-4255-8f39-25d05cf2b12b"
      },
      "source": [
        "# Comparative\n",
        "colnames(egarch.filt) <- 'filter'\n",
        "colnames(egarch.forecast.a) <- 'forecast1'\n",
        "colnames(egarch.forecast.b) <- 'forecast2'\n",
        "\n",
        "egarch.ftest <- cbind(egarch.filt, \n",
        "                      egarch.forecast.a,\n",
        "                      egarch.forecast.b)\n",
        "head(round(egarch.ftest, digits = 4))"
      ],
      "id": "Vz2srX-ZHB-M",
      "execution_count": 94,
      "outputs": [
        {
          "output_type": "display_data",
          "data": {
            "text/plain": [
              "           filter forecast1 forecast2\n",
              "2018-12-17 1.1387    1.1492    1.1387\n",
              "2018-12-18 1.1099    1.1194    1.1099\n",
              "2018-12-19 1.0956    1.1049    1.0956\n",
              "2018-12-20 1.0424    1.0531    1.0424\n",
              "2018-12-21 1.0187    1.0301    1.0187\n",
              "2018-12-24 0.9973    1.0097    0.9973"
            ]
          },
          "metadata": {
            "tags": []
          }
        }
      ]
    },
    {
      "cell_type": "code",
      "metadata": {
        "colab": {
          "base_uri": "https://localhost:8080/",
          "height": 252
        },
        "id": "Mq5-c2zDHIzy",
        "outputId": "59fbfb6d-04eb-4a93-f573-09bac0576d29"
      },
      "source": [
        "sigma.egarch.pred.a <- ts(egarch.forecast.a[-1,])\n",
        "sigma.egarch.pred.b <- ts(egarch.forecast.b[-1,])\n",
        "sigma.egarch.true <- ts(IMOEX.ME.df.out$IMOEX.ME.VolEGARCH)\n",
        "\n",
        "sigma.egarch <- na.omit(cbind(sigma.egarch.pred.a,\n",
        "                              sigma.egarch.pred.b,\n",
        "                              sigma.egarch.true))\n",
        "head(sigma.egarch)"
      ],
      "id": "Mq5-c2zDHIzy",
      "execution_count": 95,
      "outputs": [
        {
          "output_type": "display_data",
          "data": {
            "text/plain": [
              "  sigma.egarch.pred.a sigma.egarch.pred.b sigma.egarch.true\n",
              "1 1.119407            1.1098768           1.2965635        \n",
              "2 1.104932            1.0956304           1.2318265        \n",
              "3 1.053101            1.0423898           1.2004059        \n",
              "4 1.030072            1.0186804           1.0865765        \n",
              "5 1.009742            0.9973404           1.0377097        \n",
              "6 1.096555            1.0817650           0.9946879        "
            ],
            "text/latex": "A Time Series: 6 × 3\n\\begin{tabular}{r|lll}\n  & sigma.egarch.pred.a & sigma.egarch.pred.b & sigma.egarch.true\\\\\n\\hline\n\t1 & 1.119407 & 1.1098768 & 1.2965635\\\\\n\t2 & 1.104932 & 1.0956304 & 1.2318265\\\\\n\t3 & 1.053101 & 1.0423898 & 1.2004059\\\\\n\t4 & 1.030072 & 1.0186804 & 1.0865765\\\\\n\t5 & 1.009742 & 0.9973404 & 1.0377097\\\\\n\t6 & 1.096555 & 1.0817650 & 0.9946879\\\\\n\\end{tabular}\n",
            "text/markdown": "\nA Time Series: 6 × 3\n\n| <!--/--> | sigma.egarch.pred.a | sigma.egarch.pred.b | sigma.egarch.true |\n|---|---|---|---|\n| 1 | 1.119407 | 1.1098768 | 1.2965635 |\n| 2 | 1.104932 | 1.0956304 | 1.2318265 |\n| 3 | 1.053101 | 1.0423898 | 1.2004059 |\n| 4 | 1.030072 | 1.0186804 | 1.0865765 |\n| 5 | 1.009742 | 0.9973404 | 1.0377097 |\n| 6 | 1.096555 | 1.0817650 | 0.9946879 |\n\n",
            "text/html": [
              "<table class=\"dataframe\">\n",
              "<caption>A Time Series: 6 × 3</caption>\n",
              "<thead>\n",
              "\t<tr><th></th><th scope=col>sigma.egarch.pred.a</th><th scope=col>sigma.egarch.pred.b</th><th scope=col>sigma.egarch.true</th></tr>\n",
              "</thead>\n",
              "<tbody>\n",
              "\t<tr><th scope=row>1</th><td>1.119407</td><td>1.1098768</td><td>1.2965635</td></tr>\n",
              "\t<tr><th scope=row>2</th><td>1.104932</td><td>1.0956304</td><td>1.2318265</td></tr>\n",
              "\t<tr><th scope=row>3</th><td>1.053101</td><td>1.0423898</td><td>1.2004059</td></tr>\n",
              "\t<tr><th scope=row>4</th><td>1.030072</td><td>1.0186804</td><td>1.0865765</td></tr>\n",
              "\t<tr><th scope=row>5</th><td>1.009742</td><td>0.9973404</td><td>1.0377097</td></tr>\n",
              "\t<tr><th scope=row>6</th><td>1.096555</td><td>1.0817650</td><td>0.9946879</td></tr>\n",
              "</tbody>\n",
              "</table>\n"
            ]
          },
          "metadata": {
            "tags": []
          }
        }
      ]
    },
    {
      "cell_type": "markdown",
      "metadata": {
        "id": "kHT5c985HYvC"
      },
      "source": [
        "**Performance evaluation**"
      ],
      "id": "kHT5c985HYvC"
    },
    {
      "cell_type": "code",
      "metadata": {
        "colab": {
          "base_uri": "https://localhost:8080/",
          "height": 68
        },
        "id": "2zj41DH_HbJB",
        "outputId": "f30bd994-3bb8-4d77-872c-a3ac6078c027"
      },
      "source": [
        "# Forecast Error - Forecast a\n",
        "egarch.error.a <- sigma.egarch[,'sigma.egarch.pred.a'] - sigma.egarch[,'sigma.egarch.true']\n",
        "head(egarch.error.a)"
      ],
      "id": "2zj41DH_HbJB",
      "execution_count": 96,
      "outputs": [
        {
          "output_type": "display_data",
          "data": {
            "text/plain": [
              "A Time Series:\n",
              "[1] -0.17715694 -0.12689432 -0.14730496 -0.05650427 -0.02796779  0.10186677"
            ],
            "text/latex": "A Time Series:\\\\\\begin{enumerate*}\n\\item -0.177156940487778\n\\item -0.126894324375734\n\\item -0.147304956666887\n\\item -0.0565042672614273\n\\item -0.0279677859625029\n\\item 0.101866770140362\n\\end{enumerate*}\n",
            "text/markdown": "A Time Series:  \n1. -0.177156940487778\n2. -0.126894324375734\n3. -0.147304956666887\n4. -0.0565042672614273\n5. -0.0279677859625029\n6. 0.101866770140362\n\n\n",
            "text/html": [
              "A Time Series:<br><style>\n",
              ".list-inline {list-style: none; margin:0; padding: 0}\n",
              ".list-inline>li {display: inline-block}\n",
              ".list-inline>li:not(:last-child)::after {content: \"\\00b7\"; padding: 0 .5ex}\n",
              "</style>\n",
              "<ol class=list-inline><li>-0.177156940487778</li><li>-0.126894324375734</li><li>-0.147304956666887</li><li>-0.0565042672614273</li><li>-0.0279677859625029</li><li>0.101866770140362</li></ol>\n"
            ]
          },
          "metadata": {
            "tags": []
          }
        }
      ]
    },
    {
      "cell_type": "code",
      "metadata": {
        "colab": {
          "base_uri": "https://localhost:8080/",
          "height": 68
        },
        "id": "qGfmTbM3HhNe",
        "outputId": "6feefa79-af8f-4683-a432-a8a19c0d5dc0"
      },
      "source": [
        "# Forecast Error - Forecast b\n",
        "egarch.error.b <- sigma.egarch[,'sigma.egarch.pred.b'] - sigma.egarch[,'sigma.egarch.true']\n",
        "head(egarch.error.b)"
      ],
      "id": "qGfmTbM3HhNe",
      "execution_count": 97,
      "outputs": [
        {
          "output_type": "display_data",
          "data": {
            "text/plain": [
              "A Time Series:\n",
              "[1] -0.18668675 -0.13619610 -0.15801613 -0.06789607 -0.04036933  0.08707708"
            ],
            "text/latex": "A Time Series:\\\\\\begin{enumerate*}\n\\item -0.186686752524038\n\\item -0.136196100562535\n\\item -0.158016128122046\n\\item -0.0678960705934206\n\\item -0.040369327775949\n\\item 0.0870770812912045\n\\end{enumerate*}\n",
            "text/markdown": "A Time Series:  \n1. -0.186686752524038\n2. -0.136196100562535\n3. -0.158016128122046\n4. -0.0678960705934206\n5. -0.040369327775949\n6. 0.0870770812912045\n\n\n",
            "text/html": [
              "A Time Series:<br><style>\n",
              ".list-inline {list-style: none; margin:0; padding: 0}\n",
              ".list-inline>li {display: inline-block}\n",
              ".list-inline>li:not(:last-child)::after {content: \"\\00b7\"; padding: 0 .5ex}\n",
              "</style>\n",
              "<ol class=list-inline><li>-0.186686752524038</li><li>-0.136196100562535</li><li>-0.158016128122046</li><li>-0.0678960705934206</li><li>-0.040369327775949</li><li>0.0870770812912045</li></ol>\n"
            ]
          },
          "metadata": {
            "tags": []
          }
        }
      ]
    },
    {
      "cell_type": "code",
      "metadata": {
        "colab": {
          "base_uri": "https://localhost:8080/",
          "height": 34
        },
        "id": "ghBbYBQ7HocG",
        "outputId": "6faf2c22-daed-4aeb-e730-0e480f70c3d3"
      },
      "source": [
        "# Mean Square Error Loss - Forecast a\n",
        "egarch.mse.a <- MSE(sigma.egarch[,'sigma.egarch.pred.a'],\n",
        "                    sigma.egarch[,'sigma.egarch.true'])\n",
        "round(egarch.mse.a, digits = 3)     "
      ],
      "id": "ghBbYBQ7HocG",
      "execution_count": 98,
      "outputs": [
        {
          "output_type": "display_data",
          "data": {
            "text/plain": [
              "[1] 1.571"
            ],
            "text/latex": "1.571",
            "text/markdown": "1.571",
            "text/html": [
              "1.571"
            ]
          },
          "metadata": {
            "tags": []
          }
        }
      ]
    },
    {
      "cell_type": "code",
      "metadata": {
        "colab": {
          "base_uri": "https://localhost:8080/",
          "height": 34
        },
        "id": "_D9c09GZHtiG",
        "outputId": "4a4b35fd-9bd2-4e50-a7ce-3ed6b9c8db36"
      },
      "source": [
        "# Mean Square Error Loss - Forecast b\n",
        "egarch.mse.b <- MSE(sigma.egarch[,'sigma.egarch.pred.b'],\n",
        "                    sigma.egarch[,'sigma.egarch.true'])\n",
        "round(egarch.mse.b, digits = 3) "
      ],
      "id": "_D9c09GZHtiG",
      "execution_count": 99,
      "outputs": [
        {
          "output_type": "display_data",
          "data": {
            "text/plain": [
              "[1] 1.447"
            ],
            "text/latex": "1.447",
            "text/markdown": "1.447",
            "text/html": [
              "1.447"
            ]
          },
          "metadata": {
            "tags": []
          }
        }
      ]
    },
    {
      "cell_type": "code",
      "metadata": {
        "colab": {
          "base_uri": "https://localhost:8080/",
          "height": 34
        },
        "id": "0YnAkzX0HyHX",
        "outputId": "c5380ad4-5851-4d99-878b-5fd954e3af8b"
      },
      "source": [
        "# Mean Absolute Error Loss - Forecast a\n",
        "egarch.mae.a <- MAE(sigma.egarch[,'sigma.egarch.pred.a'],\n",
        "                    sigma.egarch[,'sigma.egarch.true'])\n",
        "round(egarch.mae.a, digits = 3)"
      ],
      "id": "0YnAkzX0HyHX",
      "execution_count": 100,
      "outputs": [
        {
          "output_type": "display_data",
          "data": {
            "text/plain": [
              "[1] 0.43"
            ],
            "text/latex": "0.43",
            "text/markdown": "0.43",
            "text/html": [
              "0.43"
            ]
          },
          "metadata": {
            "tags": []
          }
        }
      ]
    },
    {
      "cell_type": "code",
      "metadata": {
        "colab": {
          "base_uri": "https://localhost:8080/",
          "height": 34
        },
        "id": "brmCUjE_H4bJ",
        "outputId": "342a3347-e3e8-4cb1-8116-7454dbdcb011"
      },
      "source": [
        "# Mean Absolute Error Loss - Forecast b\n",
        "egarch.mae.b <- MAE(sigma.egarch[,'sigma.egarch.pred.b'],\n",
        "                    sigma.egarch[,'sigma.egarch.true'])\n",
        "round(egarch.mae.b, digits = 3)"
      ],
      "id": "brmCUjE_H4bJ",
      "execution_count": 101,
      "outputs": [
        {
          "output_type": "display_data",
          "data": {
            "text/plain": [
              "[1] 0.395"
            ],
            "text/latex": "0.395",
            "text/markdown": "0.395",
            "text/html": [
              "0.395"
            ]
          },
          "metadata": {
            "tags": []
          }
        }
      ]
    },
    {
      "cell_type": "code",
      "metadata": {
        "colab": {
          "base_uri": "https://localhost:8080/",
          "height": 34
        },
        "id": "kBL2NOllIBLP",
        "outputId": "06130b42-4878-49e2-cadd-ea49661b39b3"
      },
      "source": [
        "# Root Mean Square Error Loss - Forecast a\n",
        "egarch.rmse.a <- RMSE(sigma.egarch[,'sigma.egarch.pred.a'],\n",
        "                      sigma.egarch[,'sigma.egarch.true'])\n",
        "round(egarch.rmse.a, digits = 3)"
      ],
      "id": "kBL2NOllIBLP",
      "execution_count": 102,
      "outputs": [
        {
          "output_type": "display_data",
          "data": {
            "text/plain": [
              "[1] 1.253"
            ],
            "text/latex": "1.253",
            "text/markdown": "1.253",
            "text/html": [
              "1.253"
            ]
          },
          "metadata": {
            "tags": []
          }
        }
      ]
    },
    {
      "cell_type": "code",
      "metadata": {
        "colab": {
          "base_uri": "https://localhost:8080/",
          "height": 34
        },
        "id": "YZw8WsYrIGZr",
        "outputId": "26a0d78d-24a6-4868-c17e-80062b6edd31"
      },
      "source": [
        "# Root Mean Square Error Loss - Forecast b\n",
        "egarch.rmse.b <- RMSE(sigma.egarch[,'sigma.egarch.pred.b'],\n",
        "                      sigma.egarch[,'sigma.egarch.true'])\n",
        "round(egarch.rmse.b, digits = 3)"
      ],
      "id": "YZw8WsYrIGZr",
      "execution_count": 103,
      "outputs": [
        {
          "output_type": "display_data",
          "data": {
            "text/plain": [
              "[1] 1.203"
            ],
            "text/latex": "1.203",
            "text/markdown": "1.203",
            "text/html": [
              "1.203"
            ]
          },
          "metadata": {
            "tags": []
          }
        }
      ]
    },
    {
      "cell_type": "code",
      "metadata": {
        "colab": {
          "base_uri": "https://localhost:8080/",
          "height": 34
        },
        "id": "lvf7k5Y2IK3Z",
        "outputId": "2fe669b7-a4f2-4b48-ce12-55015c23d921"
      },
      "source": [
        "# Quasi-likelihood loss function - forecast a\n",
        "h <- sigma.egarch[,'sigma.egarch.true']\n",
        "\n",
        "h.hat.a <- sigma.egarch[,'sigma.egarch.pred.a']     \n",
        "egarch.qlike.a <- mean(log(sqrt(h)) + h.hat.a/sqrt(h))\n",
        "round(egarch.qlike.a, digits = 5) "
      ],
      "id": "lvf7k5Y2IK3Z",
      "execution_count": 104,
      "outputs": [
        {
          "output_type": "display_data",
          "data": {
            "text/plain": [
              "[1] 1.04598"
            ],
            "text/latex": "1.04598",
            "text/markdown": "1.04598",
            "text/html": [
              "1.04598"
            ]
          },
          "metadata": {
            "tags": []
          }
        }
      ]
    },
    {
      "cell_type": "code",
      "metadata": {
        "colab": {
          "base_uri": "https://localhost:8080/",
          "height": 34
        },
        "id": "ac17LDnAIdRq",
        "outputId": "9cd5983d-d0c7-4256-f76f-621ae8bf44e4"
      },
      "source": [
        "# Quasi-likelihood loss function - forecast b\n",
        "h.hat.b <- sigma.egarch[,'sigma.egarch.pred.b']\n",
        "egarch.qlike.b <- mean(log(sqrt(h)) + h.hat.b/sqrt(h))\n",
        "round(egarch.qlike.b, digits = 5) "
      ],
      "id": "ac17LDnAIdRq",
      "execution_count": 105,
      "outputs": [
        {
          "output_type": "display_data",
          "data": {
            "text/plain": [
              "[1] 1.0152"
            ],
            "text/latex": "1.0152",
            "text/markdown": "1.0152",
            "text/html": [
              "1.0152"
            ]
          },
          "metadata": {
            "tags": []
          }
        }
      ]
    },
    {
      "cell_type": "code",
      "metadata": {
        "colab": {
          "base_uri": "https://localhost:8080/",
          "height": 119
        },
        "id": "MDtn0VGCIhYb",
        "outputId": "088027fe-2d3e-42ec-92cd-d402ae8cf9c1"
      },
      "source": [
        "# Diebold-Mariano Test (accuracy test) - test 1\n",
        "f.a <- sigma.egarch[,'sigma.egarch.pred.a']\n",
        "f.b <- sigma.egarch[,'sigma.egarch.pred.b']\n",
        "y <- sigma.egarch[,'sigma.egarch.true']\n",
        "\n",
        "DM.test(f.a, f.b, y, loss.type = \"SE\", c = FALSE, H1 = \"same\")"
      ],
      "id": "MDtn0VGCIhYb",
      "execution_count": 106,
      "outputs": [
        {
          "output_type": "display_data",
          "data": {
            "text/plain": [
              "\n",
              "\tDiebold-Mariano test\n",
              "\n",
              "data:  f.a and f.b and y\n",
              "statistic = 5.0355, forecast horizon = 1, p-value = 4.766e-07\n",
              "alternative hypothesis: Forecast f1 and f2 have different accuracy.\n"
            ]
          },
          "metadata": {
            "tags": []
          }
        }
      ]
    },
    {
      "cell_type": "code",
      "metadata": {
        "colab": {
          "base_uri": "https://localhost:8080/",
          "height": 136
        },
        "id": "iTwM8a02ImcX",
        "outputId": "55217815-3243-43db-8544-afd8a07da79c"
      },
      "source": [
        "# Diebold-Mariano test for predictive accuracy - test 2\n",
        "e.a <- egarch.error.a\n",
        "e.b <- egarch.error.b\n",
        "\n",
        "dm.test(e.a, e.b, alternative = \"two.sided\", h = 1, power = 2)"
      ],
      "id": "iTwM8a02ImcX",
      "execution_count": 107,
      "outputs": [
        {
          "output_type": "display_data",
          "data": {
            "text/plain": [
              "\n",
              "\tDiebold-Mariano Test\n",
              "\n",
              "data:  e.ae.b\n",
              "DM = 5.0314, Forecast horizon = 1, Loss function power = 2, p-value =\n",
              "6.424e-07\n",
              "alternative hypothesis: two.sided\n"
            ]
          },
          "metadata": {
            "tags": []
          }
        }
      ]
    },
    {
      "cell_type": "code",
      "metadata": {
        "colab": {
          "base_uri": "https://localhost:8080/",
          "height": 34
        },
        "id": "ubakDsZgIphu",
        "outputId": "df1f75ec-26aa-4d38-c501-6e318763760a"
      },
      "source": [
        "# Quasi-likelihood Loss Function For Volatility Forecasts - forecast a\n",
        "egarch.qlike.a <- mean(LossVol(sigma.egarch[,'sigma.egarch.true'],\n",
        "                              sigma.egarch[,'sigma.egarch.pred.a'],\n",
        "                              which = \"QLIKE\"))\n",
        "round(egarch.qlike.a, digits = 3)"
      ],
      "id": "ubakDsZgIphu",
      "execution_count": 108,
      "outputs": [
        {
          "output_type": "display_data",
          "data": {
            "text/plain": [
              "[1] 1.469"
            ],
            "text/latex": "1.469",
            "text/markdown": "1.469",
            "text/html": [
              "1.469"
            ]
          },
          "metadata": {
            "tags": []
          }
        }
      ]
    },
    {
      "cell_type": "code",
      "metadata": {
        "colab": {
          "base_uri": "https://localhost:8080/",
          "height": 34
        },
        "id": "a0KYFwLDIwmm",
        "outputId": "fb23d221-d63b-478e-95d7-5b50a2691808"
      },
      "source": [
        "# Quasi-likelihood Loss Function For Volatility Forecasts - forecast b\n",
        "egarch.qlike.b <- mean(LossVol(sigma.egarch[,'sigma.egarch.true'],\n",
        "                              sigma.egarch[,'sigma.egarch.pred.b'],\n",
        "                              which = \"QLIKE\"))\n",
        "round(egarch.qlike.b, digits = 3)"
      ],
      "id": "a0KYFwLDIwmm",
      "execution_count": 109,
      "outputs": [
        {
          "output_type": "display_data",
          "data": {
            "text/plain": [
              "[1] 1.375"
            ],
            "text/latex": "1.375",
            "text/markdown": "1.375",
            "text/html": [
              "1.375"
            ]
          },
          "metadata": {
            "tags": []
          }
        }
      ]
    },
    {
      "cell_type": "code",
      "metadata": {
        "colab": {
          "base_uri": "https://localhost:8080/",
          "height": 34
        },
        "id": "fegx1LuTI2iB",
        "outputId": "ce2f6ea2-758b-4bca-a28f-939916da3309"
      },
      "source": [
        "# Log loss / Cross-Entropy Loss -  forecast a\n",
        "egarch.logloss.a <- LogLoss(sigma.egarch[,'sigma.egarch.pred.a'],\n",
        "                            sigma.egarch[,'sigma.egarch.true'])\n",
        "round(egarch.logloss.a, digits = 3)"
      ],
      "id": "fegx1LuTI2iB",
      "execution_count": 110,
      "outputs": [
        {
          "output_type": "display_data",
          "data": {
            "text/plain": [
              "[1] -15.436"
            ],
            "text/latex": "-15.436",
            "text/markdown": "-15.436",
            "text/html": [
              "-15.436"
            ]
          },
          "metadata": {
            "tags": []
          }
        }
      ]
    },
    {
      "cell_type": "code",
      "metadata": {
        "colab": {
          "base_uri": "https://localhost:8080/",
          "height": 34
        },
        "id": "Rorhgye9I9H4",
        "outputId": "765e6f70-b168-4689-fae8-a0de706870de"
      },
      "source": [
        "# Log loss / Cross-Entropy Loss -  forecast b\n",
        "egarch.logloss.b <- LogLoss(sigma.egarch[,'sigma.egarch.pred.b'],\n",
        "                            sigma.egarch[,'sigma.egarch.true'])\n",
        "round(egarch.logloss.b, digits = 3)"
      ],
      "id": "Rorhgye9I9H4",
      "execution_count": 111,
      "outputs": [
        {
          "output_type": "display_data",
          "data": {
            "text/plain": [
              "[1] -15.522"
            ],
            "text/latex": "-15.522",
            "text/markdown": "-15.522",
            "text/html": [
              "-15.522"
            ]
          },
          "metadata": {
            "tags": []
          }
        }
      ]
    },
    {
      "cell_type": "code",
      "metadata": {
        "colab": {
          "base_uri": "https://localhost:8080/",
          "height": 170
        },
        "id": "cztScVEKJB5j",
        "outputId": "8573eec9-4bf4-4a11-cf41-0d8c1f2620ad"
      },
      "source": [
        "# Linear regression to assess forecast performance - forecast a\n",
        "egarch.model.a <- lm(sigma.egarch.true ~ sigma.egarch.pred.a, \n",
        "                    data = sigma.egarch)\n",
        "round(coeftest(egarch.model.a, NeweyWest(egarch.model.a,\n",
        "                                        lag = bwNeweyWest(egarch.model.a),\n",
        "                                        prewhite = F)), 3)\n",
        "round(summary(egarch.model.a)$adj.r.squared, 3)"
      ],
      "id": "cztScVEKJB5j",
      "execution_count": 112,
      "outputs": [
        {
          "output_type": "display_data",
          "data": {
            "text/plain": [
              "\n",
              "t test of coefficients:\n",
              "\n",
              "                    Estimate Std. Error t value  Pr(>|t|)    \n",
              "(Intercept)           -2.975      0.412  -7.212 < 2.2e-16 ***\n",
              "sigma.egarch.pred.a    3.963      0.412   9.607 < 2.2e-16 ***\n",
              "---\n",
              "Signif. codes:  0 ‘***’ 0.001 ‘**’ 0.01 ‘*’ 0.05 ‘.’ 0.1 ‘ ’ 1\n"
            ]
          },
          "metadata": {
            "tags": []
          }
        },
        {
          "output_type": "display_data",
          "data": {
            "text/plain": [
              "[1] 0.867"
            ],
            "text/latex": "0.867",
            "text/markdown": "0.867",
            "text/html": [
              "0.867"
            ]
          },
          "metadata": {
            "tags": []
          }
        }
      ]
    },
    {
      "cell_type": "code",
      "metadata": {
        "colab": {
          "base_uri": "https://localhost:8080/",
          "height": 170
        },
        "id": "9ro2-RuaJIu0",
        "outputId": "f672efe5-3890-48ad-9212-152cec082c3f"
      },
      "source": [
        "# Linear regression to assess forecast performance - forecast b\n",
        "egarch.model.b <- lm(sigma.egarch.true ~ sigma.egarch.pred.b, \n",
        "                    data = sigma.egarch)\n",
        "round(coeftest(egarch.model.b, NeweyWest(egarch.model.b,\n",
        "                                        lag = bwNeweyWest(egarch.model.b),\n",
        "                                        prewhite = F)), 3)\n",
        "round(summary(egarch.model.b)$adj.r.squared, 3)"
      ],
      "id": "9ro2-RuaJIu0",
      "execution_count": 113,
      "outputs": [
        {
          "output_type": "display_data",
          "data": {
            "text/plain": [
              "\n",
              "t test of coefficients:\n",
              "\n",
              "                    Estimate Std. Error t value  Pr(>|t|)    \n",
              "(Intercept)           -2.386      0.331  -7.214 < 2.2e-16 ***\n",
              "sigma.egarch.pred.b    3.475      0.336  10.333 < 2.2e-16 ***\n",
              "---\n",
              "Signif. codes:  0 ‘***’ 0.001 ‘**’ 0.01 ‘*’ 0.05 ‘.’ 0.1 ‘ ’ 1\n"
            ]
          },
          "metadata": {
            "tags": []
          }
        },
        {
          "output_type": "display_data",
          "data": {
            "text/plain": [
              "[1] 0.885"
            ],
            "text/latex": "0.885",
            "text/markdown": "0.885",
            "text/html": [
              "0.885"
            ]
          },
          "metadata": {
            "tags": []
          }
        }
      ]
    },
    {
      "cell_type": "markdown",
      "metadata": {
        "id": "oFQkdPS-eVHu"
      },
      "source": [
        "##(c) GJR-GARCH"
      ],
      "id": "oFQkdPS-eVHu"
    },
    {
      "cell_type": "markdown",
      "metadata": {
        "id": "0IkxEGn3evX0"
      },
      "source": [
        "**Forecast**"
      ],
      "id": "0IkxEGn3evX0"
    },
    {
      "cell_type": "code",
      "metadata": {
        "id": "Bu5hsRqZezGx"
      },
      "source": [
        "# Model specification\n",
        "gjrgarch.spec.pred <- gjrgarch.spec\n",
        "setfixed(gjrgarch.spec.pred) <- as.list(coef(gjrgarch.fit))"
      ],
      "id": "Bu5hsRqZezGx",
      "execution_count": 114,
      "outputs": []
    },
    {
      "cell_type": "code",
      "metadata": {
        "id": "pnj0hU2se9-J"
      },
      "source": [
        "# Model adjustment\n",
        "gjrgarch.fit.pred <- ugarchfit(gjrgarch.spec,\n",
        "                              IMOEX.ME.df$IMOEX.ME.Return,\n",
        "                              out.sample = dim(IMOEX.ME.df.out)[1])"
      ],
      "id": "pnj0hU2se9-J",
      "execution_count": 115,
      "outputs": []
    },
    {
      "cell_type": "code",
      "metadata": {
        "id": "_3Rv4lN1fGbp"
      },
      "source": [
        "# Forecast calculated through adjustment\n",
        "gjrgarch.pred.a <- ugarchforecast(gjrgarch.fit.pred,\n",
        "                                 n.ahead = 1,\n",
        "                                 n.roll = dim(IMOEX.ME.df.out)[1])\n",
        "\n",
        "gjrgarch.forecast.a <- xts(sigma(gjrgarch.pred.a)[1,],\n",
        "                           move(as.Date(names(sigma(gjrgarch.pred.a)[1,])), by = 1))"
      ],
      "id": "_3Rv4lN1fGbp",
      "execution_count": 116,
      "outputs": []
    },
    {
      "cell_type": "code",
      "metadata": {
        "id": "BuoBNGH8fSEL"
      },
      "source": [
        "# Forecast calculated using specification\n",
        "gjrgarch.pred.b <- ugarchforecast(gjrgarch.spec.pred,\n",
        "                                  n.ahead = 1,\n",
        "                                  n.roll = dim(IMOEX.ME.df.out)[1],\n",
        "                                  data = IMOEX.ME.df$IMOEX.ME.Return,\n",
        "                                  out.sample = dim(IMOEX.ME.df.out)[1])\n",
        "\n",
        "gjrgarch.forecast.b <- xts(sigma(gjrgarch.pred.b)[1,],\n",
        "                           move(as.Date(names(sigma(gjrgarch.pred.b)[1,])), by = 1)) "
      ],
      "id": "BuoBNGH8fSEL",
      "execution_count": 117,
      "outputs": []
    },
    {
      "cell_type": "code",
      "metadata": {
        "id": "D8Sva5A_fh9s"
      },
      "source": [
        "# Model filtering\n",
        "gjrgarch.filt.pred <- ugarchfilter(gjrgarch.spec.pred,\n",
        "                                   data = IMOEX.ME.df$IMOEX.ME.Return,\n",
        "                                   n.old = nrow(IMOEX.ME.df) - dim(IMOEX.ME.df.out)[1])\n",
        "\n",
        "gjrgarch.filt <- tail(sigma(gjrgarch.filt.pred), dim(IMOEX.ME.df.out)[1]) "
      ],
      "id": "D8Sva5A_fh9s",
      "execution_count": 118,
      "outputs": []
    },
    {
      "cell_type": "code",
      "metadata": {
        "colab": {
          "base_uri": "https://localhost:8080/",
          "height": 136
        },
        "id": "Cud0ITmzfjyf",
        "outputId": "b7f0b5cb-46f4-4748-c4da-05ff5ae8ce4c"
      },
      "source": [
        "# Comparative\n",
        "colnames(gjrgarch.filt) <- 'filter'\n",
        "colnames(gjrgarch.forecast.a) <- 'forecast1'\n",
        "colnames(gjrgarch.forecast.b) <- 'forecast2'\n",
        "\n",
        "gjrgarch.ftest <- cbind(gjrgarch.filt, \n",
        "                        gjrgarch.forecast.a,\n",
        "                        gjrgarch.forecast.b)\n",
        "head(round(gjrgarch.ftest, digits = 4))"
      ],
      "id": "Cud0ITmzfjyf",
      "execution_count": 119,
      "outputs": [
        {
          "output_type": "display_data",
          "data": {
            "text/plain": [
              "           filter forecast1 forecast2\n",
              "2018-12-17 1.0600    1.0783    1.0600\n",
              "2018-12-18 1.0277    1.0459    1.0277\n",
              "2018-12-19 1.0031    1.0221    1.0031\n",
              "2018-12-20 0.9711    0.9927    0.9711\n",
              "2018-12-21 0.9460    0.9699    0.9460\n",
              "2018-12-24 0.9236    0.9502    0.9236"
            ]
          },
          "metadata": {
            "tags": []
          }
        }
      ]
    },
    {
      "cell_type": "code",
      "metadata": {
        "colab": {
          "base_uri": "https://localhost:8080/",
          "height": 252
        },
        "id": "HujuXn--flgj",
        "outputId": "2d509c60-c83e-4881-9cce-40e2576b72de"
      },
      "source": [
        "sigma.gjrgarch.pred.a <- ts(gjrgarch.forecast.a[-1,])\n",
        "sigma.gjrgarch.pred.b <- ts(gjrgarch.forecast.b[-1,])\n",
        "sigma.gjrgarch.true <- ts(IMOEX.ME.df.out$IMOEX.ME.VolGJRGARCH)\n",
        "\n",
        "sigma.gjrgarch <- na.omit(cbind(sigma.gjrgarch.pred.a,\n",
        "                                sigma.gjrgarch.pred.b,\n",
        "                                sigma.gjrgarch.true))\n",
        "head(sigma.gjrgarch)"
      ],
      "id": "HujuXn--flgj",
      "execution_count": 120,
      "outputs": [
        {
          "output_type": "display_data",
          "data": {
            "text/plain": [
              "  sigma.gjrgarch.pred.a sigma.gjrgarch.pred.b sigma.gjrgarch.true\n",
              "1 1.0459030             1.0276574             1.1235576          \n",
              "2 1.0221018             1.0031240             1.0560798          \n",
              "3 0.9927091             0.9710608             1.0062579          \n",
              "4 0.9699370             0.9460321             0.9429591          \n",
              "5 0.9502083             0.9235739             0.8949768          \n",
              "6 1.0100813             0.9824885             0.8529887          "
            ],
            "text/latex": "A Time Series: 6 × 3\n\\begin{tabular}{r|lll}\n  & sigma.gjrgarch.pred.a & sigma.gjrgarch.pred.b & sigma.gjrgarch.true\\\\\n\\hline\n\t1 & 1.0459030 & 1.0276574 & 1.1235576\\\\\n\t2 & 1.0221018 & 1.0031240 & 1.0560798\\\\\n\t3 & 0.9927091 & 0.9710608 & 1.0062579\\\\\n\t4 & 0.9699370 & 0.9460321 & 0.9429591\\\\\n\t5 & 0.9502083 & 0.9235739 & 0.8949768\\\\\n\t6 & 1.0100813 & 0.9824885 & 0.8529887\\\\\n\\end{tabular}\n",
            "text/markdown": "\nA Time Series: 6 × 3\n\n| <!--/--> | sigma.gjrgarch.pred.a | sigma.gjrgarch.pred.b | sigma.gjrgarch.true |\n|---|---|---|---|\n| 1 | 1.0459030 | 1.0276574 | 1.1235576 |\n| 2 | 1.0221018 | 1.0031240 | 1.0560798 |\n| 3 | 0.9927091 | 0.9710608 | 1.0062579 |\n| 4 | 0.9699370 | 0.9460321 | 0.9429591 |\n| 5 | 0.9502083 | 0.9235739 | 0.8949768 |\n| 6 | 1.0100813 | 0.9824885 | 0.8529887 |\n\n",
            "text/html": [
              "<table class=\"dataframe\">\n",
              "<caption>A Time Series: 6 × 3</caption>\n",
              "<thead>\n",
              "\t<tr><th></th><th scope=col>sigma.gjrgarch.pred.a</th><th scope=col>sigma.gjrgarch.pred.b</th><th scope=col>sigma.gjrgarch.true</th></tr>\n",
              "</thead>\n",
              "<tbody>\n",
              "\t<tr><th scope=row>1</th><td>1.0459030</td><td>1.0276574</td><td>1.1235576</td></tr>\n",
              "\t<tr><th scope=row>2</th><td>1.0221018</td><td>1.0031240</td><td>1.0560798</td></tr>\n",
              "\t<tr><th scope=row>3</th><td>0.9927091</td><td>0.9710608</td><td>1.0062579</td></tr>\n",
              "\t<tr><th scope=row>4</th><td>0.9699370</td><td>0.9460321</td><td>0.9429591</td></tr>\n",
              "\t<tr><th scope=row>5</th><td>0.9502083</td><td>0.9235739</td><td>0.8949768</td></tr>\n",
              "\t<tr><th scope=row>6</th><td>1.0100813</td><td>0.9824885</td><td>0.8529887</td></tr>\n",
              "</tbody>\n",
              "</table>\n"
            ]
          },
          "metadata": {
            "tags": []
          }
        }
      ]
    },
    {
      "cell_type": "markdown",
      "metadata": {
        "id": "bUYdP2aVfnV8"
      },
      "source": [
        "**Performance evaluation**"
      ],
      "id": "bUYdP2aVfnV8"
    },
    {
      "cell_type": "code",
      "metadata": {
        "colab": {
          "base_uri": "https://localhost:8080/",
          "height": 68
        },
        "id": "SsZQktM-fpou",
        "outputId": "e178bda4-b152-4e0c-ef09-8f532af89d38"
      },
      "source": [
        "# Forecast Error - Forecast a\n",
        "gjrgarch.error.a <- sigma.gjrgarch[,'sigma.gjrgarch.pred.a'] - sigma.gjrgarch[,'sigma.gjrgarch.true']\n",
        "head(gjrgarch.error.a)"
      ],
      "id": "SsZQktM-fpou",
      "execution_count": 121,
      "outputs": [
        {
          "output_type": "display_data",
          "data": {
            "text/plain": [
              "A Time Series:\n",
              "[1] -0.07765464 -0.03397792 -0.01354880  0.02697785  0.05523150  0.15709257"
            ],
            "text/latex": "A Time Series:\\\\\\begin{enumerate*}\n\\item -0.0776546444365886\n\\item -0.0339779221299354\n\\item -0.0135488013828237\n\\item 0.0269778548070629\n\\item 0.0552315015733063\n\\item 0.157092574553525\n\\end{enumerate*}\n",
            "text/markdown": "A Time Series:  \n1. -0.0776546444365886\n2. -0.0339779221299354\n3. -0.0135488013828237\n4. 0.0269778548070629\n5. 0.0552315015733063\n6. 0.157092574553525\n\n\n",
            "text/html": [
              "A Time Series:<br><style>\n",
              ".list-inline {list-style: none; margin:0; padding: 0}\n",
              ".list-inline>li {display: inline-block}\n",
              ".list-inline>li:not(:last-child)::after {content: \"\\00b7\"; padding: 0 .5ex}\n",
              "</style>\n",
              "<ol class=list-inline><li>-0.0776546444365886</li><li>-0.0339779221299354</li><li>-0.0135488013828237</li><li>0.0269778548070629</li><li>0.0552315015733063</li><li>0.157092574553525</li></ol>\n"
            ]
          },
          "metadata": {
            "tags": []
          }
        }
      ]
    },
    {
      "cell_type": "code",
      "metadata": {
        "colab": {
          "base_uri": "https://localhost:8080/",
          "height": 68
        },
        "id": "jBBozS2dfq74",
        "outputId": "16146178-1d26-48c4-fd87-eed5e2274417"
      },
      "source": [
        "# Forecast Error - Forecast b\n",
        "gjrgarch.error.b <- sigma.gjrgarch[,'sigma.gjrgarch.pred.b'] - sigma.gjrgarch[,'sigma.gjrgarch.true']\n",
        "head(gjrgarch.error.b)"
      ],
      "id": "jBBozS2dfq74",
      "execution_count": 122,
      "outputs": [
        {
          "output_type": "display_data",
          "data": {
            "text/plain": [
              "A Time Series:\n",
              "[1] -0.095900221 -0.052955709 -0.035197020  0.003072992  0.028597071\n",
              "[6]  0.129499838"
            ],
            "text/latex": "A Time Series:\\\\\\begin{enumerate*}\n\\item -0.0959002207001696\n\\item -0.052955709059374\n\\item -0.0351970197076533\n\\item 0.00307299225725732\n\\item 0.0285970714266345\n\\item 0.129499838397554\n\\end{enumerate*}\n",
            "text/markdown": "A Time Series:  \n1. -0.0959002207001696\n2. -0.052955709059374\n3. -0.0351970197076533\n4. 0.00307299225725732\n5. 0.0285970714266345\n6. 0.129499838397554\n\n\n",
            "text/html": [
              "A Time Series:<br><style>\n",
              ".list-inline {list-style: none; margin:0; padding: 0}\n",
              ".list-inline>li {display: inline-block}\n",
              ".list-inline>li:not(:last-child)::after {content: \"\\00b7\"; padding: 0 .5ex}\n",
              "</style>\n",
              "<ol class=list-inline><li>-0.0959002207001696</li><li>-0.052955709059374</li><li>-0.0351970197076533</li><li>0.00307299225725732</li><li>0.0285970714266345</li><li>0.129499838397554</li></ol>\n"
            ]
          },
          "metadata": {
            "tags": []
          }
        }
      ]
    },
    {
      "cell_type": "code",
      "metadata": {
        "colab": {
          "base_uri": "https://localhost:8080/",
          "height": 34
        },
        "id": "i2fN1KMjfsXn",
        "outputId": "68f8e6aa-0310-481e-8dd3-1b874e4abff4"
      },
      "source": [
        "# Mean Square Error Loss - Forecast a\n",
        "gjrgarch.mse.a <- MSE(sigma.gjrgarch[,'sigma.gjrgarch.pred.a'],\n",
        "                      sigma.gjrgarch[,'sigma.gjrgarch.true'])\n",
        "round(gjrgarch.mse.a, digits = 3)     "
      ],
      "id": "i2fN1KMjfsXn",
      "execution_count": 123,
      "outputs": [
        {
          "output_type": "display_data",
          "data": {
            "text/plain": [
              "[1] 3.706"
            ],
            "text/latex": "3.706",
            "text/markdown": "3.706",
            "text/html": [
              "3.706"
            ]
          },
          "metadata": {
            "tags": []
          }
        }
      ]
    },
    {
      "cell_type": "code",
      "metadata": {
        "colab": {
          "base_uri": "https://localhost:8080/",
          "height": 34
        },
        "id": "Lvt4jBa7ft6T",
        "outputId": "139626f6-4f73-4719-a811-c9facf206219"
      },
      "source": [
        "# Mean Square Error Loss - Forecast b\n",
        "gjrgarch.mse.b <- MSE(sigma.gjrgarch[,'sigma.gjrgarch.pred.b'],\n",
        "                      sigma.gjrgarch[,'sigma.gjrgarch.true'])\n",
        "round(gjrgarch.mse.b, digits = 3) "
      ],
      "id": "Lvt4jBa7ft6T",
      "execution_count": 124,
      "outputs": [
        {
          "output_type": "display_data",
          "data": {
            "text/plain": [
              "[1] 3.539"
            ],
            "text/latex": "3.539",
            "text/markdown": "3.539",
            "text/html": [
              "3.539"
            ]
          },
          "metadata": {
            "tags": []
          }
        }
      ]
    },
    {
      "cell_type": "code",
      "metadata": {
        "colab": {
          "base_uri": "https://localhost:8080/",
          "height": 34
        },
        "id": "0F8MhYOFfveh",
        "outputId": "6fccbece-0670-4ca3-aadd-f348d69d1da9"
      },
      "source": [
        "# Mean Absolute Error Loss - Forecast a\n",
        "gjrgarch.mae.a <- MAE(sigma.gjrgarch[,'sigma.gjrgarch.pred.a'],\n",
        "                      sigma.gjrgarch[,'sigma.gjrgarch.true'])\n",
        "round(gjrgarch.mae.a, digits = 3)"
      ],
      "id": "0F8MhYOFfveh",
      "execution_count": 125,
      "outputs": [
        {
          "output_type": "display_data",
          "data": {
            "text/plain": [
              "[1] 0.578"
            ],
            "text/latex": "0.578",
            "text/markdown": "0.578",
            "text/html": [
              "0.578"
            ]
          },
          "metadata": {
            "tags": []
          }
        }
      ]
    },
    {
      "cell_type": "code",
      "metadata": {
        "colab": {
          "base_uri": "https://localhost:8080/",
          "height": 34
        },
        "id": "jzHyH96NfxBJ",
        "outputId": "c92d4c5d-277f-43ee-db41-acf88529bb6a"
      },
      "source": [
        "# Mean Absolute Error Loss - Forecast b\n",
        "gjrgarch.mae.b <- MAE(sigma.gjrgarch[,'sigma.gjrgarch.pred.b'],\n",
        "                      sigma.gjrgarch[,'sigma.gjrgarch.true'])\n",
        "round(gjrgarch.mae.b, digits = 3)"
      ],
      "id": "jzHyH96NfxBJ",
      "execution_count": 126,
      "outputs": [
        {
          "output_type": "display_data",
          "data": {
            "text/plain": [
              "[1] 0.534"
            ],
            "text/latex": "0.534",
            "text/markdown": "0.534",
            "text/html": [
              "0.534"
            ]
          },
          "metadata": {
            "tags": []
          }
        }
      ]
    },
    {
      "cell_type": "code",
      "metadata": {
        "colab": {
          "base_uri": "https://localhost:8080/",
          "height": 34
        },
        "id": "-h5RQeH-fyoY",
        "outputId": "161a0dad-d6e6-4eb8-f590-08f76e2e70dd"
      },
      "source": [
        "# Root Mean Square Error Loss - Forecast a\n",
        "gjrgarch.rmse.a <- RMSE(sigma.gjrgarch[,'sigma.gjrgarch.pred.a'],\n",
        "                        sigma.gjrgarch[,'sigma.gjrgarch.true'])\n",
        "round(gjrgarch.rmse.a, digits = 3)"
      ],
      "id": "-h5RQeH-fyoY",
      "execution_count": 127,
      "outputs": [
        {
          "output_type": "display_data",
          "data": {
            "text/plain": [
              "[1] 1.925"
            ],
            "text/latex": "1.925",
            "text/markdown": "1.925",
            "text/html": [
              "1.925"
            ]
          },
          "metadata": {
            "tags": []
          }
        }
      ]
    },
    {
      "cell_type": "code",
      "metadata": {
        "colab": {
          "base_uri": "https://localhost:8080/",
          "height": 34
        },
        "id": "CO0j4hDsf0d4",
        "outputId": "2a897d5d-c14d-46ee-b46a-ccaff249da01"
      },
      "source": [
        "# Root Mean Square Error Loss - Forecast b\n",
        "gjrgarch.rmse.b <- RMSE(sigma.gjrgarch[,'sigma.gjrgarch.pred.b'],\n",
        "                        sigma.gjrgarch[,'sigma.gjrgarch.true'])\n",
        "round(gjrgarch.rmse.b, digits = 3)"
      ],
      "id": "CO0j4hDsf0d4",
      "execution_count": 128,
      "outputs": [
        {
          "output_type": "display_data",
          "data": {
            "text/plain": [
              "[1] 1.881"
            ],
            "text/latex": "1.881",
            "text/markdown": "1.881",
            "text/html": [
              "1.881"
            ]
          },
          "metadata": {
            "tags": []
          }
        }
      ]
    },
    {
      "cell_type": "code",
      "metadata": {
        "colab": {
          "base_uri": "https://localhost:8080/",
          "height": 34
        },
        "id": "0izvA6naf2CT",
        "outputId": "56970377-818b-497f-a6a3-4a36ef580e4b"
      },
      "source": [
        "# Quasi-likelihood loss function - forecast a\n",
        "h <- sigma.gjrgarch[,'sigma.gjrgarch.true']\n",
        "\n",
        "h.hat.a <- sigma.gjrgarch[,'sigma.gjrgarch.pred.a']     \n",
        "gjrgarch.qlike.a <- mean(log(sqrt(h)) + h.hat.a/sqrt(h))\n",
        "round(gjrgarch.qlike.a, digits = 5) "
      ],
      "id": "0izvA6naf2CT",
      "execution_count": 129,
      "outputs": [
        {
          "output_type": "display_data",
          "data": {
            "text/plain": [
              "[1] 1.07428"
            ],
            "text/latex": "1.07428",
            "text/markdown": "1.07428",
            "text/html": [
              "1.07428"
            ]
          },
          "metadata": {
            "tags": []
          }
        }
      ]
    },
    {
      "cell_type": "code",
      "metadata": {
        "colab": {
          "base_uri": "https://localhost:8080/",
          "height": 34
        },
        "id": "OkYbmGlgf4CE",
        "outputId": "46f97dd3-345a-417d-9951-8f58e40ac13d"
      },
      "source": [
        "# Quasi-likelihood loss function - forecast b\n",
        "h.hat.b <- sigma.gjrgarch[,'sigma.gjrgarch.pred.b']\n",
        "gjrgarch.qlike.b <- mean(log(sqrt(h)) + h.hat.b/sqrt(h))\n",
        "round(gjrgarch.qlike.b, digits = 5) "
      ],
      "id": "OkYbmGlgf4CE",
      "execution_count": 130,
      "outputs": [
        {
          "output_type": "display_data",
          "data": {
            "text/plain": [
              "[1] 1.03352"
            ],
            "text/latex": "1.03352",
            "text/markdown": "1.03352",
            "text/html": [
              "1.03352"
            ]
          },
          "metadata": {
            "tags": []
          }
        }
      ]
    },
    {
      "cell_type": "code",
      "metadata": {
        "colab": {
          "base_uri": "https://localhost:8080/",
          "height": 119
        },
        "id": "rzS76jQef6U9",
        "outputId": "6075b2e2-cc5a-4261-a030-c32a5dae7243"
      },
      "source": [
        "# Diebold-Mariano Test (accuracy test) - test 1\n",
        "f.a <- sigma.gjrgarch[,'sigma.gjrgarch.pred.a']\n",
        "f.b <- sigma.gjrgarch[,'sigma.gjrgarch.pred.b']\n",
        "y <- sigma.gjrgarch[,'sigma.gjrgarch.true']\n",
        "\n",
        "DM.test(f.a, f.b, y, loss.type = \"SE\", c = FALSE, H1 = \"same\")"
      ],
      "id": "rzS76jQef6U9",
      "execution_count": 131,
      "outputs": [
        {
          "output_type": "display_data",
          "data": {
            "text/plain": [
              "\n",
              "\tDiebold-Mariano test\n",
              "\n",
              "data:  f.a and f.b and y\n",
              "statistic = 5.626, forecast horizon = 1, p-value = 1.844e-08\n",
              "alternative hypothesis: Forecast f1 and f2 have different accuracy.\n"
            ]
          },
          "metadata": {
            "tags": []
          }
        }
      ]
    },
    {
      "cell_type": "code",
      "metadata": {
        "colab": {
          "base_uri": "https://localhost:8080/",
          "height": 136
        },
        "id": "6Z5ZUPt9f78m",
        "outputId": "ddbf4353-4508-459b-e7c0-d832d7f76c53"
      },
      "source": [
        "# Diebold-Mariano test for predictive accuracy - test 2\n",
        "e.a <- gjrgarch.error.a\n",
        "e.b <- gjrgarch.error.b\n",
        "\n",
        "dm.test(e.a, e.b, alternative = \"two.sided\", h = 1, power = 2)"
      ],
      "id": "6Z5ZUPt9f78m",
      "execution_count": 132,
      "outputs": [
        {
          "output_type": "display_data",
          "data": {
            "text/plain": [
              "\n",
              "\tDiebold-Mariano Test\n",
              "\n",
              "data:  e.ae.b\n",
              "DM = 5.6214, Forecast horizon = 1, Loss function power = 2, p-value =\n",
              "2.891e-08\n",
              "alternative hypothesis: two.sided\n"
            ]
          },
          "metadata": {
            "tags": []
          }
        }
      ]
    },
    {
      "cell_type": "code",
      "metadata": {
        "colab": {
          "base_uri": "https://localhost:8080/",
          "height": 34
        },
        "id": "VXp_bhCxf9j3",
        "outputId": "db0dfa36-7954-43c6-f7cf-bac302593ab7"
      },
      "source": [
        "# Quasi-likelihood Loss Function For Volatility Forecasts - forecast a\n",
        "gjrgarch.qlike.a <- mean(LossVol(sigma.gjrgarch[,'sigma.gjrgarch.true'],\n",
        "                                 sigma.gjrgarch[,'sigma.gjrgarch.pred.a'],\n",
        "                                 which = \"QLIKE\"))\n",
        "round(gjrgarch.qlike.a, digits = 3)"
      ],
      "id": "VXp_bhCxf9j3",
      "execution_count": 133,
      "outputs": [
        {
          "output_type": "display_data",
          "data": {
            "text/plain": [
              "[1] 1.704"
            ],
            "text/latex": "1.704",
            "text/markdown": "1.704",
            "text/html": [
              "1.704"
            ]
          },
          "metadata": {
            "tags": []
          }
        }
      ]
    },
    {
      "cell_type": "code",
      "metadata": {
        "colab": {
          "base_uri": "https://localhost:8080/",
          "height": 34
        },
        "id": "rdnKVIIPhRw-",
        "outputId": "8c865e4c-440d-4fc9-c36b-932cb44bc9c5"
      },
      "source": [
        "# Quasi-likelihood Loss Function For Volatility Forecasts - forecast b\n",
        "gjrgarch.qlike.b <- mean(LossVol(sigma.gjrgarch[,'sigma.gjrgarch.true'],\n",
        "                                 sigma.gjrgarch[,'sigma.gjrgarch.pred.b'],\n",
        "                                 which = \"QLIKE\"))\n",
        "round(gjrgarch.qlike.b, digits = 3)"
      ],
      "id": "rdnKVIIPhRw-",
      "execution_count": 134,
      "outputs": [
        {
          "output_type": "display_data",
          "data": {
            "text/plain": [
              "[1] 1.596"
            ],
            "text/latex": "1.596",
            "text/markdown": "1.596",
            "text/html": [
              "1.596"
            ]
          },
          "metadata": {
            "tags": []
          }
        }
      ]
    },
    {
      "cell_type": "code",
      "metadata": {
        "colab": {
          "base_uri": "https://localhost:8080/",
          "height": 34
        },
        "id": "MS_N8LCMhTKg",
        "outputId": "294c984f-ef1f-4bb3-871a-9b07dfa1cf12"
      },
      "source": [
        "# Log loss / Cross-Entropy Loss -  forecast a\n",
        "gjrgarch.logloss.a <- LogLoss(sigma.gjrgarch[,'sigma.gjrgarch.pred.a'],\n",
        "                              sigma.gjrgarch[,'sigma.gjrgarch.true'])\n",
        "round(gjrgarch.logloss.a, digits = 3)"
      ],
      "id": "MS_N8LCMhTKg",
      "execution_count": 135,
      "outputs": [
        {
          "output_type": "display_data",
          "data": {
            "text/plain": [
              "[1] -21.193"
            ],
            "text/latex": "-21.193",
            "text/markdown": "-21.193",
            "text/html": [
              "-21.193"
            ]
          },
          "metadata": {
            "tags": []
          }
        }
      ]
    },
    {
      "cell_type": "code",
      "metadata": {
        "colab": {
          "base_uri": "https://localhost:8080/",
          "height": 34
        },
        "id": "5d2cFCtrhU8y",
        "outputId": "0595fd7d-1e91-45d9-99ea-b56b05b2aa40"
      },
      "source": [
        "# Log loss / Cross-Entropy Loss -  forecast b\n",
        "gjrgarch.logloss.b <- LogLoss(sigma.gjrgarch[,'sigma.gjrgarch.pred.b'],\n",
        "                              sigma.gjrgarch[,'sigma.gjrgarch.true'])\n",
        "round(gjrgarch.logloss.b, digits = 3)"
      ],
      "id": "5d2cFCtrhU8y",
      "execution_count": 136,
      "outputs": [
        {
          "output_type": "display_data",
          "data": {
            "text/plain": [
              "[1] -21.337"
            ],
            "text/latex": "-21.337",
            "text/markdown": "-21.337",
            "text/html": [
              "-21.337"
            ]
          },
          "metadata": {
            "tags": []
          }
        }
      ]
    },
    {
      "cell_type": "code",
      "metadata": {
        "colab": {
          "base_uri": "https://localhost:8080/",
          "height": 170
        },
        "id": "b1gMzpGYhWtR",
        "outputId": "0a425fb4-c4b5-4148-cc29-d7a9af4688c9"
      },
      "source": [
        "# Linear regression to assess forecast performance - forecast a\n",
        "gjrgarch.model.a <- lm(sigma.gjrgarch.true ~ sigma.gjrgarch.pred.a, \n",
        "                      data = sigma.gjrgarch)\n",
        "round(coeftest(gjrgarch.model.a, NeweyWest(gjrgarch.model.a,\n",
        "                                          lag = bwNeweyWest(gjrgarch.model.a),\n",
        "                                          prewhite = F)), 3)\n",
        "round(summary(gjrgarch.model.a)$adj.r.squared, 3)"
      ],
      "id": "b1gMzpGYhWtR",
      "execution_count": 137,
      "outputs": [
        {
          "output_type": "display_data",
          "data": {
            "text/plain": [
              "\n",
              "t test of coefficients:\n",
              "\n",
              "                      Estimate Std. Error t value  Pr(>|t|)    \n",
              "(Intercept)             -3.736      0.390  -9.581 < 2.2e-16 ***\n",
              "sigma.gjrgarch.pred.a    4.645      0.383  12.130 < 2.2e-16 ***\n",
              "---\n",
              "Signif. codes:  0 ‘***’ 0.001 ‘**’ 0.01 ‘*’ 0.05 ‘.’ 0.1 ‘ ’ 1\n"
            ]
          },
          "metadata": {
            "tags": []
          }
        },
        {
          "output_type": "display_data",
          "data": {
            "text/plain": [
              "[1] 0.907"
            ],
            "text/latex": "0.907",
            "text/markdown": "0.907",
            "text/html": [
              "0.907"
            ]
          },
          "metadata": {
            "tags": []
          }
        }
      ]
    },
    {
      "cell_type": "code",
      "metadata": {
        "colab": {
          "base_uri": "https://localhost:8080/",
          "height": 170
        },
        "id": "tBYTx0AqhYC8",
        "outputId": "2416e06f-0fd8-4429-86d1-2181dbb9c773"
      },
      "source": [
        "# Linear regression to assess forecast performance - forecast b\n",
        "gjrgarch.model.b <- lm(sigma.gjrgarch.true ~ sigma.gjrgarch.pred.b, \n",
        "                      data = sigma.gjrgarch)\n",
        "round(coeftest(gjrgarch.model.b, NeweyWest(gjrgarch.model.b,\n",
        "                                          lag = bwNeweyWest(gjrgarch.model.b),\n",
        "                                          prewhite = F)), 3)\n",
        "round(summary(gjrgarch.model.b)$adj.r.squared, 3)"
      ],
      "id": "tBYTx0AqhYC8",
      "execution_count": 138,
      "outputs": [
        {
          "output_type": "display_data",
          "data": {
            "text/plain": [
              "\n",
              "t test of coefficients:\n",
              "\n",
              "                      Estimate Std. Error t value  Pr(>|t|)    \n",
              "(Intercept)             -3.086      0.359  -8.602 < 2.2e-16 ***\n",
              "sigma.gjrgarch.pred.b    4.167      0.363  11.487 < 2.2e-16 ***\n",
              "---\n",
              "Signif. codes:  0 ‘***’ 0.001 ‘**’ 0.01 ‘*’ 0.05 ‘.’ 0.1 ‘ ’ 1\n"
            ]
          },
          "metadata": {
            "tags": []
          }
        },
        {
          "output_type": "display_data",
          "data": {
            "text/plain": [
              "[1] 0.906"
            ],
            "text/latex": "0.906",
            "text/markdown": "0.906",
            "text/html": [
              "0.906"
            ]
          },
          "metadata": {
            "tags": []
          }
        }
      ]
    },
    {
      "cell_type": "markdown",
      "metadata": {
        "id": "hBtX1JYCb3s3"
      },
      "source": [
        "#11. Forecast - Realized GARCH models"
      ],
      "id": "hBtX1JYCb3s3"
    },
    {
      "cell_type": "markdown",
      "metadata": {
        "id": "UIwlmS2LcHzI"
      },
      "source": [
        "##(a) Realized Linear GARCH"
      ],
      "id": "UIwlmS2LcHzI"
    },
    {
      "cell_type": "markdown",
      "metadata": {
        "id": "m1Lwk0WVrwGP"
      },
      "source": [
        "**Forecast**"
      ],
      "id": "m1Lwk0WVrwGP"
    },
    {
      "cell_type": "code",
      "metadata": {
        "id": "qz6geGd9cb1b"
      },
      "source": [
        "# Model specification\n",
        "realgarch.spec.pred <- realgarch.spec\n",
        "setfixed(realgarch.spec.pred) <- as.list(coef(realgarch.fit))"
      ],
      "id": "qz6geGd9cb1b",
      "execution_count": 139,
      "outputs": []
    },
    {
      "cell_type": "code",
      "metadata": {
        "id": "dmFRUuGzdBgQ"
      },
      "source": [
        "# Model adjustment\n",
        "realgarch.fit.pred <- ugarchfit(realgarch.spec,\n",
        "                                IMOEX.ME.df$IMOEX.ME.Return,\n",
        "                                out.sample = dim(IMOEX.ME.df.out)[1],\n",
        "                                solver = 'hybrid',\n",
        "                                realizedVol = IMOEX.ME.df$IMOEX.ME.VolGARCH)"
      ],
      "id": "dmFRUuGzdBgQ",
      "execution_count": 140,
      "outputs": []
    },
    {
      "cell_type": "code",
      "metadata": {
        "id": "uAyVSHF0eBkR"
      },
      "source": [
        "# Forecast calculated through adjustment\n",
        "realgarch.pred.a <- ugarchforecast(realgarch.fit.pred,\n",
        "                                   n.ahead = 1,\n",
        "                                   n.roll = dim(IMOEX.ME.df.out)[1])\n",
        "\n",
        "realgarch.forecast.a <- xts(sigma(realgarch.pred.a)[1,],\n",
        "                            move(as.Date(names(sigma(realgarch.pred.a)[1,])), by = 1))"
      ],
      "id": "uAyVSHF0eBkR",
      "execution_count": 141,
      "outputs": []
    },
    {
      "cell_type": "code",
      "metadata": {
        "id": "GpWgFuK_eVgR"
      },
      "source": [
        "# Forecast calculated using specification\n",
        "realgarch.pred.b <- ugarchforecast(realgarch.spec.pred, \n",
        "                                   n.ahead = 1, \n",
        "                                   n.roll = dim(IMOEX.ME.df.out)[1], \n",
        "                                   data = IMOEX.ME.df$IMOEX.ME.Return, \n",
        "                                   out.sample = dim(IMOEX.ME.df.out)[1], \n",
        "                                   realizedVol = IMOEX.ME.df$IMOEX.ME.VolRealGARCH)\n",
        "\n",
        "realgarch.forecast.b <- xts(sigma(realgarch.pred.b)[1,],\n",
        "                            move(as.Date(names(sigma(realgarch.pred.b)[1,])), by = 1))"
      ],
      "id": "GpWgFuK_eVgR",
      "execution_count": 142,
      "outputs": []
    },
    {
      "cell_type": "code",
      "metadata": {
        "id": "t-BKfrn_fXib"
      },
      "source": [
        "# Model filtering\n",
        "realgarch.filt.pred <- ugarchfilter(realgarch.spec.pred,\n",
        "                                    data = IMOEX.ME.df$IMOEX.ME.Return,\n",
        "                                    n.old = nrow(IMOEX.ME.df) - dim(IMOEX.ME.df.out)[1],\n",
        "                                    realizedVol = IMOEX.ME.df$IMOEX.ME.VolRealGARCH)\n",
        "\n",
        "realgarch.filt <- tail(sigma(realgarch.filt.pred), dim(IMOEX.ME.df.out)[1])"
      ],
      "id": "t-BKfrn_fXib",
      "execution_count": 143,
      "outputs": []
    },
    {
      "cell_type": "code",
      "metadata": {
        "colab": {
          "base_uri": "https://localhost:8080/",
          "height": 136
        },
        "id": "etKihjvFoDCY",
        "outputId": "edc020c2-f8e3-449c-dd7b-0759ed296847"
      },
      "source": [
        "# Comparative\n",
        "colnames(realgarch.filt) <- 'filter'\n",
        "colnames(realgarch.forecast.a) <- 'forecast1'\n",
        "colnames(realgarch.forecast.b) <- 'forecast2'\n",
        "\n",
        "realgarch.ftest <- cbind(realgarch.filt,\n",
        "                        realgarch.forecast.a,\n",
        "                        realgarch.forecast.b)\n",
        "head(round(realgarch.ftest, digits = 4))"
      ],
      "id": "etKihjvFoDCY",
      "execution_count": 144,
      "outputs": [
        {
          "output_type": "display_data",
          "data": {
            "text/plain": [
              "           filter forecast1 forecast2\n",
              "2018-12-17 1.1162    1.0387    1.1049\n",
              "2018-12-18 1.0721    1.0175    1.0631\n",
              "2018-12-19 1.0438    0.9889    1.0323\n",
              "2018-12-20 1.0078    0.9694    1.0008\n",
              "2018-12-21 0.9792    0.9409    0.9674\n",
              "2018-12-24 0.9493    0.9200    0.9399"
            ]
          },
          "metadata": {
            "tags": []
          }
        }
      ]
    },
    {
      "cell_type": "code",
      "metadata": {
        "colab": {
          "base_uri": "https://localhost:8080/",
          "height": 252
        },
        "id": "PLZ71If2oR7-",
        "outputId": "2342c922-08e5-4c1f-e854-29876e20ae1b"
      },
      "source": [
        "sigma.realgarch.pred.a <- ts(realgarch.forecast.a[-1,])\n",
        "sigma.realgarch.pred.b <- ts(realgarch.forecast.b[-1,])\n",
        "sigma.realgarch.true <- ts(IMOEX.ME.df.out$IMOEX.ME.VolRealGARCH)\n",
        "\n",
        "sigma.realgarch <- na.omit(cbind(sigma.realgarch.pred.a,\n",
        "                                sigma.realgarch.pred.b,\n",
        "                                sigma.realgarch.true))\n",
        "head(sigma.realgarch)"
      ],
      "id": "PLZ71If2oR7-",
      "execution_count": 145,
      "outputs": [
        {
          "output_type": "display_data",
          "data": {
            "text/plain": [
              "  sigma.realgarch.pred.a sigma.realgarch.pred.b sigma.realgarch.true\n",
              "1 1.0175475              1.0631085              1.1203840           \n",
              "2 0.9888627              1.0323065              1.0624437           \n",
              "3 0.9694277              1.0008329              0.9901539           \n",
              "4 0.9409153              0.9673814              0.9349061           \n",
              "5 0.9200454              0.9399335              0.8783906           \n",
              "6 0.8994378              0.9161167              0.8299048           "
            ],
            "text/latex": "A Time Series: 6 × 3\n\\begin{tabular}{r|lll}\n  & sigma.realgarch.pred.a & sigma.realgarch.pred.b & sigma.realgarch.true\\\\\n\\hline\n\t1 & 1.0175475 & 1.0631085 & 1.1203840\\\\\n\t2 & 0.9888627 & 1.0323065 & 1.0624437\\\\\n\t3 & 0.9694277 & 1.0008329 & 0.9901539\\\\\n\t4 & 0.9409153 & 0.9673814 & 0.9349061\\\\\n\t5 & 0.9200454 & 0.9399335 & 0.8783906\\\\\n\t6 & 0.8994378 & 0.9161167 & 0.8299048\\\\\n\\end{tabular}\n",
            "text/markdown": "\nA Time Series: 6 × 3\n\n| <!--/--> | sigma.realgarch.pred.a | sigma.realgarch.pred.b | sigma.realgarch.true |\n|---|---|---|---|\n| 1 | 1.0175475 | 1.0631085 | 1.1203840 |\n| 2 | 0.9888627 | 1.0323065 | 1.0624437 |\n| 3 | 0.9694277 | 1.0008329 | 0.9901539 |\n| 4 | 0.9409153 | 0.9673814 | 0.9349061 |\n| 5 | 0.9200454 | 0.9399335 | 0.8783906 |\n| 6 | 0.8994378 | 0.9161167 | 0.8299048 |\n\n",
            "text/html": [
              "<table class=\"dataframe\">\n",
              "<caption>A Time Series: 6 × 3</caption>\n",
              "<thead>\n",
              "\t<tr><th></th><th scope=col>sigma.realgarch.pred.a</th><th scope=col>sigma.realgarch.pred.b</th><th scope=col>sigma.realgarch.true</th></tr>\n",
              "</thead>\n",
              "<tbody>\n",
              "\t<tr><th scope=row>1</th><td>1.0175475</td><td>1.0631085</td><td>1.1203840</td></tr>\n",
              "\t<tr><th scope=row>2</th><td>0.9888627</td><td>1.0323065</td><td>1.0624437</td></tr>\n",
              "\t<tr><th scope=row>3</th><td>0.9694277</td><td>1.0008329</td><td>0.9901539</td></tr>\n",
              "\t<tr><th scope=row>4</th><td>0.9409153</td><td>0.9673814</td><td>0.9349061</td></tr>\n",
              "\t<tr><th scope=row>5</th><td>0.9200454</td><td>0.9399335</td><td>0.8783906</td></tr>\n",
              "\t<tr><th scope=row>6</th><td>0.8994378</td><td>0.9161167</td><td>0.8299048</td></tr>\n",
              "</tbody>\n",
              "</table>\n"
            ]
          },
          "metadata": {
            "tags": []
          }
        }
      ]
    },
    {
      "cell_type": "markdown",
      "metadata": {
        "id": "FC4yfA9tog9z"
      },
      "source": [
        "**Performance evaluation**"
      ],
      "id": "FC4yfA9tog9z"
    },
    {
      "cell_type": "code",
      "metadata": {
        "colab": {
          "base_uri": "https://localhost:8080/",
          "height": 68
        },
        "id": "8F-5qQlPojtX",
        "outputId": "815a7e27-4183-4232-85b2-b01990ceb191"
      },
      "source": [
        "# Forecast Error - Forecast a\n",
        "realgarch.error.a <- sigma.realgarch[,'sigma.realgarch.pred.a'] - sigma.realgarch[,'sigma.realgarch.true']\n",
        "head(realgarch.error.a)"
      ],
      "id": "8F-5qQlPojtX",
      "execution_count": 146,
      "outputs": [
        {
          "output_type": "display_data",
          "data": {
            "text/plain": [
              "A Time Series:\n",
              "[1] -0.102836512 -0.073580946 -0.020726179  0.006009179  0.041654810\n",
              "[6]  0.069533012"
            ],
            "text/latex": "A Time Series:\\\\\\begin{enumerate*}\n\\item -0.102836511504097\n\\item -0.0735809462609696\n\\item -0.0207261793961022\n\\item 0.00600917934093181\n\\item 0.041654810039403\n\\item 0.06953301219881\n\\end{enumerate*}\n",
            "text/markdown": "A Time Series:  \n1. -0.102836511504097\n2. -0.0735809462609696\n3. -0.0207261793961022\n4. 0.00600917934093181\n5. 0.041654810039403\n6. 0.06953301219881\n\n\n",
            "text/html": [
              "A Time Series:<br><style>\n",
              ".list-inline {list-style: none; margin:0; padding: 0}\n",
              ".list-inline>li {display: inline-block}\n",
              ".list-inline>li:not(:last-child)::after {content: \"\\00b7\"; padding: 0 .5ex}\n",
              "</style>\n",
              "<ol class=list-inline><li>-0.102836511504097</li><li>-0.0735809462609696</li><li>-0.0207261793961022</li><li>0.00600917934093181</li><li>0.041654810039403</li><li>0.06953301219881</li></ol>\n"
            ]
          },
          "metadata": {
            "tags": []
          }
        }
      ]
    },
    {
      "cell_type": "code",
      "metadata": {
        "colab": {
          "base_uri": "https://localhost:8080/",
          "height": 68
        },
        "id": "PiJYuUxiotkL",
        "outputId": "0feb23d6-a58e-409f-d33a-26e83e9b89a6"
      },
      "source": [
        "# Forecast Error - Forecast b\n",
        "realgarch.error.b <- sigma.realgarch[,'sigma.realgarch.pred.b'] - sigma.realgarch[,'sigma.realgarch.true']\n",
        "head(realgarch.error.b)"
      ],
      "id": "PiJYuUxiotkL",
      "execution_count": 147,
      "outputs": [
        {
          "output_type": "display_data",
          "data": {
            "text/plain": [
              "A Time Series:\n",
              "[1] -0.05727548 -0.03013716  0.01067899  0.03247529  0.06154291  0.08621187"
            ],
            "text/latex": "A Time Series:\\\\\\begin{enumerate*}\n\\item -0.0572754849257624\n\\item -0.0301371566273434\n\\item 0.0106789944720145\n\\item 0.0324752875319199\n\\item 0.061542909292663\n\\item 0.0862118686217822\n\\end{enumerate*}\n",
            "text/markdown": "A Time Series:  \n1. -0.0572754849257624\n2. -0.0301371566273434\n3. 0.0106789944720145\n4. 0.0324752875319199\n5. 0.061542909292663\n6. 0.0862118686217822\n\n\n",
            "text/html": [
              "A Time Series:<br><style>\n",
              ".list-inline {list-style: none; margin:0; padding: 0}\n",
              ".list-inline>li {display: inline-block}\n",
              ".list-inline>li:not(:last-child)::after {content: \"\\00b7\"; padding: 0 .5ex}\n",
              "</style>\n",
              "<ol class=list-inline><li>-0.0572754849257624</li><li>-0.0301371566273434</li><li>0.0106789944720145</li><li>0.0324752875319199</li><li>0.061542909292663</li><li>0.0862118686217822</li></ol>\n"
            ]
          },
          "metadata": {
            "tags": []
          }
        }
      ]
    },
    {
      "cell_type": "code",
      "metadata": {
        "colab": {
          "base_uri": "https://localhost:8080/",
          "height": 34
        },
        "id": "vbAvOFpLo0nu",
        "outputId": "3c0ba580-4ff3-4a44-dc1f-aa2cca43308d"
      },
      "source": [
        "# Mean Square Error Loss - Forecast a\n",
        "realgarch.mse.a <- MSE(sigma.realgarch[,'sigma.realgarch.pred.a'],\n",
        "                      sigma.realgarch[,'sigma.realgarch.true'])\n",
        "round(realgarch.mse.a, digits = 3)"
      ],
      "id": "vbAvOFpLo0nu",
      "execution_count": 148,
      "outputs": [
        {
          "output_type": "display_data",
          "data": {
            "text/plain": [
              "[1] 2.93"
            ],
            "text/latex": "2.93",
            "text/markdown": "2.93",
            "text/html": [
              "2.93"
            ]
          },
          "metadata": {
            "tags": []
          }
        }
      ]
    },
    {
      "cell_type": "code",
      "metadata": {
        "colab": {
          "base_uri": "https://localhost:8080/",
          "height": 34
        },
        "id": "NYOMn_1jpBuo",
        "outputId": "78603580-0b6c-4e51-c27e-dee849289881"
      },
      "source": [
        "# Mean Square Error Loss - Forecast b\n",
        "realgarch.mse.b <- MSE(sigma.realgarch[,'sigma.realgarch.pred.b'],\n",
        "                      sigma.realgarch[,'sigma.realgarch.true'])\n",
        "round(realgarch.mse.b, digits = 3)"
      ],
      "id": "NYOMn_1jpBuo",
      "execution_count": 149,
      "outputs": [
        {
          "output_type": "display_data",
          "data": {
            "text/plain": [
              "[1] 2.441"
            ],
            "text/latex": "2.441",
            "text/markdown": "2.441",
            "text/html": [
              "2.441"
            ]
          },
          "metadata": {
            "tags": []
          }
        }
      ]
    },
    {
      "cell_type": "code",
      "metadata": {
        "colab": {
          "base_uri": "https://localhost:8080/",
          "height": 34
        },
        "id": "5gtUpAD3pLBL",
        "outputId": "e0cd420f-b832-48a2-aa0a-82e5c7328a9f"
      },
      "source": [
        "# Mean Absolute Error Loss - Forecast a\n",
        "realgarch.mae.a <- MAE(sigma.realgarch[,'sigma.realgarch.pred.a'],\n",
        "                      sigma.realgarch[,'sigma.realgarch.true'])\n",
        "round(realgarch.mae.a, digits = 3)"
      ],
      "id": "5gtUpAD3pLBL",
      "execution_count": 150,
      "outputs": [
        {
          "output_type": "display_data",
          "data": {
            "text/plain": [
              "[1] 0.52"
            ],
            "text/latex": "0.52",
            "text/markdown": "0.52",
            "text/html": [
              "0.52"
            ]
          },
          "metadata": {
            "tags": []
          }
        }
      ]
    },
    {
      "cell_type": "code",
      "metadata": {
        "colab": {
          "base_uri": "https://localhost:8080/",
          "height": 34
        },
        "id": "vHqwSRt4psVv",
        "outputId": "037a4834-fbce-47f2-dd9f-515b9767a7e2"
      },
      "source": [
        "# Mean Absolute Error Loss - Forecast b\n",
        "realgarch.mae.b <- MAE(sigma.realgarch[,'sigma.realgarch.pred.b'],\n",
        "                      sigma.realgarch[,'sigma.realgarch.true'])\n",
        "round(realgarch.mae.b, digits = 3)"
      ],
      "id": "vHqwSRt4psVv",
      "execution_count": 151,
      "outputs": [
        {
          "output_type": "display_data",
          "data": {
            "text/plain": [
              "[1] 0.457"
            ],
            "text/latex": "0.457",
            "text/markdown": "0.457",
            "text/html": [
              "0.457"
            ]
          },
          "metadata": {
            "tags": []
          }
        }
      ]
    },
    {
      "cell_type": "code",
      "metadata": {
        "colab": {
          "base_uri": "https://localhost:8080/",
          "height": 34
        },
        "id": "zAncFWD3p1UQ",
        "outputId": "5f8d9c09-c298-4a7b-a903-a28cb15e9506"
      },
      "source": [
        "# Root Mean Square Error Loss - Forecast a\n",
        "realgarch.rmse.a <- RMSE(sigma.realgarch[,'sigma.realgarch.pred.a'],\n",
        "                        sigma.realgarch[,'sigma.realgarch.true'])\n",
        "round(realgarch.rmse.a, digits = 3)"
      ],
      "id": "zAncFWD3p1UQ",
      "execution_count": 152,
      "outputs": [
        {
          "output_type": "display_data",
          "data": {
            "text/plain": [
              "[1] 1.712"
            ],
            "text/latex": "1.712",
            "text/markdown": "1.712",
            "text/html": [
              "1.712"
            ]
          },
          "metadata": {
            "tags": []
          }
        }
      ]
    },
    {
      "cell_type": "code",
      "metadata": {
        "colab": {
          "base_uri": "https://localhost:8080/",
          "height": 34
        },
        "id": "YUT2DAgbp_Hh",
        "outputId": "69580322-9484-432e-abd9-170bbbed87c2"
      },
      "source": [
        "# Root Mean Square Error Loss - Forecast b\n",
        "realgarch.rmse.b <- RMSE(sigma.realgarch[,'sigma.realgarch.pred.b'],\n",
        "                        sigma.realgarch[,'sigma.realgarch.true'])\n",
        "round(realgarch.rmse.b, digits = 3)"
      ],
      "id": "YUT2DAgbp_Hh",
      "execution_count": 153,
      "outputs": [
        {
          "output_type": "display_data",
          "data": {
            "text/plain": [
              "[1] 1.562"
            ],
            "text/latex": "1.562",
            "text/markdown": "1.562",
            "text/html": [
              "1.562"
            ]
          },
          "metadata": {
            "tags": []
          }
        }
      ]
    },
    {
      "cell_type": "code",
      "metadata": {
        "colab": {
          "base_uri": "https://localhost:8080/",
          "height": 34
        },
        "id": "7NgsSo1NqGeb",
        "outputId": "ff930b87-534b-40b6-b780-6c83bcd75c0c"
      },
      "source": [
        "# Quasi-likelihood loss function - forecast a\n",
        "h <- sigma.realgarch[,'sigma.realgarch.true']\n",
        "\n",
        "h.hat.a <- sigma.realgarch[,'sigma.realgarch.pred.a']     \n",
        "realgarch.qlike.a <- mean(log(sqrt(h)) + h.hat.a/sqrt(h))\n",
        "round(realgarch.qlike.a, digits = 5)"
      ],
      "id": "7NgsSo1NqGeb",
      "execution_count": 154,
      "outputs": [
        {
          "output_type": "display_data",
          "data": {
            "text/plain": [
              "[1] 1.03979"
            ],
            "text/latex": "1.03979",
            "text/markdown": "1.03979",
            "text/html": [
              "1.03979"
            ]
          },
          "metadata": {
            "tags": []
          }
        }
      ]
    },
    {
      "cell_type": "code",
      "metadata": {
        "id": "iW1lc37WqRWB",
        "colab": {
          "base_uri": "https://localhost:8080/",
          "height": 34
        },
        "outputId": "7fdb0dee-8151-40d5-9ebb-2c4f2e8d6762"
      },
      "source": [
        "# Quasi-likelihood loss function - forecast b\n",
        "h.hat.b <- sigma.realgarch[,'sigma.realgarch.pred.b']\n",
        "realgarch.qlike.b <- mean(log(sqrt(h)) + h.hat.b/sqrt(h))\n",
        "round(realgarch.qlike.b, digits = 5)"
      ],
      "id": "iW1lc37WqRWB",
      "execution_count": 155,
      "outputs": [
        {
          "output_type": "display_data",
          "data": {
            "text/plain": [
              "[1] 1.05638"
            ],
            "text/latex": "1.05638",
            "text/markdown": "1.05638",
            "text/html": [
              "1.05638"
            ]
          },
          "metadata": {
            "tags": []
          }
        }
      ]
    },
    {
      "cell_type": "code",
      "metadata": {
        "colab": {
          "base_uri": "https://localhost:8080/",
          "height": 119
        },
        "id": "8pJzz3NkLbR_",
        "outputId": "72219676-43ca-4137-c7d2-e986d81932ac"
      },
      "source": [
        "# Diebold-Mariano Test (accuracy test) - test 1\n",
        "f.a <- sigma.realgarch[,'sigma.realgarch.pred.a']\n",
        "f.b <- sigma.realgarch[,'sigma.realgarch.pred.b']\n",
        "y <- sigma.realgarch[,'sigma.realgarch.true']\n",
        "\n",
        "DM.test(f.a, f.b, y, loss.type = \"SE\", c = FALSE, H1 = \"same\")"
      ],
      "id": "8pJzz3NkLbR_",
      "execution_count": 156,
      "outputs": [
        {
          "output_type": "display_data",
          "data": {
            "text/plain": [
              "\n",
              "\tDiebold-Mariano test\n",
              "\n",
              "data:  f.a and f.b and y\n",
              "statistic = 4.5798, forecast horizon = 1, p-value = 4.655e-06\n",
              "alternative hypothesis: Forecast f1 and f2 have different accuracy.\n"
            ]
          },
          "metadata": {
            "tags": []
          }
        }
      ]
    },
    {
      "cell_type": "code",
      "metadata": {
        "colab": {
          "base_uri": "https://localhost:8080/",
          "height": 136
        },
        "id": "xQq1f2KCLlQm",
        "outputId": "b36e87e1-9024-4908-cb1c-9e781689cabb"
      },
      "source": [
        "# Diebold-Mariano test for predictive accuracy - test 2\n",
        "e.a <- realgarch.error.a\n",
        "e.b <- realgarch.error.b\n",
        "\n",
        "dm.test(e.a, e.b, alternative = \"two.sided\", h = 1, power = 2)"
      ],
      "id": "xQq1f2KCLlQm",
      "execution_count": 157,
      "outputs": [
        {
          "output_type": "display_data",
          "data": {
            "text/plain": [
              "\n",
              "\tDiebold-Mariano Test\n",
              "\n",
              "data:  e.ae.b\n",
              "DM = 4.576, Forecast horizon = 1, Loss function power = 2, p-value =\n",
              "5.749e-06\n",
              "alternative hypothesis: two.sided\n"
            ]
          },
          "metadata": {
            "tags": []
          }
        }
      ]
    },
    {
      "cell_type": "code",
      "metadata": {
        "colab": {
          "base_uri": "https://localhost:8080/",
          "height": 34
        },
        "id": "jY7kH1DsLu0F",
        "outputId": "bbba1b3d-3d4b-4173-a403-950c40b9e7b4"
      },
      "source": [
        "# Quasi-likelihood Loss Function For Volatility Forecasts - forecast a\n",
        "realgarch.qlike.a <- mean(LossVol(sigma.realgarch[,'sigma.realgarch.true'],\n",
        "                                  sigma.realgarch[,'sigma.realgarch.pred.a'],\n",
        "                                  which = \"QLIKE\"))\n",
        "round(realgarch.qlike.a, digits = 3)"
      ],
      "id": "jY7kH1DsLu0F",
      "execution_count": 158,
      "outputs": [
        {
          "output_type": "display_data",
          "data": {
            "text/plain": [
              "[1] 1.888"
            ],
            "text/latex": "1.888",
            "text/markdown": "1.888",
            "text/html": [
              "1.888"
            ]
          },
          "metadata": {
            "tags": []
          }
        }
      ]
    },
    {
      "cell_type": "code",
      "metadata": {
        "colab": {
          "base_uri": "https://localhost:8080/",
          "height": 34
        },
        "id": "q27uEsBQL7Qv",
        "outputId": "fea8270f-9441-405d-bc06-836905067edf"
      },
      "source": [
        "# Quasi-likelihood Loss Function For Volatility Forecasts - forecast b\n",
        "realgarch.qlike.b <- mean(LossVol(sigma.realgarch[,'sigma.realgarch.true'],\n",
        "                                  sigma.realgarch[,'sigma.realgarch.pred.b'],\n",
        "                                  which = \"QLIKE\"))\n",
        "round(realgarch.qlike.b, digits = 3)"
      ],
      "id": "q27uEsBQL7Qv",
      "execution_count": 159,
      "outputs": [
        {
          "output_type": "display_data",
          "data": {
            "text/plain": [
              "[1] 1.582"
            ],
            "text/latex": "1.582",
            "text/markdown": "1.582",
            "text/html": [
              "1.582"
            ]
          },
          "metadata": {
            "tags": []
          }
        }
      ]
    },
    {
      "cell_type": "code",
      "metadata": {
        "colab": {
          "base_uri": "https://localhost:8080/",
          "height": 34
        },
        "id": "TMTJMS8Irbu-",
        "outputId": "9cc7aba1-1ef0-4303-dbf9-ffde62f3dcba"
      },
      "source": [
        "# Log loss / Cross-Entropy Loss -  forecast a\n",
        "realgarch.logloss.a <- LogLoss(sigma.realgarch[,'sigma.realgarch.pred.a'],\n",
        "                              sigma.realgarch[,'sigma.realgarch.true'])\n",
        "round(realgarch.logloss.a, digits = 3)"
      ],
      "id": "TMTJMS8Irbu-",
      "execution_count": 160,
      "outputs": [
        {
          "output_type": "display_data",
          "data": {
            "text/plain": [
              "[1] -19.489"
            ],
            "text/latex": "-19.489",
            "text/markdown": "-19.489",
            "text/html": [
              "-19.489"
            ]
          },
          "metadata": {
            "tags": []
          }
        }
      ]
    },
    {
      "cell_type": "code",
      "metadata": {
        "colab": {
          "base_uri": "https://localhost:8080/",
          "height": 34
        },
        "id": "YZMTB5ofrd7X",
        "outputId": "86798d6d-69eb-4b07-dec0-9373e704bc8a"
      },
      "source": [
        "# Log loss / Cross-Entropy Loss -  forecast b\n",
        "realgarch.logloss.b <- LogLoss(sigma.realgarch[,'sigma.realgarch.pred.b'],\n",
        "                              sigma.realgarch[,'sigma.realgarch.true'])\n",
        "round(realgarch.logloss.b, digits = 3)"
      ],
      "id": "YZMTB5ofrd7X",
      "execution_count": 161,
      "outputs": [
        {
          "output_type": "display_data",
          "data": {
            "text/plain": [
              "[1] -19.719"
            ],
            "text/latex": "-19.719",
            "text/markdown": "-19.719",
            "text/html": [
              "-19.719"
            ]
          },
          "metadata": {
            "tags": []
          }
        }
      ]
    },
    {
      "cell_type": "code",
      "metadata": {
        "colab": {
          "base_uri": "https://localhost:8080/",
          "height": 170
        },
        "id": "JEMT__yorfjp",
        "outputId": "33526e3f-82be-440e-ef7b-2212b14006c6"
      },
      "source": [
        "# Linear regression to assess forecast performance - forecast a\n",
        "realgarch.model.a <- lm(sigma.realgarch.true ~ sigma.realgarch.pred.a,\n",
        "                        data = sigma.realgarch)\n",
        "round(coeftest(realgarch.model.a, NeweyWest(realgarch.model.a,\n",
        "                                            lag = bwNeweyWest(realgarch.model.a),\n",
        "                                            prewhite = F)), 3)\n",
        "round(summary(realgarch.model.a)$adj.r.squared, 3)"
      ],
      "id": "JEMT__yorfjp",
      "execution_count": 162,
      "outputs": [
        {
          "output_type": "display_data",
          "data": {
            "text/plain": [
              "\n",
              "t test of coefficients:\n",
              "\n",
              "                       Estimate Std. Error t value  Pr(>|t|)    \n",
              "(Intercept)              -4.327      0.528  -8.202 < 2.2e-16 ***\n",
              "sigma.realgarch.pred.a    5.407      0.530  10.209 < 2.2e-16 ***\n",
              "---\n",
              "Signif. codes:  0 ‘***’ 0.001 ‘**’ 0.01 ‘*’ 0.05 ‘.’ 0.1 ‘ ’ 1\n"
            ]
          },
          "metadata": {
            "tags": []
          }
        },
        {
          "output_type": "display_data",
          "data": {
            "text/plain": [
              "[1] 0.895"
            ],
            "text/latex": "0.895",
            "text/markdown": "0.895",
            "text/html": [
              "0.895"
            ]
          },
          "metadata": {
            "tags": []
          }
        }
      ]
    },
    {
      "cell_type": "code",
      "metadata": {
        "colab": {
          "base_uri": "https://localhost:8080/",
          "height": 170
        },
        "id": "ldQCcTrrrhmc",
        "outputId": "b2bff39c-a4db-4ae8-d543-2d6aff6bab93"
      },
      "source": [
        "# Linear regression to assess forecast performance - forecast b\n",
        "realgarch.model.b <- lm(sigma.realgarch.true ~ sigma.realgarch.pred.b,\n",
        "                        data = sigma.realgarch)\n",
        "round(coeftest(realgarch.model.b, NeweyWest(realgarch.model.b,\n",
        "                                            lag = bwNeweyWest(realgarch.model.b),\n",
        "                                            prewhite = F)), 3)\n",
        "round(summary(realgarch.model.b)$adj.r.squared, 3)"
      ],
      "id": "ldQCcTrrrhmc",
      "execution_count": 163,
      "outputs": [
        {
          "output_type": "display_data",
          "data": {
            "text/plain": [
              "\n",
              "t test of coefficients:\n",
              "\n",
              "                       Estimate Std. Error t value  Pr(>|t|)    \n",
              "(Intercept)              -3.018      0.279 -10.801 < 2.2e-16 ***\n",
              "sigma.realgarch.pred.b    4.025      0.274  14.703 < 2.2e-16 ***\n",
              "---\n",
              "Signif. codes:  0 ‘***’ 0.001 ‘**’ 0.01 ‘*’ 0.05 ‘.’ 0.1 ‘ ’ 1\n"
            ]
          },
          "metadata": {
            "tags": []
          }
        },
        {
          "output_type": "display_data",
          "data": {
            "text/plain": [
              "[1] 0.955"
            ],
            "text/latex": "0.955",
            "text/markdown": "0.955",
            "text/html": [
              "0.955"
            ]
          },
          "metadata": {
            "tags": []
          }
        }
      ]
    },
    {
      "cell_type": "markdown",
      "metadata": {
        "id": "OuZavxA4cLrP"
      },
      "source": [
        "##(b) Realized EGARCH"
      ],
      "id": "OuZavxA4cLrP"
    },
    {
      "cell_type": "markdown",
      "metadata": {
        "id": "4sUcOAaFrz2G"
      },
      "source": [
        "**Forecast**"
      ],
      "id": "4sUcOAaFrz2G"
    },
    {
      "cell_type": "code",
      "metadata": {
        "id": "dCRNQymVi604"
      },
      "source": [
        "# Model specification\n",
        "realegarch.spec.pred <- realgarch.spec\n",
        "setfixed(realegarch.spec.pred) <- as.list(coef(realegarch.fit))"
      ],
      "id": "dCRNQymVi604",
      "execution_count": 164,
      "outputs": []
    },
    {
      "cell_type": "code",
      "metadata": {
        "id": "r2ZbX0BnqqNz"
      },
      "source": [
        "# Model adjustment\n",
        "realegarch.fit.pred <- ugarchfit(realgarch.spec,\n",
        "                                 IMOEX.ME.df$IMOEX.ME.Return,\n",
        "                                 out.sample = dim(IMOEX.ME.df.out)[1],\n",
        "                                 solver = 'hybrid',\n",
        "                                 realizedVol = IMOEX.ME.df$IMOEX.ME.VolEGARCH)"
      ],
      "id": "r2ZbX0BnqqNz",
      "execution_count": 165,
      "outputs": []
    },
    {
      "cell_type": "code",
      "metadata": {
        "id": "BMElDW_Jq3NC"
      },
      "source": [
        "# Forecast calculated through adjustment\n",
        "realegarch.pred.a <- ugarchforecast(realegarch.fit.pred,\n",
        "                                    n.ahead = 1,\n",
        "                                    n.roll = dim(IMOEX.ME.df.out)[1])\n",
        "\n",
        "realegarch.forecast.a <- xts(sigma(realegarch.pred.a)[1,],\n",
        "                             move(as.Date(names(sigma(realegarch.pred.a)[1,])), by = 1))"
      ],
      "id": "BMElDW_Jq3NC",
      "execution_count": 166,
      "outputs": []
    },
    {
      "cell_type": "code",
      "metadata": {
        "id": "sVpye2IHq__O"
      },
      "source": [
        "# Forecast calculated using specification\n",
        "realegarch.pred.b <- ugarchforecast(realegarch.spec.pred, \n",
        "                                   n.ahead = 1, \n",
        "                                   n.roll = dim(IMOEX.ME.df.out)[1], \n",
        "                                   data = IMOEX.ME.df$IMOEX.ME.Return, \n",
        "                                   out.sample = dim(IMOEX.ME.df.out)[1], \n",
        "                                   realizedVol = IMOEX.ME.df$IMOEX.ME.VolRealEGARCH)\n",
        "\n",
        "realegarch.forecast.b <- xts(sigma(realegarch.pred.b)[1,],\n",
        "                             move(as.Date(names(sigma(realegarch.pred.b)[1,])), by = 1))"
      ],
      "id": "sVpye2IHq__O",
      "execution_count": 167,
      "outputs": []
    },
    {
      "cell_type": "code",
      "metadata": {
        "id": "ippLtx4arSw6"
      },
      "source": [
        "# Model filtering\n",
        "realegarch.filt.pred <- ugarchfilter(realegarch.spec.pred,\n",
        "                                     data = IMOEX.ME.df$IMOEX.ME.Return,\n",
        "                                     n.old = nrow(IMOEX.ME.df) - dim(IMOEX.ME.df.out)[1],\n",
        "                                     realizedVol = IMOEX.ME.df$IMOEX.ME.VolRealEGARCH)\n",
        "\n",
        "realegarch.filt <- tail(sigma(realegarch.filt.pred), dim(IMOEX.ME.df.out)[1])"
      ],
      "id": "ippLtx4arSw6",
      "execution_count": 168,
      "outputs": []
    },
    {
      "cell_type": "code",
      "metadata": {
        "colab": {
          "base_uri": "https://localhost:8080/",
          "height": 136
        },
        "id": "-mfEos63rZUt",
        "outputId": "0dd6e2ee-4b16-4da8-b576-ad5bf03efc86"
      },
      "source": [
        "# Comparative\n",
        "colnames(realegarch.filt) <- 'filter'\n",
        "colnames(realegarch.forecast.a) <- 'forecast1'\n",
        "colnames(realegarch.forecast.b) <- 'forecast2'\n",
        "\n",
        "realegarch.ftest <- cbind(realegarch.filt,\n",
        "                         realegarch.forecast.a,\n",
        "                         realegarch.forecast.b)\n",
        "head(round(realegarch.ftest, digits = 4))"
      ],
      "id": "-mfEos63rZUt",
      "execution_count": 169,
      "outputs": [
        {
          "output_type": "display_data",
          "data": {
            "text/plain": [
              "           filter forecast1 forecast2\n",
              "2018-12-17 1.2279    1.1223    1.2221\n",
              "2018-12-18 1.1647    1.1238    1.1572\n",
              "2018-12-19 1.1660    1.0924    1.1575\n",
              "2018-12-20 1.1366    1.0866    1.1250\n",
              "2018-12-21 1.1211    1.0407    1.1094\n",
              "2018-12-24 1.0661    1.0202    1.0588"
            ]
          },
          "metadata": {
            "tags": []
          }
        }
      ]
    },
    {
      "cell_type": "code",
      "metadata": {
        "colab": {
          "base_uri": "https://localhost:8080/",
          "height": 252
        },
        "id": "ZQXrOuN3rgS6",
        "outputId": "49992080-711f-4e38-b197-66f23f57c938"
      },
      "source": [
        "sigma.realegarch.pred.a <- ts(realegarch.forecast.a[-1,])\n",
        "sigma.realegarch.pred.b <- ts(realegarch.forecast.b[-1,])\n",
        "sigma.realegarch.true <- ts(IMOEX.ME.df.out$IMOEX.ME.VolRealEGARCH)\n",
        "\n",
        "sigma.realegarch <- na.omit(cbind(sigma.realegarch.pred.a,\n",
        "                                 sigma.realegarch.pred.b,\n",
        "                                 sigma.realegarch.true))\n",
        "head(sigma.realegarch)"
      ],
      "id": "ZQXrOuN3rgS6",
      "execution_count": 170,
      "outputs": [
        {
          "output_type": "display_data",
          "data": {
            "text/plain": [
              "  sigma.realegarch.pred.a sigma.realegarch.pred.b sigma.realegarch.true\n",
              "1 1.1237744               1.157163                1.322248             \n",
              "2 1.0924236               1.157543                1.327435             \n",
              "3 1.0865921               1.125011                1.261235             \n",
              "4 1.0406736               1.109378                1.228059             \n",
              "5 1.0202222               1.058797                1.111133             \n",
              "6 0.9983883               1.034017                1.059464             "
            ],
            "text/latex": "A Time Series: 6 × 3\n\\begin{tabular}{r|lll}\n  & sigma.realegarch.pred.a & sigma.realegarch.pred.b & sigma.realegarch.true\\\\\n\\hline\n\t1 & 1.1237744 & 1.157163 & 1.322248\\\\\n\t2 & 1.0924236 & 1.157543 & 1.327435\\\\\n\t3 & 1.0865921 & 1.125011 & 1.261235\\\\\n\t4 & 1.0406736 & 1.109378 & 1.228059\\\\\n\t5 & 1.0202222 & 1.058797 & 1.111133\\\\\n\t6 & 0.9983883 & 1.034017 & 1.059464\\\\\n\\end{tabular}\n",
            "text/markdown": "\nA Time Series: 6 × 3\n\n| <!--/--> | sigma.realegarch.pred.a | sigma.realegarch.pred.b | sigma.realegarch.true |\n|---|---|---|---|\n| 1 | 1.1237744 | 1.157163 | 1.322248 |\n| 2 | 1.0924236 | 1.157543 | 1.327435 |\n| 3 | 1.0865921 | 1.125011 | 1.261235 |\n| 4 | 1.0406736 | 1.109378 | 1.228059 |\n| 5 | 1.0202222 | 1.058797 | 1.111133 |\n| 6 | 0.9983883 | 1.034017 | 1.059464 |\n\n",
            "text/html": [
              "<table class=\"dataframe\">\n",
              "<caption>A Time Series: 6 × 3</caption>\n",
              "<thead>\n",
              "\t<tr><th></th><th scope=col>sigma.realegarch.pred.a</th><th scope=col>sigma.realegarch.pred.b</th><th scope=col>sigma.realegarch.true</th></tr>\n",
              "</thead>\n",
              "<tbody>\n",
              "\t<tr><th scope=row>1</th><td>1.1237744</td><td>1.157163</td><td>1.322248</td></tr>\n",
              "\t<tr><th scope=row>2</th><td>1.0924236</td><td>1.157543</td><td>1.327435</td></tr>\n",
              "\t<tr><th scope=row>3</th><td>1.0865921</td><td>1.125011</td><td>1.261235</td></tr>\n",
              "\t<tr><th scope=row>4</th><td>1.0406736</td><td>1.109378</td><td>1.228059</td></tr>\n",
              "\t<tr><th scope=row>5</th><td>1.0202222</td><td>1.058797</td><td>1.111133</td></tr>\n",
              "\t<tr><th scope=row>6</th><td>0.9983883</td><td>1.034017</td><td>1.059464</td></tr>\n",
              "</tbody>\n",
              "</table>\n"
            ]
          },
          "metadata": {
            "tags": []
          }
        }
      ]
    },
    {
      "cell_type": "markdown",
      "metadata": {
        "id": "khFocUVZroGF"
      },
      "source": [
        "**Performance evaluation**"
      ],
      "id": "khFocUVZroGF"
    },
    {
      "cell_type": "code",
      "metadata": {
        "colab": {
          "base_uri": "https://localhost:8080/",
          "height": 68
        },
        "id": "e_JT3VHqrnxH",
        "outputId": "48147a20-a771-4e6e-db71-80178d492c44"
      },
      "source": [
        "# Forecast Error - Forecast a\n",
        "realegarch.error.a <- sigma.realegarch[,'sigma.realegarch.pred.a'] - sigma.realegarch[,'sigma.realegarch.true']\n",
        "head(realegarch.error.a)"
      ],
      "id": "e_JT3VHqrnxH",
      "execution_count": 171,
      "outputs": [
        {
          "output_type": "display_data",
          "data": {
            "text/plain": [
              "A Time Series:\n",
              "[1] -0.19847397 -0.23501115 -0.17464322 -0.18738512 -0.09091077 -0.06107577"
            ],
            "text/latex": "A Time Series:\\\\\\begin{enumerate*}\n\\item -0.19847397495074\n\\item -0.235011152697933\n\\item -0.174643218584891\n\\item -0.187385115102411\n\\item -0.0909107694775773\n\\item -0.061075770026137\n\\end{enumerate*}\n",
            "text/markdown": "A Time Series:  \n1. -0.19847397495074\n2. -0.235011152697933\n3. -0.174643218584891\n4. -0.187385115102411\n5. -0.0909107694775773\n6. -0.061075770026137\n\n\n",
            "text/html": [
              "A Time Series:<br><style>\n",
              ".list-inline {list-style: none; margin:0; padding: 0}\n",
              ".list-inline>li {display: inline-block}\n",
              ".list-inline>li:not(:last-child)::after {content: \"\\00b7\"; padding: 0 .5ex}\n",
              "</style>\n",
              "<ol class=list-inline><li>-0.19847397495074</li><li>-0.235011152697933</li><li>-0.174643218584891</li><li>-0.187385115102411</li><li>-0.0909107694775773</li><li>-0.061075770026137</li></ol>\n"
            ]
          },
          "metadata": {
            "tags": []
          }
        }
      ]
    },
    {
      "cell_type": "code",
      "metadata": {
        "colab": {
          "base_uri": "https://localhost:8080/",
          "height": 68
        },
        "id": "-9waGeC7r-AZ",
        "outputId": "58d0e146-5171-4dd4-a0f7-657fdcd4d48e"
      },
      "source": [
        "# Forecast Error - Forecast b\n",
        "realegarch.error.b <- sigma.realegarch[,'sigma.realegarch.pred.b'] - sigma.realegarch[,'sigma.realegarch.true']\n",
        "head(realegarch.error.b)"
      ],
      "id": "-9waGeC7r-AZ",
      "execution_count": 172,
      "outputs": [
        {
          "output_type": "display_data",
          "data": {
            "text/plain": [
              "A Time Series:\n",
              "[1] -0.16508578 -0.16989145 -0.13622381 -0.11868073 -0.05233565 -0.02544737"
            ],
            "text/latex": "A Time Series:\\\\\\begin{enumerate*}\n\\item -0.165085784017005\n\\item -0.169891454859345\n\\item -0.136223812014171\n\\item -0.118680728832529\n\\item -0.0523356452859582\n\\item -0.025447367262885\n\\end{enumerate*}\n",
            "text/markdown": "A Time Series:  \n1. -0.165085784017005\n2. -0.169891454859345\n3. -0.136223812014171\n4. -0.118680728832529\n5. -0.0523356452859582\n6. -0.025447367262885\n\n\n",
            "text/html": [
              "A Time Series:<br><style>\n",
              ".list-inline {list-style: none; margin:0; padding: 0}\n",
              ".list-inline>li {display: inline-block}\n",
              ".list-inline>li:not(:last-child)::after {content: \"\\00b7\"; padding: 0 .5ex}\n",
              "</style>\n",
              "<ol class=list-inline><li>-0.165085784017005</li><li>-0.169891454859345</li><li>-0.136223812014171</li><li>-0.118680728832529</li><li>-0.0523356452859582</li><li>-0.025447367262885</li></ol>\n"
            ]
          },
          "metadata": {
            "tags": []
          }
        }
      ]
    },
    {
      "cell_type": "code",
      "metadata": {
        "colab": {
          "base_uri": "https://localhost:8080/",
          "height": 34
        },
        "id": "PiBrYKy6sEhq",
        "outputId": "6ba7dcd1-5391-4c1a-9cea-1ff90b6a3f1f"
      },
      "source": [
        "# Mean Square Error Loss - Forecast a\n",
        "realegarch.mse.a <- MSE(sigma.realegarch[,'sigma.realegarch.pred.a'],\n",
        "                        sigma.realegarch[,'sigma.realegarch.true'])\n",
        "round(realegarch.mse.a, digits = 3)"
      ],
      "id": "PiBrYKy6sEhq",
      "execution_count": 173,
      "outputs": [
        {
          "output_type": "display_data",
          "data": {
            "text/plain": [
              "[1] 1.905"
            ],
            "text/latex": "1.905",
            "text/markdown": "1.905",
            "text/html": [
              "1.905"
            ]
          },
          "metadata": {
            "tags": []
          }
        }
      ]
    },
    {
      "cell_type": "code",
      "metadata": {
        "colab": {
          "base_uri": "https://localhost:8080/",
          "height": 34
        },
        "id": "SnAzzICNsRN9",
        "outputId": "530373b0-8e4a-4be0-b1c0-d1c4cad80df7"
      },
      "source": [
        "# Mean Square Error Loss - Forecast b\n",
        "realegarch.mse.b <- MSE(sigma.realegarch[,'sigma.realegarch.pred.b'],\n",
        "                        sigma.realegarch[,'sigma.realegarch.true'])\n",
        "round(realegarch.mse.b, digits = 3)"
      ],
      "id": "SnAzzICNsRN9",
      "execution_count": 174,
      "outputs": [
        {
          "output_type": "display_data",
          "data": {
            "text/plain": [
              "[1] 1.581"
            ],
            "text/latex": "1.581",
            "text/markdown": "1.581",
            "text/html": [
              "1.581"
            ]
          },
          "metadata": {
            "tags": []
          }
        }
      ]
    },
    {
      "cell_type": "code",
      "metadata": {
        "colab": {
          "base_uri": "https://localhost:8080/",
          "height": 34
        },
        "id": "8Gzrc_9ZsVuk",
        "outputId": "14dae965-9a3f-4100-bcb2-59aea08ec30d"
      },
      "source": [
        "# Mean Absolute Error Loss - Forecast a\n",
        "realegarch.mae.a <- MAE(sigma.realegarch[,'sigma.realegarch.pred.a'],\n",
        "                        sigma.realegarch[,'sigma.realegarch.true'])\n",
        "round(realegarch.mae.a, digits = 3)"
      ],
      "id": "8Gzrc_9ZsVuk",
      "execution_count": 175,
      "outputs": [
        {
          "output_type": "display_data",
          "data": {
            "text/plain": [
              "[1] 0.456"
            ],
            "text/latex": "0.456",
            "text/markdown": "0.456",
            "text/html": [
              "0.456"
            ]
          },
          "metadata": {
            "tags": []
          }
        }
      ]
    },
    {
      "cell_type": "code",
      "metadata": {
        "colab": {
          "base_uri": "https://localhost:8080/",
          "height": 34
        },
        "id": "Cz721K6JsbCN",
        "outputId": "8e1d3cb2-95b6-4bd5-d898-51ac69359e47"
      },
      "source": [
        "# Mean Absolute Error Loss - Forecast b\n",
        "realegarch.mae.b <- MAE(sigma.realegarch[,'sigma.realegarch.pred.b'],\n",
        "                        sigma.realegarch[,'sigma.realegarch.true'])\n",
        "round(realegarch.mae.b, digits = 3)"
      ],
      "id": "Cz721K6JsbCN",
      "execution_count": 176,
      "outputs": [
        {
          "output_type": "display_data",
          "data": {
            "text/plain": [
              "[1] 0.399"
            ],
            "text/latex": "0.399",
            "text/markdown": "0.399",
            "text/html": [
              "0.399"
            ]
          },
          "metadata": {
            "tags": []
          }
        }
      ]
    },
    {
      "cell_type": "code",
      "metadata": {
        "colab": {
          "base_uri": "https://localhost:8080/",
          "height": 34
        },
        "id": "9Eb94SMosgnv",
        "outputId": "7f7015ba-92ce-49b4-ca04-e73cd35d8d4e"
      },
      "source": [
        "# Root Mean Square Error Loss - Forecast a\n",
        "realegarch.rmse.a <- RMSE(sigma.realegarch[,'sigma.realegarch.pred.a'],\n",
        "                          sigma.realegarch[,'sigma.realegarch.true'])\n",
        "round(realegarch.rmse.a, digits = 3)"
      ],
      "id": "9Eb94SMosgnv",
      "execution_count": 177,
      "outputs": [
        {
          "output_type": "display_data",
          "data": {
            "text/plain": [
              "[1] 1.38"
            ],
            "text/latex": "1.38",
            "text/markdown": "1.38",
            "text/html": [
              "1.38"
            ]
          },
          "metadata": {
            "tags": []
          }
        }
      ]
    },
    {
      "cell_type": "code",
      "metadata": {
        "colab": {
          "base_uri": "https://localhost:8080/",
          "height": 34
        },
        "id": "Prmb2aDFsnt3",
        "outputId": "186ee555-ac07-474d-f709-f296563ed7e0"
      },
      "source": [
        "# Root Mean Square Error Loss - Forecast b\n",
        "realegarch.rmse.b <- RMSE(sigma.realegarch[,'sigma.realegarch.pred.b'],\n",
        "                         sigma.realegarch[,'sigma.realegarch.true'])\n",
        "round(realegarch.rmse.b, digits = 3)"
      ],
      "id": "Prmb2aDFsnt3",
      "execution_count": 178,
      "outputs": [
        {
          "output_type": "display_data",
          "data": {
            "text/plain": [
              "[1] 1.257"
            ],
            "text/latex": "1.257",
            "text/markdown": "1.257",
            "text/html": [
              "1.257"
            ]
          },
          "metadata": {
            "tags": []
          }
        }
      ]
    },
    {
      "cell_type": "code",
      "metadata": {
        "colab": {
          "base_uri": "https://localhost:8080/",
          "height": 34
        },
        "id": "0xvoZRpRst8e",
        "outputId": "9818e034-e2f8-472b-d1c7-6b3b0de0bbca"
      },
      "source": [
        "# Quasi-likelihood loss function - forecast a\n",
        "h <- sigma.realegarch[,'sigma.realegarch.true']\n",
        "\n",
        "h.hat.a <- sigma.realegarch[,'sigma.realegarch.pred.a']     \n",
        "realegarch.qlike.a <- mean(log(sqrt(h)) + h.hat.a/sqrt(h))\n",
        "round(realegarch.qlike.a, digits = 5)"
      ],
      "id": "0xvoZRpRst8e",
      "execution_count": 179,
      "outputs": [
        {
          "output_type": "display_data",
          "data": {
            "text/plain": [
              "[1] 1.0178"
            ],
            "text/latex": "1.0178",
            "text/markdown": "1.0178",
            "text/html": [
              "1.0178"
            ]
          },
          "metadata": {
            "tags": []
          }
        }
      ]
    },
    {
      "cell_type": "code",
      "metadata": {
        "colab": {
          "base_uri": "https://localhost:8080/",
          "height": 34
        },
        "id": "bjmoDbwHsy07",
        "outputId": "581efc3e-82a2-4f28-e1de-f60421e16cca"
      },
      "source": [
        "# Quasi-likelihood loss function - forecast b\n",
        "h.hat.b <- sigma.realegarch[,'sigma.realegarch.pred.b']\n",
        "realegarch.qlike.b <- mean(log(sqrt(h)) + h.hat.b/sqrt(h))\n",
        "round(realegarch.qlike.b, digits = 5)"
      ],
      "id": "bjmoDbwHsy07",
      "execution_count": 180,
      "outputs": [
        {
          "output_type": "display_data",
          "data": {
            "text/plain": [
              "[1] 1.02651"
            ],
            "text/latex": "1.02651",
            "text/markdown": "1.02651",
            "text/html": [
              "1.02651"
            ]
          },
          "metadata": {
            "tags": []
          }
        }
      ]
    },
    {
      "cell_type": "code",
      "metadata": {
        "colab": {
          "base_uri": "https://localhost:8080/",
          "height": 119
        },
        "id": "pNX4j9UpM2Xp",
        "outputId": "a900c06f-1bdb-46f2-f309-d60a3f56bce8"
      },
      "source": [
        "# Diebold-Mariano Test (accuracy test) - test 1\n",
        "f.a <- sigma.realegarch[,'sigma.realegarch.pred.a']\n",
        "f.b <- sigma.realegarch[,'sigma.realegarch.pred.b']\n",
        "y <- sigma.realegarch[,'sigma.realegarch.true']\n",
        "\n",
        "DM.test(f.a, f.b, y, loss.type = \"SE\", c = FALSE, H1 = \"same\")"
      ],
      "id": "pNX4j9UpM2Xp",
      "execution_count": 181,
      "outputs": [
        {
          "output_type": "display_data",
          "data": {
            "text/plain": [
              "\n",
              "\tDiebold-Mariano test\n",
              "\n",
              "data:  f.a and f.b and y\n",
              "statistic = 4.21, forecast horizon = 1, p-value = 2.553e-05\n",
              "alternative hypothesis: Forecast f1 and f2 have different accuracy.\n"
            ]
          },
          "metadata": {
            "tags": []
          }
        }
      ]
    },
    {
      "cell_type": "code",
      "metadata": {
        "colab": {
          "base_uri": "https://localhost:8080/",
          "height": 136
        },
        "id": "rZuiAzulM5bV",
        "outputId": "e69cc5ae-ac52-444f-951b-7152034b3057"
      },
      "source": [
        "# Diebold-Mariano test for predictive accuracy - test 2\n",
        "e.a <- realegarch.error.a\n",
        "e.b <- realegarch.error.b\n",
        "\n",
        "dm.test(e.a, e.b, alternative = \"two.sided\", h = 1, power = 2)"
      ],
      "id": "rZuiAzulM5bV",
      "execution_count": 182,
      "outputs": [
        {
          "output_type": "display_data",
          "data": {
            "text/plain": [
              "\n",
              "\tDiebold-Mariano Test\n",
              "\n",
              "data:  e.ae.b\n",
              "DM = 4.2066, Forecast horizon = 1, Loss function power = 2, p-value =\n",
              "2.984e-05\n",
              "alternative hypothesis: two.sided\n"
            ]
          },
          "metadata": {
            "tags": []
          }
        }
      ]
    },
    {
      "cell_type": "code",
      "metadata": {
        "colab": {
          "base_uri": "https://localhost:8080/",
          "height": 34
        },
        "id": "V1jfC8jiM7CV",
        "outputId": "f1153b91-cd49-4422-c4f9-ac840c64a9e1"
      },
      "source": [
        "# Quasi-likelihood Loss Function For Volatility Forecasts - forecast a\n",
        "realegarch.qlike.a <- mean(LossVol(sigma.realegarch[,'sigma.realegarch.true'],\n",
        "                                  sigma.realegarch[,'sigma.realegarch.pred.a'],\n",
        "                                  which = \"QLIKE\"))\n",
        "round(realegarch.qlike.a, digits = 3)"
      ],
      "id": "V1jfC8jiM7CV",
      "execution_count": 183,
      "outputs": [
        {
          "output_type": "display_data",
          "data": {
            "text/plain": [
              "[1] 1.602"
            ],
            "text/latex": "1.602",
            "text/markdown": "1.602",
            "text/html": [
              "1.602"
            ]
          },
          "metadata": {
            "tags": []
          }
        }
      ]
    },
    {
      "cell_type": "code",
      "metadata": {
        "colab": {
          "base_uri": "https://localhost:8080/",
          "height": 34
        },
        "id": "zC1g4re5M9KZ",
        "outputId": "32d4df16-c177-44e2-ad8a-2e6d312254a4"
      },
      "source": [
        "# Quasi-likelihood Loss Function For Volatility Forecasts - forecast 1b\n",
        "realegarch.qlike.b <- mean(LossVol(sigma.realegarch[,'sigma.realegarch.true'],\n",
        "                                  sigma.realegarch[,'sigma.realegarch.pred.b'],\n",
        "                                  which = \"QLIKE\"))\n",
        "round(realegarch.qlike.b, digits = 3)"
      ],
      "id": "zC1g4re5M9KZ",
      "execution_count": 184,
      "outputs": [
        {
          "output_type": "display_data",
          "data": {
            "text/plain": [
              "[1] 1.388"
            ],
            "text/latex": "1.388",
            "text/markdown": "1.388",
            "text/html": [
              "1.388"
            ]
          },
          "metadata": {
            "tags": []
          }
        }
      ]
    },
    {
      "cell_type": "code",
      "metadata": {
        "colab": {
          "base_uri": "https://localhost:8080/",
          "height": 34
        },
        "id": "jGHSBt6Fs20A",
        "outputId": "98e79c46-ed05-411b-8786-07cd1e37deed"
      },
      "source": [
        "# Log loss / Cross-Entropy Loss -  forecast a\n",
        "realegarch.logloss.a <- LogLoss(sigma.realegarch[,'sigma.realegarch.pred.a'],\n",
        "                                sigma.realegarch[,'sigma.realegarch.true'])\n",
        "round(realegarch.logloss.a, digits = 3)"
      ],
      "id": "jGHSBt6Fs20A",
      "execution_count": 185,
      "outputs": [
        {
          "output_type": "display_data",
          "data": {
            "text/plain": [
              "[1] -16.695"
            ],
            "text/latex": "-16.695",
            "text/markdown": "-16.695",
            "text/html": [
              "-16.695"
            ]
          },
          "metadata": {
            "tags": []
          }
        }
      ]
    },
    {
      "cell_type": "code",
      "metadata": {
        "colab": {
          "base_uri": "https://localhost:8080/",
          "height": 34
        },
        "id": "Xz953tWks75m",
        "outputId": "97174229-7b39-42f6-a616-0c434cc2a362"
      },
      "source": [
        "# Log loss / Cross-Entropy Loss -  forecast b\n",
        "realegarch.logloss.b <- LogLoss(sigma.realegarch[,'sigma.realegarch.pred.b'],\n",
        "                               sigma.realegarch[,'sigma.realegarch.true'])\n",
        "round(realegarch.logloss.b, digits = 3)"
      ],
      "id": "Xz953tWks75m",
      "execution_count": 186,
      "outputs": [
        {
          "output_type": "display_data",
          "data": {
            "text/plain": [
              "[1] -16.897"
            ],
            "text/latex": "-16.897",
            "text/markdown": "-16.897",
            "text/html": [
              "-16.897"
            ]
          },
          "metadata": {
            "tags": []
          }
        }
      ]
    },
    {
      "cell_type": "code",
      "metadata": {
        "colab": {
          "base_uri": "https://localhost:8080/",
          "height": 170
        },
        "id": "nDEjjWYytA3n",
        "outputId": "de8905b6-5e32-4ee6-e420-e0346fa561cb"
      },
      "source": [
        "# Linear regression to assess forecast performance - forecast a\n",
        "realegarch.model.a <- lm(sigma.realegarch.true ~ sigma.realegarch.pred.a,\n",
        "                          data = sigma.realegarch)\n",
        "round(coeftest(realegarch.model.a, NeweyWest(realegarch.model.a,\n",
        "                                            lag = bwNeweyWest(realegarch.model.a),\n",
        "                                            prewhite = F)), 3)\n",
        "round(summary(realegarch.model.a)$adj.r.squared, 3)"
      ],
      "id": "nDEjjWYytA3n",
      "execution_count": 187,
      "outputs": [
        {
          "output_type": "display_data",
          "data": {
            "text/plain": [
              "\n",
              "t test of coefficients:\n",
              "\n",
              "                        Estimate Std. Error t value  Pr(>|t|)    \n",
              "(Intercept)               -3.393      0.508  -6.684 < 2.2e-16 ***\n",
              "sigma.realegarch.pred.a    4.513      0.515   8.768 < 2.2e-16 ***\n",
              "---\n",
              "Signif. codes:  0 ‘***’ 0.001 ‘**’ 0.01 ‘*’ 0.05 ‘.’ 0.1 ‘ ’ 1\n"
            ]
          },
          "metadata": {
            "tags": []
          }
        },
        {
          "output_type": "display_data",
          "data": {
            "text/plain": [
              "[1] 0.867"
            ],
            "text/latex": "0.867",
            "text/markdown": "0.867",
            "text/html": [
              "0.867"
            ]
          },
          "metadata": {
            "tags": []
          }
        }
      ]
    },
    {
      "cell_type": "code",
      "metadata": {
        "colab": {
          "base_uri": "https://localhost:8080/",
          "height": 170
        },
        "id": "pBwia3SptNNd",
        "outputId": "71fa7608-982f-44d6-e48d-6d12b61fbae9"
      },
      "source": [
        "# Linear regression to assess forecast performance - forecast b\n",
        "realegarch.model.b <- lm(sigma.realegarch.true ~ sigma.realegarch.pred.b,\n",
        "                         data = sigma.realegarch)\n",
        "round(coeftest(realegarch.model.b, NeweyWest(realegarch.model.b,\n",
        "                                             lag = bwNeweyWest(realegarch.model.b),\n",
        "                                             prewhite = F)), 3)\n",
        "round(summary(realegarch.model.b)$adj.r.squared, 3)"
      ],
      "id": "pBwia3SptNNd",
      "execution_count": 188,
      "outputs": [
        {
          "output_type": "display_data",
          "data": {
            "text/plain": [
              "\n",
              "t test of coefficients:\n",
              "\n",
              "                        Estimate Std. Error t value  Pr(>|t|)    \n",
              "(Intercept)               -2.521      0.324  -7.780 < 2.2e-16 ***\n",
              "sigma.realegarch.pred.b    3.578      0.318  11.244 < 2.2e-16 ***\n",
              "---\n",
              "Signif. codes:  0 ‘***’ 0.001 ‘**’ 0.01 ‘*’ 0.05 ‘.’ 0.1 ‘ ’ 1\n"
            ]
          },
          "metadata": {
            "tags": []
          }
        },
        {
          "output_type": "display_data",
          "data": {
            "text/plain": [
              "[1] 0.942"
            ],
            "text/latex": "0.942",
            "text/markdown": "0.942",
            "text/html": [
              "0.942"
            ]
          },
          "metadata": {
            "tags": []
          }
        }
      ]
    },
    {
      "cell_type": "markdown",
      "metadata": {
        "id": "F09WUjYGcRlC"
      },
      "source": [
        "##(c) Realized GJR-GARCH"
      ],
      "id": "F09WUjYGcRlC"
    },
    {
      "cell_type": "markdown",
      "metadata": {
        "id": "qnRKcOcCta7o"
      },
      "source": [
        "**Forecast**"
      ],
      "id": "qnRKcOcCta7o"
    },
    {
      "cell_type": "code",
      "metadata": {
        "id": "Fqt19JCftdbE"
      },
      "source": [
        "# Model specification\n",
        "realgjrgarch.spec.pred <- realgarch.spec\n",
        "setfixed(realgjrgarch.spec.pred) <- as.list(coef(realgjrgarch.fit))"
      ],
      "id": "Fqt19JCftdbE",
      "execution_count": 189,
      "outputs": []
    },
    {
      "cell_type": "code",
      "metadata": {
        "id": "qXP7fhgBte5t"
      },
      "source": [
        "# Model adjustment\n",
        "realgjrgarch.fit.pred <- ugarchfit(realgarch.spec,\n",
        "                                  IMOEX.ME.df$IMOEX.ME.Return,\n",
        "                                  out.sample = dim(IMOEX.ME.df.out)[1],\n",
        "                                  solver = 'hybrid',\n",
        "                                  realizedVol = IMOEX.ME.df$IMOEX.ME.VolGJRGARCH)"
      ],
      "id": "qXP7fhgBte5t",
      "execution_count": 190,
      "outputs": []
    },
    {
      "cell_type": "code",
      "metadata": {
        "id": "uNJkuqkmtgvL"
      },
      "source": [
        "# Forecast calculated through adjustment\n",
        "realgjrgarch.pred.a <- ugarchforecast(realgjrgarch.fit.pred,\n",
        "                                      n.ahead = 1,\n",
        "                                      n.roll = dim(IMOEX.ME.df.out)[1])\n",
        "\n",
        "realgjrgarch.forecast.a <- xts(sigma(realgjrgarch.pred.a)[1,],\n",
        "                              move(as.Date(names(sigma(realgjrgarch.pred.a)[1,])), by = 1))"
      ],
      "id": "uNJkuqkmtgvL",
      "execution_count": 191,
      "outputs": []
    },
    {
      "cell_type": "code",
      "metadata": {
        "id": "rfCr3awkticN"
      },
      "source": [
        "# Forecast calculated using specification\n",
        "realgjrgarch.pred.b <- ugarchforecast(realgjrgarch.spec.pred, \n",
        "                                     n.ahead = 1, \n",
        "                                     n.roll = dim(IMOEX.ME.df.out)[1], \n",
        "                                     data = IMOEX.ME.df$IMOEX.ME.Return, \n",
        "                                     out.sample = dim(IMOEX.ME.df.out)[1], \n",
        "                                     realizedVol = IMOEX.ME.df$IMOEX.ME.VolRealGJRGARCH)\n",
        "\n",
        "realgjrgarch.forecast.b <- xts(sigma(realgjrgarch.pred.b)[1,],\n",
        "                               move(as.Date(names(sigma(realgjrgarch.pred.b)[1,])), by = 1))"
      ],
      "id": "rfCr3awkticN",
      "execution_count": 192,
      "outputs": []
    },
    {
      "cell_type": "code",
      "metadata": {
        "id": "3UzDKX5UtkC7"
      },
      "source": [
        "# Model filtering\n",
        "realgjrgarch.filt.pred <- ugarchfilter(realgjrgarch.spec.pred,\n",
        "                                      data = IMOEX.ME.df$IMOEX.ME.Return,\n",
        "                                      n.old = nrow(IMOEX.ME.df) - dim(IMOEX.ME.df.out)[1],\n",
        "                                      realizedVol = IMOEX.ME.df$IMOEX.ME.VolRealGJRGARCH)\n",
        "\n",
        "realgjrgarch.filt <- tail(sigma(realgjrgarch.filt.pred), dim(IMOEX.ME.df.out)[1])"
      ],
      "id": "3UzDKX5UtkC7",
      "execution_count": 193,
      "outputs": []
    },
    {
      "cell_type": "code",
      "metadata": {
        "colab": {
          "base_uri": "https://localhost:8080/",
          "height": 136
        },
        "id": "LNdVHJb2tla3",
        "outputId": "8d6f8bf8-01eb-48f7-b5b1-4aa5da411ffb"
      },
      "source": [
        "# Comparative\n",
        "colnames(realgjrgarch.filt) <- 'filter'\n",
        "colnames(realgjrgarch.forecast.a) <- 'forecast1'\n",
        "colnames(realgjrgarch.forecast.b) <- 'forecast2'\n",
        "\n",
        "realgjrgarch.ftest <- cbind(realgjrgarch.filt,\n",
        "                            realgjrgarch.forecast.a,\n",
        "                            realgjrgarch.forecast.b)\n",
        "head(round(realgjrgarch.ftest, digits = 4))"
      ],
      "id": "LNdVHJb2tla3",
      "execution_count": 194,
      "outputs": [
        {
          "output_type": "display_data",
          "data": {
            "text/plain": [
              "           filter forecast1 forecast2\n",
              "2018-12-17 1.1434    1.0662    1.1288\n",
              "2018-12-18 1.1021    1.0513    1.0937\n",
              "2018-12-19 1.0830    1.0251    1.0719\n",
              "2018-12-20 1.0517    1.0057    1.0430\n",
              "2018-12-21 1.0278    0.9789    1.0157\n",
              "2018-12-24 0.9967    0.9605    0.9880"
            ]
          },
          "metadata": {
            "tags": []
          }
        }
      ]
    },
    {
      "cell_type": "code",
      "metadata": {
        "colab": {
          "base_uri": "https://localhost:8080/",
          "height": 252
        },
        "id": "3ESbujLFtnAw",
        "outputId": "80db0bad-b93c-49a4-879b-9a32fa38e8bd"
      },
      "source": [
        "sigma.realgjrgarch.pred.a <- ts(realgjrgarch.forecast.a[-1,])\n",
        "sigma.realgjrgarch.pred.b <- ts(realgjrgarch.forecast.b[-1,])\n",
        "sigma.realgjrgarch.true <- ts(IMOEX.ME.df.out$IMOEX.ME.VolRealGJRGARCH)\n",
        "\n",
        "sigma.realgjrgarch <- na.omit(cbind(sigma.realgjrgarch.pred.a,\n",
        "                                    sigma.realgjrgarch.pred.b,\n",
        "                                    sigma.realgjrgarch.true))\n",
        "head(sigma.realgjrgarch)"
      ],
      "id": "3ESbujLFtnAw",
      "execution_count": 195,
      "outputs": [
        {
          "output_type": "display_data",
          "data": {
            "text/plain": [
              "  sigma.realgjrgarch.pred.a sigma.realgjrgarch.pred.b sigma.realgjrgarch.true\n",
              "1 1.0513433                 1.0937319                 1.1901571              \n",
              "2 1.0251489                 1.0718764                 1.1482503              \n",
              "3 1.0057197                 1.0429732                 1.0811021              \n",
              "4 0.9788512                 1.0156778                 1.0313536              \n",
              "5 0.9605091                 0.9880309                 0.9681525              \n",
              "6 0.9376606                 0.9592230                 0.9201020              "
            ],
            "text/latex": "A Time Series: 6 × 3\n\\begin{tabular}{r|lll}\n  & sigma.realgjrgarch.pred.a & sigma.realgjrgarch.pred.b & sigma.realgjrgarch.true\\\\\n\\hline\n\t1 & 1.0513433 & 1.0937319 & 1.1901571\\\\\n\t2 & 1.0251489 & 1.0718764 & 1.1482503\\\\\n\t3 & 1.0057197 & 1.0429732 & 1.0811021\\\\\n\t4 & 0.9788512 & 1.0156778 & 1.0313536\\\\\n\t5 & 0.9605091 & 0.9880309 & 0.9681525\\\\\n\t6 & 0.9376606 & 0.9592230 & 0.9201020\\\\\n\\end{tabular}\n",
            "text/markdown": "\nA Time Series: 6 × 3\n\n| <!--/--> | sigma.realgjrgarch.pred.a | sigma.realgjrgarch.pred.b | sigma.realgjrgarch.true |\n|---|---|---|---|\n| 1 | 1.0513433 | 1.0937319 | 1.1901571 |\n| 2 | 1.0251489 | 1.0718764 | 1.1482503 |\n| 3 | 1.0057197 | 1.0429732 | 1.0811021 |\n| 4 | 0.9788512 | 1.0156778 | 1.0313536 |\n| 5 | 0.9605091 | 0.9880309 | 0.9681525 |\n| 6 | 0.9376606 | 0.9592230 | 0.9201020 |\n\n",
            "text/html": [
              "<table class=\"dataframe\">\n",
              "<caption>A Time Series: 6 × 3</caption>\n",
              "<thead>\n",
              "\t<tr><th></th><th scope=col>sigma.realgjrgarch.pred.a</th><th scope=col>sigma.realgjrgarch.pred.b</th><th scope=col>sigma.realgjrgarch.true</th></tr>\n",
              "</thead>\n",
              "<tbody>\n",
              "\t<tr><th scope=row>1</th><td>1.0513433</td><td>1.0937319</td><td>1.1901571</td></tr>\n",
              "\t<tr><th scope=row>2</th><td>1.0251489</td><td>1.0718764</td><td>1.1482503</td></tr>\n",
              "\t<tr><th scope=row>3</th><td>1.0057197</td><td>1.0429732</td><td>1.0811021</td></tr>\n",
              "\t<tr><th scope=row>4</th><td>0.9788512</td><td>1.0156778</td><td>1.0313536</td></tr>\n",
              "\t<tr><th scope=row>5</th><td>0.9605091</td><td>0.9880309</td><td>0.9681525</td></tr>\n",
              "\t<tr><th scope=row>6</th><td>0.9376606</td><td>0.9592230</td><td>0.9201020</td></tr>\n",
              "</tbody>\n",
              "</table>\n"
            ]
          },
          "metadata": {
            "tags": []
          }
        }
      ]
    },
    {
      "cell_type": "markdown",
      "metadata": {
        "id": "XIXx7PfMto5u"
      },
      "source": [
        "**Performance evaluation**"
      ],
      "id": "XIXx7PfMto5u"
    },
    {
      "cell_type": "code",
      "metadata": {
        "colab": {
          "base_uri": "https://localhost:8080/",
          "height": 68
        },
        "id": "Ag4Mj-Ftton1",
        "outputId": "1431bc9c-548a-478b-b559-9ce31924086f"
      },
      "source": [
        "# Forecast Error - Forecast a\n",
        "realgjrgarch.error.a <- sigma.realgjrgarch[,'sigma.realgjrgarch.pred.a'] - sigma.realgjrgarch[,'sigma.realgjrgarch.true']\n",
        "head(realgjrgarch.error.a)"
      ],
      "id": "Ag4Mj-Ftton1",
      "execution_count": 196,
      "outputs": [
        {
          "output_type": "display_data",
          "data": {
            "text/plain": [
              "A Time Series:\n",
              "[1] -0.138813867 -0.123101419 -0.075382454 -0.052502366 -0.007643444\n",
              "[6]  0.017558662"
            ],
            "text/latex": "A Time Series:\\\\\\begin{enumerate*}\n\\item -0.138813866782199\n\\item -0.123101418972753\n\\item -0.0753824543941215\n\\item -0.0525023655475338\n\\item -0.00764344432032915\n\\item 0.0175586616878175\n\\end{enumerate*}\n",
            "text/markdown": "A Time Series:  \n1. -0.138813866782199\n2. -0.123101418972753\n3. -0.0753824543941215\n4. -0.0525023655475338\n5. -0.00764344432032915\n6. 0.0175586616878175\n\n\n",
            "text/html": [
              "A Time Series:<br><style>\n",
              ".list-inline {list-style: none; margin:0; padding: 0}\n",
              ".list-inline>li {display: inline-block}\n",
              ".list-inline>li:not(:last-child)::after {content: \"\\00b7\"; padding: 0 .5ex}\n",
              "</style>\n",
              "<ol class=list-inline><li>-0.138813866782199</li><li>-0.123101418972753</li><li>-0.0753824543941215</li><li>-0.0525023655475338</li><li>-0.00764344432032915</li><li>0.0175586616878175</li></ol>\n"
            ]
          },
          "metadata": {
            "tags": []
          }
        }
      ]
    },
    {
      "cell_type": "code",
      "metadata": {
        "colab": {
          "base_uri": "https://localhost:8080/",
          "height": 68
        },
        "id": "uL_nAHaZtsmX",
        "outputId": "add8d180-b4c6-4d83-f674-8f6d59aad8c5"
      },
      "source": [
        "# Forecast Error - Forecast b\n",
        "realgjrgarch.error.b <- sigma.realgjrgarch[,'sigma.realgjrgarch.pred.b'] - sigma.realgjrgarch[,'sigma.realgjrgarch.true']\n",
        "head(realgjrgarch.error.b)"
      ],
      "id": "uL_nAHaZtsmX",
      "execution_count": 197,
      "outputs": [
        {
          "output_type": "display_data",
          "data": {
            "text/plain": [
              "A Time Series:\n",
              "[1] -0.09642523 -0.07637393 -0.03812895 -0.01567575  0.01987836  0.03912099"
            ],
            "text/latex": "A Time Series:\\\\\\begin{enumerate*}\n\\item -0.0964252260909477\n\\item -0.076373933009525\n\\item -0.0381289495503876\n\\item -0.0156757489098516\n\\item 0.019878363009171\n\\item 0.0391209948350468\n\\end{enumerate*}\n",
            "text/markdown": "A Time Series:  \n1. -0.0964252260909477\n2. -0.076373933009525\n3. -0.0381289495503876\n4. -0.0156757489098516\n5. 0.019878363009171\n6. 0.0391209948350468\n\n\n",
            "text/html": [
              "A Time Series:<br><style>\n",
              ".list-inline {list-style: none; margin:0; padding: 0}\n",
              ".list-inline>li {display: inline-block}\n",
              ".list-inline>li:not(:last-child)::after {content: \"\\00b7\"; padding: 0 .5ex}\n",
              "</style>\n",
              "<ol class=list-inline><li>-0.0964252260909477</li><li>-0.076373933009525</li><li>-0.0381289495503876</li><li>-0.0156757489098516</li><li>0.019878363009171</li><li>0.0391209948350468</li></ol>\n"
            ]
          },
          "metadata": {
            "tags": []
          }
        }
      ]
    },
    {
      "cell_type": "code",
      "metadata": {
        "colab": {
          "base_uri": "https://localhost:8080/",
          "height": 34
        },
        "id": "jCrb2QAytuKC",
        "outputId": "a27e81ad-1891-42aa-d5a3-3e60e69d642f"
      },
      "source": [
        "# Mean Square Error Loss - Forecast a\n",
        "realgjrgarch.mse.a <- MSE(sigma.realgjrgarch[,'sigma.realgjrgarch.pred.a'],\n",
        "                          sigma.realgjrgarch[,'sigma.realgjrgarch.true'])\n",
        "round(realgjrgarch.mse.a, digits = 3)"
      ],
      "id": "jCrb2QAytuKC",
      "execution_count": 198,
      "outputs": [
        {
          "output_type": "display_data",
          "data": {
            "text/plain": [
              "[1] 3.665"
            ],
            "text/latex": "3.665",
            "text/markdown": "3.665",
            "text/html": [
              "3.665"
            ]
          },
          "metadata": {
            "tags": []
          }
        }
      ]
    },
    {
      "cell_type": "code",
      "metadata": {
        "colab": {
          "base_uri": "https://localhost:8080/",
          "height": 34
        },
        "id": "VJXxBH1wtvZc",
        "outputId": "729ef96f-c1a8-401f-d095-db0dc325e45a"
      },
      "source": [
        "# Mean Square Error Loss - Forecast b\n",
        "realgjrgarch.mse.b <- MSE(sigma.realgjrgarch[,'sigma.realgjrgarch.pred.b'],\n",
        "                          sigma.realgjrgarch[,'sigma.realgjrgarch.true'])\n",
        "round(realgjrgarch.mse.b, digits = 3)"
      ],
      "id": "VJXxBH1wtvZc",
      "execution_count": 199,
      "outputs": [
        {
          "output_type": "display_data",
          "data": {
            "text/plain": [
              "[1] 3.22"
            ],
            "text/latex": "3.22",
            "text/markdown": "3.22",
            "text/html": [
              "3.22"
            ]
          },
          "metadata": {
            "tags": []
          }
        }
      ]
    },
    {
      "cell_type": "code",
      "metadata": {
        "colab": {
          "base_uri": "https://localhost:8080/",
          "height": 34
        },
        "id": "ohL91LcHtxCm",
        "outputId": "d0edf8f0-63ea-438a-89b7-b81c4196279a"
      },
      "source": [
        "# Mean Absolute Error Loss - Forecast a\n",
        "realgjrgarch.mae.a <- MAE(sigma.realgjrgarch[,'sigma.realgjrgarch.pred.a'],\n",
        "                          sigma.realgjrgarch[,'sigma.realgjrgarch.true'])\n",
        "round(realgjrgarch.mae.a, digits = 3)"
      ],
      "id": "ohL91LcHtxCm",
      "execution_count": 200,
      "outputs": [
        {
          "output_type": "display_data",
          "data": {
            "text/plain": [
              "[1] 0.56"
            ],
            "text/latex": "0.56",
            "text/markdown": "0.56",
            "text/html": [
              "0.56"
            ]
          },
          "metadata": {
            "tags": []
          }
        }
      ]
    },
    {
      "cell_type": "code",
      "metadata": {
        "colab": {
          "base_uri": "https://localhost:8080/",
          "height": 34
        },
        "id": "2IrJeFHStyH5",
        "outputId": "b3245f8a-050a-4cc0-e814-4e8909bcc0ef"
      },
      "source": [
        "# Mean Absolute Error Loss - Forecast b\n",
        "realgjrgarch.mae.b <- MAE(sigma.realgjrgarch[,'sigma.realgjrgarch.pred.b'],\n",
        "                          sigma.realgjrgarch[,'sigma.realgjrgarch.true'])\n",
        "round(realgjrgarch.mae.b, digits = 3)"
      ],
      "id": "2IrJeFHStyH5",
      "execution_count": 201,
      "outputs": [
        {
          "output_type": "display_data",
          "data": {
            "text/plain": [
              "[1] 0.509"
            ],
            "text/latex": "0.509",
            "text/markdown": "0.509",
            "text/html": [
              "0.509"
            ]
          },
          "metadata": {
            "tags": []
          }
        }
      ]
    },
    {
      "cell_type": "code",
      "metadata": {
        "colab": {
          "base_uri": "https://localhost:8080/",
          "height": 34
        },
        "id": "SqGo_64Itzj3",
        "outputId": "c6302725-62b8-424b-cb1c-b689eb7bbb31"
      },
      "source": [
        "# Root Mean Square Error Loss - Forecast a\n",
        "realgjrgarch.rmse.a <- RMSE(sigma.realgjrgarch[,'sigma.realgjrgarch.pred.a'],\n",
        "                            sigma.realgjrgarch[,'sigma.realgjrgarch.true'])\n",
        "round(realgjrgarch.rmse.a, digits = 3)"
      ],
      "id": "SqGo_64Itzj3",
      "execution_count": 202,
      "outputs": [
        {
          "output_type": "display_data",
          "data": {
            "text/plain": [
              "[1] 1.914"
            ],
            "text/latex": "1.914",
            "text/markdown": "1.914",
            "text/html": [
              "1.914"
            ]
          },
          "metadata": {
            "tags": []
          }
        }
      ]
    },
    {
      "cell_type": "code",
      "metadata": {
        "colab": {
          "base_uri": "https://localhost:8080/",
          "height": 34
        },
        "id": "T7atQxuXt1AP",
        "outputId": "089d8d48-132e-46a4-e605-060dfeb9aa24"
      },
      "source": [
        "# Root Mean Square Error Loss - Forecast b\n",
        "realgjrgarch.rmse.b <- RMSE(sigma.realgjrgarch[,'sigma.realgjrgarch.pred.b'],\n",
        "                            sigma.realgjrgarch[,'sigma.realgjrgarch.true'])\n",
        "round(realgjrgarch.rmse.b, digits = 3)"
      ],
      "id": "T7atQxuXt1AP",
      "execution_count": 203,
      "outputs": [
        {
          "output_type": "display_data",
          "data": {
            "text/plain": [
              "[1] 1.794"
            ],
            "text/latex": "1.794",
            "text/markdown": "1.794",
            "text/html": [
              "1.794"
            ]
          },
          "metadata": {
            "tags": []
          }
        }
      ]
    },
    {
      "cell_type": "code",
      "metadata": {
        "colab": {
          "base_uri": "https://localhost:8080/",
          "height": 34
        },
        "id": "9fJX1_Ect2jQ",
        "outputId": "01c491a5-1be8-4d10-f798-84f4a1f8fea2"
      },
      "source": [
        "# Quasi-likelihood loss function - forecast a\n",
        "h <- sigma.realgjrgarch[,'sigma.realgjrgarch.true']\n",
        "\n",
        "h.hat.a <- sigma.realgjrgarch[,'sigma.realgjrgarch.pred.a']     \n",
        "realgjrgarch.qlike.a <- mean(log(sqrt(h)) + h.hat.a/sqrt(h))\n",
        "round(realgjrgarch.qlike.a, digits = 5)"
      ],
      "id": "9fJX1_Ect2jQ",
      "execution_count": 204,
      "outputs": [
        {
          "output_type": "display_data",
          "data": {
            "text/plain": [
              "[1] 1.03164"
            ],
            "text/latex": "1.03164",
            "text/markdown": "1.03164",
            "text/html": [
              "1.03164"
            ]
          },
          "metadata": {
            "tags": []
          }
        }
      ]
    },
    {
      "cell_type": "code",
      "metadata": {
        "colab": {
          "base_uri": "https://localhost:8080/",
          "height": 34
        },
        "id": "Sx3HuoWct3rq",
        "outputId": "b677a487-a38c-4b36-a6ed-27a7f0f8656b"
      },
      "source": [
        "# Quasi-likelihood loss function - forecast b\n",
        "h.hat.b <- sigma.realgjrgarch[,'sigma.realgjrgarch.pred.b']\n",
        "realgjrgarch.qlike.b <- mean(log(sqrt(h)) + h.hat.b/sqrt(h))\n",
        "round(realgjrgarch.qlike.b, digits = 5)"
      ],
      "id": "Sx3HuoWct3rq",
      "execution_count": 205,
      "outputs": [
        {
          "output_type": "display_data",
          "data": {
            "text/plain": [
              "[1] 1.04441"
            ],
            "text/latex": "1.04441",
            "text/markdown": "1.04441",
            "text/html": [
              "1.04441"
            ]
          },
          "metadata": {
            "tags": []
          }
        }
      ]
    },
    {
      "cell_type": "code",
      "metadata": {
        "colab": {
          "base_uri": "https://localhost:8080/",
          "height": 119
        },
        "id": "cse_VeX2OFEY",
        "outputId": "d884ecb6-2fec-4fd0-e5ed-149ab00658a5"
      },
      "source": [
        "# Diebold-Mariano Test (accuracy test) - test 1\n",
        "f.a <- sigma.realgjrgarch[,'sigma.realgjrgarch.pred.a']\n",
        "f.b <- sigma.realgjrgarch[,'sigma.realgjrgarch.pred.b']\n",
        "y <- sigma.realgjrgarch[,'sigma.realgjrgarch.true']\n",
        "\n",
        "DM.test(f.a, f.b, y, loss.type = \"SE\", c = FALSE, H1 = \"same\")"
      ],
      "id": "cse_VeX2OFEY",
      "execution_count": 206,
      "outputs": [
        {
          "output_type": "display_data",
          "data": {
            "text/plain": [
              "\n",
              "\tDiebold-Mariano test\n",
              "\n",
              "data:  f.a and f.b and y\n",
              "statistic = 4.3258, forecast horizon = 1, p-value = 1.52e-05\n",
              "alternative hypothesis: Forecast f1 and f2 have different accuracy.\n"
            ]
          },
          "metadata": {
            "tags": []
          }
        }
      ]
    },
    {
      "cell_type": "code",
      "metadata": {
        "colab": {
          "base_uri": "https://localhost:8080/",
          "height": 136
        },
        "id": "icTJE8GzOHA8",
        "outputId": "b7e76cd1-6ccb-46db-9ed9-27b54f0c2ba1"
      },
      "source": [
        "# Diebold-Mariano test for predictive accuracy - test 2\n",
        "e.a <- realgjrgarch.error.a\n",
        "e.b <- realgjrgarch.error.b\n",
        "\n",
        "dm.test(e.a, e.b, alternative = \"two.sided\", h = 1, power = 2)"
      ],
      "id": "icTJE8GzOHA8",
      "execution_count": 207,
      "outputs": [
        {
          "output_type": "display_data",
          "data": {
            "text/plain": [
              "\n",
              "\tDiebold-Mariano Test\n",
              "\n",
              "data:  e.ae.b\n",
              "DM = 4.3223, Forecast horizon = 1, Loss function power = 2, p-value =\n",
              "1.805e-05\n",
              "alternative hypothesis: two.sided\n"
            ]
          },
          "metadata": {
            "tags": []
          }
        }
      ]
    },
    {
      "cell_type": "code",
      "metadata": {
        "colab": {
          "base_uri": "https://localhost:8080/",
          "height": 34
        },
        "id": "fenyJq26OKdD",
        "outputId": "b29ee563-d7ce-47b1-8df4-757bf546f587"
      },
      "source": [
        "# Quasi-likelihood Loss Function For Volatility Forecasts - forecast a\n",
        "realgjrgarch.qlike.a <- mean(LossVol(sigma.realgjrgarch[,'sigma.realgjrgarch.true'],\n",
        "                                    sigma.realgjrgarch[,'sigma.realgjrgarch.pred.a'],\n",
        "                                    which = \"QLIKE\"))\n",
        "round(realgjrgarch.qlike.a, digits = 3)"
      ],
      "id": "fenyJq26OKdD",
      "execution_count": 208,
      "outputs": [
        {
          "output_type": "display_data",
          "data": {
            "text/plain": [
              "[1] 1.878"
            ],
            "text/latex": "1.878",
            "text/markdown": "1.878",
            "text/html": [
              "1.878"
            ]
          },
          "metadata": {
            "tags": []
          }
        }
      ]
    },
    {
      "cell_type": "code",
      "metadata": {
        "colab": {
          "base_uri": "https://localhost:8080/",
          "height": 34
        },
        "id": "BZiiiS5BOMIH",
        "outputId": "d1862862-34a4-4134-b221-866c07f4f429"
      },
      "source": [
        "# Quasi-likelihood Loss Function For Volatility Forecasts - forecast 1b\n",
        "realgjrgarch.qlike.b <- mean(LossVol(sigma.realgjrgarch[,'sigma.realgjrgarch.true'],\n",
        "                                    sigma.realgjrgarch[,'sigma.realgjrgarch.pred.b'],\n",
        "                                    which = \"QLIKE\"))\n",
        "round(realgjrgarch.qlike.b, digits = 3)"
      ],
      "id": "BZiiiS5BOMIH",
      "execution_count": 209,
      "outputs": [
        {
          "output_type": "display_data",
          "data": {
            "text/plain": [
              "[1] 1.616"
            ],
            "text/latex": "1.616",
            "text/markdown": "1.616",
            "text/html": [
              "1.616"
            ]
          },
          "metadata": {
            "tags": []
          }
        }
      ]
    },
    {
      "cell_type": "code",
      "metadata": {
        "colab": {
          "base_uri": "https://localhost:8080/",
          "height": 34
        },
        "id": "wpWs_NItt47v",
        "outputId": "9c491fb7-bfac-46cc-86a8-3ad66b110e8b"
      },
      "source": [
        "# Log loss / Cross-Entropy Loss -  forecast a\n",
        "realgjrgarch.logloss.a <- LogLoss(sigma.realgjrgarch[,'sigma.realgjrgarch.pred.a'],\n",
        "                                  sigma.realgjrgarch[,'sigma.realgjrgarch.true'])\n",
        "round(realgjrgarch.logloss.a, digits = 3)"
      ],
      "id": "wpWs_NItt47v",
      "execution_count": 210,
      "outputs": [
        {
          "output_type": "display_data",
          "data": {
            "text/plain": [
              "[1] -20.918"
            ],
            "text/latex": "-20.918",
            "text/markdown": "-20.918",
            "text/html": [
              "-20.918"
            ]
          },
          "metadata": {
            "tags": []
          }
        }
      ]
    },
    {
      "cell_type": "code",
      "metadata": {
        "colab": {
          "base_uri": "https://localhost:8080/",
          "height": 34
        },
        "id": "NOm3JSWtt609",
        "outputId": "cdc31072-6b57-4b52-c0b4-172f851b0367"
      },
      "source": [
        "# Log loss / Cross-Entropy Loss -  forecast b\n",
        "realgjrgarch.logloss.b <- LogLoss(sigma.realgjrgarch[,'sigma.realgjrgarch.pred.b'],\n",
        "                                  sigma.realgjrgarch[,'sigma.realgjrgarch.true'])\n",
        "round(realgjrgarch.logloss.b, digits = 3)"
      ],
      "id": "NOm3JSWtt609",
      "execution_count": 211,
      "outputs": [
        {
          "output_type": "display_data",
          "data": {
            "text/plain": [
              "[1] -21.105"
            ],
            "text/latex": "-21.105",
            "text/markdown": "-21.105",
            "text/html": [
              "-21.105"
            ]
          },
          "metadata": {
            "tags": []
          }
        }
      ]
    },
    {
      "cell_type": "code",
      "metadata": {
        "colab": {
          "base_uri": "https://localhost:8080/",
          "height": 170
        },
        "id": "zAqllzeHt8Fg",
        "outputId": "df315c88-fa61-4457-f311-d69e7d51429f"
      },
      "source": [
        "# Linear regression to assess forecast performance - forecast a\n",
        "realgjrgarch.model.a <- lm(sigma.realgjrgarch.true ~ sigma.realgjrgarch.pred.a,\n",
        "                          data = sigma.realgjrgarch)\n",
        "round(coeftest(realgjrgarch.model.a, NeweyWest(realgjrgarch.model.a,\n",
        "                                              lag = bwNeweyWest(realgjrgarch.model.a),\n",
        "                                              prewhite = F)), 3)\n",
        "round(summary(realgjrgarch.model.a)$adj.r.squared, 3)"
      ],
      "id": "zAqllzeHt8Fg",
      "execution_count": 212,
      "outputs": [
        {
          "output_type": "display_data",
          "data": {
            "text/plain": [
              "\n",
              "t test of coefficients:\n",
              "\n",
              "                          Estimate Std. Error t value  Pr(>|t|)    \n",
              "(Intercept)                 -4.279      0.531  -8.055 < 2.2e-16 ***\n",
              "sigma.realgjrgarch.pred.a    5.390      0.537  10.046 < 2.2e-16 ***\n",
              "---\n",
              "Signif. codes:  0 ‘***’ 0.001 ‘**’ 0.01 ‘*’ 0.05 ‘.’ 0.1 ‘ ’ 1\n"
            ]
          },
          "metadata": {
            "tags": []
          }
        },
        {
          "output_type": "display_data",
          "data": {
            "text/plain": [
              "[1] 0.893"
            ],
            "text/latex": "0.893",
            "text/markdown": "0.893",
            "text/html": [
              "0.893"
            ]
          },
          "metadata": {
            "tags": []
          }
        }
      ]
    },
    {
      "cell_type": "code",
      "metadata": {
        "colab": {
          "base_uri": "https://localhost:8080/",
          "height": 170
        },
        "id": "l98Tp5ujt9ZH",
        "outputId": "b9634745-2672-4f4b-a565-d3d2eff9b7e1"
      },
      "source": [
        "# Linear regression to assess forecast performance - forecast b\n",
        "realgjrgarch.model.b <- lm(sigma.realgjrgarch.true ~ sigma.realgjrgarch.pred.b,\n",
        "                          data = sigma.realgjrgarch)\n",
        "round(coeftest(realgjrgarch.model.b, NeweyWest(realgjrgarch.model.b,\n",
        "                                              lag = bwNeweyWest(realgjrgarch.model.b),\n",
        "                                              prewhite = F)), 3)\n",
        "round(summary(realgjrgarch.model.b)$adj.r.squared, 3)"
      ],
      "id": "l98Tp5ujt9ZH",
      "execution_count": 213,
      "outputs": [
        {
          "output_type": "display_data",
          "data": {
            "text/plain": [
              "\n",
              "t test of coefficients:\n",
              "\n",
              "                          Estimate Std. Error t value  Pr(>|t|)    \n",
              "(Intercept)                 -3.335      0.364  -9.161 < 2.2e-16 ***\n",
              "sigma.realgjrgarch.pred.b    4.370      0.358  12.204 < 2.2e-16 ***\n",
              "---\n",
              "Signif. codes:  0 ‘***’ 0.001 ‘**’ 0.01 ‘*’ 0.05 ‘.’ 0.1 ‘ ’ 1\n"
            ]
          },
          "metadata": {
            "tags": []
          }
        },
        {
          "output_type": "display_data",
          "data": {
            "text/plain": [
              "[1] 0.948"
            ],
            "text/latex": "0.948",
            "text/markdown": "0.948",
            "text/html": [
              "0.948"
            ]
          },
          "metadata": {
            "tags": []
          }
        }
      ]
    },
    {
      "cell_type": "markdown",
      "metadata": {
        "id": "AciM8pt0zDOf"
      },
      "source": [
        "#12. Forecast - Markov-Switching GARCH"
      ],
      "id": "AciM8pt0zDOf"
    },
    {
      "cell_type": "markdown",
      "metadata": {
        "id": "0duULlBdzPeP"
      },
      "source": [
        "##(a) MS Linear GARCH"
      ],
      "id": "0duULlBdzPeP"
    },
    {
      "cell_type": "code",
      "metadata": {
        "id": "x-aTWmwh3OPQ"
      },
      "source": [
        "# Model Estimation - Maximum Likelihood Estimation\n",
        "msgarch.fit.pred.a <- FitML(msgarch.spec,\n",
        "                            data = IMOEX.ME.df$IMOEX.ME.Return)"
      ],
      "id": "x-aTWmwh3OPQ",
      "execution_count": 214,
      "outputs": []
    },
    {
      "cell_type": "code",
      "metadata": {
        "id": "_V7_va4c1iFq"
      },
      "source": [
        "# Model Estimation - MCMC/Bayesian estimation\n",
        "msgarch.fit.pred.b <- FitMCMC(msgarch.spec,\n",
        "                              data = IMOEX.ME.df$IMOEX.ME.Return)"
      ],
      "id": "_V7_va4c1iFq",
      "execution_count": 215,
      "outputs": []
    },
    {
      "cell_type": "code",
      "metadata": {
        "id": "DqhNduVO2fOA"
      },
      "source": [
        "# Forecast - Maximum Likelihood Estimation\n",
        "msgarch.pred.a <- predict(object = msgarch.fit.pred.a,\n",
        "                          nahead = dim(IMOEX.ME.df.out)[1],\n",
        "                          do.return.draw = TRUE)\n",
        "\n",
        "msgarch.forecast.a <- ts(msgarch.pred.a$vol)"
      ],
      "id": "DqhNduVO2fOA",
      "execution_count": 216,
      "outputs": []
    },
    {
      "cell_type": "code",
      "metadata": {
        "id": "xPlTh8-d3FE7"
      },
      "source": [
        "# Forecast - MCMC/Bayesian estimation\n",
        "msgarch.pred.b <- predict(object = msgarch.fit.pred.b,\n",
        "                          nahead = dim(IMOEX.ME.df.out)[1],\n",
        "                          do.return.draw = TRUE)\n",
        "\n",
        "msgarch.forecast.b <- ts(msgarch.pred.b$vol)"
      ],
      "id": "xPlTh8-d3FE7",
      "execution_count": 217,
      "outputs": []
    },
    {
      "cell_type": "code",
      "metadata": {
        "colab": {
          "base_uri": "https://localhost:8080/",
          "height": 252
        },
        "id": "YA2pLbUs3fK5",
        "outputId": "e30b3698-5f1d-40f0-a4bd-c04e58bbbd42"
      },
      "source": [
        "# Comparative\n",
        "sigma.msgarch.pred.a <- msgarch.forecast.a\n",
        "sigma.msgarch.pred.b <- msgarch.forecast.b\n",
        "sigma.msgarch.true <- ts(IMOEX.ME.df.out[,'IMOEX.ME.VolMSGARCH'])\n",
        "\n",
        "sigma.msgarch <- na.omit(cbind(sigma.msgarch.pred.a,\n",
        "                              sigma.msgarch.pred.b,\n",
        "                              sigma.msgarch.true))\n",
        "head(sigma.msgarch)"
      ],
      "id": "YA2pLbUs3fK5",
      "execution_count": 218,
      "outputs": [
        {
          "output_type": "display_data",
          "data": {
            "text/plain": [
              "  sigma.msgarch.pred.a sigma.msgarch.pred.b sigma.msgarch.true\n",
              "1 0.8627302            0.8264504            0.9885445         \n",
              "2 0.9082443            0.8870827            0.9725093         \n",
              "3 0.9058363            1.0268614            0.9593294         \n",
              "4 0.9507405            0.9925779            0.9460971         \n",
              "5 0.9748077            1.1674187            0.9324543         \n",
              "6 0.9578254            1.0619591            0.9195743         "
            ],
            "text/latex": "A Time Series: 6 × 3\n\\begin{tabular}{r|lll}\n  & sigma.msgarch.pred.a & sigma.msgarch.pred.b & sigma.msgarch.true\\\\\n\\hline\n\t1 & 0.8627302 & 0.8264504 & 0.9885445\\\\\n\t2 & 0.9082443 & 0.8870827 & 0.9725093\\\\\n\t3 & 0.9058363 & 1.0268614 & 0.9593294\\\\\n\t4 & 0.9507405 & 0.9925779 & 0.9460971\\\\\n\t5 & 0.9748077 & 1.1674187 & 0.9324543\\\\\n\t6 & 0.9578254 & 1.0619591 & 0.9195743\\\\\n\\end{tabular}\n",
            "text/markdown": "\nA Time Series: 6 × 3\n\n| <!--/--> | sigma.msgarch.pred.a | sigma.msgarch.pred.b | sigma.msgarch.true |\n|---|---|---|---|\n| 1 | 0.8627302 | 0.8264504 | 0.9885445 |\n| 2 | 0.9082443 | 0.8870827 | 0.9725093 |\n| 3 | 0.9058363 | 1.0268614 | 0.9593294 |\n| 4 | 0.9507405 | 0.9925779 | 0.9460971 |\n| 5 | 0.9748077 | 1.1674187 | 0.9324543 |\n| 6 | 0.9578254 | 1.0619591 | 0.9195743 |\n\n",
            "text/html": [
              "<table class=\"dataframe\">\n",
              "<caption>A Time Series: 6 × 3</caption>\n",
              "<thead>\n",
              "\t<tr><th></th><th scope=col>sigma.msgarch.pred.a</th><th scope=col>sigma.msgarch.pred.b</th><th scope=col>sigma.msgarch.true</th></tr>\n",
              "</thead>\n",
              "<tbody>\n",
              "\t<tr><th scope=row>1</th><td>0.8627302</td><td>0.8264504</td><td>0.9885445</td></tr>\n",
              "\t<tr><th scope=row>2</th><td>0.9082443</td><td>0.8870827</td><td>0.9725093</td></tr>\n",
              "\t<tr><th scope=row>3</th><td>0.9058363</td><td>1.0268614</td><td>0.9593294</td></tr>\n",
              "\t<tr><th scope=row>4</th><td>0.9507405</td><td>0.9925779</td><td>0.9460971</td></tr>\n",
              "\t<tr><th scope=row>5</th><td>0.9748077</td><td>1.1674187</td><td>0.9324543</td></tr>\n",
              "\t<tr><th scope=row>6</th><td>0.9578254</td><td>1.0619591</td><td>0.9195743</td></tr>\n",
              "</tbody>\n",
              "</table>\n"
            ]
          },
          "metadata": {
            "tags": []
          }
        }
      ]
    },
    {
      "cell_type": "markdown",
      "metadata": {
        "id": "LVbmSsEMBJaw"
      },
      "source": [
        "**Performance evaluation**"
      ],
      "id": "LVbmSsEMBJaw"
    },
    {
      "cell_type": "code",
      "metadata": {
        "colab": {
          "base_uri": "https://localhost:8080/",
          "height": 68
        },
        "id": "haXFBMWaBKz2",
        "outputId": "c243d244-e8f4-44e4-c1be-1183b20d516d"
      },
      "source": [
        "# Forecast Error - Forecast a\n",
        "msgarch.error.a <- sigma.msgarch[,'sigma.msgarch.pred.a'] - sigma.msgarch[,'sigma.msgarch.true']\n",
        "head(msgarch.error.a)"
      ],
      "id": "haXFBMWaBKz2",
      "execution_count": 219,
      "outputs": [
        {
          "output_type": "display_data",
          "data": {
            "text/plain": [
              "A Time Series:\n",
              "[1] -0.125814219 -0.064264942 -0.053493099  0.004643408  0.042353432\n",
              "[6]  0.038251056"
            ],
            "text/latex": "A Time Series:\\\\\\begin{enumerate*}\n\\item -0.125814218626182\n\\item -0.0642649422949129\n\\item -0.0534930986264048\n\\item 0.00464340758954507\n\\item 0.0423534318485305\n\\item 0.0382510559614887\n\\end{enumerate*}\n",
            "text/markdown": "A Time Series:  \n1. -0.125814218626182\n2. -0.0642649422949129\n3. -0.0534930986264048\n4. 0.00464340758954507\n5. 0.0423534318485305\n6. 0.0382510559614887\n\n\n",
            "text/html": [
              "A Time Series:<br><style>\n",
              ".list-inline {list-style: none; margin:0; padding: 0}\n",
              ".list-inline>li {display: inline-block}\n",
              ".list-inline>li:not(:last-child)::after {content: \"\\00b7\"; padding: 0 .5ex}\n",
              "</style>\n",
              "<ol class=list-inline><li>-0.125814218626182</li><li>-0.0642649422949129</li><li>-0.0534930986264048</li><li>0.00464340758954507</li><li>0.0423534318485305</li><li>0.0382510559614887</li></ol>\n"
            ]
          },
          "metadata": {
            "tags": []
          }
        }
      ]
    },
    {
      "cell_type": "code",
      "metadata": {
        "colab": {
          "base_uri": "https://localhost:8080/",
          "height": 68
        },
        "id": "88NZpanFBNd9",
        "outputId": "b4aef973-b1ea-4be7-858c-95862c81a9ed"
      },
      "source": [
        "# Forecast Error - Forecast b\n",
        "msgarch.error.b <- sigma.msgarch[,'sigma.msgarch.pred.b'] - sigma.msgarch[,'sigma.msgarch.true']\n",
        "head(msgarch.error.b)"
      ],
      "id": "88NZpanFBNd9",
      "execution_count": 220,
      "outputs": [
        {
          "output_type": "display_data",
          "data": {
            "text/plain": [
              "A Time Series:\n",
              "[1] -0.16209408 -0.08542662  0.06753202  0.04648086  0.23496440  0.14238477"
            ],
            "text/latex": "A Time Series:\\\\\\begin{enumerate*}\n\\item -0.162094079289861\n\\item -0.0854266220051864\n\\item 0.0675320152310037\n\\item 0.0464808588878801\n\\item 0.234964397165822\n\\item 0.142384767102978\n\\end{enumerate*}\n",
            "text/markdown": "A Time Series:  \n1. -0.162094079289861\n2. -0.0854266220051864\n3. 0.0675320152310037\n4. 0.0464808588878801\n5. 0.234964397165822\n6. 0.142384767102978\n\n\n",
            "text/html": [
              "A Time Series:<br><style>\n",
              ".list-inline {list-style: none; margin:0; padding: 0}\n",
              ".list-inline>li {display: inline-block}\n",
              ".list-inline>li:not(:last-child)::after {content: \"\\00b7\"; padding: 0 .5ex}\n",
              "</style>\n",
              "<ol class=list-inline><li>-0.162094079289861</li><li>-0.0854266220051864</li><li>0.0675320152310037</li><li>0.0464808588878801</li><li>0.234964397165822</li><li>0.142384767102978</li></ol>\n"
            ]
          },
          "metadata": {
            "tags": []
          }
        }
      ]
    },
    {
      "cell_type": "code",
      "metadata": {
        "colab": {
          "base_uri": "https://localhost:8080/",
          "height": 34
        },
        "id": "C_VP13j7BPKI",
        "outputId": "6d6e03a9-7089-4556-825f-2381cf356113"
      },
      "source": [
        "# Mean Square Error Loss - Forecast a\n",
        "msgarch.mse.a <- MSE(sigma.msgarch[,'sigma.msgarch.pred.a'],\n",
        "                    sigma.msgarch[,'sigma.msgarch.true'])\n",
        "round(msgarch.mse.a, digits = 3)"
      ],
      "id": "C_VP13j7BPKI",
      "execution_count": 221,
      "outputs": [
        {
          "output_type": "display_data",
          "data": {
            "text/plain": [
              "[1] 0.284"
            ],
            "text/latex": "0.284",
            "text/markdown": "0.284",
            "text/html": [
              "0.284"
            ]
          },
          "metadata": {
            "tags": []
          }
        }
      ]
    },
    {
      "cell_type": "code",
      "metadata": {
        "colab": {
          "base_uri": "https://localhost:8080/",
          "height": 34
        },
        "id": "pzReqrbUBQvb",
        "outputId": "283acb2b-1d32-46b4-9e4f-4ed8fbf618c3"
      },
      "source": [
        "# Mean Square Error Loss - Forecast b\n",
        "msgarch.mse.b <- MSE(sigma.msgarch[,'sigma.msgarch.pred.b'],\n",
        "                    sigma.msgarch[,'sigma.msgarch.true'])\n",
        "round(msgarch.mse.b, digits = 3)"
      ],
      "id": "pzReqrbUBQvb",
      "execution_count": 222,
      "outputs": [
        {
          "output_type": "display_data",
          "data": {
            "text/plain": [
              "[1] 0.43"
            ],
            "text/latex": "0.43",
            "text/markdown": "0.43",
            "text/html": [
              "0.43"
            ]
          },
          "metadata": {
            "tags": []
          }
        }
      ]
    },
    {
      "cell_type": "code",
      "metadata": {
        "colab": {
          "base_uri": "https://localhost:8080/",
          "height": 34
        },
        "id": "ATJYe181BSMd",
        "outputId": "53977711-efcd-46ee-b451-997586950d39"
      },
      "source": [
        "# Mean Absolute Error Loss - Forecast a\n",
        "msgarch.mae.a <- MAE(sigma.msgarch[,'sigma.msgarch.pred.a'],\n",
        "                    sigma.msgarch[,'sigma.msgarch.true'])\n",
        "round(msgarch.mae.a, digits = 3)"
      ],
      "id": "ATJYe181BSMd",
      "execution_count": 223,
      "outputs": [
        {
          "output_type": "display_data",
          "data": {
            "text/plain": [
              "[1] 0.357"
            ],
            "text/latex": "0.357",
            "text/markdown": "0.357",
            "text/html": [
              "0.357"
            ]
          },
          "metadata": {
            "tags": []
          }
        }
      ]
    },
    {
      "cell_type": "code",
      "metadata": {
        "colab": {
          "base_uri": "https://localhost:8080/",
          "height": 34
        },
        "id": "l1fAVRUvBTne",
        "outputId": "229da0f6-e8cd-449e-beef-30ddc56fdd94"
      },
      "source": [
        "# Mean Absolute Error Loss - Forecast b\n",
        "msgarch.mae.b <- MAE(sigma.msgarch[,'sigma.msgarch.pred.b'],\n",
        "                    sigma.msgarch[,'sigma.msgarch.true'])\n",
        "round(msgarch.mae.b, digits = 3)"
      ],
      "id": "l1fAVRUvBTne",
      "execution_count": 224,
      "outputs": [
        {
          "output_type": "display_data",
          "data": {
            "text/plain": [
              "[1] 0.553"
            ],
            "text/latex": "0.553",
            "text/markdown": "0.553",
            "text/html": [
              "0.553"
            ]
          },
          "metadata": {
            "tags": []
          }
        }
      ]
    },
    {
      "cell_type": "code",
      "metadata": {
        "colab": {
          "base_uri": "https://localhost:8080/",
          "height": 34
        },
        "id": "OuJINwLnBVER",
        "outputId": "d8ad9bfb-f3c9-42be-a7bb-b901a73898c6"
      },
      "source": [
        "# Root Mean Square Error Loss - Forecast a\n",
        "msgarch.rmse.a <- RMSE(sigma.msgarch[,'sigma.msgarch.pred.a'],\n",
        "                      sigma.msgarch[,'sigma.msgarch.true'])\n",
        "round(msgarch.rmse.a, digits = 3)"
      ],
      "id": "OuJINwLnBVER",
      "execution_count": 225,
      "outputs": [
        {
          "output_type": "display_data",
          "data": {
            "text/plain": [
              "[1] 0.533"
            ],
            "text/latex": "0.533",
            "text/markdown": "0.533",
            "text/html": [
              "0.533"
            ]
          },
          "metadata": {
            "tags": []
          }
        }
      ]
    },
    {
      "cell_type": "code",
      "metadata": {
        "colab": {
          "base_uri": "https://localhost:8080/",
          "height": 34
        },
        "id": "zzi4QlI8BWh3",
        "outputId": "70d9ee70-41f2-495b-a0e4-20076bcfc3de"
      },
      "source": [
        "# Root Mean Square Error Loss - Forecast b\n",
        "msgarch.rmse.b <- RMSE(sigma.msgarch[,'sigma.msgarch.pred.b'],\n",
        "                      sigma.msgarch[,'sigma.msgarch.true'])\n",
        "round(msgarch.rmse.b, digits = 3)"
      ],
      "id": "zzi4QlI8BWh3",
      "execution_count": 226,
      "outputs": [
        {
          "output_type": "display_data",
          "data": {
            "text/plain": [
              "[1] 0.655"
            ],
            "text/latex": "0.655",
            "text/markdown": "0.655",
            "text/html": [
              "0.655"
            ]
          },
          "metadata": {
            "tags": []
          }
        }
      ]
    },
    {
      "cell_type": "code",
      "metadata": {
        "colab": {
          "base_uri": "https://localhost:8080/",
          "height": 34
        },
        "id": "c1gkCdpIBXp1",
        "outputId": "7e9ef962-77be-4aa3-8081-bfbc1aea7ebc"
      },
      "source": [
        "# Quasi-likelihood loss function - forecast a\n",
        "h <- sigma.msgarch[,'sigma.msgarch.true']\n",
        "\n",
        "h.hat.a <- sigma.msgarch[,'sigma.msgarch.pred.a']     \n",
        "msgarch.qlike.a <- mean(log(sqrt(h)) + h.hat.a/sqrt(h))\n",
        "round(msgarch.qlike.a, digits = 5)"
      ],
      "id": "c1gkCdpIBXp1",
      "execution_count": 227,
      "outputs": [
        {
          "output_type": "display_data",
          "data": {
            "text/plain": [
              "[1] 1.19261"
            ],
            "text/latex": "1.19261",
            "text/markdown": "1.19261",
            "text/html": [
              "1.19261"
            ]
          },
          "metadata": {
            "tags": []
          }
        }
      ]
    },
    {
      "cell_type": "code",
      "metadata": {
        "colab": {
          "base_uri": "https://localhost:8080/",
          "height": 34
        },
        "id": "tBBaRrm8BZWv",
        "outputId": "4bc9337a-f18a-470f-b88a-555a96886fb8"
      },
      "source": [
        "# Quasi-likelihood loss function - forecast b\n",
        "h.hat.b <- sigma.msgarch[,'sigma.msgarch.pred.b']\n",
        "msgarch.qlike.b <- mean(log(sqrt(h)) + h.hat.b/sqrt(h))\n",
        "round(msgarch.qlike.b, digits = 5)"
      ],
      "id": "tBBaRrm8BZWv",
      "execution_count": 228,
      "outputs": [
        {
          "output_type": "display_data",
          "data": {
            "text/plain": [
              "[1] 1.46227"
            ],
            "text/latex": "1.46227",
            "text/markdown": "1.46227",
            "text/html": [
              "1.46227"
            ]
          },
          "metadata": {
            "tags": []
          }
        }
      ]
    },
    {
      "cell_type": "code",
      "metadata": {
        "colab": {
          "base_uri": "https://localhost:8080/",
          "height": 119
        },
        "id": "Nd1_TRdDOusT",
        "outputId": "7c497a07-2400-46c9-b1b8-8124b1893ee0"
      },
      "source": [
        "# Diebold-Mariano Test (accuracy test) - test 1\n",
        "f.a <- sigma.msgarch[,'sigma.msgarch.pred.a']\n",
        "f.b <- sigma.msgarch[,'sigma.msgarch.pred.b']\n",
        "y <- sigma.msgarch[,'sigma.msgarch.true']\n",
        "\n",
        "DM.test(f.a, f.b, y, loss.type = \"SE\", c = FALSE, H1 = \"same\")"
      ],
      "id": "Nd1_TRdDOusT",
      "execution_count": 229,
      "outputs": [
        {
          "output_type": "display_data",
          "data": {
            "text/plain": [
              "\n",
              "\tDiebold-Mariano test\n",
              "\n",
              "data:  f.a and f.b and y\n",
              "statistic = -8.8294, forecast horizon = 1, p-value < 2.2e-16\n",
              "alternative hypothesis: Forecast f1 and f2 have different accuracy.\n"
            ]
          },
          "metadata": {
            "tags": []
          }
        }
      ]
    },
    {
      "cell_type": "code",
      "metadata": {
        "colab": {
          "base_uri": "https://localhost:8080/",
          "height": 136
        },
        "id": "l0j5yLLOOw7a",
        "outputId": "a3afe628-d825-40ef-d3ab-e4663670ba46"
      },
      "source": [
        "# Diebold-Mariano test for predictive accuracy - test 2\n",
        "e.a <- msgarch.error.a\n",
        "e.b <- msgarch.error.b\n",
        "\n",
        "dm.test(e.a, e.b, alternative = \"two.sided\", h = 1, power = 2)"
      ],
      "id": "l0j5yLLOOw7a",
      "execution_count": 230,
      "outputs": [
        {
          "output_type": "display_data",
          "data": {
            "text/plain": [
              "\n",
              "\tDiebold-Mariano Test\n",
              "\n",
              "data:  e.ae.b\n",
              "DM = -8.8221, Forecast horizon = 1, Loss function power = 2, p-value <\n",
              "2.2e-16\n",
              "alternative hypothesis: two.sided\n"
            ]
          },
          "metadata": {
            "tags": []
          }
        }
      ]
    },
    {
      "cell_type": "code",
      "metadata": {
        "colab": {
          "base_uri": "https://localhost:8080/",
          "height": 34
        },
        "id": "ciLg4NnOOywe",
        "outputId": "65337e8b-3cab-4b9e-c192-7c2c432f606a"
      },
      "source": [
        "# Quasi-likelihood Loss Function For Volatility Forecasts - forecast a\n",
        "msgarch.qlike.a <- mean(LossVol(sigma.msgarch[,'sigma.msgarch.true'],\n",
        "                                sigma.msgarch[,'sigma.msgarch.pred.a'],\n",
        "                                which = \"QLIKE\"))\n",
        "round(msgarch.qlike.a, digits = 3)"
      ],
      "id": "ciLg4NnOOywe",
      "execution_count": 231,
      "outputs": [
        {
          "output_type": "display_data",
          "data": {
            "text/plain": [
              "[1] 1.403"
            ],
            "text/latex": "1.403",
            "text/markdown": "1.403",
            "text/html": [
              "1.403"
            ]
          },
          "metadata": {
            "tags": []
          }
        }
      ]
    },
    {
      "cell_type": "code",
      "metadata": {
        "colab": {
          "base_uri": "https://localhost:8080/",
          "height": 34
        },
        "id": "056kZTWaO0lh",
        "outputId": "2bd09839-4112-462c-f69a-5506cc2669a0"
      },
      "source": [
        "# Quasi-likelihood Loss Function For Volatility Forecasts - forecast 1b\n",
        "msgarch.qlike.b <- mean(LossVol(sigma.msgarch[,'sigma.msgarch.true'],\n",
        "                                sigma.msgarch[,'sigma.msgarch.pred.b'],\n",
        "                                which = \"QLIKE\"))\n",
        "round(msgarch.qlike.b, digits = 3)"
      ],
      "id": "056kZTWaO0lh",
      "execution_count": 232,
      "outputs": [
        {
          "output_type": "display_data",
          "data": {
            "text/plain": [
              "[1] 1.463"
            ],
            "text/latex": "1.463",
            "text/markdown": "1.463",
            "text/html": [
              "1.463"
            ]
          },
          "metadata": {
            "tags": []
          }
        }
      ]
    },
    {
      "cell_type": "code",
      "metadata": {
        "colab": {
          "base_uri": "https://localhost:8080/",
          "height": 34
        },
        "id": "oB52pVTlBaui",
        "outputId": "07fa4f79-3708-4260-cca4-03ffe6718d3d"
      },
      "source": [
        "# Log loss / Cross-Entropy Loss -  forecast a\n",
        "msgarch.logloss.a <- LogLoss(sigma.msgarch[,'sigma.msgarch.pred.a'],\n",
        "                             sigma.msgarch[,'sigma.msgarch.true'])\n",
        "round(msgarch.logloss.a, digits = 3)"
      ],
      "id": "oB52pVTlBaui",
      "execution_count": 233,
      "outputs": [
        {
          "output_type": "display_data",
          "data": {
            "text/plain": [
              "[1] -3.698"
            ],
            "text/latex": "-3.698",
            "text/markdown": "-3.698",
            "text/html": [
              "-3.698"
            ]
          },
          "metadata": {
            "tags": []
          }
        }
      ]
    },
    {
      "cell_type": "code",
      "metadata": {
        "colab": {
          "base_uri": "https://localhost:8080/",
          "height": 34
        },
        "id": "tKV7Ey6HBcAX",
        "outputId": "344f8ea5-e4f2-424e-bf80-5a74a72ed123"
      },
      "source": [
        "# Log loss / Cross-Entropy Loss -  forecast b\n",
        "msgarch.logloss.b <- LogLoss(sigma.msgarch[,'sigma.msgarch.pred.b'],\n",
        "                             sigma.msgarch[,'sigma.msgarch.true'])\n",
        "round(msgarch.logloss.b, digits = 3)"
      ],
      "id": "tKV7Ey6HBcAX",
      "execution_count": 234,
      "outputs": [
        {
          "output_type": "display_data",
          "data": {
            "text/plain": [
              "[1] -3.681"
            ],
            "text/latex": "-3.681",
            "text/markdown": "-3.681",
            "text/html": [
              "-3.681"
            ]
          },
          "metadata": {
            "tags": []
          }
        }
      ]
    },
    {
      "cell_type": "code",
      "metadata": {
        "colab": {
          "base_uri": "https://localhost:8080/",
          "height": 170
        },
        "id": "sOe2Un_QBdZx",
        "outputId": "b440f77a-78d8-4d45-e474-cf238107c91d"
      },
      "source": [
        "# Linear regression to assess forecast performance - forecast a\n",
        "msgarch.model.a <- lm(sigma.msgarch.true ~ sigma.msgarch.pred.a,\n",
        "                      data = sigma.msgarch)\n",
        "round(coeftest(msgarch.model.a, NeweyWest(msgarch.model.a,\n",
        "                                          lag = bwNeweyWest(msgarch.model.a),\n",
        "                                          prewhite = F)), 3)\n",
        "round(summary(msgarch.model.a)$adj.r.squared, 3)"
      ],
      "id": "sOe2Un_QBdZx",
      "execution_count": 235,
      "outputs": [
        {
          "output_type": "display_data",
          "data": {
            "text/plain": [
              "\n",
              "t test of coefficients:\n",
              "\n",
              "                     Estimate Std. Error t value Pr(>|t|)  \n",
              "(Intercept)            -0.708      0.835  -0.848    0.397  \n",
              "sigma.msgarch.pred.a    1.534      0.753   2.037    0.042 *\n",
              "---\n",
              "Signif. codes:  0 ‘***’ 0.001 ‘**’ 0.01 ‘*’ 0.05 ‘.’ 0.1 ‘ ’ 1\n"
            ]
          },
          "metadata": {
            "tags": []
          }
        },
        {
          "output_type": "display_data",
          "data": {
            "text/plain": [
              "[1] 0.016"
            ],
            "text/latex": "0.016",
            "text/markdown": "0.016",
            "text/html": [
              "0.016"
            ]
          },
          "metadata": {
            "tags": []
          }
        }
      ]
    },
    {
      "cell_type": "code",
      "metadata": {
        "colab": {
          "base_uri": "https://localhost:8080/",
          "height": 170
        },
        "id": "e7KtdthFBfGJ",
        "outputId": "295eafbb-05e0-47e6-a4d0-518406126b64"
      },
      "source": [
        "# Linear regression to assess forecast performance - forecast b\n",
        "msgarch.model.b <- lm(sigma.msgarch.true ~ sigma.msgarch.pred.b,\n",
        "                      data = sigma.msgarch)\n",
        "round(coeftest(msgarch.model.b, NeweyWest(msgarch.model.b,\n",
        "                                          lag = bwNeweyWest(msgarch.model.b),\n",
        "                                          prewhite = F)), 3)\n",
        "round(summary(msgarch.model.b)$adj.r.squared, 3)"
      ],
      "id": "e7KtdthFBfGJ",
      "execution_count": 236,
      "outputs": [
        {
          "output_type": "display_data",
          "data": {
            "text/plain": [
              "\n",
              "t test of coefficients:\n",
              "\n",
              "                     Estimate Std. Error t value Pr(>|t|)    \n",
              "(Intercept)             0.945      0.284   3.323    0.001 ***\n",
              "sigma.msgarch.pred.b    0.111      0.221   0.502    0.616    \n",
              "---\n",
              "Signif. codes:  0 ‘***’ 0.001 ‘**’ 0.01 ‘*’ 0.05 ‘.’ 0.1 ‘ ’ 1\n"
            ]
          },
          "metadata": {
            "tags": []
          }
        },
        {
          "output_type": "display_data",
          "data": {
            "text/plain": [
              "[1] 0"
            ],
            "text/latex": "0",
            "text/markdown": "0",
            "text/html": [
              "0"
            ]
          },
          "metadata": {
            "tags": []
          }
        }
      ]
    },
    {
      "cell_type": "markdown",
      "metadata": {
        "id": "-78BTEGuzVds"
      },
      "source": [
        "##(b) MS EGARCH"
      ],
      "id": "-78BTEGuzVds"
    },
    {
      "cell_type": "markdown",
      "metadata": {
        "id": "u9TnzFICT7eZ"
      },
      "source": [
        "**Forecast**"
      ],
      "id": "u9TnzFICT7eZ"
    },
    {
      "cell_type": "code",
      "metadata": {
        "id": "dwUbBOwIUn4E"
      },
      "source": [
        "# Model Estimation - Maximum Likelihood Estimation\n",
        "msegarch.fit.pred.a <- FitML(msegarch.spec,\n",
        "                             data = IMOEX.ME.df$IMOEX.ME.Return)"
      ],
      "id": "dwUbBOwIUn4E",
      "execution_count": 237,
      "outputs": []
    },
    {
      "cell_type": "code",
      "metadata": {
        "id": "I7ro5gakUpWQ"
      },
      "source": [
        "# Model Estimation - MCMC/Bayesian estimation\n",
        "msegarch.fit.pred.b <- FitMCMC(msegarch.spec,\n",
        "                               data = IMOEX.ME.df$IMOEX.ME.Return)"
      ],
      "id": "I7ro5gakUpWQ",
      "execution_count": 238,
      "outputs": []
    },
    {
      "cell_type": "code",
      "metadata": {
        "id": "p6lPXY-eUqmn"
      },
      "source": [
        "# Forecast - Maximum Likelihood Estimation\n",
        "msegarch.pred.a <- predict(object = msegarch.fit.pred.a,\n",
        "                           nahead = dim(IMOEX.ME.df.out)[1],\n",
        "                           do.return.draw = TRUE)\n",
        "\n",
        "msegarch.forecast.a <- ts(msegarch.pred.a$vol)"
      ],
      "id": "p6lPXY-eUqmn",
      "execution_count": 239,
      "outputs": []
    },
    {
      "cell_type": "code",
      "metadata": {
        "id": "HV3tfTO5Ur-S"
      },
      "source": [
        "# Forecast - MCMC/Bayesian estimation\n",
        "msegarch.pred.b <- predict(object = msegarch.fit.pred.b,\n",
        "                          nahead = dim(IMOEX.ME.df.out)[1],\n",
        "                          do.return.draw = TRUE)\n",
        "\n",
        "msegarch.forecast.b <- ts(msegarch.pred.b$vol)"
      ],
      "id": "HV3tfTO5Ur-S",
      "execution_count": 240,
      "outputs": []
    },
    {
      "cell_type": "code",
      "metadata": {
        "colab": {
          "base_uri": "https://localhost:8080/",
          "height": 252
        },
        "id": "iCb5Lo59Uto6",
        "outputId": "fadfe6ba-fc82-412b-c6c9-2136a29c33b1"
      },
      "source": [
        "# Comparative\n",
        "sigma.msegarch.pred.a <- msegarch.forecast.a\n",
        "sigma.msegarch.pred.b <- msegarch.forecast.b\n",
        "sigma.msegarch.true <- ts(IMOEX.ME.df.out[,'IMOEX.ME.VolMSEGARCH'])\n",
        "\n",
        "sigma.msegarch <- na.omit(cbind(sigma.msegarch.pred.a,\n",
        "                                sigma.msegarch.pred.b,\n",
        "                                sigma.msegarch.true))\n",
        "head(sigma.msegarch)"
      ],
      "id": "iCb5Lo59Uto6",
      "execution_count": 241,
      "outputs": [
        {
          "output_type": "display_data",
          "data": {
            "text/plain": [
              "  sigma.msegarch.pred.a sigma.msegarch.pred.b sigma.msegarch.true\n",
              "1 0.8018487             0.7829498             1.0422327          \n",
              "2 0.8222684             0.8136984             1.0255671          \n",
              "3 0.8503171             0.8833999             1.0163534          \n",
              "4 0.8740959             0.8231704             0.9914194          \n",
              "5 0.8916677             0.9103766             0.9764060          \n",
              "6 0.9134817             0.8963848             0.9622385          "
            ],
            "text/latex": "A Time Series: 6 × 3\n\\begin{tabular}{r|lll}\n  & sigma.msegarch.pred.a & sigma.msegarch.pred.b & sigma.msegarch.true\\\\\n\\hline\n\t1 & 0.8018487 & 0.7829498 & 1.0422327\\\\\n\t2 & 0.8222684 & 0.8136984 & 1.0255671\\\\\n\t3 & 0.8503171 & 0.8833999 & 1.0163534\\\\\n\t4 & 0.8740959 & 0.8231704 & 0.9914194\\\\\n\t5 & 0.8916677 & 0.9103766 & 0.9764060\\\\\n\t6 & 0.9134817 & 0.8963848 & 0.9622385\\\\\n\\end{tabular}\n",
            "text/markdown": "\nA Time Series: 6 × 3\n\n| <!--/--> | sigma.msegarch.pred.a | sigma.msegarch.pred.b | sigma.msegarch.true |\n|---|---|---|---|\n| 1 | 0.8018487 | 0.7829498 | 1.0422327 |\n| 2 | 0.8222684 | 0.8136984 | 1.0255671 |\n| 3 | 0.8503171 | 0.8833999 | 1.0163534 |\n| 4 | 0.8740959 | 0.8231704 | 0.9914194 |\n| 5 | 0.8916677 | 0.9103766 | 0.9764060 |\n| 6 | 0.9134817 | 0.8963848 | 0.9622385 |\n\n",
            "text/html": [
              "<table class=\"dataframe\">\n",
              "<caption>A Time Series: 6 × 3</caption>\n",
              "<thead>\n",
              "\t<tr><th></th><th scope=col>sigma.msegarch.pred.a</th><th scope=col>sigma.msegarch.pred.b</th><th scope=col>sigma.msegarch.true</th></tr>\n",
              "</thead>\n",
              "<tbody>\n",
              "\t<tr><th scope=row>1</th><td>0.8018487</td><td>0.7829498</td><td>1.0422327</td></tr>\n",
              "\t<tr><th scope=row>2</th><td>0.8222684</td><td>0.8136984</td><td>1.0255671</td></tr>\n",
              "\t<tr><th scope=row>3</th><td>0.8503171</td><td>0.8833999</td><td>1.0163534</td></tr>\n",
              "\t<tr><th scope=row>4</th><td>0.8740959</td><td>0.8231704</td><td>0.9914194</td></tr>\n",
              "\t<tr><th scope=row>5</th><td>0.8916677</td><td>0.9103766</td><td>0.9764060</td></tr>\n",
              "\t<tr><th scope=row>6</th><td>0.9134817</td><td>0.8963848</td><td>0.9622385</td></tr>\n",
              "</tbody>\n",
              "</table>\n"
            ]
          },
          "metadata": {
            "tags": []
          }
        }
      ]
    },
    {
      "cell_type": "markdown",
      "metadata": {
        "id": "GzhnWJGgUvIS"
      },
      "source": [
        "**Performance evaluation**"
      ],
      "id": "GzhnWJGgUvIS"
    },
    {
      "cell_type": "code",
      "metadata": {
        "colab": {
          "base_uri": "https://localhost:8080/",
          "height": 68
        },
        "id": "POjtagN9Vgf1",
        "outputId": "5f85aaf5-5a38-4b5a-aea5-78e02f19bfc5"
      },
      "source": [
        "# Forecast Error - Forecast a\n",
        "msegarch.error.a <- sigma.msegarch[,'sigma.msegarch.pred.a'] - sigma.msegarch[,'sigma.msegarch.true']\n",
        "head(msegarch.error.a)"
      ],
      "id": "POjtagN9Vgf1",
      "execution_count": 242,
      "outputs": [
        {
          "output_type": "display_data",
          "data": {
            "text/plain": [
              "A Time Series:\n",
              "[1] -0.24038402 -0.20329863 -0.16603637 -0.11732355 -0.08473835 -0.04875681"
            ],
            "text/latex": "A Time Series:\\\\\\begin{enumerate*}\n\\item -0.240384023729803\n\\item -0.203298627024748\n\\item -0.166036373983196\n\\item -0.11732354698031\n\\item -0.0847383526434005\n\\item -0.048756806683435\n\\end{enumerate*}\n",
            "text/markdown": "A Time Series:  \n1. -0.240384023729803\n2. -0.203298627024748\n3. -0.166036373983196\n4. -0.11732354698031\n5. -0.0847383526434005\n6. -0.048756806683435\n\n\n",
            "text/html": [
              "A Time Series:<br><style>\n",
              ".list-inline {list-style: none; margin:0; padding: 0}\n",
              ".list-inline>li {display: inline-block}\n",
              ".list-inline>li:not(:last-child)::after {content: \"\\00b7\"; padding: 0 .5ex}\n",
              "</style>\n",
              "<ol class=list-inline><li>-0.240384023729803</li><li>-0.203298627024748</li><li>-0.166036373983196</li><li>-0.11732354698031</li><li>-0.0847383526434005</li><li>-0.048756806683435</li></ol>\n"
            ]
          },
          "metadata": {
            "tags": []
          }
        }
      ]
    },
    {
      "cell_type": "code",
      "metadata": {
        "colab": {
          "base_uri": "https://localhost:8080/",
          "height": 68
        },
        "id": "qXxb9AZoViK5",
        "outputId": "43486b01-b4cc-4399-fd97-4381fa15cf92"
      },
      "source": [
        "# Forecast Error - Forecast b\n",
        "msegarch.error.b <- sigma.msegarch[,'sigma.msegarch.pred.b'] - sigma.msegarch[,'sigma.msegarch.true']\n",
        "head(msegarch.error.b)"
      ],
      "id": "qXxb9AZoViK5",
      "execution_count": 243,
      "outputs": [
        {
          "output_type": "display_data",
          "data": {
            "text/plain": [
              "A Time Series:\n",
              "[1] -0.25928293 -0.21186863 -0.13295359 -0.16824897 -0.06602941 -0.06585372"
            ],
            "text/latex": "A Time Series:\\\\\\begin{enumerate*}\n\\item -0.259282928221411\n\\item -0.211868633361298\n\\item -0.132953591169453\n\\item -0.168248972082521\n\\item -0.0660294072987994\n\\item -0.0658537200517046\n\\end{enumerate*}\n",
            "text/markdown": "A Time Series:  \n1. -0.259282928221411\n2. -0.211868633361298\n3. -0.132953591169453\n4. -0.168248972082521\n5. -0.0660294072987994\n6. -0.0658537200517046\n\n\n",
            "text/html": [
              "A Time Series:<br><style>\n",
              ".list-inline {list-style: none; margin:0; padding: 0}\n",
              ".list-inline>li {display: inline-block}\n",
              ".list-inline>li:not(:last-child)::after {content: \"\\00b7\"; padding: 0 .5ex}\n",
              "</style>\n",
              "<ol class=list-inline><li>-0.259282928221411</li><li>-0.211868633361298</li><li>-0.132953591169453</li><li>-0.168248972082521</li><li>-0.0660294072987994</li><li>-0.0658537200517046</li></ol>\n"
            ]
          },
          "metadata": {
            "tags": []
          }
        }
      ]
    },
    {
      "cell_type": "code",
      "metadata": {
        "colab": {
          "base_uri": "https://localhost:8080/",
          "height": 34
        },
        "id": "7Ym-Je0xVjsX",
        "outputId": "951bd1fb-626d-4233-ff49-0bed90e29d66"
      },
      "source": [
        "# Mean Square Error Loss - Forecast a\n",
        "msegarch.mse.a <- MSE(sigma.msegarch[,'sigma.msegarch.pred.a'],\n",
        "                      sigma.msegarch[,'sigma.msegarch.true'])\n",
        "round(msegarch.mse.a, digits = 3)"
      ],
      "id": "7Ym-Je0xVjsX",
      "execution_count": 244,
      "outputs": [
        {
          "output_type": "display_data",
          "data": {
            "text/plain": [
              "[1] 0.087"
            ],
            "text/latex": "0.087",
            "text/markdown": "0.087",
            "text/html": [
              "0.087"
            ]
          },
          "metadata": {
            "tags": []
          }
        }
      ]
    },
    {
      "cell_type": "code",
      "metadata": {
        "colab": {
          "base_uri": "https://localhost:8080/",
          "height": 34
        },
        "id": "kDMt40y6VlED",
        "outputId": "63398e82-e99e-484a-f593-cadf59f6d409"
      },
      "source": [
        "# Mean Square Error Loss - Forecast b\n",
        "msegarch.mse.b <- MSE(sigma.msegarch[,'sigma.msegarch.pred.b'],\n",
        "                      sigma.msegarch[,'sigma.msegarch.true'])\n",
        "round(msegarch.mse.b, digits = 3)"
      ],
      "id": "kDMt40y6VlED",
      "execution_count": 245,
      "outputs": [
        {
          "output_type": "display_data",
          "data": {
            "text/plain": [
              "[1] 0.188"
            ],
            "text/latex": "0.188",
            "text/markdown": "0.188",
            "text/html": [
              "0.188"
            ]
          },
          "metadata": {
            "tags": []
          }
        }
      ]
    },
    {
      "cell_type": "code",
      "metadata": {
        "colab": {
          "base_uri": "https://localhost:8080/",
          "height": 34
        },
        "id": "KuTJjVuQVmfI",
        "outputId": "a65742fe-72ad-4638-f5f8-fcea03b77cd6"
      },
      "source": [
        "# Mean Absolute Error Loss - Forecast a\n",
        "msegarch.mae.a <- MAE(sigma.msegarch[,'sigma.msegarch.pred.a'],\n",
        "                      sigma.msegarch[,'sigma.msegarch.true'])\n",
        "round(msegarch.mae.a, digits = 3)"
      ],
      "id": "KuTJjVuQVmfI",
      "execution_count": 246,
      "outputs": [
        {
          "output_type": "display_data",
          "data": {
            "text/plain": [
              "[1] 0.269"
            ],
            "text/latex": "0.269",
            "text/markdown": "0.269",
            "text/html": [
              "0.269"
            ]
          },
          "metadata": {
            "tags": []
          }
        }
      ]
    },
    {
      "cell_type": "code",
      "metadata": {
        "colab": {
          "base_uri": "https://localhost:8080/",
          "height": 34
        },
        "id": "mhBHKzaRVoAs",
        "outputId": "4203b618-e45f-4d94-9c63-4d7512d96ed3"
      },
      "source": [
        "# Mean Absolute Error Loss - Forecast b\n",
        "msegarch.mae.b <- MAE(sigma.msegarch[,'sigma.msegarch.pred.b'],\n",
        "                      sigma.msegarch[,'sigma.msegarch.true'])\n",
        "round(msegarch.mae.b, digits = 3)"
      ],
      "id": "mhBHKzaRVoAs",
      "execution_count": 247,
      "outputs": [
        {
          "output_type": "display_data",
          "data": {
            "text/plain": [
              "[1] 0.393"
            ],
            "text/latex": "0.393",
            "text/markdown": "0.393",
            "text/html": [
              "0.393"
            ]
          },
          "metadata": {
            "tags": []
          }
        }
      ]
    },
    {
      "cell_type": "code",
      "metadata": {
        "colab": {
          "base_uri": "https://localhost:8080/",
          "height": 34
        },
        "id": "iwaAxe-iVpPE",
        "outputId": "4ce16e3a-5e22-4b89-e1f2-d1379ce332e8"
      },
      "source": [
        "# Root Mean Square Error Loss - Forecast a\n",
        "msegarch.rmse.a <- RMSE(sigma.msegarch[,'sigma.msegarch.pred.a'],\n",
        "                        sigma.msegarch[,'sigma.msegarch.true'])\n",
        "round(msegarch.rmse.a, digits = 3)"
      ],
      "id": "iwaAxe-iVpPE",
      "execution_count": 248,
      "outputs": [
        {
          "output_type": "display_data",
          "data": {
            "text/plain": [
              "[1] 0.296"
            ],
            "text/latex": "0.296",
            "text/markdown": "0.296",
            "text/html": [
              "0.296"
            ]
          },
          "metadata": {
            "tags": []
          }
        }
      ]
    },
    {
      "cell_type": "code",
      "metadata": {
        "colab": {
          "base_uri": "https://localhost:8080/",
          "height": 34
        },
        "id": "yHKTx3GjVrU4",
        "outputId": "4bec5a4f-5561-4618-9414-bc0bc9c47db3"
      },
      "source": [
        "# Root Mean Square Error Loss - Forecast b\n",
        "msegarch.rmse.b <- RMSE(sigma.msegarch[,'sigma.msegarch.pred.b'],\n",
        "                        sigma.msegarch[,'sigma.msegarch.true'])\n",
        "round(msegarch.rmse.b, digits = 3)"
      ],
      "id": "yHKTx3GjVrU4",
      "execution_count": 249,
      "outputs": [
        {
          "output_type": "display_data",
          "data": {
            "text/plain": [
              "[1] 0.433"
            ],
            "text/latex": "0.433",
            "text/markdown": "0.433",
            "text/html": [
              "0.433"
            ]
          },
          "metadata": {
            "tags": []
          }
        }
      ]
    },
    {
      "cell_type": "code",
      "metadata": {
        "colab": {
          "base_uri": "https://localhost:8080/",
          "height": 34
        },
        "id": "q0z0yjuZVtNf",
        "outputId": "86fbd27e-f79e-48b3-8f88-83cf93c3660f"
      },
      "source": [
        "# Quasi-likelihood loss function - forecast a\n",
        "h <- sigma.msegarch[,'sigma.msegarch.true']\n",
        "\n",
        "h.hat.a <- sigma.msegarch[,'sigma.msegarch.pred.a']     \n",
        "msegarch.qlike.a <- mean(log(sqrt(h)) + h.hat.a/sqrt(h))\n",
        "round(msegarch.qlike.a, digits = 5)"
      ],
      "id": "q0z0yjuZVtNf",
      "execution_count": 250,
      "outputs": [
        {
          "output_type": "display_data",
          "data": {
            "text/plain": [
              "[1] 1.11071"
            ],
            "text/latex": "1.11071",
            "text/markdown": "1.11071",
            "text/html": [
              "1.11071"
            ]
          },
          "metadata": {
            "tags": []
          }
        }
      ]
    },
    {
      "cell_type": "code",
      "metadata": {
        "colab": {
          "base_uri": "https://localhost:8080/",
          "height": 34
        },
        "id": "Jr_3YbHMVuw6",
        "outputId": "41d951d9-bacb-41df-f48a-ac956a9bd535"
      },
      "source": [
        "# Quasi-likelihood loss function - forecast b\n",
        "h.hat.b <- sigma.msegarch[,'sigma.msegarch.pred.b']\n",
        "msegarch.qlike.b <- mean(log(sqrt(h)) + h.hat.b/sqrt(h))\n",
        "round(msegarch.qlike.b, digits = 5)"
      ],
      "id": "Jr_3YbHMVuw6",
      "execution_count": 251,
      "outputs": [
        {
          "output_type": "display_data",
          "data": {
            "text/plain": [
              "[1] 1.24823"
            ],
            "text/latex": "1.24823",
            "text/markdown": "1.24823",
            "text/html": [
              "1.24823"
            ]
          },
          "metadata": {
            "tags": []
          }
        }
      ]
    },
    {
      "cell_type": "code",
      "metadata": {
        "colab": {
          "base_uri": "https://localhost:8080/",
          "height": 119
        },
        "id": "ulWlwNktVwfY",
        "outputId": "0a947c81-3b97-4a6a-f02c-c60858398a31"
      },
      "source": [
        "# Diebold-Mariano Test (accuracy test) - test 1\n",
        "f.a <- sigma.msegarch[,'sigma.msegarch.pred.a']\n",
        "f.b <- sigma.msegarch[,'sigma.msegarch.pred.b']\n",
        "y <- sigma.msegarch[,'sigma.msegarch.true']\n",
        "\n",
        "DM.test(f.a, f.b, y, loss.type = \"SE\", c = FALSE, H1 = \"same\")"
      ],
      "id": "ulWlwNktVwfY",
      "execution_count": 252,
      "outputs": [
        {
          "output_type": "display_data",
          "data": {
            "text/plain": [
              "\n",
              "\tDiebold-Mariano test\n",
              "\n",
              "data:  f.a and f.b and y\n",
              "statistic = -9.1877, forecast horizon = 1, p-value < 2.2e-16\n",
              "alternative hypothesis: Forecast f1 and f2 have different accuracy.\n"
            ]
          },
          "metadata": {
            "tags": []
          }
        }
      ]
    },
    {
      "cell_type": "code",
      "metadata": {
        "colab": {
          "base_uri": "https://localhost:8080/",
          "height": 136
        },
        "id": "MmdmO3tAVxyS",
        "outputId": "3af1c2c9-b8ba-4531-83fd-d64b8b083994"
      },
      "source": [
        "# Diebold-Mariano test for predictive accuracy - test 2\n",
        "e.a <- msegarch.error.a\n",
        "e.b <- msegarch.error.b\n",
        "\n",
        "dm.test(e.a, e.b, alternative = \"two.sided\", h = 1, power = 2)"
      ],
      "id": "MmdmO3tAVxyS",
      "execution_count": 253,
      "outputs": [
        {
          "output_type": "display_data",
          "data": {
            "text/plain": [
              "\n",
              "\tDiebold-Mariano Test\n",
              "\n",
              "data:  e.ae.b\n",
              "DM = -9.1515, Forecast horizon = 1, Loss function power = 2, p-value =\n",
              "1.263e-15\n",
              "alternative hypothesis: two.sided\n"
            ]
          },
          "metadata": {
            "tags": []
          }
        }
      ]
    },
    {
      "cell_type": "code",
      "metadata": {
        "colab": {
          "base_uri": "https://localhost:8080/",
          "height": 34
        },
        "id": "5d-xsUBTV1FG",
        "outputId": "dd185c37-5a9d-4db3-9f9b-f0f05f8baf99"
      },
      "source": [
        "# Quasi-likelihood Loss Function For Volatility Forecasts - forecast a\n",
        "msegarch.qlike.a <- mean(LossVol(sigma.msegarch[,'sigma.msegarch.true'],\n",
        "                                 sigma.msegarch[,'sigma.msegarch.pred.a'],\n",
        "                                 which = \"QLIKE\"))\n",
        "round(msegarch.qlike.a, digits = 3)"
      ],
      "id": "5d-xsUBTV1FG",
      "execution_count": 254,
      "outputs": [
        {
          "output_type": "display_data",
          "data": {
            "text/plain": [
              "[1] 0.799"
            ],
            "text/latex": "0.799",
            "text/markdown": "0.799",
            "text/html": [
              "0.799"
            ]
          },
          "metadata": {
            "tags": []
          }
        }
      ]
    },
    {
      "cell_type": "code",
      "metadata": {
        "colab": {
          "base_uri": "https://localhost:8080/",
          "height": 34
        },
        "id": "h5IP8nAUV5un",
        "outputId": "8d689afb-d654-45a8-8c2d-8ad04568e937"
      },
      "source": [
        "# Quasi-likelihood Loss Function For Volatility Forecasts - forecast 1b\n",
        "msegarch.qlike.b <- mean(LossVol(sigma.msegarch[,'sigma.msegarch.true'],\n",
        "                                 sigma.msegarch[,'sigma.msegarch.pred.b'],\n",
        "                                 which = \"QLIKE\"))\n",
        "round(msegarch.qlike.b, digits = 3)"
      ],
      "id": "h5IP8nAUV5un",
      "execution_count": 255,
      "outputs": [
        {
          "output_type": "display_data",
          "data": {
            "text/plain": [
              "[1] 0.907"
            ],
            "text/latex": "0.907",
            "text/markdown": "0.907",
            "text/html": [
              "0.907"
            ]
          },
          "metadata": {
            "tags": []
          }
        }
      ]
    },
    {
      "cell_type": "code",
      "metadata": {
        "colab": {
          "base_uri": "https://localhost:8080/",
          "height": 34
        },
        "id": "3WbEUHjtV7yw",
        "outputId": "dc9138ca-cf88-4d49-b85f-83ceb54356db"
      },
      "source": [
        "# Log loss / Cross-Entropy Loss -  forecast a\n",
        "msegarch.logloss.a <- LogLoss(sigma.msegarch[,'sigma.msegarch.pred.a'],\n",
        "                              sigma.msegarch[,'sigma.msegarch.true'])\n",
        "round(msegarch.logloss.a, digits = 3)"
      ],
      "id": "3WbEUHjtV7yw",
      "execution_count": 256,
      "outputs": [
        {
          "output_type": "display_data",
          "data": {
            "text/plain": [
              "[1] 5.431"
            ],
            "text/latex": "5.431",
            "text/markdown": "5.431",
            "text/html": [
              "5.431"
            ]
          },
          "metadata": {
            "tags": []
          }
        }
      ]
    },
    {
      "cell_type": "code",
      "metadata": {
        "colab": {
          "base_uri": "https://localhost:8080/",
          "height": 34
        },
        "id": "nGKcE1e7V9na",
        "outputId": "0e892651-75db-4e6e-e9a2-3c6afa04d0eb"
      },
      "source": [
        "# Log loss / Cross-Entropy Loss -  forecast b\n",
        "msegarch.logloss.b <- LogLoss(sigma.msegarch[,'sigma.msegarch.pred.b'],\n",
        "                              sigma.msegarch[,'sigma.msegarch.true'])\n",
        "round(msegarch.logloss.b, digits = 3)"
      ],
      "id": "nGKcE1e7V9na",
      "execution_count": 257,
      "outputs": [
        {
          "output_type": "display_data",
          "data": {
            "text/plain": [
              "[1] 5.469"
            ],
            "text/latex": "5.469",
            "text/markdown": "5.469",
            "text/html": [
              "5.469"
            ]
          },
          "metadata": {
            "tags": []
          }
        }
      ]
    },
    {
      "cell_type": "code",
      "metadata": {
        "colab": {
          "base_uri": "https://localhost:8080/",
          "height": 170
        },
        "id": "fEdw4L4JWDnH",
        "outputId": "763d037b-a94e-481e-bcdf-4af52156dd33"
      },
      "source": [
        "# Linear regression to assess forecast performance - forecast a\n",
        "msegarch.model.a <- lm(sigma.msegarch.true ~ sigma.msegarch.pred.a,\n",
        "                       data = sigma.msegarch)\n",
        "round(coeftest(msegarch.model.a, NeweyWest(msegarch.model.a,\n",
        "                                           lag = bwNeweyWest(msegarch.model.a),\n",
        "                                           prewhite = F)), 3)\n",
        "round(summary(msegarch.model.a)$adj.r.squared, 3)"
      ],
      "id": "fEdw4L4JWDnH",
      "execution_count": 258,
      "outputs": [
        {
          "output_type": "display_data",
          "data": {
            "text/plain": [
              "\n",
              "t test of coefficients:\n",
              "\n",
              "                      Estimate Std. Error t value  Pr(>|t|)    \n",
              "(Intercept)              1.539      0.105  14.658 < 2.2e-16 ***\n",
              "sigma.msegarch.pred.a   -0.637      0.101  -6.286 < 2.2e-16 ***\n",
              "---\n",
              "Signif. codes:  0 ‘***’ 0.001 ‘**’ 0.01 ‘*’ 0.05 ‘.’ 0.1 ‘ ’ 1\n"
            ]
          },
          "metadata": {
            "tags": []
          }
        },
        {
          "output_type": "display_data",
          "data": {
            "text/plain": [
              "[1] 0.227"
            ],
            "text/latex": "0.227",
            "text/markdown": "0.227",
            "text/html": [
              "0.227"
            ]
          },
          "metadata": {
            "tags": []
          }
        }
      ]
    },
    {
      "cell_type": "code",
      "metadata": {
        "colab": {
          "base_uri": "https://localhost:8080/",
          "height": 170
        },
        "id": "U7IDUvRJWFVX",
        "outputId": "2c034319-483e-4ee0-dffa-d8a41a5f82ac"
      },
      "source": [
        "# Linear regression to assess forecast performance - forecast b\n",
        "msegarch.model.b <- lm(sigma.msegarch.true ~ sigma.msegarch.pred.b,\n",
        "                       data = sigma.msegarch)\n",
        "round(coeftest(msegarch.model.b, NeweyWest(msegarch.model.b,\n",
        "                                           lag = bwNeweyWest(msegarch.model.b),\n",
        "                                           prewhite = F)), 3)\n",
        "round(summary(msegarch.model.b)$adj.r.squared, 3)"
      ],
      "id": "U7IDUvRJWFVX",
      "execution_count": 259,
      "outputs": [
        {
          "output_type": "display_data",
          "data": {
            "text/plain": [
              "\n",
              "t test of coefficients:\n",
              "\n",
              "                      Estimate Std. Error t value  Pr(>|t|)    \n",
              "(Intercept)              1.216      0.084  14.434 < 2.2e-16 ***\n",
              "sigma.msegarch.pred.b   -0.307      0.070  -4.414 < 2.2e-16 ***\n",
              "---\n",
              "Signif. codes:  0 ‘***’ 0.001 ‘**’ 0.01 ‘*’ 0.05 ‘.’ 0.1 ‘ ’ 1\n"
            ]
          },
          "metadata": {
            "tags": []
          }
        },
        {
          "output_type": "display_data",
          "data": {
            "text/plain": [
              "[1] 0.197"
            ],
            "text/latex": "0.197",
            "text/markdown": "0.197",
            "text/html": [
              "0.197"
            ]
          },
          "metadata": {
            "tags": []
          }
        }
      ]
    },
    {
      "cell_type": "markdown",
      "metadata": {
        "id": "nB7uBx88zXd1"
      },
      "source": [
        "##(c) MS GJR-GARCH"
      ],
      "id": "nB7uBx88zXd1"
    },
    {
      "cell_type": "markdown",
      "metadata": {
        "id": "l3JW-GeRT-W3"
      },
      "source": [
        "**Forecast**"
      ],
      "id": "l3JW-GeRT-W3"
    },
    {
      "cell_type": "code",
      "metadata": {
        "id": "CQ6gLJ8xqn77"
      },
      "source": [
        "# Model Estimation - Maximum Likelihood Estimation\n",
        "msgjrgarch.fit.pred.a <- FitML(msgjrgarch.spec,\n",
        "                                data = IMOEX.ME.df$IMOEX.ME.Return)"
      ],
      "id": "CQ6gLJ8xqn77",
      "execution_count": 260,
      "outputs": []
    },
    {
      "cell_type": "code",
      "metadata": {
        "id": "uk7xwCe0qqa8"
      },
      "source": [
        "# Model Estimation - MCMC/Bayesian estimation\n",
        "msgjrgarch.fit.pred.b <- FitMCMC(msgjrgarch.spec,\n",
        "                                 data = IMOEX.ME.df$IMOEX.ME.Return)"
      ],
      "id": "uk7xwCe0qqa8",
      "execution_count": 261,
      "outputs": []
    },
    {
      "cell_type": "code",
      "metadata": {
        "id": "taC2gBX_qroa"
      },
      "source": [
        "# Forecast - Maximum Likelihood Estimation\n",
        "msgjrgarch.pred.a <- predict(object = msgjrgarch.fit.pred.a,\n",
        "                            nahead = dim(IMOEX.ME.df.out)[1],\n",
        "                            do.return.draw = TRUE)\n",
        "\n",
        "msgjrgarch.forecast.a <- ts(msgjrgarch.pred.a$vol)"
      ],
      "id": "taC2gBX_qroa",
      "execution_count": 262,
      "outputs": []
    },
    {
      "cell_type": "code",
      "metadata": {
        "id": "DvFhQsItqtQ4"
      },
      "source": [
        "# Forecast - MCMC/Bayesian estimation\n",
        "msgjrgarch.pred.b <- predict(object = msgjrgarch.fit.pred.b,\n",
        "                            nahead = dim(IMOEX.ME.df.out)[1],\n",
        "                            do.return.draw = TRUE)\n",
        "\n",
        "msgjrgarch.forecast.b <- ts(msgjrgarch.pred.b$vol)"
      ],
      "id": "DvFhQsItqtQ4",
      "execution_count": 263,
      "outputs": []
    },
    {
      "cell_type": "code",
      "metadata": {
        "colab": {
          "base_uri": "https://localhost:8080/",
          "height": 252
        },
        "id": "jT24kG0tquux",
        "outputId": "3f27a757-9baf-4df6-f20e-39276b3ed401"
      },
      "source": [
        "# Comparative\n",
        "sigma.msgjrgarch.pred.a <- msgjrgarch.forecast.a\n",
        "sigma.msgjrgarch.pred.b <- msgjrgarch.forecast.b\n",
        "sigma.msgjrgarch.true <- ts(IMOEX.ME.df.out[,'IMOEX.ME.VolMSGJRGARCH'])\n",
        "\n",
        "sigma.msgjrgarch <- na.omit(cbind(sigma.msgjrgarch.pred.a,\n",
        "                                  sigma.msgjrgarch.pred.b,\n",
        "                                  sigma.msgjrgarch.true))\n",
        "head(sigma.msgjrgarch)"
      ],
      "id": "jT24kG0tquux",
      "execution_count": 264,
      "outputs": [
        {
          "output_type": "display_data",
          "data": {
            "text/plain": [
              "  sigma.msgjrgarch.pred.a sigma.msgjrgarch.pred.b sigma.msgjrgarch.true\n",
              "1 0.8413424               0.8693238               0.9875378            \n",
              "2 0.8845858               0.9349119               0.9708253            \n",
              "3 0.8869699               0.8518817               0.9575019            \n",
              "4 0.9338515               1.0201875               0.9426545            \n",
              "5 0.9167048               0.9280928               0.9283716            \n",
              "6 0.9427897               0.9682448               0.9150172            "
            ],
            "text/latex": "A Time Series: 6 × 3\n\\begin{tabular}{r|lll}\n  & sigma.msgjrgarch.pred.a & sigma.msgjrgarch.pred.b & sigma.msgjrgarch.true\\\\\n\\hline\n\t1 & 0.8413424 & 0.8693238 & 0.9875378\\\\\n\t2 & 0.8845858 & 0.9349119 & 0.9708253\\\\\n\t3 & 0.8869699 & 0.8518817 & 0.9575019\\\\\n\t4 & 0.9338515 & 1.0201875 & 0.9426545\\\\\n\t5 & 0.9167048 & 0.9280928 & 0.9283716\\\\\n\t6 & 0.9427897 & 0.9682448 & 0.9150172\\\\\n\\end{tabular}\n",
            "text/markdown": "\nA Time Series: 6 × 3\n\n| <!--/--> | sigma.msgjrgarch.pred.a | sigma.msgjrgarch.pred.b | sigma.msgjrgarch.true |\n|---|---|---|---|\n| 1 | 0.8413424 | 0.8693238 | 0.9875378 |\n| 2 | 0.8845858 | 0.9349119 | 0.9708253 |\n| 3 | 0.8869699 | 0.8518817 | 0.9575019 |\n| 4 | 0.9338515 | 1.0201875 | 0.9426545 |\n| 5 | 0.9167048 | 0.9280928 | 0.9283716 |\n| 6 | 0.9427897 | 0.9682448 | 0.9150172 |\n\n",
            "text/html": [
              "<table class=\"dataframe\">\n",
              "<caption>A Time Series: 6 × 3</caption>\n",
              "<thead>\n",
              "\t<tr><th></th><th scope=col>sigma.msgjrgarch.pred.a</th><th scope=col>sigma.msgjrgarch.pred.b</th><th scope=col>sigma.msgjrgarch.true</th></tr>\n",
              "</thead>\n",
              "<tbody>\n",
              "\t<tr><th scope=row>1</th><td>0.8413424</td><td>0.8693238</td><td>0.9875378</td></tr>\n",
              "\t<tr><th scope=row>2</th><td>0.8845858</td><td>0.9349119</td><td>0.9708253</td></tr>\n",
              "\t<tr><th scope=row>3</th><td>0.8869699</td><td>0.8518817</td><td>0.9575019</td></tr>\n",
              "\t<tr><th scope=row>4</th><td>0.9338515</td><td>1.0201875</td><td>0.9426545</td></tr>\n",
              "\t<tr><th scope=row>5</th><td>0.9167048</td><td>0.9280928</td><td>0.9283716</td></tr>\n",
              "\t<tr><th scope=row>6</th><td>0.9427897</td><td>0.9682448</td><td>0.9150172</td></tr>\n",
              "</tbody>\n",
              "</table>\n"
            ]
          },
          "metadata": {
            "tags": []
          }
        }
      ]
    },
    {
      "cell_type": "markdown",
      "metadata": {
        "id": "JuI4MGEVqxUD"
      },
      "source": [
        "**Performance evaluation**"
      ],
      "id": "JuI4MGEVqxUD"
    },
    {
      "cell_type": "code",
      "metadata": {
        "colab": {
          "base_uri": "https://localhost:8080/",
          "height": 68
        },
        "id": "lXsnouifqzNK",
        "outputId": "4b4f2828-2d34-4200-8ee2-08e60d06be32"
      },
      "source": [
        "# Forecast Error - Forecast a\n",
        "msgjrgarch.error.a <- sigma.msgjrgarch[,'sigma.msgjrgarch.pred.a'] - sigma.msgjrgarch[,'sigma.msgjrgarch.true']\n",
        "head(msgjrgarch.error.a)"
      ],
      "id": "lXsnouifqzNK",
      "execution_count": 265,
      "outputs": [
        {
          "output_type": "display_data",
          "data": {
            "text/plain": [
              "A Time Series:\n",
              "[1] -0.146195459 -0.086239521 -0.070531941 -0.008802936 -0.011666824\n",
              "[6]  0.027772571"
            ],
            "text/latex": "A Time Series:\\\\\\begin{enumerate*}\n\\item -0.14619545852448\n\\item -0.0862395209958555\n\\item -0.0705319407704873\n\\item -0.00880293572355073\n\\item -0.0116668237657503\n\\item 0.0277725705053755\n\\end{enumerate*}\n",
            "text/markdown": "A Time Series:  \n1. -0.14619545852448\n2. -0.0862395209958555\n3. -0.0705319407704873\n4. -0.00880293572355073\n5. -0.0116668237657503\n6. 0.0277725705053755\n\n\n",
            "text/html": [
              "A Time Series:<br><style>\n",
              ".list-inline {list-style: none; margin:0; padding: 0}\n",
              ".list-inline>li {display: inline-block}\n",
              ".list-inline>li:not(:last-child)::after {content: \"\\00b7\"; padding: 0 .5ex}\n",
              "</style>\n",
              "<ol class=list-inline><li>-0.14619545852448</li><li>-0.0862395209958555</li><li>-0.0705319407704873</li><li>-0.00880293572355073</li><li>-0.0116668237657503</li><li>0.0277725705053755</li></ol>\n"
            ]
          },
          "metadata": {
            "tags": []
          }
        }
      ]
    },
    {
      "cell_type": "code",
      "metadata": {
        "colab": {
          "base_uri": "https://localhost:8080/",
          "height": 68
        },
        "id": "G-it0c-8q0qO",
        "outputId": "3167f44e-2826-45ea-aae0-17b25a2a0360"
      },
      "source": [
        "# Forecast Error - Forecast b\n",
        "msgjrgarch.error.b <- sigma.msgjrgarch[,'sigma.msgjrgarch.pred.b'] - sigma.msgjrgarch[,'sigma.msgjrgarch.true']\n",
        "head(msgjrgarch.error.b)"
      ],
      "id": "G-it0c-8q0qO",
      "execution_count": 266,
      "outputs": [
        {
          "output_type": "display_data",
          "data": {
            "text/plain": [
              "A Time Series:\n",
              "[1] -0.1182139871 -0.0359134459 -0.1056201114  0.0775330020 -0.0002788163\n",
              "[6]  0.0532275847"
            ],
            "text/latex": "A Time Series:\\\\\\begin{enumerate*}\n\\item -0.118213987075039\n\\item -0.0359134458687712\n\\item -0.105620111410408\n\\item 0.0775330019792549\n\\item -0.000278816281812033\n\\item 0.0532275846778459\n\\end{enumerate*}\n",
            "text/markdown": "A Time Series:  \n1. -0.118213987075039\n2. -0.0359134458687712\n3. -0.105620111410408\n4. 0.0775330019792549\n5. -0.000278816281812033\n6. 0.0532275846778459\n\n\n",
            "text/html": [
              "A Time Series:<br><style>\n",
              ".list-inline {list-style: none; margin:0; padding: 0}\n",
              ".list-inline>li {display: inline-block}\n",
              ".list-inline>li:not(:last-child)::after {content: \"\\00b7\"; padding: 0 .5ex}\n",
              "</style>\n",
              "<ol class=list-inline><li>-0.118213987075039</li><li>-0.0359134458687712</li><li>-0.105620111410408</li><li>0.0775330019792549</li><li>-0.000278816281812033</li><li>0.0532275846778459</li></ol>\n"
            ]
          },
          "metadata": {
            "tags": []
          }
        }
      ]
    },
    {
      "cell_type": "code",
      "metadata": {
        "colab": {
          "base_uri": "https://localhost:8080/",
          "height": 34
        },
        "id": "vpi9_7Ozq2YF",
        "outputId": "9dea11b3-5f4b-42b8-99fd-b458bc819ed1"
      },
      "source": [
        "# Mean Square Error Loss - Forecast a\n",
        "msgjrgarch.mse.a <- MSE(sigma.msgjrgarch[,'sigma.msgjrgarch.pred.a'],\n",
        "                        sigma.msgjrgarch[,'sigma.msgjrgarch.true'])\n",
        "round(msgjrgarch.mse.a, digits = 3)"
      ],
      "id": "vpi9_7Ozq2YF",
      "execution_count": 267,
      "outputs": [
        {
          "output_type": "display_data",
          "data": {
            "text/plain": [
              "[1] 0.304"
            ],
            "text/latex": "0.304",
            "text/markdown": "0.304",
            "text/html": [
              "0.304"
            ]
          },
          "metadata": {
            "tags": []
          }
        }
      ]
    },
    {
      "cell_type": "code",
      "metadata": {
        "colab": {
          "base_uri": "https://localhost:8080/",
          "height": 34
        },
        "id": "BmG7UUNUq3pM",
        "outputId": "d3c2248a-0d71-4212-de1c-6bfd20907fa3"
      },
      "source": [
        "# Mean Square Error Loss - Forecast b\n",
        "msgjrgarch.mse.b <- MSE(sigma.msgjrgarch[,'sigma.msgjrgarch.pred.b'],\n",
        "                        sigma.msgjrgarch[,'sigma.msgjrgarch.true'])\n",
        "round(msgjrgarch.mse.b, digits = 3)"
      ],
      "id": "BmG7UUNUq3pM",
      "execution_count": 268,
      "outputs": [
        {
          "output_type": "display_data",
          "data": {
            "text/plain": [
              "[1] 0.461"
            ],
            "text/latex": "0.461",
            "text/markdown": "0.461",
            "text/html": [
              "0.461"
            ]
          },
          "metadata": {
            "tags": []
          }
        }
      ]
    },
    {
      "cell_type": "code",
      "metadata": {
        "colab": {
          "base_uri": "https://localhost:8080/",
          "height": 34
        },
        "id": "hXTa5SMJq5Kc",
        "outputId": "230621bf-33e6-41ff-9ab1-ddc9a3f7ac2b"
      },
      "source": [
        "# Mean Absolute Error Loss - Forecast a\n",
        "msgjrgarch.mae.a <- MAE(sigma.msgjrgarch[,'sigma.msgjrgarch.pred.a'],\n",
        "                        sigma.msgjrgarch[,'sigma.msgjrgarch.true'])\n",
        "round(msgjrgarch.mae.a, digits = 3)"
      ],
      "id": "hXTa5SMJq5Kc",
      "execution_count": 269,
      "outputs": [
        {
          "output_type": "display_data",
          "data": {
            "text/plain": [
              "[1] 0.364"
            ],
            "text/latex": "0.364",
            "text/markdown": "0.364",
            "text/html": [
              "0.364"
            ]
          },
          "metadata": {
            "tags": []
          }
        }
      ]
    },
    {
      "cell_type": "code",
      "metadata": {
        "colab": {
          "base_uri": "https://localhost:8080/",
          "height": 34
        },
        "id": "y-cKrOXLq6oI",
        "outputId": "2d26c352-ad16-421c-fedc-f99c9ca995e2"
      },
      "source": [
        "# Mean Absolute Error Loss - Forecast b\n",
        "msgjrgarch.mae.b <- MAE(sigma.msgjrgarch[,'sigma.msgjrgarch.pred.b'],\n",
        "                        sigma.msgjrgarch[,'sigma.msgjrgarch.true'])\n",
        "round(msgjrgarch.mae.b, digits = 3)"
      ],
      "id": "y-cKrOXLq6oI",
      "execution_count": 270,
      "outputs": [
        {
          "output_type": "display_data",
          "data": {
            "text/plain": [
              "[1] 0.598"
            ],
            "text/latex": "0.598",
            "text/markdown": "0.598",
            "text/html": [
              "0.598"
            ]
          },
          "metadata": {
            "tags": []
          }
        }
      ]
    },
    {
      "cell_type": "code",
      "metadata": {
        "colab": {
          "base_uri": "https://localhost:8080/",
          "height": 34
        },
        "id": "yY_lh4P5q8hV",
        "outputId": "be729e50-95ae-419b-e5c8-26f62c02ce67"
      },
      "source": [
        "# Root Mean Square Error Loss - Forecast a\n",
        "msgjrgarch.rmse.a <- RMSE(sigma.msgjrgarch[,'sigma.msgjrgarch.pred.a'],\n",
        "                          sigma.msgjrgarch[,'sigma.msgjrgarch.true'])\n",
        "round(msgjrgarch.rmse.a, digits = 3)"
      ],
      "id": "yY_lh4P5q8hV",
      "execution_count": 271,
      "outputs": [
        {
          "output_type": "display_data",
          "data": {
            "text/plain": [
              "[1] 0.551"
            ],
            "text/latex": "0.551",
            "text/markdown": "0.551",
            "text/html": [
              "0.551"
            ]
          },
          "metadata": {
            "tags": []
          }
        }
      ]
    },
    {
      "cell_type": "code",
      "metadata": {
        "colab": {
          "base_uri": "https://localhost:8080/",
          "height": 34
        },
        "id": "u3HQsD5Qq-QB",
        "outputId": "5a09ac5e-8cc4-4948-ef99-565db644c0e7"
      },
      "source": [
        "# Root Mean Square Error Loss - Forecast b\n",
        "msgjrgarch.rmse.b <- RMSE(sigma.msgjrgarch[,'sigma.msgjrgarch.pred.b'],\n",
        "                          sigma.msgjrgarch[,'sigma.msgjrgarch.true'])\n",
        "round(msgjrgarch.rmse.b, digits = 3)"
      ],
      "id": "u3HQsD5Qq-QB",
      "execution_count": 272,
      "outputs": [
        {
          "output_type": "display_data",
          "data": {
            "text/plain": [
              "[1] 0.679"
            ],
            "text/latex": "0.679",
            "text/markdown": "0.679",
            "text/html": [
              "0.679"
            ]
          },
          "metadata": {
            "tags": []
          }
        }
      ]
    },
    {
      "cell_type": "code",
      "metadata": {
        "colab": {
          "base_uri": "https://localhost:8080/",
          "height": 34
        },
        "id": "94nhDvc3q__y",
        "outputId": "e2be25d5-9366-434d-b867-82c5616b948b"
      },
      "source": [
        "# Quasi-likelihood loss function - forecast a\n",
        "h <- sigma.msgjrgarch[,'sigma.msgjrgarch.true']\n",
        "\n",
        "h.hat.a <- sigma.msgjrgarch[,'sigma.msgjrgarch.pred.a']     \n",
        "msgjrgarch.qlike.a <- mean(log(sqrt(h)) + h.hat.a/sqrt(h))\n",
        "round(msgjrgarch.qlike.a, digits = 5)"
      ],
      "id": "94nhDvc3q__y",
      "execution_count": 273,
      "outputs": [
        {
          "output_type": "display_data",
          "data": {
            "text/plain": [
              "[1] 1.183"
            ],
            "text/latex": "1.183",
            "text/markdown": "1.183",
            "text/html": [
              "1.183"
            ]
          },
          "metadata": {
            "tags": []
          }
        }
      ]
    },
    {
      "cell_type": "code",
      "metadata": {
        "colab": {
          "base_uri": "https://localhost:8080/",
          "height": 34
        },
        "id": "EQKq_D5FrByJ",
        "outputId": "89ae68b0-4637-4a75-cc46-5dbd01a46b13"
      },
      "source": [
        "# Quasi-likelihood loss function - forecast b\n",
        "h.hat.b <- sigma.msgjrgarch[,'sigma.msgjrgarch.pred.b']\n",
        "msgjrgarch.qlike.b <- mean(log(sqrt(h)) + h.hat.b/sqrt(h))\n",
        "round(msgjrgarch.qlike.b, digits = 5)"
      ],
      "id": "EQKq_D5FrByJ",
      "execution_count": 274,
      "outputs": [
        {
          "output_type": "display_data",
          "data": {
            "text/plain": [
              "[1] 1.5151"
            ],
            "text/latex": "1.5151",
            "text/markdown": "1.5151",
            "text/html": [
              "1.5151"
            ]
          },
          "metadata": {
            "tags": []
          }
        }
      ]
    },
    {
      "cell_type": "code",
      "metadata": {
        "colab": {
          "base_uri": "https://localhost:8080/",
          "height": 119
        },
        "id": "vPTQpCKJrDfH",
        "outputId": "60d57ece-e7a5-45db-8acd-6f455f8820a5"
      },
      "source": [
        "# Diebold-Mariano Test (accuracy test) - test 1\n",
        "f.a <- sigma.msgjrgarch[,'sigma.msgjrgarch.pred.a']\n",
        "f.b <- sigma.msgjrgarch[,'sigma.msgjrgarch.pred.b']\n",
        "y <- sigma.msgjrgarch[,'sigma.msgjrgarch.true']\n",
        "\n",
        "DM.test(f.a, f.b, y, loss.type = \"SE\", c = FALSE, H1 = \"same\")"
      ],
      "id": "vPTQpCKJrDfH",
      "execution_count": 275,
      "outputs": [
        {
          "output_type": "display_data",
          "data": {
            "text/plain": [
              "\n",
              "\tDiebold-Mariano test\n",
              "\n",
              "data:  f.a and f.b and y\n",
              "statistic = -9.1223, forecast horizon = 1, p-value < 2.2e-16\n",
              "alternative hypothesis: Forecast f1 and f2 have different accuracy.\n"
            ]
          },
          "metadata": {
            "tags": []
          }
        }
      ]
    },
    {
      "cell_type": "code",
      "metadata": {
        "colab": {
          "base_uri": "https://localhost:8080/",
          "height": 136
        },
        "id": "4gP3k2MNrFGk",
        "outputId": "501b1207-2249-4dfa-e7dc-0bb17cf3ebff"
      },
      "source": [
        "# Diebold-Mariano test for predictive accuracy - test 2\n",
        "e.a <- msgjrgarch.error.a\n",
        "e.b <- msgjrgarch.error.b\n",
        "\n",
        "dm.test(e.a, e.b, alternative = \"two.sided\", h = 1, power = 2)"
      ],
      "id": "4gP3k2MNrFGk",
      "execution_count": 276,
      "outputs": [
        {
          "output_type": "display_data",
          "data": {
            "text/plain": [
              "\n",
              "\tDiebold-Mariano Test\n",
              "\n",
              "data:  e.ae.b\n",
              "DM = -9.1148, Forecast horizon = 1, Loss function power = 2, p-value <\n",
              "2.2e-16\n",
              "alternative hypothesis: two.sided\n"
            ]
          },
          "metadata": {
            "tags": []
          }
        }
      ]
    },
    {
      "cell_type": "code",
      "metadata": {
        "colab": {
          "base_uri": "https://localhost:8080/",
          "height": 34
        },
        "id": "LcULPKoNrGxD",
        "outputId": "9df4ca7b-eebf-4610-d138-b30c82738317"
      },
      "source": [
        "# Quasi-likelihood Loss Function For Volatility Forecasts - forecast a\n",
        "msgjrgarch.qlike.a <- mean(LossVol(sigma.msgjrgarch[,'sigma.msgjrgarch.true'],\n",
        "                                    sigma.msgjrgarch[,'sigma.msgjrgarch.pred.a'],\n",
        "                                    which = \"QLIKE\"))\n",
        "round(msgjrgarch.qlike.a, digits = 3)"
      ],
      "id": "LcULPKoNrGxD",
      "execution_count": 277,
      "outputs": [
        {
          "output_type": "display_data",
          "data": {
            "text/plain": [
              "[1] 1.402"
            ],
            "text/latex": "1.402",
            "text/markdown": "1.402",
            "text/html": [
              "1.402"
            ]
          },
          "metadata": {
            "tags": []
          }
        }
      ]
    },
    {
      "cell_type": "code",
      "metadata": {
        "colab": {
          "base_uri": "https://localhost:8080/",
          "height": 34
        },
        "id": "CWGlz0amrIPg",
        "outputId": "94828c08-2b3e-475c-cbb4-e8ab2b86f614"
      },
      "source": [
        "# Quasi-likelihood Loss Function For Volatility Forecasts - forecast 1b\n",
        "msgjrgarch.qlike.b <- mean(LossVol(sigma.msgjrgarch[,'sigma.msgjrgarch.true'],\n",
        "                                  sigma.msgjrgarch[,'sigma.msgjrgarch.pred.b'],\n",
        "                                  which = \"QLIKE\"))\n",
        "round(msgjrgarch.qlike.b, digits = 3)"
      ],
      "id": "CWGlz0amrIPg",
      "execution_count": 278,
      "outputs": [
        {
          "output_type": "display_data",
          "data": {
            "text/plain": [
              "[1] 1.462"
            ],
            "text/latex": "1.462",
            "text/markdown": "1.462",
            "text/html": [
              "1.462"
            ]
          },
          "metadata": {
            "tags": []
          }
        }
      ]
    },
    {
      "cell_type": "code",
      "metadata": {
        "colab": {
          "base_uri": "https://localhost:8080/",
          "height": 34
        },
        "id": "pay6piZ-rJmP",
        "outputId": "332ff4d0-99b9-42a1-f602-8b214f15e60f"
      },
      "source": [
        "# Log loss / Cross-Entropy Loss -  forecast a\n",
        "msgjrgarch.logloss.a <- LogLoss(sigma.msgjrgarch[,'sigma.msgjrgarch.pred.a'],\n",
        "                                sigma.msgjrgarch[,'sigma.msgjrgarch.true'])\n",
        "round(msgjrgarch.logloss.a, digits = 3)"
      ],
      "id": "pay6piZ-rJmP",
      "execution_count": 279,
      "outputs": [
        {
          "output_type": "display_data",
          "data": {
            "text/plain": [
              "[1] -3.333"
            ],
            "text/latex": "-3.333",
            "text/markdown": "-3.333",
            "text/html": [
              "-3.333"
            ]
          },
          "metadata": {
            "tags": []
          }
        }
      ]
    },
    {
      "cell_type": "code",
      "metadata": {
        "colab": {
          "base_uri": "https://localhost:8080/",
          "height": 34
        },
        "id": "p4KdG8yirK7j",
        "outputId": "a051c33f-594b-4dc3-aaf1-2452b9f55e4b"
      },
      "source": [
        "# Log loss / Cross-Entropy Loss -  forecast b\n",
        "msgjrgarch.logloss.b <- LogLoss(sigma.msgjrgarch[,'sigma.msgjrgarch.pred.b'],\n",
        "                                sigma.msgjrgarch[,'sigma.msgjrgarch.true'])\n",
        "round(msgjrgarch.logloss.b, digits = 3)"
      ],
      "id": "p4KdG8yirK7j",
      "execution_count": 280,
      "outputs": [
        {
          "output_type": "display_data",
          "data": {
            "text/plain": [
              "[1] -3.32"
            ],
            "text/latex": "-3.32",
            "text/markdown": "-3.32",
            "text/html": [
              "-3.32"
            ]
          },
          "metadata": {
            "tags": []
          }
        }
      ]
    },
    {
      "cell_type": "code",
      "metadata": {
        "colab": {
          "base_uri": "https://localhost:8080/",
          "height": 170
        },
        "id": "b4P8dlDNrMMd",
        "outputId": "00634c76-4a1e-4bb7-822a-5b28e132d3c7"
      },
      "source": [
        "# Linear regression to assess forecast performance - forecast a\n",
        "msgjrgarch.model.a <- lm(sigma.msgjrgarch.true ~ sigma.msgjrgarch.pred.a,\n",
        "                      data = sigma.msgjrgarch)\n",
        "round(coeftest(msgjrgarch.model.a, NeweyWest(msgjrgarch.model.a,\n",
        "                                            lag = bwNeweyWest(msgjrgarch.model.a),\n",
        "                                            prewhite = F)), 3)\n",
        "round(summary(msgjrgarch.model.a)$adj.r.squared, 3)"
      ],
      "id": "b4P8dlDNrMMd",
      "execution_count": 281,
      "outputs": [
        {
          "output_type": "display_data",
          "data": {
            "text/plain": [
              "\n",
              "t test of coefficients:\n",
              "\n",
              "                        Estimate Std. Error t value Pr(>|t|)  \n",
              "(Intercept)               -0.318      0.587  -0.542    0.588  \n",
              "sigma.msgjrgarch.pred.a    1.206      0.549   2.199    0.028 *\n",
              "---\n",
              "Signif. codes:  0 ‘***’ 0.001 ‘**’ 0.01 ‘*’ 0.05 ‘.’ 0.1 ‘ ’ 1\n"
            ]
          },
          "metadata": {
            "tags": []
          }
        },
        {
          "output_type": "display_data",
          "data": {
            "text/plain": [
              "[1] 0.01"
            ],
            "text/latex": "0.01",
            "text/markdown": "0.01",
            "text/html": [
              "0.01"
            ]
          },
          "metadata": {
            "tags": []
          }
        }
      ]
    },
    {
      "cell_type": "code",
      "metadata": {
        "colab": {
          "base_uri": "https://localhost:8080/",
          "height": 170
        },
        "id": "dn4BRM4-rN7I",
        "outputId": "b1b6ea98-544c-4280-ecf0-d25d8c1d8a82"
      },
      "source": [
        "# Linear regression to assess forecast performance - forecast b\n",
        "msgjrgarch.model.b <- lm(sigma.msgjrgarch.true ~ sigma.msgjrgarch.pred.b,\n",
        "                      data = sigma.msgjrgarch)\n",
        "round(coeftest(msgjrgarch.model.b, NeweyWest(msgjrgarch.model.b,\n",
        "                                            lag = bwNeweyWest(msgjrgarch.model.b),\n",
        "                                            prewhite = F)), 3)\n",
        "round(summary(msgjrgarch.model.b)$adj.r.squared, 3)"
      ],
      "id": "dn4BRM4-rN7I",
      "execution_count": 282,
      "outputs": [
        {
          "output_type": "display_data",
          "data": {
            "text/plain": [
              "\n",
              "t test of coefficients:\n",
              "\n",
              "                        Estimate Std. Error t value Pr(>|t|)  \n",
              "(Intercept)                0.002      0.419   0.004    0.996  \n",
              "sigma.msgjrgarch.pred.b    0.726      0.304   2.392    0.017 *\n",
              "---\n",
              "Signif. codes:  0 ‘***’ 0.001 ‘**’ 0.01 ‘*’ 0.05 ‘.’ 0.1 ‘ ’ 1\n"
            ]
          },
          "metadata": {
            "tags": []
          }
        },
        {
          "output_type": "display_data",
          "data": {
            "text/plain": [
              "[1] 0.03"
            ],
            "text/latex": "0.03",
            "text/markdown": "0.03",
            "text/html": [
              "0.03"
            ]
          },
          "metadata": {
            "tags": []
          }
        }
      ]
    },
    {
      "cell_type": "markdown",
      "metadata": {
        "id": "fZYN_pFPylpJ"
      },
      "source": [
        "#13. Monthly volatility"
      ],
      "id": "fZYN_pFPylpJ"
    },
    {
      "cell_type": "markdown",
      "metadata": {
        "id": "_GCDjgnx_W_A"
      },
      "source": [
        "##(a) Transformation of a daily frequency to monthly frequency"
      ],
      "id": "_GCDjgnx_W_A"
    },
    {
      "cell_type": "code",
      "metadata": {
        "colab": {
          "base_uri": "https://localhost:8080/",
          "height": 493
        },
        "id": "JLXA-z-l_f3q",
        "outputId": "76cbb3ea-9f9b-4870-e3db-da3ed7f097e2"
      },
      "source": [
        "IMOEX.ME.df.month <- apply.monthly(IMOEX.ME.df, FUN = mean)\n",
        "head(IMOEX.ME.df.month)"
      ],
      "id": "JLXA-z-l_f3q",
      "execution_count": 283,
      "outputs": [
        {
          "output_type": "display_data",
          "data": {
            "text/plain": [
              "           IMOEX.ME.Close IMOEX.ME.Return IMOEX.ME.VolGARCH IMOEX.ME.VolEGARCH\n",
              "2013-03-28       1468.725     -0.22718297          1.178761           1.328878\n",
              "2013-04-30       1384.006     -0.16078890          1.169086           1.493557\n",
              "2013-05-31       1399.154     -0.14893703          1.512219           1.461968\n",
              "2013-06-28       1317.946     -0.05016823          1.632091           2.111561\n",
              "2013-07-31       1382.315      0.14883481          1.162236           1.071221\n",
              "2013-08-30       1383.931     -0.04329742          1.082882           1.167228\n",
              "           IMOEX.ME.VolGJRGARCH IMOEX.ME.VolRealGARCH IMOEX.ME.VolRealEGARCH\n",
              "2013-03-28             1.300478              1.216410               1.339674\n",
              "2013-04-30             1.352187              1.194077               1.551441\n",
              "2013-05-31             1.426274              1.519031               1.453290\n",
              "2013-06-28             1.898283              1.698226               2.206192\n",
              "2013-07-31             1.027488              1.212045               1.126181\n",
              "2013-08-30             1.110123              1.110462               1.192269\n",
              "           IMOEX.ME.VolRealGJRGARCH IMOEX.ME.VolMSGARCH IMOEX.ME.VolMSEGARCH\n",
              "2013-03-28                 1.313974           0.9700064            0.9965966\n",
              "2013-04-30                 1.387570           1.0279680            1.0866225\n",
              "2013-05-31                 1.398903           1.1392327            1.1538608\n",
              "2013-06-28                 1.948997           1.1738977            1.2754090\n",
              "2013-07-31                 1.078588           1.0836835            1.0675348\n",
              "2013-08-30                 1.131139           1.0051072            1.0171749\n",
              "           IMOEX.ME.VolMSGJRGARCH\n",
              "2013-03-28              1.0191412\n",
              "2013-04-30              1.0551663\n",
              "2013-05-31              1.1482051\n",
              "2013-06-28              1.2140012\n",
              "2013-07-31              1.0643006\n",
              "2013-08-30              0.9965633"
            ]
          },
          "metadata": {
            "tags": []
          }
        }
      ]
    },
    {
      "cell_type": "markdown",
      "metadata": {
        "id": "KX6T_XNH_n93"
      },
      "source": [
        "##(b) Lag Length Selection"
      ],
      "id": "KX6T_XNH_n93"
    },
    {
      "cell_type": "code",
      "metadata": {
        "colab": {
          "base_uri": "https://localhost:8080/"
        },
        "id": "nEgGG_NO_rJk",
        "outputId": "89451349-f5c8-4eb5-fecc-d9c4c05acc2f"
      },
      "source": [
        "# Package\n",
        "install.packages('tsDyn')\n",
        "\n",
        "library(tsDyn)"
      ],
      "id": "nEgGG_NO_rJk",
      "execution_count": 284,
      "outputs": [
        {
          "output_type": "stream",
          "text": [
            "Installing package into ‘/usr/local/lib/R/site-library’\n",
            "(as ‘lib’ is unspecified)\n",
            "\n",
            "also installing the dependencies ‘tmvnsim’, ‘deSolve’, ‘strucchange’, ‘iterators’, ‘mnormt’, ‘tseriesChaos’, ‘vars’, ‘foreach’\n",
            "\n",
            "\n",
            "\n",
            "Attaching package: ‘tsDyn’\n",
            "\n",
            "\n",
            "The following object is masked from ‘package:MLmetrics’:\n",
            "\n",
            "    MAPE\n",
            "\n",
            "\n",
            "The following object is masked from ‘package:Metrics’:\n",
            "\n",
            "    mse\n",
            "\n",
            "\n"
          ],
          "name": "stderr"
        }
      ]
    },
    {
      "cell_type": "code",
      "metadata": {
        "colab": {
          "base_uri": "https://localhost:8080/",
          "height": 68
        },
        "id": "nSnrXFwT_zzY",
        "outputId": "aa148b68-2319-4ce0-fbe6-f09573902f3c"
      },
      "source": [
        "lags.select(IMOEX.ME.df.month$IMOEX.ME.VolGARCH, lag.max = 10)"
      ],
      "id": "nSnrXFwT_zzY",
      "execution_count": 285,
      "outputs": [
        {
          "output_type": "display_data",
          "data": {
            "text/plain": [
              "Best AIC:  lag= 1 \n",
              "Best BIC:  lag= 1 \n",
              "Best HQ :  lag= 1 "
            ]
          },
          "metadata": {
            "tags": []
          }
        }
      ]
    },
    {
      "cell_type": "code",
      "metadata": {
        "colab": {
          "base_uri": "https://localhost:8080/",
          "height": 68
        },
        "id": "uK1NeJFsBna8",
        "outputId": "0362c2b0-dec5-41f0-d69e-c119e5962b00"
      },
      "source": [
        "lags.select(IMOEX.ME.df.month$IMOEX.ME.VolEGARCH, lag.max = 10)"
      ],
      "id": "uK1NeJFsBna8",
      "execution_count": 286,
      "outputs": [
        {
          "output_type": "display_data",
          "data": {
            "text/plain": [
              "Best AIC:  lag= 1 \n",
              "Best BIC:  lag= 1 \n",
              "Best HQ :  lag= 1 "
            ]
          },
          "metadata": {
            "tags": []
          }
        }
      ]
    },
    {
      "cell_type": "code",
      "metadata": {
        "colab": {
          "base_uri": "https://localhost:8080/",
          "height": 68
        },
        "id": "sPkpUtZhBqHJ",
        "outputId": "e4720010-15a1-4c8e-da09-c29c50a4d069"
      },
      "source": [
        "lags.select(IMOEX.ME.df.month$IMOEX.ME.VolGJRGARCH, lag.max = 10)"
      ],
      "id": "sPkpUtZhBqHJ",
      "execution_count": 287,
      "outputs": [
        {
          "output_type": "display_data",
          "data": {
            "text/plain": [
              "Best AIC:  lag= 1 \n",
              "Best BIC:  lag= 1 \n",
              "Best HQ :  lag= 1 "
            ]
          },
          "metadata": {
            "tags": []
          }
        }
      ]
    },
    {
      "cell_type": "code",
      "metadata": {
        "colab": {
          "base_uri": "https://localhost:8080/",
          "height": 68
        },
        "id": "K9_kCmfQBsDt",
        "outputId": "fff4bc35-d387-4601-f65c-bc9035794f5c"
      },
      "source": [
        "lags.select(IMOEX.ME.df.month$IMOEX.ME.VolRealGARCH, lag.max = 10)"
      ],
      "id": "K9_kCmfQBsDt",
      "execution_count": 288,
      "outputs": [
        {
          "output_type": "display_data",
          "data": {
            "text/plain": [
              "Best AIC:  lag= 1 \n",
              "Best BIC:  lag= 1 \n",
              "Best HQ :  lag= 1 "
            ]
          },
          "metadata": {
            "tags": []
          }
        }
      ]
    },
    {
      "cell_type": "code",
      "metadata": {
        "colab": {
          "base_uri": "https://localhost:8080/",
          "height": 68
        },
        "id": "c74fPYQEB3Pc",
        "outputId": "c5f6b115-9ed9-4c3d-96c7-b37a03098af4"
      },
      "source": [
        "lags.select(IMOEX.ME.df.month$IMOEX.ME.VolRealEGARCH, lag.max = 10)"
      ],
      "id": "c74fPYQEB3Pc",
      "execution_count": 289,
      "outputs": [
        {
          "output_type": "display_data",
          "data": {
            "text/plain": [
              "Best AIC:  lag= 1 \n",
              "Best BIC:  lag= 1 \n",
              "Best HQ :  lag= 1 "
            ]
          },
          "metadata": {
            "tags": []
          }
        }
      ]
    },
    {
      "cell_type": "code",
      "metadata": {
        "colab": {
          "base_uri": "https://localhost:8080/",
          "height": 68
        },
        "id": "eShiYpuXB6vM",
        "outputId": "139078ef-5bfa-46e8-bd84-91f836e7e741"
      },
      "source": [
        "lags.select(IMOEX.ME.df.month$IMOEX.ME.VolRealGJRGARCH, lag.max = 10)"
      ],
      "id": "eShiYpuXB6vM",
      "execution_count": 290,
      "outputs": [
        {
          "output_type": "display_data",
          "data": {
            "text/plain": [
              "Best AIC:  lag= 1 \n",
              "Best BIC:  lag= 1 \n",
              "Best HQ :  lag= 1 "
            ]
          },
          "metadata": {
            "tags": []
          }
        }
      ]
    },
    {
      "cell_type": "code",
      "metadata": {
        "colab": {
          "base_uri": "https://localhost:8080/",
          "height": 68
        },
        "id": "vZpT89GVB-Kq",
        "outputId": "bfd02e4c-27aa-496d-a529-348f39435c7f"
      },
      "source": [
        "lags.select(IMOEX.ME.df.month$IMOEX.ME.VolMSGARCH, lag.max = 10)"
      ],
      "id": "vZpT89GVB-Kq",
      "execution_count": 291,
      "outputs": [
        {
          "output_type": "display_data",
          "data": {
            "text/plain": [
              "Best AIC:  lag= 1 \n",
              "Best BIC:  lag= 1 \n",
              "Best HQ :  lag= 1 "
            ]
          },
          "metadata": {
            "tags": []
          }
        }
      ]
    },
    {
      "cell_type": "code",
      "metadata": {
        "colab": {
          "base_uri": "https://localhost:8080/",
          "height": 68
        },
        "id": "bTXkiJYoCCF8",
        "outputId": "38449df9-58d7-4d3a-b42c-f305cd70451f"
      },
      "source": [
        "lags.select(IMOEX.ME.df.month$IMOEX.ME.VolMSEGARCH , lag.max = 10)"
      ],
      "id": "bTXkiJYoCCF8",
      "execution_count": 292,
      "outputs": [
        {
          "output_type": "display_data",
          "data": {
            "text/plain": [
              "Best AIC:  lag= 1 \n",
              "Best BIC:  lag= 1 \n",
              "Best HQ :  lag= 1 "
            ]
          },
          "metadata": {
            "tags": []
          }
        }
      ]
    },
    {
      "cell_type": "code",
      "metadata": {
        "colab": {
          "base_uri": "https://localhost:8080/",
          "height": 68
        },
        "id": "gmp7CKgmCIaH",
        "outputId": "71343b48-62ac-4b10-a7a2-5c659a7264e5"
      },
      "source": [
        "lags.select(IMOEX.ME.df.month$IMOEX.ME.VolMSGJRGARCH , lag.max = 10)"
      ],
      "id": "gmp7CKgmCIaH",
      "execution_count": 293,
      "outputs": [
        {
          "output_type": "display_data",
          "data": {
            "text/plain": [
              "Best AIC:  lag= 1 \n",
              "Best BIC:  lag= 1 \n",
              "Best HQ :  lag= 1 "
            ]
          },
          "metadata": {
            "tags": []
          }
        }
      ]
    },
    {
      "cell_type": "markdown",
      "metadata": {
        "id": "9HdfotCPALkn"
      },
      "source": [
        "##(c) Import dataset"
      ],
      "id": "9HdfotCPALkn"
    },
    {
      "cell_type": "markdown",
      "metadata": {
        "id": "KhOH_NiBAe_8"
      },
      "source": [
        "**EPU**"
      ],
      "id": "KhOH_NiBAe_8"
    },
    {
      "cell_type": "code",
      "metadata": {
        "id": "14oHDlSZAg9S"
      },
      "source": [
        "# Package\n",
        "library(readxl)"
      ],
      "id": "14oHDlSZAg9S",
      "execution_count": 294,
      "outputs": []
    },
    {
      "cell_type": "code",
      "metadata": {
        "colab": {
          "base_uri": "https://localhost:8080/",
          "height": 405
        },
        "id": "ijgoJa2cAlpy",
        "outputId": "aa649b4f-4a2e-4721-cc12-490dec94f3a3"
      },
      "source": [
        "EPU <- read_excel(\"EPU_All_Country_Data.xlsx\",\n",
        "                  sheet = \"Import\",\n",
        "                  col_types = c(\"date\", \"numeric\", \"numeric\", \"numeric\", \"numeric\",\n",
        "                                \"numeric\", \"numeric\", \"numeric\", \"numeric\", \"numeric\",\n",
        "                                \"numeric\", \"numeric\", \"numeric\", \"numeric\"))\n",
        "head(EPU)"
      ],
      "id": "ijgoJa2cAlpy",
      "execution_count": 295,
      "outputs": [
        {
          "output_type": "display_data",
          "data": {
            "text/plain": [
              "  MM.YYYY    GEPU_current Brazil    Russia    India     Chile     Mexico   \n",
              "1 2000-01-01 63.43916      54.60320 117.12624  55.47412 104.18382 161.02013\n",
              "2 2000-02-01 58.77943      41.26398  27.02751  58.04263  76.43725 157.84093\n",
              "3 2000-03-01 61.33933      73.60725  27.27277  63.43669  78.59699  90.80582\n",
              "4 2000-04-01 64.76240      96.34906  25.90913  78.92112  63.72873  93.59448\n",
              "5 2000-05-01 86.84892     189.96852  42.97606  59.61799 120.89192 136.35007\n",
              "6 2000-06-01 88.23903     106.87265 115.94142 110.34407 156.83112 216.03893\n",
              "  China     Canada   France   Germany   Japan     UK       US       \n",
              "1 44.004440 46.92811 18.45134  73.23399  78.12204 30.08247  88.98869\n",
              "2  9.066709 45.72284 33.22514  97.35842  78.62767 36.62590  73.36520\n",
              "3 44.399136 39.32267 42.40266  96.09151  79.74557 45.16381  73.29862\n",
              "4 35.441414 53.17447 16.59283  69.44795 103.12970 42.74244  70.59975\n",
              "5 71.135803 54.20769 55.37305 135.28714  86.34306 53.87834 118.14321\n",
              "6 36.856976 45.04951 35.07029  58.29012 150.85790 51.15050 109.58423"
            ],
            "text/latex": "A tibble: 6 × 14\n\\begin{tabular}{llllllllllllll}\n MM.YYYY & GEPU\\_current & Brazil & Russia & India & Chile & Mexico & China & Canada & France & Germany & Japan & UK & US\\\\\n <dttm> & <dbl> & <dbl> & <dbl> & <dbl> & <dbl> & <dbl> & <dbl> & <dbl> & <dbl> & <dbl> & <dbl> & <dbl> & <dbl>\\\\\n\\hline\n\t 2000-01-01 & 63.43916 &  54.60320 & 117.12624 &  55.47412 & 104.18382 & 161.02013 & 44.004440 & 46.92811 & 18.45134 &  73.23399 &  78.12204 & 30.08247 &  88.98869\\\\\n\t 2000-02-01 & 58.77943 &  41.26398 &  27.02751 &  58.04263 &  76.43725 & 157.84093 &  9.066709 & 45.72284 & 33.22514 &  97.35842 &  78.62767 & 36.62590 &  73.36520\\\\\n\t 2000-03-01 & 61.33933 &  73.60725 &  27.27277 &  63.43669 &  78.59699 &  90.80582 & 44.399136 & 39.32267 & 42.40266 &  96.09151 &  79.74557 & 45.16381 &  73.29862\\\\\n\t 2000-04-01 & 64.76240 &  96.34906 &  25.90913 &  78.92112 &  63.72873 &  93.59448 & 35.441414 & 53.17447 & 16.59283 &  69.44795 & 103.12970 & 42.74244 &  70.59975\\\\\n\t 2000-05-01 & 86.84892 & 189.96852 &  42.97606 &  59.61799 & 120.89192 & 136.35007 & 71.135803 & 54.20769 & 55.37305 & 135.28714 &  86.34306 & 53.87834 & 118.14321\\\\\n\t 2000-06-01 & 88.23903 & 106.87265 & 115.94142 & 110.34407 & 156.83112 & 216.03893 & 36.856976 & 45.04951 & 35.07029 &  58.29012 & 150.85790 & 51.15050 & 109.58423\\\\\n\\end{tabular}\n",
            "text/markdown": "\nA tibble: 6 × 14\n\n| MM.YYYY &lt;dttm&gt; | GEPU_current &lt;dbl&gt; | Brazil &lt;dbl&gt; | Russia &lt;dbl&gt; | India &lt;dbl&gt; | Chile &lt;dbl&gt; | Mexico &lt;dbl&gt; | China &lt;dbl&gt; | Canada &lt;dbl&gt; | France &lt;dbl&gt; | Germany &lt;dbl&gt; | Japan &lt;dbl&gt; | UK &lt;dbl&gt; | US &lt;dbl&gt; |\n|---|---|---|---|---|---|---|---|---|---|---|---|---|---|\n| 2000-01-01 | 63.43916 |  54.60320 | 117.12624 |  55.47412 | 104.18382 | 161.02013 | 44.004440 | 46.92811 | 18.45134 |  73.23399 |  78.12204 | 30.08247 |  88.98869 |\n| 2000-02-01 | 58.77943 |  41.26398 |  27.02751 |  58.04263 |  76.43725 | 157.84093 |  9.066709 | 45.72284 | 33.22514 |  97.35842 |  78.62767 | 36.62590 |  73.36520 |\n| 2000-03-01 | 61.33933 |  73.60725 |  27.27277 |  63.43669 |  78.59699 |  90.80582 | 44.399136 | 39.32267 | 42.40266 |  96.09151 |  79.74557 | 45.16381 |  73.29862 |\n| 2000-04-01 | 64.76240 |  96.34906 |  25.90913 |  78.92112 |  63.72873 |  93.59448 | 35.441414 | 53.17447 | 16.59283 |  69.44795 | 103.12970 | 42.74244 |  70.59975 |\n| 2000-05-01 | 86.84892 | 189.96852 |  42.97606 |  59.61799 | 120.89192 | 136.35007 | 71.135803 | 54.20769 | 55.37305 | 135.28714 |  86.34306 | 53.87834 | 118.14321 |\n| 2000-06-01 | 88.23903 | 106.87265 | 115.94142 | 110.34407 | 156.83112 | 216.03893 | 36.856976 | 45.04951 | 35.07029 |  58.29012 | 150.85790 | 51.15050 | 109.58423 |\n\n",
            "text/html": [
              "<table class=\"dataframe\">\n",
              "<caption>A tibble: 6 × 14</caption>\n",
              "<thead>\n",
              "\t<tr><th scope=col>MM.YYYY</th><th scope=col>GEPU_current</th><th scope=col>Brazil</th><th scope=col>Russia</th><th scope=col>India</th><th scope=col>Chile</th><th scope=col>Mexico</th><th scope=col>China</th><th scope=col>Canada</th><th scope=col>France</th><th scope=col>Germany</th><th scope=col>Japan</th><th scope=col>UK</th><th scope=col>US</th></tr>\n",
              "\t<tr><th scope=col>&lt;dttm&gt;</th><th scope=col>&lt;dbl&gt;</th><th scope=col>&lt;dbl&gt;</th><th scope=col>&lt;dbl&gt;</th><th scope=col>&lt;dbl&gt;</th><th scope=col>&lt;dbl&gt;</th><th scope=col>&lt;dbl&gt;</th><th scope=col>&lt;dbl&gt;</th><th scope=col>&lt;dbl&gt;</th><th scope=col>&lt;dbl&gt;</th><th scope=col>&lt;dbl&gt;</th><th scope=col>&lt;dbl&gt;</th><th scope=col>&lt;dbl&gt;</th><th scope=col>&lt;dbl&gt;</th></tr>\n",
              "</thead>\n",
              "<tbody>\n",
              "\t<tr><td>2000-01-01</td><td>63.43916</td><td> 54.60320</td><td>117.12624</td><td> 55.47412</td><td>104.18382</td><td>161.02013</td><td>44.004440</td><td>46.92811</td><td>18.45134</td><td> 73.23399</td><td> 78.12204</td><td>30.08247</td><td> 88.98869</td></tr>\n",
              "\t<tr><td>2000-02-01</td><td>58.77943</td><td> 41.26398</td><td> 27.02751</td><td> 58.04263</td><td> 76.43725</td><td>157.84093</td><td> 9.066709</td><td>45.72284</td><td>33.22514</td><td> 97.35842</td><td> 78.62767</td><td>36.62590</td><td> 73.36520</td></tr>\n",
              "\t<tr><td>2000-03-01</td><td>61.33933</td><td> 73.60725</td><td> 27.27277</td><td> 63.43669</td><td> 78.59699</td><td> 90.80582</td><td>44.399136</td><td>39.32267</td><td>42.40266</td><td> 96.09151</td><td> 79.74557</td><td>45.16381</td><td> 73.29862</td></tr>\n",
              "\t<tr><td>2000-04-01</td><td>64.76240</td><td> 96.34906</td><td> 25.90913</td><td> 78.92112</td><td> 63.72873</td><td> 93.59448</td><td>35.441414</td><td>53.17447</td><td>16.59283</td><td> 69.44795</td><td>103.12970</td><td>42.74244</td><td> 70.59975</td></tr>\n",
              "\t<tr><td>2000-05-01</td><td>86.84892</td><td>189.96852</td><td> 42.97606</td><td> 59.61799</td><td>120.89192</td><td>136.35007</td><td>71.135803</td><td>54.20769</td><td>55.37305</td><td>135.28714</td><td> 86.34306</td><td>53.87834</td><td>118.14321</td></tr>\n",
              "\t<tr><td>2000-06-01</td><td>88.23903</td><td>106.87265</td><td>115.94142</td><td>110.34407</td><td>156.83112</td><td>216.03893</td><td>36.856976</td><td>45.04951</td><td>35.07029</td><td> 58.29012</td><td>150.85790</td><td>51.15050</td><td>109.58423</td></tr>\n",
              "</tbody>\n",
              "</table>\n"
            ]
          },
          "metadata": {
            "tags": []
          }
        }
      ]
    },
    {
      "cell_type": "code",
      "metadata": {
        "id": "MrqrZ8MZA4-_"
      },
      "source": [
        "attach(EPU)"
      ],
      "id": "MrqrZ8MZA4-_",
      "execution_count": 296,
      "outputs": []
    },
    {
      "cell_type": "markdown",
      "metadata": {
        "id": "Vq9oiwlrA58O"
      },
      "source": [
        "**VIX**"
      ],
      "id": "Vq9oiwlrA58O"
    },
    {
      "cell_type": "code",
      "metadata": {
        "colab": {
          "base_uri": "https://localhost:8080/",
          "height": 34
        },
        "id": "V5iY9Kr3BAkR",
        "outputId": "b56d2a29-43f7-4b58-f539-fd700cfcfa52"
      },
      "source": [
        "getSymbols(\"^VIX\", from = '2000-01-01', to = '2021-05-31', periodicity = \"monthly\")"
      ],
      "id": "V5iY9Kr3BAkR",
      "execution_count": 297,
      "outputs": [
        {
          "output_type": "display_data",
          "data": {
            "text/plain": [
              "[1] \"^VIX\""
            ],
            "text/latex": "'\\textasciicircum{}VIX'",
            "text/markdown": "'^VIX'",
            "text/html": [
              "'^VIX'"
            ]
          },
          "metadata": {
            "tags": []
          }
        }
      ]
    },
    {
      "cell_type": "code",
      "metadata": {
        "colab": {
          "base_uri": "https://localhost:8080/",
          "height": 136
        },
        "id": "_SCvdZFcBOxo",
        "outputId": "3dd3cbe3-1926-4266-ecb5-e61c7f335318"
      },
      "source": [
        "head(VIX)"
      ],
      "id": "_SCvdZFcBOxo",
      "execution_count": 298,
      "outputs": [
        {
          "output_type": "display_data",
          "data": {
            "text/plain": [
              "           VIX.Open VIX.High VIX.Low VIX.Close VIX.Volume VIX.Adjusted\n",
              "2000-01-01    24.36    29.00   19.51     24.95          0        24.95\n",
              "2000-02-01    24.43    28.12   20.69     23.37          0        23.37\n",
              "2000-03-01    22.65    25.87   19.19     24.11          0        24.11\n",
              "2000-04-01    24.99    34.31   23.25     26.20          0        26.20\n",
              "2000-05-01    26.07    32.89   23.23     23.65          0        23.65\n",
              "2000-06-01    23.20    25.01   19.39     19.54          0        19.54"
            ]
          },
          "metadata": {
            "tags": []
          }
        }
      ]
    },
    {
      "cell_type": "code",
      "metadata": {
        "id": "uuIrny6OBRnH"
      },
      "source": [
        "VIX <- na.omit(VIX)"
      ],
      "id": "uuIrny6OBRnH",
      "execution_count": 299,
      "outputs": []
    },
    {
      "cell_type": "markdown",
      "metadata": {
        "id": "LGG7p_RIG7PV"
      },
      "source": [
        "##(d) Estimation"
      ],
      "id": "LGG7p_RIG7PV"
    },
    {
      "cell_type": "markdown",
      "metadata": {
        "id": "gvQCcsPIBUVX"
      },
      "source": [
        "**Benchmark model**"
      ],
      "id": "gvQCcsPIBUVX"
    },
    {
      "cell_type": "code",
      "metadata": {
        "colab": {
          "base_uri": "https://localhost:8080/",
          "height": 136
        },
        "id": "lnEjm9lKBYi3",
        "outputId": "b3507a4c-6552-4e9f-9dce-92f09330fd4e"
      },
      "source": [
        "# Concatenate (number of rows of data frames aren't different)\n",
        "uncertainty <- cbind(VIX[,'VIX.Close'], EPU$Russia, EPU$GEPU_current)\n",
        "head(uncertainty)"
      ],
      "id": "lnEjm9lKBYi3",
      "execution_count": 300,
      "outputs": [
        {
          "output_type": "display_data",
          "data": {
            "text/plain": [
              "           VIX.Close EPU.Russia EPU.GEPU_current\n",
              "2000-01-01     24.95  117.12624         63.43916\n",
              "2000-02-01     23.37   27.02751         58.77943\n",
              "2000-03-01     24.11   27.27277         61.33933\n",
              "2000-04-01     26.20   25.90913         64.76240\n",
              "2000-05-01     23.65   42.97606         86.84892\n",
              "2000-06-01     19.54  115.94142         88.23903"
            ]
          },
          "metadata": {
            "tags": []
          }
        }
      ]
    },
    {
      "cell_type": "code",
      "metadata": {
        "id": "IHhaF8KxC7VF"
      },
      "source": [
        "# Lag of uncertainty variables (lag = 1)\n",
        "lag.epu <- ts(Lag(uncertainty$EPU.Russia, 1))\n",
        "lag.gepu <- ts(Lag(uncertainty$EPU.GEPU_current, 1))\n",
        "lag.vix <- ts(Lag(uncertainty$VIX.Close, 1))"
      ],
      "id": "IHhaF8KxC7VF",
      "execution_count": 301,
      "outputs": []
    },
    {
      "cell_type": "markdown",
      "metadata": {
        "id": "zHQo6FW0FO18"
      },
      "source": [
        "**Linear GARCH**"
      ],
      "id": "zHQo6FW0FO18"
    },
    {
      "cell_type": "code",
      "metadata": {
        "colab": {
          "base_uri": "https://localhost:8080/",
          "height": 170
        },
        "id": "u3qNPRhUClNO",
        "outputId": "be31c51e-11fa-48e5-e18e-2926b9928ada"
      },
      "source": [
        "# Estimation 1 - GARCH (Best BIC:  lag= 1)\n",
        "garch <- ts(log(IMOEX.ME.df.month$IMOEX.ME.VolGARCH))\n",
        "lag.garch.1 <- ts(Lag(log(IMOEX.ME.df.month$IMOEX.ME.VolGARCH), 1))\n",
        "\n",
        "ols.garch <- cbind(garch, lag.garch.1, \n",
        "                  lag.epu, lag.gepu, lag.vix)\n",
        "\n",
        "model.garch.1 <- lm(garch ~  lag.garch.1, \n",
        "                    data = ols.garch)\n",
        "\n",
        "round(coeftest(model.garch.1, NeweyWest(model.garch.1, \n",
        "                                        lag = bwNeweyWest(model.garch.1), \n",
        "                                        prewhite = F)), 3)\n",
        "\n",
        "round(summary(model.garch.1)$adj.r.squared, 3)"
      ],
      "id": "u3qNPRhUClNO",
      "execution_count": 302,
      "outputs": [
        {
          "output_type": "display_data",
          "data": {
            "text/plain": [
              "\n",
              "t test of coefficients:\n",
              "\n",
              "            Estimate Std. Error t value Pr(>|t|)    \n",
              "(Intercept)    0.076      0.046   1.671    0.098 .  \n",
              "lag.garch.1    0.530      0.081   6.568   <2e-16 ***\n",
              "---\n",
              "Signif. codes:  0 ‘***’ 0.001 ‘**’ 0.01 ‘*’ 0.05 ‘.’ 0.1 ‘ ’ 1\n"
            ]
          },
          "metadata": {
            "tags": []
          }
        },
        {
          "output_type": "display_data",
          "data": {
            "text/plain": [
              "[1] 0.272"
            ],
            "text/latex": "0.272",
            "text/markdown": "0.272",
            "text/html": [
              "0.272"
            ]
          },
          "metadata": {
            "tags": []
          }
        }
      ]
    },
    {
      "cell_type": "code",
      "metadata": {
        "colab": {
          "base_uri": "https://localhost:8080/",
          "height": 187
        },
        "id": "uppwdMKEE44m",
        "outputId": "1018840c-ba17-4be7-8f30-b3ac872d0ae9"
      },
      "source": [
        "# Estimation 2 - GARCH (Best BIC:  lag= 1)\n",
        "model.garch.2 <- lm(garch ~  lag.garch.1 + lag.epu, \n",
        "                    data = ols.garch)\n",
        "\n",
        "round(coeftest(model.garch.2, NeweyWest(model.garch.2, \n",
        "                                        lag = bwNeweyWest(model.garch.2), \n",
        "                                        prewhite = F)), 3)\n",
        "\n",
        "round(summary(model.garch.2)$adj.r.squared, 3)"
      ],
      "id": "uppwdMKEE44m",
      "execution_count": 303,
      "outputs": [
        {
          "output_type": "display_data",
          "data": {
            "text/plain": [
              "\n",
              "t test of coefficients:\n",
              "\n",
              "            Estimate Std. Error t value Pr(>|t|)    \n",
              "(Intercept)    0.129      0.091   1.416    0.160    \n",
              "lag.garch.1    0.533      0.085   6.243   <2e-16 ***\n",
              "lag.epu       -0.001      0.001  -0.564    0.574    \n",
              "---\n",
              "Signif. codes:  0 ‘***’ 0.001 ‘**’ 0.01 ‘*’ 0.05 ‘.’ 0.1 ‘ ’ 1\n"
            ]
          },
          "metadata": {
            "tags": []
          }
        },
        {
          "output_type": "display_data",
          "data": {
            "text/plain": [
              "[1] 0.267"
            ],
            "text/latex": "0.267",
            "text/markdown": "0.267",
            "text/html": [
              "0.267"
            ]
          },
          "metadata": {
            "tags": []
          }
        }
      ]
    },
    {
      "cell_type": "code",
      "metadata": {
        "colab": {
          "base_uri": "https://localhost:8080/",
          "height": 187
        },
        "id": "YX8DzU72O0oB",
        "outputId": "fad9ab8d-a85f-4b8e-aa99-1d1066a1f3c4"
      },
      "source": [
        "# Estimation 3 - GARCH (Best BIC:  lag= 1)\n",
        "model.garch.3 <- lm(garch ~  lag.garch.1 + lag.vix, \n",
        "                    data = ols.garch)\n",
        "\n",
        "round(coeftest(model.garch.3, NeweyWest(model.garch.3, \n",
        "                                        lag = bwNeweyWest(model.garch.3), \n",
        "                                        prewhite = F)), 3)\n",
        "\n",
        "round(summary(model.garch.3)$adj.r.squared, 3)"
      ],
      "id": "YX8DzU72O0oB",
      "execution_count": 304,
      "outputs": [
        {
          "output_type": "display_data",
          "data": {
            "text/plain": [
              "\n",
              "t test of coefficients:\n",
              "\n",
              "            Estimate Std. Error t value Pr(>|t|)    \n",
              "(Intercept)   -0.180      0.184  -0.978    0.331    \n",
              "lag.garch.1    0.492      0.087   5.676   <2e-16 ***\n",
              "lag.vix        0.013      0.009   1.462    0.147    \n",
              "---\n",
              "Signif. codes:  0 ‘***’ 0.001 ‘**’ 0.01 ‘*’ 0.05 ‘.’ 0.1 ‘ ’ 1\n"
            ]
          },
          "metadata": {
            "tags": []
          }
        },
        {
          "output_type": "display_data",
          "data": {
            "text/plain": [
              "[1] 0.295"
            ],
            "text/latex": "0.295",
            "text/markdown": "0.295",
            "text/html": [
              "0.295"
            ]
          },
          "metadata": {
            "tags": []
          }
        }
      ]
    },
    {
      "cell_type": "code",
      "metadata": {
        "colab": {
          "base_uri": "https://localhost:8080/",
          "height": 204
        },
        "id": "it_P-MqUO4ec",
        "outputId": "a7acc5b6-ccea-4108-f091-36d3ccc5dc74"
      },
      "source": [
        "# Estimation 4 - GARCH (Best BIC:  lag= 1)\n",
        "model.garch.4 <- lm(garch ~  lag.garch.1 + lag.epu + lag.vix, \n",
        "                    data = ols.garch)\n",
        "\n",
        "round(coeftest(model.garch.4, NeweyWest(model.garch.4, \n",
        "                                        lag = bwNeweyWest(model.garch.4), \n",
        "                                        prewhite = F)), 3)\n",
        "\n",
        "round(summary(model.garch.4)$adj.r.squared, 3)"
      ],
      "id": "it_P-MqUO4ec",
      "execution_count": 305,
      "outputs": [
        {
          "output_type": "display_data",
          "data": {
            "text/plain": [
              "\n",
              "t test of coefficients:\n",
              "\n",
              "            Estimate Std. Error t value Pr(>|t|)    \n",
              "(Intercept)   -0.181      0.262  -0.693    0.490    \n",
              "lag.garch.1    0.492      0.093   5.272   <2e-16 ***\n",
              "lag.epu        0.000      0.001   0.006    0.995    \n",
              "lag.vix        0.013      0.010   1.330    0.187    \n",
              "---\n",
              "Signif. codes:  0 ‘***’ 0.001 ‘**’ 0.01 ‘*’ 0.05 ‘.’ 0.1 ‘ ’ 1\n"
            ]
          },
          "metadata": {
            "tags": []
          }
        },
        {
          "output_type": "display_data",
          "data": {
            "text/plain": [
              "[1] 0.287"
            ],
            "text/latex": "0.287",
            "text/markdown": "0.287",
            "text/html": [
              "0.287"
            ]
          },
          "metadata": {
            "tags": []
          }
        }
      ]
    },
    {
      "cell_type": "code",
      "metadata": {
        "colab": {
          "base_uri": "https://localhost:8080/",
          "height": 221
        },
        "id": "w-QVaWN0PS9d",
        "outputId": "9c54e14a-8598-4a64-bdfb-71d683568c5d"
      },
      "source": [
        "# Estimation 5 - GARCH (Best BIC:  lag= 1)\n",
        "model.garch.5 <- lm(garch ~  lag.garch.1 + lag.epu + lag.gepu + lag.vix, \n",
        "                    data = ols.garch)\n",
        "\n",
        "round(coeftest(model.garch.5, NeweyWest(model.garch.5, \n",
        "                                        lag = bwNeweyWest(model.garch.5), \n",
        "                                        prewhite = F)), 3)\n",
        "\n",
        "round(summary(model.garch.5)$adj.r.squared, 3)"
      ],
      "id": "w-QVaWN0PS9d",
      "execution_count": 306,
      "outputs": [
        {
          "output_type": "display_data",
          "data": {
            "text/plain": [
              "\n",
              "t test of coefficients:\n",
              "\n",
              "            Estimate Std. Error t value Pr(>|t|)    \n",
              "(Intercept)   -0.203      0.274  -0.739    0.462    \n",
              "lag.garch.1    0.488      0.096   5.079   <2e-16 ***\n",
              "lag.epu        0.000      0.001  -0.116    0.908    \n",
              "lag.gepu       0.002      0.003   0.551    0.583    \n",
              "lag.vix        0.008      0.010   0.881    0.381    \n",
              "---\n",
              "Signif. codes:  0 ‘***’ 0.001 ‘**’ 0.01 ‘*’ 0.05 ‘.’ 0.1 ‘ ’ 1\n"
            ]
          },
          "metadata": {
            "tags": []
          }
        },
        {
          "output_type": "display_data",
          "data": {
            "text/plain": [
              "[1] 0.283"
            ],
            "text/latex": "0.283",
            "text/markdown": "0.283",
            "text/html": [
              "0.283"
            ]
          },
          "metadata": {
            "tags": []
          }
        }
      ]
    },
    {
      "cell_type": "markdown",
      "metadata": {
        "id": "KxPH8UsAFTKr"
      },
      "source": [
        "**EGARCH**"
      ],
      "id": "KxPH8UsAFTKr"
    },
    {
      "cell_type": "code",
      "metadata": {
        "colab": {
          "base_uri": "https://localhost:8080/",
          "height": 170
        },
        "id": "jjaoFjcPF-zc",
        "outputId": "a37f98e0-2e88-455d-fa6e-3c804f50c26d"
      },
      "source": [
        "# Estimation 1 - EGARCH (Best BIC:  lag= 1)\n",
        "egarch <- ts(log(IMOEX.ME.df.month$IMOEX.ME.VolEGARCH))\n",
        "lag.egarch.1 <- ts(Lag(log(IMOEX.ME.df.month$IMOEX.ME.VolEGARCH), 1))\n",
        "\n",
        "ols.egarch <- cbind(egarch, lag.egarch.1,\n",
        "                    lag.epu, lag.gepu, lag.vix)\n",
        "\n",
        "model.egarch.1 <- lm(egarch ~  lag.egarch.1, \n",
        "                    data = ols.egarch)\n",
        "\n",
        "round(coeftest(model.egarch.1, NeweyWest(model.egarch.1, \n",
        "                                         lag = bwNeweyWest(model.egarch.1), \n",
        "                                         prewhite = F)), 3)\n",
        "\n",
        "round(summary(model.egarch.1)$adj.r.squared, 3)"
      ],
      "id": "jjaoFjcPF-zc",
      "execution_count": 307,
      "outputs": [
        {
          "output_type": "display_data",
          "data": {
            "text/plain": [
              "\n",
              "t test of coefficients:\n",
              "\n",
              "             Estimate Std. Error t value Pr(>|t|)    \n",
              "(Intercept)     0.066      0.046   1.443    0.152    \n",
              "lag.egarch.1    0.525      0.072   7.328   <2e-16 ***\n",
              "---\n",
              "Signif. codes:  0 ‘***’ 0.001 ‘**’ 0.01 ‘*’ 0.05 ‘.’ 0.1 ‘ ’ 1\n"
            ]
          },
          "metadata": {
            "tags": []
          }
        },
        {
          "output_type": "display_data",
          "data": {
            "text/plain": [
              "[1] 0.267"
            ],
            "text/latex": "0.267",
            "text/markdown": "0.267",
            "text/html": [
              "0.267"
            ]
          },
          "metadata": {
            "tags": []
          }
        }
      ]
    },
    {
      "cell_type": "code",
      "metadata": {
        "colab": {
          "base_uri": "https://localhost:8080/",
          "height": 187
        },
        "id": "6SYfDY-QGW3S",
        "outputId": "1c3276f4-2cbb-43a6-ed5e-a81103dbd8d0"
      },
      "source": [
        "# Estimation 2 - EGARCH (Best BIC:  lag= 1)\n",
        "model.egarch.2 <- lm(egarch ~  lag.egarch.1 + lag.epu, \n",
        "                     data = ols.egarch)\n",
        "\n",
        "round(coeftest(model.egarch.2, NeweyWest(model.egarch.2, \n",
        "                                         lag = bwNeweyWest(model.egarch.2), \n",
        "                                         prewhite = F)), 3)\n",
        "\n",
        "round(summary(model.egarch.2)$adj.r.squared, 3)"
      ],
      "id": "6SYfDY-QGW3S",
      "execution_count": 308,
      "outputs": [
        {
          "output_type": "display_data",
          "data": {
            "text/plain": [
              "\n",
              "t test of coefficients:\n",
              "\n",
              "             Estimate Std. Error t value Pr(>|t|)    \n",
              "(Intercept)     0.139      0.083   1.667    0.099 .  \n",
              "lag.egarch.1    0.530      0.074   7.147   <2e-16 ***\n",
              "lag.epu        -0.001      0.001  -0.838    0.404    \n",
              "---\n",
              "Signif. codes:  0 ‘***’ 0.001 ‘**’ 0.01 ‘*’ 0.05 ‘.’ 0.1 ‘ ’ 1\n"
            ]
          },
          "metadata": {
            "tags": []
          }
        },
        {
          "output_type": "display_data",
          "data": {
            "text/plain": [
              "[1] 0.264"
            ],
            "text/latex": "0.264",
            "text/markdown": "0.264",
            "text/html": [
              "0.264"
            ]
          },
          "metadata": {
            "tags": []
          }
        }
      ]
    },
    {
      "cell_type": "code",
      "metadata": {
        "colab": {
          "base_uri": "https://localhost:8080/",
          "height": 187
        },
        "id": "iNZE-7iEPn_A",
        "outputId": "fb01c96a-f6f6-4058-dd53-b7b12865ddd6"
      },
      "source": [
        "# Estimation 3 - EGARCH (Best BIC:  lag= 1)\n",
        "model.egarch.3 <- lm(egarch ~  lag.egarch.1 + lag.vix, \n",
        "                     data = ols.egarch)\n",
        "\n",
        "round(coeftest(model.egarch.3, NeweyWest(model.egarch.3, \n",
        "                                         lag = bwNeweyWest(model.egarch.3), \n",
        "                                         prewhite = F)), 3)\n",
        "\n",
        "round(summary(model.egarch.3)$adj.r.squared, 3)"
      ],
      "id": "iNZE-7iEPn_A",
      "execution_count": 309,
      "outputs": [
        {
          "output_type": "display_data",
          "data": {
            "text/plain": [
              "\n",
              "t test of coefficients:\n",
              "\n",
              "             Estimate Std. Error t value Pr(>|t|)    \n",
              "(Intercept)    -0.182      0.156  -1.166    0.247    \n",
              "lag.egarch.1    0.479      0.079   6.066   <2e-16 ***\n",
              "lag.vix         0.013      0.008   1.725    0.088 .  \n",
              "---\n",
              "Signif. codes:  0 ‘***’ 0.001 ‘**’ 0.01 ‘*’ 0.05 ‘.’ 0.1 ‘ ’ 1\n"
            ]
          },
          "metadata": {
            "tags": []
          }
        },
        {
          "output_type": "display_data",
          "data": {
            "text/plain": [
              "[1] 0.288"
            ],
            "text/latex": "0.288",
            "text/markdown": "0.288",
            "text/html": [
              "0.288"
            ]
          },
          "metadata": {
            "tags": []
          }
        }
      ]
    },
    {
      "cell_type": "code",
      "metadata": {
        "colab": {
          "base_uri": "https://localhost:8080/",
          "height": 204
        },
        "id": "Cd-rJ4nnPpme",
        "outputId": "c7d8f277-e0cf-46d3-8e41-bc7ba75538ad"
      },
      "source": [
        "# Estimation 4 - EGARCH (Best BIC:  lag= 1)\n",
        "model.egarch.4 <- lm(egarch ~  lag.egarch.1 + lag.epu + lag.vix, \n",
        "                     data = ols.egarch)\n",
        "\n",
        "round(coeftest(model.egarch.4, NeweyWest(model.egarch.4, \n",
        "                                         lag = bwNeweyWest(model.egarch.4), \n",
        "                                         prewhite = F)), 3)\n",
        "\n",
        "round(summary(model.egarch.4)$adj.r.squared, 3)"
      ],
      "id": "Cd-rJ4nnPpme",
      "execution_count": 310,
      "outputs": [
        {
          "output_type": "display_data",
          "data": {
            "text/plain": [
              "\n",
              "t test of coefficients:\n",
              "\n",
              "             Estimate Std. Error t value Pr(>|t|)    \n",
              "(Intercept)    -0.150      0.251  -0.598    0.551    \n",
              "lag.egarch.1    0.483      0.088   5.498   <2e-16 ***\n",
              "lag.epu         0.000      0.001  -0.217    0.828    \n",
              "lag.vix         0.013      0.009   1.391    0.167    \n",
              "---\n",
              "Signif. codes:  0 ‘***’ 0.001 ‘**’ 0.01 ‘*’ 0.05 ‘.’ 0.1 ‘ ’ 1\n"
            ]
          },
          "metadata": {
            "tags": []
          }
        },
        {
          "output_type": "display_data",
          "data": {
            "text/plain": [
              "[1] 0.281"
            ],
            "text/latex": "0.281",
            "text/markdown": "0.281",
            "text/html": [
              "0.281"
            ]
          },
          "metadata": {
            "tags": []
          }
        }
      ]
    },
    {
      "cell_type": "code",
      "metadata": {
        "colab": {
          "base_uri": "https://localhost:8080/",
          "height": 221
        },
        "id": "c3XRtwQFPqqa",
        "outputId": "7b706660-68e4-4fd2-8a8b-b79f9b8a4e01"
      },
      "source": [
        "# Estimation 5 - EGARCH (Best BIC:  lag= 1)\n",
        "model.egarch.5 <- lm(egarch ~  lag.egarch.1 + lag.epu + lag.gepu + lag.vix, \n",
        "                     data = ols.egarch)\n",
        "\n",
        "round(coeftest(model.egarch.5, NeweyWest(model.egarch.5, \n",
        "                                         lag = bwNeweyWest(model.egarch.5), \n",
        "                                         prewhite = F)), 3)\n",
        "\n",
        "round(summary(model.egarch.5)$adj.r.squared, 3)"
      ],
      "id": "c3XRtwQFPqqa",
      "execution_count": 311,
      "outputs": [
        {
          "output_type": "display_data",
          "data": {
            "text/plain": [
              "\n",
              "t test of coefficients:\n",
              "\n",
              "             Estimate Std. Error t value Pr(>|t|)    \n",
              "(Intercept)    -0.160      0.250  -0.637    0.526    \n",
              "lag.egarch.1    0.483      0.090   5.387   <2e-16 ***\n",
              "lag.epu         0.000      0.001  -0.269    0.789    \n",
              "lag.gepu        0.001      0.002   0.308    0.759    \n",
              "lag.vix         0.010      0.010   1.009    0.316    \n",
              "---\n",
              "Signif. codes:  0 ‘***’ 0.001 ‘**’ 0.01 ‘*’ 0.05 ‘.’ 0.1 ‘ ’ 1\n"
            ]
          },
          "metadata": {
            "tags": []
          }
        },
        {
          "output_type": "display_data",
          "data": {
            "text/plain": [
              "[1] 0.274"
            ],
            "text/latex": "0.274",
            "text/markdown": "0.274",
            "text/html": [
              "0.274"
            ]
          },
          "metadata": {
            "tags": []
          }
        }
      ]
    },
    {
      "cell_type": "markdown",
      "metadata": {
        "id": "q6ZVo4RGFVPg"
      },
      "source": [
        "**GJR-GARCH**"
      ],
      "id": "q6ZVo4RGFVPg"
    },
    {
      "cell_type": "code",
      "metadata": {
        "colab": {
          "base_uri": "https://localhost:8080/",
          "height": 170
        },
        "id": "sSV2QDYhF_4v",
        "outputId": "4649bbdf-c50d-45b6-87b8-116562f7e7ee"
      },
      "source": [
        "# Estimation 1 - GJR-GARCH (Best BIC:  lag= 1)\n",
        "gjrgarch <- ts(log(IMOEX.ME.df.month$IMOEX.ME.VolGJRGARCH))\n",
        "lag.gjrgarch.1 <- ts(Lag(log(IMOEX.ME.df.month$IMOEX.ME.VolGJRGARCH), 1))\n",
        "\n",
        "ols.gjrgarch <- cbind(gjrgarch, lag.gjrgarch.1,\n",
        "                      lag.epu, lag.gepu, lag.vix)\n",
        "\n",
        "model.gjrgarch.1 <- lm(gjrgarch ~  lag.gjrgarch.1, \n",
        "                       data = ols.gjrgarch)\n",
        "\n",
        "round(coeftest(model.gjrgarch.1, NeweyWest(model.gjrgarch.1, \n",
        "                                          lag = bwNeweyWest(model.gjrgarch.1), \n",
        "                                          prewhite = F)), 3)\n",
        "\n",
        "round(summary(model.gjrgarch.1)$adj.r.squared, 3)"
      ],
      "id": "sSV2QDYhF_4v",
      "execution_count": 312,
      "outputs": [
        {
          "output_type": "display_data",
          "data": {
            "text/plain": [
              "\n",
              "t test of coefficients:\n",
              "\n",
              "               Estimate Std. Error t value Pr(>|t|)    \n",
              "(Intercept)       0.072      0.048   1.491    0.139    \n",
              "lag.gjrgarch.1    0.514      0.074   6.977   <2e-16 ***\n",
              "---\n",
              "Signif. codes:  0 ‘***’ 0.001 ‘**’ 0.01 ‘*’ 0.05 ‘.’ 0.1 ‘ ’ 1\n"
            ]
          },
          "metadata": {
            "tags": []
          }
        },
        {
          "output_type": "display_data",
          "data": {
            "text/plain": [
              "[1] 0.256"
            ],
            "text/latex": "0.256",
            "text/markdown": "0.256",
            "text/html": [
              "0.256"
            ]
          },
          "metadata": {
            "tags": []
          }
        }
      ]
    },
    {
      "cell_type": "code",
      "metadata": {
        "colab": {
          "base_uri": "https://localhost:8080/",
          "height": 187
        },
        "id": "QfZ9xeMXGXxq",
        "outputId": "9ec7b344-5d6d-4e43-e446-8da78fb5ef64"
      },
      "source": [
        "# Estimation 2 - GJR-GARCH (Best BIC:  lag= 1)\n",
        "model.gjrgarch.2 <- lm(gjrgarch ~  lag.gjrgarch.1 + lag.epu, \n",
        "                       data = ols.gjrgarch)\n",
        "\n",
        "round(coeftest(model.gjrgarch.2, NeweyWest(model.gjrgarch.2, \n",
        "                                          lag = bwNeweyWest(model.gjrgarch.2), \n",
        "                                          prewhite = F)), 3)\n",
        "\n",
        "round(summary(model.gjrgarch.2)$adj.r.squared, 3)"
      ],
      "id": "QfZ9xeMXGXxq",
      "execution_count": 313,
      "outputs": [
        {
          "output_type": "display_data",
          "data": {
            "text/plain": [
              "\n",
              "t test of coefficients:\n",
              "\n",
              "               Estimate Std. Error t value Pr(>|t|)    \n",
              "(Intercept)       0.100      0.096   1.042    0.300    \n",
              "lag.gjrgarch.1    0.517      0.080   6.473   <2e-16 ***\n",
              "lag.epu           0.000      0.001  -0.270    0.788    \n",
              "---\n",
              "Signif. codes:  0 ‘***’ 0.001 ‘**’ 0.01 ‘*’ 0.05 ‘.’ 0.1 ‘ ’ 1\n"
            ]
          },
          "metadata": {
            "tags": []
          }
        },
        {
          "output_type": "display_data",
          "data": {
            "text/plain": [
              "[1] 0.248"
            ],
            "text/latex": "0.248",
            "text/markdown": "0.248",
            "text/html": [
              "0.248"
            ]
          },
          "metadata": {
            "tags": []
          }
        }
      ]
    },
    {
      "cell_type": "code",
      "metadata": {
        "colab": {
          "base_uri": "https://localhost:8080/",
          "height": 187
        },
        "id": "RpwqcFbDQveh",
        "outputId": "e986195a-34ea-415f-9bfd-75b41994d1f9"
      },
      "source": [
        "# Estimation 3 - GJR-GARCH (Best BIC:  lag= 1)\n",
        "model.gjrgarch.3 <- lm(gjrgarch ~  lag.gjrgarch.1 + lag.vix, \n",
        "                       data = ols.gjrgarch)\n",
        "\n",
        "round(coeftest(model.gjrgarch.3, NeweyWest(model.gjrgarch.3, \n",
        "                                          lag = bwNeweyWest(model.gjrgarch.3), \n",
        "                                          prewhite = F)), 3)\n",
        "\n",
        "round(summary(model.gjrgarch.3)$adj.r.squared, 3)"
      ],
      "id": "RpwqcFbDQveh",
      "execution_count": 314,
      "outputs": [
        {
          "output_type": "display_data",
          "data": {
            "text/plain": [
              "\n",
              "t test of coefficients:\n",
              "\n",
              "               Estimate Std. Error t value Pr(>|t|)    \n",
              "(Intercept)      -0.152      0.184  -0.824    0.412    \n",
              "lag.gjrgarch.1    0.486      0.084   5.776   <2e-16 ***\n",
              "lag.vix           0.012      0.009   1.305    0.195    \n",
              "---\n",
              "Signif. codes:  0 ‘***’ 0.001 ‘**’ 0.01 ‘*’ 0.05 ‘.’ 0.1 ‘ ’ 1\n"
            ]
          },
          "metadata": {
            "tags": []
          }
        },
        {
          "output_type": "display_data",
          "data": {
            "text/plain": [
              "[1] 0.269"
            ],
            "text/latex": "0.269",
            "text/markdown": "0.269",
            "text/html": [
              "0.269"
            ]
          },
          "metadata": {
            "tags": []
          }
        }
      ]
    },
    {
      "cell_type": "code",
      "metadata": {
        "colab": {
          "base_uri": "https://localhost:8080/",
          "height": 204
        },
        "id": "oVcvw2H_QwAc",
        "outputId": "7e9c0425-58bc-440c-84df-7c3eb51bd95b"
      },
      "source": [
        "# Estimation 4 - GJR-GARCH (Best BIC:  lag= 1)\n",
        "model.gjrgarch.4 <- lm(gjrgarch ~  lag.gjrgarch.1 + lag.epu + lag.vix, \n",
        "                       data = ols.gjrgarch)\n",
        "\n",
        "round(coeftest(model.gjrgarch.4, NeweyWest(model.gjrgarch.4, \n",
        "                                          lag = bwNeweyWest(model.gjrgarch.4), \n",
        "                                          prewhite = F)), 3)\n",
        "\n",
        "round(summary(model.gjrgarch.4)$adj.r.squared, 3)"
      ],
      "id": "oVcvw2H_QwAc",
      "execution_count": 315,
      "outputs": [
        {
          "output_type": "display_data",
          "data": {
            "text/plain": [
              "\n",
              "t test of coefficients:\n",
              "\n",
              "               Estimate Std. Error t value Pr(>|t|)    \n",
              "(Intercept)      -0.181      0.282  -0.643    0.522    \n",
              "lag.gjrgarch.1    0.483      0.093   5.208   <2e-16 ***\n",
              "lag.epu           0.000      0.002   0.173    0.863    \n",
              "lag.vix           0.012      0.010   1.173    0.244    \n",
              "---\n",
              "Signif. codes:  0 ‘***’ 0.001 ‘**’ 0.01 ‘*’ 0.05 ‘.’ 0.1 ‘ ’ 1\n"
            ]
          },
          "metadata": {
            "tags": []
          }
        },
        {
          "output_type": "display_data",
          "data": {
            "text/plain": [
              "[1] 0.262"
            ],
            "text/latex": "0.262",
            "text/markdown": "0.262",
            "text/html": [
              "0.262"
            ]
          },
          "metadata": {
            "tags": []
          }
        }
      ]
    },
    {
      "cell_type": "code",
      "metadata": {
        "colab": {
          "base_uri": "https://localhost:8080/",
          "height": 221
        },
        "id": "5lDj4PwxQwzP",
        "outputId": "cc49ad83-3bfc-46fe-f8ac-3767871e3633"
      },
      "source": [
        "# Estimation 5 - GJR-GARCH (Best BIC:  lag= 1)\n",
        "model.gjrgarch.5 <- lm(gjrgarch ~  lag.gjrgarch.1 + lag.epu + lag.gepu + lag.vix, \n",
        "                       data = ols.gjrgarch)\n",
        "\n",
        "round(coeftest(model.gjrgarch.5, NeweyWest(model.gjrgarch.5, \n",
        "                                          lag = bwNeweyWest(model.gjrgarch.5), \n",
        "                                          prewhite = F)), 3)\n",
        "\n",
        "round(summary(model.gjrgarch.5)$adj.r.squared, 3)"
      ],
      "id": "5lDj4PwxQwzP",
      "execution_count": 316,
      "outputs": [
        {
          "output_type": "display_data",
          "data": {
            "text/plain": [
              "\n",
              "t test of coefficients:\n",
              "\n",
              "               Estimate Std. Error t value Pr(>|t|)    \n",
              "(Intercept)      -0.195      0.282  -0.691    0.491    \n",
              "lag.gjrgarch.1    0.483      0.096   5.054   <2e-16 ***\n",
              "lag.epu           0.000      0.002   0.084    0.933    \n",
              "lag.gepu          0.001      0.003   0.428    0.670    \n",
              "lag.vix           0.009      0.011   0.780    0.438    \n",
              "---\n",
              "Signif. codes:  0 ‘***’ 0.001 ‘**’ 0.01 ‘*’ 0.05 ‘.’ 0.1 ‘ ’ 1\n"
            ]
          },
          "metadata": {
            "tags": []
          }
        },
        {
          "output_type": "display_data",
          "data": {
            "text/plain": [
              "[1] 0.255"
            ],
            "text/latex": "0.255",
            "text/markdown": "0.255",
            "text/html": [
              "0.255"
            ]
          },
          "metadata": {
            "tags": []
          }
        }
      ]
    },
    {
      "cell_type": "markdown",
      "metadata": {
        "id": "9k0Ku1lRFXsE"
      },
      "source": [
        "**Realized Linear GARCH**"
      ],
      "id": "9k0Ku1lRFXsE"
    },
    {
      "cell_type": "code",
      "metadata": {
        "colab": {
          "base_uri": "https://localhost:8080/",
          "height": 170
        },
        "id": "ggRFZZTrGA7l",
        "outputId": "26d9e253-b36d-4770-da16-5872099f78a4"
      },
      "source": [
        "# Estimation 1 - Realized Linear GARCH (Best BIC:  lag= 1)\n",
        "realgarch <- ts(log(IMOEX.ME.df.month$IMOEX.ME.VolRealGARCH))\n",
        "lag.realgarch.1 <- ts(Lag(log(IMOEX.ME.df.month$IMOEX.ME.VolRealGARCH), 1))\n",
        "\n",
        "ols.realgarch <- cbind(realgarch, lag.realgarch.1, \n",
        "                       lag.epu, lag.gepu, lag.vix)\n",
        "\n",
        "model.realgarch.1 <- lm(realgarch ~  lag.realgarch.1, \n",
        "                        data = ols.realgarch)\n",
        "\n",
        "round(coeftest(model.realgarch.1, NeweyWest(model.realgarch.1, \n",
        "                                            lag = bwNeweyWest(model.realgarch.1), \n",
        "                                            prewhite = F)), 3)\n",
        "\n",
        "round(summary(model.realgarch.1)$adj.r.squared, 3)"
      ],
      "id": "ggRFZZTrGA7l",
      "execution_count": 317,
      "outputs": [
        {
          "output_type": "display_data",
          "data": {
            "text/plain": [
              "\n",
              "t test of coefficients:\n",
              "\n",
              "                Estimate Std. Error t value Pr(>|t|)    \n",
              "(Intercept)        0.087      0.047   1.865    0.065 .  \n",
              "lag.realgarch.1    0.536      0.078   6.917   <2e-16 ***\n",
              "---\n",
              "Signif. codes:  0 ‘***’ 0.001 ‘**’ 0.01 ‘*’ 0.05 ‘.’ 0.1 ‘ ’ 1\n"
            ]
          },
          "metadata": {
            "tags": []
          }
        },
        {
          "output_type": "display_data",
          "data": {
            "text/plain": [
              "[1] 0.279"
            ],
            "text/latex": "0.279",
            "text/markdown": "0.279",
            "text/html": [
              "0.279"
            ]
          },
          "metadata": {
            "tags": []
          }
        }
      ]
    },
    {
      "cell_type": "code",
      "metadata": {
        "colab": {
          "base_uri": "https://localhost:8080/",
          "height": 187
        },
        "id": "hlGIumFjGY6u",
        "outputId": "d5041208-aec6-4d0a-dc3e-95cf9373ee61"
      },
      "source": [
        "# Estimation 2 - Realized Linear GARCH (Best BIC:  lag= 1)\n",
        "model.realgarch.2 <- lm(realgarch ~  lag.realgarch.1 + lag.epu, \n",
        "                        data = ols.realgarch)\n",
        "\n",
        "round(coeftest(model.realgarch.2, NeweyWest(model.realgarch.2, \n",
        "                                            lag = bwNeweyWest(model.realgarch.2), \n",
        "                                            prewhite = F)), 3)\n",
        "\n",
        "round(summary(model.realgarch.2)$adj.r.squared, 3)"
      ],
      "id": "hlGIumFjGY6u",
      "execution_count": 318,
      "outputs": [
        {
          "output_type": "display_data",
          "data": {
            "text/plain": [
              "\n",
              "t test of coefficients:\n",
              "\n",
              "                Estimate Std. Error t value Pr(>|t|)    \n",
              "(Intercept)        0.135      0.090   1.508    0.135    \n",
              "lag.realgarch.1    0.540      0.082   6.544   <2e-16 ***\n",
              "lag.epu           -0.001      0.001  -0.533    0.596    \n",
              "---\n",
              "Signif. codes:  0 ‘***’ 0.001 ‘**’ 0.01 ‘*’ 0.05 ‘.’ 0.1 ‘ ’ 1\n"
            ]
          },
          "metadata": {
            "tags": []
          }
        },
        {
          "output_type": "display_data",
          "data": {
            "text/plain": [
              "[1] 0.274"
            ],
            "text/latex": "0.274",
            "text/markdown": "0.274",
            "text/html": [
              "0.274"
            ]
          },
          "metadata": {
            "tags": []
          }
        }
      ]
    },
    {
      "cell_type": "code",
      "metadata": {
        "colab": {
          "base_uri": "https://localhost:8080/",
          "height": 187
        },
        "id": "Fort9qJBRSmj",
        "outputId": "8471be32-4979-42d6-b7d5-2e5afc7b11a5"
      },
      "source": [
        "# Estimation 3 - Realized Linear GARCH (Best BIC:  lag= 1)\n",
        "model.realgarch.3 <- lm(realgarch ~  lag.realgarch.1 + lag.vix, \n",
        "                        data = ols.realgarch)\n",
        "\n",
        "round(coeftest(model.realgarch.3, NeweyWest(model.realgarch.3, \n",
        "                                            lag = bwNeweyWest(model.realgarch.3), \n",
        "                                            prewhite = F)), 3)\n",
        "\n",
        "round(summary(model.realgarch.3)$adj.r.squared, 3)"
      ],
      "id": "Fort9qJBRSmj",
      "execution_count": 319,
      "outputs": [
        {
          "output_type": "display_data",
          "data": {
            "text/plain": [
              "\n",
              "t test of coefficients:\n",
              "\n",
              "                Estimate Std. Error t value Pr(>|t|)    \n",
              "(Intercept)       -0.161      0.181  -0.892    0.375    \n",
              "lag.realgarch.1    0.500      0.083   6.002   <2e-16 ***\n",
              "lag.vix            0.013      0.009   1.445    0.152    \n",
              "---\n",
              "Signif. codes:  0 ‘***’ 0.001 ‘**’ 0.01 ‘*’ 0.05 ‘.’ 0.1 ‘ ’ 1\n"
            ]
          },
          "metadata": {
            "tags": []
          }
        },
        {
          "output_type": "display_data",
          "data": {
            "text/plain": [
              "[1] 0.301"
            ],
            "text/latex": "0.301",
            "text/markdown": "0.301",
            "text/html": [
              "0.301"
            ]
          },
          "metadata": {
            "tags": []
          }
        }
      ]
    },
    {
      "cell_type": "code",
      "metadata": {
        "colab": {
          "base_uri": "https://localhost:8080/",
          "height": 204
        },
        "id": "Y7DFY72qRTZm",
        "outputId": "fdd626b6-d592-468b-ba87-99336363bb35"
      },
      "source": [
        "# Estimation 4 - Realized Linear GARCH (Best BIC:  lag= 1)\n",
        "model.realgarch.4 <- lm(realgarch ~  lag.realgarch.1 + lag.epu + lag.vix, \n",
        "                        data = ols.realgarch)\n",
        "\n",
        "round(coeftest(model.realgarch.4, NeweyWest(model.realgarch.4, \n",
        "                                            lag = bwNeweyWest(model.realgarch.4), \n",
        "                                            prewhite = F)), 3)\n",
        "\n",
        "round(summary(model.realgarch.4)$adj.r.squared, 3)"
      ],
      "id": "Y7DFY72qRTZm",
      "execution_count": 320,
      "outputs": [
        {
          "output_type": "display_data",
          "data": {
            "text/plain": [
              "\n",
              "t test of coefficients:\n",
              "\n",
              "                Estimate Std. Error t value Pr(>|t|)    \n",
              "(Intercept)       -0.165      0.255  -0.647    0.519    \n",
              "lag.realgarch.1    0.500      0.090   5.531   <2e-16 ***\n",
              "lag.epu            0.000      0.001   0.026    0.979    \n",
              "lag.vix            0.013      0.010   1.313    0.193    \n",
              "---\n",
              "Signif. codes:  0 ‘***’ 0.001 ‘**’ 0.01 ‘*’ 0.05 ‘.’ 0.1 ‘ ’ 1\n"
            ]
          },
          "metadata": {
            "tags": []
          }
        },
        {
          "output_type": "display_data",
          "data": {
            "text/plain": [
              "[1] 0.293"
            ],
            "text/latex": "0.293",
            "text/markdown": "0.293",
            "text/html": [
              "0.293"
            ]
          },
          "metadata": {
            "tags": []
          }
        }
      ]
    },
    {
      "cell_type": "code",
      "metadata": {
        "colab": {
          "base_uri": "https://localhost:8080/",
          "height": 221
        },
        "id": "zYv19mZSRUB9",
        "outputId": "6d9789fc-bcf2-4ee8-f55c-ece8d008d592"
      },
      "source": [
        "# Estimation 5 - Realized Linear GARCH (Best BIC:  lag= 1)\n",
        "model.realgarch.5 <- lm(realgarch ~  lag.realgarch.1 + lag.epu + lag.gepu + lag.vix, \n",
        "                        data = ols.realgarch)\n",
        "\n",
        "round(coeftest(model.realgarch.5, NeweyWest(model.realgarch.5, \n",
        "                                            lag = bwNeweyWest(model.realgarch.5), \n",
        "                                            prewhite = F)), 3)\n",
        "\n",
        "round(summary(model.realgarch.5)$adj.r.squared, 3)"
      ],
      "id": "zYv19mZSRUB9",
      "execution_count": 321,
      "outputs": [
        {
          "output_type": "display_data",
          "data": {
            "text/plain": [
              "\n",
              "t test of coefficients:\n",
              "\n",
              "                Estimate Std. Error t value Pr(>|t|)    \n",
              "(Intercept)       -0.186      0.265  -0.701    0.485    \n",
              "lag.realgarch.1    0.496      0.092   5.378   <2e-16 ***\n",
              "lag.epu            0.000      0.001  -0.096    0.924    \n",
              "lag.gepu           0.002      0.003   0.566    0.573    \n",
              "lag.vix            0.008      0.009   0.857    0.393    \n",
              "---\n",
              "Signif. codes:  0 ‘***’ 0.001 ‘**’ 0.01 ‘*’ 0.05 ‘.’ 0.1 ‘ ’ 1\n"
            ]
          },
          "metadata": {
            "tags": []
          }
        },
        {
          "output_type": "display_data",
          "data": {
            "text/plain": [
              "[1] 0.289"
            ],
            "text/latex": "0.289",
            "text/markdown": "0.289",
            "text/html": [
              "0.289"
            ]
          },
          "metadata": {
            "tags": []
          }
        }
      ]
    },
    {
      "cell_type": "markdown",
      "metadata": {
        "id": "tUOifxgkFbpF"
      },
      "source": [
        "**Realized EGARCH**"
      ],
      "id": "tUOifxgkFbpF"
    },
    {
      "cell_type": "code",
      "metadata": {
        "colab": {
          "base_uri": "https://localhost:8080/",
          "height": 170
        },
        "id": "aKcrDVVGGCtZ",
        "outputId": "b08f65cd-5f69-4c4d-8eb6-f0ddbeeff90a"
      },
      "source": [
        "# Estimation 1 - Realized EGARCH (Best BIC:  lag= 1)\n",
        "realegarch <- ts(log(IMOEX.ME.df.month$IMOEX.ME.VolRealEGARCH))\n",
        "lag.realegarch.1 <- ts(Lag(log(IMOEX.ME.df.month$IMOEX.ME.VolRealEGARCH), 1))\n",
        "\n",
        "ols.realegarch <- cbind(realegarch, lag.realegarch.1,\n",
        "                        lag.epu, lag.gepu, lag.vix)\n",
        "\n",
        "model.realegarch.1 <- lm(realegarch ~  lag.realegarch.1, \n",
        "                        data = ols.realegarch)\n",
        "\n",
        "round(coeftest(model.realegarch.1, NeweyWest(model.realegarch.1, \n",
        "                                            lag = bwNeweyWest(model.realegarch.1), \n",
        "                                            prewhite = F)), 3)\n",
        "\n",
        "round(summary(model.realegarch.1)$adj.r.squared, 3)"
      ],
      "id": "aKcrDVVGGCtZ",
      "execution_count": 322,
      "outputs": [
        {
          "output_type": "display_data",
          "data": {
            "text/plain": [
              "\n",
              "t test of coefficients:\n",
              "\n",
              "                 Estimate Std. Error t value Pr(>|t|)    \n",
              "(Intercept)         0.076      0.048   1.606    0.112    \n",
              "lag.realegarch.1    0.530      0.071   7.512   <2e-16 ***\n",
              "---\n",
              "Signif. codes:  0 ‘***’ 0.001 ‘**’ 0.01 ‘*’ 0.05 ‘.’ 0.1 ‘ ’ 1\n"
            ]
          },
          "metadata": {
            "tags": []
          }
        },
        {
          "output_type": "display_data",
          "data": {
            "text/plain": [
              "[1] 0.271"
            ],
            "text/latex": "0.271",
            "text/markdown": "0.271",
            "text/html": [
              "0.271"
            ]
          },
          "metadata": {
            "tags": []
          }
        }
      ]
    },
    {
      "cell_type": "code",
      "metadata": {
        "colab": {
          "base_uri": "https://localhost:8080/",
          "height": 187
        },
        "id": "k9o6HRw9GZ1M",
        "outputId": "7fa07592-9670-4d0a-e244-5699f7351e69"
      },
      "source": [
        "# Estimation 2 - Realized EGARCH (Best BIC:  lag= 1)\n",
        "model.realegarch.2 <- lm(realegarch ~  lag.realegarch.1 + lag.epu, \n",
        "                          data = ols.realegarch)\n",
        "\n",
        "round(coeftest(model.realegarch.2, NeweyWest(model.realegarch.2, \n",
        "                                              lag = bwNeweyWest(model.realegarch.2), \n",
        "                                              prewhite = F)), 3)\n",
        "\n",
        "round(summary(model.realegarch.2)$adj.r.squared, 3)"
      ],
      "id": "k9o6HRw9GZ1M",
      "execution_count": 323,
      "outputs": [
        {
          "output_type": "display_data",
          "data": {
            "text/plain": [
              "\n",
              "t test of coefficients:\n",
              "\n",
              "                 Estimate Std. Error t value Pr(>|t|)    \n",
              "(Intercept)         0.145      0.085   1.716    0.089 .  \n",
              "lag.realegarch.1    0.535      0.073   7.279   <2e-16 ***\n",
              "lag.epu            -0.001      0.001  -0.785    0.435    \n",
              "---\n",
              "Signif. codes:  0 ‘***’ 0.001 ‘**’ 0.01 ‘*’ 0.05 ‘.’ 0.1 ‘ ’ 1\n"
            ]
          },
          "metadata": {
            "tags": []
          }
        },
        {
          "output_type": "display_data",
          "data": {
            "text/plain": [
              "[1] 0.268"
            ],
            "text/latex": "0.268",
            "text/markdown": "0.268",
            "text/html": [
              "0.268"
            ]
          },
          "metadata": {
            "tags": []
          }
        }
      ]
    },
    {
      "cell_type": "code",
      "metadata": {
        "colab": {
          "base_uri": "https://localhost:8080/",
          "height": 187
        },
        "id": "I1exBnz0R4Pj",
        "outputId": "1e918fb9-8579-4f5d-e790-b0265183e2c1"
      },
      "source": [
        "# Estimation 3 - Realized EGARCH (Best BIC:  lag= 1)\n",
        "model.realegarch.3 <- lm(realegarch ~  lag.realegarch.1 + lag.vix, \n",
        "                          data = ols.realegarch)\n",
        "\n",
        "round(coeftest(model.realegarch.3, NeweyWest(model.realegarch.3, \n",
        "                                              lag = bwNeweyWest(model.realegarch.3), \n",
        "                                              prewhite = F)), 3)\n",
        "\n",
        "round(summary(model.realegarch.3)$adj.r.squared, 3)"
      ],
      "id": "I1exBnz0R4Pj",
      "execution_count": 324,
      "outputs": [
        {
          "output_type": "display_data",
          "data": {
            "text/plain": [
              "\n",
              "t test of coefficients:\n",
              "\n",
              "                 Estimate Std. Error t value Pr(>|t|)    \n",
              "(Intercept)        -0.175      0.156  -1.121    0.265    \n",
              "lag.realegarch.1    0.484      0.077   6.317   <2e-16 ***\n",
              "lag.vix             0.013      0.008   1.754    0.083 .  \n",
              "---\n",
              "Signif. codes:  0 ‘***’ 0.001 ‘**’ 0.01 ‘*’ 0.05 ‘.’ 0.1 ‘ ’ 1\n"
            ]
          },
          "metadata": {
            "tags": []
          }
        },
        {
          "output_type": "display_data",
          "data": {
            "text/plain": [
              "[1] 0.293"
            ],
            "text/latex": "0.293",
            "text/markdown": "0.293",
            "text/html": [
              "0.293"
            ]
          },
          "metadata": {
            "tags": []
          }
        }
      ]
    },
    {
      "cell_type": "code",
      "metadata": {
        "colab": {
          "base_uri": "https://localhost:8080/",
          "height": 204
        },
        "id": "txIofdC1R5OJ",
        "outputId": "7b4160b7-88bf-4097-db2b-c36374e40aea"
      },
      "source": [
        "# Estimation 4 - Realized EGARCH (Best BIC:  lag= 1)\n",
        "model.realegarch.4 <- lm(realegarch ~  lag.realegarch.1 + lag.epu + lag.vix, \n",
        "                          data = ols.realegarch)\n",
        "\n",
        "round(coeftest(model.realegarch.4, NeweyWest(model.realegarch.4, \n",
        "                                              lag = bwNeweyWest(model.realegarch.4), \n",
        "                                              prewhite = F)), 3)\n",
        "\n",
        "round(summary(model.realegarch.4)$adj.r.squared, 3)"
      ],
      "id": "txIofdC1R5OJ",
      "execution_count": 325,
      "outputs": [
        {
          "output_type": "display_data",
          "data": {
            "text/plain": [
              "\n",
              "t test of coefficients:\n",
              "\n",
              "                 Estimate Std. Error t value Pr(>|t|)    \n",
              "(Intercept)        -0.150      0.249  -0.603    0.548    \n",
              "lag.realegarch.1    0.487      0.086   5.687   <2e-16 ***\n",
              "lag.epu             0.000      0.001  -0.168    0.867    \n",
              "lag.vix             0.013      0.009   1.433    0.155    \n",
              "---\n",
              "Signif. codes:  0 ‘***’ 0.001 ‘**’ 0.01 ‘*’ 0.05 ‘.’ 0.1 ‘ ’ 1\n"
            ]
          },
          "metadata": {
            "tags": []
          }
        },
        {
          "output_type": "display_data",
          "data": {
            "text/plain": [
              "[1] 0.286"
            ],
            "text/latex": "0.286",
            "text/markdown": "0.286",
            "text/html": [
              "0.286"
            ]
          },
          "metadata": {
            "tags": []
          }
        }
      ]
    },
    {
      "cell_type": "code",
      "metadata": {
        "colab": {
          "base_uri": "https://localhost:8080/",
          "height": 221
        },
        "id": "HpsZ5qyNR6JL",
        "outputId": "56e5819c-24f8-4e5f-80a2-83adb2ffdf5a"
      },
      "source": [
        "# Estimation 5 - Realized EGARCH (Best BIC:  lag= 1)\n",
        "model.realegarch.5 <- lm(realegarch ~  lag.realegarch.1 + lag.epu + lag.gepu + lag.vix, \n",
        "                          data = ols.realegarch)\n",
        "\n",
        "round(coeftest(model.realegarch.5, NeweyWest(model.realegarch.5, \n",
        "                                              lag = bwNeweyWest(model.realegarch.5), \n",
        "                                              prewhite = F)), 3)\n",
        "\n",
        "round(summary(model.realegarch.5)$adj.r.squared, 3)"
      ],
      "id": "HpsZ5qyNR6JL",
      "execution_count": 326,
      "outputs": [
        {
          "output_type": "display_data",
          "data": {
            "text/plain": [
              "\n",
              "t test of coefficients:\n",
              "\n",
              "                 Estimate Std. Error t value Pr(>|t|)    \n",
              "(Intercept)        -0.158      0.247  -0.643    0.522    \n",
              "lag.realegarch.1    0.487      0.087   5.589   <2e-16 ***\n",
              "lag.epu             0.000      0.001  -0.212    0.832    \n",
              "lag.gepu            0.001      0.002   0.267    0.790    \n",
              "lag.vix             0.011      0.010   1.074    0.286    \n",
              "---\n",
              "Signif. codes:  0 ‘***’ 0.001 ‘**’ 0.01 ‘*’ 0.05 ‘.’ 0.1 ‘ ’ 1\n"
            ]
          },
          "metadata": {
            "tags": []
          }
        },
        {
          "output_type": "display_data",
          "data": {
            "text/plain": [
              "[1] 0.279"
            ],
            "text/latex": "0.279",
            "text/markdown": "0.279",
            "text/html": [
              "0.279"
            ]
          },
          "metadata": {
            "tags": []
          }
        }
      ]
    },
    {
      "cell_type": "markdown",
      "metadata": {
        "id": "zegAfcHHFdbK"
      },
      "source": [
        "**Realized GJR-GARCH**"
      ],
      "id": "zegAfcHHFdbK"
    },
    {
      "cell_type": "code",
      "metadata": {
        "colab": {
          "base_uri": "https://localhost:8080/",
          "height": 170
        },
        "id": "g0qHrweAGDrp",
        "outputId": "17fc09ba-6dcd-4c16-dcec-3f711556d8f3"
      },
      "source": [
        "# Estimation 1 - Realized GJR-GARCH (Best BIC:  lag= 1)\n",
        "realgjrgarch <- ts(log(IMOEX.ME.df.month$IMOEX.ME.VolRealGJRGARCH))\n",
        "lag.realgjrgarch.1 <- ts(Lag(log(IMOEX.ME.df.month$IMOEX.ME.VolRealGJRGARCH), 1))\n",
        "\n",
        "ols.realgjrgarch <- cbind(realgjrgarch, lag.realgjrgarch.1, \n",
        "                          lag.epu, lag.gepu, lag.vix)\n",
        "\n",
        "model.realgjrgarch.1 <- lm(realgjrgarch ~  lag.realgjrgarch.1, \n",
        "                            data = ols.realgjrgarch)\n",
        "\n",
        "round(coeftest(model.realgjrgarch.1, NeweyWest(model.realgjrgarch.1, \n",
        "                                              lag = bwNeweyWest(model.realgjrgarch.1), \n",
        "                                              prewhite = F)), 3)\n",
        "\n",
        "round(summary(model.realgjrgarch.1)$adj.r.squared, 3)"
      ],
      "id": "g0qHrweAGDrp",
      "execution_count": 327,
      "outputs": [
        {
          "output_type": "display_data",
          "data": {
            "text/plain": [
              "\n",
              "t test of coefficients:\n",
              "\n",
              "                   Estimate Std. Error t value Pr(>|t|)    \n",
              "(Intercept)           0.082      0.047   1.730    0.087 .  \n",
              "lag.realgjrgarch.1    0.520      0.070   7.461   <2e-16 ***\n",
              "---\n",
              "Signif. codes:  0 ‘***’ 0.001 ‘**’ 0.01 ‘*’ 0.05 ‘.’ 0.1 ‘ ’ 1\n"
            ]
          },
          "metadata": {
            "tags": []
          }
        },
        {
          "output_type": "display_data",
          "data": {
            "text/plain": [
              "[1] 0.261"
            ],
            "text/latex": "0.261",
            "text/markdown": "0.261",
            "text/html": [
              "0.261"
            ]
          },
          "metadata": {
            "tags": []
          }
        }
      ]
    },
    {
      "cell_type": "code",
      "metadata": {
        "colab": {
          "base_uri": "https://localhost:8080/",
          "height": 187
        },
        "id": "upoZ-ZM9GbFJ",
        "outputId": "6d46399e-b6a2-4cae-bb74-39ab636654a8"
      },
      "source": [
        "# Estimation 2 - Realized GJR-GARCH (Best BIC:  lag= 1)\n",
        "model.realgjrgarch.2 <- lm(realgjrgarch ~  lag.realgjrgarch.1 + lag.epu, \n",
        "                          data = ols.realgjrgarch)\n",
        "\n",
        "round(coeftest(model.realgjrgarch.2, NeweyWest(model.realgjrgarch.2, \n",
        "                                              lag = bwNeweyWest(model.realgjrgarch.2), \n",
        "                                              prewhite = F)), 3)\n",
        "\n",
        "round(summary(model.realgjrgarch.2)$adj.r.squared, 3)"
      ],
      "id": "upoZ-ZM9GbFJ",
      "execution_count": 328,
      "outputs": [
        {
          "output_type": "display_data",
          "data": {
            "text/plain": [
              "\n",
              "t test of coefficients:\n",
              "\n",
              "                   Estimate Std. Error t value Pr(>|t|)    \n",
              "(Intercept)           0.105      0.093   1.131    0.261    \n",
              "lag.realgjrgarch.1    0.522      0.078   6.725   <2e-16 ***\n",
              "lag.epu               0.000      0.001  -0.236    0.814    \n",
              "---\n",
              "Signif. codes:  0 ‘***’ 0.001 ‘**’ 0.01 ‘*’ 0.05 ‘.’ 0.1 ‘ ’ 1\n"
            ]
          },
          "metadata": {
            "tags": []
          }
        },
        {
          "output_type": "display_data",
          "data": {
            "text/plain": [
              "[1] 0.254"
            ],
            "text/latex": "0.254",
            "text/markdown": "0.254",
            "text/html": [
              "0.254"
            ]
          },
          "metadata": {
            "tags": []
          }
        }
      ]
    },
    {
      "cell_type": "code",
      "metadata": {
        "colab": {
          "base_uri": "https://localhost:8080/",
          "height": 187
        },
        "id": "ZNfAR-ogSdfR",
        "outputId": "e956c7dd-6160-4ac7-e654-0aa22a54d5f0"
      },
      "source": [
        "# Estimation 3 - Realized GJR-GARCH (Best BIC:  lag= 1)\n",
        "model.realgjrgarch.3 <- lm(realgjrgarch ~  lag.realgjrgarch.1 + lag.vix, \n",
        "                          data = ols.realgjrgarch)\n",
        "\n",
        "round(coeftest(model.realgjrgarch.3, NeweyWest(model.realgjrgarch.3, \n",
        "                                              lag = bwNeweyWest(model.realgjrgarch.3), \n",
        "                                              prewhite = F)), 3)\n",
        "\n",
        "round(summary(model.realgjrgarch.3)$adj.r.squared, 3)"
      ],
      "id": "ZNfAR-ogSdfR",
      "execution_count": 329,
      "outputs": [
        {
          "output_type": "display_data",
          "data": {
            "text/plain": [
              "\n",
              "t test of coefficients:\n",
              "\n",
              "                   Estimate Std. Error t value Pr(>|t|)    \n",
              "(Intercept)          -0.134      0.176  -0.760    0.449    \n",
              "lag.realgjrgarch.1    0.491      0.081   6.095   <2e-16 ***\n",
              "lag.vix               0.011      0.009   1.315    0.192    \n",
              "---\n",
              "Signif. codes:  0 ‘***’ 0.001 ‘**’ 0.01 ‘*’ 0.05 ‘.’ 0.1 ‘ ’ 1\n"
            ]
          },
          "metadata": {
            "tags": []
          }
        },
        {
          "output_type": "display_data",
          "data": {
            "text/plain": [
              "[1] 0.274"
            ],
            "text/latex": "0.274",
            "text/markdown": "0.274",
            "text/html": [
              "0.274"
            ]
          },
          "metadata": {
            "tags": []
          }
        }
      ]
    },
    {
      "cell_type": "code",
      "metadata": {
        "colab": {
          "base_uri": "https://localhost:8080/",
          "height": 204
        },
        "id": "nAvk7lOxSfk7",
        "outputId": "09dbd231-e8a8-4514-eba5-f270e0d3405c"
      },
      "source": [
        "# Estimation 4 - Realized GJR-GARCH (Best BIC:  lag= 1)\n",
        "model.realgjrgarch.4 <- lm(realgjrgarch ~  lag.realgjrgarch.1 + lag.epu + lag.vix, \n",
        "                          data = ols.realgjrgarch)\n",
        "\n",
        "round(coeftest(model.realgjrgarch.4, NeweyWest(model.realgjrgarch.4, \n",
        "                                              lag = bwNeweyWest(model.realgjrgarch.4), \n",
        "                                              prewhite = F)), 3)\n",
        "\n",
        "round(summary(model.realgjrgarch.4)$adj.r.squared, 3)"
      ],
      "id": "nAvk7lOxSfk7",
      "execution_count": 330,
      "outputs": [
        {
          "output_type": "display_data",
          "data": {
            "text/plain": [
              "\n",
              "t test of coefficients:\n",
              "\n",
              "                   Estimate Std. Error t value Pr(>|t|)    \n",
              "(Intercept)          -0.167      0.267  -0.625    0.534    \n",
              "lag.realgjrgarch.1    0.488      0.089   5.489   <2e-16 ***\n",
              "lag.epu               0.000      0.001   0.206    0.837    \n",
              "lag.vix               0.012      0.010   1.192    0.236    \n",
              "---\n",
              "Signif. codes:  0 ‘***’ 0.001 ‘**’ 0.01 ‘*’ 0.05 ‘.’ 0.1 ‘ ’ 1\n"
            ]
          },
          "metadata": {
            "tags": []
          }
        },
        {
          "output_type": "display_data",
          "data": {
            "text/plain": [
              "[1] 0.267"
            ],
            "text/latex": "0.267",
            "text/markdown": "0.267",
            "text/html": [
              "0.267"
            ]
          },
          "metadata": {
            "tags": []
          }
        }
      ]
    },
    {
      "cell_type": "code",
      "metadata": {
        "colab": {
          "base_uri": "https://localhost:8080/",
          "height": 221
        },
        "id": "q8aAhKYVSe07",
        "outputId": "90b1244b-5fb3-449c-9bad-525c1a5e15ea"
      },
      "source": [
        "# Estimation 5 - Realized GJR-GARCH (Best BIC:  lag= 2)\n",
        "model.realgjrgarch.5 <- lm(realgjrgarch ~  lag.realgjrgarch.1 + lag.epu + lag.gepu + lag.vix, \n",
        "                          data = ols.realgjrgarch)\n",
        "\n",
        "round(coeftest(model.realgjrgarch.5, NeweyWest(model.realgjrgarch.5, \n",
        "                                              lag = bwNeweyWest(model.realgjrgarch.5), \n",
        "                                              prewhite = F)), 3)\n",
        "\n",
        "round(summary(model.realgjrgarch.5)$adj.r.squared, 3)"
      ],
      "id": "q8aAhKYVSe07",
      "execution_count": 331,
      "outputs": [
        {
          "output_type": "display_data",
          "data": {
            "text/plain": [
              "\n",
              "t test of coefficients:\n",
              "\n",
              "                   Estimate Std. Error t value Pr(>|t|)    \n",
              "(Intercept)          -0.180      0.267  -0.674    0.502    \n",
              "lag.realgjrgarch.1    0.488      0.091   5.340   <2e-16 ***\n",
              "lag.epu               0.000      0.002   0.117    0.907    \n",
              "lag.gepu              0.001      0.003   0.420    0.675    \n",
              "lag.vix               0.008      0.010   0.799    0.426    \n",
              "---\n",
              "Signif. codes:  0 ‘***’ 0.001 ‘**’ 0.01 ‘*’ 0.05 ‘.’ 0.1 ‘ ’ 1\n"
            ]
          },
          "metadata": {
            "tags": []
          }
        },
        {
          "output_type": "display_data",
          "data": {
            "text/plain": [
              "[1] 0.261"
            ],
            "text/latex": "0.261",
            "text/markdown": "0.261",
            "text/html": [
              "0.261"
            ]
          },
          "metadata": {
            "tags": []
          }
        }
      ]
    },
    {
      "cell_type": "markdown",
      "metadata": {
        "id": "Cak8CR8-Fft3"
      },
      "source": [
        "**MS Linear GARCH**"
      ],
      "id": "Cak8CR8-Fft3"
    },
    {
      "cell_type": "code",
      "metadata": {
        "colab": {
          "base_uri": "https://localhost:8080/",
          "height": 170
        },
        "id": "fG33RRq4GEcL",
        "outputId": "4317949e-5fda-4019-e80c-4816b2583deb"
      },
      "source": [
        "# Estimation 1 - MS Linear GARCH (Best BIC:  lag= 1)\n",
        "msgarch <- ts(log(IMOEX.ME.df.month$IMOEX.ME.VolMSGARCH))\n",
        "lag.msgarch.1 <- ts(Lag(log(IMOEX.ME.df.month$IMOEX.ME.VolMSGARCH), 1))\n",
        "\n",
        "ols.msgarch <- cbind(msgarch, lag.msgarch.1, \n",
        "                    lag.epu, lag.gepu, lag.vix)\n",
        "\n",
        "model.msgarch.1 <- lm(msgarch ~  lag.msgarch.1, \n",
        "                      data = ols.msgarch)\n",
        "\n",
        "round(coeftest(model.msgarch.1, NeweyWest(model.msgarch.1, \n",
        "                                          lag = bwNeweyWest(model.msgarch.1), \n",
        "                                          prewhite = F)), 3)\n",
        "\n",
        "round(summary(model.msgarch.1)$adj.r.squared, 3)"
      ],
      "id": "fG33RRq4GEcL",
      "execution_count": 332,
      "outputs": [
        {
          "output_type": "display_data",
          "data": {
            "text/plain": [
              "\n",
              "t test of coefficients:\n",
              "\n",
              "              Estimate Std. Error t value Pr(>|t|)    \n",
              "(Intercept)      0.025      0.022   1.172    0.244    \n",
              "lag.msgarch.1    0.623      0.072   8.646   <2e-16 ***\n",
              "---\n",
              "Signif. codes:  0 ‘***’ 0.001 ‘**’ 0.01 ‘*’ 0.05 ‘.’ 0.1 ‘ ’ 1\n"
            ]
          },
          "metadata": {
            "tags": []
          }
        },
        {
          "output_type": "display_data",
          "data": {
            "text/plain": [
              "[1] 0.381"
            ],
            "text/latex": "0.381",
            "text/markdown": "0.381",
            "text/html": [
              "0.381"
            ]
          },
          "metadata": {
            "tags": []
          }
        }
      ]
    },
    {
      "cell_type": "code",
      "metadata": {
        "colab": {
          "base_uri": "https://localhost:8080/",
          "height": 187
        },
        "id": "y8QhY7EwGcFZ",
        "outputId": "805f1456-ca00-4d11-aafe-678c6c0d72c8"
      },
      "source": [
        "# Estimation 2 - MS Linear GARCH (Best BIC:  lag= 1)\n",
        "model.msgarch.2 <- lm(msgarch ~  lag.msgarch.1 + lag.epu, \n",
        "                      data = ols.msgarch)\n",
        "\n",
        "round(coeftest(model.msgarch.2, NeweyWest(model.msgarch.2, \n",
        "                                          lag = bwNeweyWest(model.msgarch.2), \n",
        "                                          prewhite = F)), 3)\n",
        "\n",
        "round(summary(model.msgarch.2)$adj.r.squared, 3)"
      ],
      "id": "y8QhY7EwGcFZ",
      "execution_count": 333,
      "outputs": [
        {
          "output_type": "display_data",
          "data": {
            "text/plain": [
              "\n",
              "t test of coefficients:\n",
              "\n",
              "              Estimate Std. Error t value Pr(>|t|)    \n",
              "(Intercept)      0.024      0.046   0.526    0.600    \n",
              "lag.msgarch.1    0.623      0.073   8.555   <2e-16 ***\n",
              "lag.epu          0.000      0.001   0.021    0.983    \n",
              "---\n",
              "Signif. codes:  0 ‘***’ 0.001 ‘**’ 0.01 ‘*’ 0.05 ‘.’ 0.1 ‘ ’ 1\n"
            ]
          },
          "metadata": {
            "tags": []
          }
        },
        {
          "output_type": "display_data",
          "data": {
            "text/plain": [
              "[1] 0.374"
            ],
            "text/latex": "0.374",
            "text/markdown": "0.374",
            "text/html": [
              "0.374"
            ]
          },
          "metadata": {
            "tags": []
          }
        }
      ]
    },
    {
      "cell_type": "code",
      "metadata": {
        "colab": {
          "base_uri": "https://localhost:8080/",
          "height": 187
        },
        "id": "qV-P5RleTO03",
        "outputId": "f90b70b9-c6de-4f4e-c669-8545f41d2255"
      },
      "source": [
        "# Estimation 3 - MS Linear GARCH (Best BIC:  lag= 1)\n",
        "model.msgarch.3 <- lm(msgarch ~  lag.msgarch.1 + lag.vix, \n",
        "                      data = ols.msgarch)\n",
        "\n",
        "round(coeftest(model.msgarch.3, NeweyWest(model.msgarch.3, \n",
        "                                          lag = bwNeweyWest(model.msgarch.3), \n",
        "                                          prewhite = F)), 3)\n",
        "\n",
        "round(summary(model.msgarch.3)$adj.r.squared, 3)"
      ],
      "id": "qV-P5RleTO03",
      "execution_count": 334,
      "outputs": [
        {
          "output_type": "display_data",
          "data": {
            "text/plain": [
              "\n",
              "t test of coefficients:\n",
              "\n",
              "              Estimate Std. Error t value Pr(>|t|)    \n",
              "(Intercept)     -0.085      0.095  -0.891    0.375    \n",
              "lag.msgarch.1    0.592      0.080   7.407   <2e-16 ***\n",
              "lag.vix          0.006      0.005   1.214    0.228    \n",
              "---\n",
              "Signif. codes:  0 ‘***’ 0.001 ‘**’ 0.01 ‘*’ 0.05 ‘.’ 0.1 ‘ ’ 1\n"
            ]
          },
          "metadata": {
            "tags": []
          }
        },
        {
          "output_type": "display_data",
          "data": {
            "text/plain": [
              "[1] 0.394"
            ],
            "text/latex": "0.394",
            "text/markdown": "0.394",
            "text/html": [
              "0.394"
            ]
          },
          "metadata": {
            "tags": []
          }
        }
      ]
    },
    {
      "cell_type": "code",
      "metadata": {
        "colab": {
          "base_uri": "https://localhost:8080/",
          "height": 204
        },
        "id": "FcjDEzYZTObB",
        "outputId": "f176265e-9b0a-4eb5-b33b-71c135885682"
      },
      "source": [
        "# Estimation 4 - MS Linear GARCH (Best BIC:  lag= 1)\n",
        "model.msgarch.4 <- lm(msgarch ~  lag.msgarch.1 + lag.epu + lag.vix, \n",
        "                      data = ols.msgarch)\n",
        "\n",
        "round(coeftest(model.msgarch.4, NeweyWest(model.msgarch.4, \n",
        "                                          lag = bwNeweyWest(model.msgarch.4), \n",
        "                                          prewhite = F)), 3)\n",
        "\n",
        "round(summary(model.msgarch.4)$adj.r.squared, 3)"
      ],
      "id": "FcjDEzYZTObB",
      "execution_count": 335,
      "outputs": [
        {
          "output_type": "display_data",
          "data": {
            "text/plain": [
              "\n",
              "t test of coefficients:\n",
              "\n",
              "              Estimate Std. Error t value Pr(>|t|)    \n",
              "(Intercept)     -0.119      0.137  -0.870    0.387    \n",
              "lag.msgarch.1    0.588      0.084   7.017   <2e-16 ***\n",
              "lag.epu          0.000      0.001   0.450    0.654    \n",
              "lag.vix          0.006      0.005   1.203    0.232    \n",
              "---\n",
              "Signif. codes:  0 ‘***’ 0.001 ‘**’ 0.01 ‘*’ 0.05 ‘.’ 0.1 ‘ ’ 1\n"
            ]
          },
          "metadata": {
            "tags": []
          }
        },
        {
          "output_type": "display_data",
          "data": {
            "text/plain": [
              "[1] 0.389"
            ],
            "text/latex": "0.389",
            "text/markdown": "0.389",
            "text/html": [
              "0.389"
            ]
          },
          "metadata": {
            "tags": []
          }
        }
      ]
    },
    {
      "cell_type": "code",
      "metadata": {
        "colab": {
          "base_uri": "https://localhost:8080/",
          "height": 221
        },
        "id": "ImV_Ip4BTNpK",
        "outputId": "02084c1c-d853-4140-b1c6-228ec85f0ee2"
      },
      "source": [
        "# Estimation 5 - MS Linear GARCH (Best BIC:  lag= 1)\n",
        "model.msgarch.5 <- lm(msgarch ~  lag.msgarch.1 + lag.epu + lag.gepu + lag.vix, \n",
        "                      data = ols.msgarch)\n",
        "\n",
        "round(coeftest(model.msgarch.5, NeweyWest(model.msgarch.5, \n",
        "                                          lag = bwNeweyWest(model.msgarch.5), \n",
        "                                          prewhite = F)), 3)\n",
        "\n",
        "round(summary(model.msgarch.5)$adj.r.squared, 3)"
      ],
      "id": "ImV_Ip4BTNpK",
      "execution_count": 336,
      "outputs": [
        {
          "output_type": "display_data",
          "data": {
            "text/plain": [
              "\n",
              "t test of coefficients:\n",
              "\n",
              "              Estimate Std. Error t value Pr(>|t|)    \n",
              "(Intercept)     -0.130      0.146  -0.889    0.376    \n",
              "lag.msgarch.1    0.582      0.085   6.820   <2e-16 ***\n",
              "lag.epu          0.000      0.001   0.326    0.745    \n",
              "lag.gepu         0.001      0.002   0.522    0.603    \n",
              "lag.vix          0.004      0.005   0.809    0.420    \n",
              "---\n",
              "Signif. codes:  0 ‘***’ 0.001 ‘**’ 0.01 ‘*’ 0.05 ‘.’ 0.1 ‘ ’ 1\n"
            ]
          },
          "metadata": {
            "tags": []
          }
        },
        {
          "output_type": "display_data",
          "data": {
            "text/plain": [
              "[1] 0.386"
            ],
            "text/latex": "0.386",
            "text/markdown": "0.386",
            "text/html": [
              "0.386"
            ]
          },
          "metadata": {
            "tags": []
          }
        }
      ]
    },
    {
      "cell_type": "markdown",
      "metadata": {
        "id": "VuhTae9lFjX9"
      },
      "source": [
        "**MS EGARCH**"
      ],
      "id": "VuhTae9lFjX9"
    },
    {
      "cell_type": "code",
      "metadata": {
        "colab": {
          "base_uri": "https://localhost:8080/",
          "height": 170
        },
        "id": "GVFR95aSGFnm",
        "outputId": "a40031d2-e106-467d-9fbe-606172d65bdd"
      },
      "source": [
        "# Estimation 1 - MS EGARCH (Best BIC:  lag= 1)\n",
        "msegarch <- ts(log(IMOEX.ME.df.month$IMOEX.ME.VolMSEGARCH ))\n",
        "lag.msegarch.1 <- ts(Lag(log(IMOEX.ME.df.month$IMOEX.ME.VolMSEGARCH ), 1))\n",
        "\n",
        "ols.msegarch <- cbind(msegarch, lag.msegarch.1, \n",
        "                      lag.epu, lag.gepu, lag.vix)\n",
        "\n",
        "model.msegarch.1 <- lm(msegarch ~  lag.msegarch.1, \n",
        "                      data = ols.msegarch)\n",
        "\n",
        "round(coeftest(model.msegarch.1, NeweyWest(model.msegarch.1, \n",
        "                                          lag = bwNeweyWest(model.msegarch.1), \n",
        "                                          prewhite = F)), 3)\n",
        "\n",
        "round(summary(model.msegarch.1)$adj.r.squared, 3)"
      ],
      "id": "GVFR95aSGFnm",
      "execution_count": 337,
      "outputs": [
        {
          "output_type": "display_data",
          "data": {
            "text/plain": [
              "\n",
              "t test of coefficients:\n",
              "\n",
              "               Estimate Std. Error t value Pr(>|t|)    \n",
              "(Intercept)       0.019      0.022   0.839    0.403    \n",
              "lag.msegarch.1    0.573      0.066   8.722   <2e-16 ***\n",
              "---\n",
              "Signif. codes:  0 ‘***’ 0.001 ‘**’ 0.01 ‘*’ 0.05 ‘.’ 0.1 ‘ ’ 1\n"
            ]
          },
          "metadata": {
            "tags": []
          }
        },
        {
          "output_type": "display_data",
          "data": {
            "text/plain": [
              "[1] 0.32"
            ],
            "text/latex": "0.32",
            "text/markdown": "0.32",
            "text/html": [
              "0.32"
            ]
          },
          "metadata": {
            "tags": []
          }
        }
      ]
    },
    {
      "cell_type": "code",
      "metadata": {
        "colab": {
          "base_uri": "https://localhost:8080/",
          "height": 187
        },
        "id": "u_nw2tqyGcyh",
        "outputId": "a21d3d96-7c25-4e38-f6a8-9bbb8573d66c"
      },
      "source": [
        "# Estimation 2 - MS EGARCH (Best BIC:  lag= 1)\n",
        "model.msegarch.2 <- lm(msegarch ~  lag.msegarch.1 + lag.epu, \n",
        "                      data = ols.msegarch)\n",
        "\n",
        "round(coeftest(model.msegarch.2, NeweyWest(model.msegarch.2, \n",
        "                                          lag = bwNeweyWest(model.msegarch.2), \n",
        "                                          prewhite = F)), 3)\n",
        "\n",
        "round(summary(model.msegarch.2)$adj.r.squared, 3)"
      ],
      "id": "u_nw2tqyGcyh",
      "execution_count": 338,
      "outputs": [
        {
          "output_type": "display_data",
          "data": {
            "text/plain": [
              "\n",
              "t test of coefficients:\n",
              "\n",
              "               Estimate Std. Error t value Pr(>|t|)    \n",
              "(Intercept)       0.032      0.047   0.675    0.501    \n",
              "lag.msegarch.1    0.574      0.068   8.402   <2e-16 ***\n",
              "lag.epu           0.000      0.001  -0.283    0.778    \n",
              "---\n",
              "Signif. codes:  0 ‘***’ 0.001 ‘**’ 0.01 ‘*’ 0.05 ‘.’ 0.1 ‘ ’ 1\n"
            ]
          },
          "metadata": {
            "tags": []
          }
        },
        {
          "output_type": "display_data",
          "data": {
            "text/plain": [
              "[1] 0.313"
            ],
            "text/latex": "0.313",
            "text/markdown": "0.313",
            "text/html": [
              "0.313"
            ]
          },
          "metadata": {
            "tags": []
          }
        }
      ]
    },
    {
      "cell_type": "code",
      "metadata": {
        "colab": {
          "base_uri": "https://localhost:8080/",
          "height": 187
        },
        "id": "RB00v9ZcTvla",
        "outputId": "79ad88c5-96a3-47ba-ab77-dff5e8253ddb"
      },
      "source": [
        "# Estimation 3 - MS EGARCH (Best BIC:  lag= 1)\n",
        "model.msegarch.3 <- lm(msegarch ~  lag.msegarch.1 + lag.vix, \n",
        "                      data = ols.msegarch)\n",
        "\n",
        "round(coeftest(model.msegarch.3, NeweyWest(model.msegarch.3, \n",
        "                                          lag = bwNeweyWest(model.msegarch.3), \n",
        "                                          prewhite = F)), 3)\n",
        "\n",
        "round(summary(model.msegarch.3)$adj.r.squared, 3)"
      ],
      "id": "RB00v9ZcTvla",
      "execution_count": 339,
      "outputs": [
        {
          "output_type": "display_data",
          "data": {
            "text/plain": [
              "\n",
              "t test of coefficients:\n",
              "\n",
              "               Estimate Std. Error t value Pr(>|t|)    \n",
              "(Intercept)      -0.103      0.093  -1.108    0.271    \n",
              "lag.msegarch.1    0.528      0.077   6.887   <2e-16 ***\n",
              "lag.vix           0.006      0.004   1.435    0.155    \n",
              "---\n",
              "Signif. codes:  0 ‘***’ 0.001 ‘**’ 0.01 ‘*’ 0.05 ‘.’ 0.1 ‘ ’ 1\n"
            ]
          },
          "metadata": {
            "tags": []
          }
        },
        {
          "output_type": "display_data",
          "data": {
            "text/plain": [
              "[1] 0.338"
            ],
            "text/latex": "0.338",
            "text/markdown": "0.338",
            "text/html": [
              "0.338"
            ]
          },
          "metadata": {
            "tags": []
          }
        }
      ]
    },
    {
      "cell_type": "code",
      "metadata": {
        "colab": {
          "base_uri": "https://localhost:8080/",
          "height": 204
        },
        "id": "YWwcKD55TvQs",
        "outputId": "58b50d0c-15f5-46a8-ecfb-8d1080e648a7"
      },
      "source": [
        "# Estimation 4 - MS EGARCH (Best BIC:  lag= 1)\n",
        "model.msegarch.4 <- lm(msegarch ~  lag.msegarch.1 + lag.epu + lag.vix, \n",
        "                      data = ols.msegarch)\n",
        "\n",
        "round(coeftest(model.msegarch.4, NeweyWest(model.msegarch.4, \n",
        "                                          lag = bwNeweyWest(model.msegarch.4), \n",
        "                                          prewhite = F)), 3)\n",
        "\n",
        "round(summary(model.msegarch.4)$adj.r.squared, 3)"
      ],
      "id": "YWwcKD55TvQs",
      "execution_count": 340,
      "outputs": [
        {
          "output_type": "display_data",
          "data": {
            "text/plain": [
              "\n",
              "t test of coefficients:\n",
              "\n",
              "               Estimate Std. Error t value Pr(>|t|)    \n",
              "(Intercept)      -0.121      0.147  -0.822    0.413    \n",
              "lag.msegarch.1    0.525      0.086   6.123   <2e-16 ***\n",
              "lag.epu           0.000      0.001   0.216    0.830    \n",
              "lag.vix           0.007      0.005   1.293    0.199    \n",
              "---\n",
              "Signif. codes:  0 ‘***’ 0.001 ‘**’ 0.01 ‘*’ 0.05 ‘.’ 0.1 ‘ ’ 1\n"
            ]
          },
          "metadata": {
            "tags": []
          }
        },
        {
          "output_type": "display_data",
          "data": {
            "text/plain": [
              "[1] 0.331"
            ],
            "text/latex": "0.331",
            "text/markdown": "0.331",
            "text/html": [
              "0.331"
            ]
          },
          "metadata": {
            "tags": []
          }
        }
      ]
    },
    {
      "cell_type": "code",
      "metadata": {
        "colab": {
          "base_uri": "https://localhost:8080/",
          "height": 221
        },
        "id": "NA_Ttf5wTuoa",
        "outputId": "3d41f127-bc92-477e-91d1-5a9762f83d8e"
      },
      "source": [
        "# Estimation 5 - MS EGARCH (Best BIC:  lag= 1)\n",
        "model.msegarch.5 <- lm(msegarch ~  lag.msegarch.1 + lag.epu + lag.gepu + lag.vix, \n",
        "                      data = ols.msegarch)\n",
        "\n",
        "round(coeftest(model.msegarch.5, NeweyWest(model.msegarch.5, \n",
        "                                          lag = bwNeweyWest(model.msegarch.5), \n",
        "                                          prewhite = F)), 3)\n",
        "\n",
        "round(summary(model.msegarch.5)$adj.r.squared, 3)"
      ],
      "id": "NA_Ttf5wTuoa",
      "execution_count": 341,
      "outputs": [
        {
          "output_type": "display_data",
          "data": {
            "text/plain": [
              "\n",
              "t test of coefficients:\n",
              "\n",
              "               Estimate Std. Error t value Pr(>|t|)    \n",
              "(Intercept)      -0.125      0.152  -0.825    0.411    \n",
              "lag.msegarch.1    0.524      0.088   5.964   <2e-16 ***\n",
              "lag.epu           0.000      0.001   0.168    0.867    \n",
              "lag.gepu          0.000      0.001   0.255    0.799    \n",
              "lag.vix           0.006      0.005   1.097    0.275    \n",
              "---\n",
              "Signif. codes:  0 ‘***’ 0.001 ‘**’ 0.01 ‘*’ 0.05 ‘.’ 0.1 ‘ ’ 1\n"
            ]
          },
          "metadata": {
            "tags": []
          }
        },
        {
          "output_type": "display_data",
          "data": {
            "text/plain": [
              "[1] 0.325"
            ],
            "text/latex": "0.325",
            "text/markdown": "0.325",
            "text/html": [
              "0.325"
            ]
          },
          "metadata": {
            "tags": []
          }
        }
      ]
    },
    {
      "cell_type": "markdown",
      "metadata": {
        "id": "T838p-YpFncL"
      },
      "source": [
        "**MS GJR-GARCH**"
      ],
      "id": "T838p-YpFncL"
    },
    {
      "cell_type": "code",
      "metadata": {
        "colab": {
          "base_uri": "https://localhost:8080/",
          "height": 170
        },
        "id": "PhMbYM2SGGj5",
        "outputId": "cff94cc7-0514-498b-8313-9746a5c8b6be"
      },
      "source": [
        "# Estimation 1 - MS GJR-GARCH (Best BIC:  lag= 1)\n",
        "msgjrgarch <- ts(log(IMOEX.ME.df.month$IMOEX.ME.VolMSGJRGARCH))\n",
        "lag.msgjrgarch.1 <- ts(Lag(log(IMOEX.ME.df.month$IMOEX.ME.VolMSGJRGARCH), 1))\n",
        "\n",
        "ols.msgjrgarch <- cbind(msgjrgarch, lag.msgjrgarch.1, \n",
        "                  lag.epu, lag.gepu, lag.vix)\n",
        "\n",
        "model.msgjrgarch.1 <- lm(msgjrgarch ~  lag.msgjrgarch.1, \n",
        "                    data = ols.garch)\n",
        "\n",
        "round(coeftest(model.msgjrgarch.1, NeweyWest(model.msgjrgarch.1, \n",
        "                                        lag = bwNeweyWest(model.msgjrgarch.1), \n",
        "                                        prewhite = F)), 3)\n",
        "\n",
        "round(summary(model.msgjrgarch.1)$adj.r.squared, 3)"
      ],
      "id": "PhMbYM2SGGj5",
      "execution_count": 342,
      "outputs": [
        {
          "output_type": "display_data",
          "data": {
            "text/plain": [
              "\n",
              "t test of coefficients:\n",
              "\n",
              "                 Estimate Std. Error t value Pr(>|t|)    \n",
              "(Intercept)         0.022      0.022   1.012    0.314    \n",
              "lag.msgjrgarch.1    0.611      0.067   9.173   <2e-16 ***\n",
              "---\n",
              "Signif. codes:  0 ‘***’ 0.001 ‘**’ 0.01 ‘*’ 0.05 ‘.’ 0.1 ‘ ’ 1\n"
            ]
          },
          "metadata": {
            "tags": []
          }
        },
        {
          "output_type": "display_data",
          "data": {
            "text/plain": [
              "[1] 0.365"
            ],
            "text/latex": "0.365",
            "text/markdown": "0.365",
            "text/html": [
              "0.365"
            ]
          },
          "metadata": {
            "tags": []
          }
        }
      ]
    },
    {
      "cell_type": "code",
      "metadata": {
        "colab": {
          "base_uri": "https://localhost:8080/",
          "height": 187
        },
        "id": "WlDqwOGZGdr5",
        "outputId": "35485728-4cd5-4fdd-bd8b-ac90a73266b5"
      },
      "source": [
        "# Estimation 2 - MS GJR-GARCH (Best BIC:  lag= 1)\n",
        "model.msgjrgarch.2 <- lm(msgjrgarch ~  lag.msgjrgarch.1 + lag.epu, \n",
        "                        data = ols.msgjrgarch)\n",
        "\n",
        "round(coeftest(model.msgjrgarch.2, NeweyWest(model.msgjrgarch.2, \n",
        "                                            lag = bwNeweyWest(model.msgjrgarch.2), \n",
        "                                            prewhite = F)), 3)\n",
        "\n",
        "round(summary(model.msgjrgarch.2)$adj.r.squared, 3)"
      ],
      "id": "WlDqwOGZGdr5",
      "execution_count": 343,
      "outputs": [
        {
          "output_type": "display_data",
          "data": {
            "text/plain": [
              "\n",
              "t test of coefficients:\n",
              "\n",
              "                 Estimate Std. Error t value Pr(>|t|)    \n",
              "(Intercept)         0.023      0.048   0.476    0.635    \n",
              "lag.msgjrgarch.1    0.611      0.068   8.932   <2e-16 ***\n",
              "lag.epu             0.000      0.001  -0.006    0.995    \n",
              "---\n",
              "Signif. codes:  0 ‘***’ 0.001 ‘**’ 0.01 ‘*’ 0.05 ‘.’ 0.1 ‘ ’ 1\n"
            ]
          },
          "metadata": {
            "tags": []
          }
        },
        {
          "output_type": "display_data",
          "data": {
            "text/plain": [
              "[1] 0.358"
            ],
            "text/latex": "0.358",
            "text/markdown": "0.358",
            "text/html": [
              "0.358"
            ]
          },
          "metadata": {
            "tags": []
          }
        }
      ]
    },
    {
      "cell_type": "code",
      "metadata": {
        "colab": {
          "base_uri": "https://localhost:8080/",
          "height": 187
        },
        "id": "jJgCwT8yUMsT",
        "outputId": "fd1bb92c-870e-46a2-ceec-2f2278e5b169"
      },
      "source": [
        "# Estimation 3 - MS GJR-GARCH (Best BIC:  lag= 1)\n",
        "model.msgjrgarch.3 <- lm(msgjrgarch ~  lag.msgjrgarch.1 + lag.vix, \n",
        "                        data = ols.msgjrgarch)\n",
        "\n",
        "round(coeftest(model.msgjrgarch.3, NeweyWest(model.msgjrgarch.3, \n",
        "                                            lag = bwNeweyWest(model.msgjrgarch.3), \n",
        "                                            prewhite = F)), 3)\n",
        "\n",
        "round(summary(model.msgjrgarch.3)$adj.r.squared, 3)"
      ],
      "id": "jJgCwT8yUMsT",
      "execution_count": 344,
      "outputs": [
        {
          "output_type": "display_data",
          "data": {
            "text/plain": [
              "\n",
              "t test of coefficients:\n",
              "\n",
              "                 Estimate Std. Error t value Pr(>|t|)    \n",
              "(Intercept)        -0.087      0.097  -0.890    0.376    \n",
              "lag.msgjrgarch.1    0.579      0.078   7.437   <2e-16 ***\n",
              "lag.vix             0.006      0.005   1.182    0.240    \n",
              "---\n",
              "Signif. codes:  0 ‘***’ 0.001 ‘**’ 0.01 ‘*’ 0.05 ‘.’ 0.1 ‘ ’ 1\n"
            ]
          },
          "metadata": {
            "tags": []
          }
        },
        {
          "output_type": "display_data",
          "data": {
            "text/plain": [
              "[1] 0.377"
            ],
            "text/latex": "0.377",
            "text/markdown": "0.377",
            "text/html": [
              "0.377"
            ]
          },
          "metadata": {
            "tags": []
          }
        }
      ]
    },
    {
      "cell_type": "code",
      "metadata": {
        "colab": {
          "base_uri": "https://localhost:8080/",
          "height": 204
        },
        "id": "6P9qZXRPUMWd",
        "outputId": "3ec9357a-51e6-4a3e-ea17-b29f94cb5b1f"
      },
      "source": [
        "# Estimation 4 - MS GJR-GARCH (Best BIC:  lag= 1)\n",
        "model.msgjrgarch.4 <- lm(msgjrgarch ~  lag.msgjrgarch.1 + lag.epu + lag.vix, \n",
        "                        data = ols.msgjrgarch)\n",
        "\n",
        "round(coeftest(model.msgjrgarch.4, NeweyWest(model.msgjrgarch.4, \n",
        "                                            lag = bwNeweyWest(model.msgjrgarch.4), \n",
        "                                            prewhite = F)), 3)\n",
        "\n",
        "round(summary(model.msgjrgarch.4)$adj.r.squared, 3)"
      ],
      "id": "6P9qZXRPUMWd",
      "execution_count": 345,
      "outputs": [
        {
          "output_type": "display_data",
          "data": {
            "text/plain": [
              "\n",
              "t test of coefficients:\n",
              "\n",
              "                 Estimate Std. Error t value Pr(>|t|)    \n",
              "(Intercept)        -0.120      0.143  -0.838    0.404    \n",
              "lag.msgjrgarch.1    0.574      0.083   6.917   <2e-16 ***\n",
              "lag.epu             0.000      0.001   0.407    0.685    \n",
              "lag.vix             0.006      0.005   1.156    0.250    \n",
              "---\n",
              "Signif. codes:  0 ‘***’ 0.001 ‘**’ 0.01 ‘*’ 0.05 ‘.’ 0.1 ‘ ’ 1\n"
            ]
          },
          "metadata": {
            "tags": []
          }
        },
        {
          "output_type": "display_data",
          "data": {
            "text/plain": [
              "[1] 0.372"
            ],
            "text/latex": "0.372",
            "text/markdown": "0.372",
            "text/html": [
              "0.372"
            ]
          },
          "metadata": {
            "tags": []
          }
        }
      ]
    },
    {
      "cell_type": "code",
      "metadata": {
        "colab": {
          "base_uri": "https://localhost:8080/",
          "height": 221
        },
        "id": "Ps34kcv3ULt3",
        "outputId": "b8fbdded-0851-4e1c-8481-1d931828a1e7"
      },
      "source": [
        "# Estimation 5 - MS GJR-GARCH (Best BIC:  lag= 1)\n",
        "model.msgjrgarch.5 <- lm(msgjrgarch ~  lag.msgjrgarch.1 +  lag.epu + lag.gepu + lag.vix, \n",
        "                        data = ols.msgjrgarch)\n",
        "\n",
        "round(coeftest(model.msgjrgarch.5, NeweyWest(model.msgjrgarch.5, \n",
        "                                            lag = bwNeweyWest(model.msgjrgarch.5), \n",
        "                                            prewhite = F)), 3)\n",
        "\n",
        "round(summary(model.msgjrgarch.5)$adj.r.squared, 3)"
      ],
      "id": "Ps34kcv3ULt3",
      "execution_count": 346,
      "outputs": [
        {
          "output_type": "display_data",
          "data": {
            "text/plain": [
              "\n",
              "t test of coefficients:\n",
              "\n",
              "                 Estimate Std. Error t value Pr(>|t|)    \n",
              "(Intercept)        -0.129      0.150  -0.859    0.393    \n",
              "lag.msgjrgarch.1    0.571      0.085   6.694   <2e-16 ***\n",
              "lag.epu             0.000      0.001   0.299    0.765    \n",
              "lag.gepu            0.001      0.001   0.480    0.632    \n",
              "lag.vix             0.004      0.005   0.787    0.433    \n",
              "---\n",
              "Signif. codes:  0 ‘***’ 0.001 ‘**’ 0.01 ‘*’ 0.05 ‘.’ 0.1 ‘ ’ 1\n"
            ]
          },
          "metadata": {
            "tags": []
          }
        },
        {
          "output_type": "display_data",
          "data": {
            "text/plain": [
              "[1] 0.368"
            ],
            "text/latex": "0.368",
            "text/markdown": "0.368",
            "text/html": [
              "0.368"
            ]
          },
          "metadata": {
            "tags": []
          }
        }
      ]
    }
  ]
}